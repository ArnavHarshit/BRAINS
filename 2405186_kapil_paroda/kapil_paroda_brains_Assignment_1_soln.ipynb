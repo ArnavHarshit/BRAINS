{
 "cells": [
  {
   "cell_type": "markdown",
   "id": "0269c73c-a03b-46ba-9469-3488447631e6",
   "metadata": {},
   "source": [
    "***<h1 style ='text-align: center;'>Stamatics Summer Project</h1>***"
   ]
  },
  {
   "cell_type": "markdown",
   "id": "bf5f6a71-8ff4-4478-b041-3e3fe3ee79cd",
   "metadata": {},
   "source": [
    "<h2 style ='text-align: center;'>Bayesian Ranking and Analysis of Investment Strategies</h2>"
   ]
  },
  {
   "cell_type": "markdown",
   "id": "8d498280-3302-4eab-a462-0f11a5c82faf",
   "metadata": {},
   "source": [
    "**<h3 style ='text-align: center;'>Assignment 1</h3>**"
   ]
  },
  {
   "cell_type": "markdown",
   "id": "44427f8f-2891-4345-bf8f-b36eb482e6e6",
   "metadata": {},
   "source": [
    "**Problem Statement 1: Data Exploration & Visualization**"
   ]
  },
  {
   "cell_type": "markdown",
   "id": "0e21ca5b-bd07-499a-956d-267850019849",
   "metadata": {},
   "source": [
    "- `Obtaining Data`\n",
    "Download 1 year of daily OHLCV data for any one stock of your choice listed on the Na-\n",
    "tional Stock Exchange (NSE) using yfinance. `Clean and inspect the data`: handle missing\n",
    "values and ensure datetime indexing. Refer to the resources to see a sample implementation."
   ]
  },
  {
   "cell_type": "code",
   "execution_count": 3,
   "id": "0661e89d-9566-452b-a8f1-84b93bd6b28f",
   "metadata": {},
   "outputs": [],
   "source": [
    "from datetime import datetime\n",
    "import matplotlib.pyplot as plt\n",
    "import seaborn as sns\n",
    "import yfinance as yf\n",
    "import numpy as np\n",
    "import pandas as pd\n",
    "import plotly.graph_objects as go\n",
    "import plotly.express as px\n"
   ]
  },
  {
   "cell_type": "code",
   "execution_count": 4,
   "id": "c743cfed-09c0-4888-a10f-265ac4d67f39",
   "metadata": {},
   "outputs": [],
   "source": [
    "end_date = datetime(year=2025, month=4, day=30)\n",
    "start_date = datetime(year=2024, month=4, day=30)\n"
   ]
  },
  {
   "cell_type": "code",
   "execution_count": 5,
   "id": "412d13d4-2425-47ab-b2a7-44b49e636246",
   "metadata": {},
   "outputs": [
    {
     "data": {
      "text/html": [
       "<div>\n",
       "<style scoped>\n",
       "    .dataframe tbody tr th:only-of-type {\n",
       "        vertical-align: middle;\n",
       "    }\n",
       "\n",
       "    .dataframe tbody tr th {\n",
       "        vertical-align: top;\n",
       "    }\n",
       "\n",
       "    .dataframe thead tr th {\n",
       "        text-align: left;\n",
       "    }\n",
       "\n",
       "    .dataframe thead tr:last-of-type th {\n",
       "        text-align: right;\n",
       "    }\n",
       "</style>\n",
       "<table border=\"1\" class=\"dataframe\">\n",
       "  <thead>\n",
       "    <tr>\n",
       "      <th>Ticker</th>\n",
       "      <th colspan=\"5\" halign=\"left\">HAL.NS</th>\n",
       "    </tr>\n",
       "    <tr>\n",
       "      <th>Price</th>\n",
       "      <th>Open</th>\n",
       "      <th>High</th>\n",
       "      <th>Low</th>\n",
       "      <th>Close</th>\n",
       "      <th>Volume</th>\n",
       "    </tr>\n",
       "    <tr>\n",
       "      <th>Date</th>\n",
       "      <th></th>\n",
       "      <th></th>\n",
       "      <th></th>\n",
       "      <th></th>\n",
       "      <th></th>\n",
       "    </tr>\n",
       "  </thead>\n",
       "  <tbody>\n",
       "    <tr>\n",
       "      <th>2024-04-30</th>\n",
       "      <td>3995.327661</td>\n",
       "      <td>3995.822702</td>\n",
       "      <td>3891.022421</td>\n",
       "      <td>3900.279785</td>\n",
       "      <td>2054258</td>\n",
       "    </tr>\n",
       "    <tr>\n",
       "      <th>2024-05-02</th>\n",
       "      <td>3902.903380</td>\n",
       "      <td>3933.695028</td>\n",
       "      <td>3892.408413</td>\n",
       "      <td>3908.051758</td>\n",
       "      <td>1008325</td>\n",
       "    </tr>\n",
       "    <tr>\n",
       "      <th>2024-05-03</th>\n",
       "      <td>3913.051758</td>\n",
       "      <td>3927.655468</td>\n",
       "      <td>3841.518330</td>\n",
       "      <td>3881.319580</td>\n",
       "      <td>1180369</td>\n",
       "    </tr>\n",
       "    <tr>\n",
       "      <th>2024-05-06</th>\n",
       "      <td>3896.962731</td>\n",
       "      <td>3899.338831</td>\n",
       "      <td>3747.509903</td>\n",
       "      <td>3778.548828</td>\n",
       "      <td>1613143</td>\n",
       "    </tr>\n",
       "    <tr>\n",
       "      <th>2024-05-07</th>\n",
       "      <td>3777.608478</td>\n",
       "      <td>3800.924958</td>\n",
       "      <td>3656.768916</td>\n",
       "      <td>3678.154785</td>\n",
       "      <td>1975562</td>\n",
       "    </tr>\n",
       "    <tr>\n",
       "      <th>...</th>\n",
       "      <td>...</td>\n",
       "      <td>...</td>\n",
       "      <td>...</td>\n",
       "      <td>...</td>\n",
       "      <td>...</td>\n",
       "    </tr>\n",
       "    <tr>\n",
       "      <th>2025-04-23</th>\n",
       "      <td>4304.899902</td>\n",
       "      <td>4360.000000</td>\n",
       "      <td>4255.299805</td>\n",
       "      <td>4307.000000</td>\n",
       "      <td>1803742</td>\n",
       "    </tr>\n",
       "    <tr>\n",
       "      <th>2025-04-24</th>\n",
       "      <td>4307.000000</td>\n",
       "      <td>4364.799805</td>\n",
       "      <td>4291.299805</td>\n",
       "      <td>4300.000000</td>\n",
       "      <td>1554043</td>\n",
       "    </tr>\n",
       "    <tr>\n",
       "      <th>2025-04-25</th>\n",
       "      <td>4305.000000</td>\n",
       "      <td>4339.000000</td>\n",
       "      <td>4147.500000</td>\n",
       "      <td>4196.399902</td>\n",
       "      <td>2298293</td>\n",
       "    </tr>\n",
       "    <tr>\n",
       "      <th>2025-04-28</th>\n",
       "      <td>4209.899902</td>\n",
       "      <td>4439.899902</td>\n",
       "      <td>4200.500000</td>\n",
       "      <td>4426.299805</td>\n",
       "      <td>4014638</td>\n",
       "    </tr>\n",
       "    <tr>\n",
       "      <th>2025-04-29</th>\n",
       "      <td>4473.000000</td>\n",
       "      <td>4660.000000</td>\n",
       "      <td>4448.500000</td>\n",
       "      <td>4609.299805</td>\n",
       "      <td>5185900</td>\n",
       "    </tr>\n",
       "  </tbody>\n",
       "</table>\n",
       "<p>247 rows × 5 columns</p>\n",
       "</div>"
      ],
      "text/plain": [
       "Ticker           HAL.NS                                                \n",
       "Price              Open         High          Low        Close   Volume\n",
       "Date                                                                   \n",
       "2024-04-30  3995.327661  3995.822702  3891.022421  3900.279785  2054258\n",
       "2024-05-02  3902.903380  3933.695028  3892.408413  3908.051758  1008325\n",
       "2024-05-03  3913.051758  3927.655468  3841.518330  3881.319580  1180369\n",
       "2024-05-06  3896.962731  3899.338831  3747.509903  3778.548828  1613143\n",
       "2024-05-07  3777.608478  3800.924958  3656.768916  3678.154785  1975562\n",
       "...                 ...          ...          ...          ...      ...\n",
       "2025-04-23  4304.899902  4360.000000  4255.299805  4307.000000  1803742\n",
       "2025-04-24  4307.000000  4364.799805  4291.299805  4300.000000  1554043\n",
       "2025-04-25  4305.000000  4339.000000  4147.500000  4196.399902  2298293\n",
       "2025-04-28  4209.899902  4439.899902  4200.500000  4426.299805  4014638\n",
       "2025-04-29  4473.000000  4660.000000  4448.500000  4609.299805  5185900\n",
       "\n",
       "[247 rows x 5 columns]"
      ]
     },
     "execution_count": 5,
     "metadata": {},
     "output_type": "execute_result"
    }
   ],
   "source": [
    "#obtaining data\n",
    "ticker = \"HAL.NS\"\n",
    "df = yf.download(\n",
    "    tickers=ticker,\n",
    "    start=start_date,\n",
    "    end=end_date,\n",
    "    interval=\"1d\",\n",
    "    group_by=\"ticker\",\n",
    "    auto_adjust=True,\n",
    "    progress=False\n",
    ")\n",
    "df\n"
   ]
  },
  {
   "cell_type": "code",
   "execution_count": 6,
   "id": "1bf17265-ebca-4f11-83d8-e1ae00e9ad01",
   "metadata": {},
   "outputs": [
    {
     "name": "stdout",
     "output_type": "stream",
     "text": [
      "<class 'pandas.core.frame.DataFrame'>\n",
      "DatetimeIndex: 247 entries, 2024-04-30 to 2025-04-29\n",
      "Data columns (total 5 columns):\n",
      " #   Column            Non-Null Count  Dtype  \n",
      "---  ------            --------------  -----  \n",
      " 0   (HAL.NS, Open)    247 non-null    float64\n",
      " 1   (HAL.NS, High)    247 non-null    float64\n",
      " 2   (HAL.NS, Low)     247 non-null    float64\n",
      " 3   (HAL.NS, Close)   247 non-null    float64\n",
      " 4   (HAL.NS, Volume)  247 non-null    int64  \n",
      "dtypes: float64(4), int64(1)\n",
      "memory usage: 11.6 KB\n"
     ]
    }
   ],
   "source": [
    "#cleaning and inspecting the data\n",
    "df.info()"
   ]
  },
  {
   "cell_type": "markdown",
   "id": "f9508d79-93c3-4a81-a9ee-acc8ce09af7c",
   "metadata": {},
   "source": [
    "- No missing values 😁."
   ]
  },
  {
   "cell_type": "code",
   "execution_count": 7,
   "id": "daea035c-b1b8-49fa-9054-83355d939c7a",
   "metadata": {},
   "outputs": [
    {
     "name": "stdout",
     "output_type": "stream",
     "text": [
      "DatetimeIndex(['2024-04-30', '2024-05-02', '2024-05-03', '2024-05-06',\n",
      "               '2024-05-07', '2024-05-08', '2024-05-09', '2024-05-10',\n",
      "               '2024-05-13', '2024-05-14',\n",
      "               ...\n",
      "               '2025-04-15', '2025-04-16', '2025-04-17', '2025-04-21',\n",
      "               '2025-04-22', '2025-04-23', '2025-04-24', '2025-04-25',\n",
      "               '2025-04-28', '2025-04-29'],\n",
      "              dtype='datetime64[ns]', name='Date', length=247, freq=None)\n"
     ]
    }
   ],
   "source": [
    "print(df.index)"
   ]
  },
  {
   "cell_type": "markdown",
   "id": "1738d198-5d67-408c-b3af-288a12604d7e",
   "metadata": {},
   "source": [
    "- Indexing is date time 😁"
   ]
  },
  {
   "cell_type": "markdown",
   "id": "90d4da2e-a818-473d-9888-21b2b9571ee6",
   "metadata": {},
   "source": [
    "- Visual Insight\n",
    "Plot an `interactive candlestick chart` using `plotly.graph` objects or mplfinance. A\n",
    "sample implementation is available in the resources. Annotate `at least 2` interesting pat-\n",
    "terns or events (e.g., `gaps, sudden jumps/drops, trend reversals`) using `vertical lines or\n",
    "markers`. (You can take a screenshot and manually mark the areas if you aren’t able to code\n",
    "it.)"
   ]
  },
  {
   "cell_type": "code",
   "execution_count": 8,
   "id": "9748c877-fc6d-49a4-8959-245881ec0afa",
   "metadata": {},
   "outputs": [
    {
     "data": {
      "application/vnd.plotly.v1+json": {
       "config": {
        "plotlyServerURL": "https://plot.ly"
       },
       "data": [
        {
         "close": {
          "bdata": "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",
          "dtype": "f8"
         },
         "high": {
          "bdata": "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",
          "dtype": "f8"
         },
         "low": {
          "bdata": "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",
          "dtype": "f8"
         },
         "open": {
          "bdata": "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",
          "dtype": "f8"
         },
         "type": "candlestick",
         "x": [
          "2024-04-30T00:00:00.000000000",
          "2024-05-02T00:00:00.000000000",
          "2024-05-03T00:00:00.000000000",
          "2024-05-06T00:00:00.000000000",
          "2024-05-07T00:00:00.000000000",
          "2024-05-08T00:00:00.000000000",
          "2024-05-09T00:00:00.000000000",
          "2024-05-10T00:00:00.000000000",
          "2024-05-13T00:00:00.000000000",
          "2024-05-14T00:00:00.000000000",
          "2024-05-15T00:00:00.000000000",
          "2024-05-16T00:00:00.000000000",
          "2024-05-17T00:00:00.000000000",
          "2024-05-21T00:00:00.000000000",
          "2024-05-22T00:00:00.000000000",
          "2024-05-23T00:00:00.000000000",
          "2024-05-24T00:00:00.000000000",
          "2024-05-27T00:00:00.000000000",
          "2024-05-28T00:00:00.000000000",
          "2024-05-29T00:00:00.000000000",
          "2024-05-30T00:00:00.000000000",
          "2024-05-31T00:00:00.000000000",
          "2024-06-03T00:00:00.000000000",
          "2024-06-04T00:00:00.000000000",
          "2024-06-05T00:00:00.000000000",
          "2024-06-06T00:00:00.000000000",
          "2024-06-07T00:00:00.000000000",
          "2024-06-10T00:00:00.000000000",
          "2024-06-11T00:00:00.000000000",
          "2024-06-12T00:00:00.000000000",
          "2024-06-13T00:00:00.000000000",
          "2024-06-14T00:00:00.000000000",
          "2024-06-18T00:00:00.000000000",
          "2024-06-19T00:00:00.000000000",
          "2024-06-20T00:00:00.000000000",
          "2024-06-21T00:00:00.000000000",
          "2024-06-24T00:00:00.000000000",
          "2024-06-25T00:00:00.000000000",
          "2024-06-26T00:00:00.000000000",
          "2024-06-27T00:00:00.000000000",
          "2024-06-28T00:00:00.000000000",
          "2024-07-01T00:00:00.000000000",
          "2024-07-02T00:00:00.000000000",
          "2024-07-03T00:00:00.000000000",
          "2024-07-04T00:00:00.000000000",
          "2024-07-05T00:00:00.000000000",
          "2024-07-08T00:00:00.000000000",
          "2024-07-09T00:00:00.000000000",
          "2024-07-10T00:00:00.000000000",
          "2024-07-11T00:00:00.000000000",
          "2024-07-12T00:00:00.000000000",
          "2024-07-15T00:00:00.000000000",
          "2024-07-16T00:00:00.000000000",
          "2024-07-18T00:00:00.000000000",
          "2024-07-19T00:00:00.000000000",
          "2024-07-22T00:00:00.000000000",
          "2024-07-23T00:00:00.000000000",
          "2024-07-24T00:00:00.000000000",
          "2024-07-25T00:00:00.000000000",
          "2024-07-26T00:00:00.000000000",
          "2024-07-29T00:00:00.000000000",
          "2024-07-30T00:00:00.000000000",
          "2024-07-31T00:00:00.000000000",
          "2024-08-01T00:00:00.000000000",
          "2024-08-02T00:00:00.000000000",
          "2024-08-05T00:00:00.000000000",
          "2024-08-06T00:00:00.000000000",
          "2024-08-07T00:00:00.000000000",
          "2024-08-08T00:00:00.000000000",
          "2024-08-09T00:00:00.000000000",
          "2024-08-12T00:00:00.000000000",
          "2024-08-13T00:00:00.000000000",
          "2024-08-14T00:00:00.000000000",
          "2024-08-16T00:00:00.000000000",
          "2024-08-19T00:00:00.000000000",
          "2024-08-20T00:00:00.000000000",
          "2024-08-21T00:00:00.000000000",
          "2024-08-22T00:00:00.000000000",
          "2024-08-23T00:00:00.000000000",
          "2024-08-26T00:00:00.000000000",
          "2024-08-27T00:00:00.000000000",
          "2024-08-28T00:00:00.000000000",
          "2024-08-29T00:00:00.000000000",
          "2024-08-30T00:00:00.000000000",
          "2024-09-02T00:00:00.000000000",
          "2024-09-03T00:00:00.000000000",
          "2024-09-04T00:00:00.000000000",
          "2024-09-05T00:00:00.000000000",
          "2024-09-06T00:00:00.000000000",
          "2024-09-09T00:00:00.000000000",
          "2024-09-10T00:00:00.000000000",
          "2024-09-11T00:00:00.000000000",
          "2024-09-12T00:00:00.000000000",
          "2024-09-13T00:00:00.000000000",
          "2024-09-16T00:00:00.000000000",
          "2024-09-17T00:00:00.000000000",
          "2024-09-18T00:00:00.000000000",
          "2024-09-19T00:00:00.000000000",
          "2024-09-20T00:00:00.000000000",
          "2024-09-23T00:00:00.000000000",
          "2024-09-24T00:00:00.000000000",
          "2024-09-25T00:00:00.000000000",
          "2024-09-26T00:00:00.000000000",
          "2024-09-27T00:00:00.000000000",
          "2024-09-30T00:00:00.000000000",
          "2024-10-01T00:00:00.000000000",
          "2024-10-03T00:00:00.000000000",
          "2024-10-04T00:00:00.000000000",
          "2024-10-07T00:00:00.000000000",
          "2024-10-08T00:00:00.000000000",
          "2024-10-09T00:00:00.000000000",
          "2024-10-10T00:00:00.000000000",
          "2024-10-11T00:00:00.000000000",
          "2024-10-14T00:00:00.000000000",
          "2024-10-15T00:00:00.000000000",
          "2024-10-16T00:00:00.000000000",
          "2024-10-17T00:00:00.000000000",
          "2024-10-18T00:00:00.000000000",
          "2024-10-21T00:00:00.000000000",
          "2024-10-22T00:00:00.000000000",
          "2024-10-23T00:00:00.000000000",
          "2024-10-24T00:00:00.000000000",
          "2024-10-25T00:00:00.000000000",
          "2024-10-28T00:00:00.000000000",
          "2024-10-29T00:00:00.000000000",
          "2024-10-30T00:00:00.000000000",
          "2024-10-31T00:00:00.000000000",
          "2024-11-01T00:00:00.000000000",
          "2024-11-04T00:00:00.000000000",
          "2024-11-05T00:00:00.000000000",
          "2024-11-06T00:00:00.000000000",
          "2024-11-07T00:00:00.000000000",
          "2024-11-08T00:00:00.000000000",
          "2024-11-11T00:00:00.000000000",
          "2024-11-12T00:00:00.000000000",
          "2024-11-13T00:00:00.000000000",
          "2024-11-14T00:00:00.000000000",
          "2024-11-18T00:00:00.000000000",
          "2024-11-19T00:00:00.000000000",
          "2024-11-21T00:00:00.000000000",
          "2024-11-22T00:00:00.000000000",
          "2024-11-25T00:00:00.000000000",
          "2024-11-26T00:00:00.000000000",
          "2024-11-27T00:00:00.000000000",
          "2024-11-28T00:00:00.000000000",
          "2024-11-29T00:00:00.000000000",
          "2024-12-02T00:00:00.000000000",
          "2024-12-03T00:00:00.000000000",
          "2024-12-04T00:00:00.000000000",
          "2024-12-05T00:00:00.000000000",
          "2024-12-06T00:00:00.000000000",
          "2024-12-09T00:00:00.000000000",
          "2024-12-10T00:00:00.000000000",
          "2024-12-11T00:00:00.000000000",
          "2024-12-12T00:00:00.000000000",
          "2024-12-13T00:00:00.000000000",
          "2024-12-16T00:00:00.000000000",
          "2024-12-17T00:00:00.000000000",
          "2024-12-18T00:00:00.000000000",
          "2024-12-19T00:00:00.000000000",
          "2024-12-20T00:00:00.000000000",
          "2024-12-23T00:00:00.000000000",
          "2024-12-24T00:00:00.000000000",
          "2024-12-26T00:00:00.000000000",
          "2024-12-27T00:00:00.000000000",
          "2024-12-30T00:00:00.000000000",
          "2024-12-31T00:00:00.000000000",
          "2025-01-01T00:00:00.000000000",
          "2025-01-02T00:00:00.000000000",
          "2025-01-03T00:00:00.000000000",
          "2025-01-06T00:00:00.000000000",
          "2025-01-07T00:00:00.000000000",
          "2025-01-08T00:00:00.000000000",
          "2025-01-09T00:00:00.000000000",
          "2025-01-10T00:00:00.000000000",
          "2025-01-13T00:00:00.000000000",
          "2025-01-14T00:00:00.000000000",
          "2025-01-15T00:00:00.000000000",
          "2025-01-16T00:00:00.000000000",
          "2025-01-17T00:00:00.000000000",
          "2025-01-20T00:00:00.000000000",
          "2025-01-21T00:00:00.000000000",
          "2025-01-22T00:00:00.000000000",
          "2025-01-23T00:00:00.000000000",
          "2025-01-24T00:00:00.000000000",
          "2025-01-27T00:00:00.000000000",
          "2025-01-28T00:00:00.000000000",
          "2025-01-29T00:00:00.000000000",
          "2025-01-30T00:00:00.000000000",
          "2025-01-31T00:00:00.000000000",
          "2025-02-01T00:00:00.000000000",
          "2025-02-03T00:00:00.000000000",
          "2025-02-04T00:00:00.000000000",
          "2025-02-05T00:00:00.000000000",
          "2025-02-06T00:00:00.000000000",
          "2025-02-07T00:00:00.000000000",
          "2025-02-10T00:00:00.000000000",
          "2025-02-11T00:00:00.000000000",
          "2025-02-12T00:00:00.000000000",
          "2025-02-13T00:00:00.000000000",
          "2025-02-14T00:00:00.000000000",
          "2025-02-17T00:00:00.000000000",
          "2025-02-18T00:00:00.000000000",
          "2025-02-19T00:00:00.000000000",
          "2025-02-20T00:00:00.000000000",
          "2025-02-21T00:00:00.000000000",
          "2025-02-24T00:00:00.000000000",
          "2025-02-25T00:00:00.000000000",
          "2025-02-27T00:00:00.000000000",
          "2025-02-28T00:00:00.000000000",
          "2025-03-03T00:00:00.000000000",
          "2025-03-04T00:00:00.000000000",
          "2025-03-05T00:00:00.000000000",
          "2025-03-06T00:00:00.000000000",
          "2025-03-07T00:00:00.000000000",
          "2025-03-10T00:00:00.000000000",
          "2025-03-11T00:00:00.000000000",
          "2025-03-12T00:00:00.000000000",
          "2025-03-13T00:00:00.000000000",
          "2025-03-17T00:00:00.000000000",
          "2025-03-18T00:00:00.000000000",
          "2025-03-19T00:00:00.000000000",
          "2025-03-20T00:00:00.000000000",
          "2025-03-21T00:00:00.000000000",
          "2025-03-24T00:00:00.000000000",
          "2025-03-25T00:00:00.000000000",
          "2025-03-26T00:00:00.000000000",
          "2025-03-27T00:00:00.000000000",
          "2025-03-28T00:00:00.000000000",
          "2025-04-01T00:00:00.000000000",
          "2025-04-02T00:00:00.000000000",
          "2025-04-03T00:00:00.000000000",
          "2025-04-04T00:00:00.000000000",
          "2025-04-07T00:00:00.000000000",
          "2025-04-08T00:00:00.000000000",
          "2025-04-09T00:00:00.000000000",
          "2025-04-11T00:00:00.000000000",
          "2025-04-15T00:00:00.000000000",
          "2025-04-16T00:00:00.000000000",
          "2025-04-17T00:00:00.000000000",
          "2025-04-21T00:00:00.000000000",
          "2025-04-22T00:00:00.000000000",
          "2025-04-23T00:00:00.000000000",
          "2025-04-24T00:00:00.000000000",
          "2025-04-25T00:00:00.000000000",
          "2025-04-28T00:00:00.000000000",
          "2025-04-29T00:00:00.000000000"
         ]
        },
        {
         "marker": {
          "color": "blue",
          "size": 10
         },
         "mode": "markers+text",
         "name": "Sudden Drop",
         "text": [
          "Drop"
         ],
         "textposition": "bottom center",
         "type": "scatter",
         "x": [
          "2024-06-05"
         ],
         "y": [
          3881
         ]
        },
        {
         "line": {
          "color": "blue",
          "dash": "dash",
          "width": 3
         },
         "mode": "lines",
         "name": "Trend reversal",
         "type": "scatter",
         "x": [
          "2025-03-02",
          "2025-03-02"
         ],
         "y": [
          3046.050048828125,
          5618.468185496982
         ]
        }
       ],
       "layout": {
        "template": {
         "data": {
          "bar": [
           {
            "error_x": {
             "color": "#2a3f5f"
            },
            "error_y": {
             "color": "#2a3f5f"
            },
            "marker": {
             "line": {
              "color": "#E5ECF6",
              "width": 0.5
             },
             "pattern": {
              "fillmode": "overlay",
              "size": 10,
              "solidity": 0.2
             }
            },
            "type": "bar"
           }
          ],
          "barpolar": [
           {
            "marker": {
             "line": {
              "color": "#E5ECF6",
              "width": 0.5
             },
             "pattern": {
              "fillmode": "overlay",
              "size": 10,
              "solidity": 0.2
             }
            },
            "type": "barpolar"
           }
          ],
          "carpet": [
           {
            "aaxis": {
             "endlinecolor": "#2a3f5f",
             "gridcolor": "white",
             "linecolor": "white",
             "minorgridcolor": "white",
             "startlinecolor": "#2a3f5f"
            },
            "baxis": {
             "endlinecolor": "#2a3f5f",
             "gridcolor": "white",
             "linecolor": "white",
             "minorgridcolor": "white",
             "startlinecolor": "#2a3f5f"
            },
            "type": "carpet"
           }
          ],
          "choropleth": [
           {
            "colorbar": {
             "outlinewidth": 0,
             "ticks": ""
            },
            "type": "choropleth"
           }
          ],
          "contour": [
           {
            "colorbar": {
             "outlinewidth": 0,
             "ticks": ""
            },
            "colorscale": [
             [
              0,
              "#0d0887"
             ],
             [
              0.1111111111111111,
              "#46039f"
             ],
             [
              0.2222222222222222,
              "#7201a8"
             ],
             [
              0.3333333333333333,
              "#9c179e"
             ],
             [
              0.4444444444444444,
              "#bd3786"
             ],
             [
              0.5555555555555556,
              "#d8576b"
             ],
             [
              0.6666666666666666,
              "#ed7953"
             ],
             [
              0.7777777777777778,
              "#fb9f3a"
             ],
             [
              0.8888888888888888,
              "#fdca26"
             ],
             [
              1,
              "#f0f921"
             ]
            ],
            "type": "contour"
           }
          ],
          "contourcarpet": [
           {
            "colorbar": {
             "outlinewidth": 0,
             "ticks": ""
            },
            "type": "contourcarpet"
           }
          ],
          "heatmap": [
           {
            "colorbar": {
             "outlinewidth": 0,
             "ticks": ""
            },
            "colorscale": [
             [
              0,
              "#0d0887"
             ],
             [
              0.1111111111111111,
              "#46039f"
             ],
             [
              0.2222222222222222,
              "#7201a8"
             ],
             [
              0.3333333333333333,
              "#9c179e"
             ],
             [
              0.4444444444444444,
              "#bd3786"
             ],
             [
              0.5555555555555556,
              "#d8576b"
             ],
             [
              0.6666666666666666,
              "#ed7953"
             ],
             [
              0.7777777777777778,
              "#fb9f3a"
             ],
             [
              0.8888888888888888,
              "#fdca26"
             ],
             [
              1,
              "#f0f921"
             ]
            ],
            "type": "heatmap"
           }
          ],
          "histogram": [
           {
            "marker": {
             "pattern": {
              "fillmode": "overlay",
              "size": 10,
              "solidity": 0.2
             }
            },
            "type": "histogram"
           }
          ],
          "histogram2d": [
           {
            "colorbar": {
             "outlinewidth": 0,
             "ticks": ""
            },
            "colorscale": [
             [
              0,
              "#0d0887"
             ],
             [
              0.1111111111111111,
              "#46039f"
             ],
             [
              0.2222222222222222,
              "#7201a8"
             ],
             [
              0.3333333333333333,
              "#9c179e"
             ],
             [
              0.4444444444444444,
              "#bd3786"
             ],
             [
              0.5555555555555556,
              "#d8576b"
             ],
             [
              0.6666666666666666,
              "#ed7953"
             ],
             [
              0.7777777777777778,
              "#fb9f3a"
             ],
             [
              0.8888888888888888,
              "#fdca26"
             ],
             [
              1,
              "#f0f921"
             ]
            ],
            "type": "histogram2d"
           }
          ],
          "histogram2dcontour": [
           {
            "colorbar": {
             "outlinewidth": 0,
             "ticks": ""
            },
            "colorscale": [
             [
              0,
              "#0d0887"
             ],
             [
              0.1111111111111111,
              "#46039f"
             ],
             [
              0.2222222222222222,
              "#7201a8"
             ],
             [
              0.3333333333333333,
              "#9c179e"
             ],
             [
              0.4444444444444444,
              "#bd3786"
             ],
             [
              0.5555555555555556,
              "#d8576b"
             ],
             [
              0.6666666666666666,
              "#ed7953"
             ],
             [
              0.7777777777777778,
              "#fb9f3a"
             ],
             [
              0.8888888888888888,
              "#fdca26"
             ],
             [
              1,
              "#f0f921"
             ]
            ],
            "type": "histogram2dcontour"
           }
          ],
          "mesh3d": [
           {
            "colorbar": {
             "outlinewidth": 0,
             "ticks": ""
            },
            "type": "mesh3d"
           }
          ],
          "parcoords": [
           {
            "line": {
             "colorbar": {
              "outlinewidth": 0,
              "ticks": ""
             }
            },
            "type": "parcoords"
           }
          ],
          "pie": [
           {
            "automargin": true,
            "type": "pie"
           }
          ],
          "scatter": [
           {
            "fillpattern": {
             "fillmode": "overlay",
             "size": 10,
             "solidity": 0.2
            },
            "type": "scatter"
           }
          ],
          "scatter3d": [
           {
            "line": {
             "colorbar": {
              "outlinewidth": 0,
              "ticks": ""
             }
            },
            "marker": {
             "colorbar": {
              "outlinewidth": 0,
              "ticks": ""
             }
            },
            "type": "scatter3d"
           }
          ],
          "scattercarpet": [
           {
            "marker": {
             "colorbar": {
              "outlinewidth": 0,
              "ticks": ""
             }
            },
            "type": "scattercarpet"
           }
          ],
          "scattergeo": [
           {
            "marker": {
             "colorbar": {
              "outlinewidth": 0,
              "ticks": ""
             }
            },
            "type": "scattergeo"
           }
          ],
          "scattergl": [
           {
            "marker": {
             "colorbar": {
              "outlinewidth": 0,
              "ticks": ""
             }
            },
            "type": "scattergl"
           }
          ],
          "scattermap": [
           {
            "marker": {
             "colorbar": {
              "outlinewidth": 0,
              "ticks": ""
             }
            },
            "type": "scattermap"
           }
          ],
          "scattermapbox": [
           {
            "marker": {
             "colorbar": {
              "outlinewidth": 0,
              "ticks": ""
             }
            },
            "type": "scattermapbox"
           }
          ],
          "scatterpolar": [
           {
            "marker": {
             "colorbar": {
              "outlinewidth": 0,
              "ticks": ""
             }
            },
            "type": "scatterpolar"
           }
          ],
          "scatterpolargl": [
           {
            "marker": {
             "colorbar": {
              "outlinewidth": 0,
              "ticks": ""
             }
            },
            "type": "scatterpolargl"
           }
          ],
          "scatterternary": [
           {
            "marker": {
             "colorbar": {
              "outlinewidth": 0,
              "ticks": ""
             }
            },
            "type": "scatterternary"
           }
          ],
          "surface": [
           {
            "colorbar": {
             "outlinewidth": 0,
             "ticks": ""
            },
            "colorscale": [
             [
              0,
              "#0d0887"
             ],
             [
              0.1111111111111111,
              "#46039f"
             ],
             [
              0.2222222222222222,
              "#7201a8"
             ],
             [
              0.3333333333333333,
              "#9c179e"
             ],
             [
              0.4444444444444444,
              "#bd3786"
             ],
             [
              0.5555555555555556,
              "#d8576b"
             ],
             [
              0.6666666666666666,
              "#ed7953"
             ],
             [
              0.7777777777777778,
              "#fb9f3a"
             ],
             [
              0.8888888888888888,
              "#fdca26"
             ],
             [
              1,
              "#f0f921"
             ]
            ],
            "type": "surface"
           }
          ],
          "table": [
           {
            "cells": {
             "fill": {
              "color": "#EBF0F8"
             },
             "line": {
              "color": "white"
             }
            },
            "header": {
             "fill": {
              "color": "#C8D4E3"
             },
             "line": {
              "color": "white"
             }
            },
            "type": "table"
           }
          ]
         },
         "layout": {
          "annotationdefaults": {
           "arrowcolor": "#2a3f5f",
           "arrowhead": 0,
           "arrowwidth": 1
          },
          "autotypenumbers": "strict",
          "coloraxis": {
           "colorbar": {
            "outlinewidth": 0,
            "ticks": ""
           }
          },
          "colorscale": {
           "diverging": [
            [
             0,
             "#8e0152"
            ],
            [
             0.1,
             "#c51b7d"
            ],
            [
             0.2,
             "#de77ae"
            ],
            [
             0.3,
             "#f1b6da"
            ],
            [
             0.4,
             "#fde0ef"
            ],
            [
             0.5,
             "#f7f7f7"
            ],
            [
             0.6,
             "#e6f5d0"
            ],
            [
             0.7,
             "#b8e186"
            ],
            [
             0.8,
             "#7fbc41"
            ],
            [
             0.9,
             "#4d9221"
            ],
            [
             1,
             "#276419"
            ]
           ],
           "sequential": [
            [
             0,
             "#0d0887"
            ],
            [
             0.1111111111111111,
             "#46039f"
            ],
            [
             0.2222222222222222,
             "#7201a8"
            ],
            [
             0.3333333333333333,
             "#9c179e"
            ],
            [
             0.4444444444444444,
             "#bd3786"
            ],
            [
             0.5555555555555556,
             "#d8576b"
            ],
            [
             0.6666666666666666,
             "#ed7953"
            ],
            [
             0.7777777777777778,
             "#fb9f3a"
            ],
            [
             0.8888888888888888,
             "#fdca26"
            ],
            [
             1,
             "#f0f921"
            ]
           ],
           "sequentialminus": [
            [
             0,
             "#0d0887"
            ],
            [
             0.1111111111111111,
             "#46039f"
            ],
            [
             0.2222222222222222,
             "#7201a8"
            ],
            [
             0.3333333333333333,
             "#9c179e"
            ],
            [
             0.4444444444444444,
             "#bd3786"
            ],
            [
             0.5555555555555556,
             "#d8576b"
            ],
            [
             0.6666666666666666,
             "#ed7953"
            ],
            [
             0.7777777777777778,
             "#fb9f3a"
            ],
            [
             0.8888888888888888,
             "#fdca26"
            ],
            [
             1,
             "#f0f921"
            ]
           ]
          },
          "colorway": [
           "#636efa",
           "#EF553B",
           "#00cc96",
           "#ab63fa",
           "#FFA15A",
           "#19d3f3",
           "#FF6692",
           "#B6E880",
           "#FF97FF",
           "#FECB52"
          ],
          "font": {
           "color": "#2a3f5f"
          },
          "geo": {
           "bgcolor": "white",
           "lakecolor": "white",
           "landcolor": "#E5ECF6",
           "showlakes": true,
           "showland": true,
           "subunitcolor": "white"
          },
          "hoverlabel": {
           "align": "left"
          },
          "hovermode": "closest",
          "mapbox": {
           "style": "light"
          },
          "paper_bgcolor": "white",
          "plot_bgcolor": "#E5ECF6",
          "polar": {
           "angularaxis": {
            "gridcolor": "white",
            "linecolor": "white",
            "ticks": ""
           },
           "bgcolor": "#E5ECF6",
           "radialaxis": {
            "gridcolor": "white",
            "linecolor": "white",
            "ticks": ""
           }
          },
          "scene": {
           "xaxis": {
            "backgroundcolor": "#E5ECF6",
            "gridcolor": "white",
            "gridwidth": 2,
            "linecolor": "white",
            "showbackground": true,
            "ticks": "",
            "zerolinecolor": "white"
           },
           "yaxis": {
            "backgroundcolor": "#E5ECF6",
            "gridcolor": "white",
            "gridwidth": 2,
            "linecolor": "white",
            "showbackground": true,
            "ticks": "",
            "zerolinecolor": "white"
           },
           "zaxis": {
            "backgroundcolor": "#E5ECF6",
            "gridcolor": "white",
            "gridwidth": 2,
            "linecolor": "white",
            "showbackground": true,
            "ticks": "",
            "zerolinecolor": "white"
           }
          },
          "shapedefaults": {
           "line": {
            "color": "#2a3f5f"
           }
          },
          "ternary": {
           "aaxis": {
            "gridcolor": "white",
            "linecolor": "white",
            "ticks": ""
           },
           "baxis": {
            "gridcolor": "white",
            "linecolor": "white",
            "ticks": ""
           },
           "bgcolor": "#E5ECF6",
           "caxis": {
            "gridcolor": "white",
            "linecolor": "white",
            "ticks": ""
           }
          },
          "title": {
           "x": 0.05
          },
          "xaxis": {
           "automargin": true,
           "gridcolor": "white",
           "linecolor": "white",
           "ticks": "",
           "title": {
            "standoff": 15
           },
           "zerolinecolor": "white",
           "zerolinewidth": 2
          },
          "yaxis": {
           "automargin": true,
           "gridcolor": "white",
           "linecolor": "white",
           "ticks": "",
           "title": {
            "standoff": 15
           },
           "zerolinecolor": "white",
           "zerolinewidth": 2
          }
         }
        },
        "title": {
         "text": "Candlestick Chart - HAL.NS"
        },
        "xaxis": {
         "title": {
          "text": "Date"
         }
        },
        "yaxis": {
         "title": {
          "text": "Price"
         }
        }
       }
      },
      "image/png": "[encoded data removed]"
     },
     "metadata": {},
     "output_type": "display_data"
    }
   ],
   "source": [
    "#plotting candlestick chart\n",
    "fig = go.Figure(data=[\n",
    "    go.Candlestick(x=df.index,\n",
    "                   open=df[ticker]['Open'],\n",
    "                   high=df[ticker]['High'],\n",
    "                   low=df[ticker]['Low'],\n",
    "                   close=df[ticker]['Close'])\n",
    "              ])\n",
    "fig.add_trace(go.Scatter(\n",
    "    x=['2024-06-05'],\n",
    "    y=[3881],\n",
    "    mode='markers+text',\n",
    "    marker=dict(size=10, color='blue'),\n",
    "    text=[\"Drop\"],  # Label\n",
    "    textposition=\"bottom center\",\n",
    "    name=\"Sudden Drop\"\n",
    "))\n",
    "fig.add_trace(go.Scatter(\n",
    "    x=['2025-03-02', '2025-03-02'],\n",
    "    y=[df[ticker]['Low'].min(), df[ticker]['High'].max()], \n",
    "    mode='lines',\n",
    "    line=dict(color='blue', width=3, dash='dash'),\n",
    "    name='Trend reversal'\n",
    "))\n",
    "\n",
    "fig.update_layout(title=f\"Candlestick Chart - {ticker}\", xaxis_title='Date', yaxis_title='Price')\n",
    "fig.show()"
   ]
  },
  {
   "cell_type": "markdown",
   "id": "b56f9bdb-46c5-454a-ba54-e2c73287db3f",
   "metadata": {},
   "source": [
    "- Reason for drop in price can be due to delay in deliveries of jets to army by HAL \n",
    "- Reason for trend reversal can be due to a good deal or delivery of jets "
   ]
  },
  {
   "cell_type": "markdown",
   "id": "452dd898-6a2d-4163-ac73-0166d3d9fc70",
   "metadata": {},
   "source": [
    "**Problem Statement 2: Returns & Volatility**"
   ]
  },
  {
   "cell_type": "markdown",
   "id": "12b815c4-065e-4225-832a-060dce373516",
   "metadata": {},
   "source": [
    "- **Return Computation**\n",
    "Compute both `simple and log returns`. `Plot` them side by side using `subplots` or Plotly.\n",
    "Markdown: Why do they look similar? When might they `differ significantly`? Answer in a\n",
    "`markdown cell` below the plots"
   ]
  },
  {
   "cell_type": "code",
   "execution_count": 9,
   "id": "5af3be5f-5613-47f0-8509-6e171a6176a0",
   "metadata": {},
   "outputs": [
    {
     "data": {
      "image/png": "[encoded data removed]",
      "text/plain": [
       "<Figure size 1200x800 with 2 Axes>"
      ]
     },
     "metadata": {},
     "output_type": "display_data"
    }
   ],
   "source": [
    "df.loc[:, (ticker, 'Daily Return')] = df[ticker]['Close'].pct_change()\n",
    "df.loc[:, (ticker, 'Log Return')] = np.log(df[ticker]['Close'] / df[ticker]['Close'].shift(1))\n",
    "fig,axs = plt.subplots(1,2,figsize=(12,8))\n",
    "axs[0].plot(df.index,df[ticker]['Daily Return'])\n",
    "axs[0].set_title(\"Simple Return\")\n",
    "axs[1].plot(df.index,df[ticker]['Log Return'])\n",
    "axs[1].set_title(\"Log Return\")\n",
    "fig.suptitle(\"Problem 2\")\n",
    "plt.tight_layout()\n",
    "plt.show()"
   ]
  },
  {
   "cell_type": "markdown",
   "id": "ab2d42e1-c1c6-4f24-934f-9472672d4b57",
   "metadata": {},
   "source": [
    "- They are quite `similar` because they both are being calculated on `daily basis`.\n",
    "So we are not able to see the `compounding effect` that creates difference between them.\n",
    "Hence they will differ significantly when there is `significant change in price` between two days, or if we calculate the returns over `long periods`."
   ]
  },
  {
   "cell_type": "markdown",
   "id": "10b3cebc-8db6-4205-9cdf-27a3f14a0e72",
   "metadata": {},
   "source": [
    "- **Volatility Estimation**\n",
    "Compute rolling `14-day volatility` (standard deviation of daily returns). Plot it `along\n",
    "with price`"
   ]
  },
  {
   "cell_type": "code",
   "execution_count": 10,
   "id": "9d385b91-96d4-47c3-b52f-4deaf39239d8",
   "metadata": {},
   "outputs": [
    {
     "data": {
      "application/vnd.plotly.v1+json": {
       "config": {
        "plotlyServerURL": "https://plot.ly"
       },
       "data": [
        {
         "hovertemplate": "Date=%{x}<br>y=%{y}<extra></extra>",
         "legendgroup": "",
         "line": {
          "color": "#636efa",
          "dash": "solid"
         },
         "marker": {
          "symbol": "circle"
         },
         "mode": "lines",
         "name": "",
         "orientation": "v",
         "showlegend": false,
         "type": "scatter",
         "x": [
          "2024-04-30T00:00:00.000000000",
          "2024-05-02T00:00:00.000000000",
          "2024-05-03T00:00:00.000000000",
          "2024-05-06T00:00:00.000000000",
          "2024-05-07T00:00:00.000000000",
          "2024-05-08T00:00:00.000000000",
          "2024-05-09T00:00:00.000000000",
          "2024-05-10T00:00:00.000000000",
          "2024-05-13T00:00:00.000000000",
          "2024-05-14T00:00:00.000000000",
          "2024-05-15T00:00:00.000000000",
          "2024-05-16T00:00:00.000000000",
          "2024-05-17T00:00:00.000000000",
          "2024-05-21T00:00:00.000000000",
          "2024-05-22T00:00:00.000000000",
          "2024-05-23T00:00:00.000000000",
          "2024-05-24T00:00:00.000000000",
          "2024-05-27T00:00:00.000000000",
          "2024-05-28T00:00:00.000000000",
          "2024-05-29T00:00:00.000000000",
          "2024-05-30T00:00:00.000000000",
          "2024-05-31T00:00:00.000000000",
          "2024-06-03T00:00:00.000000000",
          "2024-06-04T00:00:00.000000000",
          "2024-06-05T00:00:00.000000000",
          "2024-06-06T00:00:00.000000000",
          "2024-06-07T00:00:00.000000000",
          "2024-06-10T00:00:00.000000000",
          "2024-06-11T00:00:00.000000000",
          "2024-06-12T00:00:00.000000000",
          "2024-06-13T00:00:00.000000000",
          "2024-06-14T00:00:00.000000000",
          "2024-06-18T00:00:00.000000000",
          "2024-06-19T00:00:00.000000000",
          "2024-06-20T00:00:00.000000000",
          "2024-06-21T00:00:00.000000000",
          "2024-06-24T00:00:00.000000000",
          "2024-06-25T00:00:00.000000000",
          "2024-06-26T00:00:00.000000000",
          "2024-06-27T00:00:00.000000000",
          "2024-06-28T00:00:00.000000000",
          "2024-07-01T00:00:00.000000000",
          "2024-07-02T00:00:00.000000000",
          "2024-07-03T00:00:00.000000000",
          "2024-07-04T00:00:00.000000000",
          "2024-07-05T00:00:00.000000000",
          "2024-07-08T00:00:00.000000000",
          "2024-07-09T00:00:00.000000000",
          "2024-07-10T00:00:00.000000000",
          "2024-07-11T00:00:00.000000000",
          "2024-07-12T00:00:00.000000000",
          "2024-07-15T00:00:00.000000000",
          "2024-07-16T00:00:00.000000000",
          "2024-07-18T00:00:00.000000000",
          "2024-07-19T00:00:00.000000000",
          "2024-07-22T00:00:00.000000000",
          "2024-07-23T00:00:00.000000000",
          "2024-07-24T00:00:00.000000000",
          "2024-07-25T00:00:00.000000000",
          "2024-07-26T00:00:00.000000000",
          "2024-07-29T00:00:00.000000000",
          "2024-07-30T00:00:00.000000000",
          "2024-07-31T00:00:00.000000000",
          "2024-08-01T00:00:00.000000000",
          "2024-08-02T00:00:00.000000000",
          "2024-08-05T00:00:00.000000000",
          "2024-08-06T00:00:00.000000000",
          "2024-08-07T00:00:00.000000000",
          "2024-08-08T00:00:00.000000000",
          "2024-08-09T00:00:00.000000000",
          "2024-08-12T00:00:00.000000000",
          "2024-08-13T00:00:00.000000000",
          "2024-08-14T00:00:00.000000000",
          "2024-08-16T00:00:00.000000000",
          "2024-08-19T00:00:00.000000000",
          "2024-08-20T00:00:00.000000000",
          "2024-08-21T00:00:00.000000000",
          "2024-08-22T00:00:00.000000000",
          "2024-08-23T00:00:00.000000000",
          "2024-08-26T00:00:00.000000000",
          "2024-08-27T00:00:00.000000000",
          "2024-08-28T00:00:00.000000000",
          "2024-08-29T00:00:00.000000000",
          "2024-08-30T00:00:00.000000000",
          "2024-09-02T00:00:00.000000000",
          "2024-09-03T00:00:00.000000000",
          "2024-09-04T00:00:00.000000000",
          "2024-09-05T00:00:00.000000000",
          "2024-09-06T00:00:00.000000000",
          "2024-09-09T00:00:00.000000000",
          "2024-09-10T00:00:00.000000000",
          "2024-09-11T00:00:00.000000000",
          "2024-09-12T00:00:00.000000000",
          "2024-09-13T00:00:00.000000000",
          "2024-09-16T00:00:00.000000000",
          "2024-09-17T00:00:00.000000000",
          "2024-09-18T00:00:00.000000000",
          "2024-09-19T00:00:00.000000000",
          "2024-09-20T00:00:00.000000000",
          "2024-09-23T00:00:00.000000000",
          "2024-09-24T00:00:00.000000000",
          "2024-09-25T00:00:00.000000000",
          "2024-09-26T00:00:00.000000000",
          "2024-09-27T00:00:00.000000000",
          "2024-09-30T00:00:00.000000000",
          "2024-10-01T00:00:00.000000000",
          "2024-10-03T00:00:00.000000000",
          "2024-10-04T00:00:00.000000000",
          "2024-10-07T00:00:00.000000000",
          "2024-10-08T00:00:00.000000000",
          "2024-10-09T00:00:00.000000000",
          "2024-10-10T00:00:00.000000000",
          "2024-10-11T00:00:00.000000000",
          "2024-10-14T00:00:00.000000000",
          "2024-10-15T00:00:00.000000000",
          "2024-10-16T00:00:00.000000000",
          "2024-10-17T00:00:00.000000000",
          "2024-10-18T00:00:00.000000000",
          "2024-10-21T00:00:00.000000000",
          "2024-10-22T00:00:00.000000000",
          "2024-10-23T00:00:00.000000000",
          "2024-10-24T00:00:00.000000000",
          "2024-10-25T00:00:00.000000000",
          "2024-10-28T00:00:00.000000000",
          "2024-10-29T00:00:00.000000000",
          "2024-10-30T00:00:00.000000000",
          "2024-10-31T00:00:00.000000000",
          "2024-11-01T00:00:00.000000000",
          "2024-11-04T00:00:00.000000000",
          "2024-11-05T00:00:00.000000000",
          "2024-11-06T00:00:00.000000000",
          "2024-11-07T00:00:00.000000000",
          "2024-11-08T00:00:00.000000000",
          "2024-11-11T00:00:00.000000000",
          "2024-11-12T00:00:00.000000000",
          "2024-11-13T00:00:00.000000000",
          "2024-11-14T00:00:00.000000000",
          "2024-11-18T00:00:00.000000000",
          "2024-11-19T00:00:00.000000000",
          "2024-11-21T00:00:00.000000000",
          "2024-11-22T00:00:00.000000000",
          "2024-11-25T00:00:00.000000000",
          "2024-11-26T00:00:00.000000000",
          "2024-11-27T00:00:00.000000000",
          "2024-11-28T00:00:00.000000000",
          "2024-11-29T00:00:00.000000000",
          "2024-12-02T00:00:00.000000000",
          "2024-12-03T00:00:00.000000000",
          "2024-12-04T00:00:00.000000000",
          "2024-12-05T00:00:00.000000000",
          "2024-12-06T00:00:00.000000000",
          "2024-12-09T00:00:00.000000000",
          "2024-12-10T00:00:00.000000000",
          "2024-12-11T00:00:00.000000000",
          "2024-12-12T00:00:00.000000000",
          "2024-12-13T00:00:00.000000000",
          "2024-12-16T00:00:00.000000000",
          "2024-12-17T00:00:00.000000000",
          "2024-12-18T00:00:00.000000000",
          "2024-12-19T00:00:00.000000000",
          "2024-12-20T00:00:00.000000000",
          "2024-12-23T00:00:00.000000000",
          "2024-12-24T00:00:00.000000000",
          "2024-12-26T00:00:00.000000000",
          "2024-12-27T00:00:00.000000000",
          "2024-12-30T00:00:00.000000000",
          "2024-12-31T00:00:00.000000000",
          "2025-01-01T00:00:00.000000000",
          "2025-01-02T00:00:00.000000000",
          "2025-01-03T00:00:00.000000000",
          "2025-01-06T00:00:00.000000000",
          "2025-01-07T00:00:00.000000000",
          "2025-01-08T00:00:00.000000000",
          "2025-01-09T00:00:00.000000000",
          "2025-01-10T00:00:00.000000000",
          "2025-01-13T00:00:00.000000000",
          "2025-01-14T00:00:00.000000000",
          "2025-01-15T00:00:00.000000000",
          "2025-01-16T00:00:00.000000000",
          "2025-01-17T00:00:00.000000000",
          "2025-01-20T00:00:00.000000000",
          "2025-01-21T00:00:00.000000000",
          "2025-01-22T00:00:00.000000000",
          "2025-01-23T00:00:00.000000000",
          "2025-01-24T00:00:00.000000000",
          "2025-01-27T00:00:00.000000000",
          "2025-01-28T00:00:00.000000000",
          "2025-01-29T00:00:00.000000000",
          "2025-01-30T00:00:00.000000000",
          "2025-01-31T00:00:00.000000000",
          "2025-02-01T00:00:00.000000000",
          "2025-02-03T00:00:00.000000000",
          "2025-02-04T00:00:00.000000000",
          "2025-02-05T00:00:00.000000000",
          "2025-02-06T00:00:00.000000000",
          "2025-02-07T00:00:00.000000000",
          "2025-02-10T00:00:00.000000000",
          "2025-02-11T00:00:00.000000000",
          "2025-02-12T00:00:00.000000000",
          "2025-02-13T00:00:00.000000000",
          "2025-02-14T00:00:00.000000000",
          "2025-02-17T00:00:00.000000000",
          "2025-02-18T00:00:00.000000000",
          "2025-02-19T00:00:00.000000000",
          "2025-02-20T00:00:00.000000000",
          "2025-02-21T00:00:00.000000000",
          "2025-02-24T00:00:00.000000000",
          "2025-02-25T00:00:00.000000000",
          "2025-02-27T00:00:00.000000000",
          "2025-02-28T00:00:00.000000000",
          "2025-03-03T00:00:00.000000000",
          "2025-03-04T00:00:00.000000000",
          "2025-03-05T00:00:00.000000000",
          "2025-03-06T00:00:00.000000000",
          "2025-03-07T00:00:00.000000000",
          "2025-03-10T00:00:00.000000000",
          "2025-03-11T00:00:00.000000000",
          "2025-03-12T00:00:00.000000000",
          "2025-03-13T00:00:00.000000000",
          "2025-03-17T00:00:00.000000000",
          "2025-03-18T00:00:00.000000000",
          "2025-03-19T00:00:00.000000000",
          "2025-03-20T00:00:00.000000000",
          "2025-03-21T00:00:00.000000000",
          "2025-03-24T00:00:00.000000000",
          "2025-03-25T00:00:00.000000000",
          "2025-03-26T00:00:00.000000000",
          "2025-03-27T00:00:00.000000000",
          "2025-03-28T00:00:00.000000000",
          "2025-04-01T00:00:00.000000000",
          "2025-04-02T00:00:00.000000000",
          "2025-04-03T00:00:00.000000000",
          "2025-04-04T00:00:00.000000000",
          "2025-04-07T00:00:00.000000000",
          "2025-04-08T00:00:00.000000000",
          "2025-04-09T00:00:00.000000000",
          "2025-04-11T00:00:00.000000000",
          "2025-04-15T00:00:00.000000000",
          "2025-04-16T00:00:00.000000000",
          "2025-04-17T00:00:00.000000000",
          "2025-04-21T00:00:00.000000000",
          "2025-04-22T00:00:00.000000000",
          "2025-04-23T00:00:00.000000000",
          "2025-04-24T00:00:00.000000000",
          "2025-04-25T00:00:00.000000000",
          "2025-04-28T00:00:00.000000000",
          "2025-04-29T00:00:00.000000000"
         ],
         "xaxis": "x",
         "y": {
          "bdata": "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",
          "dtype": "f8"
         },
         "yaxis": "y"
        }
       ],
       "layout": {
        "legend": {
         "tracegroupgap": 0
        },
        "margin": {
         "t": 60
        },
        "template": {
         "data": {
          "bar": [
           {
            "error_x": {
             "color": "#2a3f5f"
            },
            "error_y": {
             "color": "#2a3f5f"
            },
            "marker": {
             "line": {
              "color": "#E5ECF6",
              "width": 0.5
             },
             "pattern": {
              "fillmode": "overlay",
              "size": 10,
              "solidity": 0.2
             }
            },
            "type": "bar"
           }
          ],
          "barpolar": [
           {
            "marker": {
             "line": {
              "color": "#E5ECF6",
              "width": 0.5
             },
             "pattern": {
              "fillmode": "overlay",
              "size": 10,
              "solidity": 0.2
             }
            },
            "type": "barpolar"
           }
          ],
          "carpet": [
           {
            "aaxis": {
             "endlinecolor": "#2a3f5f",
             "gridcolor": "white",
             "linecolor": "white",
             "minorgridcolor": "white",
             "startlinecolor": "#2a3f5f"
            },
            "baxis": {
             "endlinecolor": "#2a3f5f",
             "gridcolor": "white",
             "linecolor": "white",
             "minorgridcolor": "white",
             "startlinecolor": "#2a3f5f"
            },
            "type": "carpet"
           }
          ],
          "choropleth": [
           {
            "colorbar": {
             "outlinewidth": 0,
             "ticks": ""
            },
            "type": "choropleth"
           }
          ],
          "contour": [
           {
            "colorbar": {
             "outlinewidth": 0,
             "ticks": ""
            },
            "colorscale": [
             [
              0,
              "#0d0887"
             ],
             [
              0.1111111111111111,
              "#46039f"
             ],
             [
              0.2222222222222222,
              "#7201a8"
             ],
             [
              0.3333333333333333,
              "#9c179e"
             ],
             [
              0.4444444444444444,
              "#bd3786"
             ],
             [
              0.5555555555555556,
              "#d8576b"
             ],
             [
              0.6666666666666666,
              "#ed7953"
             ],
             [
              0.7777777777777778,
              "#fb9f3a"
             ],
             [
              0.8888888888888888,
              "#fdca26"
             ],
             [
              1,
              "#f0f921"
             ]
            ],
            "type": "contour"
           }
          ],
          "contourcarpet": [
           {
            "colorbar": {
             "outlinewidth": 0,
             "ticks": ""
            },
            "type": "contourcarpet"
           }
          ],
          "heatmap": [
           {
            "colorbar": {
             "outlinewidth": 0,
             "ticks": ""
            },
            "colorscale": [
             [
              0,
              "#0d0887"
             ],
             [
              0.1111111111111111,
              "#46039f"
             ],
             [
              0.2222222222222222,
              "#7201a8"
             ],
             [
              0.3333333333333333,
              "#9c179e"
             ],
             [
              0.4444444444444444,
              "#bd3786"
             ],
             [
              0.5555555555555556,
              "#d8576b"
             ],
             [
              0.6666666666666666,
              "#ed7953"
             ],
             [
              0.7777777777777778,
              "#fb9f3a"
             ],
             [
              0.8888888888888888,
              "#fdca26"
             ],
             [
              1,
              "#f0f921"
             ]
            ],
            "type": "heatmap"
           }
          ],
          "histogram": [
           {
            "marker": {
             "pattern": {
              "fillmode": "overlay",
              "size": 10,
              "solidity": 0.2
             }
            },
            "type": "histogram"
           }
          ],
          "histogram2d": [
           {
            "colorbar": {
             "outlinewidth": 0,
             "ticks": ""
            },
            "colorscale": [
             [
              0,
              "#0d0887"
             ],
             [
              0.1111111111111111,
              "#46039f"
             ],
             [
              0.2222222222222222,
              "#7201a8"
             ],
             [
              0.3333333333333333,
              "#9c179e"
             ],
             [
              0.4444444444444444,
              "#bd3786"
             ],
             [
              0.5555555555555556,
              "#d8576b"
             ],
             [
              0.6666666666666666,
              "#ed7953"
             ],
             [
              0.7777777777777778,
              "#fb9f3a"
             ],
             [
              0.8888888888888888,
              "#fdca26"
             ],
             [
              1,
              "#f0f921"
             ]
            ],
            "type": "histogram2d"
           }
          ],
          "histogram2dcontour": [
           {
            "colorbar": {
             "outlinewidth": 0,
             "ticks": ""
            },
            "colorscale": [
             [
              0,
              "#0d0887"
             ],
             [
              0.1111111111111111,
              "#46039f"
             ],
             [
              0.2222222222222222,
              "#7201a8"
             ],
             [
              0.3333333333333333,
              "#9c179e"
             ],
             [
              0.4444444444444444,
              "#bd3786"
             ],
             [
              0.5555555555555556,
              "#d8576b"
             ],
             [
              0.6666666666666666,
              "#ed7953"
             ],
             [
              0.7777777777777778,
              "#fb9f3a"
             ],
             [
              0.8888888888888888,
              "#fdca26"
             ],
             [
              1,
              "#f0f921"
             ]
            ],
            "type": "histogram2dcontour"
           }
          ],
          "mesh3d": [
           {
            "colorbar": {
             "outlinewidth": 0,
             "ticks": ""
            },
            "type": "mesh3d"
           }
          ],
          "parcoords": [
           {
            "line": {
             "colorbar": {
              "outlinewidth": 0,
              "ticks": ""
             }
            },
            "type": "parcoords"
           }
          ],
          "pie": [
           {
            "automargin": true,
            "type": "pie"
           }
          ],
          "scatter": [
           {
            "fillpattern": {
             "fillmode": "overlay",
             "size": 10,
             "solidity": 0.2
            },
            "type": "scatter"
           }
          ],
          "scatter3d": [
           {
            "line": {
             "colorbar": {
              "outlinewidth": 0,
              "ticks": ""
             }
            },
            "marker": {
             "colorbar": {
              "outlinewidth": 0,
              "ticks": ""
             }
            },
            "type": "scatter3d"
           }
          ],
          "scattercarpet": [
           {
            "marker": {
             "colorbar": {
              "outlinewidth": 0,
              "ticks": ""
             }
            },
            "type": "scattercarpet"
           }
          ],
          "scattergeo": [
           {
            "marker": {
             "colorbar": {
              "outlinewidth": 0,
              "ticks": ""
             }
            },
            "type": "scattergeo"
           }
          ],
          "scattergl": [
           {
            "marker": {
             "colorbar": {
              "outlinewidth": 0,
              "ticks": ""
             }
            },
            "type": "scattergl"
           }
          ],
          "scattermap": [
           {
            "marker": {
             "colorbar": {
              "outlinewidth": 0,
              "ticks": ""
             }
            },
            "type": "scattermap"
           }
          ],
          "scattermapbox": [
           {
            "marker": {
             "colorbar": {
              "outlinewidth": 0,
              "ticks": ""
             }
            },
            "type": "scattermapbox"
           }
          ],
          "scatterpolar": [
           {
            "marker": {
             "colorbar": {
              "outlinewidth": 0,
              "ticks": ""
             }
            },
            "type": "scatterpolar"
           }
          ],
          "scatterpolargl": [
           {
            "marker": {
             "colorbar": {
              "outlinewidth": 0,
              "ticks": ""
             }
            },
            "type": "scatterpolargl"
           }
          ],
          "scatterternary": [
           {
            "marker": {
             "colorbar": {
              "outlinewidth": 0,
              "ticks": ""
             }
            },
            "type": "scatterternary"
           }
          ],
          "surface": [
           {
            "colorbar": {
             "outlinewidth": 0,
             "ticks": ""
            },
            "colorscale": [
             [
              0,
              "#0d0887"
             ],
             [
              0.1111111111111111,
              "#46039f"
             ],
             [
              0.2222222222222222,
              "#7201a8"
             ],
             [
              0.3333333333333333,
              "#9c179e"
             ],
             [
              0.4444444444444444,
              "#bd3786"
             ],
             [
              0.5555555555555556,
              "#d8576b"
             ],
             [
              0.6666666666666666,
              "#ed7953"
             ],
             [
              0.7777777777777778,
              "#fb9f3a"
             ],
             [
              0.8888888888888888,
              "#fdca26"
             ],
             [
              1,
              "#f0f921"
             ]
            ],
            "type": "surface"
           }
          ],
          "table": [
           {
            "cells": {
             "fill": {
              "color": "#EBF0F8"
             },
             "line": {
              "color": "white"
             }
            },
            "header": {
             "fill": {
              "color": "#C8D4E3"
             },
             "line": {
              "color": "white"
             }
            },
            "type": "table"
           }
          ]
         },
         "layout": {
          "annotationdefaults": {
           "arrowcolor": "#2a3f5f",
           "arrowhead": 0,
           "arrowwidth": 1
          },
          "autotypenumbers": "strict",
          "coloraxis": {
           "colorbar": {
            "outlinewidth": 0,
            "ticks": ""
           }
          },
          "colorscale": {
           "diverging": [
            [
             0,
             "#8e0152"
            ],
            [
             0.1,
             "#c51b7d"
            ],
            [
             0.2,
             "#de77ae"
            ],
            [
             0.3,
             "#f1b6da"
            ],
            [
             0.4,
             "#fde0ef"
            ],
            [
             0.5,
             "#f7f7f7"
            ],
            [
             0.6,
             "#e6f5d0"
            ],
            [
             0.7,
             "#b8e186"
            ],
            [
             0.8,
             "#7fbc41"
            ],
            [
             0.9,
             "#4d9221"
            ],
            [
             1,
             "#276419"
            ]
           ],
           "sequential": [
            [
             0,
             "#0d0887"
            ],
            [
             0.1111111111111111,
             "#46039f"
            ],
            [
             0.2222222222222222,
             "#7201a8"
            ],
            [
             0.3333333333333333,
             "#9c179e"
            ],
            [
             0.4444444444444444,
             "#bd3786"
            ],
            [
             0.5555555555555556,
             "#d8576b"
            ],
            [
             0.6666666666666666,
             "#ed7953"
            ],
            [
             0.7777777777777778,
             "#fb9f3a"
            ],
            [
             0.8888888888888888,
             "#fdca26"
            ],
            [
             1,
             "#f0f921"
            ]
           ],
           "sequentialminus": [
            [
             0,
             "#0d0887"
            ],
            [
             0.1111111111111111,
             "#46039f"
            ],
            [
             0.2222222222222222,
             "#7201a8"
            ],
            [
             0.3333333333333333,
             "#9c179e"
            ],
            [
             0.4444444444444444,
             "#bd3786"
            ],
            [
             0.5555555555555556,
             "#d8576b"
            ],
            [
             0.6666666666666666,
             "#ed7953"
            ],
            [
             0.7777777777777778,
             "#fb9f3a"
            ],
            [
             0.8888888888888888,
             "#fdca26"
            ],
            [
             1,
             "#f0f921"
            ]
           ]
          },
          "colorway": [
           "#636efa",
           "#EF553B",
           "#00cc96",
           "#ab63fa",
           "#FFA15A",
           "#19d3f3",
           "#FF6692",
           "#B6E880",
           "#FF97FF",
           "#FECB52"
          ],
          "font": {
           "color": "#2a3f5f"
          },
          "geo": {
           "bgcolor": "white",
           "lakecolor": "white",
           "landcolor": "#E5ECF6",
           "showlakes": true,
           "showland": true,
           "subunitcolor": "white"
          },
          "hoverlabel": {
           "align": "left"
          },
          "hovermode": "closest",
          "mapbox": {
           "style": "light"
          },
          "paper_bgcolor": "white",
          "plot_bgcolor": "#E5ECF6",
          "polar": {
           "angularaxis": {
            "gridcolor": "white",
            "linecolor": "white",
            "ticks": ""
           },
           "bgcolor": "#E5ECF6",
           "radialaxis": {
            "gridcolor": "white",
            "linecolor": "white",
            "ticks": ""
           }
          },
          "scene": {
           "xaxis": {
            "backgroundcolor": "#E5ECF6",
            "gridcolor": "white",
            "gridwidth": 2,
            "linecolor": "white",
            "showbackground": true,
            "ticks": "",
            "zerolinecolor": "white"
           },
           "yaxis": {
            "backgroundcolor": "#E5ECF6",
            "gridcolor": "white",
            "gridwidth": 2,
            "linecolor": "white",
            "showbackground": true,
            "ticks": "",
            "zerolinecolor": "white"
           },
           "zaxis": {
            "backgroundcolor": "#E5ECF6",
            "gridcolor": "white",
            "gridwidth": 2,
            "linecolor": "white",
            "showbackground": true,
            "ticks": "",
            "zerolinecolor": "white"
           }
          },
          "shapedefaults": {
           "line": {
            "color": "#2a3f5f"
           }
          },
          "ternary": {
           "aaxis": {
            "gridcolor": "white",
            "linecolor": "white",
            "ticks": ""
           },
           "baxis": {
            "gridcolor": "white",
            "linecolor": "white",
            "ticks": ""
           },
           "bgcolor": "#E5ECF6",
           "caxis": {
            "gridcolor": "white",
            "linecolor": "white",
            "ticks": ""
           }
          },
          "title": {
           "x": 0.05
          },
          "xaxis": {
           "automargin": true,
           "gridcolor": "white",
           "linecolor": "white",
           "ticks": "",
           "title": {
            "standoff": 15
           },
           "zerolinecolor": "white",
           "zerolinewidth": 2
          },
          "yaxis": {
           "automargin": true,
           "gridcolor": "white",
           "linecolor": "white",
           "ticks": "",
           "title": {
            "standoff": 15
           },
           "zerolinecolor": "white",
           "zerolinewidth": 2
          }
         }
        },
        "title": {
         "text": "Rolling 14-Day Standard Deviation"
        },
        "xaxis": {
         "anchor": "y",
         "domain": [
          0,
          1
         ],
         "title": {
          "text": "Date"
         }
        },
        "yaxis": {
         "anchor": "x",
         "domain": [
          0,
          1
         ],
         "title": {
          "text": "Standard Deviation"
         }
        }
       }
      },
      "image/png": "[encoded data removed]"
     },
     "metadata": {},
     "output_type": "display_data"
    },
    {
     "data": {
      "application/vnd.plotly.v1+json": {
       "config": {
        "plotlyServerURL": "https://plot.ly"
       },
       "data": [
        {
         "close": {
          "bdata": "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",
          "dtype": "f8"
         },
         "high": {
          "bdata": "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",
          "dtype": "f8"
         },
         "low": {
          "bdata": "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",
          "dtype": "f8"
         },
         "open": {
          "bdata": "Mgwyw6c2r0CFmsSHzn2uQDfjA4Aakq5AMNYg6+xxrkCbk2qKN4OtQJPXgTiMpKxAG+GBylIirkCmHWMBb9utQMuAdDsg+q1AdOCQKVzIrkAP1Q05KMKvQE2D8CcyTbBAGz86teH2sUCWevjB416yQL6UC3ZLmrJAmADUOvces0DU0fry5ySzQF7VfksAFbRAk/mHGQjgs0Cmx58EaVazQE9F00fYk7NAR1xBMzZqs0B/N427AQ61QFnKl9j45bNAfzpWDk0ZsUDpNaBy3TWxQL/CfM9dDLJAhDzg3mSQskDw1jy/Iq+yQHaR/udh4bJAAA52WgEbs0AAWTGcBeGzQO78M3zyHbVAm9NzbKiUtUDYQ5CAU4q0QMv0ygHzfbRAADuCa7n+s0AfO33esMm0QHZ4mYxQwrRAZdHAJMhctECtYPDEcX60QNLDbna7YbRAJc1hcXHitEDBfZuZuMG0QHcVffCyLLVANtXNiRpotUCPePFiqJS1QMeu60D5zrVAC+a6hpGJtUCGmVd7c0W1QMtdP7nBirVAlq7iP4BAtUBPujCGuj21QDJAR9AvmLRA5d9nkU9gs0DYEKlzJZCyQJeAN8L2grNA0u8WKdnGskBt55STl3yyQDyuPMnlwbJAZO6a3rwhs0DBL69+3YezQAIhmwyFKLNAbq1tAi8Js0Dn9Tom/VSyQMdDnINoaLFA7Z+KHl7LsUDZu75wUcuxQFRF8Bv4VrJASOYmXJ9bskAmFt4MfCOyQIr0QM7oXLJA2zXIMSMyskC+Lt5CMnKyQO85zm5LmrJA4JQzX2yNskAAN9AxH0SyQCOr/v3nYbJAJqhToGykskCpcZZ9Hc+yQJIEjbGCmLJADAOgdgVSskCIQ+s7exKyQNIAPfDP5LFARPfBfjM5skD9c5r5PRezQD1f5qYmyrJAnIKOvPbjskClm10WlY6yQF00OjVhLrJALJtycVYmskAHe+jtaByyQJMhRmXO3rFAsbJ++H4QskAnD4Z4hA2yQL7nmKrr1bFAadJK/OlFsUB5mgqWGTOxQNWUcWWGZ7BA2vT1PpHysEAIILZhBzaxQLVEGGxNELFAxb1cAl4HsUDVyk1EdwexQMgO2YrrS7FA9c9pgCYssUAnDZerstmwQAIDz9RbhbBAgpLIZQiCsEBpwjbuEyKwQNgmLMNzArFAfd0owl0OsUDdyAyfu2WxQDc1l/TMhbFA/80QxXWLsUBwPQrXxumxQEhYcQBnHbJAQSRCREdtsUCD4miHLpaxQGqvCzOVc7FADq14RzObsEDQI18vy2uwQDoPSEjKSbBAJN5AQcpJsEBNd7BfJhiwQPsIo/5FirBATv7kE4htsEAy0VqDFo+wQAONaJ4bobBAhbR1UspJsECpRhpRPpWwQGnuUp9SFLFAHHgMRaUzsUB1oC3lagCxQIo8L870RrFAva1xdqVdsEAaxZSWTqWvQNKEnxXQP7BAFYM08gTNr0AXCTq9UJavQJIc4aeS9q5A0GZs8jaZsECsrzzwzLawQMmBBUaG+LBA4sWt9aFzsUB9B1Ve7UqxQDnsz+fPWrFABHH0IX2HsUBMoPqnuNyxQMS8jj9Ym7FAusRB7WzHsUBoifSUMbCxQFg1EAq48bFA+OKQT0nvsUApkw2tjQiyQLfzskJNcLJAkRmcv1kyskCA/efLXSKyQGijbTsj77FAbPKSU84PsUBGwS2udQGxQICd7G+CcLBA8tFUDmWAsEBz/s+AjWqwQHg5UKGAcbBAkjg2eIJwsEBw2oQ0ZKevQPwFN75LNLBAF7FXH+81sEB+1tKkgHGwQBQ4ejGpW7BA9r0Z/+Hfr0Br6u+u/yywQDVGj0LG7q9A4XA4XBfDr0DP1zp15T+uQHS17j1Dg61A5/S3aHXkrUChkdEgOhKuQPgUpTZog65A78O6zsQHsEDVpnfrt1OwQKIiEu9Voa9AWZAVF79GrkAQK4kRUo+uQGoccJowm61A2v8RKdKCrEDgURlE8BGsQLUQD+tp5KxAhxBP0nmBrUArlv9S3M6uQMD9B1J82qxAcW06NTbsq0AR9xSb1jOtQJm5AEnntK1AIl1MFWhvrUAD7/drE52tQBz66clrba1ASacyBcA5rEBFONzz/gmsQP2PDgrGsqxA69oOBc8Pq0AAAABgZierQAAAAAAAzqlAAAAAAAA2qkAAAACgmaCqQAAAAAAALKpAAAAAAAAtqkAAAAAAAMipQAAAAAAABKlAAAAAAAAwqEAAAAAAALSoQAAAAAAA4qlAAAAAAAAgq0AAAADATLWqQAAAAKAZ+KpAAAAAwEx9qkAAAAAAAByrQAAAAAAA1qpAAAAAAACQqkAAAADAzN+qQAAAAAAAIKxAAAAAAACarUAAAAAAABKuQAAAAAAA4q5AAAAAYGZosEAAAAAAAIavQAAAAAAANrBAAAAAoBlmsEAAAAAAADCxQAAAAAAAj7BAAAAAwIxksEAAAADAjNWwQAAAAAAA2q1AAAAAoJkKsEAAAAAAAIqvQAAAAAAA1q9AAAAAAACasEAAAAAAAHewQAAAAAAAcbBAAAAAAACYsEAAAAAAAOiwQAAAAGDm0LBAAAAAAADTsEAAAAAAANGwQAAAAGDmcbBAAAAAAAB5sUA=",
          "dtype": "f8"
         },
         "type": "candlestick",
         "x": [
          "2024-04-30T00:00:00.000000000",
          "2024-05-02T00:00:00.000000000",
          "2024-05-03T00:00:00.000000000",
          "2024-05-06T00:00:00.000000000",
          "2024-05-07T00:00:00.000000000",
          "2024-05-08T00:00:00.000000000",
          "2024-05-09T00:00:00.000000000",
          "2024-05-10T00:00:00.000000000",
          "2024-05-13T00:00:00.000000000",
          "2024-05-14T00:00:00.000000000",
          "2024-05-15T00:00:00.000000000",
          "2024-05-16T00:00:00.000000000",
          "2024-05-17T00:00:00.000000000",
          "2024-05-21T00:00:00.000000000",
          "2024-05-22T00:00:00.000000000",
          "2024-05-23T00:00:00.000000000",
          "2024-05-24T00:00:00.000000000",
          "2024-05-27T00:00:00.000000000",
          "2024-05-28T00:00:00.000000000",
          "2024-05-29T00:00:00.000000000",
          "2024-05-30T00:00:00.000000000",
          "2024-05-31T00:00:00.000000000",
          "2024-06-03T00:00:00.000000000",
          "2024-06-04T00:00:00.000000000",
          "2024-06-05T00:00:00.000000000",
          "2024-06-06T00:00:00.000000000",
          "2024-06-07T00:00:00.000000000",
          "2024-06-10T00:00:00.000000000",
          "2024-06-11T00:00:00.000000000",
          "2024-06-12T00:00:00.000000000",
          "2024-06-13T00:00:00.000000000",
          "2024-06-14T00:00:00.000000000",
          "2024-06-18T00:00:00.000000000",
          "2024-06-19T00:00:00.000000000",
          "2024-06-20T00:00:00.000000000",
          "2024-06-21T00:00:00.000000000",
          "2024-06-24T00:00:00.000000000",
          "2024-06-25T00:00:00.000000000",
          "2024-06-26T00:00:00.000000000",
          "2024-06-27T00:00:00.000000000",
          "2024-06-28T00:00:00.000000000",
          "2024-07-01T00:00:00.000000000",
          "2024-07-02T00:00:00.000000000",
          "2024-07-03T00:00:00.000000000",
          "2024-07-04T00:00:00.000000000",
          "2024-07-05T00:00:00.000000000",
          "2024-07-08T00:00:00.000000000",
          "2024-07-09T00:00:00.000000000",
          "2024-07-10T00:00:00.000000000",
          "2024-07-11T00:00:00.000000000",
          "2024-07-12T00:00:00.000000000",
          "2024-07-15T00:00:00.000000000",
          "2024-07-16T00:00:00.000000000",
          "2024-07-18T00:00:00.000000000",
          "2024-07-19T00:00:00.000000000",
          "2024-07-22T00:00:00.000000000",
          "2024-07-23T00:00:00.000000000",
          "2024-07-24T00:00:00.000000000",
          "2024-07-25T00:00:00.000000000",
          "2024-07-26T00:00:00.000000000",
          "2024-07-29T00:00:00.000000000",
          "2024-07-30T00:00:00.000000000",
          "2024-07-31T00:00:00.000000000",
          "2024-08-01T00:00:00.000000000",
          "2024-08-02T00:00:00.000000000",
          "2024-08-05T00:00:00.000000000",
          "2024-08-06T00:00:00.000000000",
          "2024-08-07T00:00:00.000000000",
          "2024-08-08T00:00:00.000000000",
          "2024-08-09T00:00:00.000000000",
          "2024-08-12T00:00:00.000000000",
          "2024-08-13T00:00:00.000000000",
          "2024-08-14T00:00:00.000000000",
          "2024-08-16T00:00:00.000000000",
          "2024-08-19T00:00:00.000000000",
          "2024-08-20T00:00:00.000000000",
          "2024-08-21T00:00:00.000000000",
          "2024-08-22T00:00:00.000000000",
          "2024-08-23T00:00:00.000000000",
          "2024-08-26T00:00:00.000000000",
          "2024-08-27T00:00:00.000000000",
          "2024-08-28T00:00:00.000000000",
          "2024-08-29T00:00:00.000000000",
          "2024-08-30T00:00:00.000000000",
          "2024-09-02T00:00:00.000000000",
          "2024-09-03T00:00:00.000000000",
          "2024-09-04T00:00:00.000000000",
          "2024-09-05T00:00:00.000000000",
          "2024-09-06T00:00:00.000000000",
          "2024-09-09T00:00:00.000000000",
          "2024-09-10T00:00:00.000000000",
          "2024-09-11T00:00:00.000000000",
          "2024-09-12T00:00:00.000000000",
          "2024-09-13T00:00:00.000000000",
          "2024-09-16T00:00:00.000000000",
          "2024-09-17T00:00:00.000000000",
          "2024-09-18T00:00:00.000000000",
          "2024-09-19T00:00:00.000000000",
          "2024-09-20T00:00:00.000000000",
          "2024-09-23T00:00:00.000000000",
          "2024-09-24T00:00:00.000000000",
          "2024-09-25T00:00:00.000000000",
          "2024-09-26T00:00:00.000000000",
          "2024-09-27T00:00:00.000000000",
          "2024-09-30T00:00:00.000000000",
          "2024-10-01T00:00:00.000000000",
          "2024-10-03T00:00:00.000000000",
          "2024-10-04T00:00:00.000000000",
          "2024-10-07T00:00:00.000000000",
          "2024-10-08T00:00:00.000000000",
          "2024-10-09T00:00:00.000000000",
          "2024-10-10T00:00:00.000000000",
          "2024-10-11T00:00:00.000000000",
          "2024-10-14T00:00:00.000000000",
          "2024-10-15T00:00:00.000000000",
          "2024-10-16T00:00:00.000000000",
          "2024-10-17T00:00:00.000000000",
          "2024-10-18T00:00:00.000000000",
          "2024-10-21T00:00:00.000000000",
          "2024-10-22T00:00:00.000000000",
          "2024-10-23T00:00:00.000000000",
          "2024-10-24T00:00:00.000000000",
          "2024-10-25T00:00:00.000000000",
          "2024-10-28T00:00:00.000000000",
          "2024-10-29T00:00:00.000000000",
          "2024-10-30T00:00:00.000000000",
          "2024-10-31T00:00:00.000000000",
          "2024-11-01T00:00:00.000000000",
          "2024-11-04T00:00:00.000000000",
          "2024-11-05T00:00:00.000000000",
          "2024-11-06T00:00:00.000000000",
          "2024-11-07T00:00:00.000000000",
          "2024-11-08T00:00:00.000000000",
          "2024-11-11T00:00:00.000000000",
          "2024-11-12T00:00:00.000000000",
          "2024-11-13T00:00:00.000000000",
          "2024-11-14T00:00:00.000000000",
          "2024-11-18T00:00:00.000000000",
          "2024-11-19T00:00:00.000000000",
          "2024-11-21T00:00:00.000000000",
          "2024-11-22T00:00:00.000000000",
          "2024-11-25T00:00:00.000000000",
          "2024-11-26T00:00:00.000000000",
          "2024-11-27T00:00:00.000000000",
          "2024-11-28T00:00:00.000000000",
          "2024-11-29T00:00:00.000000000",
          "2024-12-02T00:00:00.000000000",
          "2024-12-03T00:00:00.000000000",
          "2024-12-04T00:00:00.000000000",
          "2024-12-05T00:00:00.000000000",
          "2024-12-06T00:00:00.000000000",
          "2024-12-09T00:00:00.000000000",
          "2024-12-10T00:00:00.000000000",
          "2024-12-11T00:00:00.000000000",
          "2024-12-12T00:00:00.000000000",
          "2024-12-13T00:00:00.000000000",
          "2024-12-16T00:00:00.000000000",
          "2024-12-17T00:00:00.000000000",
          "2024-12-18T00:00:00.000000000",
          "2024-12-19T00:00:00.000000000",
          "2024-12-20T00:00:00.000000000",
          "2024-12-23T00:00:00.000000000",
          "2024-12-24T00:00:00.000000000",
          "2024-12-26T00:00:00.000000000",
          "2024-12-27T00:00:00.000000000",
          "2024-12-30T00:00:00.000000000",
          "2024-12-31T00:00:00.000000000",
          "2025-01-01T00:00:00.000000000",
          "2025-01-02T00:00:00.000000000",
          "2025-01-03T00:00:00.000000000",
          "2025-01-06T00:00:00.000000000",
          "2025-01-07T00:00:00.000000000",
          "2025-01-08T00:00:00.000000000",
          "2025-01-09T00:00:00.000000000",
          "2025-01-10T00:00:00.000000000",
          "2025-01-13T00:00:00.000000000",
          "2025-01-14T00:00:00.000000000",
          "2025-01-15T00:00:00.000000000",
          "2025-01-16T00:00:00.000000000",
          "2025-01-17T00:00:00.000000000",
          "2025-01-20T00:00:00.000000000",
          "2025-01-21T00:00:00.000000000",
          "2025-01-22T00:00:00.000000000",
          "2025-01-23T00:00:00.000000000",
          "2025-01-24T00:00:00.000000000",
          "2025-01-27T00:00:00.000000000",
          "2025-01-28T00:00:00.000000000",
          "2025-01-29T00:00:00.000000000",
          "2025-01-30T00:00:00.000000000",
          "2025-01-31T00:00:00.000000000",
          "2025-02-01T00:00:00.000000000",
          "2025-02-03T00:00:00.000000000",
          "2025-02-04T00:00:00.000000000",
          "2025-02-05T00:00:00.000000000",
          "2025-02-06T00:00:00.000000000",
          "2025-02-07T00:00:00.000000000",
          "2025-02-10T00:00:00.000000000",
          "2025-02-11T00:00:00.000000000",
          "2025-02-12T00:00:00.000000000",
          "2025-02-13T00:00:00.000000000",
          "2025-02-14T00:00:00.000000000",
          "2025-02-17T00:00:00.000000000",
          "2025-02-18T00:00:00.000000000",
          "2025-02-19T00:00:00.000000000",
          "2025-02-20T00:00:00.000000000",
          "2025-02-21T00:00:00.000000000",
          "2025-02-24T00:00:00.000000000",
          "2025-02-25T00:00:00.000000000",
          "2025-02-27T00:00:00.000000000",
          "2025-02-28T00:00:00.000000000",
          "2025-03-03T00:00:00.000000000",
          "2025-03-04T00:00:00.000000000",
          "2025-03-05T00:00:00.000000000",
          "2025-03-06T00:00:00.000000000",
          "2025-03-07T00:00:00.000000000",
          "2025-03-10T00:00:00.000000000",
          "2025-03-11T00:00:00.000000000",
          "2025-03-12T00:00:00.000000000",
          "2025-03-13T00:00:00.000000000",
          "2025-03-17T00:00:00.000000000",
          "2025-03-18T00:00:00.000000000",
          "2025-03-19T00:00:00.000000000",
          "2025-03-20T00:00:00.000000000",
          "2025-03-21T00:00:00.000000000",
          "2025-03-24T00:00:00.000000000",
          "2025-03-25T00:00:00.000000000",
          "2025-03-26T00:00:00.000000000",
          "2025-03-27T00:00:00.000000000",
          "2025-03-28T00:00:00.000000000",
          "2025-04-01T00:00:00.000000000",
          "2025-04-02T00:00:00.000000000",
          "2025-04-03T00:00:00.000000000",
          "2025-04-04T00:00:00.000000000",
          "2025-04-07T00:00:00.000000000",
          "2025-04-08T00:00:00.000000000",
          "2025-04-09T00:00:00.000000000",
          "2025-04-11T00:00:00.000000000",
          "2025-04-15T00:00:00.000000000",
          "2025-04-16T00:00:00.000000000",
          "2025-04-17T00:00:00.000000000",
          "2025-04-21T00:00:00.000000000",
          "2025-04-22T00:00:00.000000000",
          "2025-04-23T00:00:00.000000000",
          "2025-04-24T00:00:00.000000000",
          "2025-04-25T00:00:00.000000000",
          "2025-04-28T00:00:00.000000000",
          "2025-04-29T00:00:00.000000000"
         ]
        }
       ],
       "layout": {
        "template": {
         "data": {
          "bar": [
           {
            "error_x": {
             "color": "#2a3f5f"
            },
            "error_y": {
             "color": "#2a3f5f"
            },
            "marker": {
             "line": {
              "color": "#E5ECF6",
              "width": 0.5
             },
             "pattern": {
              "fillmode": "overlay",
              "size": 10,
              "solidity": 0.2
             }
            },
            "type": "bar"
           }
          ],
          "barpolar": [
           {
            "marker": {
             "line": {
              "color": "#E5ECF6",
              "width": 0.5
             },
             "pattern": {
              "fillmode": "overlay",
              "size": 10,
              "solidity": 0.2
             }
            },
            "type": "barpolar"
           }
          ],
          "carpet": [
           {
            "aaxis": {
             "endlinecolor": "#2a3f5f",
             "gridcolor": "white",
             "linecolor": "white",
             "minorgridcolor": "white",
             "startlinecolor": "#2a3f5f"
            },
            "baxis": {
             "endlinecolor": "#2a3f5f",
             "gridcolor": "white",
             "linecolor": "white",
             "minorgridcolor": "white",
             "startlinecolor": "#2a3f5f"
            },
            "type": "carpet"
           }
          ],
          "choropleth": [
           {
            "colorbar": {
             "outlinewidth": 0,
             "ticks": ""
            },
            "type": "choropleth"
           }
          ],
          "contour": [
           {
            "colorbar": {
             "outlinewidth": 0,
             "ticks": ""
            },
            "colorscale": [
             [
              0,
              "#0d0887"
             ],
             [
              0.1111111111111111,
              "#46039f"
             ],
             [
              0.2222222222222222,
              "#7201a8"
             ],
             [
              0.3333333333333333,
              "#9c179e"
             ],
             [
              0.4444444444444444,
              "#bd3786"
             ],
             [
              0.5555555555555556,
              "#d8576b"
             ],
             [
              0.6666666666666666,
              "#ed7953"
             ],
             [
              0.7777777777777778,
              "#fb9f3a"
             ],
             [
              0.8888888888888888,
              "#fdca26"
             ],
             [
              1,
              "#f0f921"
             ]
            ],
            "type": "contour"
           }
          ],
          "contourcarpet": [
           {
            "colorbar": {
             "outlinewidth": 0,
             "ticks": ""
            },
            "type": "contourcarpet"
           }
          ],
          "heatmap": [
           {
            "colorbar": {
             "outlinewidth": 0,
             "ticks": ""
            },
            "colorscale": [
             [
              0,
              "#0d0887"
             ],
             [
              0.1111111111111111,
              "#46039f"
             ],
             [
              0.2222222222222222,
              "#7201a8"
             ],
             [
              0.3333333333333333,
              "#9c179e"
             ],
             [
              0.4444444444444444,
              "#bd3786"
             ],
             [
              0.5555555555555556,
              "#d8576b"
             ],
             [
              0.6666666666666666,
              "#ed7953"
             ],
             [
              0.7777777777777778,
              "#fb9f3a"
             ],
             [
              0.8888888888888888,
              "#fdca26"
             ],
             [
              1,
              "#f0f921"
             ]
            ],
            "type": "heatmap"
           }
          ],
          "histogram": [
           {
            "marker": {
             "pattern": {
              "fillmode": "overlay",
              "size": 10,
              "solidity": 0.2
             }
            },
            "type": "histogram"
           }
          ],
          "histogram2d": [
           {
            "colorbar": {
             "outlinewidth": 0,
             "ticks": ""
            },
            "colorscale": [
             [
              0,
              "#0d0887"
             ],
             [
              0.1111111111111111,
              "#46039f"
             ],
             [
              0.2222222222222222,
              "#7201a8"
             ],
             [
              0.3333333333333333,
              "#9c179e"
             ],
             [
              0.4444444444444444,
              "#bd3786"
             ],
             [
              0.5555555555555556,
              "#d8576b"
             ],
             [
              0.6666666666666666,
              "#ed7953"
             ],
             [
              0.7777777777777778,
              "#fb9f3a"
             ],
             [
              0.8888888888888888,
              "#fdca26"
             ],
             [
              1,
              "#f0f921"
             ]
            ],
            "type": "histogram2d"
           }
          ],
          "histogram2dcontour": [
           {
            "colorbar": {
             "outlinewidth": 0,
             "ticks": ""
            },
            "colorscale": [
             [
              0,
              "#0d0887"
             ],
             [
              0.1111111111111111,
              "#46039f"
             ],
             [
              0.2222222222222222,
              "#7201a8"
             ],
             [
              0.3333333333333333,
              "#9c179e"
             ],
             [
              0.4444444444444444,
              "#bd3786"
             ],
             [
              0.5555555555555556,
              "#d8576b"
             ],
             [
              0.6666666666666666,
              "#ed7953"
             ],
             [
              0.7777777777777778,
              "#fb9f3a"
             ],
             [
              0.8888888888888888,
              "#fdca26"
             ],
             [
              1,
              "#f0f921"
             ]
            ],
            "type": "histogram2dcontour"
           }
          ],
          "mesh3d": [
           {
            "colorbar": {
             "outlinewidth": 0,
             "ticks": ""
            },
            "type": "mesh3d"
           }
          ],
          "parcoords": [
           {
            "line": {
             "colorbar": {
              "outlinewidth": 0,
              "ticks": ""
             }
            },
            "type": "parcoords"
           }
          ],
          "pie": [
           {
            "automargin": true,
            "type": "pie"
           }
          ],
          "scatter": [
           {
            "fillpattern": {
             "fillmode": "overlay",
             "size": 10,
             "solidity": 0.2
            },
            "type": "scatter"
           }
          ],
          "scatter3d": [
           {
            "line": {
             "colorbar": {
              "outlinewidth": 0,
              "ticks": ""
             }
            },
            "marker": {
             "colorbar": {
              "outlinewidth": 0,
              "ticks": ""
             }
            },
            "type": "scatter3d"
           }
          ],
          "scattercarpet": [
           {
            "marker": {
             "colorbar": {
              "outlinewidth": 0,
              "ticks": ""
             }
            },
            "type": "scattercarpet"
           }
          ],
          "scattergeo": [
           {
            "marker": {
             "colorbar": {
              "outlinewidth": 0,
              "ticks": ""
             }
            },
            "type": "scattergeo"
           }
          ],
          "scattergl": [
           {
            "marker": {
             "colorbar": {
              "outlinewidth": 0,
              "ticks": ""
             }
            },
            "type": "scattergl"
           }
          ],
          "scattermap": [
           {
            "marker": {
             "colorbar": {
              "outlinewidth": 0,
              "ticks": ""
             }
            },
            "type": "scattermap"
           }
          ],
          "scattermapbox": [
           {
            "marker": {
             "colorbar": {
              "outlinewidth": 0,
              "ticks": ""
             }
            },
            "type": "scattermapbox"
           }
          ],
          "scatterpolar": [
           {
            "marker": {
             "colorbar": {
              "outlinewidth": 0,
              "ticks": ""
             }
            },
            "type": "scatterpolar"
           }
          ],
          "scatterpolargl": [
           {
            "marker": {
             "colorbar": {
              "outlinewidth": 0,
              "ticks": ""
             }
            },
            "type": "scatterpolargl"
           }
          ],
          "scatterternary": [
           {
            "marker": {
             "colorbar": {
              "outlinewidth": 0,
              "ticks": ""
             }
            },
            "type": "scatterternary"
           }
          ],
          "surface": [
           {
            "colorbar": {
             "outlinewidth": 0,
             "ticks": ""
            },
            "colorscale": [
             [
              0,
              "#0d0887"
             ],
             [
              0.1111111111111111,
              "#46039f"
             ],
             [
              0.2222222222222222,
              "#7201a8"
             ],
             [
              0.3333333333333333,
              "#9c179e"
             ],
             [
              0.4444444444444444,
              "#bd3786"
             ],
             [
              0.5555555555555556,
              "#d8576b"
             ],
             [
              0.6666666666666666,
              "#ed7953"
             ],
             [
              0.7777777777777778,
              "#fb9f3a"
             ],
             [
              0.8888888888888888,
              "#fdca26"
             ],
             [
              1,
              "#f0f921"
             ]
            ],
            "type": "surface"
           }
          ],
          "table": [
           {
            "cells": {
             "fill": {
              "color": "#EBF0F8"
             },
             "line": {
              "color": "white"
             }
            },
            "header": {
             "fill": {
              "color": "#C8D4E3"
             },
             "line": {
              "color": "white"
             }
            },
            "type": "table"
           }
          ]
         },
         "layout": {
          "annotationdefaults": {
           "arrowcolor": "#2a3f5f",
           "arrowhead": 0,
           "arrowwidth": 1
          },
          "autotypenumbers": "strict",
          "coloraxis": {
           "colorbar": {
            "outlinewidth": 0,
            "ticks": ""
           }
          },
          "colorscale": {
           "diverging": [
            [
             0,
             "#8e0152"
            ],
            [
             0.1,
             "#c51b7d"
            ],
            [
             0.2,
             "#de77ae"
            ],
            [
             0.3,
             "#f1b6da"
            ],
            [
             0.4,
             "#fde0ef"
            ],
            [
             0.5,
             "#f7f7f7"
            ],
            [
             0.6,
             "#e6f5d0"
            ],
            [
             0.7,
             "#b8e186"
            ],
            [
             0.8,
             "#7fbc41"
            ],
            [
             0.9,
             "#4d9221"
            ],
            [
             1,
             "#276419"
            ]
           ],
           "sequential": [
            [
             0,
             "#0d0887"
            ],
            [
             0.1111111111111111,
             "#46039f"
            ],
            [
             0.2222222222222222,
             "#7201a8"
            ],
            [
             0.3333333333333333,
             "#9c179e"
            ],
            [
             0.4444444444444444,
             "#bd3786"
            ],
            [
             0.5555555555555556,
             "#d8576b"
            ],
            [
             0.6666666666666666,
             "#ed7953"
            ],
            [
             0.7777777777777778,
             "#fb9f3a"
            ],
            [
             0.8888888888888888,
             "#fdca26"
            ],
            [
             1,
             "#f0f921"
            ]
           ],
           "sequentialminus": [
            [
             0,
             "#0d0887"
            ],
            [
             0.1111111111111111,
             "#46039f"
            ],
            [
             0.2222222222222222,
             "#7201a8"
            ],
            [
             0.3333333333333333,
             "#9c179e"
            ],
            [
             0.4444444444444444,
             "#bd3786"
            ],
            [
             0.5555555555555556,
             "#d8576b"
            ],
            [
             0.6666666666666666,
             "#ed7953"
            ],
            [
             0.7777777777777778,
             "#fb9f3a"
            ],
            [
             0.8888888888888888,
             "#fdca26"
            ],
            [
             1,
             "#f0f921"
            ]
           ]
          },
          "colorway": [
           "#636efa",
           "#EF553B",
           "#00cc96",
           "#ab63fa",
           "#FFA15A",
           "#19d3f3",
           "#FF6692",
           "#B6E880",
           "#FF97FF",
           "#FECB52"
          ],
          "font": {
           "color": "#2a3f5f"
          },
          "geo": {
           "bgcolor": "white",
           "lakecolor": "white",
           "landcolor": "#E5ECF6",
           "showlakes": true,
           "showland": true,
           "subunitcolor": "white"
          },
          "hoverlabel": {
           "align": "left"
          },
          "hovermode": "closest",
          "mapbox": {
           "style": "light"
          },
          "paper_bgcolor": "white",
          "plot_bgcolor": "#E5ECF6",
          "polar": {
           "angularaxis": {
            "gridcolor": "white",
            "linecolor": "white",
            "ticks": ""
           },
           "bgcolor": "#E5ECF6",
           "radialaxis": {
            "gridcolor": "white",
            "linecolor": "white",
            "ticks": ""
           }
          },
          "scene": {
           "xaxis": {
            "backgroundcolor": "#E5ECF6",
            "gridcolor": "white",
            "gridwidth": 2,
            "linecolor": "white",
            "showbackground": true,
            "ticks": "",
            "zerolinecolor": "white"
           },
           "yaxis": {
            "backgroundcolor": "#E5ECF6",
            "gridcolor": "white",
            "gridwidth": 2,
            "linecolor": "white",
            "showbackground": true,
            "ticks": "",
            "zerolinecolor": "white"
           },
           "zaxis": {
            "backgroundcolor": "#E5ECF6",
            "gridcolor": "white",
            "gridwidth": 2,
            "linecolor": "white",
            "showbackground": true,
            "ticks": "",
            "zerolinecolor": "white"
           }
          },
          "shapedefaults": {
           "line": {
            "color": "#2a3f5f"
           }
          },
          "ternary": {
           "aaxis": {
            "gridcolor": "white",
            "linecolor": "white",
            "ticks": ""
           },
           "baxis": {
            "gridcolor": "white",
            "linecolor": "white",
            "ticks": ""
           },
           "bgcolor": "#E5ECF6",
           "caxis": {
            "gridcolor": "white",
            "linecolor": "white",
            "ticks": ""
           }
          },
          "title": {
           "x": 0.05
          },
          "xaxis": {
           "automargin": true,
           "gridcolor": "white",
           "linecolor": "white",
           "ticks": "",
           "title": {
            "standoff": 15
           },
           "zerolinecolor": "white",
           "zerolinewidth": 2
          },
          "yaxis": {
           "automargin": true,
           "gridcolor": "white",
           "linecolor": "white",
           "ticks": "",
           "title": {
            "standoff": 15
           },
           "zerolinecolor": "white",
           "zerolinewidth": 2
          }
         }
        },
        "title": {
         "text": "Candlestick Chart - HAL.NS"
        },
        "xaxis": {
         "title": {
          "text": "Date"
         }
        },
        "yaxis": {
         "title": {
          "text": "Price"
         }
        }
       }
      },
      "image/png": "[encoded data removed]"
     },
     "metadata": {},
     "output_type": "display_data"
    }
   ],
   "source": [
    "df.loc[:, (ticker, 'Rolling Std Dev')] = df[ticker]['Daily Return'].rolling(window=14).std()\n",
    "fig1 = px.line(df, x=df.index, y=df[ticker]['Rolling Std Dev'])\n",
    "fig1.update_layout(title='Rolling 14-Day Standard Deviation', xaxis_title='Date', yaxis_title='Standard Deviation')\n",
    "fig1.show()\n",
    "fig2 = go.Figure(data=[\n",
    "    go.Candlestick(x=df.index,\n",
    "                   open=df[ticker]['Open'],\n",
    "                   high=df[ticker]['High'],\n",
    "                   low=df[ticker]['Low'],\n",
    "                   close=df[ticker]['Close'])\n",
    "              ])\n",
    "fig2.update_layout(title=f\"Candlestick Chart - {ticker}\", xaxis_title='Date', yaxis_title='Price')\n",
    "fig2.show()\n",
    "#as it was written to plot it along with price, I have plotted price by candlestick chart below it"
   ]
  },
  {
   "cell_type": "markdown",
   "id": "ce7876ff-04f3-488b-ac42-536a327db4c1",
   "metadata": {},
   "source": [
    "**Part 1: Theory vs Reality**"
   ]
  },
  {
   "cell_type": "code",
   "execution_count": 11,
   "id": "cfa47a48-76a6-4963-845f-a919155f1f35",
   "metadata": {},
   "outputs": [],
   "source": [
    "from scipy.stats import binom"
   ]
  },
  {
   "cell_type": "code",
   "execution_count": 12,
   "id": "6606a48d-4877-40fe-b7f2-72d0c040178d",
   "metadata": {},
   "outputs": [
    {
     "name": "stdout",
     "output_type": "stream",
     "text": [
      "P(UP)=0.518\n"
     ]
    }
   ],
   "source": [
    "#making new column for dirn up or down\n",
    "df.loc[:, (ticker, 'Direction')] = df[ticker]['Daily Return'].apply(lambda x: 'UP' if x > 0 else 'DOWN')\n",
    "total_days = df[ticker]['Direction'].count()    #it will count non nan days  \n",
    "up_days = (df[ticker]['Direction'] == 'UP').sum()\n",
    "P_UP=up_days/total_days\n",
    "print(f'P(UP)={P_UP:.3f}')"
   ]
  },
  {
   "cell_type": "code",
   "execution_count": 13,
   "id": "5e7dd715-1396-43c0-b4c9-899ba4aca3e7",
   "metadata": {},
   "outputs": [
    {
     "name": "stdout",
     "output_type": "stream",
     "text": [
      "Theoretical P(X=6): 0.251\n",
      "Theoretical P(X≥8): 0.167\n",
      "Real P(X=6): 0.219\n",
      "Real P(X≥8): 0.069\n"
     ]
    }
   ],
   "source": [
    "theoritical_probability_1 = binom.pmf(k=6, n=10, p=0.6)#Probability of exactly 6 up days in 10 days\n",
    "theoritical_probability_2 = 1-binom.cdf(k=7, n=10, p=0.6)#Probability of at least 8 ups in 10days\n",
    "real_probability_1 = binom.pmf(k=6, n=10, p=P_UP)#Probability of exactly 6 up days in 10 days\n",
    "real_probability_2 = 1-binom.cdf(k=7, n=10, p=P_UP)#Probability of at least 8 ups in 10days\n",
    "print(f\"Theoretical P(X=6): {theoritical_probability_1:.3f}\")\n",
    "print(f\"Theoretical P(X≥8): {theoritical_probability_2:.3f}\")\n",
    "print(f\"Real P(X=6): {real_probability_1:.3f}\")\n",
    "print(f\"Real P(X≥8): {real_probability_2:.3f}\")"
   ]
  },
  {
   "cell_type": "code",
   "execution_count": 14,
   "id": "c6347907-9485-4626-9b6d-da9c1fa19d50",
   "metadata": {},
   "outputs": [],
   "source": [
    "thousand_coin_flips=np.random.binomial(n=10, p=0.6, size=1000)#basically simulating stock market with heads as up and tails as down"
   ]
  },
  {
   "cell_type": "code",
   "execution_count": 15,
   "id": "9e895b6d-94f8-4d11-8bab-d9ab8fdaa6ec",
   "metadata": {},
   "outputs": [
    {
     "name": "stdout",
     "output_type": "stream",
     "text": [
      "[ 7  6  6  6  6  7  7  5  7  6  6  6  7  6  6  8  7  3  5  6  7  7  8  7\n",
      "  6  5  7  5 10  5  4  5  2  8  5  7  6  6  4  5  6  8  5  6  5  4  7  6\n",
      "  3  6  5  6  9  6  7  7  7  5  8  7  5  4  5  6  6  4  6  7  5  5  6  7\n",
      "  7  6  7  6  6  7  5  4  6  9  7  5  3  9  5  7  5  4  6  7  9  6  4  7\n",
      "  5  8  7  4  6  5  7  5  8  7  8  6  6  6  8  6  5  5  7  5  6  7  5  8\n",
      "  2  7  3  9  7  7  6  7  5  6  7  7  5  6  5  9  5  6  5  6  6  5  8  5\n",
      "  7  7  7  6  6  6  8  6  8  5  5  8  4  8  9  9  5  7  7  6  7  7  9  8\n",
      "  4  7  8  4  6  7  6  4  7  6  7  6  5  5  2  7  5  3  6  8  4  8  6  7\n",
      "  5  5  6  5  4  4  8  4  8  6  5  7  7  5  7  6  8  7  7  9  7  6  8  6\n",
      "  6  5  8  4  5  7  7  6  7  4  7  8  3  7  5  7  6  8  4  7  7  6  6  3\n",
      "  7  5  7  6  5  7  6  7  3  6  4  7  6  5  6  6  5  9  4  5  7  4  4  6\n",
      "  6  8  6  6  5  3  7  4  4  7  7  7  7  3  5  7  5  6  8  8  4  7  5  8\n",
      "  6  5  6  7  8  8  8  6  8  9  7  6  4  6  7  7  6  4  6  6  8  7  6  8\n",
      "  5  5  6  3  4  4  6  5  6  7  7  7  3  5  6  5  7  5  3  5  5  4  6  7\n",
      "  7  6  7  3  3  6  5  3  6  6  6  7  7  5  6  5  5  5  6  7  7  4  6  5\n",
      "  4  5  7  3  7  6  6  7  5  5  3  8  8  3  8  5  5  7  6  7  6  5  7  6\n",
      "  3  6  7  5  6  5  6  6  7  7  6  5  5  8  6  6  6  8  4  4  4  6  6  7\n",
      "  6  8  7  8  4  6  5  9  4  5  6  6  5  5  4  5  8  7  5  6  3  5  7  7\n",
      "  5  7  6  5  5  9  6  5  8  7  7  5  6  3  5  6  7  3  5  5  3  5  8  5\n",
      "  6  7  8  4  6  7  4  7  9  6  4  6  7  5  5  7  7  5  7  5  4  7  8  8\n",
      "  7  7  7  6  6  5  5  7  7  5  5  5  8  5  3  6  8  5  6  7  7  6  5  8\n",
      "  7  6  8  9  7  5  5  6  7  7  6  5  4  9  6  5  6  5  8  6  6  6  7  8\n",
      "  9  7  6  7  5  6  5  5  8  5  7  7  6  5  6  4  8  5  6  6  7  6  8  7\n",
      "  4  6  6  8  7  7  4  5  5  4  5  6  8  7  4  7  7  6  7  6  4  6  7  6\n",
      "  7  6  9  4  7  7  9  6  8  6  9  4  7  4 10  4  7  8  8  6  2  6  9  6\n",
      "  7  5  7  9  7  7  6  5  6  5  7  6  5  7  6  6  7  7  7  5  6  7  9  4\n",
      "  5  8  8  4  6  6  6  6  6  9  6  6  7  4  6  7  8  9  6  9  6  4  2  8\n",
      "  7  6  8  5  6  6  4  7  7  7  7  8  3  7  6  6  5  6  5  7  7  8  6  2\n",
      "  6  7  4  8  6  3  4  3  7  7  5  6  7  5  7  8  6  8  6  5  7  6  7  2\n",
      "  6  7  6  4  4  6  7  5  4  7  3  9  4  6  3  7  6  9  6  6  7  5  6  6\n",
      "  5  6  8  5  6  5  4  4  6 10  6  8  6  6  7  4  3  9  7  9  4  8  7  8\n",
      "  5  7  6  5  8  7  6  8  6  5  5  5  5  6  6  7  4  5  5  4  7  6  8  7\n",
      "  5  7  6  6  5  6  4  5  6  6  5  4  7  5  6  7  8  6  7  4  6  6  8  9\n",
      "  6  5  5  8  5  7  7  6  3  7  6  6  5  5  7  4  7  5  7  7  7  7  6  6\n",
      "  6  8  7  8  8  5  6  7  6  8  5  7  4  6  7  6  4  3  8  8  5  3  7  6\n",
      "  8  4  6  7  6  5  5  6  6  8  5  7  5  6  6  8  4  9  6  8  6  6  7  7\n",
      "  6  7  6  5  8  6  9  5  5  5  5  8  6  7  5  4  8  6  7  6  9  3  7  5\n",
      "  6  4  4  5  8  6  5  5  4  7  5  7  5  4  5  4  7  5  7  2  4  5  5  4\n",
      "  8  6  5  6  7  8  6  6  7  7  6  6  8  6  5  6  6  6  8  7  3  4  8  8\n",
      "  7  7  8  3  7  5  6  6  8  4  7  4  8  7  8  7  7  6  8  5  6  4 10  5\n",
      "  4  8  9  5  6  4  9  5  7  6  8  8  8  5 10  6  7  4  7  6  5  7  4  8\n",
      "  8  4  9  5  9  5  6  5  4  5  3  4  8  4  7  7]\n"
     ]
    }
   ],
   "source": [
    "print(thousand_coin_flips)#the generated random binomial distribution"
   ]
  },
  {
   "cell_type": "code",
   "execution_count": 16,
   "id": "4e110997-d9b6-4a3c-a8d5-2699ee214f74",
   "metadata": {},
   "outputs": [
    {
     "name": "stdout",
     "output_type": "stream",
     "text": [
      "0.263\n",
      "0.159\n"
     ]
    }
   ],
   "source": [
    "simulated_prob_6 = np.mean(thousand_coin_flips == 6)#P(X=6) simulated by my own P_UP\n",
    "simulated_prob_8_or_more = np.mean(thousand_coin_flips >= 8)#P(X>=8) simulated by my own P_UP\n",
    "print(simulated_prob_6 )\n",
    "print(simulated_prob_8_or_more)"
   ]
  },
  {
   "cell_type": "markdown",
   "id": "8011580d-b8f6-41cb-b978-7ed174e450b8",
   "metadata": {},
   "source": [
    "- P(X=6) is close for simulated and theoretical and also P(X>=8) is close for simulated and theoretical "
   ]
  },
  {
   "cell_type": "markdown",
   "id": "23451056-6b98-4072-b2cf-6c2b82e71f66",
   "metadata": {},
   "source": [
    "**Part 2: The Paradox**"
   ]
  },
  {
   "cell_type": "code",
   "execution_count": 17,
   "id": "4f06abb3-8abc-42ab-bf09-ab25991a42a7",
   "metadata": {},
   "outputs": [
    {
     "name": "stdout",
     "output_type": "stream",
     "text": [
      "Average return on up days: 0.019683545701620356\n",
      "Average return on down days: -0.019127508680212246\n"
     ]
    }
   ],
   "source": [
    "up_return_avg = df[ticker].loc[df[ticker]['Direction'] == 'UP', 'Daily Return'].mean()\n",
    "down_return_avg = df[ticker].loc[df[ticker]['Direction'] == 'DOWN', 'Daily Return'].mean()\n",
    "print(f'Average return on up days: {up_return_avg}')\n",
    "print(f'Average return on down days: {down_return_avg}')"
   ]
  },
  {
   "cell_type": "code",
   "execution_count": 18,
   "id": "4f9ca080-cb84-43f2-ab7f-a2d44eef5f64",
   "metadata": {},
   "outputs": [
    {
     "name": "stdout",
     "output_type": "stream",
     "text": [
      "Window: 2024-05-02 to 2024-05-15\n",
      "Window: 2024-05-03 to 2024-05-16\n",
      "Window: 2024-05-06 to 2024-05-17\n",
      "Window: 2024-05-07 to 2024-05-21\n",
      "Window: 2024-05-08 to 2024-05-22\n",
      "Window: 2024-05-09 to 2024-05-23\n",
      "Window: 2024-05-10 to 2024-05-24\n",
      "Window: 2024-05-13 to 2024-05-27\n",
      "Window: 2024-05-14 to 2024-05-28\n",
      "Window: 2024-05-15 to 2024-05-29\n",
      "Window: 2024-05-16 to 2024-05-30\n",
      "Window: 2024-05-21 to 2024-06-03\n",
      "Window: 2024-05-28 to 2024-06-10\n",
      "Window: 2024-05-29 to 2024-06-11\n",
      "Window: 2024-05-30 to 2024-06-12\n",
      "Window: 2024-05-31 to 2024-06-13\n",
      "Window: 2024-06-03 to 2024-06-14\n",
      "Window: 2024-06-04 to 2024-06-18\n",
      "Window: 2024-06-05 to 2024-06-19\n",
      "Window: 2024-06-06 to 2024-06-20\n",
      "Window: 2024-06-07 to 2024-06-21\n",
      "Window: 2024-06-10 to 2024-06-24\n",
      "Window: 2024-06-11 to 2024-06-25\n",
      "Window: 2024-06-12 to 2024-06-26\n",
      "Window: 2024-06-24 to 2024-07-05\n",
      "Window: 2024-06-25 to 2024-07-08\n",
      "Window: 2024-06-28 to 2024-07-11\n",
      "Window: 2024-07-01 to 2024-07-12\n",
      "Window: 2024-07-02 to 2024-07-15\n",
      "Window: 2024-07-03 to 2024-07-16\n",
      "Window: 2024-08-07 to 2024-08-21\n",
      "Window: 2024-08-08 to 2024-08-22\n",
      "Window: 2024-08-09 to 2024-08-23\n",
      "Window: 2024-08-12 to 2024-08-26\n",
      "Window: 2024-08-21 to 2024-09-03\n",
      "Window: 2024-08-22 to 2024-09-04\n",
      "Window: 2024-08-30 to 2024-09-12\n",
      "Window: 2024-09-02 to 2024-09-13\n",
      "Window: 2024-10-01 to 2024-10-15\n",
      "Window: 2024-10-03 to 2024-10-16\n",
      "Window: 2024-10-04 to 2024-10-17\n",
      "Window: 2024-10-07 to 2024-10-18\n",
      "Window: 2024-10-08 to 2024-10-21\n",
      "Window: 2024-10-09 to 2024-10-22\n",
      "Window: 2024-10-25 to 2024-11-07\n",
      "Window: 2024-10-28 to 2024-11-08\n",
      "Window: 2024-10-29 to 2024-11-11\n",
      "Window: 2024-10-30 to 2024-11-12\n",
      "Window: 2024-10-31 to 2024-11-13\n",
      "Window: 2024-11-01 to 2024-11-14\n",
      "Window: 2024-11-14 to 2024-11-29\n",
      "Window: 2024-11-18 to 2024-12-02\n",
      "Window: 2024-11-19 to 2024-12-03\n",
      "Window: 2024-11-21 to 2024-12-04\n",
      "Window: 2024-11-22 to 2024-12-05\n",
      "Window: 2024-11-25 to 2024-12-06\n",
      "Window: 2024-11-26 to 2024-12-09\n",
      "Window: 2024-11-27 to 2024-12-10\n",
      "Window: 2024-11-28 to 2024-12-11\n",
      "Window: 2024-11-29 to 2024-12-12\n",
      "Window: 2024-12-02 to 2024-12-13\n",
      "Window: 2024-12-03 to 2024-12-16\n",
      "Window: 2024-12-04 to 2024-12-17\n",
      "Window: 2024-12-05 to 2024-12-18\n",
      "Window: 2024-12-06 to 2024-12-19\n",
      "Window: 2024-12-09 to 2024-12-20\n",
      "Window: 2024-12-10 to 2024-12-23\n",
      "Window: 2025-01-28 to 2025-02-07\n",
      "Window: 2025-01-29 to 2025-02-10\n",
      "Window: 2025-03-03 to 2025-03-17\n",
      "Window: 2025-03-07 to 2025-03-21\n",
      "Window: 2025-03-10 to 2025-03-24\n",
      "Window: 2025-03-11 to 2025-03-25\n",
      "Window: 2025-03-12 to 2025-03-26\n",
      "Window: 2025-03-13 to 2025-03-27\n",
      "Window: 2025-03-17 to 2025-03-28\n",
      "Window: 2025-03-18 to 2025-04-01\n",
      "Window: 2025-03-19 to 2025-04-02\n",
      "Window: 2025-03-20 to 2025-04-03\n",
      "Window: 2025-03-21 to 2025-04-04\n",
      "Window: 2025-03-24 to 2025-04-07\n",
      "Window: 2025-03-25 to 2025-04-08\n",
      "Window: 2025-03-26 to 2025-04-09\n",
      "Window: 2025-03-27 to 2025-04-11\n",
      "Window: 2025-03-28 to 2025-04-15\n",
      "Window: 2025-04-01 to 2025-04-16\n",
      "Window: 2025-04-02 to 2025-04-17\n",
      "Window: 2025-04-03 to 2025-04-21\n",
      "Window: 2025-04-04 to 2025-04-22\n",
      "Window: 2025-04-07 to 2025-04-23\n",
      "Window: 2025-04-08 to 2025-04-24\n",
      "Window: 2025-04-09 to 2025-04-25\n",
      "Window: 2025-04-11 to 2025-04-28\n",
      "Window: 2025-04-15 to 2025-04-29\n"
     ]
    }
   ],
   "source": [
    "#to show that even with P(UP)=0.6, we can make a loss, i have extracted all windows of 10days in\n",
    "#which ups are >=6 and ,down avg is more negative than up avg, hence giving loss.\n",
    "results = []\n",
    "data = df[ticker][['Daily Return', 'Direction']].copy()\n",
    "for i in range(len(data) - 9):\n",
    "    window = data.iloc[i:i+10]#rolling 10 day window\n",
    "    \n",
    "    up_returns = window[window['Direction'] == 'UP']['Daily Return']\n",
    "    down_returns = window[window['Direction'] == 'DOWN']['Daily Return']\n",
    "    \n",
    "    if len(up_returns) >= 6:\n",
    "        up_avg = up_returns.mean()\n",
    "        down_avg = down_returns.mean()\n",
    "        \n",
    "        if down_avg < up_avg:\n",
    "            results.append((data.index[i], data.index[i+9]))\n",
    "# Displaying the date windows in which even with P(UP)>=0.6 we can lose money\n",
    "for start, end in results:\n",
    "    print(f\"Window: {start.date()} to {end.date()}\")"
   ]
  },
  {
   "cell_type": "markdown",
   "id": "c6d1e44c-0a0a-4834-ab34-99156bdacbc0",
   "metadata": {},
   "source": [
    "- **The math**\n",
    "Let `UP average` be `ua` , and `DOWN average` be `da`,\n",
    "then for loss,\n",
    "      6*ua + 4*da < 0 \n",
    "    =>`ua<(-2da/3)` ,\n",
    "  will end up giving loss to us 😁"
   ]
  },
  {
   "cell_type": "markdown",
   "id": "d019c5ac-4989-480e-a16d-74a787b124f2",
   "metadata": {},
   "source": [
    "**Part 3: The Ultimate Question**"
   ]
  },
  {
   "cell_type": "markdown",
   "id": "90435908-ea18-43ee-b002-da9f20d94b70",
   "metadata": {},
   "source": [
    "- The net return should be positive to make a profit, which is\n",
    " \n",
    "  `(win_up)*(P(UP))-(lose_down)*(P(DOWN))= net_return`"
   ]
  },
  {
   "cell_type": "markdown",
   "id": "b1ee69ba-ce34-4422-95fb-ea9a7584f1ec",
   "metadata": {},
   "source": [
    "- Here `win_up = 100`, and `lose_down = 150`.\n",
    "- Also `P(DOWN) = 1 - P(UP)` , hence by the equation,\n",
    "- =>`net_return = 250*P(UP)-150`"
   ]
  },
  {
   "cell_type": "markdown",
   "id": "b7318c68-773f-40d7-8212-fffb650d3c55",
   "metadata": {},
   "source": [
    "- Hence, for the net_return to be `positive`,\n",
    "250*P(UP)-150>0,\n",
    "  =>`P(UP) > 0.6`\n",
    "\n",
    "  Therefore, if we again see by the 10 day example, out of 10 days the daily return must be positive for X>=7 days for me to have profit."
   ]
  },
  {
   "cell_type": "markdown",
   "id": "36216e36-13d1-4595-8aae-7b9cdf10e879",
   "metadata": {},
   "source": [
    "- And for my case of stocks of HAL the P(UP) was 0.518 which is far from 0.6, hence I would not take this bet"
   ]
  },
  {
   "cell_type": "markdown",
   "id": "ca107cbe-b88f-4116-a675-ac275b1532ff",
   "metadata": {},
   "source": [
    "- Therefore, before accepting this bet, we must carefully analyze our stock’s past trends. If **P(UP) is below 0.6**, the `bet is more likely to return in loss`, and we would avoid the bet in such a case"
   ]
  },
  {
   "cell_type": "markdown",
   "id": "73d7aacb-2278-4374-9e3e-c540c2c5e5ce",
   "metadata": {},
   "source": [
    "**Your thoughts (No judgments) (Optional)**"
   ]
  },
  {
   "cell_type": "markdown",
   "id": "4683a4d3-e840-4501-a2ef-48d085fe6e9f",
   "metadata": {},
   "source": [
    "- My expectations from this project are that, at the end of this project I will be well versed with different investment strategies and also with python and statistical methods to calculate probability."
   ]
  },
  {
   "cell_type": "markdown",
   "id": "0b602733-3f47-42dd-a7f0-0bf554ad6875",
   "metadata": {},
   "source": [
    "- Yes, I am happy with the allotment of this project to me, also It was my first preference."
   ]
  },
  {
   "cell_type": "markdown",
   "id": "8eda7332-58e9-48bb-8812-2dacbc1c2821",
   "metadata": {},
   "source": [
    "- The buzzwords that caught my attention to apply for this project were, `Bayesian` and `Investment Strategies`. "
   ]
  }
 ],
 "metadata": {
  "kernelspec": {
   "display_name": "Python 3 (ipykernel)",
   "language": "python",
   "name": "python3"
  },
  "language_info": {
   "codemirror_mode": {
    "name": "ipython",
    "version": 3
   },
   "file_extension": ".py",
   "mimetype": "text/x-python",
   "name": "python",
   "nbconvert_exporter": "python",
   "pygments_lexer": "ipython3",
   "version": "3.13.0"
  }
 },
 "nbformat": 4,
 "nbformat_minor": 5
}
