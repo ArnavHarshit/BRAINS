{
  "nbformat": 4,
  "nbformat_minor": 0,
  "metadata": {
    "colab": {
      "provenance": []
    },
    "kernelspec": {
      "name": "python3",
      "display_name": "Python 3"
    },
    "language_info": {
      "name": "python"
    }
  },
  "cells": [
    {
      "cell_type": "code",
      "source": [
        "import yfinance as yf\n",
        "import pandas as pd\n",
        "import datetime\n",
        "import matplotlib.pyplot as plt\n",
        "import numpy as np\n",
        "import plotly.graph_objects as go\n",
        "import plotly.express as px\n",
        "from plotly.subplots import make_subplots"
      ],
      "metadata": {
        "id": "8nWCTaVgLdzh"
      },
      "execution_count": null,
      "outputs": []
    },
    {
      "cell_type": "code",
      "source": [
        "nse = \"TATAMOTORS.NS\""
      ],
      "metadata": {
        "id": "ZPe__4uHs6ka"
      },
      "execution_count": null,
      "outputs": []
    },
    {
      "cell_type": "code",
      "source": [
        "start_date=datetime.datetime(2024,4,1)\n",
        "end_date=datetime.datetime(2025,4,30)"
      ],
      "metadata": {
        "id": "nHr6v7FEImZM"
      },
      "execution_count": null,
      "outputs": []
    },
    {
      "cell_type": "code",
      "source": [
        "stock = yf.download(nse, start_date,end_date)\n",
        "stock.index = pd.to_datetime(stock.index)\n"
      ],
      "metadata": {
        "colab": {
          "base_uri": "https://localhost:8080/"
        },
        "id": "aN9TcmzctTAn",
        "outputId": "8fae9d2d-818c-4056-a81e-4cb00d3c40e4"
      },
      "execution_count": null,
      "outputs": [
        {
          "output_type": "stream",
          "name": "stderr",
          "text": [
            "\r[*********************100%***********************]  1 of 1 completed\n"
          ]
        }
      ]
    },
    {
      "cell_type": "code",
      "source": [
        "print(stock.head())\n"
      ],
      "metadata": {
        "colab": {
          "base_uri": "https://localhost:8080/"
        },
        "id": "8MnH6grAtaQb",
        "outputId": "5f6f48d7-96ff-4541-d1a5-fd6d125141c9"
      },
      "execution_count": null,
      "outputs": [
        {
          "output_type": "stream",
          "name": "stdout",
          "text": [
            "Price              Close          High           Low          Open  \\\n",
            "Ticker     TATAMOTORS.NS TATAMOTORS.NS TATAMOTORS.NS TATAMOTORS.NS   \n",
            "Date                                                                 \n",
            "2024-04-01    989.197388   1006.743218    984.412167    996.923545   \n",
            "2024-04-02   1001.559265   1004.898935    990.343875    995.926623   \n",
            "2024-04-03   1006.045471   1011.329154    989.496503   1000.911290   \n",
            "2024-04-04   1008.487854   1013.871266    995.079281   1012.874342   \n",
            "2024-04-05   1004.001709   1009.385121   1001.310064   1008.487865   \n",
            "\n",
            "Price             Volume  \n",
            "Ticker     TATAMOTORS.NS  \n",
            "Date                      \n",
            "2024-04-01       8629407  \n",
            "2024-04-02       7995931  \n",
            "2024-04-03       8040366  \n",
            "2024-04-04       9138276  \n",
            "2024-04-05       4519120  \n"
          ]
        }
      ]
    },
    {
      "cell_type": "code",
      "source": [
        "df = yf.download(\n",
        "    tickers=nse,\n",
        "    start=start_date,\n",
        "    end=end_date,\n",
        "    interval=\"1d\",\n",
        "    group_by=\"ticker\",\n",
        "\n",
        ")\n",
        "df"
      ],
      "metadata": {
        "colab": {
          "base_uri": "https://localhost:8080/",
          "height": 503
        },
        "id": "dBzLlKkVteEa",
        "outputId": "07ab4263-1058-4883-9ef8-deb56b2fa180"
      },
      "execution_count": null,
      "outputs": [
        {
          "output_type": "stream",
          "name": "stderr",
          "text": [
            "\r[*********************100%***********************]  1 of 1 completed\n"
          ]
        },
        {
          "output_type": "execute_result",
          "data": {
            "text/plain": [
              "Ticker     TATAMOTORS.NS                                                 \n",
              "Price               Open         High          Low        Close    Volume\n",
              "Date                                                                     \n",
              "2024-04-01    996.923545  1006.743218   984.412167   989.197388   8629407\n",
              "2024-04-02    995.926623  1004.898935   990.343875  1001.559265   7995931\n",
              "2024-04-03   1000.911290  1011.329154   989.496503  1006.045471   8040366\n",
              "2024-04-04   1012.874342  1013.871266   995.079281  1008.487854   9138276\n",
              "2024-04-05   1008.487865  1009.385121  1001.310064  1004.001709   4519120\n",
              "...                  ...          ...          ...          ...       ...\n",
              "2025-04-23    635.950012   661.500000   633.349976   659.900024  23390570\n",
              "2025-04-24    660.099976   671.000000   660.099976   668.349976  15172229\n",
              "2025-04-25    668.349976   673.000000   651.500000   655.250000  13207043\n",
              "2025-04-28    654.299988   669.599976   652.549988   668.150024  10243493\n",
              "2025-04-29    671.450012   682.900024   661.599976   665.599976  13754685\n",
              "\n",
              "[266 rows x 5 columns]"
            ],
            "text/html": [
              "\n",
              "  <div id=\"df-896ad02a-a967-415d-895d-39a8c2b12cde\" class=\"colab-df-container\">\n",
              "    <div>\n",
              "<style scoped>\n",
              "    .dataframe tbody tr th:only-of-type {\n",
              "        vertical-align: middle;\n",
              "    }\n",
              "\n",
              "    .dataframe tbody tr th {\n",
              "        vertical-align: top;\n",
              "    }\n",
              "\n",
              "    .dataframe thead tr th {\n",
              "        text-align: left;\n",
              "    }\n",
              "\n",
              "    .dataframe thead tr:last-of-type th {\n",
              "        text-align: right;\n",
              "    }\n",
              "</style>\n",
              "<table border=\"1\" class=\"dataframe\">\n",
              "  <thead>\n",
              "    <tr>\n",
              "      <th>Ticker</th>\n",
              "      <th colspan=\"5\" halign=\"left\">TATAMOTORS.NS</th>\n",
              "    </tr>\n",
              "    <tr>\n",
              "      <th>Price</th>\n",
              "      <th>Open</th>\n",
              "      <th>High</th>\n",
              "      <th>Low</th>\n",
              "      <th>Close</th>\n",
              "      <th>Volume</th>\n",
              "    </tr>\n",
              "    <tr>\n",
              "      <th>Date</th>\n",
              "      <th></th>\n",
              "      <th></th>\n",
              "      <th></th>\n",
              "      <th></th>\n",
              "      <th></th>\n",
              "    </tr>\n",
              "  </thead>\n",
              "  <tbody>\n",
              "    <tr>\n",
              "      <th>2024-04-01</th>\n",
              "      <td>996.923545</td>\n",
              "      <td>1006.743218</td>\n",
              "      <td>984.412167</td>\n",
              "      <td>989.197388</td>\n",
              "      <td>8629407</td>\n",
              "    </tr>\n",
              "    <tr>\n",
              "      <th>2024-04-02</th>\n",
              "      <td>995.926623</td>\n",
              "      <td>1004.898935</td>\n",
              "      <td>990.343875</td>\n",
              "      <td>1001.559265</td>\n",
              "      <td>7995931</td>\n",
              "    </tr>\n",
              "    <tr>\n",
              "      <th>2024-04-03</th>\n",
              "      <td>1000.911290</td>\n",
              "      <td>1011.329154</td>\n",
              "      <td>989.496503</td>\n",
              "      <td>1006.045471</td>\n",
              "      <td>8040366</td>\n",
              "    </tr>\n",
              "    <tr>\n",
              "      <th>2024-04-04</th>\n",
              "      <td>1012.874342</td>\n",
              "      <td>1013.871266</td>\n",
              "      <td>995.079281</td>\n",
              "      <td>1008.487854</td>\n",
              "      <td>9138276</td>\n",
              "    </tr>\n",
              "    <tr>\n",
              "      <th>2024-04-05</th>\n",
              "      <td>1008.487865</td>\n",
              "      <td>1009.385121</td>\n",
              "      <td>1001.310064</td>\n",
              "      <td>1004.001709</td>\n",
              "      <td>4519120</td>\n",
              "    </tr>\n",
              "    <tr>\n",
              "      <th>...</th>\n",
              "      <td>...</td>\n",
              "      <td>...</td>\n",
              "      <td>...</td>\n",
              "      <td>...</td>\n",
              "      <td>...</td>\n",
              "    </tr>\n",
              "    <tr>\n",
              "      <th>2025-04-23</th>\n",
              "      <td>635.950012</td>\n",
              "      <td>661.500000</td>\n",
              "      <td>633.349976</td>\n",
              "      <td>659.900024</td>\n",
              "      <td>23390570</td>\n",
              "    </tr>\n",
              "    <tr>\n",
              "      <th>2025-04-24</th>\n",
              "      <td>660.099976</td>\n",
              "      <td>671.000000</td>\n",
              "      <td>660.099976</td>\n",
              "      <td>668.349976</td>\n",
              "      <td>15172229</td>\n",
              "    </tr>\n",
              "    <tr>\n",
              "      <th>2025-04-25</th>\n",
              "      <td>668.349976</td>\n",
              "      <td>673.000000</td>\n",
              "      <td>651.500000</td>\n",
              "      <td>655.250000</td>\n",
              "      <td>13207043</td>\n",
              "    </tr>\n",
              "    <tr>\n",
              "      <th>2025-04-28</th>\n",
              "      <td>654.299988</td>\n",
              "      <td>669.599976</td>\n",
              "      <td>652.549988</td>\n",
              "      <td>668.150024</td>\n",
              "      <td>10243493</td>\n",
              "    </tr>\n",
              "    <tr>\n",
              "      <th>2025-04-29</th>\n",
              "      <td>671.450012</td>\n",
              "      <td>682.900024</td>\n",
              "      <td>661.599976</td>\n",
              "      <td>665.599976</td>\n",
              "      <td>13754685</td>\n",
              "    </tr>\n",
              "  </tbody>\n",
              "</table>\n",
              "<p>266 rows × 5 columns</p>\n",
              "</div>\n",
              "    <div class=\"colab-df-buttons\">\n",
              "\n",
              "  <div class=\"colab-df-container\">\n",
              "    <button class=\"colab-df-convert\" onclick=\"convertToInteractive('df-896ad02a-a967-415d-895d-39a8c2b12cde')\"\n",
              "            title=\"Convert this dataframe to an interactive table.\"\n",
              "            style=\"display:none;\">\n",
              "\n",
              "  <svg xmlns=\"http://www.w3.org/2000/svg\" height=\"24px\" viewBox=\"0 -960 960 960\">\n",
              "    <path d=\"M120-120v-720h720v720H120Zm60-500h600v-160H180v160Zm220 220h160v-160H400v160Zm0 220h160v-160H400v160ZM180-400h160v-160H180v160Zm440 0h160v-160H620v160ZM180-180h160v-160H180v160Zm440 0h160v-160H620v160Z\"/>\n",
              "  </svg>\n",
              "    </button>\n",
              "\n",
              "  <style>\n",
              "    .colab-df-container {\n",
              "      display:flex;\n",
              "      gap: 12px;\n",
              "    }\n",
              "\n",
              "    .colab-df-convert {\n",
              "      background-color: #E8F0FE;\n",
              "      border: none;\n",
              "      border-radius: 50%;\n",
              "      cursor: pointer;\n",
              "      display: none;\n",
              "      fill: #1967D2;\n",
              "      height: 32px;\n",
              "      padding: 0 0 0 0;\n",
              "      width: 32px;\n",
              "    }\n",
              "\n",
              "    .colab-df-convert:hover {\n",
              "      background-color: #E2EBFA;\n",
              "      box-shadow: 0px 1px 2px rgba(60, 64, 67, 0.3), 0px 1px 3px 1px rgba(60, 64, 67, 0.15);\n",
              "      fill: #174EA6;\n",
              "    }\n",
              "\n",
              "    .colab-df-buttons div {\n",
              "      margin-bottom: 4px;\n",
              "    }\n",
              "\n",
              "    [theme=dark] .colab-df-convert {\n",
              "      background-color: #3B4455;\n",
              "      fill: #D2E3FC;\n",
              "    }\n",
              "\n",
              "    [theme=dark] .colab-df-convert:hover {\n",
              "      background-color: #434B5C;\n",
              "      box-shadow: 0px 1px 3px 1px rgba(0, 0, 0, 0.15);\n",
              "      filter: drop-shadow(0px 1px 2px rgba(0, 0, 0, 0.3));\n",
              "      fill: #FFFFFF;\n",
              "    }\n",
              "  </style>\n",
              "\n",
              "    <script>\n",
              "      const buttonEl =\n",
              "        document.querySelector('#df-896ad02a-a967-415d-895d-39a8c2b12cde button.colab-df-convert');\n",
              "      buttonEl.style.display =\n",
              "        google.colab.kernel.accessAllowed ? 'block' : 'none';\n",
              "\n",
              "      async function convertToInteractive(key) {\n",
              "        const element = document.querySelector('#df-896ad02a-a967-415d-895d-39a8c2b12cde');\n",
              "        const dataTable =\n",
              "          await google.colab.kernel.invokeFunction('convertToInteractive',\n",
              "                                                    [key], {});\n",
              "        if (!dataTable) return;\n",
              "\n",
              "        const docLinkHtml = 'Like what you see? Visit the ' +\n",
              "          '<a target=\"_blank\" href=https://colab.research.google.com/notebooks/data_table.ipynb>data table notebook</a>'\n",
              "          + ' to learn more about interactive tables.';\n",
              "        element.innerHTML = '';\n",
              "        dataTable['output_type'] = 'display_data';\n",
              "        await google.colab.output.renderOutput(dataTable, element);\n",
              "        const docLink = document.createElement('div');\n",
              "        docLink.innerHTML = docLinkHtml;\n",
              "        element.appendChild(docLink);\n",
              "      }\n",
              "    </script>\n",
              "  </div>\n",
              "\n",
              "\n",
              "    <div id=\"df-f4dbf733-2802-4823-9868-ba13586c0818\">\n",
              "      <button class=\"colab-df-quickchart\" onclick=\"quickchart('df-f4dbf733-2802-4823-9868-ba13586c0818')\"\n",
              "                title=\"Suggest charts\"\n",
              "                style=\"display:none;\">\n",
              "\n",
              "<svg xmlns=\"http://www.w3.org/2000/svg\" height=\"24px\"viewBox=\"0 0 24 24\"\n",
              "     width=\"24px\">\n",
              "    <g>\n",
              "        <path d=\"M19 3H5c-1.1 0-2 .9-2 2v14c0 1.1.9 2 2 2h14c1.1 0 2-.9 2-2V5c0-1.1-.9-2-2-2zM9 17H7v-7h2v7zm4 0h-2V7h2v10zm4 0h-2v-4h2v4z\"/>\n",
              "    </g>\n",
              "</svg>\n",
              "      </button>\n",
              "\n",
              "<style>\n",
              "  .colab-df-quickchart {\n",
              "      --bg-color: #E8F0FE;\n",
              "      --fill-color: #1967D2;\n",
              "      --hover-bg-color: #E2EBFA;\n",
              "      --hover-fill-color: #174EA6;\n",
              "      --disabled-fill-color: #AAA;\n",
              "      --disabled-bg-color: #DDD;\n",
              "  }\n",
              "\n",
              "  [theme=dark] .colab-df-quickchart {\n",
              "      --bg-color: #3B4455;\n",
              "      --fill-color: #D2E3FC;\n",
              "      --hover-bg-color: #434B5C;\n",
              "      --hover-fill-color: #FFFFFF;\n",
              "      --disabled-bg-color: #3B4455;\n",
              "      --disabled-fill-color: #666;\n",
              "  }\n",
              "\n",
              "  .colab-df-quickchart {\n",
              "    background-color: var(--bg-color);\n",
              "    border: none;\n",
              "    border-radius: 50%;\n",
              "    cursor: pointer;\n",
              "    display: none;\n",
              "    fill: var(--fill-color);\n",
              "    height: 32px;\n",
              "    padding: 0;\n",
              "    width: 32px;\n",
              "  }\n",
              "\n",
              "  .colab-df-quickchart:hover {\n",
              "    background-color: var(--hover-bg-color);\n",
              "    box-shadow: 0 1px 2px rgba(60, 64, 67, 0.3), 0 1px 3px 1px rgba(60, 64, 67, 0.15);\n",
              "    fill: var(--button-hover-fill-color);\n",
              "  }\n",
              "\n",
              "  .colab-df-quickchart-complete:disabled,\n",
              "  .colab-df-quickchart-complete:disabled:hover {\n",
              "    background-color: var(--disabled-bg-color);\n",
              "    fill: var(--disabled-fill-color);\n",
              "    box-shadow: none;\n",
              "  }\n",
              "\n",
              "  .colab-df-spinner {\n",
              "    border: 2px solid var(--fill-color);\n",
              "    border-color: transparent;\n",
              "    border-bottom-color: var(--fill-color);\n",
              "    animation:\n",
              "      spin 1s steps(1) infinite;\n",
              "  }\n",
              "\n",
              "  @keyframes spin {\n",
              "    0% {\n",
              "      border-color: transparent;\n",
              "      border-bottom-color: var(--fill-color);\n",
              "      border-left-color: var(--fill-color);\n",
              "    }\n",
              "    20% {\n",
              "      border-color: transparent;\n",
              "      border-left-color: var(--fill-color);\n",
              "      border-top-color: var(--fill-color);\n",
              "    }\n",
              "    30% {\n",
              "      border-color: transparent;\n",
              "      border-left-color: var(--fill-color);\n",
              "      border-top-color: var(--fill-color);\n",
              "      border-right-color: var(--fill-color);\n",
              "    }\n",
              "    40% {\n",
              "      border-color: transparent;\n",
              "      border-right-color: var(--fill-color);\n",
              "      border-top-color: var(--fill-color);\n",
              "    }\n",
              "    60% {\n",
              "      border-color: transparent;\n",
              "      border-right-color: var(--fill-color);\n",
              "    }\n",
              "    80% {\n",
              "      border-color: transparent;\n",
              "      border-right-color: var(--fill-color);\n",
              "      border-bottom-color: var(--fill-color);\n",
              "    }\n",
              "    90% {\n",
              "      border-color: transparent;\n",
              "      border-bottom-color: var(--fill-color);\n",
              "    }\n",
              "  }\n",
              "</style>\n",
              "\n",
              "      <script>\n",
              "        async function quickchart(key) {\n",
              "          const quickchartButtonEl =\n",
              "            document.querySelector('#' + key + ' button');\n",
              "          quickchartButtonEl.disabled = true;  // To prevent multiple clicks.\n",
              "          quickchartButtonEl.classList.add('colab-df-spinner');\n",
              "          try {\n",
              "            const charts = await google.colab.kernel.invokeFunction(\n",
              "                'suggestCharts', [key], {});\n",
              "          } catch (error) {\n",
              "            console.error('Error during call to suggestCharts:', error);\n",
              "          }\n",
              "          quickchartButtonEl.classList.remove('colab-df-spinner');\n",
              "          quickchartButtonEl.classList.add('colab-df-quickchart-complete');\n",
              "        }\n",
              "        (() => {\n",
              "          let quickchartButtonEl =\n",
              "            document.querySelector('#df-f4dbf733-2802-4823-9868-ba13586c0818 button');\n",
              "          quickchartButtonEl.style.display =\n",
              "            google.colab.kernel.accessAllowed ? 'block' : 'none';\n",
              "        })();\n",
              "      </script>\n",
              "    </div>\n",
              "\n",
              "  <div id=\"id_d2d4dbc8-2403-4d65-b4d9-505dfe08640e\">\n",
              "    <style>\n",
              "      .colab-df-generate {\n",
              "        background-color: #E8F0FE;\n",
              "        border: none;\n",
              "        border-radius: 50%;\n",
              "        cursor: pointer;\n",
              "        display: none;\n",
              "        fill: #1967D2;\n",
              "        height: 32px;\n",
              "        padding: 0 0 0 0;\n",
              "        width: 32px;\n",
              "      }\n",
              "\n",
              "      .colab-df-generate:hover {\n",
              "        background-color: #E2EBFA;\n",
              "        box-shadow: 0px 1px 2px rgba(60, 64, 67, 0.3), 0px 1px 3px 1px rgba(60, 64, 67, 0.15);\n",
              "        fill: #174EA6;\n",
              "      }\n",
              "\n",
              "      [theme=dark] .colab-df-generate {\n",
              "        background-color: #3B4455;\n",
              "        fill: #D2E3FC;\n",
              "      }\n",
              "\n",
              "      [theme=dark] .colab-df-generate:hover {\n",
              "        background-color: #434B5C;\n",
              "        box-shadow: 0px 1px 3px 1px rgba(0, 0, 0, 0.15);\n",
              "        filter: drop-shadow(0px 1px 2px rgba(0, 0, 0, 0.3));\n",
              "        fill: #FFFFFF;\n",
              "      }\n",
              "    </style>\n",
              "    <button class=\"colab-df-generate\" onclick=\"generateWithVariable('df')\"\n",
              "            title=\"Generate code using this dataframe.\"\n",
              "            style=\"display:none;\">\n",
              "\n",
              "  <svg xmlns=\"http://www.w3.org/2000/svg\" height=\"24px\"viewBox=\"0 0 24 24\"\n",
              "       width=\"24px\">\n",
              "    <path d=\"M7,19H8.4L18.45,9,17,7.55,7,17.6ZM5,21V16.75L18.45,3.32a2,2,0,0,1,2.83,0l1.4,1.43a1.91,1.91,0,0,1,.58,1.4,1.91,1.91,0,0,1-.58,1.4L9.25,21ZM18.45,9,17,7.55Zm-12,3A5.31,5.31,0,0,0,4.9,8.1,5.31,5.31,0,0,0,1,6.5,5.31,5.31,0,0,0,4.9,4.9,5.31,5.31,0,0,0,6.5,1,5.31,5.31,0,0,0,8.1,4.9,5.31,5.31,0,0,0,12,6.5,5.46,5.46,0,0,0,6.5,12Z\"/>\n",
              "  </svg>\n",
              "    </button>\n",
              "    <script>\n",
              "      (() => {\n",
              "      const buttonEl =\n",
              "        document.querySelector('#id_d2d4dbc8-2403-4d65-b4d9-505dfe08640e button.colab-df-generate');\n",
              "      buttonEl.style.display =\n",
              "        google.colab.kernel.accessAllowed ? 'block' : 'none';\n",
              "\n",
              "      buttonEl.onclick = () => {\n",
              "        google.colab.notebook.generateWithVariable('df');\n",
              "      }\n",
              "      })();\n",
              "    </script>\n",
              "  </div>\n",
              "\n",
              "    </div>\n",
              "  </div>\n"
            ],
            "application/vnd.google.colaboratory.intrinsic+json": {
              "type": "dataframe",
              "variable_name": "df",
              "summary": "{\n  \"name\": \"df\",\n  \"rows\": 266,\n  \"fields\": [\n    {\n      \"column\": [\n        \"Date\",\n        \"\"\n      ],\n      \"properties\": {\n        \"dtype\": \"date\",\n        \"min\": \"2024-04-01 00:00:00\",\n        \"max\": \"2025-04-29 00:00:00\",\n        \"num_unique_values\": 266,\n        \"samples\": [\n          \"2024-12-24 00:00:00\",\n          \"2024-09-24 00:00:00\",\n          \"2024-10-23 00:00:00\"\n        ],\n        \"semantic_type\": \"\",\n        \"description\": \"\"\n      }\n    },\n    {\n      \"column\": [\n        \"TATAMOTORS.NS\",\n        \"Open\"\n      ],\n      \"properties\": {\n        \"dtype\": \"number\",\n        \"std\": 150.2582278266605,\n        \"min\": 560.5,\n        \"max\": 1167.0,\n        \"num_unique_values\": 255,\n        \"samples\": [\n          769.9000244140625,\n          1017.8589442739643,\n          1167.0\n        ],\n        \"semantic_type\": \"\",\n        \"description\": \"\"\n      }\n    },\n    {\n      \"column\": [\n        \"TATAMOTORS.NS\",\n        \"High\"\n      ],\n      \"properties\": {\n        \"dtype\": \"number\",\n        \"std\": 151.04002573493386,\n        \"min\": 582.0,\n        \"max\": 1179.0,\n        \"num_unique_values\": 263,\n        \"samples\": [\n          983.7000122070312,\n          982.5,\n          671.0\n        ],\n        \"semantic_type\": \"\",\n        \"description\": \"\"\n      }\n    },\n    {\n      \"column\": [\n        \"TATAMOTORS.NS\",\n        \"Low\"\n      ],\n      \"properties\": {\n        \"dtype\": \"number\",\n        \"std\": 148.41202013745595,\n        \"min\": 535.75,\n        \"max\": 1145.300048828125,\n        \"num_unique_values\": 261,\n        \"samples\": [\n          916.1727321600905,\n          831.8499755859375,\n          798.2000122070312\n        ],\n        \"semantic_type\": \"\",\n        \"description\": \"\"\n      }\n    },\n    {\n      \"column\": [\n        \"TATAMOTORS.NS\",\n        \"Close\"\n      ],\n      \"properties\": {\n        \"dtype\": \"number\",\n        \"std\": 149.92183836447293,\n        \"min\": 579.75,\n        \"max\": 1161.8499755859375,\n        \"num_unique_values\": 262,\n        \"samples\": [\n          579.75,\n          683.8499755859375,\n          751.0\n        ],\n        \"semantic_type\": \"\",\n        \"description\": \"\"\n      }\n    },\n    {\n      \"column\": [\n        \"TATAMOTORS.NS\",\n        \"Volume\"\n      ],\n      \"properties\": {\n        \"dtype\": \"number\",\n        \"std\": 7601754,\n        \"min\": 0,\n        \"max\": 59390998,\n        \"num_unique_values\": 266,\n        \"samples\": [\n          12553555,\n          12755422,\n          10553771\n        ],\n        \"semantic_type\": \"\",\n        \"description\": \"\"\n      }\n    }\n  ]\n}"
            }
          },
          "metadata": {},
          "execution_count": 102
        }
      ]
    },
    {
      "cell_type": "code",
      "source": [
        "df.dropna()\n",
        "df.info()"
      ],
      "metadata": {
        "colab": {
          "base_uri": "https://localhost:8080/"
        },
        "id": "6P6vA0-Ltx3E",
        "outputId": "636488f9-6120-4c05-a787-d9f9d4359eae"
      },
      "execution_count": null,
      "outputs": [
        {
          "output_type": "stream",
          "name": "stdout",
          "text": [
            "<class 'pandas.core.frame.DataFrame'>\n",
            "DatetimeIndex: 266 entries, 2024-04-01 to 2025-04-29\n",
            "Data columns (total 5 columns):\n",
            " #   Column                   Non-Null Count  Dtype  \n",
            "---  ------                   --------------  -----  \n",
            " 0   (TATAMOTORS.NS, Open)    266 non-null    float64\n",
            " 1   (TATAMOTORS.NS, High)    266 non-null    float64\n",
            " 2   (TATAMOTORS.NS, Low)     266 non-null    float64\n",
            " 3   (TATAMOTORS.NS, Close)   266 non-null    float64\n",
            " 4   (TATAMOTORS.NS, Volume)  266 non-null    int64  \n",
            "dtypes: float64(4), int64(1)\n",
            "memory usage: 12.5 KB\n"
          ]
        }
      ]
    },
    {
      "cell_type": "code",
      "source": [
        "fig = go.Figure(data=[\n",
        "    go.Candlestick(x=df.index, open=df[nse]['Open'], high=df[nse]['High'], low=df[nse]['Low'], close=df[nse]['Close']),\n",
        "    go.Scatter(x=['2024-06-05'], y=[3881], mode='markers+text', marker=dict(size=12, color='red', symbol='circle'), text=[\"Significant Drop\"], textposition=\"top center\", name=\"Noteworthy Event\"),\n",
        "    go.Scatter(x=['2025-03-02', '2025-03-02'], y=[df[nse]['Low'].min() - 10, df[nse]['High'].max() + 10], mode='lines', line=dict(color='green', width=4, dash='dot'), name='Potential Reversal Point')\n",
        "])\n",
        "\n",
        "fig.update_layout(title={'text': f\"Financial Performance: {nse}\", 'x': 0.5, 'xanchor': 'center'},\n",
        "                  xaxis_title='Trading Date', yaxis_title='Value', hovermode=\"x unified\", template=\"plotly_dark\", xaxis_rangeslider_visible=False)\n",
        "fig.show()"
      ],
      "metadata": {
        "colab": {
          "base_uri": "https://localhost:8080/",
          "height": 542
        },
        "id": "JssVWhelvEy7",
        "outputId": "e0c68f80-8560-4c8c-910d-ccfef4b77233"
      },
      "execution_count": null,
      "outputs": [
        {
          "output_type": "display_data",
          "data": {
            "text/html": [
              "<html>\n",
              "<head><meta charset=\"utf-8\" /></head>\n",
              "<body>\n",
              "    <div>            <script src=\"https://cdnjs.cloudflare.com/ajax/libs/mathjax/2.7.5/MathJax.js?config=TeX-AMS-MML_SVG\"></script><script type=\"text/javascript\">if (window.MathJax && window.MathJax.Hub && window.MathJax.Hub.Config) {window.MathJax.Hub.Config({SVG: {font: \"STIX-Web\"}});}</script>                <script type=\"text/javascript\">window.PlotlyConfig = {MathJaxConfig: 'local'};</script>\n",
              "        <script charset=\"utf-8\" src=\"https://cdn.plot.ly/plotly-2.35.2.min.js\"></script>                <div id=\"3054a010-62d1-4e8f-b6ec-2544299ef419\" class=\"plotly-graph-div\" style=\"height:525px; width:100%;\"></div>            <script type=\"text/javascript\">                                    window.PLOTLYENV=window.PLOTLYENV || {};                                    if (document.getElementById(\"3054a010-62d1-4e8f-b6ec-2544299ef419\")) {                    Plotly.newPlot(                        \"3054a010-62d1-4e8f-b6ec-2544299ef419\",                        [{\"close\":[989.1973876953125,1001.5592651367188,1006.0454711914062,1008.4878540039062,1004.001708984375,1010.0829467773438,1005.3973999023438,1010.3820190429688,1015.3666381835938,995.7272338867188,989.7457275390625,968.3616943359375,960.23681640625,970.554931640625,983.71435546875,988.5993041992188,998.1697387695312,996.4251098632812,997.5216674804688,1004.79931640625,1024.6380615234375,1010.2823486328125,1013.07373046875,985.5087890625,1008.986328125,1027.13037109375,1043.4300537109375,956.79736328125,961.6823120117188,944.3856811523438,933.5192260742188,942.7906494140625,948.3733520507812,944.5850830078125,959.3893432617188,957.5949096679688,955.5512084960938,944.6348876953125,940.6970825195312,921.1075439453125,920.1604614257812,947.5260009765625,901.1192626953125,927.089111328125,935.363525390625,967.5143432617188,972.1500244140625,987.0999755859375,988.7000122070312,985.8499755859375,993.4000244140625,985.9000244140625,977.3499755859375,978.25,961.7999877929688,958.0499877929688,955.0,951.8499755859375,972.0999755859375,989.75,1002.0499877929688,981.2999877929688,975.6500244140625,998.2000122070312,993.6500244140625,1002.5999755859375,1014.9500122070312,1005.5,1020.7999877929688,1016.75,1024.449951171875,1021.1500244140625,1024.550048828125,990.0,1003.1500244140625,1001.7999877929688,1027.699951171875,1090.949951171875,1118.300048828125,1124.0,1161.8499755859375,1156.6500244140625,1144.4000244140625,1096.6500244140625,1016.4500122070312,1013.75,1025.300048828125,1041.75,1068.0999755859375,1076.1500244140625,1053.449951171875,1062.3499755859375,1098.3499755859375,1087.699951171875,1086.9000244140625,1085.199951171875,1068.449951171875,1085.1500244140625,1092.4000244140625,1077.25,1074.550048828125,1121.6500244140625,1111.3499755859375,1092.6500244140625,1085.0999755859375,1080.449951171875,1069.1500244140625,1049.3499755859375,1038.699951171875,1035.800048828125,976.2999877929688,986.1500244140625,992.0999755859375,988.4000244140625,974.9500122070312,962.0499877929688,967.0,970.8499755859375,971.7999877929688,977.2999877929688,963.5999755859375,993.1500244140625,993.0,974.6500244140625,965.2000122070312,925.7000122070312,930.75,927.8499755859375,919.7999877929688,939.1500244140625,928.5,930.7000122070312,928.25,917.2999877929688,907.4500122070312,891.5999755859375,910.1500244140625,903.2999877929688,879.5,877.6500244140625,880.0,864.2999877929688,878.4500122070312,842.75,840.2000122070312,834.0499877929688,843.4500122070312,824.0999755859375,835.6500244140625,839.7000122070312,819.75,805.4500122070312,804.7000122070312,784.8499755859375,786.25,774.2999877929688,771.9000244140625,783.2000122070312,773.8499755859375,791.0,796.5999755859375,783.0,783.9500122070312,779.4500122070312,786.4500122070312,790.0499877929688,801.25,788.0999755859375,792.5499877929688,816.7999877929688,798.75,799.9000244140625,799.0999755859375,786.3499755859375,790.2999877929688,784.7999877929688,779.75,755.7000122070312,744.0499877929688,724.0499877929688,722.2000122070312,736.0999755859375,740.7999877929688,750.5,733.6500244140625,740.1500244140625,749.25,765.0499877929688,790.4000244140625,776.25,793.25,794.9500122070312,780.0999755859375,774.6500244140625,751.0,770.5,763.5999755859375,774.3499755859375,779.75,774.3499755859375,760.75,742.75,752.5,734.0999755859375,713.0499877929688,728.25,752.5,696.8499755859375,716.0999755859375,706.5499877929688,687.4500122070312,710.5499877929688,717.0499877929688,709.6500244140625,706.75,696.0,677.75,684.3499755859375,683.8499755859375,680.6500244140625,686.5999755859375,682.4000244140625,681.0,689.7999877929688,673.2000122070312,668.25,661.5999755859375,648.5499877929688,620.6500244140625,621.1500244140625,619.2000122070312,640.7999877929688,639.6500244140625,648.2999877929688,648.1500244140625,648.0499877929688,668.2999877929688,655.5,661.0499877929688,661.0499877929688,682.25,690.0499877929688,702.9500122070312,713.5,710.2999877929688,708.25,668.5499877929688,674.4500122070312,671.8499755859375,671.9000244140625,653.9500122070312,613.8499755859375,579.75,588.8499755859375,582.9000244140625,595.0499877929688,622.2000122070312,616.0499877929688,621.5499877929688,630.0499877929688,630.8499755859375,659.9000244140625,668.3499755859375,655.25,668.1500244140625,665.5999755859375],\"high\":[1006.7432177513575,1004.8989346778949,1011.3291540804612,1013.871265593801,1009.3851206333742,1013.2731142870745,1026.3327944466662,1017.8589456762418,1025.8343354844556,1003.852185193392,1001.80853948109,1000.0140179761577,964.9722034703329,975.7389463860485,991.4405133150968,992.8362294645907,1000.2134199478468,1005.8460497848425,1002.6558480385609,1016.3137717666636,1026.8312446301773,1036.9998267222027,1016.6626309338477,1014.8183665411239,1011.8774308377767,1039.9905873933412,1047.118622153057,1005.5967825177934,965.0219815137478,969.9567949388908,951.4638497726754,950.4669732117342,953.7069295016887,951.9623417681472,960.4859956628709,967.9629389906398,963.4767627704676,958.9407769957431,947.5758796831192,948.5229420987141,934.3666223957892,960.0373793689552,945.0835689366378,930.8774088277726,943.0896829411471,970.0066522345722,981.8700290294881,992.5499877929688,1010.25,1002.0,997.25,1003.5499877929688,994.9000244140625,988.4000244140625,980.9000244140625,963.5,962.8499755859375,962.5,974.8499755859375,998.5,1005.5,1005.0,987.3499755859375,1004.0,1006.5999755859375,1016.5999755859375,1017.0,1019.8499755859375,1025.5,1025.9000244140625,1029.800048828125,1029.5999755859375,1027.0,1024.0,1008.0,1008.6500244140625,1034.25,1094.0,1120.5,1139.9000244140625,1179.0,1167.9000244140625,1176.0,1120.0,1065.0,1060.6500244140625,1040.199951171875,1056.4000244140625,1082.949951171875,1079.9000244140625,1075.5,1067.050048828125,1099.949951171875,1107.0,1098.050048828125,1095.300048828125,1094.75,1092.5999755859375,1103.3499755859375,1096.6500244140625,1088.699951171875,1142.0,1115.0,1105.0,1100.0,1085.0,1085.8499755859375,1072.949951171875,1049.949951171875,1049.0,1011.5499877929688,988.0,1006.0,999.9000244140625,995.0,983.7000122070312,978.9500122070312,977.5,979.2000122070312,985.0,982.5,994.9500122070312,1000.4000244140625,996.9500122070312,984.5,950.1500244140625,949.2000122070312,944.4500122070312,924.7999877929688,948.4500122070312,943.5999755859375,937.0,940.0,935.3499755859375,923.0,914.9500122070312,917.7000122070312,917.6500244140625,906.0999755859375,885.5999755859375,890.0,885.75,886.75,882.5,853.5999755859375,843.8499755859375,847.9500122070312,844.4500122070312,843.5999755859375,843.9000244140625,842.75,822.0,831.4500122070312,813.0999755859375,792.6500244140625,792.0,781.75,799.9000244140625,785.9500122070312,794.0,810.2000122070312,801.7999877929688,791.9000244140625,792.5499877929688,789.4000244140625,796.75,806.0,806.0,797.5,818.8499755859375,820.3499755859375,810.4500122070312,806.9500122070312,802.0,792.5,793.9500122070312,796.3499755859375,774.25,755.7999877929688,749.5499877929688,734.4000244140625,745.2999877929688,747.7999877929688,766.8499755859375,754.9000244140625,743.4000244140625,751.0999755859375,767.3499755859375,800.5999755859375,797.7000122070312,796.9500122070312,797.0,810.0,787.9500122070312,773.5499877929688,779.0,785.0,781.0,785.5,783.0,786.6500244140625,765.4500122070312,759.7000122070312,754.1500244140625,732.9500122070312,740.8499755859375,755.0,710.7000122070312,717.0,724.75,700.0,713.3499755859375,725.4500122070312,723.4000244140625,715.9500122070312,709.9000244140625,697.0,687.5499877929688,693.1500244140625,690.9500122070312,690.7000122070312,687.9500122070312,690.9500122070312,692.8499755859375,690.0,676.5999755859375,672.5,665.0,645.0,626.8499755859375,629.1500244140625,641.5999755859375,655.9500122070312,651.5,654.25,651.1500244140625,671.9000244140625,671.8499755859375,666.4500122070312,661.0499877929688,685.75,692.7000122070312,705.0,717.5,723.0499877929688,717.8499755859375,676.5999755859375,684.9500122070312,681.8499755859375,675.3499755859375,669.0,650.0,582.0,606.5999755859375,594.9000244140625,612.7999877929688,628.2999877929688,625.0,627.0,635.75,633.9500122070312,661.5,671.0,673.0,669.5999755859375,682.9000244140625],\"low\":[984.4121668479715,990.3438752407601,989.4965029902119,995.0792807327128,1001.3100640072616,1000.9112380046372,1001.90816747829,1006.892786614108,1010.3820204212786,975.4896979034717,979.0786329613645,963.2774084208725,941.0958712619531,963.0281708392571,971.0534136671944,984.9605087500032,986.4558866541336,993.5340071665445,995.9266141591074,994.4312866724147,1008.4379931758202,992.9358545457699,1001.9081744644453,979.028785817335,973.9943349049339,1004.2010688452552,1027.230046089197,944.2859850790886,950.3173593780787,942.1924371394084,916.1727321600905,938.1050963806224,945.7813751840451,939.6502991645742,942.1425782092996,955.0527667693228,949.071205517247,943.0896683785454,935.911861419699,918.1666072466522,917.2693587139829,931.1265963973044,852.7684682929635,887.2620014529773,928.3352264980141,932.3727867444848,966.1185882568394,966.6500244140625,987.0,980.75,981.4000244140625,984.0,975.1500244140625,976.3499755859375,958.0999755859375,950.0499877929688,949.2999877929688,950.0999755859375,948.0499877929688,972.5499877929688,985.2000122070312,979.0999755859375,973.5,979.5999755859375,989.9500122070312,996.2000122070312,998.0999755859375,986.0499877929688,1007.0499877929688,1015.0,1017.2999877929688,1019.2000122070312,1008.0,986.6500244140625,976.5499877929688,967.2000122070312,995.1500244140625,1024.3499755859375,1083.5999755859375,1118.5999755859375,1118.5999755859375,1145.300048828125,1136.5,1090.050048828125,1014.0499877929688,1008.4000244140625,1015.0499877929688,1027.0,1052.050048828125,1055.0,1048.199951171875,1047.0,1070.0,1085.0,1082.050048828125,1083.300048828125,1064.949951171875,1071.0,1082.8499755859375,1075.0,1070.0999755859375,1066.0,1097.449951171875,1087.3499755859375,1082.199951171875,1072.0999755859375,1066.949951171875,1040.5,1026.25,1032.199951171875,971.25,958.0,988.0,984.5,960.0,957.1500244140625,956.3499755859375,949.2000122070312,966.0499877929688,972.5999755859375,959.25,965.5999755859375,989.1500244140625,971.7999877929688,958.9000244140625,925.0,920.0,915.0,893.8499755859375,925.5,912.3499755859375,928.5,925.3499755859375,913.0,900.0,890.0499877929688,886.7999877929688,898.0999755859375,875.25,863.2999877929688,875.25,857.2999877929688,860.2000122070312,825.7000122070312,838.0499877929688,831.8499755859375,840.0,814.5,820.4000244140625,826.0,817.2999877929688,801.0999755859375,792.0,783.0499877929688,775.5499877929688,772.0,759.2000122070312,771.9000244140625,766.25,775.0,793.6500244140625,780.1500244140625,779.0999755859375,778.0,777.0499877929688,785.0,790.0,784.0499877929688,781.0,785.2999877929688,797.0,797.4500122070312,798.2000122070312,785.5,775.0,783.0,778.0,754.0,741.4000244140625,721.5,717.7000122070312,722.5,735.5499877929688,745.7000122070312,730.7000122070312,732.75,736.0,749.3499755859375,761.4500122070312,765.2999877929688,772.5,781.6500244140625,769.4500122070312,766.7999877929688,748.7999877929688,751.5,756.0499877929688,767.3499755859375,772.25,767.0,758.4000244140625,731.0,739.7999877929688,732.2000122070312,709.2999877929688,707.5,726.5499877929688,683.2000122070312,696.4500122070312,700.9000244140625,686.0,693.75,710.7000122070312,708.1500244140625,703.0999755859375,693.0499877929688,675.0999755859375,667.0499877929688,679.3499755859375,669.1500244140625,667.0499877929688,672.1500244140625,675.0499877929688,675.0,671.0999755859375,666.0,660.0,645.6500244140625,618.4500122070312,606.2999877929688,613.0,618.5999755859375,635.5999755859375,635.0,643.3499755859375,638.4500122070312,652.25,649.5999755859375,657.4500122070312,661.0499877929688,678.5499877929688,679.0,688.5499877929688,702.0499877929688,706.3499755859375,707.0,661.0999755859375,669.2999877929688,665.75,662.0999755859375,652.5,610.0,535.75,584.2000122070312,581.0499877929688,591.0,612.6500244140625,613.5999755859375,608.25,620.2000122070312,626.2000122070312,633.3499755859375,660.0999755859375,651.5,652.5499877929688,661.5999755859375],\"open\":[996.9235451703829,995.926622761128,1000.9112903333113,1012.8743420288121,1008.4878650760788,1006.9426132753277,1017.8589442739643,1009.1358646040899,1010.8804821975102,995.0293752292167,986.9543536577906,993.2847838164258,961.0343431107234,975.7389463860485,972.997426843172,989.346996893108,989.446657407001,1004.6995633384917,999.9641423173026,1001.9082136398765,1016.8620092454183,1034.8066435928806,1011.8774100312557,1013.0737502828102,983.9137366673529,1007.8896981096933,1033.8097171535346,1001.9081532666385,962.1308789243916,967.9629478084743,950.2675293566348,941.0958671448539,951.0650577800128,949.0712390748681,947.0773618960241,959.5389227718927,961.9315434603733,956.0496743922041,944.036813080503,940.5973875539809,928.7838747044248,960.0373793689552,945.0835689366378,922.1044933424341,937.1081416117106,937.1081737929064,973.9943086431638,973.7999877929688,994.5,1002.0,990.0,1000.0,990.0,980.0,979.0,960.9000244140625,960.0,956.0,952.5,975.0,989.75,1004.0499877929688,984.9500122070312,984.0,1005.0,1005.0,1000.9500122070312,1015.0,1008.0,1023.8499755859375,1021.3499755859375,1025.5,1022.9500122070312,1024.0,990.0,1007.9000244140625,997.7999877929688,1029.0,1111.949951171875,1124.0,1125.800048828125,1164.0,1167.0,1120.0,1059.949951171875,1030.0,1036.050048828125,1034.949951171875,1055.0,1065.0,1074.8499755859375,1057.0,1072.0,1105.9000244140625,1097.0,1089.0,1090.0,1073.0,1089.0,1093.050048828125,1082.949951171875,1079.050048828125,1113.949951171875,1105.0,1097.5999755859375,1079.0,1081.0,1068.800048828125,1049.3499755859375,1049.0,1000.0,976.2999877929688,994.9000244140625,997.0,995.0,978.2000122070312,970.4000244140625,967.0,973.5,974.0,982.4000244140625,970.7999877929688,996.0,993.0,976.9000244140625,939.0,930.0,942.0,916.0,926.7999877929688,933.75,932.0,930.0,932.9500122070312,917.0499877929688,914.9500122070312,894.2999877929688,912.0499877929688,905.0,879.0,875.25,883.9000244140625,867.8499755859375,880.25,846.0,843.8499755859375,847.9500122070312,840.0,821.5,843.9000244140625,841.0,821.9500122070312,801.0,806.0,787.0,786.5999755859375,778.0,771.9000244140625,784.9500122070312,775.0,808.0499877929688,797.1500244140625,785.0499877929688,783.0,779.5,787.2999877929688,795.0,805.0,793.0,793.0,816.7999877929688,804.7999877929688,802.9000244140625,799.2000122070312,789.0,791.4000244140625,785.5,774.0,744.4500122070312,744.2999877929688,733.7000122070312,723.5,736.0999755859375,749.0,753.9000244140625,733.6500244140625,740.4500122070312,759.2999877929688,768.0,797.7000122070312,776.0,792.5999755859375,800.0,780.0499877929688,769.0,751.5,771.0,769.9000244140625,773.9000244140625,780.0,775.0,764.1500244140625,742.75,750.0499877929688,732.9500122070312,716.5,731.5,709.0,706.0,719.5,700.0,696.2999877929688,711.0,723.0,711.0,709.75,696.0,680.0,684.3499755859375,685.9500122070312,678.0,686.5999755859375,681.75,680.0,686.0,670.0,667.75,662.0,645.0,620.6500244140625,613.4500122070312,619.0,653.25,640.0,648.2999877929688,640.0,654.5,670.6500244140625,665.0499877929688,661.0499877929688,685.4000244140625,685.0,693.0,710.0,719.0,710.2999877929688,668.0,671.8499755859375,670.5499877929688,674.9500122070312,660.0,650.0,560.5,591.2000122070312,588.0,610.0,614.0,625.0,616.0499877929688,624.5999755859375,630.25,635.9500122070312,660.0999755859375,668.3499755859375,654.2999877929688,671.4500122070312],\"x\":[\"2024-04-01T00:00:00\",\"2024-04-02T00:00:00\",\"2024-04-03T00:00:00\",\"2024-04-04T00:00:00\",\"2024-04-05T00:00:00\",\"2024-04-08T00:00:00\",\"2024-04-09T00:00:00\",\"2024-04-10T00:00:00\",\"2024-04-12T00:00:00\",\"2024-04-15T00:00:00\",\"2024-04-16T00:00:00\",\"2024-04-18T00:00:00\",\"2024-04-19T00:00:00\",\"2024-04-22T00:00:00\",\"2024-04-23T00:00:00\",\"2024-04-24T00:00:00\",\"2024-04-25T00:00:00\",\"2024-04-26T00:00:00\",\"2024-04-29T00:00:00\",\"2024-04-30T00:00:00\",\"2024-05-02T00:00:00\",\"2024-05-03T00:00:00\",\"2024-05-06T00:00:00\",\"2024-05-07T00:00:00\",\"2024-05-08T00:00:00\",\"2024-05-09T00:00:00\",\"2024-05-10T00:00:00\",\"2024-05-13T00:00:00\",\"2024-05-14T00:00:00\",\"2024-05-15T00:00:00\",\"2024-05-16T00:00:00\",\"2024-05-17T00:00:00\",\"2024-05-21T00:00:00\",\"2024-05-22T00:00:00\",\"2024-05-23T00:00:00\",\"2024-05-24T00:00:00\",\"2024-05-27T00:00:00\",\"2024-05-28T00:00:00\",\"2024-05-29T00:00:00\",\"2024-05-30T00:00:00\",\"2024-05-31T00:00:00\",\"2024-06-03T00:00:00\",\"2024-06-04T00:00:00\",\"2024-06-05T00:00:00\",\"2024-06-06T00:00:00\",\"2024-06-07T00:00:00\",\"2024-06-10T00:00:00\",\"2024-06-11T00:00:00\",\"2024-06-12T00:00:00\",\"2024-06-13T00:00:00\",\"2024-06-14T00:00:00\",\"2024-06-18T00:00:00\",\"2024-06-19T00:00:00\",\"2024-06-20T00:00:00\",\"2024-06-21T00:00:00\",\"2024-06-24T00:00:00\",\"2024-06-25T00:00:00\",\"2024-06-26T00:00:00\",\"2024-06-27T00:00:00\",\"2024-06-28T00:00:00\",\"2024-07-01T00:00:00\",\"2024-07-02T00:00:00\",\"2024-07-03T00:00:00\",\"2024-07-04T00:00:00\",\"2024-07-05T00:00:00\",\"2024-07-08T00:00:00\",\"2024-07-09T00:00:00\",\"2024-07-10T00:00:00\",\"2024-07-11T00:00:00\",\"2024-07-12T00:00:00\",\"2024-07-15T00:00:00\",\"2024-07-16T00:00:00\",\"2024-07-18T00:00:00\",\"2024-07-19T00:00:00\",\"2024-07-22T00:00:00\",\"2024-07-23T00:00:00\",\"2024-07-24T00:00:00\",\"2024-07-25T00:00:00\",\"2024-07-26T00:00:00\",\"2024-07-29T00:00:00\",\"2024-07-30T00:00:00\",\"2024-07-31T00:00:00\",\"2024-08-01T00:00:00\",\"2024-08-02T00:00:00\",\"2024-08-05T00:00:00\",\"2024-08-06T00:00:00\",\"2024-08-07T00:00:00\",\"2024-08-08T00:00:00\",\"2024-08-09T00:00:00\",\"2024-08-12T00:00:00\",\"2024-08-13T00:00:00\",\"2024-08-14T00:00:00\",\"2024-08-16T00:00:00\",\"2024-08-19T00:00:00\",\"2024-08-20T00:00:00\",\"2024-08-21T00:00:00\",\"2024-08-22T00:00:00\",\"2024-08-23T00:00:00\",\"2024-08-26T00:00:00\",\"2024-08-27T00:00:00\",\"2024-08-28T00:00:00\",\"2024-08-29T00:00:00\",\"2024-08-30T00:00:00\",\"2024-09-02T00:00:00\",\"2024-09-03T00:00:00\",\"2024-09-04T00:00:00\",\"2024-09-05T00:00:00\",\"2024-09-06T00:00:00\",\"2024-09-09T00:00:00\",\"2024-09-10T00:00:00\",\"2024-09-11T00:00:00\",\"2024-09-12T00:00:00\",\"2024-09-13T00:00:00\",\"2024-09-16T00:00:00\",\"2024-09-17T00:00:00\",\"2024-09-18T00:00:00\",\"2024-09-19T00:00:00\",\"2024-09-20T00:00:00\",\"2024-09-23T00:00:00\",\"2024-09-24T00:00:00\",\"2024-09-25T00:00:00\",\"2024-09-26T00:00:00\",\"2024-09-27T00:00:00\",\"2024-09-30T00:00:00\",\"2024-10-01T00:00:00\",\"2024-10-03T00:00:00\",\"2024-10-04T00:00:00\",\"2024-10-07T00:00:00\",\"2024-10-08T00:00:00\",\"2024-10-09T00:00:00\",\"2024-10-10T00:00:00\",\"2024-10-11T00:00:00\",\"2024-10-14T00:00:00\",\"2024-10-15T00:00:00\",\"2024-10-16T00:00:00\",\"2024-10-17T00:00:00\",\"2024-10-18T00:00:00\",\"2024-10-21T00:00:00\",\"2024-10-22T00:00:00\",\"2024-10-23T00:00:00\",\"2024-10-24T00:00:00\",\"2024-10-25T00:00:00\",\"2024-10-28T00:00:00\",\"2024-10-29T00:00:00\",\"2024-10-30T00:00:00\",\"2024-10-31T00:00:00\",\"2024-11-01T00:00:00\",\"2024-11-04T00:00:00\",\"2024-11-05T00:00:00\",\"2024-11-06T00:00:00\",\"2024-11-07T00:00:00\",\"2024-11-08T00:00:00\",\"2024-11-11T00:00:00\",\"2024-11-12T00:00:00\",\"2024-11-13T00:00:00\",\"2024-11-14T00:00:00\",\"2024-11-18T00:00:00\",\"2024-11-19T00:00:00\",\"2024-11-21T00:00:00\",\"2024-11-22T00:00:00\",\"2024-11-25T00:00:00\",\"2024-11-26T00:00:00\",\"2024-11-27T00:00:00\",\"2024-11-28T00:00:00\",\"2024-11-29T00:00:00\",\"2024-12-02T00:00:00\",\"2024-12-03T00:00:00\",\"2024-12-04T00:00:00\",\"2024-12-05T00:00:00\",\"2024-12-06T00:00:00\",\"2024-12-09T00:00:00\",\"2024-12-10T00:00:00\",\"2024-12-11T00:00:00\",\"2024-12-12T00:00:00\",\"2024-12-13T00:00:00\",\"2024-12-16T00:00:00\",\"2024-12-17T00:00:00\",\"2024-12-18T00:00:00\",\"2024-12-19T00:00:00\",\"2024-12-20T00:00:00\",\"2024-12-23T00:00:00\",\"2024-12-24T00:00:00\",\"2024-12-26T00:00:00\",\"2024-12-27T00:00:00\",\"2024-12-30T00:00:00\",\"2024-12-31T00:00:00\",\"2025-01-01T00:00:00\",\"2025-01-02T00:00:00\",\"2025-01-03T00:00:00\",\"2025-01-06T00:00:00\",\"2025-01-07T00:00:00\",\"2025-01-08T00:00:00\",\"2025-01-09T00:00:00\",\"2025-01-10T00:00:00\",\"2025-01-13T00:00:00\",\"2025-01-14T00:00:00\",\"2025-01-15T00:00:00\",\"2025-01-16T00:00:00\",\"2025-01-17T00:00:00\",\"2025-01-20T00:00:00\",\"2025-01-21T00:00:00\",\"2025-01-22T00:00:00\",\"2025-01-23T00:00:00\",\"2025-01-24T00:00:00\",\"2025-01-27T00:00:00\",\"2025-01-28T00:00:00\",\"2025-01-29T00:00:00\",\"2025-01-30T00:00:00\",\"2025-01-31T00:00:00\",\"2025-02-01T00:00:00\",\"2025-02-03T00:00:00\",\"2025-02-04T00:00:00\",\"2025-02-05T00:00:00\",\"2025-02-06T00:00:00\",\"2025-02-07T00:00:00\",\"2025-02-10T00:00:00\",\"2025-02-11T00:00:00\",\"2025-02-12T00:00:00\",\"2025-02-13T00:00:00\",\"2025-02-14T00:00:00\",\"2025-02-17T00:00:00\",\"2025-02-18T00:00:00\",\"2025-02-19T00:00:00\",\"2025-02-20T00:00:00\",\"2025-02-21T00:00:00\",\"2025-02-24T00:00:00\",\"2025-02-25T00:00:00\",\"2025-02-27T00:00:00\",\"2025-02-28T00:00:00\",\"2025-03-03T00:00:00\",\"2025-03-04T00:00:00\",\"2025-03-05T00:00:00\",\"2025-03-06T00:00:00\",\"2025-03-07T00:00:00\",\"2025-03-10T00:00:00\",\"2025-03-11T00:00:00\",\"2025-03-12T00:00:00\",\"2025-03-13T00:00:00\",\"2025-03-17T00:00:00\",\"2025-03-18T00:00:00\",\"2025-03-19T00:00:00\",\"2025-03-20T00:00:00\",\"2025-03-21T00:00:00\",\"2025-03-24T00:00:00\",\"2025-03-25T00:00:00\",\"2025-03-26T00:00:00\",\"2025-03-27T00:00:00\",\"2025-03-28T00:00:00\",\"2025-04-01T00:00:00\",\"2025-04-02T00:00:00\",\"2025-04-03T00:00:00\",\"2025-04-04T00:00:00\",\"2025-04-07T00:00:00\",\"2025-04-08T00:00:00\",\"2025-04-09T00:00:00\",\"2025-04-11T00:00:00\",\"2025-04-15T00:00:00\",\"2025-04-16T00:00:00\",\"2025-04-17T00:00:00\",\"2025-04-21T00:00:00\",\"2025-04-22T00:00:00\",\"2025-04-23T00:00:00\",\"2025-04-24T00:00:00\",\"2025-04-25T00:00:00\",\"2025-04-28T00:00:00\",\"2025-04-29T00:00:00\"],\"type\":\"candlestick\"},{\"marker\":{\"color\":\"red\",\"size\":12,\"symbol\":\"circle\"},\"mode\":\"markers+text\",\"name\":\"Noteworthy Event\",\"text\":[\"Significant Drop\"],\"textposition\":\"top center\",\"x\":[\"2024-06-05\"],\"y\":[3881],\"type\":\"scatter\"},{\"line\":{\"color\":\"green\",\"dash\":\"dot\",\"width\":4},\"mode\":\"lines\",\"name\":\"Potential Reversal Point\",\"x\":[\"2025-03-02\",\"2025-03-02\"],\"y\":[525.75,1189.0],\"type\":\"scatter\"}],                        {\"template\":{\"data\":{\"barpolar\":[{\"marker\":{\"line\":{\"color\":\"rgb(17,17,17)\",\"width\":0.5},\"pattern\":{\"fillmode\":\"overlay\",\"size\":10,\"solidity\":0.2}},\"type\":\"barpolar\"}],\"bar\":[{\"error_x\":{\"color\":\"#f2f5fa\"},\"error_y\":{\"color\":\"#f2f5fa\"},\"marker\":{\"line\":{\"color\":\"rgb(17,17,17)\",\"width\":0.5},\"pattern\":{\"fillmode\":\"overlay\",\"size\":10,\"solidity\":0.2}},\"type\":\"bar\"}],\"carpet\":[{\"aaxis\":{\"endlinecolor\":\"#A2B1C6\",\"gridcolor\":\"#506784\",\"linecolor\":\"#506784\",\"minorgridcolor\":\"#506784\",\"startlinecolor\":\"#A2B1C6\"},\"baxis\":{\"endlinecolor\":\"#A2B1C6\",\"gridcolor\":\"#506784\",\"linecolor\":\"#506784\",\"minorgridcolor\":\"#506784\",\"startlinecolor\":\"#A2B1C6\"},\"type\":\"carpet\"}],\"choropleth\":[{\"colorbar\":{\"outlinewidth\":0,\"ticks\":\"\"},\"type\":\"choropleth\"}],\"contourcarpet\":[{\"colorbar\":{\"outlinewidth\":0,\"ticks\":\"\"},\"type\":\"contourcarpet\"}],\"contour\":[{\"colorbar\":{\"outlinewidth\":0,\"ticks\":\"\"},\"colorscale\":[[0.0,\"#0d0887\"],[0.1111111111111111,\"#46039f\"],[0.2222222222222222,\"#7201a8\"],[0.3333333333333333,\"#9c179e\"],[0.4444444444444444,\"#bd3786\"],[0.5555555555555556,\"#d8576b\"],[0.6666666666666666,\"#ed7953\"],[0.7777777777777778,\"#fb9f3a\"],[0.8888888888888888,\"#fdca26\"],[1.0,\"#f0f921\"]],\"type\":\"contour\"}],\"heatmapgl\":[{\"colorbar\":{\"outlinewidth\":0,\"ticks\":\"\"},\"colorscale\":[[0.0,\"#0d0887\"],[0.1111111111111111,\"#46039f\"],[0.2222222222222222,\"#7201a8\"],[0.3333333333333333,\"#9c179e\"],[0.4444444444444444,\"#bd3786\"],[0.5555555555555556,\"#d8576b\"],[0.6666666666666666,\"#ed7953\"],[0.7777777777777778,\"#fb9f3a\"],[0.8888888888888888,\"#fdca26\"],[1.0,\"#f0f921\"]],\"type\":\"heatmapgl\"}],\"heatmap\":[{\"colorbar\":{\"outlinewidth\":0,\"ticks\":\"\"},\"colorscale\":[[0.0,\"#0d0887\"],[0.1111111111111111,\"#46039f\"],[0.2222222222222222,\"#7201a8\"],[0.3333333333333333,\"#9c179e\"],[0.4444444444444444,\"#bd3786\"],[0.5555555555555556,\"#d8576b\"],[0.6666666666666666,\"#ed7953\"],[0.7777777777777778,\"#fb9f3a\"],[0.8888888888888888,\"#fdca26\"],[1.0,\"#f0f921\"]],\"type\":\"heatmap\"}],\"histogram2dcontour\":[{\"colorbar\":{\"outlinewidth\":0,\"ticks\":\"\"},\"colorscale\":[[0.0,\"#0d0887\"],[0.1111111111111111,\"#46039f\"],[0.2222222222222222,\"#7201a8\"],[0.3333333333333333,\"#9c179e\"],[0.4444444444444444,\"#bd3786\"],[0.5555555555555556,\"#d8576b\"],[0.6666666666666666,\"#ed7953\"],[0.7777777777777778,\"#fb9f3a\"],[0.8888888888888888,\"#fdca26\"],[1.0,\"#f0f921\"]],\"type\":\"histogram2dcontour\"}],\"histogram2d\":[{\"colorbar\":{\"outlinewidth\":0,\"ticks\":\"\"},\"colorscale\":[[0.0,\"#0d0887\"],[0.1111111111111111,\"#46039f\"],[0.2222222222222222,\"#7201a8\"],[0.3333333333333333,\"#9c179e\"],[0.4444444444444444,\"#bd3786\"],[0.5555555555555556,\"#d8576b\"],[0.6666666666666666,\"#ed7953\"],[0.7777777777777778,\"#fb9f3a\"],[0.8888888888888888,\"#fdca26\"],[1.0,\"#f0f921\"]],\"type\":\"histogram2d\"}],\"histogram\":[{\"marker\":{\"pattern\":{\"fillmode\":\"overlay\",\"size\":10,\"solidity\":0.2}},\"type\":\"histogram\"}],\"mesh3d\":[{\"colorbar\":{\"outlinewidth\":0,\"ticks\":\"\"},\"type\":\"mesh3d\"}],\"parcoords\":[{\"line\":{\"colorbar\":{\"outlinewidth\":0,\"ticks\":\"\"}},\"type\":\"parcoords\"}],\"pie\":[{\"automargin\":true,\"type\":\"pie\"}],\"scatter3d\":[{\"line\":{\"colorbar\":{\"outlinewidth\":0,\"ticks\":\"\"}},\"marker\":{\"colorbar\":{\"outlinewidth\":0,\"ticks\":\"\"}},\"type\":\"scatter3d\"}],\"scattercarpet\":[{\"marker\":{\"colorbar\":{\"outlinewidth\":0,\"ticks\":\"\"}},\"type\":\"scattercarpet\"}],\"scattergeo\":[{\"marker\":{\"colorbar\":{\"outlinewidth\":0,\"ticks\":\"\"}},\"type\":\"scattergeo\"}],\"scattergl\":[{\"marker\":{\"line\":{\"color\":\"#283442\"}},\"type\":\"scattergl\"}],\"scattermapbox\":[{\"marker\":{\"colorbar\":{\"outlinewidth\":0,\"ticks\":\"\"}},\"type\":\"scattermapbox\"}],\"scatterpolargl\":[{\"marker\":{\"colorbar\":{\"outlinewidth\":0,\"ticks\":\"\"}},\"type\":\"scatterpolargl\"}],\"scatterpolar\":[{\"marker\":{\"colorbar\":{\"outlinewidth\":0,\"ticks\":\"\"}},\"type\":\"scatterpolar\"}],\"scatter\":[{\"marker\":{\"line\":{\"color\":\"#283442\"}},\"type\":\"scatter\"}],\"scatterternary\":[{\"marker\":{\"colorbar\":{\"outlinewidth\":0,\"ticks\":\"\"}},\"type\":\"scatterternary\"}],\"surface\":[{\"colorbar\":{\"outlinewidth\":0,\"ticks\":\"\"},\"colorscale\":[[0.0,\"#0d0887\"],[0.1111111111111111,\"#46039f\"],[0.2222222222222222,\"#7201a8\"],[0.3333333333333333,\"#9c179e\"],[0.4444444444444444,\"#bd3786\"],[0.5555555555555556,\"#d8576b\"],[0.6666666666666666,\"#ed7953\"],[0.7777777777777778,\"#fb9f3a\"],[0.8888888888888888,\"#fdca26\"],[1.0,\"#f0f921\"]],\"type\":\"surface\"}],\"table\":[{\"cells\":{\"fill\":{\"color\":\"#506784\"},\"line\":{\"color\":\"rgb(17,17,17)\"}},\"header\":{\"fill\":{\"color\":\"#2a3f5f\"},\"line\":{\"color\":\"rgb(17,17,17)\"}},\"type\":\"table\"}]},\"layout\":{\"annotationdefaults\":{\"arrowcolor\":\"#f2f5fa\",\"arrowhead\":0,\"arrowwidth\":1},\"autotypenumbers\":\"strict\",\"coloraxis\":{\"colorbar\":{\"outlinewidth\":0,\"ticks\":\"\"}},\"colorscale\":{\"diverging\":[[0,\"#8e0152\"],[0.1,\"#c51b7d\"],[0.2,\"#de77ae\"],[0.3,\"#f1b6da\"],[0.4,\"#fde0ef\"],[0.5,\"#f7f7f7\"],[0.6,\"#e6f5d0\"],[0.7,\"#b8e186\"],[0.8,\"#7fbc41\"],[0.9,\"#4d9221\"],[1,\"#276419\"]],\"sequential\":[[0.0,\"#0d0887\"],[0.1111111111111111,\"#46039f\"],[0.2222222222222222,\"#7201a8\"],[0.3333333333333333,\"#9c179e\"],[0.4444444444444444,\"#bd3786\"],[0.5555555555555556,\"#d8576b\"],[0.6666666666666666,\"#ed7953\"],[0.7777777777777778,\"#fb9f3a\"],[0.8888888888888888,\"#fdca26\"],[1.0,\"#f0f921\"]],\"sequentialminus\":[[0.0,\"#0d0887\"],[0.1111111111111111,\"#46039f\"],[0.2222222222222222,\"#7201a8\"],[0.3333333333333333,\"#9c179e\"],[0.4444444444444444,\"#bd3786\"],[0.5555555555555556,\"#d8576b\"],[0.6666666666666666,\"#ed7953\"],[0.7777777777777778,\"#fb9f3a\"],[0.8888888888888888,\"#fdca26\"],[1.0,\"#f0f921\"]]},\"colorway\":[\"#636efa\",\"#EF553B\",\"#00cc96\",\"#ab63fa\",\"#FFA15A\",\"#19d3f3\",\"#FF6692\",\"#B6E880\",\"#FF97FF\",\"#FECB52\"],\"font\":{\"color\":\"#f2f5fa\"},\"geo\":{\"bgcolor\":\"rgb(17,17,17)\",\"lakecolor\":\"rgb(17,17,17)\",\"landcolor\":\"rgb(17,17,17)\",\"showlakes\":true,\"showland\":true,\"subunitcolor\":\"#506784\"},\"hoverlabel\":{\"align\":\"left\"},\"hovermode\":\"closest\",\"mapbox\":{\"style\":\"dark\"},\"paper_bgcolor\":\"rgb(17,17,17)\",\"plot_bgcolor\":\"rgb(17,17,17)\",\"polar\":{\"angularaxis\":{\"gridcolor\":\"#506784\",\"linecolor\":\"#506784\",\"ticks\":\"\"},\"bgcolor\":\"rgb(17,17,17)\",\"radialaxis\":{\"gridcolor\":\"#506784\",\"linecolor\":\"#506784\",\"ticks\":\"\"}},\"scene\":{\"xaxis\":{\"backgroundcolor\":\"rgb(17,17,17)\",\"gridcolor\":\"#506784\",\"gridwidth\":2,\"linecolor\":\"#506784\",\"showbackground\":true,\"ticks\":\"\",\"zerolinecolor\":\"#C8D4E3\"},\"yaxis\":{\"backgroundcolor\":\"rgb(17,17,17)\",\"gridcolor\":\"#506784\",\"gridwidth\":2,\"linecolor\":\"#506784\",\"showbackground\":true,\"ticks\":\"\",\"zerolinecolor\":\"#C8D4E3\"},\"zaxis\":{\"backgroundcolor\":\"rgb(17,17,17)\",\"gridcolor\":\"#506784\",\"gridwidth\":2,\"linecolor\":\"#506784\",\"showbackground\":true,\"ticks\":\"\",\"zerolinecolor\":\"#C8D4E3\"}},\"shapedefaults\":{\"line\":{\"color\":\"#f2f5fa\"}},\"sliderdefaults\":{\"bgcolor\":\"#C8D4E3\",\"bordercolor\":\"rgb(17,17,17)\",\"borderwidth\":1,\"tickwidth\":0},\"ternary\":{\"aaxis\":{\"gridcolor\":\"#506784\",\"linecolor\":\"#506784\",\"ticks\":\"\"},\"baxis\":{\"gridcolor\":\"#506784\",\"linecolor\":\"#506784\",\"ticks\":\"\"},\"bgcolor\":\"rgb(17,17,17)\",\"caxis\":{\"gridcolor\":\"#506784\",\"linecolor\":\"#506784\",\"ticks\":\"\"}},\"title\":{\"x\":0.05},\"updatemenudefaults\":{\"bgcolor\":\"#506784\",\"borderwidth\":0},\"xaxis\":{\"automargin\":true,\"gridcolor\":\"#283442\",\"linecolor\":\"#506784\",\"ticks\":\"\",\"title\":{\"standoff\":15},\"zerolinecolor\":\"#283442\",\"zerolinewidth\":2},\"yaxis\":{\"automargin\":true,\"gridcolor\":\"#283442\",\"linecolor\":\"#506784\",\"ticks\":\"\",\"title\":{\"standoff\":15},\"zerolinecolor\":\"#283442\",\"zerolinewidth\":2}}},\"title\":{\"text\":\"Financial Performance: TATAMOTORS.NS\",\"x\":0.5,\"xanchor\":\"center\"},\"xaxis\":{\"rangeslider\":{\"visible\":false},\"title\":{\"text\":\"Trading Date\"}},\"yaxis\":{\"title\":{\"text\":\"Value\"}},\"hovermode\":\"x unified\"},                        {\"responsive\": true}                    ).then(function(){\n",
              "                            \n",
              "var gd = document.getElementById('3054a010-62d1-4e8f-b6ec-2544299ef419');\n",
              "var x = new MutationObserver(function (mutations, observer) {{\n",
              "        var display = window.getComputedStyle(gd).display;\n",
              "        if (!display || display === 'none') {{\n",
              "            console.log([gd, 'removed!']);\n",
              "            Plotly.purge(gd);\n",
              "            observer.disconnect();\n",
              "        }}\n",
              "}});\n",
              "\n",
              "// Listen for the removal of the full notebook cells\n",
              "var notebookContainer = gd.closest('#notebook-container');\n",
              "if (notebookContainer) {{\n",
              "    x.observe(notebookContainer, {childList: true});\n",
              "}}\n",
              "\n",
              "// Listen for the clearing of the current output cell\n",
              "var outputEl = gd.closest('.output');\n",
              "if (outputEl) {{\n",
              "    x.observe(outputEl, {childList: true});\n",
              "}}\n",
              "\n",
              "                        })                };                            </script>        </div>\n",
              "</body>\n",
              "</html>"
            ]
          },
          "metadata": {}
        }
      ]
    },
    {
      "cell_type": "code",
      "source": [
        "df[(nse, 'Daily Return')] = df[nse]['Close'].pct_change()\n",
        "df[(nse, 'Log Return')] = np.log(df[nse]['Close'] / df[nse]['Close'].shift(1))\n",
        "\n",
        "fig = make_subplots(rows=1, cols=2, subplot_titles=(\"Simple Return\", \"Log Return\"))\n",
        "\n",
        "fig.add_trace(go.Scatter(x=df.index, y=df[(nse, 'Daily Return')], mode='lines', name='Daily Return'), row=1, col=1)\n",
        "fig.add_trace(go.Scatter(x=df.index, y=df[(nse, 'Log Return')], mode='lines', name='Log Return'), row=1, col=2)\n",
        "\n",
        "fig.update_layout(title_text=\"Problem 2\", title_x=0.5, height=500, showlegend=False, template=\"plotly_dark\")\n",
        "fig.show()\n"
      ],
      "metadata": {
        "colab": {
          "base_uri": "https://localhost:8080/",
          "height": 517
        },
        "id": "3t2rrF53Mrca",
        "outputId": "045838fa-6c61-4743-867e-42243d303474"
      },
      "execution_count": null,
      "outputs": [
        {
          "output_type": "display_data",
          "data": {
            "text/html": [
              "<html>\n",
              "<head><meta charset=\"utf-8\" /></head>\n",
              "<body>\n",
              "    <div>            <script src=\"https://cdnjs.cloudflare.com/ajax/libs/mathjax/2.7.5/MathJax.js?config=TeX-AMS-MML_SVG\"></script><script type=\"text/javascript\">if (window.MathJax && window.MathJax.Hub && window.MathJax.Hub.Config) {window.MathJax.Hub.Config({SVG: {font: \"STIX-Web\"}});}</script>                <script type=\"text/javascript\">window.PlotlyConfig = {MathJaxConfig: 'local'};</script>\n",
              "        <script charset=\"utf-8\" src=\"https://cdn.plot.ly/plotly-2.35.2.min.js\"></script>                <div id=\"6ff13f00-d3bb-4caa-97f7-e23efdaa21ab\" class=\"plotly-graph-div\" style=\"height:500px; width:100%;\"></div>            <script type=\"text/javascript\">                                    window.PLOTLYENV=window.PLOTLYENV || {};                                    if (document.getElementById(\"6ff13f00-d3bb-4caa-97f7-e23efdaa21ab\")) {                    Plotly.newPlot(                        \"6ff13f00-d3bb-4caa-97f7-e23efdaa21ab\",                        [{\"mode\":\"lines\",\"name\":\"Daily Return\",\"x\":[\"2024-04-01T00:00:00\",\"2024-04-02T00:00:00\",\"2024-04-03T00:00:00\",\"2024-04-04T00:00:00\",\"2024-04-05T00:00:00\",\"2024-04-08T00:00:00\",\"2024-04-09T00:00:00\",\"2024-04-10T00:00:00\",\"2024-04-12T00:00:00\",\"2024-04-15T00:00:00\",\"2024-04-16T00:00:00\",\"2024-04-18T00:00:00\",\"2024-04-19T00:00:00\",\"2024-04-22T00:00:00\",\"2024-04-23T00:00:00\",\"2024-04-24T00:00:00\",\"2024-04-25T00:00:00\",\"2024-04-26T00:00:00\",\"2024-04-29T00:00:00\",\"2024-04-30T00:00:00\",\"2024-05-02T00:00:00\",\"2024-05-03T00:00:00\",\"2024-05-06T00:00:00\",\"2024-05-07T00:00:00\",\"2024-05-08T00:00:00\",\"2024-05-09T00:00:00\",\"2024-05-10T00:00:00\",\"2024-05-13T00:00:00\",\"2024-05-14T00:00:00\",\"2024-05-15T00:00:00\",\"2024-05-16T00:00:00\",\"2024-05-17T00:00:00\",\"2024-05-21T00:00:00\",\"2024-05-22T00:00:00\",\"2024-05-23T00:00:00\",\"2024-05-24T00:00:00\",\"2024-05-27T00:00:00\",\"2024-05-28T00:00:00\",\"2024-05-29T00:00:00\",\"2024-05-30T00:00:00\",\"2024-05-31T00:00:00\",\"2024-06-03T00:00:00\",\"2024-06-04T00:00:00\",\"2024-06-05T00:00:00\",\"2024-06-06T00:00:00\",\"2024-06-07T00:00:00\",\"2024-06-10T00:00:00\",\"2024-06-11T00:00:00\",\"2024-06-12T00:00:00\",\"2024-06-13T00:00:00\",\"2024-06-14T00:00:00\",\"2024-06-18T00:00:00\",\"2024-06-19T00:00:00\",\"2024-06-20T00:00:00\",\"2024-06-21T00:00:00\",\"2024-06-24T00:00:00\",\"2024-06-25T00:00:00\",\"2024-06-26T00:00:00\",\"2024-06-27T00:00:00\",\"2024-06-28T00:00:00\",\"2024-07-01T00:00:00\",\"2024-07-02T00:00:00\",\"2024-07-03T00:00:00\",\"2024-07-04T00:00:00\",\"2024-07-05T00:00:00\",\"2024-07-08T00:00:00\",\"2024-07-09T00:00:00\",\"2024-07-10T00:00:00\",\"2024-07-11T00:00:00\",\"2024-07-12T00:00:00\",\"2024-07-15T00:00:00\",\"2024-07-16T00:00:00\",\"2024-07-18T00:00:00\",\"2024-07-19T00:00:00\",\"2024-07-22T00:00:00\",\"2024-07-23T00:00:00\",\"2024-07-24T00:00:00\",\"2024-07-25T00:00:00\",\"2024-07-26T00:00:00\",\"2024-07-29T00:00:00\",\"2024-07-30T00:00:00\",\"2024-07-31T00:00:00\",\"2024-08-01T00:00:00\",\"2024-08-02T00:00:00\",\"2024-08-05T00:00:00\",\"2024-08-06T00:00:00\",\"2024-08-07T00:00:00\",\"2024-08-08T00:00:00\",\"2024-08-09T00:00:00\",\"2024-08-12T00:00:00\",\"2024-08-13T00:00:00\",\"2024-08-14T00:00:00\",\"2024-08-16T00:00:00\",\"2024-08-19T00:00:00\",\"2024-08-20T00:00:00\",\"2024-08-21T00:00:00\",\"2024-08-22T00:00:00\",\"2024-08-23T00:00:00\",\"2024-08-26T00:00:00\",\"2024-08-27T00:00:00\",\"2024-08-28T00:00:00\",\"2024-08-29T00:00:00\",\"2024-08-30T00:00:00\",\"2024-09-02T00:00:00\",\"2024-09-03T00:00:00\",\"2024-09-04T00:00:00\",\"2024-09-05T00:00:00\",\"2024-09-06T00:00:00\",\"2024-09-09T00:00:00\",\"2024-09-10T00:00:00\",\"2024-09-11T00:00:00\",\"2024-09-12T00:00:00\",\"2024-09-13T00:00:00\",\"2024-09-16T00:00:00\",\"2024-09-17T00:00:00\",\"2024-09-18T00:00:00\",\"2024-09-19T00:00:00\",\"2024-09-20T00:00:00\",\"2024-09-23T00:00:00\",\"2024-09-24T00:00:00\",\"2024-09-25T00:00:00\",\"2024-09-26T00:00:00\",\"2024-09-27T00:00:00\",\"2024-09-30T00:00:00\",\"2024-10-01T00:00:00\",\"2024-10-03T00:00:00\",\"2024-10-04T00:00:00\",\"2024-10-07T00:00:00\",\"2024-10-08T00:00:00\",\"2024-10-09T00:00:00\",\"2024-10-10T00:00:00\",\"2024-10-11T00:00:00\",\"2024-10-14T00:00:00\",\"2024-10-15T00:00:00\",\"2024-10-16T00:00:00\",\"2024-10-17T00:00:00\",\"2024-10-18T00:00:00\",\"2024-10-21T00:00:00\",\"2024-10-22T00:00:00\",\"2024-10-23T00:00:00\",\"2024-10-24T00:00:00\",\"2024-10-25T00:00:00\",\"2024-10-28T00:00:00\",\"2024-10-29T00:00:00\",\"2024-10-30T00:00:00\",\"2024-10-31T00:00:00\",\"2024-11-01T00:00:00\",\"2024-11-04T00:00:00\",\"2024-11-05T00:00:00\",\"2024-11-06T00:00:00\",\"2024-11-07T00:00:00\",\"2024-11-08T00:00:00\",\"2024-11-11T00:00:00\",\"2024-11-12T00:00:00\",\"2024-11-13T00:00:00\",\"2024-11-14T00:00:00\",\"2024-11-18T00:00:00\",\"2024-11-19T00:00:00\",\"2024-11-21T00:00:00\",\"2024-11-22T00:00:00\",\"2024-11-25T00:00:00\",\"2024-11-26T00:00:00\",\"2024-11-27T00:00:00\",\"2024-11-28T00:00:00\",\"2024-11-29T00:00:00\",\"2024-12-02T00:00:00\",\"2024-12-03T00:00:00\",\"2024-12-04T00:00:00\",\"2024-12-05T00:00:00\",\"2024-12-06T00:00:00\",\"2024-12-09T00:00:00\",\"2024-12-10T00:00:00\",\"2024-12-11T00:00:00\",\"2024-12-12T00:00:00\",\"2024-12-13T00:00:00\",\"2024-12-16T00:00:00\",\"2024-12-17T00:00:00\",\"2024-12-18T00:00:00\",\"2024-12-19T00:00:00\",\"2024-12-20T00:00:00\",\"2024-12-23T00:00:00\",\"2024-12-24T00:00:00\",\"2024-12-26T00:00:00\",\"2024-12-27T00:00:00\",\"2024-12-30T00:00:00\",\"2024-12-31T00:00:00\",\"2025-01-01T00:00:00\",\"2025-01-02T00:00:00\",\"2025-01-03T00:00:00\",\"2025-01-06T00:00:00\",\"2025-01-07T00:00:00\",\"2025-01-08T00:00:00\",\"2025-01-09T00:00:00\",\"2025-01-10T00:00:00\",\"2025-01-13T00:00:00\",\"2025-01-14T00:00:00\",\"2025-01-15T00:00:00\",\"2025-01-16T00:00:00\",\"2025-01-17T00:00:00\",\"2025-01-20T00:00:00\",\"2025-01-21T00:00:00\",\"2025-01-22T00:00:00\",\"2025-01-23T00:00:00\",\"2025-01-24T00:00:00\",\"2025-01-27T00:00:00\",\"2025-01-28T00:00:00\",\"2025-01-29T00:00:00\",\"2025-01-30T00:00:00\",\"2025-01-31T00:00:00\",\"2025-02-01T00:00:00\",\"2025-02-03T00:00:00\",\"2025-02-04T00:00:00\",\"2025-02-05T00:00:00\",\"2025-02-06T00:00:00\",\"2025-02-07T00:00:00\",\"2025-02-10T00:00:00\",\"2025-02-11T00:00:00\",\"2025-02-12T00:00:00\",\"2025-02-13T00:00:00\",\"2025-02-14T00:00:00\",\"2025-02-17T00:00:00\",\"2025-02-18T00:00:00\",\"2025-02-19T00:00:00\",\"2025-02-20T00:00:00\",\"2025-02-21T00:00:00\",\"2025-02-24T00:00:00\",\"2025-02-25T00:00:00\",\"2025-02-27T00:00:00\",\"2025-02-28T00:00:00\",\"2025-03-03T00:00:00\",\"2025-03-04T00:00:00\",\"2025-03-05T00:00:00\",\"2025-03-06T00:00:00\",\"2025-03-07T00:00:00\",\"2025-03-10T00:00:00\",\"2025-03-11T00:00:00\",\"2025-03-12T00:00:00\",\"2025-03-13T00:00:00\",\"2025-03-17T00:00:00\",\"2025-03-18T00:00:00\",\"2025-03-19T00:00:00\",\"2025-03-20T00:00:00\",\"2025-03-21T00:00:00\",\"2025-03-24T00:00:00\",\"2025-03-25T00:00:00\",\"2025-03-26T00:00:00\",\"2025-03-27T00:00:00\",\"2025-03-28T00:00:00\",\"2025-04-01T00:00:00\",\"2025-04-02T00:00:00\",\"2025-04-03T00:00:00\",\"2025-04-04T00:00:00\",\"2025-04-07T00:00:00\",\"2025-04-08T00:00:00\",\"2025-04-09T00:00:00\",\"2025-04-11T00:00:00\",\"2025-04-15T00:00:00\",\"2025-04-16T00:00:00\",\"2025-04-17T00:00:00\",\"2025-04-21T00:00:00\",\"2025-04-22T00:00:00\",\"2025-04-23T00:00:00\",\"2025-04-24T00:00:00\",\"2025-04-25T00:00:00\",\"2025-04-28T00:00:00\",\"2025-04-29T00:00:00\"],\"y\":[null,0.012496876351652864,0.004479221760356866,0.002427706184699119,-0.004448387753724914,0.006056999443875943,-0.004638774360015807,0.004957859589759472,0.004933400482865391,-0.019342180014904065,-0.006007173595431459,-0.02160558273516877,-0.0083903338775283,0.010745385990292622,0.013558659483477564,0.004965820314923652,0.009680802454200332,-0.0017478278878707565,0.0011004917543055992,0.007295730171118064,0.019743987474177827,-0.014010520816766125,0.002762971994626051,-0.027209215457097757,0.023822759698402862,0.01798244680130323,0.015869146776207765,-0.08302683071239914,0.0051055206859227376,-0.01798580533647609,-0.011506374244117823,0.00993168976158465,0.005921465852666508,-0.003994491235732145,0.015672765238643693,-0.00187039141757539,-0.002134202209349234,-0.011424108623086848,-0.004168600193656391,-0.02082449168626188,-0.0010281997208215765,0.029739964601802837,-0.04897674389243267,0.028819546654828887,0.008925155048629785,0.03437253751974878,0.004791330676004124,0.015378234630900378,0.0016209468753598522,-0.0028826100798075016,0.007658415595778401,-0.007549828684998983,-0.008672328447508093,0.0009208824234359092,-0.016815754875574962,-0.0038989395379439573,-0.0031835372181309163,-0.003298454883835067,0.021274361001621722,0.018156593825057854,0.012427368318230547,-0.02070754977573741,-0.005757631151727116,0.02311278350708945,-0.0045581924837976295,0.00900714633117694,0.01231801009557798,-0.009310815403097528,0.015216298153126528,-0.003967464578173652,0.007573101718096886,-0.003221169325097528,0.0033296032245735407,-0.03372216795816185,0.013282852943497403,-0.0013457973266584045,0.025853427524954897,0.06154520093912308,0.0250699838492785,0.0050969783805767666,0.03367435550350306,-0.004475578845067885,-0.010590930481504612,-0.04172492046603038,-0.0731318200169484,-0.002656315780024121,0.011393389719482228,0.01604403627082296,0.025293953046256368,0.0075367933827625855,-0.02109378128253736,0.008448454911561765,0.03388713778634411,-0.009696385169381982,-0.0007354296163667451,-0.0015641486834118146,-0.015434943562163017,0.015630187660049755,0.006681103844525804,-0.013868568359094113,-0.002506336664539366,0.043832277181787394,-0.009182943524211673,-0.016826338761573134,-0.006909850967306563,-0.0042853419211916766,-0.01045853789484319,-0.01851942980497634,-0.010149163445794862,-0.002791857591288305,-0.05744357813312806,0.010089149589524116,0.006033515210234208,-0.0037294136306069703,-0.01360786308661277,-0.013231472642233455,0.005145275474081279,0.00398136048183817,0.0009785365719949812,0.005659600811984911,-0.014018226110868892,0.03066630300624129,-0.00015105916565927302,-0.018479330902253288,-0.0096958005133303,-0.04092416027811596,0.00545531784203912,-0.0031157930852135918,-0.008675958403604134,0.021037222089471452,-0.011340067228031048,0.002369426178816747,-0.0026324402867701213,-0.011796404209029054,-0.010738009066844745,-0.017466567202467198,0.0208053491880531,-0.007526271974231613,-0.0263478225557372,-0.002103440120451938,0.002677577075789861,-0.017840922962535477,0.016371658699423586,-0.040639776550674744,-0.003025793880710448,-0.007319714740193439,0.011270336972171835,-0.02294153339385352,0.014015349072074468,0.004846511906474893,-0.023758499365261976,-0.017444327896271705,-0.000931156482256279,-0.024667623114173365,0.0017838115023414147,-0.015198743665540526,-0.003099526561723187,0.014639185691885936,-0.011938248819411634,0.02216194993231979,0.007079615152892016,-0.01707252824849015,0.0012132978378431858,-0.005740161910746444,0.008980691372599159,0.004577500832932513,0.014176333624558168,-0.016411886944227794,0.005646507226094943,0.03059743911867252,-0.022098418294227318,0.0014397801741001803,-0.0010001860278864294,-0.015955450368586366,0.005023224174564245,-0.006959382620464916,-0.006434744994288866,-0.030843203325384705,-0.01541620249553588,-0.02687991442527249,-0.002555038487848771,0.019246695020716187,0.006385018832924194,0.013093969177739861,-0.022451666337025333,0.008859810241526711,0.012294771716236053,0.021087738128753752,0.03313513760613729,-0.017902358270487362,0.021900161030595777,0.0021430976451701778,-0.018680465932524926,-0.0069862214362735875,-0.030529947290650616,0.025965379494008012,-0.008955255566596376,0.014078051785885837,0.006973622501862176,-0.006925327879528709,-0.0175630864786257,-0.02366086099244169,0.01312689330191863,-0.024451859686461797,-0.028674551822682304,0.021316895683678894,0.033299004462753246,-0.0739535208160299,0.02762431036007995,-0.013336109647475669,-0.027032730756389345,0.033602407703472004,0.009147843377197873,-0.010320010466331464,-0.004086555787068402,-0.015210470463388748,-0.026221264367816133,0.009738067998432243,-0.0007306203226965513,-0.004679317520093762,0.008741571965705797,-0.006117027849135592,-0.0020516183528344056,0.012922155349440079,-0.02406491139417022,-0.007352959175985552,-0.009951402041245783,-0.019724891587868054,-0.04301898682297489,0.0008056069932036447,-0.003139357852993241,0.03488368081413329,-0.0017945745955254555,0.013522962633871316,-0.00023131788019425947,-0.00015434176861162108,0.03124758950920503,-0.019153057050382616,0.008466800599494562,0.0,0.03207021042056324,0.01143274136015937,0.018694333225512283,0.01500816218758616,-0.004484950535432741,-0.002886087326762321,-0.056053670606468375,0.008825105858635718,-0.0038550471851658275,0.00007449405364834405,-0.026715302209855962,-0.061319727613062036,-0.05555099281935805,0.015696378759702423,-0.010104358357074683,0.0208439918854344,0.04562645991265635,-0.009884320625850651,0.008927846942589968,0.01367548896619275,0.0012697211466841107,0.046049060715494416,0.012804895983111741,-0.019600472902617905,0.019687179571251434,-0.0038165812092295637],\"type\":\"scatter\",\"xaxis\":\"x\",\"yaxis\":\"y\"},{\"mode\":\"lines\",\"name\":\"Log Return\",\"x\":[\"2024-04-01T00:00:00\",\"2024-04-02T00:00:00\",\"2024-04-03T00:00:00\",\"2024-04-04T00:00:00\",\"2024-04-05T00:00:00\",\"2024-04-08T00:00:00\",\"2024-04-09T00:00:00\",\"2024-04-10T00:00:00\",\"2024-04-12T00:00:00\",\"2024-04-15T00:00:00\",\"2024-04-16T00:00:00\",\"2024-04-18T00:00:00\",\"2024-04-19T00:00:00\",\"2024-04-22T00:00:00\",\"2024-04-23T00:00:00\",\"2024-04-24T00:00:00\",\"2024-04-25T00:00:00\",\"2024-04-26T00:00:00\",\"2024-04-29T00:00:00\",\"2024-04-30T00:00:00\",\"2024-05-02T00:00:00\",\"2024-05-03T00:00:00\",\"2024-05-06T00:00:00\",\"2024-05-07T00:00:00\",\"2024-05-08T00:00:00\",\"2024-05-09T00:00:00\",\"2024-05-10T00:00:00\",\"2024-05-13T00:00:00\",\"2024-05-14T00:00:00\",\"2024-05-15T00:00:00\",\"2024-05-16T00:00:00\",\"2024-05-17T00:00:00\",\"2024-05-21T00:00:00\",\"2024-05-22T00:00:00\",\"2024-05-23T00:00:00\",\"2024-05-24T00:00:00\",\"2024-05-27T00:00:00\",\"2024-05-28T00:00:00\",\"2024-05-29T00:00:00\",\"2024-05-30T00:00:00\",\"2024-05-31T00:00:00\",\"2024-06-03T00:00:00\",\"2024-06-04T00:00:00\",\"2024-06-05T00:00:00\",\"2024-06-06T00:00:00\",\"2024-06-07T00:00:00\",\"2024-06-10T00:00:00\",\"2024-06-11T00:00:00\",\"2024-06-12T00:00:00\",\"2024-06-13T00:00:00\",\"2024-06-14T00:00:00\",\"2024-06-18T00:00:00\",\"2024-06-19T00:00:00\",\"2024-06-20T00:00:00\",\"2024-06-21T00:00:00\",\"2024-06-24T00:00:00\",\"2024-06-25T00:00:00\",\"2024-06-26T00:00:00\",\"2024-06-27T00:00:00\",\"2024-06-28T00:00:00\",\"2024-07-01T00:00:00\",\"2024-07-02T00:00:00\",\"2024-07-03T00:00:00\",\"2024-07-04T00:00:00\",\"2024-07-05T00:00:00\",\"2024-07-08T00:00:00\",\"2024-07-09T00:00:00\",\"2024-07-10T00:00:00\",\"2024-07-11T00:00:00\",\"2024-07-12T00:00:00\",\"2024-07-15T00:00:00\",\"2024-07-16T00:00:00\",\"2024-07-18T00:00:00\",\"2024-07-19T00:00:00\",\"2024-07-22T00:00:00\",\"2024-07-23T00:00:00\",\"2024-07-24T00:00:00\",\"2024-07-25T00:00:00\",\"2024-07-26T00:00:00\",\"2024-07-29T00:00:00\",\"2024-07-30T00:00:00\",\"2024-07-31T00:00:00\",\"2024-08-01T00:00:00\",\"2024-08-02T00:00:00\",\"2024-08-05T00:00:00\",\"2024-08-06T00:00:00\",\"2024-08-07T00:00:00\",\"2024-08-08T00:00:00\",\"2024-08-09T00:00:00\",\"2024-08-12T00:00:00\",\"2024-08-13T00:00:00\",\"2024-08-14T00:00:00\",\"2024-08-16T00:00:00\",\"2024-08-19T00:00:00\",\"2024-08-20T00:00:00\",\"2024-08-21T00:00:00\",\"2024-08-22T00:00:00\",\"2024-08-23T00:00:00\",\"2024-08-26T00:00:00\",\"2024-08-27T00:00:00\",\"2024-08-28T00:00:00\",\"2024-08-29T00:00:00\",\"2024-08-30T00:00:00\",\"2024-09-02T00:00:00\",\"2024-09-03T00:00:00\",\"2024-09-04T00:00:00\",\"2024-09-05T00:00:00\",\"2024-09-06T00:00:00\",\"2024-09-09T00:00:00\",\"2024-09-10T00:00:00\",\"2024-09-11T00:00:00\",\"2024-09-12T00:00:00\",\"2024-09-13T00:00:00\",\"2024-09-16T00:00:00\",\"2024-09-17T00:00:00\",\"2024-09-18T00:00:00\",\"2024-09-19T00:00:00\",\"2024-09-20T00:00:00\",\"2024-09-23T00:00:00\",\"2024-09-24T00:00:00\",\"2024-09-25T00:00:00\",\"2024-09-26T00:00:00\",\"2024-09-27T00:00:00\",\"2024-09-30T00:00:00\",\"2024-10-01T00:00:00\",\"2024-10-03T00:00:00\",\"2024-10-04T00:00:00\",\"2024-10-07T00:00:00\",\"2024-10-08T00:00:00\",\"2024-10-09T00:00:00\",\"2024-10-10T00:00:00\",\"2024-10-11T00:00:00\",\"2024-10-14T00:00:00\",\"2024-10-15T00:00:00\",\"2024-10-16T00:00:00\",\"2024-10-17T00:00:00\",\"2024-10-18T00:00:00\",\"2024-10-21T00:00:00\",\"2024-10-22T00:00:00\",\"2024-10-23T00:00:00\",\"2024-10-24T00:00:00\",\"2024-10-25T00:00:00\",\"2024-10-28T00:00:00\",\"2024-10-29T00:00:00\",\"2024-10-30T00:00:00\",\"2024-10-31T00:00:00\",\"2024-11-01T00:00:00\",\"2024-11-04T00:00:00\",\"2024-11-05T00:00:00\",\"2024-11-06T00:00:00\",\"2024-11-07T00:00:00\",\"2024-11-08T00:00:00\",\"2024-11-11T00:00:00\",\"2024-11-12T00:00:00\",\"2024-11-13T00:00:00\",\"2024-11-14T00:00:00\",\"2024-11-18T00:00:00\",\"2024-11-19T00:00:00\",\"2024-11-21T00:00:00\",\"2024-11-22T00:00:00\",\"2024-11-25T00:00:00\",\"2024-11-26T00:00:00\",\"2024-11-27T00:00:00\",\"2024-11-28T00:00:00\",\"2024-11-29T00:00:00\",\"2024-12-02T00:00:00\",\"2024-12-03T00:00:00\",\"2024-12-04T00:00:00\",\"2024-12-05T00:00:00\",\"2024-12-06T00:00:00\",\"2024-12-09T00:00:00\",\"2024-12-10T00:00:00\",\"2024-12-11T00:00:00\",\"2024-12-12T00:00:00\",\"2024-12-13T00:00:00\",\"2024-12-16T00:00:00\",\"2024-12-17T00:00:00\",\"2024-12-18T00:00:00\",\"2024-12-19T00:00:00\",\"2024-12-20T00:00:00\",\"2024-12-23T00:00:00\",\"2024-12-24T00:00:00\",\"2024-12-26T00:00:00\",\"2024-12-27T00:00:00\",\"2024-12-30T00:00:00\",\"2024-12-31T00:00:00\",\"2025-01-01T00:00:00\",\"2025-01-02T00:00:00\",\"2025-01-03T00:00:00\",\"2025-01-06T00:00:00\",\"2025-01-07T00:00:00\",\"2025-01-08T00:00:00\",\"2025-01-09T00:00:00\",\"2025-01-10T00:00:00\",\"2025-01-13T00:00:00\",\"2025-01-14T00:00:00\",\"2025-01-15T00:00:00\",\"2025-01-16T00:00:00\",\"2025-01-17T00:00:00\",\"2025-01-20T00:00:00\",\"2025-01-21T00:00:00\",\"2025-01-22T00:00:00\",\"2025-01-23T00:00:00\",\"2025-01-24T00:00:00\",\"2025-01-27T00:00:00\",\"2025-01-28T00:00:00\",\"2025-01-29T00:00:00\",\"2025-01-30T00:00:00\",\"2025-01-31T00:00:00\",\"2025-02-01T00:00:00\",\"2025-02-03T00:00:00\",\"2025-02-04T00:00:00\",\"2025-02-05T00:00:00\",\"2025-02-06T00:00:00\",\"2025-02-07T00:00:00\",\"2025-02-10T00:00:00\",\"2025-02-11T00:00:00\",\"2025-02-12T00:00:00\",\"2025-02-13T00:00:00\",\"2025-02-14T00:00:00\",\"2025-02-17T00:00:00\",\"2025-02-18T00:00:00\",\"2025-02-19T00:00:00\",\"2025-02-20T00:00:00\",\"2025-02-21T00:00:00\",\"2025-02-24T00:00:00\",\"2025-02-25T00:00:00\",\"2025-02-27T00:00:00\",\"2025-02-28T00:00:00\",\"2025-03-03T00:00:00\",\"2025-03-04T00:00:00\",\"2025-03-05T00:00:00\",\"2025-03-06T00:00:00\",\"2025-03-07T00:00:00\",\"2025-03-10T00:00:00\",\"2025-03-11T00:00:00\",\"2025-03-12T00:00:00\",\"2025-03-13T00:00:00\",\"2025-03-17T00:00:00\",\"2025-03-18T00:00:00\",\"2025-03-19T00:00:00\",\"2025-03-20T00:00:00\",\"2025-03-21T00:00:00\",\"2025-03-24T00:00:00\",\"2025-03-25T00:00:00\",\"2025-03-26T00:00:00\",\"2025-03-27T00:00:00\",\"2025-03-28T00:00:00\",\"2025-04-01T00:00:00\",\"2025-04-02T00:00:00\",\"2025-04-03T00:00:00\",\"2025-04-04T00:00:00\",\"2025-04-07T00:00:00\",\"2025-04-08T00:00:00\",\"2025-04-09T00:00:00\",\"2025-04-11T00:00:00\",\"2025-04-15T00:00:00\",\"2025-04-16T00:00:00\",\"2025-04-17T00:00:00\",\"2025-04-21T00:00:00\",\"2025-04-22T00:00:00\",\"2025-04-23T00:00:00\",\"2025-04-24T00:00:00\",\"2025-04-25T00:00:00\",\"2025-04-28T00:00:00\",\"2025-04-29T00:00:00\"],\"y\":[null,0.012419434909010974,0.004469219902472096,0.0024247640668092754,-0.004458311270564475,0.006038729559413579,-0.004649566862721254,0.0049456098754620936,0.00492127113895313,-0.01953168761885133,-0.006025289248417274,-0.021842400609886157,-0.008425730862893365,0.01068806459168533,0.013467563363782986,0.004953531295806372,0.00963424372883694,-0.0017493571211844331,0.00109988665715055,0.007269245072493007,0.019551603119872626,-0.014109594635988584,0.0027591620038229475,-0.027586240941233284,0.023543425404137015,0.017822675151875304,0.01574454831871579,-0.08667706638208415,0.005092531706761395,-0.0181495158813025,-0.011573084792982651,0.009882694666471637,0.005904002877441396,-0.004002490525014991,0.015551215818889597,-0.001872142783770451,-0.0021364828643815363,-0.011489865037313404,-0.004177313029426389,-0.021044379471378535,-0.001028728680769924,0.029306308816114426,-0.05021676236396524,0.02841207379082053,0.008885561265022187,0.03379499893489684,0.004779888784548806,0.015261188035415133,0.0016196345589122522,-0.0028867728018378822,0.007629238801719201,-0.00757847290529636,-0.008710151925044974,0.000920458671347625,-0.016958744938819926,-0.003906560217532922,-0.0031886154534387662,-0.003303906777997817,0.021051221009526198,0.017993731273981465,0.012350782431139193,-0.020924957644584137,-0.0057742702084058375,0.022849728700163104,-0.004568612720176642,0.008966823934276464,0.012242760727348884,-0.00935443199329427,0.015101691419519963,-0.00397535584489276,0.007544569743102852,-0.003226368458870305,0.003324072369392058,-0.03430387531232295,0.013195409334973629,-0.0013467037251910408,0.025524878380566517,0.05972558339223741,0.024760887185733636,0.005084032756680505,0.03311978983289182,-0.004485624231886412,-0.01064741354518243,-0.042620402839623636,-0.07594392419328738,-0.002659850046925753,0.011328973869678455,0.0159166910032618,0.02497935493561787,0.007508533658493767,-0.021319433974217424,0.008412966458004914,0.03332561905178843,-0.009743701223616235,-0.0007357001773875845,-0.001565373241057124,-0.015555302397680468,0.015509294372815376,0.006658884183239023,-0.013965635452615952,-0.002509482784200162,0.04289882251377078,-0.009225366662675741,-0.01696950990278099,-0.0069338345332660145,-0.004294550315711365,-0.010513612740419197,-0.01869306149312552,-0.010201017352655892,-0.0027957620945980657,-0.059159497402020436,0.010038593878193593,0.006015386440928834,-0.0037363852323430784,-0.013701298662774235,-0.013319788473806781,0.005132083774831373,0.003973455840067637,0.000978058117181865,0.005643645443679087,-0.014117409449810846,0.030205489217004843,-0.00015107057624416794,-0.018652206803962842,-0.00974311084318104,-0.04178512513805194,0.005440491492849564,-0.0031206572749889355,-0.008713813643411313,0.02081899502091669,-0.01140485606258214,0.0023666235148721514,-0.002635911250443048,-0.011866533849146682,-0.010796077553617913,-0.017620907525015717,0.020591873786716914,-0.007554737274145665,-0.02670114646436746,-0.0021056554577201106,0.0026739987523594364,-0.018001990837264094,0.01623908807217754,-0.041488650592995516,-0.003030380850167662,-0.0073466352997887795,0.011207299914845169,-0.023208785734842682,0.0139180422063731,0.004834805376300209,-0.024045284002131732,-0.0175982731252412,-0.0009315902777620739,-0.024976966707199334,0.001782222400095399,-0.01531542838722016,-0.003104340043092174,0.014533067218059678,-0.012010081992460044,0.02191994295771621,0.007054672332058206,-0.017219944108908848,0.0012125623868421596,-0.0057566999578723705,0.008940604788566052,0.0045670559382084905,0.01407678908833224,-0.016548053853657978,0.005630625460457414,0.030138672063831227,-0.022346246213765967,0.0014387446844244909,-0.0010006865477014014,-0.01608410893905668,0.0050106498754459725,-0.006983712068024811,-0.006455537208919424,-0.03132886730796177,-0.015536267710089246,-0.027247786554626306,-0.002558308169314754,0.01906382015196488,0.006364720955910082,0.013008984219721017,-0.022707542142507763,0.008820792413781866,0.012219804851981791,0.020868469015189014,0.03259800210993285,-0.018064544074206036,0.02166379721561639,0.0021408044871350815,-0.018857149652240852,-0.007010739339649522,-0.031005694194414908,0.02563400299603572,-0.008995594880897035,0.013979876354450128,0.006949419254189109,-0.006949419254189097,-0.017719147456643127,-0.023945274434363457,0.013041482280313854,-0.024755770763430267,-0.029093698796285147,0.021092868776228523,0.032756600783486876,-0.07683085209240195,0.027249643389173732,-0.013425834168000535,-0.027404836371586055,0.03305018347796091,0.009106255293083258,-0.01037363100303127,-0.0040949285745292135,-0.015327336239280074,-0.026571171955644783,0.009690958603680537,-0.0007308873557989831,-0.004690299799428205,0.008703585638450535,-0.006135813511447984,-0.002053725804718573,0.012839376656748875,-0.02435920235676554,-0.007380125430467428,-0.010001248211092991,-0.01992202384328919,-0.043971727666409645,0.0008052826660650138,-0.0031442959745866654,0.03428903471476015,-0.0017961867735861573,0.013432343420766926,-0.0002313446383016069,-0.00015435368052807677,0.030769321218402496,-0.01933885304747406,0.008431158286226923,0.0,0.03156669809846632,0.011367881455533206,0.018521741847368253,0.014896654025541748,-0.00449503809886717,-0.0028902601073979755,-0.05768596890891684,0.008786392213217852,-0.0038624970320701624,0.00007449127910412008,-0.02707864166018722,-0.06328035574695866,-0.057153582719174076,0.015574464691335612,-0.010155753891681201,0.020629728178858116,0.04461618896852667,-0.009933494827003925,0.008888229342387116,0.013582823342936229,0.0012689157324844806,0.045020267712500624,0.012723606502638362,-0.019795109685107285,0.019495893563346252,-0.0038238829396451835],\"type\":\"scatter\",\"xaxis\":\"x2\",\"yaxis\":\"y2\"}],                        {\"template\":{\"data\":{\"barpolar\":[{\"marker\":{\"line\":{\"color\":\"rgb(17,17,17)\",\"width\":0.5},\"pattern\":{\"fillmode\":\"overlay\",\"size\":10,\"solidity\":0.2}},\"type\":\"barpolar\"}],\"bar\":[{\"error_x\":{\"color\":\"#f2f5fa\"},\"error_y\":{\"color\":\"#f2f5fa\"},\"marker\":{\"line\":{\"color\":\"rgb(17,17,17)\",\"width\":0.5},\"pattern\":{\"fillmode\":\"overlay\",\"size\":10,\"solidity\":0.2}},\"type\":\"bar\"}],\"carpet\":[{\"aaxis\":{\"endlinecolor\":\"#A2B1C6\",\"gridcolor\":\"#506784\",\"linecolor\":\"#506784\",\"minorgridcolor\":\"#506784\",\"startlinecolor\":\"#A2B1C6\"},\"baxis\":{\"endlinecolor\":\"#A2B1C6\",\"gridcolor\":\"#506784\",\"linecolor\":\"#506784\",\"minorgridcolor\":\"#506784\",\"startlinecolor\":\"#A2B1C6\"},\"type\":\"carpet\"}],\"choropleth\":[{\"colorbar\":{\"outlinewidth\":0,\"ticks\":\"\"},\"type\":\"choropleth\"}],\"contourcarpet\":[{\"colorbar\":{\"outlinewidth\":0,\"ticks\":\"\"},\"type\":\"contourcarpet\"}],\"contour\":[{\"colorbar\":{\"outlinewidth\":0,\"ticks\":\"\"},\"colorscale\":[[0.0,\"#0d0887\"],[0.1111111111111111,\"#46039f\"],[0.2222222222222222,\"#7201a8\"],[0.3333333333333333,\"#9c179e\"],[0.4444444444444444,\"#bd3786\"],[0.5555555555555556,\"#d8576b\"],[0.6666666666666666,\"#ed7953\"],[0.7777777777777778,\"#fb9f3a\"],[0.8888888888888888,\"#fdca26\"],[1.0,\"#f0f921\"]],\"type\":\"contour\"}],\"heatmapgl\":[{\"colorbar\":{\"outlinewidth\":0,\"ticks\":\"\"},\"colorscale\":[[0.0,\"#0d0887\"],[0.1111111111111111,\"#46039f\"],[0.2222222222222222,\"#7201a8\"],[0.3333333333333333,\"#9c179e\"],[0.4444444444444444,\"#bd3786\"],[0.5555555555555556,\"#d8576b\"],[0.6666666666666666,\"#ed7953\"],[0.7777777777777778,\"#fb9f3a\"],[0.8888888888888888,\"#fdca26\"],[1.0,\"#f0f921\"]],\"type\":\"heatmapgl\"}],\"heatmap\":[{\"colorbar\":{\"outlinewidth\":0,\"ticks\":\"\"},\"colorscale\":[[0.0,\"#0d0887\"],[0.1111111111111111,\"#46039f\"],[0.2222222222222222,\"#7201a8\"],[0.3333333333333333,\"#9c179e\"],[0.4444444444444444,\"#bd3786\"],[0.5555555555555556,\"#d8576b\"],[0.6666666666666666,\"#ed7953\"],[0.7777777777777778,\"#fb9f3a\"],[0.8888888888888888,\"#fdca26\"],[1.0,\"#f0f921\"]],\"type\":\"heatmap\"}],\"histogram2dcontour\":[{\"colorbar\":{\"outlinewidth\":0,\"ticks\":\"\"},\"colorscale\":[[0.0,\"#0d0887\"],[0.1111111111111111,\"#46039f\"],[0.2222222222222222,\"#7201a8\"],[0.3333333333333333,\"#9c179e\"],[0.4444444444444444,\"#bd3786\"],[0.5555555555555556,\"#d8576b\"],[0.6666666666666666,\"#ed7953\"],[0.7777777777777778,\"#fb9f3a\"],[0.8888888888888888,\"#fdca26\"],[1.0,\"#f0f921\"]],\"type\":\"histogram2dcontour\"}],\"histogram2d\":[{\"colorbar\":{\"outlinewidth\":0,\"ticks\":\"\"},\"colorscale\":[[0.0,\"#0d0887\"],[0.1111111111111111,\"#46039f\"],[0.2222222222222222,\"#7201a8\"],[0.3333333333333333,\"#9c179e\"],[0.4444444444444444,\"#bd3786\"],[0.5555555555555556,\"#d8576b\"],[0.6666666666666666,\"#ed7953\"],[0.7777777777777778,\"#fb9f3a\"],[0.8888888888888888,\"#fdca26\"],[1.0,\"#f0f921\"]],\"type\":\"histogram2d\"}],\"histogram\":[{\"marker\":{\"pattern\":{\"fillmode\":\"overlay\",\"size\":10,\"solidity\":0.2}},\"type\":\"histogram\"}],\"mesh3d\":[{\"colorbar\":{\"outlinewidth\":0,\"ticks\":\"\"},\"type\":\"mesh3d\"}],\"parcoords\":[{\"line\":{\"colorbar\":{\"outlinewidth\":0,\"ticks\":\"\"}},\"type\":\"parcoords\"}],\"pie\":[{\"automargin\":true,\"type\":\"pie\"}],\"scatter3d\":[{\"line\":{\"colorbar\":{\"outlinewidth\":0,\"ticks\":\"\"}},\"marker\":{\"colorbar\":{\"outlinewidth\":0,\"ticks\":\"\"}},\"type\":\"scatter3d\"}],\"scattercarpet\":[{\"marker\":{\"colorbar\":{\"outlinewidth\":0,\"ticks\":\"\"}},\"type\":\"scattercarpet\"}],\"scattergeo\":[{\"marker\":{\"colorbar\":{\"outlinewidth\":0,\"ticks\":\"\"}},\"type\":\"scattergeo\"}],\"scattergl\":[{\"marker\":{\"line\":{\"color\":\"#283442\"}},\"type\":\"scattergl\"}],\"scattermapbox\":[{\"marker\":{\"colorbar\":{\"outlinewidth\":0,\"ticks\":\"\"}},\"type\":\"scattermapbox\"}],\"scatterpolargl\":[{\"marker\":{\"colorbar\":{\"outlinewidth\":0,\"ticks\":\"\"}},\"type\":\"scatterpolargl\"}],\"scatterpolar\":[{\"marker\":{\"colorbar\":{\"outlinewidth\":0,\"ticks\":\"\"}},\"type\":\"scatterpolar\"}],\"scatter\":[{\"marker\":{\"line\":{\"color\":\"#283442\"}},\"type\":\"scatter\"}],\"scatterternary\":[{\"marker\":{\"colorbar\":{\"outlinewidth\":0,\"ticks\":\"\"}},\"type\":\"scatterternary\"}],\"surface\":[{\"colorbar\":{\"outlinewidth\":0,\"ticks\":\"\"},\"colorscale\":[[0.0,\"#0d0887\"],[0.1111111111111111,\"#46039f\"],[0.2222222222222222,\"#7201a8\"],[0.3333333333333333,\"#9c179e\"],[0.4444444444444444,\"#bd3786\"],[0.5555555555555556,\"#d8576b\"],[0.6666666666666666,\"#ed7953\"],[0.7777777777777778,\"#fb9f3a\"],[0.8888888888888888,\"#fdca26\"],[1.0,\"#f0f921\"]],\"type\":\"surface\"}],\"table\":[{\"cells\":{\"fill\":{\"color\":\"#506784\"},\"line\":{\"color\":\"rgb(17,17,17)\"}},\"header\":{\"fill\":{\"color\":\"#2a3f5f\"},\"line\":{\"color\":\"rgb(17,17,17)\"}},\"type\":\"table\"}]},\"layout\":{\"annotationdefaults\":{\"arrowcolor\":\"#f2f5fa\",\"arrowhead\":0,\"arrowwidth\":1},\"autotypenumbers\":\"strict\",\"coloraxis\":{\"colorbar\":{\"outlinewidth\":0,\"ticks\":\"\"}},\"colorscale\":{\"diverging\":[[0,\"#8e0152\"],[0.1,\"#c51b7d\"],[0.2,\"#de77ae\"],[0.3,\"#f1b6da\"],[0.4,\"#fde0ef\"],[0.5,\"#f7f7f7\"],[0.6,\"#e6f5d0\"],[0.7,\"#b8e186\"],[0.8,\"#7fbc41\"],[0.9,\"#4d9221\"],[1,\"#276419\"]],\"sequential\":[[0.0,\"#0d0887\"],[0.1111111111111111,\"#46039f\"],[0.2222222222222222,\"#7201a8\"],[0.3333333333333333,\"#9c179e\"],[0.4444444444444444,\"#bd3786\"],[0.5555555555555556,\"#d8576b\"],[0.6666666666666666,\"#ed7953\"],[0.7777777777777778,\"#fb9f3a\"],[0.8888888888888888,\"#fdca26\"],[1.0,\"#f0f921\"]],\"sequentialminus\":[[0.0,\"#0d0887\"],[0.1111111111111111,\"#46039f\"],[0.2222222222222222,\"#7201a8\"],[0.3333333333333333,\"#9c179e\"],[0.4444444444444444,\"#bd3786\"],[0.5555555555555556,\"#d8576b\"],[0.6666666666666666,\"#ed7953\"],[0.7777777777777778,\"#fb9f3a\"],[0.8888888888888888,\"#fdca26\"],[1.0,\"#f0f921\"]]},\"colorway\":[\"#636efa\",\"#EF553B\",\"#00cc96\",\"#ab63fa\",\"#FFA15A\",\"#19d3f3\",\"#FF6692\",\"#B6E880\",\"#FF97FF\",\"#FECB52\"],\"font\":{\"color\":\"#f2f5fa\"},\"geo\":{\"bgcolor\":\"rgb(17,17,17)\",\"lakecolor\":\"rgb(17,17,17)\",\"landcolor\":\"rgb(17,17,17)\",\"showlakes\":true,\"showland\":true,\"subunitcolor\":\"#506784\"},\"hoverlabel\":{\"align\":\"left\"},\"hovermode\":\"closest\",\"mapbox\":{\"style\":\"dark\"},\"paper_bgcolor\":\"rgb(17,17,17)\",\"plot_bgcolor\":\"rgb(17,17,17)\",\"polar\":{\"angularaxis\":{\"gridcolor\":\"#506784\",\"linecolor\":\"#506784\",\"ticks\":\"\"},\"bgcolor\":\"rgb(17,17,17)\",\"radialaxis\":{\"gridcolor\":\"#506784\",\"linecolor\":\"#506784\",\"ticks\":\"\"}},\"scene\":{\"xaxis\":{\"backgroundcolor\":\"rgb(17,17,17)\",\"gridcolor\":\"#506784\",\"gridwidth\":2,\"linecolor\":\"#506784\",\"showbackground\":true,\"ticks\":\"\",\"zerolinecolor\":\"#C8D4E3\"},\"yaxis\":{\"backgroundcolor\":\"rgb(17,17,17)\",\"gridcolor\":\"#506784\",\"gridwidth\":2,\"linecolor\":\"#506784\",\"showbackground\":true,\"ticks\":\"\",\"zerolinecolor\":\"#C8D4E3\"},\"zaxis\":{\"backgroundcolor\":\"rgb(17,17,17)\",\"gridcolor\":\"#506784\",\"gridwidth\":2,\"linecolor\":\"#506784\",\"showbackground\":true,\"ticks\":\"\",\"zerolinecolor\":\"#C8D4E3\"}},\"shapedefaults\":{\"line\":{\"color\":\"#f2f5fa\"}},\"sliderdefaults\":{\"bgcolor\":\"#C8D4E3\",\"bordercolor\":\"rgb(17,17,17)\",\"borderwidth\":1,\"tickwidth\":0},\"ternary\":{\"aaxis\":{\"gridcolor\":\"#506784\",\"linecolor\":\"#506784\",\"ticks\":\"\"},\"baxis\":{\"gridcolor\":\"#506784\",\"linecolor\":\"#506784\",\"ticks\":\"\"},\"bgcolor\":\"rgb(17,17,17)\",\"caxis\":{\"gridcolor\":\"#506784\",\"linecolor\":\"#506784\",\"ticks\":\"\"}},\"title\":{\"x\":0.05},\"updatemenudefaults\":{\"bgcolor\":\"#506784\",\"borderwidth\":0},\"xaxis\":{\"automargin\":true,\"gridcolor\":\"#283442\",\"linecolor\":\"#506784\",\"ticks\":\"\",\"title\":{\"standoff\":15},\"zerolinecolor\":\"#283442\",\"zerolinewidth\":2},\"yaxis\":{\"automargin\":true,\"gridcolor\":\"#283442\",\"linecolor\":\"#506784\",\"ticks\":\"\",\"title\":{\"standoff\":15},\"zerolinecolor\":\"#283442\",\"zerolinewidth\":2}}},\"xaxis\":{\"anchor\":\"y\",\"domain\":[0.0,0.45]},\"yaxis\":{\"anchor\":\"x\",\"domain\":[0.0,1.0]},\"xaxis2\":{\"anchor\":\"y2\",\"domain\":[0.55,1.0]},\"yaxis2\":{\"anchor\":\"x2\",\"domain\":[0.0,1.0]},\"annotations\":[{\"font\":{\"size\":16},\"showarrow\":false,\"text\":\"Simple Return\",\"x\":0.225,\"xanchor\":\"center\",\"xref\":\"paper\",\"y\":1.0,\"yanchor\":\"bottom\",\"yref\":\"paper\"},{\"font\":{\"size\":16},\"showarrow\":false,\"text\":\"Log Return\",\"x\":0.775,\"xanchor\":\"center\",\"xref\":\"paper\",\"y\":1.0,\"yanchor\":\"bottom\",\"yref\":\"paper\"}],\"title\":{\"text\":\"Problem 2\",\"x\":0.5},\"height\":500,\"showlegend\":false},                        {\"responsive\": true}                    ).then(function(){\n",
              "                            \n",
              "var gd = document.getElementById('6ff13f00-d3bb-4caa-97f7-e23efdaa21ab');\n",
              "var x = new MutationObserver(function (mutations, observer) {{\n",
              "        var display = window.getComputedStyle(gd).display;\n",
              "        if (!display || display === 'none') {{\n",
              "            console.log([gd, 'removed!']);\n",
              "            Plotly.purge(gd);\n",
              "            observer.disconnect();\n",
              "        }}\n",
              "}});\n",
              "\n",
              "// Listen for the removal of the full notebook cells\n",
              "var notebookContainer = gd.closest('#notebook-container');\n",
              "if (notebookContainer) {{\n",
              "    x.observe(notebookContainer, {childList: true});\n",
              "}}\n",
              "\n",
              "// Listen for the clearing of the current output cell\n",
              "var outputEl = gd.closest('.output');\n",
              "if (outputEl) {{\n",
              "    x.observe(outputEl, {childList: true});\n",
              "}}\n",
              "\n",
              "                        })                };                            </script>        </div>\n",
              "</body>\n",
              "</html>"
            ]
          },
          "metadata": {}
        }
      ]
    },
    {
      "cell_type": "markdown",
      "source": [
        "Volatility Estimation"
      ],
      "metadata": {
        "id": "mMnYkXs7Vpss"
      }
    },
    {
      "cell_type": "code",
      "source": [
        "df.loc[:, (nse, 'Rolling Std Dev')] = df[nse]['Daily Return'].rolling(window=14).std()\n",
        "fig1 = px.line(df, x=df.index, y=df[nse]['Rolling Std Dev'])\n",
        "fig1.update_layout(title='Rolling 14-Day Standard Deviation', xaxis_title='Date', yaxis_title='Standard Deviation')\n",
        "fig1.show()\n",
        "fig2 = go.Figure(data=[\n",
        "    go.Candlestick(x=df.index,\n",
        "                   open=df[nse]['Open'],\n",
        "                   high=df[nse]['High'],\n",
        "                   low=df[nse]['Low'],\n",
        "                   close=df[nse]['Close'])\n",
        "              ])\n",
        "fig2.update_layout(title=f\"Candlestick Chart - {nse}\", xaxis_title='Date', yaxis_title='Price')\n",
        "fig2.show()\n",
        "#as it was written to plot it along with price, I have plotted price by candlestick chart below it"
      ],
      "metadata": {
        "colab": {
          "base_uri": "https://localhost:8080/",
          "height": 1000
        },
        "id": "bZrEDBQ-OINL",
        "outputId": "e948c89b-dbea-4654-efa9-4a7f02a6e7f6"
      },
      "execution_count": null,
      "outputs": [
        {
          "output_type": "display_data",
          "data": {
            "text/html": [
              "<html>\n",
              "<head><meta charset=\"utf-8\" /></head>\n",
              "<body>\n",
              "    <div>            <script src=\"https://cdnjs.cloudflare.com/ajax/libs/mathjax/2.7.5/MathJax.js?config=TeX-AMS-MML_SVG\"></script><script type=\"text/javascript\">if (window.MathJax && window.MathJax.Hub && window.MathJax.Hub.Config) {window.MathJax.Hub.Config({SVG: {font: \"STIX-Web\"}});}</script>                <script type=\"text/javascript\">window.PlotlyConfig = {MathJaxConfig: 'local'};</script>\n",
              "        <script charset=\"utf-8\" src=\"https://cdn.plot.ly/plotly-2.35.2.min.js\"></script>                <div id=\"7209768b-20e3-4a5b-997a-3467b5370f85\" class=\"plotly-graph-div\" style=\"height:525px; width:100%;\"></div>            <script type=\"text/javascript\">                                    window.PLOTLYENV=window.PLOTLYENV || {};                                    if (document.getElementById(\"7209768b-20e3-4a5b-997a-3467b5370f85\")) {                    Plotly.newPlot(                        \"7209768b-20e3-4a5b-997a-3467b5370f85\",                        [{\"hovertemplate\":\"Date=%{x}\\u003cbr\\u003ey=%{y}\\u003cextra\\u003e\\u003c\\u002fextra\\u003e\",\"legendgroup\":\"\",\"line\":{\"color\":\"#636efa\",\"dash\":\"solid\"},\"marker\":{\"symbol\":\"circle\"},\"mode\":\"lines\",\"name\":\"\",\"orientation\":\"v\",\"showlegend\":false,\"x\":[\"2024-04-01T00:00:00\",\"2024-04-02T00:00:00\",\"2024-04-03T00:00:00\",\"2024-04-04T00:00:00\",\"2024-04-05T00:00:00\",\"2024-04-08T00:00:00\",\"2024-04-09T00:00:00\",\"2024-04-10T00:00:00\",\"2024-04-12T00:00:00\",\"2024-04-15T00:00:00\",\"2024-04-16T00:00:00\",\"2024-04-18T00:00:00\",\"2024-04-19T00:00:00\",\"2024-04-22T00:00:00\",\"2024-04-23T00:00:00\",\"2024-04-24T00:00:00\",\"2024-04-25T00:00:00\",\"2024-04-26T00:00:00\",\"2024-04-29T00:00:00\",\"2024-04-30T00:00:00\",\"2024-05-02T00:00:00\",\"2024-05-03T00:00:00\",\"2024-05-06T00:00:00\",\"2024-05-07T00:00:00\",\"2024-05-08T00:00:00\",\"2024-05-09T00:00:00\",\"2024-05-10T00:00:00\",\"2024-05-13T00:00:00\",\"2024-05-14T00:00:00\",\"2024-05-15T00:00:00\",\"2024-05-16T00:00:00\",\"2024-05-17T00:00:00\",\"2024-05-21T00:00:00\",\"2024-05-22T00:00:00\",\"2024-05-23T00:00:00\",\"2024-05-24T00:00:00\",\"2024-05-27T00:00:00\",\"2024-05-28T00:00:00\",\"2024-05-29T00:00:00\",\"2024-05-30T00:00:00\",\"2024-05-31T00:00:00\",\"2024-06-03T00:00:00\",\"2024-06-04T00:00:00\",\"2024-06-05T00:00:00\",\"2024-06-06T00:00:00\",\"2024-06-07T00:00:00\",\"2024-06-10T00:00:00\",\"2024-06-11T00:00:00\",\"2024-06-12T00:00:00\",\"2024-06-13T00:00:00\",\"2024-06-14T00:00:00\",\"2024-06-18T00:00:00\",\"2024-06-19T00:00:00\",\"2024-06-20T00:00:00\",\"2024-06-21T00:00:00\",\"2024-06-24T00:00:00\",\"2024-06-25T00:00:00\",\"2024-06-26T00:00:00\",\"2024-06-27T00:00:00\",\"2024-06-28T00:00:00\",\"2024-07-01T00:00:00\",\"2024-07-02T00:00:00\",\"2024-07-03T00:00:00\",\"2024-07-04T00:00:00\",\"2024-07-05T00:00:00\",\"2024-07-08T00:00:00\",\"2024-07-09T00:00:00\",\"2024-07-10T00:00:00\",\"2024-07-11T00:00:00\",\"2024-07-12T00:00:00\",\"2024-07-15T00:00:00\",\"2024-07-16T00:00:00\",\"2024-07-18T00:00:00\",\"2024-07-19T00:00:00\",\"2024-07-22T00:00:00\",\"2024-07-23T00:00:00\",\"2024-07-24T00:00:00\",\"2024-07-25T00:00:00\",\"2024-07-26T00:00:00\",\"2024-07-29T00:00:00\",\"2024-07-30T00:00:00\",\"2024-07-31T00:00:00\",\"2024-08-01T00:00:00\",\"2024-08-02T00:00:00\",\"2024-08-05T00:00:00\",\"2024-08-06T00:00:00\",\"2024-08-07T00:00:00\",\"2024-08-08T00:00:00\",\"2024-08-09T00:00:00\",\"2024-08-12T00:00:00\",\"2024-08-13T00:00:00\",\"2024-08-14T00:00:00\",\"2024-08-16T00:00:00\",\"2024-08-19T00:00:00\",\"2024-08-20T00:00:00\",\"2024-08-21T00:00:00\",\"2024-08-22T00:00:00\",\"2024-08-23T00:00:00\",\"2024-08-26T00:00:00\",\"2024-08-27T00:00:00\",\"2024-08-28T00:00:00\",\"2024-08-29T00:00:00\",\"2024-08-30T00:00:00\",\"2024-09-02T00:00:00\",\"2024-09-03T00:00:00\",\"2024-09-04T00:00:00\",\"2024-09-05T00:00:00\",\"2024-09-06T00:00:00\",\"2024-09-09T00:00:00\",\"2024-09-10T00:00:00\",\"2024-09-11T00:00:00\",\"2024-09-12T00:00:00\",\"2024-09-13T00:00:00\",\"2024-09-16T00:00:00\",\"2024-09-17T00:00:00\",\"2024-09-18T00:00:00\",\"2024-09-19T00:00:00\",\"2024-09-20T00:00:00\",\"2024-09-23T00:00:00\",\"2024-09-24T00:00:00\",\"2024-09-25T00:00:00\",\"2024-09-26T00:00:00\",\"2024-09-27T00:00:00\",\"2024-09-30T00:00:00\",\"2024-10-01T00:00:00\",\"2024-10-03T00:00:00\",\"2024-10-04T00:00:00\",\"2024-10-07T00:00:00\",\"2024-10-08T00:00:00\",\"2024-10-09T00:00:00\",\"2024-10-10T00:00:00\",\"2024-10-11T00:00:00\",\"2024-10-14T00:00:00\",\"2024-10-15T00:00:00\",\"2024-10-16T00:00:00\",\"2024-10-17T00:00:00\",\"2024-10-18T00:00:00\",\"2024-10-21T00:00:00\",\"2024-10-22T00:00:00\",\"2024-10-23T00:00:00\",\"2024-10-24T00:00:00\",\"2024-10-25T00:00:00\",\"2024-10-28T00:00:00\",\"2024-10-29T00:00:00\",\"2024-10-30T00:00:00\",\"2024-10-31T00:00:00\",\"2024-11-01T00:00:00\",\"2024-11-04T00:00:00\",\"2024-11-05T00:00:00\",\"2024-11-06T00:00:00\",\"2024-11-07T00:00:00\",\"2024-11-08T00:00:00\",\"2024-11-11T00:00:00\",\"2024-11-12T00:00:00\",\"2024-11-13T00:00:00\",\"2024-11-14T00:00:00\",\"2024-11-18T00:00:00\",\"2024-11-19T00:00:00\",\"2024-11-21T00:00:00\",\"2024-11-22T00:00:00\",\"2024-11-25T00:00:00\",\"2024-11-26T00:00:00\",\"2024-11-27T00:00:00\",\"2024-11-28T00:00:00\",\"2024-11-29T00:00:00\",\"2024-12-02T00:00:00\",\"2024-12-03T00:00:00\",\"2024-12-04T00:00:00\",\"2024-12-05T00:00:00\",\"2024-12-06T00:00:00\",\"2024-12-09T00:00:00\",\"2024-12-10T00:00:00\",\"2024-12-11T00:00:00\",\"2024-12-12T00:00:00\",\"2024-12-13T00:00:00\",\"2024-12-16T00:00:00\",\"2024-12-17T00:00:00\",\"2024-12-18T00:00:00\",\"2024-12-19T00:00:00\",\"2024-12-20T00:00:00\",\"2024-12-23T00:00:00\",\"2024-12-24T00:00:00\",\"2024-12-26T00:00:00\",\"2024-12-27T00:00:00\",\"2024-12-30T00:00:00\",\"2024-12-31T00:00:00\",\"2025-01-01T00:00:00\",\"2025-01-02T00:00:00\",\"2025-01-03T00:00:00\",\"2025-01-06T00:00:00\",\"2025-01-07T00:00:00\",\"2025-01-08T00:00:00\",\"2025-01-09T00:00:00\",\"2025-01-10T00:00:00\",\"2025-01-13T00:00:00\",\"2025-01-14T00:00:00\",\"2025-01-15T00:00:00\",\"2025-01-16T00:00:00\",\"2025-01-17T00:00:00\",\"2025-01-20T00:00:00\",\"2025-01-21T00:00:00\",\"2025-01-22T00:00:00\",\"2025-01-23T00:00:00\",\"2025-01-24T00:00:00\",\"2025-01-27T00:00:00\",\"2025-01-28T00:00:00\",\"2025-01-29T00:00:00\",\"2025-01-30T00:00:00\",\"2025-01-31T00:00:00\",\"2025-02-01T00:00:00\",\"2025-02-03T00:00:00\",\"2025-02-04T00:00:00\",\"2025-02-05T00:00:00\",\"2025-02-06T00:00:00\",\"2025-02-07T00:00:00\",\"2025-02-10T00:00:00\",\"2025-02-11T00:00:00\",\"2025-02-12T00:00:00\",\"2025-02-13T00:00:00\",\"2025-02-14T00:00:00\",\"2025-02-17T00:00:00\",\"2025-02-18T00:00:00\",\"2025-02-19T00:00:00\",\"2025-02-20T00:00:00\",\"2025-02-21T00:00:00\",\"2025-02-24T00:00:00\",\"2025-02-25T00:00:00\",\"2025-02-27T00:00:00\",\"2025-02-28T00:00:00\",\"2025-03-03T00:00:00\",\"2025-03-04T00:00:00\",\"2025-03-05T00:00:00\",\"2025-03-06T00:00:00\",\"2025-03-07T00:00:00\",\"2025-03-10T00:00:00\",\"2025-03-11T00:00:00\",\"2025-03-12T00:00:00\",\"2025-03-13T00:00:00\",\"2025-03-17T00:00:00\",\"2025-03-18T00:00:00\",\"2025-03-19T00:00:00\",\"2025-03-20T00:00:00\",\"2025-03-21T00:00:00\",\"2025-03-24T00:00:00\",\"2025-03-25T00:00:00\",\"2025-03-26T00:00:00\",\"2025-03-27T00:00:00\",\"2025-03-28T00:00:00\",\"2025-04-01T00:00:00\",\"2025-04-02T00:00:00\",\"2025-04-03T00:00:00\",\"2025-04-04T00:00:00\",\"2025-04-07T00:00:00\",\"2025-04-08T00:00:00\",\"2025-04-09T00:00:00\",\"2025-04-11T00:00:00\",\"2025-04-15T00:00:00\",\"2025-04-16T00:00:00\",\"2025-04-17T00:00:00\",\"2025-04-21T00:00:00\",\"2025-04-22T00:00:00\",\"2025-04-23T00:00:00\",\"2025-04-24T00:00:00\",\"2025-04-25T00:00:00\",\"2025-04-28T00:00:00\",\"2025-04-29T00:00:00\"],\"xaxis\":\"x\",\"y\":[null,null,null,null,null,null,null,null,null,null,null,null,null,null,0.01093377814044132,0.010427091675439225,0.010721231415132934,0.010691332140560183,0.010648675958359236,0.010711500476456363,0.011874552892390736,0.012505303919264051,0.01245366393801317,0.013520966251711673,0.014892807289198643,0.013897498328769095,0.013703561212114529,0.02734947495240268,0.02710367623017961,0.027390627530265145,0.027226802101786737,0.02749243674915849,0.02758561009693976,0.027418566280091188,0.027167320437545366,0.02702806216260691,0.026972878411198577,0.026239734350617258,0.025106230127990452,0.024546795275162906,0.023712743232083378,0.013436827933466641,0.018490511628013538,0.02002723948802817,0.019957374234566432,0.021842088705533187,0.02182885816700098,0.022033191932364263,0.02174818067272543,0.02176504863579274,0.021768915723287374,0.021595378886492596,0.021747827857634246,0.020668586019892396,0.02141124336248871,0.020071205310607944,0.014167012625901238,0.012368431553197128,0.013308423714654601,0.010826941757321613,0.011182327622359241,0.012042819318062102,0.012111022720381488,0.013672564913572395,0.01360295153319924,0.013606114204485322,0.013580812682065842,0.01395891398265269,0.013234316294025758,0.013237611146144,0.013078693691136858,0.013074889074182219,0.012220179370775066,0.01507413149973563,0.015129473486781063,0.013908400990868602,0.015139067969172373,0.02118324916631486,0.021463952729205687,0.021484906744865126,0.02251720680975383,0.022234629996077098,0.022854964298111357,0.026386148862152934,0.033744481679872845,0.033740704600117806,0.033870226723337636,0.032578939407775544,0.03299358862185588,0.032947477645100434,0.03312034202445816,0.028535021396299206,0.029254972782958823,0.029289684825520357,0.027458142023274786,0.027468491311878344,0.02758564770281757,0.02584078029117803,0.015169235315635054,0.015898183753438815,0.01586626662799597,0.018990449543593704,0.018447979093567435,0.01912335523892446,0.018201777624751076,0.01818734005765154,0.015789975959179203,0.01629693588485201,0.016415009639916336,0.01640938537920412,0.02178066314691815,0.021400489279970587,0.021370263083577264,0.02127812396058536,0.021347958404228984,0.015639938577812023,0.016211321114968445,0.01646579137814081,0.016650109543594065,0.017015745658536554,0.01709774930241593,0.019491419235544715,0.019421728680546334,0.019854651577426507,0.012867509994715573,0.01632380122514033,0.016296125699067958,0.01629896560060302,0.016136695467497842,0.017197615302905336,0.01726586665361098,0.01722278360388227,0.017187655583784708,0.017133915149470474,0.017013964918941495,0.014042222435429873,0.01589064149152177,0.015498293202309122,0.016469875788532703,0.013162953134418056,0.013034323219019369,0.013548574917060153,0.01463200832826219,0.016000462242326936,0.016004714472506638,0.015776612204854483,0.01653824210557189,0.017062797814357586,0.017959030351345374,0.017825927748752725,0.01699088761102824,0.017206058810639923,0.016447317890262467,0.01710715762674074,0.01706661544777691,0.016962249090606066,0.015579617275743843,0.013877641280250954,0.013977707513471525,0.01582463967757127,0.015557848194159148,0.015078759480794299,0.014300213751047756,0.014048139264966997,0.013434956710899502,0.012875313634967574,0.013525366891531216,0.012520179197810729,0.012596111417518912,0.014030266762013478,0.015592752531028483,0.015200178439931156,0.014723582442779402,0.014305793736276346,0.014234282937080291,0.013568114874655405,0.013679818840935904,0.015911328728901813,0.015941530866604537,0.016855668756822755,0.01587352993017576,0.017107527007517193,0.017143078322475473,0.014858857539365344,0.014888703898608026,0.015298446561352846,0.015990907186393604,0.0169786083696041,0.01934785027083676,0.019872527713622263,0.020659715548405254,0.018460445031060098,0.01874006718095098,0.016921312897411833,0.019354951254262797,0.01986609215414774,0.020113332374914885,0.020155424041640398,0.018853881685887596,0.019045880297274758,0.019635802053164533,0.019802608421305067,0.017686257517491675,0.018180278168488793,0.01769331597674763,0.019172305645038,0.02144099366650225,0.028770598763469532,0.029326507459134142,0.02820148192896607,0.028765619039381546,0.03030273249255714,0.030378101647869235,0.0304035960295143,0.030214477618087696,0.029891696510962976,0.029985849070641245,0.02984899510852856,0.029037050347513686,0.028210566615905607,0.02638810578971551,0.017828834706769568,0.015763731419319978,0.01605869092995917,0.015712895463251882,0.012094742304820449,0.011524162259149642,0.012076918988164173,0.015511574658659167,0.015618315292513838,0.01473796334697912,0.018014805543859494,0.0179997637289955,0.018640378648620948,0.018346065631491958,0.018361116627411647,0.02058837817433347,0.020686822646539496,0.020007523979960477,0.01992749529216385,0.02151060088740098,0.020638111849187676,0.015668226186314173,0.015552970407368536,0.015644707676270995,0.01420764391792955,0.02208593789503517,0.021955466313375877,0.022018470192123694,0.02201619556267745,0.02170558590170058,0.02671658870766967,0.029671357607114104,0.0303233813870719,0.02807002374694955,0.028747995579330957,0.03158623657892179,0.030871437042330023,0.03126091730069314,0.03181953700080478,0.028671124949713432,0.03151217419370476,0.031713664834844425,0.03214782535077169,0.03171573101045796,0.02611189183752791],\"yaxis\":\"y\",\"type\":\"scatter\"}],                        {\"template\":{\"data\":{\"histogram2dcontour\":[{\"type\":\"histogram2dcontour\",\"colorbar\":{\"outlinewidth\":0,\"ticks\":\"\"},\"colorscale\":[[0.0,\"#0d0887\"],[0.1111111111111111,\"#46039f\"],[0.2222222222222222,\"#7201a8\"],[0.3333333333333333,\"#9c179e\"],[0.4444444444444444,\"#bd3786\"],[0.5555555555555556,\"#d8576b\"],[0.6666666666666666,\"#ed7953\"],[0.7777777777777778,\"#fb9f3a\"],[0.8888888888888888,\"#fdca26\"],[1.0,\"#f0f921\"]]}],\"choropleth\":[{\"type\":\"choropleth\",\"colorbar\":{\"outlinewidth\":0,\"ticks\":\"\"}}],\"histogram2d\":[{\"type\":\"histogram2d\",\"colorbar\":{\"outlinewidth\":0,\"ticks\":\"\"},\"colorscale\":[[0.0,\"#0d0887\"],[0.1111111111111111,\"#46039f\"],[0.2222222222222222,\"#7201a8\"],[0.3333333333333333,\"#9c179e\"],[0.4444444444444444,\"#bd3786\"],[0.5555555555555556,\"#d8576b\"],[0.6666666666666666,\"#ed7953\"],[0.7777777777777778,\"#fb9f3a\"],[0.8888888888888888,\"#fdca26\"],[1.0,\"#f0f921\"]]}],\"heatmap\":[{\"type\":\"heatmap\",\"colorbar\":{\"outlinewidth\":0,\"ticks\":\"\"},\"colorscale\":[[0.0,\"#0d0887\"],[0.1111111111111111,\"#46039f\"],[0.2222222222222222,\"#7201a8\"],[0.3333333333333333,\"#9c179e\"],[0.4444444444444444,\"#bd3786\"],[0.5555555555555556,\"#d8576b\"],[0.6666666666666666,\"#ed7953\"],[0.7777777777777778,\"#fb9f3a\"],[0.8888888888888888,\"#fdca26\"],[1.0,\"#f0f921\"]]}],\"heatmapgl\":[{\"type\":\"heatmapgl\",\"colorbar\":{\"outlinewidth\":0,\"ticks\":\"\"},\"colorscale\":[[0.0,\"#0d0887\"],[0.1111111111111111,\"#46039f\"],[0.2222222222222222,\"#7201a8\"],[0.3333333333333333,\"#9c179e\"],[0.4444444444444444,\"#bd3786\"],[0.5555555555555556,\"#d8576b\"],[0.6666666666666666,\"#ed7953\"],[0.7777777777777778,\"#fb9f3a\"],[0.8888888888888888,\"#fdca26\"],[1.0,\"#f0f921\"]]}],\"contourcarpet\":[{\"type\":\"contourcarpet\",\"colorbar\":{\"outlinewidth\":0,\"ticks\":\"\"}}],\"contour\":[{\"type\":\"contour\",\"colorbar\":{\"outlinewidth\":0,\"ticks\":\"\"},\"colorscale\":[[0.0,\"#0d0887\"],[0.1111111111111111,\"#46039f\"],[0.2222222222222222,\"#7201a8\"],[0.3333333333333333,\"#9c179e\"],[0.4444444444444444,\"#bd3786\"],[0.5555555555555556,\"#d8576b\"],[0.6666666666666666,\"#ed7953\"],[0.7777777777777778,\"#fb9f3a\"],[0.8888888888888888,\"#fdca26\"],[1.0,\"#f0f921\"]]}],\"surface\":[{\"type\":\"surface\",\"colorbar\":{\"outlinewidth\":0,\"ticks\":\"\"},\"colorscale\":[[0.0,\"#0d0887\"],[0.1111111111111111,\"#46039f\"],[0.2222222222222222,\"#7201a8\"],[0.3333333333333333,\"#9c179e\"],[0.4444444444444444,\"#bd3786\"],[0.5555555555555556,\"#d8576b\"],[0.6666666666666666,\"#ed7953\"],[0.7777777777777778,\"#fb9f3a\"],[0.8888888888888888,\"#fdca26\"],[1.0,\"#f0f921\"]]}],\"mesh3d\":[{\"type\":\"mesh3d\",\"colorbar\":{\"outlinewidth\":0,\"ticks\":\"\"}}],\"scatter\":[{\"fillpattern\":{\"fillmode\":\"overlay\",\"size\":10,\"solidity\":0.2},\"type\":\"scatter\"}],\"parcoords\":[{\"type\":\"parcoords\",\"line\":{\"colorbar\":{\"outlinewidth\":0,\"ticks\":\"\"}}}],\"scatterpolargl\":[{\"type\":\"scatterpolargl\",\"marker\":{\"colorbar\":{\"outlinewidth\":0,\"ticks\":\"\"}}}],\"bar\":[{\"error_x\":{\"color\":\"#2a3f5f\"},\"error_y\":{\"color\":\"#2a3f5f\"},\"marker\":{\"line\":{\"color\":\"#E5ECF6\",\"width\":0.5},\"pattern\":{\"fillmode\":\"overlay\",\"size\":10,\"solidity\":0.2}},\"type\":\"bar\"}],\"scattergeo\":[{\"type\":\"scattergeo\",\"marker\":{\"colorbar\":{\"outlinewidth\":0,\"ticks\":\"\"}}}],\"scatterpolar\":[{\"type\":\"scatterpolar\",\"marker\":{\"colorbar\":{\"outlinewidth\":0,\"ticks\":\"\"}}}],\"histogram\":[{\"marker\":{\"pattern\":{\"fillmode\":\"overlay\",\"size\":10,\"solidity\":0.2}},\"type\":\"histogram\"}],\"scattergl\":[{\"type\":\"scattergl\",\"marker\":{\"colorbar\":{\"outlinewidth\":0,\"ticks\":\"\"}}}],\"scatter3d\":[{\"type\":\"scatter3d\",\"line\":{\"colorbar\":{\"outlinewidth\":0,\"ticks\":\"\"}},\"marker\":{\"colorbar\":{\"outlinewidth\":0,\"ticks\":\"\"}}}],\"scattermapbox\":[{\"type\":\"scattermapbox\",\"marker\":{\"colorbar\":{\"outlinewidth\":0,\"ticks\":\"\"}}}],\"scatterternary\":[{\"type\":\"scatterternary\",\"marker\":{\"colorbar\":{\"outlinewidth\":0,\"ticks\":\"\"}}}],\"scattercarpet\":[{\"type\":\"scattercarpet\",\"marker\":{\"colorbar\":{\"outlinewidth\":0,\"ticks\":\"\"}}}],\"carpet\":[{\"aaxis\":{\"endlinecolor\":\"#2a3f5f\",\"gridcolor\":\"white\",\"linecolor\":\"white\",\"minorgridcolor\":\"white\",\"startlinecolor\":\"#2a3f5f\"},\"baxis\":{\"endlinecolor\":\"#2a3f5f\",\"gridcolor\":\"white\",\"linecolor\":\"white\",\"minorgridcolor\":\"white\",\"startlinecolor\":\"#2a3f5f\"},\"type\":\"carpet\"}],\"table\":[{\"cells\":{\"fill\":{\"color\":\"#EBF0F8\"},\"line\":{\"color\":\"white\"}},\"header\":{\"fill\":{\"color\":\"#C8D4E3\"},\"line\":{\"color\":\"white\"}},\"type\":\"table\"}],\"barpolar\":[{\"marker\":{\"line\":{\"color\":\"#E5ECF6\",\"width\":0.5},\"pattern\":{\"fillmode\":\"overlay\",\"size\":10,\"solidity\":0.2}},\"type\":\"barpolar\"}],\"pie\":[{\"automargin\":true,\"type\":\"pie\"}]},\"layout\":{\"autotypenumbers\":\"strict\",\"colorway\":[\"#636efa\",\"#EF553B\",\"#00cc96\",\"#ab63fa\",\"#FFA15A\",\"#19d3f3\",\"#FF6692\",\"#B6E880\",\"#FF97FF\",\"#FECB52\"],\"font\":{\"color\":\"#2a3f5f\"},\"hovermode\":\"closest\",\"hoverlabel\":{\"align\":\"left\"},\"paper_bgcolor\":\"white\",\"plot_bgcolor\":\"#E5ECF6\",\"polar\":{\"bgcolor\":\"#E5ECF6\",\"angularaxis\":{\"gridcolor\":\"white\",\"linecolor\":\"white\",\"ticks\":\"\"},\"radialaxis\":{\"gridcolor\":\"white\",\"linecolor\":\"white\",\"ticks\":\"\"}},\"ternary\":{\"bgcolor\":\"#E5ECF6\",\"aaxis\":{\"gridcolor\":\"white\",\"linecolor\":\"white\",\"ticks\":\"\"},\"baxis\":{\"gridcolor\":\"white\",\"linecolor\":\"white\",\"ticks\":\"\"},\"caxis\":{\"gridcolor\":\"white\",\"linecolor\":\"white\",\"ticks\":\"\"}},\"coloraxis\":{\"colorbar\":{\"outlinewidth\":0,\"ticks\":\"\"}},\"colorscale\":{\"sequential\":[[0.0,\"#0d0887\"],[0.1111111111111111,\"#46039f\"],[0.2222222222222222,\"#7201a8\"],[0.3333333333333333,\"#9c179e\"],[0.4444444444444444,\"#bd3786\"],[0.5555555555555556,\"#d8576b\"],[0.6666666666666666,\"#ed7953\"],[0.7777777777777778,\"#fb9f3a\"],[0.8888888888888888,\"#fdca26\"],[1.0,\"#f0f921\"]],\"sequentialminus\":[[0.0,\"#0d0887\"],[0.1111111111111111,\"#46039f\"],[0.2222222222222222,\"#7201a8\"],[0.3333333333333333,\"#9c179e\"],[0.4444444444444444,\"#bd3786\"],[0.5555555555555556,\"#d8576b\"],[0.6666666666666666,\"#ed7953\"],[0.7777777777777778,\"#fb9f3a\"],[0.8888888888888888,\"#fdca26\"],[1.0,\"#f0f921\"]],\"diverging\":[[0,\"#8e0152\"],[0.1,\"#c51b7d\"],[0.2,\"#de77ae\"],[0.3,\"#f1b6da\"],[0.4,\"#fde0ef\"],[0.5,\"#f7f7f7\"],[0.6,\"#e6f5d0\"],[0.7,\"#b8e186\"],[0.8,\"#7fbc41\"],[0.9,\"#4d9221\"],[1,\"#276419\"]]},\"xaxis\":{\"gridcolor\":\"white\",\"linecolor\":\"white\",\"ticks\":\"\",\"title\":{\"standoff\":15},\"zerolinecolor\":\"white\",\"automargin\":true,\"zerolinewidth\":2},\"yaxis\":{\"gridcolor\":\"white\",\"linecolor\":\"white\",\"ticks\":\"\",\"title\":{\"standoff\":15},\"zerolinecolor\":\"white\",\"automargin\":true,\"zerolinewidth\":2},\"scene\":{\"xaxis\":{\"backgroundcolor\":\"#E5ECF6\",\"gridcolor\":\"white\",\"linecolor\":\"white\",\"showbackground\":true,\"ticks\":\"\",\"zerolinecolor\":\"white\",\"gridwidth\":2},\"yaxis\":{\"backgroundcolor\":\"#E5ECF6\",\"gridcolor\":\"white\",\"linecolor\":\"white\",\"showbackground\":true,\"ticks\":\"\",\"zerolinecolor\":\"white\",\"gridwidth\":2},\"zaxis\":{\"backgroundcolor\":\"#E5ECF6\",\"gridcolor\":\"white\",\"linecolor\":\"white\",\"showbackground\":true,\"ticks\":\"\",\"zerolinecolor\":\"white\",\"gridwidth\":2}},\"shapedefaults\":{\"line\":{\"color\":\"#2a3f5f\"}},\"annotationdefaults\":{\"arrowcolor\":\"#2a3f5f\",\"arrowhead\":0,\"arrowwidth\":1},\"geo\":{\"bgcolor\":\"white\",\"landcolor\":\"#E5ECF6\",\"subunitcolor\":\"white\",\"showland\":true,\"showlakes\":true,\"lakecolor\":\"white\"},\"title\":{\"x\":0.05},\"mapbox\":{\"style\":\"light\"}}},\"xaxis\":{\"anchor\":\"y\",\"domain\":[0.0,1.0],\"title\":{\"text\":\"Date\"}},\"yaxis\":{\"anchor\":\"x\",\"domain\":[0.0,1.0],\"title\":{\"text\":\"Standard Deviation\"}},\"legend\":{\"tracegroupgap\":0},\"margin\":{\"t\":60},\"title\":{\"text\":\"Rolling 14-Day Standard Deviation\"}},                        {\"responsive\": true}                    ).then(function(){\n",
              "                            \n",
              "var gd = document.getElementById('7209768b-20e3-4a5b-997a-3467b5370f85');\n",
              "var x = new MutationObserver(function (mutations, observer) {{\n",
              "        var display = window.getComputedStyle(gd).display;\n",
              "        if (!display || display === 'none') {{\n",
              "            console.log([gd, 'removed!']);\n",
              "            Plotly.purge(gd);\n",
              "            observer.disconnect();\n",
              "        }}\n",
              "}});\n",
              "\n",
              "// Listen for the removal of the full notebook cells\n",
              "var notebookContainer = gd.closest('#notebook-container');\n",
              "if (notebookContainer) {{\n",
              "    x.observe(notebookContainer, {childList: true});\n",
              "}}\n",
              "\n",
              "// Listen for the clearing of the current output cell\n",
              "var outputEl = gd.closest('.output');\n",
              "if (outputEl) {{\n",
              "    x.observe(outputEl, {childList: true});\n",
              "}}\n",
              "\n",
              "                        })                };                            </script>        </div>\n",
              "</body>\n",
              "</html>"
            ]
          },
          "metadata": {}
        },
        {
          "output_type": "display_data",
          "data": {
            "text/html": [
              "<html>\n",
              "<head><meta charset=\"utf-8\" /></head>\n",
              "<body>\n",
              "    <div>            <script src=\"https://cdnjs.cloudflare.com/ajax/libs/mathjax/2.7.5/MathJax.js?config=TeX-AMS-MML_SVG\"></script><script type=\"text/javascript\">if (window.MathJax && window.MathJax.Hub && window.MathJax.Hub.Config) {window.MathJax.Hub.Config({SVG: {font: \"STIX-Web\"}});}</script>                <script type=\"text/javascript\">window.PlotlyConfig = {MathJaxConfig: 'local'};</script>\n",
              "        <script charset=\"utf-8\" src=\"https://cdn.plot.ly/plotly-2.35.2.min.js\"></script>                <div id=\"2bab8d2c-df9f-44e9-8212-4eb1b3a30882\" class=\"plotly-graph-div\" style=\"height:525px; width:100%;\"></div>            <script type=\"text/javascript\">                                    window.PLOTLYENV=window.PLOTLYENV || {};                                    if (document.getElementById(\"2bab8d2c-df9f-44e9-8212-4eb1b3a30882\")) {                    Plotly.newPlot(                        \"2bab8d2c-df9f-44e9-8212-4eb1b3a30882\",                        [{\"close\":[989.1973876953125,1001.5592651367188,1006.0454711914062,1008.4878540039062,1004.001708984375,1010.0829467773438,1005.3973999023438,1010.3820190429688,1015.3666381835938,995.7272338867188,989.7457275390625,968.3616943359375,960.23681640625,970.554931640625,983.71435546875,988.5993041992188,998.1697387695312,996.4251098632812,997.5216674804688,1004.79931640625,1024.6380615234375,1010.2823486328125,1013.07373046875,985.5087890625,1008.986328125,1027.13037109375,1043.4300537109375,956.79736328125,961.6823120117188,944.3856811523438,933.5192260742188,942.7906494140625,948.3733520507812,944.5850830078125,959.3893432617188,957.5949096679688,955.5512084960938,944.6348876953125,940.6970825195312,921.1075439453125,920.1604614257812,947.5260009765625,901.1192626953125,927.089111328125,935.363525390625,967.5143432617188,972.1500244140625,987.0999755859375,988.7000122070312,985.8499755859375,993.4000244140625,985.9000244140625,977.3499755859375,978.25,961.7999877929688,958.0499877929688,955.0,951.8499755859375,972.0999755859375,989.75,1002.0499877929688,981.2999877929688,975.6500244140625,998.2000122070312,993.6500244140625,1002.5999755859375,1014.9500122070312,1005.5,1020.7999877929688,1016.75,1024.449951171875,1021.1500244140625,1024.550048828125,990.0,1003.1500244140625,1001.7999877929688,1027.699951171875,1090.949951171875,1118.300048828125,1124.0,1161.8499755859375,1156.6500244140625,1144.4000244140625,1096.6500244140625,1016.4500122070312,1013.75,1025.300048828125,1041.75,1068.0999755859375,1076.1500244140625,1053.449951171875,1062.3499755859375,1098.3499755859375,1087.699951171875,1086.9000244140625,1085.199951171875,1068.449951171875,1085.1500244140625,1092.4000244140625,1077.25,1074.550048828125,1121.6500244140625,1111.3499755859375,1092.6500244140625,1085.0999755859375,1080.449951171875,1069.1500244140625,1049.3499755859375,1038.699951171875,1035.800048828125,976.2999877929688,986.1500244140625,992.0999755859375,988.4000244140625,974.9500122070312,962.0499877929688,967.0,970.8499755859375,971.7999877929688,977.2999877929688,963.5999755859375,993.1500244140625,993.0,974.6500244140625,965.2000122070312,925.7000122070312,930.75,927.8499755859375,919.7999877929688,939.1500244140625,928.5,930.7000122070312,928.25,917.2999877929688,907.4500122070312,891.5999755859375,910.1500244140625,903.2999877929688,879.5,877.6500244140625,880.0,864.2999877929688,878.4500122070312,842.75,840.2000122070312,834.0499877929688,843.4500122070312,824.0999755859375,835.6500244140625,839.7000122070312,819.75,805.4500122070312,804.7000122070312,784.8499755859375,786.25,774.2999877929688,771.9000244140625,783.2000122070312,773.8499755859375,791.0,796.5999755859375,783.0,783.9500122070312,779.4500122070312,786.4500122070312,790.0499877929688,801.25,788.0999755859375,792.5499877929688,816.7999877929688,798.75,799.9000244140625,799.0999755859375,786.3499755859375,790.2999877929688,784.7999877929688,779.75,755.7000122070312,744.0499877929688,724.0499877929688,722.2000122070312,736.0999755859375,740.7999877929688,750.5,733.6500244140625,740.1500244140625,749.25,765.0499877929688,790.4000244140625,776.25,793.25,794.9500122070312,780.0999755859375,774.6500244140625,751.0,770.5,763.5999755859375,774.3499755859375,779.75,774.3499755859375,760.75,742.75,752.5,734.0999755859375,713.0499877929688,728.25,752.5,696.8499755859375,716.0999755859375,706.5499877929688,687.4500122070312,710.5499877929688,717.0499877929688,709.6500244140625,706.75,696.0,677.75,684.3499755859375,683.8499755859375,680.6500244140625,686.5999755859375,682.4000244140625,681.0,689.7999877929688,673.2000122070312,668.25,661.5999755859375,648.5499877929688,620.6500244140625,621.1500244140625,619.2000122070312,640.7999877929688,639.6500244140625,648.2999877929688,648.1500244140625,648.0499877929688,668.2999877929688,655.5,661.0499877929688,661.0499877929688,682.25,690.0499877929688,702.9500122070312,713.5,710.2999877929688,708.25,668.5499877929688,674.4500122070312,671.8499755859375,671.9000244140625,653.9500122070312,613.8499755859375,579.75,588.8499755859375,582.9000244140625,595.0499877929688,622.2000122070312,616.0499877929688,621.5499877929688,630.0499877929688,630.8499755859375,659.9000244140625,668.3499755859375,655.25,668.1500244140625,665.5999755859375],\"high\":[1006.7432177513575,1004.8989346778949,1011.3291540804612,1013.871265593801,1009.3851206333742,1013.2731142870745,1026.3327944466662,1017.8589456762418,1025.8343354844556,1003.852185193392,1001.80853948109,1000.0140179761577,964.9722034703329,975.7389463860485,991.4405133150968,992.8362294645907,1000.2134199478468,1005.8460497848425,1002.6558480385609,1016.3137717666636,1026.8312446301773,1036.9998267222027,1016.6626309338477,1014.8183665411239,1011.8774308377767,1039.9905873933412,1047.118622153057,1005.5967825177934,965.0219815137478,969.9567949388908,951.4638497726754,950.4669732117342,953.7069295016887,951.9623417681472,960.4859956628709,967.9629389906398,963.4767627704676,958.9407769957431,947.5758796831192,948.5229420987141,934.3666223957892,960.0373793689552,945.0835689366378,930.8774088277726,943.0896829411471,970.0066522345722,981.8700290294881,992.5499877929688,1010.25,1002.0,997.25,1003.5499877929688,994.9000244140625,988.4000244140625,980.9000244140625,963.5,962.8499755859375,962.5,974.8499755859375,998.5,1005.5,1005.0,987.3499755859375,1004.0,1006.5999755859375,1016.5999755859375,1017.0,1019.8499755859375,1025.5,1025.9000244140625,1029.800048828125,1029.5999755859375,1027.0,1024.0,1008.0,1008.6500244140625,1034.25,1094.0,1120.5,1139.9000244140625,1179.0,1167.9000244140625,1176.0,1120.0,1065.0,1060.6500244140625,1040.199951171875,1056.4000244140625,1082.949951171875,1079.9000244140625,1075.5,1067.050048828125,1099.949951171875,1107.0,1098.050048828125,1095.300048828125,1094.75,1092.5999755859375,1103.3499755859375,1096.6500244140625,1088.699951171875,1142.0,1115.0,1105.0,1100.0,1085.0,1085.8499755859375,1072.949951171875,1049.949951171875,1049.0,1011.5499877929688,988.0,1006.0,999.9000244140625,995.0,983.7000122070312,978.9500122070312,977.5,979.2000122070312,985.0,982.5,994.9500122070312,1000.4000244140625,996.9500122070312,984.5,950.1500244140625,949.2000122070312,944.4500122070312,924.7999877929688,948.4500122070312,943.5999755859375,937.0,940.0,935.3499755859375,923.0,914.9500122070312,917.7000122070312,917.6500244140625,906.0999755859375,885.5999755859375,890.0,885.75,886.75,882.5,853.5999755859375,843.8499755859375,847.9500122070312,844.4500122070312,843.5999755859375,843.9000244140625,842.75,822.0,831.4500122070312,813.0999755859375,792.6500244140625,792.0,781.75,799.9000244140625,785.9500122070312,794.0,810.2000122070312,801.7999877929688,791.9000244140625,792.5499877929688,789.4000244140625,796.75,806.0,806.0,797.5,818.8499755859375,820.3499755859375,810.4500122070312,806.9500122070312,802.0,792.5,793.9500122070312,796.3499755859375,774.25,755.7999877929688,749.5499877929688,734.4000244140625,745.2999877929688,747.7999877929688,766.8499755859375,754.9000244140625,743.4000244140625,751.0999755859375,767.3499755859375,800.5999755859375,797.7000122070312,796.9500122070312,797.0,810.0,787.9500122070312,773.5499877929688,779.0,785.0,781.0,785.5,783.0,786.6500244140625,765.4500122070312,759.7000122070312,754.1500244140625,732.9500122070312,740.8499755859375,755.0,710.7000122070312,717.0,724.75,700.0,713.3499755859375,725.4500122070312,723.4000244140625,715.9500122070312,709.9000244140625,697.0,687.5499877929688,693.1500244140625,690.9500122070312,690.7000122070312,687.9500122070312,690.9500122070312,692.8499755859375,690.0,676.5999755859375,672.5,665.0,645.0,626.8499755859375,629.1500244140625,641.5999755859375,655.9500122070312,651.5,654.25,651.1500244140625,671.9000244140625,671.8499755859375,666.4500122070312,661.0499877929688,685.75,692.7000122070312,705.0,717.5,723.0499877929688,717.8499755859375,676.5999755859375,684.9500122070312,681.8499755859375,675.3499755859375,669.0,650.0,582.0,606.5999755859375,594.9000244140625,612.7999877929688,628.2999877929688,625.0,627.0,635.75,633.9500122070312,661.5,671.0,673.0,669.5999755859375,682.9000244140625],\"low\":[984.4121668479715,990.3438752407601,989.4965029902119,995.0792807327128,1001.3100640072616,1000.9112380046372,1001.90816747829,1006.892786614108,1010.3820204212786,975.4896979034717,979.0786329613645,963.2774084208725,941.0958712619531,963.0281708392571,971.0534136671944,984.9605087500032,986.4558866541336,993.5340071665445,995.9266141591074,994.4312866724147,1008.4379931758202,992.9358545457699,1001.9081744644453,979.028785817335,973.9943349049339,1004.2010688452552,1027.230046089197,944.2859850790886,950.3173593780787,942.1924371394084,916.1727321600905,938.1050963806224,945.7813751840451,939.6502991645742,942.1425782092996,955.0527667693228,949.071205517247,943.0896683785454,935.911861419699,918.1666072466522,917.2693587139829,931.1265963973044,852.7684682929635,887.2620014529773,928.3352264980141,932.3727867444848,966.1185882568394,966.6500244140625,987.0,980.75,981.4000244140625,984.0,975.1500244140625,976.3499755859375,958.0999755859375,950.0499877929688,949.2999877929688,950.0999755859375,948.0499877929688,972.5499877929688,985.2000122070312,979.0999755859375,973.5,979.5999755859375,989.9500122070312,996.2000122070312,998.0999755859375,986.0499877929688,1007.0499877929688,1015.0,1017.2999877929688,1019.2000122070312,1008.0,986.6500244140625,976.5499877929688,967.2000122070312,995.1500244140625,1024.3499755859375,1083.5999755859375,1118.5999755859375,1118.5999755859375,1145.300048828125,1136.5,1090.050048828125,1014.0499877929688,1008.4000244140625,1015.0499877929688,1027.0,1052.050048828125,1055.0,1048.199951171875,1047.0,1070.0,1085.0,1082.050048828125,1083.300048828125,1064.949951171875,1071.0,1082.8499755859375,1075.0,1070.0999755859375,1066.0,1097.449951171875,1087.3499755859375,1082.199951171875,1072.0999755859375,1066.949951171875,1040.5,1026.25,1032.199951171875,971.25,958.0,988.0,984.5,960.0,957.1500244140625,956.3499755859375,949.2000122070312,966.0499877929688,972.5999755859375,959.25,965.5999755859375,989.1500244140625,971.7999877929688,958.9000244140625,925.0,920.0,915.0,893.8499755859375,925.5,912.3499755859375,928.5,925.3499755859375,913.0,900.0,890.0499877929688,886.7999877929688,898.0999755859375,875.25,863.2999877929688,875.25,857.2999877929688,860.2000122070312,825.7000122070312,838.0499877929688,831.8499755859375,840.0,814.5,820.4000244140625,826.0,817.2999877929688,801.0999755859375,792.0,783.0499877929688,775.5499877929688,772.0,759.2000122070312,771.9000244140625,766.25,775.0,793.6500244140625,780.1500244140625,779.0999755859375,778.0,777.0499877929688,785.0,790.0,784.0499877929688,781.0,785.2999877929688,797.0,797.4500122070312,798.2000122070312,785.5,775.0,783.0,778.0,754.0,741.4000244140625,721.5,717.7000122070312,722.5,735.5499877929688,745.7000122070312,730.7000122070312,732.75,736.0,749.3499755859375,761.4500122070312,765.2999877929688,772.5,781.6500244140625,769.4500122070312,766.7999877929688,748.7999877929688,751.5,756.0499877929688,767.3499755859375,772.25,767.0,758.4000244140625,731.0,739.7999877929688,732.2000122070312,709.2999877929688,707.5,726.5499877929688,683.2000122070312,696.4500122070312,700.9000244140625,686.0,693.75,710.7000122070312,708.1500244140625,703.0999755859375,693.0499877929688,675.0999755859375,667.0499877929688,679.3499755859375,669.1500244140625,667.0499877929688,672.1500244140625,675.0499877929688,675.0,671.0999755859375,666.0,660.0,645.6500244140625,618.4500122070312,606.2999877929688,613.0,618.5999755859375,635.5999755859375,635.0,643.3499755859375,638.4500122070312,652.25,649.5999755859375,657.4500122070312,661.0499877929688,678.5499877929688,679.0,688.5499877929688,702.0499877929688,706.3499755859375,707.0,661.0999755859375,669.2999877929688,665.75,662.0999755859375,652.5,610.0,535.75,584.2000122070312,581.0499877929688,591.0,612.6500244140625,613.5999755859375,608.25,620.2000122070312,626.2000122070312,633.3499755859375,660.0999755859375,651.5,652.5499877929688,661.5999755859375],\"open\":[996.9235451703829,995.926622761128,1000.9112903333113,1012.8743420288121,1008.4878650760788,1006.9426132753277,1017.8589442739643,1009.1358646040899,1010.8804821975102,995.0293752292167,986.9543536577906,993.2847838164258,961.0343431107234,975.7389463860485,972.997426843172,989.346996893108,989.446657407001,1004.6995633384917,999.9641423173026,1001.9082136398765,1016.8620092454183,1034.8066435928806,1011.8774100312557,1013.0737502828102,983.9137366673529,1007.8896981096933,1033.8097171535346,1001.9081532666385,962.1308789243916,967.9629478084743,950.2675293566348,941.0958671448539,951.0650577800128,949.0712390748681,947.0773618960241,959.5389227718927,961.9315434603733,956.0496743922041,944.036813080503,940.5973875539809,928.7838747044248,960.0373793689552,945.0835689366378,922.1044933424341,937.1081416117106,937.1081737929064,973.9943086431638,973.7999877929688,994.5,1002.0,990.0,1000.0,990.0,980.0,979.0,960.9000244140625,960.0,956.0,952.5,975.0,989.75,1004.0499877929688,984.9500122070312,984.0,1005.0,1005.0,1000.9500122070312,1015.0,1008.0,1023.8499755859375,1021.3499755859375,1025.5,1022.9500122070312,1024.0,990.0,1007.9000244140625,997.7999877929688,1029.0,1111.949951171875,1124.0,1125.800048828125,1164.0,1167.0,1120.0,1059.949951171875,1030.0,1036.050048828125,1034.949951171875,1055.0,1065.0,1074.8499755859375,1057.0,1072.0,1105.9000244140625,1097.0,1089.0,1090.0,1073.0,1089.0,1093.050048828125,1082.949951171875,1079.050048828125,1113.949951171875,1105.0,1097.5999755859375,1079.0,1081.0,1068.800048828125,1049.3499755859375,1049.0,1000.0,976.2999877929688,994.9000244140625,997.0,995.0,978.2000122070312,970.4000244140625,967.0,973.5,974.0,982.4000244140625,970.7999877929688,996.0,993.0,976.9000244140625,939.0,930.0,942.0,916.0,926.7999877929688,933.75,932.0,930.0,932.9500122070312,917.0499877929688,914.9500122070312,894.2999877929688,912.0499877929688,905.0,879.0,875.25,883.9000244140625,867.8499755859375,880.25,846.0,843.8499755859375,847.9500122070312,840.0,821.5,843.9000244140625,841.0,821.9500122070312,801.0,806.0,787.0,786.5999755859375,778.0,771.9000244140625,784.9500122070312,775.0,808.0499877929688,797.1500244140625,785.0499877929688,783.0,779.5,787.2999877929688,795.0,805.0,793.0,793.0,816.7999877929688,804.7999877929688,802.9000244140625,799.2000122070312,789.0,791.4000244140625,785.5,774.0,744.4500122070312,744.2999877929688,733.7000122070312,723.5,736.0999755859375,749.0,753.9000244140625,733.6500244140625,740.4500122070312,759.2999877929688,768.0,797.7000122070312,776.0,792.5999755859375,800.0,780.0499877929688,769.0,751.5,771.0,769.9000244140625,773.9000244140625,780.0,775.0,764.1500244140625,742.75,750.0499877929688,732.9500122070312,716.5,731.5,709.0,706.0,719.5,700.0,696.2999877929688,711.0,723.0,711.0,709.75,696.0,680.0,684.3499755859375,685.9500122070312,678.0,686.5999755859375,681.75,680.0,686.0,670.0,667.75,662.0,645.0,620.6500244140625,613.4500122070312,619.0,653.25,640.0,648.2999877929688,640.0,654.5,670.6500244140625,665.0499877929688,661.0499877929688,685.4000244140625,685.0,693.0,710.0,719.0,710.2999877929688,668.0,671.8499755859375,670.5499877929688,674.9500122070312,660.0,650.0,560.5,591.2000122070312,588.0,610.0,614.0,625.0,616.0499877929688,624.5999755859375,630.25,635.9500122070312,660.0999755859375,668.3499755859375,654.2999877929688,671.4500122070312],\"x\":[\"2024-04-01T00:00:00\",\"2024-04-02T00:00:00\",\"2024-04-03T00:00:00\",\"2024-04-04T00:00:00\",\"2024-04-05T00:00:00\",\"2024-04-08T00:00:00\",\"2024-04-09T00:00:00\",\"2024-04-10T00:00:00\",\"2024-04-12T00:00:00\",\"2024-04-15T00:00:00\",\"2024-04-16T00:00:00\",\"2024-04-18T00:00:00\",\"2024-04-19T00:00:00\",\"2024-04-22T00:00:00\",\"2024-04-23T00:00:00\",\"2024-04-24T00:00:00\",\"2024-04-25T00:00:00\",\"2024-04-26T00:00:00\",\"2024-04-29T00:00:00\",\"2024-04-30T00:00:00\",\"2024-05-02T00:00:00\",\"2024-05-03T00:00:00\",\"2024-05-06T00:00:00\",\"2024-05-07T00:00:00\",\"2024-05-08T00:00:00\",\"2024-05-09T00:00:00\",\"2024-05-10T00:00:00\",\"2024-05-13T00:00:00\",\"2024-05-14T00:00:00\",\"2024-05-15T00:00:00\",\"2024-05-16T00:00:00\",\"2024-05-17T00:00:00\",\"2024-05-21T00:00:00\",\"2024-05-22T00:00:00\",\"2024-05-23T00:00:00\",\"2024-05-24T00:00:00\",\"2024-05-27T00:00:00\",\"2024-05-28T00:00:00\",\"2024-05-29T00:00:00\",\"2024-05-30T00:00:00\",\"2024-05-31T00:00:00\",\"2024-06-03T00:00:00\",\"2024-06-04T00:00:00\",\"2024-06-05T00:00:00\",\"2024-06-06T00:00:00\",\"2024-06-07T00:00:00\",\"2024-06-10T00:00:00\",\"2024-06-11T00:00:00\",\"2024-06-12T00:00:00\",\"2024-06-13T00:00:00\",\"2024-06-14T00:00:00\",\"2024-06-18T00:00:00\",\"2024-06-19T00:00:00\",\"2024-06-20T00:00:00\",\"2024-06-21T00:00:00\",\"2024-06-24T00:00:00\",\"2024-06-25T00:00:00\",\"2024-06-26T00:00:00\",\"2024-06-27T00:00:00\",\"2024-06-28T00:00:00\",\"2024-07-01T00:00:00\",\"2024-07-02T00:00:00\",\"2024-07-03T00:00:00\",\"2024-07-04T00:00:00\",\"2024-07-05T00:00:00\",\"2024-07-08T00:00:00\",\"2024-07-09T00:00:00\",\"2024-07-10T00:00:00\",\"2024-07-11T00:00:00\",\"2024-07-12T00:00:00\",\"2024-07-15T00:00:00\",\"2024-07-16T00:00:00\",\"2024-07-18T00:00:00\",\"2024-07-19T00:00:00\",\"2024-07-22T00:00:00\",\"2024-07-23T00:00:00\",\"2024-07-24T00:00:00\",\"2024-07-25T00:00:00\",\"2024-07-26T00:00:00\",\"2024-07-29T00:00:00\",\"2024-07-30T00:00:00\",\"2024-07-31T00:00:00\",\"2024-08-01T00:00:00\",\"2024-08-02T00:00:00\",\"2024-08-05T00:00:00\",\"2024-08-06T00:00:00\",\"2024-08-07T00:00:00\",\"2024-08-08T00:00:00\",\"2024-08-09T00:00:00\",\"2024-08-12T00:00:00\",\"2024-08-13T00:00:00\",\"2024-08-14T00:00:00\",\"2024-08-16T00:00:00\",\"2024-08-19T00:00:00\",\"2024-08-20T00:00:00\",\"2024-08-21T00:00:00\",\"2024-08-22T00:00:00\",\"2024-08-23T00:00:00\",\"2024-08-26T00:00:00\",\"2024-08-27T00:00:00\",\"2024-08-28T00:00:00\",\"2024-08-29T00:00:00\",\"2024-08-30T00:00:00\",\"2024-09-02T00:00:00\",\"2024-09-03T00:00:00\",\"2024-09-04T00:00:00\",\"2024-09-05T00:00:00\",\"2024-09-06T00:00:00\",\"2024-09-09T00:00:00\",\"2024-09-10T00:00:00\",\"2024-09-11T00:00:00\",\"2024-09-12T00:00:00\",\"2024-09-13T00:00:00\",\"2024-09-16T00:00:00\",\"2024-09-17T00:00:00\",\"2024-09-18T00:00:00\",\"2024-09-19T00:00:00\",\"2024-09-20T00:00:00\",\"2024-09-23T00:00:00\",\"2024-09-24T00:00:00\",\"2024-09-25T00:00:00\",\"2024-09-26T00:00:00\",\"2024-09-27T00:00:00\",\"2024-09-30T00:00:00\",\"2024-10-01T00:00:00\",\"2024-10-03T00:00:00\",\"2024-10-04T00:00:00\",\"2024-10-07T00:00:00\",\"2024-10-08T00:00:00\",\"2024-10-09T00:00:00\",\"2024-10-10T00:00:00\",\"2024-10-11T00:00:00\",\"2024-10-14T00:00:00\",\"2024-10-15T00:00:00\",\"2024-10-16T00:00:00\",\"2024-10-17T00:00:00\",\"2024-10-18T00:00:00\",\"2024-10-21T00:00:00\",\"2024-10-22T00:00:00\",\"2024-10-23T00:00:00\",\"2024-10-24T00:00:00\",\"2024-10-25T00:00:00\",\"2024-10-28T00:00:00\",\"2024-10-29T00:00:00\",\"2024-10-30T00:00:00\",\"2024-10-31T00:00:00\",\"2024-11-01T00:00:00\",\"2024-11-04T00:00:00\",\"2024-11-05T00:00:00\",\"2024-11-06T00:00:00\",\"2024-11-07T00:00:00\",\"2024-11-08T00:00:00\",\"2024-11-11T00:00:00\",\"2024-11-12T00:00:00\",\"2024-11-13T00:00:00\",\"2024-11-14T00:00:00\",\"2024-11-18T00:00:00\",\"2024-11-19T00:00:00\",\"2024-11-21T00:00:00\",\"2024-11-22T00:00:00\",\"2024-11-25T00:00:00\",\"2024-11-26T00:00:00\",\"2024-11-27T00:00:00\",\"2024-11-28T00:00:00\",\"2024-11-29T00:00:00\",\"2024-12-02T00:00:00\",\"2024-12-03T00:00:00\",\"2024-12-04T00:00:00\",\"2024-12-05T00:00:00\",\"2024-12-06T00:00:00\",\"2024-12-09T00:00:00\",\"2024-12-10T00:00:00\",\"2024-12-11T00:00:00\",\"2024-12-12T00:00:00\",\"2024-12-13T00:00:00\",\"2024-12-16T00:00:00\",\"2024-12-17T00:00:00\",\"2024-12-18T00:00:00\",\"2024-12-19T00:00:00\",\"2024-12-20T00:00:00\",\"2024-12-23T00:00:00\",\"2024-12-24T00:00:00\",\"2024-12-26T00:00:00\",\"2024-12-27T00:00:00\",\"2024-12-30T00:00:00\",\"2024-12-31T00:00:00\",\"2025-01-01T00:00:00\",\"2025-01-02T00:00:00\",\"2025-01-03T00:00:00\",\"2025-01-06T00:00:00\",\"2025-01-07T00:00:00\",\"2025-01-08T00:00:00\",\"2025-01-09T00:00:00\",\"2025-01-10T00:00:00\",\"2025-01-13T00:00:00\",\"2025-01-14T00:00:00\",\"2025-01-15T00:00:00\",\"2025-01-16T00:00:00\",\"2025-01-17T00:00:00\",\"2025-01-20T00:00:00\",\"2025-01-21T00:00:00\",\"2025-01-22T00:00:00\",\"2025-01-23T00:00:00\",\"2025-01-24T00:00:00\",\"2025-01-27T00:00:00\",\"2025-01-28T00:00:00\",\"2025-01-29T00:00:00\",\"2025-01-30T00:00:00\",\"2025-01-31T00:00:00\",\"2025-02-01T00:00:00\",\"2025-02-03T00:00:00\",\"2025-02-04T00:00:00\",\"2025-02-05T00:00:00\",\"2025-02-06T00:00:00\",\"2025-02-07T00:00:00\",\"2025-02-10T00:00:00\",\"2025-02-11T00:00:00\",\"2025-02-12T00:00:00\",\"2025-02-13T00:00:00\",\"2025-02-14T00:00:00\",\"2025-02-17T00:00:00\",\"2025-02-18T00:00:00\",\"2025-02-19T00:00:00\",\"2025-02-20T00:00:00\",\"2025-02-21T00:00:00\",\"2025-02-24T00:00:00\",\"2025-02-25T00:00:00\",\"2025-02-27T00:00:00\",\"2025-02-28T00:00:00\",\"2025-03-03T00:00:00\",\"2025-03-04T00:00:00\",\"2025-03-05T00:00:00\",\"2025-03-06T00:00:00\",\"2025-03-07T00:00:00\",\"2025-03-10T00:00:00\",\"2025-03-11T00:00:00\",\"2025-03-12T00:00:00\",\"2025-03-13T00:00:00\",\"2025-03-17T00:00:00\",\"2025-03-18T00:00:00\",\"2025-03-19T00:00:00\",\"2025-03-20T00:00:00\",\"2025-03-21T00:00:00\",\"2025-03-24T00:00:00\",\"2025-03-25T00:00:00\",\"2025-03-26T00:00:00\",\"2025-03-27T00:00:00\",\"2025-03-28T00:00:00\",\"2025-04-01T00:00:00\",\"2025-04-02T00:00:00\",\"2025-04-03T00:00:00\",\"2025-04-04T00:00:00\",\"2025-04-07T00:00:00\",\"2025-04-08T00:00:00\",\"2025-04-09T00:00:00\",\"2025-04-11T00:00:00\",\"2025-04-15T00:00:00\",\"2025-04-16T00:00:00\",\"2025-04-17T00:00:00\",\"2025-04-21T00:00:00\",\"2025-04-22T00:00:00\",\"2025-04-23T00:00:00\",\"2025-04-24T00:00:00\",\"2025-04-25T00:00:00\",\"2025-04-28T00:00:00\",\"2025-04-29T00:00:00\"],\"type\":\"candlestick\"}],                        {\"template\":{\"data\":{\"histogram2dcontour\":[{\"type\":\"histogram2dcontour\",\"colorbar\":{\"outlinewidth\":0,\"ticks\":\"\"},\"colorscale\":[[0.0,\"#0d0887\"],[0.1111111111111111,\"#46039f\"],[0.2222222222222222,\"#7201a8\"],[0.3333333333333333,\"#9c179e\"],[0.4444444444444444,\"#bd3786\"],[0.5555555555555556,\"#d8576b\"],[0.6666666666666666,\"#ed7953\"],[0.7777777777777778,\"#fb9f3a\"],[0.8888888888888888,\"#fdca26\"],[1.0,\"#f0f921\"]]}],\"choropleth\":[{\"type\":\"choropleth\",\"colorbar\":{\"outlinewidth\":0,\"ticks\":\"\"}}],\"histogram2d\":[{\"type\":\"histogram2d\",\"colorbar\":{\"outlinewidth\":0,\"ticks\":\"\"},\"colorscale\":[[0.0,\"#0d0887\"],[0.1111111111111111,\"#46039f\"],[0.2222222222222222,\"#7201a8\"],[0.3333333333333333,\"#9c179e\"],[0.4444444444444444,\"#bd3786\"],[0.5555555555555556,\"#d8576b\"],[0.6666666666666666,\"#ed7953\"],[0.7777777777777778,\"#fb9f3a\"],[0.8888888888888888,\"#fdca26\"],[1.0,\"#f0f921\"]]}],\"heatmap\":[{\"type\":\"heatmap\",\"colorbar\":{\"outlinewidth\":0,\"ticks\":\"\"},\"colorscale\":[[0.0,\"#0d0887\"],[0.1111111111111111,\"#46039f\"],[0.2222222222222222,\"#7201a8\"],[0.3333333333333333,\"#9c179e\"],[0.4444444444444444,\"#bd3786\"],[0.5555555555555556,\"#d8576b\"],[0.6666666666666666,\"#ed7953\"],[0.7777777777777778,\"#fb9f3a\"],[0.8888888888888888,\"#fdca26\"],[1.0,\"#f0f921\"]]}],\"heatmapgl\":[{\"type\":\"heatmapgl\",\"colorbar\":{\"outlinewidth\":0,\"ticks\":\"\"},\"colorscale\":[[0.0,\"#0d0887\"],[0.1111111111111111,\"#46039f\"],[0.2222222222222222,\"#7201a8\"],[0.3333333333333333,\"#9c179e\"],[0.4444444444444444,\"#bd3786\"],[0.5555555555555556,\"#d8576b\"],[0.6666666666666666,\"#ed7953\"],[0.7777777777777778,\"#fb9f3a\"],[0.8888888888888888,\"#fdca26\"],[1.0,\"#f0f921\"]]}],\"contourcarpet\":[{\"type\":\"contourcarpet\",\"colorbar\":{\"outlinewidth\":0,\"ticks\":\"\"}}],\"contour\":[{\"type\":\"contour\",\"colorbar\":{\"outlinewidth\":0,\"ticks\":\"\"},\"colorscale\":[[0.0,\"#0d0887\"],[0.1111111111111111,\"#46039f\"],[0.2222222222222222,\"#7201a8\"],[0.3333333333333333,\"#9c179e\"],[0.4444444444444444,\"#bd3786\"],[0.5555555555555556,\"#d8576b\"],[0.6666666666666666,\"#ed7953\"],[0.7777777777777778,\"#fb9f3a\"],[0.8888888888888888,\"#fdca26\"],[1.0,\"#f0f921\"]]}],\"surface\":[{\"type\":\"surface\",\"colorbar\":{\"outlinewidth\":0,\"ticks\":\"\"},\"colorscale\":[[0.0,\"#0d0887\"],[0.1111111111111111,\"#46039f\"],[0.2222222222222222,\"#7201a8\"],[0.3333333333333333,\"#9c179e\"],[0.4444444444444444,\"#bd3786\"],[0.5555555555555556,\"#d8576b\"],[0.6666666666666666,\"#ed7953\"],[0.7777777777777778,\"#fb9f3a\"],[0.8888888888888888,\"#fdca26\"],[1.0,\"#f0f921\"]]}],\"mesh3d\":[{\"type\":\"mesh3d\",\"colorbar\":{\"outlinewidth\":0,\"ticks\":\"\"}}],\"scatter\":[{\"fillpattern\":{\"fillmode\":\"overlay\",\"size\":10,\"solidity\":0.2},\"type\":\"scatter\"}],\"parcoords\":[{\"type\":\"parcoords\",\"line\":{\"colorbar\":{\"outlinewidth\":0,\"ticks\":\"\"}}}],\"scatterpolargl\":[{\"type\":\"scatterpolargl\",\"marker\":{\"colorbar\":{\"outlinewidth\":0,\"ticks\":\"\"}}}],\"bar\":[{\"error_x\":{\"color\":\"#2a3f5f\"},\"error_y\":{\"color\":\"#2a3f5f\"},\"marker\":{\"line\":{\"color\":\"#E5ECF6\",\"width\":0.5},\"pattern\":{\"fillmode\":\"overlay\",\"size\":10,\"solidity\":0.2}},\"type\":\"bar\"}],\"scattergeo\":[{\"type\":\"scattergeo\",\"marker\":{\"colorbar\":{\"outlinewidth\":0,\"ticks\":\"\"}}}],\"scatterpolar\":[{\"type\":\"scatterpolar\",\"marker\":{\"colorbar\":{\"outlinewidth\":0,\"ticks\":\"\"}}}],\"histogram\":[{\"marker\":{\"pattern\":{\"fillmode\":\"overlay\",\"size\":10,\"solidity\":0.2}},\"type\":\"histogram\"}],\"scattergl\":[{\"type\":\"scattergl\",\"marker\":{\"colorbar\":{\"outlinewidth\":0,\"ticks\":\"\"}}}],\"scatter3d\":[{\"type\":\"scatter3d\",\"line\":{\"colorbar\":{\"outlinewidth\":0,\"ticks\":\"\"}},\"marker\":{\"colorbar\":{\"outlinewidth\":0,\"ticks\":\"\"}}}],\"scattermapbox\":[{\"type\":\"scattermapbox\",\"marker\":{\"colorbar\":{\"outlinewidth\":0,\"ticks\":\"\"}}}],\"scatterternary\":[{\"type\":\"scatterternary\",\"marker\":{\"colorbar\":{\"outlinewidth\":0,\"ticks\":\"\"}}}],\"scattercarpet\":[{\"type\":\"scattercarpet\",\"marker\":{\"colorbar\":{\"outlinewidth\":0,\"ticks\":\"\"}}}],\"carpet\":[{\"aaxis\":{\"endlinecolor\":\"#2a3f5f\",\"gridcolor\":\"white\",\"linecolor\":\"white\",\"minorgridcolor\":\"white\",\"startlinecolor\":\"#2a3f5f\"},\"baxis\":{\"endlinecolor\":\"#2a3f5f\",\"gridcolor\":\"white\",\"linecolor\":\"white\",\"minorgridcolor\":\"white\",\"startlinecolor\":\"#2a3f5f\"},\"type\":\"carpet\"}],\"table\":[{\"cells\":{\"fill\":{\"color\":\"#EBF0F8\"},\"line\":{\"color\":\"white\"}},\"header\":{\"fill\":{\"color\":\"#C8D4E3\"},\"line\":{\"color\":\"white\"}},\"type\":\"table\"}],\"barpolar\":[{\"marker\":{\"line\":{\"color\":\"#E5ECF6\",\"width\":0.5},\"pattern\":{\"fillmode\":\"overlay\",\"size\":10,\"solidity\":0.2}},\"type\":\"barpolar\"}],\"pie\":[{\"automargin\":true,\"type\":\"pie\"}]},\"layout\":{\"autotypenumbers\":\"strict\",\"colorway\":[\"#636efa\",\"#EF553B\",\"#00cc96\",\"#ab63fa\",\"#FFA15A\",\"#19d3f3\",\"#FF6692\",\"#B6E880\",\"#FF97FF\",\"#FECB52\"],\"font\":{\"color\":\"#2a3f5f\"},\"hovermode\":\"closest\",\"hoverlabel\":{\"align\":\"left\"},\"paper_bgcolor\":\"white\",\"plot_bgcolor\":\"#E5ECF6\",\"polar\":{\"bgcolor\":\"#E5ECF6\",\"angularaxis\":{\"gridcolor\":\"white\",\"linecolor\":\"white\",\"ticks\":\"\"},\"radialaxis\":{\"gridcolor\":\"white\",\"linecolor\":\"white\",\"ticks\":\"\"}},\"ternary\":{\"bgcolor\":\"#E5ECF6\",\"aaxis\":{\"gridcolor\":\"white\",\"linecolor\":\"white\",\"ticks\":\"\"},\"baxis\":{\"gridcolor\":\"white\",\"linecolor\":\"white\",\"ticks\":\"\"},\"caxis\":{\"gridcolor\":\"white\",\"linecolor\":\"white\",\"ticks\":\"\"}},\"coloraxis\":{\"colorbar\":{\"outlinewidth\":0,\"ticks\":\"\"}},\"colorscale\":{\"sequential\":[[0.0,\"#0d0887\"],[0.1111111111111111,\"#46039f\"],[0.2222222222222222,\"#7201a8\"],[0.3333333333333333,\"#9c179e\"],[0.4444444444444444,\"#bd3786\"],[0.5555555555555556,\"#d8576b\"],[0.6666666666666666,\"#ed7953\"],[0.7777777777777778,\"#fb9f3a\"],[0.8888888888888888,\"#fdca26\"],[1.0,\"#f0f921\"]],\"sequentialminus\":[[0.0,\"#0d0887\"],[0.1111111111111111,\"#46039f\"],[0.2222222222222222,\"#7201a8\"],[0.3333333333333333,\"#9c179e\"],[0.4444444444444444,\"#bd3786\"],[0.5555555555555556,\"#d8576b\"],[0.6666666666666666,\"#ed7953\"],[0.7777777777777778,\"#fb9f3a\"],[0.8888888888888888,\"#fdca26\"],[1.0,\"#f0f921\"]],\"diverging\":[[0,\"#8e0152\"],[0.1,\"#c51b7d\"],[0.2,\"#de77ae\"],[0.3,\"#f1b6da\"],[0.4,\"#fde0ef\"],[0.5,\"#f7f7f7\"],[0.6,\"#e6f5d0\"],[0.7,\"#b8e186\"],[0.8,\"#7fbc41\"],[0.9,\"#4d9221\"],[1,\"#276419\"]]},\"xaxis\":{\"gridcolor\":\"white\",\"linecolor\":\"white\",\"ticks\":\"\",\"title\":{\"standoff\":15},\"zerolinecolor\":\"white\",\"automargin\":true,\"zerolinewidth\":2},\"yaxis\":{\"gridcolor\":\"white\",\"linecolor\":\"white\",\"ticks\":\"\",\"title\":{\"standoff\":15},\"zerolinecolor\":\"white\",\"automargin\":true,\"zerolinewidth\":2},\"scene\":{\"xaxis\":{\"backgroundcolor\":\"#E5ECF6\",\"gridcolor\":\"white\",\"linecolor\":\"white\",\"showbackground\":true,\"ticks\":\"\",\"zerolinecolor\":\"white\",\"gridwidth\":2},\"yaxis\":{\"backgroundcolor\":\"#E5ECF6\",\"gridcolor\":\"white\",\"linecolor\":\"white\",\"showbackground\":true,\"ticks\":\"\",\"zerolinecolor\":\"white\",\"gridwidth\":2},\"zaxis\":{\"backgroundcolor\":\"#E5ECF6\",\"gridcolor\":\"white\",\"linecolor\":\"white\",\"showbackground\":true,\"ticks\":\"\",\"zerolinecolor\":\"white\",\"gridwidth\":2}},\"shapedefaults\":{\"line\":{\"color\":\"#2a3f5f\"}},\"annotationdefaults\":{\"arrowcolor\":\"#2a3f5f\",\"arrowhead\":0,\"arrowwidth\":1},\"geo\":{\"bgcolor\":\"white\",\"landcolor\":\"#E5ECF6\",\"subunitcolor\":\"white\",\"showland\":true,\"showlakes\":true,\"lakecolor\":\"white\"},\"title\":{\"x\":0.05},\"mapbox\":{\"style\":\"light\"}}},\"title\":{\"text\":\"Candlestick Chart - TATAMOTORS.NS\"},\"xaxis\":{\"title\":{\"text\":\"Date\"}},\"yaxis\":{\"title\":{\"text\":\"Price\"}}},                        {\"responsive\": true}                    ).then(function(){\n",
              "                            \n",
              "var gd = document.getElementById('2bab8d2c-df9f-44e9-8212-4eb1b3a30882');\n",
              "var x = new MutationObserver(function (mutations, observer) {{\n",
              "        var display = window.getComputedStyle(gd).display;\n",
              "        if (!display || display === 'none') {{\n",
              "            console.log([gd, 'removed!']);\n",
              "            Plotly.purge(gd);\n",
              "            observer.disconnect();\n",
              "        }}\n",
              "}});\n",
              "\n",
              "// Listen for the removal of the full notebook cells\n",
              "var notebookContainer = gd.closest('#notebook-container');\n",
              "if (notebookContainer) {{\n",
              "    x.observe(notebookContainer, {childList: true});\n",
              "}}\n",
              "\n",
              "// Listen for the clearing of the current output cell\n",
              "var outputEl = gd.closest('.output');\n",
              "if (outputEl) {{\n",
              "    x.observe(outputEl, {childList: true});\n",
              "}}\n",
              "\n",
              "                        })                };                            </script>        </div>\n",
              "</body>\n",
              "</html>"
            ]
          },
          "metadata": {}
        }
      ]
    },
    {
      "cell_type": "markdown",
      "source": [
        "Simple vs Log Returns\n",
        "\n",
        "**Simple returns** are calculated as the percentage change in price:  \n",
        "R_t = (Pt-Pt-1)/Pt-1\n",
        "\n",
        "**Log returns** are calculated using natural logarithms:  \n",
        "Rt=ln(Pt/Pt-1)\n",
        "\n",
        "For daily data with small price changes, both returns look very similar. This is because when changes are small, ln(1 + x) approx x. However, during periods of large price movements (e.g., earnings surprises or market crashes), log returns tend to differ more noticeably due to their compounding nature.\n",
        "\n",
        "Log returns are **time additive**, meaning that the return over multiple periods can be obtained by summing the individual log returns — a useful property in financial modeling and portfolio optimization.\n",
        "\n",
        "In contrast, simple returns are easier to interpret intuitively as percentage gains or losses. Both are valid tools, and the choice depends on the context — log returns are often used in quantitative models, while simple returns are more common in performance reporting.\n"
      ],
      "metadata": {
        "id": "ZHaE4TjEWxtK"
      }
    },
    {
      "cell_type": "markdown",
      "source": [
        "**Problem Statement - 3**"
      ],
      "metadata": {
        "id": "oKEjEmNQXsWS"
      }
    },
    {
      "cell_type": "code",
      "source": [
        "from scipy.stats import binom"
      ],
      "metadata": {
        "id": "vPHy3KFFVuMF"
      },
      "execution_count": null,
      "outputs": []
    },
    {
      "cell_type": "code",
      "source": [
        "# Determine the direction of daily price movement\n",
        "df.loc[:, (nse, 'Market_Direction')] = df[nse]['Daily Return'].apply(lambda x: 'UP' if x > 0 else 'DOWN')\n",
        "\n",
        "# Calculate the total number of valid trading days\n",
        "total_trading_periods = df[nse]['Market_Direction'].count()\n",
        "\n",
        "# Count the number of 'UP' days\n",
        "favorable_days = (df[nse]['Market_Direction'] == 'UP').sum()\n",
        "\n",
        "# Calculate the probability of an 'UP' day\n",
        "prob_up_movement = favorable_days / total_trading_periods\n",
        "\n",
        "print(f'P(UP) = {prob_up_movement:.3f}')"
      ],
      "metadata": {
        "colab": {
          "base_uri": "https://localhost:8080/"
        },
        "id": "eXezxbdVXwRw",
        "outputId": "87525548-934b-4baf-f6f6-21a86d9153a9"
      },
      "execution_count": null,
      "outputs": [
        {
          "output_type": "stream",
          "name": "stdout",
          "text": [
            "P(UP) = 0.462\n"
          ]
        }
      ]
    },
    {
      "cell_type": "code",
      "source": [
        "# Calculate theoretical probabilities based on P(UP) = 0.6\n",
        "theoretical_exact_6_up = binom.pmf(k=6, n=10, p=0.6)\n",
        "theoretical_at_least_8_up = 1 - binom.cdf(k=7, n=10, p=0.6)\n",
        "\n",
        "# Calculate actual probabilities using the derived P_UP from stock data\n",
        "actual_exact_6_up = binom.pmf(k=6, n=10, p=P_UP)\n",
        "actual_at_least_8_up = 1 - binom.cdf(k=7, n=10, p=P_UP)\n",
        "\n",
        "print(f\"Theoretical Probability of exactly 6 up days in 10: {theoretical_exact_6_up:.3f}\")\n",
        "print(f\"Theoretical Probability of at least 8 up days in 10: {theoretical_at_least_8_up:.3f}\")\n",
        "print(f\"Actual Probability of exactly 6 up days in 10: {actual_exact_6_up:.3f}\")\n",
        "print(f\"Actual Probability of at least 8 up days in 10: {actual_at_least_8_up:.3f}\")"
      ],
      "metadata": {
        "colab": {
          "base_uri": "https://localhost:8080/"
        },
        "id": "caSEu1cUXzi_",
        "outputId": "7b18411c-fc2e-4c61-9ead-eaf1b840d03a"
      },
      "execution_count": null,
      "outputs": [
        {
          "output_type": "stream",
          "name": "stdout",
          "text": [
            "Theoretical Probability of exactly 6 up days in 10: 0.251\n",
            "Theoretical Probability of at least 8 up days in 10: 0.167\n",
            "Actual Probability of exactly 6 up days in 10: 0.171\n",
            "Actual Probability of at least 8 up days in 10: 0.033\n"
          ]
        }
      ]
    },
    {
      "cell_type": "code",
      "source": [
        "coin_flips=np.random.binomial(n=10, p=0.6, size=1000)"
      ],
      "metadata": {
        "id": "D-zGfIFgX6O0"
      },
      "execution_count": null,
      "outputs": []
    },
    {
      "cell_type": "code",
      "source": [
        "print(coin_flips)"
      ],
      "metadata": {
        "colab": {
          "base_uri": "https://localhost:8080/"
        },
        "id": "V86AHbKMX99n",
        "outputId": "595782b0-93b0-406a-81c2-4f3977adb2f6"
      },
      "execution_count": null,
      "outputs": [
        {
          "output_type": "stream",
          "name": "stdout",
          "text": [
            "[ 7  3  6  8  7  6  3  9  3  7  8 10  6  6  7  4  5  5  9  7  6  5  7  5\n",
            "  4  7  5  8  4  5  7  7  6  5  5  2  8  7  7  6  4  7  8  4  7  5  7  8\n",
            "  7  6  7  6  6  4  6  6  4  9  5  6  4  4  7  6  8  4  9  4  7  8  6  8\n",
            "  7  3  7  8  8  6  6  6  5  4  8  9  5  5  7  5  4  8  7  5  6  7  4  7\n",
            "  6  7  5  7  7  7  7  4  8  1  7  5  6  5  6  8  5  8  7  6  5  8  8  7\n",
            "  4  5  6  6  6  9  6  5  5  4  5  4  8  6  6  8  4  4  4  6  6  9  7  6\n",
            "  8  4  8  5  5  7  3  8  3  6  6  3  4  8  5  6  8  9  3  7  6  9  6  4\n",
            "  7  4  4  9  6  8  7  8  6  4  6  7  4  5  7  6  6  8  6  4  6  5  5  7\n",
            "  7  6  7  7 10  5  7  7 10  5  5  7  5  5  7  7  7  4  6  8  6  3  6  5\n",
            "  5  8  6  6  7  5  7  3  6  8  8  5  2  7  6  8  6  6  8  7  7  8  5  4\n",
            "  4  4  6  5  4  7  5  7  4  6  8  7  7  6  6  7  6  6  7  9  8  5  5  8\n",
            "  4  4  6  4  7  6  6  6  8  4  5  9  6  5  8  5  4  5  3  6  5  1  5  7\n",
            "  7  5  6  6  5  6  6  6  4  5  5  7  8  7  7  5  3  5  7  6  4  4  8  6\n",
            "  6  7  5  8  5  4  1  7  7  7  8  4  7  7  6  7  3  6  4  6  5  5  5  7\n",
            "  4  6  9  8  4  3  3  8  4  6  8  6  6  6  8 10  6  5  4  3  6  4  8  8\n",
            "  8  6  7  5  7  7  5  7  6  4  6  4  4  6  6  5  7  7  5  5  5  4  5  8\n",
            "  4  8  5  7  5  6  7  4  6  6  8  7  6  7  6  8  6  8 10  7  8  8  6  4\n",
            "  8  5  8  4  6  6  5  6  6  3  7  7  4  6  6  7  6  7  6  7  5  6  4  3\n",
            "  6  8  7  5  7  8  2  7  6  6  4  4  7  6  8  6  4  1  5  4  7  7  7  5\n",
            "  3  4  6  5  5  5  4  5  7  7  8  6  4  7  4  6  3  8  6  6  9  4  5  7\n",
            "  4  5  6  6  8  9  5  4  6  5  7  7  6  5  9  7  7  6  5  1  8  6  5  8\n",
            "  6  6  6  6  4  6  4  6  7  6  5  7  4  8  5  7  7  5  7  7  6  7  9  5\n",
            "  6  5  6  8  9  8  4  6  7  5  2  5  5  6  4  6  6  9  4  5  6  3  8  6\n",
            "  6  7  2  4  7  8  7  6  7  6  6  5  7  4  6  4  5  6  5  2  6  5  6  5\n",
            "  4  8  7  8  6  7  6  5  6  5  5  6  4  2  5  6  5  5  2  5  7  5  5  6\n",
            "  9  8  6  7  5  6  4  6  4  6  6  7  4  7  6  7  4  7  6  4  7  6  7  5\n",
            "  6  6  7  4  3  4  7  6  4  6  5  7  6  8  7  4  5  5  4  3  5  2  7  7\n",
            "  6  6  9  5  6  6  5  7  4  5  5  8  8  7  9  6  8  4  6  6  4  5  5  6\n",
            "  5  7  7  8  5  4  4  4  9  5  6  7  5  8  6  4  2  6  7  3  6  5  6  8\n",
            "  5  4  5  5  3  7  8  9  6  5  7  7  7  5  8  8  7  6  4  5  6  6  3  5\n",
            "  3  5  9  8  7  6  4  4  6  6  4  8  6  3  7  6  4  5  5  5  6  5  5  5\n",
            "  6  6  5  7  8  6  5  8  5  3  8  6  6  7  5  5  8  7  8  5  6  7  6  6\n",
            "  4  4  8  5  7  6  7  6  8  2  2  4  5  7  7  6  8  7  6  4  6  6  5  6\n",
            "  7  6  7  6  3  3  6  6  6  6  9  5  9  6  8  7  5  5  6  6  9  9  7  5\n",
            "  5  6  7  5  5  8  7  5  5  6  5  5  7  5  6  8  7  6  8  4  7  4  8  7\n",
            "  3  4  7  4  7  8  7  6  5  4  8  7  4  7  6  8  6  8  6  9  8  6  5  8\n",
            "  5  8  4  5  6  5  5  5  7  6  8  6  8  7  7  4  6  2  3  4  3  5  6  7\n",
            "  3  3  7  4  6  5  8  4  8  5  4  6  6  4  7  5  3  3  4  6  6  3  6  7\n",
            "  6  4  7  4  6  6  5  5  7  5  8  8  5  5  4  5  6  6  5  7  7  7  5  7\n",
            "  5  6  6  5  6  5  6  7  6  5  5  7  5  6  4  4  6  3  3  8  5  6  7  9\n",
            "  6  5  5  4  7  8  8  4  7  3  6  6  8  6  8  6  6  4  7  5  9  6  9  5\n",
            "  7  5  5  5  7  8  6  8  6  8  7  5  5  6  6  8]\n"
          ]
        }
      ]
    },
    {
      "cell_type": "code",
      "source": [
        "# Calculate the simulated probability of observing exactly 6 successful outcomes\n",
        "simulated_frequency_of_6 = np.mean(coin_flips == 6)\n",
        "\n",
        "# Calculate the simulated probability of observing 8 or more successful outcomes\n",
        "simulated_frequency_of_8_or_more = np.mean(coin_flips >= 8)\n",
        "\n",
        "print(simulated_frequency_of_6)\n",
        "print(simulated_frequency_of_8_or_more)"
      ],
      "metadata": {
        "colab": {
          "base_uri": "https://localhost:8080/"
        },
        "id": "0sn_Y0sUYBG2",
        "outputId": "3b67b76f-bc93-4cd9-d9de-16a0c86dbedc"
      },
      "execution_count": null,
      "outputs": [
        {
          "output_type": "stream",
          "name": "stdout",
          "text": [
            "0.255\n",
            "0.161\n"
          ]
        }
      ]
    },
    {
      "cell_type": "markdown",
      "source": [
        "**Part 2: The Paradox**"
      ],
      "metadata": {
        "id": "AkOvd6AVYHdU"
      }
    },
    {
      "cell_type": "code",
      "source": [
        "# Calculate the mean daily return for 'UP' market days\n",
        "average_upward_return = df[nse].loc[df[nse]['Market_Direction'] == 'UP', 'Daily Return'].mean()\n",
        "\n",
        "# Calculate the mean daily return for 'DOWN' market days\n",
        "average_downward_return = df[nse].loc[df[nse]['Market_Direction'] == 'DOWN', 'Daily Return'].mean()\n",
        "\n",
        "print(f'Mean return on upward days: {average_upward_return}')\n",
        "print(f'Mean return on downward days: {average_downward_return}')"
      ],
      "metadata": {
        "colab": {
          "base_uri": "https://localhost:8080/"
        },
        "id": "ZjkwFSXjYEqL",
        "outputId": "1fae9451-49df-4b0b-878a-cdb0b4e31116"
      },
      "execution_count": null,
      "outputs": [
        {
          "output_type": "stream",
          "name": "stdout",
          "text": [
            "Mean return on upward days: 0.014475132220691165\n",
            "Mean return on downward days: -0.014946548761359634\n"
          ]
        }
      ]
    },
    {
      "cell_type": "code",
      "source": [
        "results = []\n",
        "data = df[nse][['Daily Return', 'Market_Direction']].copy()\n",
        "for i in range(len(data) - 9):\n",
        "    window = data.iloc[i:i+10]#rolling 10 day window\n",
        "\n",
        "    up_returns = window[window['Market_Direction'] == 'UP']['Daily Return']\n",
        "    down_returns = window[window['Market_Direction'] == 'DOWN']['Daily Return']\n",
        "\n",
        "    if len(up_returns) >= 6:\n",
        "        up_avg = up_returns.mean()\n",
        "        down_avg = down_returns.mean()\n",
        "\n",
        "        if down_avg < up_avg:\n",
        "            results.append((data.index[i], data.index[i+9]))\n",
        "# Displaying the date windows in which even with P(UP)>=0.6 we can lose money\n",
        "for start, end in results:\n",
        "    print(f\"Window: {start.date()} to {end.date()}\")"
      ],
      "metadata": {
        "colab": {
          "base_uri": "https://localhost:8080/"
        },
        "id": "8f-hUgXWYJ-n",
        "outputId": "8e65f8bb-0093-4238-da6e-3b551e3fc837"
      },
      "execution_count": null,
      "outputs": [
        {
          "output_type": "stream",
          "name": "stdout",
          "text": [
            "Window: 2024-04-01 to 2024-04-15\n",
            "Window: 2024-04-02 to 2024-04-16\n",
            "Window: 2024-04-10 to 2024-04-25\n",
            "Window: 2024-04-16 to 2024-04-30\n",
            "Window: 2024-04-18 to 2024-05-02\n",
            "Window: 2024-04-19 to 2024-05-03\n",
            "Window: 2024-04-22 to 2024-05-06\n",
            "Window: 2024-04-23 to 2024-05-07\n",
            "Window: 2024-04-24 to 2024-05-08\n",
            "Window: 2024-04-25 to 2024-05-09\n",
            "Window: 2024-04-26 to 2024-05-10\n",
            "Window: 2024-04-29 to 2024-05-13\n",
            "Window: 2024-04-30 to 2024-05-14\n",
            "Window: 2024-05-02 to 2024-05-15\n",
            "Window: 2024-05-06 to 2024-05-17\n",
            "Window: 2024-05-07 to 2024-05-21\n",
            "Window: 2024-05-08 to 2024-05-22\n",
            "Window: 2024-05-09 to 2024-05-23\n",
            "Window: 2024-05-29 to 2024-06-11\n",
            "Window: 2024-05-30 to 2024-06-12\n",
            "Window: 2024-05-31 to 2024-06-13\n",
            "Window: 2024-06-03 to 2024-06-14\n",
            "Window: 2024-06-04 to 2024-06-18\n",
            "Window: 2024-06-05 to 2024-06-19\n",
            "Window: 2024-06-06 to 2024-06-20\n",
            "Window: 2024-06-07 to 2024-06-21\n",
            "Window: 2024-06-26 to 2024-07-09\n",
            "Window: 2024-06-27 to 2024-07-10\n",
            "Window: 2024-06-28 to 2024-07-11\n",
            "Window: 2024-07-04 to 2024-07-18\n",
            "Window: 2024-07-08 to 2024-07-22\n",
            "Window: 2024-07-11 to 2024-07-25\n",
            "Window: 2024-07-12 to 2024-07-26\n",
            "Window: 2024-07-15 to 2024-07-29\n",
            "Window: 2024-07-16 to 2024-07-30\n",
            "Window: 2024-07-18 to 2024-07-31\n",
            "Window: 2024-07-19 to 2024-08-01\n",
            "Window: 2024-07-22 to 2024-08-02\n",
            "Window: 2024-08-02 to 2024-08-16\n",
            "Window: 2024-08-05 to 2024-08-19\n",
            "Window: 2024-08-06 to 2024-08-20\n",
            "Window: 2024-08-07 to 2024-08-21\n",
            "Window: 2024-09-11 to 2024-09-24\n",
            "Window: 2024-09-12 to 2024-09-25\n",
            "Window: 2024-09-13 to 2024-09-26\n",
            "Window: 2024-11-18 to 2024-12-02\n",
            "Window: 2024-11-19 to 2024-12-03\n",
            "Window: 2024-11-21 to 2024-12-04\n",
            "Window: 2024-11-22 to 2024-12-05\n",
            "Window: 2024-11-25 to 2024-12-06\n",
            "Window: 2024-11-26 to 2024-12-09\n",
            "Window: 2024-11-27 to 2024-12-10\n",
            "Window: 2024-11-28 to 2024-12-11\n",
            "Window: 2024-11-29 to 2024-12-12\n",
            "Window: 2024-12-02 to 2024-12-13\n",
            "Window: 2024-12-19 to 2025-01-02\n",
            "Window: 2024-12-20 to 2025-01-03\n",
            "Window: 2024-12-23 to 2025-01-06\n",
            "Window: 2024-12-24 to 2025-01-07\n",
            "Window: 2024-12-26 to 2025-01-08\n",
            "Window: 2024-12-27 to 2025-01-09\n",
            "Window: 2024-12-30 to 2025-01-10\n",
            "Window: 2024-12-31 to 2025-01-13\n",
            "Window: 2025-01-01 to 2025-01-14\n",
            "Window: 2025-03-07 to 2025-03-21\n",
            "Window: 2025-03-10 to 2025-03-24\n",
            "Window: 2025-03-11 to 2025-03-25\n",
            "Window: 2025-03-12 to 2025-03-26\n",
            "Window: 2025-03-17 to 2025-03-28\n",
            "Window: 2025-03-19 to 2025-04-02\n",
            "Window: 2025-04-04 to 2025-04-22\n",
            "Window: 2025-04-07 to 2025-04-23\n",
            "Window: 2025-04-08 to 2025-04-24\n",
            "Window: 2025-04-09 to 2025-04-25\n",
            "Window: 2025-04-11 to 2025-04-28\n",
            "Window: 2025-04-15 to 2025-04-29\n"
          ]
        }
      ]
    },
    {
      "cell_type": "markdown",
      "source": [
        "\n",
        "**Part 3**\n",
        "\n",
        "Let's break down the profitability of this bet. Your **net return** is determined by the potential winnings from \"up\" days balanced against losses from \"down\" days.\n",
        "\n",
        "The formula for net return is:\n",
        "$$( \\text{winnings per UP day} \\times P(\\text{UP}) ) - ( \\text{losses per DOWN day} \\times P(\\text{DOWN}) ) = \\text{Net Return}$$\n",
        "\n",
        "Given the bet terms:\n",
        "\n",
        "You win 100 dollar when your stock goes up.\n",
        "You lose 150 dollar when your stock goes down\n",
        "We also know that $P(\\text{DOWN}) = 1 - P(\\text{UP})$.\n",
        "\n",
        "Substituting these values into the formula:\n",
        "$$\\text{Net Return} = (100 \\times P(\\text{UP})) - (150 \\times (1 - P(\\text{UP})))$$\n",
        "$$\\text{Net Return} = 100 \\times P(\\text{UP}) - 150 + 150 \\times P(\\text{UP})$$\n",
        "$$\\text{Net Return} = 250 \\times P(\\text{UP}) - 150$$\n",
        "\n",
        "For this bet to be profitable, your **net return must be positive**:\n",
        "$$250 \\times P(\\text{UP}) - 150 > 0$$\n",
        "$$250 \\times P(\\text{UP}) > 150$$\n",
        "$$P(\\text{UP}) > \\frac{150}{250}$$\n",
        "$$P(\\text{UP}) > 0.6$$\n",
        "\n"
      ],
      "metadata": {
        "id": "LJtam8VjdTw_"
      }
    }
  ]
}