{
 "cells": [
  {
   "cell_type": "markdown",
   "metadata": {
    "id": "qtp-byeKux7z"
   },
   "source": [
    "# Importing Libraries"
   ]
  },
  {
   "cell_type": "code",
   "execution_count": null,
   "metadata": {
    "colab": {
     "base_uri": "https://localhost:8080/"
    },
    "id": "PudoU_7B3LFy",
    "outputId": "8bce5cc1-a611-49b6-96d8-596314516851"
   },
   "outputs": [],
   "source": [
    "#Install & Import Required Libraries\n",
    "!pip install yfinance plotly mplfinance --quiet\n",
    "\n",
    "import yfinance as yf\n",
    "import mplfinance as mpf\n",
    "import pandas as pd\n",
    "import numpy as np\n",
    "import plotly.graph_objects as go\n",
    "import plotly.express as px\n",
    "import matplotlib.pyplot as plt\n",
    "from plotly.subplots import make_subplots"
   ]
  },
  {
   "cell_type": "code",
   "execution_count": 2,
   "metadata": {
    "id": "3GR8KrKU3TFj"
   },
   "outputs": [],
   "source": [
    "# Set some display options\n",
    "plt.style.use('seaborn-v0_8-darkgrid')\n",
    "pd.set_option('display.max_columns', None)"
   ]
  },
  {
   "cell_type": "markdown",
   "metadata": {
    "id": "mfedpreh9y2D"
   },
   "source": [
    "# Problem 1:"
   ]
  },
  {
   "cell_type": "markdown",
   "metadata": {
    "id": "JEa9aEEe94IT"
   },
   "source": [
    "##  1. Obtaining Data"
   ]
  },
  {
   "cell_type": "code",
   "execution_count": null,
   "metadata": {
    "colab": {
     "base_uri": "https://localhost:8080/",
     "height": 255
    },
    "id": "UHFQ9gvH3V_k",
    "outputId": "c612bfae-910b-4d4a-9179-ef737f9a690c"
   },
   "outputs": [
    {
     "name": "stdout",
     "output_type": "stream",
     "text": [
      "YF.download() has changed argument auto_adjust default to True\n"
     ]
    },
    {
     "data": {
      "text/html": [
       "<div>\n",
       "<style scoped>\n",
       "    .dataframe tbody tr th:only-of-type {\n",
       "        vertical-align: middle;\n",
       "    }\n",
       "\n",
       "    .dataframe tbody tr th {\n",
       "        vertical-align: top;\n",
       "    }\n",
       "\n",
       "    .dataframe thead th {\n",
       "        text-align: right;\n",
       "    }\n",
       "</style>\n",
       "<table border=\"1\" class=\"dataframe\">\n",
       "  <thead>\n",
       "    <tr style=\"text-align: right;\">\n",
       "      <th></th>\n",
       "      <th>Close</th>\n",
       "      <th>High</th>\n",
       "      <th>Low</th>\n",
       "      <th>Open</th>\n",
       "      <th>Volume</th>\n",
       "    </tr>\n",
       "    <tr>\n",
       "      <th>Date</th>\n",
       "      <th></th>\n",
       "      <th></th>\n",
       "      <th></th>\n",
       "      <th></th>\n",
       "      <th></th>\n",
       "    </tr>\n",
       "  </thead>\n",
       "  <tbody>\n",
       "    <tr>\n",
       "      <th>2023-01-02</th>\n",
       "      <td>3104.458740</td>\n",
       "      <td>3109.598948</td>\n",
       "      <td>3079.472295</td>\n",
       "      <td>3104.030448</td>\n",
       "      <td>709547</td>\n",
       "    </tr>\n",
       "    <tr>\n",
       "      <th>2023-01-03</th>\n",
       "      <td>3151.957275</td>\n",
       "      <td>3160.190812</td>\n",
       "      <td>3089.086565</td>\n",
       "      <td>3095.464012</td>\n",
       "      <td>1245178</td>\n",
       "    </tr>\n",
       "    <tr>\n",
       "      <th>2023-01-04</th>\n",
       "      <td>3155.098145</td>\n",
       "      <td>3167.187012</td>\n",
       "      <td>3128.017641</td>\n",
       "      <td>3147.530867</td>\n",
       "      <td>1231668</td>\n",
       "    </tr>\n",
       "    <tr>\n",
       "      <th>2023-01-05</th>\n",
       "      <td>3151.718994</td>\n",
       "      <td>3176.657800</td>\n",
       "      <td>3123.972001</td>\n",
       "      <td>3169.899469</td>\n",
       "      <td>1826057</td>\n",
       "    </tr>\n",
       "    <tr>\n",
       "      <th>2023-01-06</th>\n",
       "      <td>3056.960938</td>\n",
       "      <td>3142.628755</td>\n",
       "      <td>3045.966854</td>\n",
       "      <td>3141.153319</td>\n",
       "      <td>2488376</td>\n",
       "    </tr>\n",
       "  </tbody>\n",
       "</table>\n",
       "</div>"
      ],
      "text/plain": [
       "                  Close         High          Low         Open   Volume\n",
       "Date                                                                   \n",
       "2023-01-02  3104.458740  3109.598948  3079.472295  3104.030448   709547\n",
       "2023-01-03  3151.957275  3160.190812  3089.086565  3095.464012  1245178\n",
       "2023-01-04  3155.098145  3167.187012  3128.017641  3147.530867  1231668\n",
       "2023-01-05  3151.718994  3176.657800  3123.972001  3169.899469  1826057\n",
       "2023-01-06  3056.960938  3142.628755  3045.966854  3141.153319  2488376"
      ]
     },
     "execution_count": 3,
     "metadata": {},
     "output_type": "execute_result"
    }
   ],
   "source": [
    "# Download Stock Data\n",
    "\n",
    "def download_flat_yf(ticker, start, end):\n",
    "    data = yf.download(ticker, start=start, end=end, progress=False)\n",
    "    data = data.xs(ticker, axis=1, level=1)\n",
    "    data.columns.name = None\n",
    "    return data\n",
    "\n",
    "\n",
    "stock_symbol = 'TCS.NS'\n",
    "\n",
    "data = download_flat_yf(stock_symbol, start='2023-01-01', end='2023-12-31')\n",
    "data.head()"
   ]
  },
  {
   "cell_type": "markdown",
   "metadata": {
    "id": "bo31dkXdg148"
   },
   "source": [
    "This shows there are no null values"
   ]
  },
  {
   "cell_type": "code",
   "execution_count": 4,
   "metadata": {
    "colab": {
     "base_uri": "https://localhost:8080/",
     "height": 241
    },
    "id": "HkxriCRG4lfV",
    "outputId": "8c7b515b-5c60-4454-88db-6751d430d32d"
   },
   "outputs": [
    {
     "data": {
      "text/plain": [
       "Close     0\n",
       "High      0\n",
       "Low       0\n",
       "Open      0\n",
       "Volume    0\n",
       "dtype: int64"
      ]
     },
     "execution_count": 4,
     "metadata": {},
     "output_type": "execute_result"
    }
   ],
   "source": [
    "data.isnull().sum()"
   ]
  },
  {
   "cell_type": "markdown",
   "metadata": {
    "id": "nQx3hvuLg4-F"
   },
   "source": [
    "This converts the index to datetime"
   ]
  },
  {
   "cell_type": "code",
   "execution_count": 5,
   "metadata": {
    "id": "sHkyM7Z34zvY"
   },
   "outputs": [],
   "source": [
    "data.index=pd.to_datetime(data.index)"
   ]
  },
  {
   "cell_type": "markdown",
   "metadata": {
    "id": "7ZRJ7X4Yg_sj"
   },
   "source": [
    "Description of the data"
   ]
  },
  {
   "cell_type": "code",
   "execution_count": 6,
   "metadata": {
    "colab": {
     "base_uri": "https://localhost:8080/",
     "height": 300
    },
    "id": "Vfsf5g0q3goz",
    "outputId": "fcb42cc1-79b2-4c3f-fdd6-fc6a0bcc0967"
   },
   "outputs": [
    {
     "data": {
      "text/html": [
       "<div>\n",
       "<style scoped>\n",
       "    .dataframe tbody tr th:only-of-type {\n",
       "        vertical-align: middle;\n",
       "    }\n",
       "\n",
       "    .dataframe tbody tr th {\n",
       "        vertical-align: top;\n",
       "    }\n",
       "\n",
       "    .dataframe thead th {\n",
       "        text-align: right;\n",
       "    }\n",
       "</style>\n",
       "<table border=\"1\" class=\"dataframe\">\n",
       "  <thead>\n",
       "    <tr style=\"text-align: right;\">\n",
       "      <th></th>\n",
       "      <th>Close</th>\n",
       "      <th>High</th>\n",
       "      <th>Low</th>\n",
       "      <th>Open</th>\n",
       "      <th>Volume</th>\n",
       "    </tr>\n",
       "  </thead>\n",
       "  <tbody>\n",
       "    <tr>\n",
       "      <th>count</th>\n",
       "      <td>245.000000</td>\n",
       "      <td>245.000000</td>\n",
       "      <td>245.000000</td>\n",
       "      <td>245.000000</td>\n",
       "      <td>2.450000e+02</td>\n",
       "    </tr>\n",
       "    <tr>\n",
       "      <th>mean</th>\n",
       "      <td>3309.535302</td>\n",
       "      <td>3334.068858</td>\n",
       "      <td>3283.155510</td>\n",
       "      <td>3308.673557</td>\n",
       "      <td>1.933396e+06</td>\n",
       "    </tr>\n",
       "    <tr>\n",
       "      <th>std</th>\n",
       "      <td>169.258677</td>\n",
       "      <td>170.604005</td>\n",
       "      <td>166.127909</td>\n",
       "      <td>165.928961</td>\n",
       "      <td>9.985615e+05</td>\n",
       "    </tr>\n",
       "    <tr>\n",
       "      <th>min</th>\n",
       "      <td>3000.453613</td>\n",
       "      <td>3023.178440</td>\n",
       "      <td>2981.661698</td>\n",
       "      <td>3000.842075</td>\n",
       "      <td>7.095470e+05</td>\n",
       "    </tr>\n",
       "    <tr>\n",
       "      <th>25%</th>\n",
       "      <td>3168.471924</td>\n",
       "      <td>3190.851679</td>\n",
       "      <td>3145.542594</td>\n",
       "      <td>3169.821566</td>\n",
       "      <td>1.338557e+06</td>\n",
       "    </tr>\n",
       "    <tr>\n",
       "      <th>50%</th>\n",
       "      <td>3310.005859</td>\n",
       "      <td>3334.867381</td>\n",
       "      <td>3286.742683</td>\n",
       "      <td>3315.655916</td>\n",
       "      <td>1.688475e+06</td>\n",
       "    </tr>\n",
       "    <tr>\n",
       "      <th>75%</th>\n",
       "      <td>3417.549561</td>\n",
       "      <td>3440.776231</td>\n",
       "      <td>3389.300476</td>\n",
       "      <td>3413.579124</td>\n",
       "      <td>2.112352e+06</td>\n",
       "    </tr>\n",
       "    <tr>\n",
       "      <th>max</th>\n",
       "      <td>3797.104492</td>\n",
       "      <td>3863.979160</td>\n",
       "      <td>3766.764928</td>\n",
       "      <td>3794.252576</td>\n",
       "      <td>8.531230e+06</td>\n",
       "    </tr>\n",
       "  </tbody>\n",
       "</table>\n",
       "</div>"
      ],
      "text/plain": [
       "             Close         High          Low         Open        Volume\n",
       "count   245.000000   245.000000   245.000000   245.000000  2.450000e+02\n",
       "mean   3309.535302  3334.068858  3283.155510  3308.673557  1.933396e+06\n",
       "std     169.258677   170.604005   166.127909   165.928961  9.985615e+05\n",
       "min    3000.453613  3023.178440  2981.661698  3000.842075  7.095470e+05\n",
       "25%    3168.471924  3190.851679  3145.542594  3169.821566  1.338557e+06\n",
       "50%    3310.005859  3334.867381  3286.742683  3315.655916  1.688475e+06\n",
       "75%    3417.549561  3440.776231  3389.300476  3413.579124  2.112352e+06\n",
       "max    3797.104492  3863.979160  3766.764928  3794.252576  8.531230e+06"
      ]
     },
     "execution_count": 6,
     "metadata": {},
     "output_type": "execute_result"
    }
   ],
   "source": [
    "data.describe()"
   ]
  },
  {
   "cell_type": "markdown",
   "metadata": {
    "id": "IUoqxpWp-D9e"
   },
   "source": [
    "## 2. Visual Insight"
   ]
  },
  {
   "cell_type": "code",
   "execution_count": 7,
   "metadata": {
    "colab": {
     "base_uri": "https://localhost:8080/",
     "height": 557
    },
    "id": "R4Mh6NI-3lbl",
    "outputId": "df1fbc20-a7c6-42a4-eb1f-c90b1b9dabf3"
   },
   "outputs": [
    {
     "data": {
      "image/png": "[encoded data removed]",
      "text/plain": [
       "<Figure size 1200x600 with 1 Axes>"
      ]
     },
     "metadata": {},
     "output_type": "display_data"
    }
   ],
   "source": [
    "# Displaying each trading day's closing price\n",
    "plt.figure(figsize=(12, 6))\n",
    "plt.plot(data.index, data['Close'], color='blue')\n",
    "plt.title(f'{stock_symbol} Close Price')\n",
    "plt.xlabel('Date')\n",
    "plt.ylabel('Price (USD)')\n",
    "plt.grid(True)\n",
    "plt.show()"
   ]
  },
  {
   "cell_type": "markdown",
   "metadata": {
    "id": "eWut89gjx7_R"
   },
   "source": [
    "Candle Stick chart for the data"
   ]
  },
  {
   "cell_type": "code",
   "execution_count": null,
   "metadata": {
    "colab": {
     "base_uri": "https://localhost:8080/",
     "height": 542
    },
    "id": "u4tDbgmX3n-G",
    "outputId": "f4edd247-af72-4622-8516-5c4f8173139a"
   },
   "outputs": [
    {
     "data": {
      "application/vnd.plotly.v1+json": {
       "config": {
        "plotlyServerURL": "https://plot.ly"
       },
       "data": [
        {
         "close": [
          3104.458740234375,
          3151.957275390625,
          3155.09814453125,
          3151.718994140625,
          3056.9609375,
          3160.142822265625,
          3128.20751953125,
          3168.471923828125,
          3173.849609375,
          3212.114990234375,
          3237.850341796875,
          3280.920166015625,
          3292.185791015625,
          3275.77392578125,
          3266.062255859375,
          3316.367431640625,
          3337.1494140625,
          3330.7890625,
          3312.62841796875,
          3334.576171875,
          3261.7890625,
          3310.005859375,
          3360.55419921875,
          3381.82275390625,
          3360.117431640625,
          3372.353515625,
          3418.53173828125,
          3438.683349609375,
          3435.478759765625,
          3381.919677734375,
          3399.109130859375,
          3419.06591796875,
          3455.386962890625,
          3400.128662109375,
          3386.67822265625,
          3351.426025390625,
          3303.402587890625,
          3315.299072265625,
          3302.333984375,
          3235.713623046875,
          3217.26171875,
          3288.010009765625,
          3225.613525390625,
          3245.716796875,
          3274.5595703125,
          3292.574462890625,
          3240.5693359375,
          3234.887939453125,
          3187.253173828125,
          3122.1865234375,
          3106.599365234375,
          3093.1005859375,
          3087.565185546875,
          3052.604248046875,
          3016.4775390625,
          3040.46484375,
          3034.49169921875,
          3030.461669921875,
          3032.209716796875,
          3025.99462890625,
          3048.330810546875,
          3113.39794921875,
          3107.66796875,
          3146.3193359375,
          3127.77099609375,
          3169.238525390625,
          3121.070068359375,
          3148.1162109375,
          3096.83984375,
          3048.91357421875,
          3040.416015625,
          3000.45361328125,
          3015.215087890625,
          3069.647705078125,
          3083.195068359375,
          3084.360595703125,
          3105.87109375,
          3095.9658203125,
          3126.36279296875,
          3126.508056640625,
          3088.147705078125,
          3127.77099609375,
          3137.482177734375,
          3156.80810546875,
          3188.515869140625,
          3191.9638671875,
          3187.447509765625,
          3179.823974609375,
          3161.129638671875,
          3164.139892578125,
          3116.11669921875,
          3107.5224609375,
          3129.85888671875,
          3203.519775390625,
          3201.918212890625,
          3208.035888671875,
          3198.47021484375,
          3232.8486328125,
          3224.54541015625,
          3220.514892578125,
          3194.5859375,
          3228.09033203125,
          3210.220947265625,
          3194.002685546875,
          3139.035888671875,
          3180.406982421875,
          3143.06640625,
          3116.699462890625,
          3153.21435546875,
          3150.10693359375,
          3157.244873046875,
          3146.7275390625,
          3106.22314453125,
          3140.955078125,
          3157.880859375,
          3187.720947265625,
          3168.447509765625,
          3146.776611328125,
          3120.654296875,
          3128.1875,
          3145.895751953125,
          3230.818359375,
          3201.516357421875,
          3237.275634765625,
          3248.135498046875,
          3251.021484375,
          3257.234619140625,
          3201.173828125,
          3201.614013671875,
          3189.38427734375,
          3268.289794921875,
          3438.623779296875,
          3416.170654296875,
          3421.208740234375,
          3394.988525390625,
          3397.195556640625,
          3304.009033203125,
          3329.9541015625,
          3334.27001953125,
          3323.627197265625,
          3332.063232421875,
          3291.355224609375,
          3356.144287109375,
          3386.16015625,
          3374.977783203125,
          3335.054931640625,
          3377.822509765625,
          3417.549560546875,
          3404.356201171875,
          3396.410888671875,
          3376.400634765625,
          3382.97265625,
          3384.002197265625,
          3392.38916015625,
          3370.171630859375,
          3302.831787109375,
          3336.722412109375,
          3317.594482421875,
          3333.38720703125,
          3323.087646484375,
          3316.760986328125,
          3311.12060546875,
          3311.708984375,
          3326.226318359375,
          3292.728515625,
          3314.700927734375,
          3353.250732421875,
          3363.8935546875,
          3364.43310546875,
          3389.299072265625,
          3376.204345703125,
          3414.21435546875,
          3512.452880859375,
          3499.750244140625,
          3492.099365234375,
          3529.618896484375,
          3537.31884765625,
          3537.220947265625,
          3516.8671875,
          3534.866943359375,
          3508.872314453125,
          3517.25927734375,
          3520.79052734375,
          3469.24365234375,
          3461.24951171875,
          3446.78076171875,
          3470.224853515625,
          3520.840087890625,
          3552.27783203125,
          3568.904541015625,
          3559.634521484375,
          3540.99755859375,
          3474.93310546875,
          3502.69287109375,
          3456.7861328125,
          3440.110595703125,
          3420.688232421875,
          3398.462646484375,
          3436.71875,
          3353.7158203125,
          3333.997314453125,
          3281.5302734375,
          3295.4951171875,
          3322.638427734375,
          3313.000732421875,
          3275.531005859375,
          3304.494140625,
          3295.446044921875,
          3324.310302734375,
          3314.67236328125,
          3325.5888671875,
          3292.05322265625,
          3278.284912109375,
          3276.41650390625,
          3347.962158203125,
          3439.96435546875,
          3444.48828125,
          3461.354248046875,
          3452.10986328125,
          3471.7294921875,
          3450.192138671875,
          3399.888427734375,
          3412.72265625,
          3455.60107421875,
          3429.8837890625,
          3453.53564453125,
          3454.322509765625,
          3473.15576171875,
          3544.455810546875,
          3555.076904296875,
          3566.681884765625,
          3582.61328125,
          3611.33056640625,
          3534.080322265625,
          3606.560546875,
          3797.1044921875,
          3795.334228515625,
          3753.045654296875,
          3717.494140625,
          3724.82080078125,
          3760.717041015625,
          3732.737548828125,
          3748.12841796875,
          3737.015380859375,
          3730.622802734375
         ],
         "high": [
          3109.598948486211,
          3160.190812111221,
          3167.1870117860753,
          3176.6578003737573,
          3142.6287552802,
          3166.8535141520965,
          3139.2492411092294,
          3188.2707557123163,
          3188.7461964116706,
          3216.350741566602,
          3256.2535166083794,
          3284.222205291749,
          3310.588965053527,
          3289.272765528164,
          3296.701732317834,
          3320.349226341079,
          3352.3477557947335,
          3335.887580636344,
          3346.569931520669,
          3358.660645899901,
          3349.4836216725234,
          3320.348470359659,
          3368.906151336431,
          3402.896580860477,
          3372.936514764761,
          3392.2134064139336,
          3437.7602428289065,
          3445.2385869025966,
          3440.1403095860505,
          3446.5981141916905,
          3423.1450008749507,
          3424.2616451957347,
          3471.8478444120133,
          3436.78943373435,
          3420.376948695185,
          3407.655303739631,
          3347.541137718048,
          3352.7851747671084,
          3334.867381444537,
          3292.1856808158827,
          3294.127844094308,
          3291.214840003412,
          3272.665511752598,
          3261.109561920913,
          3306.704368855256,
          3298.012977244025,
          3287.3299312585596,
          3240.957603104155,
          3272.568461002451,
          3209.0555062560884,
          3166.2764866133443,
          3126.896520449565,
          3128.450298633128,
          3078.193811094538,
          3065.6660030437206,
          3052.7983541796684,
          3055.565760187249,
          3078.533406073496,
          3061.7810700862565,
          3058.6738438088323,
          3059.110628552655,
          3120.2931830549846,
          3131.898020024598,
          3170.161021276717,
          3163.363652011513,
          3177.5904778420345,
          3178.51327793888,
          3166.8593813655516,
          3136.802417480954,
          3072.1238741640796,
          3065.7630267001223,
          3049.3992904939882,
          3023.1784401531113,
          3073.143689304346,
          3089.1675227771393,
          3099.121971789757,
          3115.825342200833,
          3106.8912162603606,
          3134.131963534487,
          3141.65803256351,
          3123.2061777200083,
          3131.412794899343,
          3150.3984704238596,
          3160.9354770448217,
          3202.8402760757726,
          3211.095402842796,
          3214.20263587014,
          3195.070922168256,
          3197.013445078767,
          3190.2152628527233,
          3185.359469246932,
          3135.782674900657,
          3141.1726460544724,
          3212.988450405751,
          3231.9265411312476,
          3221.4861212592405,
          3210.6095431223434,
          3242.3173086797824,
          3274.705017016719,
          3230.954713941424,
          3231.683680873418,
          3243.6286729796557,
          3239.646487207627,
          3231.0034511058816,
          3193.954253333593,
          3184.2432000555236,
          3175.6484121486374,
          3156.225064743707,
          3160.4979516304134,
          3170.79239541494,
          3161.9064221849558,
          3177.203630862424,
          3130.193181188102,
          3145.3577376943713,
          3162.577077284877,
          3190.8516794286847,
          3196.9668661006463,
          3179.1115093466497,
          3144.3797429321403,
          3140.2212448514265,
          3161.060467590357,
          3238.400717550534,
          3247.0105078355664,
          3243.2925072216217,
          3256.9897835903407,
          3256.451478810535,
          3284.286423339745,
          3252.83174983978,
          3223.725244427865,
          3218.0015640417964,
          3294.6078189087675,
          3448.6033320630395,
          3473.111676737289,
          3447.771355331088,
          3440.776230617777,
          3412.4976535714,
          3369.3376899248406,
          3348.2971250852347,
          3341.7741469750813,
          3355.5559597714414,
          3346.531698991735,
          3328.9242385815073,
          3361.2449861310747,
          3393.9583652914575,
          3380.618032227066,
          3367.7193807245985,
          3404.7485197395126,
          3421.4241185189003,
          3423.336720953503,
          3400.8249966860335,
          3398.7652589297577,
          3400.4818088556854,
          3389.0538025103842,
          3399.84419417002,
          3394.7435478824964,
          3344.912853016341,
          3344.667902728872,
          3345.893915494129,
          3337.0656303451224,
          3347.904790522806,
          3321.1750945773024,
          3329.218400675874,
          3324.853360894964,
          3343.049117109422,
          3352.171694489126,
          3324.3139223519806,
          3367.326928261028,
          3381.2065705780565,
          3378.165886254678,
          3393.9584082306815,
          3398.8635317067883,
          3419.1680134603776,
          3521.3790443592934,
          3520.3494153824977,
          3529.030643804187,
          3538.496206026213,
          3550.2179955753054,
          3555.8091984898697,
          3536.19112438901,
          3564.39251967237,
          3550.9045259741224,
          3526.3327215132203,
          3545.0190267527596,
          3534.032996412165,
          3500.338748868246,
          3466.742194805561,
          3480.279211440446,
          3554.8286267330827,
          3565.569249541903,
          3608.778554558166,
          3578.3700525848603,
          3580.332263638608,
          3520.1530472989853,
          3508.7253895440526,
          3506.4201815721995,
          3466.69319131001,
          3455.4615440036555,
          3419.3120015706177,
          3441.586784443997,
          3421.3773069921835,
          3368.319658141201,
          3317.8687415194795,
          3306.3622988787793,
          3326.867315059107,
          3342.7501267538264,
          3315.803516743122,
          3320.0816965161716,
          3331.833733965295,
          3336.160935518278,
          3347.8146138447105,
          3345.6511720910153,
          3335.374290130919,
          3292.0532270508957,
          3300.4618348678578,
          3356.5181335530883,
          3470.9430635814483,
          3466.1734261766405,
          3475.417405317009,
          3480.4825224064143,
          3474.1881197162365,
          3485.3505136330436,
          3446.553128011694,
          3423.6390592366506,
          3459.780741117485,
          3458.4528484108027,
          3458.747982906288,
          3489.0875995900815,
          3479.4497522853444,
          3553.0610067128896,
          3570.4680564223854,
          3584.679087049897,
          3592.546231639859,
          3637.1951360074713,
          3589.5960821461467,
          3617.1326447354963,
          3831.476058257549,
          3863.9791595431043,
          3791.302042217498,
          3834.2789512748154,
          3743.70301266217,
          3782.3037448392474,
          3770.551192343162,
          3755.0125749959125,
          3774.4849602200925,
          3759.3397630553277
         ],
         "low": [
          3079.4722945886674,
          3089.086565316487,
          3128.0176410696577,
          3123.972001404942,
          3045.9668544071087,
          3066.098553606248,
          3074.6177320419133,
          3113.6920648436417,
          3155.9545096158845,
          3145.912755512761,
          3202.8890752898956,
          3225.176470014365,
          3274.9479450597173,
          3264.0229598288042,
          3258.778658521307,
          3258.7786452655687,
          3318.6976380341493,
          3306.753191285808,
          3284.707963664856,
          3287.8641802725947,
          3254.3112833356413,
          3258.1951208121254,
          3321.4171972270015,
          3353.270910884424,
          3337.68409544745,
          3361.525094099728,
          3377.6949942889605,
          3404.159052445824,
          3406.9269153006885,
          3373.1793612994,
          3394.1561900782694,
          3360.3115703980347,
          3425.2328244031246,
          3389.300476057322,
          3374.7816815939227,
          3345.356360754667,
          3297.0415325073322,
          3309.666376670117,
          3284.707776025073,
          3220.3208606446806,
          3204.685186036154,
          3219.350013163562,
          3222.2631183920157,
          3234.9858189941883,
          3262.0802461904186,
          3234.742887904841,
          3234.7424586590505,
          3195.070945902366,
          3177.5903167084816,
          3116.7966144439633,
          3099.8985515497807,
          3080.4756855867345,
          3053.283676995961,
          3005.7464385217636,
          3008.076981527536,
          3016.477577872533,
          3011.524187787913,
          3016.3800502410973,
          3016.379986896491,
          3020.4105377410865,
          3014.5351113751008,
          3061.053256454812,
          3082.1753799438475,
          3093.586052711556,
          3122.2355093285037,
          3122.235142500654,
          3100.0446084236773,
          3106.6969173653642,
          3088.2451045168523,
          2981.6616981191646,
          3020.8475142118505,
          2982.875770940218,
          2989.1883195603205,
          3011.330325613732,
          3035.9486624728206,
          3056.6829266295927,
          3089.216031424418,
          3079.1649417912035,
          3104.026427592255,
          3117.379376979557,
          3081.5924682312316,
          3086.303094446652,
          3117.428102284883,
          3138.064935362868,
          3152.340671965421,
          3171.812580446539,
          3177.590470351658,
          3165.936536859731,
          3154.6230062363175,
          3156.6621142670942,
          3105.9682690606705,
          3102.812306728846,
          3110.6301429347186,
          3124.2257866409072,
          3195.168792983021,
          3181.474945312531,
          3172.832048357863,
          3196.0422850489476,
          3216.4362444719377,
          3206.093514161913,
          3170.9384288970487,
          3202.354954835453,
          3202.3059635427076,
          3190.2639148840444,
          3127.673525627163,
          3147.4852170756053,
          3139.7159989224906,
          3112.863482923491,
          3118.350303346747,
          3145.542593797547,
          3132.7720364422485,
          3140.5637680075815,
          3087.732068939796,
          3106.320918389773,
          3131.8074269653407,
          3154.2118182741465,
          3160.229306997884,
          3139.732164822479,
          3104.364550074452,
          3113.4630021562884,
          3124.322673226312,
          3144.575245477112,
          3198.043100317301,
          3206.40805197023,
          3233.508932041477,
          3230.5736726630234,
          3230.5740669527204,
          3194.5698385584406,
          3190.26507873713,
          3179.796454426586,
          3201.956345507489,
          3279.492190820148,
          3401.8376453972305,
          3390.0476010846255,
          3371.116184598227,
          3370.4656812000662,
          3294.935588701718,
          3307.736519941008,
          3315.681767797957,
          3320.390136828414,
          3320.439557205023,
          3267.4210443636866,
          3296.7499650065183,
          3349.817288286222,
          3348.4442815533034,
          3303.7148108295196,
          3336.329848102569,
          3375.5664414716643,
          3390.623421400275,
          3359.6757487612945,
          3364.5805855637027,
          3348.8368374275333,
          3345.893638310541,
          3369.63202821836,
          3348.0519961842556,
          3292.4340149998093,
          3307.638439182273,
          3300.8210154521385,
          3311.5618953689395,
          3313.6219328785023,
          3286.30359151266,
          3295.9655489776037,
          3300.771901355947,
          3318.47720278214,
          3279.8293671252663,
          3292.7285738775877,
          3305.7255505430117,
          3340.1552722970455,
          3333.240266410981,
          3356.9780422567883,
          3369.4852353678316,
          3379.244906725534,
          3416.519553510657,
          3477.336288211358,
          3477.925220314254,
          3494.4530736204592,
          3507.0087357886746,
          3511.6681187844783,
          3460.6608285282737,
          3497.003846247151,
          3490.725426682263,
          3468.507954945545,
          3487.831759913712,
          3460.0231670002267,
          3438.6394204521216,
          3413.674952570659,
          3410.9287124795296,
          3483.418114149809,
          3506.8126634220357,
          3561.6947354174235,
          3532.610564234289,
          3536.191180936214,
          3470.5680908798995,
          3457.7179195255203,
          3451.9306618821915,
          3436.4812659094987,
          3417.500265756058,
          3394.774704914926,
          3387.054474356502,
          3345.012421754448,
          3321.310652556418,
          3274.8919788857047,
          3281.776023604547,
          3278.5797748657174,
          3294.6102457640122,
          3256.2062895798977,
          3287.873672957303,
          3288.9554120175862,
          3303.4119686072822,
          3310.2960543666977,
          3313.787454867703,
          3286.7426829403244,
          3267.3687493230987,
          3271.941753458094,
          3300.510649283132,
          3357.698530975928,
          3434.7522113320965,
          3433.473316056803,
          3443.062161548039,
          3423.491412153966,
          3442.07866752699,
          3395.856182737039,
          3376.1875448070155,
          3418.279155460705,
          3423.392916449951,
          3432.2932467674304,
          3440.1116904537744,
          3444.8323239683755,
          3466.81216277439,
          3532.260889242496,
          3542.4399123569933,
          3555.175096462658,
          3570.9106336699306,
          3504.035846763485,
          3567.5668122017664,
          3606.0199057493946,
          3766.764927610666,
          3727.2792861436023,
          3704.2175516248103,
          3681.401533559478,
          3699.7430722543886,
          3727.4267692857443,
          3705.6433826211874,
          3729.344655094492,
          3703.086175654266
         ],
         "open": [
          3104.0304476439264,
          3095.464012345087,
          3147.5308668607604,
          3169.899468706498,
          3141.1533186073307,
          3073.5707836480674,
          3126.875002135785,
          3131.730086497584,
          3168.7570411505826,
          3181.9883337929095,
          3221.2922501014,
          3233.9167856512604,
          3282.4743285052546,
          3282.474740916798,
          3267.9073390131784,
          3290.2436907995248,
          3326.1754156369216,
          3326.4675088322574,
          3327.1470067875252,
          3321.32012061805,
          3349.4836216725234,
          3265.964289505567,
          3328.118011135759,
          3402.896580860477,
          3372.936514764761,
          3368.808690019597,
          3377.6949942889605,
          3413.5791238034985,
          3418.435094192089,
          3446.5981141916905,
          3403.867652710825,
          3386.386941803042,
          3425.427006233911,
          3424.4073188146567,
          3400.9540245117937,
          3393.1853180860167,
          3316.4158528564235,
          3322.291277754833,
          3323.7478050892705,
          3292.1856808158827,
          3232.460061635585,
          3227.119183632735,
          3264.02240533923,
          3257.224976379614,
          3264.896475470391,
          3266.9362943017964,
          3287.3299312585596,
          3217.3100986812465,
          3236.830233982081,
          3185.359633092315,
          3156.2250289902217,
          3115.436948096546,
          3059.5961273459843,
          3078.193811094538,
          3052.6041330666194,
          3039.7364840345126,
          3025.0230243297037,
          3058.042126734007,
          3044.543225666613,
          3036.774447559244,
          3038.716557695637,
          3097.908212551566,
          3131.898020024598,
          3093.586052711556,
          3131.9469728100853,
          3127.0908736709507,
          3169.821565856169,
          3134.811554459313,
          3117.379492295313,
          3043.6694794408186,
          3063.9177066320467,
          3040.416187488552,
          3000.8420751921344,
          3020.264823653521,
          3060.1789503520517,
          3091.158619686098,
          3089.216031424418,
          3093.1009861276475,
          3108.0565899847234,
          3141.65803256351,
          3123.2061777200083,
          3088.390964256681,
          3127.090960161784,
          3151.369591612366,
          3158.7503319410034,
          3195.071488084923,
          3213.5228809271507,
          3184.533891309846,
          3189.244275102877,
          3162.246204909835,
          3162.0033562071394,
          3132.8692361149965,
          3117.3795621687605,
          3136.8020819340595,
          3210.6099255541603,
          3181.474945312531,
          3198.9557879748936,
          3198.470150655943,
          3263.828226894275,
          3219.349564589376,
          3213.5232914386684,
          3218.3788689384965,
          3230.2750212928786,
          3219.349696548241,
          3185.359514682615,
          3159.138972893226,
          3166.908095417953,
          3151.369333874871,
          3122.234887966301,
          3165.936664334672,
          3150.1068537014166,
          3175.100233539827,
          3127.845191508406,
          3120.9964502876774,
          3144.477254878142,
          3179.6983714541743,
          3189.4824399678673,
          3167.2733900849407,
          3135.6723551807813,
          3132.736819262411,
          3138.606952531657,
          3150.347525834658,
          3242.6078481181125,
          3218.8332877101466,
          3248.1844642595165,
          3235.0252983303376,
          3230.5740669527204,
          3252.83174983978,
          3223.725244427865,
          3209.978987850496,
          3212.9629940101117,
          3292.2109851162886,
          3434.074853011847,
          3400.809656961085,
          3424.290621652569,
          3387.1902933626798,
          3339.0766700599147,
          3316.466549048623,
          3332.651609023338,
          3335.4472455011364,
          3330.150499991832,
          3320.390343791978,
          3300.1831600473693,
          3349.817288286222,
          3369.386627719007,
          3354.722284155866,
          3336.329848102569,
          3388.023987126328,
          3417.549430984884,
          3398.764983820485,
          3384.149751447672,
          3372.4769354992527,
          3375.0267012493014,
          3384.149587387931,
          3389.0542049389915,
          3344.912853016341,
          3310.5811780071685,
          3335.10387355029,
          3323.3328499733316,
          3342.95113252712,
          3310.5811868831365,
          3329.218400675874,
          3316.51560126301,
          3333.1418017181677,
          3336.084818501507,
          3301.7529249444574,
          3313.5237601641343,
          3354.7219238111265,
          3368.4549442054767,
          3365.3158013521524,
          3389.2996299941938,
          3395.9204258588675,
          3425.347769411201,
          3502.9382111185337,
          3501.9084952110275,
          3499.75014690962,
          3511.7171654572144,
          3511.6681187844783,
          3520.055154533083,
          3515.592099210395,
          3533.738551055739,
          3499.5048978464947,
          3521.4771184400684,
          3531.286392433025,
          3469.685219352942,
          3466.742194805561,
          3419.7569291940063,
          3486.164718380071,
          3522.4581760684473,
          3575.476609541216,
          3570.5718433762668,
          3580.332263638608,
          3506.7636817609027,
          3462.622483950379,
          3497.935380829372,
          3462.6224986124143,
          3443.984911902847,
          3412.0835400543524,
          3393.29924416434,
          3415.5258207095744,
          3334.39059881102,
          3312.3123391570066,
          3294.560886747148,
          3294.5608536333416,
          3342.7501267538264,
          3299.478133959697,
          3287.873672957303,
          3326.031468779594,
          3319.147184891211,
          3322.0974663252246,
          3315.6559157781985,
          3333.9975546787477,
          3282.759662485441,
          3300.4618348678578,
          3327.113045827257,
          3373.2863261775383,
          3439.9645502186013,
          3433.473316056803,
          3461.3544473067745,
          3442.0785402310757,
          3471.5821989629358,
          3436.4235350503614,
          3399.8888117850706,
          3423.3930528226165,
          3441.5375393027643,
          3442.078536300559,
          3485.9895847966163,
          3479.4497522853444,
          3474.1390647331536,
          3545.340835490588,
          3572.8776744176344,
          3562.9442627356834,
          3578.729021215181,
          3583.2528713361203,
          3569.9269984746743,
          3606.0199057493946,
          3794.25257642529,
          3781.3690910876385,
          3763.912981553741,
          3694.0879558903152,
          3737.1142143983725,
          3756.635456517975,
          3736.1303637414785,
          3760.7166461390393,
          3729.246067420503
         ],
         "type": "candlestick",
         "x": [
          "2023-01-02T00:00:00",
          "2023-01-03T00:00:00",
          "2023-01-04T00:00:00",
          "2023-01-05T00:00:00",
          "2023-01-06T00:00:00",
          "2023-01-09T00:00:00",
          "2023-01-10T00:00:00",
          "2023-01-11T00:00:00",
          "2023-01-12T00:00:00",
          "2023-01-13T00:00:00",
          "2023-01-16T00:00:00",
          "2023-01-17T00:00:00",
          "2023-01-18T00:00:00",
          "2023-01-19T00:00:00",
          "2023-01-20T00:00:00",
          "2023-01-23T00:00:00",
          "2023-01-24T00:00:00",
          "2023-01-25T00:00:00",
          "2023-01-27T00:00:00",
          "2023-01-30T00:00:00",
          "2023-01-31T00:00:00",
          "2023-02-01T00:00:00",
          "2023-02-02T00:00:00",
          "2023-02-03T00:00:00",
          "2023-02-06T00:00:00",
          "2023-02-07T00:00:00",
          "2023-02-08T00:00:00",
          "2023-02-09T00:00:00",
          "2023-02-10T00:00:00",
          "2023-02-13T00:00:00",
          "2023-02-14T00:00:00",
          "2023-02-15T00:00:00",
          "2023-02-16T00:00:00",
          "2023-02-17T00:00:00",
          "2023-02-20T00:00:00",
          "2023-02-21T00:00:00",
          "2023-02-22T00:00:00",
          "2023-02-23T00:00:00",
          "2023-02-24T00:00:00",
          "2023-02-27T00:00:00",
          "2023-02-28T00:00:00",
          "2023-03-01T00:00:00",
          "2023-03-02T00:00:00",
          "2023-03-03T00:00:00",
          "2023-03-06T00:00:00",
          "2023-03-08T00:00:00",
          "2023-03-09T00:00:00",
          "2023-03-10T00:00:00",
          "2023-03-13T00:00:00",
          "2023-03-14T00:00:00",
          "2023-03-15T00:00:00",
          "2023-03-16T00:00:00",
          "2023-03-17T00:00:00",
          "2023-03-20T00:00:00",
          "2023-03-21T00:00:00",
          "2023-03-22T00:00:00",
          "2023-03-23T00:00:00",
          "2023-03-24T00:00:00",
          "2023-03-27T00:00:00",
          "2023-03-28T00:00:00",
          "2023-03-29T00:00:00",
          "2023-03-31T00:00:00",
          "2023-04-03T00:00:00",
          "2023-04-05T00:00:00",
          "2023-04-06T00:00:00",
          "2023-04-10T00:00:00",
          "2023-04-11T00:00:00",
          "2023-04-12T00:00:00",
          "2023-04-13T00:00:00",
          "2023-04-17T00:00:00",
          "2023-04-18T00:00:00",
          "2023-04-19T00:00:00",
          "2023-04-20T00:00:00",
          "2023-04-21T00:00:00",
          "2023-04-24T00:00:00",
          "2023-04-25T00:00:00",
          "2023-04-26T00:00:00",
          "2023-04-27T00:00:00",
          "2023-04-28T00:00:00",
          "2023-05-02T00:00:00",
          "2023-05-03T00:00:00",
          "2023-05-04T00:00:00",
          "2023-05-05T00:00:00",
          "2023-05-08T00:00:00",
          "2023-05-09T00:00:00",
          "2023-05-10T00:00:00",
          "2023-05-11T00:00:00",
          "2023-05-12T00:00:00",
          "2023-05-15T00:00:00",
          "2023-05-16T00:00:00",
          "2023-05-17T00:00:00",
          "2023-05-18T00:00:00",
          "2023-05-19T00:00:00",
          "2023-05-22T00:00:00",
          "2023-05-23T00:00:00",
          "2023-05-24T00:00:00",
          "2023-05-25T00:00:00",
          "2023-05-26T00:00:00",
          "2023-05-29T00:00:00",
          "2023-05-30T00:00:00",
          "2023-05-31T00:00:00",
          "2023-06-01T00:00:00",
          "2023-06-02T00:00:00",
          "2023-06-05T00:00:00",
          "2023-06-06T00:00:00",
          "2023-06-07T00:00:00",
          "2023-06-08T00:00:00",
          "2023-06-09T00:00:00",
          "2023-06-12T00:00:00",
          "2023-06-13T00:00:00",
          "2023-06-14T00:00:00",
          "2023-06-15T00:00:00",
          "2023-06-16T00:00:00",
          "2023-06-19T00:00:00",
          "2023-06-20T00:00:00",
          "2023-06-21T00:00:00",
          "2023-06-22T00:00:00",
          "2023-06-23T00:00:00",
          "2023-06-26T00:00:00",
          "2023-06-27T00:00:00",
          "2023-06-28T00:00:00",
          "2023-06-30T00:00:00",
          "2023-07-03T00:00:00",
          "2023-07-04T00:00:00",
          "2023-07-05T00:00:00",
          "2023-07-06T00:00:00",
          "2023-07-07T00:00:00",
          "2023-07-10T00:00:00",
          "2023-07-11T00:00:00",
          "2023-07-12T00:00:00",
          "2023-07-13T00:00:00",
          "2023-07-14T00:00:00",
          "2023-07-17T00:00:00",
          "2023-07-18T00:00:00",
          "2023-07-19T00:00:00",
          "2023-07-20T00:00:00",
          "2023-07-21T00:00:00",
          "2023-07-24T00:00:00",
          "2023-07-25T00:00:00",
          "2023-07-26T00:00:00",
          "2023-07-27T00:00:00",
          "2023-07-28T00:00:00",
          "2023-07-31T00:00:00",
          "2023-08-01T00:00:00",
          "2023-08-02T00:00:00",
          "2023-08-03T00:00:00",
          "2023-08-04T00:00:00",
          "2023-08-07T00:00:00",
          "2023-08-08T00:00:00",
          "2023-08-09T00:00:00",
          "2023-08-10T00:00:00",
          "2023-08-11T00:00:00",
          "2023-08-14T00:00:00",
          "2023-08-16T00:00:00",
          "2023-08-17T00:00:00",
          "2023-08-18T00:00:00",
          "2023-08-21T00:00:00",
          "2023-08-22T00:00:00",
          "2023-08-23T00:00:00",
          "2023-08-24T00:00:00",
          "2023-08-25T00:00:00",
          "2023-08-28T00:00:00",
          "2023-08-29T00:00:00",
          "2023-08-30T00:00:00",
          "2023-08-31T00:00:00",
          "2023-09-01T00:00:00",
          "2023-09-04T00:00:00",
          "2023-09-05T00:00:00",
          "2023-09-06T00:00:00",
          "2023-09-07T00:00:00",
          "2023-09-08T00:00:00",
          "2023-09-11T00:00:00",
          "2023-09-12T00:00:00",
          "2023-09-13T00:00:00",
          "2023-09-14T00:00:00",
          "2023-09-15T00:00:00",
          "2023-09-18T00:00:00",
          "2023-09-20T00:00:00",
          "2023-09-21T00:00:00",
          "2023-09-22T00:00:00",
          "2023-09-25T00:00:00",
          "2023-09-26T00:00:00",
          "2023-09-27T00:00:00",
          "2023-09-28T00:00:00",
          "2023-09-29T00:00:00",
          "2023-10-03T00:00:00",
          "2023-10-04T00:00:00",
          "2023-10-05T00:00:00",
          "2023-10-06T00:00:00",
          "2023-10-09T00:00:00",
          "2023-10-10T00:00:00",
          "2023-10-11T00:00:00",
          "2023-10-12T00:00:00",
          "2023-10-13T00:00:00",
          "2023-10-16T00:00:00",
          "2023-10-17T00:00:00",
          "2023-10-18T00:00:00",
          "2023-10-19T00:00:00",
          "2023-10-20T00:00:00",
          "2023-10-23T00:00:00",
          "2023-10-25T00:00:00",
          "2023-10-26T00:00:00",
          "2023-10-27T00:00:00",
          "2023-10-30T00:00:00",
          "2023-10-31T00:00:00",
          "2023-11-01T00:00:00",
          "2023-11-02T00:00:00",
          "2023-11-03T00:00:00",
          "2023-11-06T00:00:00",
          "2023-11-07T00:00:00",
          "2023-11-08T00:00:00",
          "2023-11-09T00:00:00",
          "2023-11-10T00:00:00",
          "2023-11-13T00:00:00",
          "2023-11-15T00:00:00",
          "2023-11-16T00:00:00",
          "2023-11-17T00:00:00",
          "2023-11-20T00:00:00",
          "2023-11-21T00:00:00",
          "2023-11-22T00:00:00",
          "2023-11-23T00:00:00",
          "2023-11-24T00:00:00",
          "2023-11-28T00:00:00",
          "2023-11-29T00:00:00",
          "2023-11-30T00:00:00",
          "2023-12-01T00:00:00",
          "2023-12-04T00:00:00",
          "2023-12-05T00:00:00",
          "2023-12-06T00:00:00",
          "2023-12-07T00:00:00",
          "2023-12-08T00:00:00",
          "2023-12-11T00:00:00",
          "2023-12-12T00:00:00",
          "2023-12-13T00:00:00",
          "2023-12-14T00:00:00",
          "2023-12-15T00:00:00",
          "2023-12-18T00:00:00",
          "2023-12-19T00:00:00",
          "2023-12-20T00:00:00",
          "2023-12-21T00:00:00",
          "2023-12-22T00:00:00",
          "2023-12-26T00:00:00",
          "2023-12-27T00:00:00",
          "2023-12-28T00:00:00",
          "2023-12-29T00:00:00"
         ]
        }
       ],
       "layout": {
        "template": {
         "data": {
          "bar": [
           {
            "error_x": {
             "color": "#2a3f5f"
            },
            "error_y": {
             "color": "#2a3f5f"
            },
            "marker": {
             "line": {
              "color": "#E5ECF6",
              "width": 0.5
             },
             "pattern": {
              "fillmode": "overlay",
              "size": 10,
              "solidity": 0.2
             }
            },
            "type": "bar"
           }
          ],
          "barpolar": [
           {
            "marker": {
             "line": {
              "color": "#E5ECF6",
              "width": 0.5
             },
             "pattern": {
              "fillmode": "overlay",
              "size": 10,
              "solidity": 0.2
             }
            },
            "type": "barpolar"
           }
          ],
          "carpet": [
           {
            "aaxis": {
             "endlinecolor": "#2a3f5f",
             "gridcolor": "white",
             "linecolor": "white",
             "minorgridcolor": "white",
             "startlinecolor": "#2a3f5f"
            },
            "baxis": {
             "endlinecolor": "#2a3f5f",
             "gridcolor": "white",
             "linecolor": "white",
             "minorgridcolor": "white",
             "startlinecolor": "#2a3f5f"
            },
            "type": "carpet"
           }
          ],
          "choropleth": [
           {
            "colorbar": {
             "outlinewidth": 0,
             "ticks": ""
            },
            "type": "choropleth"
           }
          ],
          "contour": [
           {
            "colorbar": {
             "outlinewidth": 0,
             "ticks": ""
            },
            "colorscale": [
             [
              0,
              "#0d0887"
             ],
             [
              0.1111111111111111,
              "#46039f"
             ],
             [
              0.2222222222222222,
              "#7201a8"
             ],
             [
              0.3333333333333333,
              "#9c179e"
             ],
             [
              0.4444444444444444,
              "#bd3786"
             ],
             [
              0.5555555555555556,
              "#d8576b"
             ],
             [
              0.6666666666666666,
              "#ed7953"
             ],
             [
              0.7777777777777778,
              "#fb9f3a"
             ],
             [
              0.8888888888888888,
              "#fdca26"
             ],
             [
              1,
              "#f0f921"
             ]
            ],
            "type": "contour"
           }
          ],
          "contourcarpet": [
           {
            "colorbar": {
             "outlinewidth": 0,
             "ticks": ""
            },
            "type": "contourcarpet"
           }
          ],
          "heatmap": [
           {
            "colorbar": {
             "outlinewidth": 0,
             "ticks": ""
            },
            "colorscale": [
             [
              0,
              "#0d0887"
             ],
             [
              0.1111111111111111,
              "#46039f"
             ],
             [
              0.2222222222222222,
              "#7201a8"
             ],
             [
              0.3333333333333333,
              "#9c179e"
             ],
             [
              0.4444444444444444,
              "#bd3786"
             ],
             [
              0.5555555555555556,
              "#d8576b"
             ],
             [
              0.6666666666666666,
              "#ed7953"
             ],
             [
              0.7777777777777778,
              "#fb9f3a"
             ],
             [
              0.8888888888888888,
              "#fdca26"
             ],
             [
              1,
              "#f0f921"
             ]
            ],
            "type": "heatmap"
           }
          ],
          "heatmapgl": [
           {
            "colorbar": {
             "outlinewidth": 0,
             "ticks": ""
            },
            "colorscale": [
             [
              0,
              "#0d0887"
             ],
             [
              0.1111111111111111,
              "#46039f"
             ],
             [
              0.2222222222222222,
              "#7201a8"
             ],
             [
              0.3333333333333333,
              "#9c179e"
             ],
             [
              0.4444444444444444,
              "#bd3786"
             ],
             [
              0.5555555555555556,
              "#d8576b"
             ],
             [
              0.6666666666666666,
              "#ed7953"
             ],
             [
              0.7777777777777778,
              "#fb9f3a"
             ],
             [
              0.8888888888888888,
              "#fdca26"
             ],
             [
              1,
              "#f0f921"
             ]
            ],
            "type": "heatmapgl"
           }
          ],
          "histogram": [
           {
            "marker": {
             "pattern": {
              "fillmode": "overlay",
              "size": 10,
              "solidity": 0.2
             }
            },
            "type": "histogram"
           }
          ],
          "histogram2d": [
           {
            "colorbar": {
             "outlinewidth": 0,
             "ticks": ""
            },
            "colorscale": [
             [
              0,
              "#0d0887"
             ],
             [
              0.1111111111111111,
              "#46039f"
             ],
             [
              0.2222222222222222,
              "#7201a8"
             ],
             [
              0.3333333333333333,
              "#9c179e"
             ],
             [
              0.4444444444444444,
              "#bd3786"
             ],
             [
              0.5555555555555556,
              "#d8576b"
             ],
             [
              0.6666666666666666,
              "#ed7953"
             ],
             [
              0.7777777777777778,
              "#fb9f3a"
             ],
             [
              0.8888888888888888,
              "#fdca26"
             ],
             [
              1,
              "#f0f921"
             ]
            ],
            "type": "histogram2d"
           }
          ],
          "histogram2dcontour": [
           {
            "colorbar": {
             "outlinewidth": 0,
             "ticks": ""
            },
            "colorscale": [
             [
              0,
              "#0d0887"
             ],
             [
              0.1111111111111111,
              "#46039f"
             ],
             [
              0.2222222222222222,
              "#7201a8"
             ],
             [
              0.3333333333333333,
              "#9c179e"
             ],
             [
              0.4444444444444444,
              "#bd3786"
             ],
             [
              0.5555555555555556,
              "#d8576b"
             ],
             [
              0.6666666666666666,
              "#ed7953"
             ],
             [
              0.7777777777777778,
              "#fb9f3a"
             ],
             [
              0.8888888888888888,
              "#fdca26"
             ],
             [
              1,
              "#f0f921"
             ]
            ],
            "type": "histogram2dcontour"
           }
          ],
          "mesh3d": [
           {
            "colorbar": {
             "outlinewidth": 0,
             "ticks": ""
            },
            "type": "mesh3d"
           }
          ],
          "parcoords": [
           {
            "line": {
             "colorbar": {
              "outlinewidth": 0,
              "ticks": ""
             }
            },
            "type": "parcoords"
           }
          ],
          "pie": [
           {
            "automargin": true,
            "type": "pie"
           }
          ],
          "scatter": [
           {
            "fillpattern": {
             "fillmode": "overlay",
             "size": 10,
             "solidity": 0.2
            },
            "type": "scatter"
           }
          ],
          "scatter3d": [
           {
            "line": {
             "colorbar": {
              "outlinewidth": 0,
              "ticks": ""
             }
            },
            "marker": {
             "colorbar": {
              "outlinewidth": 0,
              "ticks": ""
             }
            },
            "type": "scatter3d"
           }
          ],
          "scattercarpet": [
           {
            "marker": {
             "colorbar": {
              "outlinewidth": 0,
              "ticks": ""
             }
            },
            "type": "scattercarpet"
           }
          ],
          "scattergeo": [
           {
            "marker": {
             "colorbar": {
              "outlinewidth": 0,
              "ticks": ""
             }
            },
            "type": "scattergeo"
           }
          ],
          "scattergl": [
           {
            "marker": {
             "colorbar": {
              "outlinewidth": 0,
              "ticks": ""
             }
            },
            "type": "scattergl"
           }
          ],
          "scattermapbox": [
           {
            "marker": {
             "colorbar": {
              "outlinewidth": 0,
              "ticks": ""
             }
            },
            "type": "scattermapbox"
           }
          ],
          "scatterpolar": [
           {
            "marker": {
             "colorbar": {
              "outlinewidth": 0,
              "ticks": ""
             }
            },
            "type": "scatterpolar"
           }
          ],
          "scatterpolargl": [
           {
            "marker": {
             "colorbar": {
              "outlinewidth": 0,
              "ticks": ""
             }
            },
            "type": "scatterpolargl"
           }
          ],
          "scatterternary": [
           {
            "marker": {
             "colorbar": {
              "outlinewidth": 0,
              "ticks": ""
             }
            },
            "type": "scatterternary"
           }
          ],
          "surface": [
           {
            "colorbar": {
             "outlinewidth": 0,
             "ticks": ""
            },
            "colorscale": [
             [
              0,
              "#0d0887"
             ],
             [
              0.1111111111111111,
              "#46039f"
             ],
             [
              0.2222222222222222,
              "#7201a8"
             ],
             [
              0.3333333333333333,
              "#9c179e"
             ],
             [
              0.4444444444444444,
              "#bd3786"
             ],
             [
              0.5555555555555556,
              "#d8576b"
             ],
             [
              0.6666666666666666,
              "#ed7953"
             ],
             [
              0.7777777777777778,
              "#fb9f3a"
             ],
             [
              0.8888888888888888,
              "#fdca26"
             ],
             [
              1,
              "#f0f921"
             ]
            ],
            "type": "surface"
           }
          ],
          "table": [
           {
            "cells": {
             "fill": {
              "color": "#EBF0F8"
             },
             "line": {
              "color": "white"
             }
            },
            "header": {
             "fill": {
              "color": "#C8D4E3"
             },
             "line": {
              "color": "white"
             }
            },
            "type": "table"
           }
          ]
         },
         "layout": {
          "annotationdefaults": {
           "arrowcolor": "#2a3f5f",
           "arrowhead": 0,
           "arrowwidth": 1
          },
          "autotypenumbers": "strict",
          "coloraxis": {
           "colorbar": {
            "outlinewidth": 0,
            "ticks": ""
           }
          },
          "colorscale": {
           "diverging": [
            [
             0,
             "#8e0152"
            ],
            [
             0.1,
             "#c51b7d"
            ],
            [
             0.2,
             "#de77ae"
            ],
            [
             0.3,
             "#f1b6da"
            ],
            [
             0.4,
             "#fde0ef"
            ],
            [
             0.5,
             "#f7f7f7"
            ],
            [
             0.6,
             "#e6f5d0"
            ],
            [
             0.7,
             "#b8e186"
            ],
            [
             0.8,
             "#7fbc41"
            ],
            [
             0.9,
             "#4d9221"
            ],
            [
             1,
             "#276419"
            ]
           ],
           "sequential": [
            [
             0,
             "#0d0887"
            ],
            [
             0.1111111111111111,
             "#46039f"
            ],
            [
             0.2222222222222222,
             "#7201a8"
            ],
            [
             0.3333333333333333,
             "#9c179e"
            ],
            [
             0.4444444444444444,
             "#bd3786"
            ],
            [
             0.5555555555555556,
             "#d8576b"
            ],
            [
             0.6666666666666666,
             "#ed7953"
            ],
            [
             0.7777777777777778,
             "#fb9f3a"
            ],
            [
             0.8888888888888888,
             "#fdca26"
            ],
            [
             1,
             "#f0f921"
            ]
           ],
           "sequentialminus": [
            [
             0,
             "#0d0887"
            ],
            [
             0.1111111111111111,
             "#46039f"
            ],
            [
             0.2222222222222222,
             "#7201a8"
            ],
            [
             0.3333333333333333,
             "#9c179e"
            ],
            [
             0.4444444444444444,
             "#bd3786"
            ],
            [
             0.5555555555555556,
             "#d8576b"
            ],
            [
             0.6666666666666666,
             "#ed7953"
            ],
            [
             0.7777777777777778,
             "#fb9f3a"
            ],
            [
             0.8888888888888888,
             "#fdca26"
            ],
            [
             1,
             "#f0f921"
            ]
           ]
          },
          "colorway": [
           "#636efa",
           "#EF553B",
           "#00cc96",
           "#ab63fa",
           "#FFA15A",
           "#19d3f3",
           "#FF6692",
           "#B6E880",
           "#FF97FF",
           "#FECB52"
          ],
          "font": {
           "color": "#2a3f5f"
          },
          "geo": {
           "bgcolor": "white",
           "lakecolor": "white",
           "landcolor": "#E5ECF6",
           "showlakes": true,
           "showland": true,
           "subunitcolor": "white"
          },
          "hoverlabel": {
           "align": "left"
          },
          "hovermode": "closest",
          "mapbox": {
           "style": "light"
          },
          "paper_bgcolor": "white",
          "plot_bgcolor": "#E5ECF6",
          "polar": {
           "angularaxis": {
            "gridcolor": "white",
            "linecolor": "white",
            "ticks": ""
           },
           "bgcolor": "#E5ECF6",
           "radialaxis": {
            "gridcolor": "white",
            "linecolor": "white",
            "ticks": ""
           }
          },
          "scene": {
           "xaxis": {
            "backgroundcolor": "#E5ECF6",
            "gridcolor": "white",
            "gridwidth": 2,
            "linecolor": "white",
            "showbackground": true,
            "ticks": "",
            "zerolinecolor": "white"
           },
           "yaxis": {
            "backgroundcolor": "#E5ECF6",
            "gridcolor": "white",
            "gridwidth": 2,
            "linecolor": "white",
            "showbackground": true,
            "ticks": "",
            "zerolinecolor": "white"
           },
           "zaxis": {
            "backgroundcolor": "#E5ECF6",
            "gridcolor": "white",
            "gridwidth": 2,
            "linecolor": "white",
            "showbackground": true,
            "ticks": "",
            "zerolinecolor": "white"
           }
          },
          "shapedefaults": {
           "line": {
            "color": "#2a3f5f"
           }
          },
          "ternary": {
           "aaxis": {
            "gridcolor": "white",
            "linecolor": "white",
            "ticks": ""
           },
           "baxis": {
            "gridcolor": "white",
            "linecolor": "white",
            "ticks": ""
           },
           "bgcolor": "#E5ECF6",
           "caxis": {
            "gridcolor": "white",
            "linecolor": "white",
            "ticks": ""
           }
          },
          "title": {
           "x": 0.05
          },
          "xaxis": {
           "automargin": true,
           "gridcolor": "white",
           "linecolor": "white",
           "ticks": "",
           "title": {
            "standoff": 15
           },
           "zerolinecolor": "white",
           "zerolinewidth": 2
          },
          "yaxis": {
           "automargin": true,
           "gridcolor": "white",
           "linecolor": "white",
           "ticks": "",
           "title": {
            "standoff": 15
           },
           "zerolinecolor": "white",
           "zerolinewidth": 2
          }
         }
        },
        "title": {
         "text": "Candlestick Chart - TCS.NS"
        },
        "xaxis": {
         "title": {
          "text": "Date"
         }
        },
        "yaxis": {
         "title": {
          "text": "Price"
         }
        }
       }
      }
     },
     "metadata": {},
     "output_type": "display_data"
    }
   ],
   "source": [
    "#Displaying each day's Candlestick chart\n",
    "fig = go.Figure(data=[\n",
    "    go.Candlestick(x=data.index,\n",
    "                   open=data['Open'],\n",
    "                   high=data['High'],\n",
    "                   low=data['Low'],\n",
    "                   close=data['Close'])\n",
    "              ])\n",
    "fig.update_layout(title=f\"Candlestick Chart - {stock_symbol}\", xaxis_title='Date', yaxis_title='Price')\n",
    "fig.show()"
   ]
  },
  {
   "cell_type": "markdown",
   "metadata": {
    "id": "eNRQFyDclsYz"
   },
   "source": [
    "<b>Pattern 1: Ascending Triangle Pattern</b><br>\n",
    "The ascending triangle is a bullish continuation chart pattern that forms during an uptrend as a consolidation period before further gains. It is characterised by horizontal resistance. and rising support that converges to form a triangular shape.<br>\n",
    "\n",
    "![Screenshot (401).png](data:image/png;base64,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)\n",
    "\n"
   ]
  },
  {
   "cell_type": "markdown",
   "metadata": {
    "id": "4sSeHBXfqVPH"
   },
   "source": [
    "<b> Pattern 2: Bearish Maribozu</b><br>\n",
    "Bearish Marubozu indicates extreme bearishness. Here the open is equal to the high and close the is equal to low. Open = High, and Close = Low.\n",
    "It indicates that there is a lot of selling pressure in the stock.It does not matter what the prior trend has been, the action on the marubozu day suggests that the sentiment has changed and the stock is now bearish. This can be seen a little later in the graph.\n",
    "![Screenshot (402).png](data:image/png;base64,iVBORw0KGgoAAAANSUhEUgAAA3AAAAJaCAYAAABuqqUzAAAAAXNSR0IArs4c6QAAAARnQU1BAACxjwv8YQUAAAAJcEhZcwAAEnQAABJ0Ad5mH3gAAAGHaVRYdFhNTDpjb20uYWRvYmUueG1wAAAAAAA8P3hwYWNrZXQgYmVnaW49J++7vycgaWQ9J1c1TTBNcENlaGlIenJlU3pOVGN6a2M5ZCc/Pg0KPHg6eG1wbWV0YSB4bWxuczp4PSJhZG9iZTpuczptZXRhLyI+PHJkZjpSREYgeG1sbnM6cmRmPSJodHRwOi8vd3d3LnczLm9yZy8xOTk5LzAyLzIyLXJkZi1zeW50YXgtbnMjIj48cmRmOkRlc2NyaXB0aW9uIHJkZjphYm91dD0idXVpZDpmYWY1YmRkNS1iYTNkLTExZGEtYWQzMS1kMzNkNzUxODJmMWIiIHhtbG5zOnRpZmY9Imh0dHA6Ly9ucy5hZG9iZS5jb20vdGlmZi8xLjAvIj48dGlmZjpPcmllbnRhdGlvbj4xPC90aWZmOk9yaWVudGF0aW9uPjwvcmRmOkRlc2NyaXB0aW9uPjwvcmRmOlJERj48L3g6eG1wbWV0YT4NCjw/eHBhY2tldCBlbmQ9J3cnPz4slJgLAAB4h0lEQVR4Xu3de3xU9YH//zeEJCQkBIEoDFfTgIbgjWiJVCEtCrgB222wUrE18sUVbFH7/Qn9bn61tdbNrtDf1wu1xNWlsVaNlfQisgJKDdFGaElEC4lANhhIJmi4GHKBJIT8/phLZk5mkkkyM5mTvJ6Px3kon3Nm5szJmTPnPZ/bkPb29nYBAAAAAELeUGMBAAAAACA0EeAAAAAAwCQIcAAAAABgEgQ4AAAAADAJAhwAAAAAmAQBDgAAAABMggAHAAAAACZBgAMAAAAAkyDAAQAAAIBJEOAAAAAAwCQIcAAAAABgEgQ4AAAAADAJAhwAAAAAmAQBDgAAAABMggAHAAAAACZBgAMAAAAAkyDAAQAAAIBJEOAAAAAAwCQIcAAAAABgEgQ4AAAAADAJAhwAAAAAmAQBDgAAAABMggAHAAAAACZBgAMAAAAAkyDAAQAAAIBJEOAAAAAAwCQIcAAAAABgEgQ4AAAAADAJAhwAAAAAmAQBrr8V5Sg5LVPJ2cW+lQ8AVXlZSk7L1NI8q3FVkFmVuzJTyWlZyq02rgMAAABCz5D29vZ2Y6FZNVcX67XX3lb+3kpV1LbaCmPilHBlom6df5vump+osRHGR/WzohwlZ+2RFqzRwayU7sv7lVW5K7O0oVxKWpWtLcssxg18UpWXpYU51j49hzc9Owcc78eita9kK3OCyxMNMo6/SU+kZ+dq/Rz3svryQv3mpV3a9olVVXW24x8ZF6ekq6/XrYvn67vXWxQZ5v4YtdTq3d/9Tr95u1T7HX8zhSt2XLS+Mu163Tr/Ri2enaixUYbHdaEwO1Ord9r/kZihHS8u0UTDNlKx1qVt1DalalPBKs01rg7AfgEAAPTVAKmBa9Le57J04/KN2vBWeceNuyQ11KliX7Gef/IJzVu8Vs+Wuj4O7sxcIzUAzgEz17q2WZWf9ZBSV27W8+9XOsObJDXX1Wn/+7u04cdZmvXNp7TtdMfDmo9u1fLFa/XQbz92CUmS1Kr6E/bHPfaEVv25Z+HSKUxS+dt6tsj1ubsX8P0CAADopQEQ4JpUmP2IVrxhVXNYnOZ+f422/vkFHSzI1cGCXJW8tUFbfjxfsyeESy21qvrS+Hj4zqLMF23H1d81Z33DOdBXE5dlO49Xx7JG6ZKkVG3qtM6l9q3NqtwHsvTTojopwqLv/vgn2vGWy/H/88+1aVWKkmIkNdSq9pz9cec+0b/9P/na3yIlLF6hLW90PObgrhe05w8btOXJZbr/ZotGGmvtfJS+fIkmqknbXtulk8aV3gRhvwAAAHrL/AHuH/l6dGeTFDZFD774S21akaKEuHDn6siYeCXd9j1tfuXX2vqjGZrIDdfAwznQr06+vVkbDkkanapn3sjWT25L1MQYl+MfN0Vzl63Rlj8/o013jFekvby5aJfyT0uxC9ZoyyNzlRTf8RiFhSt2dLySZi/Sg7/I1uY7evmDwZW3a22apH+8qZyPjCs9C8p+AQAA9JLJA1yrtv3e9st60n336/7LXW60OglXwjfX6cHZHSUn9+Zpxb0Pad7iTFvTtbRMJS94QAsf2KjX/lHn+mCb6q1ampap5JVbVdVWp7K3N2v5N+9zPm55dqEqWowPsmur0/4/b+zYfv59mvfARr32yVnjlj5oVVXBy1px7wOaZd/vWd/8mdb9uVz1xk3leO3NWvF9+2unZSp58UNa/mi+8g/VqVmO92br3yZZtWG5yzFxaVJZmG0rW1fk/hI2nvYrSyt+uVWFx3xrwnZy11Oal5ap5DtyVNhgXOtJ384BV/XlhXriAce+36fUBzYq/6in/a5U/qM/08JlHe8zOS1TqXdkacVze1Tl4RxwO251ZXot+2dKXWArW5pnta3P2mPbeOdGl2Mf6k0qK/Xq78olRSv9kf+lW+KM612ExWnuD9bou/a+hrW1tZKkiQkdoc7/wnXLdxdpopr02ubtPtXCBWe/AAAAesfcAe7ch3rnfUm6Rvd+s+e/hJ8/+on2Hq3TSdeg0NKkqtJiPbHmEa1+20OIk6SGj/Vv9z6kpU8War+jr09Lk/bv3Kwla7aryrh9m1X5Wf+q5U8Vd2zf1qqTpcV6Iq+nHbKaVJj9kBY+tkt7jzbZwpek5rpKbXvqCS3OLjaEuDpte+xftfypQu11DVENddr//lb99P7XtNd1895qsyr/x572y6q9b+Vr9eMejotBfVGOMn7xsU6OTtWm36zS3BjjFh708RywaVThs2uVunKzXit17Hur6kuL9dOVT3joD3hSe9+vVNWJjvcpSfW1Vu19I0cLl7+s/W0uK1zU731ZS779pJ7YWal6D0HPdA59qG0nJI2bq3vndBWeO4uPj5cklb37oSq8HC+/uOJ2PXizvRbuH8aVnQVtvwAAAHrB3AGutlb/I0lXJOmaXowE57Hfz9sbtHnVDI1Vqwqfe1P7jQ+SpBPlKjyXqMzHfq49O3N1sOAF7X5qkZLCJB16W3845L551Ru/0k/3NkmjZ2jtUxtUssulb1APQ0fVG09q9U7Hcz2jkgLH62do7mjp5M7/0jOuTcU+ytcv3m+SEudq029+bd8+VyV/3qAtj2Uo/XL7kIwTlmhLQbbWJkqSRWtfcT0u3Y/Q2NV73Pyj+Zp9adc39/Wlebr30T06OfoarX/ex/Cmvp8DNnXau69Fs+9Ypa32vlslf/ix7r9CUlulXvvvSsP2KVpvPG8KXtCe36xSxmRJtbv0rJfwX/jnXTo7O0ObXfpVbVlm0dysXB3MTrVttGCN+3OHzCikHnxRawvm189QknFdNyLnzFfGaEnlW7Vk2RP6aV6h9h6tU72jj5zfRCv9O/M1Vk16bXP3feGCt18AAAA9Z+4AV1WrCkmaEu9hiPBeiorX7GV3667LJTWUa/8J4waSxs3XK6/8RGvTpig2QpLCNfa6ZVqVJkl1KvzE1gRLktRWptzfWSXF6/5/X6fM6+Kdw6hHxk3R3NmTO7btTluZcl+qlMIS9fjz65R5XZy9iVe4xl63RE8/eI2kJr32dkeTu6pDtmaVCV9fpLmXRzubhEXGxSspbYnW/2ZF5+HTe6qtWM++4P09zv7m97Q5e5H3v9Gxrbp3zXaVhU3R2qd/pHRbBYhv/HIOxCnz6V9q8w9SlWDvuxU5OkkP3m0LTlX7yrqtPZTCFXt5qh6/z/aYvZ8aQ5/NtQ9u0O7sJZrt2q/KxKqqayRJSRPHGld1L+pqPf709zQ3XlJtufJzNmvFvQ8p9TZbE98lj2xW7l6rmv1RC3bV7XrwOtsPGt3WwgVzvwAAAHrI3AHOH85ZtffP+frpoz/TwmWO/nBZevaoJLVKnm7SYkZ5nE/uymn22rQ2l6aK5R/r/QZJiXP17Ss6invF8Vxz5mqxh5ATefXVmi1JFVZn4Jg42RYQKzY/pZ8WBKjZXvkRfdzWy/dYW6iHH85XmaZo7Ys/V2YP8qz/jFD8aA+BKmGqrVbJ9e/p1KqTh/Yo97mNWnHvQx394R61h+cWT4+RJozz8Ifzi2Ktc+0357L0/4TpXZg8X5vyXtDWJzOUefMUTXQE24Y6VewrtE09sMzX/pBdiVPG9+cqVk167feFnvuKugrafgEAAPSMuQPcmFG2WpdKezOuHjq5a6PmLc7Siqe2Kv/9SlWdMPSH84dTX9r2LcHShxoiO8dzvb/ZbfAM5/Ltl2392Y5W22qlJGnO7Xp8drTUVqv8x2wDZ8z65kNa/ujLyt1b69aHq9d6+x6/LNa6+zfrndPhSv/FT3oX3vp4DvRKQ7meXfOA5t2fow1vFGvv0bpO/eEGC2d/saruGiZ2ISxcCbOXaO0vfq4db7xga476h59r84/mKiFCUu0erX60+6aP3bouQw9dJen9rfqNoZmzR8HaLwAAgB4wd4CbbLHVkBwq08c97Z9SvVWrflGsk23S2Ovm6ydP/Vy7//CM9rxt6/Nl6wtmUm61hhZlPPmMdj+/QvfPT1RCfLjLxMprteDRPf12A1qWl69tdbKNJPnL/+pdbUZfzoFeaVXhs/9Xz/+jVYqwKH3VKm3Je0a7/2DvX+joxxZ0nvrldfSxC5TIieNtAXpfqcqMK3stXLGjp2j2N1do6yvLdK0kffSJ9vb57xun766Yq1jV6vnX9vQicAdqvwAAAHxn7gAXdY1uvk6SPtZv/tyzZmJVRftUJin2mz/W7qe+p+9eN0VjR8cpttcDYXjhmHPsXGMvbhgNYkcoVpLmGwa56LSsMvRrC9fYK+bqwUd/oq1vvKCDO3+trU/OV1KYdPL933bfJ6g7jv2q/bJnYXB0qp75wwvaet8U6fQerf5/tvZ81L8+nAO9U6Z3dzVJStRPXsnW+mWpShoXp7GjO/oXDipXXKObYySdKNRvijw3G+2T+Kt1a6Ikfalaz+PC9Mx1i7QqUVJBvp4vN67sAX/vFwAAgI/MHeAUp8V3pCpWUtkLz+vZ0ibjBi5aVfX2Rj3rGDPf3q9p4njPE1f5bYCCadNs/dKKivW+p1/qPfav8mLGDM0Nk7S3SO/2prbKISJaCbO/pwfnS1KTzjo7BIXbA+eXqjrt+oBuJE5Tapikj7brVV+aptklfed23RIXroTlP9amBdHSoXzdm7WrhyGuD+dAr7TqfJskjdUET93ZevL3NHKE/Z4G4X6VpMy7LZKatO2Xv9I2l/F7Ommr0/7Nm/WaY07B59Yr19N8i65qP9E75ZJiEnXtOOPK3rDouytSbbVwvyuUpy6h/bNfAAAAvjF5gJMi53xf6xdES22Ven7Nv2rFc4Uqq+24iW5uqFVZwVatu/cBLXyyWFX2cBBvH0yi7PevK98xP1pbq04eKtQT9/7MPoiJH4yeq7vSJLV9rF88tlV7T9teq7mhUoWb12veYz2YpDksRfcui5caivXQvev17N5Kl6HNW1V/olzv5m3U0h91zLlW9cZ6rfjlVr17qNZ926OF+sM+SYrXxEsd5fFKmCZJTXrr97s8TkjtUVSqMr8ZLalWz//reuV+VOsMwM11ldr755e1IqureeCiNffHP9HaK6STe1/WvU8a57LrWm/Pgd4Zq4kTJGmPnn2hTCftx6hXf0+jKfZBUz7apd90FyBCyMQ7fqi1V0g6/bHWLc/SurxiVTS4HH/HObDsIS3/bXlHTXRdqTaseUiz7n1Kz/65TBWOORIl6VyTKvbma/X9edovKeme+bYmi05W5a7s3SAtkXNu010TJBV8rHeMK9XX/QIAAAisIe3t7e3GQtNpq9W27Ce0blc3N70RFj3462zdn2ibeDr3gSxt8FRjFD9FSWGVKjth0dpXXOZAq96qpcvzVZaYoR0vLuk0YEdVXpYW5liVtCrbvd9R9XYt/X6eyjwEh7Hx0TpZ22Sb+8t1vq+iHCVn7elc3larbb/4mdYVdFHT5LJ/jn3yZuziNXrrkRRbE0hJ+sfLmrfGODBDx3EozM7U6p1Senau1s9x2aTNqtyHf6YN//BSA+Vhnzodp4Zirfv+Rm07rc7rutObc0BW5a7M0oZyw9/Zwcvfu74oR4uzPPUdDNe1V8Vr/z+snf5uXo+bmzrl/+gh/dR1Hj/Z54Xrl7ngirUubaO2KVWbOjXLNWgo17P/+qStb2BX4lP0zPNrdMtoae+z92nFH7rZXlLCt3+sVx9M6jhHJZe/nedzpbvj3VzwlGY99rH9X+7vr2/7BQAAEFimr4GTJIXFK/3RZ7TnxRW6/+YpmhjnMiR8TJwSrp+rtU9mq+Rtx427pDCLMjf+XI8vsCjWZc6y9B/9WHvy7tdiXyeS9sWERdqSt0aZ18c7522LnZGin2x8Rrt/dLVx666FxSv9sWe048kMpc+Is89DJ/s8ZInKWLVKW9Z3zLk28Zs/1KZVczX78jjn+1RYuMbOSNHaJzdop2t4k6Srvqf8X8zX7MkdxzA2fpRzXjevwizKfPqX2vLj+ZrtNt+cRbMXZ2jTz7uYB84hJkXrn85QUphUlvOE1hV1EVKNenMO9FLsnFV668klmj3B/hph4Uq4fr6eeeXXeuW7vRlK0yFOGb/4iX6ywDG/oK25q9t7CVUxiXpw46+148kMZVxv0ViXz09kXJyuvXmJHn/+GZW8YQtvkjT7wRdU8oef6BnH+ek6NUeM/TEvPqOtAQhJkWnf1v3GwG7Xn/sFAADQnYFRAwcAAAAAg8DAqIEDAAAAgEGAAAcAAAAAJkGAAwAAAACTIMABAAAAgEkQ4AAAAADAJAhwAAAAAGASBDgAAAAAMAkCHAAAAACYBAEOAAAAAEyCAAcAAAAAJkGAAwAAAACTIMABAAAAgEkQ4AAAAADAJAhwAAAAAGASBDgAAAAAMAkCHAAAAACYBAEOAAAAAEyCAAcAAAAAJkGAAwAAAACTIMABAAAAgEkQ4AAAAADAJAhwAAAAAGASBDgAAAAAMAkCHAAAAACYBAEOAAAAAEyCAAcAAAAAJkGAAwAAAACTIMABAAAAgEkQ4AAAAADAJAhwAAAAAGASBDgAAAAAMAkCHAAAAACYBAEOAAAAAEyCAAcAAAAAJkGAAwAAAACTIMABAAAAgEkQ4AAAAADAJAhwAAAAAGASBDgAAAAAMAkCHAAAAACYBAEOAAAAAEyCAAcAAAAAJkGAAwAAAACTIMABAAAAgEkQ4AAAAADAJAhwAAAAAGASBDgAAAAAMAkCHAAAAACYBAEOAAAAAEyCAAcAAAAAJkGAAwAAAACTIMABAAAAgEkQ4AAAAADAJAhwAAAAAGASBDgAAAAAMAkCHAAAAACYBAEOAAAAAEyCAAcAAAAAJkGAAwAAAACTIMABAAAAgEkQ4AAAAADAJIa0t7e3GwvRv/iLAAAAwIyGDDGWwN8IcCGovV2qOX3OWCxJsoyJkvWU53XoG45t4FjGREkSxzdAOHcDh2MbOFwXAotzN3A4tt6NjA5XTNQwYzH8jCaUAAAAAGASBDgAAAAAMAkCHAAAAACYBAEOAAAAAEyCAAcAAAAAJkGAAwAAAACTIMABAAAAgEkQ4AAAAADAJAhwAAAAAGASBDgAAAAAMAkCHAAAAACYBAEOAAAAAEyCAAcAAAAAJkGAAwAAAACTIMABAAAAgEkQ4AAAAADAJAhwAAAAAGASBDgAAAAAMAkCHAAAAACYBAEOAAAAAEyCAAcAAAAAJkGAAwAAAACTIMABAAAAgEkQ4AAAAADAJAhwAAAAAGASBDgAAAAAMAkCHAAAAACYBAEOAAAAAEyCAAcAAAAAJjHoA1xhdqaS09yXpXlW42ZSUY5huxwVGreRh+2yi41bSLIqd6Xrc2Upt9q4DQAAAAC4G+QBrlhv7UzVpoJcHXQsr2RIOVluIa4qL0vJWce09pWO7TYt2KPVxhBXlGPYbo3Sd240BEKrcldmaUPCGudz7VglbVjuJRACAAAAgN0gD3ApWl+wSnNdiyakaHGiVFZRYy+w6t13rdKCDGVO6NhsbtYapWuP3ipylFiVu3mPYbsUPbjKorKcNzvCWdGb2lBu0dp7UhwlmrgsQ+nao2c91fwBAAAAgN0gD3AedApYFiUkSNr5d/casmqrKmTRjCmOghqVlktJCeNdt9LEm29Uko6pwt5EsurYMUmTleASBqUULV7gGhoBAAAAoDMCnOTeJ63gBh0syPZY27ba2aetWOuW50urftixXbVVFZISJls6HuhkVWml7f8qKqxS4gQlGDeRpAqrqoxlAAAAAGA3pL29vd1YOKgV5Sg5a4/Ss3O1fo6j0N5vTRYllVtVJkmyaO0rLkGvequWLs9XgtvjOpcXZmdqdUWGdry4RBNdNnMtn9AuDRnishIAAAAIcQ3nLigmapixGH5GgPPAPWS5DDqS1dFvrTA7U6t3qiPo+TnA1Zw+57K2g2VMlKynPK9D33BsA8cyJkqSOL4BwrkbOBzbwOG6EFicu4HDsfVuZHQ4AS4IaELpQUKCRSqvVoUkVRfrrXIpPa0jvEnS3KxsrU2UthXYpwmYYFGCpIpjXQ9E4vbcAAAAANADBDgP3Pqp+RjMpPGa4TZ6pV1ltcqUqsX2WrmJkydLLoOa2FhVUSEl3ZLiVisHAAAAAK4Gd4ArylHyyq1uA4dU5WXZmkaucDRxtI8QmfMrt8m2q/J+1Wm0yswVqdLOfJftirUua4+04IaOqQrm3K61iVZteKljgm/Hcy2+2dMAKAAAAABgM8j7wBVrXdpGbXMrMwxOYleVl6WFOa61cKnaZJxDTh2DoDgtcO87Z2PvV1fu+Lf7a7bTB65fcGwDh74ugcW5Gzgc28DhuhBYnLuBw7H1jj5wwTHIA1xoIsD1D45t4HCjFlicu4HDsQ0crguBxbkbOBxb7whwwTG4m1ACAAAAgIkQ4AAAAADAJAhwAAAAAGASBDgAAAAAMAkCHAAAAACYBAEOAAAAAEyCAAcAAAAAJkGAAwAAAACTIMABAAAAgEkQ4AAAAADAJAhwAAAAAGASBDgAAAAAMAkCHAAAAACYBAEOAAAAAEyCAAcAAAAAJkGAAwAAAACTIMABAAAAgEkQ4AAAAADAJAhwAAAAAGASBDgAAAAAMAkCHAAAAACYBAEOAAAAAEyCAAcAAAAAJkGAAwAAAACTIMABAAAAgEkQ4AAAAADAJAhwAAAAAGASBDgAAAAAMAkCHAAAAACYBAEOAAAAAEyCAAcAAAAAJkGAAwAAAACTIMABAAAAgEkQ4AAAAADAJAhwAAAAAGASBDgAAAAAMAkCHAAAAACYBAEOAAAAAEyCAAcAAAAAJkGAAwAAAACTIMABAAAAgEkQ4AAAAADAJAhwAAAAAGASBDgAAAAAMAkCHAAAAACYBAEOAAAAAEyCAAcAAAAAJkGAAwAAAACTIMABAAAAgEkQ4AAAAADAJAhwAAAAAGASgz7AFWZnKjnNfVmaZzVuZlO9VUtdt80uNm4hFeW4P5+nbWRV7krX18xSbrVxGwAAAABwN8gDXLHe2pmqTQW5OuhYXsmQcrI6hbiqvCwlL/9Qi19x2TYrxW0bFeUoOeuY1jq3WaP0nRsNz2VV7sosbUhY43yeHaukDctzVOiyFQAAAAAYDfIAl6L1Bas017VoQooWJ0plFTUdZdVb9XCOtPaVbGVOcN3YlVW5m/dICzJctknRg6ssKst5syOcFb2pDeUWrb2nI/xNXJahdO3Rs95q/gAAAACAAOeBh4BV+FK+yhJv1C1ew5sk1ai0XEpKGO9WOvHmG5WkY6qwN5GsOnZM0mQluD1XihYvMIRGAAAAADAgwEnufdIKbtDBAteaNqsqKqSkhGo9bOgrt67I5SmqraqQlDDZ4lLoYFVppe3/KiqsUuIEJRg3kaQKq6qMZQAAAABgN6S9vb3dWDioFeUoOWuP0rNztX6OJBVrXdpGbUvM0I4Xl2iifbOqvCwtzLF2bFe9VUuX5yvB+Tg7Q3lhdqZWV7g/l+yDqTjKJ7RLQ4a4rAQAAABCXMO5C4qJGmYshp8R4DxwD1m2AFexKltblrnWrrkMRpKV0imoOfUywNWcPueytoNlTJSspzyvQ99wbAPHMiZKkji+AcK5Gzgc28DhuhBYnLuBw7H1bmR0OAEuCGhC6UFCgkUqr1aFJGm8ZiQat/BggkUJkiqOdT0QiftzAwAAAIDvCHAeuPdTsyghQSp7t7ib/mm2oNdpIJLKapUpVYvttXITJ0+WXAY1sbH3s7slxa1WDgAAAABcDe4AV5Sj5JVb3YJZVV6WVu+U0ld0NHGce0+Gksrz9bDLMP9Veb/ShvJUbXLOBWdR5opUaWe+y6TcxVqXtUdacEPHVAVzbtfaRKs2vNQxwbftuSxafLOnAVAAAAAAwGaQ94GzD1DiVmbxMt+bcdtUbTLOIaeOQVCcFtj7yLmx958rd/zb/TXb6QPXLzi2gUNfl8Di3A0cjm3gcF0ILM7dwOHYekcfuOAY5AEuNBHg+gfHNnC4UQsszt3A4dgGDteFwOLcDRyOrXcEuOAY3E0oAQAAAMBECHAAAAAAYBIEOAAAAAAwCQIcAAAAAJgEAQ4AAAAATIIABwAAAAAmQYADAAAAAJMgwAEAAACASRDgAAAAAMAkCHAAAAAAYBIEOAAAAAAwCQIcAAAAAJgEAQ4AAAAATIIABwAAAAAmQYADAAAAAJMgwAEAAACASRDgAAAAAMAkCHAAAAAAYBIEOAAAAAAwCQIcAAAAAJjEkPb29nZjIfpXe7tUc/qcsViSZBkTJespz+vQNxzbwLGMiZIkjm+AcO4GDsc2cPrrunDX3aXGIjev/m6GsciUOHcDh2Pr3cjocMVEDTMWw88IcCGIANc/OLaB0183aoMF527gcGwDJ1jXhe4CW3fMGug4dwOHY+sdAS44aEIJAAAGlLvuLnUufeXP5wIAfyDAAQCAASHQQSvQzw8AviDAAQAA0wtmsCLIAehP9IELQfSB6x8c28AJVl+XwYpzN3A4toHjr+tCT4NUd33a/P18/YVzN3A4tt7RBy44qIEDAACm5GvYevV3M5xLd3qyrXqwDwDgLwQ4AABgOt0Fp54GMU98fY7u9gUA/KlfA1xzXZ1Onq7TydNNajauBAAA8KC7wNRd4OqN7oJcd/sEAP7SLwGufu/LWro4U7O++ZDmffshzfv2b7VXTdr2aKaS0x7QEx8ZHwEAANB1UOouZPlDV8/P4CYAgiHoAa55b44W/3iXyiJm6P6sRbrWuSZa6belSmrSa3/eQ40cAABw01U46ipY+Vt3r9XVfgJAXwU5wNXprbw9Oqk4ZT6xTg8umKYJrquvm6FbJWnfEZW5lgMAgEGtq1DUXaAKhP54TQBQ8ANcufZ+JElJmu3puhc1QhGS1NCos8Z1AABgUAq18ObQVZPNrvYZAPoiyAEuXMPDjGUuzjWqRZJiRmikcR0AABh0ugpC3sJTsHnbj672faCpbTrjXAAEVpAD3BRdc7UkfaJCTwOVfFquPZJ03RQlGdcBAADYeQtN6B+b9uVrzdsbtGlfvnEVAD8LcoCL0+JlqRqrJr321MsqPN3qXNNSV6ZncwpVr2h99ztzFen2OAAAMNh4q8EKxfDmbZ+8vQcA6K0gBzgpcvYq/eaRGRpbvUurv52jbZKkPXrom0/q+UPhuvYHP9FPrjI+CgAAwHtQCgXe9o0QB8CfhrS3t7cbC4OirlLvvl2owipbLVzsxBlavCBFSaPDjVsOOu3tUs3pc8ZiSZJlTJSspzyvQ99wbAPHMiZKkji+AcK5Gzgc28Dp7rrgLfR4C0mhIlT2OxDnbmlthbHIadO+fNU2ndGM+AQtTfqGcbXTjPgEY5HpBOLYDhQjo8MVEzXMWAw/678AB68IcP2DYxs43d2ooW84dwOHYxs43V0XPAWhYIeg3gqFfQ/Eubvm7Q19GqQkPvoSbbxtrbHYdAJxbAcKAlxwBL0JZXNRjlLTMpX8aKHq3dY0adujmUpOe0Drijr6xgEAgMHFUwAyu4H4ngD0jyAHuFa9+/Ye20Al356rWLd10Ur/9lzFqknb3v5QzW7rAADAYOZLDVZY7QnF/j63T0vkwf3Gp+0xX/YVAHoryE0oP9FP5/9f5bel6Jlda3SLcU64tmKtm79R28JStWnXKs01rB4saELZPzi2gdNdUyn0Dedu4HBsA8fbdcFbTZUvoSjy4H6NeexhY3GP1N+RqfrvZBqLe6wv78MfAnHuOppQxkdfovjoUcbVXlXW1aix9TxNKAcBmlAGR9Br4M63SVK4IozhTZIcZW2GcgAAgmx3ZYkeeus5PV74onEVgixYocefzLjPvhoRMVwz4hN8XuJHXGJ8CgB9EOQaOKtyV2ZpQ3mcMn/9jNYar22lL2vhA7tUlZihHS8u0UTD6sGCGrj+wbENHG+/tMM/OHd7b9O+fO2uLDYW98jG29YqPto/N6iuA0T46zlDlbfrgqeaK1/DkGsNXFPaIrVdOs64iVexv8+V/FgDpz6+l74KxHXBUQM3ddR4XT/e9/exr6ZUn31ZQw3cIEANXHAEuQbOosXfSpRUp9yfbVR+dcdgJc2ni/XEf+xSlaSkW1IGbXgDAHRWWluh3ZUl2l1ZYlxlOpv25WtZfpbHZc3bG5yLcZ3r0peRAEOZp8Az0AyG9xgsYbUnnAswmAQ5wEljF/9vbVoQLdUW66fL71PyggeUuiBTs769Ua8dkyKvWqb1d1iMDwMADGK7Kz/Spn1btKV0l3EVBrhg1VgFgpn33Qxif5+ryx5YprF97PcImE3QA5wUrblZz2jHkxnKuN6iiaPDFTc6TgnXz9XaJzfow42LlOCpfxwAAAFkG5jBfRkXO7pTWXz0JRoRPtz4cAAAgiLIfeDgC/rA9Q+ObeB46+sC/xgM566jr5q/+9A4nndE+HDdlvg142rFRg9TfdMFY7E+q6vRPqutKVxP+8C59rvryeOaWs+psfW81IvXDEWerguemhf2pBYr1PrAyQ/vqbcCcV1w9IEbET5c0eG2v58vHOdubz6/0QXbFfaF5yaSEaX7FXlwv9ouHaemeYuMq538+fdUgI7tQEEfuODohxo4AAAwIny45k2Z5fOSFJ9gfArAo9qmMzpRf9pY7DeNredV23TG58Xxw0NvRBVsV+wbuR4Xx5x9YV+c6LTOdQEGmiDUwH2iDcv+S+/qej2ed40Kl/2X3jVu0sn1ejzve5ptLB4kqIHrHxzbwPH0Szv8Z6Ccu7srS1Rae9RYLNkHMam1zz81o4sgs/r6DGNRl/qzBm5E+PAeDa/e2GK7aVYvXjMUGa8L/qipCsUauMt+sEzz635qLO7xezPqanqL0toKydEs2Ms5Fh99Sa8+L30ZQKc3rznmsYf7PLm69Y0CY1GfDJRrbiBQAxccQQhwxVqXtlHblKpNBTforbSN2mbcpJNUbSpgIm9PuGgEDsc2cIw3avCvgXLuPl74ovPGs7fyMrKNRV1yDVNzp6QYVysmKkwN5zpPTlrbdKbPAa4vevqaoch4XRioAc5yR5rSIn9tLO7xezNalp9lLOqRGfEJ+unclcbikOMIcG2XjlNTmvdmkkaRB/crwh78CHA9F12wXaOe+w9J0ue/zlNbvG+fJQJccAShCeXVevQPz2j3H76v2UrR+oJcHex2CV54K8zOVHKa+7I0z2rczI3tMVnKrTaukVSU4/582Z6+pK3KXen6ml6eCwAQFI2t5/V2+V87LW/8o7BT2dvlf3WGt96Ijx7lNiCK6+K+Xef1nrYDAAwuQQhw4YodHaexo6MVqXI9e+9DWrjsZe01btYvivXWzlRtcg2Pr2RIOVleQ1xVXpZW7zSW2hXlKDnrmNa+4ni+NUrfudHwXPbJzBPWOF9zxyppw/IcFbpsBQAYmJbOmK+Nt631uCxNmu/czrjOdSHEAcDgFYQA56pOVUfrVHWiUc3GVf0iReuNtX0TUrQ4USqrqHEttSnK0cIcae2qVOMaWzDbvEdakKHMCY6yFD24yqKynDc7wlnRm9pQbtHaezqa6kxclqF07dGzXkIjAAwmjv5ovi4zxl5ufAqfzZtynVZfv9TjMs+lSaVxnetCmEJ/mjH2ci1Nmt9puTdlYaeypUnzTX2+Dm1s8HkBBrIg9IFzZa99Kr9G69/+kdJ9H4E2eJy1aNkuQUxS9VYtXZ6vhOxcrZenbWx9/SpWZWvLMpeJyKu3aunyD7XYvm1VXpYW5kzu1MevMDtTq7VGB7NS6APXTzi2vRd5cL9iuhjpKzLcNrljc2vnvkQODXdkqjn5WmMxfDBQzl1HH7j46Es0b8os42qvSmsrVHrSNvhJT/vAdWVL6S5tKbNNHO7P5+1KbdMZ1TbaBonoarCWgWCg9IELqz2hyx5YZix246kPXEHzA87/b0pbpC9/8H/c1nfH0QduxtjLPZ4r3gbg2V1ZotqmM6brA9cX9IHzLKzW8/QMsn+WHH3gTj32tC54+SwZ+8bRBy44glwDZ1HGd6+R9LHeKWoyruxHLn3SCm7QwQJDeFOx1i3Pl1Zla/0c13IX1VZVSEqY7BLenKwqrbT9X0WFVUqcoM6XWkkVVlUZyxAUd91dqrTbinXX3aVeF3gXVntCkQdt8/F4WrS/WNpf3KncdenqiwToD/OmztLvv/uoNvZw3qq+iLePsunphhwA/Cn6ve267IFlHhdHeJM9RBvXO5a+hmv0TpBr4OpUVrBPr21+Wfmnr9GDj9yorxg3kSSN1bVpiRprLA6GohwlZ+1RenauPay59FnLsjen8VRL51pD5xryDOWF2ZlaXZGhHS8u0USXzVzLJ7RLQ4a4rITfpd3maXCZnil4u/OIdYPW9rek9b+w/f+48ca1XTthb6687lFp0WLjWgwiD731nD6ylmtc7GjdNv0G42qvPrKWa3/N/0iSCv/lKeNqmISn63KPr7P7S6T/vdr2/wvTe3Y9esk+LP89K6V77jOu9e5EjXTXt4ylbrqrgdOixbZrYA/M/c8fSZKuHf8VXWdJNK726u3Df9eJ+tO6zpKoZxb/wLg69PzvB2w/AvbFX0Jj5IWQ89ILHed9b/3fTdK1HS0mGs5doAYuCIIc4BxTCnSnf6cRcA1TysvSwndvdA9cQQhwNKH0v0DWovW0mc9A4zrccGP6Ul0cEeO2PtZ+Ma8/596cZ2hjg0Zs2yJJ+vIH/6dHQ0Sjw0C5LoRaE0oNoGMbimhCSRNKX8T+PtdrC43I0v0K+8K2rqvvj54e2+4MlOtC7O87Jjo//9WbjKu9GtrY4Jyi4dRjT7t1f6AJZXAEOcDVqaygTN2PmN+PNXD2kSYd/dQS8rK0MKeLwUUSHWGsqz5wHQGuyz5wBLiA8HRTECg9vdkYKAhw/SvY1wXXiXz9OSACAW5wGSgBrjuRB/cr498jjMU9fm9GgyXAdWXUc/+h6ILtart0nD5/Ls+4OmAGynXBNcAZv7e74jpIDAGufwS5D1ycktJSdUu3S/+FNxn6qU1clt15nrrsVEkW23QBzpq08ZrhafTKymqVKVWL7bVyEydPlnRMFW4p1qqKCinplhS3Wjn0TX/0XeuP1ww14Z+Vd1pUflgqP9ypPPyzcuPDYQKb9uVrzdsbtGlfvnEVEDKG1Z7odL3pagmUQA/OVNv0pe1HDMPykbW8U1lpbYWaWs0fPBza4sep7dJxuuDjJNPwzjiKZ1cL+l/wAlxLrQrzXta6R36mFb94Wbl7a/t/KoGiHCWv3Oo2cIhjnrf0Fe5NHLtnUeaKVGlnvsuk3MVal7VHWnBDR23bnNu1NtGqDS91tOeuyvuVNpRbtPhmTwOgoKd6E6Je/d0MFbydold/N8Pr0hO92YeBIuLgfg3/2wdui/5aKP21sFO5owkGAHi6zvblOurpWtTVEkye3mtv1TadUenJo52W/TX/06ms9ORRNbaeNz6FadV/J1OfP5enU489bVwFDGjBCXDnPtETy9dqdc4ubdtXqb27dmnDj9dqwWN7dNK4bTDNuUHp5flamGYfgTIt0zbP2yuGfmy+mrNKB7Mna8Nyx/Nt1LYFLoOfSLag92K21lZsNLymceRL9IavX/a9CWe9eYyv+wMAGJj4HkCoarvUVoPpaenNdgieoPSBK9u8Vkt/WytdsURb/v0WxbeUK2fdRr12TJr9yDPavDjO+JBBjXngeseXL8mugldvj21fX3cgcO0D11v0geu93p67veXoq+bvPjSO5x0RPlzR4b5PFNrUes5Zq0AfOPMw9oGTl+tpT66frn3gesvffeD6+p56Y83bG1TbdEbzpqRo9fUZxtXoo8FwXXD9Xv/813md5nvzhj5wwRGEAOeYvDtO9z//jB68wl780Wal/qhQ9Vcs047nF/WwueLARoDrOU9fkK58+bLs67Htbh/k436YkWMeOE/Cvjjh7CTdlLZILV76gzQnX+vzF8Rg4+3YOowZGalTZ7tulN7TfjiuA5UYbdqX7wxwXd0c9nSAE0eA6wsCnHkEIsB1dS2SfdALBfla1Nf31BsEuMAaDNcFAlxoC0KAc0wdYJgaoK1Y6+Z7KAcBrgc8fTG66smXpL+OrT/3aSBw/UXcOFoVfGO5I81Y1CPNydf2uI+I4wawt+KjL+nxBNib9uX36TUl+bVGUH68LqAzXwOc/HTdDKs9obH2a1H9HZlBqfEP5PvpCgEusAbDdcH1x5CefFYIcMHRfwHOazkIcL7x9sXo0NMvSH8eW3/vm5kR4PpusAS4UOTP6wLceQpw8nL9NOs1s7/eCwEusLgueEeAC47gDGICBFkwviC70t3re/pSD4bS2go9XviiHi98sU835+gfF0fEdOpA3nbpOGnc+E5lbZeO69G8PgAAwByCWAPXE4O7Vo4auO51FYC6C0/eBOrYetvX3u5nd2qbzqi01japsVFp7VHtrrRNYbE0ab7iR3juozQj/vIe91/yhhq4vuuPGrjdlSWqbfQc8h0TAXc14Xb8CO/rzCRQ1wX0rAZOAbxmBkp/vg9q4AKL64J31MAFRxAC3CfasOy/9K6xuEvX6/G872m2sXiQIMB1LVBfioE8toHaZ0+2lO7SlrJdxuIe+enclZoRn2As7hUCXN/1R4DriiPcDZSQ1pVAXhcGO28BTl6umYG4XgZSf74HAlxgcV3wjgAXHEEIcOipwR7gXH/5Xzpjvts6T1+IDn39Ygz0sfW2733dbyMC3MATagFuMAn0dWEw62mAUwCul4ESCvvPuRs4HFvvCHDBQR84hJzS2qPaUrZLuytLjKu8CuaXIhBspx572uvimEjVEdI8LV/+4P8YnxIIaQPxmj4Q3xOA/kENXAga7DVwm/bla3dlcadR7Pr6i2bs73MVvXu7sdgpbOgQtV3s+uNw8rGnfZ4LxZO+vgdfuNbAXW/x/XmbWs6p9KSt75w/a+DCak/oslHDJUnW8FHG1eijy36wTGFfnFBT2iKCWgAMhmtuf+mqBk5Bul4GQqjsN+du4HBsvaMGLjiogYOp9eQLMaz2hMK+8L7oRE2nMuPSVz3ZX3+YGjfe58XbgCZ91RZvGyVR48YbVwGAV8G+XgKAWRDgYAreftHsrdapiZ0WJU7vVNY6NdHZRC2Q/P3+AGCgCuXrpbd9I4wC8CcCHEyrt1+IF0fE6PxXb+q06GtzO5Wd/+pNtnDnR73dbwAYbLxdL70Fpf7kbZ+8vQcA6C0CHPqFba6yCo+L6wTTpbUVXr8UB5rB8j4BAADQewQ49ItN+/L1eOGLHpfS2grJHvIeL3zR+FBJ0sV//p2xyFT4RRb+cvKxp6VX/8QAJhiwvF0vQ+lHL2/74m3fAaAvCHAIaUP/eLexaEDzdhPQW42t53u0wHycg8QAA5i3IHTX3aV+v272lLfX97bPANBXBDiYjtlr3xyC8eX+dvlffV72WT3fhABAqPMWogKtv14XwOBGgEO/GhE+XDPGXu51AQBAPvzoFcww1V3NX3f7CgB9wUTeIWgwTOTt2tfNG2/NJx01cHkZ2cZVXRr13H8oumC7Lo6IUWP6UuNqxUYNU/25C8ZihX9WruF/+0CS9Pmv8/o0kbeRtxuAvnz52waC+dJYLEkqrT2q3ZXFkqSlSfO9zv02b8osY1GfdDdhL/pmoFwXQhHHNnB6e13wdt106Mv10xf9/fq+4twNHI6td0zkHRwEuBBEgLPxFOBcm0+aPcDZRt08qj9kd+6/FKgbgNqmM6pttI3yOSM+wbg6YHp7owbfDJTrQiji2AZOX68LwQ5S3b2eAvCafcG5GzgcW+8IcMFBE0r0i3lTZmlp0nyPS3y051oh2WuNHIvZ1TZ9qS1lu4zFARUffYlmxCcENbwBQCB0F5a6a+boK1+fp7v9AQB/oQYuBA2GGriubNqXr92VxR5r4PryBdkfNXCOWjZPapu+9Po+v51V4/z/eVNndRlqzaCvv7Sja4PhutBfOLaB46/rgi/hysHX75BAPGewce4GDsfWO2rggoMAF4IIcAMnwG0p3eVTLZvxvbo2Ff3p3JWmrzHz140aPBsM14X+wrENHH9eF3oSuPypL99Jgca5GzgcW+8IcMFBE0qEJGOgUYh/Ufqbp/cPAPDs1d/NCOp3RLBfDwBcEeAAAMCAEOhgFejnBwBfEOCAIJk3ZZbXBQDgP46g5Y+w5c/nAgB/IMABQRIffYnXBQAQGL0JYL15DAAECwEOAAAMCq7BrKsFAEIZAQ4AAAAATIIAh5ATHz3KWAQAAACAAIdQtHTGfGMRAAAAAAIcAAAAAJgHAQ4AAAAATIIAh5DkaRSwu+4uNRYNWDc/PHjeKwAAAHxHgAP62R+yxxuLAAAAAI8IcBiUIg/u77Rof0mnssiD+xX2xQnjw3tlX02px8WT0tqjxiIAAACAAIfBZ2hjgyIO7u+06OOSTmURB/cr/LNy41P0ymdf1nhcPKltOmMsAgAAAAhwMBez9YOLH3GJ4qM9L5I09I93Gx8iSZ22AwAAACRpSHt7e7uxEP2rvV2qOX3OWCxJsoyJkvWU53UDkafA5mmAE1+Meu4/FF2w3VjcI5//Ok9t8eOMxb2yu7JEz/+/w43FvX5/ocwyJkqSBtW5G0yD7boQTBzbwOG6EFicu4HDsfVuZHS4YqKGGYvhZwS4EESA6+DPABdWe0LDvPRniyrY7gx3px572rjaqTn5WmNRr9U2ndFD/9K5CWVv318o40YtsAbbdSGYOLaBw3UhsDh3A4dj6x0BLjgIcCGIANfBU4BTAEJO5MH9GtN0Sl82tqopbZFxdUAE672FAm7UAmuwXReCiWMbOFwXAotzN3A4tt4R4IKDPnAIacEKM83J10qLFgctvAEAAAC9QYCDKXmrvTILb/sfrMAKAAAAcyLAIeQRagAAAAAbAhxMy1stVqjztt8EVQAAAHSHAAdTINwAAAAABDiYnLfarFDlbX8JqAAAAPAFAQ6m4S3keAtFocYs+wkAAIDQRYDDgGDmcOQtmAIAAABGBDiYilnDjreAadb3AwAAgP5BgIPpeAs93kJSf/O2X97eBwAAAOANAQ6m5C383HV3qdfA1B9CaV8AAABgfkPa29vbjYWDSWF2plbvdC9LWpWtLcssHQXVW7V0eb7KXDdasEYHs1JcS2yKcpSctafj3x63syp3ZZY2lDv+bdHaV7KVOcH2r/Z2qeb0OZftO1jGRMl6yvO6waa7cOQt5Hnjz2Pr730zO8uYKEny2/GFO3+eu3DHsQ0crguBxbkbOBxb70ZGhysmapixGH42yGvgivXWzlRtKsjVQcfySoaUk6WleVbnVlXvfyityu7YpmCN0nduVHJ2sduz2cLbMa19xX071+dyhreENc7n27FK2rA8R4UuW6F73YWg7kJUoHT3ut3tNwAAAODNIA9wKVpfsEpzXYsmpGhxolRWUeMsmrjMUCOnFK3PTpV25iu32lFmVe7mPdKCDGdNmpSiB1dZVJbzZkc4K3pTG8otWntPR63cxGUZStcePesW9OCLV383o8tAFMwmlb68Vlf7CgAAAHRnkAc4DzwELE+qjh0zlNSotFxKShjvVjrx5huVpGOqsAc92+MmK8EZ8iQpRYsXuIdG9Ex3wciXcNVbvjx3d0ETAAAA8AUBTrI3a8xUclqmkgtu0MGCjv5onln17rtWKfFG3eLYrtqqCkkJk11r6hysKq20/V9FhVVKnKAE4yaSVGFVlbEMPvMlIPkStnzl63P5sl8AAACALwb9ICad2AchSc/O1fo5xpU2VXlZWphjdd/GPtBJgvFxhvLC7EytrsjQjheXaKLLZq7lE9qlIUNcVqJH0m4z9E30QcHbXde4KoDPCwAAMBA0nLvAICZBQIDzwFvIkjoCnreRKv0V4BiFsu98qR0LFGrd3DHaXGBxXQgcjm3gcF0ILM7dwOHYescolMFBE0oPEhIsUnm1KowrvIU3SZpgUYKkimNdD0Ti9bnhd/3V76w/XhMAAACDAwHOA0/91KrysryHN0nSeM0wjF4pSaqsVplStdheKzdx8mTJZVATG6sqKqSkW1I61/ihz4IR5ByvEejXAQAAwOA2uANcUY6SV251GzikKi9Lq3dK6Ss6mji69nnzHN4kyaLMFcapBYq1LmuPtOCGjqkK5tyutYlWbXipoz9VVd6vtKHcosU3e3tu+IO/Q5a/nw8AAADoziDvA1esdWkbtc2tzKK1r7iOQmmfeLvcbSOnTjVy9maWTgvW6GCWcSAL43O6v2Y7feCCzpf+cgS13qOvS2BxXQgcjm3gcF0ILM7dwOHYekcfuOAY5AEuNBHg+gfHNnC4UQsszt3A4dgGDteFwOLcDRyOrXcEuOAY3E0oAQAAAMBECHAAAAAAYBIEOAAAAAAwCQIcAAAAAJgEAQ4AAAAATIIABwAAAAAmQYADAAAAAJMgwAEAAACASRDgAAAAAMAkCHAAAAAAYBIEOAAAAAAwCQIcAAAAAJgEAQ4AAAAATIIABwAAAAAmQYADAAAAAJMgwAEAAACASRDgAAAAAMAkCHAAAAAAYBIEOAAAAAAwCQIcAAAAAJgEAQ4AAAAATIIABwAAAAAmQYADAAAAAJMgwAEAAACASRDgAAAAAMAkCHAAAAAAYBIEOAAAAAAwCQIcAAAAAJgEAQ4AAAAATIIABwAAAAAmQYADAAAAAJMgwAEAAACASRDgAAAAAMAkCHAAAAAAYBIEOAAAAAAwCQIcAAAAAJgEAQ4AAAAATIIABwAAAAAmQYADAAAAAJMgwAEAAACASRDgAAAAAMAkCHAAAAAAYBIEOAAAAAAwCQIcAAAAAJgEAQ4AAAAATIIABwAAAAAmQYADAAAAAJMgwAEAAACASRDgAAAAAMAkCHAAAAAAYBIEOAAAAAAwiUEf4AqzM5Wc5r4szbMaN5Oqt2qp63Yrt6rKuI0kFeW4P192sXELSVblrnR9zSzlVhu3AQAAAAB3gzzAFeutnanaVJCrg47llQwpJ8s9xFVv1dLl+UrIdmyXrbXK10JjOCvKUXLWMa19xbHdGqXv3GgIhFblrszShoQ1ztfcsUrasDxHhS5bAQAAAIDRIA9wKVpfsEpzXYsmpGhxolRWUeMsKnwpX2WJGXpwjqPEoswVqdLOfJeaM6tyN++RFmQoc4KjLEUPrrKoLOfNjnBW9KY2lFu09p4UR4kmLstQuvboWU81fwAAAABgN8gDnAedApZVFRWSEiya6LrdnBuULqtKKx0FNSotl5ISxrtupYk336gkHVOFPehVHTsmabISnCFPklK0eIF7aAQAAAAAIwKc5N4nreAGHSzIdqlF8xzMHCqO2WvNqq2qkJQw2WLcRHIJehUVVilxghKMm0hShdVzvzoAAAAAkDSkvb293Vg4qBXlKDlrj9Kzc7V+jiQVa13aRlWsytaWZa7hzFDu0k/O9jg7Q3lhdqZWV2Rox4tL3Gr0XMsntEtDhrisBAAAAEJcw7kLiokaZiyGnxHgPHAPWf0T4GpOn3NZ28EyJkrWU57XoW84toFjGRMlSRzfAOHcDRyObeBwXQgszt3A4dh6NzI6nAAXBDSh9CAhwSKVV6tCkjReMwyDmng0waIE1yaVXrg/NwAAAAD4jgDngXs/NYsSEjz0T6u2qkIWLb7ZUSvnJehVVqtMqVpsr5WbOHmy5DKoiY1toJSkW1LcB0oBAAAAABeDO8AV5XSakLsqL0urd0rpKzqaOM69J0NJ5fl6tsixlVW5P8tXWeKNusU52ImnqQWKtS5rj7Tgho6pCubcrrWJVm14qWMOuaq8X2lDuWsYBAAAAIDOBnkfOFs/tm1uZRatfcV1FEo7e1+2Mse/Ezv3Y5M6BkFxWrBGB7M65nyzsU/mXe74t/trttMHrl9wbAOHvi6BxbkbOBzbwOG6EFicu4HDsfWOPnDBMcgDXGgiwPUPjm3gcKMWWJy7gcOxDRyuC4HFuRs4HFvvCHDBMbibUAIAAACAiRDgAAAAAMAkCHAAAAAAYBIEOAAAAAAwCQIcAAAAAJgEAQ4AAAAATIIABwAAAAAmQYADAAAAAJMgwAEAAACASRDgAAAAAMAkCHAAAAAAYBIEOAAAAAAwCQIcAAAAAJgEAQ4AAAAATGJIe3t7u7EQ/au9XTrb1GosliTFjQhXXaPndegbjm3gxI0IlySOb4Bw7gYOxzZwuC4EFudu4HBsvQsbOkQxUcOMxfAzAhwAAAAAmARNKAEAAADAJAhwAAAAAGASBDgAAAAAMAkCHIDAqd6qpWmZWldkXAF/KMzOVPLKraoyrkDfFeUoOS1LudXGFegZq3JXZio5u9i4An7ANSCA+P5CCGMQE7+zKndlljaUO/6dqk0FqzTXfaMAMb62vL5+VV6WFuZYOwoSM7TjxSWa6LpRKCrKUXLWHuc/k1Zla8syi9smgVKYnanVO93Lunr9qrwsLXz3RnMcV4+KtS5to7YZiyWv51Un1Vu1dHm+ErJztX6OcWV3PJ3PUnqvniv0eDqfHHx9j4XZmVpd0bfPrvt+WLT2lWxlTnDfxmw6Xd9cdPWZdVOUo+SsY70+HsZ98Pl1Q4ofrgGOz3HCGh3MSjGu7AHbvsjTZ8N+nSlzLVvQ19cLPOM54srX88Uf1wA5nkeejpnn67AU4vcNns4JB1/3u0/fXx26vhfofHx9/dtjkGtHwBx/7V/bZ8zb1L7buCJQqt5sz/hfb7Yfdyna/W/3dNqHzmXV7b/5X/e0zzA8NrTta1877572jNeqjSsCZF/7WuPfsurN9gyv+2DbP3MdUyM/HGP7MVr7V+MKH3g4n9v/uql9Rm+fL8Ts/re+nx99ew77Ofpv+4wrTM8v196/bmqfMe9f239TZVzRvU7X2C6vFaHMD9cAx/dLH88z29/U82f/+Gv/athHc5zb/jhP+3YNsLOfn56Pl3/+fkHXl+8eB388R5f3Ah7OU9NeKxBsNKEcSCYs0RbDLzxzs9YoXXv0bJ7jV75ivbVTSlp1u8svpxZl/jxDSeUf6l2aC3mRovXGX5snpGhxolRWUeNSWKx1aZlK9vqrNXzm4XzWnBuULqnimOdfreG7wuyN2maCWgrTqd6qZ3dK6dku14sJS/T0KovKct5UofvW6EZVXpaS0zK91lRJ0sRlxhqLFK3PTpV25tMEtiv2JoLJ3mqq0Ac+3AsU/V3bZNHae1yuwY5rxbvFNItFlwhwQeX4QLsuhj4WzjbXhm1723+g2qoKt4LxmpGozheHymqVabISetFUKFQUZhuPbaaWOoOr3PpiuG+b07ubqqI3taHccPFVitYX5OpgQa42LXApHsAcN1hdn6v+OZ+r8vK1Tal6cLA0LynKcT+2Xvq6VLj9DXzot+UIGWmDObwZr8dejlul/SbXvrhfUzyorFaZLJoxxb144s03Kkl79NYA7E/j2zXAeI327bo7cVm2Dhbk6uArGUoyruxC1bFjxiKT8u087fE1QPYfyQpydbAgW2sTjSsHA/s9gcvx9dzfrTffXz7cC0yZoCRZ9db77teUigqrlGDx0NwS6ECAC7pUbbJ/qG0fbKs2LO/8RbYt6+9a7NxujdJ3buz+xsGDqvc/VJksWnyz44bXUduWr4WOm5HqrVqatcf9F2OTSs/uOLYHs1NVlpPV+YK8c6PeSnP9G+zRai83xp25XPALbtDBgt71jzGTshzDzZnLzUFhdqatbb/zXM3W2oqNnb7g+nY+d3x5Pqwf6qCxJtTM7J9D1+PrOC5VeVlKzpL79SIhXwuN52p5vp7VD53b7Fglj9cUN5XVKlOqVOD+2t4Cojnt0WrDsXWel9VbtdTen6rjejFZG5Ybb3yt2rBZetqxzSsZkqdrygDnj2tA3667PWXVu+9apcQbdUvIX5/9cJ725hrQUzs3uu2jWT4D27IMx9b5w0Gx1qVl6a1b7D8Q2D/fFVmd31vfvr+64KyZz3J+pqrysrR6Z6o20TIC3SDABVXnZnhz78lQko6pwvBrmXuYStHiBcamej6o3qqHc6zSggz3kDHBogRJSrRIOVn25hOpWtyHTrqhYG6WoaPxnNu1NtFDc7sFa9y2m5uWKpVXG2oqvbEo80X7hTzt76b6IuutpFUuX3D2G7TMCY5aHIvW/ty1maNFmStSpZ1/d7t5MJ7PD/aoiUjHL5lP61e+/7psBokZLje+tsXWFKxYz+ZYO/2oMvceD02dEzP0tEuN5MRlGUrvpqbHVjuxR3K5oT5YsEbp5R4Comm5/1h2sCDX2Vy08KV8lRmuA7brhfHXcMP5PWGJHlwgbSvo4hd4+/Ns+Jn7cbT9mGZO/rgGdLruejqX/aQq71faUC6lr/A0aESo8cN52otrgO9cvvPsy45VFm3zEHRCkduPugW5zh8Aq/Lytc1w3Lx9vvv2/dW1iZMnS5KSEqUNy+1NhRfcMHB+pETAEOCCzlAVH7C258VatzxfZYkZ2uH2S45tJK+KVdk6+GK2S/OJPVo9AG6M3ZvoeBk5y1/mrNKmBdK2zQPlhreHKqtVJqs2LDf8wukySqg3EydP7kFo7jBx2Q9tN8cvdXEDPRDYmz53+vXYp+uFrZl0px8uOjH+aGPvNxSgm+rQYVVFRecaBV+vFwkJFqnC2sVn3qLMF7O1Vu61qw9XTO5RE0BT6MM1wPZDolWllcYVfVSUo4U5ViWtyu7TyIH9ry/nqa/XgN6xXYfN/d1XUWH12ALC28jArnr7/dWJc6TbXG150aWp8M6NA6w1BAKBABdMRTlKdoQnx69BPWzX7xv70M+ehsq1d5rtaFIp+w3HGqV7aIttHrZgvLrCtUYj8O36ExIs/rmQm5aHX49dfuX0P4sSEtTNDfRAYdHaV4zH1XZe97XZruNX38Gsc62SbfHP8N2day22pGlAtHToLNjXgC7Yp5kZSMOwB/Y87S37ddjsFqzpdFwPFnTUgAZaYcGezs18JyzRlkHxQxr6igAXaIkTbM0VnR9WQ5W9v9nbzHsMb+roNOv3Xz37ScJk+7F0jObk1pQn8CoqrG5/40FlyoReD8pg+yz05rjZf5Ue6B287bUTvfpBpbpYb5W7fDY86cPfzvxsN5+9awJl71vV4/PPqtzNewZe06i+nEf2a7ZxsJfesvUZHUjhrQ/nqS/XgD4x/3U4IcHSuZmvj3r//eWOH4DRFwS4gOn8Rd/5w2pV7s98aRLlI8fElQvW6KCn8KaOoe+3Zbl3cC7M3miu0f2MX/4egqmjH4RfFOV0atJg62xsln4WAeDoL5BlbHpbrHVdNf8oyvHpuFXlZXUaCKEwO8vDyJ8Dkb2fRacBM6zKXdnV4AT2a0pihh7sqqbH+bdzfa5ircvao6RVP+xzDV+os/W/ytdCw/lVlWc83u5s15Senn+OiXoH4MAEvb0G2M+1Tv2ze8kxIXZ6dn/XTPlX785TH68BvirK6XQd7t3nILQ4+gl2GkinKKfrAUp8/P7yhWNk2tVux9e/nw0MXEPa29vbjYXoJUeAcvzbwxxLhdmubawtWpt9o97K+lCLX+noFL50eb4Sst0H5CjMztRqdX4+V44vMY8MNXLu+9F5fSjqdOwcx8zB3nzGIWnVGi1+d6PeusXxi6z9RirBcByLcuyj/XXV5MfeLNWtzMM+eNxO9mZGXT1/KOroL9nVTZGn8875K3j1Vi1d/qGUaFWZS5hON5zfHhk/T5JJj6Nnhdn2Jr9dfe4M57Tkfl2xPYdFSeXWjuPUg8+y8W83UGovbO9rcjfniqfPqsv5Ze+fkuR27nr6zHvQ6Vpk1uPqh2uA/br7liwqK3fZxsP3oyeenlsent/bj3WhfOz9cZ726Rrg8RpreLzHbUxwHfZyL+XO07nj8hnvy/eXx7+bPBy7ztuF8jmL0EGAAwAAAACToAklAAAAAJgEAQ4AAAAATIIABwAAAAAmQYADAAAAAJMgwAEAAACASRDgAAAAAMAkCHAAAAAAYBLMAxc0niaMNE7oaGecvNfDhKedJuL2NMGsWSfgBAAAAOARAS5Yqrdq6c+kp19coon2IlsIMwSqohwlZx1zCWPFWpe2URWrsrVlmcW+UbHWpf1di10eV5WXpYU5cgtxVXlZelg/dHmcl9cEAAAAYAo0oQyWCUu0xSW8SdLcrDVK1x49m2e1l1iVu3mPtCDDpSYtRQ+usqgs500VOh+ZovWGADZx2Q+1NtGqDS8Vu5S5hj6buWmpko6potqtGAAAAIAJEOD6U7VVFW4FNSotl5ISxruVTrz5RiV1G7psj+2ap4AIAAAAwCwIcP2o6v0PVSaLFt9sryWzB7qEye61ZjZWlVYay1wU/V3bJKWnufeVs63LUXJappLTfiX9PLdTfzoAAAAA5kCA6y/VW/VwjtVPtWHFWpe1R0rM0INzjOskzVmlgwW5OljwQ+lnmUpeuVVVxm0AAAAAhDwCXL8o1rrl+SpLzNCOPteGWZW7cqO2KVWbDH3sOrMo8+cZSirP17NFxnUAAAAAQh0BLuhso0puS8zQDmPgmmBRgqSKY45BTbrjmJqgB6NK9vg1AAAAAIQKAlwwVW/VUm/hTZI0XjMSpbKKGvfiymqVKVWL3ZpHFmtdWg/Dm7rrZwcAAAAglBHggsUxqfaCNTroMbzJ1sRxRaq0M1+5zhEn7f3bFtzgEtJcavG8hjercldmap1bU8mOppse+8oBAAAACGlM5B0ktom2vTRbNNbIFeUoOWtPx/oFa9xHjjSud9NRI+fxNY3PBQAAAMA0CHAAAAAAYBI0oQQAAAAAkyDAAQAAAIBJEOAAAAAAwCQIcAAAAABgEgQ4AAAAADAJAhwAAAAAmAQBDgAAAABMggAHAAAAACZBgAMAAAAAkyDAAQAAAIBJEOAAAAAAwCQIcAAAAABgEgQ4AAAAADAJAhwAAAAAmAQBDgAAAABMggAHAAAAACZBgAMAAAAAkyDAAQAAAIBJEOAAAAAAwCQIcAAAAABgEgQ4AAAAADCJIe3t7e3GQvS/9U89Zywypbu/v8JYFPJ+99vNxiIAAAB0Y92PfmAsQgBQAwcAAAAAJkGAAwAAAACTIMABAAAAg0SJtUzbDn+gbYc/MK6CSRDgAAAAgEGivuWcahpqVd/SaFwFkyDAAQAAAANMQ0ujSqxlKrGWqaGLsBb93nbFbH1dw/cVGVchRBHgAAAAgAGm2HpIJSc+VcmJT1VTf8pZ3tDS5PL/jRpWc1zDrMc1tP6ssxyhjQAHAAAADDA1DbXO/7fWn5Tsga2moVYjmy/o6qPVGr7vQw1paXZ5FMyAAAcAAAAMInEtrZpjPa2x/9ivIc3nneVD6+tUU1+rmvraLptdOgytr3MuCB4CHAAAADBIzBp3pcZEjTIWK+LwARWfOqptRz7QtiMf6C0Po1TGbH1dI199QXV/ytWXJe9r5KsvOJdw63Hj5ggQAhwAAAAwCMREjNAsS5JunHiVcZVPhtaf1dD6Or0xOU47m084y4sso/Xn04f0t+Ofum2PwCDAAQAAAIPY8dgovX6lRYfqO0KZr47HRqlowiWyttTr6JmePx49R4ADAAAABpFWyyQ1pS1Sy5W2mri6yHAdj41SQ+s546YIQQQ4AAAAYJBpuWKmLoybYCx2ShmfZCzSubRFalxyp66PsWjEqHj9eeE3NGRppmIioiVJIyKGGx+CACDAAQAAAIPQBcskNS65U83XftWtPH3aTZo2ZrJbmew1d62WSbp2+mylJ6Vp3tRZiokYoWUzF2rlrH/W4itTjQ9BABDgAAAAgEHoYmycWi2TFH3pBMVERDuX8bHxxk0RQghwCIh3/vtPeue//6R7lt1uXBXS7ll2u3PfAQAABoPxsfFaNnOhc0FoI8DBrzyFH7OEOON+Gt8HAAAA0N8IcPC7d955x20xA0d4M+43IQ4AAISymvpa7f6sRLs/K9GRU8eMqzEAEeAAAAAAk6qpP6kjpyt15HSlimvKtPuzEuUd2KHGFqYEGKgIcAAAAAPU8H1Fitn6uqLf2y5JGlpf51xgbg0tjaqpr1V9S5MkaVL9OV3xxZdqqqtVQ0uT2tVufAgGCAIcAADAADS0vk7Di4s0zHpc4ZXliv3jqxr56gvOBeYR/d525xJuPS5JOnzymLYd+UBHTtuaTSafbNDXjxzX0C9POR83MjJG00ZPkSV2rLMM5keAAwAAMLma+lrn0tDSKEkKqz/rXD+k+bzCvrC6PAJmUGItU+n/lCji8AHn0hOXjRijeVNneZzTDeZFgAMAAOgl1+D0ecPJTkEq78AO5R3YEdDBJWrqa7XtyAfO5fDJwL0WgmPb4Q+07fAHKjnxqQ588T/G1R6NiYozFmGAIsABAAB0Y/dnJc6bakcYMwanY3UnnP///oEClRz7hxpamtTQ0qTimjLnc4189QWNev6XGvX8LzV8X5GG7ytS1F/fU1zurzTyd89r5KsvOJvJdafEWqZtRz4wFkuS2mJH6uxd96lp/mLjKoS4moZa1TTUOv9dZBmtk1Mv1/mUOWq1TJIkjY8dq1njrnQujgB356dWPVzdopWz/lnzps5yPgcGDgIcAACA3ZFTx5xDspdYy2z9yPYV6cTpKudNdX2zrYmiN3Oqz+hfPqlUeMVh4yo3v7zhK/pta7WGFxcp8kCxhjSf19DG+h4NMHLY3v/Jk4uxcboYG6eWxCvVuOROtU6f6bY+3Hrc56CI/hM+aoxqr7pWtXPm6vz1c5zl42PjNcuS5FwweBDgAAAA7Kz2IdlnFX2ob2zdppGvvqDhxUUa0txs3NRUWi2T1Pj1Rfry/kfUYg9yhQfe06YT+/RiyR+17XBHLZ6nATPQf6bEjde8qbM0PjbeuMrNBcvEjv8fb6ulw8BEgAMAAOilmIho5xI1bLhiIqJ1cvQoSdKk+vOa0XRR00ZP0fgY7zffx2OjjEWK3P83RRzq2YAV00ZPVvq0mzR9bN8GrHAdMCOMABcU0e9t18hXX1DcS88p5s3Xjat90nLFTJ296z6dves+t5o6DDwEOAAAAIO6yHDVR0ZIQ223SnEtrZpwIUzjY+IVGzlCsjdhWzZzoXOZeVmils1cqLlf+7YkaebJs/rGcFvtiWtfpIYl39HZu+5TbHiUzkYO09uXX6rPZ93gXC9Jw44f1fDiDzs1pxy+r0jR723XX/e8qddL3nSbrDk2IlrjY+MVE2HbP38IO/WFIg4d6LQfg4FjnrVTJ46qrvwf2n94r17/+L/1+R//S+Ev/UojX31BMVt7F7aMhjbY5uYbcv6chtX0PjQ7ms1iYCPAYcAJqz2hyIP7FXlwv8JqT0iSapvOaM3bG5xLaW2F8WEAEBCOiZT9daOH4Nh+ebxeuf4KNabfocYld2rxtJuVnjRP6dNv6vOQ7I6b7LlTUzRr3JVKnDJTMRMSjJt5DE3Dao4r4vABNTQ3qF5tale7c64vR7D0p/DPyhVdsF0RFYc97o/ZOfo8bi8v0pFTx9xGC62pP6VtRz7Q539/T1N27dC5zw6pvq1Z0efOa8T58z4dD9eRSPMO7NA/Pj/iHAzHtdkq0BMEOJjO7soSPV74on68a6N+/O5GbSndpd2VJc71Yx97WGPsS/R72yVJtY1nVNvUsQCAv5VYy5w3Zbs/67gmDas5rmHW42o436Cm05875+iCObRaJjmXntRsfHn/I/ry/ke6bMrmOgiFJF2wTFLbmEuNm3Wrp3N9tV6RrKa0RWobN8G4yqvhe3Zr5Ksv6IvPSp2DvOz+rMT053NxTZmOnK5U1dnPtbuyWLsri3s05cPQL08r+r3tXpu71jfbRiGdYv1cq/76D4X97X3nYDiuo0waLTpaq29EjtO8KSkazyTcMCDAwTRqm87YwtpnxSqtrVDllzWqrKvRljL3AGfkGvCu+6JOz/zloFKeXq8xjz3srKEDgL6qaTjlvClraGlylg+z9yH6/cSReutQoYb+4WVF/Ol3itn6ekgMEOGodThdXKj2gyWDtrmc7LUlF9ovGIuDotUySQ1L7lTjwm+qKW2RzqfM0fmUOT0Kjb5qtUxSyxUzde2VqVo2c4GWzVygeVOvc653vLYn9W0tOnK60rk4DK2vc45qGQrnta9cP6ve1EUO09nIcCk83LhKQ5saFXH4gIZZq4yreuRiTJwuWCbpgmWSzqfO0+QFdyoh+UZNGzO528FLMPgQ4BASogu2Oxdvoaq09qi2lO1S6cmjxlVenTnysVvAG9fYrOu+qNMlhz9V5MH9xs0BICDORobrbOQwxbW0ylLXoOjPTziDXX9qaGnU7spifXR4rxL2/U2XfPAXRRds17DPawZdiCuxlinvwE4dPVNtXBVUF2Pj1HLFTJ2/fo7H2ruW6cnGol6LiRjhtjg4Xrtl+ky1Jkx3e0zk/r+5/dth+L4PNWLr6xqx9XVFFhcZV5vCuJgxmjZ6imIi3AeVOTg2Vv959WSNvfprmjXuSh1J+4b+siRdF+zzsXnS0NJoG93TMEffpPpzmlN9xjl3m0PT1xepYcmdalhyp85fc0NAgjsGDgIcQsKo5/7DuTiaPfpDxJFSt3+Pj6EZAoD+d2DsSP3yhq84h3D3ZzM0x8ALjsWVo6y714ve9ZZGvvqChp2odjb7ND7GUdbQ0uhsOnpsR56a3n9bw/cVhWQALLGWqfR/SnTmvTc1dO9ur/s5bOiwbkeO7C+OkQYvXGoxrvK7pq8v0rnUeboYG6f2aP/3rws1V4yZ6jZc//jYMc4aymUzF2jamMm9nnet4dJL9WHSVxRzzY26dvpXe/UcgAMBDiEtumC7Gv7yJ3244yUdripzW3f3Vbfp7qtu08bb1mr19Rlu67y5cuzlxiIACKjGJXeqcX66sThgDp88pm1HPtC2Ix/onYq9KrGWqcRapt2flTjLD5/0rY/PJ3/foVc/K1LegZ3KO7DTWb7t8AfOsmLrIdU01KrxVI2u/qxKltKDGl5cFBI1jA5D6+vUdPpzlZz4VMerPtXlhw9r5P6/a3hxkcLqzxo31/BhEZ1GjgwlF2PjlJ6UppWz/lkrZ/1zQPfzYmyczt51n5rmLzauGvC81VD2xsyvpChp7j9rSPIstVzhPqE60FMEOPSrLaW7tGlfvrFYkhR5cL9GPfcf+p/tr+qZhkPadeKg2/rF02/W4uk3Kz76EsVHX+K2zqH5avdhmb/4yld06rGnnUtb/Di39QDgb62WSWq7bLzSp92k1AlXqXVEjHETv3DUvNW79OlpaWtVeeUBNRwtU2PDaWd5vcvQ85J0NnKYfnnDV/TxbcELmoHW0NKoNw/t1puHbINvxLyZZ9zEzfjYsZo2ekrI1rz1t7bYkWpKW6TIpOs0ISxa42PiB/1xak6Zo6a0RWpKW6TWKzo3bZ017kpNGz1Fs8ZdST82+BUBDkFTWluh87lPaezq7+iyHyzTqOf+Q7srS2z9Ly7taOvdknyt2+OMpo2epBnxnYdbdmiat0j1d2Sq/o5MNX3jNs2bkqIZ8QmaEZ+gKVekqDn5WucCAMEQEzFC42PjFZd4lRrvXqVRS5Zr2cwFWj71Rj1cVivLllf73HzcMeT5kdPutWu3Hf1Ctx+oUNipL9zKHVybiE2ZnKSW6TPVNuZStUcOV3tkpHFzj+ZNSdHsCe61CuGflXttougq3HpcEYcOKOLQAb8NfmEbsn2nvmg8rS8aO4Krw9nIcLWOiHHrZzQ+Nt5Z6xbIGi2zcvTNi59xg267ZqHSp9+k9Ok3ea2ZCrce18hXX9DIV1/o9hwYWl/nPAe8jebob7s/K+nzMP6OwWBarpipVkN/uJiIEZplSdK8qbNoKgm/G9Le3t5uLET/W//Uc8aikPNiyR+d/z8mKk6jo0appfSY3nnnHbftbr31Vi356UPaUrZL/7q3XLcdtd1ENCdfq7tmT3AO6//NUdN099W3OWvFIg/u15jHHtaJEZH66NI4NXzrLl2YMFnzpvj/i/WeZbdLktu+33rrrZKkjNOfS5IavrlMsn+JAYDRtsMfOIcFHx8Tr/TpNxk36STi0AFFF3QEty/vf0SyjwxZ39yow6ePqfVimzJLyhXb3KLXr7ToYoxtDrFZ469w+1X/yKlj2l1Z7Py3JEWEhet7R2p1yalTev1Ki47H2gZnmDZ6is8hpcRqa74+Pnas8/Vq6mt1+JQtbDmeZ2h9nYZZjyvsZK0iD3TsR+OSO9VqmWRrynniUyWfrNfXrGf0D8tYHY8O19erv9RlX9qaMbZMn6mmry9yPlb2efQcLo4arYiyjzW0/qxbKHAcN4e8AzvcRhf8l09sofavlkt0YdJUXYyKUYrlCq/hAz0X/d52RRy2ha8LlklufyNPf1fZa0klacSRQ7rkg784yx1/z6H1dW5NXB0hyfVxUefOq2zIeUWNGKnL9/1dYUPCNHTIEDUs+U6X39eu50hyfKKuuiyB88EP1v3oB8YiBAA1cOgxR18KV6fO1bkNJ9ydEyMi9fGIMLVe7Biu+cu4kW5NGpuTr9Wpx55W+NonNWvts/ranG8FJLx1Z2hjvYY21jt/SQzWr4MABq/Dp46p5MSnamhpUvOFZrXL9lvr8dgoVQ9p0ZKiYiX8eUuX16Rpo6doSpxFsZHRxlU94hhswTUsutZWOThqaJqv7vo6Hdd8QSObW3VWbaqKDldLW6skqcgyWu9EtWj3ZyXOebiG1tdpeHFRx/LRXg2zHncGg+OxUSqyjHb28/Nk4sjLdOamb0hJ12relFm6OWmu5k2dxc26nznmlmtKW6RmwxQEQ8+e8Tg9RU39KeUd2Kk91Z7P4eiC7R5Htsw7sFP/XfzfuuSDv6j28EfaNaROR4+VKrKxUcMa3MO9LyLDhnE+wFQIcOixw6eP9SisefLvsxP1SEKkvjxfb1zlxtHUcSD3VXMdyQ0AjCLCIhQ2JMz575H2ABTZ2NjljaojYF2MsdVCJJ9s0OzmYZo17kpNH+N9+PP+cmBsrMoi2nTkdKWs9SeNqyVJQ0+7j6p5PDZKRRMuUcmJT3XY0HTUIWrYcMUlXqWLs+cxeEQAGZsTtkxPVst02/EedqJap4p3q/bwRz6NgvpJ8Tt6/aO39EWjrYWOPwzfV6To97Yr+r3tbrW6gBkR4CDZm8P8vfqAXiz5o37/4Rv6cOdvFXHogIZ//HcNra/zepMwceRl+sbU6/WNy29Q+jTvzYXiR3geZESSZk+4ShtvW6ulM75hXBUS2sMjjEWSvX3/qOd/6VzKqw85h9Luql39kVPHnNs0tDQ6f0ls35LrnNzX2/EGMDjEREQ7lylx4zUkNU1NaYv0wIhpuuvyznODdeX89TfqfMocJU6ZqWtmzu1UmxZsdZHDdDw2SkntUbr1XIQaZ81WTepNah/uPvdWV4xzkyH0nL9+jluzydevtOiPQ85o25EPVFN/ym1bo8ZTNapvb1XbxTbjKsleu3z5qI5pFEY2X1DU0GFu20RUHHarnR5Wc1wRhw/YJt2uOa6U8UnOQWumj53s9lgg1BHgoJr6Wm078oE+/vyIJGnmyXrddvQLRRds1/A9ttG7Ig65jwDpEDVsuBJGT1LCJRO7vCGYN2WWlibN19RR442rNHxYRJcjSfa3c1/7hi5YJjmXdi9t6psP/F01DbXO4bS9Bd/imjLndkfPWCVJcS2tmlR/LmQm98XA5TgvPZ2b6OA6l1p3aupr9WLJH53933qiPTZOLdNnOheHeVNnadnMhVo2c6HmTbUNO+5YLnoZxTImIsot+DlcjI1zTszcVZ8gf3K9ZrbFjpQkTR87WenTbtLUG29Tw5LvaNTCOzTla+kad+X1iromVbMmX91xQ+1SQ9i45E41zV+spvmLdfau+3T2rvvUdoltTs+RLRc0svmCYiKiFevSBG7ZzIVBGWIf/nE8Nkr/efUUNcy42rjKo3lTZ+mGpK/py/sfUexdP9B3brxDX53k/tjhe3a79S81mjZmsrOWmuaTMBsCHHwScbgjwLl+ScZG+P6L6dIZ8zUlrnOAC3UtV8xUw5I7nYtxpCmHIS0tkqRFR2v1L59UauSrLyj2979RzNbX3UaXc+1Y39By3vn/XRlaX6fh+4p8GtEN8MZ1VLiRr77gtxH/BgJHqC2vPqQjp47pj5/u1rYjH2h3ZYkzxA31MlKeYzAP2WvObE0UfftFv9UySU1fX+RcfHXBMkkXY22DmTh+VBofG+8MfctmLjQ+JGguxsa5XTMdodExEqdjMXK9oXasvxgbZ2uOl3ilWhKvdL7nFnt/q4SZc3T36CQtm2kbFRGh685Prfrn9kuUPu0mjY8dI9knyk6fdpNunpmmm2emaViU7ceJuOYLmtjUqkOJl+ujOTfaQnxa15+PC5ZJOp8yR61TE42rgAGHADfIlVjLdNjeWdxh0oyv6uy1N6htzKVu5Q7zpl6neVNSNG9KCkPjdmPIhQu2DvcNvoWus5HhOh4bJWvTGbdf/odZjzs78VNDB1/Rv9K7iEMHFLP1dX254w1V/nWbIv/8qka++oIKPi/V7spiNV9oluw/uDTY50wbZj2u6ILtzsXTjymx9qHDp/kY4HrDEZActVHeflQayBwDpjgWhC7HeRq35G7FT79O42PjnTVexlDfZpmklukzdX2MRd9uHanrv/pPuvyqr6nV/oNFVxw1zefmfN05mIpr6GuZnqzzKXN0PmWOWqZ3nrMNMBMC3CDW0NKokhOfdpozaMiky3Vx9jw1Lvym88LbsOQ7zvUxESM0bczkXt2gtCRfq/o7MnXn2GT928ir9dO5K0O271ugpE+7ybkkXDLebSLUY7FRev1Ki96q/kjbjnT0oxtmrXL+v2ttKOCNYx6svAM7dfik+2fc8UNBdUu9auprnf0yT7/5krNPZ8zW153bD62vU7j1uMJdRv8ziyOnjunFkj86F0eYHWat0jDrce0d3qp3olrUfMFWg94Tkf8oYTAEoBuOWlPH0pXe1ki78hbuW66Y6WxKTOiH2RHgBgnHhJXbDn/gHJ65Oz256PqqKW2R6r+Tqal3PKCv3LpMM+ITQrbvmz+0Rw7v9Guf66+Nl8WMVfr0m7R42s26GBvXo078MI/h+4rcmi76S0NLo9oPlijqzdd0bNcWfVL8jkqsZd1+xh0/FHxUuV8T8l9V875C1TTUqqnVVutkFLP1986hvL31hzW7v1ou0Ucze9aiIPIfxbZa8RMdP7AAABBoBLhBwjFoRk1DreqbPTenuuayaZo3JYXOvD5qix2pxiV3qvnar0r2zvST6s8pOjxSjcOH62JsnNrGxPv0a1+rZZLO3nWfzqfOM67qZEhzsylrQgabhpZGtR47ovC/vKXwz8q7HDzEtYbL135pJdYy5R3YqepP9ymyplplw1r0tyENmlbwF814600NbWwwPqQTx3D0Q+39N0NRQ0ujzp0+YTuWPTg+PXVwbKyOTRjvrB2fNnqykuO/olnjrlRMN319h5790lgEAEDAEOAGOMdIam3tF42rJEnLZi5wLjdMmNmrZpGD1UV75/rmGdc4O9MvGXe1Rt9+j1rv+aG96emdxod1aXzsGM0ad6WmjZ6iWeOuNK6WJIWd+kIjtr6u4fs+NK5CiKipr1XegZ3a9+mHGnHkU4Wd+sJt/chXX3BrouhawxXexxquuJYLGnH+vHSx82e+1TJJX97/iEYtWa70aTfp2stsQ7FPqj+nRUdrNfrSSWodEWOrdbfPHWY0vLhIH+78rT74ZJd2f9YxwIevetIc0xFST733puLf/rNGbH1dUV2MKtcbc6rPaMGZNs2bkqLpYyY5a8fnTU3RjZOu9mnIfceAC+Nj4jU+xjY4AwAAgUKAMxHXJliuI6DJMOR1TX2t/cZnh94o3aVtRz7QudbOox3GRIxwW/zl1ltvNRaFvJfy3jQW+cxbe/veiLEPgDBv6qwBP0CMLeTsUPl/v6yw3Gc7hRqzamhp1Dn7ABje2GrizhqL9fqVFj0bd05V+f/p85yAB8fGaN+ky5yB61isrbZoUv05XTlspKaNnqLYSPfPt2PggJHxE5zbzmgeouibb1Pj3at09q77vPY/ORsZroNjY2VtPK1ZRR9q4jtvK2br615rxiIOHVD0e9t1Yfd/q2Xf+4p+0xZUu2qO6Rh4pbmt1bhKQ841dhrZtTcuWCbqfMocxU+/TokTr9S0MZO7DWqOUe5aps/UhfGT1HapbR6qOdbT+s6xOqVPv2nAf24BAP1vSHt7e7uxEP1v/VPPafdnJWpoaVJNQ61GNl/Qv3xS6VzflLbILSyUWMtUcuJT57+njZ6iI6c7tnc1a9yVAb3JeOe//2Qs6lNACpZ7lt1uLNKt//QtY1G/CLce15D6Og3f/zcN/fK027qW6TO93mz3lyOnjunwqWMacf68vjZqiqKHDe80Ut6RU8e0u7JYc6rPaI71tI7HRunY2FFqnjlLsZG2gXJChWuI6qo/qGNidoeRzRckSd+aOEsjT59W2IlqDTtRrfbwCF2MHemsoR356gsaWl+nX97wFUnSI3//H+dzGD/rDq6f+ZiIaI2PiVdDS5NGnD+vS0eM1sxLv9Llvjo4gldb7Mhutx/1/C91NjJc/3n1ZE2qP6c7P7XNYyhJbWMuVXtkpJrSFulibJxthNvTx3T7gaOy1DXo9SstOh4bpX/55JhGNtuC2fkU24ACRo5zw2HR0VrNPOkeeC9YJnmt4XbtA3j+QrP2Vnf84LVs5gK//WA1tL5OYS5B3HiOA8Bgs+5HPzAWIQCogQthjj5rnkQXbNeo53/p9VfvC+22G0dJigofrstGjFHksEjbHEUBDG+yhx7H8lLem6YIb7KHzJfy3nTb/1DRaplkm8A32j83nv4Wbj3unBsr3HrcOVl5yoFDzqZv3dUkHRgbqw/HRqvkxKedprboT9HvbXfWfMds/b1kD2q7jv5Nbx7a3eXAQGcjh+ls5DC1XDZO56+5QY0Lv6W6e37Qo+a14Z+V61RxgU58/lmXzRXnTZ2l9Ok3Ke3qWzTjK7O6DWMOrZZJPg3R3Z2wU1+4TXFR33JODS1NarvY5radqyHNzW79Ah0TYruGN0mKnnqlvkxI1MWRngc8in5vu6Lf267YLb9V2zt/0u7KYudyvpva0L5wNKN2LAAABAMBzkTORoYbi7w6eqba+f+jImO15Iq5+t7V/9Svk7siMIaePaOIQwe6DUj+YGyq6xBZXOScGyuyuGNY9Un1tvmzZJ9DyxfJJ+t11dEqDd9X1KmpcCA0tDS6DTPfVUga2liv7R/8XnkHduromWp90Xi608BA42PidemI0RodFadvXH6D0qfd1G2NT8OS7+jsXffprqlzdNdU9xqpE6eq9cchZ5xTS4TCnG53fmrV1yK6bm7oUBcZrvrICI28OESxF4doiIY410UeKLY3CffclNJhdMpc6dZv6cI4W5NPo4jDBxRx+IDCTn2h8Gr3lgdRw4YrJiLauQAAYHYEuBDU1n5Ruz8r0XmXeYkmTbxSzd/4J+eIh4DDsBPV2l1Zov888hflHdhhXO1Xh08e07YjHziXQJh5sl5Xf1al4cVFAZvzzjGlxrbDH+jomY5mgN26eFFD2jpqt41iIkYoffpNuv2Kefp20jeUcMnEbvtVyWXKjujRlyl69GXG1R7FRo6wD5phW4KhZfpMDZ9yhS4b/xWNjp+kprRF3V6Ttl8er1euv0I3fv27uvP6b6k94x6dves+42YeOQKww/nrb3TOTek6Qa9R8sl6Z/+/qZeM17KZC51Ld2EaAIBQR4ALQW0XL+rI6UpduNhxoxgZNkzhk6fpwqTL3bbtyuWjJmjZzAWaN/U64yqY1MWYOF2wTFJ72DC38rORHf8OhRoah7cvv1Rl19pG6bxgaGI2PnaM5k1J0ThLoiTptqNfaHZ9W0BqSRw1h3rnT4r40+/cptVw7R/liWOwi7YxlxpX6bIRtvcwfWzw++tNGzNZ6dNvUvr0mzRv6izj6oBwnWC3JfFKtVwx0+s1KTYiymPA7G5eSdfHXDriErcA7His8Tkuxsbp4ohYtQ+PUtT4KZo3ZZbmXn695k2dRWADAAw4DGISglraLmhmpvuvy46BR8KtxzXCZaS+xiV3qtUyqdMgJpI0b0pKvw8Ecff3VxiLQt7vfrvZWBRyHKM1DrMedw4q4eD4u4dbj7sNud6w5Dtd3jj7wnierZz1z5K9D1LEYVsQapk+U5vjh6ihpUnqxaA5MVtfdza37GqgCk8aWhpV32x7XdknTZe9xq2modY5gIZjsBBX42LGKDYiRimWKzze9Dveo2MwDtkHCwpEeBpaX6ehjQ0avme3FBYm2Qcz6evfLxCMTXd93UfXEUdbpid7HKgFAGAuDGISHGGPPfbYY8ZC9K+hQ4fo6IGjkqSpceM1PmasxseOVWzkCIXVn3VrVtZ6xUxdjI1TTf1J1TScdJZPGz1F42PHdBo+PNiuvsZ8tX+ffPyRsSjkOKYsGFp/Vk2jR2t/ZMdAEVNHWTQmOk7DrMcVcfighrQ0a0hLs1oTrpDa29UeOVyyD+8e+Y8ShX9WriEt59U2tnMNk1FsZLQOfGEbIXHa6CmaOmq8JKn18kS1XJGs5qtS1HLFTJ1qOqsxUaM0JmqUxkaP0pho327qJak91lbL2Do1URemTusUCBpaGlVfW634P72uqAMfKfIfJbo45lJdjI3Tgc//R4XHSnTk9DHVNJzUzEtttXtHTh1TQ0uTUj6vU2TbRR0YO1Lhw8J1cWiYLhkeq4kjx+mqS7+imZclKiIswu31HMI/K1fYqS90cGyssz/qmKhRzmPgT+2Rw3UxZqRarrzK+bd2/N1CTXvkcLfFV65Tb/hy7gEAQt/Xbuy6WT38gxq4ELX+qeeMRZJ9tD9fauAcNSP9jRq4wDMOXe+ogYs4dEDRLjVwZyPDdSw2SufSFun8hWZ9de8+RdbYBrtxnYrAMb/WkAstOnPZOP2x/aTa7bVAi6ffpMMnbSMujo8d61P/Ln97seSPnYawb772q2obNVp7YsPchtZ3DNrjqIFLPlmveSfqNXxYhM6lLWLkQAAA/IgauOCgD9wAMcuSpJWz/tm5YHDxZZS9A2Nitf3yeO2uLNbe6gP6osF9PjkHx4h+4RWH1Xzg76pva1ZDS1NHk0hLkmZZkvolvHnr3xe5/2+KLtiuIS1dDxl/cGys3plrGwiD8AYAAMyIAGcyrZZJ+vL+R5wLN6GIiRjhNsqeo9/jBT/M7WUWx2Oj9Pbll+ozL/Mmzpt6ndKn3aT0acEb8AMAACAQCHDAAGUMbzNP1WtO9RmNibKV10WG6/NRI3XBMkkXLBOd212wTNKFyyySpLiWC5pTfUZXRI3RrHFXehzcI5hiIkZo2ugpqosI15szE3R+ztcl+3s5ODZWp1oajA+R7I8bHxvfL7WGAAAA/kQfuBDlrQ+c2dAHrn+FW49r2PGjCqupco5meGLhYrdtPIWy3o4sGAy7PyvRkdOViomI1vdGz9CIra/rwNiR2n55RzibNe5K2397MPolAADoG/rABQc1cMAA1mqZpHOz56rhW3epYcmdalhyp2IiRrgtnnibbysUuM4vJnuNYUzMJZrY3K7xUZdofEy8s58eAADAQEMNXIiiBq7/DKQaOAAAgGChBi44qIEDAAAAAJMgwAEAAACASdCEEgAAAABMgho4AAAAADAJAhwAAAAAmAQBDgAAAABMggAHAAAAACZBgAMAAAAAkyDAAQAAAIBJEOAAAAAAwCQIcAAAAABgEgQ4AAAAADAJAhwAAAAAmAQBDgAAAABMggAHAAAAACZBgAMAAAAAkyDAAQAAAIBJEOAAAAAAwCQIcAAAAABgEgQ4AAAAADAJAhwAAAAAmAQBDgAAAABMggAHAAAAACZBgAMAAAAAkyDAAQAAAIBJEOAAAAAAwCQIcAAAAABgEkPa29vbjYUAAIQOq3JXZmlDuaE4Jk4TJ09V+pIlumt+osZGGNb7zP78ytCOF5doonE1AAAhhBo4AIA5NdSpqvRjPf/kE5q3bL3yjxk3AABg4CHAAQBMIlWbCnJ10L6UvPWMtj6ZofTLw6XTpfrpvU8ov9b4GAAABhaaUAIAQpyjCWWqNhWs0lzjajVp/wtPavkrlVLaKpU8lqpISTr9iZ74yX/pnWN1Otlg3zQmXrNvy9Dj96VqYoQkFWtd2kZtc3s+m/TsXK2fY/v/+qOFemZDvt46VKf6Nikyboq+/cgP9ZOb440PAwAgoKiBAwCYXLSuXbFC90+QVPCh3j1nLz5Xqf2lLuFNkhpqtfeNHC388S6ddCnuSn1Rjhbfu1mvldrCmyQ111XqtUfXaukbVuPmAAAEFAEOAGB+YVN0a1qcpCP6yDHYyYQl2uLS5PJgQa4O7nxGm5dZpI8K9dYJSUrR+oJsrU2UlJihHS7brp8j6dwePfroHp0cPUNrn9qgkl325pu/XaWMyVLZS9u11x7qAAAIBgIcAGBAiI0dIalJZ+tdCs9ZVZj3sh5+4CEtXPaQUm97SCvyrJJqVeVDf7nmog/1Tlu0vvvoOmVeF6/IMFt55ORUPX5fitSwT++UGh8FAEDgEOAAAANCfX2jpDhNHGP/90cva8niLK3O2aV3SutUdaKjCWSnoOdFbW2tpCa99qNMJacZlkeLfX4eAAD8hQAHABgAKvVOQZ0UNlUzJtv+/Ztf7lJFW7Tmfn+VtuQ9o91/fsHWPDI71fhgAABMgwAHADC5VlW8slnPV0uxixfplihJOqmqaknz/5c2rUhV0rg4jY0LNz7QXVuLWgxF8fHxkuJ0//OGvnTGvnIAAAQJAQ4AYErNDXWq+Gi7nrj3AS15oVIanar19yXZ14ZreJikj/6ud0+32opamlSxd6vWvVDs+jSSwqUwSUeL9U65fVu7yDk36tawOj3/k/XK/ahW9Y6E19KkqkN7lJu9Ua9Vuz0EAICAYh44AECIc8wDZyx3ET9Dj/9/65QxuaNo/7MPaPkfmly3kiSNHR2tk6eb3OZ5K9u8Vkt/6z6qiWN9fVGOFmft8TLtgEVrX8lW5gRjOQAAgUENHADAnGLiNHHGNbr/xz/Xnjz38CZJ1/7g37XpjimKjbD9O3ZyojIf26Cdj1ztvqGkpHvW6ZlvdmwbGWfRxFG2/4+ds0o7X1mlzOstzvUKC1fC9XO19skf6rvjnE8DAEDAUQMHAAAAACZBDRwAAAAAmAQBDgAAAABMggAHAAAAACZBgAMAAAAAkyDAAQAAAIBJEOAAAAAAwCQIcAAAAABgEgQ4AAAAADAJAhwAAAAAmAQBDgAAAABMggAHAAAAACZBgAMAAAAAkyDAAQAAAIBJEOAAAAAAwCQIcAAAAABgEgQ4AAAAADAJAhwAAAAAmAQBDgAAAABMggAHAAAAACZBgAMAAAAAkyDAAQAAAIBJEOAAAAAAwCT+f1oR/PW3m3meAAAAAElFTkSuQmCC)\n",
    "\n"
   ]
  },
  {
   "cell_type": "markdown",
   "metadata": {
    "id": "CSwpYdhz9svs"
   },
   "source": [
    "# Problem 2:"
   ]
  },
  {
   "cell_type": "markdown",
   "metadata": {
    "id": "Q-b0odJC9f1U"
   },
   "source": [
    "## 1. Return Computation\n",
    "Both simple and log returns measure the rate of change of a price over time.\n",
    "- **Simple Return**: $ (P_t - P_{t-1}) / P_{t-1} $\n",
    "- **Log Return**: $ log(P_t / P_{t-1}) $\n",
    "\n",
    "### Why Do They Look Similar?\n",
    "\n",
    "When price changes are small, the differences between simple and log returns is very less. For example, on 2023-01-03\n",
    "\n",
    "returns=0.015300\n",
    "\n",
    "log returns=0.015184\n",
    "\n",
    "### When Might They Differ Significantly?\n",
    "\n",
    "The difference between simple and log returns becomes more when you have large price movements or looking over large periods of time.\n",
    "\n",
    "Log Returns compound over time. For example, if the price moves from 100 to 120, the simple return is 20% while the log return is $ln(1.2) =18.2% $\n"
   ]
  },
  {
   "cell_type": "code",
   "execution_count": 9,
   "metadata": {
    "id": "WpLa5buR3sNQ"
   },
   "outputs": [],
   "source": [
    "# Calculate daily returns\n",
    "data['Daily Return'] = data['Close'].pct_change() # Returns 0.01 for 1% change"
   ]
  },
  {
   "cell_type": "code",
   "execution_count": 10,
   "metadata": {
    "colab": {
     "base_uri": "https://localhost:8080/",
     "height": 557
    },
    "id": "k2FCxzg83uk5",
    "outputId": "4c5156a4-5dc8-42fa-bb00-54a9fb63052a"
   },
   "outputs": [
    {
     "data": {
      "image/png": "[encoded data removed]",
      "text/plain": [
       "<Figure size 1200x600 with 1 Axes>"
      ]
     },
     "metadata": {},
     "output_type": "display_data"
    }
   ],
   "source": [
    "# Visualize daily returns\n",
    "plt.figure(figsize=(12, 6))\n",
    "plt.bar(data.index, data['Daily Return']*100, color='green')\n",
    "plt.axhline(y=0, color='r', linestyle='-', alpha=0.3)\n",
    "plt.title(f'{stock_symbol} Daily Returns (%)')\n",
    "plt.xlabel('Date')\n",
    "plt.ylabel('Return (%)')\n",
    "plt.grid(True)\n",
    "plt.show()"
   ]
  },
  {
   "cell_type": "code",
   "execution_count": 11,
   "metadata": {
    "colab": {
     "base_uri": "https://localhost:8080/",
     "height": 237
    },
    "id": "V31KogIo3w95",
    "outputId": "2d8ae3eb-84b1-41c0-acf7-91990bf5d838"
   },
   "outputs": [
    {
     "data": {
      "text/html": [
       "<div>\n",
       "<style scoped>\n",
       "    .dataframe tbody tr th:only-of-type {\n",
       "        vertical-align: middle;\n",
       "    }\n",
       "\n",
       "    .dataframe tbody tr th {\n",
       "        vertical-align: top;\n",
       "    }\n",
       "\n",
       "    .dataframe thead th {\n",
       "        text-align: right;\n",
       "    }\n",
       "</style>\n",
       "<table border=\"1\" class=\"dataframe\">\n",
       "  <thead>\n",
       "    <tr style=\"text-align: right;\">\n",
       "      <th></th>\n",
       "      <th>Daily Return</th>\n",
       "      <th>Log Return</th>\n",
       "    </tr>\n",
       "    <tr>\n",
       "      <th>Date</th>\n",
       "      <th></th>\n",
       "      <th></th>\n",
       "    </tr>\n",
       "  </thead>\n",
       "  <tbody>\n",
       "    <tr>\n",
       "      <th>2023-01-03</th>\n",
       "      <td>0.015300</td>\n",
       "      <td>0.015184</td>\n",
       "    </tr>\n",
       "    <tr>\n",
       "      <th>2023-01-04</th>\n",
       "      <td>0.000996</td>\n",
       "      <td>0.000996</td>\n",
       "    </tr>\n",
       "    <tr>\n",
       "      <th>2023-01-05</th>\n",
       "      <td>-0.001071</td>\n",
       "      <td>-0.001072</td>\n",
       "    </tr>\n",
       "    <tr>\n",
       "      <th>2023-01-06</th>\n",
       "      <td>-0.030066</td>\n",
       "      <td>-0.030527</td>\n",
       "    </tr>\n",
       "    <tr>\n",
       "      <th>2023-01-09</th>\n",
       "      <td>0.033753</td>\n",
       "      <td>0.033196</td>\n",
       "    </tr>\n",
       "  </tbody>\n",
       "</table>\n",
       "</div>"
      ],
      "text/plain": [
       "            Daily Return  Log Return\n",
       "Date                                \n",
       "2023-01-03      0.015300    0.015184\n",
       "2023-01-04      0.000996    0.000996\n",
       "2023-01-05     -0.001071   -0.001072\n",
       "2023-01-06     -0.030066   -0.030527\n",
       "2023-01-09      0.033753    0.033196"
      ]
     },
     "execution_count": 11,
     "metadata": {},
     "output_type": "execute_result"
    }
   ],
   "source": [
    "data['Log Return'] = np.log(data['Close'] / data['Close'].shift(1))\n",
    "data[['Daily Return', 'Log Return']].dropna().head()"
   ]
  },
  {
   "cell_type": "code",
   "execution_count": 12,
   "metadata": {
    "colab": {
     "base_uri": "https://localhost:8080/",
     "height": 237
    },
    "id": "YbDSvaU07tVG",
    "outputId": "407416bc-5cc3-4bad-a343-fb4f14200935"
   },
   "outputs": [
    {
     "data": {
      "text/html": [
       "<div>\n",
       "<style scoped>\n",
       "    .dataframe tbody tr th:only-of-type {\n",
       "        vertical-align: middle;\n",
       "    }\n",
       "\n",
       "    .dataframe tbody tr th {\n",
       "        vertical-align: top;\n",
       "    }\n",
       "\n",
       "    .dataframe thead th {\n",
       "        text-align: right;\n",
       "    }\n",
       "</style>\n",
       "<table border=\"1\" class=\"dataframe\">\n",
       "  <thead>\n",
       "    <tr style=\"text-align: right;\">\n",
       "      <th></th>\n",
       "      <th>Daily Return</th>\n",
       "      <th>Log Return</th>\n",
       "      <th>Difference in Returns</th>\n",
       "    </tr>\n",
       "    <tr>\n",
       "      <th>Date</th>\n",
       "      <th></th>\n",
       "      <th></th>\n",
       "      <th></th>\n",
       "    </tr>\n",
       "  </thead>\n",
       "  <tbody>\n",
       "    <tr>\n",
       "      <th>2023-01-03</th>\n",
       "      <td>0.015300</td>\n",
       "      <td>0.015184</td>\n",
       "      <td>1.158662e-04</td>\n",
       "    </tr>\n",
       "    <tr>\n",
       "      <th>2023-01-04</th>\n",
       "      <td>0.000996</td>\n",
       "      <td>0.000996</td>\n",
       "      <td>4.961587e-07</td>\n",
       "    </tr>\n",
       "    <tr>\n",
       "      <th>2023-01-05</th>\n",
       "      <td>-0.001071</td>\n",
       "      <td>-0.001072</td>\n",
       "      <td>5.739440e-07</td>\n",
       "    </tr>\n",
       "    <tr>\n",
       "      <th>2023-01-06</th>\n",
       "      <td>-0.030066</td>\n",
       "      <td>-0.030527</td>\n",
       "      <td>4.612360e-04</td>\n",
       "    </tr>\n",
       "    <tr>\n",
       "      <th>2023-01-09</th>\n",
       "      <td>0.033753</td>\n",
       "      <td>0.033196</td>\n",
       "      <td>5.571336e-04</td>\n",
       "    </tr>\n",
       "  </tbody>\n",
       "</table>\n",
       "</div>"
      ],
      "text/plain": [
       "            Daily Return  Log Return  Difference in Returns\n",
       "Date                                                       \n",
       "2023-01-03      0.015300    0.015184           1.158662e-04\n",
       "2023-01-04      0.000996    0.000996           4.961587e-07\n",
       "2023-01-05     -0.001071   -0.001072           5.739440e-07\n",
       "2023-01-06     -0.030066   -0.030527           4.612360e-04\n",
       "2023-01-09      0.033753    0.033196           5.571336e-04"
      ]
     },
     "execution_count": 12,
     "metadata": {},
     "output_type": "execute_result"
    }
   ],
   "source": [
    "data['Difference in Returns']=data['Daily Return']-data['Log Return']\n",
    "data[['Daily Return', 'Log Return', 'Difference in Returns']].dropna().head()"
   ]
  },
  {
   "cell_type": "code",
   "execution_count": 34,
   "metadata": {
    "colab": {
     "base_uri": "https://localhost:8080/",
     "height": 1000
    },
    "id": "O0JcB4Wv3zPP",
    "outputId": "6ef9d379-d93f-4bae-addb-2909459bb250"
   },
   "outputs": [
    {
     "data": {
      "image/png": "[encoded data removed]",
      "text/plain": [
       "<Figure size 1600x600 with 2 Axes>"
      ]
     },
     "metadata": {},
     "output_type": "display_data"
    },
    {
     "data": {
      "application/vnd.plotly.v1+json": {
       "config": {
        "plotlyServerURL": "https://plot.ly"
       },
       "data": [
        {
         "hovertemplate": "Date=%{x}<br>Daily Return=%{y}<extra></extra>",
         "legendgroup": "",
         "line": {
          "color": "#636efa",
          "dash": "solid"
         },
         "marker": {
          "symbol": "circle"
         },
         "mode": "lines",
         "name": "",
         "orientation": "v",
         "showlegend": false,
         "type": "scatter",
         "x": [
          "2023-01-02T00:00:00",
          "2023-01-03T00:00:00",
          "2023-01-04T00:00:00",
          "2023-01-05T00:00:00",
          "2023-01-06T00:00:00",
          "2023-01-09T00:00:00",
          "2023-01-10T00:00:00",
          "2023-01-11T00:00:00",
          "2023-01-12T00:00:00",
          "2023-01-13T00:00:00",
          "2023-01-16T00:00:00",
          "2023-01-17T00:00:00",
          "2023-01-18T00:00:00",
          "2023-01-19T00:00:00",
          "2023-01-20T00:00:00",
          "2023-01-23T00:00:00",
          "2023-01-24T00:00:00",
          "2023-01-25T00:00:00",
          "2023-01-27T00:00:00",
          "2023-01-30T00:00:00",
          "2023-01-31T00:00:00",
          "2023-02-01T00:00:00",
          "2023-02-02T00:00:00",
          "2023-02-03T00:00:00",
          "2023-02-06T00:00:00",
          "2023-02-07T00:00:00",
          "2023-02-08T00:00:00",
          "2023-02-09T00:00:00",
          "2023-02-10T00:00:00",
          "2023-02-13T00:00:00",
          "2023-02-14T00:00:00",
          "2023-02-15T00:00:00",
          "2023-02-16T00:00:00",
          "2023-02-17T00:00:00",
          "2023-02-20T00:00:00",
          "2023-02-21T00:00:00",
          "2023-02-22T00:00:00",
          "2023-02-23T00:00:00",
          "2023-02-24T00:00:00",
          "2023-02-27T00:00:00",
          "2023-02-28T00:00:00",
          "2023-03-01T00:00:00",
          "2023-03-02T00:00:00",
          "2023-03-03T00:00:00",
          "2023-03-06T00:00:00",
          "2023-03-08T00:00:00",
          "2023-03-09T00:00:00",
          "2023-03-10T00:00:00",
          "2023-03-13T00:00:00",
          "2023-03-14T00:00:00",
          "2023-03-15T00:00:00",
          "2023-03-16T00:00:00",
          "2023-03-17T00:00:00",
          "2023-03-20T00:00:00",
          "2023-03-21T00:00:00",
          "2023-03-22T00:00:00",
          "2023-03-23T00:00:00",
          "2023-03-24T00:00:00",
          "2023-03-27T00:00:00",
          "2023-03-28T00:00:00",
          "2023-03-29T00:00:00",
          "2023-03-31T00:00:00",
          "2023-04-03T00:00:00",
          "2023-04-05T00:00:00",
          "2023-04-06T00:00:00",
          "2023-04-10T00:00:00",
          "2023-04-11T00:00:00",
          "2023-04-12T00:00:00",
          "2023-04-13T00:00:00",
          "2023-04-17T00:00:00",
          "2023-04-18T00:00:00",
          "2023-04-19T00:00:00",
          "2023-04-20T00:00:00",
          "2023-04-21T00:00:00",
          "2023-04-24T00:00:00",
          "2023-04-25T00:00:00",
          "2023-04-26T00:00:00",
          "2023-04-27T00:00:00",
          "2023-04-28T00:00:00",
          "2023-05-02T00:00:00",
          "2023-05-03T00:00:00",
          "2023-05-04T00:00:00",
          "2023-05-05T00:00:00",
          "2023-05-08T00:00:00",
          "2023-05-09T00:00:00",
          "2023-05-10T00:00:00",
          "2023-05-11T00:00:00",
          "2023-05-12T00:00:00",
          "2023-05-15T00:00:00",
          "2023-05-16T00:00:00",
          "2023-05-17T00:00:00",
          "2023-05-18T00:00:00",
          "2023-05-19T00:00:00",
          "2023-05-22T00:00:00",
          "2023-05-23T00:00:00",
          "2023-05-24T00:00:00",
          "2023-05-25T00:00:00",
          "2023-05-26T00:00:00",
          "2023-05-29T00:00:00",
          "2023-05-30T00:00:00",
          "2023-05-31T00:00:00",
          "2023-06-01T00:00:00",
          "2023-06-02T00:00:00",
          "2023-06-05T00:00:00",
          "2023-06-06T00:00:00",
          "2023-06-07T00:00:00",
          "2023-06-08T00:00:00",
          "2023-06-09T00:00:00",
          "2023-06-12T00:00:00",
          "2023-06-13T00:00:00",
          "2023-06-14T00:00:00",
          "2023-06-15T00:00:00",
          "2023-06-16T00:00:00",
          "2023-06-19T00:00:00",
          "2023-06-20T00:00:00",
          "2023-06-21T00:00:00",
          "2023-06-22T00:00:00",
          "2023-06-23T00:00:00",
          "2023-06-26T00:00:00",
          "2023-06-27T00:00:00",
          "2023-06-28T00:00:00",
          "2023-06-30T00:00:00",
          "2023-07-03T00:00:00",
          "2023-07-04T00:00:00",
          "2023-07-05T00:00:00",
          "2023-07-06T00:00:00",
          "2023-07-07T00:00:00",
          "2023-07-10T00:00:00",
          "2023-07-11T00:00:00",
          "2023-07-12T00:00:00",
          "2023-07-13T00:00:00",
          "2023-07-14T00:00:00",
          "2023-07-17T00:00:00",
          "2023-07-18T00:00:00",
          "2023-07-19T00:00:00",
          "2023-07-20T00:00:00",
          "2023-07-21T00:00:00",
          "2023-07-24T00:00:00",
          "2023-07-25T00:00:00",
          "2023-07-26T00:00:00",
          "2023-07-27T00:00:00",
          "2023-07-28T00:00:00",
          "2023-07-31T00:00:00",
          "2023-08-01T00:00:00",
          "2023-08-02T00:00:00",
          "2023-08-03T00:00:00",
          "2023-08-04T00:00:00",
          "2023-08-07T00:00:00",
          "2023-08-08T00:00:00",
          "2023-08-09T00:00:00",
          "2023-08-10T00:00:00",
          "2023-08-11T00:00:00",
          "2023-08-14T00:00:00",
          "2023-08-16T00:00:00",
          "2023-08-17T00:00:00",
          "2023-08-18T00:00:00",
          "2023-08-21T00:00:00",
          "2023-08-22T00:00:00",
          "2023-08-23T00:00:00",
          "2023-08-24T00:00:00",
          "2023-08-25T00:00:00",
          "2023-08-28T00:00:00",
          "2023-08-29T00:00:00",
          "2023-08-30T00:00:00",
          "2023-08-31T00:00:00",
          "2023-09-01T00:00:00",
          "2023-09-04T00:00:00",
          "2023-09-05T00:00:00",
          "2023-09-06T00:00:00",
          "2023-09-07T00:00:00",
          "2023-09-08T00:00:00",
          "2023-09-11T00:00:00",
          "2023-09-12T00:00:00",
          "2023-09-13T00:00:00",
          "2023-09-14T00:00:00",
          "2023-09-15T00:00:00",
          "2023-09-18T00:00:00",
          "2023-09-20T00:00:00",
          "2023-09-21T00:00:00",
          "2023-09-22T00:00:00",
          "2023-09-25T00:00:00",
          "2023-09-26T00:00:00",
          "2023-09-27T00:00:00",
          "2023-09-28T00:00:00",
          "2023-09-29T00:00:00",
          "2023-10-03T00:00:00",
          "2023-10-04T00:00:00",
          "2023-10-05T00:00:00",
          "2023-10-06T00:00:00",
          "2023-10-09T00:00:00",
          "2023-10-10T00:00:00",
          "2023-10-11T00:00:00",
          "2023-10-12T00:00:00",
          "2023-10-13T00:00:00",
          "2023-10-16T00:00:00",
          "2023-10-17T00:00:00",
          "2023-10-18T00:00:00",
          "2023-10-19T00:00:00",
          "2023-10-20T00:00:00",
          "2023-10-23T00:00:00",
          "2023-10-25T00:00:00",
          "2023-10-26T00:00:00",
          "2023-10-27T00:00:00",
          "2023-10-30T00:00:00",
          "2023-10-31T00:00:00",
          "2023-11-01T00:00:00",
          "2023-11-02T00:00:00",
          "2023-11-03T00:00:00",
          "2023-11-06T00:00:00",
          "2023-11-07T00:00:00",
          "2023-11-08T00:00:00",
          "2023-11-09T00:00:00",
          "2023-11-10T00:00:00",
          "2023-11-13T00:00:00",
          "2023-11-15T00:00:00",
          "2023-11-16T00:00:00",
          "2023-11-17T00:00:00",
          "2023-11-20T00:00:00",
          "2023-11-21T00:00:00",
          "2023-11-22T00:00:00",
          "2023-11-23T00:00:00",
          "2023-11-24T00:00:00",
          "2023-11-28T00:00:00",
          "2023-11-29T00:00:00",
          "2023-11-30T00:00:00",
          "2023-12-01T00:00:00",
          "2023-12-04T00:00:00",
          "2023-12-05T00:00:00",
          "2023-12-06T00:00:00",
          "2023-12-07T00:00:00",
          "2023-12-08T00:00:00",
          "2023-12-11T00:00:00",
          "2023-12-12T00:00:00",
          "2023-12-13T00:00:00",
          "2023-12-14T00:00:00",
          "2023-12-15T00:00:00",
          "2023-12-18T00:00:00",
          "2023-12-19T00:00:00",
          "2023-12-20T00:00:00",
          "2023-12-21T00:00:00",
          "2023-12-22T00:00:00",
          "2023-12-26T00:00:00",
          "2023-12-27T00:00:00",
          "2023-12-28T00:00:00",
          "2023-12-29T00:00:00"
         ],
         "xaxis": "x",
         "y": [
          null,
          0.015300101927804732,
          0.0009964821430632487,
          -0.0010710127659522284,
          -0.03006551561760107,
          0.03375309232770496,
          -0.010105651715918151,
          0.012871398091552688,
          0.0016972489187714324,
          0.012056456848599684,
          0.008011964590539877,
          0.01330198115174408,
          0.0034336784895565575,
          -0.004985096916207743,
          -0.002964694799430845,
          0.015402393414577942,
          0.00626648972113264,
          -0.0019059235213436665,
          -0.0054523550397451714,
          0.006625480173749088,
          -0.02182799421075232,
          0.014782316069833268,
          0.01527137473203588,
          0.006328883102806104,
          -0.006418231777686634,
          0.0036415643897305117,
          0.013693173756041288,
          0.005894814754084043,
          -0.0009319235061623354,
          -0.015589990733898107,
          0.005082750261093061,
          0.005871181636445177,
          0.010623089988113898,
          -0.015991928364232577,
          -0.00395586190693753,
          -0.010409077847961523,
          -0.01432925481158509,
          0.0036012820292050662,
          -0.00391068425744312,
          -0.02017372005476714,
          -0.005702576447262908,
          0.021990219385419785,
          -0.018976975188542022,
          0.006232386901322995,
          0.008886410997185568,
          0.005501470408860509,
          -0.015794669957887142,
          -0.0017532093578029873,
          -0.014725321716415607,
          -0.02041464761096312,
          -0.004992385331919147,
          -0.0043451947643904365,
          -0.0017895959852683996,
          -0.011323141504397949,
          -0.011834717522747895,
          0.007952091264354255,
          -0.00196454977715943,
          -0.0013280739235215222,
          0.000576825271327408,
          -0.002049689325971271,
          0.0073814346619307525,
          0.021345169771846972,
          -0.0018404266213986054,
          0.012437418532535993,
          -0.0058952502474524104,
          0.013257853387816265,
          -0.015198747789206823,
          0.008665663373697452,
          -0.016287952461650046,
          -0.015475863121554134,
          -0.002787077556282491,
          -0.013143728403737898,
          0.004919747648833628,
          0.018052648186229314,
          0.004413328363003455,
          0.00037802581993950923,
          0.006974054225968862,
          -0.0031892094483356725,
          0.009818252015838302,
          4.6464112291033643e-05,
          -0.012269391560026044,
          0.012830762903752513,
          0.003104825018440671,
          0.00615969323157417,
          0.010044248054528637,
          0.0010813802371960612,
          -0.0014149149582493026,
          -0.0023917366899041115,
          -0.005879047421106565,
          0.0009522715770413637,
          -0.015177329381681037,
          -0.002757996285378095,
          0.007187856584152108,
          0.023534891296360883,
          -0.0004999383841183258,
          0.0019106283716494588,
          -0.002981785167024742,
          0.01074839396946814,
          -0.0025683920280011874,
          -0.0012499490828785653,
          -0.008051183100528436,
          0.010487867656948868,
          -0.005535590063361351,
          -0.005052070242256734,
          -0.017209377162933914,
          0.013179554238070157,
          -0.011740816938919041,
          -0.008388923411527083,
          0.01171588502930554,
          -0.0009854775237879698,
          0.002265935602694613,
          -0.0033311746181490243,
          -0.01287191027136636,
          0.011181403259742817,
          0.005388737128995791,
          0.009449402691060094,
          -0.006046149527778599,
          -0.006839595218385952,
          -0.008301292935471438,
          0.0024139819436403975,
          0.005660866541127962,
          0.02699473031461741,
          -0.009069529355650197,
          0.011169481380550073,
          0.00335463040731665,
          0.0008885055225869021,
          0.0019111330993923925,
          -0.01721116148225632,
          0.0001375075427043626,
          -0.0038198659413346547,
          0.024740047205550564,
          0.052117160675181795,
          -0.006529683513266216,
          0.0014747758374316078,
          -0.0076640207700258145,
          0.0006500850396087277,
          -0.02743042662214268,
          0.007852602126278807,
          0.0012960893264939433,
          -0.0031919497231124305,
          0.0025382013852788265,
          -0.012217057412476473,
          0.01968461563053836,
          0.008943557419719195,
          -0.003302375709027028,
          -0.011829070923426888,
          0.012823650285112675,
          0.011761142175586548,
          -0.0038604734594950285,
          -0.0023338663848586627,
          -0.005891588079931842,
          0.001946457839364646,
          0.000304330279975229,
          0.0024784153205934523,
          -0.006549227770746624,
          -0.019981131860880574,
          0.010261081152322715,
          -0.005732550486693855,
          0.004760293849369379,
          -0.0030898182260823415,
          -0.0019038499219071747,
          -0.0017005689836032678,
          0.00017769781785603733,
          0.0043836381919031275,
          -0.010070812845620614,
          0.006673010545846569,
          0.011629949587593336,
          0.0031738820371294274,
          0.00016039472488604822,
          0.007390834062492191,
          -0.0038635500389012645,
          0.011258207701201561,
          0.028773391229308887,
          -0.0036164575439492364,
          -0.002186121400822638,
          0.01074411903152761,
          0.0021815248041494595,
          -2.767643937151565e-05,
          -0.0057541669206044865,
          0.005118122152395044,
          -0.0073537786068818,
          0.002390216040657478,
          0.0010039777342394363,
          -0.014640710544881363,
          -0.0023042891840702184,
          -0.004180210051605071,
          0.006801735711552626,
          0.014585577739644862,
          0.008929046294590348,
          0.004680576737114972,
          -0.0025974411544815723,
          -0.005235639439425732,
          -0.01865701741721515,
          0.007988575544465082,
          -0.01310612719148141,
          -0.004824000232784842,
          -0.005645854323843458,
          -0.006497401817225579,
          0.011256885096324387,
          -0.024151795862696113,
          -0.005879599499738708,
          -0.01573697758788717,
          0.004255588882735362,
          0.008236489383737888,
          -0.0029006151352651832,
          -0.011309905909712481,
          0.008842271593159978,
          -0.002738118246871424,
          0.008758831860402827,
          -0.0028992297876637707,
          0.00329338851923322,
          -0.010084122202276835,
          -0.004182286741939656,
          -0.0005699346619396639,
          0.021836556558537668,
          0.027480058889017833,
          0.0013151083307181288,
          0.004896508688586598,
          -0.002670742172905638,
          0.00568337326541557,
          -0.006203638147525892,
          -0.01457997378571041,
          0.0037748969674800126,
          0.012564284381628044,
          -0.0074422031374279385,
          0.006895818320193037,
          0.0002278433800504409,
          0.005452082687670945,
          0.02052889467670771,
          0.002996537216910955,
          0.0032643402044900682,
          0.004466727619422128,
          0.008015736810485619,
          -0.021391075317012342,
          0.020508935281615015,
          0.052832592947206214,
          -0.00046621410485736536,
          -0.011142253006605207,
          -0.009472710152399033,
          0.0019708599069958588,
          0.009637038170224432,
          -0.007439935491648675,
          0.004123212237478802,
          -0.002964956338234903,
          -0.0017106106005723154
         ],
         "yaxis": "y"
        }
       ],
       "layout": {
        "legend": {
         "tracegroupgap": 0
        },
        "template": {
         "data": {
          "bar": [
           {
            "error_x": {
             "color": "#2a3f5f"
            },
            "error_y": {
             "color": "#2a3f5f"
            },
            "marker": {
             "line": {
              "color": "#E5ECF6",
              "width": 0.5
             },
             "pattern": {
              "fillmode": "overlay",
              "size": 10,
              "solidity": 0.2
             }
            },
            "type": "bar"
           }
          ],
          "barpolar": [
           {
            "marker": {
             "line": {
              "color": "#E5ECF6",
              "width": 0.5
             },
             "pattern": {
              "fillmode": "overlay",
              "size": 10,
              "solidity": 0.2
             }
            },
            "type": "barpolar"
           }
          ],
          "carpet": [
           {
            "aaxis": {
             "endlinecolor": "#2a3f5f",
             "gridcolor": "white",
             "linecolor": "white",
             "minorgridcolor": "white",
             "startlinecolor": "#2a3f5f"
            },
            "baxis": {
             "endlinecolor": "#2a3f5f",
             "gridcolor": "white",
             "linecolor": "white",
             "minorgridcolor": "white",
             "startlinecolor": "#2a3f5f"
            },
            "type": "carpet"
           }
          ],
          "choropleth": [
           {
            "colorbar": {
             "outlinewidth": 0,
             "ticks": ""
            },
            "type": "choropleth"
           }
          ],
          "contour": [
           {
            "colorbar": {
             "outlinewidth": 0,
             "ticks": ""
            },
            "colorscale": [
             [
              0,
              "#0d0887"
             ],
             [
              0.1111111111111111,
              "#46039f"
             ],
             [
              0.2222222222222222,
              "#7201a8"
             ],
             [
              0.3333333333333333,
              "#9c179e"
             ],
             [
              0.4444444444444444,
              "#bd3786"
             ],
             [
              0.5555555555555556,
              "#d8576b"
             ],
             [
              0.6666666666666666,
              "#ed7953"
             ],
             [
              0.7777777777777778,
              "#fb9f3a"
             ],
             [
              0.8888888888888888,
              "#fdca26"
             ],
             [
              1,
              "#f0f921"
             ]
            ],
            "type": "contour"
           }
          ],
          "contourcarpet": [
           {
            "colorbar": {
             "outlinewidth": 0,
             "ticks": ""
            },
            "type": "contourcarpet"
           }
          ],
          "heatmap": [
           {
            "colorbar": {
             "outlinewidth": 0,
             "ticks": ""
            },
            "colorscale": [
             [
              0,
              "#0d0887"
             ],
             [
              0.1111111111111111,
              "#46039f"
             ],
             [
              0.2222222222222222,
              "#7201a8"
             ],
             [
              0.3333333333333333,
              "#9c179e"
             ],
             [
              0.4444444444444444,
              "#bd3786"
             ],
             [
              0.5555555555555556,
              "#d8576b"
             ],
             [
              0.6666666666666666,
              "#ed7953"
             ],
             [
              0.7777777777777778,
              "#fb9f3a"
             ],
             [
              0.8888888888888888,
              "#fdca26"
             ],
             [
              1,
              "#f0f921"
             ]
            ],
            "type": "heatmap"
           }
          ],
          "heatmapgl": [
           {
            "colorbar": {
             "outlinewidth": 0,
             "ticks": ""
            },
            "colorscale": [
             [
              0,
              "#0d0887"
             ],
             [
              0.1111111111111111,
              "#46039f"
             ],
             [
              0.2222222222222222,
              "#7201a8"
             ],
             [
              0.3333333333333333,
              "#9c179e"
             ],
             [
              0.4444444444444444,
              "#bd3786"
             ],
             [
              0.5555555555555556,
              "#d8576b"
             ],
             [
              0.6666666666666666,
              "#ed7953"
             ],
             [
              0.7777777777777778,
              "#fb9f3a"
             ],
             [
              0.8888888888888888,
              "#fdca26"
             ],
             [
              1,
              "#f0f921"
             ]
            ],
            "type": "heatmapgl"
           }
          ],
          "histogram": [
           {
            "marker": {
             "pattern": {
              "fillmode": "overlay",
              "size": 10,
              "solidity": 0.2
             }
            },
            "type": "histogram"
           }
          ],
          "histogram2d": [
           {
            "colorbar": {
             "outlinewidth": 0,
             "ticks": ""
            },
            "colorscale": [
             [
              0,
              "#0d0887"
             ],
             [
              0.1111111111111111,
              "#46039f"
             ],
             [
              0.2222222222222222,
              "#7201a8"
             ],
             [
              0.3333333333333333,
              "#9c179e"
             ],
             [
              0.4444444444444444,
              "#bd3786"
             ],
             [
              0.5555555555555556,
              "#d8576b"
             ],
             [
              0.6666666666666666,
              "#ed7953"
             ],
             [
              0.7777777777777778,
              "#fb9f3a"
             ],
             [
              0.8888888888888888,
              "#fdca26"
             ],
             [
              1,
              "#f0f921"
             ]
            ],
            "type": "histogram2d"
           }
          ],
          "histogram2dcontour": [
           {
            "colorbar": {
             "outlinewidth": 0,
             "ticks": ""
            },
            "colorscale": [
             [
              0,
              "#0d0887"
             ],
             [
              0.1111111111111111,
              "#46039f"
             ],
             [
              0.2222222222222222,
              "#7201a8"
             ],
             [
              0.3333333333333333,
              "#9c179e"
             ],
             [
              0.4444444444444444,
              "#bd3786"
             ],
             [
              0.5555555555555556,
              "#d8576b"
             ],
             [
              0.6666666666666666,
              "#ed7953"
             ],
             [
              0.7777777777777778,
              "#fb9f3a"
             ],
             [
              0.8888888888888888,
              "#fdca26"
             ],
             [
              1,
              "#f0f921"
             ]
            ],
            "type": "histogram2dcontour"
           }
          ],
          "mesh3d": [
           {
            "colorbar": {
             "outlinewidth": 0,
             "ticks": ""
            },
            "type": "mesh3d"
           }
          ],
          "parcoords": [
           {
            "line": {
             "colorbar": {
              "outlinewidth": 0,
              "ticks": ""
             }
            },
            "type": "parcoords"
           }
          ],
          "pie": [
           {
            "automargin": true,
            "type": "pie"
           }
          ],
          "scatter": [
           {
            "fillpattern": {
             "fillmode": "overlay",
             "size": 10,
             "solidity": 0.2
            },
            "type": "scatter"
           }
          ],
          "scatter3d": [
           {
            "line": {
             "colorbar": {
              "outlinewidth": 0,
              "ticks": ""
             }
            },
            "marker": {
             "colorbar": {
              "outlinewidth": 0,
              "ticks": ""
             }
            },
            "type": "scatter3d"
           }
          ],
          "scattercarpet": [
           {
            "marker": {
             "colorbar": {
              "outlinewidth": 0,
              "ticks": ""
             }
            },
            "type": "scattercarpet"
           }
          ],
          "scattergeo": [
           {
            "marker": {
             "colorbar": {
              "outlinewidth": 0,
              "ticks": ""
             }
            },
            "type": "scattergeo"
           }
          ],
          "scattergl": [
           {
            "marker": {
             "colorbar": {
              "outlinewidth": 0,
              "ticks": ""
             }
            },
            "type": "scattergl"
           }
          ],
          "scattermapbox": [
           {
            "marker": {
             "colorbar": {
              "outlinewidth": 0,
              "ticks": ""
             }
            },
            "type": "scattermapbox"
           }
          ],
          "scatterpolar": [
           {
            "marker": {
             "colorbar": {
              "outlinewidth": 0,
              "ticks": ""
             }
            },
            "type": "scatterpolar"
           }
          ],
          "scatterpolargl": [
           {
            "marker": {
             "colorbar": {
              "outlinewidth": 0,
              "ticks": ""
             }
            },
            "type": "scatterpolargl"
           }
          ],
          "scatterternary": [
           {
            "marker": {
             "colorbar": {
              "outlinewidth": 0,
              "ticks": ""
             }
            },
            "type": "scatterternary"
           }
          ],
          "surface": [
           {
            "colorbar": {
             "outlinewidth": 0,
             "ticks": ""
            },
            "colorscale": [
             [
              0,
              "#0d0887"
             ],
             [
              0.1111111111111111,
              "#46039f"
             ],
             [
              0.2222222222222222,
              "#7201a8"
             ],
             [
              0.3333333333333333,
              "#9c179e"
             ],
             [
              0.4444444444444444,
              "#bd3786"
             ],
             [
              0.5555555555555556,
              "#d8576b"
             ],
             [
              0.6666666666666666,
              "#ed7953"
             ],
             [
              0.7777777777777778,
              "#fb9f3a"
             ],
             [
              0.8888888888888888,
              "#fdca26"
             ],
             [
              1,
              "#f0f921"
             ]
            ],
            "type": "surface"
           }
          ],
          "table": [
           {
            "cells": {
             "fill": {
              "color": "#EBF0F8"
             },
             "line": {
              "color": "white"
             }
            },
            "header": {
             "fill": {
              "color": "#C8D4E3"
             },
             "line": {
              "color": "white"
             }
            },
            "type": "table"
           }
          ]
         },
         "layout": {
          "annotationdefaults": {
           "arrowcolor": "#2a3f5f",
           "arrowhead": 0,
           "arrowwidth": 1
          },
          "autotypenumbers": "strict",
          "coloraxis": {
           "colorbar": {
            "outlinewidth": 0,
            "ticks": ""
           }
          },
          "colorscale": {
           "diverging": [
            [
             0,
             "#8e0152"
            ],
            [
             0.1,
             "#c51b7d"
            ],
            [
             0.2,
             "#de77ae"
            ],
            [
             0.3,
             "#f1b6da"
            ],
            [
             0.4,
             "#fde0ef"
            ],
            [
             0.5,
             "#f7f7f7"
            ],
            [
             0.6,
             "#e6f5d0"
            ],
            [
             0.7,
             "#b8e186"
            ],
            [
             0.8,
             "#7fbc41"
            ],
            [
             0.9,
             "#4d9221"
            ],
            [
             1,
             "#276419"
            ]
           ],
           "sequential": [
            [
             0,
             "#0d0887"
            ],
            [
             0.1111111111111111,
             "#46039f"
            ],
            [
             0.2222222222222222,
             "#7201a8"
            ],
            [
             0.3333333333333333,
             "#9c179e"
            ],
            [
             0.4444444444444444,
             "#bd3786"
            ],
            [
             0.5555555555555556,
             "#d8576b"
            ],
            [
             0.6666666666666666,
             "#ed7953"
            ],
            [
             0.7777777777777778,
             "#fb9f3a"
            ],
            [
             0.8888888888888888,
             "#fdca26"
            ],
            [
             1,
             "#f0f921"
            ]
           ],
           "sequentialminus": [
            [
             0,
             "#0d0887"
            ],
            [
             0.1111111111111111,
             "#46039f"
            ],
            [
             0.2222222222222222,
             "#7201a8"
            ],
            [
             0.3333333333333333,
             "#9c179e"
            ],
            [
             0.4444444444444444,
             "#bd3786"
            ],
            [
             0.5555555555555556,
             "#d8576b"
            ],
            [
             0.6666666666666666,
             "#ed7953"
            ],
            [
             0.7777777777777778,
             "#fb9f3a"
            ],
            [
             0.8888888888888888,
             "#fdca26"
            ],
            [
             1,
             "#f0f921"
            ]
           ]
          },
          "colorway": [
           "#636efa",
           "#EF553B",
           "#00cc96",
           "#ab63fa",
           "#FFA15A",
           "#19d3f3",
           "#FF6692",
           "#B6E880",
           "#FF97FF",
           "#FECB52"
          ],
          "font": {
           "color": "#2a3f5f"
          },
          "geo": {
           "bgcolor": "white",
           "lakecolor": "white",
           "landcolor": "#E5ECF6",
           "showlakes": true,
           "showland": true,
           "subunitcolor": "white"
          },
          "hoverlabel": {
           "align": "left"
          },
          "hovermode": "closest",
          "mapbox": {
           "style": "light"
          },
          "paper_bgcolor": "white",
          "plot_bgcolor": "#E5ECF6",
          "polar": {
           "angularaxis": {
            "gridcolor": "white",
            "linecolor": "white",
            "ticks": ""
           },
           "bgcolor": "#E5ECF6",
           "radialaxis": {
            "gridcolor": "white",
            "linecolor": "white",
            "ticks": ""
           }
          },
          "scene": {
           "xaxis": {
            "backgroundcolor": "#E5ECF6",
            "gridcolor": "white",
            "gridwidth": 2,
            "linecolor": "white",
            "showbackground": true,
            "ticks": "",
            "zerolinecolor": "white"
           },
           "yaxis": {
            "backgroundcolor": "#E5ECF6",
            "gridcolor": "white",
            "gridwidth": 2,
            "linecolor": "white",
            "showbackground": true,
            "ticks": "",
            "zerolinecolor": "white"
           },
           "zaxis": {
            "backgroundcolor": "#E5ECF6",
            "gridcolor": "white",
            "gridwidth": 2,
            "linecolor": "white",
            "showbackground": true,
            "ticks": "",
            "zerolinecolor": "white"
           }
          },
          "shapedefaults": {
           "line": {
            "color": "#2a3f5f"
           }
          },
          "ternary": {
           "aaxis": {
            "gridcolor": "white",
            "linecolor": "white",
            "ticks": ""
           },
           "baxis": {
            "gridcolor": "white",
            "linecolor": "white",
            "ticks": ""
           },
           "bgcolor": "#E5ECF6",
           "caxis": {
            "gridcolor": "white",
            "linecolor": "white",
            "ticks": ""
           }
          },
          "title": {
           "x": 0.05
          },
          "xaxis": {
           "automargin": true,
           "gridcolor": "white",
           "linecolor": "white",
           "ticks": "",
           "title": {
            "standoff": 15
           },
           "zerolinecolor": "white",
           "zerolinewidth": 2
          },
          "yaxis": {
           "automargin": true,
           "gridcolor": "white",
           "linecolor": "white",
           "ticks": "",
           "title": {
            "standoff": 15
           },
           "zerolinecolor": "white",
           "zerolinewidth": 2
          }
         }
        },
        "title": {
         "text": "TCS.NS Simple Returns"
        },
        "xaxis": {
         "anchor": "y",
         "domain": [
          0,
          1
         ],
         "title": {
          "text": "Date"
         }
        },
        "yaxis": {
         "anchor": "x",
         "domain": [
          0,
          1
         ],
         "title": {
          "text": "Daily Return"
         }
        }
       }
      }
     },
     "metadata": {},
     "output_type": "display_data"
    },
    {
     "data": {
      "application/vnd.plotly.v1+json": {
       "config": {
        "plotlyServerURL": "https://plot.ly"
       },
       "data": [
        {
         "hovertemplate": "Date=%{x}<br>Log Return=%{y}<extra></extra>",
         "legendgroup": "",
         "line": {
          "color": "#636efa",
          "dash": "solid"
         },
         "marker": {
          "symbol": "circle"
         },
         "mode": "lines",
         "name": "",
         "orientation": "v",
         "showlegend": false,
         "type": "scatter",
         "x": [
          "2023-01-02T00:00:00",
          "2023-01-03T00:00:00",
          "2023-01-04T00:00:00",
          "2023-01-05T00:00:00",
          "2023-01-06T00:00:00",
          "2023-01-09T00:00:00",
          "2023-01-10T00:00:00",
          "2023-01-11T00:00:00",
          "2023-01-12T00:00:00",
          "2023-01-13T00:00:00",
          "2023-01-16T00:00:00",
          "2023-01-17T00:00:00",
          "2023-01-18T00:00:00",
          "2023-01-19T00:00:00",
          "2023-01-20T00:00:00",
          "2023-01-23T00:00:00",
          "2023-01-24T00:00:00",
          "2023-01-25T00:00:00",
          "2023-01-27T00:00:00",
          "2023-01-30T00:00:00",
          "2023-01-31T00:00:00",
          "2023-02-01T00:00:00",
          "2023-02-02T00:00:00",
          "2023-02-03T00:00:00",
          "2023-02-06T00:00:00",
          "2023-02-07T00:00:00",
          "2023-02-08T00:00:00",
          "2023-02-09T00:00:00",
          "2023-02-10T00:00:00",
          "2023-02-13T00:00:00",
          "2023-02-14T00:00:00",
          "2023-02-15T00:00:00",
          "2023-02-16T00:00:00",
          "2023-02-17T00:00:00",
          "2023-02-20T00:00:00",
          "2023-02-21T00:00:00",
          "2023-02-22T00:00:00",
          "2023-02-23T00:00:00",
          "2023-02-24T00:00:00",
          "2023-02-27T00:00:00",
          "2023-02-28T00:00:00",
          "2023-03-01T00:00:00",
          "2023-03-02T00:00:00",
          "2023-03-03T00:00:00",
          "2023-03-06T00:00:00",
          "2023-03-08T00:00:00",
          "2023-03-09T00:00:00",
          "2023-03-10T00:00:00",
          "2023-03-13T00:00:00",
          "2023-03-14T00:00:00",
          "2023-03-15T00:00:00",
          "2023-03-16T00:00:00",
          "2023-03-17T00:00:00",
          "2023-03-20T00:00:00",
          "2023-03-21T00:00:00",
          "2023-03-22T00:00:00",
          "2023-03-23T00:00:00",
          "2023-03-24T00:00:00",
          "2023-03-27T00:00:00",
          "2023-03-28T00:00:00",
          "2023-03-29T00:00:00",
          "2023-03-31T00:00:00",
          "2023-04-03T00:00:00",
          "2023-04-05T00:00:00",
          "2023-04-06T00:00:00",
          "2023-04-10T00:00:00",
          "2023-04-11T00:00:00",
          "2023-04-12T00:00:00",
          "2023-04-13T00:00:00",
          "2023-04-17T00:00:00",
          "2023-04-18T00:00:00",
          "2023-04-19T00:00:00",
          "2023-04-20T00:00:00",
          "2023-04-21T00:00:00",
          "2023-04-24T00:00:00",
          "2023-04-25T00:00:00",
          "2023-04-26T00:00:00",
          "2023-04-27T00:00:00",
          "2023-04-28T00:00:00",
          "2023-05-02T00:00:00",
          "2023-05-03T00:00:00",
          "2023-05-04T00:00:00",
          "2023-05-05T00:00:00",
          "2023-05-08T00:00:00",
          "2023-05-09T00:00:00",
          "2023-05-10T00:00:00",
          "2023-05-11T00:00:00",
          "2023-05-12T00:00:00",
          "2023-05-15T00:00:00",
          "2023-05-16T00:00:00",
          "2023-05-17T00:00:00",
          "2023-05-18T00:00:00",
          "2023-05-19T00:00:00",
          "2023-05-22T00:00:00",
          "2023-05-23T00:00:00",
          "2023-05-24T00:00:00",
          "2023-05-25T00:00:00",
          "2023-05-26T00:00:00",
          "2023-05-29T00:00:00",
          "2023-05-30T00:00:00",
          "2023-05-31T00:00:00",
          "2023-06-01T00:00:00",
          "2023-06-02T00:00:00",
          "2023-06-05T00:00:00",
          "2023-06-06T00:00:00",
          "2023-06-07T00:00:00",
          "2023-06-08T00:00:00",
          "2023-06-09T00:00:00",
          "2023-06-12T00:00:00",
          "2023-06-13T00:00:00",
          "2023-06-14T00:00:00",
          "2023-06-15T00:00:00",
          "2023-06-16T00:00:00",
          "2023-06-19T00:00:00",
          "2023-06-20T00:00:00",
          "2023-06-21T00:00:00",
          "2023-06-22T00:00:00",
          "2023-06-23T00:00:00",
          "2023-06-26T00:00:00",
          "2023-06-27T00:00:00",
          "2023-06-28T00:00:00",
          "2023-06-30T00:00:00",
          "2023-07-03T00:00:00",
          "2023-07-04T00:00:00",
          "2023-07-05T00:00:00",
          "2023-07-06T00:00:00",
          "2023-07-07T00:00:00",
          "2023-07-10T00:00:00",
          "2023-07-11T00:00:00",
          "2023-07-12T00:00:00",
          "2023-07-13T00:00:00",
          "2023-07-14T00:00:00",
          "2023-07-17T00:00:00",
          "2023-07-18T00:00:00",
          "2023-07-19T00:00:00",
          "2023-07-20T00:00:00",
          "2023-07-21T00:00:00",
          "2023-07-24T00:00:00",
          "2023-07-25T00:00:00",
          "2023-07-26T00:00:00",
          "2023-07-27T00:00:00",
          "2023-07-28T00:00:00",
          "2023-07-31T00:00:00",
          "2023-08-01T00:00:00",
          "2023-08-02T00:00:00",
          "2023-08-03T00:00:00",
          "2023-08-04T00:00:00",
          "2023-08-07T00:00:00",
          "2023-08-08T00:00:00",
          "2023-08-09T00:00:00",
          "2023-08-10T00:00:00",
          "2023-08-11T00:00:00",
          "2023-08-14T00:00:00",
          "2023-08-16T00:00:00",
          "2023-08-17T00:00:00",
          "2023-08-18T00:00:00",
          "2023-08-21T00:00:00",
          "2023-08-22T00:00:00",
          "2023-08-23T00:00:00",
          "2023-08-24T00:00:00",
          "2023-08-25T00:00:00",
          "2023-08-28T00:00:00",
          "2023-08-29T00:00:00",
          "2023-08-30T00:00:00",
          "2023-08-31T00:00:00",
          "2023-09-01T00:00:00",
          "2023-09-04T00:00:00",
          "2023-09-05T00:00:00",
          "2023-09-06T00:00:00",
          "2023-09-07T00:00:00",
          "2023-09-08T00:00:00",
          "2023-09-11T00:00:00",
          "2023-09-12T00:00:00",
          "2023-09-13T00:00:00",
          "2023-09-14T00:00:00",
          "2023-09-15T00:00:00",
          "2023-09-18T00:00:00",
          "2023-09-20T00:00:00",
          "2023-09-21T00:00:00",
          "2023-09-22T00:00:00",
          "2023-09-25T00:00:00",
          "2023-09-26T00:00:00",
          "2023-09-27T00:00:00",
          "2023-09-28T00:00:00",
          "2023-09-29T00:00:00",
          "2023-10-03T00:00:00",
          "2023-10-04T00:00:00",
          "2023-10-05T00:00:00",
          "2023-10-06T00:00:00",
          "2023-10-09T00:00:00",
          "2023-10-10T00:00:00",
          "2023-10-11T00:00:00",
          "2023-10-12T00:00:00",
          "2023-10-13T00:00:00",
          "2023-10-16T00:00:00",
          "2023-10-17T00:00:00",
          "2023-10-18T00:00:00",
          "2023-10-19T00:00:00",
          "2023-10-20T00:00:00",
          "2023-10-23T00:00:00",
          "2023-10-25T00:00:00",
          "2023-10-26T00:00:00",
          "2023-10-27T00:00:00",
          "2023-10-30T00:00:00",
          "2023-10-31T00:00:00",
          "2023-11-01T00:00:00",
          "2023-11-02T00:00:00",
          "2023-11-03T00:00:00",
          "2023-11-06T00:00:00",
          "2023-11-07T00:00:00",
          "2023-11-08T00:00:00",
          "2023-11-09T00:00:00",
          "2023-11-10T00:00:00",
          "2023-11-13T00:00:00",
          "2023-11-15T00:00:00",
          "2023-11-16T00:00:00",
          "2023-11-17T00:00:00",
          "2023-11-20T00:00:00",
          "2023-11-21T00:00:00",
          "2023-11-22T00:00:00",
          "2023-11-23T00:00:00",
          "2023-11-24T00:00:00",
          "2023-11-28T00:00:00",
          "2023-11-29T00:00:00",
          "2023-11-30T00:00:00",
          "2023-12-01T00:00:00",
          "2023-12-04T00:00:00",
          "2023-12-05T00:00:00",
          "2023-12-06T00:00:00",
          "2023-12-07T00:00:00",
          "2023-12-08T00:00:00",
          "2023-12-11T00:00:00",
          "2023-12-12T00:00:00",
          "2023-12-13T00:00:00",
          "2023-12-14T00:00:00",
          "2023-12-15T00:00:00",
          "2023-12-18T00:00:00",
          "2023-12-19T00:00:00",
          "2023-12-20T00:00:00",
          "2023-12-21T00:00:00",
          "2023-12-22T00:00:00",
          "2023-12-26T00:00:00",
          "2023-12-27T00:00:00",
          "2023-12-28T00:00:00",
          "2023-12-29T00:00:00"
         ],
         "xaxis": "x",
         "y": [
          null,
          0.015184235716844964,
          0.0009959859843140595,
          -0.0010715867099621486,
          -0.03052675163957915,
          0.033195958720291054,
          -0.01015706045333678,
          0.0127892656690702,
          0.0016958102194824694,
          0.011984356709016744,
          0.007980039212205432,
          0.013214286618495573,
          0.0034277968754408516,
          -0.00499756396205245,
          -0.002969098212395004,
          0.015284980643385748,
          0.006246936916870219,
          -0.0019077421046661367,
          -0.005467273378916578,
          0.0066036281469925694,
          -0.022069749371390886,
          0.01467412256615804,
          0.015155941026309842,
          0.006308939823699828,
          -0.006438917183919174,
          0.003634949947210233,
          0.013600269395224756,
          0.005877508312464533,
          -0.0009323580168477938,
          -0.015712792631819242,
          0.005069876689657029,
          0.005854013415262418,
          0.010567061416082973,
          -0.016121179081649617,
          -0.003963707024954739,
          -0.010463631195692439,
          -0.014432909975676035,
          0.0035948129397696837,
          -0.003918350977732933,
          -0.020379988392888,
          -0.005718898216667316,
          0.02175192166274448,
          -0.01915934893638932,
          0.006213045896895943,
          0.008847159213908065,
          0.0054863925953487725,
          -0.01592073495619277,
          -0.0017547480279994506,
          -0.01483481548299763,
          -0.020625906660835764,
          -0.0050048889200832464,
          -0.004354662559390311,
          -0.0017911992252170237,
          -0.011387736345083067,
          -0.011905305268940757,
          0.007920640012076503,
          -0.001966482036166972,
          -0.0013289565952834769,
          0.0005766589715781126,
          -0.0020517928139605185,
          0.007354325195860057,
          0.02112055234528093,
          -0.0018421222872914793,
          0.012360709231556478,
          -0.005912695833044141,
          0.013170737187402842,
          -0.01531543257452829,
          0.008628332025085362,
          -0.01642205937124583,
          -0.015596864313246205,
          -0.0027909686885414803,
          -0.013230871635510191,
          0.004907685236874001,
          0.0178916340663132,
          0.004403618188360511,
          0.00037795438618120844,
          0.006949847988372897,
          -0.0031943058152607037,
          0.009770366161324314,
          4.646303286760432e-05,
          -0.012345281936019473,
          0.012749146061570092,
          0.0031000150028425255,
          0.006140799866415002,
          0.009994139848518881,
          0.0010807959667617603,
          -0.0014159168956344914,
          -0.0023946014608644925,
          -0.005896397053356096,
          0.0009518184541043895,
          -0.015293683846480891,
          -0.002761806564569621,
          0.007162147067050513,
          0.02326221571534704,
          -0.0005000633949791714,
          0.0019088054428525116,
          -0.002986239545285636,
          0.010691040588154219,
          -0.0025716960052910615,
          -0.0012507309208064346,
          -0.008083768895844997,
          0.010433251512321577,
          -0.005550968219739532,
          -0.00506487509467159,
          -0.017359179653457766,
          0.013093459547846428,
          -0.01181028460355557,
          -0.008424308463489365,
          0.01164778543026004,
          -0.0009859634260196309,
          0.002263372242159788,
          -0.003336735332892732,
          -0.01295547114154973,
          0.011119353477640054,
          0.005374269835428576,
          0.009405036356708444,
          -0.006064501499737182,
          -0.006863092452097055,
          -0.008335940547559192,
          0.00241107296976136,
          0.005644904048822918,
          0.026636799788775225,
          -0.009110907916409403,
          0.011107563358246404,
          0.0033490161869842365,
          0.0008881110352072521,
          0.0019093092079604055,
          -0.017360995219154792,
          0.000137498089408802,
          -0.003827180261662941,
          0.02443896794289777,
          0.05080447757750044,
          -0.0065510951550494835,
          0.0014736894235597205,
          -0.007693540299455145,
          0.00064987382586234,
          -0.027813665300013588,
          0.007821930907486726,
          0.0012952501277622328,
          -0.003197054861086957,
          0.0025349855925463323,
          -0.012292299107797826,
          0.01949337912167445,
          0.00890380067869287,
          -0.0033078405863911776,
          -0.011899591059700433,
          0.012742123522489825,
          0.011692517488672454,
          -0.003867944320733446,
          -0.0023365940959117265,
          -0.005909011954885432,
          0.0019445659449018402,
          0.0003042839809088078,
          0.002475349114519214,
          -0.00657076806263704,
          -0.020183454299676898,
          0.010208793639202862,
          -0.005749044620075319,
          0.004748999479433747,
          -0.003094601570067624,
          -0.0019056645477190022,
          -0.0017020165924425145,
          0.00017768203146891195,
          0.004374058037089068,
          -0.01012186653864941,
          0.006650844565546903,
          0.011562841531601068,
          0.00316885590562754,
          0.0001603818630274604,
          0.007363655680210486,
          -0.003871032827991001,
          0.011195305749420544,
          0.028367210276101038,
          -0.0036230127356867686,
          -0.0021885144525159994,
          0.0106868111013636,
          0.002179148733923839,
          -2.767682237123052e-05,
          -0.005770785922082917,
          0.005105069084398321,
          -0.0073809509315778616,
          0.002387364018026395,
          0.0010034740856671252,
          -0.014748943450980106,
          -0.0023069481438522956,
          -0.004188971554783172,
          0.006778708265968978,
          0.014480231324057584,
          0.008889418080800033,
          0.0046696568986560796,
          -0.0026008203575461483,
          -0.005249393427882933,
          -0.01883325505486411,
          0.007956835799696148,
          -0.013192770346582988,
          -0.0048356732775518135,
          -0.0056618524029988845,
          -0.006518601812231223,
          0.011193997868078264,
          -0.02444823321270772,
          -0.005896952397033349,
          -0.015862118448648144,
          0.0042465594722744015,
          0.008202754615838869,
          -0.0029048300719258973,
          -0.011374349255075968,
          0.008803407638769663,
          -0.0027418737495451297,
          0.008720695815642786,
          -0.002903440695239825,
          0.003287977193075175,
          -0.010135311385311433,
          -0.004191056964734774,
          -0.0005700971364352681,
          0.02160155390263851,
          0.02710925979264454,
          0.0013142443331746535,
          0.004884559779335495,
          -0.0026743149675427266,
          0.005667283832296195,
          -0.006222960665381183,
          -0.014687306149728492,
          0.0037677899238789765,
          0.012486008730391922,
          -0.007470034501620512,
          0.006872150906866564,
          0.00022781742768949876,
          0.005437273886342844,
          0.020321017101814463,
          0.002992056548027233,
          0.0032590238125375934,
          0.004456781398649974,
          0.007983781442476499,
          -0.021623180320970364,
          0.020301459017392543,
          0.05148423945622645,
          -0.00046632281644304547,
          -0.011204792898434745,
          -0.009517861635385488,
          0.001968920310639706,
          0.00959089811666801,
          -0.007467749855632088,
          0.0041147350919588715,
          -0.002969360528921808,
          -0.001712075365552384
         ],
         "yaxis": "y"
        }
       ],
       "layout": {
        "legend": {
         "tracegroupgap": 0
        },
        "template": {
         "data": {
          "bar": [
           {
            "error_x": {
             "color": "#2a3f5f"
            },
            "error_y": {
             "color": "#2a3f5f"
            },
            "marker": {
             "line": {
              "color": "#E5ECF6",
              "width": 0.5
             },
             "pattern": {
              "fillmode": "overlay",
              "size": 10,
              "solidity": 0.2
             }
            },
            "type": "bar"
           }
          ],
          "barpolar": [
           {
            "marker": {
             "line": {
              "color": "#E5ECF6",
              "width": 0.5
             },
             "pattern": {
              "fillmode": "overlay",
              "size": 10,
              "solidity": 0.2
             }
            },
            "type": "barpolar"
           }
          ],
          "carpet": [
           {
            "aaxis": {
             "endlinecolor": "#2a3f5f",
             "gridcolor": "white",
             "linecolor": "white",
             "minorgridcolor": "white",
             "startlinecolor": "#2a3f5f"
            },
            "baxis": {
             "endlinecolor": "#2a3f5f",
             "gridcolor": "white",
             "linecolor": "white",
             "minorgridcolor": "white",
             "startlinecolor": "#2a3f5f"
            },
            "type": "carpet"
           }
          ],
          "choropleth": [
           {
            "colorbar": {
             "outlinewidth": 0,
             "ticks": ""
            },
            "type": "choropleth"
           }
          ],
          "contour": [
           {
            "colorbar": {
             "outlinewidth": 0,
             "ticks": ""
            },
            "colorscale": [
             [
              0,
              "#0d0887"
             ],
             [
              0.1111111111111111,
              "#46039f"
             ],
             [
              0.2222222222222222,
              "#7201a8"
             ],
             [
              0.3333333333333333,
              "#9c179e"
             ],
             [
              0.4444444444444444,
              "#bd3786"
             ],
             [
              0.5555555555555556,
              "#d8576b"
             ],
             [
              0.6666666666666666,
              "#ed7953"
             ],
             [
              0.7777777777777778,
              "#fb9f3a"
             ],
             [
              0.8888888888888888,
              "#fdca26"
             ],
             [
              1,
              "#f0f921"
             ]
            ],
            "type": "contour"
           }
          ],
          "contourcarpet": [
           {
            "colorbar": {
             "outlinewidth": 0,
             "ticks": ""
            },
            "type": "contourcarpet"
           }
          ],
          "heatmap": [
           {
            "colorbar": {
             "outlinewidth": 0,
             "ticks": ""
            },
            "colorscale": [
             [
              0,
              "#0d0887"
             ],
             [
              0.1111111111111111,
              "#46039f"
             ],
             [
              0.2222222222222222,
              "#7201a8"
             ],
             [
              0.3333333333333333,
              "#9c179e"
             ],
             [
              0.4444444444444444,
              "#bd3786"
             ],
             [
              0.5555555555555556,
              "#d8576b"
             ],
             [
              0.6666666666666666,
              "#ed7953"
             ],
             [
              0.7777777777777778,
              "#fb9f3a"
             ],
             [
              0.8888888888888888,
              "#fdca26"
             ],
             [
              1,
              "#f0f921"
             ]
            ],
            "type": "heatmap"
           }
          ],
          "heatmapgl": [
           {
            "colorbar": {
             "outlinewidth": 0,
             "ticks": ""
            },
            "colorscale": [
             [
              0,
              "#0d0887"
             ],
             [
              0.1111111111111111,
              "#46039f"
             ],
             [
              0.2222222222222222,
              "#7201a8"
             ],
             [
              0.3333333333333333,
              "#9c179e"
             ],
             [
              0.4444444444444444,
              "#bd3786"
             ],
             [
              0.5555555555555556,
              "#d8576b"
             ],
             [
              0.6666666666666666,
              "#ed7953"
             ],
             [
              0.7777777777777778,
              "#fb9f3a"
             ],
             [
              0.8888888888888888,
              "#fdca26"
             ],
             [
              1,
              "#f0f921"
             ]
            ],
            "type": "heatmapgl"
           }
          ],
          "histogram": [
           {
            "marker": {
             "pattern": {
              "fillmode": "overlay",
              "size": 10,
              "solidity": 0.2
             }
            },
            "type": "histogram"
           }
          ],
          "histogram2d": [
           {
            "colorbar": {
             "outlinewidth": 0,
             "ticks": ""
            },
            "colorscale": [
             [
              0,
              "#0d0887"
             ],
             [
              0.1111111111111111,
              "#46039f"
             ],
             [
              0.2222222222222222,
              "#7201a8"
             ],
             [
              0.3333333333333333,
              "#9c179e"
             ],
             [
              0.4444444444444444,
              "#bd3786"
             ],
             [
              0.5555555555555556,
              "#d8576b"
             ],
             [
              0.6666666666666666,
              "#ed7953"
             ],
             [
              0.7777777777777778,
              "#fb9f3a"
             ],
             [
              0.8888888888888888,
              "#fdca26"
             ],
             [
              1,
              "#f0f921"
             ]
            ],
            "type": "histogram2d"
           }
          ],
          "histogram2dcontour": [
           {
            "colorbar": {
             "outlinewidth": 0,
             "ticks": ""
            },
            "colorscale": [
             [
              0,
              "#0d0887"
             ],
             [
              0.1111111111111111,
              "#46039f"
             ],
             [
              0.2222222222222222,
              "#7201a8"
             ],
             [
              0.3333333333333333,
              "#9c179e"
             ],
             [
              0.4444444444444444,
              "#bd3786"
             ],
             [
              0.5555555555555556,
              "#d8576b"
             ],
             [
              0.6666666666666666,
              "#ed7953"
             ],
             [
              0.7777777777777778,
              "#fb9f3a"
             ],
             [
              0.8888888888888888,
              "#fdca26"
             ],
             [
              1,
              "#f0f921"
             ]
            ],
            "type": "histogram2dcontour"
           }
          ],
          "mesh3d": [
           {
            "colorbar": {
             "outlinewidth": 0,
             "ticks": ""
            },
            "type": "mesh3d"
           }
          ],
          "parcoords": [
           {
            "line": {
             "colorbar": {
              "outlinewidth": 0,
              "ticks": ""
             }
            },
            "type": "parcoords"
           }
          ],
          "pie": [
           {
            "automargin": true,
            "type": "pie"
           }
          ],
          "scatter": [
           {
            "fillpattern": {
             "fillmode": "overlay",
             "size": 10,
             "solidity": 0.2
            },
            "type": "scatter"
           }
          ],
          "scatter3d": [
           {
            "line": {
             "colorbar": {
              "outlinewidth": 0,
              "ticks": ""
             }
            },
            "marker": {
             "colorbar": {
              "outlinewidth": 0,
              "ticks": ""
             }
            },
            "type": "scatter3d"
           }
          ],
          "scattercarpet": [
           {
            "marker": {
             "colorbar": {
              "outlinewidth": 0,
              "ticks": ""
             }
            },
            "type": "scattercarpet"
           }
          ],
          "scattergeo": [
           {
            "marker": {
             "colorbar": {
              "outlinewidth": 0,
              "ticks": ""
             }
            },
            "type": "scattergeo"
           }
          ],
          "scattergl": [
           {
            "marker": {
             "colorbar": {
              "outlinewidth": 0,
              "ticks": ""
             }
            },
            "type": "scattergl"
           }
          ],
          "scattermapbox": [
           {
            "marker": {
             "colorbar": {
              "outlinewidth": 0,
              "ticks": ""
             }
            },
            "type": "scattermapbox"
           }
          ],
          "scatterpolar": [
           {
            "marker": {
             "colorbar": {
              "outlinewidth": 0,
              "ticks": ""
             }
            },
            "type": "scatterpolar"
           }
          ],
          "scatterpolargl": [
           {
            "marker": {
             "colorbar": {
              "outlinewidth": 0,
              "ticks": ""
             }
            },
            "type": "scatterpolargl"
           }
          ],
          "scatterternary": [
           {
            "marker": {
             "colorbar": {
              "outlinewidth": 0,
              "ticks": ""
             }
            },
            "type": "scatterternary"
           }
          ],
          "surface": [
           {
            "colorbar": {
             "outlinewidth": 0,
             "ticks": ""
            },
            "colorscale": [
             [
              0,
              "#0d0887"
             ],
             [
              0.1111111111111111,
              "#46039f"
             ],
             [
              0.2222222222222222,
              "#7201a8"
             ],
             [
              0.3333333333333333,
              "#9c179e"
             ],
             [
              0.4444444444444444,
              "#bd3786"
             ],
             [
              0.5555555555555556,
              "#d8576b"
             ],
             [
              0.6666666666666666,
              "#ed7953"
             ],
             [
              0.7777777777777778,
              "#fb9f3a"
             ],
             [
              0.8888888888888888,
              "#fdca26"
             ],
             [
              1,
              "#f0f921"
             ]
            ],
            "type": "surface"
           }
          ],
          "table": [
           {
            "cells": {
             "fill": {
              "color": "#EBF0F8"
             },
             "line": {
              "color": "white"
             }
            },
            "header": {
             "fill": {
              "color": "#C8D4E3"
             },
             "line": {
              "color": "white"
             }
            },
            "type": "table"
           }
          ]
         },
         "layout": {
          "annotationdefaults": {
           "arrowcolor": "#2a3f5f",
           "arrowhead": 0,
           "arrowwidth": 1
          },
          "autotypenumbers": "strict",
          "coloraxis": {
           "colorbar": {
            "outlinewidth": 0,
            "ticks": ""
           }
          },
          "colorscale": {
           "diverging": [
            [
             0,
             "#8e0152"
            ],
            [
             0.1,
             "#c51b7d"
            ],
            [
             0.2,
             "#de77ae"
            ],
            [
             0.3,
             "#f1b6da"
            ],
            [
             0.4,
             "#fde0ef"
            ],
            [
             0.5,
             "#f7f7f7"
            ],
            [
             0.6,
             "#e6f5d0"
            ],
            [
             0.7,
             "#b8e186"
            ],
            [
             0.8,
             "#7fbc41"
            ],
            [
             0.9,
             "#4d9221"
            ],
            [
             1,
             "#276419"
            ]
           ],
           "sequential": [
            [
             0,
             "#0d0887"
            ],
            [
             0.1111111111111111,
             "#46039f"
            ],
            [
             0.2222222222222222,
             "#7201a8"
            ],
            [
             0.3333333333333333,
             "#9c179e"
            ],
            [
             0.4444444444444444,
             "#bd3786"
            ],
            [
             0.5555555555555556,
             "#d8576b"
            ],
            [
             0.6666666666666666,
             "#ed7953"
            ],
            [
             0.7777777777777778,
             "#fb9f3a"
            ],
            [
             0.8888888888888888,
             "#fdca26"
            ],
            [
             1,
             "#f0f921"
            ]
           ],
           "sequentialminus": [
            [
             0,
             "#0d0887"
            ],
            [
             0.1111111111111111,
             "#46039f"
            ],
            [
             0.2222222222222222,
             "#7201a8"
            ],
            [
             0.3333333333333333,
             "#9c179e"
            ],
            [
             0.4444444444444444,
             "#bd3786"
            ],
            [
             0.5555555555555556,
             "#d8576b"
            ],
            [
             0.6666666666666666,
             "#ed7953"
            ],
            [
             0.7777777777777778,
             "#fb9f3a"
            ],
            [
             0.8888888888888888,
             "#fdca26"
            ],
            [
             1,
             "#f0f921"
            ]
           ]
          },
          "colorway": [
           "#636efa",
           "#EF553B",
           "#00cc96",
           "#ab63fa",
           "#FFA15A",
           "#19d3f3",
           "#FF6692",
           "#B6E880",
           "#FF97FF",
           "#FECB52"
          ],
          "font": {
           "color": "#2a3f5f"
          },
          "geo": {
           "bgcolor": "white",
           "lakecolor": "white",
           "landcolor": "#E5ECF6",
           "showlakes": true,
           "showland": true,
           "subunitcolor": "white"
          },
          "hoverlabel": {
           "align": "left"
          },
          "hovermode": "closest",
          "mapbox": {
           "style": "light"
          },
          "paper_bgcolor": "white",
          "plot_bgcolor": "#E5ECF6",
          "polar": {
           "angularaxis": {
            "gridcolor": "white",
            "linecolor": "white",
            "ticks": ""
           },
           "bgcolor": "#E5ECF6",
           "radialaxis": {
            "gridcolor": "white",
            "linecolor": "white",
            "ticks": ""
           }
          },
          "scene": {
           "xaxis": {
            "backgroundcolor": "#E5ECF6",
            "gridcolor": "white",
            "gridwidth": 2,
            "linecolor": "white",
            "showbackground": true,
            "ticks": "",
            "zerolinecolor": "white"
           },
           "yaxis": {
            "backgroundcolor": "#E5ECF6",
            "gridcolor": "white",
            "gridwidth": 2,
            "linecolor": "white",
            "showbackground": true,
            "ticks": "",
            "zerolinecolor": "white"
           },
           "zaxis": {
            "backgroundcolor": "#E5ECF6",
            "gridcolor": "white",
            "gridwidth": 2,
            "linecolor": "white",
            "showbackground": true,
            "ticks": "",
            "zerolinecolor": "white"
           }
          },
          "shapedefaults": {
           "line": {
            "color": "#2a3f5f"
           }
          },
          "ternary": {
           "aaxis": {
            "gridcolor": "white",
            "linecolor": "white",
            "ticks": ""
           },
           "baxis": {
            "gridcolor": "white",
            "linecolor": "white",
            "ticks": ""
           },
           "bgcolor": "#E5ECF6",
           "caxis": {
            "gridcolor": "white",
            "linecolor": "white",
            "ticks": ""
           }
          },
          "title": {
           "x": 0.05
          },
          "xaxis": {
           "automargin": true,
           "gridcolor": "white",
           "linecolor": "white",
           "ticks": "",
           "title": {
            "standoff": 15
           },
           "zerolinecolor": "white",
           "zerolinewidth": 2
          },
          "yaxis": {
           "automargin": true,
           "gridcolor": "white",
           "linecolor": "white",
           "ticks": "",
           "title": {
            "standoff": 15
           },
           "zerolinecolor": "white",
           "zerolinewidth": 2
          }
         }
        },
        "title": {
         "text": "TCS.NS Log Returns"
        },
        "xaxis": {
         "anchor": "y",
         "domain": [
          0,
          1
         ],
         "title": {
          "text": "Date"
         }
        },
        "yaxis": {
         "anchor": "x",
         "domain": [
          0,
          1
         ],
         "title": {
          "text": "Log Return"
         }
        }
       }
      }
     },
     "metadata": {},
     "output_type": "display_data"
    }
   ],
   "source": [
    "plt.figure(figsize=(16, 6))\n",
    "\n",
    "# plot 1: Simple Return\n",
    "plt.subplot(1, 2, 1)\n",
    "plt.bar(data.index, data['Daily Return']*100, color='green', label='Simple Return')\n",
    "plt.axhline(y=0, color='r', linestyle='-', alpha=0.3)\n",
    "plt.title(f'{stock_symbol} Simple Returns')\n",
    "plt.legend()\n",
    "\n",
    "# plot 2: Log Return\n",
    "plt.subplot(1, 2, 2)\n",
    "plt.bar(data.index, data['Log Return']*100, color='blue', label='Log Return')\n",
    "plt.axhline(y=0, color='r', linestyle='-', alpha=0.3)\n",
    "plt.title(f'{stock_symbol} Log Returns')\n",
    "plt.legend()\n",
    "\n",
    "plt.tight_layout()\n",
    "plt.show()\n",
    "\n",
    "# PLot of Simple and Log Returns using Plotly\n",
    "fig1 = px.line(data, x=data.index, y='Daily Return', title=f'{stock_symbol} Simple Returns')\n",
    "fig1.show()\n",
    "\n",
    "fig2 = px.line(data, x=data.index, y='Log Return', title=f'{stock_symbol} Log Returns')\n",
    "fig2.show()"
   ]
  },
  {
   "cell_type": "code",
   "execution_count": null,
   "metadata": {
    "colab": {
     "base_uri": "https://localhost:8080/",
     "height": 542
    },
    "id": "dIojNIuz8lcZ",
    "outputId": "cc825340-e754-458f-9928-ef7e9a89d836"
   },
   "outputs": [
    {
     "data": {
      "application/vnd.plotly.v1+json": {
       "config": {
        "plotlyServerURL": "https://plot.ly"
       },
       "data": [
        {
         "hovertemplate": "Date=%{x}<br>Difference in Returns=%{y}<extra></extra>",
         "legendgroup": "",
         "line": {
          "color": "#636efa",
          "dash": "solid"
         },
         "marker": {
          "symbol": "circle"
         },
         "mode": "lines",
         "name": "",
         "orientation": "v",
         "showlegend": false,
         "type": "scatter",
         "x": [
          "2023-01-02T00:00:00",
          "2023-01-03T00:00:00",
          "2023-01-04T00:00:00",
          "2023-01-05T00:00:00",
          "2023-01-06T00:00:00",
          "2023-01-09T00:00:00",
          "2023-01-10T00:00:00",
          "2023-01-11T00:00:00",
          "2023-01-12T00:00:00",
          "2023-01-13T00:00:00",
          "2023-01-16T00:00:00",
          "2023-01-17T00:00:00",
          "2023-01-18T00:00:00",
          "2023-01-19T00:00:00",
          "2023-01-20T00:00:00",
          "2023-01-23T00:00:00",
          "2023-01-24T00:00:00",
          "2023-01-25T00:00:00",
          "2023-01-27T00:00:00",
          "2023-01-30T00:00:00",
          "2023-01-31T00:00:00",
          "2023-02-01T00:00:00",
          "2023-02-02T00:00:00",
          "2023-02-03T00:00:00",
          "2023-02-06T00:00:00",
          "2023-02-07T00:00:00",
          "2023-02-08T00:00:00",
          "2023-02-09T00:00:00",
          "2023-02-10T00:00:00",
          "2023-02-13T00:00:00",
          "2023-02-14T00:00:00",
          "2023-02-15T00:00:00",
          "2023-02-16T00:00:00",
          "2023-02-17T00:00:00",
          "2023-02-20T00:00:00",
          "2023-02-21T00:00:00",
          "2023-02-22T00:00:00",
          "2023-02-23T00:00:00",
          "2023-02-24T00:00:00",
          "2023-02-27T00:00:00",
          "2023-02-28T00:00:00",
          "2023-03-01T00:00:00",
          "2023-03-02T00:00:00",
          "2023-03-03T00:00:00",
          "2023-03-06T00:00:00",
          "2023-03-08T00:00:00",
          "2023-03-09T00:00:00",
          "2023-03-10T00:00:00",
          "2023-03-13T00:00:00",
          "2023-03-14T00:00:00",
          "2023-03-15T00:00:00",
          "2023-03-16T00:00:00",
          "2023-03-17T00:00:00",
          "2023-03-20T00:00:00",
          "2023-03-21T00:00:00",
          "2023-03-22T00:00:00",
          "2023-03-23T00:00:00",
          "2023-03-24T00:00:00",
          "2023-03-27T00:00:00",
          "2023-03-28T00:00:00",
          "2023-03-29T00:00:00",
          "2023-03-31T00:00:00",
          "2023-04-03T00:00:00",
          "2023-04-05T00:00:00",
          "2023-04-06T00:00:00",
          "2023-04-10T00:00:00",
          "2023-04-11T00:00:00",
          "2023-04-12T00:00:00",
          "2023-04-13T00:00:00",
          "2023-04-17T00:00:00",
          "2023-04-18T00:00:00",
          "2023-04-19T00:00:00",
          "2023-04-20T00:00:00",
          "2023-04-21T00:00:00",
          "2023-04-24T00:00:00",
          "2023-04-25T00:00:00",
          "2023-04-26T00:00:00",
          "2023-04-27T00:00:00",
          "2023-04-28T00:00:00",
          "2023-05-02T00:00:00",
          "2023-05-03T00:00:00",
          "2023-05-04T00:00:00",
          "2023-05-05T00:00:00",
          "2023-05-08T00:00:00",
          "2023-05-09T00:00:00",
          "2023-05-10T00:00:00",
          "2023-05-11T00:00:00",
          "2023-05-12T00:00:00",
          "2023-05-15T00:00:00",
          "2023-05-16T00:00:00",
          "2023-05-17T00:00:00",
          "2023-05-18T00:00:00",
          "2023-05-19T00:00:00",
          "2023-05-22T00:00:00",
          "2023-05-23T00:00:00",
          "2023-05-24T00:00:00",
          "2023-05-25T00:00:00",
          "2023-05-26T00:00:00",
          "2023-05-29T00:00:00",
          "2023-05-30T00:00:00",
          "2023-05-31T00:00:00",
          "2023-06-01T00:00:00",
          "2023-06-02T00:00:00",
          "2023-06-05T00:00:00",
          "2023-06-06T00:00:00",
          "2023-06-07T00:00:00",
          "2023-06-08T00:00:00",
          "2023-06-09T00:00:00",
          "2023-06-12T00:00:00",
          "2023-06-13T00:00:00",
          "2023-06-14T00:00:00",
          "2023-06-15T00:00:00",
          "2023-06-16T00:00:00",
          "2023-06-19T00:00:00",
          "2023-06-20T00:00:00",
          "2023-06-21T00:00:00",
          "2023-06-22T00:00:00",
          "2023-06-23T00:00:00",
          "2023-06-26T00:00:00",
          "2023-06-27T00:00:00",
          "2023-06-28T00:00:00",
          "2023-06-30T00:00:00",
          "2023-07-03T00:00:00",
          "2023-07-04T00:00:00",
          "2023-07-05T00:00:00",
          "2023-07-06T00:00:00",
          "2023-07-07T00:00:00",
          "2023-07-10T00:00:00",
          "2023-07-11T00:00:00",
          "2023-07-12T00:00:00",
          "2023-07-13T00:00:00",
          "2023-07-14T00:00:00",
          "2023-07-17T00:00:00",
          "2023-07-18T00:00:00",
          "2023-07-19T00:00:00",
          "2023-07-20T00:00:00",
          "2023-07-21T00:00:00",
          "2023-07-24T00:00:00",
          "2023-07-25T00:00:00",
          "2023-07-26T00:00:00",
          "2023-07-27T00:00:00",
          "2023-07-28T00:00:00",
          "2023-07-31T00:00:00",
          "2023-08-01T00:00:00",
          "2023-08-02T00:00:00",
          "2023-08-03T00:00:00",
          "2023-08-04T00:00:00",
          "2023-08-07T00:00:00",
          "2023-08-08T00:00:00",
          "2023-08-09T00:00:00",
          "2023-08-10T00:00:00",
          "2023-08-11T00:00:00",
          "2023-08-14T00:00:00",
          "2023-08-16T00:00:00",
          "2023-08-17T00:00:00",
          "2023-08-18T00:00:00",
          "2023-08-21T00:00:00",
          "2023-08-22T00:00:00",
          "2023-08-23T00:00:00",
          "2023-08-24T00:00:00",
          "2023-08-25T00:00:00",
          "2023-08-28T00:00:00",
          "2023-08-29T00:00:00",
          "2023-08-30T00:00:00",
          "2023-08-31T00:00:00",
          "2023-09-01T00:00:00",
          "2023-09-04T00:00:00",
          "2023-09-05T00:00:00",
          "2023-09-06T00:00:00",
          "2023-09-07T00:00:00",
          "2023-09-08T00:00:00",
          "2023-09-11T00:00:00",
          "2023-09-12T00:00:00",
          "2023-09-13T00:00:00",
          "2023-09-14T00:00:00",
          "2023-09-15T00:00:00",
          "2023-09-18T00:00:00",
          "2023-09-20T00:00:00",
          "2023-09-21T00:00:00",
          "2023-09-22T00:00:00",
          "2023-09-25T00:00:00",
          "2023-09-26T00:00:00",
          "2023-09-27T00:00:00",
          "2023-09-28T00:00:00",
          "2023-09-29T00:00:00",
          "2023-10-03T00:00:00",
          "2023-10-04T00:00:00",
          "2023-10-05T00:00:00",
          "2023-10-06T00:00:00",
          "2023-10-09T00:00:00",
          "2023-10-10T00:00:00",
          "2023-10-11T00:00:00",
          "2023-10-12T00:00:00",
          "2023-10-13T00:00:00",
          "2023-10-16T00:00:00",
          "2023-10-17T00:00:00",
          "2023-10-18T00:00:00",
          "2023-10-19T00:00:00",
          "2023-10-20T00:00:00",
          "2023-10-23T00:00:00",
          "2023-10-25T00:00:00",
          "2023-10-26T00:00:00",
          "2023-10-27T00:00:00",
          "2023-10-30T00:00:00",
          "2023-10-31T00:00:00",
          "2023-11-01T00:00:00",
          "2023-11-02T00:00:00",
          "2023-11-03T00:00:00",
          "2023-11-06T00:00:00",
          "2023-11-07T00:00:00",
          "2023-11-08T00:00:00",
          "2023-11-09T00:00:00",
          "2023-11-10T00:00:00",
          "2023-11-13T00:00:00",
          "2023-11-15T00:00:00",
          "2023-11-16T00:00:00",
          "2023-11-17T00:00:00",
          "2023-11-20T00:00:00",
          "2023-11-21T00:00:00",
          "2023-11-22T00:00:00",
          "2023-11-23T00:00:00",
          "2023-11-24T00:00:00",
          "2023-11-28T00:00:00",
          "2023-11-29T00:00:00",
          "2023-11-30T00:00:00",
          "2023-12-01T00:00:00",
          "2023-12-04T00:00:00",
          "2023-12-05T00:00:00",
          "2023-12-06T00:00:00",
          "2023-12-07T00:00:00",
          "2023-12-08T00:00:00",
          "2023-12-11T00:00:00",
          "2023-12-12T00:00:00",
          "2023-12-13T00:00:00",
          "2023-12-14T00:00:00",
          "2023-12-15T00:00:00",
          "2023-12-18T00:00:00",
          "2023-12-19T00:00:00",
          "2023-12-20T00:00:00",
          "2023-12-21T00:00:00",
          "2023-12-22T00:00:00",
          "2023-12-26T00:00:00",
          "2023-12-27T00:00:00",
          "2023-12-28T00:00:00",
          "2023-12-29T00:00:00"
         ],
         "xaxis": "x",
         "y": [
          null,
          0.00011586621095976794,
          4.961587491891448e-07,
          5.739440099201704e-07,
          0.00046123602197808283,
          0.0005571336074139052,
          5.140873741862895e-05,
          8.213242248248862e-05,
          1.4386992889629802e-06,
          7.210013958293925e-05,
          3.1925378334445725e-05,
          8.769453324850712e-05,
          5.881614115705886e-06,
          1.2467045844706884e-05,
          4.4034129641590085e-06,
          0.0001174127711921942,
          1.9552804262420488e-05,
          1.8185833224701898e-06,
          1.4918339171406288e-05,
          2.1852026756518164e-05,
          0.0002417551606385647,
          0.00010819350367522775,
          0.00011543370572603823,
          1.9943279106275982e-05,
          2.0685406232540116e-05,
          6.614442520278506e-06,
          9.290436081653246e-05,
          1.7306441619510844e-05,
          4.345106854583341e-07,
          0.00012280189792113552,
          1.2873571436032225e-05,
          1.7168221182759305e-05,
          5.602857203092573e-05,
          0.00012925071741703986,
          7.8451180172091e-06,
          5.455334773091583e-05,
          0.00010365516409094507,
          6.469089435382543e-06,
          7.66672028981296e-06,
          0.0002062683381208602,
          1.6321769404407938e-05,
          0.00023829772267530344,
          0.00018237374784729754,
          1.9341004427051584e-05,
          3.925178327750245e-05,
          1.5077813511736766e-05,
          0.00012606499830562778,
          1.5386701964633601e-06,
          0.00010949376658202226,
          0.00021125904987264257,
          1.2503588164099536e-05,
          9.467794999874074e-06,
          1.6032399486240988e-06,
          6.459484068511816e-05,
          7.05877461928614e-05,
          3.1451252277752556e-05,
          1.9322590075420386e-06,
          8.826717619546658e-07,
          1.662997492953835e-07,
          2.1034879892473622e-06,
          2.7109466070695913e-05,
          0.00022461742656604278,
          1.6956658928739526e-06,
          7.670930097951507e-05,
          1.744558559173097e-05,
          8.711620041342363e-05,
          0.00011668478532146642,
          3.7331348612090406e-05,
          0.00013410690959578253,
          0.00012100119169207099,
          3.891132258989141e-06,
          8.714323177229366e-05,
          1.2062411959627185e-05,
          0.00016101411991611275,
          9.710174642943784e-06,
          7.14337583007955e-08,
          2.420623759596518e-05,
          5.096366925031164e-06,
          4.788585451398833e-05,
          1.0794234293223337e-09,
          7.589037599342943e-05,
          8.161684218242066e-05,
          4.810015598145662e-06,
          1.889336515916839e-05,
          5.0108206009756226e-05,
          5.84270434300909e-07,
          1.001937385188825e-06,
          2.8647709603810308e-06,
          1.7349632249531212e-05,
          4.5312293697416257e-07,
          0.00011635446479985392,
          3.8102791915261593e-06,
          2.5709517101594678e-05,
          0.0002726755810138412,
          1.2501086084555114e-07,
          1.8229287969471868e-06,
          4.454378260894051e-06,
          5.735338131392098e-05,
          3.3039772898741e-06,
          7.818379278692802e-07,
          3.258579531656078e-05,
          5.461614462729143e-05,
          1.5378156378181157e-05,
          1.2804852414855655e-05,
          0.00014980249052385167,
          8.609469022372897e-05,
          6.946766463652998e-05,
          3.5385051962282324e-05,
          6.809959904549925e-05,
          4.859022316610652e-07,
          2.563360534825216e-06,
          5.560714743707736e-06,
          8.356087018336969e-05,
          6.204978210276255e-05,
          1.4467293567214587e-05,
          4.436633435164934e-05,
          1.8351971958582847e-05,
          2.349723371110335e-05,
          3.464761208775424e-05,
          2.9089738790375602e-06,
          1.5962492305044394e-05,
          0.0003579305258421851,
          4.137856075920633e-05,
          6.191802230366868e-05,
          5.614220332413478e-06,
          3.9448737965000827e-07,
          1.8238914319870098e-06,
          0.00014983373689847132,
          9.45329556059876e-09,
          7.31432032828605e-06,
          0.0003010792626527946,
          0.001312683097681358,
          2.141164178326785e-05,
          1.0864138718872512e-06,
          2.9519529429330657e-05,
          2.1121374638762968e-07,
          0.00038323867787090973,
          3.067121879208115e-05,
          8.391987317104329e-07,
          5.1051379745263754e-06,
          3.21579273249422e-06,
          7.524169532135278e-05,
          0.00019123650886391022,
          3.975674102632554e-05,
          5.464877364149811e-06,
          7.052013627354553e-05,
          8.152676262285045e-05,
          6.862468691409308e-05,
          7.470861238417694e-06,
          2.7277110530637624e-06,
          1.7423874953589533e-05,
          1.8918944628056478e-06,
          4.629906642116986e-08,
          3.0662060742383222e-06,
          2.154029189041593e-05,
          0.0002023224387963235,
          5.228751311985372e-05,
          1.6494133381464438e-05,
          1.1294369935631841e-05,
          4.78334398528249e-06,
          1.8146258118274285e-06,
          1.4476088392467203e-06,
          1.5786387125386056e-08,
          9.580154814059494e-06,
          5.1053693028796365e-05,
          2.21659802996663e-05,
          6.710805599226786e-05,
          5.026131501887493e-06,
          1.286185858783307e-08,
          2.7178382281704654e-05,
          7.482789089736323e-06,
          6.290195178101747e-05,
          0.0004061809532078485,
          6.555191737532204e-06,
          2.3930516933612367e-06,
          5.730793016400955e-05,
          2.376070225620572e-06,
          3.829997148728124e-10,
          1.661900147843006e-05,
          1.3053067996722685e-05,
          2.717232469606149e-05,
          2.852022631083008e-06,
          5.036485723110967e-07,
          0.00010823290609874268,
          2.658959782077166e-06,
          8.761503178101107e-06,
          2.3027445583647353e-05,
          0.00010534641558727735,
          3.96282137903152e-05,
          1.0919838458892453e-05,
          3.379203064575974e-06,
          1.3753988457200668e-05,
          0.00017623763764896064,
          3.17397447689334e-05,
          8.664315510157825e-05,
          1.1673044766971619e-05,
          1.599807915542671e-05,
          2.119999500564424e-05,
          6.288722824612271e-05,
          0.0002964373500116066,
          1.735289729464136e-05,
          0.00012514086076097566,
          9.029410460960167e-06,
          3.373476789901922e-05,
          4.2149366607140484e-06,
          6.44433453634869e-05,
          3.8863954390315134e-05,
          3.7555026737058628e-06,
          3.813604476004054e-05,
          4.2109075760543915e-06,
          5.411326158045321e-06,
          5.118918303459799e-05,
          8.77022279511825e-06,
          1.624744956042149e-07,
          0.00023500265589915595,
          0.0003707990963732928,
          8.639975434753758e-07,
          1.1948909251103569e-05,
          3.5727946370886325e-06,
          1.6089433119374948e-05,
          1.9322517855291203e-05,
          0.00010733236401808295,
          7.107043601036096e-06,
          7.82756512361215e-05,
          2.783136419257353e-05,
          2.366741332647266e-05,
          2.595236094215668e-08,
          1.4808801328100932e-05,
          0.00020787757489324626,
          4.48066888372213e-06,
          5.316391952474818e-06,
          9.94622077215429e-06,
          3.195536800911988e-05,
          0.00023210500395802122,
          0.00020747626422247187,
          0.0013483534909797673,
          1.0871158568010256e-07,
          6.253989182953765e-05,
          4.515148298645487e-05,
          1.939596356152675e-06,
          4.614005355642152e-05,
          2.781436398341299e-05,
          8.477145519930097e-06,
          4.404190686905021e-06,
          1.4647649800685059e-06
         ],
         "yaxis": "y"
        }
       ],
       "layout": {
        "legend": {
         "tracegroupgap": 0
        },
        "template": {
         "data": {
          "bar": [
           {
            "error_x": {
             "color": "#2a3f5f"
            },
            "error_y": {
             "color": "#2a3f5f"
            },
            "marker": {
             "line": {
              "color": "#E5ECF6",
              "width": 0.5
             },
             "pattern": {
              "fillmode": "overlay",
              "size": 10,
              "solidity": 0.2
             }
            },
            "type": "bar"
           }
          ],
          "barpolar": [
           {
            "marker": {
             "line": {
              "color": "#E5ECF6",
              "width": 0.5
             },
             "pattern": {
              "fillmode": "overlay",
              "size": 10,
              "solidity": 0.2
             }
            },
            "type": "barpolar"
           }
          ],
          "carpet": [
           {
            "aaxis": {
             "endlinecolor": "#2a3f5f",
             "gridcolor": "white",
             "linecolor": "white",
             "minorgridcolor": "white",
             "startlinecolor": "#2a3f5f"
            },
            "baxis": {
             "endlinecolor": "#2a3f5f",
             "gridcolor": "white",
             "linecolor": "white",
             "minorgridcolor": "white",
             "startlinecolor": "#2a3f5f"
            },
            "type": "carpet"
           }
          ],
          "choropleth": [
           {
            "colorbar": {
             "outlinewidth": 0,
             "ticks": ""
            },
            "type": "choropleth"
           }
          ],
          "contour": [
           {
            "colorbar": {
             "outlinewidth": 0,
             "ticks": ""
            },
            "colorscale": [
             [
              0,
              "#0d0887"
             ],
             [
              0.1111111111111111,
              "#46039f"
             ],
             [
              0.2222222222222222,
              "#7201a8"
             ],
             [
              0.3333333333333333,
              "#9c179e"
             ],
             [
              0.4444444444444444,
              "#bd3786"
             ],
             [
              0.5555555555555556,
              "#d8576b"
             ],
             [
              0.6666666666666666,
              "#ed7953"
             ],
             [
              0.7777777777777778,
              "#fb9f3a"
             ],
             [
              0.8888888888888888,
              "#fdca26"
             ],
             [
              1,
              "#f0f921"
             ]
            ],
            "type": "contour"
           }
          ],
          "contourcarpet": [
           {
            "colorbar": {
             "outlinewidth": 0,
             "ticks": ""
            },
            "type": "contourcarpet"
           }
          ],
          "heatmap": [
           {
            "colorbar": {
             "outlinewidth": 0,
             "ticks": ""
            },
            "colorscale": [
             [
              0,
              "#0d0887"
             ],
             [
              0.1111111111111111,
              "#46039f"
             ],
             [
              0.2222222222222222,
              "#7201a8"
             ],
             [
              0.3333333333333333,
              "#9c179e"
             ],
             [
              0.4444444444444444,
              "#bd3786"
             ],
             [
              0.5555555555555556,
              "#d8576b"
             ],
             [
              0.6666666666666666,
              "#ed7953"
             ],
             [
              0.7777777777777778,
              "#fb9f3a"
             ],
             [
              0.8888888888888888,
              "#fdca26"
             ],
             [
              1,
              "#f0f921"
             ]
            ],
            "type": "heatmap"
           }
          ],
          "heatmapgl": [
           {
            "colorbar": {
             "outlinewidth": 0,
             "ticks": ""
            },
            "colorscale": [
             [
              0,
              "#0d0887"
             ],
             [
              0.1111111111111111,
              "#46039f"
             ],
             [
              0.2222222222222222,
              "#7201a8"
             ],
             [
              0.3333333333333333,
              "#9c179e"
             ],
             [
              0.4444444444444444,
              "#bd3786"
             ],
             [
              0.5555555555555556,
              "#d8576b"
             ],
             [
              0.6666666666666666,
              "#ed7953"
             ],
             [
              0.7777777777777778,
              "#fb9f3a"
             ],
             [
              0.8888888888888888,
              "#fdca26"
             ],
             [
              1,
              "#f0f921"
             ]
            ],
            "type": "heatmapgl"
           }
          ],
          "histogram": [
           {
            "marker": {
             "pattern": {
              "fillmode": "overlay",
              "size": 10,
              "solidity": 0.2
             }
            },
            "type": "histogram"
           }
          ],
          "histogram2d": [
           {
            "colorbar": {
             "outlinewidth": 0,
             "ticks": ""
            },
            "colorscale": [
             [
              0,
              "#0d0887"
             ],
             [
              0.1111111111111111,
              "#46039f"
             ],
             [
              0.2222222222222222,
              "#7201a8"
             ],
             [
              0.3333333333333333,
              "#9c179e"
             ],
             [
              0.4444444444444444,
              "#bd3786"
             ],
             [
              0.5555555555555556,
              "#d8576b"
             ],
             [
              0.6666666666666666,
              "#ed7953"
             ],
             [
              0.7777777777777778,
              "#fb9f3a"
             ],
             [
              0.8888888888888888,
              "#fdca26"
             ],
             [
              1,
              "#f0f921"
             ]
            ],
            "type": "histogram2d"
           }
          ],
          "histogram2dcontour": [
           {
            "colorbar": {
             "outlinewidth": 0,
             "ticks": ""
            },
            "colorscale": [
             [
              0,
              "#0d0887"
             ],
             [
              0.1111111111111111,
              "#46039f"
             ],
             [
              0.2222222222222222,
              "#7201a8"
             ],
             [
              0.3333333333333333,
              "#9c179e"
             ],
             [
              0.4444444444444444,
              "#bd3786"
             ],
             [
              0.5555555555555556,
              "#d8576b"
             ],
             [
              0.6666666666666666,
              "#ed7953"
             ],
             [
              0.7777777777777778,
              "#fb9f3a"
             ],
             [
              0.8888888888888888,
              "#fdca26"
             ],
             [
              1,
              "#f0f921"
             ]
            ],
            "type": "histogram2dcontour"
           }
          ],
          "mesh3d": [
           {
            "colorbar": {
             "outlinewidth": 0,
             "ticks": ""
            },
            "type": "mesh3d"
           }
          ],
          "parcoords": [
           {
            "line": {
             "colorbar": {
              "outlinewidth": 0,
              "ticks": ""
             }
            },
            "type": "parcoords"
           }
          ],
          "pie": [
           {
            "automargin": true,
            "type": "pie"
           }
          ],
          "scatter": [
           {
            "fillpattern": {
             "fillmode": "overlay",
             "size": 10,
             "solidity": 0.2
            },
            "type": "scatter"
           }
          ],
          "scatter3d": [
           {
            "line": {
             "colorbar": {
              "outlinewidth": 0,
              "ticks": ""
             }
            },
            "marker": {
             "colorbar": {
              "outlinewidth": 0,
              "ticks": ""
             }
            },
            "type": "scatter3d"
           }
          ],
          "scattercarpet": [
           {
            "marker": {
             "colorbar": {
              "outlinewidth": 0,
              "ticks": ""
             }
            },
            "type": "scattercarpet"
           }
          ],
          "scattergeo": [
           {
            "marker": {
             "colorbar": {
              "outlinewidth": 0,
              "ticks": ""
             }
            },
            "type": "scattergeo"
           }
          ],
          "scattergl": [
           {
            "marker": {
             "colorbar": {
              "outlinewidth": 0,
              "ticks": ""
             }
            },
            "type": "scattergl"
           }
          ],
          "scattermapbox": [
           {
            "marker": {
             "colorbar": {
              "outlinewidth": 0,
              "ticks": ""
             }
            },
            "type": "scattermapbox"
           }
          ],
          "scatterpolar": [
           {
            "marker": {
             "colorbar": {
              "outlinewidth": 0,
              "ticks": ""
             }
            },
            "type": "scatterpolar"
           }
          ],
          "scatterpolargl": [
           {
            "marker": {
             "colorbar": {
              "outlinewidth": 0,
              "ticks": ""
             }
            },
            "type": "scatterpolargl"
           }
          ],
          "scatterternary": [
           {
            "marker": {
             "colorbar": {
              "outlinewidth": 0,
              "ticks": ""
             }
            },
            "type": "scatterternary"
           }
          ],
          "surface": [
           {
            "colorbar": {
             "outlinewidth": 0,
             "ticks": ""
            },
            "colorscale": [
             [
              0,
              "#0d0887"
             ],
             [
              0.1111111111111111,
              "#46039f"
             ],
             [
              0.2222222222222222,
              "#7201a8"
             ],
             [
              0.3333333333333333,
              "#9c179e"
             ],
             [
              0.4444444444444444,
              "#bd3786"
             ],
             [
              0.5555555555555556,
              "#d8576b"
             ],
             [
              0.6666666666666666,
              "#ed7953"
             ],
             [
              0.7777777777777778,
              "#fb9f3a"
             ],
             [
              0.8888888888888888,
              "#fdca26"
             ],
             [
              1,
              "#f0f921"
             ]
            ],
            "type": "surface"
           }
          ],
          "table": [
           {
            "cells": {
             "fill": {
              "color": "#EBF0F8"
             },
             "line": {
              "color": "white"
             }
            },
            "header": {
             "fill": {
              "color": "#C8D4E3"
             },
             "line": {
              "color": "white"
             }
            },
            "type": "table"
           }
          ]
         },
         "layout": {
          "annotationdefaults": {
           "arrowcolor": "#2a3f5f",
           "arrowhead": 0,
           "arrowwidth": 1
          },
          "autotypenumbers": "strict",
          "coloraxis": {
           "colorbar": {
            "outlinewidth": 0,
            "ticks": ""
           }
          },
          "colorscale": {
           "diverging": [
            [
             0,
             "#8e0152"
            ],
            [
             0.1,
             "#c51b7d"
            ],
            [
             0.2,
             "#de77ae"
            ],
            [
             0.3,
             "#f1b6da"
            ],
            [
             0.4,
             "#fde0ef"
            ],
            [
             0.5,
             "#f7f7f7"
            ],
            [
             0.6,
             "#e6f5d0"
            ],
            [
             0.7,
             "#b8e186"
            ],
            [
             0.8,
             "#7fbc41"
            ],
            [
             0.9,
             "#4d9221"
            ],
            [
             1,
             "#276419"
            ]
           ],
           "sequential": [
            [
             0,
             "#0d0887"
            ],
            [
             0.1111111111111111,
             "#46039f"
            ],
            [
             0.2222222222222222,
             "#7201a8"
            ],
            [
             0.3333333333333333,
             "#9c179e"
            ],
            [
             0.4444444444444444,
             "#bd3786"
            ],
            [
             0.5555555555555556,
             "#d8576b"
            ],
            [
             0.6666666666666666,
             "#ed7953"
            ],
            [
             0.7777777777777778,
             "#fb9f3a"
            ],
            [
             0.8888888888888888,
             "#fdca26"
            ],
            [
             1,
             "#f0f921"
            ]
           ],
           "sequentialminus": [
            [
             0,
             "#0d0887"
            ],
            [
             0.1111111111111111,
             "#46039f"
            ],
            [
             0.2222222222222222,
             "#7201a8"
            ],
            [
             0.3333333333333333,
             "#9c179e"
            ],
            [
             0.4444444444444444,
             "#bd3786"
            ],
            [
             0.5555555555555556,
             "#d8576b"
            ],
            [
             0.6666666666666666,
             "#ed7953"
            ],
            [
             0.7777777777777778,
             "#fb9f3a"
            ],
            [
             0.8888888888888888,
             "#fdca26"
            ],
            [
             1,
             "#f0f921"
            ]
           ]
          },
          "colorway": [
           "#636efa",
           "#EF553B",
           "#00cc96",
           "#ab63fa",
           "#FFA15A",
           "#19d3f3",
           "#FF6692",
           "#B6E880",
           "#FF97FF",
           "#FECB52"
          ],
          "font": {
           "color": "#2a3f5f"
          },
          "geo": {
           "bgcolor": "white",
           "lakecolor": "white",
           "landcolor": "#E5ECF6",
           "showlakes": true,
           "showland": true,
           "subunitcolor": "white"
          },
          "hoverlabel": {
           "align": "left"
          },
          "hovermode": "closest",
          "mapbox": {
           "style": "light"
          },
          "paper_bgcolor": "white",
          "plot_bgcolor": "#E5ECF6",
          "polar": {
           "angularaxis": {
            "gridcolor": "white",
            "linecolor": "white",
            "ticks": ""
           },
           "bgcolor": "#E5ECF6",
           "radialaxis": {
            "gridcolor": "white",
            "linecolor": "white",
            "ticks": ""
           }
          },
          "scene": {
           "xaxis": {
            "backgroundcolor": "#E5ECF6",
            "gridcolor": "white",
            "gridwidth": 2,
            "linecolor": "white",
            "showbackground": true,
            "ticks": "",
            "zerolinecolor": "white"
           },
           "yaxis": {
            "backgroundcolor": "#E5ECF6",
            "gridcolor": "white",
            "gridwidth": 2,
            "linecolor": "white",
            "showbackground": true,
            "ticks": "",
            "zerolinecolor": "white"
           },
           "zaxis": {
            "backgroundcolor": "#E5ECF6",
            "gridcolor": "white",
            "gridwidth": 2,
            "linecolor": "white",
            "showbackground": true,
            "ticks": "",
            "zerolinecolor": "white"
           }
          },
          "shapedefaults": {
           "line": {
            "color": "#2a3f5f"
           }
          },
          "ternary": {
           "aaxis": {
            "gridcolor": "white",
            "linecolor": "white",
            "ticks": ""
           },
           "baxis": {
            "gridcolor": "white",
            "linecolor": "white",
            "ticks": ""
           },
           "bgcolor": "#E5ECF6",
           "caxis": {
            "gridcolor": "white",
            "linecolor": "white",
            "ticks": ""
           }
          },
          "title": {
           "x": 0.05
          },
          "xaxis": {
           "automargin": true,
           "gridcolor": "white",
           "linecolor": "white",
           "ticks": "",
           "title": {
            "standoff": 15
           },
           "zerolinecolor": "white",
           "zerolinewidth": 2
          },
          "yaxis": {
           "automargin": true,
           "gridcolor": "white",
           "linecolor": "white",
           "ticks": "",
           "title": {
            "standoff": 15
           },
           "zerolinecolor": "white",
           "zerolinewidth": 2
          }
         }
        },
        "title": {
         "text": "TCS.NS"
        },
        "xaxis": {
         "anchor": "y",
         "domain": [
          0,
          1
         ],
         "title": {
          "text": "Date"
         }
        },
        "yaxis": {
         "anchor": "x",
         "domain": [
          0,
          1
         ],
         "title": {
          "text": "Difference in Returns"
         }
        }
       }
      }
     },
     "metadata": {},
     "output_type": "display_data"
    }
   ],
   "source": [
    "# Plot of the difference between Simple and Log Returns\n",
    "fig3 = px.line(data, x=data.index, y='Difference in Returns', title=f'{stock_symbol}')\n",
    "fig3.show()"
   ]
  },
  {
   "cell_type": "markdown",
   "metadata": {
    "id": "hSbOquLMWfEc"
   },
   "source": [
    "### Volatility Estimation\n",
    " Compute rolling 14-day volatility (standard deviation of daily returns)."
   ]
  },
  {
   "cell_type": "code",
   "execution_count": 15,
   "metadata": {
    "colab": {
     "base_uri": "https://localhost:8080/",
     "height": 637
    },
    "id": "h3MTErZOCaBy",
    "outputId": "437cb38f-2e6b-46fb-b1fc-5429c01274c4"
   },
   "outputs": [
    {
     "data": {
      "application/vnd.plotly.v1+json": {
       "config": {
        "plotlyServerURL": "https://plot.ly"
       },
       "data": [
        {
         "line": {
          "color": "rgb(34,163,192)"
         },
         "name": "Rolling 14-Day Standard Deviation",
         "type": "scatter",
         "x": [
          "2023-01-02T00:00:00",
          "2023-01-03T00:00:00",
          "2023-01-04T00:00:00",
          "2023-01-05T00:00:00",
          "2023-01-06T00:00:00",
          "2023-01-09T00:00:00",
          "2023-01-10T00:00:00",
          "2023-01-11T00:00:00",
          "2023-01-12T00:00:00",
          "2023-01-13T00:00:00",
          "2023-01-16T00:00:00",
          "2023-01-17T00:00:00",
          "2023-01-18T00:00:00",
          "2023-01-19T00:00:00",
          "2023-01-20T00:00:00",
          "2023-01-23T00:00:00",
          "2023-01-24T00:00:00",
          "2023-01-25T00:00:00",
          "2023-01-27T00:00:00",
          "2023-01-30T00:00:00",
          "2023-01-31T00:00:00",
          "2023-02-01T00:00:00",
          "2023-02-02T00:00:00",
          "2023-02-03T00:00:00",
          "2023-02-06T00:00:00",
          "2023-02-07T00:00:00",
          "2023-02-08T00:00:00",
          "2023-02-09T00:00:00",
          "2023-02-10T00:00:00",
          "2023-02-13T00:00:00",
          "2023-02-14T00:00:00",
          "2023-02-15T00:00:00",
          "2023-02-16T00:00:00",
          "2023-02-17T00:00:00",
          "2023-02-20T00:00:00",
          "2023-02-21T00:00:00",
          "2023-02-22T00:00:00",
          "2023-02-23T00:00:00",
          "2023-02-24T00:00:00",
          "2023-02-27T00:00:00",
          "2023-02-28T00:00:00",
          "2023-03-01T00:00:00",
          "2023-03-02T00:00:00",
          "2023-03-03T00:00:00",
          "2023-03-06T00:00:00",
          "2023-03-08T00:00:00",
          "2023-03-09T00:00:00",
          "2023-03-10T00:00:00",
          "2023-03-13T00:00:00",
          "2023-03-14T00:00:00",
          "2023-03-15T00:00:00",
          "2023-03-16T00:00:00",
          "2023-03-17T00:00:00",
          "2023-03-20T00:00:00",
          "2023-03-21T00:00:00",
          "2023-03-22T00:00:00",
          "2023-03-23T00:00:00",
          "2023-03-24T00:00:00",
          "2023-03-27T00:00:00",
          "2023-03-28T00:00:00",
          "2023-03-29T00:00:00",
          "2023-03-31T00:00:00",
          "2023-04-03T00:00:00",
          "2023-04-05T00:00:00",
          "2023-04-06T00:00:00",
          "2023-04-10T00:00:00",
          "2023-04-11T00:00:00",
          "2023-04-12T00:00:00",
          "2023-04-13T00:00:00",
          "2023-04-17T00:00:00",
          "2023-04-18T00:00:00",
          "2023-04-19T00:00:00",
          "2023-04-20T00:00:00",
          "2023-04-21T00:00:00",
          "2023-04-24T00:00:00",
          "2023-04-25T00:00:00",
          "2023-04-26T00:00:00",
          "2023-04-27T00:00:00",
          "2023-04-28T00:00:00",
          "2023-05-02T00:00:00",
          "2023-05-03T00:00:00",
          "2023-05-04T00:00:00",
          "2023-05-05T00:00:00",
          "2023-05-08T00:00:00",
          "2023-05-09T00:00:00",
          "2023-05-10T00:00:00",
          "2023-05-11T00:00:00",
          "2023-05-12T00:00:00",
          "2023-05-15T00:00:00",
          "2023-05-16T00:00:00",
          "2023-05-17T00:00:00",
          "2023-05-18T00:00:00",
          "2023-05-19T00:00:00",
          "2023-05-22T00:00:00",
          "2023-05-23T00:00:00",
          "2023-05-24T00:00:00",
          "2023-05-25T00:00:00",
          "2023-05-26T00:00:00",
          "2023-05-29T00:00:00",
          "2023-05-30T00:00:00",
          "2023-05-31T00:00:00",
          "2023-06-01T00:00:00",
          "2023-06-02T00:00:00",
          "2023-06-05T00:00:00",
          "2023-06-06T00:00:00",
          "2023-06-07T00:00:00",
          "2023-06-08T00:00:00",
          "2023-06-09T00:00:00",
          "2023-06-12T00:00:00",
          "2023-06-13T00:00:00",
          "2023-06-14T00:00:00",
          "2023-06-15T00:00:00",
          "2023-06-16T00:00:00",
          "2023-06-19T00:00:00",
          "2023-06-20T00:00:00",
          "2023-06-21T00:00:00",
          "2023-06-22T00:00:00",
          "2023-06-23T00:00:00",
          "2023-06-26T00:00:00",
          "2023-06-27T00:00:00",
          "2023-06-28T00:00:00",
          "2023-06-30T00:00:00",
          "2023-07-03T00:00:00",
          "2023-07-04T00:00:00",
          "2023-07-05T00:00:00",
          "2023-07-06T00:00:00",
          "2023-07-07T00:00:00",
          "2023-07-10T00:00:00",
          "2023-07-11T00:00:00",
          "2023-07-12T00:00:00",
          "2023-07-13T00:00:00",
          "2023-07-14T00:00:00",
          "2023-07-17T00:00:00",
          "2023-07-18T00:00:00",
          "2023-07-19T00:00:00",
          "2023-07-20T00:00:00",
          "2023-07-21T00:00:00",
          "2023-07-24T00:00:00",
          "2023-07-25T00:00:00",
          "2023-07-26T00:00:00",
          "2023-07-27T00:00:00",
          "2023-07-28T00:00:00",
          "2023-07-31T00:00:00",
          "2023-08-01T00:00:00",
          "2023-08-02T00:00:00",
          "2023-08-03T00:00:00",
          "2023-08-04T00:00:00",
          "2023-08-07T00:00:00",
          "2023-08-08T00:00:00",
          "2023-08-09T00:00:00",
          "2023-08-10T00:00:00",
          "2023-08-11T00:00:00",
          "2023-08-14T00:00:00",
          "2023-08-16T00:00:00",
          "2023-08-17T00:00:00",
          "2023-08-18T00:00:00",
          "2023-08-21T00:00:00",
          "2023-08-22T00:00:00",
          "2023-08-23T00:00:00",
          "2023-08-24T00:00:00",
          "2023-08-25T00:00:00",
          "2023-08-28T00:00:00",
          "2023-08-29T00:00:00",
          "2023-08-30T00:00:00",
          "2023-08-31T00:00:00",
          "2023-09-01T00:00:00",
          "2023-09-04T00:00:00",
          "2023-09-05T00:00:00",
          "2023-09-06T00:00:00",
          "2023-09-07T00:00:00",
          "2023-09-08T00:00:00",
          "2023-09-11T00:00:00",
          "2023-09-12T00:00:00",
          "2023-09-13T00:00:00",
          "2023-09-14T00:00:00",
          "2023-09-15T00:00:00",
          "2023-09-18T00:00:00",
          "2023-09-20T00:00:00",
          "2023-09-21T00:00:00",
          "2023-09-22T00:00:00",
          "2023-09-25T00:00:00",
          "2023-09-26T00:00:00",
          "2023-09-27T00:00:00",
          "2023-09-28T00:00:00",
          "2023-09-29T00:00:00",
          "2023-10-03T00:00:00",
          "2023-10-04T00:00:00",
          "2023-10-05T00:00:00",
          "2023-10-06T00:00:00",
          "2023-10-09T00:00:00",
          "2023-10-10T00:00:00",
          "2023-10-11T00:00:00",
          "2023-10-12T00:00:00",
          "2023-10-13T00:00:00",
          "2023-10-16T00:00:00",
          "2023-10-17T00:00:00",
          "2023-10-18T00:00:00",
          "2023-10-19T00:00:00",
          "2023-10-20T00:00:00",
          "2023-10-23T00:00:00",
          "2023-10-25T00:00:00",
          "2023-10-26T00:00:00",
          "2023-10-27T00:00:00",
          "2023-10-30T00:00:00",
          "2023-10-31T00:00:00",
          "2023-11-01T00:00:00",
          "2023-11-02T00:00:00",
          "2023-11-03T00:00:00",
          "2023-11-06T00:00:00",
          "2023-11-07T00:00:00",
          "2023-11-08T00:00:00",
          "2023-11-09T00:00:00",
          "2023-11-10T00:00:00",
          "2023-11-13T00:00:00",
          "2023-11-15T00:00:00",
          "2023-11-16T00:00:00",
          "2023-11-17T00:00:00",
          "2023-11-20T00:00:00",
          "2023-11-21T00:00:00",
          "2023-11-22T00:00:00",
          "2023-11-23T00:00:00",
          "2023-11-24T00:00:00",
          "2023-11-28T00:00:00",
          "2023-11-29T00:00:00",
          "2023-11-30T00:00:00",
          "2023-12-01T00:00:00",
          "2023-12-04T00:00:00",
          "2023-12-05T00:00:00",
          "2023-12-06T00:00:00",
          "2023-12-07T00:00:00",
          "2023-12-08T00:00:00",
          "2023-12-11T00:00:00",
          "2023-12-12T00:00:00",
          "2023-12-13T00:00:00",
          "2023-12-14T00:00:00",
          "2023-12-15T00:00:00",
          "2023-12-18T00:00:00",
          "2023-12-19T00:00:00",
          "2023-12-20T00:00:00",
          "2023-12-21T00:00:00",
          "2023-12-22T00:00:00",
          "2023-12-26T00:00:00",
          "2023-12-27T00:00:00",
          "2023-12-28T00:00:00",
          "2023-12-29T00:00:00"
         ],
         "xaxis": "x",
         "y": [
          null,
          null,
          null,
          null,
          null,
          null,
          null,
          null,
          null,
          null,
          null,
          null,
          null,
          null,
          0.014642357219424723,
          0.014648598603991767,
          0.014640438582212761,
          0.014664866119737215,
          0.011363483272046785,
          0.008067581778575904,
          0.010005737121938944,
          0.010162013572605242,
          0.010646262273163119,
          0.010426597948736342,
          0.010681401021699974,
          0.010247323416094781,
          0.010712917295007538,
          0.010501410028657336,
          0.010418517274936362,
          0.011009564312365968,
          0.01097426335714582,
          0.010992449037912336,
          0.011001977706869668,
          0.012051036003573577,
          0.01019868256055237,
          0.01013186490189735,
          0.009997980734526556,
          0.009866151674473626,
          0.00978997681892294,
          0.010892198964307714,
          0.009798644115030375,
          0.011820035307057556,
          0.012524718763484686,
          0.012384712662204478,
          0.012612011537620236,
          0.012593307612548978,
          0.012435294907818435,
          0.011997888559407198,
          0.012369856288110303,
          0.013024512915098443,
          0.01274440089259071,
          0.01254064567323511,
          0.01256591308154933,
          0.011935367581377499,
          0.01211048346075506,
          0.010172343456536687,
          0.009431169216653237,
          0.008986957937558675,
          0.00825436674814147,
          0.007712995795060825,
          0.007929628131960029,
          0.010494905186509692,
          0.009905712620233239,
          0.008995812356799476,
          0.009042008988352111,
          0.00952404278563096,
          0.010531633480161035,
          0.010104662616982996,
          0.010638166989442204,
          0.011431460072266739,
          0.011445870819402312,
          0.011989911107842133,
          0.012079767697019073,
          0.013018382976743985,
          0.012932140637827454,
          0.011517806860956747,
          0.011684927099375448,
          0.011141466235192785,
          0.011408866874189608,
          0.010758262331861683,
          0.01048408452234293,
          0.010824067607515376,
          0.009830924186290951,
          0.00867869164005552,
          0.008752111531079979,
          0.007400225285979607,
          0.007561503183262318,
          0.006545124850066742,
          0.006887808827392976,
          0.006880352472944904,
          0.008057166216186181,
          0.008043756931330654,
          0.007832171480378883,
          0.01002630628280714,
          0.009217972750791543,
          0.008737616066584453,
          0.008821229786512945,
          0.009092290640807766,
          0.00882714403897194,
          0.008844191058168563,
          0.009137639770067027,
          0.009498061085022656,
          0.009479021730778466,
          0.009623047341233707,
          0.009892722671003383,
          0.010385187105171678,
          0.010839020749511999,
          0.008742736967452095,
          0.009474855488523592,
          0.009436722342729407,
          0.009467218780708277,
          0.00886508759476055,
          0.009340650422598684,
          0.010045813873554008,
          0.010038304301391299,
          0.009952118319662072,
          0.009971515791297713,
          0.010040131439140978,
          0.009180446719056662,
          0.008372608506934675,
          0.007960842532257284,
          0.010326059238590134,
          0.010411729661137431,
          0.010723303896203842,
          0.010729290437345941,
          0.010624270189924801,
          0.00968445711777098,
          0.010842218475017774,
          0.01078472974643452,
          0.010569435938939522,
          0.012261934866529219,
          0.01777204141928071,
          0.01766453339056651,
          0.017683531656582374,
          0.01808949131902169,
          0.017032845185826158,
          0.01871735022002601,
          0.0186187250316647,
          0.01861683381137783,
          0.018667941963740525,
          0.01866914150162163,
          0.01832279536903658,
          0.01889434693450506,
          0.01881990679085728,
          0.01796696723811563,
          0.011234642143032646,
          0.011825853542322268,
          0.012284739472660754,
          0.01214360090952037,
          0.012162505560451184,
          0.009486548475869045,
          0.009316472026659037,
          0.00931920225192726,
          0.009241296260713646,
          0.009479100124831347,
          0.01047723023818009,
          0.009381445870209962,
          0.00907522677284207,
          0.00920165131253483,
          0.008680946214962893,
          0.00782904599763214,
          0.00687332880032793,
          0.00688459846380764,
          0.007086664786374495,
          0.007369753077054522,
          0.007655595412195535,
          0.008413582148437616,
          0.008435301063755118,
          0.008258149852049262,
          0.006160335080705348,
          0.005827155412347366,
          0.006111716909348483,
          0.009406373069258301,
          0.009436985032845228,
          0.009450280302330314,
          0.009485660818346115,
          0.009428479900702506,
          0.00951531646300136,
          0.009068225073266422,
          0.009052404378174662,
          0.009342248865038427,
          0.009345317138402564,
          0.009326706255955242,
          0.01038066053428825,
          0.010324401503832074,
          0.01006075836860666,
          0.006394533509318011,
          0.007536122664514715,
          0.007816682491823334,
          0.007407405676066846,
          0.0074496526715790495,
          0.007605096082609686,
          0.009019761911305924,
          0.0091959952292197,
          0.009638196433107087,
          0.009634443532449122,
          0.009663269102119027,
          0.009071789649706664,
          0.009675522726921864,
          0.011555220823662567,
          0.011315955692456608,
          0.010613094128940164,
          0.010208321668587572,
          0.010515278176017872,
          0.01051016650268964,
          0.010642338910459922,
          0.010564234054329063,
          0.010040264775906946,
          0.010263168627468226,
          0.010245955197073948,
          0.010319860445294055,
          0.010484320658177622,
          0.009743721903721638,
          0.007686917467018461,
          0.00979118897965061,
          0.01106179364296104,
          0.011072821050815695,
          0.010992108131524084,
          0.010982813867080625,
          0.010190364611492725,
          0.01045440072528314,
          0.011402369454642703,
          0.011261838730681586,
          0.011506884629514725,
          0.011841514789346742,
          0.011337368204518826,
          0.011167929880992515,
          0.011102426691034359,
          0.010947332921747389,
          0.00864502200096126,
          0.00864210115847627,
          0.008633798767746182,
          0.008614145704835843,
          0.010792118319256612,
          0.011683007281379325,
          0.016623471677958114,
          0.016745560531803247,
          0.017406501083833605,
          0.01753558137172705,
          0.017563625989329056,
          0.017524012396530328,
          0.017902598239941035,
          0.01735829824512739,
          0.017461216878087774,
          0.0175215063603932
         ],
         "yaxis": "y"
        },
        {
         "line": {
          "color": "rgb(255,100,100)"
         },
         "name": "Closing Price",
         "type": "scatter",
         "x": [
          "2023-01-02T00:00:00",
          "2023-01-03T00:00:00",
          "2023-01-04T00:00:00",
          "2023-01-05T00:00:00",
          "2023-01-06T00:00:00",
          "2023-01-09T00:00:00",
          "2023-01-10T00:00:00",
          "2023-01-11T00:00:00",
          "2023-01-12T00:00:00",
          "2023-01-13T00:00:00",
          "2023-01-16T00:00:00",
          "2023-01-17T00:00:00",
          "2023-01-18T00:00:00",
          "2023-01-19T00:00:00",
          "2023-01-20T00:00:00",
          "2023-01-23T00:00:00",
          "2023-01-24T00:00:00",
          "2023-01-25T00:00:00",
          "2023-01-27T00:00:00",
          "2023-01-30T00:00:00",
          "2023-01-31T00:00:00",
          "2023-02-01T00:00:00",
          "2023-02-02T00:00:00",
          "2023-02-03T00:00:00",
          "2023-02-06T00:00:00",
          "2023-02-07T00:00:00",
          "2023-02-08T00:00:00",
          "2023-02-09T00:00:00",
          "2023-02-10T00:00:00",
          "2023-02-13T00:00:00",
          "2023-02-14T00:00:00",
          "2023-02-15T00:00:00",
          "2023-02-16T00:00:00",
          "2023-02-17T00:00:00",
          "2023-02-20T00:00:00",
          "2023-02-21T00:00:00",
          "2023-02-22T00:00:00",
          "2023-02-23T00:00:00",
          "2023-02-24T00:00:00",
          "2023-02-27T00:00:00",
          "2023-02-28T00:00:00",
          "2023-03-01T00:00:00",
          "2023-03-02T00:00:00",
          "2023-03-03T00:00:00",
          "2023-03-06T00:00:00",
          "2023-03-08T00:00:00",
          "2023-03-09T00:00:00",
          "2023-03-10T00:00:00",
          "2023-03-13T00:00:00",
          "2023-03-14T00:00:00",
          "2023-03-15T00:00:00",
          "2023-03-16T00:00:00",
          "2023-03-17T00:00:00",
          "2023-03-20T00:00:00",
          "2023-03-21T00:00:00",
          "2023-03-22T00:00:00",
          "2023-03-23T00:00:00",
          "2023-03-24T00:00:00",
          "2023-03-27T00:00:00",
          "2023-03-28T00:00:00",
          "2023-03-29T00:00:00",
          "2023-03-31T00:00:00",
          "2023-04-03T00:00:00",
          "2023-04-05T00:00:00",
          "2023-04-06T00:00:00",
          "2023-04-10T00:00:00",
          "2023-04-11T00:00:00",
          "2023-04-12T00:00:00",
          "2023-04-13T00:00:00",
          "2023-04-17T00:00:00",
          "2023-04-18T00:00:00",
          "2023-04-19T00:00:00",
          "2023-04-20T00:00:00",
          "2023-04-21T00:00:00",
          "2023-04-24T00:00:00",
          "2023-04-25T00:00:00",
          "2023-04-26T00:00:00",
          "2023-04-27T00:00:00",
          "2023-04-28T00:00:00",
          "2023-05-02T00:00:00",
          "2023-05-03T00:00:00",
          "2023-05-04T00:00:00",
          "2023-05-05T00:00:00",
          "2023-05-08T00:00:00",
          "2023-05-09T00:00:00",
          "2023-05-10T00:00:00",
          "2023-05-11T00:00:00",
          "2023-05-12T00:00:00",
          "2023-05-15T00:00:00",
          "2023-05-16T00:00:00",
          "2023-05-17T00:00:00",
          "2023-05-18T00:00:00",
          "2023-05-19T00:00:00",
          "2023-05-22T00:00:00",
          "2023-05-23T00:00:00",
          "2023-05-24T00:00:00",
          "2023-05-25T00:00:00",
          "2023-05-26T00:00:00",
          "2023-05-29T00:00:00",
          "2023-05-30T00:00:00",
          "2023-05-31T00:00:00",
          "2023-06-01T00:00:00",
          "2023-06-02T00:00:00",
          "2023-06-05T00:00:00",
          "2023-06-06T00:00:00",
          "2023-06-07T00:00:00",
          "2023-06-08T00:00:00",
          "2023-06-09T00:00:00",
          "2023-06-12T00:00:00",
          "2023-06-13T00:00:00",
          "2023-06-14T00:00:00",
          "2023-06-15T00:00:00",
          "2023-06-16T00:00:00",
          "2023-06-19T00:00:00",
          "2023-06-20T00:00:00",
          "2023-06-21T00:00:00",
          "2023-06-22T00:00:00",
          "2023-06-23T00:00:00",
          "2023-06-26T00:00:00",
          "2023-06-27T00:00:00",
          "2023-06-28T00:00:00",
          "2023-06-30T00:00:00",
          "2023-07-03T00:00:00",
          "2023-07-04T00:00:00",
          "2023-07-05T00:00:00",
          "2023-07-06T00:00:00",
          "2023-07-07T00:00:00",
          "2023-07-10T00:00:00",
          "2023-07-11T00:00:00",
          "2023-07-12T00:00:00",
          "2023-07-13T00:00:00",
          "2023-07-14T00:00:00",
          "2023-07-17T00:00:00",
          "2023-07-18T00:00:00",
          "2023-07-19T00:00:00",
          "2023-07-20T00:00:00",
          "2023-07-21T00:00:00",
          "2023-07-24T00:00:00",
          "2023-07-25T00:00:00",
          "2023-07-26T00:00:00",
          "2023-07-27T00:00:00",
          "2023-07-28T00:00:00",
          "2023-07-31T00:00:00",
          "2023-08-01T00:00:00",
          "2023-08-02T00:00:00",
          "2023-08-03T00:00:00",
          "2023-08-04T00:00:00",
          "2023-08-07T00:00:00",
          "2023-08-08T00:00:00",
          "2023-08-09T00:00:00",
          "2023-08-10T00:00:00",
          "2023-08-11T00:00:00",
          "2023-08-14T00:00:00",
          "2023-08-16T00:00:00",
          "2023-08-17T00:00:00",
          "2023-08-18T00:00:00",
          "2023-08-21T00:00:00",
          "2023-08-22T00:00:00",
          "2023-08-23T00:00:00",
          "2023-08-24T00:00:00",
          "2023-08-25T00:00:00",
          "2023-08-28T00:00:00",
          "2023-08-29T00:00:00",
          "2023-08-30T00:00:00",
          "2023-08-31T00:00:00",
          "2023-09-01T00:00:00",
          "2023-09-04T00:00:00",
          "2023-09-05T00:00:00",
          "2023-09-06T00:00:00",
          "2023-09-07T00:00:00",
          "2023-09-08T00:00:00",
          "2023-09-11T00:00:00",
          "2023-09-12T00:00:00",
          "2023-09-13T00:00:00",
          "2023-09-14T00:00:00",
          "2023-09-15T00:00:00",
          "2023-09-18T00:00:00",
          "2023-09-20T00:00:00",
          "2023-09-21T00:00:00",
          "2023-09-22T00:00:00",
          "2023-09-25T00:00:00",
          "2023-09-26T00:00:00",
          "2023-09-27T00:00:00",
          "2023-09-28T00:00:00",
          "2023-09-29T00:00:00",
          "2023-10-03T00:00:00",
          "2023-10-04T00:00:00",
          "2023-10-05T00:00:00",
          "2023-10-06T00:00:00",
          "2023-10-09T00:00:00",
          "2023-10-10T00:00:00",
          "2023-10-11T00:00:00",
          "2023-10-12T00:00:00",
          "2023-10-13T00:00:00",
          "2023-10-16T00:00:00",
          "2023-10-17T00:00:00",
          "2023-10-18T00:00:00",
          "2023-10-19T00:00:00",
          "2023-10-20T00:00:00",
          "2023-10-23T00:00:00",
          "2023-10-25T00:00:00",
          "2023-10-26T00:00:00",
          "2023-10-27T00:00:00",
          "2023-10-30T00:00:00",
          "2023-10-31T00:00:00",
          "2023-11-01T00:00:00",
          "2023-11-02T00:00:00",
          "2023-11-03T00:00:00",
          "2023-11-06T00:00:00",
          "2023-11-07T00:00:00",
          "2023-11-08T00:00:00",
          "2023-11-09T00:00:00",
          "2023-11-10T00:00:00",
          "2023-11-13T00:00:00",
          "2023-11-15T00:00:00",
          "2023-11-16T00:00:00",
          "2023-11-17T00:00:00",
          "2023-11-20T00:00:00",
          "2023-11-21T00:00:00",
          "2023-11-22T00:00:00",
          "2023-11-23T00:00:00",
          "2023-11-24T00:00:00",
          "2023-11-28T00:00:00",
          "2023-11-29T00:00:00",
          "2023-11-30T00:00:00",
          "2023-12-01T00:00:00",
          "2023-12-04T00:00:00",
          "2023-12-05T00:00:00",
          "2023-12-06T00:00:00",
          "2023-12-07T00:00:00",
          "2023-12-08T00:00:00",
          "2023-12-11T00:00:00",
          "2023-12-12T00:00:00",
          "2023-12-13T00:00:00",
          "2023-12-14T00:00:00",
          "2023-12-15T00:00:00",
          "2023-12-18T00:00:00",
          "2023-12-19T00:00:00",
          "2023-12-20T00:00:00",
          "2023-12-21T00:00:00",
          "2023-12-22T00:00:00",
          "2023-12-26T00:00:00",
          "2023-12-27T00:00:00",
          "2023-12-28T00:00:00",
          "2023-12-29T00:00:00"
         ],
         "xaxis": "x",
         "y": [
          3104.458740234375,
          3151.957275390625,
          3155.09814453125,
          3151.718994140625,
          3056.9609375,
          3160.142822265625,
          3128.20751953125,
          3168.471923828125,
          3173.849609375,
          3212.114990234375,
          3237.850341796875,
          3280.920166015625,
          3292.185791015625,
          3275.77392578125,
          3266.062255859375,
          3316.367431640625,
          3337.1494140625,
          3330.7890625,
          3312.62841796875,
          3334.576171875,
          3261.7890625,
          3310.005859375,
          3360.55419921875,
          3381.82275390625,
          3360.117431640625,
          3372.353515625,
          3418.53173828125,
          3438.683349609375,
          3435.478759765625,
          3381.919677734375,
          3399.109130859375,
          3419.06591796875,
          3455.386962890625,
          3400.128662109375,
          3386.67822265625,
          3351.426025390625,
          3303.402587890625,
          3315.299072265625,
          3302.333984375,
          3235.713623046875,
          3217.26171875,
          3288.010009765625,
          3225.613525390625,
          3245.716796875,
          3274.5595703125,
          3292.574462890625,
          3240.5693359375,
          3234.887939453125,
          3187.253173828125,
          3122.1865234375,
          3106.599365234375,
          3093.1005859375,
          3087.565185546875,
          3052.604248046875,
          3016.4775390625,
          3040.46484375,
          3034.49169921875,
          3030.461669921875,
          3032.209716796875,
          3025.99462890625,
          3048.330810546875,
          3113.39794921875,
          3107.66796875,
          3146.3193359375,
          3127.77099609375,
          3169.238525390625,
          3121.070068359375,
          3148.1162109375,
          3096.83984375,
          3048.91357421875,
          3040.416015625,
          3000.45361328125,
          3015.215087890625,
          3069.647705078125,
          3083.195068359375,
          3084.360595703125,
          3105.87109375,
          3095.9658203125,
          3126.36279296875,
          3126.508056640625,
          3088.147705078125,
          3127.77099609375,
          3137.482177734375,
          3156.80810546875,
          3188.515869140625,
          3191.9638671875,
          3187.447509765625,
          3179.823974609375,
          3161.129638671875,
          3164.139892578125,
          3116.11669921875,
          3107.5224609375,
          3129.85888671875,
          3203.519775390625,
          3201.918212890625,
          3208.035888671875,
          3198.47021484375,
          3232.8486328125,
          3224.54541015625,
          3220.514892578125,
          3194.5859375,
          3228.09033203125,
          3210.220947265625,
          3194.002685546875,
          3139.035888671875,
          3180.406982421875,
          3143.06640625,
          3116.699462890625,
          3153.21435546875,
          3150.10693359375,
          3157.244873046875,
          3146.7275390625,
          3106.22314453125,
          3140.955078125,
          3157.880859375,
          3187.720947265625,
          3168.447509765625,
          3146.776611328125,
          3120.654296875,
          3128.1875,
          3145.895751953125,
          3230.818359375,
          3201.516357421875,
          3237.275634765625,
          3248.135498046875,
          3251.021484375,
          3257.234619140625,
          3201.173828125,
          3201.614013671875,
          3189.38427734375,
          3268.289794921875,
          3438.623779296875,
          3416.170654296875,
          3421.208740234375,
          3394.988525390625,
          3397.195556640625,
          3304.009033203125,
          3329.9541015625,
          3334.27001953125,
          3323.627197265625,
          3332.063232421875,
          3291.355224609375,
          3356.144287109375,
          3386.16015625,
          3374.977783203125,
          3335.054931640625,
          3377.822509765625,
          3417.549560546875,
          3404.356201171875,
          3396.410888671875,
          3376.400634765625,
          3382.97265625,
          3384.002197265625,
          3392.38916015625,
          3370.171630859375,
          3302.831787109375,
          3336.722412109375,
          3317.594482421875,
          3333.38720703125,
          3323.087646484375,
          3316.760986328125,
          3311.12060546875,
          3311.708984375,
          3326.226318359375,
          3292.728515625,
          3314.700927734375,
          3353.250732421875,
          3363.8935546875,
          3364.43310546875,
          3389.299072265625,
          3376.204345703125,
          3414.21435546875,
          3512.452880859375,
          3499.750244140625,
          3492.099365234375,
          3529.618896484375,
          3537.31884765625,
          3537.220947265625,
          3516.8671875,
          3534.866943359375,
          3508.872314453125,
          3517.25927734375,
          3520.79052734375,
          3469.24365234375,
          3461.24951171875,
          3446.78076171875,
          3470.224853515625,
          3520.840087890625,
          3552.27783203125,
          3568.904541015625,
          3559.634521484375,
          3540.99755859375,
          3474.93310546875,
          3502.69287109375,
          3456.7861328125,
          3440.110595703125,
          3420.688232421875,
          3398.462646484375,
          3436.71875,
          3353.7158203125,
          3333.997314453125,
          3281.5302734375,
          3295.4951171875,
          3322.638427734375,
          3313.000732421875,
          3275.531005859375,
          3304.494140625,
          3295.446044921875,
          3324.310302734375,
          3314.67236328125,
          3325.5888671875,
          3292.05322265625,
          3278.284912109375,
          3276.41650390625,
          3347.962158203125,
          3439.96435546875,
          3444.48828125,
          3461.354248046875,
          3452.10986328125,
          3471.7294921875,
          3450.192138671875,
          3399.888427734375,
          3412.72265625,
          3455.60107421875,
          3429.8837890625,
          3453.53564453125,
          3454.322509765625,
          3473.15576171875,
          3544.455810546875,
          3555.076904296875,
          3566.681884765625,
          3582.61328125,
          3611.33056640625,
          3534.080322265625,
          3606.560546875,
          3797.1044921875,
          3795.334228515625,
          3753.045654296875,
          3717.494140625,
          3724.82080078125,
          3760.717041015625,
          3732.737548828125,
          3748.12841796875,
          3737.015380859375,
          3730.622802734375
         ],
         "yaxis": "y2"
        }
       ],
       "layout": {
        "height": 600,
        "template": {
         "data": {
          "bar": [
           {
            "error_x": {
             "color": "#2a3f5f"
            },
            "error_y": {
             "color": "#2a3f5f"
            },
            "marker": {
             "line": {
              "color": "#E5ECF6",
              "width": 0.5
             },
             "pattern": {
              "fillmode": "overlay",
              "size": 10,
              "solidity": 0.2
             }
            },
            "type": "bar"
           }
          ],
          "barpolar": [
           {
            "marker": {
             "line": {
              "color": "#E5ECF6",
              "width": 0.5
             },
             "pattern": {
              "fillmode": "overlay",
              "size": 10,
              "solidity": 0.2
             }
            },
            "type": "barpolar"
           }
          ],
          "carpet": [
           {
            "aaxis": {
             "endlinecolor": "#2a3f5f",
             "gridcolor": "white",
             "linecolor": "white",
             "minorgridcolor": "white",
             "startlinecolor": "#2a3f5f"
            },
            "baxis": {
             "endlinecolor": "#2a3f5f",
             "gridcolor": "white",
             "linecolor": "white",
             "minorgridcolor": "white",
             "startlinecolor": "#2a3f5f"
            },
            "type": "carpet"
           }
          ],
          "choropleth": [
           {
            "colorbar": {
             "outlinewidth": 0,
             "ticks": ""
            },
            "type": "choropleth"
           }
          ],
          "contour": [
           {
            "colorbar": {
             "outlinewidth": 0,
             "ticks": ""
            },
            "colorscale": [
             [
              0,
              "#0d0887"
             ],
             [
              0.1111111111111111,
              "#46039f"
             ],
             [
              0.2222222222222222,
              "#7201a8"
             ],
             [
              0.3333333333333333,
              "#9c179e"
             ],
             [
              0.4444444444444444,
              "#bd3786"
             ],
             [
              0.5555555555555556,
              "#d8576b"
             ],
             [
              0.6666666666666666,
              "#ed7953"
             ],
             [
              0.7777777777777778,
              "#fb9f3a"
             ],
             [
              0.8888888888888888,
              "#fdca26"
             ],
             [
              1,
              "#f0f921"
             ]
            ],
            "type": "contour"
           }
          ],
          "contourcarpet": [
           {
            "colorbar": {
             "outlinewidth": 0,
             "ticks": ""
            },
            "type": "contourcarpet"
           }
          ],
          "heatmap": [
           {
            "colorbar": {
             "outlinewidth": 0,
             "ticks": ""
            },
            "colorscale": [
             [
              0,
              "#0d0887"
             ],
             [
              0.1111111111111111,
              "#46039f"
             ],
             [
              0.2222222222222222,
              "#7201a8"
             ],
             [
              0.3333333333333333,
              "#9c179e"
             ],
             [
              0.4444444444444444,
              "#bd3786"
             ],
             [
              0.5555555555555556,
              "#d8576b"
             ],
             [
              0.6666666666666666,
              "#ed7953"
             ],
             [
              0.7777777777777778,
              "#fb9f3a"
             ],
             [
              0.8888888888888888,
              "#fdca26"
             ],
             [
              1,
              "#f0f921"
             ]
            ],
            "type": "heatmap"
           }
          ],
          "heatmapgl": [
           {
            "colorbar": {
             "outlinewidth": 0,
             "ticks": ""
            },
            "colorscale": [
             [
              0,
              "#0d0887"
             ],
             [
              0.1111111111111111,
              "#46039f"
             ],
             [
              0.2222222222222222,
              "#7201a8"
             ],
             [
              0.3333333333333333,
              "#9c179e"
             ],
             [
              0.4444444444444444,
              "#bd3786"
             ],
             [
              0.5555555555555556,
              "#d8576b"
             ],
             [
              0.6666666666666666,
              "#ed7953"
             ],
             [
              0.7777777777777778,
              "#fb9f3a"
             ],
             [
              0.8888888888888888,
              "#fdca26"
             ],
             [
              1,
              "#f0f921"
             ]
            ],
            "type": "heatmapgl"
           }
          ],
          "histogram": [
           {
            "marker": {
             "pattern": {
              "fillmode": "overlay",
              "size": 10,
              "solidity": 0.2
             }
            },
            "type": "histogram"
           }
          ],
          "histogram2d": [
           {
            "colorbar": {
             "outlinewidth": 0,
             "ticks": ""
            },
            "colorscale": [
             [
              0,
              "#0d0887"
             ],
             [
              0.1111111111111111,
              "#46039f"
             ],
             [
              0.2222222222222222,
              "#7201a8"
             ],
             [
              0.3333333333333333,
              "#9c179e"
             ],
             [
              0.4444444444444444,
              "#bd3786"
             ],
             [
              0.5555555555555556,
              "#d8576b"
             ],
             [
              0.6666666666666666,
              "#ed7953"
             ],
             [
              0.7777777777777778,
              "#fb9f3a"
             ],
             [
              0.8888888888888888,
              "#fdca26"
             ],
             [
              1,
              "#f0f921"
             ]
            ],
            "type": "histogram2d"
           }
          ],
          "histogram2dcontour": [
           {
            "colorbar": {
             "outlinewidth": 0,
             "ticks": ""
            },
            "colorscale": [
             [
              0,
              "#0d0887"
             ],
             [
              0.1111111111111111,
              "#46039f"
             ],
             [
              0.2222222222222222,
              "#7201a8"
             ],
             [
              0.3333333333333333,
              "#9c179e"
             ],
             [
              0.4444444444444444,
              "#bd3786"
             ],
             [
              0.5555555555555556,
              "#d8576b"
             ],
             [
              0.6666666666666666,
              "#ed7953"
             ],
             [
              0.7777777777777778,
              "#fb9f3a"
             ],
             [
              0.8888888888888888,
              "#fdca26"
             ],
             [
              1,
              "#f0f921"
             ]
            ],
            "type": "histogram2dcontour"
           }
          ],
          "mesh3d": [
           {
            "colorbar": {
             "outlinewidth": 0,
             "ticks": ""
            },
            "type": "mesh3d"
           }
          ],
          "parcoords": [
           {
            "line": {
             "colorbar": {
              "outlinewidth": 0,
              "ticks": ""
             }
            },
            "type": "parcoords"
           }
          ],
          "pie": [
           {
            "automargin": true,
            "type": "pie"
           }
          ],
          "scatter": [
           {
            "fillpattern": {
             "fillmode": "overlay",
             "size": 10,
             "solidity": 0.2
            },
            "type": "scatter"
           }
          ],
          "scatter3d": [
           {
            "line": {
             "colorbar": {
              "outlinewidth": 0,
              "ticks": ""
             }
            },
            "marker": {
             "colorbar": {
              "outlinewidth": 0,
              "ticks": ""
             }
            },
            "type": "scatter3d"
           }
          ],
          "scattercarpet": [
           {
            "marker": {
             "colorbar": {
              "outlinewidth": 0,
              "ticks": ""
             }
            },
            "type": "scattercarpet"
           }
          ],
          "scattergeo": [
           {
            "marker": {
             "colorbar": {
              "outlinewidth": 0,
              "ticks": ""
             }
            },
            "type": "scattergeo"
           }
          ],
          "scattergl": [
           {
            "marker": {
             "colorbar": {
              "outlinewidth": 0,
              "ticks": ""
             }
            },
            "type": "scattergl"
           }
          ],
          "scattermapbox": [
           {
            "marker": {
             "colorbar": {
              "outlinewidth": 0,
              "ticks": ""
             }
            },
            "type": "scattermapbox"
           }
          ],
          "scatterpolar": [
           {
            "marker": {
             "colorbar": {
              "outlinewidth": 0,
              "ticks": ""
             }
            },
            "type": "scatterpolar"
           }
          ],
          "scatterpolargl": [
           {
            "marker": {
             "colorbar": {
              "outlinewidth": 0,
              "ticks": ""
             }
            },
            "type": "scatterpolargl"
           }
          ],
          "scatterternary": [
           {
            "marker": {
             "colorbar": {
              "outlinewidth": 0,
              "ticks": ""
             }
            },
            "type": "scatterternary"
           }
          ],
          "surface": [
           {
            "colorbar": {
             "outlinewidth": 0,
             "ticks": ""
            },
            "colorscale": [
             [
              0,
              "#0d0887"
             ],
             [
              0.1111111111111111,
              "#46039f"
             ],
             [
              0.2222222222222222,
              "#7201a8"
             ],
             [
              0.3333333333333333,
              "#9c179e"
             ],
             [
              0.4444444444444444,
              "#bd3786"
             ],
             [
              0.5555555555555556,
              "#d8576b"
             ],
             [
              0.6666666666666666,
              "#ed7953"
             ],
             [
              0.7777777777777778,
              "#fb9f3a"
             ],
             [
              0.8888888888888888,
              "#fdca26"
             ],
             [
              1,
              "#f0f921"
             ]
            ],
            "type": "surface"
           }
          ],
          "table": [
           {
            "cells": {
             "fill": {
              "color": "#EBF0F8"
             },
             "line": {
              "color": "white"
             }
            },
            "header": {
             "fill": {
              "color": "#C8D4E3"
             },
             "line": {
              "color": "white"
             }
            },
            "type": "table"
           }
          ]
         },
         "layout": {
          "annotationdefaults": {
           "arrowcolor": "#2a3f5f",
           "arrowhead": 0,
           "arrowwidth": 1
          },
          "autotypenumbers": "strict",
          "coloraxis": {
           "colorbar": {
            "outlinewidth": 0,
            "ticks": ""
           }
          },
          "colorscale": {
           "diverging": [
            [
             0,
             "#8e0152"
            ],
            [
             0.1,
             "#c51b7d"
            ],
            [
             0.2,
             "#de77ae"
            ],
            [
             0.3,
             "#f1b6da"
            ],
            [
             0.4,
             "#fde0ef"
            ],
            [
             0.5,
             "#f7f7f7"
            ],
            [
             0.6,
             "#e6f5d0"
            ],
            [
             0.7,
             "#b8e186"
            ],
            [
             0.8,
             "#7fbc41"
            ],
            [
             0.9,
             "#4d9221"
            ],
            [
             1,
             "#276419"
            ]
           ],
           "sequential": [
            [
             0,
             "#0d0887"
            ],
            [
             0.1111111111111111,
             "#46039f"
            ],
            [
             0.2222222222222222,
             "#7201a8"
            ],
            [
             0.3333333333333333,
             "#9c179e"
            ],
            [
             0.4444444444444444,
             "#bd3786"
            ],
            [
             0.5555555555555556,
             "#d8576b"
            ],
            [
             0.6666666666666666,
             "#ed7953"
            ],
            [
             0.7777777777777778,
             "#fb9f3a"
            ],
            [
             0.8888888888888888,
             "#fdca26"
            ],
            [
             1,
             "#f0f921"
            ]
           ],
           "sequentialminus": [
            [
             0,
             "#0d0887"
            ],
            [
             0.1111111111111111,
             "#46039f"
            ],
            [
             0.2222222222222222,
             "#7201a8"
            ],
            [
             0.3333333333333333,
             "#9c179e"
            ],
            [
             0.4444444444444444,
             "#bd3786"
            ],
            [
             0.5555555555555556,
             "#d8576b"
            ],
            [
             0.6666666666666666,
             "#ed7953"
            ],
            [
             0.7777777777777778,
             "#fb9f3a"
            ],
            [
             0.8888888888888888,
             "#fdca26"
            ],
            [
             1,
             "#f0f921"
            ]
           ]
          },
          "colorway": [
           "#636efa",
           "#EF553B",
           "#00cc96",
           "#ab63fa",
           "#FFA15A",
           "#19d3f3",
           "#FF6692",
           "#B6E880",
           "#FF97FF",
           "#FECB52"
          ],
          "font": {
           "color": "#2a3f5f"
          },
          "geo": {
           "bgcolor": "white",
           "lakecolor": "white",
           "landcolor": "#E5ECF6",
           "showlakes": true,
           "showland": true,
           "subunitcolor": "white"
          },
          "hoverlabel": {
           "align": "left"
          },
          "hovermode": "closest",
          "mapbox": {
           "style": "light"
          },
          "paper_bgcolor": "white",
          "plot_bgcolor": "#E5ECF6",
          "polar": {
           "angularaxis": {
            "gridcolor": "white",
            "linecolor": "white",
            "ticks": ""
           },
           "bgcolor": "#E5ECF6",
           "radialaxis": {
            "gridcolor": "white",
            "linecolor": "white",
            "ticks": ""
           }
          },
          "scene": {
           "xaxis": {
            "backgroundcolor": "#E5ECF6",
            "gridcolor": "white",
            "gridwidth": 2,
            "linecolor": "white",
            "showbackground": true,
            "ticks": "",
            "zerolinecolor": "white"
           },
           "yaxis": {
            "backgroundcolor": "#E5ECF6",
            "gridcolor": "white",
            "gridwidth": 2,
            "linecolor": "white",
            "showbackground": true,
            "ticks": "",
            "zerolinecolor": "white"
           },
           "zaxis": {
            "backgroundcolor": "#E5ECF6",
            "gridcolor": "white",
            "gridwidth": 2,
            "linecolor": "white",
            "showbackground": true,
            "ticks": "",
            "zerolinecolor": "white"
           }
          },
          "shapedefaults": {
           "line": {
            "color": "#2a3f5f"
           }
          },
          "ternary": {
           "aaxis": {
            "gridcolor": "white",
            "linecolor": "white",
            "ticks": ""
           },
           "baxis": {
            "gridcolor": "white",
            "linecolor": "white",
            "ticks": ""
           },
           "bgcolor": "#E5ECF6",
           "caxis": {
            "gridcolor": "white",
            "linecolor": "white",
            "ticks": ""
           }
          },
          "title": {
           "x": 0.05
          },
          "xaxis": {
           "automargin": true,
           "gridcolor": "white",
           "linecolor": "white",
           "ticks": "",
           "title": {
            "standoff": 15
           },
           "zerolinecolor": "white",
           "zerolinewidth": 2
          },
          "yaxis": {
           "automargin": true,
           "gridcolor": "white",
           "linecolor": "white",
           "ticks": "",
           "title": {
            "standoff": 15
           },
           "zerolinecolor": "white",
           "zerolinewidth": 2
          }
         }
        },
        "title": {
         "text": "Rolling 14-Day Std Dev vs Closing Price"
        },
        "width": 1600,
        "xaxis": {
         "anchor": "y",
         "domain": [
          0,
          0.94
         ],
         "tickangle": -90
        },
        "yaxis": {
         "anchor": "x",
         "domain": [
          0,
          1
         ]
        },
        "yaxis2": {
         "anchor": "x",
         "overlaying": "y",
         "side": "right"
        }
       }
      }
     },
     "metadata": {},
     "output_type": "display_data"
    }
   ],
   "source": [
    "data['Rolling Std Dev'] = data['Daily Return'].rolling(window=14).std()\n",
    "trace1 = go.Scatter(\n",
    "    x=data.index,\n",
    "    y=data['Rolling Std Dev'],\n",
    "    name='Rolling 14-Day Standard Deviation',\n",
    "    line=dict(color='rgb(34,163,192)')\n",
    ")\n",
    "\n",
    "trace2 = go.Scatter(\n",
    "    x=data.index,\n",
    "    y=data['Close'],\n",
    "    name='Closing Price',\n",
    "    line=dict(color='rgb(255,100,100)')\n",
    ")\n",
    "\n",
    "fig = make_subplots(specs=[[{\"secondary_y\": True}]])\n",
    "\n",
    "fig.add_trace(trace1, secondary_y=False)\n",
    "fig.add_trace(trace2, secondary_y=True)\n",
    "\n",
    "fig.update_layout(\n",
    "    height=600,\n",
    "    width=1600,\n",
    "    title='Rolling 14-Day Std Dev vs Closing Price',\n",
    "    xaxis=dict(tickangle=-90)\n",
    ")\n",
    "\n",
    "fig.show()\n"
   ]
  },
  {
   "cell_type": "code",
   "execution_count": 16,
   "metadata": {
    "colab": {
     "base_uri": "https://localhost:8080/",
     "height": 542
    },
    "id": "T3G4XBWg34xk",
    "outputId": "f736c48d-ccfe-4d8a-b270-5982686ef68c"
   },
   "outputs": [
    {
     "data": {
      "application/vnd.plotly.v1+json": {
       "config": {
        "plotlyServerURL": "https://plot.ly"
       },
       "data": [
        {
         "hovertemplate": "Date=%{x}<br>Close=%{y}<extra></extra>",
         "legendgroup": "",
         "line": {
          "color": "#636efa",
          "dash": "solid"
         },
         "marker": {
          "symbol": "circle"
         },
         "mode": "lines",
         "name": "",
         "orientation": "v",
         "showlegend": false,
         "type": "scatter",
         "x": [
          "2023-01-02T00:00:00",
          "2023-01-03T00:00:00",
          "2023-01-04T00:00:00",
          "2023-01-05T00:00:00",
          "2023-01-06T00:00:00",
          "2023-01-09T00:00:00",
          "2023-01-10T00:00:00",
          "2023-01-11T00:00:00",
          "2023-01-12T00:00:00",
          "2023-01-13T00:00:00",
          "2023-01-16T00:00:00",
          "2023-01-17T00:00:00",
          "2023-01-18T00:00:00",
          "2023-01-19T00:00:00",
          "2023-01-20T00:00:00",
          "2023-01-23T00:00:00",
          "2023-01-24T00:00:00",
          "2023-01-25T00:00:00",
          "2023-01-27T00:00:00",
          "2023-01-30T00:00:00",
          "2023-01-31T00:00:00",
          "2023-02-01T00:00:00",
          "2023-02-02T00:00:00",
          "2023-02-03T00:00:00",
          "2023-02-06T00:00:00",
          "2023-02-07T00:00:00",
          "2023-02-08T00:00:00",
          "2023-02-09T00:00:00",
          "2023-02-10T00:00:00",
          "2023-02-13T00:00:00",
          "2023-02-14T00:00:00",
          "2023-02-15T00:00:00",
          "2023-02-16T00:00:00",
          "2023-02-17T00:00:00",
          "2023-02-20T00:00:00",
          "2023-02-21T00:00:00",
          "2023-02-22T00:00:00",
          "2023-02-23T00:00:00",
          "2023-02-24T00:00:00",
          "2023-02-27T00:00:00",
          "2023-02-28T00:00:00",
          "2023-03-01T00:00:00",
          "2023-03-02T00:00:00",
          "2023-03-03T00:00:00",
          "2023-03-06T00:00:00",
          "2023-03-08T00:00:00",
          "2023-03-09T00:00:00",
          "2023-03-10T00:00:00",
          "2023-03-13T00:00:00",
          "2023-03-14T00:00:00",
          "2023-03-15T00:00:00",
          "2023-03-16T00:00:00",
          "2023-03-17T00:00:00",
          "2023-03-20T00:00:00",
          "2023-03-21T00:00:00",
          "2023-03-22T00:00:00",
          "2023-03-23T00:00:00",
          "2023-03-24T00:00:00",
          "2023-03-27T00:00:00",
          "2023-03-28T00:00:00",
          "2023-03-29T00:00:00",
          "2023-03-31T00:00:00",
          "2023-04-03T00:00:00",
          "2023-04-05T00:00:00",
          "2023-04-06T00:00:00",
          "2023-04-10T00:00:00",
          "2023-04-11T00:00:00",
          "2023-04-12T00:00:00",
          "2023-04-13T00:00:00",
          "2023-04-17T00:00:00",
          "2023-04-18T00:00:00",
          "2023-04-19T00:00:00",
          "2023-04-20T00:00:00",
          "2023-04-21T00:00:00",
          "2023-04-24T00:00:00",
          "2023-04-25T00:00:00",
          "2023-04-26T00:00:00",
          "2023-04-27T00:00:00",
          "2023-04-28T00:00:00",
          "2023-05-02T00:00:00",
          "2023-05-03T00:00:00",
          "2023-05-04T00:00:00",
          "2023-05-05T00:00:00",
          "2023-05-08T00:00:00",
          "2023-05-09T00:00:00",
          "2023-05-10T00:00:00",
          "2023-05-11T00:00:00",
          "2023-05-12T00:00:00",
          "2023-05-15T00:00:00",
          "2023-05-16T00:00:00",
          "2023-05-17T00:00:00",
          "2023-05-18T00:00:00",
          "2023-05-19T00:00:00",
          "2023-05-22T00:00:00",
          "2023-05-23T00:00:00",
          "2023-05-24T00:00:00",
          "2023-05-25T00:00:00",
          "2023-05-26T00:00:00",
          "2023-05-29T00:00:00",
          "2023-05-30T00:00:00",
          "2023-05-31T00:00:00",
          "2023-06-01T00:00:00",
          "2023-06-02T00:00:00",
          "2023-06-05T00:00:00",
          "2023-06-06T00:00:00",
          "2023-06-07T00:00:00",
          "2023-06-08T00:00:00",
          "2023-06-09T00:00:00",
          "2023-06-12T00:00:00",
          "2023-06-13T00:00:00",
          "2023-06-14T00:00:00",
          "2023-06-15T00:00:00",
          "2023-06-16T00:00:00",
          "2023-06-19T00:00:00",
          "2023-06-20T00:00:00",
          "2023-06-21T00:00:00",
          "2023-06-22T00:00:00",
          "2023-06-23T00:00:00",
          "2023-06-26T00:00:00",
          "2023-06-27T00:00:00",
          "2023-06-28T00:00:00",
          "2023-06-30T00:00:00",
          "2023-07-03T00:00:00",
          "2023-07-04T00:00:00",
          "2023-07-05T00:00:00",
          "2023-07-06T00:00:00",
          "2023-07-07T00:00:00",
          "2023-07-10T00:00:00",
          "2023-07-11T00:00:00",
          "2023-07-12T00:00:00",
          "2023-07-13T00:00:00",
          "2023-07-14T00:00:00",
          "2023-07-17T00:00:00",
          "2023-07-18T00:00:00",
          "2023-07-19T00:00:00",
          "2023-07-20T00:00:00",
          "2023-07-21T00:00:00",
          "2023-07-24T00:00:00",
          "2023-07-25T00:00:00",
          "2023-07-26T00:00:00",
          "2023-07-27T00:00:00",
          "2023-07-28T00:00:00",
          "2023-07-31T00:00:00",
          "2023-08-01T00:00:00",
          "2023-08-02T00:00:00",
          "2023-08-03T00:00:00",
          "2023-08-04T00:00:00",
          "2023-08-07T00:00:00",
          "2023-08-08T00:00:00",
          "2023-08-09T00:00:00",
          "2023-08-10T00:00:00",
          "2023-08-11T00:00:00",
          "2023-08-14T00:00:00",
          "2023-08-16T00:00:00",
          "2023-08-17T00:00:00",
          "2023-08-18T00:00:00",
          "2023-08-21T00:00:00",
          "2023-08-22T00:00:00",
          "2023-08-23T00:00:00",
          "2023-08-24T00:00:00",
          "2023-08-25T00:00:00",
          "2023-08-28T00:00:00",
          "2023-08-29T00:00:00",
          "2023-08-30T00:00:00",
          "2023-08-31T00:00:00",
          "2023-09-01T00:00:00",
          "2023-09-04T00:00:00",
          "2023-09-05T00:00:00",
          "2023-09-06T00:00:00",
          "2023-09-07T00:00:00",
          "2023-09-08T00:00:00",
          "2023-09-11T00:00:00",
          "2023-09-12T00:00:00",
          "2023-09-13T00:00:00",
          "2023-09-14T00:00:00",
          "2023-09-15T00:00:00",
          "2023-09-18T00:00:00",
          "2023-09-20T00:00:00",
          "2023-09-21T00:00:00",
          "2023-09-22T00:00:00",
          "2023-09-25T00:00:00",
          "2023-09-26T00:00:00",
          "2023-09-27T00:00:00",
          "2023-09-28T00:00:00",
          "2023-09-29T00:00:00",
          "2023-10-03T00:00:00",
          "2023-10-04T00:00:00",
          "2023-10-05T00:00:00",
          "2023-10-06T00:00:00",
          "2023-10-09T00:00:00",
          "2023-10-10T00:00:00",
          "2023-10-11T00:00:00",
          "2023-10-12T00:00:00",
          "2023-10-13T00:00:00",
          "2023-10-16T00:00:00",
          "2023-10-17T00:00:00",
          "2023-10-18T00:00:00",
          "2023-10-19T00:00:00",
          "2023-10-20T00:00:00",
          "2023-10-23T00:00:00",
          "2023-10-25T00:00:00",
          "2023-10-26T00:00:00",
          "2023-10-27T00:00:00",
          "2023-10-30T00:00:00",
          "2023-10-31T00:00:00",
          "2023-11-01T00:00:00",
          "2023-11-02T00:00:00",
          "2023-11-03T00:00:00",
          "2023-11-06T00:00:00",
          "2023-11-07T00:00:00",
          "2023-11-08T00:00:00",
          "2023-11-09T00:00:00",
          "2023-11-10T00:00:00",
          "2023-11-13T00:00:00",
          "2023-11-15T00:00:00",
          "2023-11-16T00:00:00",
          "2023-11-17T00:00:00",
          "2023-11-20T00:00:00",
          "2023-11-21T00:00:00",
          "2023-11-22T00:00:00",
          "2023-11-23T00:00:00",
          "2023-11-24T00:00:00",
          "2023-11-28T00:00:00",
          "2023-11-29T00:00:00",
          "2023-11-30T00:00:00",
          "2023-12-01T00:00:00",
          "2023-12-04T00:00:00",
          "2023-12-05T00:00:00",
          "2023-12-06T00:00:00",
          "2023-12-07T00:00:00",
          "2023-12-08T00:00:00",
          "2023-12-11T00:00:00",
          "2023-12-12T00:00:00",
          "2023-12-13T00:00:00",
          "2023-12-14T00:00:00",
          "2023-12-15T00:00:00",
          "2023-12-18T00:00:00",
          "2023-12-19T00:00:00",
          "2023-12-20T00:00:00",
          "2023-12-21T00:00:00",
          "2023-12-22T00:00:00",
          "2023-12-26T00:00:00",
          "2023-12-27T00:00:00",
          "2023-12-28T00:00:00",
          "2023-12-29T00:00:00"
         ],
         "xaxis": "x",
         "y": [
          3104.458740234375,
          3151.957275390625,
          3155.09814453125,
          3151.718994140625,
          3056.9609375,
          3160.142822265625,
          3128.20751953125,
          3168.471923828125,
          3173.849609375,
          3212.114990234375,
          3237.850341796875,
          3280.920166015625,
          3292.185791015625,
          3275.77392578125,
          3266.062255859375,
          3316.367431640625,
          3337.1494140625,
          3330.7890625,
          3312.62841796875,
          3334.576171875,
          3261.7890625,
          3310.005859375,
          3360.55419921875,
          3381.82275390625,
          3360.117431640625,
          3372.353515625,
          3418.53173828125,
          3438.683349609375,
          3435.478759765625,
          3381.919677734375,
          3399.109130859375,
          3419.06591796875,
          3455.386962890625,
          3400.128662109375,
          3386.67822265625,
          3351.426025390625,
          3303.402587890625,
          3315.299072265625,
          3302.333984375,
          3235.713623046875,
          3217.26171875,
          3288.010009765625,
          3225.613525390625,
          3245.716796875,
          3274.5595703125,
          3292.574462890625,
          3240.5693359375,
          3234.887939453125,
          3187.253173828125,
          3122.1865234375,
          3106.599365234375,
          3093.1005859375,
          3087.565185546875,
          3052.604248046875,
          3016.4775390625,
          3040.46484375,
          3034.49169921875,
          3030.461669921875,
          3032.209716796875,
          3025.99462890625,
          3048.330810546875,
          3113.39794921875,
          3107.66796875,
          3146.3193359375,
          3127.77099609375,
          3169.238525390625,
          3121.070068359375,
          3148.1162109375,
          3096.83984375,
          3048.91357421875,
          3040.416015625,
          3000.45361328125,
          3015.215087890625,
          3069.647705078125,
          3083.195068359375,
          3084.360595703125,
          3105.87109375,
          3095.9658203125,
          3126.36279296875,
          3126.508056640625,
          3088.147705078125,
          3127.77099609375,
          3137.482177734375,
          3156.80810546875,
          3188.515869140625,
          3191.9638671875,
          3187.447509765625,
          3179.823974609375,
          3161.129638671875,
          3164.139892578125,
          3116.11669921875,
          3107.5224609375,
          3129.85888671875,
          3203.519775390625,
          3201.918212890625,
          3208.035888671875,
          3198.47021484375,
          3232.8486328125,
          3224.54541015625,
          3220.514892578125,
          3194.5859375,
          3228.09033203125,
          3210.220947265625,
          3194.002685546875,
          3139.035888671875,
          3180.406982421875,
          3143.06640625,
          3116.699462890625,
          3153.21435546875,
          3150.10693359375,
          3157.244873046875,
          3146.7275390625,
          3106.22314453125,
          3140.955078125,
          3157.880859375,
          3187.720947265625,
          3168.447509765625,
          3146.776611328125,
          3120.654296875,
          3128.1875,
          3145.895751953125,
          3230.818359375,
          3201.516357421875,
          3237.275634765625,
          3248.135498046875,
          3251.021484375,
          3257.234619140625,
          3201.173828125,
          3201.614013671875,
          3189.38427734375,
          3268.289794921875,
          3438.623779296875,
          3416.170654296875,
          3421.208740234375,
          3394.988525390625,
          3397.195556640625,
          3304.009033203125,
          3329.9541015625,
          3334.27001953125,
          3323.627197265625,
          3332.063232421875,
          3291.355224609375,
          3356.144287109375,
          3386.16015625,
          3374.977783203125,
          3335.054931640625,
          3377.822509765625,
          3417.549560546875,
          3404.356201171875,
          3396.410888671875,
          3376.400634765625,
          3382.97265625,
          3384.002197265625,
          3392.38916015625,
          3370.171630859375,
          3302.831787109375,
          3336.722412109375,
          3317.594482421875,
          3333.38720703125,
          3323.087646484375,
          3316.760986328125,
          3311.12060546875,
          3311.708984375,
          3326.226318359375,
          3292.728515625,
          3314.700927734375,
          3353.250732421875,
          3363.8935546875,
          3364.43310546875,
          3389.299072265625,
          3376.204345703125,
          3414.21435546875,
          3512.452880859375,
          3499.750244140625,
          3492.099365234375,
          3529.618896484375,
          3537.31884765625,
          3537.220947265625,
          3516.8671875,
          3534.866943359375,
          3508.872314453125,
          3517.25927734375,
          3520.79052734375,
          3469.24365234375,
          3461.24951171875,
          3446.78076171875,
          3470.224853515625,
          3520.840087890625,
          3552.27783203125,
          3568.904541015625,
          3559.634521484375,
          3540.99755859375,
          3474.93310546875,
          3502.69287109375,
          3456.7861328125,
          3440.110595703125,
          3420.688232421875,
          3398.462646484375,
          3436.71875,
          3353.7158203125,
          3333.997314453125,
          3281.5302734375,
          3295.4951171875,
          3322.638427734375,
          3313.000732421875,
          3275.531005859375,
          3304.494140625,
          3295.446044921875,
          3324.310302734375,
          3314.67236328125,
          3325.5888671875,
          3292.05322265625,
          3278.284912109375,
          3276.41650390625,
          3347.962158203125,
          3439.96435546875,
          3444.48828125,
          3461.354248046875,
          3452.10986328125,
          3471.7294921875,
          3450.192138671875,
          3399.888427734375,
          3412.72265625,
          3455.60107421875,
          3429.8837890625,
          3453.53564453125,
          3454.322509765625,
          3473.15576171875,
          3544.455810546875,
          3555.076904296875,
          3566.681884765625,
          3582.61328125,
          3611.33056640625,
          3534.080322265625,
          3606.560546875,
          3797.1044921875,
          3795.334228515625,
          3753.045654296875,
          3717.494140625,
          3724.82080078125,
          3760.717041015625,
          3732.737548828125,
          3748.12841796875,
          3737.015380859375,
          3730.622802734375
         ],
         "yaxis": "y"
        }
       ],
       "layout": {
        "legend": {
         "tracegroupgap": 0
        },
        "template": {
         "data": {
          "bar": [
           {
            "error_x": {
             "color": "#2a3f5f"
            },
            "error_y": {
             "color": "#2a3f5f"
            },
            "marker": {
             "line": {
              "color": "#E5ECF6",
              "width": 0.5
             },
             "pattern": {
              "fillmode": "overlay",
              "size": 10,
              "solidity": 0.2
             }
            },
            "type": "bar"
           }
          ],
          "barpolar": [
           {
            "marker": {
             "line": {
              "color": "#E5ECF6",
              "width": 0.5
             },
             "pattern": {
              "fillmode": "overlay",
              "size": 10,
              "solidity": 0.2
             }
            },
            "type": "barpolar"
           }
          ],
          "carpet": [
           {
            "aaxis": {
             "endlinecolor": "#2a3f5f",
             "gridcolor": "white",
             "linecolor": "white",
             "minorgridcolor": "white",
             "startlinecolor": "#2a3f5f"
            },
            "baxis": {
             "endlinecolor": "#2a3f5f",
             "gridcolor": "white",
             "linecolor": "white",
             "minorgridcolor": "white",
             "startlinecolor": "#2a3f5f"
            },
            "type": "carpet"
           }
          ],
          "choropleth": [
           {
            "colorbar": {
             "outlinewidth": 0,
             "ticks": ""
            },
            "type": "choropleth"
           }
          ],
          "contour": [
           {
            "colorbar": {
             "outlinewidth": 0,
             "ticks": ""
            },
            "colorscale": [
             [
              0,
              "#0d0887"
             ],
             [
              0.1111111111111111,
              "#46039f"
             ],
             [
              0.2222222222222222,
              "#7201a8"
             ],
             [
              0.3333333333333333,
              "#9c179e"
             ],
             [
              0.4444444444444444,
              "#bd3786"
             ],
             [
              0.5555555555555556,
              "#d8576b"
             ],
             [
              0.6666666666666666,
              "#ed7953"
             ],
             [
              0.7777777777777778,
              "#fb9f3a"
             ],
             [
              0.8888888888888888,
              "#fdca26"
             ],
             [
              1,
              "#f0f921"
             ]
            ],
            "type": "contour"
           }
          ],
          "contourcarpet": [
           {
            "colorbar": {
             "outlinewidth": 0,
             "ticks": ""
            },
            "type": "contourcarpet"
           }
          ],
          "heatmap": [
           {
            "colorbar": {
             "outlinewidth": 0,
             "ticks": ""
            },
            "colorscale": [
             [
              0,
              "#0d0887"
             ],
             [
              0.1111111111111111,
              "#46039f"
             ],
             [
              0.2222222222222222,
              "#7201a8"
             ],
             [
              0.3333333333333333,
              "#9c179e"
             ],
             [
              0.4444444444444444,
              "#bd3786"
             ],
             [
              0.5555555555555556,
              "#d8576b"
             ],
             [
              0.6666666666666666,
              "#ed7953"
             ],
             [
              0.7777777777777778,
              "#fb9f3a"
             ],
             [
              0.8888888888888888,
              "#fdca26"
             ],
             [
              1,
              "#f0f921"
             ]
            ],
            "type": "heatmap"
           }
          ],
          "heatmapgl": [
           {
            "colorbar": {
             "outlinewidth": 0,
             "ticks": ""
            },
            "colorscale": [
             [
              0,
              "#0d0887"
             ],
             [
              0.1111111111111111,
              "#46039f"
             ],
             [
              0.2222222222222222,
              "#7201a8"
             ],
             [
              0.3333333333333333,
              "#9c179e"
             ],
             [
              0.4444444444444444,
              "#bd3786"
             ],
             [
              0.5555555555555556,
              "#d8576b"
             ],
             [
              0.6666666666666666,
              "#ed7953"
             ],
             [
              0.7777777777777778,
              "#fb9f3a"
             ],
             [
              0.8888888888888888,
              "#fdca26"
             ],
             [
              1,
              "#f0f921"
             ]
            ],
            "type": "heatmapgl"
           }
          ],
          "histogram": [
           {
            "marker": {
             "pattern": {
              "fillmode": "overlay",
              "size": 10,
              "solidity": 0.2
             }
            },
            "type": "histogram"
           }
          ],
          "histogram2d": [
           {
            "colorbar": {
             "outlinewidth": 0,
             "ticks": ""
            },
            "colorscale": [
             [
              0,
              "#0d0887"
             ],
             [
              0.1111111111111111,
              "#46039f"
             ],
             [
              0.2222222222222222,
              "#7201a8"
             ],
             [
              0.3333333333333333,
              "#9c179e"
             ],
             [
              0.4444444444444444,
              "#bd3786"
             ],
             [
              0.5555555555555556,
              "#d8576b"
             ],
             [
              0.6666666666666666,
              "#ed7953"
             ],
             [
              0.7777777777777778,
              "#fb9f3a"
             ],
             [
              0.8888888888888888,
              "#fdca26"
             ],
             [
              1,
              "#f0f921"
             ]
            ],
            "type": "histogram2d"
           }
          ],
          "histogram2dcontour": [
           {
            "colorbar": {
             "outlinewidth": 0,
             "ticks": ""
            },
            "colorscale": [
             [
              0,
              "#0d0887"
             ],
             [
              0.1111111111111111,
              "#46039f"
             ],
             [
              0.2222222222222222,
              "#7201a8"
             ],
             [
              0.3333333333333333,
              "#9c179e"
             ],
             [
              0.4444444444444444,
              "#bd3786"
             ],
             [
              0.5555555555555556,
              "#d8576b"
             ],
             [
              0.6666666666666666,
              "#ed7953"
             ],
             [
              0.7777777777777778,
              "#fb9f3a"
             ],
             [
              0.8888888888888888,
              "#fdca26"
             ],
             [
              1,
              "#f0f921"
             ]
            ],
            "type": "histogram2dcontour"
           }
          ],
          "mesh3d": [
           {
            "colorbar": {
             "outlinewidth": 0,
             "ticks": ""
            },
            "type": "mesh3d"
           }
          ],
          "parcoords": [
           {
            "line": {
             "colorbar": {
              "outlinewidth": 0,
              "ticks": ""
             }
            },
            "type": "parcoords"
           }
          ],
          "pie": [
           {
            "automargin": true,
            "type": "pie"
           }
          ],
          "scatter": [
           {
            "fillpattern": {
             "fillmode": "overlay",
             "size": 10,
             "solidity": 0.2
            },
            "type": "scatter"
           }
          ],
          "scatter3d": [
           {
            "line": {
             "colorbar": {
              "outlinewidth": 0,
              "ticks": ""
             }
            },
            "marker": {
             "colorbar": {
              "outlinewidth": 0,
              "ticks": ""
             }
            },
            "type": "scatter3d"
           }
          ],
          "scattercarpet": [
           {
            "marker": {
             "colorbar": {
              "outlinewidth": 0,
              "ticks": ""
             }
            },
            "type": "scattercarpet"
           }
          ],
          "scattergeo": [
           {
            "marker": {
             "colorbar": {
              "outlinewidth": 0,
              "ticks": ""
             }
            },
            "type": "scattergeo"
           }
          ],
          "scattergl": [
           {
            "marker": {
             "colorbar": {
              "outlinewidth": 0,
              "ticks": ""
             }
            },
            "type": "scattergl"
           }
          ],
          "scattermapbox": [
           {
            "marker": {
             "colorbar": {
              "outlinewidth": 0,
              "ticks": ""
             }
            },
            "type": "scattermapbox"
           }
          ],
          "scatterpolar": [
           {
            "marker": {
             "colorbar": {
              "outlinewidth": 0,
              "ticks": ""
             }
            },
            "type": "scatterpolar"
           }
          ],
          "scatterpolargl": [
           {
            "marker": {
             "colorbar": {
              "outlinewidth": 0,
              "ticks": ""
             }
            },
            "type": "scatterpolargl"
           }
          ],
          "scatterternary": [
           {
            "marker": {
             "colorbar": {
              "outlinewidth": 0,
              "ticks": ""
             }
            },
            "type": "scatterternary"
           }
          ],
          "surface": [
           {
            "colorbar": {
             "outlinewidth": 0,
             "ticks": ""
            },
            "colorscale": [
             [
              0,
              "#0d0887"
             ],
             [
              0.1111111111111111,
              "#46039f"
             ],
             [
              0.2222222222222222,
              "#7201a8"
             ],
             [
              0.3333333333333333,
              "#9c179e"
             ],
             [
              0.4444444444444444,
              "#bd3786"
             ],
             [
              0.5555555555555556,
              "#d8576b"
             ],
             [
              0.6666666666666666,
              "#ed7953"
             ],
             [
              0.7777777777777778,
              "#fb9f3a"
             ],
             [
              0.8888888888888888,
              "#fdca26"
             ],
             [
              1,
              "#f0f921"
             ]
            ],
            "type": "surface"
           }
          ],
          "table": [
           {
            "cells": {
             "fill": {
              "color": "#EBF0F8"
             },
             "line": {
              "color": "white"
             }
            },
            "header": {
             "fill": {
              "color": "#C8D4E3"
             },
             "line": {
              "color": "white"
             }
            },
            "type": "table"
           }
          ]
         },
         "layout": {
          "annotationdefaults": {
           "arrowcolor": "#2a3f5f",
           "arrowhead": 0,
           "arrowwidth": 1
          },
          "autotypenumbers": "strict",
          "coloraxis": {
           "colorbar": {
            "outlinewidth": 0,
            "ticks": ""
           }
          },
          "colorscale": {
           "diverging": [
            [
             0,
             "#8e0152"
            ],
            [
             0.1,
             "#c51b7d"
            ],
            [
             0.2,
             "#de77ae"
            ],
            [
             0.3,
             "#f1b6da"
            ],
            [
             0.4,
             "#fde0ef"
            ],
            [
             0.5,
             "#f7f7f7"
            ],
            [
             0.6,
             "#e6f5d0"
            ],
            [
             0.7,
             "#b8e186"
            ],
            [
             0.8,
             "#7fbc41"
            ],
            [
             0.9,
             "#4d9221"
            ],
            [
             1,
             "#276419"
            ]
           ],
           "sequential": [
            [
             0,
             "#0d0887"
            ],
            [
             0.1111111111111111,
             "#46039f"
            ],
            [
             0.2222222222222222,
             "#7201a8"
            ],
            [
             0.3333333333333333,
             "#9c179e"
            ],
            [
             0.4444444444444444,
             "#bd3786"
            ],
            [
             0.5555555555555556,
             "#d8576b"
            ],
            [
             0.6666666666666666,
             "#ed7953"
            ],
            [
             0.7777777777777778,
             "#fb9f3a"
            ],
            [
             0.8888888888888888,
             "#fdca26"
            ],
            [
             1,
             "#f0f921"
            ]
           ],
           "sequentialminus": [
            [
             0,
             "#0d0887"
            ],
            [
             0.1111111111111111,
             "#46039f"
            ],
            [
             0.2222222222222222,
             "#7201a8"
            ],
            [
             0.3333333333333333,
             "#9c179e"
            ],
            [
             0.4444444444444444,
             "#bd3786"
            ],
            [
             0.5555555555555556,
             "#d8576b"
            ],
            [
             0.6666666666666666,
             "#ed7953"
            ],
            [
             0.7777777777777778,
             "#fb9f3a"
            ],
            [
             0.8888888888888888,
             "#fdca26"
            ],
            [
             1,
             "#f0f921"
            ]
           ]
          },
          "colorway": [
           "#636efa",
           "#EF553B",
           "#00cc96",
           "#ab63fa",
           "#FFA15A",
           "#19d3f3",
           "#FF6692",
           "#B6E880",
           "#FF97FF",
           "#FECB52"
          ],
          "font": {
           "color": "#2a3f5f"
          },
          "geo": {
           "bgcolor": "white",
           "lakecolor": "white",
           "landcolor": "#E5ECF6",
           "showlakes": true,
           "showland": true,
           "subunitcolor": "white"
          },
          "hoverlabel": {
           "align": "left"
          },
          "hovermode": "closest",
          "mapbox": {
           "style": "light"
          },
          "paper_bgcolor": "white",
          "plot_bgcolor": "#E5ECF6",
          "polar": {
           "angularaxis": {
            "gridcolor": "white",
            "linecolor": "white",
            "ticks": ""
           },
           "bgcolor": "#E5ECF6",
           "radialaxis": {
            "gridcolor": "white",
            "linecolor": "white",
            "ticks": ""
           }
          },
          "scene": {
           "xaxis": {
            "backgroundcolor": "#E5ECF6",
            "gridcolor": "white",
            "gridwidth": 2,
            "linecolor": "white",
            "showbackground": true,
            "ticks": "",
            "zerolinecolor": "white"
           },
           "yaxis": {
            "backgroundcolor": "#E5ECF6",
            "gridcolor": "white",
            "gridwidth": 2,
            "linecolor": "white",
            "showbackground": true,
            "ticks": "",
            "zerolinecolor": "white"
           },
           "zaxis": {
            "backgroundcolor": "#E5ECF6",
            "gridcolor": "white",
            "gridwidth": 2,
            "linecolor": "white",
            "showbackground": true,
            "ticks": "",
            "zerolinecolor": "white"
           }
          },
          "shapedefaults": {
           "line": {
            "color": "#2a3f5f"
           }
          },
          "ternary": {
           "aaxis": {
            "gridcolor": "white",
            "linecolor": "white",
            "ticks": ""
           },
           "baxis": {
            "gridcolor": "white",
            "linecolor": "white",
            "ticks": ""
           },
           "bgcolor": "#E5ECF6",
           "caxis": {
            "gridcolor": "white",
            "linecolor": "white",
            "ticks": ""
           }
          },
          "title": {
           "x": 0.05
          },
          "xaxis": {
           "automargin": true,
           "gridcolor": "white",
           "linecolor": "white",
           "ticks": "",
           "title": {
            "standoff": 15
           },
           "zerolinecolor": "white",
           "zerolinewidth": 2
          },
          "yaxis": {
           "automargin": true,
           "gridcolor": "white",
           "linecolor": "white",
           "ticks": "",
           "title": {
            "standoff": 15
           },
           "zerolinecolor": "white",
           "zerolinewidth": 2
          }
         }
        },
        "title": {
         "text": "Closing Price"
        },
        "xaxis": {
         "anchor": "y",
         "domain": [
          0,
          1
         ],
         "title": {
          "text": "Date"
         }
        },
        "yaxis": {
         "anchor": "x",
         "domain": [
          0,
          1
         ],
         "title": {
          "text": "Close"
         }
        }
       }
      }
     },
     "metadata": {},
     "output_type": "display_data"
    }
   ],
   "source": [
    "data['Rolling Std Dev'] = data['Daily Return'].rolling(window=14).std()\n",
    "fig = px.line(data, x=data.index, y='Rolling Std Dev', title='Rolling 14-Day Standard Deviation')\n",
    "fig=px.line(data,x=data.index, y=data['Close'],title='Closing Price' )\n",
    "fig.show()"
   ]
  },
  {
   "cell_type": "markdown",
   "metadata": {
    "id": "wM0fklNYB6v-"
   },
   "source": [
    "# Problem 3:"
   ]
  },
  {
   "cell_type": "markdown",
   "metadata": {
    "id": "mMh5yTUsB9QP"
   },
   "source": [
    " • “UP” if daily return > 0%\n",
    "\n",
    " • “DOWN”if daily return ≤ 0%"
   ]
  },
  {
   "cell_type": "code",
   "execution_count": 17,
   "metadata": {
    "id": "ya7A_L9mBwXU"
   },
   "outputs": [],
   "source": [
    "from scipy.stats import binom"
   ]
  },
  {
   "cell_type": "code",
   "execution_count": 18,
   "metadata": {
    "colab": {
     "base_uri": "https://localhost:8080/",
     "height": 489
    },
    "id": "I4vPOcHIEAqm",
    "outputId": "96e6f09d-0af0-49be-c1cd-3d9b1a984662"
   },
   "outputs": [
    {
     "data": {
      "text/plain": [
       "Date\n",
       "2023-01-02    False\n",
       "2023-01-03     True\n",
       "2023-01-04     True\n",
       "2023-01-05    False\n",
       "2023-01-06    False\n",
       "              ...  \n",
       "2023-12-22     True\n",
       "2023-12-26    False\n",
       "2023-12-27     True\n",
       "2023-12-28    False\n",
       "2023-12-29    False\n",
       "Name: Daily Return, Length: 245, dtype: bool"
      ]
     },
     "execution_count": 18,
     "metadata": {},
     "output_type": "execute_result"
    }
   ],
   "source": [
    "data[\"Daily Return\"]>0"
   ]
  },
  {
   "cell_type": "code",
   "execution_count": 19,
   "metadata": {
    "id": "y_ftd2YQBx3r"
   },
   "outputs": [],
   "source": [
    "data['Direction']=np.where(data[\"Daily Return\"]>0, 'UP', 'DOWN')"
   ]
  },
  {
   "cell_type": "markdown",
   "metadata": {
    "id": "ZbamL_NeEfE-"
   },
   "source": [
    "P(UP) = Up days / Total days"
   ]
  },
  {
   "cell_type": "code",
   "execution_count": 20,
   "metadata": {
    "colab": {
     "base_uri": "https://localhost:8080/"
    },
    "id": "BRq0T6tWEZl-",
    "outputId": "15da2db8-c605-4d35-ec77-fcfd951b403b"
   },
   "outputs": [
    {
     "name": "stdout",
     "output_type": "stream",
     "text": [
      "P(UP) =  0.5142857142857142\n"
     ]
    }
   ],
   "source": [
    "P_UP=data['Direction'].value_counts()['UP']/len(data)\n",
    "print(\"P(UP) = \",P_UP)"
   ]
  },
  {
   "cell_type": "markdown",
   "metadata": {
    "id": "iezUVGYuW4ke"
   },
   "source": [
    "## Part 1: If your P(UP) = 0.6, calculate:\n",
    "\n",
    "\n",
    " • Probability of exactly 6 up days in 10 days<br>\n",
    " • Probability of at least 8 up days in 10 days<br>"
   ]
  },
  {
   "cell_type": "code",
   "execution_count": 21,
   "metadata": {
    "id": "G_cwIhbeEmR4"
   },
   "outputs": [],
   "source": [
    "p_up=0.6"
   ]
  },
  {
   "cell_type": "code",
   "execution_count": 22,
   "metadata": {
    "colab": {
     "base_uri": "https://localhost:8080/"
    },
    "id": "fDwtqS9BE3Px",
    "outputId": "6517a1cc-8d86-40e1-e6b4-db5023b022ee"
   },
   "outputs": [
    {
     "name": "stdout",
     "output_type": "stream",
     "text": [
      "P(Exactly 6 UPs in 10 days): 0.2508\n",
      "P(At least 8 UPs in 10 days): 0.1673\n"
     ]
    }
   ],
   "source": [
    "# Exactly 6 up days\n",
    "p1=binom.pmf(6,10,p_up)\n",
    "# 7 days or less (Atmost 7 days)\n",
    "p2=binom.cdf(7, 10, p_up)\n",
    "# Atleast 8 days\n",
    "p3 = 1 - p2\n",
    "\n",
    "print(f\"P(Exactly 6 UPs in 10 days): {p1:.4f}\")\n",
    "print(f\"P(At least 8 UPs in 10 days): {p3:.4f}\")\n"
   ]
  },
  {
   "cell_type": "markdown",
   "metadata": {
    "id": "K_YPcsRVzFWB"
   },
   "source": [
    "### Simulating 1000 coin flips"
   ]
  },
  {
   "cell_type": "code",
   "execution_count": 23,
   "metadata": {
    "id": "OUM-3NXnICBu"
   },
   "outputs": [],
   "source": [
    "# Library import\n",
    "import random\n",
    "# Set random seed so we all get same results\n",
    "np.random.seed(0)\n",
    "random.seed(0)"
   ]
  },
  {
   "cell_type": "code",
   "execution_count": 24,
   "metadata": {
    "id": "lJSj48tIH1TR"
   },
   "outputs": [],
   "source": [
    "def flip_coin(P_UP):\n",
    "    return 'UP' if random.random() < P_UP else 'DOWN'\n",
    "\n",
    "def flip_many_coins(num_flips,P_UP):\n",
    "    \"\"\"Flip coin many times and count results\"\"\"\n",
    "    results = []\n",
    "    for i in range(num_flips):\n",
    "        results.append(flip_coin(P_UP))\n",
    "\n",
    "    heads_count = results.count('UP')\n",
    "    tails_count = results.count('DOWN')\n",
    "\n",
    "    heads_percentage = (heads_count / num_flips) * 100\n",
    "\n",
    "    print(f\"\\n{num_flips} coin flips:\")\n",
    "    print(f\"UP: {heads_count} ({heads_percentage:.1f}%)\")\n",
    "    print(f\"DOWN: {tails_count} ({100-heads_percentage:.1f}%)\")\n",
    "\n",
    "    return results\n",
    "\n",
    "def visualize_coin_flips(P_UP):\n",
    "    flip_counts = list(range(1,1001,100))\n",
    "    heads_percentages = []\n",
    "    exact_6 = 0\n",
    "    atleast_8 = 0\n",
    "\n",
    "    for count in flip_counts:\n",
    "        results = []\n",
    "        for i in range(count):\n",
    "            results.append(flip_coin(P_UP))\n",
    "        heads_pct = (results.count('UP') / count) * 100\n",
    "        heads_percentages.append(heads_pct)\n",
    "        print(f\"{count} flips: {heads_pct:.1f}% UP\")\n",
    "\n",
    "    for i in range(1000):\n",
    "      results = []\n",
    "      for i in range(10):\n",
    "          results.append(flip_coin(P_UP))\n",
    "      total_up = results.count('UP')\n",
    "\n",
    "      if total_up == 6:\n",
    "          exact_6 += 1\n",
    "      if total_up >= 8:\n",
    "          atleast_8 += 1\n",
    "\n",
    "    prob_6 = exact_6 / 1000\n",
    "    prob_8plus = atleast_8 /1000\n",
    "    print(f\"\\n\\nOut of 1000 simulations of 10 flips:\")\n",
    "    print(f\"- Probability of exactly 6 UPs: {prob_6:.4f}\")\n",
    "    print(f\"- Probability of at least 8 UPs: {prob_8plus:.4f}\")\n",
    "\n",
    "    # Plot it\n",
    "    plt.figure(figsize=(10, 6))\n",
    "    plt.plot(flip_counts, heads_percentages, 'bo-', linewidth=2, markersize=8)\n",
    "    plt.axhline(y=p_up*100, color='red', linestyle='--', label='Expected 50%')\n",
    "    plt.xlabel('Number of Flips')\n",
    "    plt.ylabel('Percentage of UP')\n",
    "    plt.title('Coin Flip Results - Getting Closer to P_UP')\n",
    "    plt.grid(True, alpha=0.3)\n",
    "    plt.legend()\n",
    "    plt.show()"
   ]
  },
  {
   "cell_type": "code",
   "execution_count": 25,
   "metadata": {
    "colab": {
     "base_uri": "https://localhost:8080/",
     "height": 902
    },
    "id": "MjiMXNJUIaef",
    "outputId": "54cebf96-548d-45e7-81a6-c5147d96dcd3"
   },
   "outputs": [
    {
     "name": "stdout",
     "output_type": "stream",
     "text": [
      "\n",
      "10 coin flips:\n",
      "UP: 7 (70.0%)\n",
      "DOWN: 3 (30.0%)\n",
      "1 flips: 0.0% UP\n",
      "101 flips: 50.5% UP\n",
      "201 flips: 63.2% UP\n",
      "301 flips: 59.1% UP\n",
      "401 flips: 60.3% UP\n",
      "501 flips: 59.1% UP\n",
      "601 flips: 59.2% UP\n",
      "701 flips: 60.3% UP\n",
      "801 flips: 57.6% UP\n",
      "901 flips: 60.3% UP\n",
      "\n",
      "\n",
      "Out of 1000 simulations of 10 flips:\n",
      "- Probability of exactly 6 UPs: 0.2330\n",
      "- Probability of at least 8 UPs: 0.1720\n"
     ]
    },
    {
     "data": {
      "image/png": "[encoded data removed]",
      "text/plain": [
       "<Figure size 1000x600 with 1 Axes>"
      ]
     },
     "metadata": {},
     "output_type": "display_data"
    }
   ],
   "source": [
    "flip_many_coins(10,p_up)\n",
    "visualize_coin_flips(p_up)"
   ]
  },
  {
   "cell_type": "code",
   "execution_count": 35,
   "metadata": {
    "colab": {
     "base_uri": "https://localhost:8080/"
    },
    "id": "0Sds4lcfdwPB",
    "outputId": "fc126153-3d55-4ac9-a99a-656415bbedb4"
   },
   "outputs": [
    {
     "name": "stdout",
     "output_type": "stream",
     "text": [
      "\n",
      "Theoretical P(Exactly 6): 0.2508 (25.08%)\n",
      "Theoretical P(Atleast 8): 0.1673 (16.73%)\n"
     ]
    }
   ],
   "source": [
    "print(f\"\\nTheoretical P(Exactly 6): {p1:.4f} ({p1 * 100:.2f}%)\")\n",
    "print(f\"Theoretical P(Atleast 8): {p3:.4f} ({p3 * 100:.2f}%)\")"
   ]
  },
  {
   "cell_type": "markdown",
   "metadata": {
    "id": "QpvbIwTikALY"
   },
   "source": [
    "### **RESULTS**\n",
    "The theoretical values of probabilities are:\n",
    "- P(Exactly 6 UPs): 0.2508\n",
    "- P(Atleast 8 UPs): 0.1673\n",
    "\n",
    "The calulated values of probabilies using 10 coin flip simulation for 1000 times using P(UP)=0.6:\n",
    "- P(Exactly 6 UPs): 0.2390\n",
    "- P(Atleast 8 UPs): 0.1720\n",
    "\n",
    "This shows that the coin flip scenario almost mimics the theoretical probabilities and can probably reach even the exact values or even nearer to the exact values if the simulation runs for a longer duration. This is proven below. Instead of 1,000 simulations, I ran 10,000 simulations,\n",
    "\n",
    "Out of 10,000 simulations of 10 flips:\n",
    "- Probability of exactly 6 UPs: 0.2507\n",
    "- Probability of at least 8 UPs: 0.1729\n",
    "\n",
    "These new value of probability of exactly 6 UPs is closer to the theoretical value."
   ]
  },
  {
   "cell_type": "code",
   "execution_count": 27,
   "metadata": {
    "id": "Lqu_YDcUlrET"
   },
   "outputs": [],
   "source": [
    "def flip_coin(P_UP):\n",
    "    return 'UP' if random.random() < P_UP else 'DOWN'\n",
    "\n",
    "def flip_many_coins(num_flips,P_UP):\n",
    "    \"\"\"Flip coin many times and count results\"\"\"\n",
    "    results = []\n",
    "    for i in range(num_flips):\n",
    "        results.append(flip_coin(P_UP))\n",
    "\n",
    "    heads_count = results.count('UP')\n",
    "    tails_count = results.count('DOWN')\n",
    "\n",
    "    heads_percentage = (heads_count / num_flips) * 100\n",
    "\n",
    "    print(f\"\\n{num_flips} coin flips:\")\n",
    "    print(f\"UP: {heads_count} ({heads_percentage:.1f}%)\")\n",
    "    print(f\"DOWN: {tails_count} ({100-heads_percentage:.1f}%)\")\n",
    "\n",
    "    return results\n",
    "\n",
    "def visualize_coin_flips(P_UP):\n",
    "    flip_counts = list(range(1,10001,1000))\n",
    "    heads_percentages = []\n",
    "    exact_6 = 0\n",
    "    atleast_8 = 0\n",
    "\n",
    "    for count in flip_counts:\n",
    "        results = []\n",
    "        for i in range(count):\n",
    "            results.append(flip_coin(P_UP))\n",
    "        heads_pct = (results.count('UP') / count) * 100\n",
    "        heads_percentages.append(heads_pct)\n",
    "        print(f\"{count} flips: {heads_pct:.1f}% UP\")\n",
    "\n",
    "    for i in range(10000):\n",
    "      results = []\n",
    "      for i in range(10):\n",
    "          results.append(flip_coin(P_UP))\n",
    "      total_up = results.count('UP')\n",
    "\n",
    "      if total_up == 6:\n",
    "          exact_6 += 1\n",
    "      if total_up >= 8:\n",
    "          atleast_8 += 1\n",
    "\n",
    "    prob_6 = exact_6 / 10000\n",
    "    prob_8plus = atleast_8 /10000\n",
    "    print(f\"\\n\\nOut of 10,000 simulations of 10 flips:\")\n",
    "    print(f\"- Probability of exactly 6 UPs: {prob_6:.4f}\")\n",
    "    print(f\"- Probability of at least 8 UPs: {prob_8plus:.4f}\")\n",
    "\n",
    "    # Plot it\n",
    "    plt.figure(figsize=(10, 6))\n",
    "    plt.plot(flip_counts, heads_percentages, 'bo-', linewidth=2, markersize=8)\n",
    "    plt.axhline(y=p_up*100, color='red', linestyle='--', label='Expected 50%')\n",
    "    plt.xlabel('Number of Flips')\n",
    "    plt.ylabel('Percentage of UP')\n",
    "    plt.title('Coin Flip Results - Getting Closer to P_UP')\n",
    "    plt.grid(True, alpha=0.3)\n",
    "    plt.legend()\n",
    "    plt.show()"
   ]
  },
  {
   "cell_type": "code",
   "execution_count": 28,
   "metadata": {
    "colab": {
     "base_uri": "https://localhost:8080/",
     "height": 902
    },
    "id": "UTwrUb6Qlfnz",
    "outputId": "d8a57ddb-14c7-4d30-b183-c4f165a25565"
   },
   "outputs": [
    {
     "name": "stdout",
     "output_type": "stream",
     "text": [
      "\n",
      "10 coin flips:\n",
      "UP: 6 (60.0%)\n",
      "DOWN: 4 (40.0%)\n",
      "1 flips: 0.0% UP\n",
      "1001 flips: 60.0% UP\n",
      "2001 flips: 60.0% UP\n",
      "3001 flips: 58.9% UP\n",
      "4001 flips: 60.5% UP\n",
      "5001 flips: 60.5% UP\n",
      "6001 flips: 60.0% UP\n",
      "7001 flips: 61.0% UP\n",
      "8001 flips: 60.4% UP\n",
      "9001 flips: 60.0% UP\n",
      "\n",
      "\n",
      "Out of 10,000 simulations of 10 flips:\n",
      "- Probability of exactly 6 UPs: 0.2559\n",
      "- Probability of at least 8 UPs: 0.1663\n"
     ]
    },
    {
     "data": {
      "image/png": "[encoded data removed]",
      "text/plain": [
       "<Figure size 1000x600 with 1 Axes>"
      ]
     },
     "metadata": {},
     "output_type": "display_data"
    }
   ],
   "source": [
    "flip_many_coins(10,p_up)\n",
    "visualize_coin_flips(p_up)"
   ]
  },
  {
   "cell_type": "markdown",
   "metadata": {
    "id": "wWUa5ZSPYBt9"
   },
   "source": [
    "### Even with 6 Up Days Out of 10, You Can Still Lose Money\n",
    "\n",
    "- You have 6 up days and 4 down days\n",
    "- You start with an initial investment P : Principal\n",
    "\n",
    "The compound interest formula for the amount is:<br>\n",
    "$ \\text {Amount} =P\\times (1+r/n)^{nt} $ where n is the number of compounding periods\n",
    "\n",
    "The compound interest formula for a sequence of returns is:<br>\n",
    "$\\text{Amount} = P \\times (1 + r_u)^{n_u} \\times (1 + r_d)^{n_d}$\n",
    "\n",
    "Where:\n",
    "- $ r_u   = \\text {average return \\% on up days} $\n",
    "- $ r_d  = \\text {average return \\% on down days} $\n",
    "- $ n_u  = \\text {number of up days} = 6 $\n",
    "- $ n_d  = \\text {number of down days} = 4 $\n",
    "\n",
    "Therefore, the returns can be calculated as (Amount-Principal)/Principal.\n",
    "\n",
    "$ \\text{Return} = (1 + r_u)^{n_u} \\times (1 + r_d)^{n_d} -1 $"
   ]
  },
  {
   "cell_type": "code",
   "execution_count": 31,
   "metadata": {
    "colab": {
     "base_uri": "https://localhost:8080/"
    },
    "id": "svOn9T8GKfTo",
    "outputId": "54ac1a68-c015-4902-ebd3-b00b84bee21d"
   },
   "outputs": [
    {
     "name": "stdout",
     "output_type": "stream",
     "text": [
      "Avg UP return: 0.0090\n",
      "Avg DOWN return: -0.0079\n",
      "Net return over 10 days (6 UP, 4 DOWN): 2.2174%\n"
     ]
    }
   ],
   "source": [
    "ru=data[data['Direction']=='UP']['Daily Return'].mean()\n",
    "rd = data[data['Direction'] == 'DOWN']['Daily Return'].mean()\n",
    "amount = (1 + ru) ** 6 * (1 + rd) ** 4\n",
    "total_return = amount - 1\n",
    "print(f\"Avg UP return: {ru:.4f}\")\n",
    "print(f\"Avg DOWN return: {rd:.4f}\")\n",
    "print(f\"Net return over 10 days (6 UP, 4 DOWN): {total_return:.4%}\")\n"
   ]
  },
  {
   "cell_type": "markdown",
   "metadata": {
    "id": "6obX5W_dNnCx"
   },
   "source": [
    "Although here it can be seen that the net return is positive, so money would be gained in this scenario. It is possible to lose money if the Average DOWN return was even slightly greater. Therefore, a high win rate does not guarentee profitability."
   ]
  },
  {
   "cell_type": "markdown",
   "metadata": {
    "id": "8g5rYbeI2uFo"
   },
   "source": [
    "### Part 3:  Someone offers you this bet:\n",
    " • Win 100 when your stock goes up\n",
    "\n",
    " • Lose 150 when your stock goes down\n",
    "\n",
    " Would you take it?\n",
    "\n",
    " Based on TCS stock data from 2023:\n",
    "- P(UP) ≈ 0.51\n",
    "- Value Gained/Lost (approximate) =   $ 0.51 \\times 100 + 0.49 \\times (-150) = 51 - 73.5 = - \\text{₹} 22.5 $\n",
    "- That means, **on average, I would lose ₹22.5 per trade**.\n",
    "\n",
    " Even without seeing the expected value per trade or the total number of up or down days, it would be a risk to take this bet. The main reason that I thought it would be risky is because stock prices are usually very volatile. Though with a lot of tools these days, they can be predicted to some extent, it would still be risky if the stock price goes down. There is a probability that I could have been winning money rather than losing but after the calulation using the 2023 data, it seems like a losing bet if I keep on losing 21.42 on each trade"
   ]
  },
  {
   "cell_type": "code",
   "execution_count": 32,
   "metadata": {
    "colab": {
     "base_uri": "https://localhost:8080/"
    },
    "id": "guGKL_vXKv2v",
    "outputId": "2711a5a2-5849-41fa-f157-0256da313fb8"
   },
   "outputs": [
    {
     "name": "stdout",
     "output_type": "stream",
     "text": [
      "Exact value per trade (no approximation): -21.428571428571438\n"
     ]
    }
   ],
   "source": [
    "gain = 100\n",
    "loss = -150\n",
    "\n",
    "expected_value = P_UP * gain + (1-P_UP) * loss\n",
    "print(f\"Exact value per trade (no approximation): {expected_value}\")\n"
   ]
  },
  {
   "cell_type": "markdown",
   "metadata": {
    "id": "GVXhPQsB5QLt"
   },
   "source": [
    "# Expectations\n",
    "\n",
    "I am really excited to be a part of this project. My main expectation is to learn more about the technical and conceptual/probabilistic interpretations of strategies in finance.\n",
    "\n",
    "I am pleased with the allotment. The foundation of this project aligns with the things I was already interested in and would like to pursue further.\n",
    "\n",
    "The buzzword that caught my attention was \"Bayesian Ranking\". The incorporation of probability and statistics in the evaluation of financial strategies seemed to me as an interesting idea and I'm eager to learn more about it.\n"
   ]
  }
 ],
 "metadata": {
  "colab": {
   "provenance": []
  },
  "kernelspec": {
   "display_name": "Python 3 (ipykernel)",
   "language": "python",
   "name": "python3"
  },
  "language_info": {
   "codemirror_mode": {
    "name": "ipython",
    "version": 3
   },
   "file_extension": ".py",
   "mimetype": "text/x-python",
   "name": "python",
   "nbconvert_exporter": "python",
   "pygments_lexer": "ipython3",
   "version": "3.12.7"
  }
 },
 "nbformat": 4,
 "nbformat_minor": 4
}
