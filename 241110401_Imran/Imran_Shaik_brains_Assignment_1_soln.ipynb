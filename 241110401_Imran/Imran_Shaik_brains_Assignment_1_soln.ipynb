{
  "nbformat": 4,
  "nbformat_minor": 0,
  "metadata": {
    "colab": {
      "provenance": []
    },
    "kernelspec": {
      "name": "python3",
      "display_name": "Python 3"
    },
    "language_info": {
      "name": "python"
    }
  },
  "cells": [
    {
      "cell_type": "markdown",
      "source": [
        "# Problem Statement 1: Data Exploration & Visualization"
      ],
      "metadata": {
        "id": "dfcqnCoFiu8k"
      }
    },
    {
      "cell_type": "markdown",
      "source": [
        "# 1. Obtaining Data"
      ],
      "metadata": {
        "id": "WO2QtIkpi4Ez"
      }
    },
    {
      "cell_type": "code",
      "execution_count": null,
      "metadata": {
        "colab": {
          "base_uri": "https://localhost:8080/"
        },
        "collapsed": true,
        "id": "7MJhdDO95B35",
        "outputId": "b57779f8-eb60-42ef-90be-2389b1c2da4d"
      },
      "outputs": [
        {
          "output_type": "stream",
          "name": "stdout",
          "text": [
            "Requirement already satisfied: numpy in /usr/local/lib/python3.11/dist-packages (2.0.2)\n",
            "Requirement already satisfied: pandas in /usr/local/lib/python3.11/dist-packages (2.2.2)\n",
            "Requirement already satisfied: yfinance in /usr/local/lib/python3.11/dist-packages (0.2.61)\n",
            "Requirement already satisfied: matplotlib in /usr/local/lib/python3.11/dist-packages (3.10.0)\n",
            "Requirement already satisfied: seaborn in /usr/local/lib/python3.11/dist-packages (0.13.2)\n",
            "Requirement already satisfied: python-dateutil>=2.8.2 in /usr/local/lib/python3.11/dist-packages (from pandas) (2.9.0.post0)\n",
            "Requirement already satisfied: pytz>=2020.1 in /usr/local/lib/python3.11/dist-packages (from pandas) (2025.2)\n",
            "Requirement already satisfied: tzdata>=2022.7 in /usr/local/lib/python3.11/dist-packages (from pandas) (2025.2)\n",
            "Requirement already satisfied: requests>=2.31 in /usr/local/lib/python3.11/dist-packages (from yfinance) (2.32.3)\n",
            "Requirement already satisfied: multitasking>=0.0.7 in /usr/local/lib/python3.11/dist-packages (from yfinance) (0.0.11)\n",
            "Requirement already satisfied: platformdirs>=2.0.0 in /usr/local/lib/python3.11/dist-packages (from yfinance) (4.3.8)\n",
            "Requirement already satisfied: frozendict>=2.3.4 in /usr/local/lib/python3.11/dist-packages (from yfinance) (2.4.6)\n",
            "Requirement already satisfied: peewee>=3.16.2 in /usr/local/lib/python3.11/dist-packages (from yfinance) (3.18.1)\n",
            "Requirement already satisfied: beautifulsoup4>=4.11.1 in /usr/local/lib/python3.11/dist-packages (from yfinance) (4.13.4)\n",
            "Requirement already satisfied: curl_cffi>=0.7 in /usr/local/lib/python3.11/dist-packages (from yfinance) (0.10.0)\n",
            "Requirement already satisfied: protobuf>=3.19.0 in /usr/local/lib/python3.11/dist-packages (from yfinance) (5.29.4)\n",
            "Requirement already satisfied: websockets>=13.0 in /usr/local/lib/python3.11/dist-packages (from yfinance) (15.0.1)\n",
            "Requirement already satisfied: contourpy>=1.0.1 in /usr/local/lib/python3.11/dist-packages (from matplotlib) (1.3.2)\n",
            "Requirement already satisfied: cycler>=0.10 in /usr/local/lib/python3.11/dist-packages (from matplotlib) (0.12.1)\n",
            "Requirement already satisfied: fonttools>=4.22.0 in /usr/local/lib/python3.11/dist-packages (from matplotlib) (4.58.0)\n",
            "Requirement already satisfied: kiwisolver>=1.3.1 in /usr/local/lib/python3.11/dist-packages (from matplotlib) (1.4.8)\n",
            "Requirement already satisfied: packaging>=20.0 in /usr/local/lib/python3.11/dist-packages (from matplotlib) (24.2)\n",
            "Requirement already satisfied: pillow>=8 in /usr/local/lib/python3.11/dist-packages (from matplotlib) (11.2.1)\n",
            "Requirement already satisfied: pyparsing>=2.3.1 in /usr/local/lib/python3.11/dist-packages (from matplotlib) (3.2.3)\n",
            "Requirement already satisfied: soupsieve>1.2 in /usr/local/lib/python3.11/dist-packages (from beautifulsoup4>=4.11.1->yfinance) (2.7)\n",
            "Requirement already satisfied: typing-extensions>=4.0.0 in /usr/local/lib/python3.11/dist-packages (from beautifulsoup4>=4.11.1->yfinance) (4.13.2)\n",
            "Requirement already satisfied: cffi>=1.12.0 in /usr/local/lib/python3.11/dist-packages (from curl_cffi>=0.7->yfinance) (1.17.1)\n",
            "Requirement already satisfied: certifi>=2024.2.2 in /usr/local/lib/python3.11/dist-packages (from curl_cffi>=0.7->yfinance) (2025.4.26)\n",
            "Requirement already satisfied: six>=1.5 in /usr/local/lib/python3.11/dist-packages (from python-dateutil>=2.8.2->pandas) (1.17.0)\n",
            "Requirement already satisfied: charset-normalizer<4,>=2 in /usr/local/lib/python3.11/dist-packages (from requests>=2.31->yfinance) (3.4.2)\n",
            "Requirement already satisfied: idna<4,>=2.5 in /usr/local/lib/python3.11/dist-packages (from requests>=2.31->yfinance) (3.10)\n",
            "Requirement already satisfied: urllib3<3,>=1.21.1 in /usr/local/lib/python3.11/dist-packages (from requests>=2.31->yfinance) (2.4.0)\n",
            "Requirement already satisfied: pycparser in /usr/local/lib/python3.11/dist-packages (from cffi>=1.12.0->curl_cffi>=0.7->yfinance) (2.22)\n"
          ]
        }
      ],
      "source": [
        "!pip install numpy pandas yfinance matplotlib seaborn"
      ]
    },
    {
      "cell_type": "code",
      "source": [
        "!pip install yfinance --upgrade --no-cache-dir"
      ],
      "metadata": {
        "colab": {
          "base_uri": "https://localhost:8080/"
        },
        "collapsed": true,
        "id": "V9IpdlNKKsLT",
        "outputId": "4ebeb6e9-f668-47e2-91da-95a6e519de18"
      },
      "execution_count": null,
      "outputs": [
        {
          "output_type": "stream",
          "name": "stdout",
          "text": [
            "Requirement already satisfied: yfinance in /usr/local/lib/python3.11/dist-packages (0.2.61)\n",
            "Requirement already satisfied: pandas>=1.3.0 in /usr/local/lib/python3.11/dist-packages (from yfinance) (2.2.2)\n",
            "Requirement already satisfied: numpy>=1.16.5 in /usr/local/lib/python3.11/dist-packages (from yfinance) (2.0.2)\n",
            "Requirement already satisfied: requests>=2.31 in /usr/local/lib/python3.11/dist-packages (from yfinance) (2.32.3)\n",
            "Requirement already satisfied: multitasking>=0.0.7 in /usr/local/lib/python3.11/dist-packages (from yfinance) (0.0.11)\n",
            "Requirement already satisfied: platformdirs>=2.0.0 in /usr/local/lib/python3.11/dist-packages (from yfinance) (4.3.8)\n",
            "Requirement already satisfied: pytz>=2022.5 in /usr/local/lib/python3.11/dist-packages (from yfinance) (2025.2)\n",
            "Requirement already satisfied: frozendict>=2.3.4 in /usr/local/lib/python3.11/dist-packages (from yfinance) (2.4.6)\n",
            "Requirement already satisfied: peewee>=3.16.2 in /usr/local/lib/python3.11/dist-packages (from yfinance) (3.18.1)\n",
            "Requirement already satisfied: beautifulsoup4>=4.11.1 in /usr/local/lib/python3.11/dist-packages (from yfinance) (4.13.4)\n",
            "Requirement already satisfied: curl_cffi>=0.7 in /usr/local/lib/python3.11/dist-packages (from yfinance) (0.10.0)\n",
            "Requirement already satisfied: protobuf>=3.19.0 in /usr/local/lib/python3.11/dist-packages (from yfinance) (5.29.4)\n",
            "Requirement already satisfied: websockets>=13.0 in /usr/local/lib/python3.11/dist-packages (from yfinance) (15.0.1)\n",
            "Requirement already satisfied: soupsieve>1.2 in /usr/local/lib/python3.11/dist-packages (from beautifulsoup4>=4.11.1->yfinance) (2.7)\n",
            "Requirement already satisfied: typing-extensions>=4.0.0 in /usr/local/lib/python3.11/dist-packages (from beautifulsoup4>=4.11.1->yfinance) (4.13.2)\n",
            "Requirement already satisfied: cffi>=1.12.0 in /usr/local/lib/python3.11/dist-packages (from curl_cffi>=0.7->yfinance) (1.17.1)\n",
            "Requirement already satisfied: certifi>=2024.2.2 in /usr/local/lib/python3.11/dist-packages (from curl_cffi>=0.7->yfinance) (2025.4.26)\n",
            "Requirement already satisfied: python-dateutil>=2.8.2 in /usr/local/lib/python3.11/dist-packages (from pandas>=1.3.0->yfinance) (2.9.0.post0)\n",
            "Requirement already satisfied: tzdata>=2022.7 in /usr/local/lib/python3.11/dist-packages (from pandas>=1.3.0->yfinance) (2025.2)\n",
            "Requirement already satisfied: charset-normalizer<4,>=2 in /usr/local/lib/python3.11/dist-packages (from requests>=2.31->yfinance) (3.4.2)\n",
            "Requirement already satisfied: idna<4,>=2.5 in /usr/local/lib/python3.11/dist-packages (from requests>=2.31->yfinance) (3.10)\n",
            "Requirement already satisfied: urllib3<3,>=1.21.1 in /usr/local/lib/python3.11/dist-packages (from requests>=2.31->yfinance) (2.4.0)\n",
            "Requirement already satisfied: pycparser in /usr/local/lib/python3.11/dist-packages (from cffi>=1.12.0->curl_cffi>=0.7->yfinance) (2.22)\n",
            "Requirement already satisfied: six>=1.5 in /usr/local/lib/python3.11/dist-packages (from python-dateutil>=2.8.2->pandas>=1.3.0->yfinance) (1.17.0)\n"
          ]
        }
      ]
    },
    {
      "cell_type": "code",
      "source": [
        "from datetime import datetime\n",
        "import matplotlib.pyplot as plt\n",
        "import seaborn as sb\n",
        "import numpy as np\n",
        "import pandas as pd\n",
        "import yfinance as yf"
      ],
      "metadata": {
        "id": "vhPn6VAC9rO1"
      },
      "execution_count": 1,
      "outputs": []
    },
    {
      "cell_type": "code",
      "source": [
        "last_date=datetime(year=2025, month=5, day=26)\n",
        "begin_date=datetime(year=2024,month=5,day=26)"
      ],
      "metadata": {
        "id": "HCVtMuCwB7Ev"
      },
      "execution_count": 2,
      "outputs": []
    },
    {
      "cell_type": "code",
      "source": [
        "ticker=\"INDUSINDBK.NS\"\n",
        "stock=yf.download(\n",
        "    tickers=ticker,\n",
        "    start=begin_date,\n",
        "    end=last_date,\n",
        "    interval=\"1d\",\n",
        "    group_by='ticker',\n",
        "    auto_adjust=True,\n",
        "    progress=False\n",
        ")"
      ],
      "metadata": {
        "id": "eaJijvaOCcHn"
      },
      "execution_count": 3,
      "outputs": []
    },
    {
      "cell_type": "code",
      "source": [
        "stock"
      ],
      "metadata": {
        "colab": {
          "base_uri": "https://localhost:8080/",
          "height": 486
        },
        "id": "FswpsAxxKPDU",
        "outputId": "89edbae4-0206-4507-f43d-5d9ff78876d7",
        "collapsed": true
      },
      "execution_count": 4,
      "outputs": [
        {
          "output_type": "execute_result",
          "data": {
            "text/plain": [
              "Ticker     INDUSINDBK.NS                                                 \n",
              "Price               Open         High          Low        Close    Volume\n",
              "Date                                                                     \n",
              "2024-05-27   1431.952709  1459.398017  1423.496660  1449.013306   3253683\n",
              "2024-05-28   1456.628808  1462.562929  1433.188960  1443.326416   2381333\n",
              "2024-05-29   1437.046279  1455.491529  1423.447252  1444.216675   4383563\n",
              "2024-05-30   1441.991283  1461.474931  1423.348279  1430.914307   3415942\n",
              "2024-05-31   1440.013329  1453.760733  1430.667137  1445.799072   3546505\n",
              "...                  ...          ...          ...          ...       ...\n",
              "2025-05-19    779.900024   791.950012   770.299988   784.049988   7193105\n",
              "2025-05-20    785.000000   799.700012   780.049988   782.250000   6637953\n",
              "2025-05-21    783.000000   786.700012   761.000000   769.950012   8134620\n",
              "2025-05-22    750.000000   796.700012   725.799988   785.000000  43477564\n",
              "2025-05-23    781.099976   799.200012   777.299988   793.400024   9260373\n",
              "\n",
              "[247 rows x 5 columns]"
            ],
            "text/html": [
              "\n",
              "  <div id=\"df-f1a5adf5-8d17-4eb0-99ec-a4f3c8ecdb19\" class=\"colab-df-container\">\n",
              "    <div>\n",
              "<style scoped>\n",
              "    .dataframe tbody tr th:only-of-type {\n",
              "        vertical-align: middle;\n",
              "    }\n",
              "\n",
              "    .dataframe tbody tr th {\n",
              "        vertical-align: top;\n",
              "    }\n",
              "\n",
              "    .dataframe thead tr th {\n",
              "        text-align: left;\n",
              "    }\n",
              "\n",
              "    .dataframe thead tr:last-of-type th {\n",
              "        text-align: right;\n",
              "    }\n",
              "</style>\n",
              "<table border=\"1\" class=\"dataframe\">\n",
              "  <thead>\n",
              "    <tr>\n",
              "      <th>Ticker</th>\n",
              "      <th colspan=\"5\" halign=\"left\">INDUSINDBK.NS</th>\n",
              "    </tr>\n",
              "    <tr>\n",
              "      <th>Price</th>\n",
              "      <th>Open</th>\n",
              "      <th>High</th>\n",
              "      <th>Low</th>\n",
              "      <th>Close</th>\n",
              "      <th>Volume</th>\n",
              "    </tr>\n",
              "    <tr>\n",
              "      <th>Date</th>\n",
              "      <th></th>\n",
              "      <th></th>\n",
              "      <th></th>\n",
              "      <th></th>\n",
              "      <th></th>\n",
              "    </tr>\n",
              "  </thead>\n",
              "  <tbody>\n",
              "    <tr>\n",
              "      <th>2024-05-27</th>\n",
              "      <td>1431.952709</td>\n",
              "      <td>1459.398017</td>\n",
              "      <td>1423.496660</td>\n",
              "      <td>1449.013306</td>\n",
              "      <td>3253683</td>\n",
              "    </tr>\n",
              "    <tr>\n",
              "      <th>2024-05-28</th>\n",
              "      <td>1456.628808</td>\n",
              "      <td>1462.562929</td>\n",
              "      <td>1433.188960</td>\n",
              "      <td>1443.326416</td>\n",
              "      <td>2381333</td>\n",
              "    </tr>\n",
              "    <tr>\n",
              "      <th>2024-05-29</th>\n",
              "      <td>1437.046279</td>\n",
              "      <td>1455.491529</td>\n",
              "      <td>1423.447252</td>\n",
              "      <td>1444.216675</td>\n",
              "      <td>4383563</td>\n",
              "    </tr>\n",
              "    <tr>\n",
              "      <th>2024-05-30</th>\n",
              "      <td>1441.991283</td>\n",
              "      <td>1461.474931</td>\n",
              "      <td>1423.348279</td>\n",
              "      <td>1430.914307</td>\n",
              "      <td>3415942</td>\n",
              "    </tr>\n",
              "    <tr>\n",
              "      <th>2024-05-31</th>\n",
              "      <td>1440.013329</td>\n",
              "      <td>1453.760733</td>\n",
              "      <td>1430.667137</td>\n",
              "      <td>1445.799072</td>\n",
              "      <td>3546505</td>\n",
              "    </tr>\n",
              "    <tr>\n",
              "      <th>...</th>\n",
              "      <td>...</td>\n",
              "      <td>...</td>\n",
              "      <td>...</td>\n",
              "      <td>...</td>\n",
              "      <td>...</td>\n",
              "    </tr>\n",
              "    <tr>\n",
              "      <th>2025-05-19</th>\n",
              "      <td>779.900024</td>\n",
              "      <td>791.950012</td>\n",
              "      <td>770.299988</td>\n",
              "      <td>784.049988</td>\n",
              "      <td>7193105</td>\n",
              "    </tr>\n",
              "    <tr>\n",
              "      <th>2025-05-20</th>\n",
              "      <td>785.000000</td>\n",
              "      <td>799.700012</td>\n",
              "      <td>780.049988</td>\n",
              "      <td>782.250000</td>\n",
              "      <td>6637953</td>\n",
              "    </tr>\n",
              "    <tr>\n",
              "      <th>2025-05-21</th>\n",
              "      <td>783.000000</td>\n",
              "      <td>786.700012</td>\n",
              "      <td>761.000000</td>\n",
              "      <td>769.950012</td>\n",
              "      <td>8134620</td>\n",
              "    </tr>\n",
              "    <tr>\n",
              "      <th>2025-05-22</th>\n",
              "      <td>750.000000</td>\n",
              "      <td>796.700012</td>\n",
              "      <td>725.799988</td>\n",
              "      <td>785.000000</td>\n",
              "      <td>43477564</td>\n",
              "    </tr>\n",
              "    <tr>\n",
              "      <th>2025-05-23</th>\n",
              "      <td>781.099976</td>\n",
              "      <td>799.200012</td>\n",
              "      <td>777.299988</td>\n",
              "      <td>793.400024</td>\n",
              "      <td>9260373</td>\n",
              "    </tr>\n",
              "  </tbody>\n",
              "</table>\n",
              "<p>247 rows × 5 columns</p>\n",
              "</div>\n",
              "    <div class=\"colab-df-buttons\">\n",
              "\n",
              "  <div class=\"colab-df-container\">\n",
              "    <button class=\"colab-df-convert\" onclick=\"convertToInteractive('df-f1a5adf5-8d17-4eb0-99ec-a4f3c8ecdb19')\"\n",
              "            title=\"Convert this dataframe to an interactive table.\"\n",
              "            style=\"display:none;\">\n",
              "\n",
              "  <svg xmlns=\"http://www.w3.org/2000/svg\" height=\"24px\" viewBox=\"0 -960 960 960\">\n",
              "    <path d=\"M120-120v-720h720v720H120Zm60-500h600v-160H180v160Zm220 220h160v-160H400v160Zm0 220h160v-160H400v160ZM180-400h160v-160H180v160Zm440 0h160v-160H620v160ZM180-180h160v-160H180v160Zm440 0h160v-160H620v160Z\"/>\n",
              "  </svg>\n",
              "    </button>\n",
              "\n",
              "  <style>\n",
              "    .colab-df-container {\n",
              "      display:flex;\n",
              "      gap: 12px;\n",
              "    }\n",
              "\n",
              "    .colab-df-convert {\n",
              "      background-color: #E8F0FE;\n",
              "      border: none;\n",
              "      border-radius: 50%;\n",
              "      cursor: pointer;\n",
              "      display: none;\n",
              "      fill: #1967D2;\n",
              "      height: 32px;\n",
              "      padding: 0 0 0 0;\n",
              "      width: 32px;\n",
              "    }\n",
              "\n",
              "    .colab-df-convert:hover {\n",
              "      background-color: #E2EBFA;\n",
              "      box-shadow: 0px 1px 2px rgba(60, 64, 67, 0.3), 0px 1px 3px 1px rgba(60, 64, 67, 0.15);\n",
              "      fill: #174EA6;\n",
              "    }\n",
              "\n",
              "    .colab-df-buttons div {\n",
              "      margin-bottom: 4px;\n",
              "    }\n",
              "\n",
              "    [theme=dark] .colab-df-convert {\n",
              "      background-color: #3B4455;\n",
              "      fill: #D2E3FC;\n",
              "    }\n",
              "\n",
              "    [theme=dark] .colab-df-convert:hover {\n",
              "      background-color: #434B5C;\n",
              "      box-shadow: 0px 1px 3px 1px rgba(0, 0, 0, 0.15);\n",
              "      filter: drop-shadow(0px 1px 2px rgba(0, 0, 0, 0.3));\n",
              "      fill: #FFFFFF;\n",
              "    }\n",
              "  </style>\n",
              "\n",
              "    <script>\n",
              "      const buttonEl =\n",
              "        document.querySelector('#df-f1a5adf5-8d17-4eb0-99ec-a4f3c8ecdb19 button.colab-df-convert');\n",
              "      buttonEl.style.display =\n",
              "        google.colab.kernel.accessAllowed ? 'block' : 'none';\n",
              "\n",
              "      async function convertToInteractive(key) {\n",
              "        const element = document.querySelector('#df-f1a5adf5-8d17-4eb0-99ec-a4f3c8ecdb19');\n",
              "        const dataTable =\n",
              "          await google.colab.kernel.invokeFunction('convertToInteractive',\n",
              "                                                    [key], {});\n",
              "        if (!dataTable) return;\n",
              "\n",
              "        const docLinkHtml = 'Like what you see? Visit the ' +\n",
              "          '<a target=\"_blank\" href=https://colab.research.google.com/notebooks/data_table.ipynb>data table notebook</a>'\n",
              "          + ' to learn more about interactive tables.';\n",
              "        element.innerHTML = '';\n",
              "        dataTable['output_type'] = 'display_data';\n",
              "        await google.colab.output.renderOutput(dataTable, element);\n",
              "        const docLink = document.createElement('div');\n",
              "        docLink.innerHTML = docLinkHtml;\n",
              "        element.appendChild(docLink);\n",
              "      }\n",
              "    </script>\n",
              "  </div>\n",
              "\n",
              "\n",
              "    <div id=\"df-b92dc1d3-8264-4f6c-bc01-30e2280a6fef\">\n",
              "      <button class=\"colab-df-quickchart\" onclick=\"quickchart('df-b92dc1d3-8264-4f6c-bc01-30e2280a6fef')\"\n",
              "                title=\"Suggest charts\"\n",
              "                style=\"display:none;\">\n",
              "\n",
              "<svg xmlns=\"http://www.w3.org/2000/svg\" height=\"24px\"viewBox=\"0 0 24 24\"\n",
              "     width=\"24px\">\n",
              "    <g>\n",
              "        <path d=\"M19 3H5c-1.1 0-2 .9-2 2v14c0 1.1.9 2 2 2h14c1.1 0 2-.9 2-2V5c0-1.1-.9-2-2-2zM9 17H7v-7h2v7zm4 0h-2V7h2v10zm4 0h-2v-4h2v4z\"/>\n",
              "    </g>\n",
              "</svg>\n",
              "      </button>\n",
              "\n",
              "<style>\n",
              "  .colab-df-quickchart {\n",
              "      --bg-color: #E8F0FE;\n",
              "      --fill-color: #1967D2;\n",
              "      --hover-bg-color: #E2EBFA;\n",
              "      --hover-fill-color: #174EA6;\n",
              "      --disabled-fill-color: #AAA;\n",
              "      --disabled-bg-color: #DDD;\n",
              "  }\n",
              "\n",
              "  [theme=dark] .colab-df-quickchart {\n",
              "      --bg-color: #3B4455;\n",
              "      --fill-color: #D2E3FC;\n",
              "      --hover-bg-color: #434B5C;\n",
              "      --hover-fill-color: #FFFFFF;\n",
              "      --disabled-bg-color: #3B4455;\n",
              "      --disabled-fill-color: #666;\n",
              "  }\n",
              "\n",
              "  .colab-df-quickchart {\n",
              "    background-color: var(--bg-color);\n",
              "    border: none;\n",
              "    border-radius: 50%;\n",
              "    cursor: pointer;\n",
              "    display: none;\n",
              "    fill: var(--fill-color);\n",
              "    height: 32px;\n",
              "    padding: 0;\n",
              "    width: 32px;\n",
              "  }\n",
              "\n",
              "  .colab-df-quickchart:hover {\n",
              "    background-color: var(--hover-bg-color);\n",
              "    box-shadow: 0 1px 2px rgba(60, 64, 67, 0.3), 0 1px 3px 1px rgba(60, 64, 67, 0.15);\n",
              "    fill: var(--button-hover-fill-color);\n",
              "  }\n",
              "\n",
              "  .colab-df-quickchart-complete:disabled,\n",
              "  .colab-df-quickchart-complete:disabled:hover {\n",
              "    background-color: var(--disabled-bg-color);\n",
              "    fill: var(--disabled-fill-color);\n",
              "    box-shadow: none;\n",
              "  }\n",
              "\n",
              "  .colab-df-spinner {\n",
              "    border: 2px solid var(--fill-color);\n",
              "    border-color: transparent;\n",
              "    border-bottom-color: var(--fill-color);\n",
              "    animation:\n",
              "      spin 1s steps(1) infinite;\n",
              "  }\n",
              "\n",
              "  @keyframes spin {\n",
              "    0% {\n",
              "      border-color: transparent;\n",
              "      border-bottom-color: var(--fill-color);\n",
              "      border-left-color: var(--fill-color);\n",
              "    }\n",
              "    20% {\n",
              "      border-color: transparent;\n",
              "      border-left-color: var(--fill-color);\n",
              "      border-top-color: var(--fill-color);\n",
              "    }\n",
              "    30% {\n",
              "      border-color: transparent;\n",
              "      border-left-color: var(--fill-color);\n",
              "      border-top-color: var(--fill-color);\n",
              "      border-right-color: var(--fill-color);\n",
              "    }\n",
              "    40% {\n",
              "      border-color: transparent;\n",
              "      border-right-color: var(--fill-color);\n",
              "      border-top-color: var(--fill-color);\n",
              "    }\n",
              "    60% {\n",
              "      border-color: transparent;\n",
              "      border-right-color: var(--fill-color);\n",
              "    }\n",
              "    80% {\n",
              "      border-color: transparent;\n",
              "      border-right-color: var(--fill-color);\n",
              "      border-bottom-color: var(--fill-color);\n",
              "    }\n",
              "    90% {\n",
              "      border-color: transparent;\n",
              "      border-bottom-color: var(--fill-color);\n",
              "    }\n",
              "  }\n",
              "</style>\n",
              "\n",
              "      <script>\n",
              "        async function quickchart(key) {\n",
              "          const quickchartButtonEl =\n",
              "            document.querySelector('#' + key + ' button');\n",
              "          quickchartButtonEl.disabled = true;  // To prevent multiple clicks.\n",
              "          quickchartButtonEl.classList.add('colab-df-spinner');\n",
              "          try {\n",
              "            const charts = await google.colab.kernel.invokeFunction(\n",
              "                'suggestCharts', [key], {});\n",
              "          } catch (error) {\n",
              "            console.error('Error during call to suggestCharts:', error);\n",
              "          }\n",
              "          quickchartButtonEl.classList.remove('colab-df-spinner');\n",
              "          quickchartButtonEl.classList.add('colab-df-quickchart-complete');\n",
              "        }\n",
              "        (() => {\n",
              "          let quickchartButtonEl =\n",
              "            document.querySelector('#df-b92dc1d3-8264-4f6c-bc01-30e2280a6fef button');\n",
              "          quickchartButtonEl.style.display =\n",
              "            google.colab.kernel.accessAllowed ? 'block' : 'none';\n",
              "        })();\n",
              "      </script>\n",
              "    </div>\n",
              "\n",
              "  <div id=\"id_d40735a6-ccfe-4a75-a9f5-8f5c6e03dd44\">\n",
              "    <style>\n",
              "      .colab-df-generate {\n",
              "        background-color: #E8F0FE;\n",
              "        border: none;\n",
              "        border-radius: 50%;\n",
              "        cursor: pointer;\n",
              "        display: none;\n",
              "        fill: #1967D2;\n",
              "        height: 32px;\n",
              "        padding: 0 0 0 0;\n",
              "        width: 32px;\n",
              "      }\n",
              "\n",
              "      .colab-df-generate:hover {\n",
              "        background-color: #E2EBFA;\n",
              "        box-shadow: 0px 1px 2px rgba(60, 64, 67, 0.3), 0px 1px 3px 1px rgba(60, 64, 67, 0.15);\n",
              "        fill: #174EA6;\n",
              "      }\n",
              "\n",
              "      [theme=dark] .colab-df-generate {\n",
              "        background-color: #3B4455;\n",
              "        fill: #D2E3FC;\n",
              "      }\n",
              "\n",
              "      [theme=dark] .colab-df-generate:hover {\n",
              "        background-color: #434B5C;\n",
              "        box-shadow: 0px 1px 3px 1px rgba(0, 0, 0, 0.15);\n",
              "        filter: drop-shadow(0px 1px 2px rgba(0, 0, 0, 0.3));\n",
              "        fill: #FFFFFF;\n",
              "      }\n",
              "    </style>\n",
              "    <button class=\"colab-df-generate\" onclick=\"generateWithVariable('stock')\"\n",
              "            title=\"Generate code using this dataframe.\"\n",
              "            style=\"display:none;\">\n",
              "\n",
              "  <svg xmlns=\"http://www.w3.org/2000/svg\" height=\"24px\"viewBox=\"0 0 24 24\"\n",
              "       width=\"24px\">\n",
              "    <path d=\"M7,19H8.4L18.45,9,17,7.55,7,17.6ZM5,21V16.75L18.45,3.32a2,2,0,0,1,2.83,0l1.4,1.43a1.91,1.91,0,0,1,.58,1.4,1.91,1.91,0,0,1-.58,1.4L9.25,21ZM18.45,9,17,7.55Zm-12,3A5.31,5.31,0,0,0,4.9,8.1,5.31,5.31,0,0,0,1,6.5,5.31,5.31,0,0,0,4.9,4.9,5.31,5.31,0,0,0,6.5,1,5.31,5.31,0,0,0,8.1,4.9,5.31,5.31,0,0,0,12,6.5,5.46,5.46,0,0,0,6.5,12Z\"/>\n",
              "  </svg>\n",
              "    </button>\n",
              "    <script>\n",
              "      (() => {\n",
              "      const buttonEl =\n",
              "        document.querySelector('#id_d40735a6-ccfe-4a75-a9f5-8f5c6e03dd44 button.colab-df-generate');\n",
              "      buttonEl.style.display =\n",
              "        google.colab.kernel.accessAllowed ? 'block' : 'none';\n",
              "\n",
              "      buttonEl.onclick = () => {\n",
              "        google.colab.notebook.generateWithVariable('stock');\n",
              "      }\n",
              "      })();\n",
              "    </script>\n",
              "  </div>\n",
              "\n",
              "    </div>\n",
              "  </div>\n"
            ],
            "application/vnd.google.colaboratory.intrinsic+json": {
              "type": "dataframe",
              "variable_name": "stock",
              "summary": "{\n  \"name\": \"stock\",\n  \"rows\": 247,\n  \"fields\": [\n    {\n      \"column\": [\n        \"Date\",\n        \"\"\n      ],\n      \"properties\": {\n        \"dtype\": \"date\",\n        \"min\": \"2024-05-27 00:00:00\",\n        \"max\": \"2025-05-23 00:00:00\",\n        \"num_unique_values\": 247,\n        \"samples\": [\n          \"2024-07-12 00:00:00\",\n          \"2024-06-04 00:00:00\",\n          \"2025-02-12 00:00:00\"\n        ],\n        \"semantic_type\": \"\",\n        \"description\": \"\"\n      }\n    },\n    {\n      \"column\": [\n        \"INDUSINDBK.NS\",\n        \"Open\"\n      ],\n      \"properties\": {\n        \"dtype\": \"number\",\n        \"std\": 272.2483466394036,\n        \"min\": 630.0,\n        \"max\": 1519.13487880895,\n        \"num_unique_values\": 231,\n        \"samples\": [\n          835.0,\n          1450.0,\n          1452.4255672094614\n        ],\n        \"semantic_type\": \"\",\n        \"description\": \"\"\n      }\n    },\n    {\n      \"column\": [\n        \"INDUSINDBK.NS\",\n        \"High\"\n      ],\n      \"properties\": {\n        \"dtype\": \"number\",\n        \"std\": 270.3776010013563,\n        \"min\": 662.5,\n        \"max\": 1532.981219607231,\n        \"num_unique_values\": 242,\n        \"samples\": [\n          1469.0,\n          1505.189677583863,\n          986.0\n        ],\n        \"semantic_type\": \"\",\n        \"description\": \"\"\n      }\n    },\n    {\n      \"column\": [\n        \"INDUSINDBK.NS\",\n        \"Low\"\n      ],\n      \"properties\": {\n        \"dtype\": \"number\",\n        \"std\": 271.44413567446725,\n        \"min\": 606.0,\n        \"max\": 1496.6347294004145,\n        \"num_unique_values\": 242,\n        \"samples\": [\n          1452.949951171875,\n          1348.5783727188311,\n          970.1500244140625\n        ],\n        \"semantic_type\": \"\",\n        \"description\": \"\"\n      }\n    },\n    {\n      \"column\": [\n        \"INDUSINDBK.NS\",\n        \"Close\"\n      ],\n      \"properties\": {\n        \"dtype\": \"number\",\n        \"std\": 270.7211031198429,\n        \"min\": 637.0499877929688,\n        \"max\": 1512.904052734375,\n        \"num_unique_values\": 239,\n        \"samples\": [\n          1456.9000244140625,\n          1376.221435546875,\n          1360.9000244140625\n        ],\n        \"semantic_type\": \"\",\n        \"description\": \"\"\n      }\n    },\n    {\n      \"column\": [\n        \"INDUSINDBK.NS\",\n        \"Volume\"\n      ],\n      \"properties\": {\n        \"dtype\": \"number\",\n        \"std\": 11325527,\n        \"min\": 0,\n        \"max\": 108682122,\n        \"num_unique_values\": 247,\n        \"samples\": [\n          3340305,\n          7911282,\n          4798340\n        ],\n        \"semantic_type\": \"\",\n        \"description\": \"\"\n      }\n    }\n  ]\n}"
            }
          },
          "metadata": {},
          "execution_count": 4
        }
      ]
    },
    {
      "cell_type": "code",
      "source": [
        "len(stock)"
      ],
      "metadata": {
        "colab": {
          "base_uri": "https://localhost:8080/"
        },
        "id": "GFYvuofnMFI5",
        "outputId": "e8250571-8266-4de1-d2d0-f4347155be0f"
      },
      "execution_count": 5,
      "outputs": [
        {
          "output_type": "execute_result",
          "data": {
            "text/plain": [
              "247"
            ]
          },
          "metadata": {},
          "execution_count": 5
        }
      ]
    },
    {
      "cell_type": "markdown",
      "source": [
        "# Clean and inspect the data"
      ],
      "metadata": {
        "id": "xkdU4aCZMdVi"
      }
    },
    {
      "cell_type": "code",
      "source": [
        "cols=['Open','High','Low','Close','Volume']"
      ],
      "metadata": {
        "id": "YSBfAoKSenNh"
      },
      "execution_count": 6,
      "outputs": []
    },
    {
      "cell_type": "code",
      "source": [
        "for col in cols:\n",
        "  c=0\n",
        "  x=stock['INDUSINDBK.NS'][col]\n",
        "  rows=x.notnull()\n",
        "  for row in rows:\n",
        "    if row:\n",
        "      c=c+1\n",
        "  print(f\"No. of rows for {col}\",c)"
      ],
      "metadata": {
        "colab": {
          "base_uri": "https://localhost:8080/"
        },
        "id": "slKTkKO9ez1e",
        "outputId": "9c7830c4-1e33-4807-d905-78185040f3e6"
      },
      "execution_count": 7,
      "outputs": [
        {
          "output_type": "stream",
          "name": "stdout",
          "text": [
            "No. of rows for Open 247\n",
            "No. of rows for High 247\n",
            "No. of rows for Low 247\n",
            "No. of rows for Close 247\n",
            "No. of rows for Volume 247\n"
          ]
        }
      ]
    },
    {
      "cell_type": "code",
      "source": [
        "print(type(stock.index))"
      ],
      "metadata": {
        "id": "PhMd8bnYh2OJ",
        "colab": {
          "base_uri": "https://localhost:8080/"
        },
        "outputId": "09f89080-b527-4550-ef27-4e466685560e"
      },
      "execution_count": 8,
      "outputs": [
        {
          "output_type": "stream",
          "name": "stdout",
          "text": [
            "<class 'pandas.core.indexes.datetimes.DatetimeIndex'>\n"
          ]
        }
      ]
    },
    {
      "cell_type": "markdown",
      "source": [
        "Data is already cleaned, i.e it has no missing values, and also ensuring datetime indexing"
      ],
      "metadata": {
        "id": "iODMr9SsmPmC"
      }
    },
    {
      "cell_type": "markdown",
      "source": [
        "# 2. Visual Insight"
      ],
      "metadata": {
        "id": "E06MuaHejEUt"
      }
    },
    {
      "cell_type": "markdown",
      "source": [
        "# Interactive candlestick chart"
      ],
      "metadata": {
        "id": "B3lBa1l7oquC"
      }
    },
    {
      "cell_type": "code",
      "source": [
        "import plotly.graph_objects as pg\n",
        "\n",
        "chart=pg.Figure(\n",
        "    data=[\n",
        "        pg.Candlestick(\n",
        "            x=stock.index,\n",
        "            low=stock['INDUSINDBK.NS']['Low'],\n",
        "            high=stock['INDUSINDBK.NS']['High'],\n",
        "            close=stock['INDUSINDBK.NS']['Close'],\n",
        "            open=stock['INDUSINDBK.NS']['Open'],\n",
        "            increasing_line_color='green',\n",
        "            decreasing_line_color='black'\n",
        "        )\n",
        "    ]\n",
        ")\n"
      ],
      "metadata": {
        "id": "XnF2qTD3RHPR"
      },
      "execution_count": 9,
      "outputs": []
    },
    {
      "cell_type": "markdown",
      "source": [
        "Reference:https://www.youtube.com/watch?v=4fhBXFSS1lc"
      ],
      "metadata": {
        "id": "_NK6JppimfLw"
      }
    },
    {
      "cell_type": "code",
      "source": [
        "chart.update_layout(\n",
        "    title='Indusind Bank Ltd',\n",
        "    xaxis_title='Date',\n",
        "    yaxis_title='Indusind Bank INR(Indian Rupees)'\n",
        ")"
      ],
      "metadata": {
        "colab": {
          "base_uri": "https://localhost:8080/",
          "height": 542
        },
        "id": "Dpu1ti7mlzZG",
        "outputId": "0d5c4ff6-9569-4ae3-9ab4-80ef2f4689c8"
      },
      "execution_count": 10,
      "outputs": [
        {
          "output_type": "display_data",
          "data": {
            "text/html": [
              "<html>\n",
              "<head><meta charset=\"utf-8\" /></head>\n",
              "<body>\n",
              "    <div>            <script src=\"https://cdnjs.cloudflare.com/ajax/libs/mathjax/2.7.5/MathJax.js?config=TeX-AMS-MML_SVG\"></script><script type=\"text/javascript\">if (window.MathJax && window.MathJax.Hub && window.MathJax.Hub.Config) {window.MathJax.Hub.Config({SVG: {font: \"STIX-Web\"}});}</script>                <script type=\"text/javascript\">window.PlotlyConfig = {MathJaxConfig: 'local'};</script>\n",
              "        <script charset=\"utf-8\" src=\"https://cdn.plot.ly/plotly-2.35.2.min.js\"></script>                <div id=\"5286e255-1115-4bb7-ae6e-779c63953910\" class=\"plotly-graph-div\" style=\"height:525px; width:100%;\"></div>            <script type=\"text/javascript\">                                    window.PLOTLYENV=window.PLOTLYENV || {};                                    if (document.getElementById(\"5286e255-1115-4bb7-ae6e-779c63953910\")) {                    Plotly.newPlot(                        \"5286e255-1115-4bb7-ae6e-779c63953910\",                        [{\"close\":[1449.0133056640625,1443.326416015625,1444.2166748046875,1430.914306640625,1445.799072265625,1512.904052734375,1376.221435546875,1484.4697265625,1464.837646484375,1475.7169189453125,1469.5355224609375,1464.788330078125,1467.953125,1490.7005615234375,1485.8543701171875,1491.343505859375,1511.4205322265625,1511.0743408203125,1510.382080078125,1474.03564453125,1479.1290283203125,1481.4532470703125,1486.25,1464.5,1456.9000244140625,1429.449951171875,1455.5,1442.8499755859375,1434.25,1438.050048828125,1434.25,1425.949951171875,1429.75,1434.550048828125,1444.050048828125,1445.9000244140625,1456.9000244140625,1432.449951171875,1423.4000244140625,1413.199951171875,1396.6500244140625,1379.0999755859375,1403.9000244140625,1411.5,1429.699951171875,1427.800048828125,1419.8499755859375,1404.300048828125,1389.449951171875,1381.0,1345.1500244140625,1347.300048828125,1349.800048828125,1350.8499755859375,1350.5999755859375,1338.0999755859375,1364.1500244140625,1347.5999755859375,1381.300048828125,1384.0,1381.9000244140625,1388.550048828125,1384.5,1383.199951171875,1415.75,1417.449951171875,1425.25,1449.050048828125,1436.699951171875,1434.4000244140625,1422.9000244140625,1409.3499755859375,1428.0999755859375,1435.550048828125,1421.199951171875,1443.3499755859375,1464.050048828125,1470.199951171875,1466.3499755859375,1480.25,1484.75,1480.199951171875,1465.0999755859375,1448.300048828125,1439.5,1452.699951171875,1462.699951171875,1447.5999755859375,1409.699951171875,1387.75,1382.8499755859375,1350.8499755859375,1359.550048828125,1341.550048828125,1356.4000244140625,1347.5999755859375,1370.449951171875,1360.9000244140625,1346.300048828125,1347.3499755859375,1347.25,1308.25,1274.3499755859375,1274.300048828125,1280.050048828125,1041.5999755859375,1054.800048828125,1038.1500244140625,1056.4000244140625,1055.5999755859375,1062.5,1063.800048828125,1090.0999755859375,1077.6500244140625,1056.800048828125,1053.800048828125,1060.800048828125,1059.550048828125,1036.699951171875,1017.1500244140625,1004.5999755859375,1000.2000122070312,981.4500122070312,998.2000122070312,1003.5,1009.5999755859375,1001.9500122070312,993.5999755859375,995.8499755859375,990.9500122070312,998.3499755859375,998.8499755859375,998.2000122070312,990.3499755859375,982.5999755859375,984.2999877929688,984.8499755859375,997.9500122070312,986.6500244140625,999.3499755859375,975.6500244140625,965.2000122070312,964.4000244140625,929.4500122070312,945.7000122070312,935.2999877929688,931.9500122070312,953.4000244140625,963.5,960.1500244140625,969.4000244140625,991.3499755859375,997.9000244140625,970.0499877929688,983.5999755859375,981.0499877929688,980.9000244140625,937.5999755859375,941.7000122070312,962.0999755859375,962.4500122070312,975.3499755859375,970.9500122070312,970.7000122070312,960.4500122070312,970.9500122070312,970.9500122070312,950.7999877929688,926.4500122070312,934.1500244140625,948.2999877929688,957.0499877929688,991.2000122070312,1009.4000244140625,1012.7000122070312,1047.1500244140625,1061.199951171875,1065.550048828125,1079.0999755859375,1068.0,1054.1500244140625,1039.6500244140625,1047.25,1024.4000244140625,1048.25,1024.0999755859375,1035.800048828125,1047.6500244140625,1043.75,1029.1500244140625,1034.25,1046.699951171875,990.0999755859375,984.0,987.5999755859375,971.8499755859375,971.7000122070312,936.75,900.5,655.9500122070312,684.7000122070312,672.3499755859375,677.4000244140625,677.4000244140625,692.7000122070312,684.0999755859375,686.9000244140625,669.4500122070312,637.0499877929688,655.2999877929688,673.5499877929688,649.8499755859375,682.7000122070312,702.4500122070312,709.4000244140625,682.0,675.9000244140625,679.6500244140625,678.5499877929688,689.5,735.9000244140625,788.25,794.7000122070312,828.2000122070312,787.5,794.2000122070312,819.75,822.3499755859375,830.5499877929688,836.9500122070312,838.4000244140625,856.4500122070312,846.75,831.7999877929688,833.7999877929688,826.7999877929688,818.2000122070312,788.5,770.0999755859375,781.3499755859375,780.5,780.2000122070312,784.0499877929688,782.25,769.9500122070312,785.0,793.4000244140625],\"decreasing\":{\"line\":{\"color\":\"black\"}},\"high\":[1459.3980165800447,1462.5629288285413,1455.4915286666767,1461.4749306696906,1453.7607327107955,1518.0470298761302,1505.189677583863,1499.1567721831673,1493.2225958024542,1481.9477940863665,1489.2665463104556,1474.6290322022305,1475.8652860240863,1493.420366827262,1499.255641188343,1499.8985542886965,1532.981219607231,1523.832724300058,1520.9151683603757,1492.3325171675403,1485.6565366995974,1504.2995874677088,1488.4257959934782,1491.0,1469.0,1460.449951171875,1458.0,1457.8499755859375,1449.699951171875,1441.699951171875,1449.5999755859375,1433.5,1435.8499755859375,1450.949951171875,1449.0,1450.0,1460.8499755859375,1452.0,1429.949951171875,1427.0,1412.5,1396.550048828125,1409.0,1444.949951171875,1432.699951171875,1435.0,1440.0,1413.949951171875,1396.199951171875,1407.300048828125,1399.5,1355.800048828125,1367.0,1357.5999755859375,1371.6500244140625,1356.949951171875,1367.9000244140625,1375.800048828125,1391.6500244140625,1387.3499755859375,1395.949951171875,1390.300048828125,1395.550048828125,1387.1500244140625,1421.949951171875,1423.050048828125,1430.0,1451.25,1451.9000244140625,1439.25,1444.0,1438.199951171875,1431.0,1438.5,1438.949951171875,1446.5,1470.949951171875,1473.949951171875,1483.5,1488.75,1498.0,1491.949951171875,1490.8499755859375,1474.0999755859375,1456.0,1457.300048828125,1481.0,1474.800048828125,1450.300048828125,1412.699951171875,1410.949951171875,1394.050048828125,1371.0,1371.5,1362.0,1371.300048828125,1371.5,1374.449951171875,1358.3499755859375,1354.25,1354.949951171875,1353.949951171875,1312.199951171875,1284.9000244140625,1285.949951171875,1166.75,1084.6500244140625,1058.800048828125,1069.4000244140625,1066.9000244140625,1069.9000244140625,1070.5,1092.4000244140625,1098.5999755859375,1086.0,1061.449951171875,1067.5,1065.449951171875,1067.800048828125,1045.0,1017.9500122070312,1032.0,1003.0,1002.4500122070312,1022.0499877929688,1017.7000122070312,1012.0,1013.4000244140625,999.5,993.1500244140625,1011.5,1005.9500122070312,1006.0,1003.0499877929688,994.0,988.4000244140625,999.9000244140625,1005.5,997.6500244140625,1007.9500122070312,1002.0,979.2999877929688,966.8499755859375,966.8499755859375,948.7999877929688,946.0,945.0,971.0999755859375,973.5,961.4500122070312,979.2999877929688,998.0,1025.4000244140625,1004.9500122070312,994.5499877929688,986.0,985.3499755859375,975.0,973.5,979.2999877929688,983.0,990.6500244140625,975.5999755859375,980.4500122070312,978.5,977.5499877929688,988.5499877929688,973.0,947.0,948.9500122070312,953.0,967.4000244140625,999.2999877929688,1023.0,1023.9500122070312,1053.9000244140625,1078.699951171875,1076.75,1086.550048828125,1082.0,1074.9000244140625,1063.949951171875,1056.949951171875,1058.0999755859375,1050.949951171875,1051.5,1042.050048828125,1049.9000244140625,1055.800048828125,1038.75,1041.699951171875,1063.300048828125,1040.6500244140625,986.2999877929688,1003.5999755859375,995.25,984.0999755859375,976.5999755859375,913.3499755859375,810.4500122070312,697.6500244140625,706.9000244140625,709.9000244140625,677.4000244140625,700.7999877929688,701.0,693.8499755859375,693.75,672.8499755859375,662.5,676.75,673.9500122070312,689.7999877929688,708.4000244140625,714.7000122070312,704.9000244140625,678.6500244140625,695.9000244140625,683.2999877929688,694.0,741.0,794.4000244140625,801.0,841.9000244140625,808.0,805.0,837.5,829.0,841.7999877929688,852.0,843.0999755859375,863.5,862.0,851.25,842.0,844.25,826.4500122070312,838.0,804.0,786.4000244140625,782.6500244140625,785.5,791.9500122070312,799.7000122070312,786.7000122070312,796.7000122070312,799.2000122070312],\"increasing\":{\"line\":{\"color\":\"green\"}},\"low\":[1423.496659851358,1433.1889602910514,1423.4472516436545,1423.3482788477047,1430.6671365118818,1479.9697546656214,1348.5783727188311,1357.2817610710774,1454.7496897527883,1447.3814679381335,1463.8486567658877,1459.0024656615424,1456.8266485598788,1464.9365393533933,1479.5246171308486,1482.6400802617998,1496.6347294004145,1496.3874164309511,1494.6566362357503,1461.9695263547248,1465.925513673816,1465.2827924161159,1468.6948926967227,1460.5,1452.949951171875,1420.6500244140625,1421.9000244140625,1436.199951171875,1426.0,1422.800048828125,1426.0,1415.050048828125,1415.699951171875,1427.3499755859375,1433.0,1435.75,1438.0,1429.0,1409.5999755859375,1395.6500244140625,1386.4000244140625,1374.0,1359.050048828125,1406.449951171875,1407.199951171875,1414.050048828125,1416.800048828125,1392.699951171875,1369.0,1376.25,1329.199951171875,1334.0,1338.050048828125,1336.6500244140625,1343.5,1335.949951171875,1338.550048828125,1345.550048828125,1357.199951171875,1366.4000244140625,1379.5999755859375,1373.800048828125,1379.800048828125,1377.550048828125,1382.550048828125,1405.25,1415.550048828125,1425.25,1433.9000244140625,1417.0,1418.9000244140625,1401.5,1400.0999755859375,1420.5999755859375,1417.800048828125,1420.1500244140625,1442.3499755859375,1461.0999755859375,1462.25,1461.1500244140625,1474.9000244140625,1473.199951171875,1453.050048828125,1446.0,1432.25,1437.300048828125,1454.0,1437.0,1404.6500244140625,1382.050048828125,1380.8499755859375,1338.199951171875,1343.550048828125,1335.550048828125,1344.300048828125,1339.0,1348.300048828125,1349.449951171875,1341.0999755859375,1337.0,1331.0,1299.5999755859375,1271.25,1266.5,1258.1500244140625,1025.5,1031.0,1018.0999755859375,1030.25,1044.0,1058.550048828125,1054.0999755859375,1062.0,1068.25,1051.0,1048.050048828125,1040.0,1051.550048828125,1032.199951171875,1015.0,1000.0499877929688,998.0999755859375,966.4000244140625,981.4000244140625,997.0499877929688,998.0999755859375,994.5,991.3499755859375,987.2999877929688,979.0,991.4000244140625,990.5,990.5499877929688,986.2999877929688,977.7999877929688,979.0999755859375,981.25,986.0,965.5499877929688,985.5499877929688,972.0,960.5,948.0,926.4500122070312,930.0499877929688,929.7999877929688,928.25,933.0499877929688,948.8499755859375,949.0499877929688,953.5,968.7999877929688,990.6500244140625,963.2000122070312,970.1500244140625,967.0999755859375,970.4000244140625,933.0499877929688,934.5,945.0999755859375,954.6500244140625,967.0,959.0,948.0999755859375,958.0,949.1500244140625,962.5,948.25,923.7000122070312,925.7000122070312,931.9500122070312,946.0999755859375,953.0999755859375,972.4000244140625,990.0999755859375,1014.7000122070312,1052.4000244140625,1058.050048828125,1061.5,1062.699951171875,1047.6500244140625,1020.25,1025.4000244140625,1018.2000122070312,1013.0999755859375,1021.3499755859375,1015.9000244140625,1025.5999755859375,1038.949951171875,1021.0999755859375,1026.3499755859375,1040.699951171875,970.0999755859375,947.0,966.9500122070312,970.6500244140625,962.2000122070312,932.2999877929688,881.0999755859375,649.0,606.0,667.6500244140625,675.0,677.4000244140625,682.5499877929688,681.0,672.2999877929688,665.1500244140625,633.5999755859375,637.4000244140625,640.5,643.5,646.8499755859375,675.0,693.5,675.6500244140625,637.0,673.0,670.25,675.5,693.0499877929688,733.0,777.2999877929688,798.3499755859375,775.4000244140625,782.0,793.2999877929688,807.3499755859375,821.0499877929688,828.5499877929688,810.0499877929688,833.0999755859375,840.5499877929688,821.9000244140625,816.0999755859375,816.0,805.5,786.0,769.0499877929688,764.5499877929688,757.8499755859375,750.0,770.2999877929688,780.0499877929688,761.0,725.7999877929688,777.2999877929688],\"open\":[1431.9527091592345,1456.6288084044006,1437.0462787133786,1441.9912832957566,1440.0133285736056,1498.316005738141,1493.3708152394477,1385.1227020778344,1483.5301505270138,1452.4255672094614,1482.0466511360462,1468.694911348298,1474.6290108640728,1479.574085280519,1493.914908333307,1497.3765046183767,1499.5522905263774,1519.13487880895,1506.2776224893614,1490.6017319181617,1478.3377639646458,1481.552124935324,1477.5960738645817,1491.0,1468.949951171875,1457.4000244140625,1438.9000244140625,1455.449951171875,1437.0,1428.0,1441.0,1433.5,1427.949951171875,1432.0,1438.5,1445.050048828125,1440.699951171875,1451.550048828125,1428.0,1422.5,1409.800048828125,1389.0,1365.0,1415.0,1411.5,1435.0,1432.0,1413.949951171875,1388.0,1395.0,1391.0,1347.949951171875,1367.0,1349.800048828125,1355.0,1356.949951171875,1347.0999755859375,1370.050048828125,1363.9000244140625,1380.0,1384.050048828125,1382.0,1395.300048828125,1385.9000244140625,1389.050048828125,1414.199951171875,1422.1500244140625,1425.25,1450.0,1417.0,1443.0,1426.449951171875,1409.3499755859375,1428.9000244140625,1435.4000244140625,1425.1500244140625,1450.0,1469.949951171875,1478.0,1470.0,1494.949951171875,1488.0,1490.199951171875,1470.0999755859375,1450.0,1445.0,1457.0,1467.0,1450.0,1404.0,1384.050048828125,1388.0,1357.8499755859375,1369.0,1350.0,1360.0999755859375,1354.5999755859375,1371.0,1355.0,1348.0,1345.0,1352.050048828125,1309.0999755859375,1274.3499755859375,1276.0,1163.0,1051.4000244140625,1058.800048828125,1037.6500244140625,1054.0,1061.449951171875,1067.0,1063.699951171875,1092.300048828125,1086.0,1061.449951171875,1053.0,1061.300048828125,1053.800048828125,1043.0,1015.5,1010.5,1000.4000244140625,986.0,1020.0,1011.7000122070312,1012.0,1005.9500122070312,998.0999755859375,990.0499877929688,993.0,1005.0,1006.0,1000.0,992.7999877929688,983.0,985.5,986.0,991.0,987.9000244140625,1002.0,976.7999877929688,959.0,960.0,938.9500122070312,941.0,940.0,933.0499877929688,953.2999877929688,958.0,958.5999755859375,975.5,993.0,1004.9500122070312,970.1500244140625,985.9000244140625,981.0499877929688,971.75,936.9000244140625,945.0999755859375,971.25,967.0,972.8499755859375,966.2000122070312,971.5499877929688,964.4500122070312,965.9500122070312,970.8499755859375,947.0,937.3499755859375,935.7000122070312,948.2999877929688,957.5499877929688,977.0,994.0,1022.4500122070312,1052.4000244140625,1062.0999755859375,1061.5,1076.0,1063.5,1060.449951171875,1039.5,1049.5999755859375,1024.4000244140625,1045.0,1024.0999755859375,1029.949951171875,1041.550048828125,1030.0999755859375,1028.199951171875,1046.9000244140625,1040.0,978.9500122070312,978.0,984.25,976.0,971.0,895.0,810.4500122070312,630.0,690.0,705.0,677.4000244140625,685.0,697.5,685.0,692.0,670.2000122070312,637.4000244140625,655.2999877929688,672.0,649.0,682.7000122070312,694.9500122070312,701.0,637.0,684.9000244140625,679.6500244140625,684.9500122070312,705.0,747.0,788.25,802.0,790.0,797.4500122070312,795.0,822.0,828.0,841.9500122070312,820.0,835.0,855.0,846.75,827.0,835.0,805.5,835.0,794.0,775.0,778.0,750.0,779.9000244140625,785.0,783.0,750.0,781.0999755859375],\"x\":[\"2024-05-27T00:00:00\",\"2024-05-28T00:00:00\",\"2024-05-29T00:00:00\",\"2024-05-30T00:00:00\",\"2024-05-31T00:00:00\",\"2024-06-03T00:00:00\",\"2024-06-04T00:00:00\",\"2024-06-05T00:00:00\",\"2024-06-06T00:00:00\",\"2024-06-07T00:00:00\",\"2024-06-10T00:00:00\",\"2024-06-11T00:00:00\",\"2024-06-12T00:00:00\",\"2024-06-13T00:00:00\",\"2024-06-14T00:00:00\",\"2024-06-18T00:00:00\",\"2024-06-19T00:00:00\",\"2024-06-20T00:00:00\",\"2024-06-21T00:00:00\",\"2024-06-24T00:00:00\",\"2024-06-25T00:00:00\",\"2024-06-26T00:00:00\",\"2024-06-27T00:00:00\",\"2024-06-28T00:00:00\",\"2024-07-01T00:00:00\",\"2024-07-02T00:00:00\",\"2024-07-03T00:00:00\",\"2024-07-04T00:00:00\",\"2024-07-05T00:00:00\",\"2024-07-08T00:00:00\",\"2024-07-09T00:00:00\",\"2024-07-10T00:00:00\",\"2024-07-11T00:00:00\",\"2024-07-12T00:00:00\",\"2024-07-15T00:00:00\",\"2024-07-16T00:00:00\",\"2024-07-18T00:00:00\",\"2024-07-19T00:00:00\",\"2024-07-22T00:00:00\",\"2024-07-23T00:00:00\",\"2024-07-24T00:00:00\",\"2024-07-25T00:00:00\",\"2024-07-26T00:00:00\",\"2024-07-29T00:00:00\",\"2024-07-30T00:00:00\",\"2024-07-31T00:00:00\",\"2024-08-01T00:00:00\",\"2024-08-02T00:00:00\",\"2024-08-05T00:00:00\",\"2024-08-06T00:00:00\",\"2024-08-07T00:00:00\",\"2024-08-08T00:00:00\",\"2024-08-09T00:00:00\",\"2024-08-12T00:00:00\",\"2024-08-13T00:00:00\",\"2024-08-14T00:00:00\",\"2024-08-16T00:00:00\",\"2024-08-19T00:00:00\",\"2024-08-20T00:00:00\",\"2024-08-21T00:00:00\",\"2024-08-22T00:00:00\",\"2024-08-23T00:00:00\",\"2024-08-26T00:00:00\",\"2024-08-27T00:00:00\",\"2024-08-28T00:00:00\",\"2024-08-29T00:00:00\",\"2024-08-30T00:00:00\",\"2024-09-02T00:00:00\",\"2024-09-03T00:00:00\",\"2024-09-04T00:00:00\",\"2024-09-05T00:00:00\",\"2024-09-06T00:00:00\",\"2024-09-09T00:00:00\",\"2024-09-10T00:00:00\",\"2024-09-11T00:00:00\",\"2024-09-12T00:00:00\",\"2024-09-13T00:00:00\",\"2024-09-16T00:00:00\",\"2024-09-17T00:00:00\",\"2024-09-18T00:00:00\",\"2024-09-19T00:00:00\",\"2024-09-20T00:00:00\",\"2024-09-23T00:00:00\",\"2024-09-24T00:00:00\",\"2024-09-25T00:00:00\",\"2024-09-26T00:00:00\",\"2024-09-27T00:00:00\",\"2024-09-30T00:00:00\",\"2024-10-01T00:00:00\",\"2024-10-03T00:00:00\",\"2024-10-04T00:00:00\",\"2024-10-07T00:00:00\",\"2024-10-08T00:00:00\",\"2024-10-09T00:00:00\",\"2024-10-10T00:00:00\",\"2024-10-11T00:00:00\",\"2024-10-14T00:00:00\",\"2024-10-15T00:00:00\",\"2024-10-16T00:00:00\",\"2024-10-17T00:00:00\",\"2024-10-18T00:00:00\",\"2024-10-21T00:00:00\",\"2024-10-22T00:00:00\",\"2024-10-23T00:00:00\",\"2024-10-24T00:00:00\",\"2024-10-25T00:00:00\",\"2024-10-28T00:00:00\",\"2024-10-29T00:00:00\",\"2024-10-30T00:00:00\",\"2024-10-31T00:00:00\",\"2024-11-01T00:00:00\",\"2024-11-04T00:00:00\",\"2024-11-05T00:00:00\",\"2024-11-06T00:00:00\",\"2024-11-07T00:00:00\",\"2024-11-08T00:00:00\",\"2024-11-11T00:00:00\",\"2024-11-12T00:00:00\",\"2024-11-13T00:00:00\",\"2024-11-14T00:00:00\",\"2024-11-18T00:00:00\",\"2024-11-19T00:00:00\",\"2024-11-21T00:00:00\",\"2024-11-22T00:00:00\",\"2024-11-25T00:00:00\",\"2024-11-26T00:00:00\",\"2024-11-27T00:00:00\",\"2024-11-28T00:00:00\",\"2024-11-29T00:00:00\",\"2024-12-02T00:00:00\",\"2024-12-03T00:00:00\",\"2024-12-04T00:00:00\",\"2024-12-05T00:00:00\",\"2024-12-06T00:00:00\",\"2024-12-09T00:00:00\",\"2024-12-10T00:00:00\",\"2024-12-11T00:00:00\",\"2024-12-12T00:00:00\",\"2024-12-13T00:00:00\",\"2024-12-16T00:00:00\",\"2024-12-17T00:00:00\",\"2024-12-18T00:00:00\",\"2024-12-19T00:00:00\",\"2024-12-20T00:00:00\",\"2024-12-23T00:00:00\",\"2024-12-24T00:00:00\",\"2024-12-26T00:00:00\",\"2024-12-27T00:00:00\",\"2024-12-30T00:00:00\",\"2024-12-31T00:00:00\",\"2025-01-01T00:00:00\",\"2025-01-02T00:00:00\",\"2025-01-03T00:00:00\",\"2025-01-06T00:00:00\",\"2025-01-07T00:00:00\",\"2025-01-08T00:00:00\",\"2025-01-09T00:00:00\",\"2025-01-10T00:00:00\",\"2025-01-13T00:00:00\",\"2025-01-14T00:00:00\",\"2025-01-15T00:00:00\",\"2025-01-16T00:00:00\",\"2025-01-17T00:00:00\",\"2025-01-20T00:00:00\",\"2025-01-21T00:00:00\",\"2025-01-22T00:00:00\",\"2025-01-23T00:00:00\",\"2025-01-24T00:00:00\",\"2025-01-27T00:00:00\",\"2025-01-28T00:00:00\",\"2025-01-29T00:00:00\",\"2025-01-30T00:00:00\",\"2025-01-31T00:00:00\",\"2025-02-01T00:00:00\",\"2025-02-03T00:00:00\",\"2025-02-04T00:00:00\",\"2025-02-05T00:00:00\",\"2025-02-06T00:00:00\",\"2025-02-07T00:00:00\",\"2025-02-10T00:00:00\",\"2025-02-11T00:00:00\",\"2025-02-12T00:00:00\",\"2025-02-13T00:00:00\",\"2025-02-14T00:00:00\",\"2025-02-17T00:00:00\",\"2025-02-18T00:00:00\",\"2025-02-19T00:00:00\",\"2025-02-20T00:00:00\",\"2025-02-21T00:00:00\",\"2025-02-24T00:00:00\",\"2025-02-25T00:00:00\",\"2025-02-27T00:00:00\",\"2025-02-28T00:00:00\",\"2025-03-03T00:00:00\",\"2025-03-04T00:00:00\",\"2025-03-05T00:00:00\",\"2025-03-06T00:00:00\",\"2025-03-07T00:00:00\",\"2025-03-10T00:00:00\",\"2025-03-11T00:00:00\",\"2025-03-12T00:00:00\",\"2025-03-13T00:00:00\",\"2025-03-17T00:00:00\",\"2025-03-18T00:00:00\",\"2025-03-19T00:00:00\",\"2025-03-20T00:00:00\",\"2025-03-21T00:00:00\",\"2025-03-24T00:00:00\",\"2025-03-25T00:00:00\",\"2025-03-26T00:00:00\",\"2025-03-27T00:00:00\",\"2025-03-28T00:00:00\",\"2025-04-01T00:00:00\",\"2025-04-02T00:00:00\",\"2025-04-03T00:00:00\",\"2025-04-04T00:00:00\",\"2025-04-07T00:00:00\",\"2025-04-08T00:00:00\",\"2025-04-09T00:00:00\",\"2025-04-11T00:00:00\",\"2025-04-15T00:00:00\",\"2025-04-16T00:00:00\",\"2025-04-17T00:00:00\",\"2025-04-21T00:00:00\",\"2025-04-22T00:00:00\",\"2025-04-23T00:00:00\",\"2025-04-24T00:00:00\",\"2025-04-25T00:00:00\",\"2025-04-28T00:00:00\",\"2025-04-29T00:00:00\",\"2025-04-30T00:00:00\",\"2025-05-02T00:00:00\",\"2025-05-05T00:00:00\",\"2025-05-06T00:00:00\",\"2025-05-07T00:00:00\",\"2025-05-08T00:00:00\",\"2025-05-09T00:00:00\",\"2025-05-12T00:00:00\",\"2025-05-13T00:00:00\",\"2025-05-14T00:00:00\",\"2025-05-15T00:00:00\",\"2025-05-16T00:00:00\",\"2025-05-19T00:00:00\",\"2025-05-20T00:00:00\",\"2025-05-21T00:00:00\",\"2025-05-22T00:00:00\",\"2025-05-23T00:00:00\"],\"type\":\"candlestick\"}],                        {\"template\":{\"data\":{\"histogram2dcontour\":[{\"type\":\"histogram2dcontour\",\"colorbar\":{\"outlinewidth\":0,\"ticks\":\"\"},\"colorscale\":[[0.0,\"#0d0887\"],[0.1111111111111111,\"#46039f\"],[0.2222222222222222,\"#7201a8\"],[0.3333333333333333,\"#9c179e\"],[0.4444444444444444,\"#bd3786\"],[0.5555555555555556,\"#d8576b\"],[0.6666666666666666,\"#ed7953\"],[0.7777777777777778,\"#fb9f3a\"],[0.8888888888888888,\"#fdca26\"],[1.0,\"#f0f921\"]]}],\"choropleth\":[{\"type\":\"choropleth\",\"colorbar\":{\"outlinewidth\":0,\"ticks\":\"\"}}],\"histogram2d\":[{\"type\":\"histogram2d\",\"colorbar\":{\"outlinewidth\":0,\"ticks\":\"\"},\"colorscale\":[[0.0,\"#0d0887\"],[0.1111111111111111,\"#46039f\"],[0.2222222222222222,\"#7201a8\"],[0.3333333333333333,\"#9c179e\"],[0.4444444444444444,\"#bd3786\"],[0.5555555555555556,\"#d8576b\"],[0.6666666666666666,\"#ed7953\"],[0.7777777777777778,\"#fb9f3a\"],[0.8888888888888888,\"#fdca26\"],[1.0,\"#f0f921\"]]}],\"heatmap\":[{\"type\":\"heatmap\",\"colorbar\":{\"outlinewidth\":0,\"ticks\":\"\"},\"colorscale\":[[0.0,\"#0d0887\"],[0.1111111111111111,\"#46039f\"],[0.2222222222222222,\"#7201a8\"],[0.3333333333333333,\"#9c179e\"],[0.4444444444444444,\"#bd3786\"],[0.5555555555555556,\"#d8576b\"],[0.6666666666666666,\"#ed7953\"],[0.7777777777777778,\"#fb9f3a\"],[0.8888888888888888,\"#fdca26\"],[1.0,\"#f0f921\"]]}],\"heatmapgl\":[{\"type\":\"heatmapgl\",\"colorbar\":{\"outlinewidth\":0,\"ticks\":\"\"},\"colorscale\":[[0.0,\"#0d0887\"],[0.1111111111111111,\"#46039f\"],[0.2222222222222222,\"#7201a8\"],[0.3333333333333333,\"#9c179e\"],[0.4444444444444444,\"#bd3786\"],[0.5555555555555556,\"#d8576b\"],[0.6666666666666666,\"#ed7953\"],[0.7777777777777778,\"#fb9f3a\"],[0.8888888888888888,\"#fdca26\"],[1.0,\"#f0f921\"]]}],\"contourcarpet\":[{\"type\":\"contourcarpet\",\"colorbar\":{\"outlinewidth\":0,\"ticks\":\"\"}}],\"contour\":[{\"type\":\"contour\",\"colorbar\":{\"outlinewidth\":0,\"ticks\":\"\"},\"colorscale\":[[0.0,\"#0d0887\"],[0.1111111111111111,\"#46039f\"],[0.2222222222222222,\"#7201a8\"],[0.3333333333333333,\"#9c179e\"],[0.4444444444444444,\"#bd3786\"],[0.5555555555555556,\"#d8576b\"],[0.6666666666666666,\"#ed7953\"],[0.7777777777777778,\"#fb9f3a\"],[0.8888888888888888,\"#fdca26\"],[1.0,\"#f0f921\"]]}],\"surface\":[{\"type\":\"surface\",\"colorbar\":{\"outlinewidth\":0,\"ticks\":\"\"},\"colorscale\":[[0.0,\"#0d0887\"],[0.1111111111111111,\"#46039f\"],[0.2222222222222222,\"#7201a8\"],[0.3333333333333333,\"#9c179e\"],[0.4444444444444444,\"#bd3786\"],[0.5555555555555556,\"#d8576b\"],[0.6666666666666666,\"#ed7953\"],[0.7777777777777778,\"#fb9f3a\"],[0.8888888888888888,\"#fdca26\"],[1.0,\"#f0f921\"]]}],\"mesh3d\":[{\"type\":\"mesh3d\",\"colorbar\":{\"outlinewidth\":0,\"ticks\":\"\"}}],\"scatter\":[{\"fillpattern\":{\"fillmode\":\"overlay\",\"size\":10,\"solidity\":0.2},\"type\":\"scatter\"}],\"parcoords\":[{\"type\":\"parcoords\",\"line\":{\"colorbar\":{\"outlinewidth\":0,\"ticks\":\"\"}}}],\"scatterpolargl\":[{\"type\":\"scatterpolargl\",\"marker\":{\"colorbar\":{\"outlinewidth\":0,\"ticks\":\"\"}}}],\"bar\":[{\"error_x\":{\"color\":\"#2a3f5f\"},\"error_y\":{\"color\":\"#2a3f5f\"},\"marker\":{\"line\":{\"color\":\"#E5ECF6\",\"width\":0.5},\"pattern\":{\"fillmode\":\"overlay\",\"size\":10,\"solidity\":0.2}},\"type\":\"bar\"}],\"scattergeo\":[{\"type\":\"scattergeo\",\"marker\":{\"colorbar\":{\"outlinewidth\":0,\"ticks\":\"\"}}}],\"scatterpolar\":[{\"type\":\"scatterpolar\",\"marker\":{\"colorbar\":{\"outlinewidth\":0,\"ticks\":\"\"}}}],\"histogram\":[{\"marker\":{\"pattern\":{\"fillmode\":\"overlay\",\"size\":10,\"solidity\":0.2}},\"type\":\"histogram\"}],\"scattergl\":[{\"type\":\"scattergl\",\"marker\":{\"colorbar\":{\"outlinewidth\":0,\"ticks\":\"\"}}}],\"scatter3d\":[{\"type\":\"scatter3d\",\"line\":{\"colorbar\":{\"outlinewidth\":0,\"ticks\":\"\"}},\"marker\":{\"colorbar\":{\"outlinewidth\":0,\"ticks\":\"\"}}}],\"scattermapbox\":[{\"type\":\"scattermapbox\",\"marker\":{\"colorbar\":{\"outlinewidth\":0,\"ticks\":\"\"}}}],\"scatterternary\":[{\"type\":\"scatterternary\",\"marker\":{\"colorbar\":{\"outlinewidth\":0,\"ticks\":\"\"}}}],\"scattercarpet\":[{\"type\":\"scattercarpet\",\"marker\":{\"colorbar\":{\"outlinewidth\":0,\"ticks\":\"\"}}}],\"carpet\":[{\"aaxis\":{\"endlinecolor\":\"#2a3f5f\",\"gridcolor\":\"white\",\"linecolor\":\"white\",\"minorgridcolor\":\"white\",\"startlinecolor\":\"#2a3f5f\"},\"baxis\":{\"endlinecolor\":\"#2a3f5f\",\"gridcolor\":\"white\",\"linecolor\":\"white\",\"minorgridcolor\":\"white\",\"startlinecolor\":\"#2a3f5f\"},\"type\":\"carpet\"}],\"table\":[{\"cells\":{\"fill\":{\"color\":\"#EBF0F8\"},\"line\":{\"color\":\"white\"}},\"header\":{\"fill\":{\"color\":\"#C8D4E3\"},\"line\":{\"color\":\"white\"}},\"type\":\"table\"}],\"barpolar\":[{\"marker\":{\"line\":{\"color\":\"#E5ECF6\",\"width\":0.5},\"pattern\":{\"fillmode\":\"overlay\",\"size\":10,\"solidity\":0.2}},\"type\":\"barpolar\"}],\"pie\":[{\"automargin\":true,\"type\":\"pie\"}]},\"layout\":{\"autotypenumbers\":\"strict\",\"colorway\":[\"#636efa\",\"#EF553B\",\"#00cc96\",\"#ab63fa\",\"#FFA15A\",\"#19d3f3\",\"#FF6692\",\"#B6E880\",\"#FF97FF\",\"#FECB52\"],\"font\":{\"color\":\"#2a3f5f\"},\"hovermode\":\"closest\",\"hoverlabel\":{\"align\":\"left\"},\"paper_bgcolor\":\"white\",\"plot_bgcolor\":\"#E5ECF6\",\"polar\":{\"bgcolor\":\"#E5ECF6\",\"angularaxis\":{\"gridcolor\":\"white\",\"linecolor\":\"white\",\"ticks\":\"\"},\"radialaxis\":{\"gridcolor\":\"white\",\"linecolor\":\"white\",\"ticks\":\"\"}},\"ternary\":{\"bgcolor\":\"#E5ECF6\",\"aaxis\":{\"gridcolor\":\"white\",\"linecolor\":\"white\",\"ticks\":\"\"},\"baxis\":{\"gridcolor\":\"white\",\"linecolor\":\"white\",\"ticks\":\"\"},\"caxis\":{\"gridcolor\":\"white\",\"linecolor\":\"white\",\"ticks\":\"\"}},\"coloraxis\":{\"colorbar\":{\"outlinewidth\":0,\"ticks\":\"\"}},\"colorscale\":{\"sequential\":[[0.0,\"#0d0887\"],[0.1111111111111111,\"#46039f\"],[0.2222222222222222,\"#7201a8\"],[0.3333333333333333,\"#9c179e\"],[0.4444444444444444,\"#bd3786\"],[0.5555555555555556,\"#d8576b\"],[0.6666666666666666,\"#ed7953\"],[0.7777777777777778,\"#fb9f3a\"],[0.8888888888888888,\"#fdca26\"],[1.0,\"#f0f921\"]],\"sequentialminus\":[[0.0,\"#0d0887\"],[0.1111111111111111,\"#46039f\"],[0.2222222222222222,\"#7201a8\"],[0.3333333333333333,\"#9c179e\"],[0.4444444444444444,\"#bd3786\"],[0.5555555555555556,\"#d8576b\"],[0.6666666666666666,\"#ed7953\"],[0.7777777777777778,\"#fb9f3a\"],[0.8888888888888888,\"#fdca26\"],[1.0,\"#f0f921\"]],\"diverging\":[[0,\"#8e0152\"],[0.1,\"#c51b7d\"],[0.2,\"#de77ae\"],[0.3,\"#f1b6da\"],[0.4,\"#fde0ef\"],[0.5,\"#f7f7f7\"],[0.6,\"#e6f5d0\"],[0.7,\"#b8e186\"],[0.8,\"#7fbc41\"],[0.9,\"#4d9221\"],[1,\"#276419\"]]},\"xaxis\":{\"gridcolor\":\"white\",\"linecolor\":\"white\",\"ticks\":\"\",\"title\":{\"standoff\":15},\"zerolinecolor\":\"white\",\"automargin\":true,\"zerolinewidth\":2},\"yaxis\":{\"gridcolor\":\"white\",\"linecolor\":\"white\",\"ticks\":\"\",\"title\":{\"standoff\":15},\"zerolinecolor\":\"white\",\"automargin\":true,\"zerolinewidth\":2},\"scene\":{\"xaxis\":{\"backgroundcolor\":\"#E5ECF6\",\"gridcolor\":\"white\",\"linecolor\":\"white\",\"showbackground\":true,\"ticks\":\"\",\"zerolinecolor\":\"white\",\"gridwidth\":2},\"yaxis\":{\"backgroundcolor\":\"#E5ECF6\",\"gridcolor\":\"white\",\"linecolor\":\"white\",\"showbackground\":true,\"ticks\":\"\",\"zerolinecolor\":\"white\",\"gridwidth\":2},\"zaxis\":{\"backgroundcolor\":\"#E5ECF6\",\"gridcolor\":\"white\",\"linecolor\":\"white\",\"showbackground\":true,\"ticks\":\"\",\"zerolinecolor\":\"white\",\"gridwidth\":2}},\"shapedefaults\":{\"line\":{\"color\":\"#2a3f5f\"}},\"annotationdefaults\":{\"arrowcolor\":\"#2a3f5f\",\"arrowhead\":0,\"arrowwidth\":1},\"geo\":{\"bgcolor\":\"white\",\"landcolor\":\"#E5ECF6\",\"subunitcolor\":\"white\",\"showland\":true,\"showlakes\":true,\"lakecolor\":\"white\"},\"title\":{\"x\":0.05},\"mapbox\":{\"style\":\"light\"}}},\"title\":{\"text\":\"Indusind Bank Ltd\"},\"xaxis\":{\"title\":{\"text\":\"Date\"}},\"yaxis\":{\"title\":{\"text\":\"Indusind Bank INR(Indian Rupees)\"}}},                        {\"responsive\": true}                    ).then(function(){\n",
              "                            \n",
              "var gd = document.getElementById('5286e255-1115-4bb7-ae6e-779c63953910');\n",
              "var x = new MutationObserver(function (mutations, observer) {{\n",
              "        var display = window.getComputedStyle(gd).display;\n",
              "        if (!display || display === 'none') {{\n",
              "            console.log([gd, 'removed!']);\n",
              "            Plotly.purge(gd);\n",
              "            observer.disconnect();\n",
              "        }}\n",
              "}});\n",
              "\n",
              "// Listen for the removal of the full notebook cells\n",
              "var notebookContainer = gd.closest('#notebook-container');\n",
              "if (notebookContainer) {{\n",
              "    x.observe(notebookContainer, {childList: true});\n",
              "}}\n",
              "\n",
              "// Listen for the clearing of the current output cell\n",
              "var outputEl = gd.closest('.output');\n",
              "if (outputEl) {{\n",
              "    x.observe(outputEl, {childList: true});\n",
              "}}\n",
              "\n",
              "                        })                };                            </script>        </div>\n",
              "</body>\n",
              "</html>"
            ]
          },
          "metadata": {}
        }
      ]
    },
    {
      "cell_type": "markdown",
      "source": [
        "# **Short description of the patterns:  **\n",
        "The stock Indusind Bank is going up and downs many times. Initially, it was doing profit and loss alternatively and later it was doing profit continuously and also loss continuously, later in febraury moth, the stock keeps increasing and making profits consistently and again in march it was going to losses continuously and again in April it was rising, all these are happening because of quarter earnings and governance issues."
      ],
      "metadata": {
        "id": "nmlm929bmigt"
      }
    },
    {
      "cell_type": "markdown",
      "source": [
        "# Problem Statement 2: Returns & Volatility"
      ],
      "metadata": {
        "id": "BV0O5nYBmpmY"
      }
    },
    {
      "cell_type": "markdown",
      "source": [
        "# **1. Return Computation**"
      ],
      "metadata": {
        "id": "YMwTXsKMo5br"
      }
    },
    {
      "cell_type": "markdown",
      "source": [
        "# Code for calculations and plotting"
      ],
      "metadata": {
        "id": "N1-yXANvpJfJ"
      }
    },
    {
      "cell_type": "code",
      "source": [
        "import numpy as np\n",
        "absolute_simple_returns={}\n",
        "absolute_log_returns={}\n",
        "for i in range(1,len(stock.index)):\n",
        "  calculation=(stock['INDUSINDBK.NS']['Close'].iloc[i])/(stock['INDUSINDBK.NS']['Close'].iloc[i-1])\n",
        "  calculation_1=calculation-1\n",
        "  calculation_2=calculation_1*100\n",
        "  log_calculation=np.log(calculation)*100\n",
        "  absolute_simple_returns[stock.index[i]]=calculation_2\n",
        "  absolute_log_returns[stock.index[i]]=log_calculation"
      ],
      "metadata": {
        "id": "clvCHCXaRjHj"
      },
      "execution_count": 11,
      "outputs": []
    },
    {
      "cell_type": "code",
      "source": [
        "import pandas as pd\n",
        "dataframe_1=pd.DataFrame(list(absolute_simple_returns.items()),columns=['Dates','simple_returns'])\n",
        "dataframe_2=pd.DataFrame(list(absolute_log_returns.items()),columns=['Dates','log_returns'])"
      ],
      "metadata": {
        "id": "V9gR9iS5nTdq"
      },
      "execution_count": 12,
      "outputs": []
    },
    {
      "cell_type": "code",
      "source": [
        "dataframe_2"
      ],
      "metadata": {
        "colab": {
          "base_uri": "https://localhost:8080/",
          "height": 423
        },
        "collapsed": true,
        "id": "u_X_8KkdoZIY",
        "outputId": "dad70ff4-851d-4760-b480-ea1887307ff0"
      },
      "execution_count": 14,
      "outputs": [
        {
          "output_type": "execute_result",
          "data": {
            "text/plain": [
              "         Dates  log_returns\n",
              "0   2024-05-28    -0.393239\n",
              "1   2024-05-29     0.061662\n",
              "2   2024-05-30    -0.925347\n",
              "3   2024-05-31     1.034854\n",
              "4   2024-06-03     4.536886\n",
              "..         ...          ...\n",
              "241 2025-05-19     0.492247\n",
              "242 2025-05-20    -0.229840\n",
              "243 2025-05-21    -1.584879\n",
              "244 2025-05-22     1.935812\n",
              "245 2025-05-23     1.064382\n",
              "\n",
              "[246 rows x 2 columns]"
            ],
            "text/html": [
              "\n",
              "  <div id=\"df-52bfaf07-6984-4a83-9e9d-a01aa4039a68\" class=\"colab-df-container\">\n",
              "    <div>\n",
              "<style scoped>\n",
              "    .dataframe tbody tr th:only-of-type {\n",
              "        vertical-align: middle;\n",
              "    }\n",
              "\n",
              "    .dataframe tbody tr th {\n",
              "        vertical-align: top;\n",
              "    }\n",
              "\n",
              "    .dataframe thead th {\n",
              "        text-align: right;\n",
              "    }\n",
              "</style>\n",
              "<table border=\"1\" class=\"dataframe\">\n",
              "  <thead>\n",
              "    <tr style=\"text-align: right;\">\n",
              "      <th></th>\n",
              "      <th>Dates</th>\n",
              "      <th>log_returns</th>\n",
              "    </tr>\n",
              "  </thead>\n",
              "  <tbody>\n",
              "    <tr>\n",
              "      <th>0</th>\n",
              "      <td>2024-05-28</td>\n",
              "      <td>-0.393239</td>\n",
              "    </tr>\n",
              "    <tr>\n",
              "      <th>1</th>\n",
              "      <td>2024-05-29</td>\n",
              "      <td>0.061662</td>\n",
              "    </tr>\n",
              "    <tr>\n",
              "      <th>2</th>\n",
              "      <td>2024-05-30</td>\n",
              "      <td>-0.925347</td>\n",
              "    </tr>\n",
              "    <tr>\n",
              "      <th>3</th>\n",
              "      <td>2024-05-31</td>\n",
              "      <td>1.034854</td>\n",
              "    </tr>\n",
              "    <tr>\n",
              "      <th>4</th>\n",
              "      <td>2024-06-03</td>\n",
              "      <td>4.536886</td>\n",
              "    </tr>\n",
              "    <tr>\n",
              "      <th>...</th>\n",
              "      <td>...</td>\n",
              "      <td>...</td>\n",
              "    </tr>\n",
              "    <tr>\n",
              "      <th>241</th>\n",
              "      <td>2025-05-19</td>\n",
              "      <td>0.492247</td>\n",
              "    </tr>\n",
              "    <tr>\n",
              "      <th>242</th>\n",
              "      <td>2025-05-20</td>\n",
              "      <td>-0.229840</td>\n",
              "    </tr>\n",
              "    <tr>\n",
              "      <th>243</th>\n",
              "      <td>2025-05-21</td>\n",
              "      <td>-1.584879</td>\n",
              "    </tr>\n",
              "    <tr>\n",
              "      <th>244</th>\n",
              "      <td>2025-05-22</td>\n",
              "      <td>1.935812</td>\n",
              "    </tr>\n",
              "    <tr>\n",
              "      <th>245</th>\n",
              "      <td>2025-05-23</td>\n",
              "      <td>1.064382</td>\n",
              "    </tr>\n",
              "  </tbody>\n",
              "</table>\n",
              "<p>246 rows × 2 columns</p>\n",
              "</div>\n",
              "    <div class=\"colab-df-buttons\">\n",
              "\n",
              "  <div class=\"colab-df-container\">\n",
              "    <button class=\"colab-df-convert\" onclick=\"convertToInteractive('df-52bfaf07-6984-4a83-9e9d-a01aa4039a68')\"\n",
              "            title=\"Convert this dataframe to an interactive table.\"\n",
              "            style=\"display:none;\">\n",
              "\n",
              "  <svg xmlns=\"http://www.w3.org/2000/svg\" height=\"24px\" viewBox=\"0 -960 960 960\">\n",
              "    <path d=\"M120-120v-720h720v720H120Zm60-500h600v-160H180v160Zm220 220h160v-160H400v160Zm0 220h160v-160H400v160ZM180-400h160v-160H180v160Zm440 0h160v-160H620v160ZM180-180h160v-160H180v160Zm440 0h160v-160H620v160Z\"/>\n",
              "  </svg>\n",
              "    </button>\n",
              "\n",
              "  <style>\n",
              "    .colab-df-container {\n",
              "      display:flex;\n",
              "      gap: 12px;\n",
              "    }\n",
              "\n",
              "    .colab-df-convert {\n",
              "      background-color: #E8F0FE;\n",
              "      border: none;\n",
              "      border-radius: 50%;\n",
              "      cursor: pointer;\n",
              "      display: none;\n",
              "      fill: #1967D2;\n",
              "      height: 32px;\n",
              "      padding: 0 0 0 0;\n",
              "      width: 32px;\n",
              "    }\n",
              "\n",
              "    .colab-df-convert:hover {\n",
              "      background-color: #E2EBFA;\n",
              "      box-shadow: 0px 1px 2px rgba(60, 64, 67, 0.3), 0px 1px 3px 1px rgba(60, 64, 67, 0.15);\n",
              "      fill: #174EA6;\n",
              "    }\n",
              "\n",
              "    .colab-df-buttons div {\n",
              "      margin-bottom: 4px;\n",
              "    }\n",
              "\n",
              "    [theme=dark] .colab-df-convert {\n",
              "      background-color: #3B4455;\n",
              "      fill: #D2E3FC;\n",
              "    }\n",
              "\n",
              "    [theme=dark] .colab-df-convert:hover {\n",
              "      background-color: #434B5C;\n",
              "      box-shadow: 0px 1px 3px 1px rgba(0, 0, 0, 0.15);\n",
              "      filter: drop-shadow(0px 1px 2px rgba(0, 0, 0, 0.3));\n",
              "      fill: #FFFFFF;\n",
              "    }\n",
              "  </style>\n",
              "\n",
              "    <script>\n",
              "      const buttonEl =\n",
              "        document.querySelector('#df-52bfaf07-6984-4a83-9e9d-a01aa4039a68 button.colab-df-convert');\n",
              "      buttonEl.style.display =\n",
              "        google.colab.kernel.accessAllowed ? 'block' : 'none';\n",
              "\n",
              "      async function convertToInteractive(key) {\n",
              "        const element = document.querySelector('#df-52bfaf07-6984-4a83-9e9d-a01aa4039a68');\n",
              "        const dataTable =\n",
              "          await google.colab.kernel.invokeFunction('convertToInteractive',\n",
              "                                                    [key], {});\n",
              "        if (!dataTable) return;\n",
              "\n",
              "        const docLinkHtml = 'Like what you see? Visit the ' +\n",
              "          '<a target=\"_blank\" href=https://colab.research.google.com/notebooks/data_table.ipynb>data table notebook</a>'\n",
              "          + ' to learn more about interactive tables.';\n",
              "        element.innerHTML = '';\n",
              "        dataTable['output_type'] = 'display_data';\n",
              "        await google.colab.output.renderOutput(dataTable, element);\n",
              "        const docLink = document.createElement('div');\n",
              "        docLink.innerHTML = docLinkHtml;\n",
              "        element.appendChild(docLink);\n",
              "      }\n",
              "    </script>\n",
              "  </div>\n",
              "\n",
              "\n",
              "    <div id=\"df-ff8fe588-6375-4b9d-8b32-9e8aaaee27ea\">\n",
              "      <button class=\"colab-df-quickchart\" onclick=\"quickchart('df-ff8fe588-6375-4b9d-8b32-9e8aaaee27ea')\"\n",
              "                title=\"Suggest charts\"\n",
              "                style=\"display:none;\">\n",
              "\n",
              "<svg xmlns=\"http://www.w3.org/2000/svg\" height=\"24px\"viewBox=\"0 0 24 24\"\n",
              "     width=\"24px\">\n",
              "    <g>\n",
              "        <path d=\"M19 3H5c-1.1 0-2 .9-2 2v14c0 1.1.9 2 2 2h14c1.1 0 2-.9 2-2V5c0-1.1-.9-2-2-2zM9 17H7v-7h2v7zm4 0h-2V7h2v10zm4 0h-2v-4h2v4z\"/>\n",
              "    </g>\n",
              "</svg>\n",
              "      </button>\n",
              "\n",
              "<style>\n",
              "  .colab-df-quickchart {\n",
              "      --bg-color: #E8F0FE;\n",
              "      --fill-color: #1967D2;\n",
              "      --hover-bg-color: #E2EBFA;\n",
              "      --hover-fill-color: #174EA6;\n",
              "      --disabled-fill-color: #AAA;\n",
              "      --disabled-bg-color: #DDD;\n",
              "  }\n",
              "\n",
              "  [theme=dark] .colab-df-quickchart {\n",
              "      --bg-color: #3B4455;\n",
              "      --fill-color: #D2E3FC;\n",
              "      --hover-bg-color: #434B5C;\n",
              "      --hover-fill-color: #FFFFFF;\n",
              "      --disabled-bg-color: #3B4455;\n",
              "      --disabled-fill-color: #666;\n",
              "  }\n",
              "\n",
              "  .colab-df-quickchart {\n",
              "    background-color: var(--bg-color);\n",
              "    border: none;\n",
              "    border-radius: 50%;\n",
              "    cursor: pointer;\n",
              "    display: none;\n",
              "    fill: var(--fill-color);\n",
              "    height: 32px;\n",
              "    padding: 0;\n",
              "    width: 32px;\n",
              "  }\n",
              "\n",
              "  .colab-df-quickchart:hover {\n",
              "    background-color: var(--hover-bg-color);\n",
              "    box-shadow: 0 1px 2px rgba(60, 64, 67, 0.3), 0 1px 3px 1px rgba(60, 64, 67, 0.15);\n",
              "    fill: var(--button-hover-fill-color);\n",
              "  }\n",
              "\n",
              "  .colab-df-quickchart-complete:disabled,\n",
              "  .colab-df-quickchart-complete:disabled:hover {\n",
              "    background-color: var(--disabled-bg-color);\n",
              "    fill: var(--disabled-fill-color);\n",
              "    box-shadow: none;\n",
              "  }\n",
              "\n",
              "  .colab-df-spinner {\n",
              "    border: 2px solid var(--fill-color);\n",
              "    border-color: transparent;\n",
              "    border-bottom-color: var(--fill-color);\n",
              "    animation:\n",
              "      spin 1s steps(1) infinite;\n",
              "  }\n",
              "\n",
              "  @keyframes spin {\n",
              "    0% {\n",
              "      border-color: transparent;\n",
              "      border-bottom-color: var(--fill-color);\n",
              "      border-left-color: var(--fill-color);\n",
              "    }\n",
              "    20% {\n",
              "      border-color: transparent;\n",
              "      border-left-color: var(--fill-color);\n",
              "      border-top-color: var(--fill-color);\n",
              "    }\n",
              "    30% {\n",
              "      border-color: transparent;\n",
              "      border-left-color: var(--fill-color);\n",
              "      border-top-color: var(--fill-color);\n",
              "      border-right-color: var(--fill-color);\n",
              "    }\n",
              "    40% {\n",
              "      border-color: transparent;\n",
              "      border-right-color: var(--fill-color);\n",
              "      border-top-color: var(--fill-color);\n",
              "    }\n",
              "    60% {\n",
              "      border-color: transparent;\n",
              "      border-right-color: var(--fill-color);\n",
              "    }\n",
              "    80% {\n",
              "      border-color: transparent;\n",
              "      border-right-color: var(--fill-color);\n",
              "      border-bottom-color: var(--fill-color);\n",
              "    }\n",
              "    90% {\n",
              "      border-color: transparent;\n",
              "      border-bottom-color: var(--fill-color);\n",
              "    }\n",
              "  }\n",
              "</style>\n",
              "\n",
              "      <script>\n",
              "        async function quickchart(key) {\n",
              "          const quickchartButtonEl =\n",
              "            document.querySelector('#' + key + ' button');\n",
              "          quickchartButtonEl.disabled = true;  // To prevent multiple clicks.\n",
              "          quickchartButtonEl.classList.add('colab-df-spinner');\n",
              "          try {\n",
              "            const charts = await google.colab.kernel.invokeFunction(\n",
              "                'suggestCharts', [key], {});\n",
              "          } catch (error) {\n",
              "            console.error('Error during call to suggestCharts:', error);\n",
              "          }\n",
              "          quickchartButtonEl.classList.remove('colab-df-spinner');\n",
              "          quickchartButtonEl.classList.add('colab-df-quickchart-complete');\n",
              "        }\n",
              "        (() => {\n",
              "          let quickchartButtonEl =\n",
              "            document.querySelector('#df-ff8fe588-6375-4b9d-8b32-9e8aaaee27ea button');\n",
              "          quickchartButtonEl.style.display =\n",
              "            google.colab.kernel.accessAllowed ? 'block' : 'none';\n",
              "        })();\n",
              "      </script>\n",
              "    </div>\n",
              "\n",
              "  <div id=\"id_e8e7940e-1290-4254-b16b-fa2ed7a8a08a\">\n",
              "    <style>\n",
              "      .colab-df-generate {\n",
              "        background-color: #E8F0FE;\n",
              "        border: none;\n",
              "        border-radius: 50%;\n",
              "        cursor: pointer;\n",
              "        display: none;\n",
              "        fill: #1967D2;\n",
              "        height: 32px;\n",
              "        padding: 0 0 0 0;\n",
              "        width: 32px;\n",
              "      }\n",
              "\n",
              "      .colab-df-generate:hover {\n",
              "        background-color: #E2EBFA;\n",
              "        box-shadow: 0px 1px 2px rgba(60, 64, 67, 0.3), 0px 1px 3px 1px rgba(60, 64, 67, 0.15);\n",
              "        fill: #174EA6;\n",
              "      }\n",
              "\n",
              "      [theme=dark] .colab-df-generate {\n",
              "        background-color: #3B4455;\n",
              "        fill: #D2E3FC;\n",
              "      }\n",
              "\n",
              "      [theme=dark] .colab-df-generate:hover {\n",
              "        background-color: #434B5C;\n",
              "        box-shadow: 0px 1px 3px 1px rgba(0, 0, 0, 0.15);\n",
              "        filter: drop-shadow(0px 1px 2px rgba(0, 0, 0, 0.3));\n",
              "        fill: #FFFFFF;\n",
              "      }\n",
              "    </style>\n",
              "    <button class=\"colab-df-generate\" onclick=\"generateWithVariable('dataframe_2')\"\n",
              "            title=\"Generate code using this dataframe.\"\n",
              "            style=\"display:none;\">\n",
              "\n",
              "  <svg xmlns=\"http://www.w3.org/2000/svg\" height=\"24px\"viewBox=\"0 0 24 24\"\n",
              "       width=\"24px\">\n",
              "    <path d=\"M7,19H8.4L18.45,9,17,7.55,7,17.6ZM5,21V16.75L18.45,3.32a2,2,0,0,1,2.83,0l1.4,1.43a1.91,1.91,0,0,1,.58,1.4,1.91,1.91,0,0,1-.58,1.4L9.25,21ZM18.45,9,17,7.55Zm-12,3A5.31,5.31,0,0,0,4.9,8.1,5.31,5.31,0,0,0,1,6.5,5.31,5.31,0,0,0,4.9,4.9,5.31,5.31,0,0,0,6.5,1,5.31,5.31,0,0,0,8.1,4.9,5.31,5.31,0,0,0,12,6.5,5.46,5.46,0,0,0,6.5,12Z\"/>\n",
              "  </svg>\n",
              "    </button>\n",
              "    <script>\n",
              "      (() => {\n",
              "      const buttonEl =\n",
              "        document.querySelector('#id_e8e7940e-1290-4254-b16b-fa2ed7a8a08a button.colab-df-generate');\n",
              "      buttonEl.style.display =\n",
              "        google.colab.kernel.accessAllowed ? 'block' : 'none';\n",
              "\n",
              "      buttonEl.onclick = () => {\n",
              "        google.colab.notebook.generateWithVariable('dataframe_2');\n",
              "      }\n",
              "      })();\n",
              "    </script>\n",
              "  </div>\n",
              "\n",
              "    </div>\n",
              "  </div>\n"
            ],
            "application/vnd.google.colaboratory.intrinsic+json": {
              "type": "dataframe",
              "variable_name": "dataframe_2",
              "summary": "{\n  \"name\": \"dataframe_2\",\n  \"rows\": 246,\n  \"fields\": [\n    {\n      \"column\": \"Dates\",\n      \"properties\": {\n        \"dtype\": \"date\",\n        \"min\": \"2024-05-28 00:00:00\",\n        \"max\": \"2025-05-23 00:00:00\",\n        \"num_unique_values\": 246,\n        \"samples\": [\n          \"2024-07-15 00:00:00\",\n          \"2024-06-05 00:00:00\",\n          \"2025-02-13 00:00:00\"\n        ],\n        \"semantic_type\": \"\",\n        \"description\": \"\"\n      }\n    },\n    {\n      \"column\": \"log_returns\",\n      \"properties\": {\n        \"dtype\": \"number\",\n        \"std\": 3.0580122484533163,\n        \"min\": -31.686557947927383,\n        \"max\": 7.571596843413442,\n        \"num_unique_values\": 245,\n        \"samples\": [\n          -1.9021186690302454,\n          7.571596843413442,\n          1.3871681544116448\n        ],\n        \"semantic_type\": \"\",\n        \"description\": \"\"\n      }\n    }\n  ]\n}"
            }
          },
          "metadata": {},
          "execution_count": 14
        }
      ]
    },
    {
      "cell_type": "code",
      "source": [
        "import plotly.express as px\n",
        "import plotly.graph_objects as go\n",
        "from plotly.subplots import make_subplots\n",
        "\n",
        "subplot_fig=make_subplots(rows=1,cols=2,subplot_titles=['simple_returns','log_returns'],column_widths=[0.5,0.5], row_heights=[1])\n",
        "\n",
        "subplot_fig.add_trace(go.Scatter(x=dataframe_1['Dates'], y=dataframe_1['simple_returns'], mode='lines', name='Simple Returns'),row=1, col=1)\n",
        "subplot_fig.add_trace(go.Scatter(x=dataframe_2['Dates'], y=dataframe_2['log_returns'], mode='lines', name='log Returns'),row=1, col=2)\n",
        "\n",
        "\n",
        "\n",
        "subplot_fig.update_xaxes(title_text=\"Date\", row=1, col=1)\n",
        "subplot_fig.update_yaxes(title_text=\"simple_returns (%)\", row=1, col=1)\n",
        "subplot_fig.update_xaxes(title_text=\"Date\", row=1, col=2)\n",
        "subplot_fig.update_yaxes(title_text=\"log_returns (%)\", row=1, col=2)\n",
        "\n",
        "subplot_fig.update_layout(title=\"simple_returns vs log_returns\",width=1000,height=400,showlegend=False)\n",
        "\n",
        "subplot_fig.show()"
      ],
      "metadata": {
        "colab": {
          "base_uri": "https://localhost:8080/",
          "height": 417
        },
        "id": "YcDnEeOnAfJ1",
        "outputId": "c6fada9d-9f4a-4753-e8ea-01713a875cdd"
      },
      "execution_count": 15,
      "outputs": [
        {
          "output_type": "display_data",
          "data": {
            "text/html": [
              "<html>\n",
              "<head><meta charset=\"utf-8\" /></head>\n",
              "<body>\n",
              "    <div>            <script src=\"https://cdnjs.cloudflare.com/ajax/libs/mathjax/2.7.5/MathJax.js?config=TeX-AMS-MML_SVG\"></script><script type=\"text/javascript\">if (window.MathJax && window.MathJax.Hub && window.MathJax.Hub.Config) {window.MathJax.Hub.Config({SVG: {font: \"STIX-Web\"}});}</script>                <script type=\"text/javascript\">window.PlotlyConfig = {MathJaxConfig: 'local'};</script>\n",
              "        <script charset=\"utf-8\" src=\"https://cdn.plot.ly/plotly-2.35.2.min.js\"></script>                <div id=\"b5990a35-ddc3-4a87-91b0-fbfdc55d2746\" class=\"plotly-graph-div\" style=\"height:400px; width:1000px;\"></div>            <script type=\"text/javascript\">                                    window.PLOTLYENV=window.PLOTLYENV || {};                                    if (document.getElementById(\"b5990a35-ddc3-4a87-91b0-fbfdc55d2746\")) {                    Plotly.newPlot(                        \"b5990a35-ddc3-4a87-91b0-fbfdc55d2746\",                        [{\"mode\":\"lines\",\"name\":\"Simple Returns\",\"x\":[\"2024-05-28T00:00:00\",\"2024-05-29T00:00:00\",\"2024-05-30T00:00:00\",\"2024-05-31T00:00:00\",\"2024-06-03T00:00:00\",\"2024-06-04T00:00:00\",\"2024-06-05T00:00:00\",\"2024-06-06T00:00:00\",\"2024-06-07T00:00:00\",\"2024-06-10T00:00:00\",\"2024-06-11T00:00:00\",\"2024-06-12T00:00:00\",\"2024-06-13T00:00:00\",\"2024-06-14T00:00:00\",\"2024-06-18T00:00:00\",\"2024-06-19T00:00:00\",\"2024-06-20T00:00:00\",\"2024-06-21T00:00:00\",\"2024-06-24T00:00:00\",\"2024-06-25T00:00:00\",\"2024-06-26T00:00:00\",\"2024-06-27T00:00:00\",\"2024-06-28T00:00:00\",\"2024-07-01T00:00:00\",\"2024-07-02T00:00:00\",\"2024-07-03T00:00:00\",\"2024-07-04T00:00:00\",\"2024-07-05T00:00:00\",\"2024-07-08T00:00:00\",\"2024-07-09T00:00:00\",\"2024-07-10T00:00:00\",\"2024-07-11T00:00:00\",\"2024-07-12T00:00:00\",\"2024-07-15T00:00:00\",\"2024-07-16T00:00:00\",\"2024-07-18T00:00:00\",\"2024-07-19T00:00:00\",\"2024-07-22T00:00:00\",\"2024-07-23T00:00:00\",\"2024-07-24T00:00:00\",\"2024-07-25T00:00:00\",\"2024-07-26T00:00:00\",\"2024-07-29T00:00:00\",\"2024-07-30T00:00:00\",\"2024-07-31T00:00:00\",\"2024-08-01T00:00:00\",\"2024-08-02T00:00:00\",\"2024-08-05T00:00:00\",\"2024-08-06T00:00:00\",\"2024-08-07T00:00:00\",\"2024-08-08T00:00:00\",\"2024-08-09T00:00:00\",\"2024-08-12T00:00:00\",\"2024-08-13T00:00:00\",\"2024-08-14T00:00:00\",\"2024-08-16T00:00:00\",\"2024-08-19T00:00:00\",\"2024-08-20T00:00:00\",\"2024-08-21T00:00:00\",\"2024-08-22T00:00:00\",\"2024-08-23T00:00:00\",\"2024-08-26T00:00:00\",\"2024-08-27T00:00:00\",\"2024-08-28T00:00:00\",\"2024-08-29T00:00:00\",\"2024-08-30T00:00:00\",\"2024-09-02T00:00:00\",\"2024-09-03T00:00:00\",\"2024-09-04T00:00:00\",\"2024-09-05T00:00:00\",\"2024-09-06T00:00:00\",\"2024-09-09T00:00:00\",\"2024-09-10T00:00:00\",\"2024-09-11T00:00:00\",\"2024-09-12T00:00:00\",\"2024-09-13T00:00:00\",\"2024-09-16T00:00:00\",\"2024-09-17T00:00:00\",\"2024-09-18T00:00:00\",\"2024-09-19T00:00:00\",\"2024-09-20T00:00:00\",\"2024-09-23T00:00:00\",\"2024-09-24T00:00:00\",\"2024-09-25T00:00:00\",\"2024-09-26T00:00:00\",\"2024-09-27T00:00:00\",\"2024-09-30T00:00:00\",\"2024-10-01T00:00:00\",\"2024-10-03T00:00:00\",\"2024-10-04T00:00:00\",\"2024-10-07T00:00:00\",\"2024-10-08T00:00:00\",\"2024-10-09T00:00:00\",\"2024-10-10T00:00:00\",\"2024-10-11T00:00:00\",\"2024-10-14T00:00:00\",\"2024-10-15T00:00:00\",\"2024-10-16T00:00:00\",\"2024-10-17T00:00:00\",\"2024-10-18T00:00:00\",\"2024-10-21T00:00:00\",\"2024-10-22T00:00:00\",\"2024-10-23T00:00:00\",\"2024-10-24T00:00:00\",\"2024-10-25T00:00:00\",\"2024-10-28T00:00:00\",\"2024-10-29T00:00:00\",\"2024-10-30T00:00:00\",\"2024-10-31T00:00:00\",\"2024-11-01T00:00:00\",\"2024-11-04T00:00:00\",\"2024-11-05T00:00:00\",\"2024-11-06T00:00:00\",\"2024-11-07T00:00:00\",\"2024-11-08T00:00:00\",\"2024-11-11T00:00:00\",\"2024-11-12T00:00:00\",\"2024-11-13T00:00:00\",\"2024-11-14T00:00:00\",\"2024-11-18T00:00:00\",\"2024-11-19T00:00:00\",\"2024-11-21T00:00:00\",\"2024-11-22T00:00:00\",\"2024-11-25T00:00:00\",\"2024-11-26T00:00:00\",\"2024-11-27T00:00:00\",\"2024-11-28T00:00:00\",\"2024-11-29T00:00:00\",\"2024-12-02T00:00:00\",\"2024-12-03T00:00:00\",\"2024-12-04T00:00:00\",\"2024-12-05T00:00:00\",\"2024-12-06T00:00:00\",\"2024-12-09T00:00:00\",\"2024-12-10T00:00:00\",\"2024-12-11T00:00:00\",\"2024-12-12T00:00:00\",\"2024-12-13T00:00:00\",\"2024-12-16T00:00:00\",\"2024-12-17T00:00:00\",\"2024-12-18T00:00:00\",\"2024-12-19T00:00:00\",\"2024-12-20T00:00:00\",\"2024-12-23T00:00:00\",\"2024-12-24T00:00:00\",\"2024-12-26T00:00:00\",\"2024-12-27T00:00:00\",\"2024-12-30T00:00:00\",\"2024-12-31T00:00:00\",\"2025-01-01T00:00:00\",\"2025-01-02T00:00:00\",\"2025-01-03T00:00:00\",\"2025-01-06T00:00:00\",\"2025-01-07T00:00:00\",\"2025-01-08T00:00:00\",\"2025-01-09T00:00:00\",\"2025-01-10T00:00:00\",\"2025-01-13T00:00:00\",\"2025-01-14T00:00:00\",\"2025-01-15T00:00:00\",\"2025-01-16T00:00:00\",\"2025-01-17T00:00:00\",\"2025-01-20T00:00:00\",\"2025-01-21T00:00:00\",\"2025-01-22T00:00:00\",\"2025-01-23T00:00:00\",\"2025-01-24T00:00:00\",\"2025-01-27T00:00:00\",\"2025-01-28T00:00:00\",\"2025-01-29T00:00:00\",\"2025-01-30T00:00:00\",\"2025-01-31T00:00:00\",\"2025-02-01T00:00:00\",\"2025-02-03T00:00:00\",\"2025-02-04T00:00:00\",\"2025-02-05T00:00:00\",\"2025-02-06T00:00:00\",\"2025-02-07T00:00:00\",\"2025-02-10T00:00:00\",\"2025-02-11T00:00:00\",\"2025-02-12T00:00:00\",\"2025-02-13T00:00:00\",\"2025-02-14T00:00:00\",\"2025-02-17T00:00:00\",\"2025-02-18T00:00:00\",\"2025-02-19T00:00:00\",\"2025-02-20T00:00:00\",\"2025-02-21T00:00:00\",\"2025-02-24T00:00:00\",\"2025-02-25T00:00:00\",\"2025-02-27T00:00:00\",\"2025-02-28T00:00:00\",\"2025-03-03T00:00:00\",\"2025-03-04T00:00:00\",\"2025-03-05T00:00:00\",\"2025-03-06T00:00:00\",\"2025-03-07T00:00:00\",\"2025-03-10T00:00:00\",\"2025-03-11T00:00:00\",\"2025-03-12T00:00:00\",\"2025-03-13T00:00:00\",\"2025-03-17T00:00:00\",\"2025-03-18T00:00:00\",\"2025-03-19T00:00:00\",\"2025-03-20T00:00:00\",\"2025-03-21T00:00:00\",\"2025-03-24T00:00:00\",\"2025-03-25T00:00:00\",\"2025-03-26T00:00:00\",\"2025-03-27T00:00:00\",\"2025-03-28T00:00:00\",\"2025-04-01T00:00:00\",\"2025-04-02T00:00:00\",\"2025-04-03T00:00:00\",\"2025-04-04T00:00:00\",\"2025-04-07T00:00:00\",\"2025-04-08T00:00:00\",\"2025-04-09T00:00:00\",\"2025-04-11T00:00:00\",\"2025-04-15T00:00:00\",\"2025-04-16T00:00:00\",\"2025-04-17T00:00:00\",\"2025-04-21T00:00:00\",\"2025-04-22T00:00:00\",\"2025-04-23T00:00:00\",\"2025-04-24T00:00:00\",\"2025-04-25T00:00:00\",\"2025-04-28T00:00:00\",\"2025-04-29T00:00:00\",\"2025-04-30T00:00:00\",\"2025-05-02T00:00:00\",\"2025-05-05T00:00:00\",\"2025-05-06T00:00:00\",\"2025-05-07T00:00:00\",\"2025-05-08T00:00:00\",\"2025-05-09T00:00:00\",\"2025-05-12T00:00:00\",\"2025-05-13T00:00:00\",\"2025-05-14T00:00:00\",\"2025-05-15T00:00:00\",\"2025-05-16T00:00:00\",\"2025-05-19T00:00:00\",\"2025-05-20T00:00:00\",\"2025-05-21T00:00:00\",\"2025-05-22T00:00:00\",\"2025-05-23T00:00:00\"],\"y\":[-0.39246635115136597,0.061681043122607804,-0.9210784223815605,1.0402276052396964,4.64137664465325,-9.034453767273886,7.86561582457912,-1.3224978405983356,0.7426947612281687,-0.4188741353452041,-0.32304032874704847,0.2160581742009171,1.549602377353665,-0.32509489372549716,0.3694262272657678,1.346237556157015,-0.022905035287568154,-0.045812487412877356,-2.4064398026355627,0.34554006939786497,0.15713428007286812,0.32378699356010454,-1.4634146341463428,-0.5189467795109204,-1.8841425480260687,1.8223827148875715,-0.8691188192416655,-0.5960408726794375,0.2649502407617188,-0.26425010946049543,-0.5787030732525733,0.2664924407060676,0.3357264436527396,0.6622285508798065,0.12811021248457788,0.7607718247641504,-1.678225879090145,-0.6317796129916342,-0.7165992038243973,-1.171095905012498,-1.256581714913707,1.7982778092348495,0.5413473505073485,1.289404971439967,-0.13288818693689697,-0.5568057830445228,-1.0951809715949334,-1.057473270661935,-0.6081508128269242,-2.5959431995610016,0.1598352878890985,0.18555629105592164,0.07778387315395818,-0.018506866381784448,-0.9255146028399053,1.946793909529676,-1.2132132486845526,2.500747540273185,0.19546449550664757,-0.15173234002439084,0.48122326482207267,-0.2916746739912712,-0.09390024038461453,2.35324247955242,0.12007424841073977,0.5502874243761724,1.6698859026925028,-0.8522892405433358,-0.16008400055533833,-0.8017289322549748,-0.9522839690515039,1.3304005623021142,0.5216772893740007,-0.9996236402878722,1.5585438485132386,1.4341686765044104,0.42006093635067465,-0.26186748155370143,0.9479336205879596,0.30400270224624215,-0.3064521857635949,-1.0201307988142339,-1.14667442753138,-0.6076122717281862,0.9169816722386148,0.6883733968555017,-1.0323358234776592,-2.6181282849719545,-1.5570654701114295,-0.3530912926724916,-2.3140615804285725,0.6440443720194589,-1.3239674416925862,1.1069266926649002,-0.6487797603753731,1.6956052240949537,-0.6968460796139553,-1.072817644501367,0.07798608926192774,-0.007420164600813184,-2.894785674522171,-2.5912497163434023,-0.003917821537957611,0.45122810795525936,-18.62818359801529,1.2672881673947867,-1.5785005350123504,1.7579347465025874,-0.07573351094617431,0.653659016071173,0.12235753676470562,2.472262225103705,-1.1420926016609712,-1.9347631525618914,-0.28387583851142706,0.6642626376592409,-0.11783559035285496,-2.1565850222481253,-1.8857844775350352,-1.2338444208713994,-0.4379816330714048,-1.8746250521059715,1.706658494234814,0.5309544908991048,0.6078700135463411,-0.7577222230484404,-0.8333785637370084,0.22644928092647731,-0.49203830888515654,0.746754456607257,0.050082637574710986,-0.06507117132630302,-0.7864192070822784,-0.7825516424549539,0.17301162724103758,0.05587603370817984,1.33015555118432,-1.132320021518718,1.2871789244030207,-2.3715366739243904,-1.0710820422832557,-0.08288311053161745,-3.624016105584993,1.7483457729387197,-1.0997170645891563,-0.3581712423457284,2.301626903382248,1.0593638900045832,-0.3476881770563045,0.9633911123050565,2.264282093983061,0.6607201280510067,-2.7908644092324297,1.3968339738653412,-0.25925049372329534,-0.015286007927450829,-4.414318253686467,0.43729060663972863,2.166291081497973,0.0363825621012559,1.3403255457730134,-0.45111636735962746,-0.02574797845995569,-1.0559389998043844,1.093237531006097,0.0,-2.075289578323425,-2.5609987272359525,0.8311308873198531,1.51474206595259,0.9227037975993557,3.568259218394121,1.8361594010180227,0.3269256700171308,3.4017983402560237,1.341730070213587,0.409922526989015,1.2716368201300732,-1.0286327344146584,-1.2968141934398436,-1.3755157865750323,0.7310128800526616,-2.1819026580030987,2.3281896737145535,-2.3038420619186706,1.1424737350953729,1.1440408406375502,-0.37226405032002585,-1.3988000561377278,0.49555219986912036,1.2037661273265554,-5.407469019423261,-0.6160969332746014,0.3658511774326634,-1.5947752520604874,-0.01543071283361952,-3.5967903435185633,-3.8697624766479866,-27.157133569457937,4.3829559364236825,-1.8037149701933264,0.7511041885178926,0.0,2.2586340775825775,-1.241523959800861,0.4093040385985569,-2.5404005804070873,-4.839797419264613,2.8647673416063224,2.7849840286836347,-3.518671611098889,5.055018520463039,2.892925098412147,0.9893959835227228,-3.862422254170894,-0.894424572718111,0.5548157811136267,-0.16185339241944208,1.6137369986029881,6.729517681517394,7.113734726074994,0.8182698645139652,4.2154271404833965,-4.9142733164868835,0.8507952008928621,3.2170721984713824,0.317166890629772,0.9971438499999374,0.7705766670431657,0.17324955921891316,2.1529087866598573,-1.1325835797508788,-1.765575696135957,0.24044241757044116,-0.8395298755674796,-1.0401518762589657,-3.6299207729070804,-2.33354780140298,1.4608492866709177,-0.1087829541813301,-0.03843533542200461,0.49346007763402255,-0.22957564198624603,-1.5723857836968724,1.9546707649018114,1.0700668043391648],\"type\":\"scatter\",\"xaxis\":\"x\",\"yaxis\":\"y\"},{\"mode\":\"lines\",\"name\":\"log Returns\",\"x\":[\"2024-05-28T00:00:00\",\"2024-05-29T00:00:00\",\"2024-05-30T00:00:00\",\"2024-05-31T00:00:00\",\"2024-06-03T00:00:00\",\"2024-06-04T00:00:00\",\"2024-06-05T00:00:00\",\"2024-06-06T00:00:00\",\"2024-06-07T00:00:00\",\"2024-06-10T00:00:00\",\"2024-06-11T00:00:00\",\"2024-06-12T00:00:00\",\"2024-06-13T00:00:00\",\"2024-06-14T00:00:00\",\"2024-06-18T00:00:00\",\"2024-06-19T00:00:00\",\"2024-06-20T00:00:00\",\"2024-06-21T00:00:00\",\"2024-06-24T00:00:00\",\"2024-06-25T00:00:00\",\"2024-06-26T00:00:00\",\"2024-06-27T00:00:00\",\"2024-06-28T00:00:00\",\"2024-07-01T00:00:00\",\"2024-07-02T00:00:00\",\"2024-07-03T00:00:00\",\"2024-07-04T00:00:00\",\"2024-07-05T00:00:00\",\"2024-07-08T00:00:00\",\"2024-07-09T00:00:00\",\"2024-07-10T00:00:00\",\"2024-07-11T00:00:00\",\"2024-07-12T00:00:00\",\"2024-07-15T00:00:00\",\"2024-07-16T00:00:00\",\"2024-07-18T00:00:00\",\"2024-07-19T00:00:00\",\"2024-07-22T00:00:00\",\"2024-07-23T00:00:00\",\"2024-07-24T00:00:00\",\"2024-07-25T00:00:00\",\"2024-07-26T00:00:00\",\"2024-07-29T00:00:00\",\"2024-07-30T00:00:00\",\"2024-07-31T00:00:00\",\"2024-08-01T00:00:00\",\"2024-08-02T00:00:00\",\"2024-08-05T00:00:00\",\"2024-08-06T00:00:00\",\"2024-08-07T00:00:00\",\"2024-08-08T00:00:00\",\"2024-08-09T00:00:00\",\"2024-08-12T00:00:00\",\"2024-08-13T00:00:00\",\"2024-08-14T00:00:00\",\"2024-08-16T00:00:00\",\"2024-08-19T00:00:00\",\"2024-08-20T00:00:00\",\"2024-08-21T00:00:00\",\"2024-08-22T00:00:00\",\"2024-08-23T00:00:00\",\"2024-08-26T00:00:00\",\"2024-08-27T00:00:00\",\"2024-08-28T00:00:00\",\"2024-08-29T00:00:00\",\"2024-08-30T00:00:00\",\"2024-09-02T00:00:00\",\"2024-09-03T00:00:00\",\"2024-09-04T00:00:00\",\"2024-09-05T00:00:00\",\"2024-09-06T00:00:00\",\"2024-09-09T00:00:00\",\"2024-09-10T00:00:00\",\"2024-09-11T00:00:00\",\"2024-09-12T00:00:00\",\"2024-09-13T00:00:00\",\"2024-09-16T00:00:00\",\"2024-09-17T00:00:00\",\"2024-09-18T00:00:00\",\"2024-09-19T00:00:00\",\"2024-09-20T00:00:00\",\"2024-09-23T00:00:00\",\"2024-09-24T00:00:00\",\"2024-09-25T00:00:00\",\"2024-09-26T00:00:00\",\"2024-09-27T00:00:00\",\"2024-09-30T00:00:00\",\"2024-10-01T00:00:00\",\"2024-10-03T00:00:00\",\"2024-10-04T00:00:00\",\"2024-10-07T00:00:00\",\"2024-10-08T00:00:00\",\"2024-10-09T00:00:00\",\"2024-10-10T00:00:00\",\"2024-10-11T00:00:00\",\"2024-10-14T00:00:00\",\"2024-10-15T00:00:00\",\"2024-10-16T00:00:00\",\"2024-10-17T00:00:00\",\"2024-10-18T00:00:00\",\"2024-10-21T00:00:00\",\"2024-10-22T00:00:00\",\"2024-10-23T00:00:00\",\"2024-10-24T00:00:00\",\"2024-10-25T00:00:00\",\"2024-10-28T00:00:00\",\"2024-10-29T00:00:00\",\"2024-10-30T00:00:00\",\"2024-10-31T00:00:00\",\"2024-11-01T00:00:00\",\"2024-11-04T00:00:00\",\"2024-11-05T00:00:00\",\"2024-11-06T00:00:00\",\"2024-11-07T00:00:00\",\"2024-11-08T00:00:00\",\"2024-11-11T00:00:00\",\"2024-11-12T00:00:00\",\"2024-11-13T00:00:00\",\"2024-11-14T00:00:00\",\"2024-11-18T00:00:00\",\"2024-11-19T00:00:00\",\"2024-11-21T00:00:00\",\"2024-11-22T00:00:00\",\"2024-11-25T00:00:00\",\"2024-11-26T00:00:00\",\"2024-11-27T00:00:00\",\"2024-11-28T00:00:00\",\"2024-11-29T00:00:00\",\"2024-12-02T00:00:00\",\"2024-12-03T00:00:00\",\"2024-12-04T00:00:00\",\"2024-12-05T00:00:00\",\"2024-12-06T00:00:00\",\"2024-12-09T00:00:00\",\"2024-12-10T00:00:00\",\"2024-12-11T00:00:00\",\"2024-12-12T00:00:00\",\"2024-12-13T00:00:00\",\"2024-12-16T00:00:00\",\"2024-12-17T00:00:00\",\"2024-12-18T00:00:00\",\"2024-12-19T00:00:00\",\"2024-12-20T00:00:00\",\"2024-12-23T00:00:00\",\"2024-12-24T00:00:00\",\"2024-12-26T00:00:00\",\"2024-12-27T00:00:00\",\"2024-12-30T00:00:00\",\"2024-12-31T00:00:00\",\"2025-01-01T00:00:00\",\"2025-01-02T00:00:00\",\"2025-01-03T00:00:00\",\"2025-01-06T00:00:00\",\"2025-01-07T00:00:00\",\"2025-01-08T00:00:00\",\"2025-01-09T00:00:00\",\"2025-01-10T00:00:00\",\"2025-01-13T00:00:00\",\"2025-01-14T00:00:00\",\"2025-01-15T00:00:00\",\"2025-01-16T00:00:00\",\"2025-01-17T00:00:00\",\"2025-01-20T00:00:00\",\"2025-01-21T00:00:00\",\"2025-01-22T00:00:00\",\"2025-01-23T00:00:00\",\"2025-01-24T00:00:00\",\"2025-01-27T00:00:00\",\"2025-01-28T00:00:00\",\"2025-01-29T00:00:00\",\"2025-01-30T00:00:00\",\"2025-01-31T00:00:00\",\"2025-02-01T00:00:00\",\"2025-02-03T00:00:00\",\"2025-02-04T00:00:00\",\"2025-02-05T00:00:00\",\"2025-02-06T00:00:00\",\"2025-02-07T00:00:00\",\"2025-02-10T00:00:00\",\"2025-02-11T00:00:00\",\"2025-02-12T00:00:00\",\"2025-02-13T00:00:00\",\"2025-02-14T00:00:00\",\"2025-02-17T00:00:00\",\"2025-02-18T00:00:00\",\"2025-02-19T00:00:00\",\"2025-02-20T00:00:00\",\"2025-02-21T00:00:00\",\"2025-02-24T00:00:00\",\"2025-02-25T00:00:00\",\"2025-02-27T00:00:00\",\"2025-02-28T00:00:00\",\"2025-03-03T00:00:00\",\"2025-03-04T00:00:00\",\"2025-03-05T00:00:00\",\"2025-03-06T00:00:00\",\"2025-03-07T00:00:00\",\"2025-03-10T00:00:00\",\"2025-03-11T00:00:00\",\"2025-03-12T00:00:00\",\"2025-03-13T00:00:00\",\"2025-03-17T00:00:00\",\"2025-03-18T00:00:00\",\"2025-03-19T00:00:00\",\"2025-03-20T00:00:00\",\"2025-03-21T00:00:00\",\"2025-03-24T00:00:00\",\"2025-03-25T00:00:00\",\"2025-03-26T00:00:00\",\"2025-03-27T00:00:00\",\"2025-03-28T00:00:00\",\"2025-04-01T00:00:00\",\"2025-04-02T00:00:00\",\"2025-04-03T00:00:00\",\"2025-04-04T00:00:00\",\"2025-04-07T00:00:00\",\"2025-04-08T00:00:00\",\"2025-04-09T00:00:00\",\"2025-04-11T00:00:00\",\"2025-04-15T00:00:00\",\"2025-04-16T00:00:00\",\"2025-04-17T00:00:00\",\"2025-04-21T00:00:00\",\"2025-04-22T00:00:00\",\"2025-04-23T00:00:00\",\"2025-04-24T00:00:00\",\"2025-04-25T00:00:00\",\"2025-04-28T00:00:00\",\"2025-04-29T00:00:00\",\"2025-04-30T00:00:00\",\"2025-05-02T00:00:00\",\"2025-05-05T00:00:00\",\"2025-05-06T00:00:00\",\"2025-05-07T00:00:00\",\"2025-05-08T00:00:00\",\"2025-05-09T00:00:00\",\"2025-05-12T00:00:00\",\"2025-05-13T00:00:00\",\"2025-05-14T00:00:00\",\"2025-05-15T00:00:00\",\"2025-05-16T00:00:00\",\"2025-05-19T00:00:00\",\"2025-05-20T00:00:00\",\"2025-05-21T00:00:00\",\"2025-05-22T00:00:00\",\"2025-05-23T00:00:00\"],\"y\":[-0.39323852133621146,0.06166202818587678,-0.9253465786094567,1.034854467670311,4.536885764202958,-9.46893639903596,7.571596843413442,-1.3313207178700757,0.7399503636409627,-0.4197538705664899,-0.3235632304429476,0.21582510417857045,1.537718649497598,-0.3256244752482713,0.36874552452668063,1.33725629466041,-0.02290765889140835,-0.045822984539010944,-2.4358676330305826,0.3449444513716683,0.15701095333847923,0.3232639322396703,-1.474228173720343,-0.5202979850296376,-1.9021186690302454,1.8059763458488656,-0.8729176839664892,-0.5978242864032521,0.26459986635342864,-0.26459986635343397,-0.580384047859216,0.26613797920372,0.33516414060976685,0.660045450388169,0.12802822137038664,0.7578925498383027,-1.692467653885944,-0.6337837861527941,-0.7191791083575969,-1.1780072450435684,-1.2645434705695728,1.7823000590680655,0.5398873325466655,1.2811629188867082,-0.1329765615896927,-0.558361724848593,-1.1012222273456957,-1.0631042518478173,-0.6100075816800902,-2.630232527844598,0.15970768724197182,0.18538434803803652,0.07775363717747052,-0.018508579113619403,-0.9298240998661573,1.9280862862844355,-1.2206327512767905,2.4699905639613102,0.19527371223022205,-0.15184757011506286,0.4800690869695172,-0.29210087351430736,-0.09394435427786584,2.3259805925676424,0.12000221694014807,0.5487788748375441,1.6560966066544742,-0.8559419947868732,-0.16021227190438989,-0.8049600601717042,-0.9568471858015457,1.3216284511811072,0.5203212673973614,-1.004653424747374,1.5465232901104928,1.4239817603918619,0.41918114331681916,-0.26221095420299795,0.9434689225821645,0.30354154840840836,-0.30692271201226745,-1.0253697932331334,-1.1532994322609629,-0.6094657468675357,0.9128029214625478,0.6860149243998918,-1.0377013686467085,-2.6530114684754347,-1.5693150569362904,-0.3537161312446239,-2.34125634024037,0.6419792683007671,-1.3328100259753293,1.1008450971969566,-0.6508934834945372,1.6813902996965617,-0.6992853906748654,-1.078613825234426,0.0779556959120327,-0.007420439908645647,-2.9375111561288842,-2.6254140733612834,-0.003917898286590216,0.4502131260386731,-20.61412087809207,1.2593252755184747,-1.591091529761428,1.7426618060725323,-0.07576220325695299,0.6515319297541262,0.1222827409366948,2.4421963530205977,-1.1486645657413599,-1.9537246668864878,-0.2842795301395485,0.6620661350655757,-0.11790507107199749,-2.1801791520912124,-1.903792142911304,-1.2415194786709502,-0.43894358242783915,-1.892418876778466,1.6922586842943326,0.5295498971840407,0.6060299368639513,-0.7606075221605618,-0.8368705775531634,0.22619327095795985,-0.4932528028604272,0.74398004896235,0.050070100407566785,-0.06509235180174597,-0.7895277913233374,-0.785629646316105,0.1728621345269159,0.05586042886510605,1.3213866566035208,-1.1387795728278365,1.2789651850773747,-2.4001102646219192,-1.0768594166360472,-0.08291747757263501,-3.6913145135542123,1.7332380442638171,-1.105808654035385,-0.3588142112856294,2.2755390101902453,1.0537919476330326,-0.3482940170957227,0.9587800912526127,2.239027736149438,0.658546939822209,-2.8305491378914756,1.3871681544116448,-0.25958712976204096,-0.01528717635671493,-4.514714967586198,0.4363372694918939,2.143160451263542,0.03637594525200152,1.33142264659297,-0.4521369677978714,-0.02575129382103408,-1.0615535951053015,1.0873048889263293,0.0,-2.0971263584540387,-2.59436317427842,0.8276960136342422,1.50338439762379,0.9184728920126447,3.506071869307286,1.8195055462529661,0.3263924299316219,3.3452168007105607,1.3328085852112928,0.4090846336269472,1.263619415754701,-1.0339597225080428,-1.30529623941869,-1.385063661088713,0.7283539312078061,-2.206058166922599,2.3015007892953885,-2.3307952809010186,1.1359967888423395,1.1375461808475311,-0.37295867736954064,-1.408675463750586,0.4943283813961451,1.196578486972687,-5.55916667409577,-0.6180026418036814,0.3651835698172701,-1.6076286307575516,-0.015431903490598437,-3.6630689734147883,-3.946627305778599,-31.686557947927383,4.289621881857169,-1.8201801996968252,0.7482974466166566,0.0,2.233504622644464,-1.249295257185633,0.4084686683122336,-2.5732258784411144,-4.96083717122273,2.824500115171473,2.7469086603860187,-3.5820684562323373,4.931401284592387,2.851869937069927,0.9845335079153453,-3.9389918911145467,-0.8984485616333946,0.5532823475650289,-0.1619845165276085,1.6008546695854189,6.512757587498432,6.872102531682931,0.8149401881516222,4.128998554401169,-5.039131515090981,0.8471963367586074,3.166408165738346,0.31666497743550204,0.9922051740445837,0.7676228894208316,0.17309965528369636,2.1300610510447795,-1.1390461499170441,-1.7813479064510171,0.2401538173086624,-0.843073776303306,-1.0455992628752904,-3.697441401157838,-2.3612061560346627,1.4502816770562899,-0.10884216578224631,-0.03844272369024739,0.49224655392561173,-0.22983957088489657,-1.5848789020252982,1.9358124253669875,1.0643821069263313],\"type\":\"scatter\",\"xaxis\":\"x2\",\"yaxis\":\"y2\"}],                        {\"template\":{\"data\":{\"histogram2dcontour\":[{\"type\":\"histogram2dcontour\",\"colorbar\":{\"outlinewidth\":0,\"ticks\":\"\"},\"colorscale\":[[0.0,\"#0d0887\"],[0.1111111111111111,\"#46039f\"],[0.2222222222222222,\"#7201a8\"],[0.3333333333333333,\"#9c179e\"],[0.4444444444444444,\"#bd3786\"],[0.5555555555555556,\"#d8576b\"],[0.6666666666666666,\"#ed7953\"],[0.7777777777777778,\"#fb9f3a\"],[0.8888888888888888,\"#fdca26\"],[1.0,\"#f0f921\"]]}],\"choropleth\":[{\"type\":\"choropleth\",\"colorbar\":{\"outlinewidth\":0,\"ticks\":\"\"}}],\"histogram2d\":[{\"type\":\"histogram2d\",\"colorbar\":{\"outlinewidth\":0,\"ticks\":\"\"},\"colorscale\":[[0.0,\"#0d0887\"],[0.1111111111111111,\"#46039f\"],[0.2222222222222222,\"#7201a8\"],[0.3333333333333333,\"#9c179e\"],[0.4444444444444444,\"#bd3786\"],[0.5555555555555556,\"#d8576b\"],[0.6666666666666666,\"#ed7953\"],[0.7777777777777778,\"#fb9f3a\"],[0.8888888888888888,\"#fdca26\"],[1.0,\"#f0f921\"]]}],\"heatmap\":[{\"type\":\"heatmap\",\"colorbar\":{\"outlinewidth\":0,\"ticks\":\"\"},\"colorscale\":[[0.0,\"#0d0887\"],[0.1111111111111111,\"#46039f\"],[0.2222222222222222,\"#7201a8\"],[0.3333333333333333,\"#9c179e\"],[0.4444444444444444,\"#bd3786\"],[0.5555555555555556,\"#d8576b\"],[0.6666666666666666,\"#ed7953\"],[0.7777777777777778,\"#fb9f3a\"],[0.8888888888888888,\"#fdca26\"],[1.0,\"#f0f921\"]]}],\"heatmapgl\":[{\"type\":\"heatmapgl\",\"colorbar\":{\"outlinewidth\":0,\"ticks\":\"\"},\"colorscale\":[[0.0,\"#0d0887\"],[0.1111111111111111,\"#46039f\"],[0.2222222222222222,\"#7201a8\"],[0.3333333333333333,\"#9c179e\"],[0.4444444444444444,\"#bd3786\"],[0.5555555555555556,\"#d8576b\"],[0.6666666666666666,\"#ed7953\"],[0.7777777777777778,\"#fb9f3a\"],[0.8888888888888888,\"#fdca26\"],[1.0,\"#f0f921\"]]}],\"contourcarpet\":[{\"type\":\"contourcarpet\",\"colorbar\":{\"outlinewidth\":0,\"ticks\":\"\"}}],\"contour\":[{\"type\":\"contour\",\"colorbar\":{\"outlinewidth\":0,\"ticks\":\"\"},\"colorscale\":[[0.0,\"#0d0887\"],[0.1111111111111111,\"#46039f\"],[0.2222222222222222,\"#7201a8\"],[0.3333333333333333,\"#9c179e\"],[0.4444444444444444,\"#bd3786\"],[0.5555555555555556,\"#d8576b\"],[0.6666666666666666,\"#ed7953\"],[0.7777777777777778,\"#fb9f3a\"],[0.8888888888888888,\"#fdca26\"],[1.0,\"#f0f921\"]]}],\"surface\":[{\"type\":\"surface\",\"colorbar\":{\"outlinewidth\":0,\"ticks\":\"\"},\"colorscale\":[[0.0,\"#0d0887\"],[0.1111111111111111,\"#46039f\"],[0.2222222222222222,\"#7201a8\"],[0.3333333333333333,\"#9c179e\"],[0.4444444444444444,\"#bd3786\"],[0.5555555555555556,\"#d8576b\"],[0.6666666666666666,\"#ed7953\"],[0.7777777777777778,\"#fb9f3a\"],[0.8888888888888888,\"#fdca26\"],[1.0,\"#f0f921\"]]}],\"mesh3d\":[{\"type\":\"mesh3d\",\"colorbar\":{\"outlinewidth\":0,\"ticks\":\"\"}}],\"scatter\":[{\"fillpattern\":{\"fillmode\":\"overlay\",\"size\":10,\"solidity\":0.2},\"type\":\"scatter\"}],\"parcoords\":[{\"type\":\"parcoords\",\"line\":{\"colorbar\":{\"outlinewidth\":0,\"ticks\":\"\"}}}],\"scatterpolargl\":[{\"type\":\"scatterpolargl\",\"marker\":{\"colorbar\":{\"outlinewidth\":0,\"ticks\":\"\"}}}],\"bar\":[{\"error_x\":{\"color\":\"#2a3f5f\"},\"error_y\":{\"color\":\"#2a3f5f\"},\"marker\":{\"line\":{\"color\":\"#E5ECF6\",\"width\":0.5},\"pattern\":{\"fillmode\":\"overlay\",\"size\":10,\"solidity\":0.2}},\"type\":\"bar\"}],\"scattergeo\":[{\"type\":\"scattergeo\",\"marker\":{\"colorbar\":{\"outlinewidth\":0,\"ticks\":\"\"}}}],\"scatterpolar\":[{\"type\":\"scatterpolar\",\"marker\":{\"colorbar\":{\"outlinewidth\":0,\"ticks\":\"\"}}}],\"histogram\":[{\"marker\":{\"pattern\":{\"fillmode\":\"overlay\",\"size\":10,\"solidity\":0.2}},\"type\":\"histogram\"}],\"scattergl\":[{\"type\":\"scattergl\",\"marker\":{\"colorbar\":{\"outlinewidth\":0,\"ticks\":\"\"}}}],\"scatter3d\":[{\"type\":\"scatter3d\",\"line\":{\"colorbar\":{\"outlinewidth\":0,\"ticks\":\"\"}},\"marker\":{\"colorbar\":{\"outlinewidth\":0,\"ticks\":\"\"}}}],\"scattermapbox\":[{\"type\":\"scattermapbox\",\"marker\":{\"colorbar\":{\"outlinewidth\":0,\"ticks\":\"\"}}}],\"scatterternary\":[{\"type\":\"scatterternary\",\"marker\":{\"colorbar\":{\"outlinewidth\":0,\"ticks\":\"\"}}}],\"scattercarpet\":[{\"type\":\"scattercarpet\",\"marker\":{\"colorbar\":{\"outlinewidth\":0,\"ticks\":\"\"}}}],\"carpet\":[{\"aaxis\":{\"endlinecolor\":\"#2a3f5f\",\"gridcolor\":\"white\",\"linecolor\":\"white\",\"minorgridcolor\":\"white\",\"startlinecolor\":\"#2a3f5f\"},\"baxis\":{\"endlinecolor\":\"#2a3f5f\",\"gridcolor\":\"white\",\"linecolor\":\"white\",\"minorgridcolor\":\"white\",\"startlinecolor\":\"#2a3f5f\"},\"type\":\"carpet\"}],\"table\":[{\"cells\":{\"fill\":{\"color\":\"#EBF0F8\"},\"line\":{\"color\":\"white\"}},\"header\":{\"fill\":{\"color\":\"#C8D4E3\"},\"line\":{\"color\":\"white\"}},\"type\":\"table\"}],\"barpolar\":[{\"marker\":{\"line\":{\"color\":\"#E5ECF6\",\"width\":0.5},\"pattern\":{\"fillmode\":\"overlay\",\"size\":10,\"solidity\":0.2}},\"type\":\"barpolar\"}],\"pie\":[{\"automargin\":true,\"type\":\"pie\"}]},\"layout\":{\"autotypenumbers\":\"strict\",\"colorway\":[\"#636efa\",\"#EF553B\",\"#00cc96\",\"#ab63fa\",\"#FFA15A\",\"#19d3f3\",\"#FF6692\",\"#B6E880\",\"#FF97FF\",\"#FECB52\"],\"font\":{\"color\":\"#2a3f5f\"},\"hovermode\":\"closest\",\"hoverlabel\":{\"align\":\"left\"},\"paper_bgcolor\":\"white\",\"plot_bgcolor\":\"#E5ECF6\",\"polar\":{\"bgcolor\":\"#E5ECF6\",\"angularaxis\":{\"gridcolor\":\"white\",\"linecolor\":\"white\",\"ticks\":\"\"},\"radialaxis\":{\"gridcolor\":\"white\",\"linecolor\":\"white\",\"ticks\":\"\"}},\"ternary\":{\"bgcolor\":\"#E5ECF6\",\"aaxis\":{\"gridcolor\":\"white\",\"linecolor\":\"white\",\"ticks\":\"\"},\"baxis\":{\"gridcolor\":\"white\",\"linecolor\":\"white\",\"ticks\":\"\"},\"caxis\":{\"gridcolor\":\"white\",\"linecolor\":\"white\",\"ticks\":\"\"}},\"coloraxis\":{\"colorbar\":{\"outlinewidth\":0,\"ticks\":\"\"}},\"colorscale\":{\"sequential\":[[0.0,\"#0d0887\"],[0.1111111111111111,\"#46039f\"],[0.2222222222222222,\"#7201a8\"],[0.3333333333333333,\"#9c179e\"],[0.4444444444444444,\"#bd3786\"],[0.5555555555555556,\"#d8576b\"],[0.6666666666666666,\"#ed7953\"],[0.7777777777777778,\"#fb9f3a\"],[0.8888888888888888,\"#fdca26\"],[1.0,\"#f0f921\"]],\"sequentialminus\":[[0.0,\"#0d0887\"],[0.1111111111111111,\"#46039f\"],[0.2222222222222222,\"#7201a8\"],[0.3333333333333333,\"#9c179e\"],[0.4444444444444444,\"#bd3786\"],[0.5555555555555556,\"#d8576b\"],[0.6666666666666666,\"#ed7953\"],[0.7777777777777778,\"#fb9f3a\"],[0.8888888888888888,\"#fdca26\"],[1.0,\"#f0f921\"]],\"diverging\":[[0,\"#8e0152\"],[0.1,\"#c51b7d\"],[0.2,\"#de77ae\"],[0.3,\"#f1b6da\"],[0.4,\"#fde0ef\"],[0.5,\"#f7f7f7\"],[0.6,\"#e6f5d0\"],[0.7,\"#b8e186\"],[0.8,\"#7fbc41\"],[0.9,\"#4d9221\"],[1,\"#276419\"]]},\"xaxis\":{\"gridcolor\":\"white\",\"linecolor\":\"white\",\"ticks\":\"\",\"title\":{\"standoff\":15},\"zerolinecolor\":\"white\",\"automargin\":true,\"zerolinewidth\":2},\"yaxis\":{\"gridcolor\":\"white\",\"linecolor\":\"white\",\"ticks\":\"\",\"title\":{\"standoff\":15},\"zerolinecolor\":\"white\",\"automargin\":true,\"zerolinewidth\":2},\"scene\":{\"xaxis\":{\"backgroundcolor\":\"#E5ECF6\",\"gridcolor\":\"white\",\"linecolor\":\"white\",\"showbackground\":true,\"ticks\":\"\",\"zerolinecolor\":\"white\",\"gridwidth\":2},\"yaxis\":{\"backgroundcolor\":\"#E5ECF6\",\"gridcolor\":\"white\",\"linecolor\":\"white\",\"showbackground\":true,\"ticks\":\"\",\"zerolinecolor\":\"white\",\"gridwidth\":2},\"zaxis\":{\"backgroundcolor\":\"#E5ECF6\",\"gridcolor\":\"white\",\"linecolor\":\"white\",\"showbackground\":true,\"ticks\":\"\",\"zerolinecolor\":\"white\",\"gridwidth\":2}},\"shapedefaults\":{\"line\":{\"color\":\"#2a3f5f\"}},\"annotationdefaults\":{\"arrowcolor\":\"#2a3f5f\",\"arrowhead\":0,\"arrowwidth\":1},\"geo\":{\"bgcolor\":\"white\",\"landcolor\":\"#E5ECF6\",\"subunitcolor\":\"white\",\"showland\":true,\"showlakes\":true,\"lakecolor\":\"white\"},\"title\":{\"x\":0.05},\"mapbox\":{\"style\":\"light\"}}},\"xaxis\":{\"anchor\":\"y\",\"domain\":[0.0,0.45],\"title\":{\"text\":\"Date\"}},\"yaxis\":{\"anchor\":\"x\",\"domain\":[0.0,1.0],\"title\":{\"text\":\"simple_returns (%)\"}},\"xaxis2\":{\"anchor\":\"y2\",\"domain\":[0.55,1.0],\"title\":{\"text\":\"Date\"}},\"yaxis2\":{\"anchor\":\"x2\",\"domain\":[0.0,1.0],\"title\":{\"text\":\"log_returns (%)\"}},\"annotations\":[{\"font\":{\"size\":16},\"showarrow\":false,\"text\":\"simple_returns\",\"x\":0.225,\"xanchor\":\"center\",\"xref\":\"paper\",\"y\":1.0,\"yanchor\":\"bottom\",\"yref\":\"paper\"},{\"font\":{\"size\":16},\"showarrow\":false,\"text\":\"log_returns\",\"x\":0.775,\"xanchor\":\"center\",\"xref\":\"paper\",\"y\":1.0,\"yanchor\":\"bottom\",\"yref\":\"paper\"}],\"title\":{\"text\":\"simple_returns vs log_returns\"},\"width\":1000,\"height\":400,\"showlegend\":false},                        {\"responsive\": true}                    ).then(function(){\n",
              "                            \n",
              "var gd = document.getElementById('b5990a35-ddc3-4a87-91b0-fbfdc55d2746');\n",
              "var x = new MutationObserver(function (mutations, observer) {{\n",
              "        var display = window.getComputedStyle(gd).display;\n",
              "        if (!display || display === 'none') {{\n",
              "            console.log([gd, 'removed!']);\n",
              "            Plotly.purge(gd);\n",
              "            observer.disconnect();\n",
              "        }}\n",
              "}});\n",
              "\n",
              "// Listen for the removal of the full notebook cells\n",
              "var notebookContainer = gd.closest('#notebook-container');\n",
              "if (notebookContainer) {{\n",
              "    x.observe(notebookContainer, {childList: true});\n",
              "}}\n",
              "\n",
              "// Listen for the clearing of the current output cell\n",
              "var outputEl = gd.closest('.output');\n",
              "if (outputEl) {{\n",
              "    x.observe(outputEl, {childList: true});\n",
              "}}\n",
              "\n",
              "                        })                };                            </script>        </div>\n",
              "</body>\n",
              "</html>"
            ]
          },
          "metadata": {}
        }
      ]
    },
    {
      "cell_type": "markdown",
      "source": [
        "# Why do they look similar? When might they differ significantly?"
      ],
      "metadata": {
        "id": "4q4Qv-TSpEfx"
      }
    },
    {
      "cell_type": "markdown",
      "source": [
        "simple and log graphs, both look similar because log is a monotonic function(strictly increasing (or) strictly decreasing), so, order is preserved due to this.\n",
        "\n",
        "They might differ when rate of growth is not multiplicative(i.e a*b<c*d but log(a*b)!<log(c*d)) or when the data has large jumps, the log graph disturbs the shape more by changing it propotionally."
      ],
      "metadata": {
        "id": "RFTv5KyTqScr"
      }
    },
    {
      "cell_type": "markdown",
      "source": [
        "# 2. Volatility Estimation"
      ],
      "metadata": {
        "id": "WPsKAi-cpC6V"
      }
    },
    {
      "cell_type": "code",
      "source": [
        "stock"
      ],
      "metadata": {
        "colab": {
          "base_uri": "https://localhost:8080/",
          "height": 486
        },
        "id": "3lCHDztqFfgn",
        "outputId": "f65c42eb-c4b5-4d97-db1a-6c7cae0e5bef"
      },
      "execution_count": 16,
      "outputs": [
        {
          "output_type": "execute_result",
          "data": {
            "text/plain": [
              "Ticker     INDUSINDBK.NS                                                 \n",
              "Price               Open         High          Low        Close    Volume\n",
              "Date                                                                     \n",
              "2024-05-27   1431.952709  1459.398017  1423.496660  1449.013306   3253683\n",
              "2024-05-28   1456.628808  1462.562929  1433.188960  1443.326416   2381333\n",
              "2024-05-29   1437.046279  1455.491529  1423.447252  1444.216675   4383563\n",
              "2024-05-30   1441.991283  1461.474931  1423.348279  1430.914307   3415942\n",
              "2024-05-31   1440.013329  1453.760733  1430.667137  1445.799072   3546505\n",
              "...                  ...          ...          ...          ...       ...\n",
              "2025-05-19    779.900024   791.950012   770.299988   784.049988   7193105\n",
              "2025-05-20    785.000000   799.700012   780.049988   782.250000   6637953\n",
              "2025-05-21    783.000000   786.700012   761.000000   769.950012   8134620\n",
              "2025-05-22    750.000000   796.700012   725.799988   785.000000  43477564\n",
              "2025-05-23    781.099976   799.200012   777.299988   793.400024   9260373\n",
              "\n",
              "[247 rows x 5 columns]"
            ],
            "text/html": [
              "\n",
              "  <div id=\"df-ca1a19f1-50ee-47d8-b715-91e560d636d3\" class=\"colab-df-container\">\n",
              "    <div>\n",
              "<style scoped>\n",
              "    .dataframe tbody tr th:only-of-type {\n",
              "        vertical-align: middle;\n",
              "    }\n",
              "\n",
              "    .dataframe tbody tr th {\n",
              "        vertical-align: top;\n",
              "    }\n",
              "\n",
              "    .dataframe thead tr th {\n",
              "        text-align: left;\n",
              "    }\n",
              "\n",
              "    .dataframe thead tr:last-of-type th {\n",
              "        text-align: right;\n",
              "    }\n",
              "</style>\n",
              "<table border=\"1\" class=\"dataframe\">\n",
              "  <thead>\n",
              "    <tr>\n",
              "      <th>Ticker</th>\n",
              "      <th colspan=\"5\" halign=\"left\">INDUSINDBK.NS</th>\n",
              "    </tr>\n",
              "    <tr>\n",
              "      <th>Price</th>\n",
              "      <th>Open</th>\n",
              "      <th>High</th>\n",
              "      <th>Low</th>\n",
              "      <th>Close</th>\n",
              "      <th>Volume</th>\n",
              "    </tr>\n",
              "    <tr>\n",
              "      <th>Date</th>\n",
              "      <th></th>\n",
              "      <th></th>\n",
              "      <th></th>\n",
              "      <th></th>\n",
              "      <th></th>\n",
              "    </tr>\n",
              "  </thead>\n",
              "  <tbody>\n",
              "    <tr>\n",
              "      <th>2024-05-27</th>\n",
              "      <td>1431.952709</td>\n",
              "      <td>1459.398017</td>\n",
              "      <td>1423.496660</td>\n",
              "      <td>1449.013306</td>\n",
              "      <td>3253683</td>\n",
              "    </tr>\n",
              "    <tr>\n",
              "      <th>2024-05-28</th>\n",
              "      <td>1456.628808</td>\n",
              "      <td>1462.562929</td>\n",
              "      <td>1433.188960</td>\n",
              "      <td>1443.326416</td>\n",
              "      <td>2381333</td>\n",
              "    </tr>\n",
              "    <tr>\n",
              "      <th>2024-05-29</th>\n",
              "      <td>1437.046279</td>\n",
              "      <td>1455.491529</td>\n",
              "      <td>1423.447252</td>\n",
              "      <td>1444.216675</td>\n",
              "      <td>4383563</td>\n",
              "    </tr>\n",
              "    <tr>\n",
              "      <th>2024-05-30</th>\n",
              "      <td>1441.991283</td>\n",
              "      <td>1461.474931</td>\n",
              "      <td>1423.348279</td>\n",
              "      <td>1430.914307</td>\n",
              "      <td>3415942</td>\n",
              "    </tr>\n",
              "    <tr>\n",
              "      <th>2024-05-31</th>\n",
              "      <td>1440.013329</td>\n",
              "      <td>1453.760733</td>\n",
              "      <td>1430.667137</td>\n",
              "      <td>1445.799072</td>\n",
              "      <td>3546505</td>\n",
              "    </tr>\n",
              "    <tr>\n",
              "      <th>...</th>\n",
              "      <td>...</td>\n",
              "      <td>...</td>\n",
              "      <td>...</td>\n",
              "      <td>...</td>\n",
              "      <td>...</td>\n",
              "    </tr>\n",
              "    <tr>\n",
              "      <th>2025-05-19</th>\n",
              "      <td>779.900024</td>\n",
              "      <td>791.950012</td>\n",
              "      <td>770.299988</td>\n",
              "      <td>784.049988</td>\n",
              "      <td>7193105</td>\n",
              "    </tr>\n",
              "    <tr>\n",
              "      <th>2025-05-20</th>\n",
              "      <td>785.000000</td>\n",
              "      <td>799.700012</td>\n",
              "      <td>780.049988</td>\n",
              "      <td>782.250000</td>\n",
              "      <td>6637953</td>\n",
              "    </tr>\n",
              "    <tr>\n",
              "      <th>2025-05-21</th>\n",
              "      <td>783.000000</td>\n",
              "      <td>786.700012</td>\n",
              "      <td>761.000000</td>\n",
              "      <td>769.950012</td>\n",
              "      <td>8134620</td>\n",
              "    </tr>\n",
              "    <tr>\n",
              "      <th>2025-05-22</th>\n",
              "      <td>750.000000</td>\n",
              "      <td>796.700012</td>\n",
              "      <td>725.799988</td>\n",
              "      <td>785.000000</td>\n",
              "      <td>43477564</td>\n",
              "    </tr>\n",
              "    <tr>\n",
              "      <th>2025-05-23</th>\n",
              "      <td>781.099976</td>\n",
              "      <td>799.200012</td>\n",
              "      <td>777.299988</td>\n",
              "      <td>793.400024</td>\n",
              "      <td>9260373</td>\n",
              "    </tr>\n",
              "  </tbody>\n",
              "</table>\n",
              "<p>247 rows × 5 columns</p>\n",
              "</div>\n",
              "    <div class=\"colab-df-buttons\">\n",
              "\n",
              "  <div class=\"colab-df-container\">\n",
              "    <button class=\"colab-df-convert\" onclick=\"convertToInteractive('df-ca1a19f1-50ee-47d8-b715-91e560d636d3')\"\n",
              "            title=\"Convert this dataframe to an interactive table.\"\n",
              "            style=\"display:none;\">\n",
              "\n",
              "  <svg xmlns=\"http://www.w3.org/2000/svg\" height=\"24px\" viewBox=\"0 -960 960 960\">\n",
              "    <path d=\"M120-120v-720h720v720H120Zm60-500h600v-160H180v160Zm220 220h160v-160H400v160Zm0 220h160v-160H400v160ZM180-400h160v-160H180v160Zm440 0h160v-160H620v160ZM180-180h160v-160H180v160Zm440 0h160v-160H620v160Z\"/>\n",
              "  </svg>\n",
              "    </button>\n",
              "\n",
              "  <style>\n",
              "    .colab-df-container {\n",
              "      display:flex;\n",
              "      gap: 12px;\n",
              "    }\n",
              "\n",
              "    .colab-df-convert {\n",
              "      background-color: #E8F0FE;\n",
              "      border: none;\n",
              "      border-radius: 50%;\n",
              "      cursor: pointer;\n",
              "      display: none;\n",
              "      fill: #1967D2;\n",
              "      height: 32px;\n",
              "      padding: 0 0 0 0;\n",
              "      width: 32px;\n",
              "    }\n",
              "\n",
              "    .colab-df-convert:hover {\n",
              "      background-color: #E2EBFA;\n",
              "      box-shadow: 0px 1px 2px rgba(60, 64, 67, 0.3), 0px 1px 3px 1px rgba(60, 64, 67, 0.15);\n",
              "      fill: #174EA6;\n",
              "    }\n",
              "\n",
              "    .colab-df-buttons div {\n",
              "      margin-bottom: 4px;\n",
              "    }\n",
              "\n",
              "    [theme=dark] .colab-df-convert {\n",
              "      background-color: #3B4455;\n",
              "      fill: #D2E3FC;\n",
              "    }\n",
              "\n",
              "    [theme=dark] .colab-df-convert:hover {\n",
              "      background-color: #434B5C;\n",
              "      box-shadow: 0px 1px 3px 1px rgba(0, 0, 0, 0.15);\n",
              "      filter: drop-shadow(0px 1px 2px rgba(0, 0, 0, 0.3));\n",
              "      fill: #FFFFFF;\n",
              "    }\n",
              "  </style>\n",
              "\n",
              "    <script>\n",
              "      const buttonEl =\n",
              "        document.querySelector('#df-ca1a19f1-50ee-47d8-b715-91e560d636d3 button.colab-df-convert');\n",
              "      buttonEl.style.display =\n",
              "        google.colab.kernel.accessAllowed ? 'block' : 'none';\n",
              "\n",
              "      async function convertToInteractive(key) {\n",
              "        const element = document.querySelector('#df-ca1a19f1-50ee-47d8-b715-91e560d636d3');\n",
              "        const dataTable =\n",
              "          await google.colab.kernel.invokeFunction('convertToInteractive',\n",
              "                                                    [key], {});\n",
              "        if (!dataTable) return;\n",
              "\n",
              "        const docLinkHtml = 'Like what you see? Visit the ' +\n",
              "          '<a target=\"_blank\" href=https://colab.research.google.com/notebooks/data_table.ipynb>data table notebook</a>'\n",
              "          + ' to learn more about interactive tables.';\n",
              "        element.innerHTML = '';\n",
              "        dataTable['output_type'] = 'display_data';\n",
              "        await google.colab.output.renderOutput(dataTable, element);\n",
              "        const docLink = document.createElement('div');\n",
              "        docLink.innerHTML = docLinkHtml;\n",
              "        element.appendChild(docLink);\n",
              "      }\n",
              "    </script>\n",
              "  </div>\n",
              "\n",
              "\n",
              "    <div id=\"df-929a6ff9-5d24-4335-9de9-a4e61c235b52\">\n",
              "      <button class=\"colab-df-quickchart\" onclick=\"quickchart('df-929a6ff9-5d24-4335-9de9-a4e61c235b52')\"\n",
              "                title=\"Suggest charts\"\n",
              "                style=\"display:none;\">\n",
              "\n",
              "<svg xmlns=\"http://www.w3.org/2000/svg\" height=\"24px\"viewBox=\"0 0 24 24\"\n",
              "     width=\"24px\">\n",
              "    <g>\n",
              "        <path d=\"M19 3H5c-1.1 0-2 .9-2 2v14c0 1.1.9 2 2 2h14c1.1 0 2-.9 2-2V5c0-1.1-.9-2-2-2zM9 17H7v-7h2v7zm4 0h-2V7h2v10zm4 0h-2v-4h2v4z\"/>\n",
              "    </g>\n",
              "</svg>\n",
              "      </button>\n",
              "\n",
              "<style>\n",
              "  .colab-df-quickchart {\n",
              "      --bg-color: #E8F0FE;\n",
              "      --fill-color: #1967D2;\n",
              "      --hover-bg-color: #E2EBFA;\n",
              "      --hover-fill-color: #174EA6;\n",
              "      --disabled-fill-color: #AAA;\n",
              "      --disabled-bg-color: #DDD;\n",
              "  }\n",
              "\n",
              "  [theme=dark] .colab-df-quickchart {\n",
              "      --bg-color: #3B4455;\n",
              "      --fill-color: #D2E3FC;\n",
              "      --hover-bg-color: #434B5C;\n",
              "      --hover-fill-color: #FFFFFF;\n",
              "      --disabled-bg-color: #3B4455;\n",
              "      --disabled-fill-color: #666;\n",
              "  }\n",
              "\n",
              "  .colab-df-quickchart {\n",
              "    background-color: var(--bg-color);\n",
              "    border: none;\n",
              "    border-radius: 50%;\n",
              "    cursor: pointer;\n",
              "    display: none;\n",
              "    fill: var(--fill-color);\n",
              "    height: 32px;\n",
              "    padding: 0;\n",
              "    width: 32px;\n",
              "  }\n",
              "\n",
              "  .colab-df-quickchart:hover {\n",
              "    background-color: var(--hover-bg-color);\n",
              "    box-shadow: 0 1px 2px rgba(60, 64, 67, 0.3), 0 1px 3px 1px rgba(60, 64, 67, 0.15);\n",
              "    fill: var(--button-hover-fill-color);\n",
              "  }\n",
              "\n",
              "  .colab-df-quickchart-complete:disabled,\n",
              "  .colab-df-quickchart-complete:disabled:hover {\n",
              "    background-color: var(--disabled-bg-color);\n",
              "    fill: var(--disabled-fill-color);\n",
              "    box-shadow: none;\n",
              "  }\n",
              "\n",
              "  .colab-df-spinner {\n",
              "    border: 2px solid var(--fill-color);\n",
              "    border-color: transparent;\n",
              "    border-bottom-color: var(--fill-color);\n",
              "    animation:\n",
              "      spin 1s steps(1) infinite;\n",
              "  }\n",
              "\n",
              "  @keyframes spin {\n",
              "    0% {\n",
              "      border-color: transparent;\n",
              "      border-bottom-color: var(--fill-color);\n",
              "      border-left-color: var(--fill-color);\n",
              "    }\n",
              "    20% {\n",
              "      border-color: transparent;\n",
              "      border-left-color: var(--fill-color);\n",
              "      border-top-color: var(--fill-color);\n",
              "    }\n",
              "    30% {\n",
              "      border-color: transparent;\n",
              "      border-left-color: var(--fill-color);\n",
              "      border-top-color: var(--fill-color);\n",
              "      border-right-color: var(--fill-color);\n",
              "    }\n",
              "    40% {\n",
              "      border-color: transparent;\n",
              "      border-right-color: var(--fill-color);\n",
              "      border-top-color: var(--fill-color);\n",
              "    }\n",
              "    60% {\n",
              "      border-color: transparent;\n",
              "      border-right-color: var(--fill-color);\n",
              "    }\n",
              "    80% {\n",
              "      border-color: transparent;\n",
              "      border-right-color: var(--fill-color);\n",
              "      border-bottom-color: var(--fill-color);\n",
              "    }\n",
              "    90% {\n",
              "      border-color: transparent;\n",
              "      border-bottom-color: var(--fill-color);\n",
              "    }\n",
              "  }\n",
              "</style>\n",
              "\n",
              "      <script>\n",
              "        async function quickchart(key) {\n",
              "          const quickchartButtonEl =\n",
              "            document.querySelector('#' + key + ' button');\n",
              "          quickchartButtonEl.disabled = true;  // To prevent multiple clicks.\n",
              "          quickchartButtonEl.classList.add('colab-df-spinner');\n",
              "          try {\n",
              "            const charts = await google.colab.kernel.invokeFunction(\n",
              "                'suggestCharts', [key], {});\n",
              "          } catch (error) {\n",
              "            console.error('Error during call to suggestCharts:', error);\n",
              "          }\n",
              "          quickchartButtonEl.classList.remove('colab-df-spinner');\n",
              "          quickchartButtonEl.classList.add('colab-df-quickchart-complete');\n",
              "        }\n",
              "        (() => {\n",
              "          let quickchartButtonEl =\n",
              "            document.querySelector('#df-929a6ff9-5d24-4335-9de9-a4e61c235b52 button');\n",
              "          quickchartButtonEl.style.display =\n",
              "            google.colab.kernel.accessAllowed ? 'block' : 'none';\n",
              "        })();\n",
              "      </script>\n",
              "    </div>\n",
              "\n",
              "  <div id=\"id_99c842d4-7a80-4e00-a6ac-afc5376d4aad\">\n",
              "    <style>\n",
              "      .colab-df-generate {\n",
              "        background-color: #E8F0FE;\n",
              "        border: none;\n",
              "        border-radius: 50%;\n",
              "        cursor: pointer;\n",
              "        display: none;\n",
              "        fill: #1967D2;\n",
              "        height: 32px;\n",
              "        padding: 0 0 0 0;\n",
              "        width: 32px;\n",
              "      }\n",
              "\n",
              "      .colab-df-generate:hover {\n",
              "        background-color: #E2EBFA;\n",
              "        box-shadow: 0px 1px 2px rgba(60, 64, 67, 0.3), 0px 1px 3px 1px rgba(60, 64, 67, 0.15);\n",
              "        fill: #174EA6;\n",
              "      }\n",
              "\n",
              "      [theme=dark] .colab-df-generate {\n",
              "        background-color: #3B4455;\n",
              "        fill: #D2E3FC;\n",
              "      }\n",
              "\n",
              "      [theme=dark] .colab-df-generate:hover {\n",
              "        background-color: #434B5C;\n",
              "        box-shadow: 0px 1px 3px 1px rgba(0, 0, 0, 0.15);\n",
              "        filter: drop-shadow(0px 1px 2px rgba(0, 0, 0, 0.3));\n",
              "        fill: #FFFFFF;\n",
              "      }\n",
              "    </style>\n",
              "    <button class=\"colab-df-generate\" onclick=\"generateWithVariable('stock')\"\n",
              "            title=\"Generate code using this dataframe.\"\n",
              "            style=\"display:none;\">\n",
              "\n",
              "  <svg xmlns=\"http://www.w3.org/2000/svg\" height=\"24px\"viewBox=\"0 0 24 24\"\n",
              "       width=\"24px\">\n",
              "    <path d=\"M7,19H8.4L18.45,9,17,7.55,7,17.6ZM5,21V16.75L18.45,3.32a2,2,0,0,1,2.83,0l1.4,1.43a1.91,1.91,0,0,1,.58,1.4,1.91,1.91,0,0,1-.58,1.4L9.25,21ZM18.45,9,17,7.55Zm-12,3A5.31,5.31,0,0,0,4.9,8.1,5.31,5.31,0,0,0,1,6.5,5.31,5.31,0,0,0,4.9,4.9,5.31,5.31,0,0,0,6.5,1,5.31,5.31,0,0,0,8.1,4.9,5.31,5.31,0,0,0,12,6.5,5.46,5.46,0,0,0,6.5,12Z\"/>\n",
              "  </svg>\n",
              "    </button>\n",
              "    <script>\n",
              "      (() => {\n",
              "      const buttonEl =\n",
              "        document.querySelector('#id_99c842d4-7a80-4e00-a6ac-afc5376d4aad button.colab-df-generate');\n",
              "      buttonEl.style.display =\n",
              "        google.colab.kernel.accessAllowed ? 'block' : 'none';\n",
              "\n",
              "      buttonEl.onclick = () => {\n",
              "        google.colab.notebook.generateWithVariable('stock');\n",
              "      }\n",
              "      })();\n",
              "    </script>\n",
              "  </div>\n",
              "\n",
              "    </div>\n",
              "  </div>\n"
            ],
            "application/vnd.google.colaboratory.intrinsic+json": {
              "type": "dataframe",
              "variable_name": "stock",
              "summary": "{\n  \"name\": \"stock\",\n  \"rows\": 247,\n  \"fields\": [\n    {\n      \"column\": [\n        \"Date\",\n        \"\"\n      ],\n      \"properties\": {\n        \"dtype\": \"date\",\n        \"min\": \"2024-05-27 00:00:00\",\n        \"max\": \"2025-05-23 00:00:00\",\n        \"num_unique_values\": 247,\n        \"samples\": [\n          \"2024-07-12 00:00:00\",\n          \"2024-06-04 00:00:00\",\n          \"2025-02-12 00:00:00\"\n        ],\n        \"semantic_type\": \"\",\n        \"description\": \"\"\n      }\n    },\n    {\n      \"column\": [\n        \"INDUSINDBK.NS\",\n        \"Open\"\n      ],\n      \"properties\": {\n        \"dtype\": \"number\",\n        \"std\": 272.2483466394036,\n        \"min\": 630.0,\n        \"max\": 1519.13487880895,\n        \"num_unique_values\": 231,\n        \"samples\": [\n          835.0,\n          1450.0,\n          1452.4255672094614\n        ],\n        \"semantic_type\": \"\",\n        \"description\": \"\"\n      }\n    },\n    {\n      \"column\": [\n        \"INDUSINDBK.NS\",\n        \"High\"\n      ],\n      \"properties\": {\n        \"dtype\": \"number\",\n        \"std\": 270.3776010013563,\n        \"min\": 662.5,\n        \"max\": 1532.981219607231,\n        \"num_unique_values\": 242,\n        \"samples\": [\n          1469.0,\n          1505.189677583863,\n          986.0\n        ],\n        \"semantic_type\": \"\",\n        \"description\": \"\"\n      }\n    },\n    {\n      \"column\": [\n        \"INDUSINDBK.NS\",\n        \"Low\"\n      ],\n      \"properties\": {\n        \"dtype\": \"number\",\n        \"std\": 271.44413567446725,\n        \"min\": 606.0,\n        \"max\": 1496.6347294004145,\n        \"num_unique_values\": 242,\n        \"samples\": [\n          1452.949951171875,\n          1348.5783727188311,\n          970.1500244140625\n        ],\n        \"semantic_type\": \"\",\n        \"description\": \"\"\n      }\n    },\n    {\n      \"column\": [\n        \"INDUSINDBK.NS\",\n        \"Close\"\n      ],\n      \"properties\": {\n        \"dtype\": \"number\",\n        \"std\": 270.7211031198429,\n        \"min\": 637.0499877929688,\n        \"max\": 1512.904052734375,\n        \"num_unique_values\": 239,\n        \"samples\": [\n          1456.9000244140625,\n          1376.221435546875,\n          1360.9000244140625\n        ],\n        \"semantic_type\": \"\",\n        \"description\": \"\"\n      }\n    },\n    {\n      \"column\": [\n        \"INDUSINDBK.NS\",\n        \"Volume\"\n      ],\n      \"properties\": {\n        \"dtype\": \"number\",\n        \"std\": 11325527,\n        \"min\": 0,\n        \"max\": 108682122,\n        \"num_unique_values\": 247,\n        \"samples\": [\n          3340305,\n          7911282,\n          4798340\n        ],\n        \"semantic_type\": \"\",\n        \"description\": \"\"\n      }\n    }\n  ]\n}"
            }
          },
          "metadata": {},
          "execution_count": 16
        }
      ]
    },
    {
      "cell_type": "code",
      "source": [
        "def daily_log_returns(stock,start,end):\n",
        "    start = start\n",
        "    end=end\n",
        "    log_returns=[]\n",
        "    for i in range(start,end):\n",
        "      close_price = stock['INDUSINDBK.NS']['Close'].iloc[i]\n",
        "      open_price = stock['INDUSINDBK.NS']['Open'].iloc[i]\n",
        "      log_return=np.log(close_price/open_price)\n",
        "      log_returns.append(log_return)\n",
        "    return log_returns"
      ],
      "metadata": {
        "id": "TssTnchxNWLu"
      },
      "execution_count": 17,
      "outputs": []
    },
    {
      "cell_type": "code",
      "source": [
        "def std(stock):\n",
        "\n",
        "  prices=[]\n",
        "  dates=[]\n",
        "  volitality=[]\n",
        "  for i in range(0,len(stock)-13,14):\n",
        "    log_return=daily_log_returns(stock,i,i+14)\n",
        "    std = np.std(log_return)\n",
        "    day=stock.index[i+13]\n",
        "    prices.append(stock['INDUSINDBK.NS']['Close'].iloc[i+13])\n",
        "    dates.append(day)\n",
        "    volitality.append(std)\n",
        "\n",
        "  volitality_df=pd.DataFrame({'Dates':dates, 'prices':prices,'volitality':volitality})\n",
        "  return volitality_df"
      ],
      "metadata": {
        "id": "0vrdQInZZiJR"
      },
      "execution_count": 18,
      "outputs": []
    },
    {
      "cell_type": "code",
      "source": [
        "volitality_df=std(stock)"
      ],
      "metadata": {
        "id": "98SvCg5vf_60"
      },
      "execution_count": 19,
      "outputs": []
    },
    {
      "cell_type": "code",
      "source": [
        "len(volitality_df)"
      ],
      "metadata": {
        "colab": {
          "base_uri": "https://localhost:8080/"
        },
        "id": "w6ji5RsEgLZn",
        "outputId": "bb9e98c3-f591-4003-d46a-75a690e18e17"
      },
      "execution_count": 20,
      "outputs": [
        {
          "output_type": "execute_result",
          "data": {
            "text/plain": [
              "17"
            ]
          },
          "metadata": {},
          "execution_count": 20
        }
      ]
    },
    {
      "cell_type": "code",
      "source": [
        "volitality_df"
      ],
      "metadata": {
        "colab": {
          "base_uri": "https://localhost:8080/",
          "height": 582
        },
        "collapsed": true,
        "id": "9n3yYXGRmUmG",
        "outputId": "1fcaa912-40d3-4fbf-e891-931f69d7a5dd"
      },
      "execution_count": 21,
      "outputs": [
        {
          "output_type": "execute_result",
          "data": {
            "text/plain": [
              "        Dates       prices  volitality\n",
              "0  2024-06-13  1490.700562    0.029832\n",
              "1  2024-07-04  1442.849976    0.008794\n",
              "2  2024-07-25  1379.099976    0.006371\n",
              "3  2024-08-14  1338.099976    0.013334\n",
              "4  2024-09-04  1434.400024    0.010015\n",
              "5  2024-09-24  1448.300049    0.010248\n",
              "6  2024-10-15  1360.900024    0.011824\n",
              "7  2024-11-04  1063.800049    0.030063\n",
              "8  2024-11-26  1009.599976    0.014009\n",
              "9  2024-12-16   999.349976    0.007608\n",
              "10 2025-01-06   970.049988    0.017346\n",
              "11 2025-01-24   950.799988    0.013688\n",
              "12 2025-02-12  1039.650024    0.017134\n",
              "13 2025-03-05   971.849976    0.018314\n",
              "14 2025-03-26   655.299988    0.062234\n",
              "15 2025-04-21   828.200012    0.028110\n",
              "16 2025-05-12   788.500000    0.021130"
            ],
            "text/html": [
              "\n",
              "  <div id=\"df-7cee9b8a-cf97-409c-9dde-24392b0e2153\" class=\"colab-df-container\">\n",
              "    <div>\n",
              "<style scoped>\n",
              "    .dataframe tbody tr th:only-of-type {\n",
              "        vertical-align: middle;\n",
              "    }\n",
              "\n",
              "    .dataframe tbody tr th {\n",
              "        vertical-align: top;\n",
              "    }\n",
              "\n",
              "    .dataframe thead th {\n",
              "        text-align: right;\n",
              "    }\n",
              "</style>\n",
              "<table border=\"1\" class=\"dataframe\">\n",
              "  <thead>\n",
              "    <tr style=\"text-align: right;\">\n",
              "      <th></th>\n",
              "      <th>Dates</th>\n",
              "      <th>prices</th>\n",
              "      <th>volitality</th>\n",
              "    </tr>\n",
              "  </thead>\n",
              "  <tbody>\n",
              "    <tr>\n",
              "      <th>0</th>\n",
              "      <td>2024-06-13</td>\n",
              "      <td>1490.700562</td>\n",
              "      <td>0.029832</td>\n",
              "    </tr>\n",
              "    <tr>\n",
              "      <th>1</th>\n",
              "      <td>2024-07-04</td>\n",
              "      <td>1442.849976</td>\n",
              "      <td>0.008794</td>\n",
              "    </tr>\n",
              "    <tr>\n",
              "      <th>2</th>\n",
              "      <td>2024-07-25</td>\n",
              "      <td>1379.099976</td>\n",
              "      <td>0.006371</td>\n",
              "    </tr>\n",
              "    <tr>\n",
              "      <th>3</th>\n",
              "      <td>2024-08-14</td>\n",
              "      <td>1338.099976</td>\n",
              "      <td>0.013334</td>\n",
              "    </tr>\n",
              "    <tr>\n",
              "      <th>4</th>\n",
              "      <td>2024-09-04</td>\n",
              "      <td>1434.400024</td>\n",
              "      <td>0.010015</td>\n",
              "    </tr>\n",
              "    <tr>\n",
              "      <th>5</th>\n",
              "      <td>2024-09-24</td>\n",
              "      <td>1448.300049</td>\n",
              "      <td>0.010248</td>\n",
              "    </tr>\n",
              "    <tr>\n",
              "      <th>6</th>\n",
              "      <td>2024-10-15</td>\n",
              "      <td>1360.900024</td>\n",
              "      <td>0.011824</td>\n",
              "    </tr>\n",
              "    <tr>\n",
              "      <th>7</th>\n",
              "      <td>2024-11-04</td>\n",
              "      <td>1063.800049</td>\n",
              "      <td>0.030063</td>\n",
              "    </tr>\n",
              "    <tr>\n",
              "      <th>8</th>\n",
              "      <td>2024-11-26</td>\n",
              "      <td>1009.599976</td>\n",
              "      <td>0.014009</td>\n",
              "    </tr>\n",
              "    <tr>\n",
              "      <th>9</th>\n",
              "      <td>2024-12-16</td>\n",
              "      <td>999.349976</td>\n",
              "      <td>0.007608</td>\n",
              "    </tr>\n",
              "    <tr>\n",
              "      <th>10</th>\n",
              "      <td>2025-01-06</td>\n",
              "      <td>970.049988</td>\n",
              "      <td>0.017346</td>\n",
              "    </tr>\n",
              "    <tr>\n",
              "      <th>11</th>\n",
              "      <td>2025-01-24</td>\n",
              "      <td>950.799988</td>\n",
              "      <td>0.013688</td>\n",
              "    </tr>\n",
              "    <tr>\n",
              "      <th>12</th>\n",
              "      <td>2025-02-12</td>\n",
              "      <td>1039.650024</td>\n",
              "      <td>0.017134</td>\n",
              "    </tr>\n",
              "    <tr>\n",
              "      <th>13</th>\n",
              "      <td>2025-03-05</td>\n",
              "      <td>971.849976</td>\n",
              "      <td>0.018314</td>\n",
              "    </tr>\n",
              "    <tr>\n",
              "      <th>14</th>\n",
              "      <td>2025-03-26</td>\n",
              "      <td>655.299988</td>\n",
              "      <td>0.062234</td>\n",
              "    </tr>\n",
              "    <tr>\n",
              "      <th>15</th>\n",
              "      <td>2025-04-21</td>\n",
              "      <td>828.200012</td>\n",
              "      <td>0.028110</td>\n",
              "    </tr>\n",
              "    <tr>\n",
              "      <th>16</th>\n",
              "      <td>2025-05-12</td>\n",
              "      <td>788.500000</td>\n",
              "      <td>0.021130</td>\n",
              "    </tr>\n",
              "  </tbody>\n",
              "</table>\n",
              "</div>\n",
              "    <div class=\"colab-df-buttons\">\n",
              "\n",
              "  <div class=\"colab-df-container\">\n",
              "    <button class=\"colab-df-convert\" onclick=\"convertToInteractive('df-7cee9b8a-cf97-409c-9dde-24392b0e2153')\"\n",
              "            title=\"Convert this dataframe to an interactive table.\"\n",
              "            style=\"display:none;\">\n",
              "\n",
              "  <svg xmlns=\"http://www.w3.org/2000/svg\" height=\"24px\" viewBox=\"0 -960 960 960\">\n",
              "    <path d=\"M120-120v-720h720v720H120Zm60-500h600v-160H180v160Zm220 220h160v-160H400v160Zm0 220h160v-160H400v160ZM180-400h160v-160H180v160Zm440 0h160v-160H620v160ZM180-180h160v-160H180v160Zm440 0h160v-160H620v160Z\"/>\n",
              "  </svg>\n",
              "    </button>\n",
              "\n",
              "  <style>\n",
              "    .colab-df-container {\n",
              "      display:flex;\n",
              "      gap: 12px;\n",
              "    }\n",
              "\n",
              "    .colab-df-convert {\n",
              "      background-color: #E8F0FE;\n",
              "      border: none;\n",
              "      border-radius: 50%;\n",
              "      cursor: pointer;\n",
              "      display: none;\n",
              "      fill: #1967D2;\n",
              "      height: 32px;\n",
              "      padding: 0 0 0 0;\n",
              "      width: 32px;\n",
              "    }\n",
              "\n",
              "    .colab-df-convert:hover {\n",
              "      background-color: #E2EBFA;\n",
              "      box-shadow: 0px 1px 2px rgba(60, 64, 67, 0.3), 0px 1px 3px 1px rgba(60, 64, 67, 0.15);\n",
              "      fill: #174EA6;\n",
              "    }\n",
              "\n",
              "    .colab-df-buttons div {\n",
              "      margin-bottom: 4px;\n",
              "    }\n",
              "\n",
              "    [theme=dark] .colab-df-convert {\n",
              "      background-color: #3B4455;\n",
              "      fill: #D2E3FC;\n",
              "    }\n",
              "\n",
              "    [theme=dark] .colab-df-convert:hover {\n",
              "      background-color: #434B5C;\n",
              "      box-shadow: 0px 1px 3px 1px rgba(0, 0, 0, 0.15);\n",
              "      filter: drop-shadow(0px 1px 2px rgba(0, 0, 0, 0.3));\n",
              "      fill: #FFFFFF;\n",
              "    }\n",
              "  </style>\n",
              "\n",
              "    <script>\n",
              "      const buttonEl =\n",
              "        document.querySelector('#df-7cee9b8a-cf97-409c-9dde-24392b0e2153 button.colab-df-convert');\n",
              "      buttonEl.style.display =\n",
              "        google.colab.kernel.accessAllowed ? 'block' : 'none';\n",
              "\n",
              "      async function convertToInteractive(key) {\n",
              "        const element = document.querySelector('#df-7cee9b8a-cf97-409c-9dde-24392b0e2153');\n",
              "        const dataTable =\n",
              "          await google.colab.kernel.invokeFunction('convertToInteractive',\n",
              "                                                    [key], {});\n",
              "        if (!dataTable) return;\n",
              "\n",
              "        const docLinkHtml = 'Like what you see? Visit the ' +\n",
              "          '<a target=\"_blank\" href=https://colab.research.google.com/notebooks/data_table.ipynb>data table notebook</a>'\n",
              "          + ' to learn more about interactive tables.';\n",
              "        element.innerHTML = '';\n",
              "        dataTable['output_type'] = 'display_data';\n",
              "        await google.colab.output.renderOutput(dataTable, element);\n",
              "        const docLink = document.createElement('div');\n",
              "        docLink.innerHTML = docLinkHtml;\n",
              "        element.appendChild(docLink);\n",
              "      }\n",
              "    </script>\n",
              "  </div>\n",
              "\n",
              "\n",
              "    <div id=\"df-b6d2564f-fed5-401a-935f-926563a4234f\">\n",
              "      <button class=\"colab-df-quickchart\" onclick=\"quickchart('df-b6d2564f-fed5-401a-935f-926563a4234f')\"\n",
              "                title=\"Suggest charts\"\n",
              "                style=\"display:none;\">\n",
              "\n",
              "<svg xmlns=\"http://www.w3.org/2000/svg\" height=\"24px\"viewBox=\"0 0 24 24\"\n",
              "     width=\"24px\">\n",
              "    <g>\n",
              "        <path d=\"M19 3H5c-1.1 0-2 .9-2 2v14c0 1.1.9 2 2 2h14c1.1 0 2-.9 2-2V5c0-1.1-.9-2-2-2zM9 17H7v-7h2v7zm4 0h-2V7h2v10zm4 0h-2v-4h2v4z\"/>\n",
              "    </g>\n",
              "</svg>\n",
              "      </button>\n",
              "\n",
              "<style>\n",
              "  .colab-df-quickchart {\n",
              "      --bg-color: #E8F0FE;\n",
              "      --fill-color: #1967D2;\n",
              "      --hover-bg-color: #E2EBFA;\n",
              "      --hover-fill-color: #174EA6;\n",
              "      --disabled-fill-color: #AAA;\n",
              "      --disabled-bg-color: #DDD;\n",
              "  }\n",
              "\n",
              "  [theme=dark] .colab-df-quickchart {\n",
              "      --bg-color: #3B4455;\n",
              "      --fill-color: #D2E3FC;\n",
              "      --hover-bg-color: #434B5C;\n",
              "      --hover-fill-color: #FFFFFF;\n",
              "      --disabled-bg-color: #3B4455;\n",
              "      --disabled-fill-color: #666;\n",
              "  }\n",
              "\n",
              "  .colab-df-quickchart {\n",
              "    background-color: var(--bg-color);\n",
              "    border: none;\n",
              "    border-radius: 50%;\n",
              "    cursor: pointer;\n",
              "    display: none;\n",
              "    fill: var(--fill-color);\n",
              "    height: 32px;\n",
              "    padding: 0;\n",
              "    width: 32px;\n",
              "  }\n",
              "\n",
              "  .colab-df-quickchart:hover {\n",
              "    background-color: var(--hover-bg-color);\n",
              "    box-shadow: 0 1px 2px rgba(60, 64, 67, 0.3), 0 1px 3px 1px rgba(60, 64, 67, 0.15);\n",
              "    fill: var(--button-hover-fill-color);\n",
              "  }\n",
              "\n",
              "  .colab-df-quickchart-complete:disabled,\n",
              "  .colab-df-quickchart-complete:disabled:hover {\n",
              "    background-color: var(--disabled-bg-color);\n",
              "    fill: var(--disabled-fill-color);\n",
              "    box-shadow: none;\n",
              "  }\n",
              "\n",
              "  .colab-df-spinner {\n",
              "    border: 2px solid var(--fill-color);\n",
              "    border-color: transparent;\n",
              "    border-bottom-color: var(--fill-color);\n",
              "    animation:\n",
              "      spin 1s steps(1) infinite;\n",
              "  }\n",
              "\n",
              "  @keyframes spin {\n",
              "    0% {\n",
              "      border-color: transparent;\n",
              "      border-bottom-color: var(--fill-color);\n",
              "      border-left-color: var(--fill-color);\n",
              "    }\n",
              "    20% {\n",
              "      border-color: transparent;\n",
              "      border-left-color: var(--fill-color);\n",
              "      border-top-color: var(--fill-color);\n",
              "    }\n",
              "    30% {\n",
              "      border-color: transparent;\n",
              "      border-left-color: var(--fill-color);\n",
              "      border-top-color: var(--fill-color);\n",
              "      border-right-color: var(--fill-color);\n",
              "    }\n",
              "    40% {\n",
              "      border-color: transparent;\n",
              "      border-right-color: var(--fill-color);\n",
              "      border-top-color: var(--fill-color);\n",
              "    }\n",
              "    60% {\n",
              "      border-color: transparent;\n",
              "      border-right-color: var(--fill-color);\n",
              "    }\n",
              "    80% {\n",
              "      border-color: transparent;\n",
              "      border-right-color: var(--fill-color);\n",
              "      border-bottom-color: var(--fill-color);\n",
              "    }\n",
              "    90% {\n",
              "      border-color: transparent;\n",
              "      border-bottom-color: var(--fill-color);\n",
              "    }\n",
              "  }\n",
              "</style>\n",
              "\n",
              "      <script>\n",
              "        async function quickchart(key) {\n",
              "          const quickchartButtonEl =\n",
              "            document.querySelector('#' + key + ' button');\n",
              "          quickchartButtonEl.disabled = true;  // To prevent multiple clicks.\n",
              "          quickchartButtonEl.classList.add('colab-df-spinner');\n",
              "          try {\n",
              "            const charts = await google.colab.kernel.invokeFunction(\n",
              "                'suggestCharts', [key], {});\n",
              "          } catch (error) {\n",
              "            console.error('Error during call to suggestCharts:', error);\n",
              "          }\n",
              "          quickchartButtonEl.classList.remove('colab-df-spinner');\n",
              "          quickchartButtonEl.classList.add('colab-df-quickchart-complete');\n",
              "        }\n",
              "        (() => {\n",
              "          let quickchartButtonEl =\n",
              "            document.querySelector('#df-b6d2564f-fed5-401a-935f-926563a4234f button');\n",
              "          quickchartButtonEl.style.display =\n",
              "            google.colab.kernel.accessAllowed ? 'block' : 'none';\n",
              "        })();\n",
              "      </script>\n",
              "    </div>\n",
              "\n",
              "  <div id=\"id_f30f0b9f-3939-4b29-93fe-564b7094bdf7\">\n",
              "    <style>\n",
              "      .colab-df-generate {\n",
              "        background-color: #E8F0FE;\n",
              "        border: none;\n",
              "        border-radius: 50%;\n",
              "        cursor: pointer;\n",
              "        display: none;\n",
              "        fill: #1967D2;\n",
              "        height: 32px;\n",
              "        padding: 0 0 0 0;\n",
              "        width: 32px;\n",
              "      }\n",
              "\n",
              "      .colab-df-generate:hover {\n",
              "        background-color: #E2EBFA;\n",
              "        box-shadow: 0px 1px 2px rgba(60, 64, 67, 0.3), 0px 1px 3px 1px rgba(60, 64, 67, 0.15);\n",
              "        fill: #174EA6;\n",
              "      }\n",
              "\n",
              "      [theme=dark] .colab-df-generate {\n",
              "        background-color: #3B4455;\n",
              "        fill: #D2E3FC;\n",
              "      }\n",
              "\n",
              "      [theme=dark] .colab-df-generate:hover {\n",
              "        background-color: #434B5C;\n",
              "        box-shadow: 0px 1px 3px 1px rgba(0, 0, 0, 0.15);\n",
              "        filter: drop-shadow(0px 1px 2px rgba(0, 0, 0, 0.3));\n",
              "        fill: #FFFFFF;\n",
              "      }\n",
              "    </style>\n",
              "    <button class=\"colab-df-generate\" onclick=\"generateWithVariable('volitality_df')\"\n",
              "            title=\"Generate code using this dataframe.\"\n",
              "            style=\"display:none;\">\n",
              "\n",
              "  <svg xmlns=\"http://www.w3.org/2000/svg\" height=\"24px\"viewBox=\"0 0 24 24\"\n",
              "       width=\"24px\">\n",
              "    <path d=\"M7,19H8.4L18.45,9,17,7.55,7,17.6ZM5,21V16.75L18.45,3.32a2,2,0,0,1,2.83,0l1.4,1.43a1.91,1.91,0,0,1,.58,1.4,1.91,1.91,0,0,1-.58,1.4L9.25,21ZM18.45,9,17,7.55Zm-12,3A5.31,5.31,0,0,0,4.9,8.1,5.31,5.31,0,0,0,1,6.5,5.31,5.31,0,0,0,4.9,4.9,5.31,5.31,0,0,0,6.5,1,5.31,5.31,0,0,0,8.1,4.9,5.31,5.31,0,0,0,12,6.5,5.46,5.46,0,0,0,6.5,12Z\"/>\n",
              "  </svg>\n",
              "    </button>\n",
              "    <script>\n",
              "      (() => {\n",
              "      const buttonEl =\n",
              "        document.querySelector('#id_f30f0b9f-3939-4b29-93fe-564b7094bdf7 button.colab-df-generate');\n",
              "      buttonEl.style.display =\n",
              "        google.colab.kernel.accessAllowed ? 'block' : 'none';\n",
              "\n",
              "      buttonEl.onclick = () => {\n",
              "        google.colab.notebook.generateWithVariable('volitality_df');\n",
              "      }\n",
              "      })();\n",
              "    </script>\n",
              "  </div>\n",
              "\n",
              "    </div>\n",
              "  </div>\n"
            ],
            "application/vnd.google.colaboratory.intrinsic+json": {
              "type": "dataframe",
              "variable_name": "volitality_df",
              "summary": "{\n  \"name\": \"volitality_df\",\n  \"rows\": 17,\n  \"fields\": [\n    {\n      \"column\": \"Dates\",\n      \"properties\": {\n        \"dtype\": \"date\",\n        \"min\": \"2024-06-13 00:00:00\",\n        \"max\": \"2025-05-12 00:00:00\",\n        \"num_unique_values\": 17,\n        \"samples\": [\n          \"2024-06-13 00:00:00\",\n          \"2024-07-04 00:00:00\",\n          \"2024-09-24 00:00:00\"\n        ],\n        \"semantic_type\": \"\",\n        \"description\": \"\"\n      }\n    },\n    {\n      \"column\": \"prices\",\n      \"properties\": {\n        \"dtype\": \"number\",\n        \"std\": 266.97412252438886,\n        \"min\": 655.2999877929688,\n        \"max\": 1490.7005615234375,\n        \"num_unique_values\": 17,\n        \"samples\": [\n          1490.7005615234375,\n          1442.8499755859375,\n          1448.300048828125\n        ],\n        \"semantic_type\": \"\",\n        \"description\": \"\"\n      }\n    },\n    {\n      \"column\": \"volitality\",\n      \"properties\": {\n        \"dtype\": \"number\",\n        \"std\": 0.013439958309615047,\n        \"min\": 0.006370502204037311,\n        \"max\": 0.062234234898865204,\n        \"num_unique_values\": 17,\n        \"samples\": [\n          0.029832053062280258,\n          0.008794198020108196,\n          0.010248315074422396\n        ],\n        \"semantic_type\": \"\",\n        \"description\": \"\"\n      }\n    }\n  ]\n}"
            }
          },
          "metadata": {},
          "execution_count": 21
        }
      ]
    },
    {
      "cell_type": "code",
      "source": [
        "import plotly.graph_objects as go\n",
        "from plotly.subplots import make_subplots\n",
        "\n",
        "fig = make_subplots(specs=[[{'secondary_y':True}]])\n",
        "\n",
        "\n",
        "fig.add_trace(go.Scatter(x=volitality_df['Dates'], y=volitality_df['volitality'],name='volitality',\n",
        "                        mode='lines+markers'), secondary_y=False)\n",
        "\n",
        "\n",
        "\n",
        "fig.add_trace(go.Scatter(x=volitality_df['Dates'], y=volitality_df['prices'], name='prices',\n",
        "                        mode='lines+markers'),secondary_y=True)\n",
        "\n",
        "fig.update_layout(\n",
        "    title='Date (vs) volitality',\n",
        ")\n",
        "\n",
        "fig.update_xaxes(title_text=\"Date\")\n",
        "fig.update_yaxes(title_text=\"volitality\",secondary_y=False)\n",
        "fig.update_yaxes(title_text=\"prices\",secondary_y=True)"
      ],
      "metadata": {
        "colab": {
          "base_uri": "https://localhost:8080/",
          "height": 542
        },
        "id": "rJ3tmnzMjQa9",
        "outputId": "093ceacd-437d-4bcc-83a7-36096000004a"
      },
      "execution_count": 22,
      "outputs": [
        {
          "output_type": "display_data",
          "data": {
            "text/html": [
              "<html>\n",
              "<head><meta charset=\"utf-8\" /></head>\n",
              "<body>\n",
              "    <div>            <script src=\"https://cdnjs.cloudflare.com/ajax/libs/mathjax/2.7.5/MathJax.js?config=TeX-AMS-MML_SVG\"></script><script type=\"text/javascript\">if (window.MathJax && window.MathJax.Hub && window.MathJax.Hub.Config) {window.MathJax.Hub.Config({SVG: {font: \"STIX-Web\"}});}</script>                <script type=\"text/javascript\">window.PlotlyConfig = {MathJaxConfig: 'local'};</script>\n",
              "        <script charset=\"utf-8\" src=\"https://cdn.plot.ly/plotly-2.35.2.min.js\"></script>                <div id=\"172a2339-d6ba-4ddb-aaa2-a0da67d5d07c\" class=\"plotly-graph-div\" style=\"height:525px; width:100%;\"></div>            <script type=\"text/javascript\">                                    window.PLOTLYENV=window.PLOTLYENV || {};                                    if (document.getElementById(\"172a2339-d6ba-4ddb-aaa2-a0da67d5d07c\")) {                    Plotly.newPlot(                        \"172a2339-d6ba-4ddb-aaa2-a0da67d5d07c\",                        [{\"mode\":\"lines+markers\",\"name\":\"volitality\",\"x\":[\"2024-06-13T00:00:00\",\"2024-07-04T00:00:00\",\"2024-07-25T00:00:00\",\"2024-08-14T00:00:00\",\"2024-09-04T00:00:00\",\"2024-09-24T00:00:00\",\"2024-10-15T00:00:00\",\"2024-11-04T00:00:00\",\"2024-11-26T00:00:00\",\"2024-12-16T00:00:00\",\"2025-01-06T00:00:00\",\"2025-01-24T00:00:00\",\"2025-02-12T00:00:00\",\"2025-03-05T00:00:00\",\"2025-03-26T00:00:00\",\"2025-04-21T00:00:00\",\"2025-05-12T00:00:00\"],\"y\":[0.029832053062280258,0.008794198020108196,0.006370502204037311,0.013333717391753291,0.010015320695415667,0.010248315074422396,0.011824258126161653,0.0300632371686428,0.014009193899002195,0.007607843209615895,0.017345823105416575,0.013688392459831349,0.017134025809565342,0.018314270021863793,0.062234234898865204,0.028110210284354138,0.021130243052805933],\"type\":\"scatter\",\"xaxis\":\"x\",\"yaxis\":\"y\"},{\"mode\":\"lines+markers\",\"name\":\"prices\",\"x\":[\"2024-06-13T00:00:00\",\"2024-07-04T00:00:00\",\"2024-07-25T00:00:00\",\"2024-08-14T00:00:00\",\"2024-09-04T00:00:00\",\"2024-09-24T00:00:00\",\"2024-10-15T00:00:00\",\"2024-11-04T00:00:00\",\"2024-11-26T00:00:00\",\"2024-12-16T00:00:00\",\"2025-01-06T00:00:00\",\"2025-01-24T00:00:00\",\"2025-02-12T00:00:00\",\"2025-03-05T00:00:00\",\"2025-03-26T00:00:00\",\"2025-04-21T00:00:00\",\"2025-05-12T00:00:00\"],\"y\":[1490.7005615234375,1442.8499755859375,1379.0999755859375,1338.0999755859375,1434.4000244140625,1448.300048828125,1360.9000244140625,1063.800048828125,1009.5999755859375,999.3499755859375,970.0499877929688,950.7999877929688,1039.6500244140625,971.8499755859375,655.2999877929688,828.2000122070312,788.5],\"type\":\"scatter\",\"xaxis\":\"x\",\"yaxis\":\"y2\"}],                        {\"template\":{\"data\":{\"histogram2dcontour\":[{\"type\":\"histogram2dcontour\",\"colorbar\":{\"outlinewidth\":0,\"ticks\":\"\"},\"colorscale\":[[0.0,\"#0d0887\"],[0.1111111111111111,\"#46039f\"],[0.2222222222222222,\"#7201a8\"],[0.3333333333333333,\"#9c179e\"],[0.4444444444444444,\"#bd3786\"],[0.5555555555555556,\"#d8576b\"],[0.6666666666666666,\"#ed7953\"],[0.7777777777777778,\"#fb9f3a\"],[0.8888888888888888,\"#fdca26\"],[1.0,\"#f0f921\"]]}],\"choropleth\":[{\"type\":\"choropleth\",\"colorbar\":{\"outlinewidth\":0,\"ticks\":\"\"}}],\"histogram2d\":[{\"type\":\"histogram2d\",\"colorbar\":{\"outlinewidth\":0,\"ticks\":\"\"},\"colorscale\":[[0.0,\"#0d0887\"],[0.1111111111111111,\"#46039f\"],[0.2222222222222222,\"#7201a8\"],[0.3333333333333333,\"#9c179e\"],[0.4444444444444444,\"#bd3786\"],[0.5555555555555556,\"#d8576b\"],[0.6666666666666666,\"#ed7953\"],[0.7777777777777778,\"#fb9f3a\"],[0.8888888888888888,\"#fdca26\"],[1.0,\"#f0f921\"]]}],\"heatmap\":[{\"type\":\"heatmap\",\"colorbar\":{\"outlinewidth\":0,\"ticks\":\"\"},\"colorscale\":[[0.0,\"#0d0887\"],[0.1111111111111111,\"#46039f\"],[0.2222222222222222,\"#7201a8\"],[0.3333333333333333,\"#9c179e\"],[0.4444444444444444,\"#bd3786\"],[0.5555555555555556,\"#d8576b\"],[0.6666666666666666,\"#ed7953\"],[0.7777777777777778,\"#fb9f3a\"],[0.8888888888888888,\"#fdca26\"],[1.0,\"#f0f921\"]]}],\"heatmapgl\":[{\"type\":\"heatmapgl\",\"colorbar\":{\"outlinewidth\":0,\"ticks\":\"\"},\"colorscale\":[[0.0,\"#0d0887\"],[0.1111111111111111,\"#46039f\"],[0.2222222222222222,\"#7201a8\"],[0.3333333333333333,\"#9c179e\"],[0.4444444444444444,\"#bd3786\"],[0.5555555555555556,\"#d8576b\"],[0.6666666666666666,\"#ed7953\"],[0.7777777777777778,\"#fb9f3a\"],[0.8888888888888888,\"#fdca26\"],[1.0,\"#f0f921\"]]}],\"contourcarpet\":[{\"type\":\"contourcarpet\",\"colorbar\":{\"outlinewidth\":0,\"ticks\":\"\"}}],\"contour\":[{\"type\":\"contour\",\"colorbar\":{\"outlinewidth\":0,\"ticks\":\"\"},\"colorscale\":[[0.0,\"#0d0887\"],[0.1111111111111111,\"#46039f\"],[0.2222222222222222,\"#7201a8\"],[0.3333333333333333,\"#9c179e\"],[0.4444444444444444,\"#bd3786\"],[0.5555555555555556,\"#d8576b\"],[0.6666666666666666,\"#ed7953\"],[0.7777777777777778,\"#fb9f3a\"],[0.8888888888888888,\"#fdca26\"],[1.0,\"#f0f921\"]]}],\"surface\":[{\"type\":\"surface\",\"colorbar\":{\"outlinewidth\":0,\"ticks\":\"\"},\"colorscale\":[[0.0,\"#0d0887\"],[0.1111111111111111,\"#46039f\"],[0.2222222222222222,\"#7201a8\"],[0.3333333333333333,\"#9c179e\"],[0.4444444444444444,\"#bd3786\"],[0.5555555555555556,\"#d8576b\"],[0.6666666666666666,\"#ed7953\"],[0.7777777777777778,\"#fb9f3a\"],[0.8888888888888888,\"#fdca26\"],[1.0,\"#f0f921\"]]}],\"mesh3d\":[{\"type\":\"mesh3d\",\"colorbar\":{\"outlinewidth\":0,\"ticks\":\"\"}}],\"scatter\":[{\"fillpattern\":{\"fillmode\":\"overlay\",\"size\":10,\"solidity\":0.2},\"type\":\"scatter\"}],\"parcoords\":[{\"type\":\"parcoords\",\"line\":{\"colorbar\":{\"outlinewidth\":0,\"ticks\":\"\"}}}],\"scatterpolargl\":[{\"type\":\"scatterpolargl\",\"marker\":{\"colorbar\":{\"outlinewidth\":0,\"ticks\":\"\"}}}],\"bar\":[{\"error_x\":{\"color\":\"#2a3f5f\"},\"error_y\":{\"color\":\"#2a3f5f\"},\"marker\":{\"line\":{\"color\":\"#E5ECF6\",\"width\":0.5},\"pattern\":{\"fillmode\":\"overlay\",\"size\":10,\"solidity\":0.2}},\"type\":\"bar\"}],\"scattergeo\":[{\"type\":\"scattergeo\",\"marker\":{\"colorbar\":{\"outlinewidth\":0,\"ticks\":\"\"}}}],\"scatterpolar\":[{\"type\":\"scatterpolar\",\"marker\":{\"colorbar\":{\"outlinewidth\":0,\"ticks\":\"\"}}}],\"histogram\":[{\"marker\":{\"pattern\":{\"fillmode\":\"overlay\",\"size\":10,\"solidity\":0.2}},\"type\":\"histogram\"}],\"scattergl\":[{\"type\":\"scattergl\",\"marker\":{\"colorbar\":{\"outlinewidth\":0,\"ticks\":\"\"}}}],\"scatter3d\":[{\"type\":\"scatter3d\",\"line\":{\"colorbar\":{\"outlinewidth\":0,\"ticks\":\"\"}},\"marker\":{\"colorbar\":{\"outlinewidth\":0,\"ticks\":\"\"}}}],\"scattermapbox\":[{\"type\":\"scattermapbox\",\"marker\":{\"colorbar\":{\"outlinewidth\":0,\"ticks\":\"\"}}}],\"scatterternary\":[{\"type\":\"scatterternary\",\"marker\":{\"colorbar\":{\"outlinewidth\":0,\"ticks\":\"\"}}}],\"scattercarpet\":[{\"type\":\"scattercarpet\",\"marker\":{\"colorbar\":{\"outlinewidth\":0,\"ticks\":\"\"}}}],\"carpet\":[{\"aaxis\":{\"endlinecolor\":\"#2a3f5f\",\"gridcolor\":\"white\",\"linecolor\":\"white\",\"minorgridcolor\":\"white\",\"startlinecolor\":\"#2a3f5f\"},\"baxis\":{\"endlinecolor\":\"#2a3f5f\",\"gridcolor\":\"white\",\"linecolor\":\"white\",\"minorgridcolor\":\"white\",\"startlinecolor\":\"#2a3f5f\"},\"type\":\"carpet\"}],\"table\":[{\"cells\":{\"fill\":{\"color\":\"#EBF0F8\"},\"line\":{\"color\":\"white\"}},\"header\":{\"fill\":{\"color\":\"#C8D4E3\"},\"line\":{\"color\":\"white\"}},\"type\":\"table\"}],\"barpolar\":[{\"marker\":{\"line\":{\"color\":\"#E5ECF6\",\"width\":0.5},\"pattern\":{\"fillmode\":\"overlay\",\"size\":10,\"solidity\":0.2}},\"type\":\"barpolar\"}],\"pie\":[{\"automargin\":true,\"type\":\"pie\"}]},\"layout\":{\"autotypenumbers\":\"strict\",\"colorway\":[\"#636efa\",\"#EF553B\",\"#00cc96\",\"#ab63fa\",\"#FFA15A\",\"#19d3f3\",\"#FF6692\",\"#B6E880\",\"#FF97FF\",\"#FECB52\"],\"font\":{\"color\":\"#2a3f5f\"},\"hovermode\":\"closest\",\"hoverlabel\":{\"align\":\"left\"},\"paper_bgcolor\":\"white\",\"plot_bgcolor\":\"#E5ECF6\",\"polar\":{\"bgcolor\":\"#E5ECF6\",\"angularaxis\":{\"gridcolor\":\"white\",\"linecolor\":\"white\",\"ticks\":\"\"},\"radialaxis\":{\"gridcolor\":\"white\",\"linecolor\":\"white\",\"ticks\":\"\"}},\"ternary\":{\"bgcolor\":\"#E5ECF6\",\"aaxis\":{\"gridcolor\":\"white\",\"linecolor\":\"white\",\"ticks\":\"\"},\"baxis\":{\"gridcolor\":\"white\",\"linecolor\":\"white\",\"ticks\":\"\"},\"caxis\":{\"gridcolor\":\"white\",\"linecolor\":\"white\",\"ticks\":\"\"}},\"coloraxis\":{\"colorbar\":{\"outlinewidth\":0,\"ticks\":\"\"}},\"colorscale\":{\"sequential\":[[0.0,\"#0d0887\"],[0.1111111111111111,\"#46039f\"],[0.2222222222222222,\"#7201a8\"],[0.3333333333333333,\"#9c179e\"],[0.4444444444444444,\"#bd3786\"],[0.5555555555555556,\"#d8576b\"],[0.6666666666666666,\"#ed7953\"],[0.7777777777777778,\"#fb9f3a\"],[0.8888888888888888,\"#fdca26\"],[1.0,\"#f0f921\"]],\"sequentialminus\":[[0.0,\"#0d0887\"],[0.1111111111111111,\"#46039f\"],[0.2222222222222222,\"#7201a8\"],[0.3333333333333333,\"#9c179e\"],[0.4444444444444444,\"#bd3786\"],[0.5555555555555556,\"#d8576b\"],[0.6666666666666666,\"#ed7953\"],[0.7777777777777778,\"#fb9f3a\"],[0.8888888888888888,\"#fdca26\"],[1.0,\"#f0f921\"]],\"diverging\":[[0,\"#8e0152\"],[0.1,\"#c51b7d\"],[0.2,\"#de77ae\"],[0.3,\"#f1b6da\"],[0.4,\"#fde0ef\"],[0.5,\"#f7f7f7\"],[0.6,\"#e6f5d0\"],[0.7,\"#b8e186\"],[0.8,\"#7fbc41\"],[0.9,\"#4d9221\"],[1,\"#276419\"]]},\"xaxis\":{\"gridcolor\":\"white\",\"linecolor\":\"white\",\"ticks\":\"\",\"title\":{\"standoff\":15},\"zerolinecolor\":\"white\",\"automargin\":true,\"zerolinewidth\":2},\"yaxis\":{\"gridcolor\":\"white\",\"linecolor\":\"white\",\"ticks\":\"\",\"title\":{\"standoff\":15},\"zerolinecolor\":\"white\",\"automargin\":true,\"zerolinewidth\":2},\"scene\":{\"xaxis\":{\"backgroundcolor\":\"#E5ECF6\",\"gridcolor\":\"white\",\"linecolor\":\"white\",\"showbackground\":true,\"ticks\":\"\",\"zerolinecolor\":\"white\",\"gridwidth\":2},\"yaxis\":{\"backgroundcolor\":\"#E5ECF6\",\"gridcolor\":\"white\",\"linecolor\":\"white\",\"showbackground\":true,\"ticks\":\"\",\"zerolinecolor\":\"white\",\"gridwidth\":2},\"zaxis\":{\"backgroundcolor\":\"#E5ECF6\",\"gridcolor\":\"white\",\"linecolor\":\"white\",\"showbackground\":true,\"ticks\":\"\",\"zerolinecolor\":\"white\",\"gridwidth\":2}},\"shapedefaults\":{\"line\":{\"color\":\"#2a3f5f\"}},\"annotationdefaults\":{\"arrowcolor\":\"#2a3f5f\",\"arrowhead\":0,\"arrowwidth\":1},\"geo\":{\"bgcolor\":\"white\",\"landcolor\":\"#E5ECF6\",\"subunitcolor\":\"white\",\"showland\":true,\"showlakes\":true,\"lakecolor\":\"white\"},\"title\":{\"x\":0.05},\"mapbox\":{\"style\":\"light\"}}},\"xaxis\":{\"anchor\":\"y\",\"domain\":[0.0,0.94],\"title\":{\"text\":\"Date\"}},\"yaxis\":{\"anchor\":\"x\",\"domain\":[0.0,1.0],\"title\":{\"text\":\"volitality\"}},\"yaxis2\":{\"anchor\":\"x\",\"overlaying\":\"y\",\"side\":\"right\",\"title\":{\"text\":\"prices\"}},\"title\":{\"text\":\"Date (vs) volitality\"}},                        {\"responsive\": true}                    ).then(function(){\n",
              "                            \n",
              "var gd = document.getElementById('172a2339-d6ba-4ddb-aaa2-a0da67d5d07c');\n",
              "var x = new MutationObserver(function (mutations, observer) {{\n",
              "        var display = window.getComputedStyle(gd).display;\n",
              "        if (!display || display === 'none') {{\n",
              "            console.log([gd, 'removed!']);\n",
              "            Plotly.purge(gd);\n",
              "            observer.disconnect();\n",
              "        }}\n",
              "}});\n",
              "\n",
              "// Listen for the removal of the full notebook cells\n",
              "var notebookContainer = gd.closest('#notebook-container');\n",
              "if (notebookContainer) {{\n",
              "    x.observe(notebookContainer, {childList: true});\n",
              "}}\n",
              "\n",
              "// Listen for the clearing of the current output cell\n",
              "var outputEl = gd.closest('.output');\n",
              "if (outputEl) {{\n",
              "    x.observe(outputEl, {childList: true});\n",
              "}}\n",
              "\n",
              "                        })                };                            </script>        </div>\n",
              "</body>\n",
              "</html>"
            ]
          },
          "metadata": {}
        }
      ]
    },
    {
      "cell_type": "markdown",
      "source": [
        "# Problem Statement 3: The Probability Paradox"
      ],
      "metadata": {
        "id": "jeuuk2P4y-DM"
      }
    },
    {
      "cell_type": "markdown",
      "source": [
        "# Setup"
      ],
      "metadata": {
        "id": "cpAEFAI-sg35"
      }
    },
    {
      "cell_type": "code",
      "source": [
        "stock"
      ],
      "metadata": {
        "colab": {
          "base_uri": "https://localhost:8080/",
          "height": 486
        },
        "id": "TNZingoDOO6V",
        "outputId": "f68f6a52-fe55-4720-c38c-d6ae64af6c15"
      },
      "execution_count": 30,
      "outputs": [
        {
          "output_type": "execute_result",
          "data": {
            "text/plain": [
              "Ticker     INDUSINDBK.NS                                                 \n",
              "Price               Open         High          Low        Close    Volume\n",
              "Date                                                                     \n",
              "2024-05-27   1431.952709  1459.398017  1423.496660  1449.013306   3253683\n",
              "2024-05-28   1456.628808  1462.562929  1433.188960  1443.326416   2381333\n",
              "2024-05-29   1437.046279  1455.491529  1423.447252  1444.216675   4383563\n",
              "2024-05-30   1441.991283  1461.474931  1423.348279  1430.914307   3415942\n",
              "2024-05-31   1440.013329  1453.760733  1430.667137  1445.799072   3546505\n",
              "...                  ...          ...          ...          ...       ...\n",
              "2025-05-19    779.900024   791.950012   770.299988   784.049988   7193105\n",
              "2025-05-20    785.000000   799.700012   780.049988   782.250000   6637953\n",
              "2025-05-21    783.000000   786.700012   761.000000   769.950012   8134620\n",
              "2025-05-22    750.000000   796.700012   725.799988   785.000000  43477564\n",
              "2025-05-23    781.099976   799.200012   777.299988   793.400024   9260373\n",
              "\n",
              "[247 rows x 5 columns]"
            ],
            "text/html": [
              "\n",
              "  <div id=\"df-eba754d8-f0d7-43e6-8576-5a5d8f54f7a8\" class=\"colab-df-container\">\n",
              "    <div>\n",
              "<style scoped>\n",
              "    .dataframe tbody tr th:only-of-type {\n",
              "        vertical-align: middle;\n",
              "    }\n",
              "\n",
              "    .dataframe tbody tr th {\n",
              "        vertical-align: top;\n",
              "    }\n",
              "\n",
              "    .dataframe thead tr th {\n",
              "        text-align: left;\n",
              "    }\n",
              "\n",
              "    .dataframe thead tr:last-of-type th {\n",
              "        text-align: right;\n",
              "    }\n",
              "</style>\n",
              "<table border=\"1\" class=\"dataframe\">\n",
              "  <thead>\n",
              "    <tr>\n",
              "      <th>Ticker</th>\n",
              "      <th colspan=\"5\" halign=\"left\">INDUSINDBK.NS</th>\n",
              "    </tr>\n",
              "    <tr>\n",
              "      <th>Price</th>\n",
              "      <th>Open</th>\n",
              "      <th>High</th>\n",
              "      <th>Low</th>\n",
              "      <th>Close</th>\n",
              "      <th>Volume</th>\n",
              "    </tr>\n",
              "    <tr>\n",
              "      <th>Date</th>\n",
              "      <th></th>\n",
              "      <th></th>\n",
              "      <th></th>\n",
              "      <th></th>\n",
              "      <th></th>\n",
              "    </tr>\n",
              "  </thead>\n",
              "  <tbody>\n",
              "    <tr>\n",
              "      <th>2024-05-27</th>\n",
              "      <td>1431.952709</td>\n",
              "      <td>1459.398017</td>\n",
              "      <td>1423.496660</td>\n",
              "      <td>1449.013306</td>\n",
              "      <td>3253683</td>\n",
              "    </tr>\n",
              "    <tr>\n",
              "      <th>2024-05-28</th>\n",
              "      <td>1456.628808</td>\n",
              "      <td>1462.562929</td>\n",
              "      <td>1433.188960</td>\n",
              "      <td>1443.326416</td>\n",
              "      <td>2381333</td>\n",
              "    </tr>\n",
              "    <tr>\n",
              "      <th>2024-05-29</th>\n",
              "      <td>1437.046279</td>\n",
              "      <td>1455.491529</td>\n",
              "      <td>1423.447252</td>\n",
              "      <td>1444.216675</td>\n",
              "      <td>4383563</td>\n",
              "    </tr>\n",
              "    <tr>\n",
              "      <th>2024-05-30</th>\n",
              "      <td>1441.991283</td>\n",
              "      <td>1461.474931</td>\n",
              "      <td>1423.348279</td>\n",
              "      <td>1430.914307</td>\n",
              "      <td>3415942</td>\n",
              "    </tr>\n",
              "    <tr>\n",
              "      <th>2024-05-31</th>\n",
              "      <td>1440.013329</td>\n",
              "      <td>1453.760733</td>\n",
              "      <td>1430.667137</td>\n",
              "      <td>1445.799072</td>\n",
              "      <td>3546505</td>\n",
              "    </tr>\n",
              "    <tr>\n",
              "      <th>...</th>\n",
              "      <td>...</td>\n",
              "      <td>...</td>\n",
              "      <td>...</td>\n",
              "      <td>...</td>\n",
              "      <td>...</td>\n",
              "    </tr>\n",
              "    <tr>\n",
              "      <th>2025-05-19</th>\n",
              "      <td>779.900024</td>\n",
              "      <td>791.950012</td>\n",
              "      <td>770.299988</td>\n",
              "      <td>784.049988</td>\n",
              "      <td>7193105</td>\n",
              "    </tr>\n",
              "    <tr>\n",
              "      <th>2025-05-20</th>\n",
              "      <td>785.000000</td>\n",
              "      <td>799.700012</td>\n",
              "      <td>780.049988</td>\n",
              "      <td>782.250000</td>\n",
              "      <td>6637953</td>\n",
              "    </tr>\n",
              "    <tr>\n",
              "      <th>2025-05-21</th>\n",
              "      <td>783.000000</td>\n",
              "      <td>786.700012</td>\n",
              "      <td>761.000000</td>\n",
              "      <td>769.950012</td>\n",
              "      <td>8134620</td>\n",
              "    </tr>\n",
              "    <tr>\n",
              "      <th>2025-05-22</th>\n",
              "      <td>750.000000</td>\n",
              "      <td>796.700012</td>\n",
              "      <td>725.799988</td>\n",
              "      <td>785.000000</td>\n",
              "      <td>43477564</td>\n",
              "    </tr>\n",
              "    <tr>\n",
              "      <th>2025-05-23</th>\n",
              "      <td>781.099976</td>\n",
              "      <td>799.200012</td>\n",
              "      <td>777.299988</td>\n",
              "      <td>793.400024</td>\n",
              "      <td>9260373</td>\n",
              "    </tr>\n",
              "  </tbody>\n",
              "</table>\n",
              "<p>247 rows × 5 columns</p>\n",
              "</div>\n",
              "    <div class=\"colab-df-buttons\">\n",
              "\n",
              "  <div class=\"colab-df-container\">\n",
              "    <button class=\"colab-df-convert\" onclick=\"convertToInteractive('df-eba754d8-f0d7-43e6-8576-5a5d8f54f7a8')\"\n",
              "            title=\"Convert this dataframe to an interactive table.\"\n",
              "            style=\"display:none;\">\n",
              "\n",
              "  <svg xmlns=\"http://www.w3.org/2000/svg\" height=\"24px\" viewBox=\"0 -960 960 960\">\n",
              "    <path d=\"M120-120v-720h720v720H120Zm60-500h600v-160H180v160Zm220 220h160v-160H400v160Zm0 220h160v-160H400v160ZM180-400h160v-160H180v160Zm440 0h160v-160H620v160ZM180-180h160v-160H180v160Zm440 0h160v-160H620v160Z\"/>\n",
              "  </svg>\n",
              "    </button>\n",
              "\n",
              "  <style>\n",
              "    .colab-df-container {\n",
              "      display:flex;\n",
              "      gap: 12px;\n",
              "    }\n",
              "\n",
              "    .colab-df-convert {\n",
              "      background-color: #E8F0FE;\n",
              "      border: none;\n",
              "      border-radius: 50%;\n",
              "      cursor: pointer;\n",
              "      display: none;\n",
              "      fill: #1967D2;\n",
              "      height: 32px;\n",
              "      padding: 0 0 0 0;\n",
              "      width: 32px;\n",
              "    }\n",
              "\n",
              "    .colab-df-convert:hover {\n",
              "      background-color: #E2EBFA;\n",
              "      box-shadow: 0px 1px 2px rgba(60, 64, 67, 0.3), 0px 1px 3px 1px rgba(60, 64, 67, 0.15);\n",
              "      fill: #174EA6;\n",
              "    }\n",
              "\n",
              "    .colab-df-buttons div {\n",
              "      margin-bottom: 4px;\n",
              "    }\n",
              "\n",
              "    [theme=dark] .colab-df-convert {\n",
              "      background-color: #3B4455;\n",
              "      fill: #D2E3FC;\n",
              "    }\n",
              "\n",
              "    [theme=dark] .colab-df-convert:hover {\n",
              "      background-color: #434B5C;\n",
              "      box-shadow: 0px 1px 3px 1px rgba(0, 0, 0, 0.15);\n",
              "      filter: drop-shadow(0px 1px 2px rgba(0, 0, 0, 0.3));\n",
              "      fill: #FFFFFF;\n",
              "    }\n",
              "  </style>\n",
              "\n",
              "    <script>\n",
              "      const buttonEl =\n",
              "        document.querySelector('#df-eba754d8-f0d7-43e6-8576-5a5d8f54f7a8 button.colab-df-convert');\n",
              "      buttonEl.style.display =\n",
              "        google.colab.kernel.accessAllowed ? 'block' : 'none';\n",
              "\n",
              "      async function convertToInteractive(key) {\n",
              "        const element = document.querySelector('#df-eba754d8-f0d7-43e6-8576-5a5d8f54f7a8');\n",
              "        const dataTable =\n",
              "          await google.colab.kernel.invokeFunction('convertToInteractive',\n",
              "                                                    [key], {});\n",
              "        if (!dataTable) return;\n",
              "\n",
              "        const docLinkHtml = 'Like what you see? Visit the ' +\n",
              "          '<a target=\"_blank\" href=https://colab.research.google.com/notebooks/data_table.ipynb>data table notebook</a>'\n",
              "          + ' to learn more about interactive tables.';\n",
              "        element.innerHTML = '';\n",
              "        dataTable['output_type'] = 'display_data';\n",
              "        await google.colab.output.renderOutput(dataTable, element);\n",
              "        const docLink = document.createElement('div');\n",
              "        docLink.innerHTML = docLinkHtml;\n",
              "        element.appendChild(docLink);\n",
              "      }\n",
              "    </script>\n",
              "  </div>\n",
              "\n",
              "\n",
              "    <div id=\"df-1fba3add-539b-43ea-9ab3-9ac258e35225\">\n",
              "      <button class=\"colab-df-quickchart\" onclick=\"quickchart('df-1fba3add-539b-43ea-9ab3-9ac258e35225')\"\n",
              "                title=\"Suggest charts\"\n",
              "                style=\"display:none;\">\n",
              "\n",
              "<svg xmlns=\"http://www.w3.org/2000/svg\" height=\"24px\"viewBox=\"0 0 24 24\"\n",
              "     width=\"24px\">\n",
              "    <g>\n",
              "        <path d=\"M19 3H5c-1.1 0-2 .9-2 2v14c0 1.1.9 2 2 2h14c1.1 0 2-.9 2-2V5c0-1.1-.9-2-2-2zM9 17H7v-7h2v7zm4 0h-2V7h2v10zm4 0h-2v-4h2v4z\"/>\n",
              "    </g>\n",
              "</svg>\n",
              "      </button>\n",
              "\n",
              "<style>\n",
              "  .colab-df-quickchart {\n",
              "      --bg-color: #E8F0FE;\n",
              "      --fill-color: #1967D2;\n",
              "      --hover-bg-color: #E2EBFA;\n",
              "      --hover-fill-color: #174EA6;\n",
              "      --disabled-fill-color: #AAA;\n",
              "      --disabled-bg-color: #DDD;\n",
              "  }\n",
              "\n",
              "  [theme=dark] .colab-df-quickchart {\n",
              "      --bg-color: #3B4455;\n",
              "      --fill-color: #D2E3FC;\n",
              "      --hover-bg-color: #434B5C;\n",
              "      --hover-fill-color: #FFFFFF;\n",
              "      --disabled-bg-color: #3B4455;\n",
              "      --disabled-fill-color: #666;\n",
              "  }\n",
              "\n",
              "  .colab-df-quickchart {\n",
              "    background-color: var(--bg-color);\n",
              "    border: none;\n",
              "    border-radius: 50%;\n",
              "    cursor: pointer;\n",
              "    display: none;\n",
              "    fill: var(--fill-color);\n",
              "    height: 32px;\n",
              "    padding: 0;\n",
              "    width: 32px;\n",
              "  }\n",
              "\n",
              "  .colab-df-quickchart:hover {\n",
              "    background-color: var(--hover-bg-color);\n",
              "    box-shadow: 0 1px 2px rgba(60, 64, 67, 0.3), 0 1px 3px 1px rgba(60, 64, 67, 0.15);\n",
              "    fill: var(--button-hover-fill-color);\n",
              "  }\n",
              "\n",
              "  .colab-df-quickchart-complete:disabled,\n",
              "  .colab-df-quickchart-complete:disabled:hover {\n",
              "    background-color: var(--disabled-bg-color);\n",
              "    fill: var(--disabled-fill-color);\n",
              "    box-shadow: none;\n",
              "  }\n",
              "\n",
              "  .colab-df-spinner {\n",
              "    border: 2px solid var(--fill-color);\n",
              "    border-color: transparent;\n",
              "    border-bottom-color: var(--fill-color);\n",
              "    animation:\n",
              "      spin 1s steps(1) infinite;\n",
              "  }\n",
              "\n",
              "  @keyframes spin {\n",
              "    0% {\n",
              "      border-color: transparent;\n",
              "      border-bottom-color: var(--fill-color);\n",
              "      border-left-color: var(--fill-color);\n",
              "    }\n",
              "    20% {\n",
              "      border-color: transparent;\n",
              "      border-left-color: var(--fill-color);\n",
              "      border-top-color: var(--fill-color);\n",
              "    }\n",
              "    30% {\n",
              "      border-color: transparent;\n",
              "      border-left-color: var(--fill-color);\n",
              "      border-top-color: var(--fill-color);\n",
              "      border-right-color: var(--fill-color);\n",
              "    }\n",
              "    40% {\n",
              "      border-color: transparent;\n",
              "      border-right-color: var(--fill-color);\n",
              "      border-top-color: var(--fill-color);\n",
              "    }\n",
              "    60% {\n",
              "      border-color: transparent;\n",
              "      border-right-color: var(--fill-color);\n",
              "    }\n",
              "    80% {\n",
              "      border-color: transparent;\n",
              "      border-right-color: var(--fill-color);\n",
              "      border-bottom-color: var(--fill-color);\n",
              "    }\n",
              "    90% {\n",
              "      border-color: transparent;\n",
              "      border-bottom-color: var(--fill-color);\n",
              "    }\n",
              "  }\n",
              "</style>\n",
              "\n",
              "      <script>\n",
              "        async function quickchart(key) {\n",
              "          const quickchartButtonEl =\n",
              "            document.querySelector('#' + key + ' button');\n",
              "          quickchartButtonEl.disabled = true;  // To prevent multiple clicks.\n",
              "          quickchartButtonEl.classList.add('colab-df-spinner');\n",
              "          try {\n",
              "            const charts = await google.colab.kernel.invokeFunction(\n",
              "                'suggestCharts', [key], {});\n",
              "          } catch (error) {\n",
              "            console.error('Error during call to suggestCharts:', error);\n",
              "          }\n",
              "          quickchartButtonEl.classList.remove('colab-df-spinner');\n",
              "          quickchartButtonEl.classList.add('colab-df-quickchart-complete');\n",
              "        }\n",
              "        (() => {\n",
              "          let quickchartButtonEl =\n",
              "            document.querySelector('#df-1fba3add-539b-43ea-9ab3-9ac258e35225 button');\n",
              "          quickchartButtonEl.style.display =\n",
              "            google.colab.kernel.accessAllowed ? 'block' : 'none';\n",
              "        })();\n",
              "      </script>\n",
              "    </div>\n",
              "\n",
              "  <div id=\"id_cb03baa5-77f4-4c18-bdfb-fd542579e4b5\">\n",
              "    <style>\n",
              "      .colab-df-generate {\n",
              "        background-color: #E8F0FE;\n",
              "        border: none;\n",
              "        border-radius: 50%;\n",
              "        cursor: pointer;\n",
              "        display: none;\n",
              "        fill: #1967D2;\n",
              "        height: 32px;\n",
              "        padding: 0 0 0 0;\n",
              "        width: 32px;\n",
              "      }\n",
              "\n",
              "      .colab-df-generate:hover {\n",
              "        background-color: #E2EBFA;\n",
              "        box-shadow: 0px 1px 2px rgba(60, 64, 67, 0.3), 0px 1px 3px 1px rgba(60, 64, 67, 0.15);\n",
              "        fill: #174EA6;\n",
              "      }\n",
              "\n",
              "      [theme=dark] .colab-df-generate {\n",
              "        background-color: #3B4455;\n",
              "        fill: #D2E3FC;\n",
              "      }\n",
              "\n",
              "      [theme=dark] .colab-df-generate:hover {\n",
              "        background-color: #434B5C;\n",
              "        box-shadow: 0px 1px 3px 1px rgba(0, 0, 0, 0.15);\n",
              "        filter: drop-shadow(0px 1px 2px rgba(0, 0, 0, 0.3));\n",
              "        fill: #FFFFFF;\n",
              "      }\n",
              "    </style>\n",
              "    <button class=\"colab-df-generate\" onclick=\"generateWithVariable('stock')\"\n",
              "            title=\"Generate code using this dataframe.\"\n",
              "            style=\"display:none;\">\n",
              "\n",
              "  <svg xmlns=\"http://www.w3.org/2000/svg\" height=\"24px\"viewBox=\"0 0 24 24\"\n",
              "       width=\"24px\">\n",
              "    <path d=\"M7,19H8.4L18.45,9,17,7.55,7,17.6ZM5,21V16.75L18.45,3.32a2,2,0,0,1,2.83,0l1.4,1.43a1.91,1.91,0,0,1,.58,1.4,1.91,1.91,0,0,1-.58,1.4L9.25,21ZM18.45,9,17,7.55Zm-12,3A5.31,5.31,0,0,0,4.9,8.1,5.31,5.31,0,0,0,1,6.5,5.31,5.31,0,0,0,4.9,4.9,5.31,5.31,0,0,0,6.5,1,5.31,5.31,0,0,0,8.1,4.9,5.31,5.31,0,0,0,12,6.5,5.46,5.46,0,0,0,6.5,12Z\"/>\n",
              "  </svg>\n",
              "    </button>\n",
              "    <script>\n",
              "      (() => {\n",
              "      const buttonEl =\n",
              "        document.querySelector('#id_cb03baa5-77f4-4c18-bdfb-fd542579e4b5 button.colab-df-generate');\n",
              "      buttonEl.style.display =\n",
              "        google.colab.kernel.accessAllowed ? 'block' : 'none';\n",
              "\n",
              "      buttonEl.onclick = () => {\n",
              "        google.colab.notebook.generateWithVariable('stock');\n",
              "      }\n",
              "      })();\n",
              "    </script>\n",
              "  </div>\n",
              "\n",
              "    </div>\n",
              "  </div>\n"
            ],
            "application/vnd.google.colaboratory.intrinsic+json": {
              "type": "dataframe",
              "variable_name": "stock",
              "summary": "{\n  \"name\": \"stock\",\n  \"rows\": 247,\n  \"fields\": [\n    {\n      \"column\": [\n        \"Date\",\n        \"\"\n      ],\n      \"properties\": {\n        \"dtype\": \"date\",\n        \"min\": \"2024-05-27 00:00:00\",\n        \"max\": \"2025-05-23 00:00:00\",\n        \"num_unique_values\": 247,\n        \"samples\": [\n          \"2024-07-12 00:00:00\",\n          \"2024-06-04 00:00:00\",\n          \"2025-02-12 00:00:00\"\n        ],\n        \"semantic_type\": \"\",\n        \"description\": \"\"\n      }\n    },\n    {\n      \"column\": [\n        \"INDUSINDBK.NS\",\n        \"Open\"\n      ],\n      \"properties\": {\n        \"dtype\": \"number\",\n        \"std\": 272.2483466394036,\n        \"min\": 630.0,\n        \"max\": 1519.13487880895,\n        \"num_unique_values\": 231,\n        \"samples\": [\n          835.0,\n          1450.0,\n          1452.4255672094614\n        ],\n        \"semantic_type\": \"\",\n        \"description\": \"\"\n      }\n    },\n    {\n      \"column\": [\n        \"INDUSINDBK.NS\",\n        \"High\"\n      ],\n      \"properties\": {\n        \"dtype\": \"number\",\n        \"std\": 270.3776010013563,\n        \"min\": 662.5,\n        \"max\": 1532.981219607231,\n        \"num_unique_values\": 242,\n        \"samples\": [\n          1469.0,\n          1505.189677583863,\n          986.0\n        ],\n        \"semantic_type\": \"\",\n        \"description\": \"\"\n      }\n    },\n    {\n      \"column\": [\n        \"INDUSINDBK.NS\",\n        \"Low\"\n      ],\n      \"properties\": {\n        \"dtype\": \"number\",\n        \"std\": 271.44413567446725,\n        \"min\": 606.0,\n        \"max\": 1496.6347294004145,\n        \"num_unique_values\": 242,\n        \"samples\": [\n          1452.949951171875,\n          1348.5783727188311,\n          970.1500244140625\n        ],\n        \"semantic_type\": \"\",\n        \"description\": \"\"\n      }\n    },\n    {\n      \"column\": [\n        \"INDUSINDBK.NS\",\n        \"Close\"\n      ],\n      \"properties\": {\n        \"dtype\": \"number\",\n        \"std\": 270.7211031198429,\n        \"min\": 637.0499877929688,\n        \"max\": 1512.904052734375,\n        \"num_unique_values\": 239,\n        \"samples\": [\n          1456.9000244140625,\n          1376.221435546875,\n          1360.9000244140625\n        ],\n        \"semantic_type\": \"\",\n        \"description\": \"\"\n      }\n    },\n    {\n      \"column\": [\n        \"INDUSINDBK.NS\",\n        \"Volume\"\n      ],\n      \"properties\": {\n        \"dtype\": \"number\",\n        \"std\": 11325527,\n        \"min\": 0,\n        \"max\": 108682122,\n        \"num_unique_values\": 247,\n        \"samples\": [\n          3340305,\n          7911282,\n          4798340\n        ],\n        \"semantic_type\": \"\",\n        \"description\": \"\"\n      }\n    }\n  ]\n}"
            }
          },
          "metadata": {},
          "execution_count": 30
        }
      ]
    },
    {
      "cell_type": "code",
      "source": [
        "len(stock)"
      ],
      "metadata": {
        "colab": {
          "base_uri": "https://localhost:8080/"
        },
        "id": "sBjRVZRvORF3",
        "outputId": "b27d9a43-1630-489f-b42d-b63918a1d44f"
      },
      "execution_count": 31,
      "outputs": [
        {
          "output_type": "execute_result",
          "data": {
            "text/plain": [
              "247"
            ]
          },
          "metadata": {},
          "execution_count": 31
        }
      ]
    },
    {
      "cell_type": "code",
      "source": [
        "all_daily_returns=[]\n",
        "\n",
        "for i in range(len(stock)):\n",
        "  daily_return=(stock['INDUSINDBK.NS']['Close'].iloc[i]/stock['INDUSINDBK.NS']['Open'].iloc[i])-1\n",
        "  all_daily_returns.append(daily_return)"
      ],
      "metadata": {
        "id": "pW5f4_SmzuB9"
      },
      "execution_count": 32,
      "outputs": []
    },
    {
      "cell_type": "code",
      "source": [
        "len(all_daily_returns)"
      ],
      "metadata": {
        "colab": {
          "base_uri": "https://localhost:8080/"
        },
        "id": "OO36qOLCOkc8",
        "outputId": "f5243a65-92e3-4611-ef66-723ae8fe28d7"
      },
      "execution_count": 33,
      "outputs": [
        {
          "output_type": "execute_result",
          "data": {
            "text/plain": [
              "247"
            ]
          },
          "metadata": {},
          "execution_count": 33
        }
      ]
    },
    {
      "cell_type": "code",
      "source": [
        "all_daily_returns"
      ],
      "metadata": {
        "collapsed": true,
        "colab": {
          "base_uri": "https://localhost:8080/"
        },
        "id": "gLmCx25COmRp",
        "outputId": "67feb03a-75a8-48bd-9ec3-008e5884638e"
      },
      "execution_count": 34,
      "outputs": [
        {
          "output_type": "execute_result",
          "data": {
            "text/plain": [
              "[np.float64(0.011914217833943086),\n",
              " np.float64(-0.009132314500457483),\n",
              " np.float64(0.004989676531314435),\n",
              " np.float64(-0.007681722340106334),\n",
              " np.float64(0.004017840374957116),\n",
              " np.float64(0.009736295241034476),\n",
              " np.float64(-0.07844627636826351),\n",
              " np.float64(0.07172434928373805),\n",
              " np.float64(-0.01260001627604157),\n",
              " np.float64(0.01603617580252359),\n",
              " np.float64(-0.008441791400775722),\n",
              " np.float64(-0.0026598997790403534),\n",
              " np.float64(-0.004527162977867261),\n",
              " np.float64(0.007520053475935873),\n",
              " np.float64(-0.005395580545556222),\n",
              " np.float64(-0.004029045961649547),\n",
              " np.float64(0.007914523404861873),\n",
              " np.float64(-0.0053060054779053845),\n",
              " np.float64(0.00272490112545154),\n",
              " np.float64(-0.011113691224277522),\n",
              " np.float64(0.000535239222696049),\n",
              " np.float64(-6.673937646017869e-05),\n",
              " np.float64(0.005856760374832515),\n",
              " np.float64(-0.01777330650570086),\n",
              " np.float64(-0.008203088708501949),\n",
              " np.float64(-0.019178038132272368),\n",
              " np.float64(0.011536573288124963),\n",
              " np.float64(-0.008657099871962282),\n",
              " np.float64(-0.0019137091162143571),\n",
              " np.float64(0.007037849319415201),\n",
              " np.float64(-0.004684247050659285),\n",
              " np.float64(-0.0052668635006103415),\n",
              " np.float64(0.0012605825761944356),\n",
              " np.float64(0.0017807603548358752),\n",
              " np.float64(0.003858219553788622),\n",
              " np.float64(0.0005881980258239938),\n",
              " np.float64(0.011244585126146678),\n",
              " np.float64(-0.013158414807446728),\n",
              " np.float64(-0.003221271418723748),\n",
              " np.float64(-0.0065378199143233395),\n",
              " np.float64(-0.009327581187838163),\n",
              " np.float64(-0.007127447382334395),\n",
              " np.float64(0.028498186383928648),\n",
              " np.float64(-0.002473498233215521),\n",
              " np.float64(0.012894049714399669),\n",
              " np.float64(-0.005017387576219501),\n",
              " np.float64(-0.008484653920434737),\n",
              " np.float64(-0.006824783533357914),\n",
              " np.float64(0.0010446334091318565),\n",
              " np.float64(-0.01003584229390686),\n",
              " np.float64(-0.03296188036372216),\n",
              " np.float64(-0.00048214130145185496),\n",
              " np.float64(-0.012582261281547158),\n",
              " np.float64(0.0007778387315395818),\n",
              " np.float64(-0.003247250490083009),\n",
              " np.float64(-0.013891430240045688),\n",
              " np.float64(0.012656854826761377),\n",
              " np.float64(-0.016386316150559743),\n",
              " np.float64(0.012757551215337504),\n",
              " np.float64(0.0028985507246377384),\n",
              " np.float64(-0.001553429672491169),\n",
              " np.float64(0.004739543290973147),\n",
              " np.float64(-0.007740305633326394),\n",
              " np.float64(-0.0019482453240659003),\n",
              " np.float64(0.019221734446789984),\n",
              " np.float64(0.0022981191572710724),\n",
              " np.float64(0.0021797809884471775),\n",
              " np.float64(0.016698859026925028),\n",
              " np.float64(-0.009172447467672429),\n",
              " np.float64(0.012279480885012406),\n",
              " np.float64(-0.013929297010351727),\n",
              " np.float64(-0.01198778518088861),\n",
              " np.float64(0.013304005623021142),\n",
              " np.float64(0.004653946602589887),\n",
              " np.float64(-0.009892763690027118),\n",
              " np.float64(0.012770551071882963),\n",
              " np.float64(0.009689688846982847),\n",
              " np.float64(0.00017007381768374685),\n",
              " np.float64(-0.007882289860664748),\n",
              " np.float64(0.006972789115646361),\n",
              " np.float64(-0.006822938228720932),\n",
              " np.float64(-0.0052419682984711224),\n",
              " np.float64(-0.01684336089677041),\n",
              " np.float64(-0.014828873627539263),\n",
              " np.float64(-0.007241379310344853),\n",
              " np.float64(0.005328685932093347),\n",
              " np.float64(0.003912114737045336),\n",
              " np.float64(-0.01322428385416663),\n",
              " np.float64(-0.027793137122844813),\n",
              " np.float64(-0.01157407407407407),\n",
              " np.float64(-0.000867073588273537),\n",
              " np.float64(-0.02676514727237933),\n",
              " np.float64(0.0012520331942076357),\n",
              " np.float64(-0.02005109654629289),\n",
              " np.float64(0.004740758825231506),\n",
              " np.float64(-0.009190500863449302),\n",
              " np.float64(0.011700853293668212),\n",
              " np.float64(-0.007366867677562006),\n",
              " np.float64(-0.006420628171125431),\n",
              " np.float64(-0.0004822139570196393),\n",
              " np.float64(0.0016728624535315983),\n",
              " np.float64(-0.03239528659910795),\n",
              " np.float64(-0.026544955043976914),\n",
              " np.float64(-3.917821537957611e-05),\n",
              " np.float64(0.0031740194577782876),\n",
              " np.float64(-0.10438523165439595),\n",
              " np.float64(0.0032338066721628866),\n",
              " np.float64(-0.01950323334128845),\n",
              " np.float64(0.018069676248104738),\n",
              " np.float64(0.001518003402217749),\n",
              " np.float64(0.0009892589160380716),\n",
              " np.float64(-0.0029990170308107356),\n",
              " np.float64(0.024819052012720055),\n",
              " np.float64(-0.01341208803366789),\n",
              " np.float64(-0.026887616180363727),\n",
              " np.float64(-0.007207030661506186),\n",
              " np.float64(0.007407453777896533),\n",
              " np.float64(-0.001648921058594488),\n",
              " np.float64(-0.016227079961958712),\n",
              " np.float64(-0.024784252719019628),\n",
              " np.float64(-0.010733652795728688),\n",
              " np.float64(-0.010192961695169478),\n",
              " np.float64(-0.018942434770661154),\n",
              " np.float64(0.012373237532486092),\n",
              " np.float64(-0.016176470588235348),\n",
              " np.float64(-0.002075750317045544),\n",
              " np.float64(-0.009930817977241824),\n",
              " np.float64(-0.012276988390305887),\n",
              " np.float64(-0.002254283193103057),\n",
              " np.float64(0.0009090696683597965),\n",
              " np.float64(0.005387689411820329),\n",
              " np.float64(-0.0061194272776741165),\n",
              " np.float64(-0.0077534669910226395),\n",
              " np.float64(-0.009650024414062486),\n",
              " np.float64(-0.0102739850246234),\n",
              " np.float64(0.0013224697792153517),\n",
              " np.float64(-0.0006595884465372404),\n",
              " np.float64(0.012119687836745774),\n",
              " np.float64(-0.004389480914165023),\n",
              " np.float64(0.01159019221470925),\n",
              " np.float64(-0.026297380824288896),\n",
              " np.float64(-0.011875487029997855),\n",
              " np.float64(0.005630890942713851),\n",
              " np.float64(-0.03182290395100906),\n",
              " np.float64(0.0071888811036211475),\n",
              " np.float64(-0.006057398732232988),\n",
              " np.float64(-0.008563816801030577),\n",
              " np.float64(0.021810231913972355),\n",
              " np.float64(0.010699687755840515),\n",
              " np.float64(0.0022442843570589233),\n",
              " np.float64(0.011266481434577091),\n",
              " np.float64(0.01624805288153519),\n",
              " np.float64(0.004934566378713479),\n",
              " np.float64(-0.03472811979713941),\n",
              " np.float64(0.013863784809981627),\n",
              " np.float64(-0.004919400041577426),\n",
              " np.float64(-0.0001528600792745083),\n",
              " np.float64(-0.03514280876157705),\n",
              " np.float64(0.005123265735819116),\n",
              " np.float64(0.017987515013383026),\n",
              " np.float64(-0.009060476492117164),\n",
              " np.float64(0.008634928217101878),\n",
              " np.float64(-0.0019529870242962488),\n",
              " np.float64(0.004657420765003861),\n",
              " np.float64(-0.01142501747249558),\n",
              " np.float64(0.006739592428565144),\n",
              " np.float64(0.005176251293351974),\n",
              " np.float64(-0.020651993919933886),\n",
              " np.float64(-0.02170009270640838),\n",
              " np.float64(-0.0034138275513099225),\n",
              " np.float64(0.013465828173089278),\n",
              " np.float64(0.009227037975993557),\n",
              " np.float64(0.03514179399826589),\n",
              " np.float64(0.03316276807990026),\n",
              " np.float64(0.01881288954429694),\n",
              " np.float64(0.02415767217187903),\n",
              " np.float64(0.008361769815343756),\n",
              " np.float64(0.003248350740507444),\n",
              " np.float64(0.016580287881241107),\n",
              " np.float64(-0.0074349442379182396),\n",
              " np.float64(-0.008791702478549546),\n",
              " np.float64(-0.019614246513781297),\n",
              " np.float64(0.007455507455507382),\n",
              " np.float64(-0.0240091003792251),\n",
              " np.float64(0.023281896737145535),\n",
              " np.float64(-0.020000023362739205),\n",
              " np.float64(0.011424737350953729),\n",
              " np.float64(0.01718537218439442),\n",
              " np.float64(0.0021121895912252775),\n",
              " np.float64(-0.0009221931796811189),\n",
              " np.float64(0.005884117015595658),\n",
              " np.float64(-0.00019111017052408918),\n",
              " np.float64(-0.047980792705829334),\n",
              " np.float64(0.005158575749525385),\n",
              " np.float64(0.009815925956991212),\n",
              " np.float64(-0.012598450001587547),\n",
              " np.float64(-0.004405725197713872),\n",
              " np.float64(-0.03527291452111225),\n",
              " np.float64(0.0061452513966480105),\n",
              " np.float64(-0.19063482962911305),\n",
              " np.float64(0.08682541620163686),\n",
              " np.float64(-0.025579745527626763),\n",
              " np.float64(-0.0391489015403369),\n",
              " np.float64(0.0),\n",
              " np.float64(0.011240893732892276),\n",
              " np.float64(-0.01921150453629028),\n",
              " np.float64(0.002773758268704407),\n",
              " np.float64(-0.0325866875620936),\n",
              " np.float64(-0.04946288243847741),\n",
              " np.float64(0.028082777993868158),\n",
              " np.float64(0.027849840286836347),\n",
              " np.float64(-0.032961345854259694),\n",
              " np.float64(0.0519260588706183),\n",
              " np.float64(0.02892925098412147),\n",
              " np.float64(0.020792879995988),\n",
              " np.float64(-0.02710413694721825),\n",
              " np.float64(0.06106754225127542),\n",
              " np.float64(-0.0076653523329793805),\n",
              " np.float64(-0.0016185339241944208),\n",
              " np.float64(0.006642802703671569),\n",
              " np.float64(0.04382982186391837),\n",
              " np.float64(0.05522088353413657),\n",
              " np.float64(0.008182698645139652),\n",
              " np.float64(0.032668344397794646),\n",
              " np.float64(-0.0031645569620253333),\n",
              " np.float64(-0.004075490563985706),\n",
              " np.float64(0.031132075471698162),\n",
              " np.float64(0.00042576105345193405),\n",
              " np.float64(0.003079695402136151),\n",
              " np.float64(-0.005938594842339051),\n",
              " np.float64(0.0224390541634909),\n",
              " np.float64(0.025688637373690204),\n",
              " np.float64(-0.009649122807017574),\n",
              " np.float64(-0.01765575696135957),\n",
              " np.float64(0.008222476170457904),\n",
              " np.float64(-0.009820373900636281),\n",
              " np.float64(0.015766619748021515),\n",
              " np.float64(-0.055688622754491046),\n",
              " np.float64(-0.0301007864156958),\n",
              " np.float64(0.008193516885080632),\n",
              " np.float64(0.0032133676092545027),\n",
              " np.float64(0.0402666829427083),\n",
              " np.float64(0.005321147902289214),\n",
              " np.float64(-0.003503184713375851),\n",
              " np.float64(-0.01666665107658849),\n",
              " np.float64(0.046666666666666634),\n",
              " np.float64(0.015747086432691626)]"
            ]
          },
          "metadata": {},
          "execution_count": 34
        }
      ]
    },
    {
      "cell_type": "code",
      "source": [
        "total_up=0\n",
        "total_down=0\n",
        "c_up=0\n",
        "c_down=0\n",
        "for i in range(len(all_daily_returns)):\n",
        "  if all_daily_returns[i]>0:\n",
        "    total_up+=all_daily_returns[i]\n",
        "    c_up+=1\n",
        "  else:\n",
        "    total_down+=all_daily_returns[i]\n",
        "    c_down+=1"
      ],
      "metadata": {
        "id": "BwNJ0ByNOoT5"
      },
      "execution_count": 35,
      "outputs": []
    },
    {
      "cell_type": "code",
      "source": [
        "c_down"
      ],
      "metadata": {
        "colab": {
          "base_uri": "https://localhost:8080/"
        },
        "id": "xnDCGOtlVJPw",
        "outputId": "a08a1797-b62a-460b-fa3c-e2c47c0279f8"
      },
      "execution_count": 36,
      "outputs": [
        {
          "output_type": "execute_result",
          "data": {
            "text/plain": [
              "131"
            ]
          },
          "metadata": {},
          "execution_count": 36
        }
      ]
    },
    {
      "cell_type": "code",
      "source": [
        "prob_up=c_up/len(stock)\n",
        "\n",
        "prob_down=c_down/len(stock)"
      ],
      "metadata": {
        "id": "cPyEjk8cUzbE"
      },
      "execution_count": 39,
      "outputs": []
    },
    {
      "cell_type": "code",
      "source": [
        "prob_up"
      ],
      "metadata": {
        "colab": {
          "base_uri": "https://localhost:8080/"
        },
        "id": "xV6YnAdmSofJ",
        "outputId": "1ca3b0e6-0fd7-403f-9d26-7ed8a9f4aab1"
      },
      "execution_count": 40,
      "outputs": [
        {
          "output_type": "execute_result",
          "data": {
            "text/plain": [
              "0.46963562753036436"
            ]
          },
          "metadata": {},
          "execution_count": 40
        }
      ]
    },
    {
      "cell_type": "code",
      "source": [
        "avg_up=total_up/c_up"
      ],
      "metadata": {
        "id": "7r_z_lfKazE5"
      },
      "execution_count": 41,
      "outputs": []
    },
    {
      "cell_type": "code",
      "source": [
        "avg_up"
      ],
      "metadata": {
        "colab": {
          "base_uri": "https://localhost:8080/"
        },
        "id": "YT3qR2M8v5Lp",
        "outputId": "ea178095-0ff3-42ea-bb64-343264e17cd3"
      },
      "execution_count": 44,
      "outputs": [
        {
          "output_type": "execute_result",
          "data": {
            "text/plain": [
              "np.float64(0.01356316834967755)"
            ]
          },
          "metadata": {},
          "execution_count": 44
        }
      ]
    },
    {
      "cell_type": "code",
      "source": [
        "avg_down=total_down/c_down"
      ],
      "metadata": {
        "id": "74-7LZiJSxhZ"
      },
      "execution_count": 42,
      "outputs": []
    },
    {
      "cell_type": "code",
      "source": [
        "avg_down"
      ],
      "metadata": {
        "colab": {
          "base_uri": "https://localhost:8080/"
        },
        "id": "Rf3BwoDYv7z3",
        "outputId": "dc1ea1f9-a870-40a6-bf56-7e2641331b77"
      },
      "execution_count": 45,
      "outputs": [
        {
          "output_type": "execute_result",
          "data": {
            "text/plain": [
              "np.float64(-0.015223990420283644)"
            ]
          },
          "metadata": {},
          "execution_count": 45
        }
      ]
    },
    {
      "cell_type": "code",
      "source": [
        "prob_down"
      ],
      "metadata": {
        "colab": {
          "base_uri": "https://localhost:8080/"
        },
        "id": "zqhkggKQVc1x",
        "outputId": "679fe944-3647-414c-de42-9185b9d277be"
      },
      "execution_count": 43,
      "outputs": [
        {
          "output_type": "execute_result",
          "data": {
            "text/plain": [
              "0.5303643724696356"
            ]
          },
          "metadata": {},
          "execution_count": 43
        }
      ]
    },
    {
      "cell_type": "markdown",
      "source": [
        "# **Part 1: Theory vs Reality**"
      ],
      "metadata": {
        "id": "fXI2rXcJspsP"
      }
    },
    {
      "cell_type": "markdown",
      "source": [
        "# Probability of exactly 6 up days in 10 days"
      ],
      "metadata": {
        "id": "5md8rcfuV79c"
      }
    },
    {
      "cell_type": "code",
      "source": [
        "from scipy.stats import binom\n",
        "\n",
        "n=10\n",
        "p=0.6\n",
        "\n",
        "prob_6=binom.pmf(k=6, n=10, p=0.6)"
      ],
      "metadata": {
        "id": "laeuultNVtv6"
      },
      "execution_count": 23,
      "outputs": []
    },
    {
      "cell_type": "code",
      "source": [
        "prob_6"
      ],
      "metadata": {
        "colab": {
          "base_uri": "https://localhost:8080/"
        },
        "id": "nHjr3ABwWTXr",
        "outputId": "41aa0309-8f1a-4304-ff85-1ac8d3ca56c4"
      },
      "execution_count": 24,
      "outputs": [
        {
          "output_type": "execute_result",
          "data": {
            "text/plain": [
              "np.float64(0.2508226559999998)"
            ]
          },
          "metadata": {},
          "execution_count": 24
        }
      ]
    },
    {
      "cell_type": "markdown",
      "source": [
        "# Probability of at least 8 up days in 10 days"
      ],
      "metadata": {
        "id": "R82PGQ3RWVCL"
      }
    },
    {
      "cell_type": "code",
      "source": [
        "n=10\n",
        "p=0.6\n",
        "prob_8=0\n",
        "\n",
        "for i in range(8,11):\n",
        "  prob_8+=binom.pmf(k=i, n=10, p=0.6)"
      ],
      "metadata": {
        "id": "MyzGY1QsWaNY"
      },
      "execution_count": 25,
      "outputs": []
    },
    {
      "cell_type": "code",
      "source": [
        "prob_8"
      ],
      "metadata": {
        "colab": {
          "base_uri": "https://localhost:8080/"
        },
        "id": "-riTzEkmXIa1",
        "outputId": "a706fabd-0e94-43d3-9e16-c766cca91192"
      },
      "execution_count": 26,
      "outputs": [
        {
          "output_type": "execute_result",
          "data": {
            "text/plain": [
              "np.float64(0.16728975359999984)"
            ]
          },
          "metadata": {},
          "execution_count": 26
        }
      ]
    },
    {
      "cell_type": "markdown",
      "source": [
        "# simulation"
      ],
      "metadata": {
        "id": "QzYG41KnXizY"
      }
    },
    {
      "cell_type": "code",
      "source": [
        "simulations = np.random.binomial(n=10, p=p, size=1000)"
      ],
      "metadata": {
        "id": "mr_9rZQiTY9N"
      },
      "execution_count": 27,
      "outputs": []
    },
    {
      "cell_type": "code",
      "source": [
        "len(simulations)"
      ],
      "metadata": {
        "colab": {
          "base_uri": "https://localhost:8080/"
        },
        "id": "8knEjkzWXmKv",
        "outputId": "8f3b7bed-1e97-462a-b9dd-d85b3bf859e7"
      },
      "execution_count": 28,
      "outputs": [
        {
          "output_type": "execute_result",
          "data": {
            "text/plain": [
              "1000"
            ]
          },
          "metadata": {},
          "execution_count": 28
        }
      ]
    },
    {
      "cell_type": "code",
      "source": [
        "import matplotlib.pyplot as plt\n",
        "\n",
        "\n",
        "\n",
        "plt.hist(simulations, bins=np.arange(0, 12)-0.5, edgecolor='black', density=True)\n",
        "plt.title('Simulated UP Days in 10 Trials (1000 Runs)')\n",
        "plt.xlabel('UP Days')\n",
        "plt.ylabel('Probability')\n",
        "plt.grid(True)\n",
        "plt.show()"
      ],
      "metadata": {
        "colab": {
          "base_uri": "https://localhost:8080/",
          "height": 472
        },
        "id": "7dfZq4zuXtli",
        "outputId": "84999ef6-3137-4604-a36e-d6ce3fcaf07c"
      },
      "execution_count": 29,
      "outputs": [
        {
          "output_type": "display_data",
          "data": {
            "text/plain": [
              "<Figure size 640x480 with 1 Axes>"
            ],
            "image/png": "[encoded data removed]"
          },
          "metadata": {}
        }
      ]
    },
    {
      "cell_type": "markdown",
      "source": [
        "# Part 2: The Paradox"
      ],
      "metadata": {
        "id": "V_41KIeLYOGI"
      }
    },
    {
      "cell_type": "markdown",
      "source": [
        "# Prove this: Even with 6 up days out of 10, you can still lose money."
      ],
      "metadata": {
        "id": "q5hvkNnmtiGE"
      }
    },
    {
      "cell_type": "code",
      "source": [
        "all_daily_returns=[]\n",
        "\n",
        "for i in range(len(stock)):\n",
        "  daily_return=(stock['INDUSINDBK.NS']['Close'].iloc[i]/stock['INDUSINDBK.NS']['Open'].iloc[i])-1\n",
        "  all_daily_returns.append(daily_return)"
      ],
      "metadata": {
        "id": "q7uwQjK2z-g3"
      },
      "execution_count": 54,
      "outputs": []
    },
    {
      "cell_type": "code",
      "source": [
        "total_up=0\n",
        "total_down=0\n",
        "c_up=0\n",
        "c_down=0\n",
        "for i in range(len(all_daily_returns)):\n",
        "  if all_daily_returns[i]>0:\n",
        "    total_up+=all_daily_returns[i]\n",
        "    c_up+=1\n",
        "  else:\n",
        "    total_down+=all_daily_returns[i]\n",
        "    c_down+=1"
      ],
      "metadata": {
        "id": "dpHpf500z-g4"
      },
      "execution_count": 55,
      "outputs": []
    },
    {
      "cell_type": "code",
      "source": [
        "prob_up=c_up/len(stock)\n",
        "\n",
        "prob_down=c_down/len(stock)"
      ],
      "metadata": {
        "id": "Dz01u8G8z-g4"
      },
      "execution_count": 56,
      "outputs": []
    },
    {
      "cell_type": "code",
      "source": [
        "prob_up"
      ],
      "metadata": {
        "colab": {
          "base_uri": "https://localhost:8080/"
        },
        "id": "X1YurzCF1UVU",
        "outputId": "38cf9dd6-5b8d-4988-c05b-260a4111b682"
      },
      "execution_count": 63,
      "outputs": [
        {
          "output_type": "execute_result",
          "data": {
            "text/plain": [
              "0.46963562753036436"
            ]
          },
          "metadata": {},
          "execution_count": 63
        }
      ]
    },
    {
      "cell_type": "code",
      "source": [
        "prob_down"
      ],
      "metadata": {
        "colab": {
          "base_uri": "https://localhost:8080/"
        },
        "id": "_g9flRI71U4V",
        "outputId": "2cb2a20c-e046-4cdf-958d-ad22ee445dbe"
      },
      "execution_count": 64,
      "outputs": [
        {
          "output_type": "execute_result",
          "data": {
            "text/plain": [
              "0.5303643724696356"
            ]
          },
          "metadata": {},
          "execution_count": 64
        }
      ]
    },
    {
      "cell_type": "code",
      "source": [
        "avg_up=total_up/c_up"
      ],
      "metadata": {
        "id": "7d-OMf3Qz-g4"
      },
      "execution_count": 57,
      "outputs": []
    },
    {
      "cell_type": "code",
      "source": [
        "avg_down=total_down/c_down"
      ],
      "metadata": {
        "id": "uHBtmcVxz-g5"
      },
      "execution_count": 58,
      "outputs": []
    },
    {
      "cell_type": "code",
      "source": [
        "avg_down"
      ],
      "metadata": {
        "colab": {
          "base_uri": "https://localhost:8080/"
        },
        "id": "xuicKJ3TdzNe",
        "outputId": "8fa850f1-4e06-494e-ea4e-6eaebd5a1581"
      },
      "execution_count": 59,
      "outputs": [
        {
          "output_type": "execute_result",
          "data": {
            "text/plain": [
              "np.float64(-0.015223990420283644)"
            ]
          },
          "metadata": {},
          "execution_count": 59
        }
      ]
    },
    {
      "cell_type": "code",
      "source": [
        "avg_up"
      ],
      "metadata": {
        "colab": {
          "base_uri": "https://localhost:8080/"
        },
        "id": "qF5OpYWdd1G9",
        "outputId": "d4dc54bc-3209-4ca4-f0be-8848725d1253"
      },
      "execution_count": 60,
      "outputs": [
        {
          "output_type": "execute_result",
          "data": {
            "text/plain": [
              "np.float64(0.01356316834967755)"
            ]
          },
          "metadata": {},
          "execution_count": 60
        }
      ]
    },
    {
      "cell_type": "code",
      "source": [
        "current_return=(6*avg_up)+(4*avg_down)\n",
        "\n",
        "print(f\"Net return for 6 up and 4 down days:{current_return:.5f}\")"
      ],
      "metadata": {
        "colab": {
          "base_uri": "https://localhost:8080/"
        },
        "id": "ug02z47JwWPe",
        "outputId": "3ba8fa98-d219-4368-c321-5e7f2d250cf9"
      },
      "execution_count": 61,
      "outputs": [
        {
          "output_type": "stream",
          "name": "stdout",
          "text": [
            "Net return for 6 up and 4 down days:0.02048\n"
          ]
        }
      ]
    },
    {
      "cell_type": "markdown",
      "source": [
        "In our case, we are not getting loss by 6 up days and 4 dawn days, so, here profits are outweighing the losses, but this is not true for all stocks data, the given paradox will be proved when avg_down is much larger than avg_up."
      ],
      "metadata": {
        "id": "91YqQ5zMzITN"
      }
    },
    {
      "cell_type": "markdown",
      "source": [
        "# Part 3: The Ultimate Question"
      ],
      "metadata": {
        "id": "AMTKTKe8ejN8"
      }
    },
    {
      "cell_type": "code",
      "source": [
        "expected_value=(prob_up*100) + (prob_down*(-150))\n",
        "expected_value"
      ],
      "metadata": {
        "id": "yJfkoeFefZAU",
        "colab": {
          "base_uri": "https://localhost:8080/"
        },
        "outputId": "7a16b167-f112-4f5a-eb63-1df2643e935a"
      },
      "execution_count": 62,
      "outputs": [
        {
          "output_type": "execute_result",
          "data": {
            "text/plain": [
              "-32.59109311740891"
            ]
          },
          "metadata": {},
          "execution_count": 62
        }
      ]
    },
    {
      "cell_type": "markdown",
      "source": [
        "So, the expected value is (-32.59109311740891), which is negative,means that over the long run, this bet is not profitable and can lead to losses.The loss on a down day is more higher than the profit on up day and also our stock has high probability of going down(prob_down=0.5303643724696356). so, if we take this bet, then we are expected to get approximately 32.59$ loss, so, we won't take this bet."
      ],
      "metadata": {
        "id": "kQd-VHQr1cwb"
      }
    }
  ]
}