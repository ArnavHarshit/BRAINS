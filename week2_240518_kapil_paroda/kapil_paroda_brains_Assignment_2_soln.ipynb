{
 "cells": [
  {
   "cell_type": "markdown",
   "id": "277d18a5-f11b-456f-a05a-491560906105",
   "metadata": {},
   "source": [
    "**<h1 style ='text-align:center;'>Assignment-2 Brains</h1>**"
   ]
  },
  {
   "cell_type": "markdown",
   "id": "0e6f03a3-9b31-4efd-b97a-e88ab5c7e3b4",
   "metadata": {},
   "source": [
    "## **Problem Statement 1: Trade Logic & Risk Control Basics**"
   ]
  },
  {
   "cell_type": "markdown",
   "id": "7888f04b-34b5-463d-8b59-bdcbe5dbd0f9",
   "metadata": {},
   "source": [
    "### 1. What does leverage less than 1 mean? Does it normally make financial sense? Think of its utility/applicability in our backtesting engine, if any."
   ]
  },
  {
   "cell_type": "markdown",
   "id": "026bf6eb-fd40-4c87-9e7e-0c7794fba5f8",
   "metadata": {},
   "source": [
    "**Ans**: Leverage means, `Position_size/Capital`, hence leverage less than 1 means that the Position Size is less than the capital.\n",
    "- Hence, it makes a lot of financial sense.\n",
    "- It implies partial use of capital that is very useful for risk-averse trading.\n",
    "- By this we take smaller positions which implies smaller profits but also also smaller losses.\n",
    "- This can help in backtesting engine by helping us to analyse multiple strategies, by splitting our capital accordingly."
   ]
  },
  {
   "cell_type": "markdown",
   "id": "4ed7ad0e-d71a-4b41-8585-c0d82cd21fbe",
   "metadata": {},
   "source": [
    "### 2. Explain the difference between a static stop loss and a trailing stop loss in the context of trade risk management. Discuss how each behaves in a trending market versus a volatile market."
   ]
  },
  {
   "cell_type": "markdown",
   "id": "b2c0ed10-c433-4d24-a826-055e62af7170",
   "metadata": {},
   "source": [
    "**Ans**: Static stop-loss remains at a fixed value, whereas the trailing stop loss increases(never decreases) along with the increase in price of stock. So in the context of risk management, the maximum loss will be same in both the cases, but the trailing stop-loss helps us in booking lesser losses or even profits. \n",
    "- In trending market, as the market does not fluctuate much, the chances of stop loss getting triggered is less and hence trailing stop-loss is better here\n",
    "- Whereas, in volatile markets, the market fluctuates a lot and hence the chances of triggering a stop loss is high therefore trailing stop losses tend to be triggered faster(as their value increases and market is fluctuating a lot), hence we can book a loss even if prices are about to increase after some time. Therefore in such a situation I would prefer to have normal stop-loss."
   ]
  },
  {
   "cell_type": "markdown",
   "id": "ffe1015c-eb16-46c8-9814-5b1d935f1c96",
   "metadata": {},
   "source": [
    "### 3. Analyze whether implementing a trailing take profit is necessary. Is its behavior captured by some other already defined risk management method? If yes, then name it."
   ]
  },
  {
   "cell_type": "markdown",
   "id": "b102e910-25a4-454d-8828-ae3e0276da15",
   "metadata": {},
   "source": [
    "**Ans**:No, its not necessary to implement a trailing take profit, as it's behavious is already captured by trailing stop loss."
   ]
  },
  {
   "cell_type": "markdown",
   "id": "f8a389e6-39af-4b38-9d0c-133f60b4d264",
   "metadata": {},
   "source": [
    "### 4. In what scenarios can a trade remain open even after the price falls below the set stop-loss level?"
   ]
  },
  {
   "cell_type": "markdown",
   "id": "964fa6aa-c3c7-46d8-a044-db4d6ff0723e",
   "metadata": {},
   "source": [
    "**Ans**:The trade can remain open even after the price falls below the set stoploss level due to the following reasons :\n",
    "- Network issues\n",
    "- Broker API delays\n",
    "- Code bugs\n",
    "- In case we place a stop Limit order instead of a Stop Market order,\n",
    "  For example, if price to trigger is 95, and sell at 94 or above(limit order) and market falls from 95 to 90 immediately then there are no buyers at 94-95 range, hence trade remains open!  "
   ]
  },
  {
   "cell_type": "markdown",
   "id": "f410a35f-9d06-4a69-8dbf-b3007aec6fcf",
   "metadata": {},
   "source": [
    "## **Problem Statement 2: Probabilistic Pattern Validator**"
   ]
  },
  {
   "cell_type": "markdown",
   "id": "9ab350df-df79-4f6b-a08e-1b0ec8659d96",
   "metadata": {},
   "source": [
    "### 1. Pattern Identification: For each of the specified candlestick patterns, scan a given OHLCV dataset and locate all occurrences of the pattern. Use data from any NSE-listed stock of your choice, covering a period of the last 5 years."
   ]
  },
  {
   "cell_type": "code",
   "execution_count": 2,
   "id": "93b7e34d-eb61-48f5-b899-6d508c8f47bf",
   "metadata": {},
   "outputs": [],
   "source": [
    "!pip install yfinance plotly mplfinance --quiet\n",
    "\n",
    "import yfinance as yf\n",
    "import mplfinance as mpf\n",
    "import pandas as pd\n",
    "import numpy as np\n",
    "import plotly.graph_objects as go\n",
    "import plotly.express as px\n",
    "import plotly.subplots as sp\n",
    "import matplotlib.pyplot as plt\n",
    "import statistics"
   ]
  },
  {
   "cell_type": "code",
   "execution_count": 3,
   "id": "a1a0c604-b2f6-412b-aa70-d0986655c189",
   "metadata": {},
   "outputs": [],
   "source": [
    "# Set some display options\n",
    "plt.style.use('seaborn-v0_8-darkgrid')\n",
    "pd.set_option('display.max_columns', None)"
   ]
  },
  {
   "cell_type": "code",
   "execution_count": 4,
   "id": "ca3194be-3658-4de0-a828-8f420578d07e",
   "metadata": {},
   "outputs": [
    {
     "name": "stdout",
     "output_type": "stream",
     "text": [
      "YF.download() has changed argument auto_adjust default to True\n"
     ]
    },
    {
     "data": {
      "text/html": [
       "<div>\n",
       "<style scoped>\n",
       "    .dataframe tbody tr th:only-of-type {\n",
       "        vertical-align: middle;\n",
       "    }\n",
       "\n",
       "    .dataframe tbody tr th {\n",
       "        vertical-align: top;\n",
       "    }\n",
       "\n",
       "    .dataframe thead th {\n",
       "        text-align: right;\n",
       "    }\n",
       "</style>\n",
       "<table border=\"1\" class=\"dataframe\">\n",
       "  <thead>\n",
       "    <tr style=\"text-align: right;\">\n",
       "      <th></th>\n",
       "      <th>datetime</th>\n",
       "      <th>close</th>\n",
       "      <th>high</th>\n",
       "      <th>low</th>\n",
       "      <th>open</th>\n",
       "      <th>volume</th>\n",
       "    </tr>\n",
       "  </thead>\n",
       "  <tbody>\n",
       "    <tr>\n",
       "      <th>0</th>\n",
       "      <td>2020-06-01</td>\n",
       "      <td>345.290497</td>\n",
       "      <td>360.563692</td>\n",
       "      <td>321.414015</td>\n",
       "      <td>327.697297</td>\n",
       "      <td>255584954</td>\n",
       "    </tr>\n",
       "    <tr>\n",
       "      <th>1</th>\n",
       "      <td>2020-06-08</td>\n",
       "      <td>332.723938</td>\n",
       "      <td>361.288691</td>\n",
       "      <td>313.294092</td>\n",
       "      <td>354.328736</td>\n",
       "      <td>215250270</td>\n",
       "    </tr>\n",
       "    <tr>\n",
       "      <th>2</th>\n",
       "      <td>2020-06-15</td>\n",
       "      <td>351.670410</td>\n",
       "      <td>353.265421</td>\n",
       "      <td>314.647395</td>\n",
       "      <td>329.823948</td>\n",
       "      <td>228772054</td>\n",
       "    </tr>\n",
       "    <tr>\n",
       "      <th>3</th>\n",
       "      <td>2020-06-22</td>\n",
       "      <td>337.460541</td>\n",
       "      <td>367.330287</td>\n",
       "      <td>327.213953</td>\n",
       "      <td>354.763725</td>\n",
       "      <td>235081694</td>\n",
       "    </tr>\n",
       "    <tr>\n",
       "      <th>4</th>\n",
       "      <td>2020-06-29</td>\n",
       "      <td>348.963776</td>\n",
       "      <td>358.533690</td>\n",
       "      <td>327.213956</td>\n",
       "      <td>333.738902</td>\n",
       "      <td>191576311</td>\n",
       "    </tr>\n",
       "  </tbody>\n",
       "</table>\n",
       "</div>"
      ],
      "text/plain": [
       "    datetime       close        high         low        open     volume\n",
       "0 2020-06-01  345.290497  360.563692  321.414015  327.697297  255584954\n",
       "1 2020-06-08  332.723938  361.288691  313.294092  354.328736  215250270\n",
       "2 2020-06-15  351.670410  353.265421  314.647395  329.823948  228772054\n",
       "3 2020-06-22  337.460541  367.330287  327.213953  354.763725  235081694\n",
       "4 2020-06-29  348.963776  358.533690  327.213956  333.738902  191576311"
      ]
     },
     "execution_count": 4,
     "metadata": {},
     "output_type": "execute_result"
    }
   ],
   "source": [
    "!pip install yfinance plotly --quiet\n",
    "\n",
    "import yfinance as yf\n",
    "import pandas as pd\n",
    "import numpy as np\n",
    "import plotly.graph_objects as go\n",
    "from datetime import datetime\n",
    "\n",
    "# Download OHLCV data\n",
    "# ticker = 'ICICIBANK.NS'\n",
    "# end = datetime(year=2025, month=3, day=1)\n",
    "# start = datetime(year=2024, month=3, day=1)\n",
    "# interval = '1d'\n",
    "def download_flat_yf(ticker, start, end, interval):\n",
    "    data = yf.download(ticker, start=start, end=end, interval=interval, progress=False)\n",
    "    if isinstance(data.columns, pd.MultiIndex):\n",
    "        data = data.xs(ticker, axis=1, level=1)\n",
    "\n",
    "    data.columns.name = None\n",
    "    data.reset_index(inplace=True)\n",
    "    data.columns = [col.lower() for col in data.columns]\n",
    "    if data.columns[0] in ['date', 'datetime']:\n",
    "        data.rename(columns={data.columns[0]: 'datetime'}, inplace=True)\n",
    "    data.loc[:,'datetime'] = pd.to_datetime(data['datetime'])\n",
    "\n",
    "    return data\n",
    "\n",
    "stock_symbol = 'ICICIBANK.NS'\n",
    "data = download_flat_yf(stock_symbol, start='2020-06-01', end='2025-06-01', interval='1wk')\n",
    "data.head()\n"
   ]
  },
  {
   "cell_type": "code",
   "execution_count": 5,
   "id": "7be21936-5cce-4b63-91d2-38d152109bbd",
   "metadata": {},
   "outputs": [],
   "source": [
    "def is_bullish_engulfing(data, i):\n",
    "    prev = data.iloc[i - 1]\n",
    "    curr = data.iloc[i]\n",
    "    return (\n",
    "        prev['close'] < prev['open'] and\n",
    "        curr['close'] > curr['open'] and\n",
    "        curr['open'] < prev['close'] and\n",
    "        curr['close'] > prev['open']\n",
    "    )"
   ]
  },
  {
   "cell_type": "code",
   "execution_count": 6,
   "id": "262e7d0f-b9d5-46ae-8293-49cfbad7898b",
   "metadata": {},
   "outputs": [],
   "source": [
    "def is_bearish_engulfing(data, i):\n",
    "    prev = data.iloc[i - 1]\n",
    "    curr = data.iloc[i]\n",
    "    return (\n",
    "        prev['close'] > prev['open'] and\n",
    "        curr['close'] < curr['open'] and\n",
    "        curr['open'] > prev['close'] and\n",
    "        curr['close'] < prev['open']\n",
    "    )"
   ]
  },
  {
   "cell_type": "code",
   "execution_count": 7,
   "id": "4b6eb8e1-5281-40d4-9d6c-2786afb8dc44",
   "metadata": {},
   "outputs": [],
   "source": [
    "def is_doji(data, i):\n",
    "    body = abs(data.iloc[i]['open'] - data.iloc[i]['close'])\n",
    "    range_ = data.iloc[i]['high'] - data.iloc[i]['low'] + 1e-9\n",
    "    return body / range_ < 0.1"
   ]
  },
  {
   "cell_type": "code",
   "execution_count": 8,
   "id": "c0e962d8-cde6-4b69-b15d-20ca950622c0",
   "metadata": {},
   "outputs": [],
   "source": [
    "def is_hammer(data, i):\n",
    "    row = data.iloc[i]\n",
    "    body = abs(row['close'] - row['open'])\n",
    "    lower_shadow = min(row['open'], row['close']) - row['low']\n",
    "    upper_shadow = row['high'] - max(row['open'], row['close'])\n",
    "\n",
    "    return lower_shadow > 2 * body and upper_shadow < body"
   ]
  },
  {
   "cell_type": "code",
   "execution_count": 9,
   "id": "28aaadab-85ef-4e82-95aa-335697ade9f3",
   "metadata": {},
   "outputs": [],
   "source": [
    "def generate_candlestick_signals(data):\n",
    "    data['bullish_engulfing_signal'] = 0\n",
    "    data['bearish_engulfing_signal'] = 0\n",
    "    data['simple_candlestick_signal'] = 0\n",
    "    data['hammer_signal'] = 0\n",
    "    data['signals'] = 0\n",
    "\n",
    "    for i in range(1, len(data)):\n",
    "        if is_bullish_engulfing(data, i):\n",
    "            data.loc[i, 'bullish_engulfing_signal'] = 1\n",
    "        if is_bearish_engulfing(data, i):\n",
    "            data.loc[i, 'bearish_engulfing_signal'] = -1\n",
    "        if is_doji(data, i):\n",
    "            data.loc[i, 'simple_candlestick_signal'] = 1\n",
    "        if is_hammer(data, i):\n",
    "            data.loc[i, 'hammer_signal'] = 1\n",
    "\n",
    "\n",
    "    # Candlestick-based entries\n",
    "    data.loc[data['bullish_engulfing_signal'] == 1, 'signals'] = 1\n",
    "    data.loc[data['bearish_engulfing_signal'] == -1, 'signals'] = -1\n",
    "\n",
    "    # # Doji + RSI-based reversal signals\n",
    "    # if 'RSI' in data.columns:\n",
    "    #     data.loc[(data['simple_candlestick_signal'] == 1) & (data['RSI'] < 40), 'signals'] = 1\n",
    "    #     data.loc[(data['simple_candlestick_signal'] == 1) & (data['RSI'] > 60), 'signals'] = -1\n",
    "\n",
    "    # print(\"Buy signals:\", (data['signals'] == 1).sum())\n",
    "    # print(\"Sell signals:\", (data['signals'] == -1).sum())\n",
    "    # print(\"Total non-zero signals:\", (data['signals'] != 0).sum())\n",
    "\n",
    "    return data"
   ]
  },
  {
   "cell_type": "code",
   "execution_count": 10,
   "id": "8a191b94-154b-455b-8958-3621acd4c0a2",
   "metadata": {},
   "outputs": [
    {
     "data": {
      "application/vnd.plotly.v1+json": {
       "config": {
        "plotlyServerURL": "https://plot.ly"
       },
       "data": [
        {
         "close": {
          "bdata": "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",
          "dtype": "f8"
         },
         "high": {
          "bdata": "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",
          "dtype": "f8"
         },
         "low": {
          "bdata": "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",
          "dtype": "f8"
         },
         "open": {
          "bdata": "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",
          "dtype": "f8"
         },
         "type": "candlestick",
         "x": [
          "2020-06-01T00:00:00.000000000",
          "2020-06-08T00:00:00.000000000",
          "2020-06-15T00:00:00.000000000",
          "2020-06-22T00:00:00.000000000",
          "2020-06-29T00:00:00.000000000",
          "2020-07-06T00:00:00.000000000",
          "2020-07-13T00:00:00.000000000",
          "2020-07-20T00:00:00.000000000",
          "2020-07-27T00:00:00.000000000",
          "2020-08-03T00:00:00.000000000",
          "2020-08-10T00:00:00.000000000",
          "2020-08-17T00:00:00.000000000",
          "2020-08-24T00:00:00.000000000",
          "2020-08-31T00:00:00.000000000",
          "2020-09-07T00:00:00.000000000",
          "2020-09-14T00:00:00.000000000",
          "2020-09-21T00:00:00.000000000",
          "2020-09-28T00:00:00.000000000",
          "2020-10-05T00:00:00.000000000",
          "2020-10-12T00:00:00.000000000",
          "2020-10-19T00:00:00.000000000",
          "2020-10-26T00:00:00.000000000",
          "2020-11-02T00:00:00.000000000",
          "2020-11-09T00:00:00.000000000",
          "2020-11-16T00:00:00.000000000",
          "2020-11-23T00:00:00.000000000",
          "2020-11-30T00:00:00.000000000",
          "2020-12-07T00:00:00.000000000",
          "2020-12-14T00:00:00.000000000",
          "2020-12-21T00:00:00.000000000",
          "2020-12-28T00:00:00.000000000",
          "2021-01-04T00:00:00.000000000",
          "2021-01-11T00:00:00.000000000",
          "2021-01-18T00:00:00.000000000",
          "2021-01-25T00:00:00.000000000",
          "2021-02-01T00:00:00.000000000",
          "2021-02-08T00:00:00.000000000",
          "2021-02-15T00:00:00.000000000",
          "2021-02-22T00:00:00.000000000",
          "2021-03-01T00:00:00.000000000",
          "2021-03-08T00:00:00.000000000",
          "2021-03-15T00:00:00.000000000",
          "2021-03-22T00:00:00.000000000",
          "2021-03-29T00:00:00.000000000",
          "2021-04-05T00:00:00.000000000",
          "2021-04-12T00:00:00.000000000",
          "2021-04-19T00:00:00.000000000",
          "2021-04-26T00:00:00.000000000",
          "2021-05-03T00:00:00.000000000",
          "2021-05-10T00:00:00.000000000",
          "2021-05-17T00:00:00.000000000",
          "2021-05-24T00:00:00.000000000",
          "2021-05-31T00:00:00.000000000",
          "2021-06-07T00:00:00.000000000",
          "2021-06-14T00:00:00.000000000",
          "2021-06-21T00:00:00.000000000",
          "2021-06-28T00:00:00.000000000",
          "2021-07-05T00:00:00.000000000",
          "2021-07-12T00:00:00.000000000",
          "2021-07-19T00:00:00.000000000",
          "2021-07-26T00:00:00.000000000",
          "2021-08-02T00:00:00.000000000",
          "2021-08-09T00:00:00.000000000",
          "2021-08-16T00:00:00.000000000",
          "2021-08-23T00:00:00.000000000",
          "2021-08-30T00:00:00.000000000",
          "2021-09-06T00:00:00.000000000",
          "2021-09-13T00:00:00.000000000",
          "2021-09-20T00:00:00.000000000",
          "2021-09-27T00:00:00.000000000",
          "2021-10-04T00:00:00.000000000",
          "2021-10-11T00:00:00.000000000",
          "2021-10-18T00:00:00.000000000",
          "2021-10-25T00:00:00.000000000",
          "2021-11-01T00:00:00.000000000",
          "2021-11-08T00:00:00.000000000",
          "2021-11-15T00:00:00.000000000",
          "2021-11-22T00:00:00.000000000",
          "2021-11-29T00:00:00.000000000",
          "2021-12-06T00:00:00.000000000",
          "2021-12-13T00:00:00.000000000",
          "2021-12-20T00:00:00.000000000",
          "2021-12-27T00:00:00.000000000",
          "2022-01-03T00:00:00.000000000",
          "2022-01-10T00:00:00.000000000",
          "2022-01-17T00:00:00.000000000",
          "2022-01-24T00:00:00.000000000",
          "2022-01-31T00:00:00.000000000",
          "2022-02-07T00:00:00.000000000",
          "2022-02-14T00:00:00.000000000",
          "2022-02-21T00:00:00.000000000",
          "2022-02-28T00:00:00.000000000",
          "2022-03-07T00:00:00.000000000",
          "2022-03-14T00:00:00.000000000",
          "2022-03-21T00:00:00.000000000",
          "2022-03-28T00:00:00.000000000",
          "2022-04-04T00:00:00.000000000",
          "2022-04-11T00:00:00.000000000",
          "2022-04-18T00:00:00.000000000",
          "2022-04-25T00:00:00.000000000",
          "2022-05-02T00:00:00.000000000",
          "2022-05-09T00:00:00.000000000",
          "2022-05-16T00:00:00.000000000",
          "2022-05-23T00:00:00.000000000",
          "2022-05-30T00:00:00.000000000",
          "2022-06-06T00:00:00.000000000",
          "2022-06-13T00:00:00.000000000",
          "2022-06-20T00:00:00.000000000",
          "2022-06-27T00:00:00.000000000",
          "2022-07-04T00:00:00.000000000",
          "2022-07-11T00:00:00.000000000",
          "2022-07-18T00:00:00.000000000",
          "2022-07-25T00:00:00.000000000",
          "2022-08-01T00:00:00.000000000",
          "2022-08-08T00:00:00.000000000",
          "2022-08-15T00:00:00.000000000",
          "2022-08-22T00:00:00.000000000",
          "2022-08-29T00:00:00.000000000",
          "2022-09-05T00:00:00.000000000",
          "2022-09-12T00:00:00.000000000",
          "2022-09-19T00:00:00.000000000",
          "2022-09-26T00:00:00.000000000",
          "2022-10-03T00:00:00.000000000",
          "2022-10-10T00:00:00.000000000",
          "2022-10-17T00:00:00.000000000",
          "2022-10-24T00:00:00.000000000",
          "2022-10-31T00:00:00.000000000",
          "2022-11-07T00:00:00.000000000",
          "2022-11-14T00:00:00.000000000",
          "2022-11-21T00:00:00.000000000",
          "2022-11-28T00:00:00.000000000",
          "2022-12-05T00:00:00.000000000",
          "2022-12-12T00:00:00.000000000",
          "2022-12-19T00:00:00.000000000",
          "2022-12-26T00:00:00.000000000",
          "2023-01-02T00:00:00.000000000",
          "2023-01-09T00:00:00.000000000",
          "2023-01-16T00:00:00.000000000",
          "2023-01-23T00:00:00.000000000",
          "2023-01-30T00:00:00.000000000",
          "2023-02-06T00:00:00.000000000",
          "2023-02-13T00:00:00.000000000",
          "2023-02-20T00:00:00.000000000",
          "2023-02-27T00:00:00.000000000",
          "2023-03-06T00:00:00.000000000",
          "2023-03-13T00:00:00.000000000",
          "2023-03-20T00:00:00.000000000",
          "2023-03-27T00:00:00.000000000",
          "2023-04-03T00:00:00.000000000",
          "2023-04-10T00:00:00.000000000",
          "2023-04-17T00:00:00.000000000",
          "2023-04-24T00:00:00.000000000",
          "2023-05-01T00:00:00.000000000",
          "2023-05-08T00:00:00.000000000",
          "2023-05-15T00:00:00.000000000",
          "2023-05-22T00:00:00.000000000",
          "2023-05-29T00:00:00.000000000",
          "2023-06-05T00:00:00.000000000",
          "2023-06-12T00:00:00.000000000",
          "2023-06-19T00:00:00.000000000",
          "2023-06-26T00:00:00.000000000",
          "2023-07-03T00:00:00.000000000",
          "2023-07-10T00:00:00.000000000",
          "2023-07-17T00:00:00.000000000",
          "2023-07-24T00:00:00.000000000",
          "2023-07-31T00:00:00.000000000",
          "2023-08-07T00:00:00.000000000",
          "2023-08-14T00:00:00.000000000",
          "2023-08-21T00:00:00.000000000",
          "2023-08-28T00:00:00.000000000",
          "2023-09-04T00:00:00.000000000",
          "2023-09-11T00:00:00.000000000",
          "2023-09-18T00:00:00.000000000",
          "2023-09-25T00:00:00.000000000",
          "2023-10-02T00:00:00.000000000",
          "2023-10-09T00:00:00.000000000",
          "2023-10-16T00:00:00.000000000",
          "2023-10-23T00:00:00.000000000",
          "2023-10-30T00:00:00.000000000",
          "2023-11-06T00:00:00.000000000",
          "2023-11-13T00:00:00.000000000",
          "2023-11-20T00:00:00.000000000",
          "2023-11-27T00:00:00.000000000",
          "2023-12-04T00:00:00.000000000",
          "2023-12-11T00:00:00.000000000",
          "2023-12-18T00:00:00.000000000",
          "2023-12-25T00:00:00.000000000",
          "2024-01-01T00:00:00.000000000",
          "2024-01-08T00:00:00.000000000",
          "2024-01-15T00:00:00.000000000",
          "2024-01-22T00:00:00.000000000",
          "2024-01-29T00:00:00.000000000",
          "2024-02-05T00:00:00.000000000",
          "2024-02-12T00:00:00.000000000",
          "2024-02-19T00:00:00.000000000",
          "2024-02-26T00:00:00.000000000",
          "2024-03-04T00:00:00.000000000",
          "2024-03-11T00:00:00.000000000",
          "2024-03-18T00:00:00.000000000",
          "2024-03-25T00:00:00.000000000",
          "2024-04-01T00:00:00.000000000",
          "2024-04-08T00:00:00.000000000",
          "2024-04-15T00:00:00.000000000",
          "2024-04-22T00:00:00.000000000",
          "2024-04-29T00:00:00.000000000",
          "2024-05-06T00:00:00.000000000",
          "2024-05-13T00:00:00.000000000",
          "2024-05-20T00:00:00.000000000",
          "2024-05-27T00:00:00.000000000",
          "2024-06-03T00:00:00.000000000",
          "2024-06-10T00:00:00.000000000",
          "2024-06-17T00:00:00.000000000",
          "2024-06-24T00:00:00.000000000",
          "2024-07-01T00:00:00.000000000",
          "2024-07-08T00:00:00.000000000",
          "2024-07-15T00:00:00.000000000",
          "2024-07-22T00:00:00.000000000",
          "2024-07-29T00:00:00.000000000",
          "2024-08-05T00:00:00.000000000",
          "2024-08-12T00:00:00.000000000",
          "2024-08-19T00:00:00.000000000",
          "2024-08-26T00:00:00.000000000",
          "2024-09-02T00:00:00.000000000",
          "2024-09-09T00:00:00.000000000",
          "2024-09-16T00:00:00.000000000",
          "2024-09-23T00:00:00.000000000",
          "2024-09-30T00:00:00.000000000",
          "2024-10-07T00:00:00.000000000",
          "2024-10-14T00:00:00.000000000",
          "2024-10-21T00:00:00.000000000",
          "2024-10-28T00:00:00.000000000",
          "2024-11-04T00:00:00.000000000",
          "2024-11-11T00:00:00.000000000",
          "2024-11-18T00:00:00.000000000",
          "2024-11-25T00:00:00.000000000",
          "2024-12-02T00:00:00.000000000",
          "2024-12-09T00:00:00.000000000",
          "2024-12-16T00:00:00.000000000",
          "2024-12-23T00:00:00.000000000",
          "2024-12-30T00:00:00.000000000",
          "2025-01-06T00:00:00.000000000",
          "2025-01-13T00:00:00.000000000",
          "2025-01-20T00:00:00.000000000",
          "2025-01-27T00:00:00.000000000",
          "2025-02-03T00:00:00.000000000",
          "2025-02-10T00:00:00.000000000",
          "2025-02-17T00:00:00.000000000",
          "2025-02-24T00:00:00.000000000",
          "2025-03-03T00:00:00.000000000",
          "2025-03-10T00:00:00.000000000",
          "2025-03-17T00:00:00.000000000",
          "2025-03-24T00:00:00.000000000",
          "2025-03-31T00:00:00.000000000",
          "2025-04-07T00:00:00.000000000",
          "2025-04-14T00:00:00.000000000",
          "2025-04-21T00:00:00.000000000",
          "2025-04-28T00:00:00.000000000",
          "2025-05-05T00:00:00.000000000",
          "2025-05-12T00:00:00.000000000",
          "2025-05-19T00:00:00.000000000",
          "2025-05-26T00:00:00.000000000"
         ]
        },
        {
         "marker": {
          "color": "green",
          "size": 12,
          "symbol": "triangle-up"
         },
         "mode": "markers",
         "name": "Bullish Engulfing",
         "type": "scatter",
         "x": [
          "2020-11-30T00:00:00.000000000",
          "2021-05-03T00:00:00.000000000",
          "2021-06-21T00:00:00.000000000",
          "2022-05-16T00:00:00.000000000",
          "2022-06-20T00:00:00.000000000",
          "2022-10-03T00:00:00.000000000",
          "2022-11-14T00:00:00.000000000",
          "2023-02-13T00:00:00.000000000",
          "2023-02-27T00:00:00.000000000",
          "2024-02-12T00:00:00.000000000",
          "2024-03-18T00:00:00.000000000",
          "2024-04-08T00:00:00.000000000",
          "2024-08-12T00:00:00.000000000",
          "2024-09-09T00:00:00.000000000",
          "2024-10-14T00:00:00.000000000",
          "2025-01-27T00:00:00.000000000"
         ],
         "y": {
          "bdata": "oYGdI5BWe0Cx01UsRhGBQLRZ9ChCBYJAHesIjLDgg0BrIMDECe+DQB9FkBArLolAnMHl4pGRikBsD467pUqJQPlpOkJez4hApZFEQlvujUBZAHEk0x+QQKoR6BlFYJBAwOZ7enOQkUCwOMygnXWSQLA4zIBquZJAsDjMQDdYkkA=",
          "dtype": "f8"
         }
        },
        {
         "marker": {
          "color": "red",
          "size": 12,
          "symbol": "triangle-down"
         },
         "mode": "markers",
         "name": "Bearish Engulfing",
         "type": "scatter",
         "x": [
          "2020-07-27T00:00:00.000000000",
          "2020-08-31T00:00:00.000000000",
          "2020-10-26T00:00:00.000000000",
          "2021-09-27T00:00:00.000000000",
          "2021-11-01T00:00:00.000000000",
          "2023-01-02T00:00:00.000000000",
          "2023-02-20T00:00:00.000000000",
          "2023-10-02T00:00:00.000000000",
          "2024-04-01T00:00:00.000000000",
          "2025-05-05T00:00:00.000000000",
          "2025-05-26T00:00:00.000000000"
         ],
         "y": {
          "bdata": "KCAt5bl/eEDMhhKJna96QLckXSiJg3pAPn3U8hDghkBg9wc/qCKJQBxCmqM3RIxAKu6YB5YBi0AU4yUAkhaOQMMbc+BTYpFAUMczv8jvlkBQxzN/lUqXQA==",
          "dtype": "f8"
         }
        },
        {
         "marker": {
          "color": "purple",
          "size": 10,
          "symbol": "diamond"
         },
         "mode": "markers",
         "name": "Doji",
         "type": "scatter",
         "x": [
          "2020-08-10T00:00:00.000000000",
          "2020-12-14T00:00:00.000000000",
          "2020-12-21T00:00:00.000000000",
          "2021-01-11T00:00:00.000000000",
          "2021-01-25T00:00:00.000000000",
          "2021-03-01T00:00:00.000000000",
          "2021-03-08T00:00:00.000000000",
          "2021-04-26T00:00:00.000000000",
          "2021-05-24T00:00:00.000000000",
          "2021-05-31T00:00:00.000000000",
          "2021-07-26T00:00:00.000000000",
          "2021-09-13T00:00:00.000000000",
          "2021-10-25T00:00:00.000000000",
          "2022-10-10T00:00:00.000000000",
          "2023-01-09T00:00:00.000000000",
          "2023-05-22T00:00:00.000000000",
          "2023-08-14T00:00:00.000000000",
          "2023-08-28T00:00:00.000000000",
          "2023-09-04T00:00:00.000000000",
          "2023-09-25T00:00:00.000000000",
          "2024-01-01T00:00:00.000000000",
          "2024-01-15T00:00:00.000000000",
          "2024-01-29T00:00:00.000000000",
          "2024-05-20T00:00:00.000000000",
          "2024-07-08T00:00:00.000000000",
          "2024-11-11T00:00:00.000000000"
         ],
         "y": {
          "bdata": "rX0FidzNd0CECzzY/ImAQODPuxxZLoBA9sK2hruKgUAEvwvknA6BQPZ18rVTvYNAIW3dzTHeg0C79PhaV5SDQEatzVdTiIRA8yNi5/2uhEBNSAJKqIOFQCVNzW9P2IZAI0ikf77cikAV2uEy/raLQP8/bbfGYItAKcaqlsDRjUAlk9ib0W2OQDD8Y4mj345ANEbM9MrNjkD8G1vNVWCOQK4rldaNuo9Aymv9CLQIkEBQx5vwVZCQQK4cuntd6ZFAl4fW/XDIk0BQxzMfL4iUQA==",
          "dtype": "f8"
         }
        },
        {
         "marker": {
          "color": "orange",
          "size": 12,
          "symbol": "star"
         },
         "mode": "markers",
         "name": "Hammer",
         "type": "scatter",
         "x": [
          "2020-08-17T00:00:00.000000000",
          "2020-09-14T00:00:00.000000000",
          "2021-03-22T00:00:00.000000000",
          "2022-09-26T00:00:00.000000000",
          "2023-07-24T00:00:00.000000000",
          "2023-10-02T00:00:00.000000000",
          "2024-01-08T00:00:00.000000000",
          "2024-08-19T00:00:00.000000000"
         ],
         "y": {
          "bdata": "abNw8++9c0DaLTkdRQt0QPnnad7G/X9AR5ufoj2xiEAwC+LTEvKMQBG5Y/yF04tASQMrj45ajUD26B0BvsmRQA==",
          "dtype": "f8"
         }
        }
       ],
       "layout": {
        "template": {
         "data": {
          "bar": [
           {
            "error_x": {
             "color": "#2a3f5f"
            },
            "error_y": {
             "color": "#2a3f5f"
            },
            "marker": {
             "line": {
              "color": "#E5ECF6",
              "width": 0.5
             },
             "pattern": {
              "fillmode": "overlay",
              "size": 10,
              "solidity": 0.2
             }
            },
            "type": "bar"
           }
          ],
          "barpolar": [
           {
            "marker": {
             "line": {
              "color": "#E5ECF6",
              "width": 0.5
             },
             "pattern": {
              "fillmode": "overlay",
              "size": 10,
              "solidity": 0.2
             }
            },
            "type": "barpolar"
           }
          ],
          "carpet": [
           {
            "aaxis": {
             "endlinecolor": "#2a3f5f",
             "gridcolor": "white",
             "linecolor": "white",
             "minorgridcolor": "white",
             "startlinecolor": "#2a3f5f"
            },
            "baxis": {
             "endlinecolor": "#2a3f5f",
             "gridcolor": "white",
             "linecolor": "white",
             "minorgridcolor": "white",
             "startlinecolor": "#2a3f5f"
            },
            "type": "carpet"
           }
          ],
          "choropleth": [
           {
            "colorbar": {
             "outlinewidth": 0,
             "ticks": ""
            },
            "type": "choropleth"
           }
          ],
          "contour": [
           {
            "colorbar": {
             "outlinewidth": 0,
             "ticks": ""
            },
            "colorscale": [
             [
              0,
              "#0d0887"
             ],
             [
              0.1111111111111111,
              "#46039f"
             ],
             [
              0.2222222222222222,
              "#7201a8"
             ],
             [
              0.3333333333333333,
              "#9c179e"
             ],
             [
              0.4444444444444444,
              "#bd3786"
             ],
             [
              0.5555555555555556,
              "#d8576b"
             ],
             [
              0.6666666666666666,
              "#ed7953"
             ],
             [
              0.7777777777777778,
              "#fb9f3a"
             ],
             [
              0.8888888888888888,
              "#fdca26"
             ],
             [
              1,
              "#f0f921"
             ]
            ],
            "type": "contour"
           }
          ],
          "contourcarpet": [
           {
            "colorbar": {
             "outlinewidth": 0,
             "ticks": ""
            },
            "type": "contourcarpet"
           }
          ],
          "heatmap": [
           {
            "colorbar": {
             "outlinewidth": 0,
             "ticks": ""
            },
            "colorscale": [
             [
              0,
              "#0d0887"
             ],
             [
              0.1111111111111111,
              "#46039f"
             ],
             [
              0.2222222222222222,
              "#7201a8"
             ],
             [
              0.3333333333333333,
              "#9c179e"
             ],
             [
              0.4444444444444444,
              "#bd3786"
             ],
             [
              0.5555555555555556,
              "#d8576b"
             ],
             [
              0.6666666666666666,
              "#ed7953"
             ],
             [
              0.7777777777777778,
              "#fb9f3a"
             ],
             [
              0.8888888888888888,
              "#fdca26"
             ],
             [
              1,
              "#f0f921"
             ]
            ],
            "type": "heatmap"
           }
          ],
          "histogram": [
           {
            "marker": {
             "pattern": {
              "fillmode": "overlay",
              "size": 10,
              "solidity": 0.2
             }
            },
            "type": "histogram"
           }
          ],
          "histogram2d": [
           {
            "colorbar": {
             "outlinewidth": 0,
             "ticks": ""
            },
            "colorscale": [
             [
              0,
              "#0d0887"
             ],
             [
              0.1111111111111111,
              "#46039f"
             ],
             [
              0.2222222222222222,
              "#7201a8"
             ],
             [
              0.3333333333333333,
              "#9c179e"
             ],
             [
              0.4444444444444444,
              "#bd3786"
             ],
             [
              0.5555555555555556,
              "#d8576b"
             ],
             [
              0.6666666666666666,
              "#ed7953"
             ],
             [
              0.7777777777777778,
              "#fb9f3a"
             ],
             [
              0.8888888888888888,
              "#fdca26"
             ],
             [
              1,
              "#f0f921"
             ]
            ],
            "type": "histogram2d"
           }
          ],
          "histogram2dcontour": [
           {
            "colorbar": {
             "outlinewidth": 0,
             "ticks": ""
            },
            "colorscale": [
             [
              0,
              "#0d0887"
             ],
             [
              0.1111111111111111,
              "#46039f"
             ],
             [
              0.2222222222222222,
              "#7201a8"
             ],
             [
              0.3333333333333333,
              "#9c179e"
             ],
             [
              0.4444444444444444,
              "#bd3786"
             ],
             [
              0.5555555555555556,
              "#d8576b"
             ],
             [
              0.6666666666666666,
              "#ed7953"
             ],
             [
              0.7777777777777778,
              "#fb9f3a"
             ],
             [
              0.8888888888888888,
              "#fdca26"
             ],
             [
              1,
              "#f0f921"
             ]
            ],
            "type": "histogram2dcontour"
           }
          ],
          "mesh3d": [
           {
            "colorbar": {
             "outlinewidth": 0,
             "ticks": ""
            },
            "type": "mesh3d"
           }
          ],
          "parcoords": [
           {
            "line": {
             "colorbar": {
              "outlinewidth": 0,
              "ticks": ""
             }
            },
            "type": "parcoords"
           }
          ],
          "pie": [
           {
            "automargin": true,
            "type": "pie"
           }
          ],
          "scatter": [
           {
            "fillpattern": {
             "fillmode": "overlay",
             "size": 10,
             "solidity": 0.2
            },
            "type": "scatter"
           }
          ],
          "scatter3d": [
           {
            "line": {
             "colorbar": {
              "outlinewidth": 0,
              "ticks": ""
             }
            },
            "marker": {
             "colorbar": {
              "outlinewidth": 0,
              "ticks": ""
             }
            },
            "type": "scatter3d"
           }
          ],
          "scattercarpet": [
           {
            "marker": {
             "colorbar": {
              "outlinewidth": 0,
              "ticks": ""
             }
            },
            "type": "scattercarpet"
           }
          ],
          "scattergeo": [
           {
            "marker": {
             "colorbar": {
              "outlinewidth": 0,
              "ticks": ""
             }
            },
            "type": "scattergeo"
           }
          ],
          "scattergl": [
           {
            "marker": {
             "colorbar": {
              "outlinewidth": 0,
              "ticks": ""
             }
            },
            "type": "scattergl"
           }
          ],
          "scattermap": [
           {
            "marker": {
             "colorbar": {
              "outlinewidth": 0,
              "ticks": ""
             }
            },
            "type": "scattermap"
           }
          ],
          "scattermapbox": [
           {
            "marker": {
             "colorbar": {
              "outlinewidth": 0,
              "ticks": ""
             }
            },
            "type": "scattermapbox"
           }
          ],
          "scatterpolar": [
           {
            "marker": {
             "colorbar": {
              "outlinewidth": 0,
              "ticks": ""
             }
            },
            "type": "scatterpolar"
           }
          ],
          "scatterpolargl": [
           {
            "marker": {
             "colorbar": {
              "outlinewidth": 0,
              "ticks": ""
             }
            },
            "type": "scatterpolargl"
           }
          ],
          "scatterternary": [
           {
            "marker": {
             "colorbar": {
              "outlinewidth": 0,
              "ticks": ""
             }
            },
            "type": "scatterternary"
           }
          ],
          "surface": [
           {
            "colorbar": {
             "outlinewidth": 0,
             "ticks": ""
            },
            "colorscale": [
             [
              0,
              "#0d0887"
             ],
             [
              0.1111111111111111,
              "#46039f"
             ],
             [
              0.2222222222222222,
              "#7201a8"
             ],
             [
              0.3333333333333333,
              "#9c179e"
             ],
             [
              0.4444444444444444,
              "#bd3786"
             ],
             [
              0.5555555555555556,
              "#d8576b"
             ],
             [
              0.6666666666666666,
              "#ed7953"
             ],
             [
              0.7777777777777778,
              "#fb9f3a"
             ],
             [
              0.8888888888888888,
              "#fdca26"
             ],
             [
              1,
              "#f0f921"
             ]
            ],
            "type": "surface"
           }
          ],
          "table": [
           {
            "cells": {
             "fill": {
              "color": "#EBF0F8"
             },
             "line": {
              "color": "white"
             }
            },
            "header": {
             "fill": {
              "color": "#C8D4E3"
             },
             "line": {
              "color": "white"
             }
            },
            "type": "table"
           }
          ]
         },
         "layout": {
          "annotationdefaults": {
           "arrowcolor": "#2a3f5f",
           "arrowhead": 0,
           "arrowwidth": 1
          },
          "autotypenumbers": "strict",
          "coloraxis": {
           "colorbar": {
            "outlinewidth": 0,
            "ticks": ""
           }
          },
          "colorscale": {
           "diverging": [
            [
             0,
             "#8e0152"
            ],
            [
             0.1,
             "#c51b7d"
            ],
            [
             0.2,
             "#de77ae"
            ],
            [
             0.3,
             "#f1b6da"
            ],
            [
             0.4,
             "#fde0ef"
            ],
            [
             0.5,
             "#f7f7f7"
            ],
            [
             0.6,
             "#e6f5d0"
            ],
            [
             0.7,
             "#b8e186"
            ],
            [
             0.8,
             "#7fbc41"
            ],
            [
             0.9,
             "#4d9221"
            ],
            [
             1,
             "#276419"
            ]
           ],
           "sequential": [
            [
             0,
             "#0d0887"
            ],
            [
             0.1111111111111111,
             "#46039f"
            ],
            [
             0.2222222222222222,
             "#7201a8"
            ],
            [
             0.3333333333333333,
             "#9c179e"
            ],
            [
             0.4444444444444444,
             "#bd3786"
            ],
            [
             0.5555555555555556,
             "#d8576b"
            ],
            [
             0.6666666666666666,
             "#ed7953"
            ],
            [
             0.7777777777777778,
             "#fb9f3a"
            ],
            [
             0.8888888888888888,
             "#fdca26"
            ],
            [
             1,
             "#f0f921"
            ]
           ],
           "sequentialminus": [
            [
             0,
             "#0d0887"
            ],
            [
             0.1111111111111111,
             "#46039f"
            ],
            [
             0.2222222222222222,
             "#7201a8"
            ],
            [
             0.3333333333333333,
             "#9c179e"
            ],
            [
             0.4444444444444444,
             "#bd3786"
            ],
            [
             0.5555555555555556,
             "#d8576b"
            ],
            [
             0.6666666666666666,
             "#ed7953"
            ],
            [
             0.7777777777777778,
             "#fb9f3a"
            ],
            [
             0.8888888888888888,
             "#fdca26"
            ],
            [
             1,
             "#f0f921"
            ]
           ]
          },
          "colorway": [
           "#636efa",
           "#EF553B",
           "#00cc96",
           "#ab63fa",
           "#FFA15A",
           "#19d3f3",
           "#FF6692",
           "#B6E880",
           "#FF97FF",
           "#FECB52"
          ],
          "font": {
           "color": "#2a3f5f"
          },
          "geo": {
           "bgcolor": "white",
           "lakecolor": "white",
           "landcolor": "#E5ECF6",
           "showlakes": true,
           "showland": true,
           "subunitcolor": "white"
          },
          "hoverlabel": {
           "align": "left"
          },
          "hovermode": "closest",
          "mapbox": {
           "style": "light"
          },
          "paper_bgcolor": "white",
          "plot_bgcolor": "#E5ECF6",
          "polar": {
           "angularaxis": {
            "gridcolor": "white",
            "linecolor": "white",
            "ticks": ""
           },
           "bgcolor": "#E5ECF6",
           "radialaxis": {
            "gridcolor": "white",
            "linecolor": "white",
            "ticks": ""
           }
          },
          "scene": {
           "xaxis": {
            "backgroundcolor": "#E5ECF6",
            "gridcolor": "white",
            "gridwidth": 2,
            "linecolor": "white",
            "showbackground": true,
            "ticks": "",
            "zerolinecolor": "white"
           },
           "yaxis": {
            "backgroundcolor": "#E5ECF6",
            "gridcolor": "white",
            "gridwidth": 2,
            "linecolor": "white",
            "showbackground": true,
            "ticks": "",
            "zerolinecolor": "white"
           },
           "zaxis": {
            "backgroundcolor": "#E5ECF6",
            "gridcolor": "white",
            "gridwidth": 2,
            "linecolor": "white",
            "showbackground": true,
            "ticks": "",
            "zerolinecolor": "white"
           }
          },
          "shapedefaults": {
           "line": {
            "color": "#2a3f5f"
           }
          },
          "ternary": {
           "aaxis": {
            "gridcolor": "white",
            "linecolor": "white",
            "ticks": ""
           },
           "baxis": {
            "gridcolor": "white",
            "linecolor": "white",
            "ticks": ""
           },
           "bgcolor": "#E5ECF6",
           "caxis": {
            "gridcolor": "white",
            "linecolor": "white",
            "ticks": ""
           }
          },
          "title": {
           "x": 0.05
          },
          "xaxis": {
           "automargin": true,
           "gridcolor": "white",
           "linecolor": "white",
           "ticks": "",
           "title": {
            "standoff": 15
           },
           "zerolinecolor": "white",
           "zerolinewidth": 2
          },
          "yaxis": {
           "automargin": true,
           "gridcolor": "white",
           "linecolor": "white",
           "ticks": "",
           "title": {
            "standoff": 15
           },
           "zerolinecolor": "white",
           "zerolinewidth": 2
          }
         }
        },
        "title": {
         "text": "Candlestick Chart with Patterns - ICICIBANK.NS"
        },
        "xaxis": {
         "title": {
          "text": "Date"
         }
        },
        "yaxis": {
         "title": {
          "text": "Price"
         }
        }
       }
      }
     },
     "metadata": {},
     "output_type": "display_data"
    }
   ],
   "source": [
    "#@title Visualisation\n",
    "def plot_candlestick_patterns(data, patterns_to_mark=[]):\n",
    "    fig = go.Figure(data=[\n",
    "        go.Candlestick(x=data['datetime'],\n",
    "                       open=data['open'],\n",
    "                       high=data['high'],\n",
    "                       low=data['low'],\n",
    "                       close=data['close'])\n",
    "    ])\n",
    "\n",
    "    if 'bullish_engulfing' in patterns_to_mark:\n",
    "        buy_signals_candle = data[data['bullish_engulfing_signal'] == 1]\n",
    "        fig.add_trace(go.Scatter(\n",
    "            x=buy_signals_candle['datetime'],\n",
    "            y=buy_signals_candle['low'] - (data['high'] - data['low']).mean() * 0.5, # Position below the low\n",
    "            mode='markers',\n",
    "            marker=dict(color='green', size=12, symbol='triangle-up'),\n",
    "            name='Bullish Engulfing'\n",
    "        ))\n",
    "\n",
    "    if 'bearish_engulfing' in patterns_to_mark:\n",
    "        sell_signals_candle = data[data['bearish_engulfing_signal'] == -1]\n",
    "        fig.add_trace(go.Scatter(\n",
    "            x=sell_signals_candle['datetime'],\n",
    "            y=sell_signals_candle['high'] + (data['high'] - data['low']).mean() * 0.5, # Position above the high\n",
    "            mode='markers',\n",
    "            marker=dict(color='red', size=12, symbol='triangle-down'),\n",
    "            name='Bearish Engulfing'\n",
    "        ))\n",
    "\n",
    "    if 'doji' in patterns_to_mark:\n",
    "        doji_signals_candle = data[data['simple_candlestick_signal'] == 1]\n",
    "        fig.add_trace(go.Scatter(\n",
    "            x=doji_signals_candle['datetime'],\n",
    "            y=doji_signals_candle['high'] + (data['high'] - data['low']).mean() * 0.5, # Position above the high\n",
    "            mode='markers',\n",
    "            marker=dict(color='purple', size=10, symbol='diamond'),\n",
    "            name='Doji'\n",
    "        ))\n",
    "    if 'hammer' in patterns_to_mark:\n",
    "        hammer_signals_candle = data[data['hammer_signal'] == 1]\n",
    "        fig.add_trace(go.Scatter(\n",
    "            x=hammer_signals_candle['datetime'],\n",
    "            y=hammer_signals_candle['low'] - (data['high'] - data['low']).mean() * 0.7,\n",
    "            mode='markers',\n",
    "            marker=dict(color='orange', size=12, symbol='star'),\n",
    "            name='Hammer'\n",
    "        ))\n",
    "\n",
    "\n",
    "    fig.update_layout(title=f\"Candlestick Chart with Patterns - {stock_symbol}\",\n",
    "                      xaxis_title='Date',\n",
    "                      yaxis_title='Price')\n",
    "    fig.show()\n",
    "\n",
    "# Generate candlestick signals\n",
    "data_with_patterns = generate_candlestick_signals(data.copy()) # Use a copy to avoid modifying the original 'data' DataFrame\n",
    "\n",
    "# Plot the candlestick chart and mark the patterns\n",
    "plot_candlestick_patterns(data_with_patterns, patterns_to_mark=['bullish_engulfing', 'bearish_engulfing', 'doji', 'hammer'])\n"
   ]
  },
  {
   "cell_type": "markdown",
   "id": "cdeec21e-0f8a-4d67-bfdb-935c3a7b2596",
   "metadata": {},
   "source": [
    "### 2. Win-Rate Calculation: Define a look-ahead window of n candles where i) n = 3, ii) n = 5 For each pattern occurrence, compute whether the return over the next n candles(Close at t + n vs. Close at t) is positive. Calculate the empirical win-rate for each pattern: Win-Rate = Number of positive moves after pattern / Total pattern occurrences ×100%"
   ]
  },
  {
   "cell_type": "code",
   "execution_count": 11,
   "id": "97127ae1-486a-455a-a751-7175e1f8d9df",
   "metadata": {},
   "outputs": [],
   "source": [
    "def compute_win_rate(data, signal_col, n):\n",
    "    pattern_indices = data.index[data[signal_col] == 1].tolist()\n",
    "    wins = 0\n",
    "    valid_signals = 0\n",
    "\n",
    "    for i in pattern_indices:\n",
    "        if i + n < len(data):\n",
    "            ret = data.loc[i + n, 'close'] - data.loc[i, 'close']\n",
    "            valid_signals += 1\n",
    "            if ret > 0:\n",
    "                wins += 1\n",
    "\n",
    "    if valid_signals == 0:\n",
    "        return 0, 0\n",
    "    return (wins / valid_signals) * 100, valid_signals\n"
   ]
  },
  {
   "cell_type": "markdown",
   "id": "cf5293db-dfd4-47ad-b421-4284ed8b5a94",
   "metadata": {},
   "source": [
    "### 3. Baseline Win-Rate: Simulate random entries: Select M timestamps uniformly at random (excluding the last n candles) and compute the empirical win-rate over the same n-candle horizon. M = XNumber of occurrences of pattern i"
   ]
  },
  {
   "cell_type": "code",
   "execution_count": 12,
   "id": "d2ee9f81-a39d-47c6-8789-aee34b3b73ce",
   "metadata": {},
   "outputs": [],
   "source": [
    "def simulate_random_baseline(data, n, m, seed=19):\n",
    "    np.random.seed(seed)\n",
    "    max_idx = len(data) - n\n",
    "    random_indices = np.random.choice(max_idx, size=m, replace=False)\n",
    "    \n",
    "    wins = 0\n",
    "    for i in random_indices:\n",
    "        ret = data.loc[i + n, 'close'] - data.loc[i, 'close']\n",
    "        if ret > 0:\n",
    "            wins += 1\n",
    "    return (wins / m) * 100\n"
   ]
  },
  {
   "cell_type": "markdown",
   "id": "f349eb1f-7234-43df-8319-62d67ddeb4e7",
   "metadata": {},
   "source": [
    "### 4. Visualization: Plot a ’beautiful’ grouped bar chart: one bar for the baseline win-rate, and one bar for each of the three patterns. The x-axis should list: Baseline, Doji, Hammer, Engulfing. The y-axis should represent win-rate percentage."
   ]
  },
  {
   "cell_type": "code",
   "execution_count": 13,
   "id": "ef8e5bcf-f61f-496e-a229-5d98322fb7d5",
   "metadata": {},
   "outputs": [],
   "source": [
    "def gather_all_win_rates(data, n):\n",
    "    win_rates = {}\n",
    "    doji_rate, doji_count = compute_win_rate(data, 'simple_candlestick_signal', n)\n",
    "    hammer_rate, hammer_count = compute_win_rate(data, 'hammer_signal', n)\n",
    "    engulfing_rate, engulfing_count = compute_win_rate(data, 'bullish_engulfing_signal', n)\n",
    "\n",
    "    # Baseline count is average of pattern counts\n",
    "    total_count = (doji_count + hammer_count + engulfing_count) // 3\n",
    "    baseline_rate = simulate_random_baseline(data, n, total_count)\n",
    "\n",
    "    win_rates['Baseline'] = baseline_rate\n",
    "    win_rates['Doji'] = doji_rate\n",
    "    win_rates['Hammer'] = hammer_rate\n",
    "    win_rates['Engulfing'] = engulfing_rate\n",
    "    return win_rates\n"
   ]
  },
  {
   "cell_type": "code",
   "execution_count": 14,
   "id": "cbb4c333-ad68-4fe8-8e32-adb77a564e95",
   "metadata": {},
   "outputs": [],
   "source": [
    "import plotly.express as px\n",
    "\n",
    "def plot_grouped_bar(win_rates_n3, win_rates_n5):\n",
    "    patterns = list(win_rates_n3.keys())\n",
    "    values_n3 = list(win_rates_n3.values())\n",
    "    values_n5 = list(win_rates_n5.values())\n",
    "\n",
    "    df_plot = pd.DataFrame({\n",
    "        'Pattern': patterns * 2,\n",
    "        'Win Rate (%)': values_n3 + values_n5,\n",
    "        'Window': ['n=3'] * len(patterns) + ['n=5'] * len(patterns)\n",
    "    })\n",
    "\n",
    "    fig = px.bar(df_plot, x='Pattern', y='Win Rate (%)', color='Window',\n",
    "                 barmode='group', text_auto='.2f',\n",
    "                 title='Pattern vs Baseline Win Rate Comparison')\n",
    "    fig.update_layout(yaxis=dict(title='Win Rate (%)'), xaxis=dict(title='Pattern'))\n",
    "    fig.show()\n"
   ]
  },
  {
   "cell_type": "code",
   "execution_count": 15,
   "id": "ea16f39a-36f2-445e-a744-58a6b767d4d6",
   "metadata": {},
   "outputs": [
    {
     "data": {
      "application/vnd.plotly.v1+json": {
       "config": {
        "plotlyServerURL": "https://plot.ly"
       },
       "data": [
        {
         "alignmentgroup": "True",
         "hovertemplate": "Window=n=3<br>Pattern=%{x}<br>Win Rate (%)=%{y}<extra></extra>",
         "legendgroup": "n=3",
         "marker": {
          "color": "#636efa",
          "pattern": {
           "shape": ""
          }
         },
         "name": "n=3",
         "offsetgroup": "n=3",
         "orientation": "v",
         "showlegend": true,
         "textposition": "auto",
         "texttemplate": "%{y:.2f}",
         "type": "bar",
         "x": [
          "Baseline",
          "Doji",
          "Hammer",
          "Engulfing"
         ],
         "xaxis": "x",
         "y": {
          "bdata": "AAAAAAAgTEDFTuzETuxKQAAAAAAAAElAAAAAAAAwUUA=",
          "dtype": "f8"
         },
         "yaxis": "y"
        },
        {
         "alignmentgroup": "True",
         "hovertemplate": "Window=n=5<br>Pattern=%{x}<br>Win Rate (%)=%{y}<extra></extra>",
         "legendgroup": "n=5",
         "marker": {
          "color": "#EF553B",
          "pattern": {
           "shape": ""
          }
         },
         "name": "n=5",
         "offsetgroup": "n=5",
         "orientation": "v",
         "showlegend": true,
         "textposition": "auto",
         "texttemplate": "%{y:.2f}",
         "type": "bar",
         "x": [
          "Baseline",
          "Doji",
          "Hammer",
          "Engulfing"
         ],
         "xaxis": "x",
         "y": {
          "bdata": "AAAAAAAgTEDFTuzETuxKQAAAAAAAQE9AAAAAAABQVEA=",
          "dtype": "f8"
         },
         "yaxis": "y"
        }
       ],
       "layout": {
        "barmode": "group",
        "legend": {
         "title": {
          "text": "Window"
         },
         "tracegroupgap": 0
        },
        "template": {
         "data": {
          "bar": [
           {
            "error_x": {
             "color": "#2a3f5f"
            },
            "error_y": {
             "color": "#2a3f5f"
            },
            "marker": {
             "line": {
              "color": "#E5ECF6",
              "width": 0.5
             },
             "pattern": {
              "fillmode": "overlay",
              "size": 10,
              "solidity": 0.2
             }
            },
            "type": "bar"
           }
          ],
          "barpolar": [
           {
            "marker": {
             "line": {
              "color": "#E5ECF6",
              "width": 0.5
             },
             "pattern": {
              "fillmode": "overlay",
              "size": 10,
              "solidity": 0.2
             }
            },
            "type": "barpolar"
           }
          ],
          "carpet": [
           {
            "aaxis": {
             "endlinecolor": "#2a3f5f",
             "gridcolor": "white",
             "linecolor": "white",
             "minorgridcolor": "white",
             "startlinecolor": "#2a3f5f"
            },
            "baxis": {
             "endlinecolor": "#2a3f5f",
             "gridcolor": "white",
             "linecolor": "white",
             "minorgridcolor": "white",
             "startlinecolor": "#2a3f5f"
            },
            "type": "carpet"
           }
          ],
          "choropleth": [
           {
            "colorbar": {
             "outlinewidth": 0,
             "ticks": ""
            },
            "type": "choropleth"
           }
          ],
          "contour": [
           {
            "colorbar": {
             "outlinewidth": 0,
             "ticks": ""
            },
            "colorscale": [
             [
              0,
              "#0d0887"
             ],
             [
              0.1111111111111111,
              "#46039f"
             ],
             [
              0.2222222222222222,
              "#7201a8"
             ],
             [
              0.3333333333333333,
              "#9c179e"
             ],
             [
              0.4444444444444444,
              "#bd3786"
             ],
             [
              0.5555555555555556,
              "#d8576b"
             ],
             [
              0.6666666666666666,
              "#ed7953"
             ],
             [
              0.7777777777777778,
              "#fb9f3a"
             ],
             [
              0.8888888888888888,
              "#fdca26"
             ],
             [
              1,
              "#f0f921"
             ]
            ],
            "type": "contour"
           }
          ],
          "contourcarpet": [
           {
            "colorbar": {
             "outlinewidth": 0,
             "ticks": ""
            },
            "type": "contourcarpet"
           }
          ],
          "heatmap": [
           {
            "colorbar": {
             "outlinewidth": 0,
             "ticks": ""
            },
            "colorscale": [
             [
              0,
              "#0d0887"
             ],
             [
              0.1111111111111111,
              "#46039f"
             ],
             [
              0.2222222222222222,
              "#7201a8"
             ],
             [
              0.3333333333333333,
              "#9c179e"
             ],
             [
              0.4444444444444444,
              "#bd3786"
             ],
             [
              0.5555555555555556,
              "#d8576b"
             ],
             [
              0.6666666666666666,
              "#ed7953"
             ],
             [
              0.7777777777777778,
              "#fb9f3a"
             ],
             [
              0.8888888888888888,
              "#fdca26"
             ],
             [
              1,
              "#f0f921"
             ]
            ],
            "type": "heatmap"
           }
          ],
          "histogram": [
           {
            "marker": {
             "pattern": {
              "fillmode": "overlay",
              "size": 10,
              "solidity": 0.2
             }
            },
            "type": "histogram"
           }
          ],
          "histogram2d": [
           {
            "colorbar": {
             "outlinewidth": 0,
             "ticks": ""
            },
            "colorscale": [
             [
              0,
              "#0d0887"
             ],
             [
              0.1111111111111111,
              "#46039f"
             ],
             [
              0.2222222222222222,
              "#7201a8"
             ],
             [
              0.3333333333333333,
              "#9c179e"
             ],
             [
              0.4444444444444444,
              "#bd3786"
             ],
             [
              0.5555555555555556,
              "#d8576b"
             ],
             [
              0.6666666666666666,
              "#ed7953"
             ],
             [
              0.7777777777777778,
              "#fb9f3a"
             ],
             [
              0.8888888888888888,
              "#fdca26"
             ],
             [
              1,
              "#f0f921"
             ]
            ],
            "type": "histogram2d"
           }
          ],
          "histogram2dcontour": [
           {
            "colorbar": {
             "outlinewidth": 0,
             "ticks": ""
            },
            "colorscale": [
             [
              0,
              "#0d0887"
             ],
             [
              0.1111111111111111,
              "#46039f"
             ],
             [
              0.2222222222222222,
              "#7201a8"
             ],
             [
              0.3333333333333333,
              "#9c179e"
             ],
             [
              0.4444444444444444,
              "#bd3786"
             ],
             [
              0.5555555555555556,
              "#d8576b"
             ],
             [
              0.6666666666666666,
              "#ed7953"
             ],
             [
              0.7777777777777778,
              "#fb9f3a"
             ],
             [
              0.8888888888888888,
              "#fdca26"
             ],
             [
              1,
              "#f0f921"
             ]
            ],
            "type": "histogram2dcontour"
           }
          ],
          "mesh3d": [
           {
            "colorbar": {
             "outlinewidth": 0,
             "ticks": ""
            },
            "type": "mesh3d"
           }
          ],
          "parcoords": [
           {
            "line": {
             "colorbar": {
              "outlinewidth": 0,
              "ticks": ""
             }
            },
            "type": "parcoords"
           }
          ],
          "pie": [
           {
            "automargin": true,
            "type": "pie"
           }
          ],
          "scatter": [
           {
            "fillpattern": {
             "fillmode": "overlay",
             "size": 10,
             "solidity": 0.2
            },
            "type": "scatter"
           }
          ],
          "scatter3d": [
           {
            "line": {
             "colorbar": {
              "outlinewidth": 0,
              "ticks": ""
             }
            },
            "marker": {
             "colorbar": {
              "outlinewidth": 0,
              "ticks": ""
             }
            },
            "type": "scatter3d"
           }
          ],
          "scattercarpet": [
           {
            "marker": {
             "colorbar": {
              "outlinewidth": 0,
              "ticks": ""
             }
            },
            "type": "scattercarpet"
           }
          ],
          "scattergeo": [
           {
            "marker": {
             "colorbar": {
              "outlinewidth": 0,
              "ticks": ""
             }
            },
            "type": "scattergeo"
           }
          ],
          "scattergl": [
           {
            "marker": {
             "colorbar": {
              "outlinewidth": 0,
              "ticks": ""
             }
            },
            "type": "scattergl"
           }
          ],
          "scattermap": [
           {
            "marker": {
             "colorbar": {
              "outlinewidth": 0,
              "ticks": ""
             }
            },
            "type": "scattermap"
           }
          ],
          "scattermapbox": [
           {
            "marker": {
             "colorbar": {
              "outlinewidth": 0,
              "ticks": ""
             }
            },
            "type": "scattermapbox"
           }
          ],
          "scatterpolar": [
           {
            "marker": {
             "colorbar": {
              "outlinewidth": 0,
              "ticks": ""
             }
            },
            "type": "scatterpolar"
           }
          ],
          "scatterpolargl": [
           {
            "marker": {
             "colorbar": {
              "outlinewidth": 0,
              "ticks": ""
             }
            },
            "type": "scatterpolargl"
           }
          ],
          "scatterternary": [
           {
            "marker": {
             "colorbar": {
              "outlinewidth": 0,
              "ticks": ""
             }
            },
            "type": "scatterternary"
           }
          ],
          "surface": [
           {
            "colorbar": {
             "outlinewidth": 0,
             "ticks": ""
            },
            "colorscale": [
             [
              0,
              "#0d0887"
             ],
             [
              0.1111111111111111,
              "#46039f"
             ],
             [
              0.2222222222222222,
              "#7201a8"
             ],
             [
              0.3333333333333333,
              "#9c179e"
             ],
             [
              0.4444444444444444,
              "#bd3786"
             ],
             [
              0.5555555555555556,
              "#d8576b"
             ],
             [
              0.6666666666666666,
              "#ed7953"
             ],
             [
              0.7777777777777778,
              "#fb9f3a"
             ],
             [
              0.8888888888888888,
              "#fdca26"
             ],
             [
              1,
              "#f0f921"
             ]
            ],
            "type": "surface"
           }
          ],
          "table": [
           {
            "cells": {
             "fill": {
              "color": "#EBF0F8"
             },
             "line": {
              "color": "white"
             }
            },
            "header": {
             "fill": {
              "color": "#C8D4E3"
             },
             "line": {
              "color": "white"
             }
            },
            "type": "table"
           }
          ]
         },
         "layout": {
          "annotationdefaults": {
           "arrowcolor": "#2a3f5f",
           "arrowhead": 0,
           "arrowwidth": 1
          },
          "autotypenumbers": "strict",
          "coloraxis": {
           "colorbar": {
            "outlinewidth": 0,
            "ticks": ""
           }
          },
          "colorscale": {
           "diverging": [
            [
             0,
             "#8e0152"
            ],
            [
             0.1,
             "#c51b7d"
            ],
            [
             0.2,
             "#de77ae"
            ],
            [
             0.3,
             "#f1b6da"
            ],
            [
             0.4,
             "#fde0ef"
            ],
            [
             0.5,
             "#f7f7f7"
            ],
            [
             0.6,
             "#e6f5d0"
            ],
            [
             0.7,
             "#b8e186"
            ],
            [
             0.8,
             "#7fbc41"
            ],
            [
             0.9,
             "#4d9221"
            ],
            [
             1,
             "#276419"
            ]
           ],
           "sequential": [
            [
             0,
             "#0d0887"
            ],
            [
             0.1111111111111111,
             "#46039f"
            ],
            [
             0.2222222222222222,
             "#7201a8"
            ],
            [
             0.3333333333333333,
             "#9c179e"
            ],
            [
             0.4444444444444444,
             "#bd3786"
            ],
            [
             0.5555555555555556,
             "#d8576b"
            ],
            [
             0.6666666666666666,
             "#ed7953"
            ],
            [
             0.7777777777777778,
             "#fb9f3a"
            ],
            [
             0.8888888888888888,
             "#fdca26"
            ],
            [
             1,
             "#f0f921"
            ]
           ],
           "sequentialminus": [
            [
             0,
             "#0d0887"
            ],
            [
             0.1111111111111111,
             "#46039f"
            ],
            [
             0.2222222222222222,
             "#7201a8"
            ],
            [
             0.3333333333333333,
             "#9c179e"
            ],
            [
             0.4444444444444444,
             "#bd3786"
            ],
            [
             0.5555555555555556,
             "#d8576b"
            ],
            [
             0.6666666666666666,
             "#ed7953"
            ],
            [
             0.7777777777777778,
             "#fb9f3a"
            ],
            [
             0.8888888888888888,
             "#fdca26"
            ],
            [
             1,
             "#f0f921"
            ]
           ]
          },
          "colorway": [
           "#636efa",
           "#EF553B",
           "#00cc96",
           "#ab63fa",
           "#FFA15A",
           "#19d3f3",
           "#FF6692",
           "#B6E880",
           "#FF97FF",
           "#FECB52"
          ],
          "font": {
           "color": "#2a3f5f"
          },
          "geo": {
           "bgcolor": "white",
           "lakecolor": "white",
           "landcolor": "#E5ECF6",
           "showlakes": true,
           "showland": true,
           "subunitcolor": "white"
          },
          "hoverlabel": {
           "align": "left"
          },
          "hovermode": "closest",
          "mapbox": {
           "style": "light"
          },
          "paper_bgcolor": "white",
          "plot_bgcolor": "#E5ECF6",
          "polar": {
           "angularaxis": {
            "gridcolor": "white",
            "linecolor": "white",
            "ticks": ""
           },
           "bgcolor": "#E5ECF6",
           "radialaxis": {
            "gridcolor": "white",
            "linecolor": "white",
            "ticks": ""
           }
          },
          "scene": {
           "xaxis": {
            "backgroundcolor": "#E5ECF6",
            "gridcolor": "white",
            "gridwidth": 2,
            "linecolor": "white",
            "showbackground": true,
            "ticks": "",
            "zerolinecolor": "white"
           },
           "yaxis": {
            "backgroundcolor": "#E5ECF6",
            "gridcolor": "white",
            "gridwidth": 2,
            "linecolor": "white",
            "showbackground": true,
            "ticks": "",
            "zerolinecolor": "white"
           },
           "zaxis": {
            "backgroundcolor": "#E5ECF6",
            "gridcolor": "white",
            "gridwidth": 2,
            "linecolor": "white",
            "showbackground": true,
            "ticks": "",
            "zerolinecolor": "white"
           }
          },
          "shapedefaults": {
           "line": {
            "color": "#2a3f5f"
           }
          },
          "ternary": {
           "aaxis": {
            "gridcolor": "white",
            "linecolor": "white",
            "ticks": ""
           },
           "baxis": {
            "gridcolor": "white",
            "linecolor": "white",
            "ticks": ""
           },
           "bgcolor": "#E5ECF6",
           "caxis": {
            "gridcolor": "white",
            "linecolor": "white",
            "ticks": ""
           }
          },
          "title": {
           "x": 0.05
          },
          "xaxis": {
           "automargin": true,
           "gridcolor": "white",
           "linecolor": "white",
           "ticks": "",
           "title": {
            "standoff": 15
           },
           "zerolinecolor": "white",
           "zerolinewidth": 2
          },
          "yaxis": {
           "automargin": true,
           "gridcolor": "white",
           "linecolor": "white",
           "ticks": "",
           "title": {
            "standoff": 15
           },
           "zerolinecolor": "white",
           "zerolinewidth": 2
          }
         }
        },
        "title": {
         "text": "Pattern vs Baseline Win Rate Comparison"
        },
        "xaxis": {
         "anchor": "y",
         "domain": [
          0,
          1
         ],
         "title": {
          "text": "Pattern"
         }
        },
        "yaxis": {
         "anchor": "x",
         "domain": [
          0,
          1
         ],
         "title": {
          "text": "Win Rate (%)"
         }
        }
       }
      }
     },
     "metadata": {},
     "output_type": "display_data"
    }
   ],
   "source": [
    "# Get win-rate dictionaries for both horizons\n",
    "win_rates_3 = gather_all_win_rates(data_with_patterns, n=3)\n",
    "win_rates_5 = gather_all_win_rates(data_with_patterns, n=5)\n",
    "\n",
    "# Plot the grouped bar chart\n",
    "plot_grouped_bar(win_rates_3, win_rates_5)\n"
   ]
  },
  {
   "cell_type": "markdown",
   "id": "f59ede32-0bee-430c-8f96-f5f707baa454",
   "metadata": {},
   "source": [
    "**Answer in context to above question**"
   ]
  },
  {
   "cell_type": "markdown",
   "id": "c0e80fdb-3d56-4501-8d0a-ba3e46795fc2",
   "metadata": {},
   "source": [
    "**1. Interpret whether each pattern provides a statistically significant edge over the baseline.**"
   ]
  },
  {
   "cell_type": "markdown",
   "id": "4b2efc6b-837d-40af-9617-42434fed6fe8",
   "metadata": {},
   "source": [
    "**Ans**: We can see that only Engulfing(bullish engulfing) provides a significant edge over the bas line, whereas doji and hammer even perform worse than baseline with different n values."
   ]
  },
  {
   "cell_type": "markdown",
   "id": "a107341d-e595-4c68-aaf6-e850450b4865",
   "metadata": {},
   "source": [
    "**2. How does changing n affect the win-rates? No need to show your results. Answer qualitatively.**"
   ]
  },
  {
   "cell_type": "markdown",
   "id": "60a2a13e-9d0a-4133-907f-9a379f867cf4",
   "metadata": {},
   "source": [
    "**Ans**: \n",
    "- Shorter n captures immediate reactions after the pattern, hence it is more sensitive to short-term volatility.\n",
    "- Longer n smoothens out short-term noise, and hence may capture follow through trends better.\n",
    "- Therefore, win-rates often decline slightly as n increases because market randomness increases with time."
   ]
  },
  {
   "cell_type": "markdown",
   "id": "1ef391c5-13a6-4e66-ba22-32533e367152",
   "metadata": {},
   "source": [
    "**3. Which pattern shows the most consistent performance on different n? Why would that\n",
    "be?**"
   ]
  },
  {
   "cell_type": "markdown",
   "id": "a310879e-d885-4b49-a13b-2796ae7f0fa8",
   "metadata": {},
   "source": [
    "**Ans:** Bearish engulfing is likely to show the most consistent performance on different n because of the following reasons:\n",
    "- It’s a strong reversal signal that reflects a clear sentiment shift from bearish to bullish.\n",
    "- Its definition captures both volatility and directional nature, making it better across different time windows.\n",
    "- It is less prone to false positives than Doji(which is often neutral) or Hammer (which may rarely)."
   ]
  },
  {
   "cell_type": "markdown",
   "id": "e18df0f7-d241-436a-8716-a760beab35db",
   "metadata": {},
   "source": [
    "## **Problem Statement 3: Strategy X - Visual Interpretation and Implementation**"
   ]
  },
  {
   "cell_type": "markdown",
   "id": "c48cb61e-1725-47c3-8f7f-29d8de6b9844",
   "metadata": {},
   "source": [
    "**1. Chart Interpretation:**\n",
    "- Analyze the image to understand the underlying trading logic or intuition.\n",
    "- Identify the main technical indicators visible.\n",
    "- Explain what the marked zones, arrows, and annotations on the MFI represent in the\n",
    "context of signal generation"
   ]
  },
  {
   "cell_type": "markdown",
   "id": "1dc27384-c3bd-4484-8ac6-d174e586cc87",
   "metadata": {},
   "source": [
    "**Ans**: \n",
    "- Then main technical indicators used are, Heikin Ashi Candles, Supertrend(10,3) and MFI(14)\n",
    "- The trend zones are :\n",
    "   - Downtrend (Red Supertrend): Prices are below the Supertrend.\n",
    "   - Uptrend (Green Supertrend): Prices are above the Supertrend.\n",
    "   - Sideways (Price flat, Supertrend flat): Low volatility, no clear trend.\n",
    "- Annotations on MFI :\n",
    "   - Selling Pressure Increasing: MFI falling/crossing below 50 or 40.\n",
    "   - Buying Pressure Increasing: MFI rising from below 20 or low 30s\n",
    "   - Buying Pressure Decreasing: MFI falling from 80+ or above 60.\n",
    "- Arrows :\n",
    "   - Green upward arrows: Potential long entry\n",
    "   - Red downward arrows: Potential short entry."
   ]
  },
  {
   "cell_type": "markdown",
   "id": "05a3f237-cee0-489e-90e5-755261a515e3",
   "metadata": {},
   "source": [
    "**2. Entry and Exit Rules:**\n",
    "- Define conditions for entering and exiting both long and short positions based on\n",
    "the chart analysis.\n",
    "- Suggest any alternative rule/variants if applicable, acknowledging the subjective\n",
    "nature of technical strategies."
   ]
  },
  {
   "cell_type": "markdown",
   "id": "ce690c0c-7f33-4844-8a84-3ccd8044c5d0",
   "metadata": {},
   "source": [
    "**Ans:**\n",
    "- Long entry :\n",
    "   - Heikin ashi close > supertrend\n",
    "   - MFI crosses 20-30 from below or shows a increasing slope\n",
    "- Long exit :\n",
    "   - Heikin ashi close < supertrend\n",
    "   - MFI falls below 50 after being 70-80+\n",
    "- Short entry :\n",
    "   - Heikin ashi close < supertrend\n",
    "   - MFI falls below 80 from above or shows a decreasing slope\n",
    "- Short exit :\n",
    "   - Heikin ashi close > supertrend\n",
    "   - MFI rises above 40-50 after being about below 30s\n",
    "- Alternative rule/variants :\n",
    "   - We can add MFI divergence with the price for stronger confirmation(strong possibility of trend reversal)"
   ]
  },
  {
   "cell_type": "markdown",
   "id": "a2b4b93f-9eb8-46be-a9b1-61a3ddb2b372",
   "metadata": {},
   "source": [
    "**3. Strategy Implementation and Backtest:**\n",
    "Backtest your strategy on this dataset and present the following:\n",
    "- Bactest results\n",
    "- Visual chart with entries and exits clearly marked"
   ]
  },
  {
   "cell_type": "code",
   "execution_count": 60,
   "id": "bcc6f771-baf0-4765-9812-1ac12c6ba1d2",
   "metadata": {},
   "outputs": [
    {
     "data": {
      "text/html": [
       "<div>\n",
       "<style scoped>\n",
       "    .dataframe tbody tr th:only-of-type {\n",
       "        vertical-align: middle;\n",
       "    }\n",
       "\n",
       "    .dataframe tbody tr th {\n",
       "        vertical-align: top;\n",
       "    }\n",
       "\n",
       "    .dataframe thead th {\n",
       "        text-align: right;\n",
       "    }\n",
       "</style>\n",
       "<table border=\"1\" class=\"dataframe\">\n",
       "  <thead>\n",
       "    <tr style=\"text-align: right;\">\n",
       "      <th></th>\n",
       "      <th>datetime</th>\n",
       "      <th>close</th>\n",
       "      <th>high</th>\n",
       "      <th>low</th>\n",
       "      <th>open</th>\n",
       "      <th>volume</th>\n",
       "    </tr>\n",
       "  </thead>\n",
       "  <tbody>\n",
       "    <tr>\n",
       "      <th>0</th>\n",
       "      <td>2024-01-01</td>\n",
       "      <td>2601.022461</td>\n",
       "      <td>2629.011564</td>\n",
       "      <td>2595.915725</td>\n",
       "      <td>2611.334236</td>\n",
       "      <td>66066</td>\n",
       "    </tr>\n",
       "    <tr>\n",
       "      <th>1</th>\n",
       "      <td>2024-01-02</td>\n",
       "      <td>2621.842529</td>\n",
       "      <td>2646.689046</td>\n",
       "      <td>2603.035911</td>\n",
       "      <td>2607.406092</td>\n",
       "      <td>143141</td>\n",
       "    </tr>\n",
       "    <tr>\n",
       "      <th>2</th>\n",
       "      <td>2024-01-03</td>\n",
       "      <td>2604.558350</td>\n",
       "      <td>2637.654193</td>\n",
       "      <td>2602.004862</td>\n",
       "      <td>2622.824781</td>\n",
       "      <td>112428</td>\n",
       "    </tr>\n",
       "    <tr>\n",
       "      <th>3</th>\n",
       "      <td>2024-01-04</td>\n",
       "      <td>2659.799805</td>\n",
       "      <td>2695.547197</td>\n",
       "      <td>2623.119251</td>\n",
       "      <td>2627.047546</td>\n",
       "      <td>268532</td>\n",
       "    </tr>\n",
       "    <tr>\n",
       "      <th>4</th>\n",
       "      <td>2024-01-05</td>\n",
       "      <td>2698.886230</td>\n",
       "      <td>2718.380493</td>\n",
       "      <td>2663.580723</td>\n",
       "      <td>2676.396835</td>\n",
       "      <td>354882</td>\n",
       "    </tr>\n",
       "  </tbody>\n",
       "</table>\n",
       "</div>"
      ],
      "text/plain": [
       "    datetime        close         high          low         open  volume\n",
       "0 2024-01-01  2601.022461  2629.011564  2595.915725  2611.334236   66066\n",
       "1 2024-01-02  2621.842529  2646.689046  2603.035911  2607.406092  143141\n",
       "2 2024-01-03  2604.558350  2637.654193  2602.004862  2622.824781  112428\n",
       "3 2024-01-04  2659.799805  2695.547197  2623.119251  2627.047546  268532\n",
       "4 2024-01-05  2698.886230  2718.380493  2663.580723  2676.396835  354882"
      ]
     },
     "execution_count": 60,
     "metadata": {},
     "output_type": "execute_result"
    }
   ],
   "source": [
    "import yfinance as yf\n",
    "import pandas as pd\n",
    "import numpy as np\n",
    "\n",
    "def download_flat_yf(ticker, start, end, interval):\n",
    "    data = yf.download(ticker, start=start, end=end, interval=interval, progress=False)\n",
    "    if isinstance(data.columns, pd.MultiIndex):\n",
    "        data = data.xs(ticker, axis=1, level=1)\n",
    "    data.columns.name = None \n",
    "    data.reset_index(inplace=True)\n",
    "    data.columns = [col.lower() for col in data.columns] \n",
    "    if data.columns[0] in ['date', 'datetime']:\n",
    "        data.rename(columns={data.columns[0]: 'datetime'}, inplace=True) \n",
    "    data['datetime'] = pd.to_datetime(data['datetime'])\n",
    "    return data\n",
    "\n",
    "df = download_flat_yf(\"CAMS.NS\", start=\"2024-01-01\", end=\"2025-05-04\", interval=\"1d\")\n",
    "df.head()\n"
   ]
  },
  {
   "cell_type": "code",
   "execution_count": 61,
   "id": "9c1836a3-ee74-4c20-b9a5-61f013061593",
   "metadata": {},
   "outputs": [
    {
     "data": {
      "text/html": [
       "<div>\n",
       "<style scoped>\n",
       "    .dataframe tbody tr th:only-of-type {\n",
       "        vertical-align: middle;\n",
       "    }\n",
       "\n",
       "    .dataframe tbody tr th {\n",
       "        vertical-align: top;\n",
       "    }\n",
       "\n",
       "    .dataframe thead th {\n",
       "        text-align: right;\n",
       "    }\n",
       "</style>\n",
       "<table border=\"1\" class=\"dataframe\">\n",
       "  <thead>\n",
       "    <tr style=\"text-align: right;\">\n",
       "      <th></th>\n",
       "      <th>datetime</th>\n",
       "      <th>close</th>\n",
       "      <th>high</th>\n",
       "      <th>low</th>\n",
       "      <th>open</th>\n",
       "      <th>volume</th>\n",
       "      <th>HA_Close</th>\n",
       "      <th>HA_Open</th>\n",
       "      <th>HA_High</th>\n",
       "      <th>HA_Low</th>\n",
       "    </tr>\n",
       "  </thead>\n",
       "  <tbody>\n",
       "    <tr>\n",
       "      <th>0</th>\n",
       "      <td>2024-01-01</td>\n",
       "      <td>2601.022461</td>\n",
       "      <td>2629.011564</td>\n",
       "      <td>2595.915725</td>\n",
       "      <td>2611.334236</td>\n",
       "      <td>66066</td>\n",
       "      <td>2609.320997</td>\n",
       "      <td>2611.334236</td>\n",
       "      <td>2629.011564</td>\n",
       "      <td>2595.915725</td>\n",
       "    </tr>\n",
       "    <tr>\n",
       "      <th>1</th>\n",
       "      <td>2024-01-02</td>\n",
       "      <td>2621.842529</td>\n",
       "      <td>2646.689046</td>\n",
       "      <td>2603.035911</td>\n",
       "      <td>2607.406092</td>\n",
       "      <td>143141</td>\n",
       "      <td>2619.743394</td>\n",
       "      <td>2610.327616</td>\n",
       "      <td>2646.689046</td>\n",
       "      <td>2603.035911</td>\n",
       "    </tr>\n",
       "    <tr>\n",
       "      <th>2</th>\n",
       "      <td>2024-01-03</td>\n",
       "      <td>2604.558350</td>\n",
       "      <td>2637.654193</td>\n",
       "      <td>2602.004862</td>\n",
       "      <td>2622.824781</td>\n",
       "      <td>112428</td>\n",
       "      <td>2616.760546</td>\n",
       "      <td>2615.035505</td>\n",
       "      <td>2637.654193</td>\n",
       "      <td>2602.004862</td>\n",
       "    </tr>\n",
       "    <tr>\n",
       "      <th>3</th>\n",
       "      <td>2024-01-04</td>\n",
       "      <td>2659.799805</td>\n",
       "      <td>2695.547197</td>\n",
       "      <td>2623.119251</td>\n",
       "      <td>2627.047546</td>\n",
       "      <td>268532</td>\n",
       "      <td>2651.378450</td>\n",
       "      <td>2615.898026</td>\n",
       "      <td>2695.547197</td>\n",
       "      <td>2615.898026</td>\n",
       "    </tr>\n",
       "    <tr>\n",
       "      <th>4</th>\n",
       "      <td>2024-01-05</td>\n",
       "      <td>2698.886230</td>\n",
       "      <td>2718.380493</td>\n",
       "      <td>2663.580723</td>\n",
       "      <td>2676.396835</td>\n",
       "      <td>354882</td>\n",
       "      <td>2689.311070</td>\n",
       "      <td>2633.638238</td>\n",
       "      <td>2718.380493</td>\n",
       "      <td>2633.638238</td>\n",
       "    </tr>\n",
       "  </tbody>\n",
       "</table>\n",
       "</div>"
      ],
      "text/plain": [
       "    datetime        close         high          low         open  volume  \\\n",
       "0 2024-01-01  2601.022461  2629.011564  2595.915725  2611.334236   66066   \n",
       "1 2024-01-02  2621.842529  2646.689046  2603.035911  2607.406092  143141   \n",
       "2 2024-01-03  2604.558350  2637.654193  2602.004862  2622.824781  112428   \n",
       "3 2024-01-04  2659.799805  2695.547197  2623.119251  2627.047546  268532   \n",
       "4 2024-01-05  2698.886230  2718.380493  2663.580723  2676.396835  354882   \n",
       "\n",
       "      HA_Close      HA_Open      HA_High       HA_Low  \n",
       "0  2609.320997  2611.334236  2629.011564  2595.915725  \n",
       "1  2619.743394  2610.327616  2646.689046  2603.035911  \n",
       "2  2616.760546  2615.035505  2637.654193  2602.004862  \n",
       "3  2651.378450  2615.898026  2695.547197  2615.898026  \n",
       "4  2689.311070  2633.638238  2718.380493  2633.638238  "
      ]
     },
     "execution_count": 61,
     "metadata": {},
     "output_type": "execute_result"
    }
   ],
   "source": [
    "def heiken_ashi(df):\n",
    "    df['HA_Close'] = (df['open'] + df['high'] + df['low'] + df['close']) / 4\n",
    "    ha_open = [df['open'].iloc[0]]\n",
    "    for i in range(1, len(df)):\n",
    "        ha_open.append((ha_open[i-1] + df['HA_Close'].iloc[i-1]) / 2)\n",
    "    df['HA_Open'] = ha_open\n",
    "    df['HA_High'] = df[['high', 'HA_Open', 'HA_Close']].max(axis=1)\n",
    "    df['HA_Low'] = df[['low', 'HA_Open', 'HA_Close']].min(axis=1)\n",
    "    return df\n",
    "df = heiken_ashi(df)\n",
    "df.head()"
   ]
  },
  {
   "cell_type": "code",
   "execution_count": 62,
   "id": "c479bd7c-aef3-4a2e-b595-b462e9f8a8fa",
   "metadata": {},
   "outputs": [],
   "source": [
    "def wwma(values, n):\n",
    "    \"\"\"\n",
    "     J. Welles Wilder's EMA \n",
    "    \"\"\"\n",
    "    return values.ewm(alpha=1/n, adjust=False).mean()\n",
    "\n",
    "def atr(df, n=10):\n",
    "    data = df.copy()\n",
    "    high = data['high']\n",
    "    low = data['low']\n",
    "    close = data['close']\n",
    "    data['tr0'] = abs(high - low)\n",
    "    data['tr1'] = abs(high - close.shift())\n",
    "    data['tr2'] = abs(low - close.shift())\n",
    "    tr = data[['tr0', 'tr1', 'tr2']].max(axis=1)\n",
    "    atr = wwma(tr, n)\n",
    "    return atr"
   ]
  },
  {
   "cell_type": "code",
   "execution_count": 63,
   "id": "05deb9ce-a079-4bbc-989c-ea7a2474299e",
   "metadata": {},
   "outputs": [
    {
     "data": {
      "text/html": [
       "<div>\n",
       "<style scoped>\n",
       "    .dataframe tbody tr th:only-of-type {\n",
       "        vertical-align: middle;\n",
       "    }\n",
       "\n",
       "    .dataframe tbody tr th {\n",
       "        vertical-align: top;\n",
       "    }\n",
       "\n",
       "    .dataframe thead th {\n",
       "        text-align: right;\n",
       "    }\n",
       "</style>\n",
       "<table border=\"1\" class=\"dataframe\">\n",
       "  <thead>\n",
       "    <tr style=\"text-align: right;\">\n",
       "      <th></th>\n",
       "      <th>datetime</th>\n",
       "      <th>close</th>\n",
       "      <th>high</th>\n",
       "      <th>low</th>\n",
       "      <th>open</th>\n",
       "      <th>volume</th>\n",
       "      <th>HA_Close</th>\n",
       "      <th>HA_Open</th>\n",
       "      <th>HA_High</th>\n",
       "      <th>HA_Low</th>\n",
       "      <th>atr</th>\n",
       "      <th>upperband</th>\n",
       "      <th>lowerband</th>\n",
       "    </tr>\n",
       "  </thead>\n",
       "  <tbody>\n",
       "    <tr>\n",
       "      <th>0</th>\n",
       "      <td>2024-01-01</td>\n",
       "      <td>2601.022461</td>\n",
       "      <td>2629.011564</td>\n",
       "      <td>2595.915725</td>\n",
       "      <td>2611.334236</td>\n",
       "      <td>66066</td>\n",
       "      <td>2609.320997</td>\n",
       "      <td>2611.334236</td>\n",
       "      <td>2629.011564</td>\n",
       "      <td>2595.915725</td>\n",
       "      <td>33.095839</td>\n",
       "      <td>2711.751162</td>\n",
       "      <td>2513.176127</td>\n",
       "    </tr>\n",
       "    <tr>\n",
       "      <th>1</th>\n",
       "      <td>2024-01-02</td>\n",
       "      <td>2621.842529</td>\n",
       "      <td>2646.689046</td>\n",
       "      <td>2603.035911</td>\n",
       "      <td>2607.406092</td>\n",
       "      <td>143141</td>\n",
       "      <td>2619.743394</td>\n",
       "      <td>2610.327616</td>\n",
       "      <td>2646.689046</td>\n",
       "      <td>2603.035911</td>\n",
       "      <td>34.352914</td>\n",
       "      <td>2711.751162</td>\n",
       "      <td>2521.803737</td>\n",
       "    </tr>\n",
       "    <tr>\n",
       "      <th>2</th>\n",
       "      <td>2024-01-03</td>\n",
       "      <td>2604.558350</td>\n",
       "      <td>2637.654193</td>\n",
       "      <td>2602.004862</td>\n",
       "      <td>2622.824781</td>\n",
       "      <td>112428</td>\n",
       "      <td>2616.760546</td>\n",
       "      <td>2615.035505</td>\n",
       "      <td>2637.654193</td>\n",
       "      <td>2602.004862</td>\n",
       "      <td>34.482555</td>\n",
       "      <td>2711.751162</td>\n",
       "      <td>2521.803737</td>\n",
       "    </tr>\n",
       "    <tr>\n",
       "      <th>3</th>\n",
       "      <td>2024-01-04</td>\n",
       "      <td>2659.799805</td>\n",
       "      <td>2695.547197</td>\n",
       "      <td>2623.119251</td>\n",
       "      <td>2627.047546</td>\n",
       "      <td>268532</td>\n",
       "      <td>2651.378450</td>\n",
       "      <td>2615.898026</td>\n",
       "      <td>2695.547197</td>\n",
       "      <td>2615.898026</td>\n",
       "      <td>40.133185</td>\n",
       "      <td>2711.751162</td>\n",
       "      <td>2538.933670</td>\n",
       "    </tr>\n",
       "    <tr>\n",
       "      <th>4</th>\n",
       "      <td>2024-01-05</td>\n",
       "      <td>2698.886230</td>\n",
       "      <td>2718.380493</td>\n",
       "      <td>2663.580723</td>\n",
       "      <td>2676.396835</td>\n",
       "      <td>354882</td>\n",
       "      <td>2689.311070</td>\n",
       "      <td>2633.638238</td>\n",
       "      <td>2718.380493</td>\n",
       "      <td>2633.638238</td>\n",
       "      <td>41.977935</td>\n",
       "      <td>2711.751162</td>\n",
       "      <td>2565.046803</td>\n",
       "    </tr>\n",
       "  </tbody>\n",
       "</table>\n",
       "</div>"
      ],
      "text/plain": [
       "    datetime        close         high          low         open  volume  \\\n",
       "0 2024-01-01  2601.022461  2629.011564  2595.915725  2611.334236   66066   \n",
       "1 2024-01-02  2621.842529  2646.689046  2603.035911  2607.406092  143141   \n",
       "2 2024-01-03  2604.558350  2637.654193  2602.004862  2622.824781  112428   \n",
       "3 2024-01-04  2659.799805  2695.547197  2623.119251  2627.047546  268532   \n",
       "4 2024-01-05  2698.886230  2718.380493  2663.580723  2676.396835  354882   \n",
       "\n",
       "      HA_Close      HA_Open      HA_High       HA_Low        atr    upperband  \\\n",
       "0  2609.320997  2611.334236  2629.011564  2595.915725  33.095839  2711.751162   \n",
       "1  2619.743394  2610.327616  2646.689046  2603.035911  34.352914  2711.751162   \n",
       "2  2616.760546  2615.035505  2637.654193  2602.004862  34.482555  2711.751162   \n",
       "3  2651.378450  2615.898026  2695.547197  2615.898026  40.133185  2711.751162   \n",
       "4  2689.311070  2633.638238  2718.380493  2633.638238  41.977935  2711.751162   \n",
       "\n",
       "     lowerband  \n",
       "0  2513.176127  \n",
       "1  2521.803737  \n",
       "2  2521.803737  \n",
       "3  2538.933670  \n",
       "4  2565.046803  "
      ]
     },
     "execution_count": 63,
     "metadata": {},
     "output_type": "execute_result"
    }
   ],
   "source": [
    "def supertrend(df, atr_multiplier=3):\n",
    "    # Calculate the Upper Band(UB) and the Lower Band(LB)\n",
    "    # Formular: Supertrend =(High+Low)/2 + (Multiplier)∗(ATR)\n",
    "    current_average_high_low = (df['high']+df['low'])/2\n",
    "    df['atr'] = atr(df, 10)\n",
    "    df.dropna(inplace=True)\n",
    "    df['basicUpperband'] = current_average_high_low + (atr_multiplier * df['atr'])\n",
    "    df['basicLowerband'] = current_average_high_low - (atr_multiplier * df['atr'])\n",
    "    first_upperBand_value = df['basicUpperband'].iloc[0]\n",
    "    first_lowerBand_value = df['basicLowerband'].iloc[0]\n",
    "    upperBand = [first_upperBand_value]\n",
    "    lowerBand = [first_lowerBand_value]\n",
    "\n",
    "    for i in range(1, len(df)):\n",
    "        if df['basicUpperband'].iloc[i] < upperBand[i-1] or df['close'].iloc[i-1] > upperBand[i-1]:\n",
    "            upperBand.append(df['basicUpperband'].iloc[i])\n",
    "        else:\n",
    "            upperBand.append(upperBand[i-1])\n",
    "\n",
    "        if df['basicLowerband'].iloc[i] > lowerBand[i-1] or df['close'].iloc[i-1] < lowerBand[i-1]:\n",
    "            lowerBand.append(df['basicLowerband'].iloc[i])\n",
    "        else:\n",
    "            lowerBand.append(lowerBand[i-1])\n",
    "\n",
    "    df['upperband'] = upperBand\n",
    "    df['lowerband'] = lowerBand\n",
    "    df.drop(['basicUpperband', 'basicLowerband',], axis=1, inplace=True)\n",
    "    return df\n",
    "df = supertrend(df,3)\n",
    "df.head()"
   ]
  },
  {
   "cell_type": "code",
   "execution_count": 67,
   "id": "65940905-a284-4c0f-a127-6de7a8365dbd",
   "metadata": {},
   "outputs": [
    {
     "data": {
      "text/html": [
       "<div>\n",
       "<style scoped>\n",
       "    .dataframe tbody tr th:only-of-type {\n",
       "        vertical-align: middle;\n",
       "    }\n",
       "\n",
       "    .dataframe tbody tr th {\n",
       "        vertical-align: top;\n",
       "    }\n",
       "\n",
       "    .dataframe thead th {\n",
       "        text-align: right;\n",
       "    }\n",
       "</style>\n",
       "<table border=\"1\" class=\"dataframe\">\n",
       "  <thead>\n",
       "    <tr style=\"text-align: right;\">\n",
       "      <th></th>\n",
       "      <th>datetime</th>\n",
       "      <th>close</th>\n",
       "      <th>high</th>\n",
       "      <th>low</th>\n",
       "      <th>open</th>\n",
       "      <th>volume</th>\n",
       "      <th>HA_Close</th>\n",
       "      <th>HA_Open</th>\n",
       "      <th>HA_High</th>\n",
       "      <th>HA_Low</th>\n",
       "      <th>atr</th>\n",
       "      <th>upperband</th>\n",
       "      <th>lowerband</th>\n",
       "      <th>supertrend</th>\n",
       "      <th>supretrend</th>\n",
       "    </tr>\n",
       "  </thead>\n",
       "  <tbody>\n",
       "    <tr>\n",
       "      <th>0</th>\n",
       "      <td>2024-01-01</td>\n",
       "      <td>2601.022461</td>\n",
       "      <td>2629.011564</td>\n",
       "      <td>2595.915725</td>\n",
       "      <td>2611.334236</td>\n",
       "      <td>66066</td>\n",
       "      <td>2609.320997</td>\n",
       "      <td>2611.334236</td>\n",
       "      <td>2629.011564</td>\n",
       "      <td>2595.915725</td>\n",
       "      <td>33.095839</td>\n",
       "      <td>2711.751162</td>\n",
       "      <td>2513.176127</td>\n",
       "      <td>0</td>\n",
       "      <td>NaN</td>\n",
       "    </tr>\n",
       "    <tr>\n",
       "      <th>1</th>\n",
       "      <td>2024-01-02</td>\n",
       "      <td>2621.842529</td>\n",
       "      <td>2646.689046</td>\n",
       "      <td>2603.035911</td>\n",
       "      <td>2607.406092</td>\n",
       "      <td>143141</td>\n",
       "      <td>2619.743394</td>\n",
       "      <td>2610.327616</td>\n",
       "      <td>2646.689046</td>\n",
       "      <td>2603.035911</td>\n",
       "      <td>34.352914</td>\n",
       "      <td>2711.751162</td>\n",
       "      <td>2521.803737</td>\n",
       "      <td>0</td>\n",
       "      <td>0.0</td>\n",
       "    </tr>\n",
       "    <tr>\n",
       "      <th>2</th>\n",
       "      <td>2024-01-03</td>\n",
       "      <td>2604.558350</td>\n",
       "      <td>2637.654193</td>\n",
       "      <td>2602.004862</td>\n",
       "      <td>2622.824781</td>\n",
       "      <td>112428</td>\n",
       "      <td>2616.760546</td>\n",
       "      <td>2615.035505</td>\n",
       "      <td>2637.654193</td>\n",
       "      <td>2602.004862</td>\n",
       "      <td>34.482555</td>\n",
       "      <td>2711.751162</td>\n",
       "      <td>2521.803737</td>\n",
       "      <td>0</td>\n",
       "      <td>0.0</td>\n",
       "    </tr>\n",
       "    <tr>\n",
       "      <th>3</th>\n",
       "      <td>2024-01-04</td>\n",
       "      <td>2659.799805</td>\n",
       "      <td>2695.547197</td>\n",
       "      <td>2623.119251</td>\n",
       "      <td>2627.047546</td>\n",
       "      <td>268532</td>\n",
       "      <td>2651.378450</td>\n",
       "      <td>2615.898026</td>\n",
       "      <td>2695.547197</td>\n",
       "      <td>2615.898026</td>\n",
       "      <td>40.133185</td>\n",
       "      <td>2711.751162</td>\n",
       "      <td>2538.933670</td>\n",
       "      <td>0</td>\n",
       "      <td>0.0</td>\n",
       "    </tr>\n",
       "    <tr>\n",
       "      <th>4</th>\n",
       "      <td>2024-01-05</td>\n",
       "      <td>2698.886230</td>\n",
       "      <td>2718.380493</td>\n",
       "      <td>2663.580723</td>\n",
       "      <td>2676.396835</td>\n",
       "      <td>354882</td>\n",
       "      <td>2689.311070</td>\n",
       "      <td>2633.638238</td>\n",
       "      <td>2718.380493</td>\n",
       "      <td>2633.638238</td>\n",
       "      <td>41.977935</td>\n",
       "      <td>2711.751162</td>\n",
       "      <td>2565.046803</td>\n",
       "      <td>0</td>\n",
       "      <td>0.0</td>\n",
       "    </tr>\n",
       "  </tbody>\n",
       "</table>\n",
       "</div>"
      ],
      "text/plain": [
       "    datetime        close         high          low         open  volume  \\\n",
       "0 2024-01-01  2601.022461  2629.011564  2595.915725  2611.334236   66066   \n",
       "1 2024-01-02  2621.842529  2646.689046  2603.035911  2607.406092  143141   \n",
       "2 2024-01-03  2604.558350  2637.654193  2602.004862  2622.824781  112428   \n",
       "3 2024-01-04  2659.799805  2695.547197  2623.119251  2627.047546  268532   \n",
       "4 2024-01-05  2698.886230  2718.380493  2663.580723  2676.396835  354882   \n",
       "\n",
       "      HA_Close      HA_Open      HA_High       HA_Low        atr    upperband  \\\n",
       "0  2609.320997  2611.334236  2629.011564  2595.915725  33.095839  2711.751162   \n",
       "1  2619.743394  2610.327616  2646.689046  2603.035911  34.352914  2711.751162   \n",
       "2  2616.760546  2615.035505  2637.654193  2602.004862  34.482555  2711.751162   \n",
       "3  2651.378450  2615.898026  2695.547197  2615.898026  40.133185  2711.751162   \n",
       "4  2689.311070  2633.638238  2718.380493  2633.638238  41.977935  2711.751162   \n",
       "\n",
       "     lowerband  supertrend  supretrend  \n",
       "0  2513.176127           0         NaN  \n",
       "1  2521.803737           0         0.0  \n",
       "2  2521.803737           0         0.0  \n",
       "3  2538.933670           0         0.0  \n",
       "4  2565.046803           0         0.0  "
      ]
     },
     "execution_count": 67,
     "metadata": {},
     "output_type": "execute_result"
    }
   ],
   "source": [
    "def generate_supertrend_signals(df):\n",
    "    # Intiate a signals list\n",
    "    signals = [0]\n",
    "    # Loop through the dataframe\n",
    "    for i in range(1 , len(df)):\n",
    "        if df['close'].iloc[i] > df['upperband'].iloc[i]:\n",
    "            signals.append(1)\n",
    "        elif df['close'].iloc[i] < df['lowerband'].iloc[i]:\n",
    "            signals.append(-1)\n",
    "        else:\n",
    "            signals.append(signals[i-1])\n",
    "\n",
    "    # Add the signals list as a new column in the dataframe\n",
    "    df['supertrend'] = signals\n",
    "    df['supretrend'] = df['supertrend'].shift(1) #Remove look ahead bias\n",
    "    return df\n",
    "generate_supertrend_signals(df)\n",
    "df.head()"
   ]
  },
  {
   "cell_type": "code",
   "execution_count": 73,
   "id": "5865232d-d5d4-476b-94e6-06db5df6f179",
   "metadata": {},
   "outputs": [
    {
     "data": {
      "text/html": [
       "<div>\n",
       "<style scoped>\n",
       "    .dataframe tbody tr th:only-of-type {\n",
       "        vertical-align: middle;\n",
       "    }\n",
       "\n",
       "    .dataframe tbody tr th {\n",
       "        vertical-align: top;\n",
       "    }\n",
       "\n",
       "    .dataframe thead th {\n",
       "        text-align: right;\n",
       "    }\n",
       "</style>\n",
       "<table border=\"1\" class=\"dataframe\">\n",
       "  <thead>\n",
       "    <tr style=\"text-align: right;\">\n",
       "      <th></th>\n",
       "      <th>datetime</th>\n",
       "      <th>close</th>\n",
       "      <th>high</th>\n",
       "      <th>low</th>\n",
       "      <th>open</th>\n",
       "      <th>volume</th>\n",
       "      <th>HA_Close</th>\n",
       "      <th>HA_Open</th>\n",
       "      <th>HA_High</th>\n",
       "      <th>HA_Low</th>\n",
       "      <th>atr</th>\n",
       "      <th>upperband</th>\n",
       "      <th>lowerband</th>\n",
       "      <th>supertrend</th>\n",
       "      <th>supretrend</th>\n",
       "      <th>MFI</th>\n",
       "    </tr>\n",
       "  </thead>\n",
       "  <tbody>\n",
       "    <tr>\n",
       "      <th>0</th>\n",
       "      <td>2024-01-01</td>\n",
       "      <td>2601.022461</td>\n",
       "      <td>2629.011564</td>\n",
       "      <td>2595.915725</td>\n",
       "      <td>2611.334236</td>\n",
       "      <td>66066</td>\n",
       "      <td>2609.320997</td>\n",
       "      <td>2611.334236</td>\n",
       "      <td>2629.011564</td>\n",
       "      <td>2595.915725</td>\n",
       "      <td>33.095839</td>\n",
       "      <td>2711.751162</td>\n",
       "      <td>2513.176127</td>\n",
       "      <td>0</td>\n",
       "      <td>NaN</td>\n",
       "      <td>NaN</td>\n",
       "    </tr>\n",
       "    <tr>\n",
       "      <th>1</th>\n",
       "      <td>2024-01-02</td>\n",
       "      <td>2621.842529</td>\n",
       "      <td>2646.689046</td>\n",
       "      <td>2603.035911</td>\n",
       "      <td>2607.406092</td>\n",
       "      <td>143141</td>\n",
       "      <td>2619.743394</td>\n",
       "      <td>2610.327616</td>\n",
       "      <td>2646.689046</td>\n",
       "      <td>2603.035911</td>\n",
       "      <td>34.352914</td>\n",
       "      <td>2711.751162</td>\n",
       "      <td>2521.803737</td>\n",
       "      <td>0</td>\n",
       "      <td>0.0</td>\n",
       "      <td>NaN</td>\n",
       "    </tr>\n",
       "    <tr>\n",
       "      <th>2</th>\n",
       "      <td>2024-01-03</td>\n",
       "      <td>2604.558350</td>\n",
       "      <td>2637.654193</td>\n",
       "      <td>2602.004862</td>\n",
       "      <td>2622.824781</td>\n",
       "      <td>112428</td>\n",
       "      <td>2616.760546</td>\n",
       "      <td>2615.035505</td>\n",
       "      <td>2637.654193</td>\n",
       "      <td>2602.004862</td>\n",
       "      <td>34.482555</td>\n",
       "      <td>2711.751162</td>\n",
       "      <td>2521.803737</td>\n",
       "      <td>0</td>\n",
       "      <td>0.0</td>\n",
       "      <td>NaN</td>\n",
       "    </tr>\n",
       "    <tr>\n",
       "      <th>3</th>\n",
       "      <td>2024-01-04</td>\n",
       "      <td>2659.799805</td>\n",
       "      <td>2695.547197</td>\n",
       "      <td>2623.119251</td>\n",
       "      <td>2627.047546</td>\n",
       "      <td>268532</td>\n",
       "      <td>2651.378450</td>\n",
       "      <td>2615.898026</td>\n",
       "      <td>2695.547197</td>\n",
       "      <td>2615.898026</td>\n",
       "      <td>40.133185</td>\n",
       "      <td>2711.751162</td>\n",
       "      <td>2538.933670</td>\n",
       "      <td>0</td>\n",
       "      <td>0.0</td>\n",
       "      <td>NaN</td>\n",
       "    </tr>\n",
       "    <tr>\n",
       "      <th>4</th>\n",
       "      <td>2024-01-05</td>\n",
       "      <td>2698.886230</td>\n",
       "      <td>2718.380493</td>\n",
       "      <td>2663.580723</td>\n",
       "      <td>2676.396835</td>\n",
       "      <td>354882</td>\n",
       "      <td>2689.311070</td>\n",
       "      <td>2633.638238</td>\n",
       "      <td>2718.380493</td>\n",
       "      <td>2633.638238</td>\n",
       "      <td>41.977935</td>\n",
       "      <td>2711.751162</td>\n",
       "      <td>2565.046803</td>\n",
       "      <td>0</td>\n",
       "      <td>0.0</td>\n",
       "      <td>NaN</td>\n",
       "    </tr>\n",
       "  </tbody>\n",
       "</table>\n",
       "</div>"
      ],
      "text/plain": [
       "    datetime        close         high          low         open  volume  \\\n",
       "0 2024-01-01  2601.022461  2629.011564  2595.915725  2611.334236   66066   \n",
       "1 2024-01-02  2621.842529  2646.689046  2603.035911  2607.406092  143141   \n",
       "2 2024-01-03  2604.558350  2637.654193  2602.004862  2622.824781  112428   \n",
       "3 2024-01-04  2659.799805  2695.547197  2623.119251  2627.047546  268532   \n",
       "4 2024-01-05  2698.886230  2718.380493  2663.580723  2676.396835  354882   \n",
       "\n",
       "      HA_Close      HA_Open      HA_High       HA_Low        atr    upperband  \\\n",
       "0  2609.320997  2611.334236  2629.011564  2595.915725  33.095839  2711.751162   \n",
       "1  2619.743394  2610.327616  2646.689046  2603.035911  34.352914  2711.751162   \n",
       "2  2616.760546  2615.035505  2637.654193  2602.004862  34.482555  2711.751162   \n",
       "3  2651.378450  2615.898026  2695.547197  2615.898026  40.133185  2711.751162   \n",
       "4  2689.311070  2633.638238  2718.380493  2633.638238  41.977935  2711.751162   \n",
       "\n",
       "     lowerband  supertrend  supretrend  MFI  \n",
       "0  2513.176127           0         NaN  NaN  \n",
       "1  2521.803737           0         0.0  NaN  \n",
       "2  2521.803737           0         0.0  NaN  \n",
       "3  2538.933670           0         0.0  NaN  \n",
       "4  2565.046803           0         0.0  NaN  "
      ]
     },
     "execution_count": 73,
     "metadata": {},
     "output_type": "execute_result"
    }
   ],
   "source": [
    "def calculate_mfi(df, period=14):\n",
    "    TP = (df[\"high\"] + df[\"low\"] + df[\"close\"]) / 3\n",
    "    MoneyFlow = TP * df[\"volume\"]\n",
    "    positive_flow = []\n",
    "    negative_flow = []\n",
    "    for i in range(1, len(TP)):\n",
    "        if TP[i] > TP[i - 1]:\n",
    "            positive_flow.append(MoneyFlow[i])\n",
    "            negative_flow.append(0)\n",
    "        elif TP[i] < TP[i - 1]:\n",
    "            positive_flow.append(0)\n",
    "            negative_flow.append(MoneyFlow[i])\n",
    "        else:\n",
    "            positive_flow.append(0)\n",
    "            negative_flow.append(0)\n",
    "    positive_mf = pd.Series(positive_flow).rolling(window=period).sum()\n",
    "    negative_mf = pd.Series(negative_flow).rolling(window=period).sum()\n",
    "    MFR = positive_mf / negative_mf\n",
    "    MFI = 100 - (100 / (1 + MFR))\n",
    "    # typical_price = (df['high'] + df['low'] + df['close']) / 3\n",
    "    # raw_money_flow = typical_price * df['volume']\n",
    "    \n",
    "    # positive_flow = [0] * len(df)\n",
    "    # negative_flow = [0] * len(df)\n",
    "    \n",
    "    # for i in range(1, len(df)):\n",
    "    #     if typical_price.iloc[i] > typical_price.iloc[i-1]:\n",
    "    #         positive_flow[i] = raw_money_flow.iloc[i]\n",
    "    #     else:\n",
    "    #         negative_flow[i] = raw_money_flow.iloc[i]\n",
    "    \n",
    "    # mfi = 100 - (100 / (1 + (pd.Series(positive_flow).rolling(period).sum() / \n",
    "    #                         pd.Series(negative_flow).rolling(period).sum())))\n",
    "    df['MFI'] = MFI\n",
    "    return df\n",
    "df = calculate_mfi(df,14)\n",
    "df.head()"
   ]
  },
  {
   "cell_type": "code",
   "execution_count": 75,
   "id": "0491ad49-f880-4384-942a-46babe081d18",
   "metadata": {},
   "outputs": [
    {
     "name": "stdout",
     "output_type": "stream",
     "text": [
      "Total Return: -43.02%\n",
      "Win Rate: 49.83%\n"
     ]
    },
    {
     "data": {
      "text/html": [
       "<div>\n",
       "<style scoped>\n",
       "    .dataframe tbody tr th:only-of-type {\n",
       "        vertical-align: middle;\n",
       "    }\n",
       "\n",
       "    .dataframe tbody tr th {\n",
       "        vertical-align: top;\n",
       "    }\n",
       "\n",
       "    .dataframe thead th {\n",
       "        text-align: right;\n",
       "    }\n",
       "</style>\n",
       "<table border=\"1\" class=\"dataframe\">\n",
       "  <thead>\n",
       "    <tr style=\"text-align: right;\">\n",
       "      <th></th>\n",
       "      <th>datetime</th>\n",
       "      <th>close</th>\n",
       "      <th>high</th>\n",
       "      <th>low</th>\n",
       "      <th>open</th>\n",
       "      <th>volume</th>\n",
       "      <th>HA_Close</th>\n",
       "      <th>HA_Open</th>\n",
       "      <th>HA_High</th>\n",
       "      <th>HA_Low</th>\n",
       "      <th>atr</th>\n",
       "      <th>upperband</th>\n",
       "      <th>lowerband</th>\n",
       "      <th>supertrend</th>\n",
       "      <th>supretrend</th>\n",
       "      <th>MFI</th>\n",
       "      <th>Signal</th>\n",
       "      <th>Return</th>\n",
       "      <th>Strategy_Return</th>\n",
       "    </tr>\n",
       "  </thead>\n",
       "  <tbody>\n",
       "    <tr>\n",
       "      <th>0</th>\n",
       "      <td>2024-01-01</td>\n",
       "      <td>2601.022461</td>\n",
       "      <td>2629.011564</td>\n",
       "      <td>2595.915725</td>\n",
       "      <td>2611.334236</td>\n",
       "      <td>66066</td>\n",
       "      <td>2609.320997</td>\n",
       "      <td>2611.334236</td>\n",
       "      <td>2629.011564</td>\n",
       "      <td>2595.915725</td>\n",
       "      <td>33.095839</td>\n",
       "      <td>2711.751162</td>\n",
       "      <td>2513.176127</td>\n",
       "      <td>0</td>\n",
       "      <td>NaN</td>\n",
       "      <td>NaN</td>\n",
       "      <td>0</td>\n",
       "      <td>NaN</td>\n",
       "      <td>NaN</td>\n",
       "    </tr>\n",
       "    <tr>\n",
       "      <th>1</th>\n",
       "      <td>2024-01-02</td>\n",
       "      <td>2621.842529</td>\n",
       "      <td>2646.689046</td>\n",
       "      <td>2603.035911</td>\n",
       "      <td>2607.406092</td>\n",
       "      <td>143141</td>\n",
       "      <td>2619.743394</td>\n",
       "      <td>2610.327616</td>\n",
       "      <td>2646.689046</td>\n",
       "      <td>2603.035911</td>\n",
       "      <td>34.352914</td>\n",
       "      <td>2711.751162</td>\n",
       "      <td>2521.803737</td>\n",
       "      <td>0</td>\n",
       "      <td>0.0</td>\n",
       "      <td>NaN</td>\n",
       "      <td>0</td>\n",
       "      <td>0.008005</td>\n",
       "      <td>0.0</td>\n",
       "    </tr>\n",
       "    <tr>\n",
       "      <th>2</th>\n",
       "      <td>2024-01-03</td>\n",
       "      <td>2604.558350</td>\n",
       "      <td>2637.654193</td>\n",
       "      <td>2602.004862</td>\n",
       "      <td>2622.824781</td>\n",
       "      <td>112428</td>\n",
       "      <td>2616.760546</td>\n",
       "      <td>2615.035505</td>\n",
       "      <td>2637.654193</td>\n",
       "      <td>2602.004862</td>\n",
       "      <td>34.482555</td>\n",
       "      <td>2711.751162</td>\n",
       "      <td>2521.803737</td>\n",
       "      <td>0</td>\n",
       "      <td>0.0</td>\n",
       "      <td>NaN</td>\n",
       "      <td>0</td>\n",
       "      <td>-0.006592</td>\n",
       "      <td>-0.0</td>\n",
       "    </tr>\n",
       "    <tr>\n",
       "      <th>3</th>\n",
       "      <td>2024-01-04</td>\n",
       "      <td>2659.799805</td>\n",
       "      <td>2695.547197</td>\n",
       "      <td>2623.119251</td>\n",
       "      <td>2627.047546</td>\n",
       "      <td>268532</td>\n",
       "      <td>2651.378450</td>\n",
       "      <td>2615.898026</td>\n",
       "      <td>2695.547197</td>\n",
       "      <td>2615.898026</td>\n",
       "      <td>40.133185</td>\n",
       "      <td>2711.751162</td>\n",
       "      <td>2538.933670</td>\n",
       "      <td>0</td>\n",
       "      <td>0.0</td>\n",
       "      <td>NaN</td>\n",
       "      <td>0</td>\n",
       "      <td>0.021210</td>\n",
       "      <td>0.0</td>\n",
       "    </tr>\n",
       "    <tr>\n",
       "      <th>4</th>\n",
       "      <td>2024-01-05</td>\n",
       "      <td>2698.886230</td>\n",
       "      <td>2718.380493</td>\n",
       "      <td>2663.580723</td>\n",
       "      <td>2676.396835</td>\n",
       "      <td>354882</td>\n",
       "      <td>2689.311070</td>\n",
       "      <td>2633.638238</td>\n",
       "      <td>2718.380493</td>\n",
       "      <td>2633.638238</td>\n",
       "      <td>41.977935</td>\n",
       "      <td>2711.751162</td>\n",
       "      <td>2565.046803</td>\n",
       "      <td>0</td>\n",
       "      <td>0.0</td>\n",
       "      <td>NaN</td>\n",
       "      <td>0</td>\n",
       "      <td>0.014695</td>\n",
       "      <td>0.0</td>\n",
       "    </tr>\n",
       "  </tbody>\n",
       "</table>\n",
       "</div>"
      ],
      "text/plain": [
       "    datetime        close         high          low         open  volume  \\\n",
       "0 2024-01-01  2601.022461  2629.011564  2595.915725  2611.334236   66066   \n",
       "1 2024-01-02  2621.842529  2646.689046  2603.035911  2607.406092  143141   \n",
       "2 2024-01-03  2604.558350  2637.654193  2602.004862  2622.824781  112428   \n",
       "3 2024-01-04  2659.799805  2695.547197  2623.119251  2627.047546  268532   \n",
       "4 2024-01-05  2698.886230  2718.380493  2663.580723  2676.396835  354882   \n",
       "\n",
       "      HA_Close      HA_Open      HA_High       HA_Low        atr    upperband  \\\n",
       "0  2609.320997  2611.334236  2629.011564  2595.915725  33.095839  2711.751162   \n",
       "1  2619.743394  2610.327616  2646.689046  2603.035911  34.352914  2711.751162   \n",
       "2  2616.760546  2615.035505  2637.654193  2602.004862  34.482555  2711.751162   \n",
       "3  2651.378450  2615.898026  2695.547197  2615.898026  40.133185  2711.751162   \n",
       "4  2689.311070  2633.638238  2718.380493  2633.638238  41.977935  2711.751162   \n",
       "\n",
       "     lowerband  supertrend  supretrend  MFI  Signal    Return  Strategy_Return  \n",
       "0  2513.176127           0         NaN  NaN       0       NaN              NaN  \n",
       "1  2521.803737           0         0.0  NaN       0  0.008005              0.0  \n",
       "2  2521.803737           0         0.0  NaN       0 -0.006592             -0.0  \n",
       "3  2538.933670           0         0.0  NaN       0  0.021210              0.0  \n",
       "4  2565.046803           0         0.0  NaN       0  0.014695              0.0  "
      ]
     },
     "execution_count": 75,
     "metadata": {},
     "output_type": "execute_result"
    }
   ],
   "source": [
    "def backtest_strategy(data):\n",
    "    data['Signal'] = 0\n",
    "    data.loc[(data['supertrend'] == 1) & (data['MFI'] < 80), 'Signal'] = 1\n",
    "    data.loc[(data['supertrend'] == -1) & (data['MFI'] > 20), 'Signal'] = -1\n",
    "    \n",
    "    # Calculate returns\n",
    "    data['Return'] = data['close'].pct_change()\n",
    "    data['Strategy_Return'] = data['Signal'].shift(1) * data['Return']\n",
    "    \n",
    "    # Metrics\n",
    "    total_return = data['Strategy_Return'].sum() * 100\n",
    "    win_rate = (data[data['Strategy_Return'] > 0].shape[0] / \n",
    "               data[data['Strategy_Return'] != 0].shape[0]) * 100\n",
    "    \n",
    "    print(f\"Total Return: {total_return:.2f}%\")\n",
    "    print(f\"Win Rate: {win_rate:.2f}%\")\n",
    "    return data\n",
    "df = backtest_strategy(df)\n",
    "df.head()"
   ]
  },
  {
   "cell_type": "code",
   "execution_count": 79,
   "id": "4f2729cf-d917-4951-84de-101922640668",
   "metadata": {},
   "outputs": [
    {
     "data": {
      "image/png": "[encoded data removed]",
      "text/plain": [
       "<Figure size 1500x700 with 1 Axes>"
      ]
     },
     "metadata": {},
     "output_type": "display_data"
    }
   ],
   "source": [
    "plt.figure(figsize=(15,7))\n",
    "plt.plot(df['close'], label='Price')\n",
    "plt.plot(df['upperband'], label='upperband', linestyle='--')\n",
    "plt.plot(df['lowerband'], label='lowerband', linestyle='--')\n",
    "plt.scatter(df[df['Signal'] == 1].index, \n",
    "            df[df['Signal'] == 1]['close'], \n",
    "            marker='^', color='g', label='Buy')\n",
    "plt.scatter(df[df['Signal'] == -1].index, \n",
    "            df[df['Signal'] == -1]['close'], \n",
    "            marker='v', color='r', label='Sell')\n",
    "plt.title('Strategy X: Entries/Exits')\n",
    "plt.legend()\n",
    "plt.show()\n"
   ]
  },
  {
   "cell_type": "markdown",
   "id": "4466cc82-6560-42b3-903a-9866dbc8ca92",
   "metadata": {},
   "source": [
    "**4. Incorporating a Complementary Indicator:**"
   ]
  },
  {
   "cell_type": "markdown",
   "id": "e1c0c8c0-a6f8-4137-9bd4-881eced21cee",
   "metadata": {},
   "source": [
    "I am incorporating ATR that will bring in volatility into the play."
   ]
  },
  {
   "cell_type": "code",
   "execution_count": 93,
   "id": "55b560ea-9079-495a-a173-143b5e095c1b",
   "metadata": {},
   "outputs": [
    {
     "data": {
      "image/png": "[encoded data removed]",
      "text/plain": [
       "<Figure size 1400x1000 with 2 Axes>"
      ]
     },
     "metadata": {},
     "output_type": "display_data"
    }
   ],
   "source": [
    "import matplotlib.dates as mdates\n",
    "from matplotlib.patches import Rectangle\n",
    "def plot_stock_with_atr(df, atr_period=14):\n",
    "    \"\"\"\n",
    "    Plot stock price data with candlesticks, volatility zones, and ATR.\n",
    "    \n",
    "    Parameters:\n",
    "    - df: DataFrame with OHLC data and volatility zones\n",
    "    - atr_period: Period for ATR calculation\n",
    "    \"\"\"\n",
    "    # Create figure with subplots\n",
    "    fig, (ax1, ax2) = plt.subplots(2, 1, figsize=(14, 10), gridspec_kw={'height_ratios': [3, 1]}, sharex=True)\n",
    "    \n",
    "    # Format date axis\n",
    "    ax1.xaxis.set_major_formatter(mdates.DateFormatter('%Y-%m-%d'))\n",
    "    ax1.xaxis.set_major_locator(mdates.MonthLocator())\n",
    "    \n",
    "    # Plot candlestick chart\n",
    "    for i, row in df.iterrows():\n",
    "        # Determine candle color\n",
    "        if row['close'] >= row['open']:\n",
    "            color = 'green'\n",
    "            body_bottom = row['open']\n",
    "            body_height = row['close'] - row['open']\n",
    "        else:\n",
    "            color = 'red'\n",
    "            body_bottom = row['close']\n",
    "            body_height = row['open'] - row['close']\n",
    "        \n",
    "        # Plot candlestick body\n",
    "        ax1.add_patch(Rectangle(\n",
    "            (mdates.date2num(row['datetime'])-0.3, body_bottom),\n",
    "            0.6, body_height, fill=True, color=color, alpha=0.7\n",
    "        ))\n",
    "        \n",
    "        # Plot high/low wicks\n",
    "        ax1.plot(\n",
    "            [mdates.date2num(row['datetime']), mdates.date2num(row['datetime'])],\n",
    "            [row['low'], row['high']],\n",
    "            color='black', linewidth=1\n",
    "        )\n",
    "    # Plot ATR on the second subplot\n",
    "    ax2.plot(df['datetime'], df['atr'], color='purple', linewidth=2)\n",
    "    ax2.plot(df['datetime'], df['atr_ma'], color='yellow', linewidth=2)\n",
    "    ax2.set_title(f'Average True Range (ATR-{atr_period})')\n",
    "    ax2.grid(True, alpha=0.3)\n",
    "    ax2.set_ylabel('ATR Value')\n",
    "    \n",
    "    # Set titles and labels\n",
    "    ax1.set_title('Stock Price')\n",
    "    ax1.set_ylabel('Price')\n",
    "    ax1.grid(True, alpha=0.3)\n",
    "    \n",
    "    # Add a legend for candlesticks\n",
    "    green_patch = plt.Rectangle((0, 0), 1, 1, fc=\"green\", alpha=0.7)\n",
    "    red_patch = plt.Rectangle((0, 0), 1, 1, fc=\"red\", alpha=0.7)\n",
    "    ax1.legend([green_patch, red_patch], ['Bullish Candle', 'Bearish Candle'], loc='upper left')\n",
    "    \n",
    "    # Format x-axis dates\n",
    "    fig.autofmt_xdate()\n",
    "    \n",
    "    plt.tight_layout()\n",
    "    plt.show()\n",
    "\n",
    "plot_stock_with_atr(df, atr_period=14)"
   ]
  },
  {
   "cell_type": "code",
   "execution_count": 85,
   "id": "af9687ce-78bc-4b14-971c-92122438c5c1",
   "metadata": {},
   "outputs": [
    {
     "data": {
      "text/html": [
       "<div>\n",
       "<style scoped>\n",
       "    .dataframe tbody tr th:only-of-type {\n",
       "        vertical-align: middle;\n",
       "    }\n",
       "\n",
       "    .dataframe tbody tr th {\n",
       "        vertical-align: top;\n",
       "    }\n",
       "\n",
       "    .dataframe thead th {\n",
       "        text-align: right;\n",
       "    }\n",
       "</style>\n",
       "<table border=\"1\" class=\"dataframe\">\n",
       "  <thead>\n",
       "    <tr style=\"text-align: right;\">\n",
       "      <th></th>\n",
       "      <th>datetime</th>\n",
       "      <th>close</th>\n",
       "      <th>high</th>\n",
       "      <th>low</th>\n",
       "      <th>open</th>\n",
       "      <th>volume</th>\n",
       "      <th>HA_Close</th>\n",
       "      <th>HA_Open</th>\n",
       "      <th>HA_High</th>\n",
       "      <th>HA_Low</th>\n",
       "      <th>atr</th>\n",
       "      <th>upperband</th>\n",
       "      <th>lowerband</th>\n",
       "      <th>supertrend</th>\n",
       "      <th>supretrend</th>\n",
       "      <th>MFI</th>\n",
       "      <th>Signal</th>\n",
       "      <th>Return</th>\n",
       "      <th>Strategy_Return</th>\n",
       "      <th>atr_ma</th>\n",
       "    </tr>\n",
       "  </thead>\n",
       "  <tbody>\n",
       "    <tr>\n",
       "      <th>0</th>\n",
       "      <td>2024-01-01</td>\n",
       "      <td>2601.022461</td>\n",
       "      <td>2629.011564</td>\n",
       "      <td>2595.915725</td>\n",
       "      <td>2611.334236</td>\n",
       "      <td>66066</td>\n",
       "      <td>2609.320997</td>\n",
       "      <td>2611.334236</td>\n",
       "      <td>2629.011564</td>\n",
       "      <td>2595.915725</td>\n",
       "      <td>33.095839</td>\n",
       "      <td>2711.751162</td>\n",
       "      <td>2513.176127</td>\n",
       "      <td>0</td>\n",
       "      <td>NaN</td>\n",
       "      <td>NaN</td>\n",
       "      <td>0</td>\n",
       "      <td>NaN</td>\n",
       "      <td>NaN</td>\n",
       "      <td>NaN</td>\n",
       "    </tr>\n",
       "    <tr>\n",
       "      <th>1</th>\n",
       "      <td>2024-01-02</td>\n",
       "      <td>2621.842529</td>\n",
       "      <td>2646.689046</td>\n",
       "      <td>2603.035911</td>\n",
       "      <td>2607.406092</td>\n",
       "      <td>143141</td>\n",
       "      <td>2619.743394</td>\n",
       "      <td>2610.327616</td>\n",
       "      <td>2646.689046</td>\n",
       "      <td>2603.035911</td>\n",
       "      <td>34.352914</td>\n",
       "      <td>2711.751162</td>\n",
       "      <td>2521.803737</td>\n",
       "      <td>0</td>\n",
       "      <td>0.0</td>\n",
       "      <td>NaN</td>\n",
       "      <td>0</td>\n",
       "      <td>0.008005</td>\n",
       "      <td>0.0</td>\n",
       "      <td>NaN</td>\n",
       "    </tr>\n",
       "    <tr>\n",
       "      <th>2</th>\n",
       "      <td>2024-01-03</td>\n",
       "      <td>2604.558350</td>\n",
       "      <td>2637.654193</td>\n",
       "      <td>2602.004862</td>\n",
       "      <td>2622.824781</td>\n",
       "      <td>112428</td>\n",
       "      <td>2616.760546</td>\n",
       "      <td>2615.035505</td>\n",
       "      <td>2637.654193</td>\n",
       "      <td>2602.004862</td>\n",
       "      <td>34.482555</td>\n",
       "      <td>2711.751162</td>\n",
       "      <td>2521.803737</td>\n",
       "      <td>0</td>\n",
       "      <td>0.0</td>\n",
       "      <td>NaN</td>\n",
       "      <td>0</td>\n",
       "      <td>-0.006592</td>\n",
       "      <td>-0.0</td>\n",
       "      <td>NaN</td>\n",
       "    </tr>\n",
       "    <tr>\n",
       "      <th>3</th>\n",
       "      <td>2024-01-04</td>\n",
       "      <td>2659.799805</td>\n",
       "      <td>2695.547197</td>\n",
       "      <td>2623.119251</td>\n",
       "      <td>2627.047546</td>\n",
       "      <td>268532</td>\n",
       "      <td>2651.378450</td>\n",
       "      <td>2615.898026</td>\n",
       "      <td>2695.547197</td>\n",
       "      <td>2615.898026</td>\n",
       "      <td>40.133185</td>\n",
       "      <td>2711.751162</td>\n",
       "      <td>2538.933670</td>\n",
       "      <td>0</td>\n",
       "      <td>0.0</td>\n",
       "      <td>NaN</td>\n",
       "      <td>0</td>\n",
       "      <td>0.021210</td>\n",
       "      <td>0.0</td>\n",
       "      <td>NaN</td>\n",
       "    </tr>\n",
       "    <tr>\n",
       "      <th>4</th>\n",
       "      <td>2024-01-05</td>\n",
       "      <td>2698.886230</td>\n",
       "      <td>2718.380493</td>\n",
       "      <td>2663.580723</td>\n",
       "      <td>2676.396835</td>\n",
       "      <td>354882</td>\n",
       "      <td>2689.311070</td>\n",
       "      <td>2633.638238</td>\n",
       "      <td>2718.380493</td>\n",
       "      <td>2633.638238</td>\n",
       "      <td>41.977935</td>\n",
       "      <td>2711.751162</td>\n",
       "      <td>2565.046803</td>\n",
       "      <td>0</td>\n",
       "      <td>0.0</td>\n",
       "      <td>NaN</td>\n",
       "      <td>0</td>\n",
       "      <td>0.014695</td>\n",
       "      <td>0.0</td>\n",
       "      <td>NaN</td>\n",
       "    </tr>\n",
       "  </tbody>\n",
       "</table>\n",
       "</div>"
      ],
      "text/plain": [
       "    datetime        close         high          low         open  volume  \\\n",
       "0 2024-01-01  2601.022461  2629.011564  2595.915725  2611.334236   66066   \n",
       "1 2024-01-02  2621.842529  2646.689046  2603.035911  2607.406092  143141   \n",
       "2 2024-01-03  2604.558350  2637.654193  2602.004862  2622.824781  112428   \n",
       "3 2024-01-04  2659.799805  2695.547197  2623.119251  2627.047546  268532   \n",
       "4 2024-01-05  2698.886230  2718.380493  2663.580723  2676.396835  354882   \n",
       "\n",
       "      HA_Close      HA_Open      HA_High       HA_Low        atr    upperband  \\\n",
       "0  2609.320997  2611.334236  2629.011564  2595.915725  33.095839  2711.751162   \n",
       "1  2619.743394  2610.327616  2646.689046  2603.035911  34.352914  2711.751162   \n",
       "2  2616.760546  2615.035505  2637.654193  2602.004862  34.482555  2711.751162   \n",
       "3  2651.378450  2615.898026  2695.547197  2615.898026  40.133185  2711.751162   \n",
       "4  2689.311070  2633.638238  2718.380493  2633.638238  41.977935  2711.751162   \n",
       "\n",
       "     lowerband  supertrend  supretrend  MFI  Signal    Return  \\\n",
       "0  2513.176127           0         NaN  NaN       0       NaN   \n",
       "1  2521.803737           0         0.0  NaN       0  0.008005   \n",
       "2  2521.803737           0         0.0  NaN       0 -0.006592   \n",
       "3  2538.933670           0         0.0  NaN       0  0.021210   \n",
       "4  2565.046803           0         0.0  NaN       0  0.014695   \n",
       "\n",
       "   Strategy_Return  atr_ma  \n",
       "0              NaN     NaN  \n",
       "1              0.0     NaN  \n",
       "2             -0.0     NaN  \n",
       "3              0.0     NaN  \n",
       "4              0.0     NaN  "
      ]
     },
     "execution_count": 85,
     "metadata": {},
     "output_type": "execute_result"
    }
   ],
   "source": [
    "df['atr_ma'] = df['atr'].rolling(30).mean()\n",
    "df.head()"
   ]
  },
  {
   "cell_type": "code",
   "execution_count": 94,
   "id": "67845050-9c51-4e11-9f02-2d8e19997182",
   "metadata": {},
   "outputs": [
    {
     "name": "stdout",
     "output_type": "stream",
     "text": [
      "Total Return: -31.44%\n",
      "Win Rate: 45.58%\n"
     ]
    },
    {
     "data": {
      "text/html": [
       "<div>\n",
       "<style scoped>\n",
       "    .dataframe tbody tr th:only-of-type {\n",
       "        vertical-align: middle;\n",
       "    }\n",
       "\n",
       "    .dataframe tbody tr th {\n",
       "        vertical-align: top;\n",
       "    }\n",
       "\n",
       "    .dataframe thead th {\n",
       "        text-align: right;\n",
       "    }\n",
       "</style>\n",
       "<table border=\"1\" class=\"dataframe\">\n",
       "  <thead>\n",
       "    <tr style=\"text-align: right;\">\n",
       "      <th></th>\n",
       "      <th>datetime</th>\n",
       "      <th>close</th>\n",
       "      <th>high</th>\n",
       "      <th>low</th>\n",
       "      <th>open</th>\n",
       "      <th>volume</th>\n",
       "      <th>HA_Close</th>\n",
       "      <th>HA_Open</th>\n",
       "      <th>HA_High</th>\n",
       "      <th>HA_Low</th>\n",
       "      <th>atr</th>\n",
       "      <th>upperband</th>\n",
       "      <th>lowerband</th>\n",
       "      <th>supertrend</th>\n",
       "      <th>supretrend</th>\n",
       "      <th>MFI</th>\n",
       "      <th>Signal</th>\n",
       "      <th>Return</th>\n",
       "      <th>Strategy_Return</th>\n",
       "      <th>atr_ma</th>\n",
       "      <th>Strategy_Return_Y</th>\n",
       "    </tr>\n",
       "  </thead>\n",
       "  <tbody>\n",
       "    <tr>\n",
       "      <th>0</th>\n",
       "      <td>2024-01-01</td>\n",
       "      <td>2601.022461</td>\n",
       "      <td>2629.011564</td>\n",
       "      <td>2595.915725</td>\n",
       "      <td>2611.334236</td>\n",
       "      <td>66066</td>\n",
       "      <td>2609.320997</td>\n",
       "      <td>2611.334236</td>\n",
       "      <td>2629.011564</td>\n",
       "      <td>2595.915725</td>\n",
       "      <td>33.095839</td>\n",
       "      <td>2711.751162</td>\n",
       "      <td>2513.176127</td>\n",
       "      <td>0</td>\n",
       "      <td>NaN</td>\n",
       "      <td>NaN</td>\n",
       "      <td>0</td>\n",
       "      <td>NaN</td>\n",
       "      <td>NaN</td>\n",
       "      <td>NaN</td>\n",
       "      <td>NaN</td>\n",
       "    </tr>\n",
       "    <tr>\n",
       "      <th>1</th>\n",
       "      <td>2024-01-02</td>\n",
       "      <td>2621.842529</td>\n",
       "      <td>2646.689046</td>\n",
       "      <td>2603.035911</td>\n",
       "      <td>2607.406092</td>\n",
       "      <td>143141</td>\n",
       "      <td>2619.743394</td>\n",
       "      <td>2610.327616</td>\n",
       "      <td>2646.689046</td>\n",
       "      <td>2603.035911</td>\n",
       "      <td>34.352914</td>\n",
       "      <td>2711.751162</td>\n",
       "      <td>2521.803737</td>\n",
       "      <td>0</td>\n",
       "      <td>0.0</td>\n",
       "      <td>NaN</td>\n",
       "      <td>0</td>\n",
       "      <td>0.008005</td>\n",
       "      <td>0.0</td>\n",
       "      <td>NaN</td>\n",
       "      <td>0.0</td>\n",
       "    </tr>\n",
       "    <tr>\n",
       "      <th>2</th>\n",
       "      <td>2024-01-03</td>\n",
       "      <td>2604.558350</td>\n",
       "      <td>2637.654193</td>\n",
       "      <td>2602.004862</td>\n",
       "      <td>2622.824781</td>\n",
       "      <td>112428</td>\n",
       "      <td>2616.760546</td>\n",
       "      <td>2615.035505</td>\n",
       "      <td>2637.654193</td>\n",
       "      <td>2602.004862</td>\n",
       "      <td>34.482555</td>\n",
       "      <td>2711.751162</td>\n",
       "      <td>2521.803737</td>\n",
       "      <td>0</td>\n",
       "      <td>0.0</td>\n",
       "      <td>NaN</td>\n",
       "      <td>0</td>\n",
       "      <td>-0.006592</td>\n",
       "      <td>-0.0</td>\n",
       "      <td>NaN</td>\n",
       "      <td>-0.0</td>\n",
       "    </tr>\n",
       "    <tr>\n",
       "      <th>3</th>\n",
       "      <td>2024-01-04</td>\n",
       "      <td>2659.799805</td>\n",
       "      <td>2695.547197</td>\n",
       "      <td>2623.119251</td>\n",
       "      <td>2627.047546</td>\n",
       "      <td>268532</td>\n",
       "      <td>2651.378450</td>\n",
       "      <td>2615.898026</td>\n",
       "      <td>2695.547197</td>\n",
       "      <td>2615.898026</td>\n",
       "      <td>40.133185</td>\n",
       "      <td>2711.751162</td>\n",
       "      <td>2538.933670</td>\n",
       "      <td>0</td>\n",
       "      <td>0.0</td>\n",
       "      <td>NaN</td>\n",
       "      <td>0</td>\n",
       "      <td>0.021210</td>\n",
       "      <td>0.0</td>\n",
       "      <td>NaN</td>\n",
       "      <td>0.0</td>\n",
       "    </tr>\n",
       "    <tr>\n",
       "      <th>4</th>\n",
       "      <td>2024-01-05</td>\n",
       "      <td>2698.886230</td>\n",
       "      <td>2718.380493</td>\n",
       "      <td>2663.580723</td>\n",
       "      <td>2676.396835</td>\n",
       "      <td>354882</td>\n",
       "      <td>2689.311070</td>\n",
       "      <td>2633.638238</td>\n",
       "      <td>2718.380493</td>\n",
       "      <td>2633.638238</td>\n",
       "      <td>41.977935</td>\n",
       "      <td>2711.751162</td>\n",
       "      <td>2565.046803</td>\n",
       "      <td>0</td>\n",
       "      <td>0.0</td>\n",
       "      <td>NaN</td>\n",
       "      <td>0</td>\n",
       "      <td>0.014695</td>\n",
       "      <td>0.0</td>\n",
       "      <td>NaN</td>\n",
       "      <td>0.0</td>\n",
       "    </tr>\n",
       "  </tbody>\n",
       "</table>\n",
       "</div>"
      ],
      "text/plain": [
       "    datetime        close         high          low         open  volume  \\\n",
       "0 2024-01-01  2601.022461  2629.011564  2595.915725  2611.334236   66066   \n",
       "1 2024-01-02  2621.842529  2646.689046  2603.035911  2607.406092  143141   \n",
       "2 2024-01-03  2604.558350  2637.654193  2602.004862  2622.824781  112428   \n",
       "3 2024-01-04  2659.799805  2695.547197  2623.119251  2627.047546  268532   \n",
       "4 2024-01-05  2698.886230  2718.380493  2663.580723  2676.396835  354882   \n",
       "\n",
       "      HA_Close      HA_Open      HA_High       HA_Low        atr    upperband  \\\n",
       "0  2609.320997  2611.334236  2629.011564  2595.915725  33.095839  2711.751162   \n",
       "1  2619.743394  2610.327616  2646.689046  2603.035911  34.352914  2711.751162   \n",
       "2  2616.760546  2615.035505  2637.654193  2602.004862  34.482555  2711.751162   \n",
       "3  2651.378450  2615.898026  2695.547197  2615.898026  40.133185  2711.751162   \n",
       "4  2689.311070  2633.638238  2718.380493  2633.638238  41.977935  2711.751162   \n",
       "\n",
       "     lowerband  supertrend  supretrend  MFI  Signal    Return  \\\n",
       "0  2513.176127           0         NaN  NaN       0       NaN   \n",
       "1  2521.803737           0         0.0  NaN       0  0.008005   \n",
       "2  2521.803737           0         0.0  NaN       0 -0.006592   \n",
       "3  2538.933670           0         0.0  NaN       0  0.021210   \n",
       "4  2565.046803           0         0.0  NaN       0  0.014695   \n",
       "\n",
       "   Strategy_Return  atr_ma  Strategy_Return_Y  \n",
       "0              NaN     NaN                NaN  \n",
       "1              0.0     NaN                0.0  \n",
       "2             -0.0     NaN               -0.0  \n",
       "3              0.0     NaN                0.0  \n",
       "4              0.0     NaN                0.0  "
      ]
     },
     "execution_count": 94,
     "metadata": {},
     "output_type": "execute_result"
    }
   ],
   "source": [
    "def strategy_y(data):\n",
    "    # Existing Strategy X signals\n",
    "    data['Signal'] = 0\n",
    "    data.loc[(data['supertrend'] == 1) & (data['MFI'] < 80), 'Signal'] = 1\n",
    "    data.loc[(data['supertrend'] == -1) & (data['MFI'] > 20), 'Signal'] = -1\n",
    "\n",
    "    # Add ATR filter (only trade when ATR > ATR_MA)\n",
    "    data['Signal'] = np.where(data['atr'] > data['atr_ma'], data['Signal'], 0)\n",
    "\n",
    "    # Calculate returns\n",
    "    data['Return'] = data['close'].pct_change()\n",
    "    data['Strategy_Return_Y'] = data['Signal'].shift(1) * data['Return']\n",
    "    total_return = data['Strategy_Return_Y'].sum() * 100\n",
    "    win_rate = (data[data['Strategy_Return_Y'] > 0].shape[0] / \n",
    "               data[data['Strategy_Return_Y'] != 0].shape[0]) * 100\n",
    "    \n",
    "    print(f\"Total Return: {total_return:.2f}%\")\n",
    "    print(f\"Win Rate: {win_rate:.2f}%\")\n",
    "\n",
    "    return data\n",
    "df = strategy_y(df)\n",
    "df.head()"
   ]
  },
  {
   "cell_type": "code",
   "execution_count": 95,
   "id": "862392c6-1184-41ae-874e-1b1c069ef667",
   "metadata": {},
   "outputs": [
    {
     "data": {
      "image/png": "[encoded data removed]",
      "text/plain": [
       "<Figure size 1500x700 with 1 Axes>"
      ]
     },
     "metadata": {},
     "output_type": "display_data"
    }
   ],
   "source": [
    "plt.figure(figsize=(15,7))\n",
    "plt.plot(df['close'], label='Price')\n",
    "plt.plot(df['upperband'], label='upperband', linestyle='--')\n",
    "plt.plot(df['lowerband'], label='lowerband', linestyle='--')\n",
    "plt.scatter(df[df['Signal'] == 1].index, \n",
    "            df[df['Signal'] == 1]['close'], \n",
    "            marker='^', color='g', label='Buy')\n",
    "plt.scatter(df[df['Signal'] == -1].index, \n",
    "            df[df['Signal'] == -1]['close'], \n",
    "            marker='v', color='r', label='Sell')\n",
    "plt.title('Strategy X: Entries/Exits')\n",
    "plt.legend()\n",
    "plt.show()\n"
   ]
  },
  {
   "cell_type": "markdown",
   "id": "a59af4b1-54a1-4da3-aac6-a3598507c133",
   "metadata": {},
   "source": [
    "`ATR` prevents trades in low-volatility zones where signals are unreliable.\n",
    " Hence it complements Supertrend(trend) and MFI(momentum) with volatility context."
   ]
  },
  {
   "cell_type": "markdown",
   "id": "d4b923c4-a86a-43c4-8dbb-7ba133b6cd39",
   "metadata": {},
   "source": [
    "**5. Strategy Enhancements:**\n",
    "- Identify market regimes (e.g., sideways, choppy, low-volume) where the strategy may\n",
    "underperform or give false signals.\n",
    "- Propose modifications to adapt the strategy for these regimes, considering time-frame\n",
    "sensitivity, indicator tuning, or additional filters."
   ]
  },
  {
   "cell_type": "markdown",
   "id": "7e86207d-69ad-4e14-8803-dc035de8640b",
   "metadata": {},
   "source": [
    "**Ans:**\n",
    "- In sideways/choppy market regimes, supertrend may give false flips and also MFI can give wrong signals.\n",
    "- In low-volume periods MFI loses much of its significance and hence singals becomes unreliable.\n",
    "- Proposed modifications:\n",
    "  - ATR bases volatility filter : We should not trade when ATR is low. This helps us avoid flat markets.\n",
    "  - We can add a trend confirmation EMA filter, in which we go long when EMA is above 200, and short when EMA is below 200. This prevents us in doing countertrend trades."
   ]
  },
  {
   "cell_type": "markdown",
   "id": "2cc4af1b-bff5-4d42-816b-901e8bd9a4b4",
   "metadata": {},
   "source": [
    "### This assignment was **pretty challenging for me** as it involved a lots of indicators, so i have taken help from multiple sources as listed below:\n",
    "- stackoverflow\n",
    "- Implementation of indicators in python(wherever I got stuck) by some sites\n",
    "- chatgpt to rectify errors at places"
   ]
  },
  {
   "cell_type": "code",
   "execution_count": null,
   "id": "28d44107-feb6-4060-93b2-3213c5ae4025",
   "metadata": {},
   "outputs": [],
   "source": []
  }
 ],
 "metadata": {
  "kernelspec": {
   "display_name": "Python 3 (ipykernel)",
   "language": "python",
   "name": "python3"
  },
  "language_info": {
   "codemirror_mode": {
    "name": "ipython",
    "version": 3
   },
   "file_extension": ".py",
   "mimetype": "text/x-python",
   "name": "python",
   "nbconvert_exporter": "python",
   "pygments_lexer": "ipython3",
   "version": "3.13.0"
  }
 },
 "nbformat": 4,
 "nbformat_minor": 5
}
