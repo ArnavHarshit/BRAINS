{
  "nbformat": 4,
  "nbformat_minor": 0,
  "metadata": {
    "colab": {
      "provenance": []
    },
    "kernelspec": {
      "name": "python3",
      "display_name": "Python 3"
    },
    "language_info": {
      "name": "python"
    }
  },
  "cells": [
    {
      "cell_type": "code",
      "source": [
        "import yfinance as yf\n",
        "import pandas as pd\n",
        "import datetime\n",
        "import matplotlib.pyplot as plt\n",
        "import numpy as np\n",
        "import plotly.graph_objects as go\n",
        "import plotly.express as px\n",
        "from plotly.subplots import make_subplots"
      ],
      "metadata": {
        "id": "8nWCTaVgLdzh"
      },
      "execution_count": 1,
      "outputs": []
    },
    {
      "cell_type": "code",
      "source": [
        "nse = \"TCS.NS\""
      ],
      "metadata": {
        "id": "ZPe__4uHs6ka"
      },
      "execution_count": 2,
      "outputs": []
    },
    {
      "cell_type": "code",
      "source": [
        "start_date=datetime.datetime(2024,4,1)\n",
        "end_date=datetime.datetime(2025,4,30)"
      ],
      "metadata": {
        "id": "nHr6v7FEImZM"
      },
      "execution_count": 3,
      "outputs": []
    },
    {
      "cell_type": "code",
      "source": [
        "stock = yf.download(nse, start_date,end_date)\n",
        "stock.index = pd.to_datetime(stock.index)\n"
      ],
      "metadata": {
        "colab": {
          "base_uri": "https://localhost:8080/"
        },
        "id": "aN9TcmzctTAn",
        "outputId": "8de0e5de-15d9-4831-c448-50990b9cc5fc"
      },
      "execution_count": 4,
      "outputs": [
        {
          "output_type": "stream",
          "name": "stdout",
          "text": [
            "YF.download() has changed argument auto_adjust default to True\n"
          ]
        },
        {
          "output_type": "stream",
          "name": "stderr",
          "text": [
            "\r[*********************100%***********************]  1 of 1 completed\n"
          ]
        }
      ]
    },
    {
      "cell_type": "code",
      "source": [
        "print(stock.head())\n"
      ],
      "metadata": {
        "colab": {
          "base_uri": "https://localhost:8080/"
        },
        "id": "8MnH6grAtaQb",
        "outputId": "f233e555-e524-4f55-9a2f-6fd5f7c26bbe"
      },
      "execution_count": 5,
      "outputs": [
        {
          "output_type": "stream",
          "name": "stdout",
          "text": [
            "Price             Close         High          Low         Open   Volume\n",
            "Ticker           TCS.NS       TCS.NS       TCS.NS       TCS.NS   TCS.NS\n",
            "Date                                                                   \n",
            "2024-04-01  3809.312256  3825.408331  3781.399554  3790.784756  1569676\n",
            "2024-04-02  3777.266113  3802.601601  3766.762313  3783.295998  2142666\n",
            "2024-04-03  3839.024414  3871.799965  3745.365905  3745.365905  3973090\n",
            "2024-04-04  3893.488281  3918.142780  3827.304866  3866.839729  3394637\n",
            "2024-04-05  3870.098145  3892.224106  3851.862462  3868.882432  1636819\n"
          ]
        }
      ]
    },
    {
      "cell_type": "code",
      "source": [
        "df = yf.download(\n",
        "    tickers=nse,\n",
        "    start=start_date,\n",
        "    end=end_date,\n",
        "    interval=\"1d\",\n",
        "    group_by=\"ticker\",\n",
        "\n",
        ")\n",
        "df"
      ],
      "metadata": {
        "colab": {
          "base_uri": "https://localhost:8080/",
          "height": 503
        },
        "id": "dBzLlKkVteEa",
        "outputId": "948e1c88-65a3-477e-e7e6-adea20c4fccd"
      },
      "execution_count": 6,
      "outputs": [
        {
          "output_type": "stream",
          "name": "stderr",
          "text": [
            "\r[*********************100%***********************]  1 of 1 completed\n"
          ]
        },
        {
          "output_type": "execute_result",
          "data": {
            "text/plain": [
              "Ticker           TCS.NS                                                \n",
              "Price              Open         High          Low        Close   Volume\n",
              "Date                                                                   \n",
              "2024-04-01  3790.784756  3825.408331  3781.399554  3809.312256  1569676\n",
              "2024-04-02  3783.295998  3802.601601  3766.762313  3777.266113  2142666\n",
              "2024-04-03  3745.365905  3871.799965  3745.365905  3839.024414  3973090\n",
              "2024-04-04  3866.839729  3918.142780  3827.304866  3893.488281  3394637\n",
              "2024-04-05  3868.882432  3892.224106  3851.862462  3870.098145  1636819\n",
              "...                 ...          ...          ...          ...      ...\n",
              "2025-04-23  3365.000000  3420.899902  3337.300049  3413.000000  3543923\n",
              "2025-04-24  3401.100098  3412.500000  3387.699951  3401.600098  2252175\n",
              "2025-04-25  3420.000000  3477.800049  3405.000000  3448.000000  2742991\n",
              "2025-04-28  3435.000000  3457.800049  3405.000000  3443.500000  1593296\n",
              "2025-04-29  3455.000000  3495.000000  3430.399902  3472.500000  1578332\n",
              "\n",
              "[266 rows x 5 columns]"
            ],
            "text/html": [
              "\n",
              "  <div id=\"df-07e27c43-960e-4b84-a7a9-e4d8b11af669\" class=\"colab-df-container\">\n",
              "    <div>\n",
              "<style scoped>\n",
              "    .dataframe tbody tr th:only-of-type {\n",
              "        vertical-align: middle;\n",
              "    }\n",
              "\n",
              "    .dataframe tbody tr th {\n",
              "        vertical-align: top;\n",
              "    }\n",
              "\n",
              "    .dataframe thead tr th {\n",
              "        text-align: left;\n",
              "    }\n",
              "\n",
              "    .dataframe thead tr:last-of-type th {\n",
              "        text-align: right;\n",
              "    }\n",
              "</style>\n",
              "<table border=\"1\" class=\"dataframe\">\n",
              "  <thead>\n",
              "    <tr>\n",
              "      <th>Ticker</th>\n",
              "      <th colspan=\"5\" halign=\"left\">TCS.NS</th>\n",
              "    </tr>\n",
              "    <tr>\n",
              "      <th>Price</th>\n",
              "      <th>Open</th>\n",
              "      <th>High</th>\n",
              "      <th>Low</th>\n",
              "      <th>Close</th>\n",
              "      <th>Volume</th>\n",
              "    </tr>\n",
              "    <tr>\n",
              "      <th>Date</th>\n",
              "      <th></th>\n",
              "      <th></th>\n",
              "      <th></th>\n",
              "      <th></th>\n",
              "      <th></th>\n",
              "    </tr>\n",
              "  </thead>\n",
              "  <tbody>\n",
              "    <tr>\n",
              "      <th>2024-04-01</th>\n",
              "      <td>3790.784756</td>\n",
              "      <td>3825.408331</td>\n",
              "      <td>3781.399554</td>\n",
              "      <td>3809.312256</td>\n",
              "      <td>1569676</td>\n",
              "    </tr>\n",
              "    <tr>\n",
              "      <th>2024-04-02</th>\n",
              "      <td>3783.295998</td>\n",
              "      <td>3802.601601</td>\n",
              "      <td>3766.762313</td>\n",
              "      <td>3777.266113</td>\n",
              "      <td>2142666</td>\n",
              "    </tr>\n",
              "    <tr>\n",
              "      <th>2024-04-03</th>\n",
              "      <td>3745.365905</td>\n",
              "      <td>3871.799965</td>\n",
              "      <td>3745.365905</td>\n",
              "      <td>3839.024414</td>\n",
              "      <td>3973090</td>\n",
              "    </tr>\n",
              "    <tr>\n",
              "      <th>2024-04-04</th>\n",
              "      <td>3866.839729</td>\n",
              "      <td>3918.142780</td>\n",
              "      <td>3827.304866</td>\n",
              "      <td>3893.488281</td>\n",
              "      <td>3394637</td>\n",
              "    </tr>\n",
              "    <tr>\n",
              "      <th>2024-04-05</th>\n",
              "      <td>3868.882432</td>\n",
              "      <td>3892.224106</td>\n",
              "      <td>3851.862462</td>\n",
              "      <td>3870.098145</td>\n",
              "      <td>1636819</td>\n",
              "    </tr>\n",
              "    <tr>\n",
              "      <th>...</th>\n",
              "      <td>...</td>\n",
              "      <td>...</td>\n",
              "      <td>...</td>\n",
              "      <td>...</td>\n",
              "      <td>...</td>\n",
              "    </tr>\n",
              "    <tr>\n",
              "      <th>2025-04-23</th>\n",
              "      <td>3365.000000</td>\n",
              "      <td>3420.899902</td>\n",
              "      <td>3337.300049</td>\n",
              "      <td>3413.000000</td>\n",
              "      <td>3543923</td>\n",
              "    </tr>\n",
              "    <tr>\n",
              "      <th>2025-04-24</th>\n",
              "      <td>3401.100098</td>\n",
              "      <td>3412.500000</td>\n",
              "      <td>3387.699951</td>\n",
              "      <td>3401.600098</td>\n",
              "      <td>2252175</td>\n",
              "    </tr>\n",
              "    <tr>\n",
              "      <th>2025-04-25</th>\n",
              "      <td>3420.000000</td>\n",
              "      <td>3477.800049</td>\n",
              "      <td>3405.000000</td>\n",
              "      <td>3448.000000</td>\n",
              "      <td>2742991</td>\n",
              "    </tr>\n",
              "    <tr>\n",
              "      <th>2025-04-28</th>\n",
              "      <td>3435.000000</td>\n",
              "      <td>3457.800049</td>\n",
              "      <td>3405.000000</td>\n",
              "      <td>3443.500000</td>\n",
              "      <td>1593296</td>\n",
              "    </tr>\n",
              "    <tr>\n",
              "      <th>2025-04-29</th>\n",
              "      <td>3455.000000</td>\n",
              "      <td>3495.000000</td>\n",
              "      <td>3430.399902</td>\n",
              "      <td>3472.500000</td>\n",
              "      <td>1578332</td>\n",
              "    </tr>\n",
              "  </tbody>\n",
              "</table>\n",
              "<p>266 rows × 5 columns</p>\n",
              "</div>\n",
              "    <div class=\"colab-df-buttons\">\n",
              "\n",
              "  <div class=\"colab-df-container\">\n",
              "    <button class=\"colab-df-convert\" onclick=\"convertToInteractive('df-07e27c43-960e-4b84-a7a9-e4d8b11af669')\"\n",
              "            title=\"Convert this dataframe to an interactive table.\"\n",
              "            style=\"display:none;\">\n",
              "\n",
              "  <svg xmlns=\"http://www.w3.org/2000/svg\" height=\"24px\" viewBox=\"0 -960 960 960\">\n",
              "    <path d=\"M120-120v-720h720v720H120Zm60-500h600v-160H180v160Zm220 220h160v-160H400v160Zm0 220h160v-160H400v160ZM180-400h160v-160H180v160Zm440 0h160v-160H620v160ZM180-180h160v-160H180v160Zm440 0h160v-160H620v160Z\"/>\n",
              "  </svg>\n",
              "    </button>\n",
              "\n",
              "  <style>\n",
              "    .colab-df-container {\n",
              "      display:flex;\n",
              "      gap: 12px;\n",
              "    }\n",
              "\n",
              "    .colab-df-convert {\n",
              "      background-color: #E8F0FE;\n",
              "      border: none;\n",
              "      border-radius: 50%;\n",
              "      cursor: pointer;\n",
              "      display: none;\n",
              "      fill: #1967D2;\n",
              "      height: 32px;\n",
              "      padding: 0 0 0 0;\n",
              "      width: 32px;\n",
              "    }\n",
              "\n",
              "    .colab-df-convert:hover {\n",
              "      background-color: #E2EBFA;\n",
              "      box-shadow: 0px 1px 2px rgba(60, 64, 67, 0.3), 0px 1px 3px 1px rgba(60, 64, 67, 0.15);\n",
              "      fill: #174EA6;\n",
              "    }\n",
              "\n",
              "    .colab-df-buttons div {\n",
              "      margin-bottom: 4px;\n",
              "    }\n",
              "\n",
              "    [theme=dark] .colab-df-convert {\n",
              "      background-color: #3B4455;\n",
              "      fill: #D2E3FC;\n",
              "    }\n",
              "\n",
              "    [theme=dark] .colab-df-convert:hover {\n",
              "      background-color: #434B5C;\n",
              "      box-shadow: 0px 1px 3px 1px rgba(0, 0, 0, 0.15);\n",
              "      filter: drop-shadow(0px 1px 2px rgba(0, 0, 0, 0.3));\n",
              "      fill: #FFFFFF;\n",
              "    }\n",
              "  </style>\n",
              "\n",
              "    <script>\n",
              "      const buttonEl =\n",
              "        document.querySelector('#df-07e27c43-960e-4b84-a7a9-e4d8b11af669 button.colab-df-convert');\n",
              "      buttonEl.style.display =\n",
              "        google.colab.kernel.accessAllowed ? 'block' : 'none';\n",
              "\n",
              "      async function convertToInteractive(key) {\n",
              "        const element = document.querySelector('#df-07e27c43-960e-4b84-a7a9-e4d8b11af669');\n",
              "        const dataTable =\n",
              "          await google.colab.kernel.invokeFunction('convertToInteractive',\n",
              "                                                    [key], {});\n",
              "        if (!dataTable) return;\n",
              "\n",
              "        const docLinkHtml = 'Like what you see? Visit the ' +\n",
              "          '<a target=\"_blank\" href=https://colab.research.google.com/notebooks/data_table.ipynb>data table notebook</a>'\n",
              "          + ' to learn more about interactive tables.';\n",
              "        element.innerHTML = '';\n",
              "        dataTable['output_type'] = 'display_data';\n",
              "        await google.colab.output.renderOutput(dataTable, element);\n",
              "        const docLink = document.createElement('div');\n",
              "        docLink.innerHTML = docLinkHtml;\n",
              "        element.appendChild(docLink);\n",
              "      }\n",
              "    </script>\n",
              "  </div>\n",
              "\n",
              "\n",
              "    <div id=\"df-bd88c759-59da-4532-a03f-38c9de5f3a69\">\n",
              "      <button class=\"colab-df-quickchart\" onclick=\"quickchart('df-bd88c759-59da-4532-a03f-38c9de5f3a69')\"\n",
              "                title=\"Suggest charts\"\n",
              "                style=\"display:none;\">\n",
              "\n",
              "<svg xmlns=\"http://www.w3.org/2000/svg\" height=\"24px\"viewBox=\"0 0 24 24\"\n",
              "     width=\"24px\">\n",
              "    <g>\n",
              "        <path d=\"M19 3H5c-1.1 0-2 .9-2 2v14c0 1.1.9 2 2 2h14c1.1 0 2-.9 2-2V5c0-1.1-.9-2-2-2zM9 17H7v-7h2v7zm4 0h-2V7h2v10zm4 0h-2v-4h2v4z\"/>\n",
              "    </g>\n",
              "</svg>\n",
              "      </button>\n",
              "\n",
              "<style>\n",
              "  .colab-df-quickchart {\n",
              "      --bg-color: #E8F0FE;\n",
              "      --fill-color: #1967D2;\n",
              "      --hover-bg-color: #E2EBFA;\n",
              "      --hover-fill-color: #174EA6;\n",
              "      --disabled-fill-color: #AAA;\n",
              "      --disabled-bg-color: #DDD;\n",
              "  }\n",
              "\n",
              "  [theme=dark] .colab-df-quickchart {\n",
              "      --bg-color: #3B4455;\n",
              "      --fill-color: #D2E3FC;\n",
              "      --hover-bg-color: #434B5C;\n",
              "      --hover-fill-color: #FFFFFF;\n",
              "      --disabled-bg-color: #3B4455;\n",
              "      --disabled-fill-color: #666;\n",
              "  }\n",
              "\n",
              "  .colab-df-quickchart {\n",
              "    background-color: var(--bg-color);\n",
              "    border: none;\n",
              "    border-radius: 50%;\n",
              "    cursor: pointer;\n",
              "    display: none;\n",
              "    fill: var(--fill-color);\n",
              "    height: 32px;\n",
              "    padding: 0;\n",
              "    width: 32px;\n",
              "  }\n",
              "\n",
              "  .colab-df-quickchart:hover {\n",
              "    background-color: var(--hover-bg-color);\n",
              "    box-shadow: 0 1px 2px rgba(60, 64, 67, 0.3), 0 1px 3px 1px rgba(60, 64, 67, 0.15);\n",
              "    fill: var(--button-hover-fill-color);\n",
              "  }\n",
              "\n",
              "  .colab-df-quickchart-complete:disabled,\n",
              "  .colab-df-quickchart-complete:disabled:hover {\n",
              "    background-color: var(--disabled-bg-color);\n",
              "    fill: var(--disabled-fill-color);\n",
              "    box-shadow: none;\n",
              "  }\n",
              "\n",
              "  .colab-df-spinner {\n",
              "    border: 2px solid var(--fill-color);\n",
              "    border-color: transparent;\n",
              "    border-bottom-color: var(--fill-color);\n",
              "    animation:\n",
              "      spin 1s steps(1) infinite;\n",
              "  }\n",
              "\n",
              "  @keyframes spin {\n",
              "    0% {\n",
              "      border-color: transparent;\n",
              "      border-bottom-color: var(--fill-color);\n",
              "      border-left-color: var(--fill-color);\n",
              "    }\n",
              "    20% {\n",
              "      border-color: transparent;\n",
              "      border-left-color: var(--fill-color);\n",
              "      border-top-color: var(--fill-color);\n",
              "    }\n",
              "    30% {\n",
              "      border-color: transparent;\n",
              "      border-left-color: var(--fill-color);\n",
              "      border-top-color: var(--fill-color);\n",
              "      border-right-color: var(--fill-color);\n",
              "    }\n",
              "    40% {\n",
              "      border-color: transparent;\n",
              "      border-right-color: var(--fill-color);\n",
              "      border-top-color: var(--fill-color);\n",
              "    }\n",
              "    60% {\n",
              "      border-color: transparent;\n",
              "      border-right-color: var(--fill-color);\n",
              "    }\n",
              "    80% {\n",
              "      border-color: transparent;\n",
              "      border-right-color: var(--fill-color);\n",
              "      border-bottom-color: var(--fill-color);\n",
              "    }\n",
              "    90% {\n",
              "      border-color: transparent;\n",
              "      border-bottom-color: var(--fill-color);\n",
              "    }\n",
              "  }\n",
              "</style>\n",
              "\n",
              "      <script>\n",
              "        async function quickchart(key) {\n",
              "          const quickchartButtonEl =\n",
              "            document.querySelector('#' + key + ' button');\n",
              "          quickchartButtonEl.disabled = true;  // To prevent multiple clicks.\n",
              "          quickchartButtonEl.classList.add('colab-df-spinner');\n",
              "          try {\n",
              "            const charts = await google.colab.kernel.invokeFunction(\n",
              "                'suggestCharts', [key], {});\n",
              "          } catch (error) {\n",
              "            console.error('Error during call to suggestCharts:', error);\n",
              "          }\n",
              "          quickchartButtonEl.classList.remove('colab-df-spinner');\n",
              "          quickchartButtonEl.classList.add('colab-df-quickchart-complete');\n",
              "        }\n",
              "        (() => {\n",
              "          let quickchartButtonEl =\n",
              "            document.querySelector('#df-bd88c759-59da-4532-a03f-38c9de5f3a69 button');\n",
              "          quickchartButtonEl.style.display =\n",
              "            google.colab.kernel.accessAllowed ? 'block' : 'none';\n",
              "        })();\n",
              "      </script>\n",
              "    </div>\n",
              "\n",
              "  <div id=\"id_2b1090d0-5244-4d07-9a08-3ba4ce117d91\">\n",
              "    <style>\n",
              "      .colab-df-generate {\n",
              "        background-color: #E8F0FE;\n",
              "        border: none;\n",
              "        border-radius: 50%;\n",
              "        cursor: pointer;\n",
              "        display: none;\n",
              "        fill: #1967D2;\n",
              "        height: 32px;\n",
              "        padding: 0 0 0 0;\n",
              "        width: 32px;\n",
              "      }\n",
              "\n",
              "      .colab-df-generate:hover {\n",
              "        background-color: #E2EBFA;\n",
              "        box-shadow: 0px 1px 2px rgba(60, 64, 67, 0.3), 0px 1px 3px 1px rgba(60, 64, 67, 0.15);\n",
              "        fill: #174EA6;\n",
              "      }\n",
              "\n",
              "      [theme=dark] .colab-df-generate {\n",
              "        background-color: #3B4455;\n",
              "        fill: #D2E3FC;\n",
              "      }\n",
              "\n",
              "      [theme=dark] .colab-df-generate:hover {\n",
              "        background-color: #434B5C;\n",
              "        box-shadow: 0px 1px 3px 1px rgba(0, 0, 0, 0.15);\n",
              "        filter: drop-shadow(0px 1px 2px rgba(0, 0, 0, 0.3));\n",
              "        fill: #FFFFFF;\n",
              "      }\n",
              "    </style>\n",
              "    <button class=\"colab-df-generate\" onclick=\"generateWithVariable('df')\"\n",
              "            title=\"Generate code using this dataframe.\"\n",
              "            style=\"display:none;\">\n",
              "\n",
              "  <svg xmlns=\"http://www.w3.org/2000/svg\" height=\"24px\"viewBox=\"0 0 24 24\"\n",
              "       width=\"24px\">\n",
              "    <path d=\"M7,19H8.4L18.45,9,17,7.55,7,17.6ZM5,21V16.75L18.45,3.32a2,2,0,0,1,2.83,0l1.4,1.43a1.91,1.91,0,0,1,.58,1.4,1.91,1.91,0,0,1-.58,1.4L9.25,21ZM18.45,9,17,7.55Zm-12,3A5.31,5.31,0,0,0,4.9,8.1,5.31,5.31,0,0,0,1,6.5,5.31,5.31,0,0,0,4.9,4.9,5.31,5.31,0,0,0,6.5,1,5.31,5.31,0,0,0,8.1,4.9,5.31,5.31,0,0,0,12,6.5,5.46,5.46,0,0,0,6.5,12Z\"/>\n",
              "  </svg>\n",
              "    </button>\n",
              "    <script>\n",
              "      (() => {\n",
              "      const buttonEl =\n",
              "        document.querySelector('#id_2b1090d0-5244-4d07-9a08-3ba4ce117d91 button.colab-df-generate');\n",
              "      buttonEl.style.display =\n",
              "        google.colab.kernel.accessAllowed ? 'block' : 'none';\n",
              "\n",
              "      buttonEl.onclick = () => {\n",
              "        google.colab.notebook.generateWithVariable('df');\n",
              "      }\n",
              "      })();\n",
              "    </script>\n",
              "  </div>\n",
              "\n",
              "    </div>\n",
              "  </div>\n"
            ],
            "application/vnd.google.colaboratory.intrinsic+json": {
              "type": "dataframe",
              "variable_name": "df",
              "summary": "{\n  \"name\": \"df\",\n  \"rows\": 266,\n  \"fields\": [\n    {\n      \"column\": [\n        \"Date\",\n        \"\"\n      ],\n      \"properties\": {\n        \"dtype\": \"date\",\n        \"min\": \"2024-04-01 00:00:00\",\n        \"max\": \"2025-04-29 00:00:00\",\n        \"num_unique_values\": 266,\n        \"samples\": [\n          \"2024-12-24 00:00:00\",\n          \"2024-09-24 00:00:00\",\n          \"2024-10-23 00:00:00\"\n        ],\n        \"semantic_type\": \"\",\n        \"description\": \"\"\n      }\n    },\n    {\n      \"column\": [\n        \"TCS.NS\",\n        \"Open\"\n      ],\n      \"properties\": {\n        \"dtype\": \"number\",\n        \"std\": 296.704555336589,\n        \"min\": 3100.0,\n        \"max\": 4493.237111558238,\n        \"num_unique_values\": 265,\n        \"samples\": [\n          4261.074819097192,\n          4415.715125527233,\n          4477.526680850177\n        ],\n        \"semantic_type\": \"\",\n        \"description\": \"\"\n      }\n    },\n    {\n      \"column\": [\n        \"TCS.NS\",\n        \"High\"\n      ],\n      \"properties\": {\n        \"dtype\": \"number\",\n        \"std\": 297.0768399498236,\n        \"min\": 3270.0,\n        \"max\": 4509.193819455762,\n        \"num_unique_values\": 266,\n        \"samples\": [\n          4151.816315358072,\n          4213.39174349326,\n          4049.0051452980897\n        ],\n        \"semantic_type\": \"\",\n        \"description\": \"\"\n      }\n    },\n    {\n      \"column\": [\n        \"TCS.NS\",\n        \"Low\"\n      ],\n      \"properties\": {\n        \"dtype\": \"number\",\n        \"std\": 294.77715339575155,\n        \"min\": 3056.050048828125,\n        \"max\": 4430.394634473508,\n        \"num_unique_values\": 265,\n        \"samples\": [\n          4087.3442333797852,\n          4242.84939817985,\n          4415.862689393936\n        ],\n        \"semantic_type\": \"\",\n        \"description\": \"\"\n      }\n    },\n    {\n      \"column\": [\n        \"TCS.NS\",\n        \"Close\"\n      ],\n      \"properties\": {\n        \"dtype\": \"number\",\n        \"std\": 294.88088968303003,\n        \"min\": 3231.5,\n        \"max\": 4471.39013671875,\n        \"num_unique_values\": 264,\n        \"samples\": [\n          3843.807373046875,\n          4166.6298828125,\n          4317.5732421875\n        ],\n        \"semantic_type\": \"\",\n        \"description\": \"\"\n      }\n    },\n    {\n      \"column\": [\n        \"TCS.NS\",\n        \"Volume\"\n      ],\n      \"properties\": {\n        \"dtype\": \"number\",\n        \"std\": 1444604,\n        \"min\": 0,\n        \"max\": 13509164,\n        \"num_unique_values\": 266,\n        \"samples\": [\n          1181886,\n          3012026,\n          1966476\n        ],\n        \"semantic_type\": \"\",\n        \"description\": \"\"\n      }\n    }\n  ]\n}"
            }
          },
          "metadata": {},
          "execution_count": 6
        }
      ]
    },
    {
      "cell_type": "code",
      "source": [
        "df.dropna()\n",
        "df.info()"
      ],
      "metadata": {
        "colab": {
          "base_uri": "https://localhost:8080/"
        },
        "id": "6P6vA0-Ltx3E",
        "outputId": "cb5aae08-bf5a-4ef2-a285-d7fa8a57c85f"
      },
      "execution_count": 7,
      "outputs": [
        {
          "output_type": "stream",
          "name": "stdout",
          "text": [
            "<class 'pandas.core.frame.DataFrame'>\n",
            "DatetimeIndex: 266 entries, 2024-04-01 to 2025-04-29\n",
            "Data columns (total 5 columns):\n",
            " #   Column            Non-Null Count  Dtype  \n",
            "---  ------            --------------  -----  \n",
            " 0   (TCS.NS, Open)    266 non-null    float64\n",
            " 1   (TCS.NS, High)    266 non-null    float64\n",
            " 2   (TCS.NS, Low)     266 non-null    float64\n",
            " 3   (TCS.NS, Close)   266 non-null    float64\n",
            " 4   (TCS.NS, Volume)  266 non-null    int64  \n",
            "dtypes: float64(4), int64(1)\n",
            "memory usage: 12.5 KB\n"
          ]
        }
      ]
    },
    {
      "cell_type": "code",
      "source": [
        "\n",
        "\n",
        "# Create the figure\n",
        "fig = go.Figure(data=[\n",
        "\n",
        "    # Candlestick chart\n",
        "    go.Candlestick(\n",
        "        x=df.index,\n",
        "        open=df[nse]['Open'],\n",
        "        high=df[nse]['High'],\n",
        "        low=df[nse]['Low'],\n",
        "        close=df[nse]['Close'],\n",
        "        name='Market Data'\n",
        "    ),\n",
        "\n",
        "    # Highlight a significant drop with a red marker and label\n",
        "    go.Scatter(\n",
        "        x=['2024-06-05'],\n",
        "        y=[3881],\n",
        "        mode='markers+text',\n",
        "        marker=dict(size=12, color='red', symbol='circle'),\n",
        "        text=[\"Significant Drop\"],\n",
        "        textposition=\"top center\",\n",
        "        name=\"Noteworthy Event\"\n",
        "    ),\n",
        "\n",
        "    # Vertical line for a potential reversal point\n",
        "    go.Scatter(\n",
        "        x=['2025-03-02', '2025-03-02'],\n",
        "        y=[df[nse]['Low'].min() - 10, df[nse]['High'].max() + 10],\n",
        "        mode='lines',\n",
        "        line=dict(color='green', width=4, dash='dot'),\n",
        "        name='Potential Reversal Point'\n",
        "    )\n",
        "])\n",
        "\n",
        "# Update layout for styling and presentation\n",
        "fig.update_layout(\n",
        "    title={\n",
        "        'text': f\"Financial Performance: {nse}\",\n",
        "        'x': 0.5,\n",
        "        'xanchor': 'center'\n",
        "    },\n",
        "    xaxis_title='Trading Date',\n",
        "    yaxis_title='Value',\n",
        "    hovermode=\"x unified\",\n",
        "    template=\"plotly_dark\",\n",
        "    xaxis_rangeslider_visible=False\n",
        ")\n",
        "\n",
        "# Show the figure\n",
        "fig.show()\n"
      ],
      "metadata": {
        "colab": {
          "base_uri": "https://localhost:8080/",
          "height": 542
        },
        "id": "JssVWhelvEy7",
        "outputId": "242b0acd-9cc1-46b6-879a-264de37d380d"
      },
      "execution_count": 22,
      "outputs": [
        {
          "output_type": "display_data",
          "data": {
            "text/html": [
              "<html>\n",
              "<head><meta charset=\"utf-8\" /></head>\n",
              "<body>\n",
              "    <div>            <script src=\"https://cdnjs.cloudflare.com/ajax/libs/mathjax/2.7.5/MathJax.js?config=TeX-AMS-MML_SVG\"></script><script type=\"text/javascript\">if (window.MathJax && window.MathJax.Hub && window.MathJax.Hub.Config) {window.MathJax.Hub.Config({SVG: {font: \"STIX-Web\"}});}</script>                <script type=\"text/javascript\">window.PlotlyConfig = {MathJaxConfig: 'local'};</script>\n",
              "        <script charset=\"utf-8\" src=\"https://cdn.plot.ly/plotly-2.35.2.min.js\"></script>                <div id=\"14f1549d-1462-4dfc-8bab-d88d31dd999b\" class=\"plotly-graph-div\" style=\"height:525px; width:100%;\"></div>            <script type=\"text/javascript\">                                    window.PLOTLYENV=window.PLOTLYENV || {};                                    if (document.getElementById(\"14f1549d-1462-4dfc-8bab-d88d31dd999b\")) {                    Plotly.newPlot(                        \"14f1549d-1462-4dfc-8bab-d88d31dd999b\",                        [{\"close\":[3809.312255859375,3777.26611328125,3839.0244140625,3893.48828125,3870.09814453125,3863.581787109375,3838.294921875,3875.349853515625,3891.64013671875,3833.091552734375,3766.567626953125,3756.064208984375,3721.246337890625,3758.5927734375,3768.41552734375,3725.96337890625,3746.532958984375,3716.529296875,3764.0390625,3715.84814453125,3757.32861328125,3737.97412109375,3813.494384765625,3869.806396484375,3867.861083984375,3851.5703125,3787.089111328125,3839.5107421875,3794.18896484375,3773.959228515625,3821.5205078125,3756.031982421875,3742.4150390625,3753.974853515625,3814.17333984375,3771.118408203125,3768.71826171875,3761.7138671875,3726.201904296875,3660.027587890625,3596.203857421875,3627.45458984375,3639.357177734375,3670.166748046875,3752.4072265625,3814.663330078125,3780.131103515625,3773.66552734375,3753.6318359375,3799.18505859375,3754.02392578125,3737.4189453125,3724.29150390625,3710.1357421875,3733.1572265625,3739.084228515625,3760.293212890625,3777.339111328125,3854.044677734375,3824.65576171875,3897.19775390625,3935.599609375,3884.511474609375,3939.077392578125,3930.11376953125,3911.892578125,3904.349365234375,3829.5537109375,3843.807373046875,4098.7587890625,4084.30908203125,4093.37060546875,4227.6787109375,4224.58544921875,4209.80810546875,4224.537109375,4228.3662109375,4244.322265625,4308.490234375,4301.86279296875,4286.3974609375,4306.03564453125,4317.5732421875,4205.5859375,4079.90087890625,4095.7587890625,4124.47998046875,4097.083984375,4152.267578125,4119.76611328125,4121.04345703125,4217.5654296875,4336.18017578125,4408.79296875,4441.490234375,4469.1806640625,4420.57568359375,4383.16455078125,4421.017578125,4415.8134765625,4424.55224609375,4430.19873046875,4471.39013671875,4439.28076171875,4430.73876953125,4398.2373046875,4394.9970703125,4376.14404296875,4369.07421875,4426.31982421875,4398.33544921875,4435.9921875,4440.8037109375,4431.6220703125,4424.15966796875,4267.54443359375,4218.44873046875,4207.40185546875,4191.298828125,4194.0478515625,4197.43603515625,4214.865234375,4230.77197265625,4191.298828125,4210.34814453125,4156.1953125,4175.3427734375,4195.57080078125,4176.32470703125,4176.03076171875,4150.9423828125,4074.156982421875,4061.833251953125,4042.34228515625,4020.8876953125,4034.68359375,4058.356201171875,4015.834228515625,3952.493896484375,4002.447509765625,3984.38525390625,3993.884033203125,4026.66162109375,4011.306396484375,4020.55859375,3906.18212890625,3921.684814453125,3901.949462890625,3909.03662109375,4074.69580078125,4085.769287109375,4081.930419921875,4132.8193359375,4131.53955078125,4085.22802734375,4080.84765625,3956.43115234375,3976.16650390625,4008.944091796875,4177.9990234375,4247.39306640625,4284.4033203125,4264.56884765625,4178.29443359375,4203.83740234375,4209.5458984375,4235.23681640625,4286.076171875,4394.00537109375,4375.74658203125,4382.29248046875,4363.0,4357.97998046875,4385.048828125,4403.701171875,4345.92236328125,4260.58251953125,4279.62890625,4204.87060546875,4104.86474609375,4093.052978515625,4113.92041015625,4103.68359375,4099.50048828125,4093.545166015625,4030.549560546875,4047.9228515625,4110.2294921875,4035.5693359375,4030.746337890625,3965.093017578125,4043.93603515625,3975.4775390625,4198.71875,4223.76953125,4166.6298828125,4182.9208984375,4140.2998046875,4124.2998046875,4077.800048828125,4035.85009765625,4156.60009765625,4145.4501953125,4152.35009765625,4065.14990234375,4040.300048828125,4099.7998046875,4100.0498046875,4112.39990234375,4073.14990234375,4068.64990234375,4107.0498046875,4091.10009765625,4082.75,4029.39990234375,4036.949951171875,3963.550048828125,3950.14990234375,3910.14990234375,3934.85009765625,3904.5,3873.199951171875,3784.10009765625,3779.39990234375,3786.0,3675.60009765625,3629.550048828125,3612.550048828125,3483.25,3493.050048828125,3532.050048828125,3547.050048828125,3601.60009765625,3611.199951171875,3589.64990234375,3575.300048828125,3506.199951171875,3511.050048828125,3497.699951171875,3497.699951171875,3497.10009765625,3563.14990234375,3578.10009765625,3628.949951171875,3657.75,3635.800048828125,3651.199951171875,3606.14990234375,3550.800048828125,3543.949951171875,3403.14990234375,3299.39990234375,3274.050048828125,3292.949951171875,3246.60009765625,3231.5,3248.199951171875,3273.800048828125,3298.89990234375,3321.60009765625,3314.39990234375,3413.0,3401.60009765625,3448.0,3443.5,3472.5],\"high\":[3825.408331390376,3802.6016005490583,3871.799965376353,3918.1427803858774,3892.224106154191,3922.0330832785467,3905.694048254169,3880.7476629694565,3903.2625340933573,3952.717622669279,3820.934173085947,3828.0343673129205,3746.8736458352478,3771.625111801444,3788.1587384759064,3791.07687601712,3767.394531605907,3770.4582389436573,3771.4306869167895,3775.2722452234852,3764.9147045184022,3786.7973077825845,3831.875856708849,3878.608200295267,3875.0095663734273,3862.0741122961813,3864.6031074267457,3846.513196599001,3837.5656695695525,3819.2323938552713,3829.8964642714295,3840.1828319751426,3766.465212644621,3763.0365099339497,3825.488211966575,3804.720056608894,3828.770148367113,3791.2010823849855,3770.5305466531386,3717.140322546408,3673.4484478197846,3675.162937939019,3668.7463339475735,3706.756343061055,3761.713792341841,3835.2847685577945,3826.369993755079,3800.9483158199455,3814.2225740099775,3810.7938708088977,3809.8142929599544,3763.7711253531625,3755.7870240522284,3732.373487303002,3798.8420325256525,3778.465647895979,3769.305838922121,3788.212954904168,3861.734935564597,3879.368670581521,3920.219258189819,3941.477440367746,3944.122571659196,3964.9399925707075,3944.759317225375,3949.167872482437,3925.362563890056,3921.786818355145,3898.9610661124757,4114.4330054282855,4153.667297454993,4109.142402353893,4236.93648604033,4279.916382656846,4241.818590319842,4282.8137917236645,4260.622174468574,4264.4514978853385,4342.464545151934,4350.860197383269,4318.456850304975,4334.167378134563,4339.3714407578755,4318.457126714295,4162.332736944009,4181.234188453704,4168.175144224216,4155.458948002559,4176.717133478339,4162.332168001852,4157.423172797769,4228.317578037032,4346.932323500371,4412.966102406389,4482.436229168461,4477.5269313687795,4478.459690688716,4424.503214207465,4469.818401872383,4428.431164573309,4479.981468869434,4473.599514554176,4509.193819455762,4505.020076011625,4473.500923144872,4405.847136492228,4417.629990620445,4437.219269128685,4409.03830092537,4457.839350275992,4467.069411676029,4450.622607300757,4464.762313187297,4463.828648356052,4453.764272150941,4415.715125527233,4342.219248359466,4252.3737899385205,4231.459004478235,4213.39174349326,4212.017551040905,4238.725549338179,4298.818403851764,4221.001718965056,4218.056263856357,4201.608822204832,4220.26532782277,4219.529403464621,4202.001656010186,4217.3200479400675,4216.19074786921,4165.229488527156,4090.0632711112576,4094.531383895366,4040.5751141050914,4055.2548785670365,4081.0938417563607,4074.991311135829,4025.628123729215,4049.0051452980897,4014.9973672208257,4027.7934387000987,4069.134469419595,4039.1131336663107,4042.55800112918,4014.308599846557,3936.203375700577,3929.2640448975253,3923.4566554269013,4084.686443814856,4139.80777036327,4104.323455140882,4167.860359857493,4151.816417459889,4130.899880816483,4094.7265129104985,4146.894998090364,4067.3133968435627,4028.236409232463,4188.186720017956,4260.189087034664,4298.085123579749,4308.71521363045,4271.853320530873,4231.250512031332,4220.914958216208,4257.137698206271,4318.115726856116,4418.564078323639,4394.940611577895,4399.271815609351,4423.288944687637,4378.847047235939,4414.6271298014035,4424.371666662094,4404.783863782896,4363.393811274363,4293.556785484744,4295.525583873814,4313.24321027579,4150.832123971284,4151.816315358072,4134.049628782047,4115.347963377728,4133.409691121346,4074.9912673216186,4069.134524093068,4117.365734495675,4114.36357856104,4084.538741733885,4075.3849175960827,4061.259974116957,4072.8256284632957,4229.576941801279,4255.119877078866,4246.211378062048,4189.663513268121,4226.62391813247,4160.60009765625,4145.7998046875,4111.0,4163.14990234375,4191.35009765625,4178.0,4156.35009765625,4102.0,4107.85009765625,4129.89990234375,4128.4501953125,4135.89990234375,4077.0,4118.85009765625,4150.0,4139.5,4090.0,4052.0,4040.0,4021.75,3984.449951171875,3948.0,3934.0,3924.39990234375,3874.949951171875,3788.0,3817.0,3763.199951171875,3658.0,3638.0,3600.0,3523.25,3551.0,3600.35009765625,3609.449951171875,3625.0,3622.10009765625,3588.75,3569.25,3524.300048828125,3530.449951171875,3497.699951171875,3547.0,3578.949951171875,3616.25,3649.75,3710.0,3680.5,3663.0,3660.949951171875,3584.0,3564.10009765625,3502.0,3399.64990234375,3291.39990234375,3349.0,3270.0,3298.949951171875,3314.39990234375,3278.10009765625,3303.60009765625,3354.0,3333.89990234375,3420.89990234375,3412.5,3477.800048828125,3457.800048828125,3495.0],\"low\":[3781.39955381263,3766.76231340809,3745.365904713473,3827.304866462404,3851.8624618749805,3851.375989955484,3817.384673734395,3810.528176426063,3837.27358778367,3811.549229426857,3756.8906068381593,3744.393372498665,3696.6402756744365,3707.435514746546,3754.7024379197587,3719.544323594792,3706.4631347461445,3698.2449391305313,3714.4380096837563,3705.4903727188716,3674.417045390118,3693.4306208015673,3747.310970665456,3806.1517532235525,3830.563177847568,3802.7960391240294,3778.4820118323983,3763.8447713876444,3786.1165886350204,3769.1937321404057,3765.240327516879,3752.0153689961217,3732.471803718336,3739.8191245663174,3747.6069538740417,3766.0243358337225,3763.134370217548,3752.015541481782,3722.6263194210433,3639.7979088533293,3579.354123272811,3620.743970313197,3518.3718179900425,3624.6625858503157,3665.317459305752,3759.1669041268424,3763.673128570854,3762.7914444244025,3749.5174019913065,3773.5676067752893,3750.0563418489855,3717.7771455099964,3715.7196673389967,3703.0823931387763,3720.715866070661,3714.103447073741,3715.670633038322,3762.7913842995013,3740.357822070456,3818.484230169389,3804.915856909854,3901.4593511938683,3874.470180210599,3901.0185802211668,3906.798325472104,3897.051149881357,3894.1612201799726,3822.5493913955625,3816.279675855698,3890.4385136742408,4072.4060914203146,4060.5034474020554,4075.296134549774,4207.745724985431,4187.862236778732,4189.13882773974,4190.9062961576155,4196.896022372138,4258.608729472141,4291.945367357768,4249.035353541636,4266.415328045917,4286.102617400063,4192.772153494779,4036.156809438158,4085.546502593992,4104.694033994683,4084.7611587170704,4129.486988399369,4110.634507665087,4107.345567268085,4112.40236132334,4246.875404760914,4310.945354320212,4418.611835982054,4411.29665372891,4415.862689393936,4374.425614579285,4403.882992094799,4405.650573010988,4376.6839509469255,4379.335784660146,4406.6327273671195,4430.394634473508,4414.586095966468,4356.457065075125,4373.591062750139,4359.696987890559,4350.3689532319695,4360.1389358947,4390.381851958678,4351.154451209502,4423.521931143341,4413.162284266815,4385.226883000954,4242.84939817985,4204.35817203477,4151.040105806238,4176.0791650499295,4163.314144118252,4163.314530454997,4182.953033998253,4222.2780351461415,4183.001465184691,4166.211406289576,4133.85677529384,4147.652613708516,4152.906451090779,4127.9165503585355,4169.893800065752,4122.663456603558,4038.0716498141223,4047.644886515852,4020.936757446088,3993.6395885284373,4018.9238301370233,4015.981878743336,4006.138686185549,3943.4875627358756,3932.463025582815,3941.1741746389275,3969.42385229137,3987.436801068887,3996.394207004564,3996.344730916741,3897.864763520815,3913.662790294584,3851.848217603721,3879.261266395641,3912.87545183105,4020.952665320235,4053.0408475923055,4053.04078486624,4099.00832230913,4066.2305702818967,4051.8600369763685,3927.5908423676865,3951.115881398178,3960.8604880090948,3990.389589438143,4185.480108874261,4242.373120582253,4256.202219033572,4166.5812490977505,4129.817151927626,4163.676993000992,4198.522271973675,4221.751465216019,4291.588189238375,4343.510455484962,4346.266664568218,4342.871163165953,4337.850664985335,4356.5528821629905,4325.448584466717,4328.007742805228,4250.247272573856,4222.2928946144,4195.126039979421,4087.3442333797852,4050.3340530174855,4093.0528623167015,4078.140577688001,4082.1765493053435,4047.479684808028,3968.7841551770334,4021.346260950125,4032.6661128651804,4028.088729938378,4002.5949975020426,3948.605837566856,3954.708497578382,3962.140100567154,4104.569664256768,4161.068839592267,4152.8495539595815,4141.432357556204,4126.0768244014525,4100.0498046875,4068.10009765625,4030.0,4044.199951171875,4140.0498046875,4104.0,4041.050048828125,4028.300048828125,4054.0,4058.5,4085.25,4056.0,3998.699951171875,4066.050048828125,4076.0,4051.550048828125,4008.0,4014.35009765625,3955.0,3940.14990234375,3902.25,3900.0,3856.199951171875,3864.5,3768.14990234375,3751.300048828125,3775.0,3670.0,3621.25,3600.699951171875,3457.0,3476.14990234375,3464.300048828125,3520.85009765625,3536.10009765625,3574.39990234375,3582.60009765625,3537.64990234375,3486.85009765625,3484.10009765625,3477.35009765625,3497.699951171875,3462.75,3512.0,3465.0,3566.60009765625,3638.0,3625.85009765625,3610.5,3591.89990234375,3525.0,3530.050048828125,3396.14990234375,3295.5,3056.050048828125,3255.300048828125,3212.050048828125,3206.0,3238.60009765625,3229.0,3218.0,3284.10009765625,3295.0,3337.300048828125,3387.699951171875,3405.0,3405.0,3430.39990234375],\"name\":\"Market Data\",\"open\":[3790.7847561528083,3783.2959977168784,3745.365904713473,3866.8397293202797,3868.8824323541658,3873.7450929274473,3874.717608938137,3847.8747588285305,3862.0741140765313,3891.6401996365257,3794.966612030053,3770.458288138839,3732.7227084538367,3731.749756055219,3770.701160969628,3783.296318036582,3706.657601197812,3749.401962592489,3732.7223668381052,3765.789691120071,3674.417045390118,3783.4417525141935,3747.310970665456,3822.977257549098,3852.348644505229,3853.320985373324,3853.9048405813305,3777.9470321589934,3828.034438772876,3797.3982523912305,3811.871212722825,3839.203193497598,3752.6034232070624,3756.913769110757,3762.742320348681,3799.2830150964464,3776.506339799602,3779.4454201140243,3770.5305466531386,3700.094707884028,3663.8479428095284,3656.794715687024,3624.662599627776,3640.3368024377764,3704.013180177749,3759.1669041268424,3815.692029571215,3766.7099983889166,3795.5113826278625,3778.2699195397627,3809.8142929599544,3748.1459390773957,3749.7130742346512,3718.7075786768105,3749.0763513887523,3731.1980908539826,3739.280015679649,3766.220118963664,3752.9950629497644,3838.0279714713593,3804.915856909854,3912.2844044394196,3938.1466812760073,3918.407163657249,3928.3503724029933,3940.106215968834,3903.859545968883,3902.585808266167,3850.9587816301864,3898.9613209892245,4149.455043182372,4087.051745925721,4075.296134549774,4239.314154865978,4222.1803148836,4205.536980663162,4209.955327580733,4217.319636983082,4271.324703991635,4335.149576043135,4311.681741041037,4271.32489689292,4319.831452135074,4286.053969556137,4162.332736944009,4095.5133106272006,4151.531513665411,4105.381347258672,4140.730092096512,4153.494944715224,4136.802982285547,4132.875360818273,4271.32496210224,4341.040916446269,4423.5214046887,4436.286551737751,4477.526680850177,4418.611731898268,4407.810646937247,4423.521595654713,4417.384467523588,4379.335784660146,4418.6122679625305,4493.237111558238,4439.281131802064,4395.979094770648,4399.955543002937,4393.033151008172,4374.425840570686,4362.102763319449,4439.674113958071,4428.676737874571,4448.069777598077,4445.123383881834,4431.62230848725,4415.715125527233,4310.650337218327,4238.823093407437,4222.22911114853,4174.753342987435,4175.4412618287715,4182.953033998253,4256.596112539378,4209.365945175714,4178.583136778167,4185.505533031941,4148.5856235577485,4196.601618570953,4195.324834210528,4182.953062683279,4176.324950925273,4068.068925004607,4065.122758771127,4056.3345559239197,4011.1177013655647,4038.414674215347,4025.824971583393,4067.7565419545163,4002.201514906106,3936.8433940172417,3941.1741746389275,3993.3918785796277,4005.1051041743235,4031.5832637923236,4011.0601058196758,4006.1387847297265,3927.2463058287503,3904.0658719887983,3879.261266395641,3940.780715946805,4104.274589912992,4089.8048938450424,4063.425535563547,4149.847798959433,4112.542609268491,4070.118781462719,4146.894998090364,3956.8246828361807,3981.432455552984,4007.122846226611,4212.843714585579,4253.249546195695,4290.55499634484,4251.23184853607,4153.785179120677,4203.000338296886,4246.654900345047,4245.867042233743,4331.747813073262,4383.128901087652,4360.933257388377,4356.700516597411,4362.310844845357,4360.539142507212,4365.362613963178,4389.034915890042,4340.8037221053055,4244.046224337432,4214.812225056753,4261.074819097192,4134.147889868673,4093.0528623167015,4113.920313335754,4097.679420039338,4085.8677460209447,4070.1187442915557,4030.1557808587904,4055.3542496108485,4114.36357856104,4041.081584910857,4050.3835586581686,3971.5893051277485,4036.6522632657784,4134.098942416888,4178.392778567286,4234.498194661013,4151.81662842586,4193.1574036432985,4159.89990234375,4145.7998046875,4095.300048828125,4050.0,4168.0,4104.0,4102.0,4070.800048828125,4054.0,4099.89990234375,4110.0,4113.0,4030.89990234375,4083.699951171875,4150.0,4105.39990234375,4090.0,4040.0,4018.39990234375,3971.10009765625,3968.0,3925.0,3856.5,3898.39990234375,3872.199951171875,3761.5,3776.10009765625,3743.14990234375,3625.0,3611.699951171875,3584.949951171875,3485.0,3474.0,3520.85009765625,3557.0,3600.0,3606.5,3558.0,3565.0,3502.300048828125,3489.0,3497.699951171875,3547.0,3512.0,3475.0,3600.0,3645.0,3647.75,3614.85009765625,3651.0,3572.699951171875,3544.0,3491.0,3362.60009765625,3100.0,3302.050048828125,3260.550048828125,3289.550048828125,3314.39990234375,3248.199951171875,3245.5,3290.10009765625,3322.60009765625,3365.0,3401.10009765625,3420.0,3435.0,3455.0],\"x\":[\"2024-04-01T00:00:00\",\"2024-04-02T00:00:00\",\"2024-04-03T00:00:00\",\"2024-04-04T00:00:00\",\"2024-04-05T00:00:00\",\"2024-04-08T00:00:00\",\"2024-04-09T00:00:00\",\"2024-04-10T00:00:00\",\"2024-04-12T00:00:00\",\"2024-04-15T00:00:00\",\"2024-04-16T00:00:00\",\"2024-04-18T00:00:00\",\"2024-04-19T00:00:00\",\"2024-04-22T00:00:00\",\"2024-04-23T00:00:00\",\"2024-04-24T00:00:00\",\"2024-04-25T00:00:00\",\"2024-04-26T00:00:00\",\"2024-04-29T00:00:00\",\"2024-04-30T00:00:00\",\"2024-05-02T00:00:00\",\"2024-05-03T00:00:00\",\"2024-05-06T00:00:00\",\"2024-05-07T00:00:00\",\"2024-05-08T00:00:00\",\"2024-05-09T00:00:00\",\"2024-05-10T00:00:00\",\"2024-05-13T00:00:00\",\"2024-05-14T00:00:00\",\"2024-05-15T00:00:00\",\"2024-05-16T00:00:00\",\"2024-05-17T00:00:00\",\"2024-05-21T00:00:00\",\"2024-05-22T00:00:00\",\"2024-05-23T00:00:00\",\"2024-05-24T00:00:00\",\"2024-05-27T00:00:00\",\"2024-05-28T00:00:00\",\"2024-05-29T00:00:00\",\"2024-05-30T00:00:00\",\"2024-05-31T00:00:00\",\"2024-06-03T00:00:00\",\"2024-06-04T00:00:00\",\"2024-06-05T00:00:00\",\"2024-06-06T00:00:00\",\"2024-06-07T00:00:00\",\"2024-06-10T00:00:00\",\"2024-06-11T00:00:00\",\"2024-06-12T00:00:00\",\"2024-06-13T00:00:00\",\"2024-06-14T00:00:00\",\"2024-06-18T00:00:00\",\"2024-06-19T00:00:00\",\"2024-06-20T00:00:00\",\"2024-06-21T00:00:00\",\"2024-06-24T00:00:00\",\"2024-06-25T00:00:00\",\"2024-06-26T00:00:00\",\"2024-06-27T00:00:00\",\"2024-06-28T00:00:00\",\"2024-07-01T00:00:00\",\"2024-07-02T00:00:00\",\"2024-07-03T00:00:00\",\"2024-07-04T00:00:00\",\"2024-07-05T00:00:00\",\"2024-07-08T00:00:00\",\"2024-07-09T00:00:00\",\"2024-07-10T00:00:00\",\"2024-07-11T00:00:00\",\"2024-07-12T00:00:00\",\"2024-07-15T00:00:00\",\"2024-07-16T00:00:00\",\"2024-07-18T00:00:00\",\"2024-07-19T00:00:00\",\"2024-07-22T00:00:00\",\"2024-07-23T00:00:00\",\"2024-07-24T00:00:00\",\"2024-07-25T00:00:00\",\"2024-07-26T00:00:00\",\"2024-07-29T00:00:00\",\"2024-07-30T00:00:00\",\"2024-07-31T00:00:00\",\"2024-08-01T00:00:00\",\"2024-08-02T00:00:00\",\"2024-08-05T00:00:00\",\"2024-08-06T00:00:00\",\"2024-08-07T00:00:00\",\"2024-08-08T00:00:00\",\"2024-08-09T00:00:00\",\"2024-08-12T00:00:00\",\"2024-08-13T00:00:00\",\"2024-08-14T00:00:00\",\"2024-08-16T00:00:00\",\"2024-08-19T00:00:00\",\"2024-08-20T00:00:00\",\"2024-08-21T00:00:00\",\"2024-08-22T00:00:00\",\"2024-08-23T00:00:00\",\"2024-08-26T00:00:00\",\"2024-08-27T00:00:00\",\"2024-08-28T00:00:00\",\"2024-08-29T00:00:00\",\"2024-08-30T00:00:00\",\"2024-09-02T00:00:00\",\"2024-09-03T00:00:00\",\"2024-09-04T00:00:00\",\"2024-09-05T00:00:00\",\"2024-09-06T00:00:00\",\"2024-09-09T00:00:00\",\"2024-09-10T00:00:00\",\"2024-09-11T00:00:00\",\"2024-09-12T00:00:00\",\"2024-09-13T00:00:00\",\"2024-09-16T00:00:00\",\"2024-09-17T00:00:00\",\"2024-09-18T00:00:00\",\"2024-09-19T00:00:00\",\"2024-09-20T00:00:00\",\"2024-09-23T00:00:00\",\"2024-09-24T00:00:00\",\"2024-09-25T00:00:00\",\"2024-09-26T00:00:00\",\"2024-09-27T00:00:00\",\"2024-09-30T00:00:00\",\"2024-10-01T00:00:00\",\"2024-10-03T00:00:00\",\"2024-10-04T00:00:00\",\"2024-10-07T00:00:00\",\"2024-10-08T00:00:00\",\"2024-10-09T00:00:00\",\"2024-10-10T00:00:00\",\"2024-10-11T00:00:00\",\"2024-10-14T00:00:00\",\"2024-10-15T00:00:00\",\"2024-10-16T00:00:00\",\"2024-10-17T00:00:00\",\"2024-10-18T00:00:00\",\"2024-10-21T00:00:00\",\"2024-10-22T00:00:00\",\"2024-10-23T00:00:00\",\"2024-10-24T00:00:00\",\"2024-10-25T00:00:00\",\"2024-10-28T00:00:00\",\"2024-10-29T00:00:00\",\"2024-10-30T00:00:00\",\"2024-10-31T00:00:00\",\"2024-11-01T00:00:00\",\"2024-11-04T00:00:00\",\"2024-11-05T00:00:00\",\"2024-11-06T00:00:00\",\"2024-11-07T00:00:00\",\"2024-11-08T00:00:00\",\"2024-11-11T00:00:00\",\"2024-11-12T00:00:00\",\"2024-11-13T00:00:00\",\"2024-11-14T00:00:00\",\"2024-11-18T00:00:00\",\"2024-11-19T00:00:00\",\"2024-11-21T00:00:00\",\"2024-11-22T00:00:00\",\"2024-11-25T00:00:00\",\"2024-11-26T00:00:00\",\"2024-11-27T00:00:00\",\"2024-11-28T00:00:00\",\"2024-11-29T00:00:00\",\"2024-12-02T00:00:00\",\"2024-12-03T00:00:00\",\"2024-12-04T00:00:00\",\"2024-12-05T00:00:00\",\"2024-12-06T00:00:00\",\"2024-12-09T00:00:00\",\"2024-12-10T00:00:00\",\"2024-12-11T00:00:00\",\"2024-12-12T00:00:00\",\"2024-12-13T00:00:00\",\"2024-12-16T00:00:00\",\"2024-12-17T00:00:00\",\"2024-12-18T00:00:00\",\"2024-12-19T00:00:00\",\"2024-12-20T00:00:00\",\"2024-12-23T00:00:00\",\"2024-12-24T00:00:00\",\"2024-12-26T00:00:00\",\"2024-12-27T00:00:00\",\"2024-12-30T00:00:00\",\"2024-12-31T00:00:00\",\"2025-01-01T00:00:00\",\"2025-01-02T00:00:00\",\"2025-01-03T00:00:00\",\"2025-01-06T00:00:00\",\"2025-01-07T00:00:00\",\"2025-01-08T00:00:00\",\"2025-01-09T00:00:00\",\"2025-01-10T00:00:00\",\"2025-01-13T00:00:00\",\"2025-01-14T00:00:00\",\"2025-01-15T00:00:00\",\"2025-01-16T00:00:00\",\"2025-01-17T00:00:00\",\"2025-01-20T00:00:00\",\"2025-01-21T00:00:00\",\"2025-01-22T00:00:00\",\"2025-01-23T00:00:00\",\"2025-01-24T00:00:00\",\"2025-01-27T00:00:00\",\"2025-01-28T00:00:00\",\"2025-01-29T00:00:00\",\"2025-01-30T00:00:00\",\"2025-01-31T00:00:00\",\"2025-02-01T00:00:00\",\"2025-02-03T00:00:00\",\"2025-02-04T00:00:00\",\"2025-02-05T00:00:00\",\"2025-02-06T00:00:00\",\"2025-02-07T00:00:00\",\"2025-02-10T00:00:00\",\"2025-02-11T00:00:00\",\"2025-02-12T00:00:00\",\"2025-02-13T00:00:00\",\"2025-02-14T00:00:00\",\"2025-02-17T00:00:00\",\"2025-02-18T00:00:00\",\"2025-02-19T00:00:00\",\"2025-02-20T00:00:00\",\"2025-02-21T00:00:00\",\"2025-02-24T00:00:00\",\"2025-02-25T00:00:00\",\"2025-02-27T00:00:00\",\"2025-02-28T00:00:00\",\"2025-03-03T00:00:00\",\"2025-03-04T00:00:00\",\"2025-03-05T00:00:00\",\"2025-03-06T00:00:00\",\"2025-03-07T00:00:00\",\"2025-03-10T00:00:00\",\"2025-03-11T00:00:00\",\"2025-03-12T00:00:00\",\"2025-03-13T00:00:00\",\"2025-03-17T00:00:00\",\"2025-03-18T00:00:00\",\"2025-03-19T00:00:00\",\"2025-03-20T00:00:00\",\"2025-03-21T00:00:00\",\"2025-03-24T00:00:00\",\"2025-03-25T00:00:00\",\"2025-03-26T00:00:00\",\"2025-03-27T00:00:00\",\"2025-03-28T00:00:00\",\"2025-04-01T00:00:00\",\"2025-04-02T00:00:00\",\"2025-04-03T00:00:00\",\"2025-04-04T00:00:00\",\"2025-04-07T00:00:00\",\"2025-04-08T00:00:00\",\"2025-04-09T00:00:00\",\"2025-04-11T00:00:00\",\"2025-04-15T00:00:00\",\"2025-04-16T00:00:00\",\"2025-04-17T00:00:00\",\"2025-04-21T00:00:00\",\"2025-04-22T00:00:00\",\"2025-04-23T00:00:00\",\"2025-04-24T00:00:00\",\"2025-04-25T00:00:00\",\"2025-04-28T00:00:00\",\"2025-04-29T00:00:00\"],\"type\":\"candlestick\"},{\"marker\":{\"color\":\"red\",\"size\":12,\"symbol\":\"circle\"},\"mode\":\"markers+text\",\"name\":\"Noteworthy Event\",\"text\":[\"Significant Drop\"],\"textposition\":\"top center\",\"x\":[\"2024-06-05\"],\"y\":[3881],\"type\":\"scatter\"},{\"line\":{\"color\":\"green\",\"dash\":\"dot\",\"width\":4},\"mode\":\"lines\",\"name\":\"Potential Reversal Point\",\"x\":[\"2025-03-02\",\"2025-03-02\"],\"y\":[3046.050048828125,4519.193819455762],\"type\":\"scatter\"}],                        {\"template\":{\"data\":{\"barpolar\":[{\"marker\":{\"line\":{\"color\":\"rgb(17,17,17)\",\"width\":0.5},\"pattern\":{\"fillmode\":\"overlay\",\"size\":10,\"solidity\":0.2}},\"type\":\"barpolar\"}],\"bar\":[{\"error_x\":{\"color\":\"#f2f5fa\"},\"error_y\":{\"color\":\"#f2f5fa\"},\"marker\":{\"line\":{\"color\":\"rgb(17,17,17)\",\"width\":0.5},\"pattern\":{\"fillmode\":\"overlay\",\"size\":10,\"solidity\":0.2}},\"type\":\"bar\"}],\"carpet\":[{\"aaxis\":{\"endlinecolor\":\"#A2B1C6\",\"gridcolor\":\"#506784\",\"linecolor\":\"#506784\",\"minorgridcolor\":\"#506784\",\"startlinecolor\":\"#A2B1C6\"},\"baxis\":{\"endlinecolor\":\"#A2B1C6\",\"gridcolor\":\"#506784\",\"linecolor\":\"#506784\",\"minorgridcolor\":\"#506784\",\"startlinecolor\":\"#A2B1C6\"},\"type\":\"carpet\"}],\"choropleth\":[{\"colorbar\":{\"outlinewidth\":0,\"ticks\":\"\"},\"type\":\"choropleth\"}],\"contourcarpet\":[{\"colorbar\":{\"outlinewidth\":0,\"ticks\":\"\"},\"type\":\"contourcarpet\"}],\"contour\":[{\"colorbar\":{\"outlinewidth\":0,\"ticks\":\"\"},\"colorscale\":[[0.0,\"#0d0887\"],[0.1111111111111111,\"#46039f\"],[0.2222222222222222,\"#7201a8\"],[0.3333333333333333,\"#9c179e\"],[0.4444444444444444,\"#bd3786\"],[0.5555555555555556,\"#d8576b\"],[0.6666666666666666,\"#ed7953\"],[0.7777777777777778,\"#fb9f3a\"],[0.8888888888888888,\"#fdca26\"],[1.0,\"#f0f921\"]],\"type\":\"contour\"}],\"heatmapgl\":[{\"colorbar\":{\"outlinewidth\":0,\"ticks\":\"\"},\"colorscale\":[[0.0,\"#0d0887\"],[0.1111111111111111,\"#46039f\"],[0.2222222222222222,\"#7201a8\"],[0.3333333333333333,\"#9c179e\"],[0.4444444444444444,\"#bd3786\"],[0.5555555555555556,\"#d8576b\"],[0.6666666666666666,\"#ed7953\"],[0.7777777777777778,\"#fb9f3a\"],[0.8888888888888888,\"#fdca26\"],[1.0,\"#f0f921\"]],\"type\":\"heatmapgl\"}],\"heatmap\":[{\"colorbar\":{\"outlinewidth\":0,\"ticks\":\"\"},\"colorscale\":[[0.0,\"#0d0887\"],[0.1111111111111111,\"#46039f\"],[0.2222222222222222,\"#7201a8\"],[0.3333333333333333,\"#9c179e\"],[0.4444444444444444,\"#bd3786\"],[0.5555555555555556,\"#d8576b\"],[0.6666666666666666,\"#ed7953\"],[0.7777777777777778,\"#fb9f3a\"],[0.8888888888888888,\"#fdca26\"],[1.0,\"#f0f921\"]],\"type\":\"heatmap\"}],\"histogram2dcontour\":[{\"colorbar\":{\"outlinewidth\":0,\"ticks\":\"\"},\"colorscale\":[[0.0,\"#0d0887\"],[0.1111111111111111,\"#46039f\"],[0.2222222222222222,\"#7201a8\"],[0.3333333333333333,\"#9c179e\"],[0.4444444444444444,\"#bd3786\"],[0.5555555555555556,\"#d8576b\"],[0.6666666666666666,\"#ed7953\"],[0.7777777777777778,\"#fb9f3a\"],[0.8888888888888888,\"#fdca26\"],[1.0,\"#f0f921\"]],\"type\":\"histogram2dcontour\"}],\"histogram2d\":[{\"colorbar\":{\"outlinewidth\":0,\"ticks\":\"\"},\"colorscale\":[[0.0,\"#0d0887\"],[0.1111111111111111,\"#46039f\"],[0.2222222222222222,\"#7201a8\"],[0.3333333333333333,\"#9c179e\"],[0.4444444444444444,\"#bd3786\"],[0.5555555555555556,\"#d8576b\"],[0.6666666666666666,\"#ed7953\"],[0.7777777777777778,\"#fb9f3a\"],[0.8888888888888888,\"#fdca26\"],[1.0,\"#f0f921\"]],\"type\":\"histogram2d\"}],\"histogram\":[{\"marker\":{\"pattern\":{\"fillmode\":\"overlay\",\"size\":10,\"solidity\":0.2}},\"type\":\"histogram\"}],\"mesh3d\":[{\"colorbar\":{\"outlinewidth\":0,\"ticks\":\"\"},\"type\":\"mesh3d\"}],\"parcoords\":[{\"line\":{\"colorbar\":{\"outlinewidth\":0,\"ticks\":\"\"}},\"type\":\"parcoords\"}],\"pie\":[{\"automargin\":true,\"type\":\"pie\"}],\"scatter3d\":[{\"line\":{\"colorbar\":{\"outlinewidth\":0,\"ticks\":\"\"}},\"marker\":{\"colorbar\":{\"outlinewidth\":0,\"ticks\":\"\"}},\"type\":\"scatter3d\"}],\"scattercarpet\":[{\"marker\":{\"colorbar\":{\"outlinewidth\":0,\"ticks\":\"\"}},\"type\":\"scattercarpet\"}],\"scattergeo\":[{\"marker\":{\"colorbar\":{\"outlinewidth\":0,\"ticks\":\"\"}},\"type\":\"scattergeo\"}],\"scattergl\":[{\"marker\":{\"line\":{\"color\":\"#283442\"}},\"type\":\"scattergl\"}],\"scattermapbox\":[{\"marker\":{\"colorbar\":{\"outlinewidth\":0,\"ticks\":\"\"}},\"type\":\"scattermapbox\"}],\"scatterpolargl\":[{\"marker\":{\"colorbar\":{\"outlinewidth\":0,\"ticks\":\"\"}},\"type\":\"scatterpolargl\"}],\"scatterpolar\":[{\"marker\":{\"colorbar\":{\"outlinewidth\":0,\"ticks\":\"\"}},\"type\":\"scatterpolar\"}],\"scatter\":[{\"marker\":{\"line\":{\"color\":\"#283442\"}},\"type\":\"scatter\"}],\"scatterternary\":[{\"marker\":{\"colorbar\":{\"outlinewidth\":0,\"ticks\":\"\"}},\"type\":\"scatterternary\"}],\"surface\":[{\"colorbar\":{\"outlinewidth\":0,\"ticks\":\"\"},\"colorscale\":[[0.0,\"#0d0887\"],[0.1111111111111111,\"#46039f\"],[0.2222222222222222,\"#7201a8\"],[0.3333333333333333,\"#9c179e\"],[0.4444444444444444,\"#bd3786\"],[0.5555555555555556,\"#d8576b\"],[0.6666666666666666,\"#ed7953\"],[0.7777777777777778,\"#fb9f3a\"],[0.8888888888888888,\"#fdca26\"],[1.0,\"#f0f921\"]],\"type\":\"surface\"}],\"table\":[{\"cells\":{\"fill\":{\"color\":\"#506784\"},\"line\":{\"color\":\"rgb(17,17,17)\"}},\"header\":{\"fill\":{\"color\":\"#2a3f5f\"},\"line\":{\"color\":\"rgb(17,17,17)\"}},\"type\":\"table\"}]},\"layout\":{\"annotationdefaults\":{\"arrowcolor\":\"#f2f5fa\",\"arrowhead\":0,\"arrowwidth\":1},\"autotypenumbers\":\"strict\",\"coloraxis\":{\"colorbar\":{\"outlinewidth\":0,\"ticks\":\"\"}},\"colorscale\":{\"diverging\":[[0,\"#8e0152\"],[0.1,\"#c51b7d\"],[0.2,\"#de77ae\"],[0.3,\"#f1b6da\"],[0.4,\"#fde0ef\"],[0.5,\"#f7f7f7\"],[0.6,\"#e6f5d0\"],[0.7,\"#b8e186\"],[0.8,\"#7fbc41\"],[0.9,\"#4d9221\"],[1,\"#276419\"]],\"sequential\":[[0.0,\"#0d0887\"],[0.1111111111111111,\"#46039f\"],[0.2222222222222222,\"#7201a8\"],[0.3333333333333333,\"#9c179e\"],[0.4444444444444444,\"#bd3786\"],[0.5555555555555556,\"#d8576b\"],[0.6666666666666666,\"#ed7953\"],[0.7777777777777778,\"#fb9f3a\"],[0.8888888888888888,\"#fdca26\"],[1.0,\"#f0f921\"]],\"sequentialminus\":[[0.0,\"#0d0887\"],[0.1111111111111111,\"#46039f\"],[0.2222222222222222,\"#7201a8\"],[0.3333333333333333,\"#9c179e\"],[0.4444444444444444,\"#bd3786\"],[0.5555555555555556,\"#d8576b\"],[0.6666666666666666,\"#ed7953\"],[0.7777777777777778,\"#fb9f3a\"],[0.8888888888888888,\"#fdca26\"],[1.0,\"#f0f921\"]]},\"colorway\":[\"#636efa\",\"#EF553B\",\"#00cc96\",\"#ab63fa\",\"#FFA15A\",\"#19d3f3\",\"#FF6692\",\"#B6E880\",\"#FF97FF\",\"#FECB52\"],\"font\":{\"color\":\"#f2f5fa\"},\"geo\":{\"bgcolor\":\"rgb(17,17,17)\",\"lakecolor\":\"rgb(17,17,17)\",\"landcolor\":\"rgb(17,17,17)\",\"showlakes\":true,\"showland\":true,\"subunitcolor\":\"#506784\"},\"hoverlabel\":{\"align\":\"left\"},\"hovermode\":\"closest\",\"mapbox\":{\"style\":\"dark\"},\"paper_bgcolor\":\"rgb(17,17,17)\",\"plot_bgcolor\":\"rgb(17,17,17)\",\"polar\":{\"angularaxis\":{\"gridcolor\":\"#506784\",\"linecolor\":\"#506784\",\"ticks\":\"\"},\"bgcolor\":\"rgb(17,17,17)\",\"radialaxis\":{\"gridcolor\":\"#506784\",\"linecolor\":\"#506784\",\"ticks\":\"\"}},\"scene\":{\"xaxis\":{\"backgroundcolor\":\"rgb(17,17,17)\",\"gridcolor\":\"#506784\",\"gridwidth\":2,\"linecolor\":\"#506784\",\"showbackground\":true,\"ticks\":\"\",\"zerolinecolor\":\"#C8D4E3\"},\"yaxis\":{\"backgroundcolor\":\"rgb(17,17,17)\",\"gridcolor\":\"#506784\",\"gridwidth\":2,\"linecolor\":\"#506784\",\"showbackground\":true,\"ticks\":\"\",\"zerolinecolor\":\"#C8D4E3\"},\"zaxis\":{\"backgroundcolor\":\"rgb(17,17,17)\",\"gridcolor\":\"#506784\",\"gridwidth\":2,\"linecolor\":\"#506784\",\"showbackground\":true,\"ticks\":\"\",\"zerolinecolor\":\"#C8D4E3\"}},\"shapedefaults\":{\"line\":{\"color\":\"#f2f5fa\"}},\"sliderdefaults\":{\"bgcolor\":\"#C8D4E3\",\"bordercolor\":\"rgb(17,17,17)\",\"borderwidth\":1,\"tickwidth\":0},\"ternary\":{\"aaxis\":{\"gridcolor\":\"#506784\",\"linecolor\":\"#506784\",\"ticks\":\"\"},\"baxis\":{\"gridcolor\":\"#506784\",\"linecolor\":\"#506784\",\"ticks\":\"\"},\"bgcolor\":\"rgb(17,17,17)\",\"caxis\":{\"gridcolor\":\"#506784\",\"linecolor\":\"#506784\",\"ticks\":\"\"}},\"title\":{\"x\":0.05},\"updatemenudefaults\":{\"bgcolor\":\"#506784\",\"borderwidth\":0},\"xaxis\":{\"automargin\":true,\"gridcolor\":\"#283442\",\"linecolor\":\"#506784\",\"ticks\":\"\",\"title\":{\"standoff\":15},\"zerolinecolor\":\"#283442\",\"zerolinewidth\":2},\"yaxis\":{\"automargin\":true,\"gridcolor\":\"#283442\",\"linecolor\":\"#506784\",\"ticks\":\"\",\"title\":{\"standoff\":15},\"zerolinecolor\":\"#283442\",\"zerolinewidth\":2}}},\"title\":{\"text\":\"Financial Performance: TCS.NS\",\"x\":0.5,\"xanchor\":\"center\"},\"xaxis\":{\"rangeslider\":{\"visible\":false},\"title\":{\"text\":\"Trading Date\"}},\"yaxis\":{\"title\":{\"text\":\"Value\"}},\"hovermode\":\"x unified\"},                        {\"responsive\": true}                    ).then(function(){\n",
              "                            \n",
              "var gd = document.getElementById('14f1549d-1462-4dfc-8bab-d88d31dd999b');\n",
              "var x = new MutationObserver(function (mutations, observer) {{\n",
              "        var display = window.getComputedStyle(gd).display;\n",
              "        if (!display || display === 'none') {{\n",
              "            console.log([gd, 'removed!']);\n",
              "            Plotly.purge(gd);\n",
              "            observer.disconnect();\n",
              "        }}\n",
              "}});\n",
              "\n",
              "// Listen for the removal of the full notebook cells\n",
              "var notebookContainer = gd.closest('#notebook-container');\n",
              "if (notebookContainer) {{\n",
              "    x.observe(notebookContainer, {childList: true});\n",
              "}}\n",
              "\n",
              "// Listen for the clearing of the current output cell\n",
              "var outputEl = gd.closest('.output');\n",
              "if (outputEl) {{\n",
              "    x.observe(outputEl, {childList: true});\n",
              "}}\n",
              "\n",
              "                        })                };                            </script>        </div>\n",
              "</body>\n",
              "</html>"
            ]
          },
          "metadata": {}
        }
      ]
    },
    {
      "cell_type": "code",
      "source": [
        "\n",
        "\n",
        "# Calculate returns\n",
        "df[(nse, 'Daily Return')] = df[nse]['Close'].pct_change()\n",
        "df[(nse, 'Log Return')] = np.log(df[nse]['Close'] / df[nse]['Close'].shift(1))\n",
        "\n",
        "# Create subplots\n",
        "fig = make_subplots(\n",
        "    rows=1, cols=2,\n",
        "    subplot_titles=(\"Simple Return\", \"Log Return\")\n",
        ")\n",
        "\n",
        "# Add daily return line plot\n",
        "fig.add_trace(\n",
        "    go.Scatter(\n",
        "        x=df.index,\n",
        "        y=df[(nse, 'Daily Return')],\n",
        "        mode='lines',\n",
        "        name='Daily Return'\n",
        "    ),\n",
        "    row=1, col=1\n",
        ")\n",
        "\n",
        "# Add log return line plot\n",
        "fig.add_trace(\n",
        "    go.Scatter(\n",
        "        x=df.index,\n",
        "        y=df[(nse, 'Log Return')],\n",
        "        mode='lines',\n",
        "        name='Log Return'\n",
        "    ),\n",
        "    row=1, col=2\n",
        ")\n",
        "\n",
        "# Update layout for appearance\n",
        "fig.update_layout(\n",
        "    title_text=\"Problem 2\",\n",
        "    title_x=0.5,\n",
        "    height=500,\n",
        "    showlegend=False,\n",
        "    template=\"plotly_dark\"\n",
        ")\n",
        "\n",
        "# Display the plot\n",
        "fig.show()\n"
      ],
      "metadata": {
        "colab": {
          "base_uri": "https://localhost:8080/",
          "height": 517
        },
        "id": "3t2rrF53Mrca",
        "outputId": "f2d36a5e-9b0b-4c9e-a72b-3089396650fc"
      },
      "execution_count": 24,
      "outputs": [
        {
          "output_type": "display_data",
          "data": {
            "text/html": [
              "<html>\n",
              "<head><meta charset=\"utf-8\" /></head>\n",
              "<body>\n",
              "    <div>            <script src=\"https://cdnjs.cloudflare.com/ajax/libs/mathjax/2.7.5/MathJax.js?config=TeX-AMS-MML_SVG\"></script><script type=\"text/javascript\">if (window.MathJax && window.MathJax.Hub && window.MathJax.Hub.Config) {window.MathJax.Hub.Config({SVG: {font: \"STIX-Web\"}});}</script>                <script type=\"text/javascript\">window.PlotlyConfig = {MathJaxConfig: 'local'};</script>\n",
              "        <script charset=\"utf-8\" src=\"https://cdn.plot.ly/plotly-2.35.2.min.js\"></script>                <div id=\"19602143-a1f1-4ac2-909d-708a53e46382\" class=\"plotly-graph-div\" style=\"height:500px; width:100%;\"></div>            <script type=\"text/javascript\">                                    window.PLOTLYENV=window.PLOTLYENV || {};                                    if (document.getElementById(\"19602143-a1f1-4ac2-909d-708a53e46382\")) {                    Plotly.newPlot(                        \"19602143-a1f1-4ac2-909d-708a53e46382\",                        [{\"mode\":\"lines\",\"name\":\"Daily Return\",\"x\":[\"2024-04-01T00:00:00\",\"2024-04-02T00:00:00\",\"2024-04-03T00:00:00\",\"2024-04-04T00:00:00\",\"2024-04-05T00:00:00\",\"2024-04-08T00:00:00\",\"2024-04-09T00:00:00\",\"2024-04-10T00:00:00\",\"2024-04-12T00:00:00\",\"2024-04-15T00:00:00\",\"2024-04-16T00:00:00\",\"2024-04-18T00:00:00\",\"2024-04-19T00:00:00\",\"2024-04-22T00:00:00\",\"2024-04-23T00:00:00\",\"2024-04-24T00:00:00\",\"2024-04-25T00:00:00\",\"2024-04-26T00:00:00\",\"2024-04-29T00:00:00\",\"2024-04-30T00:00:00\",\"2024-05-02T00:00:00\",\"2024-05-03T00:00:00\",\"2024-05-06T00:00:00\",\"2024-05-07T00:00:00\",\"2024-05-08T00:00:00\",\"2024-05-09T00:00:00\",\"2024-05-10T00:00:00\",\"2024-05-13T00:00:00\",\"2024-05-14T00:00:00\",\"2024-05-15T00:00:00\",\"2024-05-16T00:00:00\",\"2024-05-17T00:00:00\",\"2024-05-21T00:00:00\",\"2024-05-22T00:00:00\",\"2024-05-23T00:00:00\",\"2024-05-24T00:00:00\",\"2024-05-27T00:00:00\",\"2024-05-28T00:00:00\",\"2024-05-29T00:00:00\",\"2024-05-30T00:00:00\",\"2024-05-31T00:00:00\",\"2024-06-03T00:00:00\",\"2024-06-04T00:00:00\",\"2024-06-05T00:00:00\",\"2024-06-06T00:00:00\",\"2024-06-07T00:00:00\",\"2024-06-10T00:00:00\",\"2024-06-11T00:00:00\",\"2024-06-12T00:00:00\",\"2024-06-13T00:00:00\",\"2024-06-14T00:00:00\",\"2024-06-18T00:00:00\",\"2024-06-19T00:00:00\",\"2024-06-20T00:00:00\",\"2024-06-21T00:00:00\",\"2024-06-24T00:00:00\",\"2024-06-25T00:00:00\",\"2024-06-26T00:00:00\",\"2024-06-27T00:00:00\",\"2024-06-28T00:00:00\",\"2024-07-01T00:00:00\",\"2024-07-02T00:00:00\",\"2024-07-03T00:00:00\",\"2024-07-04T00:00:00\",\"2024-07-05T00:00:00\",\"2024-07-08T00:00:00\",\"2024-07-09T00:00:00\",\"2024-07-10T00:00:00\",\"2024-07-11T00:00:00\",\"2024-07-12T00:00:00\",\"2024-07-15T00:00:00\",\"2024-07-16T00:00:00\",\"2024-07-18T00:00:00\",\"2024-07-19T00:00:00\",\"2024-07-22T00:00:00\",\"2024-07-23T00:00:00\",\"2024-07-24T00:00:00\",\"2024-07-25T00:00:00\",\"2024-07-26T00:00:00\",\"2024-07-29T00:00:00\",\"2024-07-30T00:00:00\",\"2024-07-31T00:00:00\",\"2024-08-01T00:00:00\",\"2024-08-02T00:00:00\",\"2024-08-05T00:00:00\",\"2024-08-06T00:00:00\",\"2024-08-07T00:00:00\",\"2024-08-08T00:00:00\",\"2024-08-09T00:00:00\",\"2024-08-12T00:00:00\",\"2024-08-13T00:00:00\",\"2024-08-14T00:00:00\",\"2024-08-16T00:00:00\",\"2024-08-19T00:00:00\",\"2024-08-20T00:00:00\",\"2024-08-21T00:00:00\",\"2024-08-22T00:00:00\",\"2024-08-23T00:00:00\",\"2024-08-26T00:00:00\",\"2024-08-27T00:00:00\",\"2024-08-28T00:00:00\",\"2024-08-29T00:00:00\",\"2024-08-30T00:00:00\",\"2024-09-02T00:00:00\",\"2024-09-03T00:00:00\",\"2024-09-04T00:00:00\",\"2024-09-05T00:00:00\",\"2024-09-06T00:00:00\",\"2024-09-09T00:00:00\",\"2024-09-10T00:00:00\",\"2024-09-11T00:00:00\",\"2024-09-12T00:00:00\",\"2024-09-13T00:00:00\",\"2024-09-16T00:00:00\",\"2024-09-17T00:00:00\",\"2024-09-18T00:00:00\",\"2024-09-19T00:00:00\",\"2024-09-20T00:00:00\",\"2024-09-23T00:00:00\",\"2024-09-24T00:00:00\",\"2024-09-25T00:00:00\",\"2024-09-26T00:00:00\",\"2024-09-27T00:00:00\",\"2024-09-30T00:00:00\",\"2024-10-01T00:00:00\",\"2024-10-03T00:00:00\",\"2024-10-04T00:00:00\",\"2024-10-07T00:00:00\",\"2024-10-08T00:00:00\",\"2024-10-09T00:00:00\",\"2024-10-10T00:00:00\",\"2024-10-11T00:00:00\",\"2024-10-14T00:00:00\",\"2024-10-15T00:00:00\",\"2024-10-16T00:00:00\",\"2024-10-17T00:00:00\",\"2024-10-18T00:00:00\",\"2024-10-21T00:00:00\",\"2024-10-22T00:00:00\",\"2024-10-23T00:00:00\",\"2024-10-24T00:00:00\",\"2024-10-25T00:00:00\",\"2024-10-28T00:00:00\",\"2024-10-29T00:00:00\",\"2024-10-30T00:00:00\",\"2024-10-31T00:00:00\",\"2024-11-01T00:00:00\",\"2024-11-04T00:00:00\",\"2024-11-05T00:00:00\",\"2024-11-06T00:00:00\",\"2024-11-07T00:00:00\",\"2024-11-08T00:00:00\",\"2024-11-11T00:00:00\",\"2024-11-12T00:00:00\",\"2024-11-13T00:00:00\",\"2024-11-14T00:00:00\",\"2024-11-18T00:00:00\",\"2024-11-19T00:00:00\",\"2024-11-21T00:00:00\",\"2024-11-22T00:00:00\",\"2024-11-25T00:00:00\",\"2024-11-26T00:00:00\",\"2024-11-27T00:00:00\",\"2024-11-28T00:00:00\",\"2024-11-29T00:00:00\",\"2024-12-02T00:00:00\",\"2024-12-03T00:00:00\",\"2024-12-04T00:00:00\",\"2024-12-05T00:00:00\",\"2024-12-06T00:00:00\",\"2024-12-09T00:00:00\",\"2024-12-10T00:00:00\",\"2024-12-11T00:00:00\",\"2024-12-12T00:00:00\",\"2024-12-13T00:00:00\",\"2024-12-16T00:00:00\",\"2024-12-17T00:00:00\",\"2024-12-18T00:00:00\",\"2024-12-19T00:00:00\",\"2024-12-20T00:00:00\",\"2024-12-23T00:00:00\",\"2024-12-24T00:00:00\",\"2024-12-26T00:00:00\",\"2024-12-27T00:00:00\",\"2024-12-30T00:00:00\",\"2024-12-31T00:00:00\",\"2025-01-01T00:00:00\",\"2025-01-02T00:00:00\",\"2025-01-03T00:00:00\",\"2025-01-06T00:00:00\",\"2025-01-07T00:00:00\",\"2025-01-08T00:00:00\",\"2025-01-09T00:00:00\",\"2025-01-10T00:00:00\",\"2025-01-13T00:00:00\",\"2025-01-14T00:00:00\",\"2025-01-15T00:00:00\",\"2025-01-16T00:00:00\",\"2025-01-17T00:00:00\",\"2025-01-20T00:00:00\",\"2025-01-21T00:00:00\",\"2025-01-22T00:00:00\",\"2025-01-23T00:00:00\",\"2025-01-24T00:00:00\",\"2025-01-27T00:00:00\",\"2025-01-28T00:00:00\",\"2025-01-29T00:00:00\",\"2025-01-30T00:00:00\",\"2025-01-31T00:00:00\",\"2025-02-01T00:00:00\",\"2025-02-03T00:00:00\",\"2025-02-04T00:00:00\",\"2025-02-05T00:00:00\",\"2025-02-06T00:00:00\",\"2025-02-07T00:00:00\",\"2025-02-10T00:00:00\",\"2025-02-11T00:00:00\",\"2025-02-12T00:00:00\",\"2025-02-13T00:00:00\",\"2025-02-14T00:00:00\",\"2025-02-17T00:00:00\",\"2025-02-18T00:00:00\",\"2025-02-19T00:00:00\",\"2025-02-20T00:00:00\",\"2025-02-21T00:00:00\",\"2025-02-24T00:00:00\",\"2025-02-25T00:00:00\",\"2025-02-27T00:00:00\",\"2025-02-28T00:00:00\",\"2025-03-03T00:00:00\",\"2025-03-04T00:00:00\",\"2025-03-05T00:00:00\",\"2025-03-06T00:00:00\",\"2025-03-07T00:00:00\",\"2025-03-10T00:00:00\",\"2025-03-11T00:00:00\",\"2025-03-12T00:00:00\",\"2025-03-13T00:00:00\",\"2025-03-17T00:00:00\",\"2025-03-18T00:00:00\",\"2025-03-19T00:00:00\",\"2025-03-20T00:00:00\",\"2025-03-21T00:00:00\",\"2025-03-24T00:00:00\",\"2025-03-25T00:00:00\",\"2025-03-26T00:00:00\",\"2025-03-27T00:00:00\",\"2025-03-28T00:00:00\",\"2025-04-01T00:00:00\",\"2025-04-02T00:00:00\",\"2025-04-03T00:00:00\",\"2025-04-04T00:00:00\",\"2025-04-07T00:00:00\",\"2025-04-08T00:00:00\",\"2025-04-09T00:00:00\",\"2025-04-11T00:00:00\",\"2025-04-15T00:00:00\",\"2025-04-16T00:00:00\",\"2025-04-17T00:00:00\",\"2025-04-21T00:00:00\",\"2025-04-22T00:00:00\",\"2025-04-23T00:00:00\",\"2025-04-24T00:00:00\",\"2025-04-25T00:00:00\",\"2025-04-28T00:00:00\",\"2025-04-29T00:00:00\"],\"y\":[null,-0.008412579601168813,0.016349999954756056,0.014186903054848266,-0.006007501507424795,-0.0016837705863049779,-0.006544928159342489,0.009654008458142016,0.004203564534527526,-0.015044706583209555,-0.017355162240722977,-0.002788591367267279,-0.00926977526381656,0.010036001961655883,0.0026134126515831024,-0.01126525143776369,0.005520607152119439,-0.008008380664962456,0.012783369060200389,-0.012802980300832045,0.01116312269408759,-0.005151131077299587,0.02020352769317113,0.01476651229478887,-0.0005026898766220533,-0.004211829517825727,-0.016741535514126715,0.013842196293340159,-0.011804050147787515,-0.00533176826867876,0.012602488902770048,-0.017136771935867934,-0.0036253534110204377,0.0030888648993940837,0.016035932225744398,-0.011288142358624076,-0.0006364548191205577,-0.0018585614643572557,-0.009440367913250092,-0.017759186996802567,-0.01743804628137613,0.00868992239062849,0.0032812506940680386,0.008465662700268384,0.022407831622198282,0.016590977406430563,-0.009052496531009147,-0.001710410563766418,-0.005308814801175954,0.012135772672247969,-0.011887057912681964,-0.004423248438752081,-0.0035124350784154768,-0.003800927425767431,0.006205024822468319,0.0015876647013290945,0.005672240334478884,0.004533130123753448,0.020306772610436896,-0.0076254736187701955,0.018966933681608067,0.009853709740610173,-0.012981029534591793,0.014047047698382054,-0.002275564086088755,-0.004636301256088937,-0.0019282771037236746,-0.01915700858198821,0.003722016502514469,0.0663278336483164,-0.0035253860436502693,0.0022186184383952146,0.032811127653409766,-0.0007316690624449285,-0.003497939366508218,0.003498735224324534,0.0009063955324246642,0.0037735744473188504,0.015118543016796826,-0.0015382282529906588,-0.0035950314492892987,0.004581512510847485,0.002679401335403009,-0.02593755760603189,-0.029885266990516746,0.0038868371136755453,0.007012422577947763,-0.006642290961159314,0.01346899257141243,-0.007827401349319252,0.00031005249202920027,0.02342173133155545,0.02812398481332834,0.01674579699762302,0.007416375832741906,0.006234490728627362,-0.010875590879462882,-0.008462954938503908,0.008636004171233669,-0.0011771275437242323,0.001978971615905545,0.00127617079897413,0.009297868731419578,-0.007181072109168074,-0.0019241838139998357,-0.00733545048226536,-0.0007367120395133098,-0.004289656407531872,-0.0016155373656197014,0.0131024566309903,-0.006322266829180023,0.008561588518205987,0.0010846555255570323,-0.002067562815799784,-0.001683898632453551,-0.03539999596056764,-0.011504438650602578,-0.0026187055256144953,-0.0038273090845409863,0.0006558881984393139,0.0008078552543189232,0.004152344210315295,0.003773961300475248,-0.009330009933498529,0.0045449673686883685,-0.012861841864927115,0.00460696851274367,0.00484463873779073,-0.004587240846088525,-0.00007038373046164281,-0.00600770931484329,-0.018498305519383917,-0.003024854104032193,-0.0047985639950883785,-0.005307464912739479,0.003431057886442046,0.0058672772899825976,-0.010477634428434746,-0.015772646087202302,0.012638504850237098,-0.0045128026826847245,0.0023840012176439274,0.008206945323932402,-0.0038133883733701968,0.002306529681635361,-0.028447903985667433,0.003968756457143341,-0.005032365551093432,0.0018163121461534093,0.04237851822456151,0.002717622828678934,-0.000939570229677833,0.012466874929386806,-0.000309663949043526,-0.01120926542473566,-0.0010722464118112507,-0.030487907019930205,0.004988170096378086,0.008243514917804395,0.04216944107216314,0.016609396646448893,0.008713639949872842,-0.004629459734151076,-0.020230512660128652,0.0061132524660381105,0.0013579250449999858,0.0061030140990470105,0.012003899114167771,0.02518135350159567,-0.004155386150098139,0.0014959500772691037,-0.004402371716341169,-0.0011505889367980915,0.0062113290509742125,0.004253622817234515,-0.013120510756443826,-0.019636762145370468,0.004470371511744675,-0.01746840728925647,-0.023783338123397835,-0.002877504694732136,0.005098255935156004,-0.0024883360361026563,-0.0010193538008439473,-0.0014526946106357963,-0.01538900950494837,0.004310402528152402,0.015392250027924659,-0.01816447387959963,-0.001195122086969369,-0.01628812999104723,0.019884279442776487,-0.016928679261640434,0.056154564764600456,0.00596629180032604,-0.013528117008929197,0.00390987826689404,-0.010189313827550728,-0.003864454448898935,-0.011274581883335744,-0.010287397780558316,0.029919347120975548,-0.0026824573165066257,0.0016644518734183489,-0.021000203080592694,-0.006112899674695416,0.014726568606366897,0.0000609785872260904,0.0030121823501096934,-0.009544305255340224,-0.0011047960688632674,0.009437996206463906,-0.0038834949147794617,-0.0020410396853974833,-0.013067196780662593,0.0018737402618522747,-0.018182019403644833,-0.003380844525562865,-0.010126197989667851,0.006316943321711177,-0.007713152192081685,-0.008016403848924325,-0.02300419669494913,-0.0012420906400999465,0.0017463348221384845,-0.02916003759739827,-0.012528579716136412,-0.0046837761626923324,-0.03579190518621844,0.0028134784549271874,0.011165027541785166,0.004246825439230939,0.015378990450430008,0.0026654412636961666,-0.005967559016257673,-0.003997563524580916,-0.019327076528555698,0.0013832918041736253,-0.0038023091299156375,0.0,-0.00017149942076188918,0.018887021487250744,0.004195780621709444,0.014211411678765717,0.007936193448693007,-0.006000943523169933,0.004235629610245928,-0.012338422828272133,-0.015348738963860464,-0.0019291702044756942,-0.039729694484417544,-0.030486461947664245,-0.007683170960154806,0.005772636967023459,-0.014075480709668908,-0.004651049467765067,0.005167863584055299,0.007881318281226513,0.007666886535910855,0.006881140981686684,-0.0021676887948012258,0.02974900451406781,-0.0033401413254467993,0.013640610598441683,-0.0013051044083526309,0.00842166400464639],\"type\":\"scatter\",\"xaxis\":\"x\",\"yaxis\":\"y\"},{\"mode\":\"lines\",\"name\":\"Log Return\",\"x\":[\"2024-04-01T00:00:00\",\"2024-04-02T00:00:00\",\"2024-04-03T00:00:00\",\"2024-04-04T00:00:00\",\"2024-04-05T00:00:00\",\"2024-04-08T00:00:00\",\"2024-04-09T00:00:00\",\"2024-04-10T00:00:00\",\"2024-04-12T00:00:00\",\"2024-04-15T00:00:00\",\"2024-04-16T00:00:00\",\"2024-04-18T00:00:00\",\"2024-04-19T00:00:00\",\"2024-04-22T00:00:00\",\"2024-04-23T00:00:00\",\"2024-04-24T00:00:00\",\"2024-04-25T00:00:00\",\"2024-04-26T00:00:00\",\"2024-04-29T00:00:00\",\"2024-04-30T00:00:00\",\"2024-05-02T00:00:00\",\"2024-05-03T00:00:00\",\"2024-05-06T00:00:00\",\"2024-05-07T00:00:00\",\"2024-05-08T00:00:00\",\"2024-05-09T00:00:00\",\"2024-05-10T00:00:00\",\"2024-05-13T00:00:00\",\"2024-05-14T00:00:00\",\"2024-05-15T00:00:00\",\"2024-05-16T00:00:00\",\"2024-05-17T00:00:00\",\"2024-05-21T00:00:00\",\"2024-05-22T00:00:00\",\"2024-05-23T00:00:00\",\"2024-05-24T00:00:00\",\"2024-05-27T00:00:00\",\"2024-05-28T00:00:00\",\"2024-05-29T00:00:00\",\"2024-05-30T00:00:00\",\"2024-05-31T00:00:00\",\"2024-06-03T00:00:00\",\"2024-06-04T00:00:00\",\"2024-06-05T00:00:00\",\"2024-06-06T00:00:00\",\"2024-06-07T00:00:00\",\"2024-06-10T00:00:00\",\"2024-06-11T00:00:00\",\"2024-06-12T00:00:00\",\"2024-06-13T00:00:00\",\"2024-06-14T00:00:00\",\"2024-06-18T00:00:00\",\"2024-06-19T00:00:00\",\"2024-06-20T00:00:00\",\"2024-06-21T00:00:00\",\"2024-06-24T00:00:00\",\"2024-06-25T00:00:00\",\"2024-06-26T00:00:00\",\"2024-06-27T00:00:00\",\"2024-06-28T00:00:00\",\"2024-07-01T00:00:00\",\"2024-07-02T00:00:00\",\"2024-07-03T00:00:00\",\"2024-07-04T00:00:00\",\"2024-07-05T00:00:00\",\"2024-07-08T00:00:00\",\"2024-07-09T00:00:00\",\"2024-07-10T00:00:00\",\"2024-07-11T00:00:00\",\"2024-07-12T00:00:00\",\"2024-07-15T00:00:00\",\"2024-07-16T00:00:00\",\"2024-07-18T00:00:00\",\"2024-07-19T00:00:00\",\"2024-07-22T00:00:00\",\"2024-07-23T00:00:00\",\"2024-07-24T00:00:00\",\"2024-07-25T00:00:00\",\"2024-07-26T00:00:00\",\"2024-07-29T00:00:00\",\"2024-07-30T00:00:00\",\"2024-07-31T00:00:00\",\"2024-08-01T00:00:00\",\"2024-08-02T00:00:00\",\"2024-08-05T00:00:00\",\"2024-08-06T00:00:00\",\"2024-08-07T00:00:00\",\"2024-08-08T00:00:00\",\"2024-08-09T00:00:00\",\"2024-08-12T00:00:00\",\"2024-08-13T00:00:00\",\"2024-08-14T00:00:00\",\"2024-08-16T00:00:00\",\"2024-08-19T00:00:00\",\"2024-08-20T00:00:00\",\"2024-08-21T00:00:00\",\"2024-08-22T00:00:00\",\"2024-08-23T00:00:00\",\"2024-08-26T00:00:00\",\"2024-08-27T00:00:00\",\"2024-08-28T00:00:00\",\"2024-08-29T00:00:00\",\"2024-08-30T00:00:00\",\"2024-09-02T00:00:00\",\"2024-09-03T00:00:00\",\"2024-09-04T00:00:00\",\"2024-09-05T00:00:00\",\"2024-09-06T00:00:00\",\"2024-09-09T00:00:00\",\"2024-09-10T00:00:00\",\"2024-09-11T00:00:00\",\"2024-09-12T00:00:00\",\"2024-09-13T00:00:00\",\"2024-09-16T00:00:00\",\"2024-09-17T00:00:00\",\"2024-09-18T00:00:00\",\"2024-09-19T00:00:00\",\"2024-09-20T00:00:00\",\"2024-09-23T00:00:00\",\"2024-09-24T00:00:00\",\"2024-09-25T00:00:00\",\"2024-09-26T00:00:00\",\"2024-09-27T00:00:00\",\"2024-09-30T00:00:00\",\"2024-10-01T00:00:00\",\"2024-10-03T00:00:00\",\"2024-10-04T00:00:00\",\"2024-10-07T00:00:00\",\"2024-10-08T00:00:00\",\"2024-10-09T00:00:00\",\"2024-10-10T00:00:00\",\"2024-10-11T00:00:00\",\"2024-10-14T00:00:00\",\"2024-10-15T00:00:00\",\"2024-10-16T00:00:00\",\"2024-10-17T00:00:00\",\"2024-10-18T00:00:00\",\"2024-10-21T00:00:00\",\"2024-10-22T00:00:00\",\"2024-10-23T00:00:00\",\"2024-10-24T00:00:00\",\"2024-10-25T00:00:00\",\"2024-10-28T00:00:00\",\"2024-10-29T00:00:00\",\"2024-10-30T00:00:00\",\"2024-10-31T00:00:00\",\"2024-11-01T00:00:00\",\"2024-11-04T00:00:00\",\"2024-11-05T00:00:00\",\"2024-11-06T00:00:00\",\"2024-11-07T00:00:00\",\"2024-11-08T00:00:00\",\"2024-11-11T00:00:00\",\"2024-11-12T00:00:00\",\"2024-11-13T00:00:00\",\"2024-11-14T00:00:00\",\"2024-11-18T00:00:00\",\"2024-11-19T00:00:00\",\"2024-11-21T00:00:00\",\"2024-11-22T00:00:00\",\"2024-11-25T00:00:00\",\"2024-11-26T00:00:00\",\"2024-11-27T00:00:00\",\"2024-11-28T00:00:00\",\"2024-11-29T00:00:00\",\"2024-12-02T00:00:00\",\"2024-12-03T00:00:00\",\"2024-12-04T00:00:00\",\"2024-12-05T00:00:00\",\"2024-12-06T00:00:00\",\"2024-12-09T00:00:00\",\"2024-12-10T00:00:00\",\"2024-12-11T00:00:00\",\"2024-12-12T00:00:00\",\"2024-12-13T00:00:00\",\"2024-12-16T00:00:00\",\"2024-12-17T00:00:00\",\"2024-12-18T00:00:00\",\"2024-12-19T00:00:00\",\"2024-12-20T00:00:00\",\"2024-12-23T00:00:00\",\"2024-12-24T00:00:00\",\"2024-12-26T00:00:00\",\"2024-12-27T00:00:00\",\"2024-12-30T00:00:00\",\"2024-12-31T00:00:00\",\"2025-01-01T00:00:00\",\"2025-01-02T00:00:00\",\"2025-01-03T00:00:00\",\"2025-01-06T00:00:00\",\"2025-01-07T00:00:00\",\"2025-01-08T00:00:00\",\"2025-01-09T00:00:00\",\"2025-01-10T00:00:00\",\"2025-01-13T00:00:00\",\"2025-01-14T00:00:00\",\"2025-01-15T00:00:00\",\"2025-01-16T00:00:00\",\"2025-01-17T00:00:00\",\"2025-01-20T00:00:00\",\"2025-01-21T00:00:00\",\"2025-01-22T00:00:00\",\"2025-01-23T00:00:00\",\"2025-01-24T00:00:00\",\"2025-01-27T00:00:00\",\"2025-01-28T00:00:00\",\"2025-01-29T00:00:00\",\"2025-01-30T00:00:00\",\"2025-01-31T00:00:00\",\"2025-02-01T00:00:00\",\"2025-02-03T00:00:00\",\"2025-02-04T00:00:00\",\"2025-02-05T00:00:00\",\"2025-02-06T00:00:00\",\"2025-02-07T00:00:00\",\"2025-02-10T00:00:00\",\"2025-02-11T00:00:00\",\"2025-02-12T00:00:00\",\"2025-02-13T00:00:00\",\"2025-02-14T00:00:00\",\"2025-02-17T00:00:00\",\"2025-02-18T00:00:00\",\"2025-02-19T00:00:00\",\"2025-02-20T00:00:00\",\"2025-02-21T00:00:00\",\"2025-02-24T00:00:00\",\"2025-02-25T00:00:00\",\"2025-02-27T00:00:00\",\"2025-02-28T00:00:00\",\"2025-03-03T00:00:00\",\"2025-03-04T00:00:00\",\"2025-03-05T00:00:00\",\"2025-03-06T00:00:00\",\"2025-03-07T00:00:00\",\"2025-03-10T00:00:00\",\"2025-03-11T00:00:00\",\"2025-03-12T00:00:00\",\"2025-03-13T00:00:00\",\"2025-03-17T00:00:00\",\"2025-03-18T00:00:00\",\"2025-03-19T00:00:00\",\"2025-03-20T00:00:00\",\"2025-03-21T00:00:00\",\"2025-03-24T00:00:00\",\"2025-03-25T00:00:00\",\"2025-03-26T00:00:00\",\"2025-03-27T00:00:00\",\"2025-03-28T00:00:00\",\"2025-04-01T00:00:00\",\"2025-04-02T00:00:00\",\"2025-04-03T00:00:00\",\"2025-04-04T00:00:00\",\"2025-04-07T00:00:00\",\"2025-04-08T00:00:00\",\"2025-04-09T00:00:00\",\"2025-04-11T00:00:00\",\"2025-04-15T00:00:00\",\"2025-04-16T00:00:00\",\"2025-04-17T00:00:00\",\"2025-04-21T00:00:00\",\"2025-04-22T00:00:00\",\"2025-04-23T00:00:00\",\"2025-04-24T00:00:00\",\"2025-04-25T00:00:00\",\"2025-04-28T00:00:00\",\"2025-04-29T00:00:00\"],\"y\":[null,-0.008448165066526113,0.016217777978317777,0.014087210722977419,-0.006025619142193883,-0.0016851897212207716,-0.006566440115827709,0.00960770628104463,0.004194754238266078,-0.015159026234208487,-0.017507528536928295,-0.002792486731578963,-0.009313007003619166,0.009985975724472093,0.0026100036269064665,-0.011329184987900602,0.00550542445330104,-0.00804061998392115,0.012702351518806094,-0.01288564477887707,0.011101274890711743,-0.005164443890028368,0.020002144345418825,0.014658548883156333,-0.0005028162675368129,-0.0042207242559688775,-0.016883259025987817,0.013747268100913021,-0.011874271089094297,-0.005346032871410998,0.012523738483467594,-0.01728530578490689,-0.0036319409309090137,0.0030841041572176667,0.0159087148948367,-0.0113523369868366,-0.000636657442467247,-0.0018602907326821468,-0.009485210630733723,-0.017918773600087007,-0.01759188000677027,0.008652382338380046,0.0032758791380832226,0.008430029939842616,0.022160464649156757,0.016454850727095707,-0.009093719345908144,-0.0017118749859951334,-0.005322956631583761,0.012062724585873631,-0.011958273914039134,-0.0044330599453047655,-0.00351861816120261,-0.0038081693068158463,0.00618585292314485,0.0015864056941385287,0.005656213755118869,0.004522886435043649,0.020103339538933417,-0.007654696194834864,0.01878930394137206,0.00980547852159561,-0.013066019403669407,0.013949302217268863,-0.002278157116528528,-0.004647082236245161,-0.0019301386234201823,-0.01934288174898939,0.0037151069387914735,0.06422081471952808,-0.003531614860660566,0.0022161609386725204,0.032284334750009185,-0.000731936862888899,-0.0035040714603852617,0.0034926288890614545,0.0009059850040427306,0.003766472376452358,0.015005396823748842,-0.0015394125406954851,-0.0036015091044259294,0.004571049328366595,0.002675818138765735,-0.026279868160457572,-0.03034093302633254,0.0038793028788865727,0.0069879498847117754,-0.006664449151033998,0.013379092037767557,-0.007858196256585896,0.0003100044356883624,0.02315165160893678,0.02773576755550447,0.016607132034787114,0.007389009739026279,0.006215136691360939,-0.010935162428884131,-0.008498969076282746,0.008598927198883026,-0.0011778209025192275,0.0019770160311833344,0.0012753571851532883,0.00925490963002973,-0.0072069801134936416,-0.0019260374338600896,-0.007362487197954383,-0.0007369835451837457,-0.004298883380061348,-0.0016168437533112313,0.013017361939810125,-0.006342336995459709,0.008525145975535218,0.001084067711764393,-0.0020697031745247054,-0.0016853179833415427,-0.03604176715958947,-0.011571126670472045,-0.0026221403327387873,-0.003834651973613823,0.0006556731977806811,0.0008075291149001001,0.004143747019873849,0.0037668577752033305,-0.00937380710775817,0.004534670192927259,-0.012945271497555179,0.004596388914112755,0.004832941240426831,-0.004597794522583779,-0.00007038620751262973,-0.006025828205582724,-0.018671538847737045,-0.0030294382217329876,-0.004810114067282751,-0.0053215995395127745,0.0034251852364329876,0.005850131850593551,-0.010532911292921736,-0.015898357893603554,0.012559305556800534,-0.004523016115766768,0.002381163995140955,0.008173451478146953,-0.003820677876518731,0.002303873725293289,-0.028860387295289558,0.0039609017187389566,-0.005045070544651095,0.0018146646458621464,0.041505138619759144,0.002713936768463498,-0.0009400119024628203,0.012389803344249113,-0.0003097119048245678,-0.011272562695525222,-0.001072821679250802,-0.03096233095786272,0.004975770393379726,0.008209722732608237,0.041304541505006266,0.016472969197123447,0.00867589529303938,-0.004640208870826689,-0.020437951985508022,0.006094642345246118,0.0013570038985902906,0.00608446613589794,0.011932423737463902,0.024869527185520796,-0.004164043759256098,0.0014948322586140021,-0.004412090689549975,-0.0011512513724249854,0.006192118255359806,0.004244601736169041,-0.013207345034071644,-0.019832125119514103,0.004460409080496386,-0.017622780324913316,-0.02407072757742991,-0.0028816526704903943,0.005085303831805377,-0.0024914370895938566,-0.0010198736952638583,-0.0014537507944506283,-0.015508649324386668,0.004301139352313239,0.015274991069416642,-0.018331473331229142,-0.0011958368148855798,-0.016422239840127598,0.019689169333378744,-0.017073607307832545,0.05463454272159333,0.005948563959436589,-0.013620455708650243,0.003902254558250326,-0.010241580227976185,-0.0038719407461866168,-0.011338621785394019,-0.010340678787374834,0.02948049540960131,-0.0026860615520489396,0.0016630682085485033,-0.02122384388841294,-0.006131659938057033,0.014619185666003216,0.00006097672810761758,0.003007654818410058,-0.009590144036122109,-0.0011054068059081846,0.00939373658377159,-0.003891055261214999,-0.0020431254454587855,-0.0131533237109724,0.0018719870003306674,-0.018349343616374313,-0.0033865724943075957,-0.010177816695674937,0.0062970750624603625,-0.007743052399584758,-0.008048707972016251,-0.02327292243982779,-0.0012428626740360242,0.0017448117524182947,-0.029593641573747106,-0.012607724110368068,-0.004694779413550126,-0.03644814167790173,0.0028095280323036788,0.011103158707338986,0.004237833126274527,0.015261932407534356,0.0026618952748168347,-0.00598543605356219,-0.004005575140069981,-0.01951628635478707,0.0013823359374594006,-0.003809556283720806,0.0,-0.00017151412846914957,0.018710876148059795,0.004187002878620503,0.014111376217240179,0.007904867495531678,-0.006019021544494342,0.004226684580807297,-0.012415173139170926,-0.015467750209947027,-0.0019310334500454805,-0.04054046590775574,-0.030960840444026458,-0.007712838576765705,0.005756039143088373,-0.01417547975367279,-0.004661899253338775,0.005154556005188036,0.007850422916931945,0.007637645325592587,0.006857573981215671,-0.002170041632918911,0.029315087607747297,-0.0033457320501622478,0.013548414927038975,-0.0013059567988307447,0.008386399643745851],\"type\":\"scatter\",\"xaxis\":\"x2\",\"yaxis\":\"y2\"}],                        {\"template\":{\"data\":{\"barpolar\":[{\"marker\":{\"line\":{\"color\":\"rgb(17,17,17)\",\"width\":0.5},\"pattern\":{\"fillmode\":\"overlay\",\"size\":10,\"solidity\":0.2}},\"type\":\"barpolar\"}],\"bar\":[{\"error_x\":{\"color\":\"#f2f5fa\"},\"error_y\":{\"color\":\"#f2f5fa\"},\"marker\":{\"line\":{\"color\":\"rgb(17,17,17)\",\"width\":0.5},\"pattern\":{\"fillmode\":\"overlay\",\"size\":10,\"solidity\":0.2}},\"type\":\"bar\"}],\"carpet\":[{\"aaxis\":{\"endlinecolor\":\"#A2B1C6\",\"gridcolor\":\"#506784\",\"linecolor\":\"#506784\",\"minorgridcolor\":\"#506784\",\"startlinecolor\":\"#A2B1C6\"},\"baxis\":{\"endlinecolor\":\"#A2B1C6\",\"gridcolor\":\"#506784\",\"linecolor\":\"#506784\",\"minorgridcolor\":\"#506784\",\"startlinecolor\":\"#A2B1C6\"},\"type\":\"carpet\"}],\"choropleth\":[{\"colorbar\":{\"outlinewidth\":0,\"ticks\":\"\"},\"type\":\"choropleth\"}],\"contourcarpet\":[{\"colorbar\":{\"outlinewidth\":0,\"ticks\":\"\"},\"type\":\"contourcarpet\"}],\"contour\":[{\"colorbar\":{\"outlinewidth\":0,\"ticks\":\"\"},\"colorscale\":[[0.0,\"#0d0887\"],[0.1111111111111111,\"#46039f\"],[0.2222222222222222,\"#7201a8\"],[0.3333333333333333,\"#9c179e\"],[0.4444444444444444,\"#bd3786\"],[0.5555555555555556,\"#d8576b\"],[0.6666666666666666,\"#ed7953\"],[0.7777777777777778,\"#fb9f3a\"],[0.8888888888888888,\"#fdca26\"],[1.0,\"#f0f921\"]],\"type\":\"contour\"}],\"heatmapgl\":[{\"colorbar\":{\"outlinewidth\":0,\"ticks\":\"\"},\"colorscale\":[[0.0,\"#0d0887\"],[0.1111111111111111,\"#46039f\"],[0.2222222222222222,\"#7201a8\"],[0.3333333333333333,\"#9c179e\"],[0.4444444444444444,\"#bd3786\"],[0.5555555555555556,\"#d8576b\"],[0.6666666666666666,\"#ed7953\"],[0.7777777777777778,\"#fb9f3a\"],[0.8888888888888888,\"#fdca26\"],[1.0,\"#f0f921\"]],\"type\":\"heatmapgl\"}],\"heatmap\":[{\"colorbar\":{\"outlinewidth\":0,\"ticks\":\"\"},\"colorscale\":[[0.0,\"#0d0887\"],[0.1111111111111111,\"#46039f\"],[0.2222222222222222,\"#7201a8\"],[0.3333333333333333,\"#9c179e\"],[0.4444444444444444,\"#bd3786\"],[0.5555555555555556,\"#d8576b\"],[0.6666666666666666,\"#ed7953\"],[0.7777777777777778,\"#fb9f3a\"],[0.8888888888888888,\"#fdca26\"],[1.0,\"#f0f921\"]],\"type\":\"heatmap\"}],\"histogram2dcontour\":[{\"colorbar\":{\"outlinewidth\":0,\"ticks\":\"\"},\"colorscale\":[[0.0,\"#0d0887\"],[0.1111111111111111,\"#46039f\"],[0.2222222222222222,\"#7201a8\"],[0.3333333333333333,\"#9c179e\"],[0.4444444444444444,\"#bd3786\"],[0.5555555555555556,\"#d8576b\"],[0.6666666666666666,\"#ed7953\"],[0.7777777777777778,\"#fb9f3a\"],[0.8888888888888888,\"#fdca26\"],[1.0,\"#f0f921\"]],\"type\":\"histogram2dcontour\"}],\"histogram2d\":[{\"colorbar\":{\"outlinewidth\":0,\"ticks\":\"\"},\"colorscale\":[[0.0,\"#0d0887\"],[0.1111111111111111,\"#46039f\"],[0.2222222222222222,\"#7201a8\"],[0.3333333333333333,\"#9c179e\"],[0.4444444444444444,\"#bd3786\"],[0.5555555555555556,\"#d8576b\"],[0.6666666666666666,\"#ed7953\"],[0.7777777777777778,\"#fb9f3a\"],[0.8888888888888888,\"#fdca26\"],[1.0,\"#f0f921\"]],\"type\":\"histogram2d\"}],\"histogram\":[{\"marker\":{\"pattern\":{\"fillmode\":\"overlay\",\"size\":10,\"solidity\":0.2}},\"type\":\"histogram\"}],\"mesh3d\":[{\"colorbar\":{\"outlinewidth\":0,\"ticks\":\"\"},\"type\":\"mesh3d\"}],\"parcoords\":[{\"line\":{\"colorbar\":{\"outlinewidth\":0,\"ticks\":\"\"}},\"type\":\"parcoords\"}],\"pie\":[{\"automargin\":true,\"type\":\"pie\"}],\"scatter3d\":[{\"line\":{\"colorbar\":{\"outlinewidth\":0,\"ticks\":\"\"}},\"marker\":{\"colorbar\":{\"outlinewidth\":0,\"ticks\":\"\"}},\"type\":\"scatter3d\"}],\"scattercarpet\":[{\"marker\":{\"colorbar\":{\"outlinewidth\":0,\"ticks\":\"\"}},\"type\":\"scattercarpet\"}],\"scattergeo\":[{\"marker\":{\"colorbar\":{\"outlinewidth\":0,\"ticks\":\"\"}},\"type\":\"scattergeo\"}],\"scattergl\":[{\"marker\":{\"line\":{\"color\":\"#283442\"}},\"type\":\"scattergl\"}],\"scattermapbox\":[{\"marker\":{\"colorbar\":{\"outlinewidth\":0,\"ticks\":\"\"}},\"type\":\"scattermapbox\"}],\"scatterpolargl\":[{\"marker\":{\"colorbar\":{\"outlinewidth\":0,\"ticks\":\"\"}},\"type\":\"scatterpolargl\"}],\"scatterpolar\":[{\"marker\":{\"colorbar\":{\"outlinewidth\":0,\"ticks\":\"\"}},\"type\":\"scatterpolar\"}],\"scatter\":[{\"marker\":{\"line\":{\"color\":\"#283442\"}},\"type\":\"scatter\"}],\"scatterternary\":[{\"marker\":{\"colorbar\":{\"outlinewidth\":0,\"ticks\":\"\"}},\"type\":\"scatterternary\"}],\"surface\":[{\"colorbar\":{\"outlinewidth\":0,\"ticks\":\"\"},\"colorscale\":[[0.0,\"#0d0887\"],[0.1111111111111111,\"#46039f\"],[0.2222222222222222,\"#7201a8\"],[0.3333333333333333,\"#9c179e\"],[0.4444444444444444,\"#bd3786\"],[0.5555555555555556,\"#d8576b\"],[0.6666666666666666,\"#ed7953\"],[0.7777777777777778,\"#fb9f3a\"],[0.8888888888888888,\"#fdca26\"],[1.0,\"#f0f921\"]],\"type\":\"surface\"}],\"table\":[{\"cells\":{\"fill\":{\"color\":\"#506784\"},\"line\":{\"color\":\"rgb(17,17,17)\"}},\"header\":{\"fill\":{\"color\":\"#2a3f5f\"},\"line\":{\"color\":\"rgb(17,17,17)\"}},\"type\":\"table\"}]},\"layout\":{\"annotationdefaults\":{\"arrowcolor\":\"#f2f5fa\",\"arrowhead\":0,\"arrowwidth\":1},\"autotypenumbers\":\"strict\",\"coloraxis\":{\"colorbar\":{\"outlinewidth\":0,\"ticks\":\"\"}},\"colorscale\":{\"diverging\":[[0,\"#8e0152\"],[0.1,\"#c51b7d\"],[0.2,\"#de77ae\"],[0.3,\"#f1b6da\"],[0.4,\"#fde0ef\"],[0.5,\"#f7f7f7\"],[0.6,\"#e6f5d0\"],[0.7,\"#b8e186\"],[0.8,\"#7fbc41\"],[0.9,\"#4d9221\"],[1,\"#276419\"]],\"sequential\":[[0.0,\"#0d0887\"],[0.1111111111111111,\"#46039f\"],[0.2222222222222222,\"#7201a8\"],[0.3333333333333333,\"#9c179e\"],[0.4444444444444444,\"#bd3786\"],[0.5555555555555556,\"#d8576b\"],[0.6666666666666666,\"#ed7953\"],[0.7777777777777778,\"#fb9f3a\"],[0.8888888888888888,\"#fdca26\"],[1.0,\"#f0f921\"]],\"sequentialminus\":[[0.0,\"#0d0887\"],[0.1111111111111111,\"#46039f\"],[0.2222222222222222,\"#7201a8\"],[0.3333333333333333,\"#9c179e\"],[0.4444444444444444,\"#bd3786\"],[0.5555555555555556,\"#d8576b\"],[0.6666666666666666,\"#ed7953\"],[0.7777777777777778,\"#fb9f3a\"],[0.8888888888888888,\"#fdca26\"],[1.0,\"#f0f921\"]]},\"colorway\":[\"#636efa\",\"#EF553B\",\"#00cc96\",\"#ab63fa\",\"#FFA15A\",\"#19d3f3\",\"#FF6692\",\"#B6E880\",\"#FF97FF\",\"#FECB52\"],\"font\":{\"color\":\"#f2f5fa\"},\"geo\":{\"bgcolor\":\"rgb(17,17,17)\",\"lakecolor\":\"rgb(17,17,17)\",\"landcolor\":\"rgb(17,17,17)\",\"showlakes\":true,\"showland\":true,\"subunitcolor\":\"#506784\"},\"hoverlabel\":{\"align\":\"left\"},\"hovermode\":\"closest\",\"mapbox\":{\"style\":\"dark\"},\"paper_bgcolor\":\"rgb(17,17,17)\",\"plot_bgcolor\":\"rgb(17,17,17)\",\"polar\":{\"angularaxis\":{\"gridcolor\":\"#506784\",\"linecolor\":\"#506784\",\"ticks\":\"\"},\"bgcolor\":\"rgb(17,17,17)\",\"radialaxis\":{\"gridcolor\":\"#506784\",\"linecolor\":\"#506784\",\"ticks\":\"\"}},\"scene\":{\"xaxis\":{\"backgroundcolor\":\"rgb(17,17,17)\",\"gridcolor\":\"#506784\",\"gridwidth\":2,\"linecolor\":\"#506784\",\"showbackground\":true,\"ticks\":\"\",\"zerolinecolor\":\"#C8D4E3\"},\"yaxis\":{\"backgroundcolor\":\"rgb(17,17,17)\",\"gridcolor\":\"#506784\",\"gridwidth\":2,\"linecolor\":\"#506784\",\"showbackground\":true,\"ticks\":\"\",\"zerolinecolor\":\"#C8D4E3\"},\"zaxis\":{\"backgroundcolor\":\"rgb(17,17,17)\",\"gridcolor\":\"#506784\",\"gridwidth\":2,\"linecolor\":\"#506784\",\"showbackground\":true,\"ticks\":\"\",\"zerolinecolor\":\"#C8D4E3\"}},\"shapedefaults\":{\"line\":{\"color\":\"#f2f5fa\"}},\"sliderdefaults\":{\"bgcolor\":\"#C8D4E3\",\"bordercolor\":\"rgb(17,17,17)\",\"borderwidth\":1,\"tickwidth\":0},\"ternary\":{\"aaxis\":{\"gridcolor\":\"#506784\",\"linecolor\":\"#506784\",\"ticks\":\"\"},\"baxis\":{\"gridcolor\":\"#506784\",\"linecolor\":\"#506784\",\"ticks\":\"\"},\"bgcolor\":\"rgb(17,17,17)\",\"caxis\":{\"gridcolor\":\"#506784\",\"linecolor\":\"#506784\",\"ticks\":\"\"}},\"title\":{\"x\":0.05},\"updatemenudefaults\":{\"bgcolor\":\"#506784\",\"borderwidth\":0},\"xaxis\":{\"automargin\":true,\"gridcolor\":\"#283442\",\"linecolor\":\"#506784\",\"ticks\":\"\",\"title\":{\"standoff\":15},\"zerolinecolor\":\"#283442\",\"zerolinewidth\":2},\"yaxis\":{\"automargin\":true,\"gridcolor\":\"#283442\",\"linecolor\":\"#506784\",\"ticks\":\"\",\"title\":{\"standoff\":15},\"zerolinecolor\":\"#283442\",\"zerolinewidth\":2}}},\"xaxis\":{\"anchor\":\"y\",\"domain\":[0.0,0.45]},\"yaxis\":{\"anchor\":\"x\",\"domain\":[0.0,1.0]},\"xaxis2\":{\"anchor\":\"y2\",\"domain\":[0.55,1.0]},\"yaxis2\":{\"anchor\":\"x2\",\"domain\":[0.0,1.0]},\"annotations\":[{\"font\":{\"size\":16},\"showarrow\":false,\"text\":\"Simple Return\",\"x\":0.225,\"xanchor\":\"center\",\"xref\":\"paper\",\"y\":1.0,\"yanchor\":\"bottom\",\"yref\":\"paper\"},{\"font\":{\"size\":16},\"showarrow\":false,\"text\":\"Log Return\",\"x\":0.775,\"xanchor\":\"center\",\"xref\":\"paper\",\"y\":1.0,\"yanchor\":\"bottom\",\"yref\":\"paper\"}],\"title\":{\"text\":\"Problem 2\",\"x\":0.5},\"height\":500,\"showlegend\":false},                        {\"responsive\": true}                    ).then(function(){\n",
              "                            \n",
              "var gd = document.getElementById('19602143-a1f1-4ac2-909d-708a53e46382');\n",
              "var x = new MutationObserver(function (mutations, observer) {{\n",
              "        var display = window.getComputedStyle(gd).display;\n",
              "        if (!display || display === 'none') {{\n",
              "            console.log([gd, 'removed!']);\n",
              "            Plotly.purge(gd);\n",
              "            observer.disconnect();\n",
              "        }}\n",
              "}});\n",
              "\n",
              "// Listen for the removal of the full notebook cells\n",
              "var notebookContainer = gd.closest('#notebook-container');\n",
              "if (notebookContainer) {{\n",
              "    x.observe(notebookContainer, {childList: true});\n",
              "}}\n",
              "\n",
              "// Listen for the clearing of the current output cell\n",
              "var outputEl = gd.closest('.output');\n",
              "if (outputEl) {{\n",
              "    x.observe(outputEl, {childList: true});\n",
              "}}\n",
              "\n",
              "                        })                };                            </script>        </div>\n",
              "</body>\n",
              "</html>"
            ]
          },
          "metadata": {}
        }
      ]
    },
    {
      "cell_type": "markdown",
      "source": [
        "Volatility Estimation"
      ],
      "metadata": {
        "id": "mMnYkXs7Vpss"
      }
    },
    {
      "cell_type": "code",
      "source": [
        "\n",
        "\n",
        "# Calculate 14-day rolling standard deviation of daily returns\n",
        "df.loc[:, (nse, 'Rolling Std Dev')] = df[nse]['Daily Return'].rolling(window=14).std()\n",
        "\n",
        "# --- Plot 1: Rolling Standard Deviation Line Chart ---\n",
        "fig1 = px.line(\n",
        "    df,\n",
        "    x=df.index,\n",
        "    y=df[nse]['Rolling Std Dev'],\n",
        "    title='Rolling 14-Day Standard Deviation'\n",
        ")\n",
        "fig1.update_layout(\n",
        "    xaxis_title='Date',\n",
        "    yaxis_title='Standard Deviation',\n",
        "    template='plotly_dark'\n",
        ")\n",
        "fig1.show()\n",
        "\n",
        "# --- Plot 2: Candlestick Chart for Price ---\n",
        "fig2 = go.Figure(data=[\n",
        "    go.Candlestick(\n",
        "        x=df.index,\n",
        "        open=df[nse]['Open'],\n",
        "        high=df[nse]['High'],\n",
        "        low=df[nse]['Low'],\n",
        "        close=df[nse]['Close'],\n",
        "        name='Price'\n",
        "    )\n",
        "])\n",
        "fig2.update_layout(\n",
        "    title=f'Candlestick Chart - {nse}',\n",
        "    xaxis_title='Date',\n",
        "    yaxis_title='Price',\n",
        "    template='plotly_dark'\n",
        ")\n",
        "fig2.show()\n"
      ],
      "metadata": {
        "colab": {
          "base_uri": "https://localhost:8080/",
          "height": 1000
        },
        "id": "bZrEDBQ-OINL",
        "outputId": "68b4f280-5dab-4c23-8ceb-d9df654dc877"
      },
      "execution_count": 25,
      "outputs": [
        {
          "output_type": "display_data",
          "data": {
            "text/html": [
              "<html>\n",
              "<head><meta charset=\"utf-8\" /></head>\n",
              "<body>\n",
              "    <div>            <script src=\"https://cdnjs.cloudflare.com/ajax/libs/mathjax/2.7.5/MathJax.js?config=TeX-AMS-MML_SVG\"></script><script type=\"text/javascript\">if (window.MathJax && window.MathJax.Hub && window.MathJax.Hub.Config) {window.MathJax.Hub.Config({SVG: {font: \"STIX-Web\"}});}</script>                <script type=\"text/javascript\">window.PlotlyConfig = {MathJaxConfig: 'local'};</script>\n",
              "        <script charset=\"utf-8\" src=\"https://cdn.plot.ly/plotly-2.35.2.min.js\"></script>                <div id=\"d20fa1db-2fd1-41d4-8512-04d133018e02\" class=\"plotly-graph-div\" style=\"height:525px; width:100%;\"></div>            <script type=\"text/javascript\">                                    window.PLOTLYENV=window.PLOTLYENV || {};                                    if (document.getElementById(\"d20fa1db-2fd1-41d4-8512-04d133018e02\")) {                    Plotly.newPlot(                        \"d20fa1db-2fd1-41d4-8512-04d133018e02\",                        [{\"hovertemplate\":\"Date=%{x}\\u003cbr\\u003ey=%{y}\\u003cextra\\u003e\\u003c\\u002fextra\\u003e\",\"legendgroup\":\"\",\"line\":{\"color\":\"#636efa\",\"dash\":\"solid\"},\"marker\":{\"symbol\":\"circle\"},\"mode\":\"lines\",\"name\":\"\",\"orientation\":\"v\",\"showlegend\":false,\"x\":[\"2024-04-01T00:00:00\",\"2024-04-02T00:00:00\",\"2024-04-03T00:00:00\",\"2024-04-04T00:00:00\",\"2024-04-05T00:00:00\",\"2024-04-08T00:00:00\",\"2024-04-09T00:00:00\",\"2024-04-10T00:00:00\",\"2024-04-12T00:00:00\",\"2024-04-15T00:00:00\",\"2024-04-16T00:00:00\",\"2024-04-18T00:00:00\",\"2024-04-19T00:00:00\",\"2024-04-22T00:00:00\",\"2024-04-23T00:00:00\",\"2024-04-24T00:00:00\",\"2024-04-25T00:00:00\",\"2024-04-26T00:00:00\",\"2024-04-29T00:00:00\",\"2024-04-30T00:00:00\",\"2024-05-02T00:00:00\",\"2024-05-03T00:00:00\",\"2024-05-06T00:00:00\",\"2024-05-07T00:00:00\",\"2024-05-08T00:00:00\",\"2024-05-09T00:00:00\",\"2024-05-10T00:00:00\",\"2024-05-13T00:00:00\",\"2024-05-14T00:00:00\",\"2024-05-15T00:00:00\",\"2024-05-16T00:00:00\",\"2024-05-17T00:00:00\",\"2024-05-21T00:00:00\",\"2024-05-22T00:00:00\",\"2024-05-23T00:00:00\",\"2024-05-24T00:00:00\",\"2024-05-27T00:00:00\",\"2024-05-28T00:00:00\",\"2024-05-29T00:00:00\",\"2024-05-30T00:00:00\",\"2024-05-31T00:00:00\",\"2024-06-03T00:00:00\",\"2024-06-04T00:00:00\",\"2024-06-05T00:00:00\",\"2024-06-06T00:00:00\",\"2024-06-07T00:00:00\",\"2024-06-10T00:00:00\",\"2024-06-11T00:00:00\",\"2024-06-12T00:00:00\",\"2024-06-13T00:00:00\",\"2024-06-14T00:00:00\",\"2024-06-18T00:00:00\",\"2024-06-19T00:00:00\",\"2024-06-20T00:00:00\",\"2024-06-21T00:00:00\",\"2024-06-24T00:00:00\",\"2024-06-25T00:00:00\",\"2024-06-26T00:00:00\",\"2024-06-27T00:00:00\",\"2024-06-28T00:00:00\",\"2024-07-01T00:00:00\",\"2024-07-02T00:00:00\",\"2024-07-03T00:00:00\",\"2024-07-04T00:00:00\",\"2024-07-05T00:00:00\",\"2024-07-08T00:00:00\",\"2024-07-09T00:00:00\",\"2024-07-10T00:00:00\",\"2024-07-11T00:00:00\",\"2024-07-12T00:00:00\",\"2024-07-15T00:00:00\",\"2024-07-16T00:00:00\",\"2024-07-18T00:00:00\",\"2024-07-19T00:00:00\",\"2024-07-22T00:00:00\",\"2024-07-23T00:00:00\",\"2024-07-24T00:00:00\",\"2024-07-25T00:00:00\",\"2024-07-26T00:00:00\",\"2024-07-29T00:00:00\",\"2024-07-30T00:00:00\",\"2024-07-31T00:00:00\",\"2024-08-01T00:00:00\",\"2024-08-02T00:00:00\",\"2024-08-05T00:00:00\",\"2024-08-06T00:00:00\",\"2024-08-07T00:00:00\",\"2024-08-08T00:00:00\",\"2024-08-09T00:00:00\",\"2024-08-12T00:00:00\",\"2024-08-13T00:00:00\",\"2024-08-14T00:00:00\",\"2024-08-16T00:00:00\",\"2024-08-19T00:00:00\",\"2024-08-20T00:00:00\",\"2024-08-21T00:00:00\",\"2024-08-22T00:00:00\",\"2024-08-23T00:00:00\",\"2024-08-26T00:00:00\",\"2024-08-27T00:00:00\",\"2024-08-28T00:00:00\",\"2024-08-29T00:00:00\",\"2024-08-30T00:00:00\",\"2024-09-02T00:00:00\",\"2024-09-03T00:00:00\",\"2024-09-04T00:00:00\",\"2024-09-05T00:00:00\",\"2024-09-06T00:00:00\",\"2024-09-09T00:00:00\",\"2024-09-10T00:00:00\",\"2024-09-11T00:00:00\",\"2024-09-12T00:00:00\",\"2024-09-13T00:00:00\",\"2024-09-16T00:00:00\",\"2024-09-17T00:00:00\",\"2024-09-18T00:00:00\",\"2024-09-19T00:00:00\",\"2024-09-20T00:00:00\",\"2024-09-23T00:00:00\",\"2024-09-24T00:00:00\",\"2024-09-25T00:00:00\",\"2024-09-26T00:00:00\",\"2024-09-27T00:00:00\",\"2024-09-30T00:00:00\",\"2024-10-01T00:00:00\",\"2024-10-03T00:00:00\",\"2024-10-04T00:00:00\",\"2024-10-07T00:00:00\",\"2024-10-08T00:00:00\",\"2024-10-09T00:00:00\",\"2024-10-10T00:00:00\",\"2024-10-11T00:00:00\",\"2024-10-14T00:00:00\",\"2024-10-15T00:00:00\",\"2024-10-16T00:00:00\",\"2024-10-17T00:00:00\",\"2024-10-18T00:00:00\",\"2024-10-21T00:00:00\",\"2024-10-22T00:00:00\",\"2024-10-23T00:00:00\",\"2024-10-24T00:00:00\",\"2024-10-25T00:00:00\",\"2024-10-28T00:00:00\",\"2024-10-29T00:00:00\",\"2024-10-30T00:00:00\",\"2024-10-31T00:00:00\",\"2024-11-01T00:00:00\",\"2024-11-04T00:00:00\",\"2024-11-05T00:00:00\",\"2024-11-06T00:00:00\",\"2024-11-07T00:00:00\",\"2024-11-08T00:00:00\",\"2024-11-11T00:00:00\",\"2024-11-12T00:00:00\",\"2024-11-13T00:00:00\",\"2024-11-14T00:00:00\",\"2024-11-18T00:00:00\",\"2024-11-19T00:00:00\",\"2024-11-21T00:00:00\",\"2024-11-22T00:00:00\",\"2024-11-25T00:00:00\",\"2024-11-26T00:00:00\",\"2024-11-27T00:00:00\",\"2024-11-28T00:00:00\",\"2024-11-29T00:00:00\",\"2024-12-02T00:00:00\",\"2024-12-03T00:00:00\",\"2024-12-04T00:00:00\",\"2024-12-05T00:00:00\",\"2024-12-06T00:00:00\",\"2024-12-09T00:00:00\",\"2024-12-10T00:00:00\",\"2024-12-11T00:00:00\",\"2024-12-12T00:00:00\",\"2024-12-13T00:00:00\",\"2024-12-16T00:00:00\",\"2024-12-17T00:00:00\",\"2024-12-18T00:00:00\",\"2024-12-19T00:00:00\",\"2024-12-20T00:00:00\",\"2024-12-23T00:00:00\",\"2024-12-24T00:00:00\",\"2024-12-26T00:00:00\",\"2024-12-27T00:00:00\",\"2024-12-30T00:00:00\",\"2024-12-31T00:00:00\",\"2025-01-01T00:00:00\",\"2025-01-02T00:00:00\",\"2025-01-03T00:00:00\",\"2025-01-06T00:00:00\",\"2025-01-07T00:00:00\",\"2025-01-08T00:00:00\",\"2025-01-09T00:00:00\",\"2025-01-10T00:00:00\",\"2025-01-13T00:00:00\",\"2025-01-14T00:00:00\",\"2025-01-15T00:00:00\",\"2025-01-16T00:00:00\",\"2025-01-17T00:00:00\",\"2025-01-20T00:00:00\",\"2025-01-21T00:00:00\",\"2025-01-22T00:00:00\",\"2025-01-23T00:00:00\",\"2025-01-24T00:00:00\",\"2025-01-27T00:00:00\",\"2025-01-28T00:00:00\",\"2025-01-29T00:00:00\",\"2025-01-30T00:00:00\",\"2025-01-31T00:00:00\",\"2025-02-01T00:00:00\",\"2025-02-03T00:00:00\",\"2025-02-04T00:00:00\",\"2025-02-05T00:00:00\",\"2025-02-06T00:00:00\",\"2025-02-07T00:00:00\",\"2025-02-10T00:00:00\",\"2025-02-11T00:00:00\",\"2025-02-12T00:00:00\",\"2025-02-13T00:00:00\",\"2025-02-14T00:00:00\",\"2025-02-17T00:00:00\",\"2025-02-18T00:00:00\",\"2025-02-19T00:00:00\",\"2025-02-20T00:00:00\",\"2025-02-21T00:00:00\",\"2025-02-24T00:00:00\",\"2025-02-25T00:00:00\",\"2025-02-27T00:00:00\",\"2025-02-28T00:00:00\",\"2025-03-03T00:00:00\",\"2025-03-04T00:00:00\",\"2025-03-05T00:00:00\",\"2025-03-06T00:00:00\",\"2025-03-07T00:00:00\",\"2025-03-10T00:00:00\",\"2025-03-11T00:00:00\",\"2025-03-12T00:00:00\",\"2025-03-13T00:00:00\",\"2025-03-17T00:00:00\",\"2025-03-18T00:00:00\",\"2025-03-19T00:00:00\",\"2025-03-20T00:00:00\",\"2025-03-21T00:00:00\",\"2025-03-24T00:00:00\",\"2025-03-25T00:00:00\",\"2025-03-26T00:00:00\",\"2025-03-27T00:00:00\",\"2025-03-28T00:00:00\",\"2025-04-01T00:00:00\",\"2025-04-02T00:00:00\",\"2025-04-03T00:00:00\",\"2025-04-04T00:00:00\",\"2025-04-07T00:00:00\",\"2025-04-08T00:00:00\",\"2025-04-09T00:00:00\",\"2025-04-11T00:00:00\",\"2025-04-15T00:00:00\",\"2025-04-16T00:00:00\",\"2025-04-17T00:00:00\",\"2025-04-21T00:00:00\",\"2025-04-22T00:00:00\",\"2025-04-23T00:00:00\",\"2025-04-24T00:00:00\",\"2025-04-25T00:00:00\",\"2025-04-28T00:00:00\",\"2025-04-29T00:00:00\"],\"xaxis\":\"x\",\"y\":[null,null,null,null,null,null,null,null,null,null,null,null,null,null,0.010574137745584036,0.010759658326645515,0.009765754603214985,0.008736296462078769,0.009677983357647366,0.01010235199607616,0.010680457170275173,0.010217366133236197,0.011800236386887618,0.01183506724380473,0.010650072422562882,0.010705431065155556,0.011461850559584973,0.011726715568792156,0.01225092411226265,0.011908334490278444,0.012261218852388239,0.013023952677346793,0.012597239542046817,0.012093546142783343,0.01247881342974877,0.012820133221756002,0.011526865829071913,0.010622782032364044,0.010795044256091547,0.011531957133182898,0.011594461317931393,0.011067168128506081,0.01098220634276524,0.011361230503218016,0.012564528401570142,0.01251322881590531,0.012755258216780037,0.012753270026166346,0.012000191414373758,0.012099292489667906,0.012552692502126326,0.012597300464112652,0.012367190334053835,0.01134257215285419,0.01006985018897465,0.009923804903726463,0.009964099724412355,0.009834033136144378,0.009511050687005227,0.008821082556423197,0.009690522633813484,0.009821313395986684,0.010513287555366617,0.010659400263471352,0.009936914639555745,0.00994984878823644,0.00987501850046059,0.011464133003511342,0.011418628055984467,0.02059543810937981,0.020779140253056345,0.020801900111616846,0.021714152736555307,0.021437181663329582,0.021340210184311245,0.02131336337931868,0.02071290115761573,0.020597844952606623,0.020614994520848227,0.02049933982969466,0.02055993090472105,0.01917993056768147,0.019202240571155042,0.012488836360004047,0.01508812717391004,0.015113318524832435,0.012095946031705041,0.012162706515474317,0.012840933033253935,0.012898792203009775,0.012890454605339597,0.014507096197219746,0.015921495782880796,0.016475035693631537,0.016456297932567154,0.016476998393309954,0.016877157234415144,0.015232590910969032,0.01194745922986263,0.012086264685214424,0.01211124480445148,0.011698738278074517,0.011536613192039536,0.011480922229628272,0.01157243478330747,0.010747565760607094,0.00798070107990166,0.006657048176167091,0.006255311821774343,0.007092694033355883,0.006680900044469525,0.006637800098484254,0.0062545090927810226,0.006275584036538058,0.006275366997172047,0.011328196383452942,0.011006146064061067,0.010975200671746455,0.010962387316135773,0.01097799806961201,0.011013799715422079,0.01118071999865457,0.01130998749123348,0.010532286973061378,0.010733567308330418,0.0104731236029645,0.010660587177844575,0.010930543984171743,0.010913903567700141,0.006155352104576843,0.005622384701943345,0.007296768956583746,0.007286749491442207,0.007267301631659744,0.007230178889079506,0.0071773606777663,0.0073510953975664895,0.007433739710033994,0.007815812188714778,0.008639086572573791,0.00838970022541456,0.008230082702233866,0.008789165173487629,0.00876426196236783,0.008814263463024458,0.01047128196498996,0.010633081886904523,0.010637233724331431,0.010661349423783857,0.01594729897614478,0.01589277386700834,0.015582918131388318,0.015023656518576085,0.014801157274330977,0.015144928594437168,0.015164455674160781,0.017258318059666326,0.017312818769820652,0.01745867813416981,0.01877912340541935,0.01902906188274913,0.018775564608782633,0.018986688081497234,0.01714533769700634,0.017181306147997594,0.017160246252303606,0.016954334798062725,0.017150111887121126,0.017620916424025024,0.017726462579984694,0.014559497302954012,0.014892939466419904,0.015031708667421933,0.01089424239772306,0.010232289041740452,0.010877834949608308,0.012148327944452144,0.010690069053146506,0.011757010880560028,0.013358132538933285,0.013168146772248927,0.0127102614276608,0.009844602032480547,0.009896558019273251,0.009787592788136247,0.010184629414331793,0.010468629746900687,0.011477807878520176,0.011716319571146168,0.011603686609032137,0.011316390895806973,0.012947351526926344,0.012904768671814778,0.019460299598447663,0.019440721199081586,0.01987582568921164,0.0198607819049137,0.020101663533828345,0.020133607898015674,0.019909167700287594,0.020104506360763236,0.02130098287904338,0.02062005093889418,0.020598902485333654,0.020961611823445834,0.02039759310530809,0.020114331088983438,0.012857806183232245,0.012747483197035347,0.01250853249748512,0.012411665750897026,0.01251208427054871,0.012512478724123121,0.012138912076076636,0.012343856390452504,0.008903403817142592,0.009896726787806199,0.009799138381882082,0.0086727816189247,0.008933032500950202,0.007651092691584014,0.007670257661902889,0.008887820394700412,0.008902072587289903,0.00903690179136655,0.010089684989501677,0.010092896740644236,0.009987651226773054,0.012331501362725001,0.012405073399733773,0.013394571503793523,0.013752288683591568,0.015018652982811775,0.014823447252247813,0.014815348317384153,0.014809789771686233,0.014506836319181982,0.014580588492371045,0.014453660761462695,0.012794373056780496,0.012544462433911914,0.01376266702259179,0.00943063852491845,0.009985454139346563,0.00981258891452673,0.010055150074231162,0.009312343351879662,0.009949672972106298,0.010668503308775149,0.010633949649082885,0.014201064423480764,0.016045727362807804,0.016069784926928808,0.016269363521464394,0.01642976304317512,0.014913150042019603,0.014970683327288964,0.01437152889467837,0.014349828317698942,0.014840792554518763,0.01458657674537227,0.017417178881745328,0.01709648815133305,0.01766323357300547,0.013903365881920872,0.010647416311362125],\"yaxis\":\"y\",\"type\":\"scatter\"}],                        {\"template\":{\"data\":{\"barpolar\":[{\"marker\":{\"line\":{\"color\":\"rgb(17,17,17)\",\"width\":0.5},\"pattern\":{\"fillmode\":\"overlay\",\"size\":10,\"solidity\":0.2}},\"type\":\"barpolar\"}],\"bar\":[{\"error_x\":{\"color\":\"#f2f5fa\"},\"error_y\":{\"color\":\"#f2f5fa\"},\"marker\":{\"line\":{\"color\":\"rgb(17,17,17)\",\"width\":0.5},\"pattern\":{\"fillmode\":\"overlay\",\"size\":10,\"solidity\":0.2}},\"type\":\"bar\"}],\"carpet\":[{\"aaxis\":{\"endlinecolor\":\"#A2B1C6\",\"gridcolor\":\"#506784\",\"linecolor\":\"#506784\",\"minorgridcolor\":\"#506784\",\"startlinecolor\":\"#A2B1C6\"},\"baxis\":{\"endlinecolor\":\"#A2B1C6\",\"gridcolor\":\"#506784\",\"linecolor\":\"#506784\",\"minorgridcolor\":\"#506784\",\"startlinecolor\":\"#A2B1C6\"},\"type\":\"carpet\"}],\"choropleth\":[{\"colorbar\":{\"outlinewidth\":0,\"ticks\":\"\"},\"type\":\"choropleth\"}],\"contourcarpet\":[{\"colorbar\":{\"outlinewidth\":0,\"ticks\":\"\"},\"type\":\"contourcarpet\"}],\"contour\":[{\"colorbar\":{\"outlinewidth\":0,\"ticks\":\"\"},\"colorscale\":[[0.0,\"#0d0887\"],[0.1111111111111111,\"#46039f\"],[0.2222222222222222,\"#7201a8\"],[0.3333333333333333,\"#9c179e\"],[0.4444444444444444,\"#bd3786\"],[0.5555555555555556,\"#d8576b\"],[0.6666666666666666,\"#ed7953\"],[0.7777777777777778,\"#fb9f3a\"],[0.8888888888888888,\"#fdca26\"],[1.0,\"#f0f921\"]],\"type\":\"contour\"}],\"heatmapgl\":[{\"colorbar\":{\"outlinewidth\":0,\"ticks\":\"\"},\"colorscale\":[[0.0,\"#0d0887\"],[0.1111111111111111,\"#46039f\"],[0.2222222222222222,\"#7201a8\"],[0.3333333333333333,\"#9c179e\"],[0.4444444444444444,\"#bd3786\"],[0.5555555555555556,\"#d8576b\"],[0.6666666666666666,\"#ed7953\"],[0.7777777777777778,\"#fb9f3a\"],[0.8888888888888888,\"#fdca26\"],[1.0,\"#f0f921\"]],\"type\":\"heatmapgl\"}],\"heatmap\":[{\"colorbar\":{\"outlinewidth\":0,\"ticks\":\"\"},\"colorscale\":[[0.0,\"#0d0887\"],[0.1111111111111111,\"#46039f\"],[0.2222222222222222,\"#7201a8\"],[0.3333333333333333,\"#9c179e\"],[0.4444444444444444,\"#bd3786\"],[0.5555555555555556,\"#d8576b\"],[0.6666666666666666,\"#ed7953\"],[0.7777777777777778,\"#fb9f3a\"],[0.8888888888888888,\"#fdca26\"],[1.0,\"#f0f921\"]],\"type\":\"heatmap\"}],\"histogram2dcontour\":[{\"colorbar\":{\"outlinewidth\":0,\"ticks\":\"\"},\"colorscale\":[[0.0,\"#0d0887\"],[0.1111111111111111,\"#46039f\"],[0.2222222222222222,\"#7201a8\"],[0.3333333333333333,\"#9c179e\"],[0.4444444444444444,\"#bd3786\"],[0.5555555555555556,\"#d8576b\"],[0.6666666666666666,\"#ed7953\"],[0.7777777777777778,\"#fb9f3a\"],[0.8888888888888888,\"#fdca26\"],[1.0,\"#f0f921\"]],\"type\":\"histogram2dcontour\"}],\"histogram2d\":[{\"colorbar\":{\"outlinewidth\":0,\"ticks\":\"\"},\"colorscale\":[[0.0,\"#0d0887\"],[0.1111111111111111,\"#46039f\"],[0.2222222222222222,\"#7201a8\"],[0.3333333333333333,\"#9c179e\"],[0.4444444444444444,\"#bd3786\"],[0.5555555555555556,\"#d8576b\"],[0.6666666666666666,\"#ed7953\"],[0.7777777777777778,\"#fb9f3a\"],[0.8888888888888888,\"#fdca26\"],[1.0,\"#f0f921\"]],\"type\":\"histogram2d\"}],\"histogram\":[{\"marker\":{\"pattern\":{\"fillmode\":\"overlay\",\"size\":10,\"solidity\":0.2}},\"type\":\"histogram\"}],\"mesh3d\":[{\"colorbar\":{\"outlinewidth\":0,\"ticks\":\"\"},\"type\":\"mesh3d\"}],\"parcoords\":[{\"line\":{\"colorbar\":{\"outlinewidth\":0,\"ticks\":\"\"}},\"type\":\"parcoords\"}],\"pie\":[{\"automargin\":true,\"type\":\"pie\"}],\"scatter3d\":[{\"line\":{\"colorbar\":{\"outlinewidth\":0,\"ticks\":\"\"}},\"marker\":{\"colorbar\":{\"outlinewidth\":0,\"ticks\":\"\"}},\"type\":\"scatter3d\"}],\"scattercarpet\":[{\"marker\":{\"colorbar\":{\"outlinewidth\":0,\"ticks\":\"\"}},\"type\":\"scattercarpet\"}],\"scattergeo\":[{\"marker\":{\"colorbar\":{\"outlinewidth\":0,\"ticks\":\"\"}},\"type\":\"scattergeo\"}],\"scattergl\":[{\"marker\":{\"line\":{\"color\":\"#283442\"}},\"type\":\"scattergl\"}],\"scattermapbox\":[{\"marker\":{\"colorbar\":{\"outlinewidth\":0,\"ticks\":\"\"}},\"type\":\"scattermapbox\"}],\"scatterpolargl\":[{\"marker\":{\"colorbar\":{\"outlinewidth\":0,\"ticks\":\"\"}},\"type\":\"scatterpolargl\"}],\"scatterpolar\":[{\"marker\":{\"colorbar\":{\"outlinewidth\":0,\"ticks\":\"\"}},\"type\":\"scatterpolar\"}],\"scatter\":[{\"marker\":{\"line\":{\"color\":\"#283442\"}},\"type\":\"scatter\"}],\"scatterternary\":[{\"marker\":{\"colorbar\":{\"outlinewidth\":0,\"ticks\":\"\"}},\"type\":\"scatterternary\"}],\"surface\":[{\"colorbar\":{\"outlinewidth\":0,\"ticks\":\"\"},\"colorscale\":[[0.0,\"#0d0887\"],[0.1111111111111111,\"#46039f\"],[0.2222222222222222,\"#7201a8\"],[0.3333333333333333,\"#9c179e\"],[0.4444444444444444,\"#bd3786\"],[0.5555555555555556,\"#d8576b\"],[0.6666666666666666,\"#ed7953\"],[0.7777777777777778,\"#fb9f3a\"],[0.8888888888888888,\"#fdca26\"],[1.0,\"#f0f921\"]],\"type\":\"surface\"}],\"table\":[{\"cells\":{\"fill\":{\"color\":\"#506784\"},\"line\":{\"color\":\"rgb(17,17,17)\"}},\"header\":{\"fill\":{\"color\":\"#2a3f5f\"},\"line\":{\"color\":\"rgb(17,17,17)\"}},\"type\":\"table\"}]},\"layout\":{\"annotationdefaults\":{\"arrowcolor\":\"#f2f5fa\",\"arrowhead\":0,\"arrowwidth\":1},\"autotypenumbers\":\"strict\",\"coloraxis\":{\"colorbar\":{\"outlinewidth\":0,\"ticks\":\"\"}},\"colorscale\":{\"diverging\":[[0,\"#8e0152\"],[0.1,\"#c51b7d\"],[0.2,\"#de77ae\"],[0.3,\"#f1b6da\"],[0.4,\"#fde0ef\"],[0.5,\"#f7f7f7\"],[0.6,\"#e6f5d0\"],[0.7,\"#b8e186\"],[0.8,\"#7fbc41\"],[0.9,\"#4d9221\"],[1,\"#276419\"]],\"sequential\":[[0.0,\"#0d0887\"],[0.1111111111111111,\"#46039f\"],[0.2222222222222222,\"#7201a8\"],[0.3333333333333333,\"#9c179e\"],[0.4444444444444444,\"#bd3786\"],[0.5555555555555556,\"#d8576b\"],[0.6666666666666666,\"#ed7953\"],[0.7777777777777778,\"#fb9f3a\"],[0.8888888888888888,\"#fdca26\"],[1.0,\"#f0f921\"]],\"sequentialminus\":[[0.0,\"#0d0887\"],[0.1111111111111111,\"#46039f\"],[0.2222222222222222,\"#7201a8\"],[0.3333333333333333,\"#9c179e\"],[0.4444444444444444,\"#bd3786\"],[0.5555555555555556,\"#d8576b\"],[0.6666666666666666,\"#ed7953\"],[0.7777777777777778,\"#fb9f3a\"],[0.8888888888888888,\"#fdca26\"],[1.0,\"#f0f921\"]]},\"colorway\":[\"#636efa\",\"#EF553B\",\"#00cc96\",\"#ab63fa\",\"#FFA15A\",\"#19d3f3\",\"#FF6692\",\"#B6E880\",\"#FF97FF\",\"#FECB52\"],\"font\":{\"color\":\"#f2f5fa\"},\"geo\":{\"bgcolor\":\"rgb(17,17,17)\",\"lakecolor\":\"rgb(17,17,17)\",\"landcolor\":\"rgb(17,17,17)\",\"showlakes\":true,\"showland\":true,\"subunitcolor\":\"#506784\"},\"hoverlabel\":{\"align\":\"left\"},\"hovermode\":\"closest\",\"mapbox\":{\"style\":\"dark\"},\"paper_bgcolor\":\"rgb(17,17,17)\",\"plot_bgcolor\":\"rgb(17,17,17)\",\"polar\":{\"angularaxis\":{\"gridcolor\":\"#506784\",\"linecolor\":\"#506784\",\"ticks\":\"\"},\"bgcolor\":\"rgb(17,17,17)\",\"radialaxis\":{\"gridcolor\":\"#506784\",\"linecolor\":\"#506784\",\"ticks\":\"\"}},\"scene\":{\"xaxis\":{\"backgroundcolor\":\"rgb(17,17,17)\",\"gridcolor\":\"#506784\",\"gridwidth\":2,\"linecolor\":\"#506784\",\"showbackground\":true,\"ticks\":\"\",\"zerolinecolor\":\"#C8D4E3\"},\"yaxis\":{\"backgroundcolor\":\"rgb(17,17,17)\",\"gridcolor\":\"#506784\",\"gridwidth\":2,\"linecolor\":\"#506784\",\"showbackground\":true,\"ticks\":\"\",\"zerolinecolor\":\"#C8D4E3\"},\"zaxis\":{\"backgroundcolor\":\"rgb(17,17,17)\",\"gridcolor\":\"#506784\",\"gridwidth\":2,\"linecolor\":\"#506784\",\"showbackground\":true,\"ticks\":\"\",\"zerolinecolor\":\"#C8D4E3\"}},\"shapedefaults\":{\"line\":{\"color\":\"#f2f5fa\"}},\"sliderdefaults\":{\"bgcolor\":\"#C8D4E3\",\"bordercolor\":\"rgb(17,17,17)\",\"borderwidth\":1,\"tickwidth\":0},\"ternary\":{\"aaxis\":{\"gridcolor\":\"#506784\",\"linecolor\":\"#506784\",\"ticks\":\"\"},\"baxis\":{\"gridcolor\":\"#506784\",\"linecolor\":\"#506784\",\"ticks\":\"\"},\"bgcolor\":\"rgb(17,17,17)\",\"caxis\":{\"gridcolor\":\"#506784\",\"linecolor\":\"#506784\",\"ticks\":\"\"}},\"title\":{\"x\":0.05},\"updatemenudefaults\":{\"bgcolor\":\"#506784\",\"borderwidth\":0},\"xaxis\":{\"automargin\":true,\"gridcolor\":\"#283442\",\"linecolor\":\"#506784\",\"ticks\":\"\",\"title\":{\"standoff\":15},\"zerolinecolor\":\"#283442\",\"zerolinewidth\":2},\"yaxis\":{\"automargin\":true,\"gridcolor\":\"#283442\",\"linecolor\":\"#506784\",\"ticks\":\"\",\"title\":{\"standoff\":15},\"zerolinecolor\":\"#283442\",\"zerolinewidth\":2}}},\"xaxis\":{\"anchor\":\"y\",\"domain\":[0.0,1.0],\"title\":{\"text\":\"Date\"}},\"yaxis\":{\"anchor\":\"x\",\"domain\":[0.0,1.0],\"title\":{\"text\":\"Standard Deviation\"}},\"legend\":{\"tracegroupgap\":0},\"title\":{\"text\":\"Rolling 14-Day Standard Deviation\"}},                        {\"responsive\": true}                    ).then(function(){\n",
              "                            \n",
              "var gd = document.getElementById('d20fa1db-2fd1-41d4-8512-04d133018e02');\n",
              "var x = new MutationObserver(function (mutations, observer) {{\n",
              "        var display = window.getComputedStyle(gd).display;\n",
              "        if (!display || display === 'none') {{\n",
              "            console.log([gd, 'removed!']);\n",
              "            Plotly.purge(gd);\n",
              "            observer.disconnect();\n",
              "        }}\n",
              "}});\n",
              "\n",
              "// Listen for the removal of the full notebook cells\n",
              "var notebookContainer = gd.closest('#notebook-container');\n",
              "if (notebookContainer) {{\n",
              "    x.observe(notebookContainer, {childList: true});\n",
              "}}\n",
              "\n",
              "// Listen for the clearing of the current output cell\n",
              "var outputEl = gd.closest('.output');\n",
              "if (outputEl) {{\n",
              "    x.observe(outputEl, {childList: true});\n",
              "}}\n",
              "\n",
              "                        })                };                            </script>        </div>\n",
              "</body>\n",
              "</html>"
            ]
          },
          "metadata": {}
        },
        {
          "output_type": "display_data",
          "data": {
            "text/html": [
              "<html>\n",
              "<head><meta charset=\"utf-8\" /></head>\n",
              "<body>\n",
              "    <div>            <script src=\"https://cdnjs.cloudflare.com/ajax/libs/mathjax/2.7.5/MathJax.js?config=TeX-AMS-MML_SVG\"></script><script type=\"text/javascript\">if (window.MathJax && window.MathJax.Hub && window.MathJax.Hub.Config) {window.MathJax.Hub.Config({SVG: {font: \"STIX-Web\"}});}</script>                <script type=\"text/javascript\">window.PlotlyConfig = {MathJaxConfig: 'local'};</script>\n",
              "        <script charset=\"utf-8\" src=\"https://cdn.plot.ly/plotly-2.35.2.min.js\"></script>                <div id=\"aa02fbbc-4f1b-48e3-b68b-784a0f093fe8\" class=\"plotly-graph-div\" style=\"height:525px; width:100%;\"></div>            <script type=\"text/javascript\">                                    window.PLOTLYENV=window.PLOTLYENV || {};                                    if (document.getElementById(\"aa02fbbc-4f1b-48e3-b68b-784a0f093fe8\")) {                    Plotly.newPlot(                        \"aa02fbbc-4f1b-48e3-b68b-784a0f093fe8\",                        [{\"close\":[3809.312255859375,3777.26611328125,3839.0244140625,3893.48828125,3870.09814453125,3863.581787109375,3838.294921875,3875.349853515625,3891.64013671875,3833.091552734375,3766.567626953125,3756.064208984375,3721.246337890625,3758.5927734375,3768.41552734375,3725.96337890625,3746.532958984375,3716.529296875,3764.0390625,3715.84814453125,3757.32861328125,3737.97412109375,3813.494384765625,3869.806396484375,3867.861083984375,3851.5703125,3787.089111328125,3839.5107421875,3794.18896484375,3773.959228515625,3821.5205078125,3756.031982421875,3742.4150390625,3753.974853515625,3814.17333984375,3771.118408203125,3768.71826171875,3761.7138671875,3726.201904296875,3660.027587890625,3596.203857421875,3627.45458984375,3639.357177734375,3670.166748046875,3752.4072265625,3814.663330078125,3780.131103515625,3773.66552734375,3753.6318359375,3799.18505859375,3754.02392578125,3737.4189453125,3724.29150390625,3710.1357421875,3733.1572265625,3739.084228515625,3760.293212890625,3777.339111328125,3854.044677734375,3824.65576171875,3897.19775390625,3935.599609375,3884.511474609375,3939.077392578125,3930.11376953125,3911.892578125,3904.349365234375,3829.5537109375,3843.807373046875,4098.7587890625,4084.30908203125,4093.37060546875,4227.6787109375,4224.58544921875,4209.80810546875,4224.537109375,4228.3662109375,4244.322265625,4308.490234375,4301.86279296875,4286.3974609375,4306.03564453125,4317.5732421875,4205.5859375,4079.90087890625,4095.7587890625,4124.47998046875,4097.083984375,4152.267578125,4119.76611328125,4121.04345703125,4217.5654296875,4336.18017578125,4408.79296875,4441.490234375,4469.1806640625,4420.57568359375,4383.16455078125,4421.017578125,4415.8134765625,4424.55224609375,4430.19873046875,4471.39013671875,4439.28076171875,4430.73876953125,4398.2373046875,4394.9970703125,4376.14404296875,4369.07421875,4426.31982421875,4398.33544921875,4435.9921875,4440.8037109375,4431.6220703125,4424.15966796875,4267.54443359375,4218.44873046875,4207.40185546875,4191.298828125,4194.0478515625,4197.43603515625,4214.865234375,4230.77197265625,4191.298828125,4210.34814453125,4156.1953125,4175.3427734375,4195.57080078125,4176.32470703125,4176.03076171875,4150.9423828125,4074.156982421875,4061.833251953125,4042.34228515625,4020.8876953125,4034.68359375,4058.356201171875,4015.834228515625,3952.493896484375,4002.447509765625,3984.38525390625,3993.884033203125,4026.66162109375,4011.306396484375,4020.55859375,3906.18212890625,3921.684814453125,3901.949462890625,3909.03662109375,4074.69580078125,4085.769287109375,4081.930419921875,4132.8193359375,4131.53955078125,4085.22802734375,4080.84765625,3956.43115234375,3976.16650390625,4008.944091796875,4177.9990234375,4247.39306640625,4284.4033203125,4264.56884765625,4178.29443359375,4203.83740234375,4209.5458984375,4235.23681640625,4286.076171875,4394.00537109375,4375.74658203125,4382.29248046875,4363.0,4357.97998046875,4385.048828125,4403.701171875,4345.92236328125,4260.58251953125,4279.62890625,4204.87060546875,4104.86474609375,4093.052978515625,4113.92041015625,4103.68359375,4099.50048828125,4093.545166015625,4030.549560546875,4047.9228515625,4110.2294921875,4035.5693359375,4030.746337890625,3965.093017578125,4043.93603515625,3975.4775390625,4198.71875,4223.76953125,4166.6298828125,4182.9208984375,4140.2998046875,4124.2998046875,4077.800048828125,4035.85009765625,4156.60009765625,4145.4501953125,4152.35009765625,4065.14990234375,4040.300048828125,4099.7998046875,4100.0498046875,4112.39990234375,4073.14990234375,4068.64990234375,4107.0498046875,4091.10009765625,4082.75,4029.39990234375,4036.949951171875,3963.550048828125,3950.14990234375,3910.14990234375,3934.85009765625,3904.5,3873.199951171875,3784.10009765625,3779.39990234375,3786.0,3675.60009765625,3629.550048828125,3612.550048828125,3483.25,3493.050048828125,3532.050048828125,3547.050048828125,3601.60009765625,3611.199951171875,3589.64990234375,3575.300048828125,3506.199951171875,3511.050048828125,3497.699951171875,3497.699951171875,3497.10009765625,3563.14990234375,3578.10009765625,3628.949951171875,3657.75,3635.800048828125,3651.199951171875,3606.14990234375,3550.800048828125,3543.949951171875,3403.14990234375,3299.39990234375,3274.050048828125,3292.949951171875,3246.60009765625,3231.5,3248.199951171875,3273.800048828125,3298.89990234375,3321.60009765625,3314.39990234375,3413.0,3401.60009765625,3448.0,3443.5,3472.5],\"high\":[3825.408331390376,3802.6016005490583,3871.799965376353,3918.1427803858774,3892.224106154191,3922.0330832785467,3905.694048254169,3880.7476629694565,3903.2625340933573,3952.717622669279,3820.934173085947,3828.0343673129205,3746.8736458352478,3771.625111801444,3788.1587384759064,3791.07687601712,3767.394531605907,3770.4582389436573,3771.4306869167895,3775.2722452234852,3764.9147045184022,3786.7973077825845,3831.875856708849,3878.608200295267,3875.0095663734273,3862.0741122961813,3864.6031074267457,3846.513196599001,3837.5656695695525,3819.2323938552713,3829.8964642714295,3840.1828319751426,3766.465212644621,3763.0365099339497,3825.488211966575,3804.720056608894,3828.770148367113,3791.2010823849855,3770.5305466531386,3717.140322546408,3673.4484478197846,3675.162937939019,3668.7463339475735,3706.756343061055,3761.713792341841,3835.2847685577945,3826.369993755079,3800.9483158199455,3814.2225740099775,3810.7938708088977,3809.8142929599544,3763.7711253531625,3755.7870240522284,3732.373487303002,3798.8420325256525,3778.465647895979,3769.305838922121,3788.212954904168,3861.734935564597,3879.368670581521,3920.219258189819,3941.477440367746,3944.122571659196,3964.9399925707075,3944.759317225375,3949.167872482437,3925.362563890056,3921.786818355145,3898.9610661124757,4114.4330054282855,4153.667297454993,4109.142402353893,4236.93648604033,4279.916382656846,4241.818590319842,4282.8137917236645,4260.622174468574,4264.4514978853385,4342.464545151934,4350.860197383269,4318.456850304975,4334.167378134563,4339.3714407578755,4318.457126714295,4162.332736944009,4181.234188453704,4168.175144224216,4155.458948002559,4176.717133478339,4162.332168001852,4157.423172797769,4228.317578037032,4346.932323500371,4412.966102406389,4482.436229168461,4477.5269313687795,4478.459690688716,4424.503214207465,4469.818401872383,4428.431164573309,4479.981468869434,4473.599514554176,4509.193819455762,4505.020076011625,4473.500923144872,4405.847136492228,4417.629990620445,4437.219269128685,4409.03830092537,4457.839350275992,4467.069411676029,4450.622607300757,4464.762313187297,4463.828648356052,4453.764272150941,4415.715125527233,4342.219248359466,4252.3737899385205,4231.459004478235,4213.39174349326,4212.017551040905,4238.725549338179,4298.818403851764,4221.001718965056,4218.056263856357,4201.608822204832,4220.26532782277,4219.529403464621,4202.001656010186,4217.3200479400675,4216.19074786921,4165.229488527156,4090.0632711112576,4094.531383895366,4040.5751141050914,4055.2548785670365,4081.0938417563607,4074.991311135829,4025.628123729215,4049.0051452980897,4014.9973672208257,4027.7934387000987,4069.134469419595,4039.1131336663107,4042.55800112918,4014.308599846557,3936.203375700577,3929.2640448975253,3923.4566554269013,4084.686443814856,4139.80777036327,4104.323455140882,4167.860359857493,4151.816417459889,4130.899880816483,4094.7265129104985,4146.894998090364,4067.3133968435627,4028.236409232463,4188.186720017956,4260.189087034664,4298.085123579749,4308.71521363045,4271.853320530873,4231.250512031332,4220.914958216208,4257.137698206271,4318.115726856116,4418.564078323639,4394.940611577895,4399.271815609351,4423.288944687637,4378.847047235939,4414.6271298014035,4424.371666662094,4404.783863782896,4363.393811274363,4293.556785484744,4295.525583873814,4313.24321027579,4150.832123971284,4151.816315358072,4134.049628782047,4115.347963377728,4133.409691121346,4074.9912673216186,4069.134524093068,4117.365734495675,4114.36357856104,4084.538741733885,4075.3849175960827,4061.259974116957,4072.8256284632957,4229.576941801279,4255.119877078866,4246.211378062048,4189.663513268121,4226.62391813247,4160.60009765625,4145.7998046875,4111.0,4163.14990234375,4191.35009765625,4178.0,4156.35009765625,4102.0,4107.85009765625,4129.89990234375,4128.4501953125,4135.89990234375,4077.0,4118.85009765625,4150.0,4139.5,4090.0,4052.0,4040.0,4021.75,3984.449951171875,3948.0,3934.0,3924.39990234375,3874.949951171875,3788.0,3817.0,3763.199951171875,3658.0,3638.0,3600.0,3523.25,3551.0,3600.35009765625,3609.449951171875,3625.0,3622.10009765625,3588.75,3569.25,3524.300048828125,3530.449951171875,3497.699951171875,3547.0,3578.949951171875,3616.25,3649.75,3710.0,3680.5,3663.0,3660.949951171875,3584.0,3564.10009765625,3502.0,3399.64990234375,3291.39990234375,3349.0,3270.0,3298.949951171875,3314.39990234375,3278.10009765625,3303.60009765625,3354.0,3333.89990234375,3420.89990234375,3412.5,3477.800048828125,3457.800048828125,3495.0],\"low\":[3781.39955381263,3766.76231340809,3745.365904713473,3827.304866462404,3851.8624618749805,3851.375989955484,3817.384673734395,3810.528176426063,3837.27358778367,3811.549229426857,3756.8906068381593,3744.393372498665,3696.6402756744365,3707.435514746546,3754.7024379197587,3719.544323594792,3706.4631347461445,3698.2449391305313,3714.4380096837563,3705.4903727188716,3674.417045390118,3693.4306208015673,3747.310970665456,3806.1517532235525,3830.563177847568,3802.7960391240294,3778.4820118323983,3763.8447713876444,3786.1165886350204,3769.1937321404057,3765.240327516879,3752.0153689961217,3732.471803718336,3739.8191245663174,3747.6069538740417,3766.0243358337225,3763.134370217548,3752.015541481782,3722.6263194210433,3639.7979088533293,3579.354123272811,3620.743970313197,3518.3718179900425,3624.6625858503157,3665.317459305752,3759.1669041268424,3763.673128570854,3762.7914444244025,3749.5174019913065,3773.5676067752893,3750.0563418489855,3717.7771455099964,3715.7196673389967,3703.0823931387763,3720.715866070661,3714.103447073741,3715.670633038322,3762.7913842995013,3740.357822070456,3818.484230169389,3804.915856909854,3901.4593511938683,3874.470180210599,3901.0185802211668,3906.798325472104,3897.051149881357,3894.1612201799726,3822.5493913955625,3816.279675855698,3890.4385136742408,4072.4060914203146,4060.5034474020554,4075.296134549774,4207.745724985431,4187.862236778732,4189.13882773974,4190.9062961576155,4196.896022372138,4258.608729472141,4291.945367357768,4249.035353541636,4266.415328045917,4286.102617400063,4192.772153494779,4036.156809438158,4085.546502593992,4104.694033994683,4084.7611587170704,4129.486988399369,4110.634507665087,4107.345567268085,4112.40236132334,4246.875404760914,4310.945354320212,4418.611835982054,4411.29665372891,4415.862689393936,4374.425614579285,4403.882992094799,4405.650573010988,4376.6839509469255,4379.335784660146,4406.6327273671195,4430.394634473508,4414.586095966468,4356.457065075125,4373.591062750139,4359.696987890559,4350.3689532319695,4360.1389358947,4390.381851958678,4351.154451209502,4423.521931143341,4413.162284266815,4385.226883000954,4242.84939817985,4204.35817203477,4151.040105806238,4176.0791650499295,4163.314144118252,4163.314530454997,4182.953033998253,4222.2780351461415,4183.001465184691,4166.211406289576,4133.85677529384,4147.652613708516,4152.906451090779,4127.9165503585355,4169.893800065752,4122.663456603558,4038.0716498141223,4047.644886515852,4020.936757446088,3993.6395885284373,4018.9238301370233,4015.981878743336,4006.138686185549,3943.4875627358756,3932.463025582815,3941.1741746389275,3969.42385229137,3987.436801068887,3996.394207004564,3996.344730916741,3897.864763520815,3913.662790294584,3851.848217603721,3879.261266395641,3912.87545183105,4020.952665320235,4053.0408475923055,4053.04078486624,4099.00832230913,4066.2305702818967,4051.8600369763685,3927.5908423676865,3951.115881398178,3960.8604880090948,3990.389589438143,4185.480108874261,4242.373120582253,4256.202219033572,4166.5812490977505,4129.817151927626,4163.676993000992,4198.522271973675,4221.751465216019,4291.588189238375,4343.510455484962,4346.266664568218,4342.871163165953,4337.850664985335,4356.5528821629905,4325.448584466717,4328.007742805228,4250.247272573856,4222.2928946144,4195.126039979421,4087.3442333797852,4050.3340530174855,4093.0528623167015,4078.140577688001,4082.1765493053435,4047.479684808028,3968.7841551770334,4021.346260950125,4032.6661128651804,4028.088729938378,4002.5949975020426,3948.605837566856,3954.708497578382,3962.140100567154,4104.569664256768,4161.068839592267,4152.8495539595815,4141.432357556204,4126.0768244014525,4100.0498046875,4068.10009765625,4030.0,4044.199951171875,4140.0498046875,4104.0,4041.050048828125,4028.300048828125,4054.0,4058.5,4085.25,4056.0,3998.699951171875,4066.050048828125,4076.0,4051.550048828125,4008.0,4014.35009765625,3955.0,3940.14990234375,3902.25,3900.0,3856.199951171875,3864.5,3768.14990234375,3751.300048828125,3775.0,3670.0,3621.25,3600.699951171875,3457.0,3476.14990234375,3464.300048828125,3520.85009765625,3536.10009765625,3574.39990234375,3582.60009765625,3537.64990234375,3486.85009765625,3484.10009765625,3477.35009765625,3497.699951171875,3462.75,3512.0,3465.0,3566.60009765625,3638.0,3625.85009765625,3610.5,3591.89990234375,3525.0,3530.050048828125,3396.14990234375,3295.5,3056.050048828125,3255.300048828125,3212.050048828125,3206.0,3238.60009765625,3229.0,3218.0,3284.10009765625,3295.0,3337.300048828125,3387.699951171875,3405.0,3405.0,3430.39990234375],\"name\":\"Price\",\"open\":[3790.7847561528083,3783.2959977168784,3745.365904713473,3866.8397293202797,3868.8824323541658,3873.7450929274473,3874.717608938137,3847.8747588285305,3862.0741140765313,3891.6401996365257,3794.966612030053,3770.458288138839,3732.7227084538367,3731.749756055219,3770.701160969628,3783.296318036582,3706.657601197812,3749.401962592489,3732.7223668381052,3765.789691120071,3674.417045390118,3783.4417525141935,3747.310970665456,3822.977257549098,3852.348644505229,3853.320985373324,3853.9048405813305,3777.9470321589934,3828.034438772876,3797.3982523912305,3811.871212722825,3839.203193497598,3752.6034232070624,3756.913769110757,3762.742320348681,3799.2830150964464,3776.506339799602,3779.4454201140243,3770.5305466531386,3700.094707884028,3663.8479428095284,3656.794715687024,3624.662599627776,3640.3368024377764,3704.013180177749,3759.1669041268424,3815.692029571215,3766.7099983889166,3795.5113826278625,3778.2699195397627,3809.8142929599544,3748.1459390773957,3749.7130742346512,3718.7075786768105,3749.0763513887523,3731.1980908539826,3739.280015679649,3766.220118963664,3752.9950629497644,3838.0279714713593,3804.915856909854,3912.2844044394196,3938.1466812760073,3918.407163657249,3928.3503724029933,3940.106215968834,3903.859545968883,3902.585808266167,3850.9587816301864,3898.9613209892245,4149.455043182372,4087.051745925721,4075.296134549774,4239.314154865978,4222.1803148836,4205.536980663162,4209.955327580733,4217.319636983082,4271.324703991635,4335.149576043135,4311.681741041037,4271.32489689292,4319.831452135074,4286.053969556137,4162.332736944009,4095.5133106272006,4151.531513665411,4105.381347258672,4140.730092096512,4153.494944715224,4136.802982285547,4132.875360818273,4271.32496210224,4341.040916446269,4423.5214046887,4436.286551737751,4477.526680850177,4418.611731898268,4407.810646937247,4423.521595654713,4417.384467523588,4379.335784660146,4418.6122679625305,4493.237111558238,4439.281131802064,4395.979094770648,4399.955543002937,4393.033151008172,4374.425840570686,4362.102763319449,4439.674113958071,4428.676737874571,4448.069777598077,4445.123383881834,4431.62230848725,4415.715125527233,4310.650337218327,4238.823093407437,4222.22911114853,4174.753342987435,4175.4412618287715,4182.953033998253,4256.596112539378,4209.365945175714,4178.583136778167,4185.505533031941,4148.5856235577485,4196.601618570953,4195.324834210528,4182.953062683279,4176.324950925273,4068.068925004607,4065.122758771127,4056.3345559239197,4011.1177013655647,4038.414674215347,4025.824971583393,4067.7565419545163,4002.201514906106,3936.8433940172417,3941.1741746389275,3993.3918785796277,4005.1051041743235,4031.5832637923236,4011.0601058196758,4006.1387847297265,3927.2463058287503,3904.0658719887983,3879.261266395641,3940.780715946805,4104.274589912992,4089.8048938450424,4063.425535563547,4149.847798959433,4112.542609268491,4070.118781462719,4146.894998090364,3956.8246828361807,3981.432455552984,4007.122846226611,4212.843714585579,4253.249546195695,4290.55499634484,4251.23184853607,4153.785179120677,4203.000338296886,4246.654900345047,4245.867042233743,4331.747813073262,4383.128901087652,4360.933257388377,4356.700516597411,4362.310844845357,4360.539142507212,4365.362613963178,4389.034915890042,4340.8037221053055,4244.046224337432,4214.812225056753,4261.074819097192,4134.147889868673,4093.0528623167015,4113.920313335754,4097.679420039338,4085.8677460209447,4070.1187442915557,4030.1557808587904,4055.3542496108485,4114.36357856104,4041.081584910857,4050.3835586581686,3971.5893051277485,4036.6522632657784,4134.098942416888,4178.392778567286,4234.498194661013,4151.81662842586,4193.1574036432985,4159.89990234375,4145.7998046875,4095.300048828125,4050.0,4168.0,4104.0,4102.0,4070.800048828125,4054.0,4099.89990234375,4110.0,4113.0,4030.89990234375,4083.699951171875,4150.0,4105.39990234375,4090.0,4040.0,4018.39990234375,3971.10009765625,3968.0,3925.0,3856.5,3898.39990234375,3872.199951171875,3761.5,3776.10009765625,3743.14990234375,3625.0,3611.699951171875,3584.949951171875,3485.0,3474.0,3520.85009765625,3557.0,3600.0,3606.5,3558.0,3565.0,3502.300048828125,3489.0,3497.699951171875,3547.0,3512.0,3475.0,3600.0,3645.0,3647.75,3614.85009765625,3651.0,3572.699951171875,3544.0,3491.0,3362.60009765625,3100.0,3302.050048828125,3260.550048828125,3289.550048828125,3314.39990234375,3248.199951171875,3245.5,3290.10009765625,3322.60009765625,3365.0,3401.10009765625,3420.0,3435.0,3455.0],\"x\":[\"2024-04-01T00:00:00\",\"2024-04-02T00:00:00\",\"2024-04-03T00:00:00\",\"2024-04-04T00:00:00\",\"2024-04-05T00:00:00\",\"2024-04-08T00:00:00\",\"2024-04-09T00:00:00\",\"2024-04-10T00:00:00\",\"2024-04-12T00:00:00\",\"2024-04-15T00:00:00\",\"2024-04-16T00:00:00\",\"2024-04-18T00:00:00\",\"2024-04-19T00:00:00\",\"2024-04-22T00:00:00\",\"2024-04-23T00:00:00\",\"2024-04-24T00:00:00\",\"2024-04-25T00:00:00\",\"2024-04-26T00:00:00\",\"2024-04-29T00:00:00\",\"2024-04-30T00:00:00\",\"2024-05-02T00:00:00\",\"2024-05-03T00:00:00\",\"2024-05-06T00:00:00\",\"2024-05-07T00:00:00\",\"2024-05-08T00:00:00\",\"2024-05-09T00:00:00\",\"2024-05-10T00:00:00\",\"2024-05-13T00:00:00\",\"2024-05-14T00:00:00\",\"2024-05-15T00:00:00\",\"2024-05-16T00:00:00\",\"2024-05-17T00:00:00\",\"2024-05-21T00:00:00\",\"2024-05-22T00:00:00\",\"2024-05-23T00:00:00\",\"2024-05-24T00:00:00\",\"2024-05-27T00:00:00\",\"2024-05-28T00:00:00\",\"2024-05-29T00:00:00\",\"2024-05-30T00:00:00\",\"2024-05-31T00:00:00\",\"2024-06-03T00:00:00\",\"2024-06-04T00:00:00\",\"2024-06-05T00:00:00\",\"2024-06-06T00:00:00\",\"2024-06-07T00:00:00\",\"2024-06-10T00:00:00\",\"2024-06-11T00:00:00\",\"2024-06-12T00:00:00\",\"2024-06-13T00:00:00\",\"2024-06-14T00:00:00\",\"2024-06-18T00:00:00\",\"2024-06-19T00:00:00\",\"2024-06-20T00:00:00\",\"2024-06-21T00:00:00\",\"2024-06-24T00:00:00\",\"2024-06-25T00:00:00\",\"2024-06-26T00:00:00\",\"2024-06-27T00:00:00\",\"2024-06-28T00:00:00\",\"2024-07-01T00:00:00\",\"2024-07-02T00:00:00\",\"2024-07-03T00:00:00\",\"2024-07-04T00:00:00\",\"2024-07-05T00:00:00\",\"2024-07-08T00:00:00\",\"2024-07-09T00:00:00\",\"2024-07-10T00:00:00\",\"2024-07-11T00:00:00\",\"2024-07-12T00:00:00\",\"2024-07-15T00:00:00\",\"2024-07-16T00:00:00\",\"2024-07-18T00:00:00\",\"2024-07-19T00:00:00\",\"2024-07-22T00:00:00\",\"2024-07-23T00:00:00\",\"2024-07-24T00:00:00\",\"2024-07-25T00:00:00\",\"2024-07-26T00:00:00\",\"2024-07-29T00:00:00\",\"2024-07-30T00:00:00\",\"2024-07-31T00:00:00\",\"2024-08-01T00:00:00\",\"2024-08-02T00:00:00\",\"2024-08-05T00:00:00\",\"2024-08-06T00:00:00\",\"2024-08-07T00:00:00\",\"2024-08-08T00:00:00\",\"2024-08-09T00:00:00\",\"2024-08-12T00:00:00\",\"2024-08-13T00:00:00\",\"2024-08-14T00:00:00\",\"2024-08-16T00:00:00\",\"2024-08-19T00:00:00\",\"2024-08-20T00:00:00\",\"2024-08-21T00:00:00\",\"2024-08-22T00:00:00\",\"2024-08-23T00:00:00\",\"2024-08-26T00:00:00\",\"2024-08-27T00:00:00\",\"2024-08-28T00:00:00\",\"2024-08-29T00:00:00\",\"2024-08-30T00:00:00\",\"2024-09-02T00:00:00\",\"2024-09-03T00:00:00\",\"2024-09-04T00:00:00\",\"2024-09-05T00:00:00\",\"2024-09-06T00:00:00\",\"2024-09-09T00:00:00\",\"2024-09-10T00:00:00\",\"2024-09-11T00:00:00\",\"2024-09-12T00:00:00\",\"2024-09-13T00:00:00\",\"2024-09-16T00:00:00\",\"2024-09-17T00:00:00\",\"2024-09-18T00:00:00\",\"2024-09-19T00:00:00\",\"2024-09-20T00:00:00\",\"2024-09-23T00:00:00\",\"2024-09-24T00:00:00\",\"2024-09-25T00:00:00\",\"2024-09-26T00:00:00\",\"2024-09-27T00:00:00\",\"2024-09-30T00:00:00\",\"2024-10-01T00:00:00\",\"2024-10-03T00:00:00\",\"2024-10-04T00:00:00\",\"2024-10-07T00:00:00\",\"2024-10-08T00:00:00\",\"2024-10-09T00:00:00\",\"2024-10-10T00:00:00\",\"2024-10-11T00:00:00\",\"2024-10-14T00:00:00\",\"2024-10-15T00:00:00\",\"2024-10-16T00:00:00\",\"2024-10-17T00:00:00\",\"2024-10-18T00:00:00\",\"2024-10-21T00:00:00\",\"2024-10-22T00:00:00\",\"2024-10-23T00:00:00\",\"2024-10-24T00:00:00\",\"2024-10-25T00:00:00\",\"2024-10-28T00:00:00\",\"2024-10-29T00:00:00\",\"2024-10-30T00:00:00\",\"2024-10-31T00:00:00\",\"2024-11-01T00:00:00\",\"2024-11-04T00:00:00\",\"2024-11-05T00:00:00\",\"2024-11-06T00:00:00\",\"2024-11-07T00:00:00\",\"2024-11-08T00:00:00\",\"2024-11-11T00:00:00\",\"2024-11-12T00:00:00\",\"2024-11-13T00:00:00\",\"2024-11-14T00:00:00\",\"2024-11-18T00:00:00\",\"2024-11-19T00:00:00\",\"2024-11-21T00:00:00\",\"2024-11-22T00:00:00\",\"2024-11-25T00:00:00\",\"2024-11-26T00:00:00\",\"2024-11-27T00:00:00\",\"2024-11-28T00:00:00\",\"2024-11-29T00:00:00\",\"2024-12-02T00:00:00\",\"2024-12-03T00:00:00\",\"2024-12-04T00:00:00\",\"2024-12-05T00:00:00\",\"2024-12-06T00:00:00\",\"2024-12-09T00:00:00\",\"2024-12-10T00:00:00\",\"2024-12-11T00:00:00\",\"2024-12-12T00:00:00\",\"2024-12-13T00:00:00\",\"2024-12-16T00:00:00\",\"2024-12-17T00:00:00\",\"2024-12-18T00:00:00\",\"2024-12-19T00:00:00\",\"2024-12-20T00:00:00\",\"2024-12-23T00:00:00\",\"2024-12-24T00:00:00\",\"2024-12-26T00:00:00\",\"2024-12-27T00:00:00\",\"2024-12-30T00:00:00\",\"2024-12-31T00:00:00\",\"2025-01-01T00:00:00\",\"2025-01-02T00:00:00\",\"2025-01-03T00:00:00\",\"2025-01-06T00:00:00\",\"2025-01-07T00:00:00\",\"2025-01-08T00:00:00\",\"2025-01-09T00:00:00\",\"2025-01-10T00:00:00\",\"2025-01-13T00:00:00\",\"2025-01-14T00:00:00\",\"2025-01-15T00:00:00\",\"2025-01-16T00:00:00\",\"2025-01-17T00:00:00\",\"2025-01-20T00:00:00\",\"2025-01-21T00:00:00\",\"2025-01-22T00:00:00\",\"2025-01-23T00:00:00\",\"2025-01-24T00:00:00\",\"2025-01-27T00:00:00\",\"2025-01-28T00:00:00\",\"2025-01-29T00:00:00\",\"2025-01-30T00:00:00\",\"2025-01-31T00:00:00\",\"2025-02-01T00:00:00\",\"2025-02-03T00:00:00\",\"2025-02-04T00:00:00\",\"2025-02-05T00:00:00\",\"2025-02-06T00:00:00\",\"2025-02-07T00:00:00\",\"2025-02-10T00:00:00\",\"2025-02-11T00:00:00\",\"2025-02-12T00:00:00\",\"2025-02-13T00:00:00\",\"2025-02-14T00:00:00\",\"2025-02-17T00:00:00\",\"2025-02-18T00:00:00\",\"2025-02-19T00:00:00\",\"2025-02-20T00:00:00\",\"2025-02-21T00:00:00\",\"2025-02-24T00:00:00\",\"2025-02-25T00:00:00\",\"2025-02-27T00:00:00\",\"2025-02-28T00:00:00\",\"2025-03-03T00:00:00\",\"2025-03-04T00:00:00\",\"2025-03-05T00:00:00\",\"2025-03-06T00:00:00\",\"2025-03-07T00:00:00\",\"2025-03-10T00:00:00\",\"2025-03-11T00:00:00\",\"2025-03-12T00:00:00\",\"2025-03-13T00:00:00\",\"2025-03-17T00:00:00\",\"2025-03-18T00:00:00\",\"2025-03-19T00:00:00\",\"2025-03-20T00:00:00\",\"2025-03-21T00:00:00\",\"2025-03-24T00:00:00\",\"2025-03-25T00:00:00\",\"2025-03-26T00:00:00\",\"2025-03-27T00:00:00\",\"2025-03-28T00:00:00\",\"2025-04-01T00:00:00\",\"2025-04-02T00:00:00\",\"2025-04-03T00:00:00\",\"2025-04-04T00:00:00\",\"2025-04-07T00:00:00\",\"2025-04-08T00:00:00\",\"2025-04-09T00:00:00\",\"2025-04-11T00:00:00\",\"2025-04-15T00:00:00\",\"2025-04-16T00:00:00\",\"2025-04-17T00:00:00\",\"2025-04-21T00:00:00\",\"2025-04-22T00:00:00\",\"2025-04-23T00:00:00\",\"2025-04-24T00:00:00\",\"2025-04-25T00:00:00\",\"2025-04-28T00:00:00\",\"2025-04-29T00:00:00\"],\"type\":\"candlestick\"}],                        {\"template\":{\"data\":{\"barpolar\":[{\"marker\":{\"line\":{\"color\":\"rgb(17,17,17)\",\"width\":0.5},\"pattern\":{\"fillmode\":\"overlay\",\"size\":10,\"solidity\":0.2}},\"type\":\"barpolar\"}],\"bar\":[{\"error_x\":{\"color\":\"#f2f5fa\"},\"error_y\":{\"color\":\"#f2f5fa\"},\"marker\":{\"line\":{\"color\":\"rgb(17,17,17)\",\"width\":0.5},\"pattern\":{\"fillmode\":\"overlay\",\"size\":10,\"solidity\":0.2}},\"type\":\"bar\"}],\"carpet\":[{\"aaxis\":{\"endlinecolor\":\"#A2B1C6\",\"gridcolor\":\"#506784\",\"linecolor\":\"#506784\",\"minorgridcolor\":\"#506784\",\"startlinecolor\":\"#A2B1C6\"},\"baxis\":{\"endlinecolor\":\"#A2B1C6\",\"gridcolor\":\"#506784\",\"linecolor\":\"#506784\",\"minorgridcolor\":\"#506784\",\"startlinecolor\":\"#A2B1C6\"},\"type\":\"carpet\"}],\"choropleth\":[{\"colorbar\":{\"outlinewidth\":0,\"ticks\":\"\"},\"type\":\"choropleth\"}],\"contourcarpet\":[{\"colorbar\":{\"outlinewidth\":0,\"ticks\":\"\"},\"type\":\"contourcarpet\"}],\"contour\":[{\"colorbar\":{\"outlinewidth\":0,\"ticks\":\"\"},\"colorscale\":[[0.0,\"#0d0887\"],[0.1111111111111111,\"#46039f\"],[0.2222222222222222,\"#7201a8\"],[0.3333333333333333,\"#9c179e\"],[0.4444444444444444,\"#bd3786\"],[0.5555555555555556,\"#d8576b\"],[0.6666666666666666,\"#ed7953\"],[0.7777777777777778,\"#fb9f3a\"],[0.8888888888888888,\"#fdca26\"],[1.0,\"#f0f921\"]],\"type\":\"contour\"}],\"heatmapgl\":[{\"colorbar\":{\"outlinewidth\":0,\"ticks\":\"\"},\"colorscale\":[[0.0,\"#0d0887\"],[0.1111111111111111,\"#46039f\"],[0.2222222222222222,\"#7201a8\"],[0.3333333333333333,\"#9c179e\"],[0.4444444444444444,\"#bd3786\"],[0.5555555555555556,\"#d8576b\"],[0.6666666666666666,\"#ed7953\"],[0.7777777777777778,\"#fb9f3a\"],[0.8888888888888888,\"#fdca26\"],[1.0,\"#f0f921\"]],\"type\":\"heatmapgl\"}],\"heatmap\":[{\"colorbar\":{\"outlinewidth\":0,\"ticks\":\"\"},\"colorscale\":[[0.0,\"#0d0887\"],[0.1111111111111111,\"#46039f\"],[0.2222222222222222,\"#7201a8\"],[0.3333333333333333,\"#9c179e\"],[0.4444444444444444,\"#bd3786\"],[0.5555555555555556,\"#d8576b\"],[0.6666666666666666,\"#ed7953\"],[0.7777777777777778,\"#fb9f3a\"],[0.8888888888888888,\"#fdca26\"],[1.0,\"#f0f921\"]],\"type\":\"heatmap\"}],\"histogram2dcontour\":[{\"colorbar\":{\"outlinewidth\":0,\"ticks\":\"\"},\"colorscale\":[[0.0,\"#0d0887\"],[0.1111111111111111,\"#46039f\"],[0.2222222222222222,\"#7201a8\"],[0.3333333333333333,\"#9c179e\"],[0.4444444444444444,\"#bd3786\"],[0.5555555555555556,\"#d8576b\"],[0.6666666666666666,\"#ed7953\"],[0.7777777777777778,\"#fb9f3a\"],[0.8888888888888888,\"#fdca26\"],[1.0,\"#f0f921\"]],\"type\":\"histogram2dcontour\"}],\"histogram2d\":[{\"colorbar\":{\"outlinewidth\":0,\"ticks\":\"\"},\"colorscale\":[[0.0,\"#0d0887\"],[0.1111111111111111,\"#46039f\"],[0.2222222222222222,\"#7201a8\"],[0.3333333333333333,\"#9c179e\"],[0.4444444444444444,\"#bd3786\"],[0.5555555555555556,\"#d8576b\"],[0.6666666666666666,\"#ed7953\"],[0.7777777777777778,\"#fb9f3a\"],[0.8888888888888888,\"#fdca26\"],[1.0,\"#f0f921\"]],\"type\":\"histogram2d\"}],\"histogram\":[{\"marker\":{\"pattern\":{\"fillmode\":\"overlay\",\"size\":10,\"solidity\":0.2}},\"type\":\"histogram\"}],\"mesh3d\":[{\"colorbar\":{\"outlinewidth\":0,\"ticks\":\"\"},\"type\":\"mesh3d\"}],\"parcoords\":[{\"line\":{\"colorbar\":{\"outlinewidth\":0,\"ticks\":\"\"}},\"type\":\"parcoords\"}],\"pie\":[{\"automargin\":true,\"type\":\"pie\"}],\"scatter3d\":[{\"line\":{\"colorbar\":{\"outlinewidth\":0,\"ticks\":\"\"}},\"marker\":{\"colorbar\":{\"outlinewidth\":0,\"ticks\":\"\"}},\"type\":\"scatter3d\"}],\"scattercarpet\":[{\"marker\":{\"colorbar\":{\"outlinewidth\":0,\"ticks\":\"\"}},\"type\":\"scattercarpet\"}],\"scattergeo\":[{\"marker\":{\"colorbar\":{\"outlinewidth\":0,\"ticks\":\"\"}},\"type\":\"scattergeo\"}],\"scattergl\":[{\"marker\":{\"line\":{\"color\":\"#283442\"}},\"type\":\"scattergl\"}],\"scattermapbox\":[{\"marker\":{\"colorbar\":{\"outlinewidth\":0,\"ticks\":\"\"}},\"type\":\"scattermapbox\"}],\"scatterpolargl\":[{\"marker\":{\"colorbar\":{\"outlinewidth\":0,\"ticks\":\"\"}},\"type\":\"scatterpolargl\"}],\"scatterpolar\":[{\"marker\":{\"colorbar\":{\"outlinewidth\":0,\"ticks\":\"\"}},\"type\":\"scatterpolar\"}],\"scatter\":[{\"marker\":{\"line\":{\"color\":\"#283442\"}},\"type\":\"scatter\"}],\"scatterternary\":[{\"marker\":{\"colorbar\":{\"outlinewidth\":0,\"ticks\":\"\"}},\"type\":\"scatterternary\"}],\"surface\":[{\"colorbar\":{\"outlinewidth\":0,\"ticks\":\"\"},\"colorscale\":[[0.0,\"#0d0887\"],[0.1111111111111111,\"#46039f\"],[0.2222222222222222,\"#7201a8\"],[0.3333333333333333,\"#9c179e\"],[0.4444444444444444,\"#bd3786\"],[0.5555555555555556,\"#d8576b\"],[0.6666666666666666,\"#ed7953\"],[0.7777777777777778,\"#fb9f3a\"],[0.8888888888888888,\"#fdca26\"],[1.0,\"#f0f921\"]],\"type\":\"surface\"}],\"table\":[{\"cells\":{\"fill\":{\"color\":\"#506784\"},\"line\":{\"color\":\"rgb(17,17,17)\"}},\"header\":{\"fill\":{\"color\":\"#2a3f5f\"},\"line\":{\"color\":\"rgb(17,17,17)\"}},\"type\":\"table\"}]},\"layout\":{\"annotationdefaults\":{\"arrowcolor\":\"#f2f5fa\",\"arrowhead\":0,\"arrowwidth\":1},\"autotypenumbers\":\"strict\",\"coloraxis\":{\"colorbar\":{\"outlinewidth\":0,\"ticks\":\"\"}},\"colorscale\":{\"diverging\":[[0,\"#8e0152\"],[0.1,\"#c51b7d\"],[0.2,\"#de77ae\"],[0.3,\"#f1b6da\"],[0.4,\"#fde0ef\"],[0.5,\"#f7f7f7\"],[0.6,\"#e6f5d0\"],[0.7,\"#b8e186\"],[0.8,\"#7fbc41\"],[0.9,\"#4d9221\"],[1,\"#276419\"]],\"sequential\":[[0.0,\"#0d0887\"],[0.1111111111111111,\"#46039f\"],[0.2222222222222222,\"#7201a8\"],[0.3333333333333333,\"#9c179e\"],[0.4444444444444444,\"#bd3786\"],[0.5555555555555556,\"#d8576b\"],[0.6666666666666666,\"#ed7953\"],[0.7777777777777778,\"#fb9f3a\"],[0.8888888888888888,\"#fdca26\"],[1.0,\"#f0f921\"]],\"sequentialminus\":[[0.0,\"#0d0887\"],[0.1111111111111111,\"#46039f\"],[0.2222222222222222,\"#7201a8\"],[0.3333333333333333,\"#9c179e\"],[0.4444444444444444,\"#bd3786\"],[0.5555555555555556,\"#d8576b\"],[0.6666666666666666,\"#ed7953\"],[0.7777777777777778,\"#fb9f3a\"],[0.8888888888888888,\"#fdca26\"],[1.0,\"#f0f921\"]]},\"colorway\":[\"#636efa\",\"#EF553B\",\"#00cc96\",\"#ab63fa\",\"#FFA15A\",\"#19d3f3\",\"#FF6692\",\"#B6E880\",\"#FF97FF\",\"#FECB52\"],\"font\":{\"color\":\"#f2f5fa\"},\"geo\":{\"bgcolor\":\"rgb(17,17,17)\",\"lakecolor\":\"rgb(17,17,17)\",\"landcolor\":\"rgb(17,17,17)\",\"showlakes\":true,\"showland\":true,\"subunitcolor\":\"#506784\"},\"hoverlabel\":{\"align\":\"left\"},\"hovermode\":\"closest\",\"mapbox\":{\"style\":\"dark\"},\"paper_bgcolor\":\"rgb(17,17,17)\",\"plot_bgcolor\":\"rgb(17,17,17)\",\"polar\":{\"angularaxis\":{\"gridcolor\":\"#506784\",\"linecolor\":\"#506784\",\"ticks\":\"\"},\"bgcolor\":\"rgb(17,17,17)\",\"radialaxis\":{\"gridcolor\":\"#506784\",\"linecolor\":\"#506784\",\"ticks\":\"\"}},\"scene\":{\"xaxis\":{\"backgroundcolor\":\"rgb(17,17,17)\",\"gridcolor\":\"#506784\",\"gridwidth\":2,\"linecolor\":\"#506784\",\"showbackground\":true,\"ticks\":\"\",\"zerolinecolor\":\"#C8D4E3\"},\"yaxis\":{\"backgroundcolor\":\"rgb(17,17,17)\",\"gridcolor\":\"#506784\",\"gridwidth\":2,\"linecolor\":\"#506784\",\"showbackground\":true,\"ticks\":\"\",\"zerolinecolor\":\"#C8D4E3\"},\"zaxis\":{\"backgroundcolor\":\"rgb(17,17,17)\",\"gridcolor\":\"#506784\",\"gridwidth\":2,\"linecolor\":\"#506784\",\"showbackground\":true,\"ticks\":\"\",\"zerolinecolor\":\"#C8D4E3\"}},\"shapedefaults\":{\"line\":{\"color\":\"#f2f5fa\"}},\"sliderdefaults\":{\"bgcolor\":\"#C8D4E3\",\"bordercolor\":\"rgb(17,17,17)\",\"borderwidth\":1,\"tickwidth\":0},\"ternary\":{\"aaxis\":{\"gridcolor\":\"#506784\",\"linecolor\":\"#506784\",\"ticks\":\"\"},\"baxis\":{\"gridcolor\":\"#506784\",\"linecolor\":\"#506784\",\"ticks\":\"\"},\"bgcolor\":\"rgb(17,17,17)\",\"caxis\":{\"gridcolor\":\"#506784\",\"linecolor\":\"#506784\",\"ticks\":\"\"}},\"title\":{\"x\":0.05},\"updatemenudefaults\":{\"bgcolor\":\"#506784\",\"borderwidth\":0},\"xaxis\":{\"automargin\":true,\"gridcolor\":\"#283442\",\"linecolor\":\"#506784\",\"ticks\":\"\",\"title\":{\"standoff\":15},\"zerolinecolor\":\"#283442\",\"zerolinewidth\":2},\"yaxis\":{\"automargin\":true,\"gridcolor\":\"#283442\",\"linecolor\":\"#506784\",\"ticks\":\"\",\"title\":{\"standoff\":15},\"zerolinecolor\":\"#283442\",\"zerolinewidth\":2}}},\"title\":{\"text\":\"Candlestick Chart - TCS.NS\"},\"xaxis\":{\"title\":{\"text\":\"Date\"}},\"yaxis\":{\"title\":{\"text\":\"Price\"}}},                        {\"responsive\": true}                    ).then(function(){\n",
              "                            \n",
              "var gd = document.getElementById('aa02fbbc-4f1b-48e3-b68b-784a0f093fe8');\n",
              "var x = new MutationObserver(function (mutations, observer) {{\n",
              "        var display = window.getComputedStyle(gd).display;\n",
              "        if (!display || display === 'none') {{\n",
              "            console.log([gd, 'removed!']);\n",
              "            Plotly.purge(gd);\n",
              "            observer.disconnect();\n",
              "        }}\n",
              "}});\n",
              "\n",
              "// Listen for the removal of the full notebook cells\n",
              "var notebookContainer = gd.closest('#notebook-container');\n",
              "if (notebookContainer) {{\n",
              "    x.observe(notebookContainer, {childList: true});\n",
              "}}\n",
              "\n",
              "// Listen for the clearing of the current output cell\n",
              "var outputEl = gd.closest('.output');\n",
              "if (outputEl) {{\n",
              "    x.observe(outputEl, {childList: true});\n",
              "}}\n",
              "\n",
              "                        })                };                            </script>        </div>\n",
              "</body>\n",
              "</html>"
            ]
          },
          "metadata": {}
        }
      ]
    },
    {
      "cell_type": "markdown",
      "source": [
        "Simple vs Log Returns\n",
        "\n",
        "**Simple returns** are calculated as the percentage change in price:  \n",
        "R_t = (Pt-Pt-1)/Pt-1\n",
        "\n",
        "**Log returns** are calculated using natural logarithms:  \n",
        "Rt=ln(Pt/Pt-1)\n",
        "\n",
        "For daily data with small price changes, both returns look very similar. This is because when changes are small, ln(1 + x) approx x. However, during periods of large price movements (e.g., earnings surprises or market crashes), log returns tend to differ more noticeably due to their compounding nature.\n",
        "\n",
        "Log returns are **time additive**, meaning that the return over multiple periods can be obtained by summing the individual log returns — a useful property in financial modeling and portfolio optimization.\n",
        "\n",
        "In contrast, simple returns are easier to interpret intuitively as percentage gains or losses. Both are valid tools, and the choice depends on the context — log returns are often used in quantitative models, while simple returns are more common in performance reporting.\n"
      ],
      "metadata": {
        "id": "ZHaE4TjEWxtK"
      }
    },
    {
      "cell_type": "markdown",
      "source": [
        "**Problem Statement - 3**"
      ],
      "metadata": {
        "id": "oKEjEmNQXsWS"
      }
    },
    {
      "cell_type": "code",
      "source": [
        "from scipy.stats import binom"
      ],
      "metadata": {
        "id": "vPHy3KFFVuMF"
      },
      "execution_count": 11,
      "outputs": []
    },
    {
      "cell_type": "code",
      "source": [
        "# Determine the direction of daily price movement\n",
        "df.loc[:, (nse, 'Market_Direction')] = df[nse]['Daily Return'].apply(lambda x: 'UP' if x > 0 else 'DOWN')\n",
        "\n",
        "# Calculate the total number of valid trading days\n",
        "total_trading_periods = df[nse]['Market_Direction'].count()\n",
        "\n",
        "# Count the number of 'UP' days\n",
        "favorable_days = (df[nse]['Market_Direction'] == 'UP').sum()\n",
        "\n",
        "# Calculate the probability of an 'UP' day\n",
        "prob_up_movement = favorable_days / total_trading_periods\n",
        "\n",
        "print(f'P(UP) = {prob_up_movement:.3f}')\n",
        "P_UP = prob_up_movement"
      ],
      "metadata": {
        "colab": {
          "base_uri": "https://localhost:8080/"
        },
        "id": "eXezxbdVXwRw",
        "outputId": "fc66c51e-1662-406a-a529-9e42f353f70f"
      },
      "execution_count": 14,
      "outputs": [
        {
          "output_type": "stream",
          "name": "stdout",
          "text": [
            "P(UP) = 0.459\n"
          ]
        }
      ]
    },
    {
      "cell_type": "code",
      "source": [
        "# Calculate theoretical probabilities based on P(UP) = 0.6\n",
        "theoretical_exact_6_up = binom.pmf(k=6, n=10, p=0.6)\n",
        "theoretical_at_least_8_up = 1 - binom.cdf(k=7, n=10, p=0.6)\n",
        "\n",
        "# Calculate actual probabilities using the derived P_UP from stock data\n",
        "actual_exact_6_up = binom.pmf(k=6, n=10, p=P_UP)\n",
        "actual_at_least_8_up = 1 - binom.cdf(k=7, n=10, p=P_UP)\n",
        "\n",
        "print(f\"Theoretical Probability of exactly 6 up days in 10: {theoretical_exact_6_up:.3f}\")\n",
        "print(f\"Theoretical Probability of at least 8 up days in 10: {theoretical_at_least_8_up:.3f}\")\n",
        "print(f\"Actual Probability of exactly 6 up days in 10: {actual_exact_6_up:.3f}\")\n",
        "print(f\"Actual Probability of at least 8 up days in 10: {actual_at_least_8_up:.3f}\")"
      ],
      "metadata": {
        "colab": {
          "base_uri": "https://localhost:8080/"
        },
        "id": "caSEu1cUXzi_",
        "outputId": "7ecc66cf-953f-4f71-a589-e4897990f590"
      },
      "execution_count": 15,
      "outputs": [
        {
          "output_type": "stream",
          "name": "stdout",
          "text": [
            "Theoretical Probability of exactly 6 up days in 10: 0.251\n",
            "Theoretical Probability of at least 8 up days in 10: 0.167\n",
            "Actual Probability of exactly 6 up days in 10: 0.168\n",
            "Actual Probability of at least 8 up days in 10: 0.031\n"
          ]
        }
      ]
    },
    {
      "cell_type": "code",
      "source": [
        "coin_flips=np.random.binomial(n=10, p=0.6, size=1000)"
      ],
      "metadata": {
        "id": "D-zGfIFgX6O0"
      },
      "execution_count": 16,
      "outputs": []
    },
    {
      "cell_type": "code",
      "source": [
        "print(coin_flips)"
      ],
      "metadata": {
        "colab": {
          "base_uri": "https://localhost:8080/"
        },
        "id": "V86AHbKMX99n",
        "outputId": "55f02a1d-fb92-4bdd-c0c1-a0baefea0ccb"
      },
      "execution_count": 17,
      "outputs": [
        {
          "output_type": "stream",
          "name": "stdout",
          "text": [
            "[ 6  9  6  8  9  7  6  5  6  4 10  7  5  9  5  4  5  6  6  7  6  5  6  8\n",
            "  6  4  6  7  4  6  5  3  8  4  8  8  6  9  4  5  6  4  6  6  6  8  8  6\n",
            "  6  8  6  7  5  9  4  2  5  6  4  7  6  7  7  5  7  4  7  4  6  5  7  5\n",
            "  5  7  8  8  3  6  3  7  5  6  3  3  7  4  7  7  6  5  8  6  5  6  7  6\n",
            "  7  3  6  7  6  5  8  6  6  5  7  7  6  5  5  4  8  4  7  6  6  8  6  4\n",
            "  7  7  5  5  6  7  3  9  8  6  8  8  6  7  7  6  9  6  5  3 10  5  7  7\n",
            "  5  3  4  8  6  8  7  6  7  9  5  7  7  7  4  5  7  6  7  6  4  7  7  7\n",
            "  6  4  6  8  9  6  4  6  5  4  6  7  7  6  8  8  9  4  7  9  3  8  5  6\n",
            "  5  6  8  7  6  6  6  3  6  7  7  5  4  8  6  7  9  5  8  6  8  8  7  5\n",
            "  8  8  5  5  4  7  8  4  6  6  5  4  5  6  3  7  8  7  5  6  5  9  3  6\n",
            "  8  5  5  6  9  7  6  6  6  5  5  8  6  6  8  5  7 10  6  7  7  8  6  6\n",
            "  6  7  2  5  7  6  5  7  7  2  8  8  8  6  7  7  5  7  7  8  7  7  5  4\n",
            "  8  6  6  6  5  7  5  6  8  4  8  4  6  4  4  9  6  5  7  8  6  7  6  6\n",
            "  4  5  7  5  7  7  4  5  7  5  5  6  9  7  5  5  8  6  7  8  6  8  9  5\n",
            "  7  6  8  7  4  7  9  5  5  7  5  6  6  5  6  8  7  5  6  8  7  7  8  6\n",
            "  8  9  9  7  5  4  5  6  7  1  5  8  4  4  7  7  4  8  4  6  6  6  6  9\n",
            " 10  5  5  7  6  6  9  7  6  6  5  6  5  7  6  7  7  4  6  6  7  6  8  8\n",
            "  5  5  6  6  5  7  6  8  5  7  4  5  8  7 10  8  5  7  5  6  8  5  6  5\n",
            "  5  5  8  5  5  8  8  5  8  8  4  6  5  8  9  6  8  9  5  9  3  9  3  9\n",
            "  7  4  7  5  7  7  8  4  7  7  4  5  4  6  7  7  7  5  6  7  9  8  5  4\n",
            "  6  8  4  7  6  4  8  6  6  6  7  5  9  5  8  5  5  3  5  6  5  9  8  6\n",
            "  4  4  6  7  7  7  9  6  5  7  7  5  6  5  3  7  1  7  4  8  7  4  8  7\n",
            "  7  5  2  7  8  5  3  6  8  8  5  6  6  3  7  7  7  6  6  6  8  6  5  6\n",
            "  5  8  6  9  3  6  5  5  6  4 10  6  6  8  6  7  4  4  6  5  9  6  6  7\n",
            "  4  4  7  5  6  7  5  7  6  5  4  5  6  5  4  7  7  5  6 10  4  5  6  4\n",
            "  4  5  5  6  7  6  5  5  6  6  7  7  6  8  5  8  9  6  9  4  8  8  3  7\n",
            "  8  5  6  4  6  6  4  5  5  6  4  7  4  4  6  6  6  5  9  4  4  5  8  5\n",
            "  4  6  7  5  9  6  3  7  9  5  6  6  6  5  7  8  8  5  7  3  4  5  5  7\n",
            "  3  4  7  5  7  8  7  8  5  7  4  6  7  5  5  7  8  4  9  6  6  7  5  9\n",
            "  5  7  8  9  5  8  6  5  6  8  7  5  8  5  6  7  6  8  4  4  5  5  7  7\n",
            "  6  6  5  7  6  3  6  7  6  8  8  7  7  7  6  4  6  6  6  6  7  8  2  6\n",
            "  8  8  6  5  5  7  4  5  7  5  9  8  4  6  5  6  6  4  6  6  7  6  5  3\n",
            "  7  6  7  6  8  4  7  7  6  9  8  5  6  9  9  6  9  8  4  6  3  4  6  4\n",
            "  5  5  4  5  5  6  7  4  5  6  6  7  7  6  9  5  7  7  8  7  8  7  7  6\n",
            "  5  6 10  5  5  7  9  8  8  3  3  7  7  6  7  5  8  6  8  6  3  5  5  6\n",
            "  6  7  7  5  6  4  7  5  3  6  5  5  8  8  5  5  5  6  7  7  5  5  7  5\n",
            "  6  6  7  4  5  7  5  8  5  4  3  7  5  7  7  2  6  6  7  4  5  7  5  4\n",
            "  8  5  7  6  8  6  3  6  3  6  7  5  7  8  6  6  6  8  6  7  6  5  6  6\n",
            "  3  7  6  8  5  9  6  8  6  7  3  7  6  5  6  5  8  7  7  6  8  7  6  8\n",
            "  8  4  6  8  7  4  5  6  3  8  8  4  6  7  6  5  8  7  5  7  3  4  6  7\n",
            "  4  5  4  5  8  5  5  3  7  6  6  4  7  7  5  5  2  4  6  4  4  6  8  5\n",
            "  7  6  5  5  6  8  3  5  6  4 10  4  7  5  6  8]\n"
          ]
        }
      ]
    },
    {
      "cell_type": "code",
      "source": [
        "# Calculate the simulated probability of observing exactly 6 successful outcomes\n",
        "simulated_frequency_of_6 = np.mean(coin_flips == 6)\n",
        "\n",
        "# Calculate the simulated probability of observing 8 or more successful outcomes\n",
        "simulated_frequency_of_8_or_more = np.mean(coin_flips >= 8)\n",
        "\n",
        "print(simulated_frequency_of_6)\n",
        "print(simulated_frequency_of_8_or_more)"
      ],
      "metadata": {
        "colab": {
          "base_uri": "https://localhost:8080/"
        },
        "id": "0sn_Y0sUYBG2",
        "outputId": "21d0693e-26ef-4983-e800-949e5c99f08e"
      },
      "execution_count": 18,
      "outputs": [
        {
          "output_type": "stream",
          "name": "stdout",
          "text": [
            "0.248\n",
            "0.191\n"
          ]
        }
      ]
    },
    {
      "cell_type": "markdown",
      "source": [
        "**Part 2: The Paradox**"
      ],
      "metadata": {
        "id": "AkOvd6AVYHdU"
      }
    },
    {
      "cell_type": "code",
      "source": [
        "# Calculate the mean daily return for 'UP' market days\n",
        "average_upward_return = df[nse].loc[df[nse]['Market_Direction'] == 'UP', 'Daily Return'].mean()\n",
        "\n",
        "# Calculate the mean daily return for 'DOWN' market days\n",
        "average_downward_return = df[nse].loc[df[nse]['Market_Direction'] == 'DOWN', 'Daily Return'].mean()\n",
        "\n",
        "print(f'Mean return on upward days: {average_upward_return}')\n",
        "print(f'Mean return on downward days: {average_downward_return}')"
      ],
      "metadata": {
        "colab": {
          "base_uri": "https://localhost:8080/"
        },
        "id": "ZjkwFSXjYEqL",
        "outputId": "814ce116-8f70-48c3-92c3-84e8d0c6a5a9"
      },
      "execution_count": 19,
      "outputs": [
        {
          "output_type": "stream",
          "name": "stdout",
          "text": [
            "Mean return on upward days: 0.010059419670158875\n",
            "Mean return on downward days: -0.009064935266109662\n"
          ]
        }
      ]
    },
    {
      "cell_type": "code",
      "source": [
        "results = []\n",
        "data = df[nse][['Daily Return', 'Market_Direction']].copy()\n",
        "for i in range(len(data) - 9):\n",
        "    window = data.iloc[i:i+10]#rolling 10 day window\n",
        "\n",
        "    up_returns = window[window['Market_Direction'] == 'UP']['Daily Return']\n",
        "    down_returns = window[window['Market_Direction'] == 'DOWN']['Daily Return']\n",
        "\n",
        "    if len(up_returns) >= 6:\n",
        "        up_avg = up_returns.mean()\n",
        "        down_avg = down_returns.mean()\n",
        "\n",
        "        if down_avg < up_avg:\n",
        "            results.append((data.index[i], data.index[i+9]))\n",
        "# Displaying the date windows in which even with P(UP)>=0.6 we can lose money\n",
        "for start, end in results:\n",
        "    print(f\"Window: {start.date()} to {end.date()}\")"
      ],
      "metadata": {
        "colab": {
          "base_uri": "https://localhost:8080/"
        },
        "id": "8f-hUgXWYJ-n",
        "outputId": "8ec2f6ad-b687-4194-df64-520ca949f72c"
      },
      "execution_count": 20,
      "outputs": [
        {
          "output_type": "stream",
          "name": "stdout",
          "text": [
            "Window: 2024-04-22 to 2024-05-06\n",
            "Window: 2024-04-23 to 2024-05-07\n",
            "Window: 2024-05-31 to 2024-06-13\n",
            "Window: 2024-06-03 to 2024-06-14\n",
            "Window: 2024-06-13 to 2024-06-27\n",
            "Window: 2024-06-18 to 2024-07-01\n",
            "Window: 2024-06-19 to 2024-07-02\n",
            "Window: 2024-06-20 to 2024-07-03\n",
            "Window: 2024-06-21 to 2024-07-04\n",
            "Window: 2024-06-24 to 2024-07-05\n",
            "Window: 2024-06-25 to 2024-07-08\n",
            "Window: 2024-07-10 to 2024-07-24\n",
            "Window: 2024-07-11 to 2024-07-25\n",
            "Window: 2024-07-12 to 2024-07-26\n",
            "Window: 2024-07-15 to 2024-07-29\n",
            "Window: 2024-07-16 to 2024-07-30\n",
            "Window: 2024-07-18 to 2024-07-31\n",
            "Window: 2024-07-19 to 2024-08-01\n",
            "Window: 2024-07-22 to 2024-08-02\n",
            "Window: 2024-07-23 to 2024-08-05\n",
            "Window: 2024-07-24 to 2024-08-06\n",
            "Window: 2024-07-25 to 2024-08-07\n",
            "Window: 2024-07-31 to 2024-08-13\n",
            "Window: 2024-08-01 to 2024-08-14\n",
            "Window: 2024-08-02 to 2024-08-16\n",
            "Window: 2024-08-05 to 2024-08-19\n",
            "Window: 2024-08-06 to 2024-08-20\n",
            "Window: 2024-08-07 to 2024-08-21\n",
            "Window: 2024-08-08 to 2024-08-22\n",
            "Window: 2024-08-09 to 2024-08-23\n",
            "Window: 2024-08-12 to 2024-08-26\n",
            "Window: 2024-08-13 to 2024-08-27\n",
            "Window: 2024-08-14 to 2024-08-28\n",
            "Window: 2024-08-16 to 2024-08-29\n",
            "Window: 2024-08-19 to 2024-08-30\n",
            "Window: 2024-08-20 to 2024-09-02\n",
            "Window: 2024-09-20 to 2024-10-04\n",
            "Window: 2024-09-23 to 2024-10-07\n",
            "Window: 2024-09-24 to 2024-10-08\n",
            "Window: 2024-09-25 to 2024-10-09\n",
            "Window: 2024-10-17 to 2024-10-30\n",
            "Window: 2024-10-23 to 2024-11-05\n",
            "Window: 2024-10-24 to 2024-11-06\n",
            "Window: 2024-10-25 to 2024-11-07\n",
            "Window: 2024-10-28 to 2024-11-08\n",
            "Window: 2024-10-29 to 2024-11-11\n",
            "Window: 2024-10-30 to 2024-11-12\n",
            "Window: 2024-11-11 to 2024-11-26\n",
            "Window: 2024-11-14 to 2024-11-29\n",
            "Window: 2024-11-18 to 2024-12-02\n",
            "Window: 2024-11-19 to 2024-12-03\n",
            "Window: 2024-11-21 to 2024-12-04\n",
            "Window: 2024-11-22 to 2024-12-05\n",
            "Window: 2024-11-25 to 2024-12-06\n",
            "Window: 2024-11-26 to 2024-12-09\n",
            "Window: 2024-11-27 to 2024-12-10\n",
            "Window: 2024-11-28 to 2024-12-11\n",
            "Window: 2024-11-29 to 2024-12-12\n",
            "Window: 2024-12-02 to 2024-12-13\n",
            "Window: 2024-12-03 to 2024-12-16\n",
            "Window: 2025-02-21 to 2025-03-07\n",
            "Window: 2025-02-28 to 2025-03-13\n",
            "Window: 2025-03-03 to 2025-03-17\n",
            "Window: 2025-03-13 to 2025-03-27\n",
            "Window: 2025-04-07 to 2025-04-23\n",
            "Window: 2025-04-08 to 2025-04-24\n",
            "Window: 2025-04-09 to 2025-04-25\n",
            "Window: 2025-04-11 to 2025-04-28\n",
            "Window: 2025-04-15 to 2025-04-29\n"
          ]
        }
      ]
    },
    {
      "cell_type": "markdown",
      "source": [
        "\n",
        "**Part 3**\n",
        "\n",
        "Let's break down the profitability of this bet. Your **net return** is determined by the potential winnings from \"up\" days balanced against losses from \"down\" days.\n",
        "\n",
        "The formula for net return is:\n",
        "$$( \\text{winnings per UP day} \\times P(\\text{UP}) ) - ( \\text{losses per DOWN day} \\times P(\\text{DOWN}) ) = \\text{Net Return}$$\n",
        "\n",
        "Given the bet terms:\n",
        "\n",
        "You win 100 dollar when your stock goes up.\n",
        "You lose 150 dollar when your stock goes down\n",
        "We also know that $P(\\text{DOWN}) = 1 - P(\\text{UP})$.\n",
        "\n",
        "Substituting these values into the formula:\n",
        "$$\\text{Net Return} = (100 \\times P(\\text{UP})) - (150 \\times (1 - P(\\text{UP})))$$\n",
        "$$\\text{Net Return} = 100 \\times P(\\text{UP}) - 150 + 150 \\times P(\\text{UP})$$\n",
        "$$\\text{Net Return} = 250 \\times P(\\text{UP}) - 150$$\n",
        "\n",
        "For this bet to be profitable, your **net return must be positive**:\n",
        "$$250 \\times P(\\text{UP}) - 150 > 0$$\n",
        "$$250 \\times P(\\text{UP}) > 150$$\n",
        "$$P(\\text{UP}) > \\frac{150}{250}$$\n",
        "$$P(\\text{UP}) > 0.6$$\n",
        "\n"
      ],
      "metadata": {
        "id": "LJtam8VjdTw_"
      }
    }
  ]
}