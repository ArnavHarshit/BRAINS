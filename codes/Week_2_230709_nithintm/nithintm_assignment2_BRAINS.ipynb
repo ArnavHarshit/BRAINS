{
  "cells": [
    {
      "cell_type": "markdown",
      "metadata": {
        "id": "wkmMdQQ_BEwE"
      },
      "source": [
        "# Installing Dependencies"
      ]
    },
    {
      "cell_type": "code",
      "execution_count": 1,
      "metadata": {
        "id": "zADASL7nv60R"
      },
      "outputs": [
        {
          "name": "stderr",
          "output_type": "stream",
          "text": [
            "\n",
            "[notice] A new release of pip is available: 24.0 -> 25.1.1\n",
            "[notice] To update, run: C:\\Users\\Admin\\AppData\\Local\\Microsoft\\WindowsApps\\PythonSoftwareFoundation.Python.3.11_qbz5n2kfra8p0\\python.exe -m pip install --upgrade pip\n",
            "\n",
            "[notice] A new release of pip is available: 24.0 -> 25.1.1\n",
            "[notice] To update, run: C:\\Users\\Admin\\AppData\\Local\\Microsoft\\WindowsApps\\PythonSoftwareFoundation.Python.3.11_qbz5n2kfra8p0\\python.exe -m pip install --upgrade pip\n"
          ]
        }
      ],
      "source": [
        "!pip install yfinance plotly mplfinance --quiet\n",
        "!pip install ta --quiet\n",
        "import yfinance as yf\n",
        "import mplfinance as mpf\n",
        "import pandas as pd\n",
        "import numpy as np\n",
        "import plotly.graph_objects as go\n",
        "import plotly.express as px\n",
        "import plotly.subplots as sp\n",
        "import matplotlib.pyplot as plt\n",
        "import statistics\n",
        "import ta"
      ]
    },
    {
      "cell_type": "markdown",
      "metadata": {
        "id": "TiUzmmOEwnFP"
      },
      "source": [
        "# Problem Statement 1: Trade Logic & Risk Control Basics"
      ]
    },
    {
      "cell_type": "markdown",
      "metadata": {
        "id": "z5VXhPqjwv6K"
      },
      "source": [
        "### 1. What does leverage less than 1 mean? Does it normally make financial sense? Think of its utility/applicability in our backtesting engine, if any. (Hint: Think of position sizing)"
      ]
    },
    {
      "cell_type": "markdown",
      "metadata": {
        "id": "FND-buhvwkhI"
      },
      "source": [
        "#### Leverage less than 1 implies that a trader is using only a portion of their available capital for each trade, keeping the rest in reserve (e.g., 0.5 leverage means using 50% of your capital per trade). While this results in lower returns, it also significantly reduces risk exposure and drawdowns. It’s a conservative strategy, especially useful in volatile markets or when position sizing is more important than maximizing returns. In a backtesting engine, leverage < 1 can simulate capital preservation strategies or scaled diversification by preventing full exposure. This allows modeling how different allocation strategies (e.g., risk-parity, Kelly criterion) would perform historically."
      ]
    },
    {
      "cell_type": "markdown",
      "metadata": {
        "id": "nY072VX-xAbo"
      },
      "source": [
        "### 2. Explain the difference between a static stop loss and a trailing stop loss in the context of trade risk management. Discuss how each behaves in a trending market versus a volatile market.\n"
      ]
    },
    {
      "cell_type": "markdown",
      "metadata": {
        "id": "yRVyXPXyxGRG"
      },
      "source": [
        "#### A static stop-loss is fixed at a set price below (long) or above (short) the entry point and does not move. A trailing stop-loss adjusts upward (or downward) as the trade becomes favorable, locking in profits without capping gains.\n",
        "#### In a trending market, trailing stop-losses are more effective, allowing profits to run while still protecting against reversals. Static stop-losses may exit too early.\n",
        "#### In volatile markets, static stop-losses can trigger frequently due to random noise, while trailing stop-losses may also suffer but can offer more flexibility if the volatility is directional. The choice depends on the trade’s time horizon and volatility tolerance.\n",
        "\n"
      ]
    },
    {
      "cell_type": "markdown",
      "metadata": {
        "id": "oNml-tmCxJoo"
      },
      "source": [
        "### 3. Analyze whether implementing a trailing take profit is necessary. Is its behavior captured by some other already defined risk management method? If yes, then name it."
      ]
    },
    {
      "cell_type": "markdown",
      "metadata": {
        "id": "c1TEtNVBxSku"
      },
      "source": [
        "#### A trailing take profit isn't strictly necessary if a trailing stop-loss (TSL) is implemented. TSL inherently serves a similar purpose — it allows profits to run while ensuring a stop is executed if the asset reverses beyond a threshold. Thus, a trailing take profit’s behavior is captured by the TSL, which dynamically follows the price upward and locks in profits as the market turns. Explicitly implementing a trailing take profit could lead to redundancy and logic conflicts. In our engine, defining a TSL alone suffices to handle both profit protection and exit logic without needing a separate trailing TP mechanism."
      ]
    },
    {
      "cell_type": "markdown",
      "metadata": {
        "id": "jem6abLtxWUB"
      },
      "source": [
        "### 4.In what scenarios can a trade remain open even after the price falls below the set stop-loss level?"
      ]
    },
    {
      "cell_type": "markdown",
      "metadata": {
        "id": "2_nNvCVHxbge"
      },
      "source": [
        "#### This can happen due to the way stop-loss is implemented in the engine. If the engine checks only the close price (and not intraday lows), the trade won’t close unless the close is below the stop-loss. So, if the low of the candle breaches the stop-loss but recovers before closing, the trade remains open. This emphasizes the importance of using intrabar (high/low) data to trigger exits. Another scenario is if stop-loss is a market order simulated without slippage — in real life, execution may lag or fail at the stop level due to gaps or illiquidity, though our engine doesn't simulate such slippage."
      ]
    },
    {
      "cell_type": "markdown",
      "metadata": {
        "id": "DeGaoQ3JxfUg"
      },
      "source": [
        "# Problem Statement 2: Probabilistic Pattern Validator"
      ]
    },
    {
      "cell_type": "code",
      "execution_count": 2,
      "metadata": {
        "colab": {
          "base_uri": "https://localhost:8080/",
          "height": 206
        },
        "id": "NepaHPjx2PZM",
        "outputId": "26387738-a07c-4199-9f4a-4beb5ab594a6"
      },
      "outputs": [
        {
          "name": "stderr",
          "output_type": "stream",
          "text": [
            "C:\\Users\\Admin\\AppData\\Local\\Temp\\ipykernel_25932\\1347482226.py:2: FutureWarning: YF.download() has changed argument auto_adjust default to True\n",
            "  data = yf.download(ticker, start=start, end=end, interval=interval, progress=False)\n"
          ]
        },
        {
          "data": {
            "text/html": [
              "<div>\n",
              "<style scoped>\n",
              "    .dataframe tbody tr th:only-of-type {\n",
              "        vertical-align: middle;\n",
              "    }\n",
              "\n",
              "    .dataframe tbody tr th {\n",
              "        vertical-align: top;\n",
              "    }\n",
              "\n",
              "    .dataframe thead th {\n",
              "        text-align: right;\n",
              "    }\n",
              "</style>\n",
              "<table border=\"1\" class=\"dataframe\">\n",
              "  <thead>\n",
              "    <tr style=\"text-align: right;\">\n",
              "      <th></th>\n",
              "      <th>datetime</th>\n",
              "      <th>close</th>\n",
              "      <th>high</th>\n",
              "      <th>low</th>\n",
              "      <th>open</th>\n",
              "      <th>volume</th>\n",
              "    </tr>\n",
              "  </thead>\n",
              "  <tbody>\n",
              "    <tr>\n",
              "      <th>0</th>\n",
              "      <td>2024-06-03</td>\n",
              "      <td>4298.049805</td>\n",
              "      <td>4324.000000</td>\n",
              "      <td>4230.100098</td>\n",
              "      <td>4324.000000</td>\n",
              "      <td>775065</td>\n",
              "    </tr>\n",
              "    <tr>\n",
              "      <th>1</th>\n",
              "      <td>2024-06-04</td>\n",
              "      <td>4073.199951</td>\n",
              "      <td>4340.000000</td>\n",
              "      <td>3868.250000</td>\n",
              "      <td>4340.000000</td>\n",
              "      <td>1977245</td>\n",
              "    </tr>\n",
              "    <tr>\n",
              "      <th>2</th>\n",
              "      <td>2024-06-05</td>\n",
              "      <td>4348.500000</td>\n",
              "      <td>4363.799805</td>\n",
              "      <td>4030.000000</td>\n",
              "      <td>4120.000000</td>\n",
              "      <td>1729894</td>\n",
              "    </tr>\n",
              "    <tr>\n",
              "      <th>3</th>\n",
              "      <td>2024-06-06</td>\n",
              "      <td>4301.000000</td>\n",
              "      <td>4357.000000</td>\n",
              "      <td>4260.000000</td>\n",
              "      <td>4350.049805</td>\n",
              "      <td>1087088</td>\n",
              "    </tr>\n",
              "    <tr>\n",
              "      <th>4</th>\n",
              "      <td>2024-06-07</td>\n",
              "      <td>4373.200195</td>\n",
              "      <td>4411.000000</td>\n",
              "      <td>4320.200195</td>\n",
              "      <td>4355.000000</td>\n",
              "      <td>2066566</td>\n",
              "    </tr>\n",
              "  </tbody>\n",
              "</table>\n",
              "</div>"
            ],
            "text/plain": [
              "    datetime        close         high          low         open   volume\n",
              "0 2024-06-03  4298.049805  4324.000000  4230.100098  4324.000000   775065\n",
              "1 2024-06-04  4073.199951  4340.000000  3868.250000  4340.000000  1977245\n",
              "2 2024-06-05  4348.500000  4363.799805  4030.000000  4120.000000  1729894\n",
              "3 2024-06-06  4301.000000  4357.000000  4260.000000  4350.049805  1087088\n",
              "4 2024-06-07  4373.200195  4411.000000  4320.200195  4355.000000  2066566"
            ]
          },
          "execution_count": 2,
          "metadata": {},
          "output_type": "execute_result"
        }
      ],
      "source": [
        "def download_flat_yf(ticker, start, end, interval):\n",
        "    data = yf.download(ticker, start=start, end=end, interval=interval, progress=False)\n",
        "    if isinstance(data.columns, pd.MultiIndex):\n",
        "        data = data.xs(ticker, axis=1, level=1)\n",
        "\n",
        "    data.columns.name = None\n",
        "    data.reset_index(inplace=True)\n",
        "    data.columns = [col.lower() for col in data.columns]\n",
        "    if data.columns[0] in ['date', 'datetime']:\n",
        "        data.rename(columns={data.columns[0]: 'datetime'}, inplace=True)\n",
        "    data.loc[:,'datetime'] = pd.to_datetime(data['datetime'])\n",
        "\n",
        "    return data\n",
        "\n",
        "stock_symbol = 'INDIGO.NS'\n",
        "data = download_flat_yf(stock_symbol, start='2024-06-01', end='2025-06-01', interval='1d')\n",
        "data.head()\n",
        "\n",
        "df = data.copy()\n",
        "df.head()"
      ]
    },
    {
      "cell_type": "markdown",
      "metadata": {
        "id": "5gsQ1P714VAi"
      },
      "source": [
        "### 1.Patter Identification :"
      ]
    },
    {
      "cell_type": "code",
      "execution_count": 44,
      "metadata": {
        "colab": {
          "base_uri": "https://localhost:8080/",
          "height": 178
        },
        "id": "rLKWb5zH2uGc",
        "outputId": "619f05f5-7a1b-4737-b227-ede19c28258b"
      },
      "outputs": [
        {
          "data": {
            "text/plain": [
              "Doji         29\n",
              "Hammer       30\n",
              "Engulfing    28\n",
              "dtype: int64"
            ]
          },
          "metadata": {},
          "output_type": "display_data"
        }
      ],
      "source": [
        "def is_doji(row):\n",
        "    body = abs(row['open'] - row['close'])\n",
        "    range_ = row['high'] - row['low'] + 1e-9\n",
        "    return body / range_ < 0.1\n",
        "\n",
        "def is_hammer(row):\n",
        "    body = abs(row['close'] - row['open'])\n",
        "    lower_shadow = row['open'] - row['low'] if row['open'] > row['close'] else row['close'] - row['low']\n",
        "    upper_shadow = row['high'] - max(row['open'], row['close'])\n",
        "    return lower_shadow > 2 * body and upper_shadow < body\n",
        "\n",
        "def is_engulfing(prev_row, curr_row):\n",
        "    prev_body = prev_row['close'] - prev_row['open']\n",
        "    curr_body = curr_row['close'] - curr_row['open']\n",
        "    return (prev_body < 0 and curr_body > 0 and\n",
        "            curr_row['close'] > prev_row['open'] and curr_row['open'] < prev_row['close']) or \\\n",
        "           (prev_body > 0 and curr_body < 0 and\n",
        "            curr_row['open'] > prev_row['close'] and curr_row['close'] < prev_row['open'])\n",
        "\n",
        "# Creating pattern columns\n",
        "df['Doji'] = df.apply(is_doji, axis=1)\n",
        "df['Hammer'] = df.apply(is_hammer, axis=1)\n",
        "df['Engulfing'] = [False] + [is_engulfing(df.iloc[i-1], df.iloc[i]) for i in range(1, len(df))]\n",
        "\n",
        "display(df[['Doji', 'Hammer', 'Engulfing']].sum())"
      ]
    },
    {
      "cell_type": "markdown",
      "metadata": {
        "id": "mfpZsBNK4Zyq"
      },
      "source": [
        "### 2. Win-Rate Calculation:"
      ]
    },
    {
      "cell_type": "code",
      "execution_count": 4,
      "metadata": {
        "id": "HUTa-FXh3s9W"
      },
      "outputs": [],
      "source": [
        "def compute_win_rate(df, pattern_col, n):\n",
        "    pattern_indices = df[df[pattern_col]].index\n",
        "    wins = 0\n",
        "    total = 0\n",
        "\n",
        "    for idx in pattern_indices:\n",
        "        if idx not in df.index:\n",
        "            continue\n",
        "        try:\n",
        "            current_price = df.loc[idx]['close']\n",
        "            future_price = df.loc[df.index[df.index.get_loc(idx) + n]]['close']\n",
        "            if future_price > current_price:\n",
        "                wins += 1\n",
        "            total += 1\n",
        "        except IndexError:\n",
        "            continue\n",
        "    return 100 * wins / total if total > 0 else 0\n"
      ]
    },
    {
      "cell_type": "markdown",
      "metadata": {
        "id": "moqmuPDH4ia6"
      },
      "source": [
        "### 3. Baseline Win-Rate:"
      ]
    },
    {
      "cell_type": "code",
      "execution_count": 5,
      "metadata": {
        "id": "EKYV4xPp3xxs"
      },
      "outputs": [],
      "source": [
        "import numpy as np\n",
        "\n",
        "def baseline_win_rate(df, M, n):\n",
        "    max_index = len(df) - n\n",
        "    indices = np.random.choice(max_index, M, replace=False)\n",
        "    wins = 0\n",
        "    for idx in indices:\n",
        "        try:\n",
        "            current_price = df.iloc[idx]['close']\n",
        "            future_price = df.iloc[idx + n]['close']\n",
        "            if future_price > current_price:\n",
        "                wins += 1\n",
        "        except IndexError:\n",
        "            continue\n",
        "    return 100 * wins / M\n"
      ]
    },
    {
      "cell_type": "markdown",
      "metadata": {
        "id": "lbnYYgVk4kF1"
      },
      "source": [
        "### 4. Visualization:"
      ]
    },
    {
      "cell_type": "code",
      "execution_count": 6,
      "metadata": {
        "colab": {
          "base_uri": "https://localhost:8080/",
          "height": 538
        },
        "id": "HIJw39d630n8",
        "outputId": "8df932eb-8f91-4d55-93f9-2824f8f38739"
      },
      "outputs": [
        {
          "data": {
            "image/png": "[encoded data removed]",
            "text/plain": [
              "<Figure size 800x600 with 1 Axes>"
            ]
          },
          "metadata": {},
          "output_type": "display_data"
        }
      ],
      "source": [
        "import matplotlib.pyplot as plt\n",
        "\n",
        "def run_analysis(n):\n",
        "    patterns = ['Doji', 'Hammer', 'Engulfing']\n",
        "    win_rates = []\n",
        "    counts = []\n",
        "\n",
        "    for pattern in patterns:\n",
        "        rate = compute_win_rate(df, pattern, n)\n",
        "        win_rates.append(rate)\n",
        "        counts.append(df[pattern].sum())\n",
        "\n",
        "    baseline = baseline_win_rate(df, sum(counts), n)\n",
        "    win_rates = [baseline] + win_rates\n",
        "\n",
        "    # Plotting\n",
        "    labels = ['Baseline'] + patterns\n",
        "    plt.figure(figsize=(8, 6))\n",
        "    bars = plt.bar(labels, win_rates, color=['gray', 'blue', 'green', 'red'])\n",
        "    plt.ylabel('Win Rate (%)')\n",
        "    plt.title(f'Pattern vs Baseline Win Rate (n = {n})')\n",
        "    plt.ylim(0, 100)\n",
        "    for bar in bars:\n",
        "        yval = bar.get_height()\n",
        "        plt.text(bar.get_x() + 0.1, yval + 1, f\"{yval:.2f}%\")\n",
        "    plt.show()\n",
        "\n",
        "    return dict(zip(labels, win_rates))\n",
        "\n",
        "# Example: Run for n = 3\n",
        "results_n3 = run_analysis(n=3)\n"
      ]
    },
    {
      "cell_type": "code",
      "execution_count": 7,
      "metadata": {
        "colab": {
          "base_uri": "https://localhost:8080/",
          "height": 538
        },
        "id": "Xzf42Ixu38At",
        "outputId": "85347cc5-f6cb-478f-8987-15e08cefcd40"
      },
      "outputs": [
        {
          "data": {
            "image/png": "[encoded data removed]",
            "text/plain": [
              "<Figure size 800x600 with 1 Axes>"
            ]
          },
          "metadata": {},
          "output_type": "display_data"
        }
      ],
      "source": [
        "# And for n = 5\n",
        "results_n5 = run_analysis(n=5)\n"
      ]
    },
    {
      "cell_type": "markdown",
      "metadata": {
        "id": "WSp7IT4a4ojA"
      },
      "source": [
        "### Answer in context to above question :"
      ]
    },
    {
      "cell_type": "markdown",
      "metadata": {
        "id": "j8xZMWWf4u4a"
      },
      "source": [
        "### 1. Interpret whether each pattern provides a statistically significant edge over the baseline.\n"
      ]
    },
    {
      "cell_type": "markdown",
      "metadata": {
        "id": "6T7MbJZR42S6"
      },
      "source": [
        "#### Interpret Statistical Edge:\n",
        "#### If any pattern's win rate is significantly higher than the baseline across both n=3 and n=5, it can be considered to offer a statistical edge. For example, if Doji has 60% vs baseline 52%, that's significant. We compare each pattern’s win rate to the baseline in the plotted bar chart."
      ]
    },
    {
      "cell_type": "markdown",
      "metadata": {
        "id": "QdfWFbMr4_ta"
      },
      "source": [
        "### 2. How does changing n affect the win-rates? No need to show your results. Answer qualitatively."
      ]
    },
    {
      "cell_type": "markdown",
      "metadata": {
        "id": "Ik0E_gj75DSg"
      },
      "source": [
        "#### Effect of Changing n:\n",
        "#### As n increases (e.g., from 3 to 5), patterns may lose effectiveness because market noise increases. A short-term pattern may not reliably predict long-term movement."
      ]
    },
    {
      "cell_type": "markdown",
      "metadata": {
        "id": "TbFCf-3J5Hey"
      },
      "source": [
        "### 3. Which pattern shows the most consistent performance on different n? Why would that be?"
      ]
    },
    {
      "cell_type": "markdown",
      "metadata": {
        "id": "4H1WjEVw5NXB"
      },
      "source": [
        "#### Most Consistent Pattern:\n",
        "#### Typically, the Engulfing pattern shows the most consistent performance across time windows due to its strong reversal signal. Doji, being ambiguous, may fluctuate more."
      ]
    },
    {
      "cell_type": "markdown",
      "metadata": {
        "id": "mrhBtvXN5dMx"
      },
      "source": [
        "# Problem Statement 3: Strategy X - Visual Interpretation and Implementation"
      ]
    },
    {
      "cell_type": "markdown",
      "metadata": {
        "id": "2-GfNtmkUppt"
      },
      "source": [
        "## 1. Chart Interpretation:"
      ]
    },
    {
      "cell_type": "markdown",
      "metadata": {
        "id": "LrqugmY5BBwl"
      },
      "source": [
        "### Chart Interpretation – Nifty 50 (Daily Timeframe)\n",
        "\n",
        "This chart shows a technical analysis of the Nifty 50 index using three components:\n",
        "\n",
        "1. Heiken Ashi candles (used only for trend visualization)\n",
        "2. Supertrend indicator (10, 3)\n",
        "3. Money Flow Index (MFI) with a 14-period setting\n",
        "\n",
        "Heiken Ashi candles are applied to smooth out price action and make trends easier to identify. However, these candles are used only for calculating and displaying the Supertrend indicator. The actual trading signals and MFI are based on standard price data, particularly the closing price.\n",
        "\n",
        "---\n",
        "\n",
        "#### Indicators Used\n",
        "\n",
        "**Heiken Ashi:**  \n",
        "This is a modified version of candlesticks that smooths price fluctuations and is visually helpful for identifying trends.\n",
        "\n",
        "**Supertrend (10, 3):**  \n",
        "A trend-following indicator that changes color based on direction. A green Supertrend indicates an uptrend, and a red Supertrend indicates a downtrend.\n",
        "\n",
        "**MFI (Money Flow Index - 14 period):**  \n",
        "This oscillator uses both price and volume to identify overbought or oversold conditions. It also helps assess whether buying or selling pressure is increasing.\n",
        "\n",
        "---\n",
        "\n",
        "#### How to Interpret the Chart\n",
        "\n",
        "**Buy Signals (Long Entry):**\n",
        "- Green arrow appears below the candle.\n",
        "- Supertrend flips to green (uptrend begins).\n",
        "- MFI is rising from low levels (usually below 30), indicating increasing buying pressure.\n",
        "\n",
        "**Sell Signals (Short Entry):**\n",
        "- Red arrow appears above the candle.\n",
        "- Supertrend flips to red (downtrend begins).\n",
        "- MFI is falling from higher levels (above 50 or 60), suggesting selling pressure is increasing.\n",
        "\n",
        "**Sideways or No Trade Zones:**\n",
        "- Supertrend remains flat or choppy.\n",
        "- MFI oscillates around 50, without strong direction.\n",
        "- These are best avoided for new trades.\n",
        "\n",
        "---\n",
        "\n",
        "#### MFI Annotations and Zones\n",
        "\n",
        "- If MFI is rising from below 30, it shows buying pressure is increasing.\n",
        "- If MFI is falling from above 70, it suggests buying pressure is decreasing.\n",
        "- An MFI value above 80 indicates overbought conditions.\n",
        "- An MFI value below 20 indicates oversold conditions.\n",
        "- The annotations on the MFI in the chart highlight when pressure (buying or selling) is rising or falling, which can help confirm or reject entries based on price action.\n",
        "\n",
        "---\n",
        "\n",
        "#### Summary of Strategy\n",
        "\n",
        "- Use the Supertrend with Heiken Ashi to detect overall trend direction.\n",
        "- Use MFI to measure the strength of the trend and identify potential reversals.\n",
        "- Combine trend direction (from Supertrend) with momentum/volume pressure (from MFI) to decide entry and exit points.\n",
        "- Make sure to use only the actual candle close price when executing trades.\n",
        "- After generating signals using Heiken Ashi logic, drop any additional Heiken Ashi columns if you're preparing data for backtesting.\n",
        "\n",
        "---\n",
        "\n",
        "This approach combines trend-following logic with volume-based confirmation to generate more reliable trading signals, while avoiding false entries during consolidation phases.\n"
      ]
    },
    {
      "cell_type": "markdown",
      "metadata": {
        "id": "vIiYhblEUvNs"
      },
      "source": [
        "## 2. Entry and Exit Rules:"
      ]
    },
    {
      "cell_type": "markdown",
      "metadata": {
        "id": "YWnM3nVyVd31"
      },
      "source": [
        "### Entry and Exit Rules Based on Supertrend and MFI\n",
        "\n",
        "This section outlines the specific conditions for entering and exiting **long** and **short** positions, derived from the combination of Supertrend and Money Flow Index (MFI) analysis, as visualized in the chart.\n",
        "\n",
        "---\n",
        "\n",
        "#### Long (Buy) Entry Conditions\n",
        "\n",
        "Enter a long position when **all** of the following are true:\n",
        "\n",
        "1. **Supertrend turns green**, indicating a shift to an uptrend.\n",
        "2. The price candle closes **above the Supertrend line**.\n",
        "3. **MFI is rising**, ideally from a value below 40 (shows increasing buying pressure).\n",
        "4. Avoid entries if MFI is already over 80 (overbought zone).\n",
        "\n",
        "**Optional confirmation:** Look for a green arrow or an MFI breakout above 30 from a recent low.\n",
        "\n",
        "---\n",
        "\n",
        "#### Long (Buy) Exit Conditions\n",
        "\n",
        "Exit the long position if **any** of the following occur:\n",
        "\n",
        "1. **Supertrend flips to red**, signaling a trend reversal.\n",
        "2. Price closes **below the Supertrend line**.\n",
        "3. **MFI starts falling** from above 70, indicating decreasing buying pressure.\n",
        "4. Lateral (sideways) movement with MFI flattening near 50 (loss of trend strength).\n",
        "\n",
        "---\n",
        "\n",
        "#### Short (Sell) Entry Conditions\n",
        "\n",
        "Enter a short position when **all** of the following are met:\n",
        "\n",
        "1. **Supertrend turns red**, indicating a downtrend has begun.\n",
        "2. The price closes **below the Supertrend line**.\n",
        "3. **MFI is falling**, ideally from a level above 60 (shows increasing selling pressure).\n",
        "4. Avoid shorting if MFI is already below 20 (oversold zone).\n",
        "\n",
        "**Optional confirmation:** Look for a red arrow or MFI breakdown below 60 after a peak.\n",
        "\n",
        "---\n",
        "\n",
        "#### Short (Sell) Exit Conditions\n",
        "\n",
        "Exit the short position if **any** of the following are true:\n",
        "\n",
        "1. **Supertrend flips to green**, suggesting a bullish reversal.\n",
        "2. Price closes **above the Supertrend line**.\n",
        "3. **MFI begins rising** from below 30, indicating buyers are gaining control.\n",
        "4. Market enters sideways consolidation and MFI stays near 50.\n",
        "\n",
        "---\n",
        "\n",
        "#### Alternative Variants (Optional)\n",
        "\n",
        "Since technical analysis is subjective, the following rule tweaks may be tested:\n",
        "\n",
        "- **Loose MFI Filters:** Allow entries even if MFI is between 40–60, provided price action is strong and supported by volume.\n",
        "- **Use MFI Crossovers:** Instead of fixed thresholds, monitor MFI crossovers (e.g., crossing above 50 for buy or below 50 for sell).\n",
        "- **Heiken Ashi confirmation:** Wait for two consecutive bullish or bearish Heiken Ashi candles to confirm the trend direction before entry.\n",
        "- **ATR-based stop-loss:** Instead of waiting for trend reversal, exit based on volatility-based stop-loss using ATR.\n",
        "\n",
        "---\n",
        "\n",
        "**Note:** Always backtest rule combinations before using them in a live environment. No technical strategy guarantees success in every market condition.\n"
      ]
    },
    {
      "cell_type": "markdown",
      "metadata": {
        "id": "cboegsoYWcQi"
      },
      "source": [
        "## 3. Strategy Implementation and Backtest:"
      ]
    },
    {
      "cell_type": "code",
      "execution_count": 8,
      "metadata": {
        "colab": {
          "base_uri": "https://localhost:8080/",
          "height": 206
        },
        "id": "O56qNtpMWgDz",
        "outputId": "7a8c3a46-4942-4a92-e565-9fb1ce5a4a84"
      },
      "outputs": [
        {
          "name": "stderr",
          "output_type": "stream",
          "text": [
            "C:\\Users\\Admin\\AppData\\Local\\Temp\\ipykernel_25932\\2759086147.py:2: FutureWarning: YF.download() has changed argument auto_adjust default to True\n",
            "  data = yf.download(ticker, start=start, end=end, interval=interval, progress=False)\n"
          ]
        },
        {
          "data": {
            "text/html": [
              "<div>\n",
              "<style scoped>\n",
              "    .dataframe tbody tr th:only-of-type {\n",
              "        vertical-align: middle;\n",
              "    }\n",
              "\n",
              "    .dataframe tbody tr th {\n",
              "        vertical-align: top;\n",
              "    }\n",
              "\n",
              "    .dataframe thead th {\n",
              "        text-align: right;\n",
              "    }\n",
              "</style>\n",
              "<table border=\"1\" class=\"dataframe\">\n",
              "  <thead>\n",
              "    <tr style=\"text-align: right;\">\n",
              "      <th></th>\n",
              "      <th>datetime</th>\n",
              "      <th>close</th>\n",
              "      <th>high</th>\n",
              "      <th>low</th>\n",
              "      <th>open</th>\n",
              "      <th>volume</th>\n",
              "    </tr>\n",
              "  </thead>\n",
              "  <tbody>\n",
              "    <tr>\n",
              "      <th>0</th>\n",
              "      <td>2024-06-03</td>\n",
              "      <td>4298.049805</td>\n",
              "      <td>4324.000000</td>\n",
              "      <td>4230.100098</td>\n",
              "      <td>4324.000000</td>\n",
              "      <td>775065</td>\n",
              "    </tr>\n",
              "    <tr>\n",
              "      <th>1</th>\n",
              "      <td>2024-06-04</td>\n",
              "      <td>4073.199951</td>\n",
              "      <td>4340.000000</td>\n",
              "      <td>3868.250000</td>\n",
              "      <td>4340.000000</td>\n",
              "      <td>1977245</td>\n",
              "    </tr>\n",
              "    <tr>\n",
              "      <th>2</th>\n",
              "      <td>2024-06-05</td>\n",
              "      <td>4348.500000</td>\n",
              "      <td>4363.799805</td>\n",
              "      <td>4030.000000</td>\n",
              "      <td>4120.000000</td>\n",
              "      <td>1729894</td>\n",
              "    </tr>\n",
              "    <tr>\n",
              "      <th>3</th>\n",
              "      <td>2024-06-06</td>\n",
              "      <td>4301.000000</td>\n",
              "      <td>4357.000000</td>\n",
              "      <td>4260.000000</td>\n",
              "      <td>4350.049805</td>\n",
              "      <td>1087088</td>\n",
              "    </tr>\n",
              "    <tr>\n",
              "      <th>4</th>\n",
              "      <td>2024-06-07</td>\n",
              "      <td>4373.200195</td>\n",
              "      <td>4411.000000</td>\n",
              "      <td>4320.200195</td>\n",
              "      <td>4355.000000</td>\n",
              "      <td>2066566</td>\n",
              "    </tr>\n",
              "  </tbody>\n",
              "</table>\n",
              "</div>"
            ],
            "text/plain": [
              "    datetime        close         high          low         open   volume\n",
              "0 2024-06-03  4298.049805  4324.000000  4230.100098  4324.000000   775065\n",
              "1 2024-06-04  4073.199951  4340.000000  3868.250000  4340.000000  1977245\n",
              "2 2024-06-05  4348.500000  4363.799805  4030.000000  4120.000000  1729894\n",
              "3 2024-06-06  4301.000000  4357.000000  4260.000000  4350.049805  1087088\n",
              "4 2024-06-07  4373.200195  4411.000000  4320.200195  4355.000000  2066566"
            ]
          },
          "execution_count": 8,
          "metadata": {},
          "output_type": "execute_result"
        }
      ],
      "source": [
        "def download_flat_yf(ticker, start, end, interval):\n",
        "    data = yf.download(ticker, start=start, end=end, interval=interval, progress=False)\n",
        "    if isinstance(data.columns, pd.MultiIndex):\n",
        "        data = data.xs(ticker, axis=1, level=1)\n",
        "\n",
        "    data.columns.name = None\n",
        "    data.reset_index(inplace=True)\n",
        "    data.columns = [col.lower() for col in data.columns]\n",
        "    if data.columns[0] in ['date', 'datetime']:\n",
        "        data.rename(columns={data.columns[0]: 'datetime'}, inplace=True)\n",
        "    data.loc[:,'datetime'] = pd.to_datetime(data['datetime'])\n",
        "\n",
        "    return data\n",
        "\n",
        "stock_symbol = 'INDIGO.NS'\n",
        "data = download_flat_yf(stock_symbol, start='2024-06-01', end='2025-06-01', interval='1d')\n",
        "data.head()"
      ]
    },
    {
      "cell_type": "code",
      "execution_count": 9,
      "metadata": {
        "colab": {
          "base_uri": "https://localhost:8080/"
        },
        "id": "wB7-NyL_QpTX",
        "outputId": "f690cbeb-6e90-4c59-a22e-382c166f7d69"
      },
      "outputs": [
        {
          "name": "stdout",
          "output_type": "stream",
          "text": [
            "<class 'pandas.core.frame.DataFrame'>\n",
            "RangeIndex: 247 entries, 0 to 246\n",
            "Data columns (total 6 columns):\n",
            " #   Column    Non-Null Count  Dtype         \n",
            "---  ------    --------------  -----         \n",
            " 0   datetime  247 non-null    datetime64[ns]\n",
            " 1   close     247 non-null    float64       \n",
            " 2   high      247 non-null    float64       \n",
            " 3   low       247 non-null    float64       \n",
            " 4   open      247 non-null    float64       \n",
            " 5   volume    247 non-null    int64         \n",
            "dtypes: datetime64[ns](1), float64(4), int64(1)\n",
            "memory usage: 11.7 KB\n"
          ]
        }
      ],
      "source": [
        "data.info()"
      ]
    },
    {
      "cell_type": "code",
      "execution_count": 10,
      "metadata": {
        "colab": {
          "base_uri": "https://localhost:8080/",
          "height": 542
        },
        "id": "Rro8Bl_GQrPI",
        "outputId": "59c9a4d6-85df-4c21-a376-2addf6485224"
      },
      "outputs": [
        {
          "data": {
            "application/vnd.plotly.v1+json": {
              "config": {
                "plotlyServerURL": "https://plot.ly"
              },
              "data": [
                {
                  "close": {
                    "bdata": "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",
                    "dtype": "f8"
                  },
                  "high": {
                    "bdata": "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",
                    "dtype": "f8"
                  },
                  "low": {
                    "bdata": "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",
                    "dtype": "f8"
                  },
                  "open": {
                    "bdata": "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",
                    "dtype": "f8"
                  },
                  "type": "candlestick",
                  "x": {
                    "bdata": "AAABAAIAAwAEAAUABgAHAAgACQAKAAsADAANAA4ADwAQABEAEgATABQAFQAWABcAGAAZABoAGwAcAB0AHgAfACAAIQAiACMAJAAlACYAJwAoACkAKgArACwALQAuAC8AMAAxADIAMwA0ADUANgA3ADgAOQA6ADsAPAA9AD4APwBAAEEAQgBDAEQARQBGAEcASABJAEoASwBMAE0ATgBPAFAAUQBSAFMAVABVAFYAVwBYAFkAWgBbAFwAXQBeAF8AYABhAGIAYwBkAGUAZgBnAGgAaQBqAGsAbABtAG4AbwBwAHEAcgBzAHQAdQB2AHcAeAB5AHoAewB8AH0AfgB/AIAAgQCCAIMAhACFAIYAhwCIAIkAigCLAIwAjQCOAI8AkACRAJIAkwCUAJUAlgCXAJgAmQCaAJsAnACdAJ4AnwCgAKEAogCjAKQApQCmAKcAqACpAKoAqwCsAK0ArgCvALAAsQCyALMAtAC1ALYAtwC4ALkAugC7ALwAvQC+AL8AwADBAMIAwwDEAMUAxgDHAMgAyQDKAMsAzADNAM4AzwDQANEA0gDTANQA1QDWANcA2ADZANoA2wDcAN0A3gDfAOAA4QDiAOMA5ADlAOYA5wDoAOkA6gDrAOwA7QDuAO8A8ADxAPIA8wD0APUA9gA=",
                    "dtype": "i2"
                  }
                }
              ],
              "layout": {
                "template": {
                  "data": {
                    "bar": [
                      {
                        "error_x": {
                          "color": "#2a3f5f"
                        },
                        "error_y": {
                          "color": "#2a3f5f"
                        },
                        "marker": {
                          "line": {
                            "color": "#E5ECF6",
                            "width": 0.5
                          },
                          "pattern": {
                            "fillmode": "overlay",
                            "size": 10,
                            "solidity": 0.2
                          }
                        },
                        "type": "bar"
                      }
                    ],
                    "barpolar": [
                      {
                        "marker": {
                          "line": {
                            "color": "#E5ECF6",
                            "width": 0.5
                          },
                          "pattern": {
                            "fillmode": "overlay",
                            "size": 10,
                            "solidity": 0.2
                          }
                        },
                        "type": "barpolar"
                      }
                    ],
                    "carpet": [
                      {
                        "aaxis": {
                          "endlinecolor": "#2a3f5f",
                          "gridcolor": "white",
                          "linecolor": "white",
                          "minorgridcolor": "white",
                          "startlinecolor": "#2a3f5f"
                        },
                        "baxis": {
                          "endlinecolor": "#2a3f5f",
                          "gridcolor": "white",
                          "linecolor": "white",
                          "minorgridcolor": "white",
                          "startlinecolor": "#2a3f5f"
                        },
                        "type": "carpet"
                      }
                    ],
                    "choropleth": [
                      {
                        "colorbar": {
                          "outlinewidth": 0,
                          "ticks": ""
                        },
                        "type": "choropleth"
                      }
                    ],
                    "contour": [
                      {
                        "colorbar": {
                          "outlinewidth": 0,
                          "ticks": ""
                        },
                        "colorscale": [
                          [
                            0,
                            "#0d0887"
                          ],
                          [
                            0.1111111111111111,
                            "#46039f"
                          ],
                          [
                            0.2222222222222222,
                            "#7201a8"
                          ],
                          [
                            0.3333333333333333,
                            "#9c179e"
                          ],
                          [
                            0.4444444444444444,
                            "#bd3786"
                          ],
                          [
                            0.5555555555555556,
                            "#d8576b"
                          ],
                          [
                            0.6666666666666666,
                            "#ed7953"
                          ],
                          [
                            0.7777777777777778,
                            "#fb9f3a"
                          ],
                          [
                            0.8888888888888888,
                            "#fdca26"
                          ],
                          [
                            1,
                            "#f0f921"
                          ]
                        ],
                        "type": "contour"
                      }
                    ],
                    "contourcarpet": [
                      {
                        "colorbar": {
                          "outlinewidth": 0,
                          "ticks": ""
                        },
                        "type": "contourcarpet"
                      }
                    ],
                    "heatmap": [
                      {
                        "colorbar": {
                          "outlinewidth": 0,
                          "ticks": ""
                        },
                        "colorscale": [
                          [
                            0,
                            "#0d0887"
                          ],
                          [
                            0.1111111111111111,
                            "#46039f"
                          ],
                          [
                            0.2222222222222222,
                            "#7201a8"
                          ],
                          [
                            0.3333333333333333,
                            "#9c179e"
                          ],
                          [
                            0.4444444444444444,
                            "#bd3786"
                          ],
                          [
                            0.5555555555555556,
                            "#d8576b"
                          ],
                          [
                            0.6666666666666666,
                            "#ed7953"
                          ],
                          [
                            0.7777777777777778,
                            "#fb9f3a"
                          ],
                          [
                            0.8888888888888888,
                            "#fdca26"
                          ],
                          [
                            1,
                            "#f0f921"
                          ]
                        ],
                        "type": "heatmap"
                      }
                    ],
                    "histogram": [
                      {
                        "marker": {
                          "pattern": {
                            "fillmode": "overlay",
                            "size": 10,
                            "solidity": 0.2
                          }
                        },
                        "type": "histogram"
                      }
                    ],
                    "histogram2d": [
                      {
                        "colorbar": {
                          "outlinewidth": 0,
                          "ticks": ""
                        },
                        "colorscale": [
                          [
                            0,
                            "#0d0887"
                          ],
                          [
                            0.1111111111111111,
                            "#46039f"
                          ],
                          [
                            0.2222222222222222,
                            "#7201a8"
                          ],
                          [
                            0.3333333333333333,
                            "#9c179e"
                          ],
                          [
                            0.4444444444444444,
                            "#bd3786"
                          ],
                          [
                            0.5555555555555556,
                            "#d8576b"
                          ],
                          [
                            0.6666666666666666,
                            "#ed7953"
                          ],
                          [
                            0.7777777777777778,
                            "#fb9f3a"
                          ],
                          [
                            0.8888888888888888,
                            "#fdca26"
                          ],
                          [
                            1,
                            "#f0f921"
                          ]
                        ],
                        "type": "histogram2d"
                      }
                    ],
                    "histogram2dcontour": [
                      {
                        "colorbar": {
                          "outlinewidth": 0,
                          "ticks": ""
                        },
                        "colorscale": [
                          [
                            0,
                            "#0d0887"
                          ],
                          [
                            0.1111111111111111,
                            "#46039f"
                          ],
                          [
                            0.2222222222222222,
                            "#7201a8"
                          ],
                          [
                            0.3333333333333333,
                            "#9c179e"
                          ],
                          [
                            0.4444444444444444,
                            "#bd3786"
                          ],
                          [
                            0.5555555555555556,
                            "#d8576b"
                          ],
                          [
                            0.6666666666666666,
                            "#ed7953"
                          ],
                          [
                            0.7777777777777778,
                            "#fb9f3a"
                          ],
                          [
                            0.8888888888888888,
                            "#fdca26"
                          ],
                          [
                            1,
                            "#f0f921"
                          ]
                        ],
                        "type": "histogram2dcontour"
                      }
                    ],
                    "mesh3d": [
                      {
                        "colorbar": {
                          "outlinewidth": 0,
                          "ticks": ""
                        },
                        "type": "mesh3d"
                      }
                    ],
                    "parcoords": [
                      {
                        "line": {
                          "colorbar": {
                            "outlinewidth": 0,
                            "ticks": ""
                          }
                        },
                        "type": "parcoords"
                      }
                    ],
                    "pie": [
                      {
                        "automargin": true,
                        "type": "pie"
                      }
                    ],
                    "scatter": [
                      {
                        "fillpattern": {
                          "fillmode": "overlay",
                          "size": 10,
                          "solidity": 0.2
                        },
                        "type": "scatter"
                      }
                    ],
                    "scatter3d": [
                      {
                        "line": {
                          "colorbar": {
                            "outlinewidth": 0,
                            "ticks": ""
                          }
                        },
                        "marker": {
                          "colorbar": {
                            "outlinewidth": 0,
                            "ticks": ""
                          }
                        },
                        "type": "scatter3d"
                      }
                    ],
                    "scattercarpet": [
                      {
                        "marker": {
                          "colorbar": {
                            "outlinewidth": 0,
                            "ticks": ""
                          }
                        },
                        "type": "scattercarpet"
                      }
                    ],
                    "scattergeo": [
                      {
                        "marker": {
                          "colorbar": {
                            "outlinewidth": 0,
                            "ticks": ""
                          }
                        },
                        "type": "scattergeo"
                      }
                    ],
                    "scattergl": [
                      {
                        "marker": {
                          "colorbar": {
                            "outlinewidth": 0,
                            "ticks": ""
                          }
                        },
                        "type": "scattergl"
                      }
                    ],
                    "scattermap": [
                      {
                        "marker": {
                          "colorbar": {
                            "outlinewidth": 0,
                            "ticks": ""
                          }
                        },
                        "type": "scattermap"
                      }
                    ],
                    "scattermapbox": [
                      {
                        "marker": {
                          "colorbar": {
                            "outlinewidth": 0,
                            "ticks": ""
                          }
                        },
                        "type": "scattermapbox"
                      }
                    ],
                    "scatterpolar": [
                      {
                        "marker": {
                          "colorbar": {
                            "outlinewidth": 0,
                            "ticks": ""
                          }
                        },
                        "type": "scatterpolar"
                      }
                    ],
                    "scatterpolargl": [
                      {
                        "marker": {
                          "colorbar": {
                            "outlinewidth": 0,
                            "ticks": ""
                          }
                        },
                        "type": "scatterpolargl"
                      }
                    ],
                    "scatterternary": [
                      {
                        "marker": {
                          "colorbar": {
                            "outlinewidth": 0,
                            "ticks": ""
                          }
                        },
                        "type": "scatterternary"
                      }
                    ],
                    "surface": [
                      {
                        "colorbar": {
                          "outlinewidth": 0,
                          "ticks": ""
                        },
                        "colorscale": [
                          [
                            0,
                            "#0d0887"
                          ],
                          [
                            0.1111111111111111,
                            "#46039f"
                          ],
                          [
                            0.2222222222222222,
                            "#7201a8"
                          ],
                          [
                            0.3333333333333333,
                            "#9c179e"
                          ],
                          [
                            0.4444444444444444,
                            "#bd3786"
                          ],
                          [
                            0.5555555555555556,
                            "#d8576b"
                          ],
                          [
                            0.6666666666666666,
                            "#ed7953"
                          ],
                          [
                            0.7777777777777778,
                            "#fb9f3a"
                          ],
                          [
                            0.8888888888888888,
                            "#fdca26"
                          ],
                          [
                            1,
                            "#f0f921"
                          ]
                        ],
                        "type": "surface"
                      }
                    ],
                    "table": [
                      {
                        "cells": {
                          "fill": {
                            "color": "#EBF0F8"
                          },
                          "line": {
                            "color": "white"
                          }
                        },
                        "header": {
                          "fill": {
                            "color": "#C8D4E3"
                          },
                          "line": {
                            "color": "white"
                          }
                        },
                        "type": "table"
                      }
                    ]
                  },
                  "layout": {
                    "annotationdefaults": {
                      "arrowcolor": "#2a3f5f",
                      "arrowhead": 0,
                      "arrowwidth": 1
                    },
                    "autotypenumbers": "strict",
                    "coloraxis": {
                      "colorbar": {
                        "outlinewidth": 0,
                        "ticks": ""
                      }
                    },
                    "colorscale": {
                      "diverging": [
                        [
                          0,
                          "#8e0152"
                        ],
                        [
                          0.1,
                          "#c51b7d"
                        ],
                        [
                          0.2,
                          "#de77ae"
                        ],
                        [
                          0.3,
                          "#f1b6da"
                        ],
                        [
                          0.4,
                          "#fde0ef"
                        ],
                        [
                          0.5,
                          "#f7f7f7"
                        ],
                        [
                          0.6,
                          "#e6f5d0"
                        ],
                        [
                          0.7,
                          "#b8e186"
                        ],
                        [
                          0.8,
                          "#7fbc41"
                        ],
                        [
                          0.9,
                          "#4d9221"
                        ],
                        [
                          1,
                          "#276419"
                        ]
                      ],
                      "sequential": [
                        [
                          0,
                          "#0d0887"
                        ],
                        [
                          0.1111111111111111,
                          "#46039f"
                        ],
                        [
                          0.2222222222222222,
                          "#7201a8"
                        ],
                        [
                          0.3333333333333333,
                          "#9c179e"
                        ],
                        [
                          0.4444444444444444,
                          "#bd3786"
                        ],
                        [
                          0.5555555555555556,
                          "#d8576b"
                        ],
                        [
                          0.6666666666666666,
                          "#ed7953"
                        ],
                        [
                          0.7777777777777778,
                          "#fb9f3a"
                        ],
                        [
                          0.8888888888888888,
                          "#fdca26"
                        ],
                        [
                          1,
                          "#f0f921"
                        ]
                      ],
                      "sequentialminus": [
                        [
                          0,
                          "#0d0887"
                        ],
                        [
                          0.1111111111111111,
                          "#46039f"
                        ],
                        [
                          0.2222222222222222,
                          "#7201a8"
                        ],
                        [
                          0.3333333333333333,
                          "#9c179e"
                        ],
                        [
                          0.4444444444444444,
                          "#bd3786"
                        ],
                        [
                          0.5555555555555556,
                          "#d8576b"
                        ],
                        [
                          0.6666666666666666,
                          "#ed7953"
                        ],
                        [
                          0.7777777777777778,
                          "#fb9f3a"
                        ],
                        [
                          0.8888888888888888,
                          "#fdca26"
                        ],
                        [
                          1,
                          "#f0f921"
                        ]
                      ]
                    },
                    "colorway": [
                      "#636efa",
                      "#EF553B",
                      "#00cc96",
                      "#ab63fa",
                      "#FFA15A",
                      "#19d3f3",
                      "#FF6692",
                      "#B6E880",
                      "#FF97FF",
                      "#FECB52"
                    ],
                    "font": {
                      "color": "#2a3f5f"
                    },
                    "geo": {
                      "bgcolor": "white",
                      "lakecolor": "white",
                      "landcolor": "#E5ECF6",
                      "showlakes": true,
                      "showland": true,
                      "subunitcolor": "white"
                    },
                    "hoverlabel": {
                      "align": "left"
                    },
                    "hovermode": "closest",
                    "mapbox": {
                      "style": "light"
                    },
                    "paper_bgcolor": "white",
                    "plot_bgcolor": "#E5ECF6",
                    "polar": {
                      "angularaxis": {
                        "gridcolor": "white",
                        "linecolor": "white",
                        "ticks": ""
                      },
                      "bgcolor": "#E5ECF6",
                      "radialaxis": {
                        "gridcolor": "white",
                        "linecolor": "white",
                        "ticks": ""
                      }
                    },
                    "scene": {
                      "xaxis": {
                        "backgroundcolor": "#E5ECF6",
                        "gridcolor": "white",
                        "gridwidth": 2,
                        "linecolor": "white",
                        "showbackground": true,
                        "ticks": "",
                        "zerolinecolor": "white"
                      },
                      "yaxis": {
                        "backgroundcolor": "#E5ECF6",
                        "gridcolor": "white",
                        "gridwidth": 2,
                        "linecolor": "white",
                        "showbackground": true,
                        "ticks": "",
                        "zerolinecolor": "white"
                      },
                      "zaxis": {
                        "backgroundcolor": "#E5ECF6",
                        "gridcolor": "white",
                        "gridwidth": 2,
                        "linecolor": "white",
                        "showbackground": true,
                        "ticks": "",
                        "zerolinecolor": "white"
                      }
                    },
                    "shapedefaults": {
                      "line": {
                        "color": "#2a3f5f"
                      }
                    },
                    "ternary": {
                      "aaxis": {
                        "gridcolor": "white",
                        "linecolor": "white",
                        "ticks": ""
                      },
                      "baxis": {
                        "gridcolor": "white",
                        "linecolor": "white",
                        "ticks": ""
                      },
                      "bgcolor": "#E5ECF6",
                      "caxis": {
                        "gridcolor": "white",
                        "linecolor": "white",
                        "ticks": ""
                      }
                    },
                    "title": {
                      "x": 0.05
                    },
                    "xaxis": {
                      "automargin": true,
                      "gridcolor": "white",
                      "linecolor": "white",
                      "ticks": "",
                      "title": {
                        "standoff": 15
                      },
                      "zerolinecolor": "white",
                      "zerolinewidth": 2
                    },
                    "yaxis": {
                      "automargin": true,
                      "gridcolor": "white",
                      "linecolor": "white",
                      "ticks": "",
                      "title": {
                        "standoff": 15
                      },
                      "zerolinecolor": "white",
                      "zerolinewidth": 2
                    }
                  }
                },
                "title": {
                  "text": "Candlestick Chart - INDIGO.NS"
                },
                "xaxis": {
                  "title": {
                    "text": "Date"
                  }
                },
                "yaxis": {
                  "title": {
                    "text": "Price"
                  }
                }
              }
            }
          },
          "metadata": {},
          "output_type": "display_data"
        }
      ],
      "source": [
        "fig = go.Figure(data=[\n",
        "    go.Candlestick(x=data.index,\n",
        "                   open=data['open'],\n",
        "                   high=data['high'],\n",
        "                   low=data['low'],\n",
        "                   close=data['close'])\n",
        "              ])\n",
        "fig.update_layout(title=f\"Candlestick Chart - {stock_symbol}\", xaxis_title='Date', yaxis_title='Price')\n",
        "fig.show()"
      ]
    },
    {
      "cell_type": "code",
      "execution_count": 11,
      "metadata": {
        "id": "NPoeaemPWm_l"
      },
      "outputs": [],
      "source": [
        "#@title Backtest Engine\n",
        "def perform_backtest(dataframe, lev=1, initial_capital=100000 , lot_size=1, tsl=100):\n",
        "    \"\"\"\n",
        "    Backtesting engine for trading strategies.\n",
        "\n",
        "    Parameters:\n",
        "    - dataframe: Pandas DataFrame with columns ['timestamp', 'close', 'high', 'signals']\n",
        "                 signals: 1 for long entry/close short, -1 for short entry/close long, 0 no action\n",
        "    - lev: Leverage multiplier for position sizing (default 1)\n",
        "    - initial_capital: Starting capital for backtest (default 100000)\n",
        "    - lot_size: Number of units per lot (default 1)\n",
        "    - tsl: Trailing stop loss percentage (default 100%)\n",
        "\n",
        "    Returns:\n",
        "    - trade_log: DataFrame summarizing all trades with entry/exit dates, profit/loss, size and type\n",
        "    \"\"\"\n",
        "    capital_list = [initial_capital]\n",
        "    trade = 0  # 0 = no open trade, 1 = long trade open, -1 = short trade open\n",
        "    position_size = 0\n",
        "    trade_profit = []\n",
        "    entry, exit = [], []\n",
        "    entry_index, exit_index = [], []\n",
        "    nol, nos = 0, 0  # Number of long and short trades\n",
        "    long_profit, short_profit = [], []\n",
        "    trade_type = []\n",
        "    position_size_list = []\n",
        "\n",
        "    # Calculate benchmark returns over entire backtest period\n",
        "    benchmark_returns = (dataframe.loc[dataframe.index[-1], 'close'] / dataframe.loc[dataframe.index[0], 'close'] - 1) * 100\n",
        "\n",
        "    # Calculate backtest period in years and months\n",
        "    backtest_period = dataframe.loc[dataframe.index[-1], 'timestamp'] - dataframe.loc[dataframe.index[0], 'timestamp']\n",
        "    total_days = backtest_period.days\n",
        "    years = total_days // 365\n",
        "    remaining_days = total_days % 365\n",
        "    months = remaining_days // 30\n",
        "\n",
        "    max_price = 0  # For tracking trailing stop price\n",
        "\n",
        "    for i in range(len(dataframe)):\n",
        "        date = dataframe.loc[i, 'timestamp']\n",
        "        current_price = dataframe.loc[i, 'close']\n",
        "        high_price = dataframe.loc[i, 'high']\n",
        "\n",
        "        # Stop if capital is exhausted\n",
        "        if capital_list[-1] <= 0:\n",
        "            print(f'Complete capital lost on {date}')\n",
        "            break\n",
        "\n",
        "        # Open Long trade if no trade is open and signal is long (1)\n",
        "        if trade == 0 and dataframe.loc[i, 'signals'] == 1:\n",
        "            position_size = (capital_list[-1] * lev) // (current_price * lot_size)\n",
        "            cost = position_size * current_price * lot_size\n",
        "            if cost > 0:\n",
        "                position_size_list.append(position_size * lot_size)\n",
        "                trade = 1\n",
        "                entry.append(date)\n",
        "                entry_index.append(i)\n",
        "                max_price = current_price  # Initialize max price for trailing stop\n",
        "            else:\n",
        "                position_size = 0\n",
        "\n",
        "        # Open Short trade if no trade is open and signal is short (-1)\n",
        "        elif trade == 0 and dataframe.loc[i, 'signals'] == -1:\n",
        "            position_size = (capital_list[-1] * lev) // (current_price * lot_size)\n",
        "            cost = position_size * current_price * lot_size\n",
        "            if cost > 0:\n",
        "                position_size_list.append(position_size * lot_size)\n",
        "                trade = -1\n",
        "                entry.append(date)\n",
        "                entry_index.append(i)\n",
        "                max_price = current_price  # Initialize min price for trailing stop (will update below)\n",
        "            else:\n",
        "                position_size = 0\n",
        "\n",
        "        # Manage open trade and trailing stop\n",
        "        elif trade != 0:\n",
        "            if trade == 1:\n",
        "                # Update max price seen during long trade for trailing stop loss\n",
        "                max_price = max(max_price, high_price)\n",
        "                # Check if current close triggers trailing stop loss exit\n",
        "                if dataframe.loc[i, 'close'] <= (1 - tsl / 100) * max_price:\n",
        "                    # Set signal to close long and open short (or just close)\n",
        "                    dataframe.loc[i, 'signals'] = -1  # force exit long\n",
        "                    max_price = 0\n",
        "\n",
        "            elif trade == -1:\n",
        "                # For short, track minimum price for trailing stop loss\n",
        "                max_price = min(max_price, high_price)\n",
        "                # Check if current close triggers trailing stop loss exit\n",
        "                if dataframe.loc[i, 'close'] >= (1 + tsl / 100) * max_price:\n",
        "                    dataframe.loc[i, 'signals'] = 1  # force exit short\n",
        "                    max_price = 0\n",
        "\n",
        "            # If signal indicates closing current trade (opposite signal)\n",
        "            if dataframe.loc[i, 'signals'] * trade == -1:\n",
        "                exit.append(date)\n",
        "                exit_index.append(i)\n",
        "                if trade == 1:\n",
        "                    nol += 1\n",
        "                    profit = lot_size * current_price * position_size - cost\n",
        "                else:\n",
        "                    nos += 1\n",
        "                    profit = cost - lot_size * current_price * position_size\n",
        "\n",
        "                capital_list.append(capital_list[-1] + profit)\n",
        "                trade_profit.append(profit)\n",
        "\n",
        "                if trade == 1:\n",
        "                    long_profit.append(profit)\n",
        "                else:\n",
        "                    short_profit.append(profit)\n",
        "\n",
        "                trade_type.append('Long' if trade == 1 else 'Short')\n",
        "                trade = 0\n",
        "                position_size = 0\n",
        "                cost = 0\n",
        "\n",
        "    # Close any open trade at last price in dataframe\n",
        "    if trade != 0:\n",
        "        exit.append(dataframe.iloc[-1]['timestamp'])\n",
        "        exit_index.append(len(dataframe) - 1)\n",
        "        if trade == 1:\n",
        "            nol += 1\n",
        "            profit = dataframe.iloc[-1]['close'] * position_size * lot_size - cost\n",
        "            trade_type.append('Long')\n",
        "        else:\n",
        "            nos += 1\n",
        "            profit = cost - dataframe.iloc[-1]['close'] * position_size * lot_size\n",
        "            trade_type.append('Short')\n",
        "        capital_list.append(capital_list[-1] + profit)\n",
        "        trade_profit.append(profit)\n",
        "\n",
        "    # Calculate returns for performance metrics\n",
        "    returns = np.diff(capital_list) / capital_list[:-1]\n",
        "    downside_returns = returns[returns < 0]\n",
        "\n",
        "    sharpe_ratio = np.mean(returns) / np.std(returns) * np.sqrt(252) if len(returns) > 0 and np.std(returns) > 0 else float('nan')\n",
        "    sortino_ratio = np.mean(returns) / np.std(downside_returns) * np.sqrt(252) if len(downside_returns) > 0 and np.std(downside_returns) > 0 else float('nan')\n",
        "\n",
        "    number_of_trades = len(trade_profit)\n",
        "\n",
        "    capital_series = pd.Series(capital_list)\n",
        "    running_max = capital_series.cummax()\n",
        "    drawdowns = (capital_series - running_max) / running_max\n",
        "    drawdowns = drawdowns[drawdowns <= 0]\n",
        "\n",
        "    print(f'BACKTEST RESULTS:')\n",
        "    if number_of_trades == 0:\n",
        "        print('No trades taken')\n",
        "        return\n",
        "\n",
        "    print(f\"Backtest Period: {years} years and {months} months\")\n",
        "    print(f'Benchmark Returns: {benchmark_returns * lev:.2f} %')\n",
        "    print(f'Initial Capital: {capital_list[0]}')\n",
        "    print(f'Final Capital: {capital_list[-1]:.2f}')\n",
        "    print(f'Profit percentage: {(capital_list[-1] - capital_list[0]) / capital_list[0] * 100:.2f} %')\n",
        "    print(f'Leverage applied: {lev}')\n",
        "    print(f'Maximum Portfolio balance: {max(capital_list):.2f}')\n",
        "    print(f'Minimum Portfolio balance: {min(capital_list):.2f}')\n",
        "    print(f'Number of trades: {number_of_trades}')\n",
        "\n",
        "    win = sum(1 for profit in trade_profit if profit > 0)\n",
        "    print(f'Winning Trades: {win}')\n",
        "    print(f'Losing Trades: {number_of_trades - win}')\n",
        "    print(f'Win Rate: {win / number_of_trades * 100:.2f} %')\n",
        "\n",
        "    try:\n",
        "        avg_profit = statistics.mean([x for x in trade_profit if x > 0])\n",
        "    except:\n",
        "        avg_profit = 0\n",
        "    try:\n",
        "        avg_loss = statistics.mean([x for x in trade_profit if x <= 0])\n",
        "    except:\n",
        "        avg_loss = 0\n",
        "\n",
        "    print(f'Average Profit: {avg_profit:.2f}')\n",
        "    print(f'Average Loss: {avg_loss:.2f}')\n",
        "    print(f'No of Long Trades: {nol}')\n",
        "    print(f'No of Short Trades: {nos}')\n",
        "    print(f'Average drawdown: {np.mean(drawdowns) * 100:.2f} %')\n",
        "    print(f'Maximum drawdown: {np.min(drawdowns) * 100:.2f} %')\n",
        "    print(f'Sharpe Ratio: {sharpe_ratio:.2f}')\n",
        "    print(f'Sortino Ratio: {sortino_ratio:.2f}')\n",
        "\n",
        "    # Calculate and print holding times if any trades happened\n",
        "    if entry and exit:\n",
        "        holding_times = [(exit[i] - entry[i]) for i in range(len(entry))]\n",
        "        max_holding_time = max(holding_times)\n",
        "        days = max_holding_time.days\n",
        "        hours, remainder = divmod(max_holding_time.seconds, 3600)\n",
        "        minutes, seconds = divmod(remainder, 60)\n",
        "        print(f'Maximum Holding Time: {days} days, {hours:02}:{minutes:02}:{seconds:02}')\n",
        "\n",
        "        avg_holding_time = sum(holding_times, pd.Timedelta(0)) / len(holding_times)\n",
        "        days_avg = avg_holding_time.days\n",
        "        hours_avg, remainder_avg = divmod(avg_holding_time.seconds, 3600)\n",
        "        minutes_avg, seconds_avg = divmod(remainder_avg, 60)\n",
        "        print(f'Average Holding Time: {days_avg} days, {hours_avg:02}:{minutes_avg:02}:{seconds_avg:02}')\n",
        "\n",
        "    # Plotting equity curve and price chart with entry/exit points\n",
        "    fig = sp.make_subplots(\n",
        "        rows=2, cols=1, shared_xaxes=True,\n",
        "        subplot_titles=('Equity Curve', 'Price Action with Entry and Exit Points'),\n",
        "        vertical_spacing=0.1\n",
        "    )\n",
        "\n",
        "    # Equity Curve\n",
        "    fig.add_trace(go.Scatter(\n",
        "        y=capital_list,\n",
        "        mode='lines',\n",
        "        name='Capital',\n",
        "        line=dict(color='green')\n",
        "    ), row=1, col=1)\n",
        "\n",
        "    # Price chart\n",
        "    fig.add_trace(go.Scatter(\n",
        "        x=dataframe['timestamp'],\n",
        "        y=dataframe['close'],\n",
        "        mode='lines',\n",
        "        name='Close Price',\n",
        "        line=dict(color='blue')\n",
        "    ), row=2, col=1)\n",
        "\n",
        "    # Entry markers\n",
        "    fig.add_trace(go.Scatter(\n",
        "        x=[dataframe['timestamp'].iloc[i] for i in entry_index],\n",
        "        y=[dataframe['close'].iloc[i] for i in entry_index],\n",
        "        mode='markers',\n",
        "        marker=dict(symbol='triangle-up', color='green', size=10),\n",
        "        name='Entry'\n",
        "    ), row=2, col=1)\n",
        "\n",
        "    # Exit markers\n",
        "    fig.add_trace(go.Scatter(\n",
        "        x=[dataframe['timestamp'].iloc[i] for i in exit_index],\n",
        "        y=[dataframe['close'].iloc[i] for i in exit_index],\n",
        "        mode='markers',\n",
        "        marker=dict(symbol='triangle-down', color='red', size=10),\n",
        "        name='Exit'\n",
        "    ), row=2, col=1)\n",
        "\n",
        "    fig.update_layout(\n",
        "        height=800,\n",
        "        title_text='Backtest Visualizations',\n",
        "        showlegend=True,\n",
        "        template='plotly_white'\n",
        "    )\n",
        "\n",
        "    fig.update_xaxes(title_text='Time', row=2, col=1)\n",
        "    fig.update_yaxes(title_text='Capital', row=1, col=1)\n",
        "    fig.update_yaxes(title_text='Price', row=2, col=1)\n",
        "\n",
        "    fig.show()\n",
        "\n",
        "    # Prepare trade log DataFrame\n",
        "    trade_log = pd.DataFrame({\n",
        "        'Entry Candle': entry,\n",
        "        'Exit Candle': exit,\n",
        "        'PnL': trade_profit,\n",
        "        'Number of units': position_size_list,\n",
        "        'Trade type': trade_type\n",
        "    })\n",
        "\n",
        "    return trade_log"
      ]
    },
    {
      "cell_type": "code",
      "execution_count": 12,
      "metadata": {
        "id": "fUhaoQgwGsC4"
      },
      "outputs": [],
      "source": [
        "# Set some display options\n",
        "plt.style.use('seaborn-v0_8-darkgrid')\n",
        "pd.set_option('display.max_columns', None)"
      ]
    },
    {
      "cell_type": "code",
      "execution_count": 13,
      "metadata": {
        "colab": {
          "base_uri": "https://localhost:8080/",
          "height": 542
        },
        "id": "wKHoZfGKG-1n",
        "outputId": "1a68954c-5be4-4ab5-b7bd-9ca25a3242f5"
      },
      "outputs": [
        {
          "data": {
            "application/vnd.plotly.v1+json": {
              "config": {
                "plotlyServerURL": "https://plot.ly"
              },
              "data": [
                {
                  "mode": "lines",
                  "name": "MACD",
                  "type": "scatter",
                  "x": {
                    "bdata": "AAABAAIAAwAEAAUABgAHAAgACQAKAAsADAANAA4ADwAQABEAEgATABQAFQAWABcAGAAZABoAGwAcAB0AHgAfACAAIQAiACMAJAAlACYAJwAoACkAKgArACwALQAuAC8AMAAxADIAMwA0ADUANgA3ADgAOQA6ADsAPAA9AD4APwBAAEEAQgBDAEQARQBGAEcASABJAEoASwBMAE0ATgBPAFAAUQBSAFMAVABVAFYAVwBYAFkAWgBbAFwAXQBeAF8AYABhAGIAYwBkAGUAZgBnAGgAaQBqAGsAbABtAG4AbwBwAHEAcgBzAHQAdQB2AHcAeAB5AHoAewB8AH0AfgB/AIAAgQCCAIMAhACFAIYAhwCIAIkAigCLAIwAjQCOAI8AkACRAJIAkwCUAJUAlgCXAJgAmQCaAJsAnACdAJ4AnwCgAKEAogCjAKQApQCmAKcAqACpAKoAqwCsAK0ArgCvALAAsQCyALMAtAC1ALYAtwC4ALkAugC7ALwAvQC+AL8AwADBAMIAwwDEAMUAxgDHAMgAyQDKAMsAzADNAM4AzwDQANEA0gDTANQA1QDWANcA2ADZANoA2wDcAN0A3gDfAOAA4QDiAOMA5ADlAOYA5wDoAOkA6gDrAOwA7QDuAO8A8ADxAPIA8wD0APUA9gA=",
                    "dtype": "i2"
                  },
                  "y": {
                    "bdata": "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",
                    "dtype": "f8"
                  }
                },
                {
                  "mode": "lines",
                  "name": "Signal Line",
                  "type": "scatter",
                  "x": {
                    "bdata": "AAABAAIAAwAEAAUABgAHAAgACQAKAAsADAANAA4ADwAQABEAEgATABQAFQAWABcAGAAZABoAGwAcAB0AHgAfACAAIQAiACMAJAAlACYAJwAoACkAKgArACwALQAuAC8AMAAxADIAMwA0ADUANgA3ADgAOQA6ADsAPAA9AD4APwBAAEEAQgBDAEQARQBGAEcASABJAEoASwBMAE0ATgBPAFAAUQBSAFMAVABVAFYAVwBYAFkAWgBbAFwAXQBeAF8AYABhAGIAYwBkAGUAZgBnAGgAaQBqAGsAbABtAG4AbwBwAHEAcgBzAHQAdQB2AHcAeAB5AHoAewB8AH0AfgB/AIAAgQCCAIMAhACFAIYAhwCIAIkAigCLAIwAjQCOAI8AkACRAJIAkwCUAJUAlgCXAJgAmQCaAJsAnACdAJ4AnwCgAKEAogCjAKQApQCmAKcAqACpAKoAqwCsAK0ArgCvALAAsQCyALMAtAC1ALYAtwC4ALkAugC7ALwAvQC+AL8AwADBAMIAwwDEAMUAxgDHAMgAyQDKAMsAzADNAM4AzwDQANEA0gDTANQA1QDWANcA2ADZANoA2wDcAN0A3gDfAOAA4QDiAOMA5ADlAOYA5wDoAOkA6gDrAOwA7QDuAO8A8ADxAPIA8wD0APUA9gA=",
                    "dtype": "i2"
                  },
                  "y": {
                    "bdata": "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",
                    "dtype": "f8"
                  }
                },
                {
                  "name": "MACD Histogram",
                  "type": "bar",
                  "x": {
                    "bdata": "AAABAAIAAwAEAAUABgAHAAgACQAKAAsADAANAA4ADwAQABEAEgATABQAFQAWABcAGAAZABoAGwAcAB0AHgAfACAAIQAiACMAJAAlACYAJwAoACkAKgArACwALQAuAC8AMAAxADIAMwA0ADUANgA3ADgAOQA6ADsAPAA9AD4APwBAAEEAQgBDAEQARQBGAEcASABJAEoASwBMAE0ATgBPAFAAUQBSAFMAVABVAFYAVwBYAFkAWgBbAFwAXQBeAF8AYABhAGIAYwBkAGUAZgBnAGgAaQBqAGsAbABtAG4AbwBwAHEAcgBzAHQAdQB2AHcAeAB5AHoAewB8AH0AfgB/AIAAgQCCAIMAhACFAIYAhwCIAIkAigCLAIwAjQCOAI8AkACRAJIAkwCUAJUAlgCXAJgAmQCaAJsAnACdAJ4AnwCgAKEAogCjAKQApQCmAKcAqACpAKoAqwCsAK0ArgCvALAAsQCyALMAtAC1ALYAtwC4ALkAugC7ALwAvQC+AL8AwADBAMIAwwDEAMUAxgDHAMgAyQDKAMsAzADNAM4AzwDQANEA0gDTANQA1QDWANcA2ADZANoA2wDcAN0A3gDfAOAA4QDiAOMA5ADlAOYA5wDoAOkA6gDrAOwA7QDuAO8A8ADxAPIA8wD0APUA9gA=",
                    "dtype": "i2"
                  },
                  "y": {
                    "bdata": "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",
                    "dtype": "f8"
                  }
                }
              ],
              "layout": {
                "template": {
                  "data": {
                    "bar": [
                      {
                        "error_x": {
                          "color": "#2a3f5f"
                        },
                        "error_y": {
                          "color": "#2a3f5f"
                        },
                        "marker": {
                          "line": {
                            "color": "#E5ECF6",
                            "width": 0.5
                          },
                          "pattern": {
                            "fillmode": "overlay",
                            "size": 10,
                            "solidity": 0.2
                          }
                        },
                        "type": "bar"
                      }
                    ],
                    "barpolar": [
                      {
                        "marker": {
                          "line": {
                            "color": "#E5ECF6",
                            "width": 0.5
                          },
                          "pattern": {
                            "fillmode": "overlay",
                            "size": 10,
                            "solidity": 0.2
                          }
                        },
                        "type": "barpolar"
                      }
                    ],
                    "carpet": [
                      {
                        "aaxis": {
                          "endlinecolor": "#2a3f5f",
                          "gridcolor": "white",
                          "linecolor": "white",
                          "minorgridcolor": "white",
                          "startlinecolor": "#2a3f5f"
                        },
                        "baxis": {
                          "endlinecolor": "#2a3f5f",
                          "gridcolor": "white",
                          "linecolor": "white",
                          "minorgridcolor": "white",
                          "startlinecolor": "#2a3f5f"
                        },
                        "type": "carpet"
                      }
                    ],
                    "choropleth": [
                      {
                        "colorbar": {
                          "outlinewidth": 0,
                          "ticks": ""
                        },
                        "type": "choropleth"
                      }
                    ],
                    "contour": [
                      {
                        "colorbar": {
                          "outlinewidth": 0,
                          "ticks": ""
                        },
                        "colorscale": [
                          [
                            0,
                            "#0d0887"
                          ],
                          [
                            0.1111111111111111,
                            "#46039f"
                          ],
                          [
                            0.2222222222222222,
                            "#7201a8"
                          ],
                          [
                            0.3333333333333333,
                            "#9c179e"
                          ],
                          [
                            0.4444444444444444,
                            "#bd3786"
                          ],
                          [
                            0.5555555555555556,
                            "#d8576b"
                          ],
                          [
                            0.6666666666666666,
                            "#ed7953"
                          ],
                          [
                            0.7777777777777778,
                            "#fb9f3a"
                          ],
                          [
                            0.8888888888888888,
                            "#fdca26"
                          ],
                          [
                            1,
                            "#f0f921"
                          ]
                        ],
                        "type": "contour"
                      }
                    ],
                    "contourcarpet": [
                      {
                        "colorbar": {
                          "outlinewidth": 0,
                          "ticks": ""
                        },
                        "type": "contourcarpet"
                      }
                    ],
                    "heatmap": [
                      {
                        "colorbar": {
                          "outlinewidth": 0,
                          "ticks": ""
                        },
                        "colorscale": [
                          [
                            0,
                            "#0d0887"
                          ],
                          [
                            0.1111111111111111,
                            "#46039f"
                          ],
                          [
                            0.2222222222222222,
                            "#7201a8"
                          ],
                          [
                            0.3333333333333333,
                            "#9c179e"
                          ],
                          [
                            0.4444444444444444,
                            "#bd3786"
                          ],
                          [
                            0.5555555555555556,
                            "#d8576b"
                          ],
                          [
                            0.6666666666666666,
                            "#ed7953"
                          ],
                          [
                            0.7777777777777778,
                            "#fb9f3a"
                          ],
                          [
                            0.8888888888888888,
                            "#fdca26"
                          ],
                          [
                            1,
                            "#f0f921"
                          ]
                        ],
                        "type": "heatmap"
                      }
                    ],
                    "histogram": [
                      {
                        "marker": {
                          "pattern": {
                            "fillmode": "overlay",
                            "size": 10,
                            "solidity": 0.2
                          }
                        },
                        "type": "histogram"
                      }
                    ],
                    "histogram2d": [
                      {
                        "colorbar": {
                          "outlinewidth": 0,
                          "ticks": ""
                        },
                        "colorscale": [
                          [
                            0,
                            "#0d0887"
                          ],
                          [
                            0.1111111111111111,
                            "#46039f"
                          ],
                          [
                            0.2222222222222222,
                            "#7201a8"
                          ],
                          [
                            0.3333333333333333,
                            "#9c179e"
                          ],
                          [
                            0.4444444444444444,
                            "#bd3786"
                          ],
                          [
                            0.5555555555555556,
                            "#d8576b"
                          ],
                          [
                            0.6666666666666666,
                            "#ed7953"
                          ],
                          [
                            0.7777777777777778,
                            "#fb9f3a"
                          ],
                          [
                            0.8888888888888888,
                            "#fdca26"
                          ],
                          [
                            1,
                            "#f0f921"
                          ]
                        ],
                        "type": "histogram2d"
                      }
                    ],
                    "histogram2dcontour": [
                      {
                        "colorbar": {
                          "outlinewidth": 0,
                          "ticks": ""
                        },
                        "colorscale": [
                          [
                            0,
                            "#0d0887"
                          ],
                          [
                            0.1111111111111111,
                            "#46039f"
                          ],
                          [
                            0.2222222222222222,
                            "#7201a8"
                          ],
                          [
                            0.3333333333333333,
                            "#9c179e"
                          ],
                          [
                            0.4444444444444444,
                            "#bd3786"
                          ],
                          [
                            0.5555555555555556,
                            "#d8576b"
                          ],
                          [
                            0.6666666666666666,
                            "#ed7953"
                          ],
                          [
                            0.7777777777777778,
                            "#fb9f3a"
                          ],
                          [
                            0.8888888888888888,
                            "#fdca26"
                          ],
                          [
                            1,
                            "#f0f921"
                          ]
                        ],
                        "type": "histogram2dcontour"
                      }
                    ],
                    "mesh3d": [
                      {
                        "colorbar": {
                          "outlinewidth": 0,
                          "ticks": ""
                        },
                        "type": "mesh3d"
                      }
                    ],
                    "parcoords": [
                      {
                        "line": {
                          "colorbar": {
                            "outlinewidth": 0,
                            "ticks": ""
                          }
                        },
                        "type": "parcoords"
                      }
                    ],
                    "pie": [
                      {
                        "automargin": true,
                        "type": "pie"
                      }
                    ],
                    "scatter": [
                      {
                        "fillpattern": {
                          "fillmode": "overlay",
                          "size": 10,
                          "solidity": 0.2
                        },
                        "type": "scatter"
                      }
                    ],
                    "scatter3d": [
                      {
                        "line": {
                          "colorbar": {
                            "outlinewidth": 0,
                            "ticks": ""
                          }
                        },
                        "marker": {
                          "colorbar": {
                            "outlinewidth": 0,
                            "ticks": ""
                          }
                        },
                        "type": "scatter3d"
                      }
                    ],
                    "scattercarpet": [
                      {
                        "marker": {
                          "colorbar": {
                            "outlinewidth": 0,
                            "ticks": ""
                          }
                        },
                        "type": "scattercarpet"
                      }
                    ],
                    "scattergeo": [
                      {
                        "marker": {
                          "colorbar": {
                            "outlinewidth": 0,
                            "ticks": ""
                          }
                        },
                        "type": "scattergeo"
                      }
                    ],
                    "scattergl": [
                      {
                        "marker": {
                          "colorbar": {
                            "outlinewidth": 0,
                            "ticks": ""
                          }
                        },
                        "type": "scattergl"
                      }
                    ],
                    "scattermap": [
                      {
                        "marker": {
                          "colorbar": {
                            "outlinewidth": 0,
                            "ticks": ""
                          }
                        },
                        "type": "scattermap"
                      }
                    ],
                    "scattermapbox": [
                      {
                        "marker": {
                          "colorbar": {
                            "outlinewidth": 0,
                            "ticks": ""
                          }
                        },
                        "type": "scattermapbox"
                      }
                    ],
                    "scatterpolar": [
                      {
                        "marker": {
                          "colorbar": {
                            "outlinewidth": 0,
                            "ticks": ""
                          }
                        },
                        "type": "scatterpolar"
                      }
                    ],
                    "scatterpolargl": [
                      {
                        "marker": {
                          "colorbar": {
                            "outlinewidth": 0,
                            "ticks": ""
                          }
                        },
                        "type": "scatterpolargl"
                      }
                    ],
                    "scatterternary": [
                      {
                        "marker": {
                          "colorbar": {
                            "outlinewidth": 0,
                            "ticks": ""
                          }
                        },
                        "type": "scatterternary"
                      }
                    ],
                    "surface": [
                      {
                        "colorbar": {
                          "outlinewidth": 0,
                          "ticks": ""
                        },
                        "colorscale": [
                          [
                            0,
                            "#0d0887"
                          ],
                          [
                            0.1111111111111111,
                            "#46039f"
                          ],
                          [
                            0.2222222222222222,
                            "#7201a8"
                          ],
                          [
                            0.3333333333333333,
                            "#9c179e"
                          ],
                          [
                            0.4444444444444444,
                            "#bd3786"
                          ],
                          [
                            0.5555555555555556,
                            "#d8576b"
                          ],
                          [
                            0.6666666666666666,
                            "#ed7953"
                          ],
                          [
                            0.7777777777777778,
                            "#fb9f3a"
                          ],
                          [
                            0.8888888888888888,
                            "#fdca26"
                          ],
                          [
                            1,
                            "#f0f921"
                          ]
                        ],
                        "type": "surface"
                      }
                    ],
                    "table": [
                      {
                        "cells": {
                          "fill": {
                            "color": "#EBF0F8"
                          },
                          "line": {
                            "color": "white"
                          }
                        },
                        "header": {
                          "fill": {
                            "color": "#C8D4E3"
                          },
                          "line": {
                            "color": "white"
                          }
                        },
                        "type": "table"
                      }
                    ]
                  },
                  "layout": {
                    "annotationdefaults": {
                      "arrowcolor": "#2a3f5f",
                      "arrowhead": 0,
                      "arrowwidth": 1
                    },
                    "autotypenumbers": "strict",
                    "coloraxis": {
                      "colorbar": {
                        "outlinewidth": 0,
                        "ticks": ""
                      }
                    },
                    "colorscale": {
                      "diverging": [
                        [
                          0,
                          "#8e0152"
                        ],
                        [
                          0.1,
                          "#c51b7d"
                        ],
                        [
                          0.2,
                          "#de77ae"
                        ],
                        [
                          0.3,
                          "#f1b6da"
                        ],
                        [
                          0.4,
                          "#fde0ef"
                        ],
                        [
                          0.5,
                          "#f7f7f7"
                        ],
                        [
                          0.6,
                          "#e6f5d0"
                        ],
                        [
                          0.7,
                          "#b8e186"
                        ],
                        [
                          0.8,
                          "#7fbc41"
                        ],
                        [
                          0.9,
                          "#4d9221"
                        ],
                        [
                          1,
                          "#276419"
                        ]
                      ],
                      "sequential": [
                        [
                          0,
                          "#0d0887"
                        ],
                        [
                          0.1111111111111111,
                          "#46039f"
                        ],
                        [
                          0.2222222222222222,
                          "#7201a8"
                        ],
                        [
                          0.3333333333333333,
                          "#9c179e"
                        ],
                        [
                          0.4444444444444444,
                          "#bd3786"
                        ],
                        [
                          0.5555555555555556,
                          "#d8576b"
                        ],
                        [
                          0.6666666666666666,
                          "#ed7953"
                        ],
                        [
                          0.7777777777777778,
                          "#fb9f3a"
                        ],
                        [
                          0.8888888888888888,
                          "#fdca26"
                        ],
                        [
                          1,
                          "#f0f921"
                        ]
                      ],
                      "sequentialminus": [
                        [
                          0,
                          "#0d0887"
                        ],
                        [
                          0.1111111111111111,
                          "#46039f"
                        ],
                        [
                          0.2222222222222222,
                          "#7201a8"
                        ],
                        [
                          0.3333333333333333,
                          "#9c179e"
                        ],
                        [
                          0.4444444444444444,
                          "#bd3786"
                        ],
                        [
                          0.5555555555555556,
                          "#d8576b"
                        ],
                        [
                          0.6666666666666666,
                          "#ed7953"
                        ],
                        [
                          0.7777777777777778,
                          "#fb9f3a"
                        ],
                        [
                          0.8888888888888888,
                          "#fdca26"
                        ],
                        [
                          1,
                          "#f0f921"
                        ]
                      ]
                    },
                    "colorway": [
                      "#636efa",
                      "#EF553B",
                      "#00cc96",
                      "#ab63fa",
                      "#FFA15A",
                      "#19d3f3",
                      "#FF6692",
                      "#B6E880",
                      "#FF97FF",
                      "#FECB52"
                    ],
                    "font": {
                      "color": "#2a3f5f"
                    },
                    "geo": {
                      "bgcolor": "white",
                      "lakecolor": "white",
                      "landcolor": "#E5ECF6",
                      "showlakes": true,
                      "showland": true,
                      "subunitcolor": "white"
                    },
                    "hoverlabel": {
                      "align": "left"
                    },
                    "hovermode": "closest",
                    "mapbox": {
                      "style": "light"
                    },
                    "paper_bgcolor": "white",
                    "plot_bgcolor": "#E5ECF6",
                    "polar": {
                      "angularaxis": {
                        "gridcolor": "white",
                        "linecolor": "white",
                        "ticks": ""
                      },
                      "bgcolor": "#E5ECF6",
                      "radialaxis": {
                        "gridcolor": "white",
                        "linecolor": "white",
                        "ticks": ""
                      }
                    },
                    "scene": {
                      "xaxis": {
                        "backgroundcolor": "#E5ECF6",
                        "gridcolor": "white",
                        "gridwidth": 2,
                        "linecolor": "white",
                        "showbackground": true,
                        "ticks": "",
                        "zerolinecolor": "white"
                      },
                      "yaxis": {
                        "backgroundcolor": "#E5ECF6",
                        "gridcolor": "white",
                        "gridwidth": 2,
                        "linecolor": "white",
                        "showbackground": true,
                        "ticks": "",
                        "zerolinecolor": "white"
                      },
                      "zaxis": {
                        "backgroundcolor": "#E5ECF6",
                        "gridcolor": "white",
                        "gridwidth": 2,
                        "linecolor": "white",
                        "showbackground": true,
                        "ticks": "",
                        "zerolinecolor": "white"
                      }
                    },
                    "shapedefaults": {
                      "line": {
                        "color": "#2a3f5f"
                      }
                    },
                    "ternary": {
                      "aaxis": {
                        "gridcolor": "white",
                        "linecolor": "white",
                        "ticks": ""
                      },
                      "baxis": {
                        "gridcolor": "white",
                        "linecolor": "white",
                        "ticks": ""
                      },
                      "bgcolor": "#E5ECF6",
                      "caxis": {
                        "gridcolor": "white",
                        "linecolor": "white",
                        "ticks": ""
                      }
                    },
                    "title": {
                      "x": 0.05
                    },
                    "xaxis": {
                      "automargin": true,
                      "gridcolor": "white",
                      "linecolor": "white",
                      "ticks": "",
                      "title": {
                        "standoff": 15
                      },
                      "zerolinecolor": "white",
                      "zerolinewidth": 2
                    },
                    "yaxis": {
                      "automargin": true,
                      "gridcolor": "white",
                      "linecolor": "white",
                      "ticks": "",
                      "title": {
                        "standoff": 15
                      },
                      "zerolinecolor": "white",
                      "zerolinewidth": 2
                    }
                  }
                },
                "title": {
                  "text": "MACD Indicator - INDIGO.NS"
                },
                "xaxis": {
                  "title": {
                    "text": "Date"
                  }
                },
                "yaxis": {
                  "title": {
                    "text": "Value"
                  }
                }
              }
            }
          },
          "metadata": {},
          "output_type": "display_data"
        }
      ],
      "source": [
        "# MACD Indicator\n",
        "def calculate_macd(data, short_window, long_window, signal_window):\n",
        "  data['Short_EMA'] = data['close'].ewm(span=short_window, adjust=False).mean()\n",
        "  data['Long_EMA'] = data['close'].ewm(span=long_window, adjust=False).mean()\n",
        "  data['MACD'] = data['Short_EMA'] - data['Long_EMA']\n",
        "  data['Signal_Line'] = data['MACD'].ewm(span=signal_window, adjust=False).mean()\n",
        "  data['MACD_Histogram'] = data['MACD'] - data['Signal_Line']\n",
        "  return data\n",
        "\n",
        "# Calculate MACD with typical parameters (12, 26, 9)\n",
        "data = calculate_macd(data, short_window=12, long_window=26, signal_window=9)\n",
        "\n",
        "# Plot MACD and Signal Line\n",
        "fig_macd = go.Figure()\n",
        "fig_macd.add_trace(go.Scatter(x=data.index, y=data['MACD'], mode='lines', name='MACD'))\n",
        "fig_macd.add_trace(go.Scatter(x=data.index, y=data['Signal_Line'], mode='lines', name='Signal Line'))\n",
        "\n",
        "# Plot MACD Histogram\n",
        "fig_macd.add_trace(go.Bar(x=data.index, y=data['MACD_Histogram'], name='MACD Histogram'))\n",
        "\n",
        "fig_macd.update_layout(title=f\"MACD Indicator - {stock_symbol}\", xaxis_title='Date', yaxis_title='Value')\n",
        "fig_macd.show()"
      ]
    },
    {
      "cell_type": "code",
      "execution_count": 14,
      "metadata": {
        "colab": {
          "base_uri": "https://localhost:8080/",
          "height": 542
        },
        "id": "OryGfWBSQZG-",
        "outputId": "e423123d-2da6-4e59-ec30-8acf122e6ccd"
      },
      "outputs": [
        {
          "data": {
            "application/vnd.plotly.v1+json": {
              "config": {
                "plotlyServerURL": "https://plot.ly"
              },
              "data": [
                {
                  "mode": "lines",
                  "name": "MACD",
                  "type": "scatter",
                  "x": {
                    "bdata": "AAABAAIAAwAEAAUABgAHAAgACQAKAAsADAANAA4ADwAQABEAEgATABQAFQAWABcAGAAZABoAGwAcAB0AHgAfACAAIQAiACMAJAAlACYAJwAoACkAKgArACwALQAuAC8AMAAxADIAMwA0ADUANgA3ADgAOQA6ADsAPAA9AD4APwBAAEEAQgBDAEQARQBGAEcASABJAEoASwBMAE0ATgBPAFAAUQBSAFMAVABVAFYAVwBYAFkAWgBbAFwAXQBeAF8AYABhAGIAYwBkAGUAZgBnAGgAaQBqAGsAbABtAG4AbwBwAHEAcgBzAHQAdQB2AHcAeAB5AHoAewB8AH0AfgB/AIAAgQCCAIMAhACFAIYAhwCIAIkAigCLAIwAjQCOAI8AkACRAJIAkwCUAJUAlgCXAJgAmQCaAJsAnACdAJ4AnwCgAKEAogCjAKQApQCmAKcAqACpAKoAqwCsAK0ArgCvALAAsQCyALMAtAC1ALYAtwC4ALkAugC7ALwAvQC+AL8AwADBAMIAwwDEAMUAxgDHAMgAyQDKAMsAzADNAM4AzwDQANEA0gDTANQA1QDWANcA2ADZANoA2wDcAN0A3gDfAOAA4QDiAOMA5ADlAOYA5wDoAOkA6gDrAOwA7QDuAO8A8ADxAPIA8wD0APUA9gA=",
                    "dtype": "i2"
                  },
                  "y": {
                    "bdata": "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",
                    "dtype": "f8"
                  }
                },
                {
                  "mode": "lines",
                  "name": "Signal Line",
                  "type": "scatter",
                  "x": {
                    "bdata": "AAABAAIAAwAEAAUABgAHAAgACQAKAAsADAANAA4ADwAQABEAEgATABQAFQAWABcAGAAZABoAGwAcAB0AHgAfACAAIQAiACMAJAAlACYAJwAoACkAKgArACwALQAuAC8AMAAxADIAMwA0ADUANgA3ADgAOQA6ADsAPAA9AD4APwBAAEEAQgBDAEQARQBGAEcASABJAEoASwBMAE0ATgBPAFAAUQBSAFMAVABVAFYAVwBYAFkAWgBbAFwAXQBeAF8AYABhAGIAYwBkAGUAZgBnAGgAaQBqAGsAbABtAG4AbwBwAHEAcgBzAHQAdQB2AHcAeAB5AHoAewB8AH0AfgB/AIAAgQCCAIMAhACFAIYAhwCIAIkAigCLAIwAjQCOAI8AkACRAJIAkwCUAJUAlgCXAJgAmQCaAJsAnACdAJ4AnwCgAKEAogCjAKQApQCmAKcAqACpAKoAqwCsAK0ArgCvALAAsQCyALMAtAC1ALYAtwC4ALkAugC7ALwAvQC+AL8AwADBAMIAwwDEAMUAxgDHAMgAyQDKAMsAzADNAM4AzwDQANEA0gDTANQA1QDWANcA2ADZANoA2wDcAN0A3gDfAOAA4QDiAOMA5ADlAOYA5wDoAOkA6gDrAOwA7QDuAO8A8ADxAPIA8wD0APUA9gA=",
                    "dtype": "i2"
                  },
                  "y": {
                    "bdata": "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",
                    "dtype": "f8"
                  }
                },
                {
                  "name": "MACD Histogram",
                  "type": "bar",
                  "x": {
                    "bdata": "AAABAAIAAwAEAAUABgAHAAgACQAKAAsADAANAA4ADwAQABEAEgATABQAFQAWABcAGAAZABoAGwAcAB0AHgAfACAAIQAiACMAJAAlACYAJwAoACkAKgArACwALQAuAC8AMAAxADIAMwA0ADUANgA3ADgAOQA6ADsAPAA9AD4APwBAAEEAQgBDAEQARQBGAEcASABJAEoASwBMAE0ATgBPAFAAUQBSAFMAVABVAFYAVwBYAFkAWgBbAFwAXQBeAF8AYABhAGIAYwBkAGUAZgBnAGgAaQBqAGsAbABtAG4AbwBwAHEAcgBzAHQAdQB2AHcAeAB5AHoAewB8AH0AfgB/AIAAgQCCAIMAhACFAIYAhwCIAIkAigCLAIwAjQCOAI8AkACRAJIAkwCUAJUAlgCXAJgAmQCaAJsAnACdAJ4AnwCgAKEAogCjAKQApQCmAKcAqACpAKoAqwCsAK0ArgCvALAAsQCyALMAtAC1ALYAtwC4ALkAugC7ALwAvQC+AL8AwADBAMIAwwDEAMUAxgDHAMgAyQDKAMsAzADNAM4AzwDQANEA0gDTANQA1QDWANcA2ADZANoA2wDcAN0A3gDfAOAA4QDiAOMA5ADlAOYA5wDoAOkA6gDrAOwA7QDuAO8A8ADxAPIA8wD0APUA9gA=",
                    "dtype": "i2"
                  },
                  "y": {
                    "bdata": "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",
                    "dtype": "f8"
                  }
                },
                {
                  "marker": {
                    "color": "green",
                    "size": 10,
                    "symbol": "circle"
                  },
                  "mode": "markers",
                  "name": "Buy Signal",
                  "type": "scatter",
                  "x": {
                    "bdata": "BAAWADcAcwCMAKMAtQDYAOsA",
                    "dtype": "i2"
                  },
                  "y": {
                    "bdata": "AEDxcj1t6T8AkpLSWzYpwAAQVrlFY/+/MOFRy1McZsCApseDvg9NQADz0IzAalPAAHo1Jvw0M0AgKZw/mChiQMChkxPizFhA",
                    "dtype": "f8"
                  }
                },
                {
                  "marker": {
                    "color": "red",
                    "size": 10,
                    "symbol": "circle"
                  },
                  "mode": "markers",
                  "name": "Sell Signal",
                  "type": "scatter",
                  "x": {
                    "bdata": "AQAJACoASgCKAJMAsgDRAN8A7wA=",
                    "dtype": "i2"
                  },
                  "y": {
                    "bdata": "AI7jOM7vMcAAxhdKOjEhQAA/3+eqlT5AYIex5hZEYEAAuVdvE61GQECAICJpC1BAAH6N3JiWLEAguC3vHbxiQECsNmF36GRAQDmwHqH1V0A=",
                    "dtype": "f8"
                  }
                }
              ],
              "layout": {
                "template": {
                  "data": {
                    "bar": [
                      {
                        "error_x": {
                          "color": "#2a3f5f"
                        },
                        "error_y": {
                          "color": "#2a3f5f"
                        },
                        "marker": {
                          "line": {
                            "color": "#E5ECF6",
                            "width": 0.5
                          },
                          "pattern": {
                            "fillmode": "overlay",
                            "size": 10,
                            "solidity": 0.2
                          }
                        },
                        "type": "bar"
                      }
                    ],
                    "barpolar": [
                      {
                        "marker": {
                          "line": {
                            "color": "#E5ECF6",
                            "width": 0.5
                          },
                          "pattern": {
                            "fillmode": "overlay",
                            "size": 10,
                            "solidity": 0.2
                          }
                        },
                        "type": "barpolar"
                      }
                    ],
                    "carpet": [
                      {
                        "aaxis": {
                          "endlinecolor": "#2a3f5f",
                          "gridcolor": "white",
                          "linecolor": "white",
                          "minorgridcolor": "white",
                          "startlinecolor": "#2a3f5f"
                        },
                        "baxis": {
                          "endlinecolor": "#2a3f5f",
                          "gridcolor": "white",
                          "linecolor": "white",
                          "minorgridcolor": "white",
                          "startlinecolor": "#2a3f5f"
                        },
                        "type": "carpet"
                      }
                    ],
                    "choropleth": [
                      {
                        "colorbar": {
                          "outlinewidth": 0,
                          "ticks": ""
                        },
                        "type": "choropleth"
                      }
                    ],
                    "contour": [
                      {
                        "colorbar": {
                          "outlinewidth": 0,
                          "ticks": ""
                        },
                        "colorscale": [
                          [
                            0,
                            "#0d0887"
                          ],
                          [
                            0.1111111111111111,
                            "#46039f"
                          ],
                          [
                            0.2222222222222222,
                            "#7201a8"
                          ],
                          [
                            0.3333333333333333,
                            "#9c179e"
                          ],
                          [
                            0.4444444444444444,
                            "#bd3786"
                          ],
                          [
                            0.5555555555555556,
                            "#d8576b"
                          ],
                          [
                            0.6666666666666666,
                            "#ed7953"
                          ],
                          [
                            0.7777777777777778,
                            "#fb9f3a"
                          ],
                          [
                            0.8888888888888888,
                            "#fdca26"
                          ],
                          [
                            1,
                            "#f0f921"
                          ]
                        ],
                        "type": "contour"
                      }
                    ],
                    "contourcarpet": [
                      {
                        "colorbar": {
                          "outlinewidth": 0,
                          "ticks": ""
                        },
                        "type": "contourcarpet"
                      }
                    ],
                    "heatmap": [
                      {
                        "colorbar": {
                          "outlinewidth": 0,
                          "ticks": ""
                        },
                        "colorscale": [
                          [
                            0,
                            "#0d0887"
                          ],
                          [
                            0.1111111111111111,
                            "#46039f"
                          ],
                          [
                            0.2222222222222222,
                            "#7201a8"
                          ],
                          [
                            0.3333333333333333,
                            "#9c179e"
                          ],
                          [
                            0.4444444444444444,
                            "#bd3786"
                          ],
                          [
                            0.5555555555555556,
                            "#d8576b"
                          ],
                          [
                            0.6666666666666666,
                            "#ed7953"
                          ],
                          [
                            0.7777777777777778,
                            "#fb9f3a"
                          ],
                          [
                            0.8888888888888888,
                            "#fdca26"
                          ],
                          [
                            1,
                            "#f0f921"
                          ]
                        ],
                        "type": "heatmap"
                      }
                    ],
                    "histogram": [
                      {
                        "marker": {
                          "pattern": {
                            "fillmode": "overlay",
                            "size": 10,
                            "solidity": 0.2
                          }
                        },
                        "type": "histogram"
                      }
                    ],
                    "histogram2d": [
                      {
                        "colorbar": {
                          "outlinewidth": 0,
                          "ticks": ""
                        },
                        "colorscale": [
                          [
                            0,
                            "#0d0887"
                          ],
                          [
                            0.1111111111111111,
                            "#46039f"
                          ],
                          [
                            0.2222222222222222,
                            "#7201a8"
                          ],
                          [
                            0.3333333333333333,
                            "#9c179e"
                          ],
                          [
                            0.4444444444444444,
                            "#bd3786"
                          ],
                          [
                            0.5555555555555556,
                            "#d8576b"
                          ],
                          [
                            0.6666666666666666,
                            "#ed7953"
                          ],
                          [
                            0.7777777777777778,
                            "#fb9f3a"
                          ],
                          [
                            0.8888888888888888,
                            "#fdca26"
                          ],
                          [
                            1,
                            "#f0f921"
                          ]
                        ],
                        "type": "histogram2d"
                      }
                    ],
                    "histogram2dcontour": [
                      {
                        "colorbar": {
                          "outlinewidth": 0,
                          "ticks": ""
                        },
                        "colorscale": [
                          [
                            0,
                            "#0d0887"
                          ],
                          [
                            0.1111111111111111,
                            "#46039f"
                          ],
                          [
                            0.2222222222222222,
                            "#7201a8"
                          ],
                          [
                            0.3333333333333333,
                            "#9c179e"
                          ],
                          [
                            0.4444444444444444,
                            "#bd3786"
                          ],
                          [
                            0.5555555555555556,
                            "#d8576b"
                          ],
                          [
                            0.6666666666666666,
                            "#ed7953"
                          ],
                          [
                            0.7777777777777778,
                            "#fb9f3a"
                          ],
                          [
                            0.8888888888888888,
                            "#fdca26"
                          ],
                          [
                            1,
                            "#f0f921"
                          ]
                        ],
                        "type": "histogram2dcontour"
                      }
                    ],
                    "mesh3d": [
                      {
                        "colorbar": {
                          "outlinewidth": 0,
                          "ticks": ""
                        },
                        "type": "mesh3d"
                      }
                    ],
                    "parcoords": [
                      {
                        "line": {
                          "colorbar": {
                            "outlinewidth": 0,
                            "ticks": ""
                          }
                        },
                        "type": "parcoords"
                      }
                    ],
                    "pie": [
                      {
                        "automargin": true,
                        "type": "pie"
                      }
                    ],
                    "scatter": [
                      {
                        "fillpattern": {
                          "fillmode": "overlay",
                          "size": 10,
                          "solidity": 0.2
                        },
                        "type": "scatter"
                      }
                    ],
                    "scatter3d": [
                      {
                        "line": {
                          "colorbar": {
                            "outlinewidth": 0,
                            "ticks": ""
                          }
                        },
                        "marker": {
                          "colorbar": {
                            "outlinewidth": 0,
                            "ticks": ""
                          }
                        },
                        "type": "scatter3d"
                      }
                    ],
                    "scattercarpet": [
                      {
                        "marker": {
                          "colorbar": {
                            "outlinewidth": 0,
                            "ticks": ""
                          }
                        },
                        "type": "scattercarpet"
                      }
                    ],
                    "scattergeo": [
                      {
                        "marker": {
                          "colorbar": {
                            "outlinewidth": 0,
                            "ticks": ""
                          }
                        },
                        "type": "scattergeo"
                      }
                    ],
                    "scattergl": [
                      {
                        "marker": {
                          "colorbar": {
                            "outlinewidth": 0,
                            "ticks": ""
                          }
                        },
                        "type": "scattergl"
                      }
                    ],
                    "scattermap": [
                      {
                        "marker": {
                          "colorbar": {
                            "outlinewidth": 0,
                            "ticks": ""
                          }
                        },
                        "type": "scattermap"
                      }
                    ],
                    "scattermapbox": [
                      {
                        "marker": {
                          "colorbar": {
                            "outlinewidth": 0,
                            "ticks": ""
                          }
                        },
                        "type": "scattermapbox"
                      }
                    ],
                    "scatterpolar": [
                      {
                        "marker": {
                          "colorbar": {
                            "outlinewidth": 0,
                            "ticks": ""
                          }
                        },
                        "type": "scatterpolar"
                      }
                    ],
                    "scatterpolargl": [
                      {
                        "marker": {
                          "colorbar": {
                            "outlinewidth": 0,
                            "ticks": ""
                          }
                        },
                        "type": "scatterpolargl"
                      }
                    ],
                    "scatterternary": [
                      {
                        "marker": {
                          "colorbar": {
                            "outlinewidth": 0,
                            "ticks": ""
                          }
                        },
                        "type": "scatterternary"
                      }
                    ],
                    "surface": [
                      {
                        "colorbar": {
                          "outlinewidth": 0,
                          "ticks": ""
                        },
                        "colorscale": [
                          [
                            0,
                            "#0d0887"
                          ],
                          [
                            0.1111111111111111,
                            "#46039f"
                          ],
                          [
                            0.2222222222222222,
                            "#7201a8"
                          ],
                          [
                            0.3333333333333333,
                            "#9c179e"
                          ],
                          [
                            0.4444444444444444,
                            "#bd3786"
                          ],
                          [
                            0.5555555555555556,
                            "#d8576b"
                          ],
                          [
                            0.6666666666666666,
                            "#ed7953"
                          ],
                          [
                            0.7777777777777778,
                            "#fb9f3a"
                          ],
                          [
                            0.8888888888888888,
                            "#fdca26"
                          ],
                          [
                            1,
                            "#f0f921"
                          ]
                        ],
                        "type": "surface"
                      }
                    ],
                    "table": [
                      {
                        "cells": {
                          "fill": {
                            "color": "#EBF0F8"
                          },
                          "line": {
                            "color": "white"
                          }
                        },
                        "header": {
                          "fill": {
                            "color": "#C8D4E3"
                          },
                          "line": {
                            "color": "white"
                          }
                        },
                        "type": "table"
                      }
                    ]
                  },
                  "layout": {
                    "annotationdefaults": {
                      "arrowcolor": "#2a3f5f",
                      "arrowhead": 0,
                      "arrowwidth": 1
                    },
                    "autotypenumbers": "strict",
                    "coloraxis": {
                      "colorbar": {
                        "outlinewidth": 0,
                        "ticks": ""
                      }
                    },
                    "colorscale": {
                      "diverging": [
                        [
                          0,
                          "#8e0152"
                        ],
                        [
                          0.1,
                          "#c51b7d"
                        ],
                        [
                          0.2,
                          "#de77ae"
                        ],
                        [
                          0.3,
                          "#f1b6da"
                        ],
                        [
                          0.4,
                          "#fde0ef"
                        ],
                        [
                          0.5,
                          "#f7f7f7"
                        ],
                        [
                          0.6,
                          "#e6f5d0"
                        ],
                        [
                          0.7,
                          "#b8e186"
                        ],
                        [
                          0.8,
                          "#7fbc41"
                        ],
                        [
                          0.9,
                          "#4d9221"
                        ],
                        [
                          1,
                          "#276419"
                        ]
                      ],
                      "sequential": [
                        [
                          0,
                          "#0d0887"
                        ],
                        [
                          0.1111111111111111,
                          "#46039f"
                        ],
                        [
                          0.2222222222222222,
                          "#7201a8"
                        ],
                        [
                          0.3333333333333333,
                          "#9c179e"
                        ],
                        [
                          0.4444444444444444,
                          "#bd3786"
                        ],
                        [
                          0.5555555555555556,
                          "#d8576b"
                        ],
                        [
                          0.6666666666666666,
                          "#ed7953"
                        ],
                        [
                          0.7777777777777778,
                          "#fb9f3a"
                        ],
                        [
                          0.8888888888888888,
                          "#fdca26"
                        ],
                        [
                          1,
                          "#f0f921"
                        ]
                      ],
                      "sequentialminus": [
                        [
                          0,
                          "#0d0887"
                        ],
                        [
                          0.1111111111111111,
                          "#46039f"
                        ],
                        [
                          0.2222222222222222,
                          "#7201a8"
                        ],
                        [
                          0.3333333333333333,
                          "#9c179e"
                        ],
                        [
                          0.4444444444444444,
                          "#bd3786"
                        ],
                        [
                          0.5555555555555556,
                          "#d8576b"
                        ],
                        [
                          0.6666666666666666,
                          "#ed7953"
                        ],
                        [
                          0.7777777777777778,
                          "#fb9f3a"
                        ],
                        [
                          0.8888888888888888,
                          "#fdca26"
                        ],
                        [
                          1,
                          "#f0f921"
                        ]
                      ]
                    },
                    "colorway": [
                      "#636efa",
                      "#EF553B",
                      "#00cc96",
                      "#ab63fa",
                      "#FFA15A",
                      "#19d3f3",
                      "#FF6692",
                      "#B6E880",
                      "#FF97FF",
                      "#FECB52"
                    ],
                    "font": {
                      "color": "#2a3f5f"
                    },
                    "geo": {
                      "bgcolor": "white",
                      "lakecolor": "white",
                      "landcolor": "#E5ECF6",
                      "showlakes": true,
                      "showland": true,
                      "subunitcolor": "white"
                    },
                    "hoverlabel": {
                      "align": "left"
                    },
                    "hovermode": "closest",
                    "mapbox": {
                      "style": "light"
                    },
                    "paper_bgcolor": "white",
                    "plot_bgcolor": "#E5ECF6",
                    "polar": {
                      "angularaxis": {
                        "gridcolor": "white",
                        "linecolor": "white",
                        "ticks": ""
                      },
                      "bgcolor": "#E5ECF6",
                      "radialaxis": {
                        "gridcolor": "white",
                        "linecolor": "white",
                        "ticks": ""
                      }
                    },
                    "scene": {
                      "xaxis": {
                        "backgroundcolor": "#E5ECF6",
                        "gridcolor": "white",
                        "gridwidth": 2,
                        "linecolor": "white",
                        "showbackground": true,
                        "ticks": "",
                        "zerolinecolor": "white"
                      },
                      "yaxis": {
                        "backgroundcolor": "#E5ECF6",
                        "gridcolor": "white",
                        "gridwidth": 2,
                        "linecolor": "white",
                        "showbackground": true,
                        "ticks": "",
                        "zerolinecolor": "white"
                      },
                      "zaxis": {
                        "backgroundcolor": "#E5ECF6",
                        "gridcolor": "white",
                        "gridwidth": 2,
                        "linecolor": "white",
                        "showbackground": true,
                        "ticks": "",
                        "zerolinecolor": "white"
                      }
                    },
                    "shapedefaults": {
                      "line": {
                        "color": "#2a3f5f"
                      }
                    },
                    "ternary": {
                      "aaxis": {
                        "gridcolor": "white",
                        "linecolor": "white",
                        "ticks": ""
                      },
                      "baxis": {
                        "gridcolor": "white",
                        "linecolor": "white",
                        "ticks": ""
                      },
                      "bgcolor": "#E5ECF6",
                      "caxis": {
                        "gridcolor": "white",
                        "linecolor": "white",
                        "ticks": ""
                      }
                    },
                    "title": {
                      "x": 0.05
                    },
                    "xaxis": {
                      "automargin": true,
                      "gridcolor": "white",
                      "linecolor": "white",
                      "ticks": "",
                      "title": {
                        "standoff": 15
                      },
                      "zerolinecolor": "white",
                      "zerolinewidth": 2
                    },
                    "yaxis": {
                      "automargin": true,
                      "gridcolor": "white",
                      "linecolor": "white",
                      "ticks": "",
                      "title": {
                        "standoff": 15
                      },
                      "zerolinecolor": "white",
                      "zerolinewidth": 2
                    }
                  }
                },
                "title": {
                  "text": "MACD Indicator with Crossovers - INDIGO.NS"
                },
                "xaxis": {
                  "title": {
                    "text": "Datetime"
                  }
                },
                "yaxis": {
                  "title": {
                    "text": "Value"
                  }
                }
              }
            }
          },
          "metadata": {},
          "output_type": "display_data"
        }
      ],
      "source": [
        "# Identify crossover points\n",
        "data['MACD_Previous'] = data['MACD'].shift(1)\n",
        "data['Signal_Previous'] = data['Signal_Line'].shift(1)\n",
        "\n",
        "# Crossover condition: MACD crosses above Signal Line (Buy Signal)\n",
        "buy_signals = data[(data['MACD'] > data['Signal_Line']) & (data['MACD_Previous'] <= data['Signal_Previous'])]\n",
        "\n",
        "# Crossover condition: MACD crosses below Signal Line (Sell Signal)\n",
        "sell_signals = data[(data['MACD'] < data['Signal_Line']) & (data['MACD_Previous'] >= data['Signal_Previous'])]\n",
        "\n",
        "# Add crossover points to the MACD plot\n",
        "fig_macd.add_trace(go.Scatter(\n",
        "    x=buy_signals.index,\n",
        "    y=buy_signals['MACD'],\n",
        "    mode='markers',\n",
        "    marker=dict(color='green', size=10, symbol='circle'),\n",
        "    name='Buy Signal'\n",
        "))\n",
        "\n",
        "fig_macd.add_trace(go.Scatter(\n",
        "    x=sell_signals.index,\n",
        "    y=sell_signals['MACD'],\n",
        "    mode='markers',\n",
        "    marker=dict(color='red', size=10, symbol='circle'),\n",
        "    name='Sell Signal'\n",
        "))\n",
        "\n",
        "fig_macd.update_layout(title=f\"MACD Indicator with Crossovers - {stock_symbol}\", xaxis_title='Datetime', yaxis_title='Value')\n",
        "fig_macd.show()"
      ]
    },
    {
      "cell_type": "code",
      "execution_count": 15,
      "metadata": {
        "colab": {
          "base_uri": "https://localhost:8080/",
          "height": 542
        },
        "id": "nwrxSU6_HIwX",
        "outputId": "fd971a5f-59a3-4fa0-db8a-5183441ae2ce"
      },
      "outputs": [
        {
          "data": {
            "application/vnd.plotly.v1+json": {
              "config": {
                "plotlyServerURL": "https://plot.ly"
              },
              "data": [
                {
                  "mode": "lines",
                  "name": "RSI",
                  "type": "scatter",
                  "x": {
                    "bdata": "AgADAAQABQAGAAcACAAJAAoACwAMAA0ADgAPABAAEQASABMAFAAVABYAFwAYABkAGgAbABwAHQAeAB8AIAAhACIAIwAkACUAJgAnACgAKQAqACsALAAtAC4ALwAwADEAMgAzADQANQA2ADcAOAA5ADoAOwA8AD0APgA/AEAAQQBCAEMARABFAEYARwBIAEkASgBLAEwATQBOAE8AUABRAFIAUwBUAFUAVgBXAFgAWQBaAFsAXABdAF4AXwBgAGEAYgBjAGQAZQBmAGcAaABpAGoAawBsAG0AbgBvAHAAcQByAHMAdAB1AHYAdwB4AHkAegB7AHwAfQB+AH8AgACBAIIAgwCEAIUAhgCHAIgAiQCKAIsAjACNAI4AjwCQAJEAkgCTAJQAlQCWAJcAmACZAJoAmwCcAJ0AngCfAKAAoQCiAKMApAClAKYApwCoAKkAqgCrAKwArQCuAK8AsACxALIAswC0ALUAtgC3ALgAuQC6ALsAvAC9AL4AvwDAAMEAwgDDAMQAxQDGAMcAyADJAMoAywDMAM0AzgDPANAA0QDSANMA1ADVANYA1wDYANkA2gDbANwA3QDeAN8A4ADhAOIA4wDkAOUA5gDnAOgA6QDqAOsA7ADtAO4A7wDwAPEA8gDzAPQA9QD2AA==",
                    "dtype": "i2"
                  },
                  "y": {
                    "bdata": "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",
                    "dtype": "f8"
                  }
                }
              ],
              "layout": {
                "annotations": [
                  {
                    "showarrow": false,
                    "text": "Overbought (70)",
                    "x": 1,
                    "xanchor": "right",
                    "xref": "x domain",
                    "y": 70,
                    "yanchor": "bottom",
                    "yref": "y"
                  },
                  {
                    "showarrow": false,
                    "text": "Oversold (30)",
                    "x": 1,
                    "xanchor": "right",
                    "xref": "x domain",
                    "y": 30,
                    "yanchor": "top",
                    "yref": "y"
                  }
                ],
                "shapes": [
                  {
                    "line": {
                      "color": "red",
                      "dash": "dash"
                    },
                    "type": "line",
                    "x0": 0,
                    "x1": 1,
                    "xref": "x domain",
                    "y0": 70,
                    "y1": 70,
                    "yref": "y"
                  },
                  {
                    "line": {
                      "color": "green",
                      "dash": "dash"
                    },
                    "type": "line",
                    "x0": 0,
                    "x1": 1,
                    "xref": "x domain",
                    "y0": 30,
                    "y1": 30,
                    "yref": "y"
                  }
                ],
                "template": {
                  "data": {
                    "bar": [
                      {
                        "error_x": {
                          "color": "#2a3f5f"
                        },
                        "error_y": {
                          "color": "#2a3f5f"
                        },
                        "marker": {
                          "line": {
                            "color": "#E5ECF6",
                            "width": 0.5
                          },
                          "pattern": {
                            "fillmode": "overlay",
                            "size": 10,
                            "solidity": 0.2
                          }
                        },
                        "type": "bar"
                      }
                    ],
                    "barpolar": [
                      {
                        "marker": {
                          "line": {
                            "color": "#E5ECF6",
                            "width": 0.5
                          },
                          "pattern": {
                            "fillmode": "overlay",
                            "size": 10,
                            "solidity": 0.2
                          }
                        },
                        "type": "barpolar"
                      }
                    ],
                    "carpet": [
                      {
                        "aaxis": {
                          "endlinecolor": "#2a3f5f",
                          "gridcolor": "white",
                          "linecolor": "white",
                          "minorgridcolor": "white",
                          "startlinecolor": "#2a3f5f"
                        },
                        "baxis": {
                          "endlinecolor": "#2a3f5f",
                          "gridcolor": "white",
                          "linecolor": "white",
                          "minorgridcolor": "white",
                          "startlinecolor": "#2a3f5f"
                        },
                        "type": "carpet"
                      }
                    ],
                    "choropleth": [
                      {
                        "colorbar": {
                          "outlinewidth": 0,
                          "ticks": ""
                        },
                        "type": "choropleth"
                      }
                    ],
                    "contour": [
                      {
                        "colorbar": {
                          "outlinewidth": 0,
                          "ticks": ""
                        },
                        "colorscale": [
                          [
                            0,
                            "#0d0887"
                          ],
                          [
                            0.1111111111111111,
                            "#46039f"
                          ],
                          [
                            0.2222222222222222,
                            "#7201a8"
                          ],
                          [
                            0.3333333333333333,
                            "#9c179e"
                          ],
                          [
                            0.4444444444444444,
                            "#bd3786"
                          ],
                          [
                            0.5555555555555556,
                            "#d8576b"
                          ],
                          [
                            0.6666666666666666,
                            "#ed7953"
                          ],
                          [
                            0.7777777777777778,
                            "#fb9f3a"
                          ],
                          [
                            0.8888888888888888,
                            "#fdca26"
                          ],
                          [
                            1,
                            "#f0f921"
                          ]
                        ],
                        "type": "contour"
                      }
                    ],
                    "contourcarpet": [
                      {
                        "colorbar": {
                          "outlinewidth": 0,
                          "ticks": ""
                        },
                        "type": "contourcarpet"
                      }
                    ],
                    "heatmap": [
                      {
                        "colorbar": {
                          "outlinewidth": 0,
                          "ticks": ""
                        },
                        "colorscale": [
                          [
                            0,
                            "#0d0887"
                          ],
                          [
                            0.1111111111111111,
                            "#46039f"
                          ],
                          [
                            0.2222222222222222,
                            "#7201a8"
                          ],
                          [
                            0.3333333333333333,
                            "#9c179e"
                          ],
                          [
                            0.4444444444444444,
                            "#bd3786"
                          ],
                          [
                            0.5555555555555556,
                            "#d8576b"
                          ],
                          [
                            0.6666666666666666,
                            "#ed7953"
                          ],
                          [
                            0.7777777777777778,
                            "#fb9f3a"
                          ],
                          [
                            0.8888888888888888,
                            "#fdca26"
                          ],
                          [
                            1,
                            "#f0f921"
                          ]
                        ],
                        "type": "heatmap"
                      }
                    ],
                    "histogram": [
                      {
                        "marker": {
                          "pattern": {
                            "fillmode": "overlay",
                            "size": 10,
                            "solidity": 0.2
                          }
                        },
                        "type": "histogram"
                      }
                    ],
                    "histogram2d": [
                      {
                        "colorbar": {
                          "outlinewidth": 0,
                          "ticks": ""
                        },
                        "colorscale": [
                          [
                            0,
                            "#0d0887"
                          ],
                          [
                            0.1111111111111111,
                            "#46039f"
                          ],
                          [
                            0.2222222222222222,
                            "#7201a8"
                          ],
                          [
                            0.3333333333333333,
                            "#9c179e"
                          ],
                          [
                            0.4444444444444444,
                            "#bd3786"
                          ],
                          [
                            0.5555555555555556,
                            "#d8576b"
                          ],
                          [
                            0.6666666666666666,
                            "#ed7953"
                          ],
                          [
                            0.7777777777777778,
                            "#fb9f3a"
                          ],
                          [
                            0.8888888888888888,
                            "#fdca26"
                          ],
                          [
                            1,
                            "#f0f921"
                          ]
                        ],
                        "type": "histogram2d"
                      }
                    ],
                    "histogram2dcontour": [
                      {
                        "colorbar": {
                          "outlinewidth": 0,
                          "ticks": ""
                        },
                        "colorscale": [
                          [
                            0,
                            "#0d0887"
                          ],
                          [
                            0.1111111111111111,
                            "#46039f"
                          ],
                          [
                            0.2222222222222222,
                            "#7201a8"
                          ],
                          [
                            0.3333333333333333,
                            "#9c179e"
                          ],
                          [
                            0.4444444444444444,
                            "#bd3786"
                          ],
                          [
                            0.5555555555555556,
                            "#d8576b"
                          ],
                          [
                            0.6666666666666666,
                            "#ed7953"
                          ],
                          [
                            0.7777777777777778,
                            "#fb9f3a"
                          ],
                          [
                            0.8888888888888888,
                            "#fdca26"
                          ],
                          [
                            1,
                            "#f0f921"
                          ]
                        ],
                        "type": "histogram2dcontour"
                      }
                    ],
                    "mesh3d": [
                      {
                        "colorbar": {
                          "outlinewidth": 0,
                          "ticks": ""
                        },
                        "type": "mesh3d"
                      }
                    ],
                    "parcoords": [
                      {
                        "line": {
                          "colorbar": {
                            "outlinewidth": 0,
                            "ticks": ""
                          }
                        },
                        "type": "parcoords"
                      }
                    ],
                    "pie": [
                      {
                        "automargin": true,
                        "type": "pie"
                      }
                    ],
                    "scatter": [
                      {
                        "fillpattern": {
                          "fillmode": "overlay",
                          "size": 10,
                          "solidity": 0.2
                        },
                        "type": "scatter"
                      }
                    ],
                    "scatter3d": [
                      {
                        "line": {
                          "colorbar": {
                            "outlinewidth": 0,
                            "ticks": ""
                          }
                        },
                        "marker": {
                          "colorbar": {
                            "outlinewidth": 0,
                            "ticks": ""
                          }
                        },
                        "type": "scatter3d"
                      }
                    ],
                    "scattercarpet": [
                      {
                        "marker": {
                          "colorbar": {
                            "outlinewidth": 0,
                            "ticks": ""
                          }
                        },
                        "type": "scattercarpet"
                      }
                    ],
                    "scattergeo": [
                      {
                        "marker": {
                          "colorbar": {
                            "outlinewidth": 0,
                            "ticks": ""
                          }
                        },
                        "type": "scattergeo"
                      }
                    ],
                    "scattergl": [
                      {
                        "marker": {
                          "colorbar": {
                            "outlinewidth": 0,
                            "ticks": ""
                          }
                        },
                        "type": "scattergl"
                      }
                    ],
                    "scattermap": [
                      {
                        "marker": {
                          "colorbar": {
                            "outlinewidth": 0,
                            "ticks": ""
                          }
                        },
                        "type": "scattermap"
                      }
                    ],
                    "scattermapbox": [
                      {
                        "marker": {
                          "colorbar": {
                            "outlinewidth": 0,
                            "ticks": ""
                          }
                        },
                        "type": "scattermapbox"
                      }
                    ],
                    "scatterpolar": [
                      {
                        "marker": {
                          "colorbar": {
                            "outlinewidth": 0,
                            "ticks": ""
                          }
                        },
                        "type": "scatterpolar"
                      }
                    ],
                    "scatterpolargl": [
                      {
                        "marker": {
                          "colorbar": {
                            "outlinewidth": 0,
                            "ticks": ""
                          }
                        },
                        "type": "scatterpolargl"
                      }
                    ],
                    "scatterternary": [
                      {
                        "marker": {
                          "colorbar": {
                            "outlinewidth": 0,
                            "ticks": ""
                          }
                        },
                        "type": "scatterternary"
                      }
                    ],
                    "surface": [
                      {
                        "colorbar": {
                          "outlinewidth": 0,
                          "ticks": ""
                        },
                        "colorscale": [
                          [
                            0,
                            "#0d0887"
                          ],
                          [
                            0.1111111111111111,
                            "#46039f"
                          ],
                          [
                            0.2222222222222222,
                            "#7201a8"
                          ],
                          [
                            0.3333333333333333,
                            "#9c179e"
                          ],
                          [
                            0.4444444444444444,
                            "#bd3786"
                          ],
                          [
                            0.5555555555555556,
                            "#d8576b"
                          ],
                          [
                            0.6666666666666666,
                            "#ed7953"
                          ],
                          [
                            0.7777777777777778,
                            "#fb9f3a"
                          ],
                          [
                            0.8888888888888888,
                            "#fdca26"
                          ],
                          [
                            1,
                            "#f0f921"
                          ]
                        ],
                        "type": "surface"
                      }
                    ],
                    "table": [
                      {
                        "cells": {
                          "fill": {
                            "color": "#EBF0F8"
                          },
                          "line": {
                            "color": "white"
                          }
                        },
                        "header": {
                          "fill": {
                            "color": "#C8D4E3"
                          },
                          "line": {
                            "color": "white"
                          }
                        },
                        "type": "table"
                      }
                    ]
                  },
                  "layout": {
                    "annotationdefaults": {
                      "arrowcolor": "#2a3f5f",
                      "arrowhead": 0,
                      "arrowwidth": 1
                    },
                    "autotypenumbers": "strict",
                    "coloraxis": {
                      "colorbar": {
                        "outlinewidth": 0,
                        "ticks": ""
                      }
                    },
                    "colorscale": {
                      "diverging": [
                        [
                          0,
                          "#8e0152"
                        ],
                        [
                          0.1,
                          "#c51b7d"
                        ],
                        [
                          0.2,
                          "#de77ae"
                        ],
                        [
                          0.3,
                          "#f1b6da"
                        ],
                        [
                          0.4,
                          "#fde0ef"
                        ],
                        [
                          0.5,
                          "#f7f7f7"
                        ],
                        [
                          0.6,
                          "#e6f5d0"
                        ],
                        [
                          0.7,
                          "#b8e186"
                        ],
                        [
                          0.8,
                          "#7fbc41"
                        ],
                        [
                          0.9,
                          "#4d9221"
                        ],
                        [
                          1,
                          "#276419"
                        ]
                      ],
                      "sequential": [
                        [
                          0,
                          "#0d0887"
                        ],
                        [
                          0.1111111111111111,
                          "#46039f"
                        ],
                        [
                          0.2222222222222222,
                          "#7201a8"
                        ],
                        [
                          0.3333333333333333,
                          "#9c179e"
                        ],
                        [
                          0.4444444444444444,
                          "#bd3786"
                        ],
                        [
                          0.5555555555555556,
                          "#d8576b"
                        ],
                        [
                          0.6666666666666666,
                          "#ed7953"
                        ],
                        [
                          0.7777777777777778,
                          "#fb9f3a"
                        ],
                        [
                          0.8888888888888888,
                          "#fdca26"
                        ],
                        [
                          1,
                          "#f0f921"
                        ]
                      ],
                      "sequentialminus": [
                        [
                          0,
                          "#0d0887"
                        ],
                        [
                          0.1111111111111111,
                          "#46039f"
                        ],
                        [
                          0.2222222222222222,
                          "#7201a8"
                        ],
                        [
                          0.3333333333333333,
                          "#9c179e"
                        ],
                        [
                          0.4444444444444444,
                          "#bd3786"
                        ],
                        [
                          0.5555555555555556,
                          "#d8576b"
                        ],
                        [
                          0.6666666666666666,
                          "#ed7953"
                        ],
                        [
                          0.7777777777777778,
                          "#fb9f3a"
                        ],
                        [
                          0.8888888888888888,
                          "#fdca26"
                        ],
                        [
                          1,
                          "#f0f921"
                        ]
                      ]
                    },
                    "colorway": [
                      "#636efa",
                      "#EF553B",
                      "#00cc96",
                      "#ab63fa",
                      "#FFA15A",
                      "#19d3f3",
                      "#FF6692",
                      "#B6E880",
                      "#FF97FF",
                      "#FECB52"
                    ],
                    "font": {
                      "color": "#2a3f5f"
                    },
                    "geo": {
                      "bgcolor": "white",
                      "lakecolor": "white",
                      "landcolor": "#E5ECF6",
                      "showlakes": true,
                      "showland": true,
                      "subunitcolor": "white"
                    },
                    "hoverlabel": {
                      "align": "left"
                    },
                    "hovermode": "closest",
                    "mapbox": {
                      "style": "light"
                    },
                    "paper_bgcolor": "white",
                    "plot_bgcolor": "#E5ECF6",
                    "polar": {
                      "angularaxis": {
                        "gridcolor": "white",
                        "linecolor": "white",
                        "ticks": ""
                      },
                      "bgcolor": "#E5ECF6",
                      "radialaxis": {
                        "gridcolor": "white",
                        "linecolor": "white",
                        "ticks": ""
                      }
                    },
                    "scene": {
                      "xaxis": {
                        "backgroundcolor": "#E5ECF6",
                        "gridcolor": "white",
                        "gridwidth": 2,
                        "linecolor": "white",
                        "showbackground": true,
                        "ticks": "",
                        "zerolinecolor": "white"
                      },
                      "yaxis": {
                        "backgroundcolor": "#E5ECF6",
                        "gridcolor": "white",
                        "gridwidth": 2,
                        "linecolor": "white",
                        "showbackground": true,
                        "ticks": "",
                        "zerolinecolor": "white"
                      },
                      "zaxis": {
                        "backgroundcolor": "#E5ECF6",
                        "gridcolor": "white",
                        "gridwidth": 2,
                        "linecolor": "white",
                        "showbackground": true,
                        "ticks": "",
                        "zerolinecolor": "white"
                      }
                    },
                    "shapedefaults": {
                      "line": {
                        "color": "#2a3f5f"
                      }
                    },
                    "ternary": {
                      "aaxis": {
                        "gridcolor": "white",
                        "linecolor": "white",
                        "ticks": ""
                      },
                      "baxis": {
                        "gridcolor": "white",
                        "linecolor": "white",
                        "ticks": ""
                      },
                      "bgcolor": "#E5ECF6",
                      "caxis": {
                        "gridcolor": "white",
                        "linecolor": "white",
                        "ticks": ""
                      }
                    },
                    "title": {
                      "x": 0.05
                    },
                    "xaxis": {
                      "automargin": true,
                      "gridcolor": "white",
                      "linecolor": "white",
                      "ticks": "",
                      "title": {
                        "standoff": 15
                      },
                      "zerolinecolor": "white",
                      "zerolinewidth": 2
                    },
                    "yaxis": {
                      "automargin": true,
                      "gridcolor": "white",
                      "linecolor": "white",
                      "ticks": "",
                      "title": {
                        "standoff": 15
                      },
                      "zerolinecolor": "white",
                      "zerolinewidth": 2
                    }
                  }
                },
                "title": {
                  "text": "RSI Indicator - INDIGO.NS"
                },
                "xaxis": {
                  "title": {
                    "text": "Date"
                  }
                },
                "yaxis": {
                  "title": {
                    "text": "RSI Value"
                  }
                }
              }
            }
          },
          "metadata": {},
          "output_type": "display_data"
        }
      ],
      "source": [
        "# RSI Indicator\n",
        "def calculate_rsi(data, window):\n",
        "    delta = data['close'].diff(1)\n",
        "    gain = delta.where(delta > 0, 0)\n",
        "    loss = -delta.where(delta < 0, 0)\n",
        "\n",
        "    avg_gain = gain.ewm(com=window-1, adjust=False).mean()\n",
        "    avg_loss = loss.ewm(com=window-1, adjust=False).mean()\n",
        "\n",
        "    rs = avg_gain / avg_loss\n",
        "    data['RSI'] = 100 - (100 / (1 + rs))\n",
        "    return data\n",
        "\n",
        "# Calculate RSI with typical parameter (14)\n",
        "data = calculate_rsi(data, window=14)\n",
        "data_rsi = data.copy()\n",
        "data_rsi = data_rsi[2:]\n",
        "\n",
        "# Plot RSI\n",
        "fig_rsi = go.Figure()\n",
        "fig_rsi.add_trace(go.Scatter(x=data_rsi.index, y=data_rsi['RSI'], mode='lines', name='RSI'))\n",
        "\n",
        "# Add lines for overbought and oversold levels (typically 70 and 30)\n",
        "fig_rsi.add_hline(y=70, line_dash=\"dash\", line_color=\"red\", annotation_text=\"Overbought (70)\", annotation_position=\"top right\")\n",
        "fig_rsi.add_hline(y=30, line_dash=\"dash\", line_color=\"green\", annotation_text=\"Oversold (30)\", annotation_position=\"bottom right\")\n",
        "\n",
        "fig_rsi.update_layout(title=f\"RSI Indicator - {stock_symbol}\", xaxis_title='Date', yaxis_title='RSI Value')\n",
        "fig_rsi.show()"
      ]
    },
    {
      "cell_type": "code",
      "execution_count": 16,
      "metadata": {
        "colab": {
          "base_uri": "https://localhost:8080/",
          "height": 542
        },
        "id": "cY-V-Fh7HT6e",
        "outputId": "761c0a8a-dfcb-44b2-8cd8-527347295c7a"
      },
      "outputs": [
        {
          "data": {
            "application/vnd.plotly.v1+json": {
              "config": {
                "plotlyServerURL": "https://plot.ly"
              },
              "data": [
                {
                  "mode": "lines",
                  "name": "ADX",
                  "type": "scatter",
                  "x": {
                    "bdata": "AAABAAIAAwAEAAUABgAHAAgACQAKAAsADAANAA4ADwAQABEAEgATABQAFQAWABcAGAAZABoAGwAcAB0AHgAfACAAIQAiACMAJAAlACYAJwAoACkAKgArACwALQAuAC8AMAAxADIAMwA0ADUANgA3ADgAOQA6ADsAPAA9AD4APwBAAEEAQgBDAEQARQBGAEcASABJAEoASwBMAE0ATgBPAFAAUQBSAFMAVABVAFYAVwBYAFkAWgBbAFwAXQBeAF8AYABhAGIAYwBkAGUAZgBnAGgAaQBqAGsAbABtAG4AbwBwAHEAcgBzAHQAdQB2AHcAeAB5AHoAewB8AH0AfgB/AIAAgQCCAIMAhACFAIYAhwCIAIkAigCLAIwAjQCOAI8AkACRAJIAkwCUAJUAlgCXAJgAmQCaAJsAnACdAJ4AnwCgAKEAogCjAKQApQCmAKcAqACpAKoAqwCsAK0ArgCvALAAsQCyALMAtAC1ALYAtwC4ALkAugC7ALwAvQC+AL8AwADBAMIAwwDEAMUAxgDHAMgAyQDKAMsAzADNAM4AzwDQANEA0gDTANQA1QDWANcA2ADZANoA2wDcAN0A3gDfAOAA4QDiAOMA5ADlAOYA5wDoAOkA6gDrAOwA7QDuAO8A8ADxAPIA8wD0APUA9gA=",
                    "dtype": "i2"
                  },
                  "y": {
                    "bdata": "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",
                    "dtype": "f8"
                  }
                },
                {
                  "mode": "lines",
                  "name": "+DI",
                  "type": "scatter",
                  "x": {
                    "bdata": "AAABAAIAAwAEAAUABgAHAAgACQAKAAsADAANAA4ADwAQABEAEgATABQAFQAWABcAGAAZABoAGwAcAB0AHgAfACAAIQAiACMAJAAlACYAJwAoACkAKgArACwALQAuAC8AMAAxADIAMwA0ADUANgA3ADgAOQA6ADsAPAA9AD4APwBAAEEAQgBDAEQARQBGAEcASABJAEoASwBMAE0ATgBPAFAAUQBSAFMAVABVAFYAVwBYAFkAWgBbAFwAXQBeAF8AYABhAGIAYwBkAGUAZgBnAGgAaQBqAGsAbABtAG4AbwBwAHEAcgBzAHQAdQB2AHcAeAB5AHoAewB8AH0AfgB/AIAAgQCCAIMAhACFAIYAhwCIAIkAigCLAIwAjQCOAI8AkACRAJIAkwCUAJUAlgCXAJgAmQCaAJsAnACdAJ4AnwCgAKEAogCjAKQApQCmAKcAqACpAKoAqwCsAK0ArgCvALAAsQCyALMAtAC1ALYAtwC4ALkAugC7ALwAvQC+AL8AwADBAMIAwwDEAMUAxgDHAMgAyQDKAMsAzADNAM4AzwDQANEA0gDTANQA1QDWANcA2ADZANoA2wDcAN0A3gDfAOAA4QDiAOMA5ADlAOYA5wDoAOkA6gDrAOwA7QDuAO8A8ADxAPIA8wD0APUA9gA=",
                    "dtype": "i2"
                  },
                  "y": {
                    "bdata": "AAAAAAAA+H8AAAAAAAD4fwAAAAAAAPh/AAAAAAAA+H8AAAAAAAD4fwAAAAAAAPh/AAAAAAAA+H8AAAAAAAD4fwAAAAAAAPh/AAAAAAAA+H8AAAAAAAD4fwAAAAAAAPh/AAAAAAAA+H8AAAAAAAD4f7LOeRkKhTBAGDYKssbEM0DGmSWCY8o1QKAZfglC7zVANJ+Rx2obNUCNd7ab3bUjQFxvqQJycyZAZGiKcBtPKEAOiOIOIKEwQJFWW273/TJAqB5TQedOMkA7XY5wPYYyQHkrl7SCUjFAWMN8rl8+LUADKTSY0rEuQP2mduOexzRANXiMg2IiN0CAfIWvWU43QCOssYEnjTJANPEdZTWlMEBXAGt7rKUtQB2Y+MCnyi9AjApF4ZJLMUCvUmQmAUMyQGapls9Z4zBAjrPV+UTcM0CkLcXaMfg0QPtqRaZMVjNAdHVBgAewMEDLNsbct80pQBHoq8FdLipAbQ3EL25RK0C727Ms3oQsQBm7t5SqSC1AqLMKaY3uL0AyPHv0pF0wQFnPaP9hRChASbFx6ai4JkAZzlhhHdYtQO7/NDfEhyZAIecpG4eEK0DJp+rMhbg2QOCkHS5XzEFAwiKccG+ZQkC2EznSrQtCQGe4xCNCCUZAZvVoIcIzRUD51C9I/55EQP5Sf1cf2URA1rNzfPp7RECHlFGROTdFQJiYEwuOxURAyy1kCCC3Q0C+D+WDTYJDQAUlGnoS+UJAfJWQEjxTQkAm5O2Ufss/QHSuQO2olj9AvSiRvPKNP0AbmfSzrjQ1QGBb5Y5XsjZASe1PRLnJNUAfLQq229kyQBNlCrd0ejVAsH0wxdGsMUC4NNmG1noxQC7LNhJUrDVA72LlPZPqO0Cxi7qKErM4QPzSmHMwyDJA3G/5vYXMJEAMAYRy3D0kQGwJ80dqsCJAN5HvpXhWIUBWlExUrikwQPBjhlk8rzBAXIzUhnUUMUCXrvcoVG0uQOeLwkFslDNAClwAQao4M0CBJ/ANKWAwQJ0fioqdCyhAmhJyZ0GmKUAxvi0RJa8pQPzR13uPAixAYBAcaUT/LUCVz9vh6CYtQDVCBxfe5SdAg9VpXNWyEkCH0yiPLMkdQBUnSTli9h1AwuUfPQo/IEDNcIQltWcRQOVLePX5lBFAPuXYPNpAIkBuoV7WdFUjQOkUu333pSJAyELcZL8SI0CP6UyfdJUiQNFmC2Z9jCFATSYJHIFhJEAYeqyB5pAzQASCrdccRDlA0gAPiucKNkDZtcoPGNk5QPl9F5MKrT5AOC15sdiNQUDqzFN0OiRBQPVoD3YyVEFAwtooepvfQUCVCrVMXV9DQKFmnJ/vUkRAEXc/eJ4yRUAJlD5qDHFFQEa3vgTudkhAazndIPqSRkBvUDZgHDJEQBgHHgC0E0VAOoQB98u2QkAciuXtvdE8QI6u0xnlOjpAQfJoloNVO0DUFuX0SlgzQHREF021JzBAeyiP2mMtJkBp0sQ552IjQPyRVt15KDRAgJctfQUxN0CWgltipHwwQEZfFflqLy9Asy0/smx1LkABuJ+6h0IuQKhuYe3T2S1A7nM+QzouLUD+OB8In5QqQPoLnrmmYCpAVosSJDiIKUCALGFiGxgrQLt6eSUpHy5A4dp5tuGMKkBFLXFdVekRQFgm3qCF0R9AqHzCvsPtHkDa/H8LVJMfQLI3aJEqdyNALwZBYikQIkA4ZA71+pIhQEImXbNNRytApy5MaODIMkAanjWeZtoxQCLEOT6QODVAgqBKrR6TNUDLRvohXNU0QKiN1nnzkzZAHH8tgIicPUCVQPDASf82QLbKl9iGbTZAE3Gpdb27NkAlIQkSki84QI7quRhLnDhAMkjfZKNZOUDq2O9+11k1QAAhERQLKjFAYEpsvOZ6NEDvN/KUXIUwQOCXhJRB4C5AZnStPCssMkDCg59SCJ41QLRKuMMrRTNAzXjr3OeVNUBQl5xaEw44QCZuAeYemTZAGQXYuKa+MkDcMvFhwFU0QFvVulRtwTJAm1usEqd3OEAA8n1A5jE/QLbvAx1rYj9ArZDTIZCoQEB0tzwWLi5BQMXrDfty+D9AidLxc1gvQECZkzypnE87QHLwUKPYnzxAUla2tJQ6PEBVp8lBRrVEQINrbudU50ZA1qiub1+GRkA6GTjdAtVHQK1lHzfb/EVAJhrqdV46REC4Q8mm7wZEQDqC+OnGZ0RAISa6HYvtQ0CoqLgLVDhEQFFnf3nOBEJA9sDdOowVQ0B2W9qZKyY9QAgNCcpeNEFAEAkZtTZIO0Dcd8BaAuQ1QLwk95TTBzpAMsuNHgd5OkBSEPRE6cQ9QP3D7AuJCkBA6Ya6jqUUQUCTY7O+1MdAQL1p1nQDDEFATYrjoQ3SPkDzGf32NVY+QEXmZ/zIeT1A1untea/xQEAIQ/vp1Vs9QExGgKMkqkBAPBAKvvVjP0By/QWtQvc6QMKmVEYL+DhAovyKK3ekNECczCKIR7Q9QHiBVmcOlDpAXvmv6u5ROkCyCfA0nos7QCdWyR5gGz9Al2h961RRQECXMNzkJOM+QHFItD+UHz9AjuM4juP4PkCyCceCjT85QHdiJ3ZiZzpAmsJLe5uOOkA2nUuZr1I+QADMWpq5bkBAUt/ZqO9sMEA=",
                    "dtype": "f8"
                  }
                },
                {
                  "mode": "lines",
                  "name": "-DI",
                  "type": "scatter",
                  "x": {
                    "bdata": "AAABAAIAAwAEAAUABgAHAAgACQAKAAsADAANAA4ADwAQABEAEgATABQAFQAWABcAGAAZABoAGwAcAB0AHgAfACAAIQAiACMAJAAlACYAJwAoACkAKgArACwALQAuAC8AMAAxADIAMwA0ADUANgA3ADgAOQA6ADsAPAA9AD4APwBAAEEAQgBDAEQARQBGAEcASABJAEoASwBMAE0ATgBPAFAAUQBSAFMAVABVAFYAVwBYAFkAWgBbAFwAXQBeAF8AYABhAGIAYwBkAGUAZgBnAGgAaQBqAGsAbABtAG4AbwBwAHEAcgBzAHQAdQB2AHcAeAB5AHoAewB8AH0AfgB/AIAAgQCCAIMAhACFAIYAhwCIAIkAigCLAIwAjQCOAI8AkACRAJIAkwCUAJUAlgCXAJgAmQCaAJsAnACdAJ4AnwCgAKEAogCjAKQApQCmAKcAqACpAKoAqwCsAK0ArgCvALAAsQCyALMAtAC1ALYAtwC4ALkAugC7ALwAvQC+AL8AwADBAMIAwwDEAMUAxgDHAMgAyQDKAMsAzADNAM4AzwDQANEA0gDTANQA1QDWANcA2ADZANoA2wDcAN0A3gDfAOAA4QDiAOMA5ADlAOYA5wDoAOkA6gDrAOwA7QDuAO8A8ADxAPIA8wD0APUA9gA=",
                    "dtype": "i2"
                  },
                  "y": {
                    "bdata": "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",
                    "dtype": "f8"
                  }
                }
              ],
              "layout": {
                "template": {
                  "data": {
                    "bar": [
                      {
                        "error_x": {
                          "color": "#2a3f5f"
                        },
                        "error_y": {
                          "color": "#2a3f5f"
                        },
                        "marker": {
                          "line": {
                            "color": "#E5ECF6",
                            "width": 0.5
                          },
                          "pattern": {
                            "fillmode": "overlay",
                            "size": 10,
                            "solidity": 0.2
                          }
                        },
                        "type": "bar"
                      }
                    ],
                    "barpolar": [
                      {
                        "marker": {
                          "line": {
                            "color": "#E5ECF6",
                            "width": 0.5
                          },
                          "pattern": {
                            "fillmode": "overlay",
                            "size": 10,
                            "solidity": 0.2
                          }
                        },
                        "type": "barpolar"
                      }
                    ],
                    "carpet": [
                      {
                        "aaxis": {
                          "endlinecolor": "#2a3f5f",
                          "gridcolor": "white",
                          "linecolor": "white",
                          "minorgridcolor": "white",
                          "startlinecolor": "#2a3f5f"
                        },
                        "baxis": {
                          "endlinecolor": "#2a3f5f",
                          "gridcolor": "white",
                          "linecolor": "white",
                          "minorgridcolor": "white",
                          "startlinecolor": "#2a3f5f"
                        },
                        "type": "carpet"
                      }
                    ],
                    "choropleth": [
                      {
                        "colorbar": {
                          "outlinewidth": 0,
                          "ticks": ""
                        },
                        "type": "choropleth"
                      }
                    ],
                    "contour": [
                      {
                        "colorbar": {
                          "outlinewidth": 0,
                          "ticks": ""
                        },
                        "colorscale": [
                          [
                            0,
                            "#0d0887"
                          ],
                          [
                            0.1111111111111111,
                            "#46039f"
                          ],
                          [
                            0.2222222222222222,
                            "#7201a8"
                          ],
                          [
                            0.3333333333333333,
                            "#9c179e"
                          ],
                          [
                            0.4444444444444444,
                            "#bd3786"
                          ],
                          [
                            0.5555555555555556,
                            "#d8576b"
                          ],
                          [
                            0.6666666666666666,
                            "#ed7953"
                          ],
                          [
                            0.7777777777777778,
                            "#fb9f3a"
                          ],
                          [
                            0.8888888888888888,
                            "#fdca26"
                          ],
                          [
                            1,
                            "#f0f921"
                          ]
                        ],
                        "type": "contour"
                      }
                    ],
                    "contourcarpet": [
                      {
                        "colorbar": {
                          "outlinewidth": 0,
                          "ticks": ""
                        },
                        "type": "contourcarpet"
                      }
                    ],
                    "heatmap": [
                      {
                        "colorbar": {
                          "outlinewidth": 0,
                          "ticks": ""
                        },
                        "colorscale": [
                          [
                            0,
                            "#0d0887"
                          ],
                          [
                            0.1111111111111111,
                            "#46039f"
                          ],
                          [
                            0.2222222222222222,
                            "#7201a8"
                          ],
                          [
                            0.3333333333333333,
                            "#9c179e"
                          ],
                          [
                            0.4444444444444444,
                            "#bd3786"
                          ],
                          [
                            0.5555555555555556,
                            "#d8576b"
                          ],
                          [
                            0.6666666666666666,
                            "#ed7953"
                          ],
                          [
                            0.7777777777777778,
                            "#fb9f3a"
                          ],
                          [
                            0.8888888888888888,
                            "#fdca26"
                          ],
                          [
                            1,
                            "#f0f921"
                          ]
                        ],
                        "type": "heatmap"
                      }
                    ],
                    "histogram": [
                      {
                        "marker": {
                          "pattern": {
                            "fillmode": "overlay",
                            "size": 10,
                            "solidity": 0.2
                          }
                        },
                        "type": "histogram"
                      }
                    ],
                    "histogram2d": [
                      {
                        "colorbar": {
                          "outlinewidth": 0,
                          "ticks": ""
                        },
                        "colorscale": [
                          [
                            0,
                            "#0d0887"
                          ],
                          [
                            0.1111111111111111,
                            "#46039f"
                          ],
                          [
                            0.2222222222222222,
                            "#7201a8"
                          ],
                          [
                            0.3333333333333333,
                            "#9c179e"
                          ],
                          [
                            0.4444444444444444,
                            "#bd3786"
                          ],
                          [
                            0.5555555555555556,
                            "#d8576b"
                          ],
                          [
                            0.6666666666666666,
                            "#ed7953"
                          ],
                          [
                            0.7777777777777778,
                            "#fb9f3a"
                          ],
                          [
                            0.8888888888888888,
                            "#fdca26"
                          ],
                          [
                            1,
                            "#f0f921"
                          ]
                        ],
                        "type": "histogram2d"
                      }
                    ],
                    "histogram2dcontour": [
                      {
                        "colorbar": {
                          "outlinewidth": 0,
                          "ticks": ""
                        },
                        "colorscale": [
                          [
                            0,
                            "#0d0887"
                          ],
                          [
                            0.1111111111111111,
                            "#46039f"
                          ],
                          [
                            0.2222222222222222,
                            "#7201a8"
                          ],
                          [
                            0.3333333333333333,
                            "#9c179e"
                          ],
                          [
                            0.4444444444444444,
                            "#bd3786"
                          ],
                          [
                            0.5555555555555556,
                            "#d8576b"
                          ],
                          [
                            0.6666666666666666,
                            "#ed7953"
                          ],
                          [
                            0.7777777777777778,
                            "#fb9f3a"
                          ],
                          [
                            0.8888888888888888,
                            "#fdca26"
                          ],
                          [
                            1,
                            "#f0f921"
                          ]
                        ],
                        "type": "histogram2dcontour"
                      }
                    ],
                    "mesh3d": [
                      {
                        "colorbar": {
                          "outlinewidth": 0,
                          "ticks": ""
                        },
                        "type": "mesh3d"
                      }
                    ],
                    "parcoords": [
                      {
                        "line": {
                          "colorbar": {
                            "outlinewidth": 0,
                            "ticks": ""
                          }
                        },
                        "type": "parcoords"
                      }
                    ],
                    "pie": [
                      {
                        "automargin": true,
                        "type": "pie"
                      }
                    ],
                    "scatter": [
                      {
                        "fillpattern": {
                          "fillmode": "overlay",
                          "size": 10,
                          "solidity": 0.2
                        },
                        "type": "scatter"
                      }
                    ],
                    "scatter3d": [
                      {
                        "line": {
                          "colorbar": {
                            "outlinewidth": 0,
                            "ticks": ""
                          }
                        },
                        "marker": {
                          "colorbar": {
                            "outlinewidth": 0,
                            "ticks": ""
                          }
                        },
                        "type": "scatter3d"
                      }
                    ],
                    "scattercarpet": [
                      {
                        "marker": {
                          "colorbar": {
                            "outlinewidth": 0,
                            "ticks": ""
                          }
                        },
                        "type": "scattercarpet"
                      }
                    ],
                    "scattergeo": [
                      {
                        "marker": {
                          "colorbar": {
                            "outlinewidth": 0,
                            "ticks": ""
                          }
                        },
                        "type": "scattergeo"
                      }
                    ],
                    "scattergl": [
                      {
                        "marker": {
                          "colorbar": {
                            "outlinewidth": 0,
                            "ticks": ""
                          }
                        },
                        "type": "scattergl"
                      }
                    ],
                    "scattermap": [
                      {
                        "marker": {
                          "colorbar": {
                            "outlinewidth": 0,
                            "ticks": ""
                          }
                        },
                        "type": "scattermap"
                      }
                    ],
                    "scattermapbox": [
                      {
                        "marker": {
                          "colorbar": {
                            "outlinewidth": 0,
                            "ticks": ""
                          }
                        },
                        "type": "scattermapbox"
                      }
                    ],
                    "scatterpolar": [
                      {
                        "marker": {
                          "colorbar": {
                            "outlinewidth": 0,
                            "ticks": ""
                          }
                        },
                        "type": "scatterpolar"
                      }
                    ],
                    "scatterpolargl": [
                      {
                        "marker": {
                          "colorbar": {
                            "outlinewidth": 0,
                            "ticks": ""
                          }
                        },
                        "type": "scatterpolargl"
                      }
                    ],
                    "scatterternary": [
                      {
                        "marker": {
                          "colorbar": {
                            "outlinewidth": 0,
                            "ticks": ""
                          }
                        },
                        "type": "scatterternary"
                      }
                    ],
                    "surface": [
                      {
                        "colorbar": {
                          "outlinewidth": 0,
                          "ticks": ""
                        },
                        "colorscale": [
                          [
                            0,
                            "#0d0887"
                          ],
                          [
                            0.1111111111111111,
                            "#46039f"
                          ],
                          [
                            0.2222222222222222,
                            "#7201a8"
                          ],
                          [
                            0.3333333333333333,
                            "#9c179e"
                          ],
                          [
                            0.4444444444444444,
                            "#bd3786"
                          ],
                          [
                            0.5555555555555556,
                            "#d8576b"
                          ],
                          [
                            0.6666666666666666,
                            "#ed7953"
                          ],
                          [
                            0.7777777777777778,
                            "#fb9f3a"
                          ],
                          [
                            0.8888888888888888,
                            "#fdca26"
                          ],
                          [
                            1,
                            "#f0f921"
                          ]
                        ],
                        "type": "surface"
                      }
                    ],
                    "table": [
                      {
                        "cells": {
                          "fill": {
                            "color": "#EBF0F8"
                          },
                          "line": {
                            "color": "white"
                          }
                        },
                        "header": {
                          "fill": {
                            "color": "#C8D4E3"
                          },
                          "line": {
                            "color": "white"
                          }
                        },
                        "type": "table"
                      }
                    ]
                  },
                  "layout": {
                    "annotationdefaults": {
                      "arrowcolor": "#2a3f5f",
                      "arrowhead": 0,
                      "arrowwidth": 1
                    },
                    "autotypenumbers": "strict",
                    "coloraxis": {
                      "colorbar": {
                        "outlinewidth": 0,
                        "ticks": ""
                      }
                    },
                    "colorscale": {
                      "diverging": [
                        [
                          0,
                          "#8e0152"
                        ],
                        [
                          0.1,
                          "#c51b7d"
                        ],
                        [
                          0.2,
                          "#de77ae"
                        ],
                        [
                          0.3,
                          "#f1b6da"
                        ],
                        [
                          0.4,
                          "#fde0ef"
                        ],
                        [
                          0.5,
                          "#f7f7f7"
                        ],
                        [
                          0.6,
                          "#e6f5d0"
                        ],
                        [
                          0.7,
                          "#b8e186"
                        ],
                        [
                          0.8,
                          "#7fbc41"
                        ],
                        [
                          0.9,
                          "#4d9221"
                        ],
                        [
                          1,
                          "#276419"
                        ]
                      ],
                      "sequential": [
                        [
                          0,
                          "#0d0887"
                        ],
                        [
                          0.1111111111111111,
                          "#46039f"
                        ],
                        [
                          0.2222222222222222,
                          "#7201a8"
                        ],
                        [
                          0.3333333333333333,
                          "#9c179e"
                        ],
                        [
                          0.4444444444444444,
                          "#bd3786"
                        ],
                        [
                          0.5555555555555556,
                          "#d8576b"
                        ],
                        [
                          0.6666666666666666,
                          "#ed7953"
                        ],
                        [
                          0.7777777777777778,
                          "#fb9f3a"
                        ],
                        [
                          0.8888888888888888,
                          "#fdca26"
                        ],
                        [
                          1,
                          "#f0f921"
                        ]
                      ],
                      "sequentialminus": [
                        [
                          0,
                          "#0d0887"
                        ],
                        [
                          0.1111111111111111,
                          "#46039f"
                        ],
                        [
                          0.2222222222222222,
                          "#7201a8"
                        ],
                        [
                          0.3333333333333333,
                          "#9c179e"
                        ],
                        [
                          0.4444444444444444,
                          "#bd3786"
                        ],
                        [
                          0.5555555555555556,
                          "#d8576b"
                        ],
                        [
                          0.6666666666666666,
                          "#ed7953"
                        ],
                        [
                          0.7777777777777778,
                          "#fb9f3a"
                        ],
                        [
                          0.8888888888888888,
                          "#fdca26"
                        ],
                        [
                          1,
                          "#f0f921"
                        ]
                      ]
                    },
                    "colorway": [
                      "#636efa",
                      "#EF553B",
                      "#00cc96",
                      "#ab63fa",
                      "#FFA15A",
                      "#19d3f3",
                      "#FF6692",
                      "#B6E880",
                      "#FF97FF",
                      "#FECB52"
                    ],
                    "font": {
                      "color": "#2a3f5f"
                    },
                    "geo": {
                      "bgcolor": "white",
                      "lakecolor": "white",
                      "landcolor": "#E5ECF6",
                      "showlakes": true,
                      "showland": true,
                      "subunitcolor": "white"
                    },
                    "hoverlabel": {
                      "align": "left"
                    },
                    "hovermode": "closest",
                    "mapbox": {
                      "style": "light"
                    },
                    "paper_bgcolor": "white",
                    "plot_bgcolor": "#E5ECF6",
                    "polar": {
                      "angularaxis": {
                        "gridcolor": "white",
                        "linecolor": "white",
                        "ticks": ""
                      },
                      "bgcolor": "#E5ECF6",
                      "radialaxis": {
                        "gridcolor": "white",
                        "linecolor": "white",
                        "ticks": ""
                      }
                    },
                    "scene": {
                      "xaxis": {
                        "backgroundcolor": "#E5ECF6",
                        "gridcolor": "white",
                        "gridwidth": 2,
                        "linecolor": "white",
                        "showbackground": true,
                        "ticks": "",
                        "zerolinecolor": "white"
                      },
                      "yaxis": {
                        "backgroundcolor": "#E5ECF6",
                        "gridcolor": "white",
                        "gridwidth": 2,
                        "linecolor": "white",
                        "showbackground": true,
                        "ticks": "",
                        "zerolinecolor": "white"
                      },
                      "zaxis": {
                        "backgroundcolor": "#E5ECF6",
                        "gridcolor": "white",
                        "gridwidth": 2,
                        "linecolor": "white",
                        "showbackground": true,
                        "ticks": "",
                        "zerolinecolor": "white"
                      }
                    },
                    "shapedefaults": {
                      "line": {
                        "color": "#2a3f5f"
                      }
                    },
                    "ternary": {
                      "aaxis": {
                        "gridcolor": "white",
                        "linecolor": "white",
                        "ticks": ""
                      },
                      "baxis": {
                        "gridcolor": "white",
                        "linecolor": "white",
                        "ticks": ""
                      },
                      "bgcolor": "#E5ECF6",
                      "caxis": {
                        "gridcolor": "white",
                        "linecolor": "white",
                        "ticks": ""
                      }
                    },
                    "title": {
                      "x": 0.05
                    },
                    "xaxis": {
                      "automargin": true,
                      "gridcolor": "white",
                      "linecolor": "white",
                      "ticks": "",
                      "title": {
                        "standoff": 15
                      },
                      "zerolinecolor": "white",
                      "zerolinewidth": 2
                    },
                    "yaxis": {
                      "automargin": true,
                      "gridcolor": "white",
                      "linecolor": "white",
                      "ticks": "",
                      "title": {
                        "standoff": 15
                      },
                      "zerolinecolor": "white",
                      "zerolinewidth": 2
                    }
                  }
                },
                "title": {
                  "text": "ADX, +DI, -DI Indicator - INDIGO.NS"
                },
                "xaxis": {
                  "title": {
                    "text": "Date"
                  }
                },
                "yaxis": {
                  "title": {
                    "text": "Value"
                  }
                }
              }
            }
          },
          "metadata": {},
          "output_type": "display_data"
        }
      ],
      "source": [
        "# ADX Indicator\n",
        "def calculate_adx(data, window=14):\n",
        "    data['TR'] = np.maximum(np.maximum(data['high'] - data['low'], abs(data['high'] - data['close'].shift(1))), abs(data['low'] - data['close'].shift(1)))\n",
        "    data['+DM'] = (data['high'] - data['high'].shift(1)).apply(lambda x: x if x > 0 else 0)\n",
        "    data['-DM'] = (data['low'].shift(1) - data['low']).apply(lambda x: x if x > 0 else 0)\n",
        "\n",
        "    data['+DM'] = np.where((data['+DM'] > data['-DM']), data['+DM'], 0)\n",
        "    data['-DM'] = np.where((data['-DM'] > data['+DM']), data['-DM'], 0)\n",
        "\n",
        "    data['TR_SMA'] = data['TR'].rolling(window=window).sum()\n",
        "    data['+DM_SMA'] = data['+DM'].rolling(window=window).sum()\n",
        "    data['-DM_SMA'] = data['-DM'].rolling(window=window).sum()\n",
        "\n",
        "    data['+DI'] = (data['+DM_SMA'] / data['TR_SMA']) * 100\n",
        "    data['-DI'] = (data['-DM_SMA'] / data['TR_SMA']) * 100\n",
        "\n",
        "    data['DX'] = abs(data['+DI'] - data['-DI']) / (data['+DI'] + data['-DI']) * 100\n",
        "    data['ADX'] = data['DX'].rolling(window=window).mean()\n",
        "\n",
        "    # Clean up intermediate columns which aren't of use to us\n",
        "    data = data.drop(columns=['TR', '+DM', '-DM', 'TR_SMA', '+DM_SMA', '-DM_SMA', 'DX'])\n",
        "\n",
        "    return data\n",
        "\n",
        "# Calculate ADX with typical parameter (14)\n",
        "data = calculate_adx(data, window=14)\n",
        "\n",
        "# Plot ADX, +DI, and -DI\n",
        "fig_adx = go.Figure()\n",
        "fig_adx.add_trace(go.Scatter(x=data.index, y=data['ADX'], mode='lines', name='ADX'))\n",
        "fig_adx.add_trace(go.Scatter(x=data.index, y=data['+DI'], mode='lines', name='+DI'))\n",
        "fig_adx.add_trace(go.Scatter(x=data.index, y=data['-DI'], mode='lines', name='-DI'))\n",
        "\n",
        "fig_adx.update_layout(title=f\"ADX, +DI, -DI Indicator - {stock_symbol}\", xaxis_title='Date', yaxis_title='Value')\n",
        "fig_adx.show()"
      ]
    },
    {
      "cell_type": "code",
      "execution_count": 17,
      "metadata": {
        "colab": {
          "base_uri": "https://localhost:8080/",
          "height": 542
        },
        "id": "OOjnAt8DHdJ-",
        "outputId": "35dd96f8-9761-41b8-a080-72d78d1aacfd"
      },
      "outputs": [
        {
          "data": {
            "application/vnd.plotly.v1+json": {
              "config": {
                "plotlyServerURL": "https://plot.ly"
              },
              "data": [
                {
                  "close": {
                    "bdata": "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",
                    "dtype": "f8"
                  },
                  "high": {
                    "bdata": "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",
                    "dtype": "f8"
                  },
                  "low": {
                    "bdata": "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",
                    "dtype": "f8"
                  },
                  "name": "Candlesticks",
                  "open": {
                    "bdata": "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",
                    "dtype": "f8"
                  },
                  "type": "candlestick",
                  "x": {
                    "bdata": "AAABAAIAAwAEAAUABgAHAAgACQAKAAsADAANAA4ADwAQABEAEgATABQAFQAWABcAGAAZABoAGwAcAB0AHgAfACAAIQAiACMAJAAlACYAJwAoACkAKgArACwALQAuAC8AMAAxADIAMwA0ADUANgA3ADgAOQA6ADsAPAA9AD4APwBAAEEAQgBDAEQARQBGAEcASABJAEoASwBMAE0ATgBPAFAAUQBSAFMAVABVAFYAVwBYAFkAWgBbAFwAXQBeAF8AYABhAGIAYwBkAGUAZgBnAGgAaQBqAGsAbABtAG4AbwBwAHEAcgBzAHQAdQB2AHcAeAB5AHoAewB8AH0AfgB/AIAAgQCCAIMAhACFAIYAhwCIAIkAigCLAIwAjQCOAI8AkACRAJIAkwCUAJUAlgCXAJgAmQCaAJsAnACdAJ4AnwCgAKEAogCjAKQApQCmAKcAqACpAKoAqwCsAK0ArgCvALAAsQCyALMAtAC1ALYAtwC4ALkAugC7ALwAvQC+AL8AwADBAMIAwwDEAMUAxgDHAMgAyQDKAMsAzADNAM4AzwDQANEA0gDTANQA1QDWANcA2ADZANoA2wDcAN0A3gDfAOAA4QDiAOMA5ADlAOYA5wDoAOkA6gDrAOwA7QDuAO8A8ADxAPIA8wD0APUA9gA=",
                    "dtype": "i2"
                  }
                },
                {
                  "line": {
                    "color": "blue",
                    "width": 1
                  },
                  "mode": "lines",
                  "name": "Middle Band (SMA)",
                  "type": "scatter",
                  "x": {
                    "bdata": "AAABAAIAAwAEAAUABgAHAAgACQAKAAsADAANAA4ADwAQABEAEgATABQAFQAWABcAGAAZABoAGwAcAB0AHgAfACAAIQAiACMAJAAlACYAJwAoACkAKgArACwALQAuAC8AMAAxADIAMwA0ADUANgA3ADgAOQA6ADsAPAA9AD4APwBAAEEAQgBDAEQARQBGAEcASABJAEoASwBMAE0ATgBPAFAAUQBSAFMAVABVAFYAVwBYAFkAWgBbAFwAXQBeAF8AYABhAGIAYwBkAGUAZgBnAGgAaQBqAGsAbABtAG4AbwBwAHEAcgBzAHQAdQB2AHcAeAB5AHoAewB8AH0AfgB/AIAAgQCCAIMAhACFAIYAhwCIAIkAigCLAIwAjQCOAI8AkACRAJIAkwCUAJUAlgCXAJgAmQCaAJsAnACdAJ4AnwCgAKEAogCjAKQApQCmAKcAqACpAKoAqwCsAK0ArgCvALAAsQCyALMAtAC1ALYAtwC4ALkAugC7ALwAvQC+AL8AwADBAMIAwwDEAMUAxgDHAMgAyQDKAMsAzADNAM4AzwDQANEA0gDTANQA1QDWANcA2ADZANoA2wDcAN0A3gDfAOAA4QDiAOMA5ADlAOYA5wDoAOkA6gDrAOwA7QDuAO8A8ADxAPIA8wD0APUA9gA=",
                    "dtype": "i2"
                  },
                  "y": {
                    "bdata": "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",
                    "dtype": "f8"
                  }
                },
                {
                  "line": {
                    "color": "red",
                    "width": 1
                  },
                  "mode": "lines",
                  "name": "Upper Band",
                  "type": "scatter",
                  "x": {
                    "bdata": "AAABAAIAAwAEAAUABgAHAAgACQAKAAsADAANAA4ADwAQABEAEgATABQAFQAWABcAGAAZABoAGwAcAB0AHgAfACAAIQAiACMAJAAlACYAJwAoACkAKgArACwALQAuAC8AMAAxADIAMwA0ADUANgA3ADgAOQA6ADsAPAA9AD4APwBAAEEAQgBDAEQARQBGAEcASABJAEoASwBMAE0ATgBPAFAAUQBSAFMAVABVAFYAVwBYAFkAWgBbAFwAXQBeAF8AYABhAGIAYwBkAGUAZgBnAGgAaQBqAGsAbABtAG4AbwBwAHEAcgBzAHQAdQB2AHcAeAB5AHoAewB8AH0AfgB/AIAAgQCCAIMAhACFAIYAhwCIAIkAigCLAIwAjQCOAI8AkACRAJIAkwCUAJUAlgCXAJgAmQCaAJsAnACdAJ4AnwCgAKEAogCjAKQApQCmAKcAqACpAKoAqwCsAK0ArgCvALAAsQCyALMAtAC1ALYAtwC4ALkAugC7ALwAvQC+AL8AwADBAMIAwwDEAMUAxgDHAMgAyQDKAMsAzADNAM4AzwDQANEA0gDTANQA1QDWANcA2ADZANoA2wDcAN0A3gDfAOAA4QDiAOMA5ADlAOYA5wDoAOkA6gDrAOwA7QDuAO8A8ADxAPIA8wD0APUA9gA=",
                    "dtype": "i2"
                  },
                  "y": {
                    "bdata": "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",
                    "dtype": "f8"
                  }
                },
                {
                  "line": {
                    "color": "green",
                    "width": 1
                  },
                  "mode": "lines",
                  "name": "Lower Band",
                  "type": "scatter",
                  "x": {
                    "bdata": "AAABAAIAAwAEAAUABgAHAAgACQAKAAsADAANAA4ADwAQABEAEgATABQAFQAWABcAGAAZABoAGwAcAB0AHgAfACAAIQAiACMAJAAlACYAJwAoACkAKgArACwALQAuAC8AMAAxADIAMwA0ADUANgA3ADgAOQA6ADsAPAA9AD4APwBAAEEAQgBDAEQARQBGAEcASABJAEoASwBMAE0ATgBPAFAAUQBSAFMAVABVAFYAVwBYAFkAWgBbAFwAXQBeAF8AYABhAGIAYwBkAGUAZgBnAGgAaQBqAGsAbABtAG4AbwBwAHEAcgBzAHQAdQB2AHcAeAB5AHoAewB8AH0AfgB/AIAAgQCCAIMAhACFAIYAhwCIAIkAigCLAIwAjQCOAI8AkACRAJIAkwCUAJUAlgCXAJgAmQCaAJsAnACdAJ4AnwCgAKEAogCjAKQApQCmAKcAqACpAKoAqwCsAK0ArgCvALAAsQCyALMAtAC1ALYAtwC4ALkAugC7ALwAvQC+AL8AwADBAMIAwwDEAMUAxgDHAMgAyQDKAMsAzADNAM4AzwDQANEA0gDTANQA1QDWANcA2ADZANoA2wDcAN0A3gDfAOAA4QDiAOMA5ADlAOYA5wDoAOkA6gDrAOwA7QDuAO8A8ADxAPIA8wD0APUA9gA=",
                    "dtype": "i2"
                  },
                  "y": {
                    "bdata": "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",
                    "dtype": "f8"
                  }
                }
              ],
              "layout": {
                "template": {
                  "data": {
                    "bar": [
                      {
                        "error_x": {
                          "color": "#2a3f5f"
                        },
                        "error_y": {
                          "color": "#2a3f5f"
                        },
                        "marker": {
                          "line": {
                            "color": "#E5ECF6",
                            "width": 0.5
                          },
                          "pattern": {
                            "fillmode": "overlay",
                            "size": 10,
                            "solidity": 0.2
                          }
                        },
                        "type": "bar"
                      }
                    ],
                    "barpolar": [
                      {
                        "marker": {
                          "line": {
                            "color": "#E5ECF6",
                            "width": 0.5
                          },
                          "pattern": {
                            "fillmode": "overlay",
                            "size": 10,
                            "solidity": 0.2
                          }
                        },
                        "type": "barpolar"
                      }
                    ],
                    "carpet": [
                      {
                        "aaxis": {
                          "endlinecolor": "#2a3f5f",
                          "gridcolor": "white",
                          "linecolor": "white",
                          "minorgridcolor": "white",
                          "startlinecolor": "#2a3f5f"
                        },
                        "baxis": {
                          "endlinecolor": "#2a3f5f",
                          "gridcolor": "white",
                          "linecolor": "white",
                          "minorgridcolor": "white",
                          "startlinecolor": "#2a3f5f"
                        },
                        "type": "carpet"
                      }
                    ],
                    "choropleth": [
                      {
                        "colorbar": {
                          "outlinewidth": 0,
                          "ticks": ""
                        },
                        "type": "choropleth"
                      }
                    ],
                    "contour": [
                      {
                        "colorbar": {
                          "outlinewidth": 0,
                          "ticks": ""
                        },
                        "colorscale": [
                          [
                            0,
                            "#0d0887"
                          ],
                          [
                            0.1111111111111111,
                            "#46039f"
                          ],
                          [
                            0.2222222222222222,
                            "#7201a8"
                          ],
                          [
                            0.3333333333333333,
                            "#9c179e"
                          ],
                          [
                            0.4444444444444444,
                            "#bd3786"
                          ],
                          [
                            0.5555555555555556,
                            "#d8576b"
                          ],
                          [
                            0.6666666666666666,
                            "#ed7953"
                          ],
                          [
                            0.7777777777777778,
                            "#fb9f3a"
                          ],
                          [
                            0.8888888888888888,
                            "#fdca26"
                          ],
                          [
                            1,
                            "#f0f921"
                          ]
                        ],
                        "type": "contour"
                      }
                    ],
                    "contourcarpet": [
                      {
                        "colorbar": {
                          "outlinewidth": 0,
                          "ticks": ""
                        },
                        "type": "contourcarpet"
                      }
                    ],
                    "heatmap": [
                      {
                        "colorbar": {
                          "outlinewidth": 0,
                          "ticks": ""
                        },
                        "colorscale": [
                          [
                            0,
                            "#0d0887"
                          ],
                          [
                            0.1111111111111111,
                            "#46039f"
                          ],
                          [
                            0.2222222222222222,
                            "#7201a8"
                          ],
                          [
                            0.3333333333333333,
                            "#9c179e"
                          ],
                          [
                            0.4444444444444444,
                            "#bd3786"
                          ],
                          [
                            0.5555555555555556,
                            "#d8576b"
                          ],
                          [
                            0.6666666666666666,
                            "#ed7953"
                          ],
                          [
                            0.7777777777777778,
                            "#fb9f3a"
                          ],
                          [
                            0.8888888888888888,
                            "#fdca26"
                          ],
                          [
                            1,
                            "#f0f921"
                          ]
                        ],
                        "type": "heatmap"
                      }
                    ],
                    "histogram": [
                      {
                        "marker": {
                          "pattern": {
                            "fillmode": "overlay",
                            "size": 10,
                            "solidity": 0.2
                          }
                        },
                        "type": "histogram"
                      }
                    ],
                    "histogram2d": [
                      {
                        "colorbar": {
                          "outlinewidth": 0,
                          "ticks": ""
                        },
                        "colorscale": [
                          [
                            0,
                            "#0d0887"
                          ],
                          [
                            0.1111111111111111,
                            "#46039f"
                          ],
                          [
                            0.2222222222222222,
                            "#7201a8"
                          ],
                          [
                            0.3333333333333333,
                            "#9c179e"
                          ],
                          [
                            0.4444444444444444,
                            "#bd3786"
                          ],
                          [
                            0.5555555555555556,
                            "#d8576b"
                          ],
                          [
                            0.6666666666666666,
                            "#ed7953"
                          ],
                          [
                            0.7777777777777778,
                            "#fb9f3a"
                          ],
                          [
                            0.8888888888888888,
                            "#fdca26"
                          ],
                          [
                            1,
                            "#f0f921"
                          ]
                        ],
                        "type": "histogram2d"
                      }
                    ],
                    "histogram2dcontour": [
                      {
                        "colorbar": {
                          "outlinewidth": 0,
                          "ticks": ""
                        },
                        "colorscale": [
                          [
                            0,
                            "#0d0887"
                          ],
                          [
                            0.1111111111111111,
                            "#46039f"
                          ],
                          [
                            0.2222222222222222,
                            "#7201a8"
                          ],
                          [
                            0.3333333333333333,
                            "#9c179e"
                          ],
                          [
                            0.4444444444444444,
                            "#bd3786"
                          ],
                          [
                            0.5555555555555556,
                            "#d8576b"
                          ],
                          [
                            0.6666666666666666,
                            "#ed7953"
                          ],
                          [
                            0.7777777777777778,
                            "#fb9f3a"
                          ],
                          [
                            0.8888888888888888,
                            "#fdca26"
                          ],
                          [
                            1,
                            "#f0f921"
                          ]
                        ],
                        "type": "histogram2dcontour"
                      }
                    ],
                    "mesh3d": [
                      {
                        "colorbar": {
                          "outlinewidth": 0,
                          "ticks": ""
                        },
                        "type": "mesh3d"
                      }
                    ],
                    "parcoords": [
                      {
                        "line": {
                          "colorbar": {
                            "outlinewidth": 0,
                            "ticks": ""
                          }
                        },
                        "type": "parcoords"
                      }
                    ],
                    "pie": [
                      {
                        "automargin": true,
                        "type": "pie"
                      }
                    ],
                    "scatter": [
                      {
                        "fillpattern": {
                          "fillmode": "overlay",
                          "size": 10,
                          "solidity": 0.2
                        },
                        "type": "scatter"
                      }
                    ],
                    "scatter3d": [
                      {
                        "line": {
                          "colorbar": {
                            "outlinewidth": 0,
                            "ticks": ""
                          }
                        },
                        "marker": {
                          "colorbar": {
                            "outlinewidth": 0,
                            "ticks": ""
                          }
                        },
                        "type": "scatter3d"
                      }
                    ],
                    "scattercarpet": [
                      {
                        "marker": {
                          "colorbar": {
                            "outlinewidth": 0,
                            "ticks": ""
                          }
                        },
                        "type": "scattercarpet"
                      }
                    ],
                    "scattergeo": [
                      {
                        "marker": {
                          "colorbar": {
                            "outlinewidth": 0,
                            "ticks": ""
                          }
                        },
                        "type": "scattergeo"
                      }
                    ],
                    "scattergl": [
                      {
                        "marker": {
                          "colorbar": {
                            "outlinewidth": 0,
                            "ticks": ""
                          }
                        },
                        "type": "scattergl"
                      }
                    ],
                    "scattermap": [
                      {
                        "marker": {
                          "colorbar": {
                            "outlinewidth": 0,
                            "ticks": ""
                          }
                        },
                        "type": "scattermap"
                      }
                    ],
                    "scattermapbox": [
                      {
                        "marker": {
                          "colorbar": {
                            "outlinewidth": 0,
                            "ticks": ""
                          }
                        },
                        "type": "scattermapbox"
                      }
                    ],
                    "scatterpolar": [
                      {
                        "marker": {
                          "colorbar": {
                            "outlinewidth": 0,
                            "ticks": ""
                          }
                        },
                        "type": "scatterpolar"
                      }
                    ],
                    "scatterpolargl": [
                      {
                        "marker": {
                          "colorbar": {
                            "outlinewidth": 0,
                            "ticks": ""
                          }
                        },
                        "type": "scatterpolargl"
                      }
                    ],
                    "scatterternary": [
                      {
                        "marker": {
                          "colorbar": {
                            "outlinewidth": 0,
                            "ticks": ""
                          }
                        },
                        "type": "scatterternary"
                      }
                    ],
                    "surface": [
                      {
                        "colorbar": {
                          "outlinewidth": 0,
                          "ticks": ""
                        },
                        "colorscale": [
                          [
                            0,
                            "#0d0887"
                          ],
                          [
                            0.1111111111111111,
                            "#46039f"
                          ],
                          [
                            0.2222222222222222,
                            "#7201a8"
                          ],
                          [
                            0.3333333333333333,
                            "#9c179e"
                          ],
                          [
                            0.4444444444444444,
                            "#bd3786"
                          ],
                          [
                            0.5555555555555556,
                            "#d8576b"
                          ],
                          [
                            0.6666666666666666,
                            "#ed7953"
                          ],
                          [
                            0.7777777777777778,
                            "#fb9f3a"
                          ],
                          [
                            0.8888888888888888,
                            "#fdca26"
                          ],
                          [
                            1,
                            "#f0f921"
                          ]
                        ],
                        "type": "surface"
                      }
                    ],
                    "table": [
                      {
                        "cells": {
                          "fill": {
                            "color": "#EBF0F8"
                          },
                          "line": {
                            "color": "white"
                          }
                        },
                        "header": {
                          "fill": {
                            "color": "#C8D4E3"
                          },
                          "line": {
                            "color": "white"
                          }
                        },
                        "type": "table"
                      }
                    ]
                  },
                  "layout": {
                    "annotationdefaults": {
                      "arrowcolor": "#2a3f5f",
                      "arrowhead": 0,
                      "arrowwidth": 1
                    },
                    "autotypenumbers": "strict",
                    "coloraxis": {
                      "colorbar": {
                        "outlinewidth": 0,
                        "ticks": ""
                      }
                    },
                    "colorscale": {
                      "diverging": [
                        [
                          0,
                          "#8e0152"
                        ],
                        [
                          0.1,
                          "#c51b7d"
                        ],
                        [
                          0.2,
                          "#de77ae"
                        ],
                        [
                          0.3,
                          "#f1b6da"
                        ],
                        [
                          0.4,
                          "#fde0ef"
                        ],
                        [
                          0.5,
                          "#f7f7f7"
                        ],
                        [
                          0.6,
                          "#e6f5d0"
                        ],
                        [
                          0.7,
                          "#b8e186"
                        ],
                        [
                          0.8,
                          "#7fbc41"
                        ],
                        [
                          0.9,
                          "#4d9221"
                        ],
                        [
                          1,
                          "#276419"
                        ]
                      ],
                      "sequential": [
                        [
                          0,
                          "#0d0887"
                        ],
                        [
                          0.1111111111111111,
                          "#46039f"
                        ],
                        [
                          0.2222222222222222,
                          "#7201a8"
                        ],
                        [
                          0.3333333333333333,
                          "#9c179e"
                        ],
                        [
                          0.4444444444444444,
                          "#bd3786"
                        ],
                        [
                          0.5555555555555556,
                          "#d8576b"
                        ],
                        [
                          0.6666666666666666,
                          "#ed7953"
                        ],
                        [
                          0.7777777777777778,
                          "#fb9f3a"
                        ],
                        [
                          0.8888888888888888,
                          "#fdca26"
                        ],
                        [
                          1,
                          "#f0f921"
                        ]
                      ],
                      "sequentialminus": [
                        [
                          0,
                          "#0d0887"
                        ],
                        [
                          0.1111111111111111,
                          "#46039f"
                        ],
                        [
                          0.2222222222222222,
                          "#7201a8"
                        ],
                        [
                          0.3333333333333333,
                          "#9c179e"
                        ],
                        [
                          0.4444444444444444,
                          "#bd3786"
                        ],
                        [
                          0.5555555555555556,
                          "#d8576b"
                        ],
                        [
                          0.6666666666666666,
                          "#ed7953"
                        ],
                        [
                          0.7777777777777778,
                          "#fb9f3a"
                        ],
                        [
                          0.8888888888888888,
                          "#fdca26"
                        ],
                        [
                          1,
                          "#f0f921"
                        ]
                      ]
                    },
                    "colorway": [
                      "#636efa",
                      "#EF553B",
                      "#00cc96",
                      "#ab63fa",
                      "#FFA15A",
                      "#19d3f3",
                      "#FF6692",
                      "#B6E880",
                      "#FF97FF",
                      "#FECB52"
                    ],
                    "font": {
                      "color": "#2a3f5f"
                    },
                    "geo": {
                      "bgcolor": "white",
                      "lakecolor": "white",
                      "landcolor": "#E5ECF6",
                      "showlakes": true,
                      "showland": true,
                      "subunitcolor": "white"
                    },
                    "hoverlabel": {
                      "align": "left"
                    },
                    "hovermode": "closest",
                    "mapbox": {
                      "style": "light"
                    },
                    "paper_bgcolor": "white",
                    "plot_bgcolor": "#E5ECF6",
                    "polar": {
                      "angularaxis": {
                        "gridcolor": "white",
                        "linecolor": "white",
                        "ticks": ""
                      },
                      "bgcolor": "#E5ECF6",
                      "radialaxis": {
                        "gridcolor": "white",
                        "linecolor": "white",
                        "ticks": ""
                      }
                    },
                    "scene": {
                      "xaxis": {
                        "backgroundcolor": "#E5ECF6",
                        "gridcolor": "white",
                        "gridwidth": 2,
                        "linecolor": "white",
                        "showbackground": true,
                        "ticks": "",
                        "zerolinecolor": "white"
                      },
                      "yaxis": {
                        "backgroundcolor": "#E5ECF6",
                        "gridcolor": "white",
                        "gridwidth": 2,
                        "linecolor": "white",
                        "showbackground": true,
                        "ticks": "",
                        "zerolinecolor": "white"
                      },
                      "zaxis": {
                        "backgroundcolor": "#E5ECF6",
                        "gridcolor": "white",
                        "gridwidth": 2,
                        "linecolor": "white",
                        "showbackground": true,
                        "ticks": "",
                        "zerolinecolor": "white"
                      }
                    },
                    "shapedefaults": {
                      "line": {
                        "color": "#2a3f5f"
                      }
                    },
                    "ternary": {
                      "aaxis": {
                        "gridcolor": "white",
                        "linecolor": "white",
                        "ticks": ""
                      },
                      "baxis": {
                        "gridcolor": "white",
                        "linecolor": "white",
                        "ticks": ""
                      },
                      "bgcolor": "#E5ECF6",
                      "caxis": {
                        "gridcolor": "white",
                        "linecolor": "white",
                        "ticks": ""
                      }
                    },
                    "title": {
                      "x": 0.05
                    },
                    "xaxis": {
                      "automargin": true,
                      "gridcolor": "white",
                      "linecolor": "white",
                      "ticks": "",
                      "title": {
                        "standoff": 15
                      },
                      "zerolinecolor": "white",
                      "zerolinewidth": 2
                    },
                    "yaxis": {
                      "automargin": true,
                      "gridcolor": "white",
                      "linecolor": "white",
                      "ticks": "",
                      "title": {
                        "standoff": 15
                      },
                      "zerolinecolor": "white",
                      "zerolinewidth": 2
                    }
                  }
                },
                "title": {
                  "text": "Candlestick Chart with Bollinger Bands - INDIGO.NS"
                },
                "xaxis": {
                  "title": {
                    "text": "Date"
                  }
                },
                "yaxis": {
                  "title": {
                    "text": "Price"
                  }
                }
              }
            }
          },
          "metadata": {},
          "output_type": "display_data"
        }
      ],
      "source": [
        "# Bollinger Bands\n",
        "def calculate_bollinger_bands(data, window, num_std_dev):\n",
        "  data['Middle_Band'] = data['close'].rolling(window=window).mean()\n",
        "  data['Std_Dev'] = data['close'].rolling(window=window).std()\n",
        "  data['Upper_Band'] = data['Middle_Band'] + (data['Std_Dev'] * num_std_dev)\n",
        "  data['Lower_Band'] = data['Middle_Band'] - (data['Std_Dev'] * num_std_dev)\n",
        "  return data\n",
        "\n",
        "# Calculate Bollinger Bands with typical parameters (20, 2)\n",
        "data = calculate_bollinger_bands(data, window=20, num_std_dev=2)\n",
        "\n",
        "# Plot Bollinger Bands on the candlestick chart\n",
        "fig_bb = go.Figure(data=[\n",
        "    go.Candlestick(x=data.index,\n",
        "                   open=data['open'],\n",
        "                   high=data['high'],\n",
        "                   low=data['low'],\n",
        "                   close=data['close'],\n",
        "                   name='Candlesticks')\n",
        "])\n",
        "\n",
        "fig_bb.add_trace(go.Scatter(x=data.index, y=data['Middle_Band'], mode='lines', name='Middle Band (SMA)', line=dict(color='blue', width=1)))\n",
        "fig_bb.add_trace(go.Scatter(x=data.index, y=data['Upper_Band'], mode='lines', name='Upper Band', line=dict(color='red', width=1)))\n",
        "fig_bb.add_trace(go.Scatter(x=data.index, y=data['Lower_Band'], mode='lines', name='Lower Band', line=dict(color='green', width=1)))\n",
        "\n",
        "fig_bb.update_layout(title=f\"Candlestick Chart with Bollinger Bands - {stock_symbol}\", xaxis_title='Date', yaxis_title='Price')\n",
        "fig_bb.show()"
      ]
    },
    {
      "cell_type": "code",
      "execution_count": 18,
      "metadata": {
        "colab": {
          "base_uri": "https://localhost:8080/",
          "height": 542
        },
        "id": "SDabMWrZRUr0",
        "outputId": "36aad184-88bf-4afb-d090-0f1c256ea03f"
      },
      "outputs": [
        {
          "data": {
            "application/vnd.plotly.v1+json": {
              "config": {
                "plotlyServerURL": "https://plot.ly"
              },
              "data": [
                {
                  "close": {
                    "bdata": "AAAAwAzKsEAAAABgZtKvQAAAAACA/LBAAAAAAADNsEAAAABAMxWxQAAAAKCZ1rFAAAAAAIARsUAAAABgZsywQAAAAGCmzrBAAAAAYGausEAAAAAAQM6wQAAAAAAAhLBAAAAAAECFsEAAAABgJtawQAAAAGCm27BAAAAAAICJsEAAAABg5oGwQAAAAGCmfbBAAAAAAECEsEAAAABgJn6wQAAAAKAZmbBAAAAAAAC3sEAAAAAAwMCwQAAAAGDm4rBAAAAAQPONsEAAAACgGdGwQAAAAABAubBAAAAAYGbgsEAAAABgpuuwQAAAAKDZIbFAAAAAoBlPsUAAAAAAQEGxQAAAAGBmubBAAAAAwIzwsEAAAABgZtuwQAAAAMDMF7FAAAAAQDNQsUAAAABgZo2xQAAAAMBMV7FAAAAAAAB6sUAAAABAM3ixQAAAAMBMNLFAAAAAAIDYsEAAAABgZnywQAAAAEBzpbBAAAAAYObdsEAAAABA86CwQAAAAEAzwrBAAAAAYKabsEAAAABgZoOwQAAAAGDmcbBAAAAAQLO1sEAAAABA84ewQAAAAMAMzrBAAAAAoNnLsEAAAABgJoOxQAAAAEBzZrJAAAAAoBlwskAAAAAAwIqyQAAAAKDZ+7JAAAAAoNmXskAAAAAAAN6yQAAAAMAMubJAAAAAYGbNskAAAAAAAM+yQAAAAMCM3LJAAAAAQLOvskAAAAAAgMiyQAAAAKDZ37JAAAAAYGYks0AAAABgpoKzQAAAAKBZTrNAAAAAoBlTs0AAAAAAwEWzQAAAAGCmPLNAAAAAwIwJs0AAAABgpiezQAAAAKBZQrNAAAAAoBnbskAAAABAM66yQAAAAMCMA7NAAAAAQLNRs0AAAABAc7OyQAAAAABAKbNAAAAAoNlsskAAAACgWQGyQAAAAEAzhbFAAAAAQPP6sUAAAADATGSyQAAAAGAmObJAAAAAQHNVskAAAABA80ayQAAAAEBzlLJAAAAAoNlbskAAAAAAABCyQAAAAMAMN7JAAAAAAADvsUAAAABgZqyxQAAAAAAAqLFAAAAAoNmnsUAAAACgGQ6xQAAAAGDmXq9AAAAAAIB1r0AAAABgZrOvQAAAAAAAqa9AAAAAoBnLr0AAAABAM/auQAAAAECzya5AAAAAYOa7r0AAAAAAgDevQAAAAGDmRa9AAAAAQDNXr0AAAADAzJGuQAAAAKCZEa5AAAAAYGZmrkAAAACgmRCvQAAAAMDMm69AAAAAoJnLr0AAAABgpi6wQAAAAACAlLBAAAAAoJmFsEAAAABg5quwQAAAAGCmALFAAAAAYOYasUAAAAAAQDmxQAAAAACANbFAAAAAoNkSsUAAAADAjBCxQAAAAEAzdbFAAAAAQHOJsUAAAAAAAH2xQAAAAMCMcbFAAAAAoFlwsUAAAABg5lCxQAAAAADANrFAAAAAwMwisUAAAACgWSaxQAAAAMAMUrFAAAAAoJkrsUAAAABA81exQAAAAABABLJAAAAAAAB1skAAAABA80myQAAAAMCM9bFAAAAAAEDKsUAAAABAs/OxQAAAAADAubFAAAAAQDNysUAAAABA86qwQAAAAKCZ6LBAAAAAYCamsEAAAADAjKSwQAAAAMDMhLBAAAAAwMxCr0AAAAAAADavQAAAAAAAxK9AAAAAAMAPsEAAAABgZvSvQAAAAMBMErBAAAAAoJlTr0AAAAAAAFevQAAAAMDMJrBAAAAAwMxBsEAAAAAAwE+wQAAAAACAurBAAAAAYObFsEAAAAAAwIOwQAAAAKBZ5LBAAAAAYGaMsUAAAABAsymxQAAAAEAz+bBAAAAAYGY/sUAAAACg2SqxQAAAAMCMDLFAAAAAYCblsEAAAACg2dywQAAAAACA8bBAAAAAoNkMsUAAAADATH+wQAAAAAAAz7BAAAAAwIz5sEAAAABg5i+xQAAAAEBzlbFAAAAAAMCesUAAAAAAALixQAAAAEBzS7FAAAAAYGZbsUAAAADATH2xQAAAAECzcLFAAAAAQLP2sUAAAACgGVqyQAAAAGBmmrJAAAAAwIwxskAAAADAjBOyQAAAAEBzK7JAAAAAQDN5skAAAACg2VyyQAAAAEBzrLJAAAAAQHOsskAAAADAjHSzQAAAAADA3rNAAAAAwAy0s0AAAACgWWqzQAAAAECzjrNAAAAAYCahs0AAAADAzAe0QAAAAKBZ+7NAAAAAAACks0AAAAAAQMyzQAAAAKCZi7NAAAAAYObqs0AAAABAs3yzQAAAAMAMJbRAAAAAAMBJtEAAAACgGR+0QAAAAAAAiLRAAAAAAIB8tEAAAAAAAPa0QAAAAACAeLVAAAAAAACetUAAAAAAgLa1QAAAAACAkLVAAAAAAIDBtEAAAAAAAN20QAAAAAAAkLRAAAAAAICBtEAAAAAAgMm0QAAAAACAm7VAAAAAAADKtEAAAAAAgLC0QAAAAAAAGrRAAAAAAADts0AAAAAAgGS1QAAAAAAAkbVAAAAAAIBLtUAAAAAAANW1QAAAAACAurVAAAAAAIDGtUAAAAAAAEK1QAAAAACAVbVAAAAAAAB/tUAAAAAAAJG1QAAAAAAALLVAAAAAAIDBtEAAAAAAgNK0QAAAAAAAyrRAAAAAAADStEA=",
                    "dtype": "f8"
                  },
                  "high": {
                    "bdata": "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",
                    "dtype": "f8"
                  },
                  "low": {
                    "bdata": "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",
                    "dtype": "f8"
                  },
                  "name": "Candlesticks",
                  "open": {
                    "bdata": "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",
                    "dtype": "f8"
                  },
                  "type": "candlestick",
                  "x": {
                    "bdata": "AAABAAIAAwAEAAUABgAHAAgACQAKAAsADAANAA4ADwAQABEAEgATABQAFQAWABcAGAAZABoAGwAcAB0AHgAfACAAIQAiACMAJAAlACYAJwAoACkAKgArACwALQAuAC8AMAAxADIAMwA0ADUANgA3ADgAOQA6ADsAPAA9AD4APwBAAEEAQgBDAEQARQBGAEcASABJAEoASwBMAE0ATgBPAFAAUQBSAFMAVABVAFYAVwBYAFkAWgBbAFwAXQBeAF8AYABhAGIAYwBkAGUAZgBnAGgAaQBqAGsAbABtAG4AbwBwAHEAcgBzAHQAdQB2AHcAeAB5AHoAewB8AH0AfgB/AIAAgQCCAIMAhACFAIYAhwCIAIkAigCLAIwAjQCOAI8AkACRAJIAkwCUAJUAlgCXAJgAmQCaAJsAnACdAJ4AnwCgAKEAogCjAKQApQCmAKcAqACpAKoAqwCsAK0ArgCvALAAsQCyALMAtAC1ALYAtwC4ALkAugC7ALwAvQC+AL8AwADBAMIAwwDEAMUAxgDHAMgAyQDKAMsAzADNAM4AzwDQANEA0gDTANQA1QDWANcA2ADZANoA2wDcAN0A3gDfAOAA4QDiAOMA5ADlAOYA5wDoAOkA6gDrAOwA7QDuAO8A8ADxAPIA8wD0APUA9gA=",
                    "dtype": "i2"
                  }
                },
                {
                  "line": {
                    "color": "blue",
                    "width": 1
                  },
                  "mode": "lines",
                  "name": "Middle Band (SMA)",
                  "type": "scatter",
                  "x": {
                    "bdata": "AAABAAIAAwAEAAUABgAHAAgACQAKAAsADAANAA4ADwAQABEAEgATABQAFQAWABcAGAAZABoAGwAcAB0AHgAfACAAIQAiACMAJAAlACYAJwAoACkAKgArACwALQAuAC8AMAAxADIAMwA0ADUANgA3ADgAOQA6ADsAPAA9AD4APwBAAEEAQgBDAEQARQBGAEcASABJAEoASwBMAE0ATgBPAFAAUQBSAFMAVABVAFYAVwBYAFkAWgBbAFwAXQBeAF8AYABhAGIAYwBkAGUAZgBnAGgAaQBqAGsAbABtAG4AbwBwAHEAcgBzAHQAdQB2AHcAeAB5AHoAewB8AH0AfgB/AIAAgQCCAIMAhACFAIYAhwCIAIkAigCLAIwAjQCOAI8AkACRAJIAkwCUAJUAlgCXAJgAmQCaAJsAnACdAJ4AnwCgAKEAogCjAKQApQCmAKcAqACpAKoAqwCsAK0ArgCvALAAsQCyALMAtAC1ALYAtwC4ALkAugC7ALwAvQC+AL8AwADBAMIAwwDEAMUAxgDHAMgAyQDKAMsAzADNAM4AzwDQANEA0gDTANQA1QDWANcA2ADZANoA2wDcAN0A3gDfAOAA4QDiAOMA5ADlAOYA5wDoAOkA6gDrAOwA7QDuAO8A8ADxAPIA8wD0APUA9gA=",
                    "dtype": "i2"
                  },
                  "y": {
                    "bdata": "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",
                    "dtype": "f8"
                  }
                },
                {
                  "line": {
                    "color": "red",
                    "width": 1
                  },
                  "mode": "lines",
                  "name": "Upper Band",
                  "type": "scatter",
                  "x": {
                    "bdata": "AAABAAIAAwAEAAUABgAHAAgACQAKAAsADAANAA4ADwAQABEAEgATABQAFQAWABcAGAAZABoAGwAcAB0AHgAfACAAIQAiACMAJAAlACYAJwAoACkAKgArACwALQAuAC8AMAAxADIAMwA0ADUANgA3ADgAOQA6ADsAPAA9AD4APwBAAEEAQgBDAEQARQBGAEcASABJAEoASwBMAE0ATgBPAFAAUQBSAFMAVABVAFYAVwBYAFkAWgBbAFwAXQBeAF8AYABhAGIAYwBkAGUAZgBnAGgAaQBqAGsAbABtAG4AbwBwAHEAcgBzAHQAdQB2AHcAeAB5AHoAewB8AH0AfgB/AIAAgQCCAIMAhACFAIYAhwCIAIkAigCLAIwAjQCOAI8AkACRAJIAkwCUAJUAlgCXAJgAmQCaAJsAnACdAJ4AnwCgAKEAogCjAKQApQCmAKcAqACpAKoAqwCsAK0ArgCvALAAsQCyALMAtAC1ALYAtwC4ALkAugC7ALwAvQC+AL8AwADBAMIAwwDEAMUAxgDHAMgAyQDKAMsAzADNAM4AzwDQANEA0gDTANQA1QDWANcA2ADZANoA2wDcAN0A3gDfAOAA4QDiAOMA5ADlAOYA5wDoAOkA6gDrAOwA7QDuAO8A8ADxAPIA8wD0APUA9gA=",
                    "dtype": "i2"
                  },
                  "y": {
                    "bdata": "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",
                    "dtype": "f8"
                  }
                },
                {
                  "line": {
                    "color": "green",
                    "width": 1
                  },
                  "mode": "lines",
                  "name": "Lower Band",
                  "type": "scatter",
                  "x": {
                    "bdata": "AAABAAIAAwAEAAUABgAHAAgACQAKAAsADAANAA4ADwAQABEAEgATABQAFQAWABcAGAAZABoAGwAcAB0AHgAfACAAIQAiACMAJAAlACYAJwAoACkAKgArACwALQAuAC8AMAAxADIAMwA0ADUANgA3ADgAOQA6ADsAPAA9AD4APwBAAEEAQgBDAEQARQBGAEcASABJAEoASwBMAE0ATgBPAFAAUQBSAFMAVABVAFYAVwBYAFkAWgBbAFwAXQBeAF8AYABhAGIAYwBkAGUAZgBnAGgAaQBqAGsAbABtAG4AbwBwAHEAcgBzAHQAdQB2AHcAeAB5AHoAewB8AH0AfgB/AIAAgQCCAIMAhACFAIYAhwCIAIkAigCLAIwAjQCOAI8AkACRAJIAkwCUAJUAlgCXAJgAmQCaAJsAnACdAJ4AnwCgAKEAogCjAKQApQCmAKcAqACpAKoAqwCsAK0ArgCvALAAsQCyALMAtAC1ALYAtwC4ALkAugC7ALwAvQC+AL8AwADBAMIAwwDEAMUAxgDHAMgAyQDKAMsAzADNAM4AzwDQANEA0gDTANQA1QDWANcA2ADZANoA2wDcAN0A3gDfAOAA4QDiAOMA5ADlAOYA5wDoAOkA6gDrAOwA7QDuAO8A8ADxAPIA8wD0APUA9gA=",
                    "dtype": "i2"
                  },
                  "y": {
                    "bdata": "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",
                    "dtype": "f8"
                  }
                },
                {
                  "marker": {
                    "color": "green",
                    "size": 12,
                    "symbol": "triangle-up"
                  },
                  "mode": "markers",
                  "name": "Bollinger Buy Signal",
                  "type": "scatter",
                  "x": {
                    "bdata": "VABVAFYAZABlAGYAZwCUAJkAmgA=",
                    "dtype": "i2"
                  },
                  "y": {
                    "bdata": "AAAAoNlsskAAAACgWQGyQAAAAEAzhbFAAAAAoBkOsUAAAABg5l6vQAAAAACAda9AAAAAYGazr0AAAABA86qwQAAAAMDMQq9AAAAAAAA2r0A=",
                    "dtype": "f8"
                  }
                },
                {
                  "marker": {
                    "color": "red",
                    "size": 12,
                    "symbol": "triangle-down"
                  },
                  "mode": "markers",
                  "name": "Bollinger Sell Signal",
                  "type": "scatter",
                  "x": {
                    "bdata": "HQAeACUAOAA5ADoAOwB4AHkAegB7AIwAjQCOAKgAvQC+AL8AxwDIANkA2gDbANwA",
                    "dtype": "i2"
                  },
                  "y": {
                    "bdata": "AAAAoNkhsUAAAACgGU+xQAAAAGBmjbFAAAAAQHNmskAAAACgGXCyQAAAAADAirJAAAAAoNn7skAAAACgmYWwQAAAAGDmq7BAAAAAYKYAsUAAAABg5hqxQAAAAABABLJAAAAAAAB1skAAAABA80myQAAAAGBmjLFAAAAAQLP2sUAAAACgGVqyQAAAAGBmmrJAAAAAwIx0s0AAAAAAwN6zQAAAAAAA9rRAAAAAAIB4tUAAAAAAAJ61QAAAAACAtrVA",
                    "dtype": "f8"
                  }
                }
              ],
              "layout": {
                "template": {
                  "data": {
                    "bar": [
                      {
                        "error_x": {
                          "color": "#2a3f5f"
                        },
                        "error_y": {
                          "color": "#2a3f5f"
                        },
                        "marker": {
                          "line": {
                            "color": "#E5ECF6",
                            "width": 0.5
                          },
                          "pattern": {
                            "fillmode": "overlay",
                            "size": 10,
                            "solidity": 0.2
                          }
                        },
                        "type": "bar"
                      }
                    ],
                    "barpolar": [
                      {
                        "marker": {
                          "line": {
                            "color": "#E5ECF6",
                            "width": 0.5
                          },
                          "pattern": {
                            "fillmode": "overlay",
                            "size": 10,
                            "solidity": 0.2
                          }
                        },
                        "type": "barpolar"
                      }
                    ],
                    "carpet": [
                      {
                        "aaxis": {
                          "endlinecolor": "#2a3f5f",
                          "gridcolor": "white",
                          "linecolor": "white",
                          "minorgridcolor": "white",
                          "startlinecolor": "#2a3f5f"
                        },
                        "baxis": {
                          "endlinecolor": "#2a3f5f",
                          "gridcolor": "white",
                          "linecolor": "white",
                          "minorgridcolor": "white",
                          "startlinecolor": "#2a3f5f"
                        },
                        "type": "carpet"
                      }
                    ],
                    "choropleth": [
                      {
                        "colorbar": {
                          "outlinewidth": 0,
                          "ticks": ""
                        },
                        "type": "choropleth"
                      }
                    ],
                    "contour": [
                      {
                        "colorbar": {
                          "outlinewidth": 0,
                          "ticks": ""
                        },
                        "colorscale": [
                          [
                            0,
                            "#0d0887"
                          ],
                          [
                            0.1111111111111111,
                            "#46039f"
                          ],
                          [
                            0.2222222222222222,
                            "#7201a8"
                          ],
                          [
                            0.3333333333333333,
                            "#9c179e"
                          ],
                          [
                            0.4444444444444444,
                            "#bd3786"
                          ],
                          [
                            0.5555555555555556,
                            "#d8576b"
                          ],
                          [
                            0.6666666666666666,
                            "#ed7953"
                          ],
                          [
                            0.7777777777777778,
                            "#fb9f3a"
                          ],
                          [
                            0.8888888888888888,
                            "#fdca26"
                          ],
                          [
                            1,
                            "#f0f921"
                          ]
                        ],
                        "type": "contour"
                      }
                    ],
                    "contourcarpet": [
                      {
                        "colorbar": {
                          "outlinewidth": 0,
                          "ticks": ""
                        },
                        "type": "contourcarpet"
                      }
                    ],
                    "heatmap": [
                      {
                        "colorbar": {
                          "outlinewidth": 0,
                          "ticks": ""
                        },
                        "colorscale": [
                          [
                            0,
                            "#0d0887"
                          ],
                          [
                            0.1111111111111111,
                            "#46039f"
                          ],
                          [
                            0.2222222222222222,
                            "#7201a8"
                          ],
                          [
                            0.3333333333333333,
                            "#9c179e"
                          ],
                          [
                            0.4444444444444444,
                            "#bd3786"
                          ],
                          [
                            0.5555555555555556,
                            "#d8576b"
                          ],
                          [
                            0.6666666666666666,
                            "#ed7953"
                          ],
                          [
                            0.7777777777777778,
                            "#fb9f3a"
                          ],
                          [
                            0.8888888888888888,
                            "#fdca26"
                          ],
                          [
                            1,
                            "#f0f921"
                          ]
                        ],
                        "type": "heatmap"
                      }
                    ],
                    "histogram": [
                      {
                        "marker": {
                          "pattern": {
                            "fillmode": "overlay",
                            "size": 10,
                            "solidity": 0.2
                          }
                        },
                        "type": "histogram"
                      }
                    ],
                    "histogram2d": [
                      {
                        "colorbar": {
                          "outlinewidth": 0,
                          "ticks": ""
                        },
                        "colorscale": [
                          [
                            0,
                            "#0d0887"
                          ],
                          [
                            0.1111111111111111,
                            "#46039f"
                          ],
                          [
                            0.2222222222222222,
                            "#7201a8"
                          ],
                          [
                            0.3333333333333333,
                            "#9c179e"
                          ],
                          [
                            0.4444444444444444,
                            "#bd3786"
                          ],
                          [
                            0.5555555555555556,
                            "#d8576b"
                          ],
                          [
                            0.6666666666666666,
                            "#ed7953"
                          ],
                          [
                            0.7777777777777778,
                            "#fb9f3a"
                          ],
                          [
                            0.8888888888888888,
                            "#fdca26"
                          ],
                          [
                            1,
                            "#f0f921"
                          ]
                        ],
                        "type": "histogram2d"
                      }
                    ],
                    "histogram2dcontour": [
                      {
                        "colorbar": {
                          "outlinewidth": 0,
                          "ticks": ""
                        },
                        "colorscale": [
                          [
                            0,
                            "#0d0887"
                          ],
                          [
                            0.1111111111111111,
                            "#46039f"
                          ],
                          [
                            0.2222222222222222,
                            "#7201a8"
                          ],
                          [
                            0.3333333333333333,
                            "#9c179e"
                          ],
                          [
                            0.4444444444444444,
                            "#bd3786"
                          ],
                          [
                            0.5555555555555556,
                            "#d8576b"
                          ],
                          [
                            0.6666666666666666,
                            "#ed7953"
                          ],
                          [
                            0.7777777777777778,
                            "#fb9f3a"
                          ],
                          [
                            0.8888888888888888,
                            "#fdca26"
                          ],
                          [
                            1,
                            "#f0f921"
                          ]
                        ],
                        "type": "histogram2dcontour"
                      }
                    ],
                    "mesh3d": [
                      {
                        "colorbar": {
                          "outlinewidth": 0,
                          "ticks": ""
                        },
                        "type": "mesh3d"
                      }
                    ],
                    "parcoords": [
                      {
                        "line": {
                          "colorbar": {
                            "outlinewidth": 0,
                            "ticks": ""
                          }
                        },
                        "type": "parcoords"
                      }
                    ],
                    "pie": [
                      {
                        "automargin": true,
                        "type": "pie"
                      }
                    ],
                    "scatter": [
                      {
                        "fillpattern": {
                          "fillmode": "overlay",
                          "size": 10,
                          "solidity": 0.2
                        },
                        "type": "scatter"
                      }
                    ],
                    "scatter3d": [
                      {
                        "line": {
                          "colorbar": {
                            "outlinewidth": 0,
                            "ticks": ""
                          }
                        },
                        "marker": {
                          "colorbar": {
                            "outlinewidth": 0,
                            "ticks": ""
                          }
                        },
                        "type": "scatter3d"
                      }
                    ],
                    "scattercarpet": [
                      {
                        "marker": {
                          "colorbar": {
                            "outlinewidth": 0,
                            "ticks": ""
                          }
                        },
                        "type": "scattercarpet"
                      }
                    ],
                    "scattergeo": [
                      {
                        "marker": {
                          "colorbar": {
                            "outlinewidth": 0,
                            "ticks": ""
                          }
                        },
                        "type": "scattergeo"
                      }
                    ],
                    "scattergl": [
                      {
                        "marker": {
                          "colorbar": {
                            "outlinewidth": 0,
                            "ticks": ""
                          }
                        },
                        "type": "scattergl"
                      }
                    ],
                    "scattermap": [
                      {
                        "marker": {
                          "colorbar": {
                            "outlinewidth": 0,
                            "ticks": ""
                          }
                        },
                        "type": "scattermap"
                      }
                    ],
                    "scattermapbox": [
                      {
                        "marker": {
                          "colorbar": {
                            "outlinewidth": 0,
                            "ticks": ""
                          }
                        },
                        "type": "scattermapbox"
                      }
                    ],
                    "scatterpolar": [
                      {
                        "marker": {
                          "colorbar": {
                            "outlinewidth": 0,
                            "ticks": ""
                          }
                        },
                        "type": "scatterpolar"
                      }
                    ],
                    "scatterpolargl": [
                      {
                        "marker": {
                          "colorbar": {
                            "outlinewidth": 0,
                            "ticks": ""
                          }
                        },
                        "type": "scatterpolargl"
                      }
                    ],
                    "scatterternary": [
                      {
                        "marker": {
                          "colorbar": {
                            "outlinewidth": 0,
                            "ticks": ""
                          }
                        },
                        "type": "scatterternary"
                      }
                    ],
                    "surface": [
                      {
                        "colorbar": {
                          "outlinewidth": 0,
                          "ticks": ""
                        },
                        "colorscale": [
                          [
                            0,
                            "#0d0887"
                          ],
                          [
                            0.1111111111111111,
                            "#46039f"
                          ],
                          [
                            0.2222222222222222,
                            "#7201a8"
                          ],
                          [
                            0.3333333333333333,
                            "#9c179e"
                          ],
                          [
                            0.4444444444444444,
                            "#bd3786"
                          ],
                          [
                            0.5555555555555556,
                            "#d8576b"
                          ],
                          [
                            0.6666666666666666,
                            "#ed7953"
                          ],
                          [
                            0.7777777777777778,
                            "#fb9f3a"
                          ],
                          [
                            0.8888888888888888,
                            "#fdca26"
                          ],
                          [
                            1,
                            "#f0f921"
                          ]
                        ],
                        "type": "surface"
                      }
                    ],
                    "table": [
                      {
                        "cells": {
                          "fill": {
                            "color": "#EBF0F8"
                          },
                          "line": {
                            "color": "white"
                          }
                        },
                        "header": {
                          "fill": {
                            "color": "#C8D4E3"
                          },
                          "line": {
                            "color": "white"
                          }
                        },
                        "type": "table"
                      }
                    ]
                  },
                  "layout": {
                    "annotationdefaults": {
                      "arrowcolor": "#2a3f5f",
                      "arrowhead": 0,
                      "arrowwidth": 1
                    },
                    "autotypenumbers": "strict",
                    "coloraxis": {
                      "colorbar": {
                        "outlinewidth": 0,
                        "ticks": ""
                      }
                    },
                    "colorscale": {
                      "diverging": [
                        [
                          0,
                          "#8e0152"
                        ],
                        [
                          0.1,
                          "#c51b7d"
                        ],
                        [
                          0.2,
                          "#de77ae"
                        ],
                        [
                          0.3,
                          "#f1b6da"
                        ],
                        [
                          0.4,
                          "#fde0ef"
                        ],
                        [
                          0.5,
                          "#f7f7f7"
                        ],
                        [
                          0.6,
                          "#e6f5d0"
                        ],
                        [
                          0.7,
                          "#b8e186"
                        ],
                        [
                          0.8,
                          "#7fbc41"
                        ],
                        [
                          0.9,
                          "#4d9221"
                        ],
                        [
                          1,
                          "#276419"
                        ]
                      ],
                      "sequential": [
                        [
                          0,
                          "#0d0887"
                        ],
                        [
                          0.1111111111111111,
                          "#46039f"
                        ],
                        [
                          0.2222222222222222,
                          "#7201a8"
                        ],
                        [
                          0.3333333333333333,
                          "#9c179e"
                        ],
                        [
                          0.4444444444444444,
                          "#bd3786"
                        ],
                        [
                          0.5555555555555556,
                          "#d8576b"
                        ],
                        [
                          0.6666666666666666,
                          "#ed7953"
                        ],
                        [
                          0.7777777777777778,
                          "#fb9f3a"
                        ],
                        [
                          0.8888888888888888,
                          "#fdca26"
                        ],
                        [
                          1,
                          "#f0f921"
                        ]
                      ],
                      "sequentialminus": [
                        [
                          0,
                          "#0d0887"
                        ],
                        [
                          0.1111111111111111,
                          "#46039f"
                        ],
                        [
                          0.2222222222222222,
                          "#7201a8"
                        ],
                        [
                          0.3333333333333333,
                          "#9c179e"
                        ],
                        [
                          0.4444444444444444,
                          "#bd3786"
                        ],
                        [
                          0.5555555555555556,
                          "#d8576b"
                        ],
                        [
                          0.6666666666666666,
                          "#ed7953"
                        ],
                        [
                          0.7777777777777778,
                          "#fb9f3a"
                        ],
                        [
                          0.8888888888888888,
                          "#fdca26"
                        ],
                        [
                          1,
                          "#f0f921"
                        ]
                      ]
                    },
                    "colorway": [
                      "#636efa",
                      "#EF553B",
                      "#00cc96",
                      "#ab63fa",
                      "#FFA15A",
                      "#19d3f3",
                      "#FF6692",
                      "#B6E880",
                      "#FF97FF",
                      "#FECB52"
                    ],
                    "font": {
                      "color": "#2a3f5f"
                    },
                    "geo": {
                      "bgcolor": "white",
                      "lakecolor": "white",
                      "landcolor": "#E5ECF6",
                      "showlakes": true,
                      "showland": true,
                      "subunitcolor": "white"
                    },
                    "hoverlabel": {
                      "align": "left"
                    },
                    "hovermode": "closest",
                    "mapbox": {
                      "style": "light"
                    },
                    "paper_bgcolor": "white",
                    "plot_bgcolor": "#E5ECF6",
                    "polar": {
                      "angularaxis": {
                        "gridcolor": "white",
                        "linecolor": "white",
                        "ticks": ""
                      },
                      "bgcolor": "#E5ECF6",
                      "radialaxis": {
                        "gridcolor": "white",
                        "linecolor": "white",
                        "ticks": ""
                      }
                    },
                    "scene": {
                      "xaxis": {
                        "backgroundcolor": "#E5ECF6",
                        "gridcolor": "white",
                        "gridwidth": 2,
                        "linecolor": "white",
                        "showbackground": true,
                        "ticks": "",
                        "zerolinecolor": "white"
                      },
                      "yaxis": {
                        "backgroundcolor": "#E5ECF6",
                        "gridcolor": "white",
                        "gridwidth": 2,
                        "linecolor": "white",
                        "showbackground": true,
                        "ticks": "",
                        "zerolinecolor": "white"
                      },
                      "zaxis": {
                        "backgroundcolor": "#E5ECF6",
                        "gridcolor": "white",
                        "gridwidth": 2,
                        "linecolor": "white",
                        "showbackground": true,
                        "ticks": "",
                        "zerolinecolor": "white"
                      }
                    },
                    "shapedefaults": {
                      "line": {
                        "color": "#2a3f5f"
                      }
                    },
                    "ternary": {
                      "aaxis": {
                        "gridcolor": "white",
                        "linecolor": "white",
                        "ticks": ""
                      },
                      "baxis": {
                        "gridcolor": "white",
                        "linecolor": "white",
                        "ticks": ""
                      },
                      "bgcolor": "#E5ECF6",
                      "caxis": {
                        "gridcolor": "white",
                        "linecolor": "white",
                        "ticks": ""
                      }
                    },
                    "title": {
                      "x": 0.05
                    },
                    "xaxis": {
                      "automargin": true,
                      "gridcolor": "white",
                      "linecolor": "white",
                      "ticks": "",
                      "title": {
                        "standoff": 15
                      },
                      "zerolinecolor": "white",
                      "zerolinewidth": 2
                    },
                    "yaxis": {
                      "automargin": true,
                      "gridcolor": "white",
                      "linecolor": "white",
                      "ticks": "",
                      "title": {
                        "standoff": 15
                      },
                      "zerolinecolor": "white",
                      "zerolinewidth": 2
                    }
                  }
                },
                "title": {
                  "text": "Candlestick Chart with Bollinger Bands and Signals - INDIGO.NS"
                },
                "xaxis": {
                  "title": {
                    "text": "Datetime"
                  }
                },
                "yaxis": {
                  "title": {
                    "text": "Price"
                  }
                }
              }
            }
          },
          "metadata": {},
          "output_type": "display_data"
        }
      ],
      "source": [
        "data['Bollinger_Buy_Signal'] = np.where(data['close'] < data['Lower_Band'], 1, 0)\n",
        "data['Bollinger_Sell_Signal'] = np.where(data['close'] > data['Upper_Band'], -1, 0)\n",
        "\n",
        "# Add buy and sell signals to the plot\n",
        "buy_signals_bb = data[data['Bollinger_Buy_Signal'] == 1]\n",
        "sell_signals_bb = data[data['Bollinger_Sell_Signal'] == -1]\n",
        "\n",
        "fig_bb.add_trace(go.Scatter(\n",
        "    x=buy_signals_bb.index,\n",
        "    y=buy_signals_bb['close'],\n",
        "    mode='markers',\n",
        "    marker=dict(color='green', size=12, symbol='triangle-up'),\n",
        "    name='Bollinger Buy Signal'\n",
        "))\n",
        "\n",
        "fig_bb.add_trace(go.Scatter(\n",
        "    x=sell_signals_bb.index,\n",
        "    y=sell_signals_bb['close'],\n",
        "    mode='markers',\n",
        "    marker=dict(color='red', size=12, symbol='triangle-down'),\n",
        "    name='Bollinger Sell Signal'\n",
        "))\n",
        "\n",
        "fig_bb.update_layout(title=f\"Candlestick Chart with Bollinger Bands and Signals - {stock_symbol}\", xaxis_title='Datetime', yaxis_title='Price')\n",
        "fig_bb.show()"
      ]
    },
    {
      "cell_type": "code",
      "execution_count": 19,
      "metadata": {
        "colab": {
          "base_uri": "https://localhost:8080/",
          "height": 458
        },
        "id": "30eNYF-BR0JL",
        "outputId": "4c32ee9b-6d73-4913-dbf7-65f37d047933"
      },
      "outputs": [
        {
          "name": "stdout",
          "output_type": "stream",
          "text": [
            "\n",
            "Data with Final Signals:\n"
          ]
        },
        {
          "data": {
            "text/html": [
              "<div>\n",
              "<style scoped>\n",
              "    .dataframe tbody tr th:only-of-type {\n",
              "        vertical-align: middle;\n",
              "    }\n",
              "\n",
              "    .dataframe tbody tr th {\n",
              "        vertical-align: top;\n",
              "    }\n",
              "\n",
              "    .dataframe thead th {\n",
              "        text-align: right;\n",
              "    }\n",
              "</style>\n",
              "<table border=\"1\" class=\"dataframe\">\n",
              "  <thead>\n",
              "    <tr style=\"text-align: right;\">\n",
              "      <th></th>\n",
              "      <th>close</th>\n",
              "      <th>signals</th>\n",
              "    </tr>\n",
              "  </thead>\n",
              "  <tbody>\n",
              "    <tr>\n",
              "      <th>0</th>\n",
              "      <td>4298.049805</td>\n",
              "      <td>0</td>\n",
              "    </tr>\n",
              "    <tr>\n",
              "      <th>1</th>\n",
              "      <td>4073.199951</td>\n",
              "      <td>-1</td>\n",
              "    </tr>\n",
              "    <tr>\n",
              "      <th>2</th>\n",
              "      <td>4348.500000</td>\n",
              "      <td>0</td>\n",
              "    </tr>\n",
              "    <tr>\n",
              "      <th>3</th>\n",
              "      <td>4301.000000</td>\n",
              "      <td>0</td>\n",
              "    </tr>\n",
              "    <tr>\n",
              "      <th>4</th>\n",
              "      <td>4373.200195</td>\n",
              "      <td>1</td>\n",
              "    </tr>\n",
              "    <tr>\n",
              "      <th>...</th>\n",
              "      <td>...</td>\n",
              "      <td>...</td>\n",
              "    </tr>\n",
              "    <tr>\n",
              "      <th>242</th>\n",
              "      <td>5420.000000</td>\n",
              "      <td>0</td>\n",
              "    </tr>\n",
              "    <tr>\n",
              "      <th>243</th>\n",
              "      <td>5313.500000</td>\n",
              "      <td>0</td>\n",
              "    </tr>\n",
              "    <tr>\n",
              "      <th>244</th>\n",
              "      <td>5330.500000</td>\n",
              "      <td>0</td>\n",
              "    </tr>\n",
              "    <tr>\n",
              "      <th>245</th>\n",
              "      <td>5322.000000</td>\n",
              "      <td>0</td>\n",
              "    </tr>\n",
              "    <tr>\n",
              "      <th>246</th>\n",
              "      <td>5330.000000</td>\n",
              "      <td>0</td>\n",
              "    </tr>\n",
              "  </tbody>\n",
              "</table>\n",
              "<p>247 rows × 2 columns</p>\n",
              "</div>"
            ],
            "text/plain": [
              "           close  signals\n",
              "0    4298.049805        0\n",
              "1    4073.199951       -1\n",
              "2    4348.500000        0\n",
              "3    4301.000000        0\n",
              "4    4373.200195        1\n",
              "..           ...      ...\n",
              "242  5420.000000        0\n",
              "243  5313.500000        0\n",
              "244  5330.500000        0\n",
              "245  5322.000000        0\n",
              "246  5330.000000        0\n",
              "\n",
              "[247 rows x 2 columns]"
            ]
          },
          "execution_count": 19,
          "metadata": {},
          "output_type": "execute_result"
        }
      ],
      "source": [
        "# Generate final signals based on combined strategies of MACD and RSI indicators\n",
        "# Initialize the 'signals' column to 0 (no signal)\n",
        "data['signals'] = 0\n",
        "\n",
        "# Example: MACD Buy Signal - MACD crosses above Signal Line\n",
        "data.loc[(data['MACD'] > data['Signal_Line']) & (data['MACD_Previous'] <= data['Signal_Previous']), 'signals'] = 1\n",
        "\n",
        "# Example: MACD Sell Signal - MACD crosses below Signal Line\n",
        "data.loc[(data['MACD'] < data['Signal_Line']) & (data['MACD_Previous'] >= data['Signal_Previous']), 'signals'] = -1\n",
        "\n",
        "# Example: RSI Buy Signal - RSI crosses below 30\n",
        "# You might need to calculate the previous RSI value for a proper crossover condition\n",
        "data['RSI_Previous'] = data['RSI'].shift(1)\n",
        "data.loc[(data['RSI'] < 30) & (data['RSI_Previous'] >= 30), 'signals'] = 1\n",
        "\n",
        "# Example: RSI Sell Signal - RSI crosses above 70\n",
        "data.loc[(data['RSI'] > 70) & (data['RSI_Previous'] <= 70), 'signals'] = -1\n",
        "\n",
        "# Example: Bollinger Band Buy Signal - Close price crosses below the Lower Band\n",
        "data.loc[data['Bollinger_Buy_Signal'] == 1, 'signals'] = 1\n",
        "\n",
        "# Example: Bollinger Band Sell Signal - Close price crosses above the Upper Band\n",
        "data.loc[data['Bollinger_Sell_Signal'] == -1, 'signals'] = -1\n",
        "\n",
        "# Note: This is a very basic example of combining signals. In a real strategy, you would likely have more sophisticated rules,\n",
        "# potentially combining conditions from multiple indicators or using weighted signals.\n",
        "# For instance, you might only take a MACD buy signal if RSI is not overbought, or if ADX indicates a strong trend.\n",
        "\n",
        "# Print the data with the final 'Signal' column\n",
        "print(\"\\nData with Final Signals:\")\n",
        "data[['close','signals']]"
      ]
    },
    {
      "cell_type": "code",
      "execution_count": 20,
      "metadata": {
        "id": "3hGXMOnAR50s"
      },
      "outputs": [],
      "source": [
        "# Heiken-Ashi\n",
        "def apply_heiken_ashi(data):\n",
        "    ha_data = data.copy()\n",
        "    # Initialize Heiken-Ashi columns\n",
        "    ha_data['ha_close'] = (data['open'] + data['high'] + data['low'] + data['close']) / 4\n",
        "    ha_open = [(data['open'].iloc[0] + data['close'].iloc[0])/2]\n",
        "    for i in range(1, len(data)):\n",
        "        ha_open.append((ha_open[i-1] + ha_data['ha_close'].iloc[i-1]) / 2)\n",
        "\n",
        "    ha_data['ha_open'] = ha_open\n",
        "    ha_data['ha_high'] = ha_data[['ha_open', 'ha_close', 'high']].max(axis=1)\n",
        "    ha_data['ha_low'] = ha_data[['ha_open', 'ha_close', 'low']].min(axis=1)\n",
        "\n",
        "    # Replace original OHLC with Heiken-Ashi values\n",
        "    ha_data['open'] = ha_data['ha_open']\n",
        "    ha_data['close'] = ha_data['ha_close']\n",
        "    ha_data['high'] = ha_data['ha_high']\n",
        "    ha_data['low'] = ha_data['ha_low']\n",
        "\n",
        "    return ha_data.drop(columns=['ha_open', 'ha_close', 'ha_high', 'ha_low'])"
      ]
    },
    {
      "cell_type": "code",
      "execution_count": 21,
      "metadata": {
        "id": "xRP6GwaCR9_E"
      },
      "outputs": [],
      "source": [
        "# ATR\n",
        "def calculate_atr(data, window=14):\n",
        "    high_low = data['high'] - data['low']\n",
        "    high_close = np.abs(data['high'] - data['close'].shift())\n",
        "    low_close = np.abs(data['low'] - data['close'].shift())\n",
        "    tr = pd.concat([high_low, high_close, low_close], axis=1).max(axis=1)\n",
        "    data['ATR'] = tr.rolling(window=window).mean()\n",
        "    return data"
      ]
    },
    {
      "cell_type": "code",
      "execution_count": 22,
      "metadata": {
        "id": "6KOSH1ljSAoE"
      },
      "outputs": [],
      "source": [
        "# Remember we had defined these indicators previously so you can call with any parameter you want\n",
        "# Calculate indicators for Scenario 1\n",
        "data = calculate_atr(data, window=14)\n",
        "data = calculate_bollinger_bands(data, window=20, num_std_dev=2)\n",
        "data = calculate_rsi(data, window=14)"
      ]
    },
    {
      "cell_type": "code",
      "execution_count": 23,
      "metadata": {
        "id": "_FFsfw7RHh6-"
      },
      "outputs": [],
      "source": [
        "# remove_redundant_signals\n",
        "def remove_redundant_signals(data):\n",
        "    prev_signal = 0\n",
        "    prev_i = 0\n",
        "    trade = 0\n",
        "\n",
        "    for i in range(len(data)):\n",
        "        if prev_signal == 0 and data.loc[i, 'signals'] != 0:\n",
        "            prev_signal = data.loc[i, 'signals']\n",
        "            prev_i = i\n",
        "\n",
        "        elif prev_signal != 0:\n",
        "            if data.loc[i, 'signals'] * prev_signal > 0:\n",
        "                data.loc[i, 'signals'] = 0  # same direction → redundant\n",
        "\n",
        "            elif data.loc[i, 'signals'] * prev_signal < 0:\n",
        "                # Direction changed → new valid trade\n",
        "                trade = (\n",
        "                    data.loc[prev_i, 'close'] - data.loc[i, 'close']\n",
        "                    if prev_signal < 0\n",
        "                    else data.loc[i, 'close'] - data.loc[prev_i, 'close']\n",
        "                )\n",
        "                prev_signal = data.loc[i, 'signals']\n",
        "                prev_i = i\n",
        "\n",
        "    return data"
      ]
    },
    {
      "cell_type": "code",
      "execution_count": 24,
      "metadata": {
        "colab": {
          "base_uri": "https://localhost:8080/",
          "height": 1000
        },
        "id": "WEX2r0BcREa5",
        "outputId": "fef130e5-2b28-4fe7-e876-298e860fcea1"
      },
      "outputs": [
        {
          "name": "stdout",
          "output_type": "stream",
          "text": [
            "BACKTEST RESULTS:\n",
            "Backtest Period: 0 years and 12 months\n",
            "Benchmark Returns: 24.01 %\n",
            "Initial Capital: 100000\n",
            "Final Capital: 77540.20\n",
            "Profit percentage: -22.46 %\n",
            "Leverage applied: 1\n",
            "Maximum Portfolio balance: 100000.00\n",
            "Minimum Portfolio balance: 75830.70\n",
            "Number of trades: 9\n",
            "Winning Trades: 2\n",
            "Losing Trades: 7\n",
            "Win Rate: 22.22 %\n",
            "Average Profit: 1733.50\n",
            "Average Loss: -3703.83\n",
            "No of Long Trades: 0\n",
            "No of Short Trades: 9\n",
            "Average drawdown: -12.12 %\n",
            "Maximum drawdown: -24.17 %\n",
            "Sharpe Ratio: -9.01\n",
            "Sortino Ratio: -9.46\n",
            "Maximum Holding Time: 43 days, 00:00:00\n",
            "Average Holding Time: 26 days, 18:40:00\n"
          ]
        },
        {
          "name": "stderr",
          "output_type": "stream",
          "text": [
            "C:\\Users\\Admin\\AppData\\Local\\Temp\\ipykernel_25932\\2642432137.py:2: SettingWithCopyWarning:\n",
            "\n",
            "\n",
            "A value is trying to be set on a copy of a slice from a DataFrame\n",
            "\n",
            "See the caveats in the documentation: https://pandas.pydata.org/pandas-docs/stable/user_guide/indexing.html#returning-a-view-versus-a-copy\n",
            "\n"
          ]
        },
        {
          "data": {
            "application/vnd.plotly.v1+json": {
              "config": {
                "plotlyServerURL": "https://plot.ly"
              },
              "data": [
                {
                  "line": {
                    "color": "green"
                  },
                  "mode": "lines",
                  "name": "Capital",
                  "type": "scatter",
                  "xaxis": "x",
                  "y": [
                    100000,
                    92799.994140625,
                    92414.64208984375,
                    90371.34619140625,
                    90249.748046875,
                    89465.39599609375,
                    91222.89599609375,
                    78952.69970703125,
                    75830.69970703125,
                    77540.19970703125
                  ],
                  "yaxis": "y"
                },
                {
                  "line": {
                    "color": "blue"
                  },
                  "mode": "lines",
                  "name": "Close Price",
                  "type": "scatter",
                  "x": [
                    "2024-06-03T00:00:00.000000000",
                    "2024-06-04T00:00:00.000000000",
                    "2024-06-05T00:00:00.000000000",
                    "2024-06-06T00:00:00.000000000",
                    "2024-06-07T00:00:00.000000000",
                    "2024-06-10T00:00:00.000000000",
                    "2024-06-11T00:00:00.000000000",
                    "2024-06-12T00:00:00.000000000",
                    "2024-06-13T00:00:00.000000000",
                    "2024-06-14T00:00:00.000000000",
                    "2024-06-18T00:00:00.000000000",
                    "2024-06-19T00:00:00.000000000",
                    "2024-06-20T00:00:00.000000000",
                    "2024-06-21T00:00:00.000000000",
                    "2024-06-24T00:00:00.000000000",
                    "2024-06-25T00:00:00.000000000",
                    "2024-06-26T00:00:00.000000000",
                    "2024-06-27T00:00:00.000000000",
                    "2024-06-28T00:00:00.000000000",
                    "2024-07-01T00:00:00.000000000",
                    "2024-07-02T00:00:00.000000000",
                    "2024-07-03T00:00:00.000000000",
                    "2024-07-04T00:00:00.000000000",
                    "2024-07-05T00:00:00.000000000",
                    "2024-07-08T00:00:00.000000000",
                    "2024-07-09T00:00:00.000000000",
                    "2024-07-10T00:00:00.000000000",
                    "2024-07-11T00:00:00.000000000",
                    "2024-07-12T00:00:00.000000000",
                    "2024-07-15T00:00:00.000000000",
                    "2024-07-16T00:00:00.000000000",
                    "2024-07-18T00:00:00.000000000",
                    "2024-07-19T00:00:00.000000000",
                    "2024-07-22T00:00:00.000000000",
                    "2024-07-23T00:00:00.000000000",
                    "2024-07-24T00:00:00.000000000",
                    "2024-07-25T00:00:00.000000000",
                    "2024-07-26T00:00:00.000000000",
                    "2024-07-29T00:00:00.000000000",
                    "2024-07-30T00:00:00.000000000",
                    "2024-07-31T00:00:00.000000000",
                    "2024-08-01T00:00:00.000000000",
                    "2024-08-02T00:00:00.000000000",
                    "2024-08-05T00:00:00.000000000",
                    "2024-08-06T00:00:00.000000000",
                    "2024-08-07T00:00:00.000000000",
                    "2024-08-08T00:00:00.000000000",
                    "2024-08-09T00:00:00.000000000",
                    "2024-08-12T00:00:00.000000000",
                    "2024-08-13T00:00:00.000000000",
                    "2024-08-14T00:00:00.000000000",
                    "2024-08-16T00:00:00.000000000",
                    "2024-08-19T00:00:00.000000000",
                    "2024-08-20T00:00:00.000000000",
                    "2024-08-21T00:00:00.000000000",
                    "2024-08-22T00:00:00.000000000",
                    "2024-08-23T00:00:00.000000000",
                    "2024-08-26T00:00:00.000000000",
                    "2024-08-27T00:00:00.000000000",
                    "2024-08-28T00:00:00.000000000",
                    "2024-08-29T00:00:00.000000000",
                    "2024-08-30T00:00:00.000000000",
                    "2024-09-02T00:00:00.000000000",
                    "2024-09-03T00:00:00.000000000",
                    "2024-09-04T00:00:00.000000000",
                    "2024-09-05T00:00:00.000000000",
                    "2024-09-06T00:00:00.000000000",
                    "2024-09-09T00:00:00.000000000",
                    "2024-09-10T00:00:00.000000000",
                    "2024-09-11T00:00:00.000000000",
                    "2024-09-12T00:00:00.000000000",
                    "2024-09-13T00:00:00.000000000",
                    "2024-09-16T00:00:00.000000000",
                    "2024-09-17T00:00:00.000000000",
                    "2024-09-18T00:00:00.000000000",
                    "2024-09-19T00:00:00.000000000",
                    "2024-09-20T00:00:00.000000000",
                    "2024-09-23T00:00:00.000000000",
                    "2024-09-24T00:00:00.000000000",
                    "2024-09-25T00:00:00.000000000",
                    "2024-09-26T00:00:00.000000000",
                    "2024-09-27T00:00:00.000000000",
                    "2024-09-30T00:00:00.000000000",
                    "2024-10-01T00:00:00.000000000",
                    "2024-10-03T00:00:00.000000000",
                    "2024-10-04T00:00:00.000000000",
                    "2024-10-07T00:00:00.000000000",
                    "2024-10-08T00:00:00.000000000",
                    "2024-10-09T00:00:00.000000000",
                    "2024-10-10T00:00:00.000000000",
                    "2024-10-11T00:00:00.000000000",
                    "2024-10-14T00:00:00.000000000",
                    "2024-10-15T00:00:00.000000000",
                    "2024-10-16T00:00:00.000000000",
                    "2024-10-17T00:00:00.000000000",
                    "2024-10-18T00:00:00.000000000",
                    "2024-10-21T00:00:00.000000000",
                    "2024-10-22T00:00:00.000000000",
                    "2024-10-23T00:00:00.000000000",
                    "2024-10-24T00:00:00.000000000",
                    "2024-10-25T00:00:00.000000000",
                    "2024-10-28T00:00:00.000000000",
                    "2024-10-29T00:00:00.000000000",
                    "2024-10-30T00:00:00.000000000",
                    "2024-10-31T00:00:00.000000000",
                    "2024-11-01T00:00:00.000000000",
                    "2024-11-04T00:00:00.000000000",
                    "2024-11-05T00:00:00.000000000",
                    "2024-11-06T00:00:00.000000000",
                    "2024-11-07T00:00:00.000000000",
                    "2024-11-08T00:00:00.000000000",
                    "2024-11-11T00:00:00.000000000",
                    "2024-11-12T00:00:00.000000000",
                    "2024-11-13T00:00:00.000000000",
                    "2024-11-14T00:00:00.000000000",
                    "2024-11-18T00:00:00.000000000",
                    "2024-11-19T00:00:00.000000000",
                    "2024-11-21T00:00:00.000000000",
                    "2024-11-22T00:00:00.000000000",
                    "2024-11-25T00:00:00.000000000",
                    "2024-11-26T00:00:00.000000000",
                    "2024-11-27T00:00:00.000000000",
                    "2024-11-28T00:00:00.000000000",
                    "2024-11-29T00:00:00.000000000",
                    "2024-12-02T00:00:00.000000000",
                    "2024-12-03T00:00:00.000000000",
                    "2024-12-04T00:00:00.000000000",
                    "2024-12-05T00:00:00.000000000",
                    "2024-12-06T00:00:00.000000000",
                    "2024-12-09T00:00:00.000000000",
                    "2024-12-10T00:00:00.000000000",
                    "2024-12-11T00:00:00.000000000",
                    "2024-12-12T00:00:00.000000000",
                    "2024-12-13T00:00:00.000000000",
                    "2024-12-16T00:00:00.000000000",
                    "2024-12-17T00:00:00.000000000",
                    "2024-12-18T00:00:00.000000000",
                    "2024-12-19T00:00:00.000000000",
                    "2024-12-20T00:00:00.000000000",
                    "2024-12-23T00:00:00.000000000",
                    "2024-12-24T00:00:00.000000000",
                    "2024-12-26T00:00:00.000000000",
                    "2024-12-27T00:00:00.000000000",
                    "2024-12-30T00:00:00.000000000",
                    "2024-12-31T00:00:00.000000000",
                    "2025-01-01T00:00:00.000000000",
                    "2025-01-02T00:00:00.000000000",
                    "2025-01-03T00:00:00.000000000",
                    "2025-01-06T00:00:00.000000000",
                    "2025-01-07T00:00:00.000000000",
                    "2025-01-08T00:00:00.000000000",
                    "2025-01-09T00:00:00.000000000",
                    "2025-01-10T00:00:00.000000000",
                    "2025-01-13T00:00:00.000000000",
                    "2025-01-14T00:00:00.000000000",
                    "2025-01-15T00:00:00.000000000",
                    "2025-01-16T00:00:00.000000000",
                    "2025-01-17T00:00:00.000000000",
                    "2025-01-20T00:00:00.000000000",
                    "2025-01-21T00:00:00.000000000",
                    "2025-01-22T00:00:00.000000000",
                    "2025-01-23T00:00:00.000000000",
                    "2025-01-24T00:00:00.000000000",
                    "2025-01-27T00:00:00.000000000",
                    "2025-01-28T00:00:00.000000000",
                    "2025-01-29T00:00:00.000000000",
                    "2025-01-30T00:00:00.000000000",
                    "2025-01-31T00:00:00.000000000",
                    "2025-02-01T00:00:00.000000000",
                    "2025-02-03T00:00:00.000000000",
                    "2025-02-04T00:00:00.000000000",
                    "2025-02-05T00:00:00.000000000",
                    "2025-02-06T00:00:00.000000000",
                    "2025-02-07T00:00:00.000000000",
                    "2025-02-10T00:00:00.000000000",
                    "2025-02-11T00:00:00.000000000",
                    "2025-02-12T00:00:00.000000000",
                    "2025-02-13T00:00:00.000000000",
                    "2025-02-14T00:00:00.000000000",
                    "2025-02-17T00:00:00.000000000",
                    "2025-02-18T00:00:00.000000000",
                    "2025-02-19T00:00:00.000000000",
                    "2025-02-20T00:00:00.000000000",
                    "2025-02-21T00:00:00.000000000",
                    "2025-02-24T00:00:00.000000000",
                    "2025-02-25T00:00:00.000000000",
                    "2025-02-27T00:00:00.000000000",
                    "2025-02-28T00:00:00.000000000",
                    "2025-03-03T00:00:00.000000000",
                    "2025-03-04T00:00:00.000000000",
                    "2025-03-05T00:00:00.000000000",
                    "2025-03-06T00:00:00.000000000",
                    "2025-03-07T00:00:00.000000000",
                    "2025-03-10T00:00:00.000000000",
                    "2025-03-11T00:00:00.000000000",
                    "2025-03-12T00:00:00.000000000",
                    "2025-03-13T00:00:00.000000000",
                    "2025-03-17T00:00:00.000000000",
                    "2025-03-18T00:00:00.000000000",
                    "2025-03-19T00:00:00.000000000",
                    "2025-03-20T00:00:00.000000000",
                    "2025-03-21T00:00:00.000000000",
                    "2025-03-24T00:00:00.000000000",
                    "2025-03-25T00:00:00.000000000",
                    "2025-03-26T00:00:00.000000000",
                    "2025-03-27T00:00:00.000000000",
                    "2025-03-28T00:00:00.000000000",
                    "2025-04-01T00:00:00.000000000",
                    "2025-04-02T00:00:00.000000000",
                    "2025-04-03T00:00:00.000000000",
                    "2025-04-04T00:00:00.000000000",
                    "2025-04-07T00:00:00.000000000",
                    "2025-04-08T00:00:00.000000000",
                    "2025-04-09T00:00:00.000000000",
                    "2025-04-11T00:00:00.000000000",
                    "2025-04-15T00:00:00.000000000",
                    "2025-04-16T00:00:00.000000000",
                    "2025-04-17T00:00:00.000000000",
                    "2025-04-21T00:00:00.000000000",
                    "2025-04-22T00:00:00.000000000",
                    "2025-04-23T00:00:00.000000000",
                    "2025-04-24T00:00:00.000000000",
                    "2025-04-25T00:00:00.000000000",
                    "2025-04-28T00:00:00.000000000",
                    "2025-04-29T00:00:00.000000000",
                    "2025-04-30T00:00:00.000000000",
                    "2025-05-02T00:00:00.000000000",
                    "2025-05-05T00:00:00.000000000",
                    "2025-05-06T00:00:00.000000000",
                    "2025-05-07T00:00:00.000000000",
                    "2025-05-08T00:00:00.000000000",
                    "2025-05-09T00:00:00.000000000",
                    "2025-05-12T00:00:00.000000000",
                    "2025-05-13T00:00:00.000000000",
                    "2025-05-14T00:00:00.000000000",
                    "2025-05-15T00:00:00.000000000",
                    "2025-05-16T00:00:00.000000000",
                    "2025-05-19T00:00:00.000000000",
                    "2025-05-20T00:00:00.000000000",
                    "2025-05-21T00:00:00.000000000",
                    "2025-05-22T00:00:00.000000000",
                    "2025-05-23T00:00:00.000000000",
                    "2025-05-26T00:00:00.000000000",
                    "2025-05-27T00:00:00.000000000",
                    "2025-05-28T00:00:00.000000000",
                    "2025-05-29T00:00:00.000000000",
                    "2025-05-30T00:00:00.000000000"
                  ],
                  "xaxis": "x2",
                  "y": {
                    "bdata": "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",
                    "dtype": "f8"
                  },
                  "yaxis": "y2"
                },
                {
                  "marker": {
                    "color": "green",
                    "size": 10,
                    "symbol": "triangle-up"
                  },
                  "mode": "markers",
                  "name": "Entry",
                  "type": "scatter",
                  "x": [
                    "2024-06-04T00:00:00",
                    "2024-06-14T00:00:00",
                    "2024-07-15T00:00:00",
                    "2024-08-23T00:00:00",
                    "2024-11-26T00:00:00",
                    "2025-02-01T00:00:00",
                    "2025-03-04T00:00:00",
                    "2025-04-17T00:00:00",
                    "2025-05-21T00:00:00"
                  ],
                  "xaxis": "x2",
                  "y": [
                    4073.199951171875,
                    4270.39990234375,
                    4385.85009765625,
                    4710.4501953125,
                    4229.60009765625,
                    4492.39990234375,
                    4598.7001953125,
                    5366,
                    5461.5
                  ],
                  "yaxis": "y2"
                },
                {
                  "marker": {
                    "color": "red",
                    "size": 10,
                    "symbol": "triangle-down"
                  },
                  "mode": "markers",
                  "name": "Exit",
                  "type": "scatter",
                  "x": [
                    "2024-06-07T00:00:00",
                    "2024-07-04T00:00:00",
                    "2024-08-22T00:00:00",
                    "2024-10-03T00:00:00",
                    "2025-01-06T00:00:00",
                    "2025-02-19T00:00:00",
                    "2025-04-16T00:00:00",
                    "2025-05-15T00:00:00",
                    "2025-05-30T00:00:00"
                  ],
                  "xaxis": "x2",
                  "y": [
                    4373.2001953125,
                    4288.75,
                    4483.14990234375,
                    4716.85009765625,
                    4266.9501953125,
                    4399.89990234375,
                    5244.5,
                    5589,
                    5330
                  ],
                  "yaxis": "y2"
                }
              ],
              "layout": {
                "annotations": [
                  {
                    "font": {
                      "size": 16
                    },
                    "showarrow": false,
                    "text": "Equity Curve",
                    "x": 0.5,
                    "xanchor": "center",
                    "xref": "paper",
                    "y": 1,
                    "yanchor": "bottom",
                    "yref": "paper"
                  },
                  {
                    "font": {
                      "size": 16
                    },
                    "showarrow": false,
                    "text": "Price Action with Entry and Exit Points",
                    "x": 0.5,
                    "xanchor": "center",
                    "xref": "paper",
                    "y": 0.45,
                    "yanchor": "bottom",
                    "yref": "paper"
                  }
                ],
                "height": 800,
                "showlegend": true,
                "template": {
                  "data": {
                    "bar": [
                      {
                        "error_x": {
                          "color": "#2a3f5f"
                        },
                        "error_y": {
                          "color": "#2a3f5f"
                        },
                        "marker": {
                          "line": {
                            "color": "white",
                            "width": 0.5
                          },
                          "pattern": {
                            "fillmode": "overlay",
                            "size": 10,
                            "solidity": 0.2
                          }
                        },
                        "type": "bar"
                      }
                    ],
                    "barpolar": [
                      {
                        "marker": {
                          "line": {
                            "color": "white",
                            "width": 0.5
                          },
                          "pattern": {
                            "fillmode": "overlay",
                            "size": 10,
                            "solidity": 0.2
                          }
                        },
                        "type": "barpolar"
                      }
                    ],
                    "carpet": [
                      {
                        "aaxis": {
                          "endlinecolor": "#2a3f5f",
                          "gridcolor": "#C8D4E3",
                          "linecolor": "#C8D4E3",
                          "minorgridcolor": "#C8D4E3",
                          "startlinecolor": "#2a3f5f"
                        },
                        "baxis": {
                          "endlinecolor": "#2a3f5f",
                          "gridcolor": "#C8D4E3",
                          "linecolor": "#C8D4E3",
                          "minorgridcolor": "#C8D4E3",
                          "startlinecolor": "#2a3f5f"
                        },
                        "type": "carpet"
                      }
                    ],
                    "choropleth": [
                      {
                        "colorbar": {
                          "outlinewidth": 0,
                          "ticks": ""
                        },
                        "type": "choropleth"
                      }
                    ],
                    "contour": [
                      {
                        "colorbar": {
                          "outlinewidth": 0,
                          "ticks": ""
                        },
                        "colorscale": [
                          [
                            0,
                            "#0d0887"
                          ],
                          [
                            0.1111111111111111,
                            "#46039f"
                          ],
                          [
                            0.2222222222222222,
                            "#7201a8"
                          ],
                          [
                            0.3333333333333333,
                            "#9c179e"
                          ],
                          [
                            0.4444444444444444,
                            "#bd3786"
                          ],
                          [
                            0.5555555555555556,
                            "#d8576b"
                          ],
                          [
                            0.6666666666666666,
                            "#ed7953"
                          ],
                          [
                            0.7777777777777778,
                            "#fb9f3a"
                          ],
                          [
                            0.8888888888888888,
                            "#fdca26"
                          ],
                          [
                            1,
                            "#f0f921"
                          ]
                        ],
                        "type": "contour"
                      }
                    ],
                    "contourcarpet": [
                      {
                        "colorbar": {
                          "outlinewidth": 0,
                          "ticks": ""
                        },
                        "type": "contourcarpet"
                      }
                    ],
                    "heatmap": [
                      {
                        "colorbar": {
                          "outlinewidth": 0,
                          "ticks": ""
                        },
                        "colorscale": [
                          [
                            0,
                            "#0d0887"
                          ],
                          [
                            0.1111111111111111,
                            "#46039f"
                          ],
                          [
                            0.2222222222222222,
                            "#7201a8"
                          ],
                          [
                            0.3333333333333333,
                            "#9c179e"
                          ],
                          [
                            0.4444444444444444,
                            "#bd3786"
                          ],
                          [
                            0.5555555555555556,
                            "#d8576b"
                          ],
                          [
                            0.6666666666666666,
                            "#ed7953"
                          ],
                          [
                            0.7777777777777778,
                            "#fb9f3a"
                          ],
                          [
                            0.8888888888888888,
                            "#fdca26"
                          ],
                          [
                            1,
                            "#f0f921"
                          ]
                        ],
                        "type": "heatmap"
                      }
                    ],
                    "histogram": [
                      {
                        "marker": {
                          "pattern": {
                            "fillmode": "overlay",
                            "size": 10,
                            "solidity": 0.2
                          }
                        },
                        "type": "histogram"
                      }
                    ],
                    "histogram2d": [
                      {
                        "colorbar": {
                          "outlinewidth": 0,
                          "ticks": ""
                        },
                        "colorscale": [
                          [
                            0,
                            "#0d0887"
                          ],
                          [
                            0.1111111111111111,
                            "#46039f"
                          ],
                          [
                            0.2222222222222222,
                            "#7201a8"
                          ],
                          [
                            0.3333333333333333,
                            "#9c179e"
                          ],
                          [
                            0.4444444444444444,
                            "#bd3786"
                          ],
                          [
                            0.5555555555555556,
                            "#d8576b"
                          ],
                          [
                            0.6666666666666666,
                            "#ed7953"
                          ],
                          [
                            0.7777777777777778,
                            "#fb9f3a"
                          ],
                          [
                            0.8888888888888888,
                            "#fdca26"
                          ],
                          [
                            1,
                            "#f0f921"
                          ]
                        ],
                        "type": "histogram2d"
                      }
                    ],
                    "histogram2dcontour": [
                      {
                        "colorbar": {
                          "outlinewidth": 0,
                          "ticks": ""
                        },
                        "colorscale": [
                          [
                            0,
                            "#0d0887"
                          ],
                          [
                            0.1111111111111111,
                            "#46039f"
                          ],
                          [
                            0.2222222222222222,
                            "#7201a8"
                          ],
                          [
                            0.3333333333333333,
                            "#9c179e"
                          ],
                          [
                            0.4444444444444444,
                            "#bd3786"
                          ],
                          [
                            0.5555555555555556,
                            "#d8576b"
                          ],
                          [
                            0.6666666666666666,
                            "#ed7953"
                          ],
                          [
                            0.7777777777777778,
                            "#fb9f3a"
                          ],
                          [
                            0.8888888888888888,
                            "#fdca26"
                          ],
                          [
                            1,
                            "#f0f921"
                          ]
                        ],
                        "type": "histogram2dcontour"
                      }
                    ],
                    "mesh3d": [
                      {
                        "colorbar": {
                          "outlinewidth": 0,
                          "ticks": ""
                        },
                        "type": "mesh3d"
                      }
                    ],
                    "parcoords": [
                      {
                        "line": {
                          "colorbar": {
                            "outlinewidth": 0,
                            "ticks": ""
                          }
                        },
                        "type": "parcoords"
                      }
                    ],
                    "pie": [
                      {
                        "automargin": true,
                        "type": "pie"
                      }
                    ],
                    "scatter": [
                      {
                        "fillpattern": {
                          "fillmode": "overlay",
                          "size": 10,
                          "solidity": 0.2
                        },
                        "type": "scatter"
                      }
                    ],
                    "scatter3d": [
                      {
                        "line": {
                          "colorbar": {
                            "outlinewidth": 0,
                            "ticks": ""
                          }
                        },
                        "marker": {
                          "colorbar": {
                            "outlinewidth": 0,
                            "ticks": ""
                          }
                        },
                        "type": "scatter3d"
                      }
                    ],
                    "scattercarpet": [
                      {
                        "marker": {
                          "colorbar": {
                            "outlinewidth": 0,
                            "ticks": ""
                          }
                        },
                        "type": "scattercarpet"
                      }
                    ],
                    "scattergeo": [
                      {
                        "marker": {
                          "colorbar": {
                            "outlinewidth": 0,
                            "ticks": ""
                          }
                        },
                        "type": "scattergeo"
                      }
                    ],
                    "scattergl": [
                      {
                        "marker": {
                          "colorbar": {
                            "outlinewidth": 0,
                            "ticks": ""
                          }
                        },
                        "type": "scattergl"
                      }
                    ],
                    "scattermap": [
                      {
                        "marker": {
                          "colorbar": {
                            "outlinewidth": 0,
                            "ticks": ""
                          }
                        },
                        "type": "scattermap"
                      }
                    ],
                    "scattermapbox": [
                      {
                        "marker": {
                          "colorbar": {
                            "outlinewidth": 0,
                            "ticks": ""
                          }
                        },
                        "type": "scattermapbox"
                      }
                    ],
                    "scatterpolar": [
                      {
                        "marker": {
                          "colorbar": {
                            "outlinewidth": 0,
                            "ticks": ""
                          }
                        },
                        "type": "scatterpolar"
                      }
                    ],
                    "scatterpolargl": [
                      {
                        "marker": {
                          "colorbar": {
                            "outlinewidth": 0,
                            "ticks": ""
                          }
                        },
                        "type": "scatterpolargl"
                      }
                    ],
                    "scatterternary": [
                      {
                        "marker": {
                          "colorbar": {
                            "outlinewidth": 0,
                            "ticks": ""
                          }
                        },
                        "type": "scatterternary"
                      }
                    ],
                    "surface": [
                      {
                        "colorbar": {
                          "outlinewidth": 0,
                          "ticks": ""
                        },
                        "colorscale": [
                          [
                            0,
                            "#0d0887"
                          ],
                          [
                            0.1111111111111111,
                            "#46039f"
                          ],
                          [
                            0.2222222222222222,
                            "#7201a8"
                          ],
                          [
                            0.3333333333333333,
                            "#9c179e"
                          ],
                          [
                            0.4444444444444444,
                            "#bd3786"
                          ],
                          [
                            0.5555555555555556,
                            "#d8576b"
                          ],
                          [
                            0.6666666666666666,
                            "#ed7953"
                          ],
                          [
                            0.7777777777777778,
                            "#fb9f3a"
                          ],
                          [
                            0.8888888888888888,
                            "#fdca26"
                          ],
                          [
                            1,
                            "#f0f921"
                          ]
                        ],
                        "type": "surface"
                      }
                    ],
                    "table": [
                      {
                        "cells": {
                          "fill": {
                            "color": "#EBF0F8"
                          },
                          "line": {
                            "color": "white"
                          }
                        },
                        "header": {
                          "fill": {
                            "color": "#C8D4E3"
                          },
                          "line": {
                            "color": "white"
                          }
                        },
                        "type": "table"
                      }
                    ]
                  },
                  "layout": {
                    "annotationdefaults": {
                      "arrowcolor": "#2a3f5f",
                      "arrowhead": 0,
                      "arrowwidth": 1
                    },
                    "autotypenumbers": "strict",
                    "coloraxis": {
                      "colorbar": {
                        "outlinewidth": 0,
                        "ticks": ""
                      }
                    },
                    "colorscale": {
                      "diverging": [
                        [
                          0,
                          "#8e0152"
                        ],
                        [
                          0.1,
                          "#c51b7d"
                        ],
                        [
                          0.2,
                          "#de77ae"
                        ],
                        [
                          0.3,
                          "#f1b6da"
                        ],
                        [
                          0.4,
                          "#fde0ef"
                        ],
                        [
                          0.5,
                          "#f7f7f7"
                        ],
                        [
                          0.6,
                          "#e6f5d0"
                        ],
                        [
                          0.7,
                          "#b8e186"
                        ],
                        [
                          0.8,
                          "#7fbc41"
                        ],
                        [
                          0.9,
                          "#4d9221"
                        ],
                        [
                          1,
                          "#276419"
                        ]
                      ],
                      "sequential": [
                        [
                          0,
                          "#0d0887"
                        ],
                        [
                          0.1111111111111111,
                          "#46039f"
                        ],
                        [
                          0.2222222222222222,
                          "#7201a8"
                        ],
                        [
                          0.3333333333333333,
                          "#9c179e"
                        ],
                        [
                          0.4444444444444444,
                          "#bd3786"
                        ],
                        [
                          0.5555555555555556,
                          "#d8576b"
                        ],
                        [
                          0.6666666666666666,
                          "#ed7953"
                        ],
                        [
                          0.7777777777777778,
                          "#fb9f3a"
                        ],
                        [
                          0.8888888888888888,
                          "#fdca26"
                        ],
                        [
                          1,
                          "#f0f921"
                        ]
                      ],
                      "sequentialminus": [
                        [
                          0,
                          "#0d0887"
                        ],
                        [
                          0.1111111111111111,
                          "#46039f"
                        ],
                        [
                          0.2222222222222222,
                          "#7201a8"
                        ],
                        [
                          0.3333333333333333,
                          "#9c179e"
                        ],
                        [
                          0.4444444444444444,
                          "#bd3786"
                        ],
                        [
                          0.5555555555555556,
                          "#d8576b"
                        ],
                        [
                          0.6666666666666666,
                          "#ed7953"
                        ],
                        [
                          0.7777777777777778,
                          "#fb9f3a"
                        ],
                        [
                          0.8888888888888888,
                          "#fdca26"
                        ],
                        [
                          1,
                          "#f0f921"
                        ]
                      ]
                    },
                    "colorway": [
                      "#636efa",
                      "#EF553B",
                      "#00cc96",
                      "#ab63fa",
                      "#FFA15A",
                      "#19d3f3",
                      "#FF6692",
                      "#B6E880",
                      "#FF97FF",
                      "#FECB52"
                    ],
                    "font": {
                      "color": "#2a3f5f"
                    },
                    "geo": {
                      "bgcolor": "white",
                      "lakecolor": "white",
                      "landcolor": "white",
                      "showlakes": true,
                      "showland": true,
                      "subunitcolor": "#C8D4E3"
                    },
                    "hoverlabel": {
                      "align": "left"
                    },
                    "hovermode": "closest",
                    "mapbox": {
                      "style": "light"
                    },
                    "paper_bgcolor": "white",
                    "plot_bgcolor": "white",
                    "polar": {
                      "angularaxis": {
                        "gridcolor": "#EBF0F8",
                        "linecolor": "#EBF0F8",
                        "ticks": ""
                      },
                      "bgcolor": "white",
                      "radialaxis": {
                        "gridcolor": "#EBF0F8",
                        "linecolor": "#EBF0F8",
                        "ticks": ""
                      }
                    },
                    "scene": {
                      "xaxis": {
                        "backgroundcolor": "white",
                        "gridcolor": "#DFE8F3",
                        "gridwidth": 2,
                        "linecolor": "#EBF0F8",
                        "showbackground": true,
                        "ticks": "",
                        "zerolinecolor": "#EBF0F8"
                      },
                      "yaxis": {
                        "backgroundcolor": "white",
                        "gridcolor": "#DFE8F3",
                        "gridwidth": 2,
                        "linecolor": "#EBF0F8",
                        "showbackground": true,
                        "ticks": "",
                        "zerolinecolor": "#EBF0F8"
                      },
                      "zaxis": {
                        "backgroundcolor": "white",
                        "gridcolor": "#DFE8F3",
                        "gridwidth": 2,
                        "linecolor": "#EBF0F8",
                        "showbackground": true,
                        "ticks": "",
                        "zerolinecolor": "#EBF0F8"
                      }
                    },
                    "shapedefaults": {
                      "line": {
                        "color": "#2a3f5f"
                      }
                    },
                    "ternary": {
                      "aaxis": {
                        "gridcolor": "#DFE8F3",
                        "linecolor": "#A2B1C6",
                        "ticks": ""
                      },
                      "baxis": {
                        "gridcolor": "#DFE8F3",
                        "linecolor": "#A2B1C6",
                        "ticks": ""
                      },
                      "bgcolor": "white",
                      "caxis": {
                        "gridcolor": "#DFE8F3",
                        "linecolor": "#A2B1C6",
                        "ticks": ""
                      }
                    },
                    "title": {
                      "x": 0.05
                    },
                    "xaxis": {
                      "automargin": true,
                      "gridcolor": "#EBF0F8",
                      "linecolor": "#EBF0F8",
                      "ticks": "",
                      "title": {
                        "standoff": 15
                      },
                      "zerolinecolor": "#EBF0F8",
                      "zerolinewidth": 2
                    },
                    "yaxis": {
                      "automargin": true,
                      "gridcolor": "#EBF0F8",
                      "linecolor": "#EBF0F8",
                      "ticks": "",
                      "title": {
                        "standoff": 15
                      },
                      "zerolinecolor": "#EBF0F8",
                      "zerolinewidth": 2
                    }
                  }
                },
                "title": {
                  "text": "Backtest Visualizations"
                },
                "xaxis": {
                  "anchor": "y",
                  "domain": [
                    0,
                    1
                  ],
                  "matches": "x2",
                  "showticklabels": false
                },
                "xaxis2": {
                  "anchor": "y2",
                  "domain": [
                    0,
                    1
                  ],
                  "title": {
                    "text": "Time"
                  }
                },
                "yaxis": {
                  "anchor": "x",
                  "domain": [
                    0.55,
                    1
                  ],
                  "title": {
                    "text": "Capital"
                  }
                },
                "yaxis2": {
                  "anchor": "x2",
                  "domain": [
                    0,
                    0.45
                  ],
                  "title": {
                    "text": "Price"
                  }
                }
              }
            }
          },
          "metadata": {},
          "output_type": "display_data"
        },
        {
          "data": {
            "text/html": [
              "<div>\n",
              "<style scoped>\n",
              "    .dataframe tbody tr th:only-of-type {\n",
              "        vertical-align: middle;\n",
              "    }\n",
              "\n",
              "    .dataframe tbody tr th {\n",
              "        vertical-align: top;\n",
              "    }\n",
              "\n",
              "    .dataframe thead th {\n",
              "        text-align: right;\n",
              "    }\n",
              "</style>\n",
              "<table border=\"1\" class=\"dataframe\">\n",
              "  <thead>\n",
              "    <tr style=\"text-align: right;\">\n",
              "      <th></th>\n",
              "      <th>Entry Candle</th>\n",
              "      <th>Exit Candle</th>\n",
              "      <th>PnL</th>\n",
              "      <th>Number of units</th>\n",
              "      <th>Trade type</th>\n",
              "    </tr>\n",
              "  </thead>\n",
              "  <tbody>\n",
              "    <tr>\n",
              "      <th>0</th>\n",
              "      <td>2024-06-04</td>\n",
              "      <td>2024-06-07</td>\n",
              "      <td>-7200.005859</td>\n",
              "      <td>24.0</td>\n",
              "      <td>Short</td>\n",
              "    </tr>\n",
              "    <tr>\n",
              "      <th>1</th>\n",
              "      <td>2024-06-14</td>\n",
              "      <td>2024-07-04</td>\n",
              "      <td>-385.352051</td>\n",
              "      <td>21.0</td>\n",
              "      <td>Short</td>\n",
              "    </tr>\n",
              "    <tr>\n",
              "      <th>2</th>\n",
              "      <td>2024-07-15</td>\n",
              "      <td>2024-08-22</td>\n",
              "      <td>-2043.295898</td>\n",
              "      <td>21.0</td>\n",
              "      <td>Short</td>\n",
              "    </tr>\n",
              "    <tr>\n",
              "      <th>3</th>\n",
              "      <td>2024-08-23</td>\n",
              "      <td>2024-10-03</td>\n",
              "      <td>-121.598145</td>\n",
              "      <td>19.0</td>\n",
              "      <td>Short</td>\n",
              "    </tr>\n",
              "    <tr>\n",
              "      <th>4</th>\n",
              "      <td>2024-11-26</td>\n",
              "      <td>2025-01-06</td>\n",
              "      <td>-784.352051</td>\n",
              "      <td>21.0</td>\n",
              "      <td>Short</td>\n",
              "    </tr>\n",
              "    <tr>\n",
              "      <th>5</th>\n",
              "      <td>2025-02-01</td>\n",
              "      <td>2025-02-19</td>\n",
              "      <td>1757.500000</td>\n",
              "      <td>19.0</td>\n",
              "      <td>Short</td>\n",
              "    </tr>\n",
              "    <tr>\n",
              "      <th>6</th>\n",
              "      <td>2025-03-04</td>\n",
              "      <td>2025-04-16</td>\n",
              "      <td>-12270.196289</td>\n",
              "      <td>19.0</td>\n",
              "      <td>Short</td>\n",
              "    </tr>\n",
              "    <tr>\n",
              "      <th>7</th>\n",
              "      <td>2025-04-17</td>\n",
              "      <td>2025-05-15</td>\n",
              "      <td>-3122.000000</td>\n",
              "      <td>14.0</td>\n",
              "      <td>Short</td>\n",
              "    </tr>\n",
              "    <tr>\n",
              "      <th>8</th>\n",
              "      <td>2025-05-21</td>\n",
              "      <td>2025-05-30</td>\n",
              "      <td>1709.500000</td>\n",
              "      <td>13.0</td>\n",
              "      <td>Short</td>\n",
              "    </tr>\n",
              "  </tbody>\n",
              "</table>\n",
              "</div>"
            ],
            "text/plain": [
              "  Entry Candle Exit Candle           PnL  Number of units Trade type\n",
              "0   2024-06-04  2024-06-07  -7200.005859             24.0      Short\n",
              "1   2024-06-14  2024-07-04   -385.352051             21.0      Short\n",
              "2   2024-07-15  2024-08-22  -2043.295898             21.0      Short\n",
              "3   2024-08-23  2024-10-03   -121.598145             19.0      Short\n",
              "4   2024-11-26  2025-01-06   -784.352051             21.0      Short\n",
              "5   2025-02-01  2025-02-19   1757.500000             19.0      Short\n",
              "6   2025-03-04  2025-04-16 -12270.196289             19.0      Short\n",
              "7   2025-04-17  2025-05-15  -3122.000000             14.0      Short\n",
              "8   2025-05-21  2025-05-30   1709.500000             13.0      Short"
            ]
          },
          "execution_count": 24,
          "metadata": {},
          "output_type": "execute_result"
        }
      ],
      "source": [
        "dataframe = data[['datetime', 'open','high','low','close','volume','signals']]\n",
        "dataframe.rename(columns={'datetime':'timestamp'},inplace=True)\n",
        "data = remove_redundant_signals(dataframe)\n",
        "perform_backtest(dataframe)"
      ]
    },
    {
      "cell_type": "markdown",
      "metadata": {
        "id": "yNx0N6HiJEO1"
      },
      "source": [
        "### Strategy-X"
      ]
    },
    {
      "cell_type": "code",
      "execution_count": 25,
      "metadata": {
        "id": "qO2N0gJTICY8"
      },
      "outputs": [],
      "source": [
        "# ---- Supertrend calculation ----\n",
        "import numpy as np\n",
        "import pandas as pd\n",
        "import ta\n",
        "\n",
        "def calculate_supertrend(df, period, multiplier):\n",
        "    atr = ta.volatility.average_true_range(df['high'], df['low'], df['close'], window=period)\n",
        "    hl2 = (df['high'] + df['low']) / 2\n",
        "    upperband = hl2 + (multiplier * atr)\n",
        "    lowerband = hl2 - (multiplier * atr)\n",
        "\n",
        "    supertrend = [True] * len(df)\n",
        "    final_upperband = upperband.copy()\n",
        "    final_lowerband = lowerband.copy()\n",
        "\n",
        "    for i in range(1, len(df)):\n",
        "        if df['close'][i] > final_upperband[i-1]:\n",
        "            supertrend[i] = True\n",
        "        elif df['close'][i] < final_lowerband[i-1]:\n",
        "            supertrend[i] = False\n",
        "        else:\n",
        "            supertrend[i] = supertrend[i-1]\n",
        "            if supertrend[i] and final_lowerband[i] < final_lowerband[i-1]:\n",
        "                final_lowerband[i] = final_lowerband[i-1]\n",
        "            if not supertrend[i] and final_upperband[i] > final_upperband[i-1]:\n",
        "                final_upperband[i] = final_upperband[i-1]\n",
        "\n",
        "    df['Supertrend'] = supertrend\n",
        "    df['Supertrend_Line'] = np.where(df['Supertrend'], final_lowerband, final_upperband)\n",
        "    return df\n",
        "\n",
        "def remove_redundant_signals(data):\n",
        "    prev_signal = 0\n",
        "    prev_i = -1\n",
        "\n",
        "    for index in data.index:\n",
        "        if prev_signal == 0 and data.loc[index, 'signals'] != 0:\n",
        "            prev_signal = data.loc[index, 'signals']\n",
        "            prev_i = index\n",
        "        elif prev_signal != 0 and data.loc[index, 'signals'] != 0:\n",
        "            if data.loc[index, 'signals'] == prev_signal:\n",
        "                data.loc[index, 'signals'] = 0\n",
        "            else:\n",
        "                prev_signal = 0\n",
        "                prev_i = -1\n",
        "    return data"
      ]
    },
    {
      "cell_type": "code",
      "execution_count": 26,
      "metadata": {
        "id": "WjNEggoCKq9x"
      },
      "outputs": [],
      "source": [
        "# ---- MFI calculation ----\n",
        "def calculate_mfi(df, window):\n",
        "    mfi = ta.volume.money_flow_index(df['high'], df['low'], df['close'], df['volume'], window=window)\n",
        "    df['MFI'] = mfi\n",
        "    return df\n"
      ]
    },
    {
      "cell_type": "code",
      "execution_count": 43,
      "metadata": {
        "id": "lk4_liN3KvA1"
      },
      "outputs": [],
      "source": [
        "def strategy(data):\n",
        "    # Ensuring timestamp is datetime index\n",
        "    if 'timestamp' in data.columns:\n",
        "        data['timestamp'] = pd.to_datetime(data['timestamp'])\n",
        "        data.set_index('timestamp', inplace=True)\n",
        "    elif not isinstance(data.index, pd.DatetimeIndex):\n",
        "        print(\"Warning: No datetime found. You may need to check your data.\")\n",
        "\n",
        "    data['signals'] = 0\n",
        "\n",
        "    # Long Condition (Strategy X):\n",
        "    # Supertrend is green, close > supertrend, MFI rising from below 40, MFI < 80\n",
        "    data['MFI_Rising'] = data['MFI'] > data['MFI'].shift(1)\n",
        "    data.loc[\n",
        "        (data['Supertrend'] == True) & # Corrected condition\n",
        "        (data['close'] > data['Supertrend_Line']) &\n",
        "        (data['MFI_Rising']) &\n",
        "        (data['MFI'] > 30) & (data['MFI'] < 80),\n",
        "        'signals'\n",
        "    ] = 1\n",
        "\n",
        "    # Long Exit:\n",
        "    # Supertrend turns red OR price < supertrend line OR MFI falling from above 70 OR MFI flattening near 50\n",
        "    data['MFI_Falling'] = data['MFI'] < data['MFI'].shift(1)\n",
        "    data.loc[\n",
        "        (data['signals'].shift() == 1) &\n",
        "        (\n",
        "            (data['Supertrend'] == False) | # Corrected condition\n",
        "            (data['close'] < data['Supertrend_Line']) |\n",
        "            ((data['MFI'] > 60) & (data['MFI_Falling'])) |\n",
        "            (data['MFI'].between(45, 55))\n",
        "        ),\n",
        "        'signals'\n",
        "    ] = -1\n",
        "\n",
        "    # Short Condition:\n",
        "    # Supertrend is red, close < supertrend, MFI falling from above 60, MFI > 20\n",
        "    data.loc[\n",
        "        (data['Supertrend'] == False) & # Corrected condition\n",
        "        (data['close'] < data['Supertrend_Line']) &\n",
        "        (data['MFI_Falling']) &\n",
        "        (data['MFI'] > 20) & (data['MFI'] < 80),\n",
        "        'signals'\n",
        "    ] = -1\n",
        "\n",
        "    # Short Exit:\n",
        "    # Supertrend turns green OR price > supertrend line OR MFI rising from below 30 OR MFI near 50\n",
        "    data.loc[\n",
        "        (data['signals'].shift() == -1) &\n",
        "        (\n",
        "            (data['Supertrend'] == True) | # Corrected condition\n",
        "            (data['close'] > data['Supertrend_Line']) |\n",
        "            ((data['MFI'] < 40) & (data['MFI_Rising'])) |\n",
        "            (data['MFI'].between(45, 55))\n",
        "        ),\n",
        "        'signals'\n",
        "    ] = 1\n",
        "\n",
        "    remove_redundant_signals(data)\n",
        "    non_zero_signals = (data['signals'] != 0).sum()\n",
        "    print(\"Number of non-zero signals:\", non_zero_signals, \"\\n\")\n",
        "    return data"
      ]
    },
    {
      "cell_type": "code",
      "execution_count": 42,
      "metadata": {
        "colab": {
          "base_uri": "https://localhost:8080/",
          "height": 1000
        },
        "id": "PhYiaEkqK1gj",
        "outputId": "b988af41-27a7-4a7e-e6df-6ff3d4f8e9d9"
      },
      "outputs": [
        {
          "name": "stdout",
          "output_type": "stream",
          "text": [
            "Number of non-zero signals: 61 \n",
            "\n",
            "BACKTEST RESULTS:\n",
            "Backtest Period: 0 years and 12 months\n",
            "Benchmark Returns: 24.01 %\n",
            "Initial Capital: 100000\n",
            "Final Capital: 131642.21\n",
            "Profit percentage: 31.64 %\n",
            "Leverage applied: 1\n",
            "Maximum Portfolio balance: 134330.21\n",
            "Minimum Portfolio balance: 98901.90\n",
            "Number of trades: 31\n",
            "Winning Trades: 16\n",
            "Losing Trades: 15\n",
            "Win Rate: 51.61 %\n",
            "Average Profit: 3779.07\n",
            "Average Loss: -1921.53\n",
            "No of Long Trades: 23\n",
            "No of Short Trades: 8\n",
            "Average drawdown: -2.61 %\n",
            "Maximum drawdown: -10.97 %\n",
            "Sharpe Ratio: 3.98\n",
            "Sortino Ratio: 7.08\n",
            "Maximum Holding Time: 29 days, 00:00:00\n",
            "Average Holding Time: 8 days, 18:34:50\n"
          ]
        },
        {
          "data": {
            "application/vnd.plotly.v1+json": {
              "config": {
                "plotlyServerURL": "https://plot.ly"
              },
              "data": [
                {
                  "line": {
                    "color": "green"
                  },
                  "mode": "lines",
                  "name": "Capital",
                  "type": "scatter",
                  "xaxis": "x",
                  "y": [
                    100000,
                    99381.30224609375,
                    99326.30224609375,
                    99023.80224609375,
                    98901.8955078125,
                    111148.25,
                    110766.44775390625,
                    112113.09326171875,
                    113038.19970703125,
                    108941.8974609375,
                    106115.8974609375,
                    104410.8974609375,
                    106805.599609375,
                    106906.79736328125,
                    114023.99853515625,
                    114653.29711914062,
                    113984.09301757812,
                    125868.69555664062,
                    115078.69555664062,
                    114529.24291992188,
                    112061.75024414062,
                    113302.99780273438,
                    117589.25268554688,
                    123571.84252929688,
                    125477.65014648438,
                    125477.65014648438,
                    126663.90502929688,
                    125112.30737304688,
                    128606.70971679688,
                    133034.20971679688,
                    134330.20971679688,
                    131642.20971679688
                  ],
                  "yaxis": "y"
                },
                {
                  "line": {
                    "color": "blue"
                  },
                  "mode": "lines",
                  "name": "Close Price",
                  "type": "scatter",
                  "x": [
                    "2024-06-03T00:00:00.000000000",
                    "2024-06-04T00:00:00.000000000",
                    "2024-06-05T00:00:00.000000000",
                    "2024-06-06T00:00:00.000000000",
                    "2024-06-07T00:00:00.000000000",
                    "2024-06-10T00:00:00.000000000",
                    "2024-06-11T00:00:00.000000000",
                    "2024-06-12T00:00:00.000000000",
                    "2024-06-13T00:00:00.000000000",
                    "2024-06-14T00:00:00.000000000",
                    "2024-06-18T00:00:00.000000000",
                    "2024-06-19T00:00:00.000000000",
                    "2024-06-20T00:00:00.000000000",
                    "2024-06-21T00:00:00.000000000",
                    "2024-06-24T00:00:00.000000000",
                    "2024-06-25T00:00:00.000000000",
                    "2024-06-26T00:00:00.000000000",
                    "2024-06-27T00:00:00.000000000",
                    "2024-06-28T00:00:00.000000000",
                    "2024-07-01T00:00:00.000000000",
                    "2024-07-02T00:00:00.000000000",
                    "2024-07-03T00:00:00.000000000",
                    "2024-07-04T00:00:00.000000000",
                    "2024-07-05T00:00:00.000000000",
                    "2024-07-08T00:00:00.000000000",
                    "2024-07-09T00:00:00.000000000",
                    "2024-07-10T00:00:00.000000000",
                    "2024-07-11T00:00:00.000000000",
                    "2024-07-12T00:00:00.000000000",
                    "2024-07-15T00:00:00.000000000",
                    "2024-07-16T00:00:00.000000000",
                    "2024-07-18T00:00:00.000000000",
                    "2024-07-19T00:00:00.000000000",
                    "2024-07-22T00:00:00.000000000",
                    "2024-07-23T00:00:00.000000000",
                    "2024-07-24T00:00:00.000000000",
                    "2024-07-25T00:00:00.000000000",
                    "2024-07-26T00:00:00.000000000",
                    "2024-07-29T00:00:00.000000000",
                    "2024-07-30T00:00:00.000000000",
                    "2024-07-31T00:00:00.000000000",
                    "2024-08-01T00:00:00.000000000",
                    "2024-08-02T00:00:00.000000000",
                    "2024-08-05T00:00:00.000000000",
                    "2024-08-06T00:00:00.000000000",
                    "2024-08-07T00:00:00.000000000",
                    "2024-08-08T00:00:00.000000000",
                    "2024-08-09T00:00:00.000000000",
                    "2024-08-12T00:00:00.000000000",
                    "2024-08-13T00:00:00.000000000",
                    "2024-08-14T00:00:00.000000000",
                    "2024-08-16T00:00:00.000000000",
                    "2024-08-19T00:00:00.000000000",
                    "2024-08-20T00:00:00.000000000",
                    "2024-08-21T00:00:00.000000000",
                    "2024-08-22T00:00:00.000000000",
                    "2024-08-23T00:00:00.000000000",
                    "2024-08-26T00:00:00.000000000",
                    "2024-08-27T00:00:00.000000000",
                    "2024-08-28T00:00:00.000000000",
                    "2024-08-29T00:00:00.000000000",
                    "2024-08-30T00:00:00.000000000",
                    "2024-09-02T00:00:00.000000000",
                    "2024-09-03T00:00:00.000000000",
                    "2024-09-04T00:00:00.000000000",
                    "2024-09-05T00:00:00.000000000",
                    "2024-09-06T00:00:00.000000000",
                    "2024-09-09T00:00:00.000000000",
                    "2024-09-10T00:00:00.000000000",
                    "2024-09-11T00:00:00.000000000",
                    "2024-09-12T00:00:00.000000000",
                    "2024-09-13T00:00:00.000000000",
                    "2024-09-16T00:00:00.000000000",
                    "2024-09-17T00:00:00.000000000",
                    "2024-09-18T00:00:00.000000000",
                    "2024-09-19T00:00:00.000000000",
                    "2024-09-20T00:00:00.000000000",
                    "2024-09-23T00:00:00.000000000",
                    "2024-09-24T00:00:00.000000000",
                    "2024-09-25T00:00:00.000000000",
                    "2024-09-26T00:00:00.000000000",
                    "2024-09-27T00:00:00.000000000",
                    "2024-09-30T00:00:00.000000000",
                    "2024-10-01T00:00:00.000000000",
                    "2024-10-03T00:00:00.000000000",
                    "2024-10-04T00:00:00.000000000",
                    "2024-10-07T00:00:00.000000000",
                    "2024-10-08T00:00:00.000000000",
                    "2024-10-09T00:00:00.000000000",
                    "2024-10-10T00:00:00.000000000",
                    "2024-10-11T00:00:00.000000000",
                    "2024-10-14T00:00:00.000000000",
                    "2024-10-15T00:00:00.000000000",
                    "2024-10-16T00:00:00.000000000",
                    "2024-10-17T00:00:00.000000000",
                    "2024-10-18T00:00:00.000000000",
                    "2024-10-21T00:00:00.000000000",
                    "2024-10-22T00:00:00.000000000",
                    "2024-10-23T00:00:00.000000000",
                    "2024-10-24T00:00:00.000000000",
                    "2024-10-25T00:00:00.000000000",
                    "2024-10-28T00:00:00.000000000",
                    "2024-10-29T00:00:00.000000000",
                    "2024-10-30T00:00:00.000000000",
                    "2024-10-31T00:00:00.000000000",
                    "2024-11-01T00:00:00.000000000",
                    "2024-11-04T00:00:00.000000000",
                    "2024-11-05T00:00:00.000000000",
                    "2024-11-06T00:00:00.000000000",
                    "2024-11-07T00:00:00.000000000",
                    "2024-11-08T00:00:00.000000000",
                    "2024-11-11T00:00:00.000000000",
                    "2024-11-12T00:00:00.000000000",
                    "2024-11-13T00:00:00.000000000",
                    "2024-11-14T00:00:00.000000000",
                    "2024-11-18T00:00:00.000000000",
                    "2024-11-19T00:00:00.000000000",
                    "2024-11-21T00:00:00.000000000",
                    "2024-11-22T00:00:00.000000000",
                    "2024-11-25T00:00:00.000000000",
                    "2024-11-26T00:00:00.000000000",
                    "2024-11-27T00:00:00.000000000",
                    "2024-11-28T00:00:00.000000000",
                    "2024-11-29T00:00:00.000000000",
                    "2024-12-02T00:00:00.000000000",
                    "2024-12-03T00:00:00.000000000",
                    "2024-12-04T00:00:00.000000000",
                    "2024-12-05T00:00:00.000000000",
                    "2024-12-06T00:00:00.000000000",
                    "2024-12-09T00:00:00.000000000",
                    "2024-12-10T00:00:00.000000000",
                    "2024-12-11T00:00:00.000000000",
                    "2024-12-12T00:00:00.000000000",
                    "2024-12-13T00:00:00.000000000",
                    "2024-12-16T00:00:00.000000000",
                    "2024-12-17T00:00:00.000000000",
                    "2024-12-18T00:00:00.000000000",
                    "2024-12-19T00:00:00.000000000",
                    "2024-12-20T00:00:00.000000000",
                    "2024-12-23T00:00:00.000000000",
                    "2024-12-24T00:00:00.000000000",
                    "2024-12-26T00:00:00.000000000",
                    "2024-12-27T00:00:00.000000000",
                    "2024-12-30T00:00:00.000000000",
                    "2024-12-31T00:00:00.000000000",
                    "2025-01-01T00:00:00.000000000",
                    "2025-01-02T00:00:00.000000000",
                    "2025-01-03T00:00:00.000000000",
                    "2025-01-06T00:00:00.000000000",
                    "2025-01-07T00:00:00.000000000",
                    "2025-01-08T00:00:00.000000000",
                    "2025-01-09T00:00:00.000000000",
                    "2025-01-10T00:00:00.000000000",
                    "2025-01-13T00:00:00.000000000",
                    "2025-01-14T00:00:00.000000000",
                    "2025-01-15T00:00:00.000000000",
                    "2025-01-16T00:00:00.000000000",
                    "2025-01-17T00:00:00.000000000",
                    "2025-01-20T00:00:00.000000000",
                    "2025-01-21T00:00:00.000000000",
                    "2025-01-22T00:00:00.000000000",
                    "2025-01-23T00:00:00.000000000",
                    "2025-01-24T00:00:00.000000000",
                    "2025-01-27T00:00:00.000000000",
                    "2025-01-28T00:00:00.000000000",
                    "2025-01-29T00:00:00.000000000",
                    "2025-01-30T00:00:00.000000000",
                    "2025-01-31T00:00:00.000000000",
                    "2025-02-01T00:00:00.000000000",
                    "2025-02-03T00:00:00.000000000",
                    "2025-02-04T00:00:00.000000000",
                    "2025-02-05T00:00:00.000000000",
                    "2025-02-06T00:00:00.000000000",
                    "2025-02-07T00:00:00.000000000",
                    "2025-02-10T00:00:00.000000000",
                    "2025-02-11T00:00:00.000000000",
                    "2025-02-12T00:00:00.000000000",
                    "2025-02-13T00:00:00.000000000",
                    "2025-02-14T00:00:00.000000000",
                    "2025-02-17T00:00:00.000000000",
                    "2025-02-18T00:00:00.000000000",
                    "2025-02-19T00:00:00.000000000",
                    "2025-02-20T00:00:00.000000000",
                    "2025-02-21T00:00:00.000000000",
                    "2025-02-24T00:00:00.000000000",
                    "2025-02-25T00:00:00.000000000",
                    "2025-02-27T00:00:00.000000000",
                    "2025-02-28T00:00:00.000000000",
                    "2025-03-03T00:00:00.000000000",
                    "2025-03-04T00:00:00.000000000",
                    "2025-03-05T00:00:00.000000000",
                    "2025-03-06T00:00:00.000000000",
                    "2025-03-07T00:00:00.000000000",
                    "2025-03-10T00:00:00.000000000",
                    "2025-03-11T00:00:00.000000000",
                    "2025-03-12T00:00:00.000000000",
                    "2025-03-13T00:00:00.000000000",
                    "2025-03-17T00:00:00.000000000",
                    "2025-03-18T00:00:00.000000000",
                    "2025-03-19T00:00:00.000000000",
                    "2025-03-20T00:00:00.000000000",
                    "2025-03-21T00:00:00.000000000",
                    "2025-03-24T00:00:00.000000000",
                    "2025-03-25T00:00:00.000000000",
                    "2025-03-26T00:00:00.000000000",
                    "2025-03-27T00:00:00.000000000",
                    "2025-03-28T00:00:00.000000000",
                    "2025-04-01T00:00:00.000000000",
                    "2025-04-02T00:00:00.000000000",
                    "2025-04-03T00:00:00.000000000",
                    "2025-04-04T00:00:00.000000000",
                    "2025-04-07T00:00:00.000000000",
                    "2025-04-08T00:00:00.000000000",
                    "2025-04-09T00:00:00.000000000",
                    "2025-04-11T00:00:00.000000000",
                    "2025-04-15T00:00:00.000000000",
                    "2025-04-16T00:00:00.000000000",
                    "2025-04-17T00:00:00.000000000",
                    "2025-04-21T00:00:00.000000000",
                    "2025-04-22T00:00:00.000000000",
                    "2025-04-23T00:00:00.000000000",
                    "2025-04-24T00:00:00.000000000",
                    "2025-04-25T00:00:00.000000000",
                    "2025-04-28T00:00:00.000000000",
                    "2025-04-29T00:00:00.000000000",
                    "2025-04-30T00:00:00.000000000",
                    "2025-05-02T00:00:00.000000000",
                    "2025-05-05T00:00:00.000000000",
                    "2025-05-06T00:00:00.000000000",
                    "2025-05-07T00:00:00.000000000",
                    "2025-05-08T00:00:00.000000000",
                    "2025-05-09T00:00:00.000000000",
                    "2025-05-12T00:00:00.000000000",
                    "2025-05-13T00:00:00.000000000",
                    "2025-05-14T00:00:00.000000000",
                    "2025-05-15T00:00:00.000000000",
                    "2025-05-16T00:00:00.000000000",
                    "2025-05-19T00:00:00.000000000",
                    "2025-05-20T00:00:00.000000000",
                    "2025-05-21T00:00:00.000000000",
                    "2025-05-22T00:00:00.000000000",
                    "2025-05-23T00:00:00.000000000",
                    "2025-05-26T00:00:00.000000000",
                    "2025-05-27T00:00:00.000000000",
                    "2025-05-28T00:00:00.000000000",
                    "2025-05-29T00:00:00.000000000",
                    "2025-05-30T00:00:00.000000000"
                  ],
                  "xaxis": "x2",
                  "y": {
                    "bdata": "AAAAwAzKsEAAAABgZtKvQAAAAACA/LBAAAAAAADNsEAAAABAMxWxQAAAAKCZ1rFAAAAAAIARsUAAAABgZsywQAAAAGCmzrBAAAAAYGausEAAAAAAQM6wQAAAAAAAhLBAAAAAAECFsEAAAABgJtawQAAAAGCm27BAAAAAAICJsEAAAABg5oGwQAAAAGCmfbBAAAAAAECEsEAAAABgJn6wQAAAAKAZmbBAAAAAAAC3sEAAAAAAwMCwQAAAAGDm4rBAAAAAQPONsEAAAACgGdGwQAAAAABAubBAAAAAYGbgsEAAAABgpuuwQAAAAKDZIbFAAAAAoBlPsUAAAAAAQEGxQAAAAGBmubBAAAAAwIzwsEAAAABgZtuwQAAAAMDMF7FAAAAAQDNQsUAAAABgZo2xQAAAAMBMV7FAAAAAAAB6sUAAAABAM3ixQAAAAMBMNLFAAAAAAIDYsEAAAABgZnywQAAAAEBzpbBAAAAAYObdsEAAAABA86CwQAAAAEAzwrBAAAAAYKabsEAAAABgZoOwQAAAAGDmcbBAAAAAQLO1sEAAAABA84ewQAAAAMAMzrBAAAAAoNnLsEAAAABgJoOxQAAAAEBzZrJAAAAAoBlwskAAAAAAwIqyQAAAAKDZ+7JAAAAAoNmXskAAAAAAAN6yQAAAAMAMubJAAAAAYGbNskAAAAAAAM+yQAAAAMCM3LJAAAAAQLOvskAAAAAAgMiyQAAAAKDZ37JAAAAAYGYks0AAAABgpoKzQAAAAKBZTrNAAAAAoBlTs0AAAAAAwEWzQAAAAGCmPLNAAAAAwIwJs0AAAABgpiezQAAAAKBZQrNAAAAAoBnbskAAAABAM66yQAAAAMCMA7NAAAAAQLNRs0AAAABAc7OyQAAAAABAKbNAAAAAoNlsskAAAACgWQGyQAAAAEAzhbFAAAAAQPP6sUAAAADATGSyQAAAAGAmObJAAAAAQHNVskAAAABA80ayQAAAAEBzlLJAAAAAoNlbskAAAAAAABCyQAAAAMAMN7JAAAAAAADvsUAAAABgZqyxQAAAAAAAqLFAAAAAoNmnsUAAAACgGQ6xQAAAAGDmXq9AAAAAAIB1r0AAAABgZrOvQAAAAAAAqa9AAAAAoBnLr0AAAABAM/auQAAAAECzya5AAAAAYOa7r0AAAAAAgDevQAAAAGDmRa9AAAAAQDNXr0AAAADAzJGuQAAAAKCZEa5AAAAAYGZmrkAAAACgmRCvQAAAAMDMm69AAAAAoJnLr0AAAABgpi6wQAAAAACAlLBAAAAAoJmFsEAAAABg5quwQAAAAGCmALFAAAAAYOYasUAAAAAAQDmxQAAAAACANbFAAAAAoNkSsUAAAADAjBCxQAAAAEAzdbFAAAAAQHOJsUAAAAAAAH2xQAAAAMCMcbFAAAAAoFlwsUAAAABg5lCxQAAAAADANrFAAAAAwMwisUAAAACgWSaxQAAAAMAMUrFAAAAAoJkrsUAAAABA81exQAAAAABABLJAAAAAAAB1skAAAABA80myQAAAAMCM9bFAAAAAAEDKsUAAAABAs/OxQAAAAADAubFAAAAAQDNysUAAAABA86qwQAAAAKCZ6LBAAAAAYCamsEAAAADAjKSwQAAAAMDMhLBAAAAAwMxCr0AAAAAAADavQAAAAAAAxK9AAAAAAMAPsEAAAABgZvSvQAAAAMBMErBAAAAAoJlTr0AAAAAAAFevQAAAAMDMJrBAAAAAwMxBsEAAAAAAwE+wQAAAAACAurBAAAAAYObFsEAAAAAAwIOwQAAAAKBZ5LBAAAAAYGaMsUAAAABAsymxQAAAAEAz+bBAAAAAYGY/sUAAAACg2SqxQAAAAMCMDLFAAAAAYCblsEAAAACg2dywQAAAAACA8bBAAAAAoNkMsUAAAADATH+wQAAAAAAAz7BAAAAAwIz5sEAAAABg5i+xQAAAAEBzlbFAAAAAAMCesUAAAAAAALixQAAAAEBzS7FAAAAAYGZbsUAAAADATH2xQAAAAECzcLFAAAAAQLP2sUAAAACgGVqyQAAAAGBmmrJAAAAAwIwxskAAAADAjBOyQAAAAEBzK7JAAAAAQDN5skAAAACg2VyyQAAAAEBzrLJAAAAAQHOsskAAAADAjHSzQAAAAADA3rNAAAAAwAy0s0AAAACgWWqzQAAAAECzjrNAAAAAYCahs0AAAADAzAe0QAAAAKBZ+7NAAAAAAACks0AAAAAAQMyzQAAAAKCZi7NAAAAAYObqs0AAAABAs3yzQAAAAMAMJbRAAAAAAMBJtEAAAACgGR+0QAAAAAAAiLRAAAAAAIB8tEAAAAAAAPa0QAAAAACAeLVAAAAAAACetUAAAAAAgLa1QAAAAACAkLVAAAAAAIDBtEAAAAAAAN20QAAAAAAAkLRAAAAAAICBtEAAAAAAgMm0QAAAAACAm7VAAAAAAADKtEAAAAAAgLC0QAAAAAAAGrRAAAAAAADts0AAAAAAgGS1QAAAAAAAkbVAAAAAAIBLtUAAAAAAANW1QAAAAACAurVAAAAAAIDGtUAAAAAAAEK1QAAAAACAVbVAAAAAAAB/tUAAAAAAAJG1QAAAAAAALLVAAAAAAIDBtEAAAAAAgNK0QAAAAAAAyrRAAAAAAADStEA=",
                    "dtype": "f8"
                  },
                  "yaxis": "y2"
                },
                {
                  "marker": {
                    "color": "green",
                    "size": 10,
                    "symbol": "triangle-up"
                  },
                  "mode": "markers",
                  "name": "Entry",
                  "type": "scatter",
                  "x": [
                    "2024-06-24T00:00:00",
                    "2024-07-05T00:00:00",
                    "2024-07-12T00:00:00",
                    "2024-08-08T00:00:00",
                    "2024-08-13T00:00:00",
                    "2024-08-30T00:00:00",
                    "2024-09-04T00:00:00",
                    "2024-09-20T00:00:00",
                    "2024-09-30T00:00:00",
                    "2024-10-07T00:00:00",
                    "2024-10-14T00:00:00",
                    "2024-10-16T00:00:00",
                    "2024-10-22T00:00:00",
                    "2024-10-25T00:00:00",
                    "2024-11-12T00:00:00",
                    "2024-11-19T00:00:00",
                    "2024-11-27T00:00:00",
                    "2024-12-27T00:00:00",
                    "2025-01-08T00:00:00",
                    "2025-02-01T00:00:00",
                    "2025-02-04T00:00:00",
                    "2025-02-07T00:00:00",
                    "2025-02-25T00:00:00",
                    "2025-03-10T00:00:00",
                    "2025-03-17T00:00:00",
                    "2025-03-19T00:00:00",
                    "2025-04-02T00:00:00",
                    "2025-04-04T00:00:00",
                    "2025-04-17T00:00:00",
                    "2025-04-24T00:00:00",
                    "2025-05-20T00:00:00"
                  ],
                  "xaxis": "x2",
                  "y": [
                    4315.64990234375,
                    4322.89990234375,
                    4331.64990234375,
                    4256.9501953125,
                    4227.39990234375,
                    4830,
                    4815,
                    4903.64990234375,
                    4787.4501953125,
                    4485.2001953125,
                    4678.9501953125,
                    4699.85009765625,
                    4524.39990234375,
                    4366.10009765625,
                    3912.89990234375,
                    4045.89990234375,
                    4267.89990234375,
                    4681.9501953125,
                    4262.14990234375,
                    4492.39990234375,
                    4345.2001953125,
                    4364.5498046875,
                    4427.4501953125,
                    4627.5498046875,
                    4780.4501953125,
                    4980.5498046875,
                    5068.25,
                    5098.89990234375,
                    5366,
                    5520.5,
                    5442
                  ],
                  "yaxis": "y2"
                },
                {
                  "marker": {
                    "color": "red",
                    "size": 10,
                    "symbol": "triangle-down"
                  },
                  "mode": "markers",
                  "name": "Exit",
                  "type": "scatter",
                  "x": [
                    "2024-07-04T00:00:00",
                    "2024-07-11T00:00:00",
                    "2024-08-07T00:00:00",
                    "2024-08-12T00:00:00",
                    "2024-08-29T00:00:00",
                    "2024-09-03T00:00:00",
                    "2024-09-19T00:00:00",
                    "2024-09-27T00:00:00",
                    "2024-10-04T00:00:00",
                    "2024-10-08T00:00:00",
                    "2024-10-15T00:00:00",
                    "2024-10-21T00:00:00",
                    "2024-10-23T00:00:00",
                    "2024-11-01T00:00:00",
                    "2024-11-14T00:00:00",
                    "2024-11-21T00:00:00",
                    "2024-12-26T00:00:00",
                    "2025-01-06T00:00:00",
                    "2025-01-28T00:00:00",
                    "2025-02-03T00:00:00",
                    "2025-02-06T00:00:00",
                    "2025-02-24T00:00:00",
                    "2025-03-07T00:00:00",
                    "2025-03-13T00:00:00",
                    "2025-03-18T00:00:00",
                    "2025-04-01T00:00:00",
                    "2025-04-03T00:00:00",
                    "2025-04-16T00:00:00",
                    "2025-04-23T00:00:00",
                    "2025-05-19T00:00:00",
                    "2025-05-30T00:00:00"
                  ],
                  "xaxis": "x2",
                  "y": [
                    4288.75,
                    4320.39990234375,
                    4317.89990234375,
                    4251.64990234375,
                    4759.85009765625,
                    4813.39990234375,
                    4873.5498046875,
                    4945.7001953125,
                    4609.35009765625,
                    4602.9501953125,
                    4756.4501953125,
                    4591,
                    4520,
                    4069.550048828125,
                    3891.199951171875,
                    4069.800048828125,
                    4725,
                    4266.9501953125,
                    4282.5,
                    4393.7001953125,
                    4394.85009765625,
                    4536,
                    4657.5498046875,
                    4700.85009765625,
                    4780.4501953125,
                    5028,
                    5003.60009765625,
                    5244.5,
                    5558.5,
                    5574.5,
                    5330
                  ],
                  "yaxis": "y2"
                }
              ],
              "layout": {
                "annotations": [
                  {
                    "font": {
                      "size": 16
                    },
                    "showarrow": false,
                    "text": "Equity Curve",
                    "x": 0.5,
                    "xanchor": "center",
                    "xref": "paper",
                    "y": 1,
                    "yanchor": "bottom",
                    "yref": "paper"
                  },
                  {
                    "font": {
                      "size": 16
                    },
                    "showarrow": false,
                    "text": "Price Action with Entry and Exit Points",
                    "x": 0.5,
                    "xanchor": "center",
                    "xref": "paper",
                    "y": 0.45,
                    "yanchor": "bottom",
                    "yref": "paper"
                  }
                ],
                "height": 800,
                "showlegend": true,
                "template": {
                  "data": {
                    "bar": [
                      {
                        "error_x": {
                          "color": "#2a3f5f"
                        },
                        "error_y": {
                          "color": "#2a3f5f"
                        },
                        "marker": {
                          "line": {
                            "color": "white",
                            "width": 0.5
                          },
                          "pattern": {
                            "fillmode": "overlay",
                            "size": 10,
                            "solidity": 0.2
                          }
                        },
                        "type": "bar"
                      }
                    ],
                    "barpolar": [
                      {
                        "marker": {
                          "line": {
                            "color": "white",
                            "width": 0.5
                          },
                          "pattern": {
                            "fillmode": "overlay",
                            "size": 10,
                            "solidity": 0.2
                          }
                        },
                        "type": "barpolar"
                      }
                    ],
                    "carpet": [
                      {
                        "aaxis": {
                          "endlinecolor": "#2a3f5f",
                          "gridcolor": "#C8D4E3",
                          "linecolor": "#C8D4E3",
                          "minorgridcolor": "#C8D4E3",
                          "startlinecolor": "#2a3f5f"
                        },
                        "baxis": {
                          "endlinecolor": "#2a3f5f",
                          "gridcolor": "#C8D4E3",
                          "linecolor": "#C8D4E3",
                          "minorgridcolor": "#C8D4E3",
                          "startlinecolor": "#2a3f5f"
                        },
                        "type": "carpet"
                      }
                    ],
                    "choropleth": [
                      {
                        "colorbar": {
                          "outlinewidth": 0,
                          "ticks": ""
                        },
                        "type": "choropleth"
                      }
                    ],
                    "contour": [
                      {
                        "colorbar": {
                          "outlinewidth": 0,
                          "ticks": ""
                        },
                        "colorscale": [
                          [
                            0,
                            "#0d0887"
                          ],
                          [
                            0.1111111111111111,
                            "#46039f"
                          ],
                          [
                            0.2222222222222222,
                            "#7201a8"
                          ],
                          [
                            0.3333333333333333,
                            "#9c179e"
                          ],
                          [
                            0.4444444444444444,
                            "#bd3786"
                          ],
                          [
                            0.5555555555555556,
                            "#d8576b"
                          ],
                          [
                            0.6666666666666666,
                            "#ed7953"
                          ],
                          [
                            0.7777777777777778,
                            "#fb9f3a"
                          ],
                          [
                            0.8888888888888888,
                            "#fdca26"
                          ],
                          [
                            1,
                            "#f0f921"
                          ]
                        ],
                        "type": "contour"
                      }
                    ],
                    "contourcarpet": [
                      {
                        "colorbar": {
                          "outlinewidth": 0,
                          "ticks": ""
                        },
                        "type": "contourcarpet"
                      }
                    ],
                    "heatmap": [
                      {
                        "colorbar": {
                          "outlinewidth": 0,
                          "ticks": ""
                        },
                        "colorscale": [
                          [
                            0,
                            "#0d0887"
                          ],
                          [
                            0.1111111111111111,
                            "#46039f"
                          ],
                          [
                            0.2222222222222222,
                            "#7201a8"
                          ],
                          [
                            0.3333333333333333,
                            "#9c179e"
                          ],
                          [
                            0.4444444444444444,
                            "#bd3786"
                          ],
                          [
                            0.5555555555555556,
                            "#d8576b"
                          ],
                          [
                            0.6666666666666666,
                            "#ed7953"
                          ],
                          [
                            0.7777777777777778,
                            "#fb9f3a"
                          ],
                          [
                            0.8888888888888888,
                            "#fdca26"
                          ],
                          [
                            1,
                            "#f0f921"
                          ]
                        ],
                        "type": "heatmap"
                      }
                    ],
                    "histogram": [
                      {
                        "marker": {
                          "pattern": {
                            "fillmode": "overlay",
                            "size": 10,
                            "solidity": 0.2
                          }
                        },
                        "type": "histogram"
                      }
                    ],
                    "histogram2d": [
                      {
                        "colorbar": {
                          "outlinewidth": 0,
                          "ticks": ""
                        },
                        "colorscale": [
                          [
                            0,
                            "#0d0887"
                          ],
                          [
                            0.1111111111111111,
                            "#46039f"
                          ],
                          [
                            0.2222222222222222,
                            "#7201a8"
                          ],
                          [
                            0.3333333333333333,
                            "#9c179e"
                          ],
                          [
                            0.4444444444444444,
                            "#bd3786"
                          ],
                          [
                            0.5555555555555556,
                            "#d8576b"
                          ],
                          [
                            0.6666666666666666,
                            "#ed7953"
                          ],
                          [
                            0.7777777777777778,
                            "#fb9f3a"
                          ],
                          [
                            0.8888888888888888,
                            "#fdca26"
                          ],
                          [
                            1,
                            "#f0f921"
                          ]
                        ],
                        "type": "histogram2d"
                      }
                    ],
                    "histogram2dcontour": [
                      {
                        "colorbar": {
                          "outlinewidth": 0,
                          "ticks": ""
                        },
                        "colorscale": [
                          [
                            0,
                            "#0d0887"
                          ],
                          [
                            0.1111111111111111,
                            "#46039f"
                          ],
                          [
                            0.2222222222222222,
                            "#7201a8"
                          ],
                          [
                            0.3333333333333333,
                            "#9c179e"
                          ],
                          [
                            0.4444444444444444,
                            "#bd3786"
                          ],
                          [
                            0.5555555555555556,
                            "#d8576b"
                          ],
                          [
                            0.6666666666666666,
                            "#ed7953"
                          ],
                          [
                            0.7777777777777778,
                            "#fb9f3a"
                          ],
                          [
                            0.8888888888888888,
                            "#fdca26"
                          ],
                          [
                            1,
                            "#f0f921"
                          ]
                        ],
                        "type": "histogram2dcontour"
                      }
                    ],
                    "mesh3d": [
                      {
                        "colorbar": {
                          "outlinewidth": 0,
                          "ticks": ""
                        },
                        "type": "mesh3d"
                      }
                    ],
                    "parcoords": [
                      {
                        "line": {
                          "colorbar": {
                            "outlinewidth": 0,
                            "ticks": ""
                          }
                        },
                        "type": "parcoords"
                      }
                    ],
                    "pie": [
                      {
                        "automargin": true,
                        "type": "pie"
                      }
                    ],
                    "scatter": [
                      {
                        "fillpattern": {
                          "fillmode": "overlay",
                          "size": 10,
                          "solidity": 0.2
                        },
                        "type": "scatter"
                      }
                    ],
                    "scatter3d": [
                      {
                        "line": {
                          "colorbar": {
                            "outlinewidth": 0,
                            "ticks": ""
                          }
                        },
                        "marker": {
                          "colorbar": {
                            "outlinewidth": 0,
                            "ticks": ""
                          }
                        },
                        "type": "scatter3d"
                      }
                    ],
                    "scattercarpet": [
                      {
                        "marker": {
                          "colorbar": {
                            "outlinewidth": 0,
                            "ticks": ""
                          }
                        },
                        "type": "scattercarpet"
                      }
                    ],
                    "scattergeo": [
                      {
                        "marker": {
                          "colorbar": {
                            "outlinewidth": 0,
                            "ticks": ""
                          }
                        },
                        "type": "scattergeo"
                      }
                    ],
                    "scattergl": [
                      {
                        "marker": {
                          "colorbar": {
                            "outlinewidth": 0,
                            "ticks": ""
                          }
                        },
                        "type": "scattergl"
                      }
                    ],
                    "scattermap": [
                      {
                        "marker": {
                          "colorbar": {
                            "outlinewidth": 0,
                            "ticks": ""
                          }
                        },
                        "type": "scattermap"
                      }
                    ],
                    "scattermapbox": [
                      {
                        "marker": {
                          "colorbar": {
                            "outlinewidth": 0,
                            "ticks": ""
                          }
                        },
                        "type": "scattermapbox"
                      }
                    ],
                    "scatterpolar": [
                      {
                        "marker": {
                          "colorbar": {
                            "outlinewidth": 0,
                            "ticks": ""
                          }
                        },
                        "type": "scatterpolar"
                      }
                    ],
                    "scatterpolargl": [
                      {
                        "marker": {
                          "colorbar": {
                            "outlinewidth": 0,
                            "ticks": ""
                          }
                        },
                        "type": "scatterpolargl"
                      }
                    ],
                    "scatterternary": [
                      {
                        "marker": {
                          "colorbar": {
                            "outlinewidth": 0,
                            "ticks": ""
                          }
                        },
                        "type": "scatterternary"
                      }
                    ],
                    "surface": [
                      {
                        "colorbar": {
                          "outlinewidth": 0,
                          "ticks": ""
                        },
                        "colorscale": [
                          [
                            0,
                            "#0d0887"
                          ],
                          [
                            0.1111111111111111,
                            "#46039f"
                          ],
                          [
                            0.2222222222222222,
                            "#7201a8"
                          ],
                          [
                            0.3333333333333333,
                            "#9c179e"
                          ],
                          [
                            0.4444444444444444,
                            "#bd3786"
                          ],
                          [
                            0.5555555555555556,
                            "#d8576b"
                          ],
                          [
                            0.6666666666666666,
                            "#ed7953"
                          ],
                          [
                            0.7777777777777778,
                            "#fb9f3a"
                          ],
                          [
                            0.8888888888888888,
                            "#fdca26"
                          ],
                          [
                            1,
                            "#f0f921"
                          ]
                        ],
                        "type": "surface"
                      }
                    ],
                    "table": [
                      {
                        "cells": {
                          "fill": {
                            "color": "#EBF0F8"
                          },
                          "line": {
                            "color": "white"
                          }
                        },
                        "header": {
                          "fill": {
                            "color": "#C8D4E3"
                          },
                          "line": {
                            "color": "white"
                          }
                        },
                        "type": "table"
                      }
                    ]
                  },
                  "layout": {
                    "annotationdefaults": {
                      "arrowcolor": "#2a3f5f",
                      "arrowhead": 0,
                      "arrowwidth": 1
                    },
                    "autotypenumbers": "strict",
                    "coloraxis": {
                      "colorbar": {
                        "outlinewidth": 0,
                        "ticks": ""
                      }
                    },
                    "colorscale": {
                      "diverging": [
                        [
                          0,
                          "#8e0152"
                        ],
                        [
                          0.1,
                          "#c51b7d"
                        ],
                        [
                          0.2,
                          "#de77ae"
                        ],
                        [
                          0.3,
                          "#f1b6da"
                        ],
                        [
                          0.4,
                          "#fde0ef"
                        ],
                        [
                          0.5,
                          "#f7f7f7"
                        ],
                        [
                          0.6,
                          "#e6f5d0"
                        ],
                        [
                          0.7,
                          "#b8e186"
                        ],
                        [
                          0.8,
                          "#7fbc41"
                        ],
                        [
                          0.9,
                          "#4d9221"
                        ],
                        [
                          1,
                          "#276419"
                        ]
                      ],
                      "sequential": [
                        [
                          0,
                          "#0d0887"
                        ],
                        [
                          0.1111111111111111,
                          "#46039f"
                        ],
                        [
                          0.2222222222222222,
                          "#7201a8"
                        ],
                        [
                          0.3333333333333333,
                          "#9c179e"
                        ],
                        [
                          0.4444444444444444,
                          "#bd3786"
                        ],
                        [
                          0.5555555555555556,
                          "#d8576b"
                        ],
                        [
                          0.6666666666666666,
                          "#ed7953"
                        ],
                        [
                          0.7777777777777778,
                          "#fb9f3a"
                        ],
                        [
                          0.8888888888888888,
                          "#fdca26"
                        ],
                        [
                          1,
                          "#f0f921"
                        ]
                      ],
                      "sequentialminus": [
                        [
                          0,
                          "#0d0887"
                        ],
                        [
                          0.1111111111111111,
                          "#46039f"
                        ],
                        [
                          0.2222222222222222,
                          "#7201a8"
                        ],
                        [
                          0.3333333333333333,
                          "#9c179e"
                        ],
                        [
                          0.4444444444444444,
                          "#bd3786"
                        ],
                        [
                          0.5555555555555556,
                          "#d8576b"
                        ],
                        [
                          0.6666666666666666,
                          "#ed7953"
                        ],
                        [
                          0.7777777777777778,
                          "#fb9f3a"
                        ],
                        [
                          0.8888888888888888,
                          "#fdca26"
                        ],
                        [
                          1,
                          "#f0f921"
                        ]
                      ]
                    },
                    "colorway": [
                      "#636efa",
                      "#EF553B",
                      "#00cc96",
                      "#ab63fa",
                      "#FFA15A",
                      "#19d3f3",
                      "#FF6692",
                      "#B6E880",
                      "#FF97FF",
                      "#FECB52"
                    ],
                    "font": {
                      "color": "#2a3f5f"
                    },
                    "geo": {
                      "bgcolor": "white",
                      "lakecolor": "white",
                      "landcolor": "white",
                      "showlakes": true,
                      "showland": true,
                      "subunitcolor": "#C8D4E3"
                    },
                    "hoverlabel": {
                      "align": "left"
                    },
                    "hovermode": "closest",
                    "mapbox": {
                      "style": "light"
                    },
                    "paper_bgcolor": "white",
                    "plot_bgcolor": "white",
                    "polar": {
                      "angularaxis": {
                        "gridcolor": "#EBF0F8",
                        "linecolor": "#EBF0F8",
                        "ticks": ""
                      },
                      "bgcolor": "white",
                      "radialaxis": {
                        "gridcolor": "#EBF0F8",
                        "linecolor": "#EBF0F8",
                        "ticks": ""
                      }
                    },
                    "scene": {
                      "xaxis": {
                        "backgroundcolor": "white",
                        "gridcolor": "#DFE8F3",
                        "gridwidth": 2,
                        "linecolor": "#EBF0F8",
                        "showbackground": true,
                        "ticks": "",
                        "zerolinecolor": "#EBF0F8"
                      },
                      "yaxis": {
                        "backgroundcolor": "white",
                        "gridcolor": "#DFE8F3",
                        "gridwidth": 2,
                        "linecolor": "#EBF0F8",
                        "showbackground": true,
                        "ticks": "",
                        "zerolinecolor": "#EBF0F8"
                      },
                      "zaxis": {
                        "backgroundcolor": "white",
                        "gridcolor": "#DFE8F3",
                        "gridwidth": 2,
                        "linecolor": "#EBF0F8",
                        "showbackground": true,
                        "ticks": "",
                        "zerolinecolor": "#EBF0F8"
                      }
                    },
                    "shapedefaults": {
                      "line": {
                        "color": "#2a3f5f"
                      }
                    },
                    "ternary": {
                      "aaxis": {
                        "gridcolor": "#DFE8F3",
                        "linecolor": "#A2B1C6",
                        "ticks": ""
                      },
                      "baxis": {
                        "gridcolor": "#DFE8F3",
                        "linecolor": "#A2B1C6",
                        "ticks": ""
                      },
                      "bgcolor": "white",
                      "caxis": {
                        "gridcolor": "#DFE8F3",
                        "linecolor": "#A2B1C6",
                        "ticks": ""
                      }
                    },
                    "title": {
                      "x": 0.05
                    },
                    "xaxis": {
                      "automargin": true,
                      "gridcolor": "#EBF0F8",
                      "linecolor": "#EBF0F8",
                      "ticks": "",
                      "title": {
                        "standoff": 15
                      },
                      "zerolinecolor": "#EBF0F8",
                      "zerolinewidth": 2
                    },
                    "yaxis": {
                      "automargin": true,
                      "gridcolor": "#EBF0F8",
                      "linecolor": "#EBF0F8",
                      "ticks": "",
                      "title": {
                        "standoff": 15
                      },
                      "zerolinecolor": "#EBF0F8",
                      "zerolinewidth": 2
                    }
                  }
                },
                "title": {
                  "text": "Backtest Visualizations"
                },
                "xaxis": {
                  "anchor": "y",
                  "domain": [
                    0,
                    1
                  ],
                  "matches": "x2",
                  "showticklabels": false
                },
                "xaxis2": {
                  "anchor": "y2",
                  "domain": [
                    0,
                    1
                  ],
                  "title": {
                    "text": "Time"
                  }
                },
                "yaxis": {
                  "anchor": "x",
                  "domain": [
                    0.55,
                    1
                  ],
                  "title": {
                    "text": "Capital"
                  }
                },
                "yaxis2": {
                  "anchor": "x2",
                  "domain": [
                    0,
                    0.45
                  ],
                  "title": {
                    "text": "Price"
                  }
                }
              }
            }
          },
          "metadata": {},
          "output_type": "display_data"
        },
        {
          "data": {
            "text/html": [
              "<div>\n",
              "<style scoped>\n",
              "    .dataframe tbody tr th:only-of-type {\n",
              "        vertical-align: middle;\n",
              "    }\n",
              "\n",
              "    .dataframe tbody tr th {\n",
              "        vertical-align: top;\n",
              "    }\n",
              "\n",
              "    .dataframe thead th {\n",
              "        text-align: right;\n",
              "    }\n",
              "</style>\n",
              "<table border=\"1\" class=\"dataframe\">\n",
              "  <thead>\n",
              "    <tr style=\"text-align: right;\">\n",
              "      <th></th>\n",
              "      <th>Entry Candle</th>\n",
              "      <th>Exit Candle</th>\n",
              "      <th>PnL</th>\n",
              "      <th>Number of units</th>\n",
              "      <th>Trade type</th>\n",
              "    </tr>\n",
              "  </thead>\n",
              "  <tbody>\n",
              "    <tr>\n",
              "      <th>0</th>\n",
              "      <td>2024-06-24</td>\n",
              "      <td>2024-07-04</td>\n",
              "      <td>-618.697754</td>\n",
              "      <td>23.0</td>\n",
              "      <td>Long</td>\n",
              "    </tr>\n",
              "    <tr>\n",
              "      <th>1</th>\n",
              "      <td>2024-07-05</td>\n",
              "      <td>2024-07-11</td>\n",
              "      <td>-55.000000</td>\n",
              "      <td>22.0</td>\n",
              "      <td>Long</td>\n",
              "    </tr>\n",
              "    <tr>\n",
              "      <th>2</th>\n",
              "      <td>2024-07-12</td>\n",
              "      <td>2024-08-07</td>\n",
              "      <td>-302.500000</td>\n",
              "      <td>22.0</td>\n",
              "      <td>Long</td>\n",
              "    </tr>\n",
              "    <tr>\n",
              "      <th>3</th>\n",
              "      <td>2024-08-08</td>\n",
              "      <td>2024-08-12</td>\n",
              "      <td>-121.906738</td>\n",
              "      <td>23.0</td>\n",
              "      <td>Long</td>\n",
              "    </tr>\n",
              "    <tr>\n",
              "      <th>4</th>\n",
              "      <td>2024-08-13</td>\n",
              "      <td>2024-08-29</td>\n",
              "      <td>12246.354492</td>\n",
              "      <td>23.0</td>\n",
              "      <td>Long</td>\n",
              "    </tr>\n",
              "    <tr>\n",
              "      <th>5</th>\n",
              "      <td>2024-08-30</td>\n",
              "      <td>2024-09-03</td>\n",
              "      <td>-381.802246</td>\n",
              "      <td>23.0</td>\n",
              "      <td>Long</td>\n",
              "    </tr>\n",
              "    <tr>\n",
              "      <th>6</th>\n",
              "      <td>2024-09-04</td>\n",
              "      <td>2024-09-19</td>\n",
              "      <td>1346.645508</td>\n",
              "      <td>23.0</td>\n",
              "      <td>Long</td>\n",
              "    </tr>\n",
              "    <tr>\n",
              "      <th>7</th>\n",
              "      <td>2024-09-20</td>\n",
              "      <td>2024-09-27</td>\n",
              "      <td>925.106445</td>\n",
              "      <td>22.0</td>\n",
              "      <td>Long</td>\n",
              "    </tr>\n",
              "    <tr>\n",
              "      <th>8</th>\n",
              "      <td>2024-09-30</td>\n",
              "      <td>2024-10-04</td>\n",
              "      <td>-4096.302246</td>\n",
              "      <td>23.0</td>\n",
              "      <td>Long</td>\n",
              "    </tr>\n",
              "    <tr>\n",
              "      <th>9</th>\n",
              "      <td>2024-10-07</td>\n",
              "      <td>2024-10-08</td>\n",
              "      <td>-2826.000000</td>\n",
              "      <td>24.0</td>\n",
              "      <td>Short</td>\n",
              "    </tr>\n",
              "    <tr>\n",
              "      <th>10</th>\n",
              "      <td>2024-10-14</td>\n",
              "      <td>2024-10-15</td>\n",
              "      <td>-1705.000000</td>\n",
              "      <td>22.0</td>\n",
              "      <td>Short</td>\n",
              "    </tr>\n",
              "    <tr>\n",
              "      <th>11</th>\n",
              "      <td>2024-10-16</td>\n",
              "      <td>2024-10-21</td>\n",
              "      <td>2394.702148</td>\n",
              "      <td>22.0</td>\n",
              "      <td>Short</td>\n",
              "    </tr>\n",
              "    <tr>\n",
              "      <th>12</th>\n",
              "      <td>2024-10-22</td>\n",
              "      <td>2024-10-23</td>\n",
              "      <td>101.197754</td>\n",
              "      <td>23.0</td>\n",
              "      <td>Short</td>\n",
              "    </tr>\n",
              "    <tr>\n",
              "      <th>13</th>\n",
              "      <td>2024-10-25</td>\n",
              "      <td>2024-11-01</td>\n",
              "      <td>7117.201172</td>\n",
              "      <td>24.0</td>\n",
              "      <td>Short</td>\n",
              "    </tr>\n",
              "    <tr>\n",
              "      <th>14</th>\n",
              "      <td>2024-11-12</td>\n",
              "      <td>2024-11-14</td>\n",
              "      <td>629.298584</td>\n",
              "      <td>29.0</td>\n",
              "      <td>Short</td>\n",
              "    </tr>\n",
              "    <tr>\n",
              "      <th>15</th>\n",
              "      <td>2024-11-19</td>\n",
              "      <td>2024-11-21</td>\n",
              "      <td>-669.204102</td>\n",
              "      <td>28.0</td>\n",
              "      <td>Short</td>\n",
              "    </tr>\n",
              "    <tr>\n",
              "      <th>16</th>\n",
              "      <td>2024-11-27</td>\n",
              "      <td>2024-12-26</td>\n",
              "      <td>11884.602539</td>\n",
              "      <td>26.0</td>\n",
              "      <td>Long</td>\n",
              "    </tr>\n",
              "    <tr>\n",
              "      <th>17</th>\n",
              "      <td>2024-12-27</td>\n",
              "      <td>2025-01-06</td>\n",
              "      <td>-10790.000000</td>\n",
              "      <td>26.0</td>\n",
              "      <td>Long</td>\n",
              "    </tr>\n",
              "    <tr>\n",
              "      <th>18</th>\n",
              "      <td>2025-01-08</td>\n",
              "      <td>2025-01-28</td>\n",
              "      <td>-549.452637</td>\n",
              "      <td>27.0</td>\n",
              "      <td>Short</td>\n",
              "    </tr>\n",
              "    <tr>\n",
              "      <th>19</th>\n",
              "      <td>2025-02-01</td>\n",
              "      <td>2025-02-03</td>\n",
              "      <td>-2467.492676</td>\n",
              "      <td>25.0</td>\n",
              "      <td>Long</td>\n",
              "    </tr>\n",
              "    <tr>\n",
              "      <th>20</th>\n",
              "      <td>2025-02-04</td>\n",
              "      <td>2025-02-06</td>\n",
              "      <td>1241.247559</td>\n",
              "      <td>25.0</td>\n",
              "      <td>Long</td>\n",
              "    </tr>\n",
              "    <tr>\n",
              "      <th>21</th>\n",
              "      <td>2025-02-07</td>\n",
              "      <td>2025-02-24</td>\n",
              "      <td>4286.254883</td>\n",
              "      <td>25.0</td>\n",
              "      <td>Long</td>\n",
              "    </tr>\n",
              "    <tr>\n",
              "      <th>22</th>\n",
              "      <td>2025-02-25</td>\n",
              "      <td>2025-03-07</td>\n",
              "      <td>5982.589844</td>\n",
              "      <td>26.0</td>\n",
              "      <td>Long</td>\n",
              "    </tr>\n",
              "    <tr>\n",
              "      <th>23</th>\n",
              "      <td>2025-03-10</td>\n",
              "      <td>2025-03-13</td>\n",
              "      <td>1905.807617</td>\n",
              "      <td>26.0</td>\n",
              "      <td>Long</td>\n",
              "    </tr>\n",
              "    <tr>\n",
              "      <th>24</th>\n",
              "      <td>2025-03-17</td>\n",
              "      <td>2025-03-18</td>\n",
              "      <td>0.000000</td>\n",
              "      <td>26.0</td>\n",
              "      <td>Long</td>\n",
              "    </tr>\n",
              "    <tr>\n",
              "      <th>25</th>\n",
              "      <td>2025-03-19</td>\n",
              "      <td>2025-04-01</td>\n",
              "      <td>1186.254883</td>\n",
              "      <td>25.0</td>\n",
              "      <td>Long</td>\n",
              "    </tr>\n",
              "    <tr>\n",
              "      <th>26</th>\n",
              "      <td>2025-04-02</td>\n",
              "      <td>2025-04-03</td>\n",
              "      <td>-1551.597656</td>\n",
              "      <td>24.0</td>\n",
              "      <td>Long</td>\n",
              "    </tr>\n",
              "    <tr>\n",
              "      <th>27</th>\n",
              "      <td>2025-04-04</td>\n",
              "      <td>2025-04-16</td>\n",
              "      <td>3494.402344</td>\n",
              "      <td>24.0</td>\n",
              "      <td>Long</td>\n",
              "    </tr>\n",
              "    <tr>\n",
              "      <th>28</th>\n",
              "      <td>2025-04-17</td>\n",
              "      <td>2025-04-23</td>\n",
              "      <td>4427.500000</td>\n",
              "      <td>23.0</td>\n",
              "      <td>Long</td>\n",
              "    </tr>\n",
              "    <tr>\n",
              "      <th>29</th>\n",
              "      <td>2025-04-24</td>\n",
              "      <td>2025-05-19</td>\n",
              "      <td>1296.000000</td>\n",
              "      <td>24.0</td>\n",
              "      <td>Long</td>\n",
              "    </tr>\n",
              "    <tr>\n",
              "      <th>30</th>\n",
              "      <td>2025-05-20</td>\n",
              "      <td>2025-05-30</td>\n",
              "      <td>-2688.000000</td>\n",
              "      <td>24.0</td>\n",
              "      <td>Long</td>\n",
              "    </tr>\n",
              "  </tbody>\n",
              "</table>\n",
              "</div>"
            ],
            "text/plain": [
              "   Entry Candle Exit Candle           PnL  Number of units Trade type\n",
              "0    2024-06-24  2024-07-04   -618.697754             23.0       Long\n",
              "1    2024-07-05  2024-07-11    -55.000000             22.0       Long\n",
              "2    2024-07-12  2024-08-07   -302.500000             22.0       Long\n",
              "3    2024-08-08  2024-08-12   -121.906738             23.0       Long\n",
              "4    2024-08-13  2024-08-29  12246.354492             23.0       Long\n",
              "5    2024-08-30  2024-09-03   -381.802246             23.0       Long\n",
              "6    2024-09-04  2024-09-19   1346.645508             23.0       Long\n",
              "7    2024-09-20  2024-09-27    925.106445             22.0       Long\n",
              "8    2024-09-30  2024-10-04  -4096.302246             23.0       Long\n",
              "9    2024-10-07  2024-10-08  -2826.000000             24.0      Short\n",
              "10   2024-10-14  2024-10-15  -1705.000000             22.0      Short\n",
              "11   2024-10-16  2024-10-21   2394.702148             22.0      Short\n",
              "12   2024-10-22  2024-10-23    101.197754             23.0      Short\n",
              "13   2024-10-25  2024-11-01   7117.201172             24.0      Short\n",
              "14   2024-11-12  2024-11-14    629.298584             29.0      Short\n",
              "15   2024-11-19  2024-11-21   -669.204102             28.0      Short\n",
              "16   2024-11-27  2024-12-26  11884.602539             26.0       Long\n",
              "17   2024-12-27  2025-01-06 -10790.000000             26.0       Long\n",
              "18   2025-01-08  2025-01-28   -549.452637             27.0      Short\n",
              "19   2025-02-01  2025-02-03  -2467.492676             25.0       Long\n",
              "20   2025-02-04  2025-02-06   1241.247559             25.0       Long\n",
              "21   2025-02-07  2025-02-24   4286.254883             25.0       Long\n",
              "22   2025-02-25  2025-03-07   5982.589844             26.0       Long\n",
              "23   2025-03-10  2025-03-13   1905.807617             26.0       Long\n",
              "24   2025-03-17  2025-03-18      0.000000             26.0       Long\n",
              "25   2025-03-19  2025-04-01   1186.254883             25.0       Long\n",
              "26   2025-04-02  2025-04-03  -1551.597656             24.0       Long\n",
              "27   2025-04-04  2025-04-16   3494.402344             24.0       Long\n",
              "28   2025-04-17  2025-04-23   4427.500000             23.0       Long\n",
              "29   2025-04-24  2025-05-19   1296.000000             24.0       Long\n",
              "30   2025-05-20  2025-05-30  -2688.000000             24.0       Long"
            ]
          },
          "execution_count": 42,
          "metadata": {},
          "output_type": "execute_result"
        }
      ],
      "source": [
        "# ---- Applying Strategy ----\n",
        "data = calculate_supertrend(data, period=14, multiplier=3)\n",
        "data = calculate_mfi(data, window=14)\n",
        "data = calculate_atr(data, window=14)\n",
        "data = strategy(data)\n",
        "data.reset_index(inplace=True)\n",
        "dataframe = data[['timestamp', 'open','high','low','close','volume','signals']]\n",
        "perform_backtest(dataframe)"
      ]
    },
    {
      "cell_type": "markdown",
      "metadata": {
        "id": "-uI2kATtl0w2"
      },
      "source": [
        "## 4. Incorporating a Complementary Indicator:"
      ]
    },
    {
      "cell_type": "markdown",
      "metadata": {
        "id": "6rMC03nYm5Mr"
      },
      "source": [
        "### Step 1: Choosing the Complementary Indicator\n",
        "\n",
        "** Chosen Indicator:** Bollinger Bands Width (BBW)\n",
        "\n",
        "---\n",
        "\n",
        "### Why It Complements Existing Indicators\n",
        "\n",
        "- **Supertrend** tracks **trend direction** and **volatility breakouts**.\n",
        "- **MFI (Money Flow Index)** reflects **volume-weighted momentum**.\n",
        "- **Bollinger Band Width (BBW)** measures **volatility compression or expansion**.\n",
        "\n",
        "---\n",
        "\n",
        "### How BBW Enhances the Strategy\n",
        "\n",
        "- Helps **filter entries** during **volatility contraction**, which often precedes **low-risk breakouts**.\n",
        "- Avoids trades during **choppy or noisy markets**, where signals are less reliable and prone to whipsaws.\n",
        "\n",
        "---\n",
        "\n",
        "Combining Supertrend, MFI, and BBW creates a robust strategy that balances **trend detection**, **volume confirmation**, and **volatility context**.\n"
      ]
    },
    {
      "cell_type": "markdown",
      "metadata": {
        "id": "Sq4CmqmYn0OK"
      },
      "source": [
        "### Step 2: Logic of Strategy Y (Extended Version)\n",
        "\n",
        "---\n",
        "\n",
        "###  Buy Signal (Long Entry)\n",
        "\n",
        "- All of **Strategy X’s bullish conditions** are satisfied:\n",
        "  - Supertrend is **bullish** (price above Supertrend line)\n",
        "  - MFI is **rising**\n",
        "  - MFI is either **above 60** or there's a recent **bullish crossover**\n",
        "- **PLUS**:\n",
        "  - **Bollinger Band Width (BBW)** is **rising**\n",
        "  - BBW is **above a threshold** (indicating volatility expansion)\n",
        "\n",
        "---\n",
        "\n",
        "###  Sell Signal (Short Entry)\n",
        "\n",
        "- All of **Strategy X’s bearish conditions** are satisfied:\n",
        "  - Supertrend is **bearish** (price below Supertrend line)\n",
        "  - MFI is **falling**\n",
        "  - MFI is either **below 40** or there's a recent **bearish crossover**\n",
        "- **PLUS**:\n",
        "  - **Bollinger Band Width (BBW)** is **rising**\n",
        "  - BBW is **above a threshold** (confirming volatility expansion)\n",
        "\n",
        "---\n",
        "\n",
        "###  Insight\n",
        "\n",
        "The addition of BBW ensures trades are only entered when there's enough volatility to support a meaningful price move, thus reducing false signals during flat or noisy markets.\n"
      ]
    },
    {
      "cell_type": "code",
      "execution_count": 29,
      "metadata": {
        "id": "_vBPt86MmhXE"
      },
      "outputs": [],
      "source": [
        "def calculate_bollinger_band_width(data, window=20):\n",
        "    data['SMA'] = data['close'].rolling(window=window).mean()\n",
        "    data['STD'] = data['close'].rolling(window=window).std()\n",
        "    data['Upper_BB'] = data['SMA'] + 2 * data['STD']\n",
        "    data['Lower_BB'] = data['SMA'] - 2 * data['STD']\n",
        "    data['BBW'] = (data['Upper_BB'] - data['Lower_BB']) / data['SMA']\n",
        "    data['BBW_Rising'] = data['BBW'] > data['BBW'].shift(1)\n",
        "    data['BBW_High'] = data['BBW'] > 0.05  # Threshold can be tuned\n",
        "    return data"
      ]
    },
    {
      "cell_type": "code",
      "execution_count": 41,
      "metadata": {
        "id": "fsaPfRZAlT3J"
      },
      "outputs": [],
      "source": [
        "# strategy Y\n",
        "def strategy_Y(data):\n",
        "    # Ensuring datetime index\n",
        "    if 'timestamp' in data.columns:\n",
        "        data['timestamp'] = pd.to_datetime(data['timestamp'])\n",
        "        data.set_index('timestamp', inplace=True)\n",
        "    elif not isinstance(data.index, pd.DatetimeIndex):\n",
        "        print(\"Warning: No datetime found. You may need to check your data.\")\n",
        "\n",
        "    data['signals'] = 0\n",
        "\n",
        "    # MFI momentum conditions\n",
        "    data['MFI_Rising'] = data['MFI'] > data['MFI'].shift(1)\n",
        "    data['MFI_Falling'] = data['MFI'] < data['MFI'].shift(1)\n",
        "\n",
        "    # Adding Bollinger Band Width and volatility conditions\n",
        "    data = calculate_bollinger_band_width(data)\n",
        "\n",
        "    ### LONG ENTRY ###\n",
        "    data.loc[\n",
        "        (data['Supertrend'] == True) &\n",
        "        (data['close'] > data['Supertrend_Line']) &\n",
        "        (data['MFI_Rising']) &\n",
        "        (data['MFI'] > 30) & (data['MFI'] < 80) &\n",
        "        (data['BBW_Rising']) &\n",
        "        (data['BBW_High']),\n",
        "        'signals'\n",
        "    ] = 1\n",
        "\n",
        "    ### LONG EXIT ###\n",
        "    data.loc[\n",
        "        (data['signals'].shift() == 1) &\n",
        "        (\n",
        "            (data['Supertrend'] == False) |\n",
        "            (data['close'] < data['Supertrend_Line']) |\n",
        "            ((data['MFI'] > 60) & (data['MFI_Falling'])) |\n",
        "            (data['MFI'].between(45, 55))\n",
        "        ),\n",
        "        'signals'\n",
        "    ] = -1\n",
        "\n",
        "    ### SHORT ENTRY ###\n",
        "    data.loc[\n",
        "        (data['Supertrend'] == False) &\n",
        "        (data['close'] < data['Supertrend_Line']) &\n",
        "        (data['MFI_Falling']) &\n",
        "        (data['MFI'] > 20) & (data['MFI'] < 80) &\n",
        "        (data['BBW_Rising']) &\n",
        "        (data['BBW_High']),\n",
        "        'signals'\n",
        "    ] = -1\n",
        "\n",
        "    ### SHORT EXIT ###\n",
        "    data.loc[\n",
        "        (data['signals'].shift() == -1) &\n",
        "        (\n",
        "            (data['Supertrend'] == True) |\n",
        "            (data['close'] > data['Supertrend_Line']) |\n",
        "            ((data['MFI'] < 40) & (data['MFI_Rising'])) |\n",
        "            (data['MFI'].between(45, 55))\n",
        "        ),\n",
        "        'signals'\n",
        "    ] = 1\n",
        "\n",
        "    # Clean redundant signals\n",
        "    remove_redundant_signals(data)\n",
        "    non_zero_signals = (data['signals'] != 0).sum()\n",
        "    print(\"Number of non-zero signals:\", non_zero_signals, \"\\n\")\n",
        "\n",
        "    return data"
      ]
    },
    {
      "cell_type": "code",
      "execution_count": 39,
      "metadata": {
        "colab": {
          "base_uri": "https://localhost:8080/",
          "height": 1000
        },
        "id": "3hNx1lhAmWQI",
        "outputId": "8899553d-c004-4ce5-d21d-7fbacc7ce92b"
      },
      "outputs": [
        {
          "name": "stdout",
          "output_type": "stream",
          "text": [
            "Number of non-zero signals: 35 \n",
            "\n",
            "BACKTEST RESULTS:\n",
            "Backtest Period: 0 years and 12 months\n",
            "Benchmark Returns: 24.01 %\n",
            "Initial Capital: 100000\n",
            "Final Capital: 127451.83\n",
            "Profit percentage: 27.45 %\n",
            "Leverage applied: 1\n",
            "Maximum Portfolio balance: 130027.83\n",
            "Minimum Portfolio balance: 100000.00\n",
            "Number of trades: 18\n",
            "Winning Trades: 10\n",
            "Losing Trades: 8\n",
            "Win Rate: 55.56 %\n",
            "Average Profit: 5511.75\n",
            "Average Loss: -3458.21\n",
            "No of Long Trades: 14\n",
            "No of Short Trades: 4\n",
            "Average drawdown: -4.99 %\n",
            "Maximum drawdown: -13.62 %\n",
            "Sharpe Ratio: 4.29\n",
            "Sortino Ratio: 8.63\n",
            "Maximum Holding Time: 41 days, 00:00:00\n",
            "Average Holding Time: 14 days, 16:00:00\n"
          ]
        },
        {
          "data": {
            "application/vnd.plotly.v1+json": {
              "config": {
                "plotlyServerURL": "https://plot.ly"
              },
              "data": [
                {
                  "line": {
                    "color": "green"
                  },
                  "mode": "lines",
                  "name": "Capital",
                  "type": "scatter",
                  "xaxis": "x",
                  "y": [
                    100000,
                    100058.6455078125,
                    112305,
                    111923.19775390625,
                    107193.25,
                    104485,
                    111305.65112304688,
                    123190.25366210938,
                    112400.25366210938,
                    106413.75366210938,
                    107577.75366210938,
                    107084.55834960938,
                    108594.16772460938,
                    113733.76538085938,
                    115492.97241210938,
                    115492.97241210938,
                    128785.82690429688,
                    130027.82690429688,
                    127451.82690429688
                  ],
                  "yaxis": "y"
                },
                {
                  "line": {
                    "color": "blue"
                  },
                  "mode": "lines",
                  "name": "Close Price",
                  "type": "scatter",
                  "x": [
                    "2024-06-03T00:00:00.000000000",
                    "2024-06-04T00:00:00.000000000",
                    "2024-06-05T00:00:00.000000000",
                    "2024-06-06T00:00:00.000000000",
                    "2024-06-07T00:00:00.000000000",
                    "2024-06-10T00:00:00.000000000",
                    "2024-06-11T00:00:00.000000000",
                    "2024-06-12T00:00:00.000000000",
                    "2024-06-13T00:00:00.000000000",
                    "2024-06-14T00:00:00.000000000",
                    "2024-06-18T00:00:00.000000000",
                    "2024-06-19T00:00:00.000000000",
                    "2024-06-20T00:00:00.000000000",
                    "2024-06-21T00:00:00.000000000",
                    "2024-06-24T00:00:00.000000000",
                    "2024-06-25T00:00:00.000000000",
                    "2024-06-26T00:00:00.000000000",
                    "2024-06-27T00:00:00.000000000",
                    "2024-06-28T00:00:00.000000000",
                    "2024-07-01T00:00:00.000000000",
                    "2024-07-02T00:00:00.000000000",
                    "2024-07-03T00:00:00.000000000",
                    "2024-07-04T00:00:00.000000000",
                    "2024-07-05T00:00:00.000000000",
                    "2024-07-08T00:00:00.000000000",
                    "2024-07-09T00:00:00.000000000",
                    "2024-07-10T00:00:00.000000000",
                    "2024-07-11T00:00:00.000000000",
                    "2024-07-12T00:00:00.000000000",
                    "2024-07-15T00:00:00.000000000",
                    "2024-07-16T00:00:00.000000000",
                    "2024-07-18T00:00:00.000000000",
                    "2024-07-19T00:00:00.000000000",
                    "2024-07-22T00:00:00.000000000",
                    "2024-07-23T00:00:00.000000000",
                    "2024-07-24T00:00:00.000000000",
                    "2024-07-25T00:00:00.000000000",
                    "2024-07-26T00:00:00.000000000",
                    "2024-07-29T00:00:00.000000000",
                    "2024-07-30T00:00:00.000000000",
                    "2024-07-31T00:00:00.000000000",
                    "2024-08-01T00:00:00.000000000",
                    "2024-08-02T00:00:00.000000000",
                    "2024-08-05T00:00:00.000000000",
                    "2024-08-06T00:00:00.000000000",
                    "2024-08-07T00:00:00.000000000",
                    "2024-08-08T00:00:00.000000000",
                    "2024-08-09T00:00:00.000000000",
                    "2024-08-12T00:00:00.000000000",
                    "2024-08-13T00:00:00.000000000",
                    "2024-08-14T00:00:00.000000000",
                    "2024-08-16T00:00:00.000000000",
                    "2024-08-19T00:00:00.000000000",
                    "2024-08-20T00:00:00.000000000",
                    "2024-08-21T00:00:00.000000000",
                    "2024-08-22T00:00:00.000000000",
                    "2024-08-23T00:00:00.000000000",
                    "2024-08-26T00:00:00.000000000",
                    "2024-08-27T00:00:00.000000000",
                    "2024-08-28T00:00:00.000000000",
                    "2024-08-29T00:00:00.000000000",
                    "2024-08-30T00:00:00.000000000",
                    "2024-09-02T00:00:00.000000000",
                    "2024-09-03T00:00:00.000000000",
                    "2024-09-04T00:00:00.000000000",
                    "2024-09-05T00:00:00.000000000",
                    "2024-09-06T00:00:00.000000000",
                    "2024-09-09T00:00:00.000000000",
                    "2024-09-10T00:00:00.000000000",
                    "2024-09-11T00:00:00.000000000",
                    "2024-09-12T00:00:00.000000000",
                    "2024-09-13T00:00:00.000000000",
                    "2024-09-16T00:00:00.000000000",
                    "2024-09-17T00:00:00.000000000",
                    "2024-09-18T00:00:00.000000000",
                    "2024-09-19T00:00:00.000000000",
                    "2024-09-20T00:00:00.000000000",
                    "2024-09-23T00:00:00.000000000",
                    "2024-09-24T00:00:00.000000000",
                    "2024-09-25T00:00:00.000000000",
                    "2024-09-26T00:00:00.000000000",
                    "2024-09-27T00:00:00.000000000",
                    "2024-09-30T00:00:00.000000000",
                    "2024-10-01T00:00:00.000000000",
                    "2024-10-03T00:00:00.000000000",
                    "2024-10-04T00:00:00.000000000",
                    "2024-10-07T00:00:00.000000000",
                    "2024-10-08T00:00:00.000000000",
                    "2024-10-09T00:00:00.000000000",
                    "2024-10-10T00:00:00.000000000",
                    "2024-10-11T00:00:00.000000000",
                    "2024-10-14T00:00:00.000000000",
                    "2024-10-15T00:00:00.000000000",
                    "2024-10-16T00:00:00.000000000",
                    "2024-10-17T00:00:00.000000000",
                    "2024-10-18T00:00:00.000000000",
                    "2024-10-21T00:00:00.000000000",
                    "2024-10-22T00:00:00.000000000",
                    "2024-10-23T00:00:00.000000000",
                    "2024-10-24T00:00:00.000000000",
                    "2024-10-25T00:00:00.000000000",
                    "2024-10-28T00:00:00.000000000",
                    "2024-10-29T00:00:00.000000000",
                    "2024-10-30T00:00:00.000000000",
                    "2024-10-31T00:00:00.000000000",
                    "2024-11-01T00:00:00.000000000",
                    "2024-11-04T00:00:00.000000000",
                    "2024-11-05T00:00:00.000000000",
                    "2024-11-06T00:00:00.000000000",
                    "2024-11-07T00:00:00.000000000",
                    "2024-11-08T00:00:00.000000000",
                    "2024-11-11T00:00:00.000000000",
                    "2024-11-12T00:00:00.000000000",
                    "2024-11-13T00:00:00.000000000",
                    "2024-11-14T00:00:00.000000000",
                    "2024-11-18T00:00:00.000000000",
                    "2024-11-19T00:00:00.000000000",
                    "2024-11-21T00:00:00.000000000",
                    "2024-11-22T00:00:00.000000000",
                    "2024-11-25T00:00:00.000000000",
                    "2024-11-26T00:00:00.000000000",
                    "2024-11-27T00:00:00.000000000",
                    "2024-11-28T00:00:00.000000000",
                    "2024-11-29T00:00:00.000000000",
                    "2024-12-02T00:00:00.000000000",
                    "2024-12-03T00:00:00.000000000",
                    "2024-12-04T00:00:00.000000000",
                    "2024-12-05T00:00:00.000000000",
                    "2024-12-06T00:00:00.000000000",
                    "2024-12-09T00:00:00.000000000",
                    "2024-12-10T00:00:00.000000000",
                    "2024-12-11T00:00:00.000000000",
                    "2024-12-12T00:00:00.000000000",
                    "2024-12-13T00:00:00.000000000",
                    "2024-12-16T00:00:00.000000000",
                    "2024-12-17T00:00:00.000000000",
                    "2024-12-18T00:00:00.000000000",
                    "2024-12-19T00:00:00.000000000",
                    "2024-12-20T00:00:00.000000000",
                    "2024-12-23T00:00:00.000000000",
                    "2024-12-24T00:00:00.000000000",
                    "2024-12-26T00:00:00.000000000",
                    "2024-12-27T00:00:00.000000000",
                    "2024-12-30T00:00:00.000000000",
                    "2024-12-31T00:00:00.000000000",
                    "2025-01-01T00:00:00.000000000",
                    "2025-01-02T00:00:00.000000000",
                    "2025-01-03T00:00:00.000000000",
                    "2025-01-06T00:00:00.000000000",
                    "2025-01-07T00:00:00.000000000",
                    "2025-01-08T00:00:00.000000000",
                    "2025-01-09T00:00:00.000000000",
                    "2025-01-10T00:00:00.000000000",
                    "2025-01-13T00:00:00.000000000",
                    "2025-01-14T00:00:00.000000000",
                    "2025-01-15T00:00:00.000000000",
                    "2025-01-16T00:00:00.000000000",
                    "2025-01-17T00:00:00.000000000",
                    "2025-01-20T00:00:00.000000000",
                    "2025-01-21T00:00:00.000000000",
                    "2025-01-22T00:00:00.000000000",
                    "2025-01-23T00:00:00.000000000",
                    "2025-01-24T00:00:00.000000000",
                    "2025-01-27T00:00:00.000000000",
                    "2025-01-28T00:00:00.000000000",
                    "2025-01-29T00:00:00.000000000",
                    "2025-01-30T00:00:00.000000000",
                    "2025-01-31T00:00:00.000000000",
                    "2025-02-01T00:00:00.000000000",
                    "2025-02-03T00:00:00.000000000",
                    "2025-02-04T00:00:00.000000000",
                    "2025-02-05T00:00:00.000000000",
                    "2025-02-06T00:00:00.000000000",
                    "2025-02-07T00:00:00.000000000",
                    "2025-02-10T00:00:00.000000000",
                    "2025-02-11T00:00:00.000000000",
                    "2025-02-12T00:00:00.000000000",
                    "2025-02-13T00:00:00.000000000",
                    "2025-02-14T00:00:00.000000000",
                    "2025-02-17T00:00:00.000000000",
                    "2025-02-18T00:00:00.000000000",
                    "2025-02-19T00:00:00.000000000",
                    "2025-02-20T00:00:00.000000000",
                    "2025-02-21T00:00:00.000000000",
                    "2025-02-24T00:00:00.000000000",
                    "2025-02-25T00:00:00.000000000",
                    "2025-02-27T00:00:00.000000000",
                    "2025-02-28T00:00:00.000000000",
                    "2025-03-03T00:00:00.000000000",
                    "2025-03-04T00:00:00.000000000",
                    "2025-03-05T00:00:00.000000000",
                    "2025-03-06T00:00:00.000000000",
                    "2025-03-07T00:00:00.000000000",
                    "2025-03-10T00:00:00.000000000",
                    "2025-03-11T00:00:00.000000000",
                    "2025-03-12T00:00:00.000000000",
                    "2025-03-13T00:00:00.000000000",
                    "2025-03-17T00:00:00.000000000",
                    "2025-03-18T00:00:00.000000000",
                    "2025-03-19T00:00:00.000000000",
                    "2025-03-20T00:00:00.000000000",
                    "2025-03-21T00:00:00.000000000",
                    "2025-03-24T00:00:00.000000000",
                    "2025-03-25T00:00:00.000000000",
                    "2025-03-26T00:00:00.000000000",
                    "2025-03-27T00:00:00.000000000",
                    "2025-03-28T00:00:00.000000000",
                    "2025-04-01T00:00:00.000000000",
                    "2025-04-02T00:00:00.000000000",
                    "2025-04-03T00:00:00.000000000",
                    "2025-04-04T00:00:00.000000000",
                    "2025-04-07T00:00:00.000000000",
                    "2025-04-08T00:00:00.000000000",
                    "2025-04-09T00:00:00.000000000",
                    "2025-04-11T00:00:00.000000000",
                    "2025-04-15T00:00:00.000000000",
                    "2025-04-16T00:00:00.000000000",
                    "2025-04-17T00:00:00.000000000",
                    "2025-04-21T00:00:00.000000000",
                    "2025-04-22T00:00:00.000000000",
                    "2025-04-23T00:00:00.000000000",
                    "2025-04-24T00:00:00.000000000",
                    "2025-04-25T00:00:00.000000000",
                    "2025-04-28T00:00:00.000000000",
                    "2025-04-29T00:00:00.000000000",
                    "2025-04-30T00:00:00.000000000",
                    "2025-05-02T00:00:00.000000000",
                    "2025-05-05T00:00:00.000000000",
                    "2025-05-06T00:00:00.000000000",
                    "2025-05-07T00:00:00.000000000",
                    "2025-05-08T00:00:00.000000000",
                    "2025-05-09T00:00:00.000000000",
                    "2025-05-12T00:00:00.000000000",
                    "2025-05-13T00:00:00.000000000",
                    "2025-05-14T00:00:00.000000000",
                    "2025-05-15T00:00:00.000000000",
                    "2025-05-16T00:00:00.000000000",
                    "2025-05-19T00:00:00.000000000",
                    "2025-05-20T00:00:00.000000000",
                    "2025-05-21T00:00:00.000000000",
                    "2025-05-22T00:00:00.000000000",
                    "2025-05-23T00:00:00.000000000",
                    "2025-05-26T00:00:00.000000000",
                    "2025-05-27T00:00:00.000000000",
                    "2025-05-28T00:00:00.000000000",
                    "2025-05-29T00:00:00.000000000",
                    "2025-05-30T00:00:00.000000000"
                  ],
                  "xaxis": "x2",
                  "y": {
                    "bdata": "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",
                    "dtype": "f8"
                  },
                  "yaxis": "y2"
                },
                {
                  "marker": {
                    "color": "green",
                    "size": 10,
                    "symbol": "triangle-up"
                  },
                  "mode": "markers",
                  "name": "Entry",
                  "type": "scatter",
                  "x": [
                    "2024-07-02T00:00:00",
                    "2024-08-13T00:00:00",
                    "2024-08-30T00:00:00",
                    "2024-09-04T00:00:00",
                    "2024-10-07T00:00:00",
                    "2024-10-25T00:00:00",
                    "2024-11-27T00:00:00",
                    "2024-12-27T00:00:00",
                    "2025-01-08T00:00:00",
                    "2025-02-03T00:00:00",
                    "2025-02-05T00:00:00",
                    "2025-02-07T00:00:00",
                    "2025-02-27T00:00:00",
                    "2025-03-10T00:00:00",
                    "2025-03-17T00:00:00",
                    "2025-03-19T00:00:00",
                    "2025-04-24T00:00:00",
                    "2025-05-20T00:00:00"
                  ],
                  "xaxis": "x2",
                  "y": [
                    4249.10009765625,
                    4227.39990234375,
                    4830,
                    4815,
                    4485.2001953125,
                    4366.10009765625,
                    4267.89990234375,
                    4681.9501953125,
                    4262.14990234375,
                    4393.7001953125,
                    4415.39990234375,
                    4364.5498046875,
                    4443.39990234375,
                    4627.5498046875,
                    4780.4501953125,
                    4980.5498046875,
                    5520.5,
                    5442
                  ],
                  "yaxis": "y2"
                },
                {
                  "marker": {
                    "color": "red",
                    "size": 10,
                    "symbol": "triangle-down"
                  },
                  "mode": "markers",
                  "name": "Exit",
                  "type": "scatter",
                  "x": [
                    "2024-08-12T00:00:00",
                    "2024-08-29T00:00:00",
                    "2024-09-03T00:00:00",
                    "2024-10-04T00:00:00",
                    "2024-10-08T00:00:00",
                    "2024-11-01T00:00:00",
                    "2024-12-26T00:00:00",
                    "2025-01-06T00:00:00",
                    "2025-02-01T00:00:00",
                    "2025-02-04T00:00:00",
                    "2025-02-06T00:00:00",
                    "2025-02-25T00:00:00",
                    "2025-03-07T00:00:00",
                    "2025-03-13T00:00:00",
                    "2025-03-18T00:00:00",
                    "2025-04-23T00:00:00",
                    "2025-05-19T00:00:00",
                    "2025-05-30T00:00:00"
                  ],
                  "xaxis": "x2",
                  "y": [
                    4251.64990234375,
                    4759.85009765625,
                    4813.39990234375,
                    4609.35009765625,
                    4602.9501953125,
                    4069.550048828125,
                    4725,
                    4266.9501953125,
                    4492.39990234375,
                    4345.2001953125,
                    4394.85009765625,
                    4427.4501953125,
                    4657.5498046875,
                    4700.85009765625,
                    4780.4501953125,
                    5558.5,
                    5574.5,
                    5330
                  ],
                  "yaxis": "y2"
                }
              ],
              "layout": {
                "annotations": [
                  {
                    "font": {
                      "size": 16
                    },
                    "showarrow": false,
                    "text": "Equity Curve",
                    "x": 0.5,
                    "xanchor": "center",
                    "xref": "paper",
                    "y": 1,
                    "yanchor": "bottom",
                    "yref": "paper"
                  },
                  {
                    "font": {
                      "size": 16
                    },
                    "showarrow": false,
                    "text": "Price Action with Entry and Exit Points",
                    "x": 0.5,
                    "xanchor": "center",
                    "xref": "paper",
                    "y": 0.45,
                    "yanchor": "bottom",
                    "yref": "paper"
                  }
                ],
                "height": 800,
                "showlegend": true,
                "template": {
                  "data": {
                    "bar": [
                      {
                        "error_x": {
                          "color": "#2a3f5f"
                        },
                        "error_y": {
                          "color": "#2a3f5f"
                        },
                        "marker": {
                          "line": {
                            "color": "white",
                            "width": 0.5
                          },
                          "pattern": {
                            "fillmode": "overlay",
                            "size": 10,
                            "solidity": 0.2
                          }
                        },
                        "type": "bar"
                      }
                    ],
                    "barpolar": [
                      {
                        "marker": {
                          "line": {
                            "color": "white",
                            "width": 0.5
                          },
                          "pattern": {
                            "fillmode": "overlay",
                            "size": 10,
                            "solidity": 0.2
                          }
                        },
                        "type": "barpolar"
                      }
                    ],
                    "carpet": [
                      {
                        "aaxis": {
                          "endlinecolor": "#2a3f5f",
                          "gridcolor": "#C8D4E3",
                          "linecolor": "#C8D4E3",
                          "minorgridcolor": "#C8D4E3",
                          "startlinecolor": "#2a3f5f"
                        },
                        "baxis": {
                          "endlinecolor": "#2a3f5f",
                          "gridcolor": "#C8D4E3",
                          "linecolor": "#C8D4E3",
                          "minorgridcolor": "#C8D4E3",
                          "startlinecolor": "#2a3f5f"
                        },
                        "type": "carpet"
                      }
                    ],
                    "choropleth": [
                      {
                        "colorbar": {
                          "outlinewidth": 0,
                          "ticks": ""
                        },
                        "type": "choropleth"
                      }
                    ],
                    "contour": [
                      {
                        "colorbar": {
                          "outlinewidth": 0,
                          "ticks": ""
                        },
                        "colorscale": [
                          [
                            0,
                            "#0d0887"
                          ],
                          [
                            0.1111111111111111,
                            "#46039f"
                          ],
                          [
                            0.2222222222222222,
                            "#7201a8"
                          ],
                          [
                            0.3333333333333333,
                            "#9c179e"
                          ],
                          [
                            0.4444444444444444,
                            "#bd3786"
                          ],
                          [
                            0.5555555555555556,
                            "#d8576b"
                          ],
                          [
                            0.6666666666666666,
                            "#ed7953"
                          ],
                          [
                            0.7777777777777778,
                            "#fb9f3a"
                          ],
                          [
                            0.8888888888888888,
                            "#fdca26"
                          ],
                          [
                            1,
                            "#f0f921"
                          ]
                        ],
                        "type": "contour"
                      }
                    ],
                    "contourcarpet": [
                      {
                        "colorbar": {
                          "outlinewidth": 0,
                          "ticks": ""
                        },
                        "type": "contourcarpet"
                      }
                    ],
                    "heatmap": [
                      {
                        "colorbar": {
                          "outlinewidth": 0,
                          "ticks": ""
                        },
                        "colorscale": [
                          [
                            0,
                            "#0d0887"
                          ],
                          [
                            0.1111111111111111,
                            "#46039f"
                          ],
                          [
                            0.2222222222222222,
                            "#7201a8"
                          ],
                          [
                            0.3333333333333333,
                            "#9c179e"
                          ],
                          [
                            0.4444444444444444,
                            "#bd3786"
                          ],
                          [
                            0.5555555555555556,
                            "#d8576b"
                          ],
                          [
                            0.6666666666666666,
                            "#ed7953"
                          ],
                          [
                            0.7777777777777778,
                            "#fb9f3a"
                          ],
                          [
                            0.8888888888888888,
                            "#fdca26"
                          ],
                          [
                            1,
                            "#f0f921"
                          ]
                        ],
                        "type": "heatmap"
                      }
                    ],
                    "histogram": [
                      {
                        "marker": {
                          "pattern": {
                            "fillmode": "overlay",
                            "size": 10,
                            "solidity": 0.2
                          }
                        },
                        "type": "histogram"
                      }
                    ],
                    "histogram2d": [
                      {
                        "colorbar": {
                          "outlinewidth": 0,
                          "ticks": ""
                        },
                        "colorscale": [
                          [
                            0,
                            "#0d0887"
                          ],
                          [
                            0.1111111111111111,
                            "#46039f"
                          ],
                          [
                            0.2222222222222222,
                            "#7201a8"
                          ],
                          [
                            0.3333333333333333,
                            "#9c179e"
                          ],
                          [
                            0.4444444444444444,
                            "#bd3786"
                          ],
                          [
                            0.5555555555555556,
                            "#d8576b"
                          ],
                          [
                            0.6666666666666666,
                            "#ed7953"
                          ],
                          [
                            0.7777777777777778,
                            "#fb9f3a"
                          ],
                          [
                            0.8888888888888888,
                            "#fdca26"
                          ],
                          [
                            1,
                            "#f0f921"
                          ]
                        ],
                        "type": "histogram2d"
                      }
                    ],
                    "histogram2dcontour": [
                      {
                        "colorbar": {
                          "outlinewidth": 0,
                          "ticks": ""
                        },
                        "colorscale": [
                          [
                            0,
                            "#0d0887"
                          ],
                          [
                            0.1111111111111111,
                            "#46039f"
                          ],
                          [
                            0.2222222222222222,
                            "#7201a8"
                          ],
                          [
                            0.3333333333333333,
                            "#9c179e"
                          ],
                          [
                            0.4444444444444444,
                            "#bd3786"
                          ],
                          [
                            0.5555555555555556,
                            "#d8576b"
                          ],
                          [
                            0.6666666666666666,
                            "#ed7953"
                          ],
                          [
                            0.7777777777777778,
                            "#fb9f3a"
                          ],
                          [
                            0.8888888888888888,
                            "#fdca26"
                          ],
                          [
                            1,
                            "#f0f921"
                          ]
                        ],
                        "type": "histogram2dcontour"
                      }
                    ],
                    "mesh3d": [
                      {
                        "colorbar": {
                          "outlinewidth": 0,
                          "ticks": ""
                        },
                        "type": "mesh3d"
                      }
                    ],
                    "parcoords": [
                      {
                        "line": {
                          "colorbar": {
                            "outlinewidth": 0,
                            "ticks": ""
                          }
                        },
                        "type": "parcoords"
                      }
                    ],
                    "pie": [
                      {
                        "automargin": true,
                        "type": "pie"
                      }
                    ],
                    "scatter": [
                      {
                        "fillpattern": {
                          "fillmode": "overlay",
                          "size": 10,
                          "solidity": 0.2
                        },
                        "type": "scatter"
                      }
                    ],
                    "scatter3d": [
                      {
                        "line": {
                          "colorbar": {
                            "outlinewidth": 0,
                            "ticks": ""
                          }
                        },
                        "marker": {
                          "colorbar": {
                            "outlinewidth": 0,
                            "ticks": ""
                          }
                        },
                        "type": "scatter3d"
                      }
                    ],
                    "scattercarpet": [
                      {
                        "marker": {
                          "colorbar": {
                            "outlinewidth": 0,
                            "ticks": ""
                          }
                        },
                        "type": "scattercarpet"
                      }
                    ],
                    "scattergeo": [
                      {
                        "marker": {
                          "colorbar": {
                            "outlinewidth": 0,
                            "ticks": ""
                          }
                        },
                        "type": "scattergeo"
                      }
                    ],
                    "scattergl": [
                      {
                        "marker": {
                          "colorbar": {
                            "outlinewidth": 0,
                            "ticks": ""
                          }
                        },
                        "type": "scattergl"
                      }
                    ],
                    "scattermap": [
                      {
                        "marker": {
                          "colorbar": {
                            "outlinewidth": 0,
                            "ticks": ""
                          }
                        },
                        "type": "scattermap"
                      }
                    ],
                    "scattermapbox": [
                      {
                        "marker": {
                          "colorbar": {
                            "outlinewidth": 0,
                            "ticks": ""
                          }
                        },
                        "type": "scattermapbox"
                      }
                    ],
                    "scatterpolar": [
                      {
                        "marker": {
                          "colorbar": {
                            "outlinewidth": 0,
                            "ticks": ""
                          }
                        },
                        "type": "scatterpolar"
                      }
                    ],
                    "scatterpolargl": [
                      {
                        "marker": {
                          "colorbar": {
                            "outlinewidth": 0,
                            "ticks": ""
                          }
                        },
                        "type": "scatterpolargl"
                      }
                    ],
                    "scatterternary": [
                      {
                        "marker": {
                          "colorbar": {
                            "outlinewidth": 0,
                            "ticks": ""
                          }
                        },
                        "type": "scatterternary"
                      }
                    ],
                    "surface": [
                      {
                        "colorbar": {
                          "outlinewidth": 0,
                          "ticks": ""
                        },
                        "colorscale": [
                          [
                            0,
                            "#0d0887"
                          ],
                          [
                            0.1111111111111111,
                            "#46039f"
                          ],
                          [
                            0.2222222222222222,
                            "#7201a8"
                          ],
                          [
                            0.3333333333333333,
                            "#9c179e"
                          ],
                          [
                            0.4444444444444444,
                            "#bd3786"
                          ],
                          [
                            0.5555555555555556,
                            "#d8576b"
                          ],
                          [
                            0.6666666666666666,
                            "#ed7953"
                          ],
                          [
                            0.7777777777777778,
                            "#fb9f3a"
                          ],
                          [
                            0.8888888888888888,
                            "#fdca26"
                          ],
                          [
                            1,
                            "#f0f921"
                          ]
                        ],
                        "type": "surface"
                      }
                    ],
                    "table": [
                      {
                        "cells": {
                          "fill": {
                            "color": "#EBF0F8"
                          },
                          "line": {
                            "color": "white"
                          }
                        },
                        "header": {
                          "fill": {
                            "color": "#C8D4E3"
                          },
                          "line": {
                            "color": "white"
                          }
                        },
                        "type": "table"
                      }
                    ]
                  },
                  "layout": {
                    "annotationdefaults": {
                      "arrowcolor": "#2a3f5f",
                      "arrowhead": 0,
                      "arrowwidth": 1
                    },
                    "autotypenumbers": "strict",
                    "coloraxis": {
                      "colorbar": {
                        "outlinewidth": 0,
                        "ticks": ""
                      }
                    },
                    "colorscale": {
                      "diverging": [
                        [
                          0,
                          "#8e0152"
                        ],
                        [
                          0.1,
                          "#c51b7d"
                        ],
                        [
                          0.2,
                          "#de77ae"
                        ],
                        [
                          0.3,
                          "#f1b6da"
                        ],
                        [
                          0.4,
                          "#fde0ef"
                        ],
                        [
                          0.5,
                          "#f7f7f7"
                        ],
                        [
                          0.6,
                          "#e6f5d0"
                        ],
                        [
                          0.7,
                          "#b8e186"
                        ],
                        [
                          0.8,
                          "#7fbc41"
                        ],
                        [
                          0.9,
                          "#4d9221"
                        ],
                        [
                          1,
                          "#276419"
                        ]
                      ],
                      "sequential": [
                        [
                          0,
                          "#0d0887"
                        ],
                        [
                          0.1111111111111111,
                          "#46039f"
                        ],
                        [
                          0.2222222222222222,
                          "#7201a8"
                        ],
                        [
                          0.3333333333333333,
                          "#9c179e"
                        ],
                        [
                          0.4444444444444444,
                          "#bd3786"
                        ],
                        [
                          0.5555555555555556,
                          "#d8576b"
                        ],
                        [
                          0.6666666666666666,
                          "#ed7953"
                        ],
                        [
                          0.7777777777777778,
                          "#fb9f3a"
                        ],
                        [
                          0.8888888888888888,
                          "#fdca26"
                        ],
                        [
                          1,
                          "#f0f921"
                        ]
                      ],
                      "sequentialminus": [
                        [
                          0,
                          "#0d0887"
                        ],
                        [
                          0.1111111111111111,
                          "#46039f"
                        ],
                        [
                          0.2222222222222222,
                          "#7201a8"
                        ],
                        [
                          0.3333333333333333,
                          "#9c179e"
                        ],
                        [
                          0.4444444444444444,
                          "#bd3786"
                        ],
                        [
                          0.5555555555555556,
                          "#d8576b"
                        ],
                        [
                          0.6666666666666666,
                          "#ed7953"
                        ],
                        [
                          0.7777777777777778,
                          "#fb9f3a"
                        ],
                        [
                          0.8888888888888888,
                          "#fdca26"
                        ],
                        [
                          1,
                          "#f0f921"
                        ]
                      ]
                    },
                    "colorway": [
                      "#636efa",
                      "#EF553B",
                      "#00cc96",
                      "#ab63fa",
                      "#FFA15A",
                      "#19d3f3",
                      "#FF6692",
                      "#B6E880",
                      "#FF97FF",
                      "#FECB52"
                    ],
                    "font": {
                      "color": "#2a3f5f"
                    },
                    "geo": {
                      "bgcolor": "white",
                      "lakecolor": "white",
                      "landcolor": "white",
                      "showlakes": true,
                      "showland": true,
                      "subunitcolor": "#C8D4E3"
                    },
                    "hoverlabel": {
                      "align": "left"
                    },
                    "hovermode": "closest",
                    "mapbox": {
                      "style": "light"
                    },
                    "paper_bgcolor": "white",
                    "plot_bgcolor": "white",
                    "polar": {
                      "angularaxis": {
                        "gridcolor": "#EBF0F8",
                        "linecolor": "#EBF0F8",
                        "ticks": ""
                      },
                      "bgcolor": "white",
                      "radialaxis": {
                        "gridcolor": "#EBF0F8",
                        "linecolor": "#EBF0F8",
                        "ticks": ""
                      }
                    },
                    "scene": {
                      "xaxis": {
                        "backgroundcolor": "white",
                        "gridcolor": "#DFE8F3",
                        "gridwidth": 2,
                        "linecolor": "#EBF0F8",
                        "showbackground": true,
                        "ticks": "",
                        "zerolinecolor": "#EBF0F8"
                      },
                      "yaxis": {
                        "backgroundcolor": "white",
                        "gridcolor": "#DFE8F3",
                        "gridwidth": 2,
                        "linecolor": "#EBF0F8",
                        "showbackground": true,
                        "ticks": "",
                        "zerolinecolor": "#EBF0F8"
                      },
                      "zaxis": {
                        "backgroundcolor": "white",
                        "gridcolor": "#DFE8F3",
                        "gridwidth": 2,
                        "linecolor": "#EBF0F8",
                        "showbackground": true,
                        "ticks": "",
                        "zerolinecolor": "#EBF0F8"
                      }
                    },
                    "shapedefaults": {
                      "line": {
                        "color": "#2a3f5f"
                      }
                    },
                    "ternary": {
                      "aaxis": {
                        "gridcolor": "#DFE8F3",
                        "linecolor": "#A2B1C6",
                        "ticks": ""
                      },
                      "baxis": {
                        "gridcolor": "#DFE8F3",
                        "linecolor": "#A2B1C6",
                        "ticks": ""
                      },
                      "bgcolor": "white",
                      "caxis": {
                        "gridcolor": "#DFE8F3",
                        "linecolor": "#A2B1C6",
                        "ticks": ""
                      }
                    },
                    "title": {
                      "x": 0.05
                    },
                    "xaxis": {
                      "automargin": true,
                      "gridcolor": "#EBF0F8",
                      "linecolor": "#EBF0F8",
                      "ticks": "",
                      "title": {
                        "standoff": 15
                      },
                      "zerolinecolor": "#EBF0F8",
                      "zerolinewidth": 2
                    },
                    "yaxis": {
                      "automargin": true,
                      "gridcolor": "#EBF0F8",
                      "linecolor": "#EBF0F8",
                      "ticks": "",
                      "title": {
                        "standoff": 15
                      },
                      "zerolinecolor": "#EBF0F8",
                      "zerolinewidth": 2
                    }
                  }
                },
                "title": {
                  "text": "Backtest Visualizations"
                },
                "xaxis": {
                  "anchor": "y",
                  "domain": [
                    0,
                    1
                  ],
                  "matches": "x2",
                  "showticklabels": false
                },
                "xaxis2": {
                  "anchor": "y2",
                  "domain": [
                    0,
                    1
                  ],
                  "title": {
                    "text": "Time"
                  }
                },
                "yaxis": {
                  "anchor": "x",
                  "domain": [
                    0.55,
                    1
                  ],
                  "title": {
                    "text": "Capital"
                  }
                },
                "yaxis2": {
                  "anchor": "x2",
                  "domain": [
                    0,
                    0.45
                  ],
                  "title": {
                    "text": "Price"
                  }
                }
              }
            }
          },
          "metadata": {},
          "output_type": "display_data"
        },
        {
          "data": {
            "text/html": [
              "<div>\n",
              "<style scoped>\n",
              "    .dataframe tbody tr th:only-of-type {\n",
              "        vertical-align: middle;\n",
              "    }\n",
              "\n",
              "    .dataframe tbody tr th {\n",
              "        vertical-align: top;\n",
              "    }\n",
              "\n",
              "    .dataframe thead th {\n",
              "        text-align: right;\n",
              "    }\n",
              "</style>\n",
              "<table border=\"1\" class=\"dataframe\">\n",
              "  <thead>\n",
              "    <tr style=\"text-align: right;\">\n",
              "      <th></th>\n",
              "      <th>Entry Candle</th>\n",
              "      <th>Exit Candle</th>\n",
              "      <th>PnL</th>\n",
              "      <th>Number of units</th>\n",
              "      <th>Trade type</th>\n",
              "    </tr>\n",
              "  </thead>\n",
              "  <tbody>\n",
              "    <tr>\n",
              "      <th>0</th>\n",
              "      <td>2024-07-02</td>\n",
              "      <td>2024-08-12</td>\n",
              "      <td>58.645508</td>\n",
              "      <td>23.0</td>\n",
              "      <td>Long</td>\n",
              "    </tr>\n",
              "    <tr>\n",
              "      <th>1</th>\n",
              "      <td>2024-08-13</td>\n",
              "      <td>2024-08-29</td>\n",
              "      <td>12246.354492</td>\n",
              "      <td>23.0</td>\n",
              "      <td>Long</td>\n",
              "    </tr>\n",
              "    <tr>\n",
              "      <th>2</th>\n",
              "      <td>2024-08-30</td>\n",
              "      <td>2024-09-03</td>\n",
              "      <td>-381.802246</td>\n",
              "      <td>23.0</td>\n",
              "      <td>Long</td>\n",
              "    </tr>\n",
              "    <tr>\n",
              "      <th>3</th>\n",
              "      <td>2024-09-04</td>\n",
              "      <td>2024-10-04</td>\n",
              "      <td>-4729.947754</td>\n",
              "      <td>23.0</td>\n",
              "      <td>Long</td>\n",
              "    </tr>\n",
              "    <tr>\n",
              "      <th>4</th>\n",
              "      <td>2024-10-07</td>\n",
              "      <td>2024-10-08</td>\n",
              "      <td>-2708.250000</td>\n",
              "      <td>23.0</td>\n",
              "      <td>Short</td>\n",
              "    </tr>\n",
              "    <tr>\n",
              "      <th>5</th>\n",
              "      <td>2024-10-25</td>\n",
              "      <td>2024-11-01</td>\n",
              "      <td>6820.651123</td>\n",
              "      <td>23.0</td>\n",
              "      <td>Short</td>\n",
              "    </tr>\n",
              "    <tr>\n",
              "      <th>6</th>\n",
              "      <td>2024-11-27</td>\n",
              "      <td>2024-12-26</td>\n",
              "      <td>11884.602539</td>\n",
              "      <td>26.0</td>\n",
              "      <td>Long</td>\n",
              "    </tr>\n",
              "    <tr>\n",
              "      <th>7</th>\n",
              "      <td>2024-12-27</td>\n",
              "      <td>2025-01-06</td>\n",
              "      <td>-10790.000000</td>\n",
              "      <td>26.0</td>\n",
              "      <td>Long</td>\n",
              "    </tr>\n",
              "    <tr>\n",
              "      <th>8</th>\n",
              "      <td>2025-01-08</td>\n",
              "      <td>2025-02-01</td>\n",
              "      <td>-5986.500000</td>\n",
              "      <td>26.0</td>\n",
              "      <td>Short</td>\n",
              "    </tr>\n",
              "    <tr>\n",
              "      <th>9</th>\n",
              "      <td>2025-02-03</td>\n",
              "      <td>2025-02-04</td>\n",
              "      <td>1164.000000</td>\n",
              "      <td>24.0</td>\n",
              "      <td>Short</td>\n",
              "    </tr>\n",
              "    <tr>\n",
              "      <th>10</th>\n",
              "      <td>2025-02-05</td>\n",
              "      <td>2025-02-06</td>\n",
              "      <td>-493.195312</td>\n",
              "      <td>24.0</td>\n",
              "      <td>Long</td>\n",
              "    </tr>\n",
              "    <tr>\n",
              "      <th>11</th>\n",
              "      <td>2025-02-07</td>\n",
              "      <td>2025-02-25</td>\n",
              "      <td>1509.609375</td>\n",
              "      <td>24.0</td>\n",
              "      <td>Long</td>\n",
              "    </tr>\n",
              "    <tr>\n",
              "      <th>12</th>\n",
              "      <td>2025-02-27</td>\n",
              "      <td>2025-03-07</td>\n",
              "      <td>5139.597656</td>\n",
              "      <td>24.0</td>\n",
              "      <td>Long</td>\n",
              "    </tr>\n",
              "    <tr>\n",
              "      <th>13</th>\n",
              "      <td>2025-03-10</td>\n",
              "      <td>2025-03-13</td>\n",
              "      <td>1759.207031</td>\n",
              "      <td>24.0</td>\n",
              "      <td>Long</td>\n",
              "    </tr>\n",
              "    <tr>\n",
              "      <th>14</th>\n",
              "      <td>2025-03-17</td>\n",
              "      <td>2025-03-18</td>\n",
              "      <td>0.000000</td>\n",
              "      <td>24.0</td>\n",
              "      <td>Long</td>\n",
              "    </tr>\n",
              "    <tr>\n",
              "      <th>15</th>\n",
              "      <td>2025-03-19</td>\n",
              "      <td>2025-04-23</td>\n",
              "      <td>13292.854492</td>\n",
              "      <td>23.0</td>\n",
              "      <td>Long</td>\n",
              "    </tr>\n",
              "    <tr>\n",
              "      <th>16</th>\n",
              "      <td>2025-04-24</td>\n",
              "      <td>2025-05-19</td>\n",
              "      <td>1242.000000</td>\n",
              "      <td>23.0</td>\n",
              "      <td>Long</td>\n",
              "    </tr>\n",
              "    <tr>\n",
              "      <th>17</th>\n",
              "      <td>2025-05-20</td>\n",
              "      <td>2025-05-30</td>\n",
              "      <td>-2576.000000</td>\n",
              "      <td>23.0</td>\n",
              "      <td>Long</td>\n",
              "    </tr>\n",
              "  </tbody>\n",
              "</table>\n",
              "</div>"
            ],
            "text/plain": [
              "   Entry Candle Exit Candle           PnL  Number of units Trade type\n",
              "0    2024-07-02  2024-08-12     58.645508             23.0       Long\n",
              "1    2024-08-13  2024-08-29  12246.354492             23.0       Long\n",
              "2    2024-08-30  2024-09-03   -381.802246             23.0       Long\n",
              "3    2024-09-04  2024-10-04  -4729.947754             23.0       Long\n",
              "4    2024-10-07  2024-10-08  -2708.250000             23.0      Short\n",
              "5    2024-10-25  2024-11-01   6820.651123             23.0      Short\n",
              "6    2024-11-27  2024-12-26  11884.602539             26.0       Long\n",
              "7    2024-12-27  2025-01-06 -10790.000000             26.0       Long\n",
              "8    2025-01-08  2025-02-01  -5986.500000             26.0      Short\n",
              "9    2025-02-03  2025-02-04   1164.000000             24.0      Short\n",
              "10   2025-02-05  2025-02-06   -493.195312             24.0       Long\n",
              "11   2025-02-07  2025-02-25   1509.609375             24.0       Long\n",
              "12   2025-02-27  2025-03-07   5139.597656             24.0       Long\n",
              "13   2025-03-10  2025-03-13   1759.207031             24.0       Long\n",
              "14   2025-03-17  2025-03-18      0.000000             24.0       Long\n",
              "15   2025-03-19  2025-04-23  13292.854492             23.0       Long\n",
              "16   2025-04-24  2025-05-19   1242.000000             23.0       Long\n",
              "17   2025-05-20  2025-05-30  -2576.000000             23.0       Long"
            ]
          },
          "execution_count": 39,
          "metadata": {},
          "output_type": "execute_result"
        }
      ],
      "source": [
        "# ---- Applying Strategy ----\n",
        "data = calculate_supertrend(data, period=14, multiplier=3)\n",
        "data = calculate_mfi(data, window=14)\n",
        "data = calculate_atr(data, window=14)\n",
        "data = strategy_Y(data)\n",
        "data.reset_index(inplace=True)\n",
        "dataframe = data[['timestamp', 'open','high','low','close','volume','signals']]\n",
        "perform_backtest(dataframe)"
      ]
    },
    {
      "cell_type": "markdown",
      "metadata": {
        "id": "P4tNSWOYs-Rz"
      },
      "source": [
        "### 5. Strategy Enhancements:\n"
      ]
    },
    {
      "cell_type": "markdown",
      "metadata": {
        "id": "y-3HzQ7Cv4SG"
      },
      "source": [
        "#### 1. Identifying market regimes"
      ]
    },
    {
      "cell_type": "code",
      "execution_count": 32,
      "metadata": {
        "id": "P2kKX3m_uZua"
      },
      "outputs": [],
      "source": [
        "\n",
        "fig = go.Figure(data=[\n",
        "    go.Candlestick(x=data.timestamp,\n",
        "                   open=data['open'],\n",
        "                   high=data['high'],\n",
        "                   low=data['low'],\n",
        "                   close=data['close'])\n",
        "              ])\n",
        "# fig.update_layout(title=f\"Candlestick Chart - {stock_symbol}\", xaxis_title='Date', yaxis_title='Price')\n",
        "# fig.show()"
      ]
    },
    {
      "cell_type": "code",
      "execution_count": 38,
      "metadata": {
        "colab": {
          "base_uri": "https://localhost:8080/",
          "height": 542
        },
        "id": "6gv4_cPuubG7",
        "outputId": "431cd677-91de-47d3-c2ee-393782dc45c8"
      },
      "outputs": [
        {
          "data": {
            "application/vnd.plotly.v1+json": {
              "config": {
                "plotlyServerURL": "https://plot.ly"
              },
              "data": [
                {
                  "close": {
                    "bdata": "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",
                    "dtype": "f8"
                  },
                  "high": {
                    "bdata": "AAAAAADksEAAAAAAAPSwQAAAAMDMC7FAAAAAAAAFsUAAAAAAADuxQAAAAMDMAbJAAAAAwEx6sUAAAABAsymxQAAAAGBm/LBAAAAAAADusEAAAADAzOiwQAAAAAAA5bBAAAAAoJmmsEAAAAAAwNuwQAAAAGCm+rBAAAAAAAD0sEAAAADAzKuwQAAAAKDZjLBAAAAAQPOosEAAAABAc7mwQAAAAKAZu7BAAAAAYGa9sEAAAAAAAOSwQAAAAAAA+bBAAAAAwMzksEAAAAAAAN+wQAAAAAAA2rBAAAAAAADqsEAAAABg5hCxQAAAAGDmSLFAAAAAwExksUAAAAAAAFyxQAAAAAAAQLFAAAAAAAADsUAAAABg5hGxQAAAAABALLFAAAAAYKZzsUAAAAAAAJ6xQAAAAAAAf7FAAAAAoNmvsUAAAAAAAKCxQAAAAKCZdLFAAAAAwMw3sUAAAAAAAMywQAAAAGAm8bBAAAAAAAD8sEAAAAAAAO+wQAAAAAAA3rBAAAAAAIC/sEAAAACg2d+wQAAAAAAAo7BAAAAAYObBsEAAAABg5uSwQAAAAABA3rBAAAAAAAAAsUAAAAAAAIqxQAAAAAAAcrJAAAAAwMyHskAAAABA85OyQAAAAMDMT7NAAAAAwMwPs0AAAAAAAAWzQAAAAEBzLLNAAAAAAADdskAAAABg5gCzQAAAAECz97JAAAAAYOYUs0AAAABAc9myQAAAAEDz7LJAAAAAoFk7s0AAAAAAAKuzQAAAAAAAlLNAAAAAAACBs0AAAADATGmzQAAAAKDZXbNAAAAAQPNvs0AAAACgmTSzQAAAAEDzVbNAAAAAAABRs0AAAABg5tiyQAAAAEDzDLNAAAAAAABds0AAAAAAAGCzQAAAAAAAM7NAAAAAAAABs0AAAABgZmmyQAAAAAAAKbJAAAAAYGYTskAAAABgJrWyQAAAAABAkrJAAAAAAABfskAAAAAAAGGyQAAAAECzqbJAAAAAAAC0skAAAAAAAHWyQAAAAAAAWbJAAAAAYCZjskAAAABA8wuyQAAAAMBM2LFAAAAAoJnjsUAAAABAc86xQAAAAAAAaLBAAAAAoBm4r0AAAADATBewQAAAAGDm7a9AAAAAQLMDsEAAAAAAANavQAAAAAAADq9AAAAAAADgr0AAAAAAAPWvQAAAAMBMyK9AAAAAYGafr0AAAADATJGvQAAAAGBmhK5AAAAAwMyfrkAAAABg5lyvQAAAAAAAErBAAAAAYObyr0AAAACg2TmwQAAAAKAZp7BAAAAAAADEsEAAAAAAAMKwQAAAAGBmIrFAAAAAAAAwsUAAAABAM1GxQAAAAMCMZ7FAAAAAAIBcsUAAAABA8x6xQAAAAAAAmbFAAAAAAACdsUAAAAAAAJWxQAAAAGCmibFAAAAAYCaDsUAAAABg5muxQAAAAGBmarFAAAAAYCZcsUAAAADAzD6xQAAAAAAAXLFAAAAAAACIsUAAAABA846xQAAAAGDmO7JAAAAAYGaAskAAAAAAAISyQAAAAKDZRrJAAAAAQLMVskAAAAAAABuyQAAAAAAAFrJAAAAAQPPTsUAAAABg5oOxQAAAAAAABLFAAAAAwEwAsUAAAABAc9OwQAAAAAAAy7BAAAAAQPMhsEAAAACgGXOvQAAAAECzObBAAAAAoJkvsEAAAAAAACiwQAAAAABARrBAAAAAQPMrsEAAAADATP2vQAAAAMAMYbBAAAAAwMytsEAAAACgGY6wQAAAAAAAzbBAAAAAAADVsEAAAABg5gGxQAAAAKDZ+LBAAAAAQPOksUAAAABA85KxQAAAAAAARLFAAAAAQPNNsUAAAAAAAJmxQAAAAAAAZ7FAAAAAAAAcsUAAAAAAACaxQAAAAAAAB7FAAAAAAAAwsUAAAAAAAB+xQAAAAAAA27BAAAAAAAADsUAAAAAAADqxQAAAAGBmrbFAAAAAAADBsUAAAAAAAN6xQAAAAGDmzrFAAAAAAACTsUAAAAAAAK2xQAAAAMCMjLFAAAAAAAADskAAAACgGXKyQAAAAEBzrrJAAAAAYKbPskAAAABAs2KyQAAAAAAAQ7JAAAAAYCaHskAAAADAjIiyQAAAAEDzurJAAAAAQHOsskAAAAAAwLyzQAAAAKBZRrRAAAAAwMz6s0AAAABAc9WzQAAAAGAmqLNAAAAAAADTs0AAAAAAAB20QAAAAMDMOLRAAAAAQPMMtEAAAAAAwNqzQAAAAAAA3bNAAAAAAAAetEAAAABgJpizQAAAAAAAUbRAAAAAAACRtEAAAACgWXK0QAAAAAAA47RAAAAAAACltEAAAAAAABi1QAAAAACAjbVAAAAAAAARtkAAAAAAAMK1QAAAAAAAx7VAAAAAAACStUAAAAAAAAO1QAAAAACARrVAAAAAAIDItEAAAAAAgAq1QAAAAAAA2LVAAAAAAIDBtUAAAAAAgPG0QAAAAAAA+LRAAAAAAIADtEAAAAAAAN21QAAAAAAAqbVAAAAAAACftUAAAAAAANu1QAAAAAAAAbZAAAAAAIAhtkAAAAAAAOi1QAAAAACAarVAAAAAAAC9tUAAAAAAAKm1QAAAAAAAurVAAAAAAADQtEAAAAAAAOu0QAAAAAAA4LRAAAAAAIARtUA=",
                    "dtype": "f8"
                  },
                  "low": {
                    "bdata": "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",
                    "dtype": "f8"
                  },
                  "open": {
                    "bdata": "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",
                    "dtype": "f8"
                  },
                  "type": "candlestick",
                  "x": [
                    "2024-06-03T00:00:00.000000000",
                    "2024-06-04T00:00:00.000000000",
                    "2024-06-05T00:00:00.000000000",
                    "2024-06-06T00:00:00.000000000",
                    "2024-06-07T00:00:00.000000000",
                    "2024-06-10T00:00:00.000000000",
                    "2024-06-11T00:00:00.000000000",
                    "2024-06-12T00:00:00.000000000",
                    "2024-06-13T00:00:00.000000000",
                    "2024-06-14T00:00:00.000000000",
                    "2024-06-18T00:00:00.000000000",
                    "2024-06-19T00:00:00.000000000",
                    "2024-06-20T00:00:00.000000000",
                    "2024-06-21T00:00:00.000000000",
                    "2024-06-24T00:00:00.000000000",
                    "2024-06-25T00:00:00.000000000",
                    "2024-06-26T00:00:00.000000000",
                    "2024-06-27T00:00:00.000000000",
                    "2024-06-28T00:00:00.000000000",
                    "2024-07-01T00:00:00.000000000",
                    "2024-07-02T00:00:00.000000000",
                    "2024-07-03T00:00:00.000000000",
                    "2024-07-04T00:00:00.000000000",
                    "2024-07-05T00:00:00.000000000",
                    "2024-07-08T00:00:00.000000000",
                    "2024-07-09T00:00:00.000000000",
                    "2024-07-10T00:00:00.000000000",
                    "2024-07-11T00:00:00.000000000",
                    "2024-07-12T00:00:00.000000000",
                    "2024-07-15T00:00:00.000000000",
                    "2024-07-16T00:00:00.000000000",
                    "2024-07-18T00:00:00.000000000",
                    "2024-07-19T00:00:00.000000000",
                    "2024-07-22T00:00:00.000000000",
                    "2024-07-23T00:00:00.000000000",
                    "2024-07-24T00:00:00.000000000",
                    "2024-07-25T00:00:00.000000000",
                    "2024-07-26T00:00:00.000000000",
                    "2024-07-29T00:00:00.000000000",
                    "2024-07-30T00:00:00.000000000",
                    "2024-07-31T00:00:00.000000000",
                    "2024-08-01T00:00:00.000000000",
                    "2024-08-02T00:00:00.000000000",
                    "2024-08-05T00:00:00.000000000",
                    "2024-08-06T00:00:00.000000000",
                    "2024-08-07T00:00:00.000000000",
                    "2024-08-08T00:00:00.000000000",
                    "2024-08-09T00:00:00.000000000",
                    "2024-08-12T00:00:00.000000000",
                    "2024-08-13T00:00:00.000000000",
                    "2024-08-14T00:00:00.000000000",
                    "2024-08-16T00:00:00.000000000",
                    "2024-08-19T00:00:00.000000000",
                    "2024-08-20T00:00:00.000000000",
                    "2024-08-21T00:00:00.000000000",
                    "2024-08-22T00:00:00.000000000",
                    "2024-08-23T00:00:00.000000000",
                    "2024-08-26T00:00:00.000000000",
                    "2024-08-27T00:00:00.000000000",
                    "2024-08-28T00:00:00.000000000",
                    "2024-08-29T00:00:00.000000000",
                    "2024-08-30T00:00:00.000000000",
                    "2024-09-02T00:00:00.000000000",
                    "2024-09-03T00:00:00.000000000",
                    "2024-09-04T00:00:00.000000000",
                    "2024-09-05T00:00:00.000000000",
                    "2024-09-06T00:00:00.000000000",
                    "2024-09-09T00:00:00.000000000",
                    "2024-09-10T00:00:00.000000000",
                    "2024-09-11T00:00:00.000000000",
                    "2024-09-12T00:00:00.000000000",
                    "2024-09-13T00:00:00.000000000",
                    "2024-09-16T00:00:00.000000000",
                    "2024-09-17T00:00:00.000000000",
                    "2024-09-18T00:00:00.000000000",
                    "2024-09-19T00:00:00.000000000",
                    "2024-09-20T00:00:00.000000000",
                    "2024-09-23T00:00:00.000000000",
                    "2024-09-24T00:00:00.000000000",
                    "2024-09-25T00:00:00.000000000",
                    "2024-09-26T00:00:00.000000000",
                    "2024-09-27T00:00:00.000000000",
                    "2024-09-30T00:00:00.000000000",
                    "2024-10-01T00:00:00.000000000",
                    "2024-10-03T00:00:00.000000000",
                    "2024-10-04T00:00:00.000000000",
                    "2024-10-07T00:00:00.000000000",
                    "2024-10-08T00:00:00.000000000",
                    "2024-10-09T00:00:00.000000000",
                    "2024-10-10T00:00:00.000000000",
                    "2024-10-11T00:00:00.000000000",
                    "2024-10-14T00:00:00.000000000",
                    "2024-10-15T00:00:00.000000000",
                    "2024-10-16T00:00:00.000000000",
                    "2024-10-17T00:00:00.000000000",
                    "2024-10-18T00:00:00.000000000",
                    "2024-10-21T00:00:00.000000000",
                    "2024-10-22T00:00:00.000000000",
                    "2024-10-23T00:00:00.000000000",
                    "2024-10-24T00:00:00.000000000",
                    "2024-10-25T00:00:00.000000000",
                    "2024-10-28T00:00:00.000000000",
                    "2024-10-29T00:00:00.000000000",
                    "2024-10-30T00:00:00.000000000",
                    "2024-10-31T00:00:00.000000000",
                    "2024-11-01T00:00:00.000000000",
                    "2024-11-04T00:00:00.000000000",
                    "2024-11-05T00:00:00.000000000",
                    "2024-11-06T00:00:00.000000000",
                    "2024-11-07T00:00:00.000000000",
                    "2024-11-08T00:00:00.000000000",
                    "2024-11-11T00:00:00.000000000",
                    "2024-11-12T00:00:00.000000000",
                    "2024-11-13T00:00:00.000000000",
                    "2024-11-14T00:00:00.000000000",
                    "2024-11-18T00:00:00.000000000",
                    "2024-11-19T00:00:00.000000000",
                    "2024-11-21T00:00:00.000000000",
                    "2024-11-22T00:00:00.000000000",
                    "2024-11-25T00:00:00.000000000",
                    "2024-11-26T00:00:00.000000000",
                    "2024-11-27T00:00:00.000000000",
                    "2024-11-28T00:00:00.000000000",
                    "2024-11-29T00:00:00.000000000",
                    "2024-12-02T00:00:00.000000000",
                    "2024-12-03T00:00:00.000000000",
                    "2024-12-04T00:00:00.000000000",
                    "2024-12-05T00:00:00.000000000",
                    "2024-12-06T00:00:00.000000000",
                    "2024-12-09T00:00:00.000000000",
                    "2024-12-10T00:00:00.000000000",
                    "2024-12-11T00:00:00.000000000",
                    "2024-12-12T00:00:00.000000000",
                    "2024-12-13T00:00:00.000000000",
                    "2024-12-16T00:00:00.000000000",
                    "2024-12-17T00:00:00.000000000",
                    "2024-12-18T00:00:00.000000000",
                    "2024-12-19T00:00:00.000000000",
                    "2024-12-20T00:00:00.000000000",
                    "2024-12-23T00:00:00.000000000",
                    "2024-12-24T00:00:00.000000000",
                    "2024-12-26T00:00:00.000000000",
                    "2024-12-27T00:00:00.000000000",
                    "2024-12-30T00:00:00.000000000",
                    "2024-12-31T00:00:00.000000000",
                    "2025-01-01T00:00:00.000000000",
                    "2025-01-02T00:00:00.000000000",
                    "2025-01-03T00:00:00.000000000",
                    "2025-01-06T00:00:00.000000000",
                    "2025-01-07T00:00:00.000000000",
                    "2025-01-08T00:00:00.000000000",
                    "2025-01-09T00:00:00.000000000",
                    "2025-01-10T00:00:00.000000000",
                    "2025-01-13T00:00:00.000000000",
                    "2025-01-14T00:00:00.000000000",
                    "2025-01-15T00:00:00.000000000",
                    "2025-01-16T00:00:00.000000000",
                    "2025-01-17T00:00:00.000000000",
                    "2025-01-20T00:00:00.000000000",
                    "2025-01-21T00:00:00.000000000",
                    "2025-01-22T00:00:00.000000000",
                    "2025-01-23T00:00:00.000000000",
                    "2025-01-24T00:00:00.000000000",
                    "2025-01-27T00:00:00.000000000",
                    "2025-01-28T00:00:00.000000000",
                    "2025-01-29T00:00:00.000000000",
                    "2025-01-30T00:00:00.000000000",
                    "2025-01-31T00:00:00.000000000",
                    "2025-02-01T00:00:00.000000000",
                    "2025-02-03T00:00:00.000000000",
                    "2025-02-04T00:00:00.000000000",
                    "2025-02-05T00:00:00.000000000",
                    "2025-02-06T00:00:00.000000000",
                    "2025-02-07T00:00:00.000000000",
                    "2025-02-10T00:00:00.000000000",
                    "2025-02-11T00:00:00.000000000",
                    "2025-02-12T00:00:00.000000000",
                    "2025-02-13T00:00:00.000000000",
                    "2025-02-14T00:00:00.000000000",
                    "2025-02-17T00:00:00.000000000",
                    "2025-02-18T00:00:00.000000000",
                    "2025-02-19T00:00:00.000000000",
                    "2025-02-20T00:00:00.000000000",
                    "2025-02-21T00:00:00.000000000",
                    "2025-02-24T00:00:00.000000000",
                    "2025-02-25T00:00:00.000000000",
                    "2025-02-27T00:00:00.000000000",
                    "2025-02-28T00:00:00.000000000",
                    "2025-03-03T00:00:00.000000000",
                    "2025-03-04T00:00:00.000000000",
                    "2025-03-05T00:00:00.000000000",
                    "2025-03-06T00:00:00.000000000",
                    "2025-03-07T00:00:00.000000000",
                    "2025-03-10T00:00:00.000000000",
                    "2025-03-11T00:00:00.000000000",
                    "2025-03-12T00:00:00.000000000",
                    "2025-03-13T00:00:00.000000000",
                    "2025-03-17T00:00:00.000000000",
                    "2025-03-18T00:00:00.000000000",
                    "2025-03-19T00:00:00.000000000",
                    "2025-03-20T00:00:00.000000000",
                    "2025-03-21T00:00:00.000000000",
                    "2025-03-24T00:00:00.000000000",
                    "2025-03-25T00:00:00.000000000",
                    "2025-03-26T00:00:00.000000000",
                    "2025-03-27T00:00:00.000000000",
                    "2025-03-28T00:00:00.000000000",
                    "2025-04-01T00:00:00.000000000",
                    "2025-04-02T00:00:00.000000000",
                    "2025-04-03T00:00:00.000000000",
                    "2025-04-04T00:00:00.000000000",
                    "2025-04-07T00:00:00.000000000",
                    "2025-04-08T00:00:00.000000000",
                    "2025-04-09T00:00:00.000000000",
                    "2025-04-11T00:00:00.000000000",
                    "2025-04-15T00:00:00.000000000",
                    "2025-04-16T00:00:00.000000000",
                    "2025-04-17T00:00:00.000000000",
                    "2025-04-21T00:00:00.000000000",
                    "2025-04-22T00:00:00.000000000",
                    "2025-04-23T00:00:00.000000000",
                    "2025-04-24T00:00:00.000000000",
                    "2025-04-25T00:00:00.000000000",
                    "2025-04-28T00:00:00.000000000",
                    "2025-04-29T00:00:00.000000000",
                    "2025-04-30T00:00:00.000000000",
                    "2025-05-02T00:00:00.000000000",
                    "2025-05-05T00:00:00.000000000",
                    "2025-05-06T00:00:00.000000000",
                    "2025-05-07T00:00:00.000000000",
                    "2025-05-08T00:00:00.000000000",
                    "2025-05-09T00:00:00.000000000",
                    "2025-05-12T00:00:00.000000000",
                    "2025-05-13T00:00:00.000000000",
                    "2025-05-14T00:00:00.000000000",
                    "2025-05-15T00:00:00.000000000",
                    "2025-05-16T00:00:00.000000000",
                    "2025-05-19T00:00:00.000000000",
                    "2025-05-20T00:00:00.000000000",
                    "2025-05-21T00:00:00.000000000",
                    "2025-05-22T00:00:00.000000000",
                    "2025-05-23T00:00:00.000000000",
                    "2025-05-26T00:00:00.000000000",
                    "2025-05-27T00:00:00.000000000",
                    "2025-05-28T00:00:00.000000000",
                    "2025-05-29T00:00:00.000000000",
                    "2025-05-30T00:00:00.000000000"
                  ]
                }
              ],
              "layout": {
                "annotations": [
                  {
                    "bgcolor": "yellow",
                    "font": {
                      "color": "black",
                      "size": 12
                    },
                    "opacity": 0.5,
                    "showarrow": false,
                    "text": "Sideways",
                    "x": "2024-06-30",
                    "y": 5665.5
                  },
                  {
                    "bgcolor": "lightgreen",
                    "font": {
                      "color": "black",
                      "size": 12
                    },
                    "opacity": 0.5,
                    "showarrow": false,
                    "text": "Trending",
                    "x": "2025-03-10",
                    "y": 5665.5
                  },
                  {
                    "bgcolor": "yellow",
                    "font": {
                      "color": "black",
                      "size": 12
                    },
                    "opacity": 0.5,
                    "showarrow": false,
                    "text": "Sideways",
                    "x": "2024-06-30",
                    "y": 5665.5
                  },
                  {
                    "bgcolor": "lightgreen",
                    "font": {
                      "color": "black",
                      "size": 12
                    },
                    "opacity": 0.5,
                    "showarrow": false,
                    "text": "Trending",
                    "x": "2025-03-10",
                    "y": 5665.5
                  },
                  {
                    "bgcolor": "yellow",
                    "font": {
                      "color": "black",
                      "size": 12
                    },
                    "opacity": 0.5,
                    "showarrow": false,
                    "text": "Sideways",
                    "x": "2024-06-30",
                    "y": 5665.5
                  },
                  {
                    "bgcolor": "lightgreen",
                    "font": {
                      "color": "black",
                      "size": 12
                    },
                    "opacity": 0.5,
                    "showarrow": false,
                    "text": "Trending",
                    "x": "2025-03-10",
                    "y": 5665.5
                  },
                  {
                    "bgcolor": "yellow",
                    "font": {
                      "color": "black",
                      "size": 12
                    },
                    "opacity": 0.5,
                    "showarrow": false,
                    "text": "Sideways",
                    "x": "2024-06-30",
                    "y": 5665.5
                  },
                  {
                    "bgcolor": "lightgreen",
                    "font": {
                      "color": "black",
                      "size": 12
                    },
                    "opacity": 0.5,
                    "showarrow": false,
                    "text": "Trending",
                    "x": "2025-03-10",
                    "y": 5665.5
                  },
                  {
                    "bgcolor": "yellow",
                    "font": {
                      "color": "black",
                      "size": 12
                    },
                    "opacity": 0.5,
                    "showarrow": false,
                    "text": "Sideways",
                    "x": "2024-06-30",
                    "y": 5665.5
                  },
                  {
                    "bgcolor": "lightgreen",
                    "font": {
                      "color": "black",
                      "size": 12
                    },
                    "opacity": 0.5,
                    "showarrow": false,
                    "text": "Trending",
                    "x": "2025-03-10",
                    "y": 5665.5
                  }
                ],
                "shapes": [
                  {
                    "fillcolor": "yellow",
                    "layer": "below",
                    "line": {
                      "width": 0
                    },
                    "opacity": 0.3,
                    "type": "rect",
                    "x0": "2024-06-10",
                    "x1": "2024-07-30",
                    "xref": "x",
                    "y0": 0,
                    "y1": 1,
                    "yref": "y domain"
                  },
                  {
                    "fillcolor": "lightgreen",
                    "layer": "below",
                    "line": {
                      "width": 0
                    },
                    "opacity": 0.3,
                    "type": "rect",
                    "x0": "2025-02-14",
                    "x1": "2025-04-24",
                    "xref": "x",
                    "y0": 0,
                    "y1": 1,
                    "yref": "y domain"
                  },
                  {
                    "fillcolor": "yellow",
                    "layer": "below",
                    "line": {
                      "width": 0
                    },
                    "opacity": 0.3,
                    "type": "rect",
                    "x0": "2024-06-10",
                    "x1": "2024-07-30",
                    "xref": "x",
                    "y0": 0,
                    "y1": 1,
                    "yref": "y domain"
                  },
                  {
                    "fillcolor": "lightgreen",
                    "layer": "below",
                    "line": {
                      "width": 0
                    },
                    "opacity": 0.3,
                    "type": "rect",
                    "x0": "2025-02-14",
                    "x1": "2025-04-24",
                    "xref": "x",
                    "y0": 0,
                    "y1": 1,
                    "yref": "y domain"
                  },
                  {
                    "fillcolor": "yellow",
                    "layer": "below",
                    "line": {
                      "width": 0
                    },
                    "opacity": 0.3,
                    "type": "rect",
                    "x0": "2024-06-10",
                    "x1": "2024-07-30",
                    "xref": "x",
                    "y0": 0,
                    "y1": 1,
                    "yref": "y domain"
                  },
                  {
                    "fillcolor": "lightgreen",
                    "layer": "below",
                    "line": {
                      "width": 0
                    },
                    "opacity": 0.3,
                    "type": "rect",
                    "x0": "2025-02-14",
                    "x1": "2025-04-24",
                    "xref": "x",
                    "y0": 0,
                    "y1": 1,
                    "yref": "y domain"
                  },
                  {
                    "fillcolor": "yellow",
                    "layer": "below",
                    "line": {
                      "width": 0
                    },
                    "opacity": 0.3,
                    "type": "rect",
                    "x0": "2024-06-10",
                    "x1": "2024-07-30",
                    "xref": "x",
                    "y0": 0,
                    "y1": 1,
                    "yref": "y domain"
                  },
                  {
                    "fillcolor": "lightgreen",
                    "layer": "below",
                    "line": {
                      "width": 0
                    },
                    "opacity": 0.3,
                    "type": "rect",
                    "x0": "2025-02-14",
                    "x1": "2025-04-24",
                    "xref": "x",
                    "y0": 0,
                    "y1": 1,
                    "yref": "y domain"
                  },
                  {
                    "fillcolor": "yellow",
                    "layer": "below",
                    "line": {
                      "width": 0
                    },
                    "opacity": 0.3,
                    "type": "rect",
                    "x0": "2024-06-10",
                    "x1": "2024-07-30",
                    "xref": "x",
                    "y0": 0,
                    "y1": 1,
                    "yref": "y domain"
                  },
                  {
                    "fillcolor": "lightgreen",
                    "layer": "below",
                    "line": {
                      "width": 0
                    },
                    "opacity": 0.3,
                    "type": "rect",
                    "x0": "2025-02-14",
                    "x1": "2025-04-24",
                    "xref": "x",
                    "y0": 0,
                    "y1": 1,
                    "yref": "y domain"
                  }
                ],
                "template": {
                  "data": {
                    "bar": [
                      {
                        "error_x": {
                          "color": "#2a3f5f"
                        },
                        "error_y": {
                          "color": "#2a3f5f"
                        },
                        "marker": {
                          "line": {
                            "color": "#E5ECF6",
                            "width": 0.5
                          },
                          "pattern": {
                            "fillmode": "overlay",
                            "size": 10,
                            "solidity": 0.2
                          }
                        },
                        "type": "bar"
                      }
                    ],
                    "barpolar": [
                      {
                        "marker": {
                          "line": {
                            "color": "#E5ECF6",
                            "width": 0.5
                          },
                          "pattern": {
                            "fillmode": "overlay",
                            "size": 10,
                            "solidity": 0.2
                          }
                        },
                        "type": "barpolar"
                      }
                    ],
                    "carpet": [
                      {
                        "aaxis": {
                          "endlinecolor": "#2a3f5f",
                          "gridcolor": "white",
                          "linecolor": "white",
                          "minorgridcolor": "white",
                          "startlinecolor": "#2a3f5f"
                        },
                        "baxis": {
                          "endlinecolor": "#2a3f5f",
                          "gridcolor": "white",
                          "linecolor": "white",
                          "minorgridcolor": "white",
                          "startlinecolor": "#2a3f5f"
                        },
                        "type": "carpet"
                      }
                    ],
                    "choropleth": [
                      {
                        "colorbar": {
                          "outlinewidth": 0,
                          "ticks": ""
                        },
                        "type": "choropleth"
                      }
                    ],
                    "contour": [
                      {
                        "colorbar": {
                          "outlinewidth": 0,
                          "ticks": ""
                        },
                        "colorscale": [
                          [
                            0,
                            "#0d0887"
                          ],
                          [
                            0.1111111111111111,
                            "#46039f"
                          ],
                          [
                            0.2222222222222222,
                            "#7201a8"
                          ],
                          [
                            0.3333333333333333,
                            "#9c179e"
                          ],
                          [
                            0.4444444444444444,
                            "#bd3786"
                          ],
                          [
                            0.5555555555555556,
                            "#d8576b"
                          ],
                          [
                            0.6666666666666666,
                            "#ed7953"
                          ],
                          [
                            0.7777777777777778,
                            "#fb9f3a"
                          ],
                          [
                            0.8888888888888888,
                            "#fdca26"
                          ],
                          [
                            1,
                            "#f0f921"
                          ]
                        ],
                        "type": "contour"
                      }
                    ],
                    "contourcarpet": [
                      {
                        "colorbar": {
                          "outlinewidth": 0,
                          "ticks": ""
                        },
                        "type": "contourcarpet"
                      }
                    ],
                    "heatmap": [
                      {
                        "colorbar": {
                          "outlinewidth": 0,
                          "ticks": ""
                        },
                        "colorscale": [
                          [
                            0,
                            "#0d0887"
                          ],
                          [
                            0.1111111111111111,
                            "#46039f"
                          ],
                          [
                            0.2222222222222222,
                            "#7201a8"
                          ],
                          [
                            0.3333333333333333,
                            "#9c179e"
                          ],
                          [
                            0.4444444444444444,
                            "#bd3786"
                          ],
                          [
                            0.5555555555555556,
                            "#d8576b"
                          ],
                          [
                            0.6666666666666666,
                            "#ed7953"
                          ],
                          [
                            0.7777777777777778,
                            "#fb9f3a"
                          ],
                          [
                            0.8888888888888888,
                            "#fdca26"
                          ],
                          [
                            1,
                            "#f0f921"
                          ]
                        ],
                        "type": "heatmap"
                      }
                    ],
                    "histogram": [
                      {
                        "marker": {
                          "pattern": {
                            "fillmode": "overlay",
                            "size": 10,
                            "solidity": 0.2
                          }
                        },
                        "type": "histogram"
                      }
                    ],
                    "histogram2d": [
                      {
                        "colorbar": {
                          "outlinewidth": 0,
                          "ticks": ""
                        },
                        "colorscale": [
                          [
                            0,
                            "#0d0887"
                          ],
                          [
                            0.1111111111111111,
                            "#46039f"
                          ],
                          [
                            0.2222222222222222,
                            "#7201a8"
                          ],
                          [
                            0.3333333333333333,
                            "#9c179e"
                          ],
                          [
                            0.4444444444444444,
                            "#bd3786"
                          ],
                          [
                            0.5555555555555556,
                            "#d8576b"
                          ],
                          [
                            0.6666666666666666,
                            "#ed7953"
                          ],
                          [
                            0.7777777777777778,
                            "#fb9f3a"
                          ],
                          [
                            0.8888888888888888,
                            "#fdca26"
                          ],
                          [
                            1,
                            "#f0f921"
                          ]
                        ],
                        "type": "histogram2d"
                      }
                    ],
                    "histogram2dcontour": [
                      {
                        "colorbar": {
                          "outlinewidth": 0,
                          "ticks": ""
                        },
                        "colorscale": [
                          [
                            0,
                            "#0d0887"
                          ],
                          [
                            0.1111111111111111,
                            "#46039f"
                          ],
                          [
                            0.2222222222222222,
                            "#7201a8"
                          ],
                          [
                            0.3333333333333333,
                            "#9c179e"
                          ],
                          [
                            0.4444444444444444,
                            "#bd3786"
                          ],
                          [
                            0.5555555555555556,
                            "#d8576b"
                          ],
                          [
                            0.6666666666666666,
                            "#ed7953"
                          ],
                          [
                            0.7777777777777778,
                            "#fb9f3a"
                          ],
                          [
                            0.8888888888888888,
                            "#fdca26"
                          ],
                          [
                            1,
                            "#f0f921"
                          ]
                        ],
                        "type": "histogram2dcontour"
                      }
                    ],
                    "mesh3d": [
                      {
                        "colorbar": {
                          "outlinewidth": 0,
                          "ticks": ""
                        },
                        "type": "mesh3d"
                      }
                    ],
                    "parcoords": [
                      {
                        "line": {
                          "colorbar": {
                            "outlinewidth": 0,
                            "ticks": ""
                          }
                        },
                        "type": "parcoords"
                      }
                    ],
                    "pie": [
                      {
                        "automargin": true,
                        "type": "pie"
                      }
                    ],
                    "scatter": [
                      {
                        "fillpattern": {
                          "fillmode": "overlay",
                          "size": 10,
                          "solidity": 0.2
                        },
                        "type": "scatter"
                      }
                    ],
                    "scatter3d": [
                      {
                        "line": {
                          "colorbar": {
                            "outlinewidth": 0,
                            "ticks": ""
                          }
                        },
                        "marker": {
                          "colorbar": {
                            "outlinewidth": 0,
                            "ticks": ""
                          }
                        },
                        "type": "scatter3d"
                      }
                    ],
                    "scattercarpet": [
                      {
                        "marker": {
                          "colorbar": {
                            "outlinewidth": 0,
                            "ticks": ""
                          }
                        },
                        "type": "scattercarpet"
                      }
                    ],
                    "scattergeo": [
                      {
                        "marker": {
                          "colorbar": {
                            "outlinewidth": 0,
                            "ticks": ""
                          }
                        },
                        "type": "scattergeo"
                      }
                    ],
                    "scattergl": [
                      {
                        "marker": {
                          "colorbar": {
                            "outlinewidth": 0,
                            "ticks": ""
                          }
                        },
                        "type": "scattergl"
                      }
                    ],
                    "scattermap": [
                      {
                        "marker": {
                          "colorbar": {
                            "outlinewidth": 0,
                            "ticks": ""
                          }
                        },
                        "type": "scattermap"
                      }
                    ],
                    "scattermapbox": [
                      {
                        "marker": {
                          "colorbar": {
                            "outlinewidth": 0,
                            "ticks": ""
                          }
                        },
                        "type": "scattermapbox"
                      }
                    ],
                    "scatterpolar": [
                      {
                        "marker": {
                          "colorbar": {
                            "outlinewidth": 0,
                            "ticks": ""
                          }
                        },
                        "type": "scatterpolar"
                      }
                    ],
                    "scatterpolargl": [
                      {
                        "marker": {
                          "colorbar": {
                            "outlinewidth": 0,
                            "ticks": ""
                          }
                        },
                        "type": "scatterpolargl"
                      }
                    ],
                    "scatterternary": [
                      {
                        "marker": {
                          "colorbar": {
                            "outlinewidth": 0,
                            "ticks": ""
                          }
                        },
                        "type": "scatterternary"
                      }
                    ],
                    "surface": [
                      {
                        "colorbar": {
                          "outlinewidth": 0,
                          "ticks": ""
                        },
                        "colorscale": [
                          [
                            0,
                            "#0d0887"
                          ],
                          [
                            0.1111111111111111,
                            "#46039f"
                          ],
                          [
                            0.2222222222222222,
                            "#7201a8"
                          ],
                          [
                            0.3333333333333333,
                            "#9c179e"
                          ],
                          [
                            0.4444444444444444,
                            "#bd3786"
                          ],
                          [
                            0.5555555555555556,
                            "#d8576b"
                          ],
                          [
                            0.6666666666666666,
                            "#ed7953"
                          ],
                          [
                            0.7777777777777778,
                            "#fb9f3a"
                          ],
                          [
                            0.8888888888888888,
                            "#fdca26"
                          ],
                          [
                            1,
                            "#f0f921"
                          ]
                        ],
                        "type": "surface"
                      }
                    ],
                    "table": [
                      {
                        "cells": {
                          "fill": {
                            "color": "#EBF0F8"
                          },
                          "line": {
                            "color": "white"
                          }
                        },
                        "header": {
                          "fill": {
                            "color": "#C8D4E3"
                          },
                          "line": {
                            "color": "white"
                          }
                        },
                        "type": "table"
                      }
                    ]
                  },
                  "layout": {
                    "annotationdefaults": {
                      "arrowcolor": "#2a3f5f",
                      "arrowhead": 0,
                      "arrowwidth": 1
                    },
                    "autotypenumbers": "strict",
                    "coloraxis": {
                      "colorbar": {
                        "outlinewidth": 0,
                        "ticks": ""
                      }
                    },
                    "colorscale": {
                      "diverging": [
                        [
                          0,
                          "#8e0152"
                        ],
                        [
                          0.1,
                          "#c51b7d"
                        ],
                        [
                          0.2,
                          "#de77ae"
                        ],
                        [
                          0.3,
                          "#f1b6da"
                        ],
                        [
                          0.4,
                          "#fde0ef"
                        ],
                        [
                          0.5,
                          "#f7f7f7"
                        ],
                        [
                          0.6,
                          "#e6f5d0"
                        ],
                        [
                          0.7,
                          "#b8e186"
                        ],
                        [
                          0.8,
                          "#7fbc41"
                        ],
                        [
                          0.9,
                          "#4d9221"
                        ],
                        [
                          1,
                          "#276419"
                        ]
                      ],
                      "sequential": [
                        [
                          0,
                          "#0d0887"
                        ],
                        [
                          0.1111111111111111,
                          "#46039f"
                        ],
                        [
                          0.2222222222222222,
                          "#7201a8"
                        ],
                        [
                          0.3333333333333333,
                          "#9c179e"
                        ],
                        [
                          0.4444444444444444,
                          "#bd3786"
                        ],
                        [
                          0.5555555555555556,
                          "#d8576b"
                        ],
                        [
                          0.6666666666666666,
                          "#ed7953"
                        ],
                        [
                          0.7777777777777778,
                          "#fb9f3a"
                        ],
                        [
                          0.8888888888888888,
                          "#fdca26"
                        ],
                        [
                          1,
                          "#f0f921"
                        ]
                      ],
                      "sequentialminus": [
                        [
                          0,
                          "#0d0887"
                        ],
                        [
                          0.1111111111111111,
                          "#46039f"
                        ],
                        [
                          0.2222222222222222,
                          "#7201a8"
                        ],
                        [
                          0.3333333333333333,
                          "#9c179e"
                        ],
                        [
                          0.4444444444444444,
                          "#bd3786"
                        ],
                        [
                          0.5555555555555556,
                          "#d8576b"
                        ],
                        [
                          0.6666666666666666,
                          "#ed7953"
                        ],
                        [
                          0.7777777777777778,
                          "#fb9f3a"
                        ],
                        [
                          0.8888888888888888,
                          "#fdca26"
                        ],
                        [
                          1,
                          "#f0f921"
                        ]
                      ]
                    },
                    "colorway": [
                      "#636efa",
                      "#EF553B",
                      "#00cc96",
                      "#ab63fa",
                      "#FFA15A",
                      "#19d3f3",
                      "#FF6692",
                      "#B6E880",
                      "#FF97FF",
                      "#FECB52"
                    ],
                    "font": {
                      "color": "#2a3f5f"
                    },
                    "geo": {
                      "bgcolor": "white",
                      "lakecolor": "white",
                      "landcolor": "#E5ECF6",
                      "showlakes": true,
                      "showland": true,
                      "subunitcolor": "white"
                    },
                    "hoverlabel": {
                      "align": "left"
                    },
                    "hovermode": "closest",
                    "mapbox": {
                      "style": "light"
                    },
                    "paper_bgcolor": "white",
                    "plot_bgcolor": "#E5ECF6",
                    "polar": {
                      "angularaxis": {
                        "gridcolor": "white",
                        "linecolor": "white",
                        "ticks": ""
                      },
                      "bgcolor": "#E5ECF6",
                      "radialaxis": {
                        "gridcolor": "white",
                        "linecolor": "white",
                        "ticks": ""
                      }
                    },
                    "scene": {
                      "xaxis": {
                        "backgroundcolor": "#E5ECF6",
                        "gridcolor": "white",
                        "gridwidth": 2,
                        "linecolor": "white",
                        "showbackground": true,
                        "ticks": "",
                        "zerolinecolor": "white"
                      },
                      "yaxis": {
                        "backgroundcolor": "#E5ECF6",
                        "gridcolor": "white",
                        "gridwidth": 2,
                        "linecolor": "white",
                        "showbackground": true,
                        "ticks": "",
                        "zerolinecolor": "white"
                      },
                      "zaxis": {
                        "backgroundcolor": "#E5ECF6",
                        "gridcolor": "white",
                        "gridwidth": 2,
                        "linecolor": "white",
                        "showbackground": true,
                        "ticks": "",
                        "zerolinecolor": "white"
                      }
                    },
                    "shapedefaults": {
                      "line": {
                        "color": "#2a3f5f"
                      }
                    },
                    "ternary": {
                      "aaxis": {
                        "gridcolor": "white",
                        "linecolor": "white",
                        "ticks": ""
                      },
                      "baxis": {
                        "gridcolor": "white",
                        "linecolor": "white",
                        "ticks": ""
                      },
                      "bgcolor": "#E5ECF6",
                      "caxis": {
                        "gridcolor": "white",
                        "linecolor": "white",
                        "ticks": ""
                      }
                    },
                    "title": {
                      "x": 0.05
                    },
                    "xaxis": {
                      "automargin": true,
                      "gridcolor": "white",
                      "linecolor": "white",
                      "ticks": "",
                      "title": {
                        "standoff": 15
                      },
                      "zerolinecolor": "white",
                      "zerolinewidth": 2
                    },
                    "yaxis": {
                      "automargin": true,
                      "gridcolor": "white",
                      "linecolor": "white",
                      "ticks": "",
                      "title": {
                        "standoff": 15
                      },
                      "zerolinecolor": "white",
                      "zerolinewidth": 2
                    }
                  }
                },
                "title": {
                  "text": "Manual Market Regime Marking"
                },
                "xaxis": {
                  "rangeslider": {
                    "visible": false
                  },
                  "title": {
                    "text": "Date"
                  }
                },
                "yaxis": {
                  "title": {
                    "text": "Price"
                  }
                }
              }
            }
          },
          "metadata": {},
          "output_type": "display_data"
        }
      ],
      "source": [
        "# ===  Adding manually identified regime zones ===\n",
        "# Sideways regime\n",
        "fig.add_vrect(\n",
        "    x0='2024-06-10', x1='2024-07-30',\n",
        "    fillcolor='yellow', opacity=0.3,\n",
        "    layer='below', line_width=0\n",
        ")\n",
        "\n",
        "# Trending regime\n",
        "fig.add_vrect(\n",
        "    x0='2025-02-14', x1='2025-04-24',\n",
        "    fillcolor='lightgreen', opacity=0.3,\n",
        "    layer='below', line_width=0\n",
        ")\n",
        "\n",
        "\n",
        "# Labelling the zones\n",
        "fig.add_annotation(x='2024-06-30', y=max(data['high']),\n",
        "                   text='Sideways',\n",
        "                   showarrow=False,\n",
        "                   font=dict(color='black', size=12),\n",
        "                   bgcolor='yellow', opacity=0.5)\n",
        "\n",
        "fig.add_annotation(x='2025-03-10', y=max(data['high']),\n",
        "                   text='Trending',\n",
        "                   showarrow=False,\n",
        "                   font=dict(color='black', size=12),\n",
        "                   bgcolor='lightgreen', opacity=0.5)\n"
      ]
    },
    {
      "cell_type": "code",
      "execution_count": 34,
      "metadata": {
        "colab": {
          "base_uri": "https://localhost:8080/",
          "height": 542
        },
        "id": "OpnI1Ywou41V",
        "outputId": "75e40c36-0c88-487c-e5ab-14c791bbedcd"
      },
      "outputs": [
        {
          "data": {
            "application/vnd.plotly.v1+json": {
              "config": {
                "plotlyServerURL": "https://plot.ly"
              },
              "data": [
                {
                  "close": {
                    "bdata": "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",
                    "dtype": "f8"
                  },
                  "high": {
                    "bdata": "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",
                    "dtype": "f8"
                  },
                  "low": {
                    "bdata": "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",
                    "dtype": "f8"
                  },
                  "open": {
                    "bdata": "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",
                    "dtype": "f8"
                  },
                  "type": "candlestick",
                  "x": [
                    "2024-06-03T00:00:00.000000000",
                    "2024-06-04T00:00:00.000000000",
                    "2024-06-05T00:00:00.000000000",
                    "2024-06-06T00:00:00.000000000",
                    "2024-06-07T00:00:00.000000000",
                    "2024-06-10T00:00:00.000000000",
                    "2024-06-11T00:00:00.000000000",
                    "2024-06-12T00:00:00.000000000",
                    "2024-06-13T00:00:00.000000000",
                    "2024-06-14T00:00:00.000000000",
                    "2024-06-18T00:00:00.000000000",
                    "2024-06-19T00:00:00.000000000",
                    "2024-06-20T00:00:00.000000000",
                    "2024-06-21T00:00:00.000000000",
                    "2024-06-24T00:00:00.000000000",
                    "2024-06-25T00:00:00.000000000",
                    "2024-06-26T00:00:00.000000000",
                    "2024-06-27T00:00:00.000000000",
                    "2024-06-28T00:00:00.000000000",
                    "2024-07-01T00:00:00.000000000",
                    "2024-07-02T00:00:00.000000000",
                    "2024-07-03T00:00:00.000000000",
                    "2024-07-04T00:00:00.000000000",
                    "2024-07-05T00:00:00.000000000",
                    "2024-07-08T00:00:00.000000000",
                    "2024-07-09T00:00:00.000000000",
                    "2024-07-10T00:00:00.000000000",
                    "2024-07-11T00:00:00.000000000",
                    "2024-07-12T00:00:00.000000000",
                    "2024-07-15T00:00:00.000000000",
                    "2024-07-16T00:00:00.000000000",
                    "2024-07-18T00:00:00.000000000",
                    "2024-07-19T00:00:00.000000000",
                    "2024-07-22T00:00:00.000000000",
                    "2024-07-23T00:00:00.000000000",
                    "2024-07-24T00:00:00.000000000",
                    "2024-07-25T00:00:00.000000000",
                    "2024-07-26T00:00:00.000000000",
                    "2024-07-29T00:00:00.000000000",
                    "2024-07-30T00:00:00.000000000",
                    "2024-07-31T00:00:00.000000000",
                    "2024-08-01T00:00:00.000000000",
                    "2024-08-02T00:00:00.000000000",
                    "2024-08-05T00:00:00.000000000",
                    "2024-08-06T00:00:00.000000000",
                    "2024-08-07T00:00:00.000000000",
                    "2024-08-08T00:00:00.000000000",
                    "2024-08-09T00:00:00.000000000",
                    "2024-08-12T00:00:00.000000000",
                    "2024-08-13T00:00:00.000000000",
                    "2024-08-14T00:00:00.000000000",
                    "2024-08-16T00:00:00.000000000",
                    "2024-08-19T00:00:00.000000000",
                    "2024-08-20T00:00:00.000000000",
                    "2024-08-21T00:00:00.000000000",
                    "2024-08-22T00:00:00.000000000",
                    "2024-08-23T00:00:00.000000000",
                    "2024-08-26T00:00:00.000000000",
                    "2024-08-27T00:00:00.000000000",
                    "2024-08-28T00:00:00.000000000",
                    "2024-08-29T00:00:00.000000000",
                    "2024-08-30T00:00:00.000000000",
                    "2024-09-02T00:00:00.000000000",
                    "2024-09-03T00:00:00.000000000",
                    "2024-09-04T00:00:00.000000000",
                    "2024-09-05T00:00:00.000000000",
                    "2024-09-06T00:00:00.000000000",
                    "2024-09-09T00:00:00.000000000",
                    "2024-09-10T00:00:00.000000000",
                    "2024-09-11T00:00:00.000000000",
                    "2024-09-12T00:00:00.000000000",
                    "2024-09-13T00:00:00.000000000",
                    "2024-09-16T00:00:00.000000000",
                    "2024-09-17T00:00:00.000000000",
                    "2024-09-18T00:00:00.000000000",
                    "2024-09-19T00:00:00.000000000",
                    "2024-09-20T00:00:00.000000000",
                    "2024-09-23T00:00:00.000000000",
                    "2024-09-24T00:00:00.000000000",
                    "2024-09-25T00:00:00.000000000",
                    "2024-09-26T00:00:00.000000000",
                    "2024-09-27T00:00:00.000000000",
                    "2024-09-30T00:00:00.000000000",
                    "2024-10-01T00:00:00.000000000",
                    "2024-10-03T00:00:00.000000000",
                    "2024-10-04T00:00:00.000000000",
                    "2024-10-07T00:00:00.000000000",
                    "2024-10-08T00:00:00.000000000",
                    "2024-10-09T00:00:00.000000000",
                    "2024-10-10T00:00:00.000000000",
                    "2024-10-11T00:00:00.000000000",
                    "2024-10-14T00:00:00.000000000",
                    "2024-10-15T00:00:00.000000000",
                    "2024-10-16T00:00:00.000000000",
                    "2024-10-17T00:00:00.000000000",
                    "2024-10-18T00:00:00.000000000",
                    "2024-10-21T00:00:00.000000000",
                    "2024-10-22T00:00:00.000000000",
                    "2024-10-23T00:00:00.000000000",
                    "2024-10-24T00:00:00.000000000",
                    "2024-10-25T00:00:00.000000000",
                    "2024-10-28T00:00:00.000000000",
                    "2024-10-29T00:00:00.000000000",
                    "2024-10-30T00:00:00.000000000",
                    "2024-10-31T00:00:00.000000000",
                    "2024-11-01T00:00:00.000000000",
                    "2024-11-04T00:00:00.000000000",
                    "2024-11-05T00:00:00.000000000",
                    "2024-11-06T00:00:00.000000000",
                    "2024-11-07T00:00:00.000000000",
                    "2024-11-08T00:00:00.000000000",
                    "2024-11-11T00:00:00.000000000",
                    "2024-11-12T00:00:00.000000000",
                    "2024-11-13T00:00:00.000000000",
                    "2024-11-14T00:00:00.000000000",
                    "2024-11-18T00:00:00.000000000",
                    "2024-11-19T00:00:00.000000000",
                    "2024-11-21T00:00:00.000000000",
                    "2024-11-22T00:00:00.000000000",
                    "2024-11-25T00:00:00.000000000",
                    "2024-11-26T00:00:00.000000000",
                    "2024-11-27T00:00:00.000000000",
                    "2024-11-28T00:00:00.000000000",
                    "2024-11-29T00:00:00.000000000",
                    "2024-12-02T00:00:00.000000000",
                    "2024-12-03T00:00:00.000000000",
                    "2024-12-04T00:00:00.000000000",
                    "2024-12-05T00:00:00.000000000",
                    "2024-12-06T00:00:00.000000000",
                    "2024-12-09T00:00:00.000000000",
                    "2024-12-10T00:00:00.000000000",
                    "2024-12-11T00:00:00.000000000",
                    "2024-12-12T00:00:00.000000000",
                    "2024-12-13T00:00:00.000000000",
                    "2024-12-16T00:00:00.000000000",
                    "2024-12-17T00:00:00.000000000",
                    "2024-12-18T00:00:00.000000000",
                    "2024-12-19T00:00:00.000000000",
                    "2024-12-20T00:00:00.000000000",
                    "2024-12-23T00:00:00.000000000",
                    "2024-12-24T00:00:00.000000000",
                    "2024-12-26T00:00:00.000000000",
                    "2024-12-27T00:00:00.000000000",
                    "2024-12-30T00:00:00.000000000",
                    "2024-12-31T00:00:00.000000000",
                    "2025-01-01T00:00:00.000000000",
                    "2025-01-02T00:00:00.000000000",
                    "2025-01-03T00:00:00.000000000",
                    "2025-01-06T00:00:00.000000000",
                    "2025-01-07T00:00:00.000000000",
                    "2025-01-08T00:00:00.000000000",
                    "2025-01-09T00:00:00.000000000",
                    "2025-01-10T00:00:00.000000000",
                    "2025-01-13T00:00:00.000000000",
                    "2025-01-14T00:00:00.000000000",
                    "2025-01-15T00:00:00.000000000",
                    "2025-01-16T00:00:00.000000000",
                    "2025-01-17T00:00:00.000000000",
                    "2025-01-20T00:00:00.000000000",
                    "2025-01-21T00:00:00.000000000",
                    "2025-01-22T00:00:00.000000000",
                    "2025-01-23T00:00:00.000000000",
                    "2025-01-24T00:00:00.000000000",
                    "2025-01-27T00:00:00.000000000",
                    "2025-01-28T00:00:00.000000000",
                    "2025-01-29T00:00:00.000000000",
                    "2025-01-30T00:00:00.000000000",
                    "2025-01-31T00:00:00.000000000",
                    "2025-02-01T00:00:00.000000000",
                    "2025-02-03T00:00:00.000000000",
                    "2025-02-04T00:00:00.000000000",
                    "2025-02-05T00:00:00.000000000",
                    "2025-02-06T00:00:00.000000000",
                    "2025-02-07T00:00:00.000000000",
                    "2025-02-10T00:00:00.000000000",
                    "2025-02-11T00:00:00.000000000",
                    "2025-02-12T00:00:00.000000000",
                    "2025-02-13T00:00:00.000000000",
                    "2025-02-14T00:00:00.000000000",
                    "2025-02-17T00:00:00.000000000",
                    "2025-02-18T00:00:00.000000000",
                    "2025-02-19T00:00:00.000000000",
                    "2025-02-20T00:00:00.000000000",
                    "2025-02-21T00:00:00.000000000",
                    "2025-02-24T00:00:00.000000000",
                    "2025-02-25T00:00:00.000000000",
                    "2025-02-27T00:00:00.000000000",
                    "2025-02-28T00:00:00.000000000",
                    "2025-03-03T00:00:00.000000000",
                    "2025-03-04T00:00:00.000000000",
                    "2025-03-05T00:00:00.000000000",
                    "2025-03-06T00:00:00.000000000",
                    "2025-03-07T00:00:00.000000000",
                    "2025-03-10T00:00:00.000000000",
                    "2025-03-11T00:00:00.000000000",
                    "2025-03-12T00:00:00.000000000",
                    "2025-03-13T00:00:00.000000000",
                    "2025-03-17T00:00:00.000000000",
                    "2025-03-18T00:00:00.000000000",
                    "2025-03-19T00:00:00.000000000",
                    "2025-03-20T00:00:00.000000000",
                    "2025-03-21T00:00:00.000000000",
                    "2025-03-24T00:00:00.000000000",
                    "2025-03-25T00:00:00.000000000",
                    "2025-03-26T00:00:00.000000000",
                    "2025-03-27T00:00:00.000000000",
                    "2025-03-28T00:00:00.000000000",
                    "2025-04-01T00:00:00.000000000",
                    "2025-04-02T00:00:00.000000000",
                    "2025-04-03T00:00:00.000000000",
                    "2025-04-04T00:00:00.000000000",
                    "2025-04-07T00:00:00.000000000",
                    "2025-04-08T00:00:00.000000000",
                    "2025-04-09T00:00:00.000000000",
                    "2025-04-11T00:00:00.000000000",
                    "2025-04-15T00:00:00.000000000",
                    "2025-04-16T00:00:00.000000000",
                    "2025-04-17T00:00:00.000000000",
                    "2025-04-21T00:00:00.000000000",
                    "2025-04-22T00:00:00.000000000",
                    "2025-04-23T00:00:00.000000000",
                    "2025-04-24T00:00:00.000000000",
                    "2025-04-25T00:00:00.000000000",
                    "2025-04-28T00:00:00.000000000",
                    "2025-04-29T00:00:00.000000000",
                    "2025-04-30T00:00:00.000000000",
                    "2025-05-02T00:00:00.000000000",
                    "2025-05-05T00:00:00.000000000",
                    "2025-05-06T00:00:00.000000000",
                    "2025-05-07T00:00:00.000000000",
                    "2025-05-08T00:00:00.000000000",
                    "2025-05-09T00:00:00.000000000",
                    "2025-05-12T00:00:00.000000000",
                    "2025-05-13T00:00:00.000000000",
                    "2025-05-14T00:00:00.000000000",
                    "2025-05-15T00:00:00.000000000",
                    "2025-05-16T00:00:00.000000000",
                    "2025-05-19T00:00:00.000000000",
                    "2025-05-20T00:00:00.000000000",
                    "2025-05-21T00:00:00.000000000",
                    "2025-05-22T00:00:00.000000000",
                    "2025-05-23T00:00:00.000000000",
                    "2025-05-26T00:00:00.000000000",
                    "2025-05-27T00:00:00.000000000",
                    "2025-05-28T00:00:00.000000000",
                    "2025-05-29T00:00:00.000000000",
                    "2025-05-30T00:00:00.000000000"
                  ]
                }
              ],
              "layout": {
                "annotations": [
                  {
                    "bgcolor": "yellow",
                    "font": {
                      "color": "black",
                      "size": 12
                    },
                    "opacity": 0.5,
                    "showarrow": false,
                    "text": "Sideways",
                    "x": "2024-06-30",
                    "y": 5665.5
                  },
                  {
                    "bgcolor": "lightgreen",
                    "font": {
                      "color": "black",
                      "size": 12
                    },
                    "opacity": 0.5,
                    "showarrow": false,
                    "text": "Trending",
                    "x": "2025-03-10",
                    "y": 5665.5
                  }
                ],
                "shapes": [
                  {
                    "fillcolor": "yellow",
                    "layer": "below",
                    "line": {
                      "width": 0
                    },
                    "opacity": 0.3,
                    "type": "rect",
                    "x0": "2024-06-10",
                    "x1": "2024-07-30",
                    "xref": "x",
                    "y0": 0,
                    "y1": 1,
                    "yref": "y domain"
                  },
                  {
                    "fillcolor": "lightgreen",
                    "layer": "below",
                    "line": {
                      "width": 0
                    },
                    "opacity": 0.3,
                    "type": "rect",
                    "x0": "2025-02-14",
                    "x1": "2025-04-24",
                    "xref": "x",
                    "y0": 0,
                    "y1": 1,
                    "yref": "y domain"
                  }
                ],
                "template": {
                  "data": {
                    "bar": [
                      {
                        "error_x": {
                          "color": "#2a3f5f"
                        },
                        "error_y": {
                          "color": "#2a3f5f"
                        },
                        "marker": {
                          "line": {
                            "color": "#E5ECF6",
                            "width": 0.5
                          },
                          "pattern": {
                            "fillmode": "overlay",
                            "size": 10,
                            "solidity": 0.2
                          }
                        },
                        "type": "bar"
                      }
                    ],
                    "barpolar": [
                      {
                        "marker": {
                          "line": {
                            "color": "#E5ECF6",
                            "width": 0.5
                          },
                          "pattern": {
                            "fillmode": "overlay",
                            "size": 10,
                            "solidity": 0.2
                          }
                        },
                        "type": "barpolar"
                      }
                    ],
                    "carpet": [
                      {
                        "aaxis": {
                          "endlinecolor": "#2a3f5f",
                          "gridcolor": "white",
                          "linecolor": "white",
                          "minorgridcolor": "white",
                          "startlinecolor": "#2a3f5f"
                        },
                        "baxis": {
                          "endlinecolor": "#2a3f5f",
                          "gridcolor": "white",
                          "linecolor": "white",
                          "minorgridcolor": "white",
                          "startlinecolor": "#2a3f5f"
                        },
                        "type": "carpet"
                      }
                    ],
                    "choropleth": [
                      {
                        "colorbar": {
                          "outlinewidth": 0,
                          "ticks": ""
                        },
                        "type": "choropleth"
                      }
                    ],
                    "contour": [
                      {
                        "colorbar": {
                          "outlinewidth": 0,
                          "ticks": ""
                        },
                        "colorscale": [
                          [
                            0,
                            "#0d0887"
                          ],
                          [
                            0.1111111111111111,
                            "#46039f"
                          ],
                          [
                            0.2222222222222222,
                            "#7201a8"
                          ],
                          [
                            0.3333333333333333,
                            "#9c179e"
                          ],
                          [
                            0.4444444444444444,
                            "#bd3786"
                          ],
                          [
                            0.5555555555555556,
                            "#d8576b"
                          ],
                          [
                            0.6666666666666666,
                            "#ed7953"
                          ],
                          [
                            0.7777777777777778,
                            "#fb9f3a"
                          ],
                          [
                            0.8888888888888888,
                            "#fdca26"
                          ],
                          [
                            1,
                            "#f0f921"
                          ]
                        ],
                        "type": "contour"
                      }
                    ],
                    "contourcarpet": [
                      {
                        "colorbar": {
                          "outlinewidth": 0,
                          "ticks": ""
                        },
                        "type": "contourcarpet"
                      }
                    ],
                    "heatmap": [
                      {
                        "colorbar": {
                          "outlinewidth": 0,
                          "ticks": ""
                        },
                        "colorscale": [
                          [
                            0,
                            "#0d0887"
                          ],
                          [
                            0.1111111111111111,
                            "#46039f"
                          ],
                          [
                            0.2222222222222222,
                            "#7201a8"
                          ],
                          [
                            0.3333333333333333,
                            "#9c179e"
                          ],
                          [
                            0.4444444444444444,
                            "#bd3786"
                          ],
                          [
                            0.5555555555555556,
                            "#d8576b"
                          ],
                          [
                            0.6666666666666666,
                            "#ed7953"
                          ],
                          [
                            0.7777777777777778,
                            "#fb9f3a"
                          ],
                          [
                            0.8888888888888888,
                            "#fdca26"
                          ],
                          [
                            1,
                            "#f0f921"
                          ]
                        ],
                        "type": "heatmap"
                      }
                    ],
                    "histogram": [
                      {
                        "marker": {
                          "pattern": {
                            "fillmode": "overlay",
                            "size": 10,
                            "solidity": 0.2
                          }
                        },
                        "type": "histogram"
                      }
                    ],
                    "histogram2d": [
                      {
                        "colorbar": {
                          "outlinewidth": 0,
                          "ticks": ""
                        },
                        "colorscale": [
                          [
                            0,
                            "#0d0887"
                          ],
                          [
                            0.1111111111111111,
                            "#46039f"
                          ],
                          [
                            0.2222222222222222,
                            "#7201a8"
                          ],
                          [
                            0.3333333333333333,
                            "#9c179e"
                          ],
                          [
                            0.4444444444444444,
                            "#bd3786"
                          ],
                          [
                            0.5555555555555556,
                            "#d8576b"
                          ],
                          [
                            0.6666666666666666,
                            "#ed7953"
                          ],
                          [
                            0.7777777777777778,
                            "#fb9f3a"
                          ],
                          [
                            0.8888888888888888,
                            "#fdca26"
                          ],
                          [
                            1,
                            "#f0f921"
                          ]
                        ],
                        "type": "histogram2d"
                      }
                    ],
                    "histogram2dcontour": [
                      {
                        "colorbar": {
                          "outlinewidth": 0,
                          "ticks": ""
                        },
                        "colorscale": [
                          [
                            0,
                            "#0d0887"
                          ],
                          [
                            0.1111111111111111,
                            "#46039f"
                          ],
                          [
                            0.2222222222222222,
                            "#7201a8"
                          ],
                          [
                            0.3333333333333333,
                            "#9c179e"
                          ],
                          [
                            0.4444444444444444,
                            "#bd3786"
                          ],
                          [
                            0.5555555555555556,
                            "#d8576b"
                          ],
                          [
                            0.6666666666666666,
                            "#ed7953"
                          ],
                          [
                            0.7777777777777778,
                            "#fb9f3a"
                          ],
                          [
                            0.8888888888888888,
                            "#fdca26"
                          ],
                          [
                            1,
                            "#f0f921"
                          ]
                        ],
                        "type": "histogram2dcontour"
                      }
                    ],
                    "mesh3d": [
                      {
                        "colorbar": {
                          "outlinewidth": 0,
                          "ticks": ""
                        },
                        "type": "mesh3d"
                      }
                    ],
                    "parcoords": [
                      {
                        "line": {
                          "colorbar": {
                            "outlinewidth": 0,
                            "ticks": ""
                          }
                        },
                        "type": "parcoords"
                      }
                    ],
                    "pie": [
                      {
                        "automargin": true,
                        "type": "pie"
                      }
                    ],
                    "scatter": [
                      {
                        "fillpattern": {
                          "fillmode": "overlay",
                          "size": 10,
                          "solidity": 0.2
                        },
                        "type": "scatter"
                      }
                    ],
                    "scatter3d": [
                      {
                        "line": {
                          "colorbar": {
                            "outlinewidth": 0,
                            "ticks": ""
                          }
                        },
                        "marker": {
                          "colorbar": {
                            "outlinewidth": 0,
                            "ticks": ""
                          }
                        },
                        "type": "scatter3d"
                      }
                    ],
                    "scattercarpet": [
                      {
                        "marker": {
                          "colorbar": {
                            "outlinewidth": 0,
                            "ticks": ""
                          }
                        },
                        "type": "scattercarpet"
                      }
                    ],
                    "scattergeo": [
                      {
                        "marker": {
                          "colorbar": {
                            "outlinewidth": 0,
                            "ticks": ""
                          }
                        },
                        "type": "scattergeo"
                      }
                    ],
                    "scattergl": [
                      {
                        "marker": {
                          "colorbar": {
                            "outlinewidth": 0,
                            "ticks": ""
                          }
                        },
                        "type": "scattergl"
                      }
                    ],
                    "scattermap": [
                      {
                        "marker": {
                          "colorbar": {
                            "outlinewidth": 0,
                            "ticks": ""
                          }
                        },
                        "type": "scattermap"
                      }
                    ],
                    "scattermapbox": [
                      {
                        "marker": {
                          "colorbar": {
                            "outlinewidth": 0,
                            "ticks": ""
                          }
                        },
                        "type": "scattermapbox"
                      }
                    ],
                    "scatterpolar": [
                      {
                        "marker": {
                          "colorbar": {
                            "outlinewidth": 0,
                            "ticks": ""
                          }
                        },
                        "type": "scatterpolar"
                      }
                    ],
                    "scatterpolargl": [
                      {
                        "marker": {
                          "colorbar": {
                            "outlinewidth": 0,
                            "ticks": ""
                          }
                        },
                        "type": "scatterpolargl"
                      }
                    ],
                    "scatterternary": [
                      {
                        "marker": {
                          "colorbar": {
                            "outlinewidth": 0,
                            "ticks": ""
                          }
                        },
                        "type": "scatterternary"
                      }
                    ],
                    "surface": [
                      {
                        "colorbar": {
                          "outlinewidth": 0,
                          "ticks": ""
                        },
                        "colorscale": [
                          [
                            0,
                            "#0d0887"
                          ],
                          [
                            0.1111111111111111,
                            "#46039f"
                          ],
                          [
                            0.2222222222222222,
                            "#7201a8"
                          ],
                          [
                            0.3333333333333333,
                            "#9c179e"
                          ],
                          [
                            0.4444444444444444,
                            "#bd3786"
                          ],
                          [
                            0.5555555555555556,
                            "#d8576b"
                          ],
                          [
                            0.6666666666666666,
                            "#ed7953"
                          ],
                          [
                            0.7777777777777778,
                            "#fb9f3a"
                          ],
                          [
                            0.8888888888888888,
                            "#fdca26"
                          ],
                          [
                            1,
                            "#f0f921"
                          ]
                        ],
                        "type": "surface"
                      }
                    ],
                    "table": [
                      {
                        "cells": {
                          "fill": {
                            "color": "#EBF0F8"
                          },
                          "line": {
                            "color": "white"
                          }
                        },
                        "header": {
                          "fill": {
                            "color": "#C8D4E3"
                          },
                          "line": {
                            "color": "white"
                          }
                        },
                        "type": "table"
                      }
                    ]
                  },
                  "layout": {
                    "annotationdefaults": {
                      "arrowcolor": "#2a3f5f",
                      "arrowhead": 0,
                      "arrowwidth": 1
                    },
                    "autotypenumbers": "strict",
                    "coloraxis": {
                      "colorbar": {
                        "outlinewidth": 0,
                        "ticks": ""
                      }
                    },
                    "colorscale": {
                      "diverging": [
                        [
                          0,
                          "#8e0152"
                        ],
                        [
                          0.1,
                          "#c51b7d"
                        ],
                        [
                          0.2,
                          "#de77ae"
                        ],
                        [
                          0.3,
                          "#f1b6da"
                        ],
                        [
                          0.4,
                          "#fde0ef"
                        ],
                        [
                          0.5,
                          "#f7f7f7"
                        ],
                        [
                          0.6,
                          "#e6f5d0"
                        ],
                        [
                          0.7,
                          "#b8e186"
                        ],
                        [
                          0.8,
                          "#7fbc41"
                        ],
                        [
                          0.9,
                          "#4d9221"
                        ],
                        [
                          1,
                          "#276419"
                        ]
                      ],
                      "sequential": [
                        [
                          0,
                          "#0d0887"
                        ],
                        [
                          0.1111111111111111,
                          "#46039f"
                        ],
                        [
                          0.2222222222222222,
                          "#7201a8"
                        ],
                        [
                          0.3333333333333333,
                          "#9c179e"
                        ],
                        [
                          0.4444444444444444,
                          "#bd3786"
                        ],
                        [
                          0.5555555555555556,
                          "#d8576b"
                        ],
                        [
                          0.6666666666666666,
                          "#ed7953"
                        ],
                        [
                          0.7777777777777778,
                          "#fb9f3a"
                        ],
                        [
                          0.8888888888888888,
                          "#fdca26"
                        ],
                        [
                          1,
                          "#f0f921"
                        ]
                      ],
                      "sequentialminus": [
                        [
                          0,
                          "#0d0887"
                        ],
                        [
                          0.1111111111111111,
                          "#46039f"
                        ],
                        [
                          0.2222222222222222,
                          "#7201a8"
                        ],
                        [
                          0.3333333333333333,
                          "#9c179e"
                        ],
                        [
                          0.4444444444444444,
                          "#bd3786"
                        ],
                        [
                          0.5555555555555556,
                          "#d8576b"
                        ],
                        [
                          0.6666666666666666,
                          "#ed7953"
                        ],
                        [
                          0.7777777777777778,
                          "#fb9f3a"
                        ],
                        [
                          0.8888888888888888,
                          "#fdca26"
                        ],
                        [
                          1,
                          "#f0f921"
                        ]
                      ]
                    },
                    "colorway": [
                      "#636efa",
                      "#EF553B",
                      "#00cc96",
                      "#ab63fa",
                      "#FFA15A",
                      "#19d3f3",
                      "#FF6692",
                      "#B6E880",
                      "#FF97FF",
                      "#FECB52"
                    ],
                    "font": {
                      "color": "#2a3f5f"
                    },
                    "geo": {
                      "bgcolor": "white",
                      "lakecolor": "white",
                      "landcolor": "#E5ECF6",
                      "showlakes": true,
                      "showland": true,
                      "subunitcolor": "white"
                    },
                    "hoverlabel": {
                      "align": "left"
                    },
                    "hovermode": "closest",
                    "mapbox": {
                      "style": "light"
                    },
                    "paper_bgcolor": "white",
                    "plot_bgcolor": "#E5ECF6",
                    "polar": {
                      "angularaxis": {
                        "gridcolor": "white",
                        "linecolor": "white",
                        "ticks": ""
                      },
                      "bgcolor": "#E5ECF6",
                      "radialaxis": {
                        "gridcolor": "white",
                        "linecolor": "white",
                        "ticks": ""
                      }
                    },
                    "scene": {
                      "xaxis": {
                        "backgroundcolor": "#E5ECF6",
                        "gridcolor": "white",
                        "gridwidth": 2,
                        "linecolor": "white",
                        "showbackground": true,
                        "ticks": "",
                        "zerolinecolor": "white"
                      },
                      "yaxis": {
                        "backgroundcolor": "#E5ECF6",
                        "gridcolor": "white",
                        "gridwidth": 2,
                        "linecolor": "white",
                        "showbackground": true,
                        "ticks": "",
                        "zerolinecolor": "white"
                      },
                      "zaxis": {
                        "backgroundcolor": "#E5ECF6",
                        "gridcolor": "white",
                        "gridwidth": 2,
                        "linecolor": "white",
                        "showbackground": true,
                        "ticks": "",
                        "zerolinecolor": "white"
                      }
                    },
                    "shapedefaults": {
                      "line": {
                        "color": "#2a3f5f"
                      }
                    },
                    "ternary": {
                      "aaxis": {
                        "gridcolor": "white",
                        "linecolor": "white",
                        "ticks": ""
                      },
                      "baxis": {
                        "gridcolor": "white",
                        "linecolor": "white",
                        "ticks": ""
                      },
                      "bgcolor": "#E5ECF6",
                      "caxis": {
                        "gridcolor": "white",
                        "linecolor": "white",
                        "ticks": ""
                      }
                    },
                    "title": {
                      "x": 0.05
                    },
                    "xaxis": {
                      "automargin": true,
                      "gridcolor": "white",
                      "linecolor": "white",
                      "ticks": "",
                      "title": {
                        "standoff": 15
                      },
                      "zerolinecolor": "white",
                      "zerolinewidth": 2
                    },
                    "yaxis": {
                      "automargin": true,
                      "gridcolor": "white",
                      "linecolor": "white",
                      "ticks": "",
                      "title": {
                        "standoff": 15
                      },
                      "zerolinecolor": "white",
                      "zerolinewidth": 2
                    }
                  }
                },
                "title": {
                  "text": "Manual Market Regime Marking"
                },
                "xaxis": {
                  "rangeslider": {
                    "visible": false
                  },
                  "title": {
                    "text": "Date"
                  }
                },
                "yaxis": {
                  "title": {
                    "text": "Price"
                  }
                }
              }
            }
          },
          "metadata": {},
          "output_type": "display_data"
        }
      ],
      "source": [
        "\n",
        "# Layout settings\n",
        "fig.update_layout(\n",
        "    title='Manual Market Regime Marking',\n",
        "    xaxis_title='Date',\n",
        "    yaxis_title='Price',\n",
        "    xaxis_rangeslider_visible=False\n",
        ")\n",
        "\n",
        "fig.show()"
      ]
    },
    {
      "cell_type": "markdown",
      "metadata": {
        "id": "MTuveeD8AR1R"
      },
      "source": [
        "####   Where the Strategy May Underperform\n",
        "\n",
        "The current strategy (**Supertrend + MFI + BBW**) is designed for **strong trending markets**, but it may underperform in the following conditions:\n",
        "\n",
        "---\n",
        "\n",
        "#####  1. Sideways or Choppy Markets\n",
        "\n",
        "- **Problem**: Supertrend and MFI give frequent false signals (whipsaws).\n",
        "- **Reason**: Lack of clear directional momentum causes indicators to flip often.\n",
        "- **Impact**: Increased transaction costs and poor win-rate.\n",
        "\n",
        "---\n",
        "\n",
        "#####  2. Low-Volume Environments\n",
        "\n",
        "- **Problem**: MFI becomes less reliable.\n",
        "- **Reason**: MFI relies on volume-pressure, which is distorted or muted when volume is weak.\n",
        "- **Impact**: Poor signal quality and low conviction entries.\n",
        "\n",
        "---\n",
        "\n",
        "#####  3. Sudden Volatility Spikes\n",
        "\n",
        "- **Problem**: BBW may rise sharply due to a single large candle.\n",
        "- **Reason**: BBW is sensitive to recent price range expansion.\n",
        "- **Impact**: False breakouts or premature entries due to transient volatility.\n",
        "\n",
        "---\n",
        "\n",
        "#####  Key Takeaway\n",
        "\n",
        "> While Strategy Y is strong in **trending, high-volume** environments, it's important to filter or disable it in **sideways**, **low-volume**, or **spike-driven markets** to reduce false signals.\n"
      ]
    },
    {
      "cell_type": "markdown",
      "metadata": {
        "id": "A2uy7tAAAmrQ"
      },
      "source": [
        "####  Proposed Modifications\n",
        "\n",
        "To improve robustness and reduce false signals, the following enhancements are proposed:\n",
        "\n",
        "---\n",
        "\n",
        "#####  A. For Sideways/Choppy Markets\n",
        "\n",
        "- **Add ADX Filter**: Require **ADX > 20** and **ATR rising** to confirm the presence of a trend.\n",
        "- **Avoid Neutral Momentum**: Ignore entries when **MFI is between 45 and 55**, indicating no strong buying or selling pressure.\n",
        "\n",
        "---\n",
        "\n",
        "#####  B. For Low-Volume Markets\n",
        "\n",
        "- **Volume Filter**: Only allow trades when **volume exceeds its 10-period average**.\n",
        "- **Implementation**:  \n",
        "  ```python\n",
        "  volume > volume.rolling(10).mean()\n",
        "  ```\n",
        "#####  C. For Volatility Spikes\n",
        "\n",
        "- **Smooth BBW**: Apply a **3-period moving average** to the Bollinger Band Width (BBW) to reduce sensitivity to isolated large candles.\n",
        "  - Example:\n",
        "    ```python\n",
        "    data['BBW_smooth'] = data['BBW'].rolling(window=3).mean()\n",
        "    ```\n",
        "- **Rising Trend Check**: Ensure the smoothed BBW is **gradually increasing** over multiple candles.\n",
        "  - Prevents acting on one-off spikes that could trigger false breakouts.\n",
        "\n",
        "---\n",
        "\n",
        "#####  D. Timeframe Sensitivity\n",
        "\n",
        "- **On Lower Timeframes (e.g., 5-minute)**:\n",
        "  - **Increase MFI period** from **14 to 20** to smooth out high-frequency noise and improve reliability.\n",
        "- **Preferred Timeframes**:\n",
        "  - **1-hour or daily** charts are recommended for more stable signals and reduced whipsaws.\n",
        "\n",
        "---\n",
        "\n",
        "#####  Tip\n",
        "\n",
        "> Lower timeframes = more noise, more false signals  \n",
        "> Higher timeframes = more reliable trends, fewer trades but higher quality\n"
      ]
    }
  ],
  "metadata": {
    "colab": {
      "provenance": []
    },
    "kernelspec": {
      "display_name": "Python 3",
      "name": "python3"
    },
    "language_info": {
      "codemirror_mode": {
        "name": "ipython",
        "version": 3
      },
      "file_extension": ".py",
      "mimetype": "text/x-python",
      "name": "python",
      "nbconvert_exporter": "python",
      "pygments_lexer": "ipython3",
      "version": "3.11.9"
    }
  },
  "nbformat": 4,
  "nbformat_minor": 0
}
